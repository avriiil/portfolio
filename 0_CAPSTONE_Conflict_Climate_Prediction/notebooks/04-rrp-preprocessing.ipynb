{
 "cells": [
  {
   "cell_type": "markdown",
   "metadata": {},
   "source": [
    "# Pre-Processing\n",
    "\n",
    "This is the fourth notebook in series that uses GHCN Climate and UCDP Conflict data to predict the *total_deaths* count of conflict incidents based on their related \n",
    "\n",
    "\n",
    "\n",
    "### Goal of this Notebook\n",
    "\n",
    "In this notebook we will:\n",
    "- creaty dummy variables for our categorical feature *adm_1*\n",
    "- standardize the magnitude of our numeric features\n",
    "- split the data into a training and a test set\n",
    "\n",
    "\n",
    "### Outline\n",
    "\n",
    "This notebook is structured as follows:\n",
    "\n",
    "**1. Importing the Necessary Libraries** \n",
    "\n",
    "\n",
    "**2. Loading the Dataset**\n",
    "\n",
    "\n",
    "**3. Inspecting Missing Values**\n",
    "\n",
    "\n",
    "**4. Creating Train and Test Splits**\n",
    "\n",
    "\n",
    "**5. Scaling the Data**\n",
    "\n",
    "\n",
    "**6. Summary and Conclusions**"
   ]
  },
  {
   "cell_type": "markdown",
   "metadata": {},
   "source": [
    "# 1. Importing Necessary Libraries"
   ]
  },
  {
   "cell_type": "code",
   "execution_count": 1,
   "metadata": {},
   "outputs": [],
   "source": [
    "import numpy as np\n",
    "import pandas as pd\n",
    "import matplotlib.pyplot as plt\n",
    "import seaborn as sns\n",
    "import geopandas as gpd\n",
    "import descartes\n",
    "from shapely.geometry import Point, Polygon \n",
    "from sklearn.model_selection import train_test_split\n",
    "from sklearn.preprocessing import StandardScaler\n",
    "import contextily as ctx\n",
    "import warnings\n",
    "import datetime\n",
    "import re"
   ]
  },
  {
   "cell_type": "markdown",
   "metadata": {},
   "source": [
    "# 2. Loading the Dataset"
   ]
  },
  {
   "cell_type": "code",
   "execution_count": 2,
   "metadata": {},
   "outputs": [],
   "source": [
    "# import dataframe\n",
    "df = pd.read_csv('/Users/richard/Desktop/data/processed/df_india_final_for_model.csv', \n",
    "                 index_col=0)"
   ]
  },
  {
   "cell_type": "code",
   "execution_count": 3,
   "metadata": {},
   "outputs": [
    {
     "data": {
      "text/plain": [
       "death_rate                   float64\n",
       "PRCP_zone_1973_77            float64\n",
       "PRCP_zone_1983_87            float64\n",
       "PRCP_zone_1993_97            float64\n",
       "PRCP_zone_2003_07            float64\n",
       "PRCP_zone_2015_19            float64\n",
       "TAVG_zone_1973_77            float64\n",
       "TAVG_zone_1983_87            float64\n",
       "TAVG_zone_1993_97            float64\n",
       "TAVG_zone_2003_07            float64\n",
       "TAVG_zone_2015_19            float64\n",
       "TMAX_zone_1973_77            float64\n",
       "TMAX_zone_1983_87            float64\n",
       "TMAX_zone_1993_97            float64\n",
       "TMAX_zone_2003_07            float64\n",
       "TMAX_zone_2015_19            float64\n",
       "TMIN_zone_1973_77            float64\n",
       "TMIN_zone_1983_87            float64\n",
       "TMIN_zone_1993_97            float64\n",
       "TMIN_zone_2003_07            float64\n",
       "TMIN_zone_2015_19            float64\n",
       "PRCP_zone_sameyear           float64\n",
       "TAVG_zone_sameyear           float64\n",
       "TMAX_zone_sameyear           float64\n",
       "TMIN_zone_sameyear           float64\n",
       "PRCP_change_1973_2019        float64\n",
       "TAVG_change_1973_2019        float64\n",
       "TMAX_change_1973_2019        float64\n",
       "TMIN_change_1973_2019        float64\n",
       "PRCP_change_1973_sameyear    float64\n",
       "TAVG_change_1973_sameyear    float64\n",
       "TMAX_change_1973_sameyear    float64\n",
       "TMIN_change_1973_sameyear    float64\n",
       "dtype: object"
      ]
     },
     "execution_count": 3,
     "metadata": {},
     "output_type": "execute_result"
    }
   ],
   "source": [
    "# check datatypes\n",
    "df.dtypes"
   ]
  },
  {
   "cell_type": "markdown",
   "metadata": {},
   "source": [
    "Our datatypes are correct, as expected.\n",
    "\n",
    "All features are numerical (floats) with no categorical columns, so no need to create dummy variables."
   ]
  },
  {
   "cell_type": "markdown",
   "metadata": {},
   "source": [
    "# 3. Inspecting Missing Values\n",
    "\n",
    "In this section, we verify whether there are any rows with missing values in our dataframe. "
   ]
  },
  {
   "cell_type": "code",
   "execution_count": 5,
   "metadata": {},
   "outputs": [
    {
     "name": "stdout",
     "output_type": "stream",
     "text": [
      "<class 'pandas.core.frame.DataFrame'>\n",
      "Int64Index: 14634 entries, 59218 to 95595\n",
      "Data columns (total 33 columns):\n",
      " #   Column                     Non-Null Count  Dtype  \n",
      "---  ------                     --------------  -----  \n",
      " 0   death_rate                 14634 non-null  float64\n",
      " 1   PRCP_zone_1973_77          14634 non-null  float64\n",
      " 2   PRCP_zone_1983_87          12974 non-null  float64\n",
      " 3   PRCP_zone_1993_97          12948 non-null  float64\n",
      " 4   PRCP_zone_2003_07          12948 non-null  float64\n",
      " 5   PRCP_zone_2015_19          12962 non-null  float64\n",
      " 6   TAVG_zone_1973_77          14634 non-null  float64\n",
      " 7   TAVG_zone_1983_87          12974 non-null  float64\n",
      " 8   TAVG_zone_1993_97          12948 non-null  float64\n",
      " 9   TAVG_zone_2003_07          12948 non-null  float64\n",
      " 10  TAVG_zone_2015_19          12962 non-null  float64\n",
      " 11  TMAX_zone_1973_77          14634 non-null  float64\n",
      " 12  TMAX_zone_1983_87          12974 non-null  float64\n",
      " 13  TMAX_zone_1993_97          12948 non-null  float64\n",
      " 14  TMAX_zone_2003_07          12948 non-null  float64\n",
      " 15  TMAX_zone_2015_19          12962 non-null  float64\n",
      " 16  TMIN_zone_1973_77          14634 non-null  float64\n",
      " 17  TMIN_zone_1983_87          12974 non-null  float64\n",
      " 18  TMIN_zone_1993_97          12915 non-null  float64\n",
      " 19  TMIN_zone_2003_07          12915 non-null  float64\n",
      " 20  TMIN_zone_2015_19          12962 non-null  float64\n",
      " 21  PRCP_zone_sameyear         12926 non-null  float64\n",
      " 22  TAVG_zone_sameyear         12929 non-null  float64\n",
      " 23  TMAX_zone_sameyear         12926 non-null  float64\n",
      " 24  TMIN_zone_sameyear         12918 non-null  float64\n",
      " 25  PRCP_change_1973_2019      12962 non-null  float64\n",
      " 26  TAVG_change_1973_2019      12962 non-null  float64\n",
      " 27  TMAX_change_1973_2019      12962 non-null  float64\n",
      " 28  TMIN_change_1973_2019      12962 non-null  float64\n",
      " 29  PRCP_change_1973_sameyear  12926 non-null  float64\n",
      " 30  TAVG_change_1973_sameyear  12929 non-null  float64\n",
      " 31  TMAX_change_1973_sameyear  12926 non-null  float64\n",
      " 32  TMIN_change_1973_sameyear  12918 non-null  float64\n",
      "dtypes: float64(33)\n",
      "memory usage: 3.8 MB\n"
     ]
    }
   ],
   "source": [
    "df.info()"
   ]
  },
  {
   "cell_type": "markdown",
   "metadata": {},
   "source": [
    "There are about 1500 rows with missing values for some of the climate means. From our work in the previous notebook *03-rrp-exploratory-data-analysis* we know that it is very likely that the same stations were lacking climate measurements for all years, i.e. we expect the rows with missing values to be consistent. \n",
    "\n",
    "Our target feature *death_rate* has no missing values.\n",
    "\n",
    "We will leave these missing values as they are for now and impute them as part of our Pipeline in the next notebook *05-rrp-modelling*.\n",
    "\n",
    "Our final dataframe has 14634 rows and 33 features."
   ]
  },
  {
   "cell_type": "code",
   "execution_count": 8,
   "metadata": {},
   "outputs": [
    {
     "data": {
      "text/plain": [
       "(14634, 33)"
      ]
     },
     "execution_count": 8,
     "metadata": {},
     "output_type": "execute_result"
    }
   ],
   "source": [
    "df.shape"
   ]
  },
  {
   "cell_type": "markdown",
   "metadata": {},
   "source": [
    "# 4. Creating Training and Testing Sets\n",
    "\n",
    "In this section, we split our data into training and testing sets. We will use a training size of 70%."
   ]
  },
  {
   "cell_type": "code",
   "execution_count": 11,
   "metadata": {},
   "outputs": [],
   "source": [
    "# define feature vector and response variable\n",
    "X = df.drop('death_rate', axis=1)\n",
    "y = df.death_rate"
   ]
  },
  {
   "cell_type": "code",
   "execution_count": 12,
   "metadata": {},
   "outputs": [
    {
     "data": {
      "text/plain": [
       "32"
      ]
     },
     "execution_count": 12,
     "metadata": {},
     "output_type": "execute_result"
    }
   ],
   "source": [
    "len(X.columns)"
   ]
  },
  {
   "cell_type": "code",
   "execution_count": 13,
   "metadata": {},
   "outputs": [
    {
     "data": {
      "text/plain": [
       "1.000000     6271\n",
       "2.000000     2769\n",
       "3.000000     1323\n",
       "0.000000      915\n",
       "4.000000      759\n",
       "             ... \n",
       "0.111111        1\n",
       "87.000000       1\n",
       "74.000000       1\n",
       "47.000000       1\n",
       "4.322581        1\n",
       "Name: death_rate, Length: 185, dtype: int64"
      ]
     },
     "execution_count": 13,
     "metadata": {},
     "output_type": "execute_result"
    }
   ],
   "source": [
    "y.value_counts()"
   ]
  },
  {
   "cell_type": "code",
   "execution_count": 19,
   "metadata": {},
   "outputs": [
    {
     "data": {
      "image/png": "[encoded data removed]",
      "text/plain": [
       "<Figure size 432x288 with 1 Axes>"
      ]
     },
     "metadata": {
      "needs_background": "light"
     },
     "output_type": "display_data"
    }
   ],
   "source": [
    "y[y < 10].hist();"
   ]
  },
  {
   "cell_type": "markdown",
   "metadata": {},
   "source": [
    "The target feature is skewed, but shows no predominance of 0 values."
   ]
  },
  {
   "cell_type": "code",
   "execution_count": 20,
   "metadata": {},
   "outputs": [],
   "source": [
    "# create training and testing splits\n",
    "X_train, X_test, y_train, y_test = train_test_split(X, \n",
    "                                                    y, \n",
    "                                                    train_size=0.7,\n",
    "                                                    random_state=42)"
   ]
  },
  {
   "cell_type": "markdown",
   "metadata": {},
   "source": [
    "# 5. Scaling the Data\n",
    "\n",
    "In this section, we proceed to standardize these numerical features using a Scikit-Learn Scaler.\n",
    "\n",
    "**IMPORTANT:** We fit the scaler to our training set and use that fitted scaler to transform our test set. This is an important step to avoid data leakage."
   ]
  },
  {
   "cell_type": "code",
   "execution_count": 21,
   "metadata": {},
   "outputs": [],
   "source": [
    "# instantiate the scaler\n",
    "scaler = StandardScaler()"
   ]
  },
  {
   "cell_type": "code",
   "execution_count": 22,
   "metadata": {},
   "outputs": [
    {
     "data": {
      "text/plain": [
       "StandardScaler()"
      ]
     },
     "execution_count": 22,
     "metadata": {},
     "output_type": "execute_result"
    }
   ],
   "source": [
    "# fit scaler to training set\n",
    "scaler.fit(X_train)"
   ]
  },
  {
   "cell_type": "code",
   "execution_count": 23,
   "metadata": {},
   "outputs": [],
   "source": [
    "# use fitted scaler to transform training and test sets\n",
    "X_train_sc = scaler.transform(X_train)\n",
    "X_test_sc = scaler.transform(X_test)"
   ]
  },
  {
   "cell_type": "markdown",
   "metadata": {},
   "source": [
    "# 6. Exporting Sets to CSV\n",
    "Below, we export the training and test splits (scaled and unscaled) to local CSV files for use in the next notebook.\n",
    "\n",
    "To do so, we first have to convert the numpy arrays into dataframes."
   ]
  },
  {
   "cell_type": "code",
   "execution_count": 24,
   "metadata": {},
   "outputs": [],
   "source": [
    "# convert numpy arrays to dataframes\n",
    "df_X_train = pd.DataFrame(X_train)\n",
    "df_X_test = pd.DataFrame(X_test)\n",
    "df_y_train = pd.DataFrame(y_train)\n",
    "df_y_test = pd.DataFrame(y_test)\n",
    "\n",
    "df_X_train_sc = pd.DataFrame(X_train_sc)\n",
    "df_X_test_sc = pd.DataFrame(X_test_sc)"
   ]
  },
  {
   "cell_type": "code",
   "execution_count": 25,
   "metadata": {},
   "outputs": [],
   "source": [
    "# export dataframes to csv\n",
    "df_X_train.to_csv('/Users/richard/Desktop/data/processed/X_train_unscaled.csv')\n",
    "df_X_test.to_csv('/Users/richard/Desktop/data/processed/X_test_unscaled.csv')\n",
    "df_y_train.to_csv('/Users/richard/Desktop/data/processed/y_train_unscaled.csv')\n",
    "df_y_test.to_csv('/Users/richard/Desktop/data/processed/y_test_unscaled.csv')\n",
    "\n",
    "df_X_train_sc.to_csv('/Users/richard/Desktop/data/processed/X_train_scaled.csv')\n",
    "df_X_test_sc.to_csv('/Users/richard/Desktop/data/processed/X_test_scaled.csv')"
   ]
  },
  {
   "cell_type": "markdown",
   "metadata": {},
   "source": [
    "# 7. Summary\n",
    "\n",
    "In this notebook, we have:\n",
    "- inspected the missing values in our final dataframe\n",
    "- split our data into a training and a test set\n",
    "- scaled the data using a scaler fitted to our training set\n",
    "- exported our splits to local csv files for later use\n",
    "\n",
    "We now are proceeding the analysis with a dataframe containing:\n",
    "- 12911 observations, and\n",
    "- 33 features (1 target, 32 predictor)"
   ]
  },
  {
   "cell_type": "code",
   "execution_count": null,
   "metadata": {},
   "outputs": [],
   "source": []
  }
 ],
 "metadata": {
  "kernelspec": {
   "display_name": "sklearn-py3.7",
   "language": "python",
   "name": "sklearn-py3.7"
  },
  "language_info": {
   "codemirror_mode": {
    "name": "ipython",
    "version": 3
   },
   "file_extension": ".py",
   "mimetype": "text/x-python",
   "name": "python",
   "nbconvert_exporter": "python",
   "pygments_lexer": "ipython3",
   "version": "3.7.9"
  }
 },
 "nbformat": 4,
 "nbformat_minor": 4
}
