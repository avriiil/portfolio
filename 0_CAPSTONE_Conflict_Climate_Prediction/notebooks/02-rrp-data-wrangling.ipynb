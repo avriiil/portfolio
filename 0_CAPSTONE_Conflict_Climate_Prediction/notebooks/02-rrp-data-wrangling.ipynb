{
 "cells": [
  {
   "cell_type": "markdown",
   "metadata": {},
   "source": [
    "# DATA WRANGLING\n",
    "# Armed Conflict and Climate Change"
   ]
  },
  {
   "cell_type": "markdown",
   "metadata": {},
   "source": [
    "## 0. Introduction\n",
    "This notebook contains the code to perform the first round of data wrangling on the two datasets used in my first independent Capstone project for the Springboard Data Science Career Track. \n",
    "\n",
    "### 0.1 Data Sources\n",
    "The two datasets used in this analysis are\n",
    "\n",
    "1. Global Historical Climate Network Daily\n",
    "- A dataset containing daily climate measurements from 115000+ weather stations around the world, maintained by US National Centers for Environmental Information. This dataset was accessed on October 20, 2020. For more information, visit [url](https://www.ncdc.noaa.gov/ghcn-daily-description).\n",
    "\n",
    "2. Uppsala Conflict Data Program's Georeferenced Event Database\n",
    "- A dataset containing information on 225000+ conflict incidents around the world, maintained by the Uppsala Conflict Data Program. This dataset was access on October 20, 2020. For more information, visit [url](https://ucdp.uu.se/downloads/index.html#ged_global).\n",
    "\n",
    "### 0.2 Research Questions\n",
    "The overarching, motivating research question is: **Is climate change leading to increased armed conflict?**\n",
    "\n",
    "However, establishing a causal relationship is difficult in any case, but especially given the nature of the phenomena of ‘climate change’ and ‘armed conflict’. Both phenomena occur across the globe and are influenced by complex layers of social, economic and political factors. It would be far beyond the scope of this project to include all of these factors in a single analysis.\n",
    "\n",
    "As such, below are a number of sub-questions which I hope to be able to address:\n",
    "\n",
    "- Are there observable patterns in the data between locations of armed conflict and climate measures at or in the vicinity of those locations? *e.g. Are areas which consistently experience armed conflict also experiencing increased temperatures, increased flooding, or decreased rainfall?*\n",
    "\n",
    "- Are there correlations between indicators of conflict severity (number of deaths, duration of conflict) and climate measures? *e.g. Are areas which experience intense conflicts also experiencing higher temperatures and/or lower rainfall? Can we use climate measures to predict conflict intensity?*\n",
    "\n",
    "### 0.3 Overview\n",
    "\n",
    "The notebook is divided into 7 sections:\n",
    "\n",
    "0. Introduction\n",
    "1. Importing packages\n",
    "2. Importing the raw data\n",
    "3. Wrangling UCDP Conflict Data\n",
    "4. Spatial Join of Conflict and Climate Data\n",
    "5. Wrangling GHCN Climate Data\n",
    "6. Conclusions\n",
    "\n",
    "### 0.4 Notes on Data Collection and Related Notebooks\n",
    "- The actual weather data of the GHCN dataset was extracted from the original tar-archive in a separate notebook, entitled '01 Data Collection' and available in the same Github directory as this notebook. The Data Collection notebook was used to extract the relevant data and store it locally as .csv files. This Data Wrangling notebook imports those local .csv files.\n",
    "\n",
    "- The Profile Reports for the GHCN data were also generated in a separate notebook, entitled '000 Profile Reports...' and available in the same Github directory as this notebook. Individual profile reports were generated per variable because the dataset was too large to hold in memory to generate 1 profile report. NOTE: the profile report outputs have been removed from this notebook due to incompatability with Github; only the textual analysis has been included."
   ]
  },
  {
   "cell_type": "markdown",
   "metadata": {},
   "source": [
    "# 1. Importing packages"
   ]
  },
  {
   "cell_type": "code",
   "execution_count": 2,
   "metadata": {},
   "outputs": [],
   "source": [
    "# Note to Self: use kernel \"Python-geoTiledb208\" when working on old MacbookPro (OSX 10.11)\n",
    "import pandas as pd\n",
    "import tarfile\n",
    "from pandas_profiling import ProfileReport\n",
    "import IPython.display\n",
    "import numpy as np\n",
    "import matplotlib.pyplot as plt\n",
    "import geopandas as gpd\n",
    "import descartes\n",
    "from shapely.geometry import Point, Polygon \n",
    "import contextily as ctx\n",
    "import warnings\n",
    "import glob\n",
    "import os\n",
    "from IPython.core.display import display, HTML"
   ]
  },
  {
   "cell_type": "code",
   "execution_count": 3,
   "metadata": {},
   "outputs": [],
   "source": [
    "warnings.filterwarnings('ignore', 'GeoSeries.isna', UserWarning)"
   ]
  },
  {
   "cell_type": "markdown",
   "metadata": {},
   "source": [
    "# 2. Importing Data"
   ]
  },
  {
   "cell_type": "markdown",
   "metadata": {},
   "source": [
    "## 2.1. Importing Conflict Data (UCDP)"
   ]
  },
  {
   "cell_type": "code",
   "execution_count": 4,
   "metadata": {
    "scrolled": true
   },
   "outputs": [
    {
     "name": "stderr",
     "output_type": "stream",
     "text": [
      "/Users/richard/miniconda3/envs/sklearn/lib/python3.7/site-packages/IPython/core/interactiveshell.py:3147: DtypeWarning: Columns (47) have mixed types.Specify dtype option on import or set low_memory=False.\n",
      "  interactivity=interactivity, compiler=compiler, result=result)\n"
     ]
    }
   ],
   "source": [
    "# import csv from local file as df\n",
    "df_conflict = pd.read_csv('/Users/richard/Desktop/datasets/UCDP/ucdp-ged-v201.csv')"
   ]
  },
  {
   "cell_type": "markdown",
   "metadata": {},
   "source": [
    "### 2.1.1. Inspecting UCDP Data"
   ]
  },
  {
   "cell_type": "code",
   "execution_count": 5,
   "metadata": {},
   "outputs": [
    {
     "data": {
      "text/plain": [
       "(225385, 49)"
      ]
     },
     "execution_count": 5,
     "metadata": {},
     "output_type": "execute_result"
    }
   ],
   "source": [
    "df_conflict.shape"
   ]
  },
  {
   "cell_type": "code",
   "execution_count": 6,
   "metadata": {},
   "outputs": [
    {
     "name": "stdout",
     "output_type": "stream",
     "text": [
      "<class 'pandas.core.frame.DataFrame'>\n",
      "RangeIndex: 225385 entries, 0 to 225384\n",
      "Data columns (total 49 columns):\n",
      " #   Column             Non-Null Count   Dtype  \n",
      "---  ------             --------------   -----  \n",
      " 0   id                 225385 non-null  int64  \n",
      " 1   relid              225385 non-null  object \n",
      " 2   year               225385 non-null  int64  \n",
      " 3   active_year        225385 non-null  int64  \n",
      " 4   code_status        225385 non-null  object \n",
      " 5   type_of_violence   225385 non-null  int64  \n",
      " 6   conflict_dset_id   225385 non-null  int64  \n",
      " 7   conflict_new_id    225385 non-null  int64  \n",
      " 8   conflict_name      225385 non-null  object \n",
      " 9   dyad_dset_id       225385 non-null  int64  \n",
      " 10  dyad_new_id        225385 non-null  int64  \n",
      " 11  dyad_name          225385 non-null  object \n",
      " 12  side_a_dset_id     225385 non-null  int64  \n",
      " 13  side_a_new_id      225385 non-null  int64  \n",
      " 14  side_a             225385 non-null  object \n",
      " 15  side_b_dset_id     225385 non-null  int64  \n",
      " 16  side_b_new_id      225385 non-null  int64  \n",
      " 17  side_b             225385 non-null  object \n",
      " 18  number_of_sources  225385 non-null  int64  \n",
      " 19  source_article     225380 non-null  object \n",
      " 20  source_office      118987 non-null  object \n",
      " 21  source_date        118987 non-null  object \n",
      " 22  source_headline    118987 non-null  object \n",
      " 23  source_original    185953 non-null  object \n",
      " 24  where_prec         225385 non-null  int64  \n",
      " 25  where_coordinates  225385 non-null  object \n",
      " 26  where_description  221140 non-null  object \n",
      " 27  adm_1              216390 non-null  object \n",
      " 28  adm_2              173109 non-null  object \n",
      " 29  latitude           225385 non-null  float64\n",
      " 30  longitude          225385 non-null  float64\n",
      " 31  geom_wkt           225385 non-null  object \n",
      " 32  priogrid_gid       225385 non-null  int64  \n",
      " 33  country            225385 non-null  object \n",
      " 34  country_id         225385 non-null  int64  \n",
      " 35  region             225385 non-null  object \n",
      " 36  event_clarity      225385 non-null  int64  \n",
      " 37  date_prec          225385 non-null  int64  \n",
      " 38  date_start         225385 non-null  object \n",
      " 39  date_end           225385 non-null  object \n",
      " 40  deaths_a           225385 non-null  int64  \n",
      " 41  deaths_b           225385 non-null  int64  \n",
      " 42  deaths_civilians   225385 non-null  int64  \n",
      " 43  deaths_unknown     225385 non-null  int64  \n",
      " 44  best               225385 non-null  int64  \n",
      " 45  high               225385 non-null  int64  \n",
      " 46  low                225385 non-null  int64  \n",
      " 47  gwnoa              179284 non-null  object \n",
      " 48  gwnob              880 non-null     float64\n",
      "dtypes: float64(3), int64(25), object(21)\n",
      "memory usage: 84.3+ MB\n"
     ]
    }
   ],
   "source": [
    "df_conflict.info()"
   ]
  },
  {
   "cell_type": "code",
   "execution_count": 7,
   "metadata": {},
   "outputs": [
    {
     "data": {
      "text/html": [
       "<div>\n",
       "<style scoped>\n",
       "    .dataframe tbody tr th:only-of-type {\n",
       "        vertical-align: middle;\n",
       "    }\n",
       "\n",
       "    .dataframe tbody tr th {\n",
       "        vertical-align: top;\n",
       "    }\n",
       "\n",
       "    .dataframe thead th {\n",
       "        text-align: right;\n",
       "    }\n",
       "</style>\n",
       "<table border=\"1\" class=\"dataframe\">\n",
       "  <thead>\n",
       "    <tr style=\"text-align: right;\">\n",
       "      <th></th>\n",
       "      <th>id</th>\n",
       "      <th>year</th>\n",
       "      <th>active_year</th>\n",
       "      <th>type_of_violence</th>\n",
       "      <th>conflict_dset_id</th>\n",
       "      <th>conflict_new_id</th>\n",
       "      <th>dyad_dset_id</th>\n",
       "      <th>dyad_new_id</th>\n",
       "      <th>side_a_dset_id</th>\n",
       "      <th>side_a_new_id</th>\n",
       "      <th>...</th>\n",
       "      <th>event_clarity</th>\n",
       "      <th>date_prec</th>\n",
       "      <th>deaths_a</th>\n",
       "      <th>deaths_b</th>\n",
       "      <th>deaths_civilians</th>\n",
       "      <th>deaths_unknown</th>\n",
       "      <th>best</th>\n",
       "      <th>high</th>\n",
       "      <th>low</th>\n",
       "      <th>gwnob</th>\n",
       "    </tr>\n",
       "  </thead>\n",
       "  <tbody>\n",
       "    <tr>\n",
       "      <th>count</th>\n",
       "      <td>225385.000000</td>\n",
       "      <td>225385.000000</td>\n",
       "      <td>225385.000000</td>\n",
       "      <td>225385.000000</td>\n",
       "      <td>225385.000000</td>\n",
       "      <td>225385.000000</td>\n",
       "      <td>225385.000000</td>\n",
       "      <td>225385.000000</td>\n",
       "      <td>225385.000000</td>\n",
       "      <td>225385.000000</td>\n",
       "      <td>...</td>\n",
       "      <td>225385.000000</td>\n",
       "      <td>225385.000000</td>\n",
       "      <td>225385.000000</td>\n",
       "      <td>225385.000000</td>\n",
       "      <td>225385.000000</td>\n",
       "      <td>225385.000000</td>\n",
       "      <td>225385.000000</td>\n",
       "      <td>225385.000000</td>\n",
       "      <td>225385.000000</td>\n",
       "      <td>880.000000</td>\n",
       "    </tr>\n",
       "    <tr>\n",
       "      <th>mean</th>\n",
       "      <td>177959.035965</td>\n",
       "      <td>2008.933319</td>\n",
       "      <td>0.963494</td>\n",
       "      <td>1.421896</td>\n",
       "      <td>2045.855084</td>\n",
       "      <td>2065.118770</td>\n",
       "      <td>4925.258766</td>\n",
       "      <td>5110.042150</td>\n",
       "      <td>362.018564</td>\n",
       "      <td>362.018564</td>\n",
       "      <td>...</td>\n",
       "      <td>1.084784</td>\n",
       "      <td>1.256024</td>\n",
       "      <td>2.105016</td>\n",
       "      <td>2.656854</td>\n",
       "      <td>4.360237</td>\n",
       "      <td>2.177452</td>\n",
       "      <td>11.299559</td>\n",
       "      <td>18.331890</td>\n",
       "      <td>9.493977</td>\n",
       "      <td>709.544318</td>\n",
       "    </tr>\n",
       "    <tr>\n",
       "      <th>std</th>\n",
       "      <td>97296.005526</td>\n",
       "      <td>8.236476</td>\n",
       "      <td>0.187547</td>\n",
       "      <td>0.751061</td>\n",
       "      <td>4279.466053</td>\n",
       "      <td>4186.368474</td>\n",
       "      <td>5728.788672</td>\n",
       "      <td>5703.545386</td>\n",
       "      <td>1006.456067</td>\n",
       "      <td>1006.456067</td>\n",
       "      <td>...</td>\n",
       "      <td>0.278560</td>\n",
       "      <td>0.709845</td>\n",
       "      <td>63.717796</td>\n",
       "      <td>32.812313</td>\n",
       "      <td>187.360638</td>\n",
       "      <td>124.964213</td>\n",
       "      <td>239.542891</td>\n",
       "      <td>397.427596</td>\n",
       "      <td>186.459217</td>\n",
       "      <td>126.821115</td>\n",
       "    </tr>\n",
       "    <tr>\n",
       "      <th>min</th>\n",
       "      <td>4.000000</td>\n",
       "      <td>1989.000000</td>\n",
       "      <td>0.000000</td>\n",
       "      <td>1.000000</td>\n",
       "      <td>6.000000</td>\n",
       "      <td>205.000000</td>\n",
       "      <td>6.000000</td>\n",
       "      <td>406.000000</td>\n",
       "      <td>3.000000</td>\n",
       "      <td>3.000000</td>\n",
       "      <td>...</td>\n",
       "      <td>1.000000</td>\n",
       "      <td>0.000000</td>\n",
       "      <td>0.000000</td>\n",
       "      <td>0.000000</td>\n",
       "      <td>0.000000</td>\n",
       "      <td>0.000000</td>\n",
       "      <td>0.000000</td>\n",
       "      <td>0.000000</td>\n",
       "      <td>0.000000</td>\n",
       "      <td>2.000000</td>\n",
       "    </tr>\n",
       "    <tr>\n",
       "      <th>25%</th>\n",
       "      <td>93469.000000</td>\n",
       "      <td>2004.000000</td>\n",
       "      <td>1.000000</td>\n",
       "      <td>1.000000</td>\n",
       "      <td>299.000000</td>\n",
       "      <td>299.000000</td>\n",
       "      <td>658.000000</td>\n",
       "      <td>735.000000</td>\n",
       "      <td>118.000000</td>\n",
       "      <td>118.000000</td>\n",
       "      <td>...</td>\n",
       "      <td>1.000000</td>\n",
       "      <td>1.000000</td>\n",
       "      <td>0.000000</td>\n",
       "      <td>0.000000</td>\n",
       "      <td>0.000000</td>\n",
       "      <td>0.000000</td>\n",
       "      <td>1.000000</td>\n",
       "      <td>1.000000</td>\n",
       "      <td>1.000000</td>\n",
       "      <td>690.000000</td>\n",
       "    </tr>\n",
       "    <tr>\n",
       "      <th>50%</th>\n",
       "      <td>188695.000000</td>\n",
       "      <td>2012.000000</td>\n",
       "      <td>1.000000</td>\n",
       "      <td>1.000000</td>\n",
       "      <td>333.000000</td>\n",
       "      <td>337.000000</td>\n",
       "      <td>792.000000</td>\n",
       "      <td>955.000000</td>\n",
       "      <td>123.000000</td>\n",
       "      <td>123.000000</td>\n",
       "      <td>...</td>\n",
       "      <td>1.000000</td>\n",
       "      <td>1.000000</td>\n",
       "      <td>0.000000</td>\n",
       "      <td>0.000000</td>\n",
       "      <td>0.000000</td>\n",
       "      <td>0.000000</td>\n",
       "      <td>2.000000</td>\n",
       "      <td>3.000000</td>\n",
       "      <td>2.000000</td>\n",
       "      <td>770.000000</td>\n",
       "    </tr>\n",
       "    <tr>\n",
       "      <th>75%</th>\n",
       "      <td>262299.000000</td>\n",
       "      <td>2015.000000</td>\n",
       "      <td>1.000000</td>\n",
       "      <td>2.000000</td>\n",
       "      <td>400.000000</td>\n",
       "      <td>506.000000</td>\n",
       "      <td>11973.000000</td>\n",
       "      <td>11973.000000</td>\n",
       "      <td>146.000000</td>\n",
       "      <td>146.000000</td>\n",
       "      <td>...</td>\n",
       "      <td>1.000000</td>\n",
       "      <td>1.000000</td>\n",
       "      <td>1.000000</td>\n",
       "      <td>2.000000</td>\n",
       "      <td>1.000000</td>\n",
       "      <td>0.000000</td>\n",
       "      <td>5.000000</td>\n",
       "      <td>6.000000</td>\n",
       "      <td>5.000000</td>\n",
       "      <td>770.000000</td>\n",
       "    </tr>\n",
       "    <tr>\n",
       "      <th>max</th>\n",
       "      <td>336238.000000</td>\n",
       "      <td>2019.000000</td>\n",
       "      <td>1.000000</td>\n",
       "      <td>3.000000</td>\n",
       "      <td>16331.000000</td>\n",
       "      <td>14973.000000</td>\n",
       "      <td>16331.000000</td>\n",
       "      <td>16331.000000</td>\n",
       "      <td>7676.000000</td>\n",
       "      <td>7676.000000</td>\n",
       "      <td>...</td>\n",
       "      <td>2.000000</td>\n",
       "      <td>5.000000</td>\n",
       "      <td>14776.000000</td>\n",
       "      <td>9505.000000</td>\n",
       "      <td>40000.000000</td>\n",
       "      <td>48183.000000</td>\n",
       "      <td>48183.000000</td>\n",
       "      <td>75000.000000</td>\n",
       "      <td>48183.000000</td>\n",
       "      <td>800.000000</td>\n",
       "    </tr>\n",
       "  </tbody>\n",
       "</table>\n",
       "<p>8 rows × 28 columns</p>\n",
       "</div>"
      ],
      "text/plain": [
       "                  id           year    active_year  type_of_violence  \\\n",
       "count  225385.000000  225385.000000  225385.000000     225385.000000   \n",
       "mean   177959.035965    2008.933319       0.963494          1.421896   \n",
       "std     97296.005526       8.236476       0.187547          0.751061   \n",
       "min         4.000000    1989.000000       0.000000          1.000000   \n",
       "25%     93469.000000    2004.000000       1.000000          1.000000   \n",
       "50%    188695.000000    2012.000000       1.000000          1.000000   \n",
       "75%    262299.000000    2015.000000       1.000000          2.000000   \n",
       "max    336238.000000    2019.000000       1.000000          3.000000   \n",
       "\n",
       "       conflict_dset_id  conflict_new_id   dyad_dset_id    dyad_new_id  \\\n",
       "count     225385.000000    225385.000000  225385.000000  225385.000000   \n",
       "mean        2045.855084      2065.118770    4925.258766    5110.042150   \n",
       "std         4279.466053      4186.368474    5728.788672    5703.545386   \n",
       "min            6.000000       205.000000       6.000000     406.000000   \n",
       "25%          299.000000       299.000000     658.000000     735.000000   \n",
       "50%          333.000000       337.000000     792.000000     955.000000   \n",
       "75%          400.000000       506.000000   11973.000000   11973.000000   \n",
       "max        16331.000000     14973.000000   16331.000000   16331.000000   \n",
       "\n",
       "       side_a_dset_id  side_a_new_id  ...  event_clarity      date_prec  \\\n",
       "count   225385.000000  225385.000000  ...  225385.000000  225385.000000   \n",
       "mean       362.018564     362.018564  ...       1.084784       1.256024   \n",
       "std       1006.456067    1006.456067  ...       0.278560       0.709845   \n",
       "min          3.000000       3.000000  ...       1.000000       0.000000   \n",
       "25%        118.000000     118.000000  ...       1.000000       1.000000   \n",
       "50%        123.000000     123.000000  ...       1.000000       1.000000   \n",
       "75%        146.000000     146.000000  ...       1.000000       1.000000   \n",
       "max       7676.000000    7676.000000  ...       2.000000       5.000000   \n",
       "\n",
       "            deaths_a       deaths_b  deaths_civilians  deaths_unknown  \\\n",
       "count  225385.000000  225385.000000     225385.000000   225385.000000   \n",
       "mean        2.105016       2.656854          4.360237        2.177452   \n",
       "std        63.717796      32.812313        187.360638      124.964213   \n",
       "min         0.000000       0.000000          0.000000        0.000000   \n",
       "25%         0.000000       0.000000          0.000000        0.000000   \n",
       "50%         0.000000       0.000000          0.000000        0.000000   \n",
       "75%         1.000000       2.000000          1.000000        0.000000   \n",
       "max     14776.000000    9505.000000      40000.000000    48183.000000   \n",
       "\n",
       "                best           high            low       gwnob  \n",
       "count  225385.000000  225385.000000  225385.000000  880.000000  \n",
       "mean       11.299559      18.331890       9.493977  709.544318  \n",
       "std       239.542891     397.427596     186.459217  126.821115  \n",
       "min         0.000000       0.000000       0.000000    2.000000  \n",
       "25%         1.000000       1.000000       1.000000  690.000000  \n",
       "50%         2.000000       3.000000       2.000000  770.000000  \n",
       "75%         5.000000       6.000000       5.000000  770.000000  \n",
       "max     48183.000000   75000.000000   48183.000000  800.000000  \n",
       "\n",
       "[8 rows x 28 columns]"
      ]
     },
     "execution_count": 7,
     "metadata": {},
     "output_type": "execute_result"
    }
   ],
   "source": [
    "df_conflict.describe()"
   ]
  },
  {
   "cell_type": "markdown",
   "metadata": {},
   "source": [
    "#### Notes\n",
    "\n",
    "- There are 225385 observations (i.e. conflict incidents) recorded in this dataset, each with 49 features.\n",
    "- A small number of these features have significant amounts of missing values\n",
    "- The column names seem to be mostly in order\n",
    "- Some columns will have to be further inspected to understand their relevance to our analysis (e.g. gwoa, gwob, etc.)\n",
    "- Each conflict incident contains geospatial data, meaning we can convert this into a meaningful geodataframe\n",
    "\n",
    "More extensive inspection and wrangling of this dataset is conducted in Section 3 of this notebook below."
   ]
  },
  {
   "cell_type": "markdown",
   "metadata": {},
   "source": [
    "## 2.2. Importing Climate Data (GHCN)"
   ]
  },
  {
   "cell_type": "markdown",
   "metadata": {},
   "source": [
    "### 2.2.1. Notes before importing"
   ]
  },
  {
   "cell_type": "markdown",
   "metadata": {},
   "source": [
    "From the documentation we learn the following:\n",
    "\n",
    "- There are two relevant datasets for our analysis:\n",
    " 1. The GHCN_daily dataset with daily climate measures from each station\n",
    " 2. The stations dataset with metadata (name, location, etc.) of each station\n",
    "\n",
    "\n",
    "- Both of these datasets are stored in .dly format\n",
    "- The .dly format is a *fixed-width format* meaning that each column has a fixed width of characters. \n",
    "- As such we will need to specify the column widths and column labels in order to get this looking like something we can use.\n",
    "\n",
    "\n",
    "Columns names and widths printed below (from documentation)"
   ]
  },
  {
   "attachments": {
    "image.png": {
     "image/png": "[encoded data removed]"
    }
   },
   "cell_type": "markdown",
   "metadata": {},
   "source": [
    "![image.png](attachment:image.png)"
   ]
  },
  {
   "attachments": {
    "image.png": {
     "image/png": "[encoded data removed]"
    }
   },
   "cell_type": "markdown",
   "metadata": {},
   "source": [
    "![image.png](attachment:image.png)"
   ]
  },
  {
   "cell_type": "markdown",
   "metadata": {},
   "source": [
    "### 2.2.2. Importing Station Metadata\n",
    "\n",
    "This section sets up the specs for correctly importing the fixed-width data. I have based my work in this section on this very useful GitLab [snippet](https://gitlab.com/snippets/1838910)."
   ]
  },
  {
   "cell_type": "code",
   "execution_count": 8,
   "metadata": {},
   "outputs": [],
   "source": [
    "# Setting up specs for importing station metadata\n",
    "\n",
    "data_header_names = [\n",
    "    \"STATION ID\",\n",
    "    \"YEAR\",\n",
    "    \"MONTH\",\n",
    "    \"ELEMENT\"\n",
    "]\n",
    "\n",
    "data_header_col_specs = [\n",
    "    (0,  11),\n",
    "    (11, 15),\n",
    "    (15, 17),\n",
    "    (17, 21)\n",
    "]\n",
    "\n",
    "data_header_dtypes = {\n",
    "    \"ID\": str,\n",
    "    \"YEAR\": int,\n",
    "    \"MONTH\": int,\n",
    "    \"ELEMENT\": str\n",
    "}\n",
    "\n",
    "data_col_names = [[\n",
    "    \"VALUE\" + str(i + 1),\n",
    "    \"MFLAG\" + str(i + 1),\n",
    "    \"QFLAG\" + str(i + 1),\n",
    "    \"SFLAG\" + str(i + 1)]\n",
    "    for i in range(31)\n",
    "]\n",
    "\n",
    "# Join sub-lists\n",
    "data_col_names = sum(data_col_names, [])\n",
    "\n",
    "data_replacement_col_names = [[\n",
    "    (\"VALUE\", i + 1),\n",
    "    (\"MFLAG\", i + 1),\n",
    "    (\"QFLAG\", i + 1),\n",
    "    (\"SFLAG\", i + 1)]\n",
    "    for i in range(31)\n",
    "]\n",
    "\n",
    "# Join sub-lists\n",
    "data_replacement_col_names = sum(data_replacement_col_names, [])\n",
    "\n",
    "data_replacement_col_names = pd.MultiIndex.from_tuples(\n",
    "    data_replacement_col_names,\n",
    "    names=['VAR_TYPE', 'DAY'])\n",
    "\n",
    "data_col_specs = [[\n",
    "    (21 + i * 8, 26 + i * 8),\n",
    "    (26 + i * 8, 27 + i * 8),\n",
    "    (27 + i * 8, 28 + i * 8),\n",
    "    (28 + i * 8, 29 + i * 8)]\n",
    "    for i in range(31)\n",
    "]\n",
    "\n",
    "data_col_specs = sum(data_col_specs, [])\n",
    "\n",
    "data_col_dtypes = [{\n",
    "    \"VALUE\" + str(i + 1): int,\n",
    "    \"MFLAG\" + str(i + 1): str,\n",
    "    \"QFLAG\" + str(i + 1): str,\n",
    "    \"SFLAG\" + str(i + 1): str}\n",
    "    for i in range(31)\n",
    "]\n",
    "\n",
    "data_header_dtypes.update({k: v for d in data_col_dtypes for k, v in d.items()})"
   ]
  },
  {
   "cell_type": "code",
   "execution_count": 9,
   "metadata": {},
   "outputs": [],
   "source": [
    "# Setting up station metadata specs\n",
    "\n",
    "metadata_col_specs = [\n",
    "    (0,  12),\n",
    "    (12, 21),\n",
    "    (21, 31),\n",
    "    (31, 38),\n",
    "    (38, 41),\n",
    "    (41, 72),\n",
    "    (72, 76),\n",
    "    (76, 80),\n",
    "    (80, 86)\n",
    "]\n",
    "\n",
    "metadata_names = [\n",
    "    \"STATION ID\",\n",
    "    \"LATITUDE\",\n",
    "    \"LONGITUDE\",\n",
    "    \"ELEVATION\",\n",
    "    \"STATE\",\n",
    "    \"NAME\",\n",
    "    \"GSN FLAG\",\n",
    "    \"HCN/CRN FLAG\",\n",
    "    \"WMO ID\"\n",
    "]\n",
    "\n",
    "metadata_dtype = {\n",
    "    \"ID\": str,\n",
    "    \"STATE\": str,\n",
    "    \"NAME\": str,\n",
    "    \"GSN FLAG\": str,\n",
    "    \"HCN/CRN FLAG\": str,\n",
    "    \"WMO ID\": str\n",
    "}\n"
   ]
  },
  {
   "cell_type": "markdown",
   "metadata": {},
   "source": [
    "Next, let's read in the station metadata, available locally on my machine:"
   ]
  },
  {
   "cell_type": "code",
   "execution_count": 10,
   "metadata": {},
   "outputs": [],
   "source": [
    "# read in the local .txt file containing the station metadata\n",
    "df_stations = pd.read_fwf('/Users/richard/Desktop/datasets/GHCNdaily/ghcnd-stations.txt', \n",
    "                              metadata_col_specs, names=metadata_names, index_col='STATION ID', dtype=metadata_dtype)"
   ]
  },
  {
   "cell_type": "code",
   "execution_count": 11,
   "metadata": {},
   "outputs": [
    {
     "data": {
      "text/html": [
       "<div>\n",
       "<style scoped>\n",
       "    .dataframe tbody tr th:only-of-type {\n",
       "        vertical-align: middle;\n",
       "    }\n",
       "\n",
       "    .dataframe tbody tr th {\n",
       "        vertical-align: top;\n",
       "    }\n",
       "\n",
       "    .dataframe thead th {\n",
       "        text-align: right;\n",
       "    }\n",
       "</style>\n",
       "<table border=\"1\" class=\"dataframe\">\n",
       "  <thead>\n",
       "    <tr style=\"text-align: right;\">\n",
       "      <th></th>\n",
       "      <th>LATITUDE</th>\n",
       "      <th>LONGITUDE</th>\n",
       "      <th>ELEVATION</th>\n",
       "    </tr>\n",
       "  </thead>\n",
       "  <tbody>\n",
       "    <tr>\n",
       "      <th>count</th>\n",
       "      <td>115084.000000</td>\n",
       "      <td>115084.000000</td>\n",
       "      <td>115084.000000</td>\n",
       "    </tr>\n",
       "    <tr>\n",
       "      <th>mean</th>\n",
       "      <td>24.527608</td>\n",
       "      <td>-39.830056</td>\n",
       "      <td>447.750143</td>\n",
       "    </tr>\n",
       "    <tr>\n",
       "      <th>std</th>\n",
       "      <td>29.277420</td>\n",
       "      <td>92.080522</td>\n",
       "      <td>667.252749</td>\n",
       "    </tr>\n",
       "    <tr>\n",
       "      <th>min</th>\n",
       "      <td>-90.000000</td>\n",
       "      <td>-179.983000</td>\n",
       "      <td>-999.900000</td>\n",
       "    </tr>\n",
       "    <tr>\n",
       "      <th>25%</th>\n",
       "      <td>18.420000</td>\n",
       "      <td>-100.759475</td>\n",
       "      <td>80.000000</td>\n",
       "    </tr>\n",
       "    <tr>\n",
       "      <th>50%</th>\n",
       "      <td>36.343300</td>\n",
       "      <td>-83.648500</td>\n",
       "      <td>256.000000</td>\n",
       "    </tr>\n",
       "    <tr>\n",
       "      <th>75%</th>\n",
       "      <td>42.813075</td>\n",
       "      <td>13.950000</td>\n",
       "      <td>610.000000</td>\n",
       "    </tr>\n",
       "    <tr>\n",
       "      <th>max</th>\n",
       "      <td>83.650000</td>\n",
       "      <td>179.320000</td>\n",
       "      <td>5033.000000</td>\n",
       "    </tr>\n",
       "  </tbody>\n",
       "</table>\n",
       "</div>"
      ],
      "text/plain": [
       "            LATITUDE      LONGITUDE      ELEVATION\n",
       "count  115084.000000  115084.000000  115084.000000\n",
       "mean       24.527608     -39.830056     447.750143\n",
       "std        29.277420      92.080522     667.252749\n",
       "min       -90.000000    -179.983000    -999.900000\n",
       "25%        18.420000    -100.759475      80.000000\n",
       "50%        36.343300     -83.648500     256.000000\n",
       "75%        42.813075      13.950000     610.000000\n",
       "max        83.650000     179.320000    5033.000000"
      ]
     },
     "execution_count": 11,
     "metadata": {},
     "output_type": "execute_result"
    }
   ],
   "source": [
    "df_stations.describe()"
   ]
  },
  {
   "cell_type": "code",
   "execution_count": 12,
   "metadata": {},
   "outputs": [
    {
     "name": "stdout",
     "output_type": "stream",
     "text": [
      "<class 'pandas.core.frame.DataFrame'>\n",
      "Index: 115084 entries, ACW00011604 to ZI000067991\n",
      "Data columns (total 8 columns):\n",
      " #   Column        Non-Null Count   Dtype  \n",
      "---  ------        --------------   -----  \n",
      " 0   LATITUDE      115084 non-null  float64\n",
      " 1   LONGITUDE     115084 non-null  float64\n",
      " 2   ELEVATION     115084 non-null  float64\n",
      " 3   STATE         71107 non-null   object \n",
      " 4   NAME          115084 non-null  object \n",
      " 5   GSN FLAG      991 non-null     object \n",
      " 6   HCN/CRN FLAG  1451 non-null    object \n",
      " 7   WMO ID        8088 non-null    object \n",
      "dtypes: float64(3), object(5)\n",
      "memory usage: 7.9+ MB\n"
     ]
    }
   ],
   "source": [
    "df_stations.info()"
   ]
  },
  {
   "cell_type": "code",
   "execution_count": 13,
   "metadata": {},
   "outputs": [
    {
     "data": {
      "text/plain": [
       "(115084, 8)"
      ]
     },
     "execution_count": 13,
     "metadata": {},
     "output_type": "execute_result"
    }
   ],
   "source": [
    "df_stations.shape"
   ]
  },
  {
   "cell_type": "markdown",
   "metadata": {},
   "source": [
    "#### Notes on Station Metadata\n",
    "- Summary statistics indicate same count of values for each numerical values which is a good sign. \n",
    "- Other features (GSN Flag, State, etc.) are missing many values, but these are not very important to us.\n",
    "- Elevation MIN of -999.9 indicates missing values (see readme.txt)"
   ]
  },
  {
   "cell_type": "markdown",
   "metadata": {},
   "source": [
    "### 2.2.3. Convert Station Data to GeoDataFrame"
   ]
  },
  {
   "cell_type": "markdown",
   "metadata": {},
   "source": [
    "Since the station metadata dataframe contains valuable geospatial information, let's convert it to a geodataframe so that we can manipulate it using the geopandas package."
   ]
  },
  {
   "cell_type": "code",
   "execution_count": 14,
   "metadata": {},
   "outputs": [],
   "source": [
    "# set up geometry specs \n",
    "geometry_stations = [Point(xy) for xy in zip(df_stations['LONGITUDE'], df_stations['LATITUDE'])]"
   ]
  },
  {
   "cell_type": "code",
   "execution_count": 15,
   "metadata": {},
   "outputs": [
    {
     "data": {
      "text/plain": [
       "[<shapely.geometry.point.Point at 0x1a23c44210>,\n",
       " <shapely.geometry.point.Point at 0x1a23c5ccd0>,\n",
       " <shapely.geometry.point.Point at 0x1a23c77f90>,\n",
       " <shapely.geometry.point.Point at 0x1a23c5f950>,\n",
       " <shapely.geometry.point.Point at 0x1a23b08390>]"
      ]
     },
     "execution_count": 15,
     "metadata": {},
     "output_type": "execute_result"
    }
   ],
   "source": [
    "# verify\n",
    "geometry_stations[:5]"
   ]
  },
  {
   "cell_type": "code",
   "execution_count": 16,
   "metadata": {},
   "outputs": [],
   "source": [
    "# set coordinate reference system\n",
    "crs_stations = {'init': 'epsg:4326'}"
   ]
  },
  {
   "cell_type": "code",
   "execution_count": 17,
   "metadata": {},
   "outputs": [],
   "source": [
    "# create geodataframe for station metadata\n",
    "gdf_stations = gpd.GeoDataFrame(df_stations, crs=crs_stations, geometry=geometry_stations)"
   ]
  },
  {
   "cell_type": "code",
   "execution_count": 18,
   "metadata": {},
   "outputs": [
    {
     "data": {
      "text/html": [
       "<div>\n",
       "<style scoped>\n",
       "    .dataframe tbody tr th:only-of-type {\n",
       "        vertical-align: middle;\n",
       "    }\n",
       "\n",
       "    .dataframe tbody tr th {\n",
       "        vertical-align: top;\n",
       "    }\n",
       "\n",
       "    .dataframe thead th {\n",
       "        text-align: right;\n",
       "    }\n",
       "</style>\n",
       "<table border=\"1\" class=\"dataframe\">\n",
       "  <thead>\n",
       "    <tr style=\"text-align: right;\">\n",
       "      <th></th>\n",
       "      <th>LATITUDE</th>\n",
       "      <th>LONGITUDE</th>\n",
       "      <th>ELEVATION</th>\n",
       "      <th>STATE</th>\n",
       "      <th>NAME</th>\n",
       "      <th>GSN FLAG</th>\n",
       "      <th>HCN/CRN FLAG</th>\n",
       "      <th>WMO ID</th>\n",
       "      <th>geometry</th>\n",
       "    </tr>\n",
       "    <tr>\n",
       "      <th>STATION ID</th>\n",
       "      <th></th>\n",
       "      <th></th>\n",
       "      <th></th>\n",
       "      <th></th>\n",
       "      <th></th>\n",
       "      <th></th>\n",
       "      <th></th>\n",
       "      <th></th>\n",
       "      <th></th>\n",
       "    </tr>\n",
       "  </thead>\n",
       "  <tbody>\n",
       "    <tr>\n",
       "      <th>ACW00011604</th>\n",
       "      <td>17.1167</td>\n",
       "      <td>-61.7833</td>\n",
       "      <td>10.1</td>\n",
       "      <td>NaN</td>\n",
       "      <td>ST JOHNS COOLIDGE FLD</td>\n",
       "      <td>NaN</td>\n",
       "      <td>NaN</td>\n",
       "      <td>NaN</td>\n",
       "      <td>POINT (-61.78330 17.11670)</td>\n",
       "    </tr>\n",
       "    <tr>\n",
       "      <th>ACW00011647</th>\n",
       "      <td>17.1333</td>\n",
       "      <td>-61.7833</td>\n",
       "      <td>19.2</td>\n",
       "      <td>NaN</td>\n",
       "      <td>ST JOHNS</td>\n",
       "      <td>NaN</td>\n",
       "      <td>NaN</td>\n",
       "      <td>NaN</td>\n",
       "      <td>POINT (-61.78330 17.13330)</td>\n",
       "    </tr>\n",
       "    <tr>\n",
       "      <th>AE000041196</th>\n",
       "      <td>25.3330</td>\n",
       "      <td>55.5170</td>\n",
       "      <td>34.0</td>\n",
       "      <td>NaN</td>\n",
       "      <td>SHARJAH INTER. AIRP</td>\n",
       "      <td>GSN</td>\n",
       "      <td>NaN</td>\n",
       "      <td>41196</td>\n",
       "      <td>POINT (55.51700 25.33300)</td>\n",
       "    </tr>\n",
       "    <tr>\n",
       "      <th>AEM00041194</th>\n",
       "      <td>25.2550</td>\n",
       "      <td>55.3640</td>\n",
       "      <td>10.4</td>\n",
       "      <td>NaN</td>\n",
       "      <td>DUBAI INTL</td>\n",
       "      <td>NaN</td>\n",
       "      <td>NaN</td>\n",
       "      <td>41194</td>\n",
       "      <td>POINT (55.36400 25.25500)</td>\n",
       "    </tr>\n",
       "    <tr>\n",
       "      <th>AEM00041217</th>\n",
       "      <td>24.4330</td>\n",
       "      <td>54.6510</td>\n",
       "      <td>26.8</td>\n",
       "      <td>NaN</td>\n",
       "      <td>ABU DHABI INTL</td>\n",
       "      <td>NaN</td>\n",
       "      <td>NaN</td>\n",
       "      <td>41217</td>\n",
       "      <td>POINT (54.65100 24.43300)</td>\n",
       "    </tr>\n",
       "  </tbody>\n",
       "</table>\n",
       "</div>"
      ],
      "text/plain": [
       "             LATITUDE  LONGITUDE  ELEVATION STATE                   NAME  \\\n",
       "STATION ID                                                                 \n",
       "ACW00011604   17.1167   -61.7833       10.1   NaN  ST JOHNS COOLIDGE FLD   \n",
       "ACW00011647   17.1333   -61.7833       19.2   NaN               ST JOHNS   \n",
       "AE000041196   25.3330    55.5170       34.0   NaN    SHARJAH INTER. AIRP   \n",
       "AEM00041194   25.2550    55.3640       10.4   NaN             DUBAI INTL   \n",
       "AEM00041217   24.4330    54.6510       26.8   NaN         ABU DHABI INTL   \n",
       "\n",
       "            GSN FLAG HCN/CRN FLAG WMO ID                    geometry  \n",
       "STATION ID                                                            \n",
       "ACW00011604      NaN          NaN    NaN  POINT (-61.78330 17.11670)  \n",
       "ACW00011647      NaN          NaN    NaN  POINT (-61.78330 17.13330)  \n",
       "AE000041196      GSN          NaN  41196   POINT (55.51700 25.33300)  \n",
       "AEM00041194      NaN          NaN  41194   POINT (55.36400 25.25500)  \n",
       "AEM00041217      NaN          NaN  41217   POINT (54.65100 24.43300)  "
      ]
     },
     "execution_count": 18,
     "metadata": {},
     "output_type": "execute_result"
    }
   ],
   "source": [
    "# inspect created geodataframe\n",
    "gdf_stations.head()"
   ]
  },
  {
   "cell_type": "markdown",
   "metadata": {},
   "source": [
    "#### Note\n",
    "In order to execute the spatial join in the next section, we will need to change the Coordinate Reference System to EPSG3857. It is recommended to use only geometry with -85 < latitude < 85. As such, we will remove any stations outside of these bounds."
   ]
  },
  {
   "cell_type": "code",
   "execution_count": 19,
   "metadata": {},
   "outputs": [
    {
     "data": {
      "text/plain": [
       "(-179.983, -90.0, 179.32, 83.65)"
      ]
     },
     "execution_count": 19,
     "metadata": {},
     "output_type": "execute_result"
    }
   ],
   "source": [
    "# inspect geometry bounds\n",
    "gdf_stations.geometry.bounds.minx.min(), gdf_stations.geometry.bounds.miny.min(), gdf_stations.geometry.bounds.maxx.max(), gdf_stations.geometry.bounds.maxy.max()"
   ]
  },
  {
   "cell_type": "code",
   "execution_count": 20,
   "metadata": {},
   "outputs": [
    {
     "data": {
      "text/html": [
       "<div>\n",
       "<style scoped>\n",
       "    .dataframe tbody tr th:only-of-type {\n",
       "        vertical-align: middle;\n",
       "    }\n",
       "\n",
       "    .dataframe tbody tr th {\n",
       "        vertical-align: top;\n",
       "    }\n",
       "\n",
       "    .dataframe thead th {\n",
       "        text-align: right;\n",
       "    }\n",
       "</style>\n",
       "<table border=\"1\" class=\"dataframe\">\n",
       "  <thead>\n",
       "    <tr style=\"text-align: right;\">\n",
       "      <th></th>\n",
       "      <th>LATITUDE</th>\n",
       "      <th>LONGITUDE</th>\n",
       "      <th>ELEVATION</th>\n",
       "      <th>STATE</th>\n",
       "      <th>NAME</th>\n",
       "      <th>GSN FLAG</th>\n",
       "      <th>HCN/CRN FLAG</th>\n",
       "      <th>WMO ID</th>\n",
       "      <th>geometry</th>\n",
       "    </tr>\n",
       "    <tr>\n",
       "      <th>STATION ID</th>\n",
       "      <th></th>\n",
       "      <th></th>\n",
       "      <th></th>\n",
       "      <th></th>\n",
       "      <th></th>\n",
       "      <th></th>\n",
       "      <th></th>\n",
       "      <th></th>\n",
       "      <th></th>\n",
       "    </tr>\n",
       "  </thead>\n",
       "  <tbody>\n",
       "    <tr>\n",
       "      <th>AYM00089087</th>\n",
       "      <td>-85.2</td>\n",
       "      <td>-87.883</td>\n",
       "      <td>1634.0</td>\n",
       "      <td>NaN</td>\n",
       "      <td>THIEL MTNS AWS</td>\n",
       "      <td>NaN</td>\n",
       "      <td>NaN</td>\n",
       "      <td>89087</td>\n",
       "      <td>POINT (-87.88300 -85.20000)</td>\n",
       "    </tr>\n",
       "    <tr>\n",
       "      <th>AYM00089108</th>\n",
       "      <td>-89.0</td>\n",
       "      <td>-1.017</td>\n",
       "      <td>2755.0</td>\n",
       "      <td>NaN</td>\n",
       "      <td>HENRY</td>\n",
       "      <td>NaN</td>\n",
       "      <td>NaN</td>\n",
       "      <td>89108</td>\n",
       "      <td>POINT (-1.01700 -89.00000)</td>\n",
       "    </tr>\n",
       "    <tr>\n",
       "      <th>AYM00089799</th>\n",
       "      <td>-89.0</td>\n",
       "      <td>89.667</td>\n",
       "      <td>2935.0</td>\n",
       "      <td>NaN</td>\n",
       "      <td>NICO</td>\n",
       "      <td>NaN</td>\n",
       "      <td>NaN</td>\n",
       "      <td>89799</td>\n",
       "      <td>POINT (89.66700 -89.00000)</td>\n",
       "    </tr>\n",
       "    <tr>\n",
       "      <th>AYW00090001</th>\n",
       "      <td>-90.0</td>\n",
       "      <td>0.000</td>\n",
       "      <td>-999.9</td>\n",
       "      <td>NaN</td>\n",
       "      <td>AMUNDSEN-SCOTT</td>\n",
       "      <td>GSN</td>\n",
       "      <td>NaN</td>\n",
       "      <td>89009</td>\n",
       "      <td>POINT (0.00000 -90.00000)</td>\n",
       "    </tr>\n",
       "  </tbody>\n",
       "</table>\n",
       "</div>"
      ],
      "text/plain": [
       "             LATITUDE  LONGITUDE  ELEVATION STATE            NAME GSN FLAG  \\\n",
       "STATION ID                                                                   \n",
       "AYM00089087     -85.2    -87.883     1634.0   NaN  THIEL MTNS AWS      NaN   \n",
       "AYM00089108     -89.0     -1.017     2755.0   NaN           HENRY      NaN   \n",
       "AYM00089799     -89.0     89.667     2935.0   NaN            NICO      NaN   \n",
       "AYW00090001     -90.0      0.000     -999.9   NaN  AMUNDSEN-SCOTT      GSN   \n",
       "\n",
       "            HCN/CRN FLAG WMO ID                     geometry  \n",
       "STATION ID                                                    \n",
       "AYM00089087          NaN  89087  POINT (-87.88300 -85.20000)  \n",
       "AYM00089108          NaN  89108   POINT (-1.01700 -89.00000)  \n",
       "AYM00089799          NaN  89799   POINT (89.66700 -89.00000)  \n",
       "AYW00090001          NaN  89009    POINT (0.00000 -90.00000)  "
      ]
     },
     "execution_count": 20,
     "metadata": {},
     "output_type": "execute_result"
    }
   ],
   "source": [
    "# inspect stations with latitude below -85\n",
    "gdf_stations[gdf_stations.LATITUDE < -85]"
   ]
  },
  {
   "cell_type": "code",
   "execution_count": 21,
   "metadata": {},
   "outputs": [],
   "source": [
    "# subset gdf_stations to include only those with compatible latitude (i.e. remove 4 stations)\n",
    "labels_to_remove = list(gdf_stations[gdf_stations.LATITUDE < -85].index)\n",
    "gdf_stations = gdf_stations.drop(labels_to_remove, axis=0)"
   ]
  },
  {
   "cell_type": "code",
   "execution_count": 22,
   "metadata": {},
   "outputs": [
    {
     "data": {
      "text/plain": [
       "(-179.983, -84.6, 179.32, 83.65)"
      ]
     },
     "execution_count": 22,
     "metadata": {},
     "output_type": "execute_result"
    }
   ],
   "source": [
    "# verify geometry bounds\n",
    "gdf_stations.geometry.bounds.minx.min(), gdf_stations.geometry.bounds.miny.min(), gdf_stations.geometry.bounds.maxx.max(), gdf_stations.geometry.bounds.maxy.max()"
   ]
  },
  {
   "cell_type": "markdown",
   "metadata": {},
   "source": [
    "We have succesfully removed the 4 stations whose latitudes were out of bounds for the EPSG3857 projection. We can now proceed with our analysis.\n",
    "\n",
    "Let's plot the station locations to get a sense of their geographic spread."
   ]
  },
  {
   "cell_type": "code",
   "execution_count": 23,
   "metadata": {},
   "outputs": [
    {
     "data": {
      "image/png": "[encoded data removed]",
      "text/plain": [
       "<Figure size 1440x1080 with 1 Axes>"
      ]
     },
     "metadata": {
      "needs_background": "light"
     },
     "output_type": "display_data"
    }
   ],
   "source": [
    "# plot station metadata\n",
    "fig, ax = plt.subplots(figsize=(20,15))\n",
    "gdf_stations.plot(ax=ax, alpha=0.5, markersize=0.2, label='Weather Stations')\n",
    "plt.legend();"
   ]
  },
  {
   "cell_type": "code",
   "execution_count": 24,
   "metadata": {},
   "outputs": [],
   "source": [
    "# # Exporting Station Metadata to local csv \n",
    "# gdf_stations.to_csv('/Users/richard/Desktop/data/interim/station_metadata_gdf_withinboundsepsg3857.csv', na_rep='NaN')"
   ]
  },
  {
   "cell_type": "markdown",
   "metadata": {},
   "source": [
    "#### Notes on plot\n",
    "- The plot above highlights clearly that coverage of the GHCN data is not spread evenly across the globe.\n",
    "- We see particularly high concentrations in:\n",
    " - North America\n",
    " - East coast of Latin America\n",
    " - Northern Europe\n",
    " - South Africa\n",
    " - India\n",
    " - Australia\n",
    "\n",
    "This is an important first finding to bear in mind as we continue our analysis. How will this coverage of climate data compare to the coverage of the conflict data? Where - and to what extent - will the two overlap in space?"
   ]
  },
  {
   "cell_type": "markdown",
   "metadata": {},
   "source": [
    "A clarification on the unit measurements is in order. From readme:\n",
    "- PRCP = Precipitation (tenths of mm)\n",
    "- SNOW = Snowfall (mm)\n",
    "- SNWD = Snow depth (mm)\n",
    "- TMAX = Maximum temperature (tenths of degrees C)\n",
    "- TMIN = Minimum temperature (tenths of degrees C)"
   ]
  },
  {
   "cell_type": "markdown",
   "metadata": {},
   "source": [
    "# 3. Wrangling UCDP Conflict Data"
   ]
  },
  {
   "cell_type": "markdown",
   "metadata": {},
   "source": [
    "Now let's move on to wrangling our UCDP Conflict data into shape. To get a good sense of the quality of our data, we will generate Profile Reports for the datasets. As mentioned in the introduction, the output of the reports has been generated but then excluded from the notebook to enhance compatability with Github. The reports are available as .html files in this repo's 'reports' directory."
   ]
  },
  {
   "cell_type": "code",
   "execution_count": 31,
   "metadata": {},
   "outputs": [],
   "source": [
    "# # use ProfileReport\n",
    "# profile = ProfileReport(df_conflict, title=\"Pandas Profiling Report\", minimal=True)"
   ]
  },
  {
   "cell_type": "markdown",
   "metadata": {},
   "source": [
    "## 3.1. Notes on Original Profile Report\n",
    "\n",
    "The conflict dataframe in its original form has:\n",
    "- 49 variables\n",
    "- 225385 observations\n",
    "- 694753 missing cells, constituting 6.3%\n",
    "\n",
    "### 3.1.1. Missing Values\n",
    "A quick overview of the missing cells reveals that most of them are in:\n",
    "- variables detailing information about the source of information (e.g. source_headline, source_office, source_date).\n",
    "- variables gwnoa and gwnob, which contain the Gleditsch and Ward number of the A or B side of the conflict ifeither is a state.\n",
    "- adm_2, which contains the name of the second-order administrative region where the conflict took place.\n",
    "\n",
    "Since we trust the organisation that has compiled this dataset, we will take the credibility of the sources as given and can therefore omit the variables containing the detailed source information.\n",
    "\n",
    "Variables *gwnoa* and *gwnob* don't provide us much additional information beyond the names contained in variables *side_a* and *side_b*. We will omit these variables as well.\n",
    "\n",
    "*adm_2* is a potentially important identifier of locality of conflicts, so we will keep it for now, even though it contains almost 23% missing values.\n",
    "\n",
    "### 3.1.2. Redundant Variables\n",
    "From the readme pdf included with the dataset, we learn that a number of variables are redundant for our analysis. They contain information referencing older versions of the dataset and are included for administrative purposes. These are: relid, code_status, conflict_dset_id, dyad_dset_id, side_a_dset_id, side_b_dset_id, geom_wkt, priogrid_gid. All of these variables have counterparts in the dataset that contain the updated information and can therefore be ommitted from our analysis.\n",
    "\n",
    "To summarize, list of variables to omit:\n",
    "- source_article\n",
    "- source_headline\n",
    "- source_date\n",
    "- source_office\n",
    "- number_of_sources\n",
    "- source_original\n",
    "- relid\n",
    "- code_status\n",
    "- conflict_dset_id\n",
    "- dyad_dset_id\n",
    "- side_a_dset_id\n",
    "- side_b_dset_id\n",
    "- geom_wkt\n",
    "- priogrid_gid\n",
    "- gwnoa\n",
    "- gwnob\n",
    "- best\n",
    "- high\n",
    "- low\n",
    "\n",
    "### 3.1.3. Important Precision Variables\n",
    "The dataset includes two important variables that indicate the precision of the location and date of the conflict incidents, respectively.\n",
    "\n",
    "##### where_prec\n",
    "contains an integer from 1 to 7 indicating the precision of the coordinates provided.\n",
    "1. exact location known\n",
    "2. location known within 25 km.\n",
    "3. location known at second-order administrative region\n",
    "4. location known at first-order administrative region\n",
    "5. location known at large informal region or geographical feature (such as a river or mountain range)\n",
    "6. only country is known\n",
    "7. event occurred in international waters or airspace\n",
    "\n",
    "Detailed information of where_prec included in the Profile Report shows us that the majority of values have a value of 4 or less (~95%). Since we are aiming to include weather stations within a radius of 50km of conflict incidents, this seems a reasonable level of precision to accept.\n",
    "\n",
    "We will therefore filter the dataset to include only conflict incidents with a where_prec of < 5.\n",
    "\n",
    "##### date_prec\n",
    "contains an integer from 1 to 5 indicating the precision of the date provided.\n",
    "1. exact date is known\n",
    "2. date is known within 2-6 days\n",
    "3. date is known within week\n",
    "4. date is known within 8-30 days\n",
    "5. date is known within year\n",
    "\n",
    "Detailed information of date_prec included in the Profile Report shows us that the majority of values have a value of 4 or less (~99%). 83.9% of values even have a date_prec of 1, meaning the exact date is known for the majority of events. Since we are looking at long-term climate trends (climate change) a date_prec of 4 seems a reasonable level of precision to accept.\n",
    "\n",
    "We will therefore filter the dataset to include only conflict incidents with a date_prec of < 5.\n",
    "\n",
    "\n",
    "### Next Steps\n",
    "In conclusion, we will proceed to do the following:\n",
    "1. Remove redundant variables (listed above)\n",
    "2. Filter dataframe to include only entries at relevant precision level\n",
    "3. Convert date columns to datetime objects\n",
    "4. Save cleaned df as a local csv"
   ]
  },
  {
   "cell_type": "markdown",
   "metadata": {},
   "source": [
    "## 3.2. Removing Redundant Variables"
   ]
  },
  {
   "cell_type": "code",
   "execution_count": 32,
   "metadata": {},
   "outputs": [
    {
     "data": {
      "text/plain": [
       "Index(['id', 'year', 'active_year', 'type_of_violence', 'conflict_new_id',\n",
       "       'conflict_name', 'dyad_new_id', 'dyad_name', 'side_a_new_id', 'side_a',\n",
       "       'side_b_new_id', 'side_b', 'where_prec', 'where_coordinates',\n",
       "       'where_description', 'adm_1', 'adm_2', 'latitude', 'longitude',\n",
       "       'country', 'country_id', 'region', 'event_clarity', 'date_prec',\n",
       "       'date_start', 'date_end', 'deaths_a', 'deaths_b', 'deaths_civilians',\n",
       "       'deaths_unknown'],\n",
       "      dtype='object')"
      ]
     },
     "execution_count": 32,
     "metadata": {},
     "output_type": "execute_result"
    }
   ],
   "source": [
    "# removing redundant variables\n",
    "df_conflict = df_conflict.drop(['source_article', 'source_headline', 'source_date', 'gwnoa', 'gwnob', 'best', 'high', 'low', 'source_office', 'number_of_sources', 'source_original', 'relid', 'code_status', 'conflict_dset_id', 'dyad_dset_id', 'side_a_dset_id', 'side_b_dset_id', 'geom_wkt', 'priogrid_gid'], axis=1)\n",
    "df_conflict.columns"
   ]
  },
  {
   "cell_type": "code",
   "execution_count": 33,
   "metadata": {},
   "outputs": [
    {
     "data": {
      "text/plain": [
       "(225385, 30)"
      ]
     },
     "execution_count": 33,
     "metadata": {},
     "output_type": "execute_result"
    }
   ],
   "source": [
    "df_conflict.shape"
   ]
  },
  {
   "cell_type": "markdown",
   "metadata": {},
   "source": [
    "## 3.3. Filter Data by Precision Level"
   ]
  },
  {
   "cell_type": "code",
   "execution_count": 34,
   "metadata": {},
   "outputs": [],
   "source": [
    "# filter dataframe by where_prec < 5 and date_prec < 5\n",
    "df_conflict = df_conflict[((df_conflict['where_prec'] < 5) & (df_conflict['date_prec'] < 5))]"
   ]
  },
  {
   "cell_type": "code",
   "execution_count": 35,
   "metadata": {},
   "outputs": [
    {
     "data": {
      "text/plain": [
       "1    181060\n",
       "2     24274\n",
       "4      5021\n",
       "3      1522\n",
       "0         2\n",
       "Name: date_prec, dtype: int64"
      ]
     },
     "execution_count": 35,
     "metadata": {},
     "output_type": "execute_result"
    }
   ],
   "source": [
    "df_conflict['date_prec'].value_counts()"
   ]
  },
  {
   "cell_type": "code",
   "execution_count": 36,
   "metadata": {},
   "outputs": [
    {
     "data": {
      "text/plain": [
       "1    101885\n",
       "2     42682\n",
       "3     37933\n",
       "4     29379\n",
       "Name: where_prec, dtype: int64"
      ]
     },
     "execution_count": 36,
     "metadata": {},
     "output_type": "execute_result"
    }
   ],
   "source": [
    "df_conflict['where_prec'].value_counts()"
   ]
  },
  {
   "cell_type": "code",
   "execution_count": 37,
   "metadata": {},
   "outputs": [
    {
     "data": {
      "text/plain": [
       "(211879, 30)"
      ]
     },
     "execution_count": 37,
     "metadata": {},
     "output_type": "execute_result"
    }
   ],
   "source": [
    "df_conflict.shape"
   ]
  },
  {
   "cell_type": "code",
   "execution_count": 38,
   "metadata": {},
   "outputs": [],
   "source": [
    "# set index of df to column 'id'\n",
    "df_conflict.set_index('id', inplace=True)"
   ]
  },
  {
   "cell_type": "markdown",
   "metadata": {},
   "source": [
    "## 3.4. Convert Date Columns to Datetime Objects"
   ]
  },
  {
   "cell_type": "code",
   "execution_count": 39,
   "metadata": {},
   "outputs": [],
   "source": [
    "# convert variables date_start and date_end to datetime objects\n",
    "df_conflict['date_start'] = pd.to_datetime(df_conflict['date_start'])\n",
    "df_conflict['date_end'] = pd.to_datetime(df_conflict['date_end'])"
   ]
  },
  {
   "cell_type": "code",
   "execution_count": 40,
   "metadata": {},
   "outputs": [
    {
     "data": {
      "text/html": [
       "<div>\n",
       "<style scoped>\n",
       "    .dataframe tbody tr th:only-of-type {\n",
       "        vertical-align: middle;\n",
       "    }\n",
       "\n",
       "    .dataframe tbody tr th {\n",
       "        vertical-align: top;\n",
       "    }\n",
       "\n",
       "    .dataframe thead th {\n",
       "        text-align: right;\n",
       "    }\n",
       "</style>\n",
       "<table border=\"1\" class=\"dataframe\">\n",
       "  <thead>\n",
       "    <tr style=\"text-align: right;\">\n",
       "      <th></th>\n",
       "      <th>year</th>\n",
       "      <th>active_year</th>\n",
       "      <th>type_of_violence</th>\n",
       "      <th>conflict_new_id</th>\n",
       "      <th>conflict_name</th>\n",
       "      <th>dyad_new_id</th>\n",
       "      <th>dyad_name</th>\n",
       "      <th>side_a_new_id</th>\n",
       "      <th>side_a</th>\n",
       "      <th>side_b_new_id</th>\n",
       "      <th>...</th>\n",
       "      <th>country_id</th>\n",
       "      <th>region</th>\n",
       "      <th>event_clarity</th>\n",
       "      <th>date_prec</th>\n",
       "      <th>date_start</th>\n",
       "      <th>date_end</th>\n",
       "      <th>deaths_a</th>\n",
       "      <th>deaths_b</th>\n",
       "      <th>deaths_civilians</th>\n",
       "      <th>deaths_unknown</th>\n",
       "    </tr>\n",
       "    <tr>\n",
       "      <th>id</th>\n",
       "      <th></th>\n",
       "      <th></th>\n",
       "      <th></th>\n",
       "      <th></th>\n",
       "      <th></th>\n",
       "      <th></th>\n",
       "      <th></th>\n",
       "      <th></th>\n",
       "      <th></th>\n",
       "      <th></th>\n",
       "      <th></th>\n",
       "      <th></th>\n",
       "      <th></th>\n",
       "      <th></th>\n",
       "      <th></th>\n",
       "      <th></th>\n",
       "      <th></th>\n",
       "      <th></th>\n",
       "      <th></th>\n",
       "      <th></th>\n",
       "      <th></th>\n",
       "    </tr>\n",
       "  </thead>\n",
       "  <tbody>\n",
       "    <tr>\n",
       "      <th>244657</th>\n",
       "      <td>2017</td>\n",
       "      <td>1</td>\n",
       "      <td>1</td>\n",
       "      <td>259</td>\n",
       "      <td>Iraq: Government</td>\n",
       "      <td>524</td>\n",
       "      <td>Government of Iraq - IS</td>\n",
       "      <td>116</td>\n",
       "      <td>Government of Iraq</td>\n",
       "      <td>234</td>\n",
       "      <td>...</td>\n",
       "      <td>700</td>\n",
       "      <td>Asia</td>\n",
       "      <td>1</td>\n",
       "      <td>1</td>\n",
       "      <td>2017-07-31</td>\n",
       "      <td>2017-07-31</td>\n",
       "      <td>0</td>\n",
       "      <td>4</td>\n",
       "      <td>0</td>\n",
       "      <td>2</td>\n",
       "    </tr>\n",
       "    <tr>\n",
       "      <th>132140</th>\n",
       "      <td>1989</td>\n",
       "      <td>1</td>\n",
       "      <td>1</td>\n",
       "      <td>333</td>\n",
       "      <td>Afghanistan: Government</td>\n",
       "      <td>724</td>\n",
       "      <td>Government of Afghanistan - Jam'iyyat-i Islami...</td>\n",
       "      <td>130</td>\n",
       "      <td>Government of Afghanistan</td>\n",
       "      <td>292</td>\n",
       "      <td>...</td>\n",
       "      <td>700</td>\n",
       "      <td>Asia</td>\n",
       "      <td>1</td>\n",
       "      <td>3</td>\n",
       "      <td>1989-01-07</td>\n",
       "      <td>1989-01-13</td>\n",
       "      <td>6</td>\n",
       "      <td>0</td>\n",
       "      <td>0</td>\n",
       "      <td>0</td>\n",
       "    </tr>\n",
       "    <tr>\n",
       "      <th>130364</th>\n",
       "      <td>1989</td>\n",
       "      <td>1</td>\n",
       "      <td>1</td>\n",
       "      <td>333</td>\n",
       "      <td>Afghanistan: Government</td>\n",
       "      <td>724</td>\n",
       "      <td>Government of Afghanistan - Jam'iyyat-i Islami...</td>\n",
       "      <td>130</td>\n",
       "      <td>Government of Afghanistan</td>\n",
       "      <td>292</td>\n",
       "      <td>...</td>\n",
       "      <td>700</td>\n",
       "      <td>Asia</td>\n",
       "      <td>2</td>\n",
       "      <td>2</td>\n",
       "      <td>1989-01-15</td>\n",
       "      <td>1989-01-18</td>\n",
       "      <td>0</td>\n",
       "      <td>0</td>\n",
       "      <td>0</td>\n",
       "      <td>4</td>\n",
       "    </tr>\n",
       "    <tr>\n",
       "      <th>130359</th>\n",
       "      <td>1989</td>\n",
       "      <td>1</td>\n",
       "      <td>1</td>\n",
       "      <td>333</td>\n",
       "      <td>Afghanistan: Government</td>\n",
       "      <td>724</td>\n",
       "      <td>Government of Afghanistan - Jam'iyyat-i Islami...</td>\n",
       "      <td>130</td>\n",
       "      <td>Government of Afghanistan</td>\n",
       "      <td>292</td>\n",
       "      <td>...</td>\n",
       "      <td>700</td>\n",
       "      <td>Asia</td>\n",
       "      <td>1</td>\n",
       "      <td>2</td>\n",
       "      <td>1989-01-23</td>\n",
       "      <td>1989-01-24</td>\n",
       "      <td>0</td>\n",
       "      <td>0</td>\n",
       "      <td>0</td>\n",
       "      <td>600</td>\n",
       "    </tr>\n",
       "    <tr>\n",
       "      <th>133883</th>\n",
       "      <td>1989</td>\n",
       "      <td>1</td>\n",
       "      <td>1</td>\n",
       "      <td>333</td>\n",
       "      <td>Afghanistan: Government</td>\n",
       "      <td>724</td>\n",
       "      <td>Government of Afghanistan - Jam'iyyat-i Islami...</td>\n",
       "      <td>130</td>\n",
       "      <td>Government of Afghanistan</td>\n",
       "      <td>292</td>\n",
       "      <td>...</td>\n",
       "      <td>700</td>\n",
       "      <td>Asia</td>\n",
       "      <td>1</td>\n",
       "      <td>3</td>\n",
       "      <td>1989-01-30</td>\n",
       "      <td>1989-02-05</td>\n",
       "      <td>0</td>\n",
       "      <td>0</td>\n",
       "      <td>0</td>\n",
       "      <td>2</td>\n",
       "    </tr>\n",
       "    <tr>\n",
       "      <th>...</th>\n",
       "      <td>...</td>\n",
       "      <td>...</td>\n",
       "      <td>...</td>\n",
       "      <td>...</td>\n",
       "      <td>...</td>\n",
       "      <td>...</td>\n",
       "      <td>...</td>\n",
       "      <td>...</td>\n",
       "      <td>...</td>\n",
       "      <td>...</td>\n",
       "      <td>...</td>\n",
       "      <td>...</td>\n",
       "      <td>...</td>\n",
       "      <td>...</td>\n",
       "      <td>...</td>\n",
       "      <td>...</td>\n",
       "      <td>...</td>\n",
       "      <td>...</td>\n",
       "      <td>...</td>\n",
       "      <td>...</td>\n",
       "      <td>...</td>\n",
       "    </tr>\n",
       "    <tr>\n",
       "      <th>326022</th>\n",
       "      <td>2019</td>\n",
       "      <td>0</td>\n",
       "      <td>3</td>\n",
       "      <td>476</td>\n",
       "      <td>Government of Zimbabwe (Rhodesia) - Civilians</td>\n",
       "      <td>943</td>\n",
       "      <td>Government of Zimbabwe (Rhodesia) - Civilians</td>\n",
       "      <td>101</td>\n",
       "      <td>Government of Zimbabwe (Rhodesia)</td>\n",
       "      <td>1</td>\n",
       "      <td>...</td>\n",
       "      <td>552</td>\n",
       "      <td>Africa</td>\n",
       "      <td>1</td>\n",
       "      <td>1</td>\n",
       "      <td>2019-10-12</td>\n",
       "      <td>2019-10-12</td>\n",
       "      <td>0</td>\n",
       "      <td>0</td>\n",
       "      <td>1</td>\n",
       "      <td>0</td>\n",
       "    </tr>\n",
       "    <tr>\n",
       "      <th>325975</th>\n",
       "      <td>2019</td>\n",
       "      <td>0</td>\n",
       "      <td>3</td>\n",
       "      <td>476</td>\n",
       "      <td>Government of Zimbabwe (Rhodesia) - Civilians</td>\n",
       "      <td>943</td>\n",
       "      <td>Government of Zimbabwe (Rhodesia) - Civilians</td>\n",
       "      <td>101</td>\n",
       "      <td>Government of Zimbabwe (Rhodesia)</td>\n",
       "      <td>1</td>\n",
       "      <td>...</td>\n",
       "      <td>552</td>\n",
       "      <td>Africa</td>\n",
       "      <td>1</td>\n",
       "      <td>1</td>\n",
       "      <td>2019-12-26</td>\n",
       "      <td>2019-12-26</td>\n",
       "      <td>0</td>\n",
       "      <td>0</td>\n",
       "      <td>2</td>\n",
       "      <td>0</td>\n",
       "    </tr>\n",
       "    <tr>\n",
       "      <th>15525</th>\n",
       "      <td>1989</td>\n",
       "      <td>1</td>\n",
       "      <td>3</td>\n",
       "      <td>562</td>\n",
       "      <td>Renamo - Civilians</td>\n",
       "      <td>1029</td>\n",
       "      <td>Renamo - Civilians</td>\n",
       "      <td>498</td>\n",
       "      <td>Renamo</td>\n",
       "      <td>1</td>\n",
       "      <td>...</td>\n",
       "      <td>552</td>\n",
       "      <td>Africa</td>\n",
       "      <td>1</td>\n",
       "      <td>3</td>\n",
       "      <td>1989-03-18</td>\n",
       "      <td>1989-03-24</td>\n",
       "      <td>0</td>\n",
       "      <td>0</td>\n",
       "      <td>9</td>\n",
       "      <td>0</td>\n",
       "    </tr>\n",
       "    <tr>\n",
       "      <th>15245</th>\n",
       "      <td>1990</td>\n",
       "      <td>1</td>\n",
       "      <td>3</td>\n",
       "      <td>562</td>\n",
       "      <td>Renamo - Civilians</td>\n",
       "      <td>1029</td>\n",
       "      <td>Renamo - Civilians</td>\n",
       "      <td>498</td>\n",
       "      <td>Renamo</td>\n",
       "      <td>1</td>\n",
       "      <td>...</td>\n",
       "      <td>552</td>\n",
       "      <td>Africa</td>\n",
       "      <td>2</td>\n",
       "      <td>2</td>\n",
       "      <td>1990-06-07</td>\n",
       "      <td>1990-06-10</td>\n",
       "      <td>0</td>\n",
       "      <td>0</td>\n",
       "      <td>7</td>\n",
       "      <td>0</td>\n",
       "    </tr>\n",
       "    <tr>\n",
       "      <th>15493</th>\n",
       "      <td>1990</td>\n",
       "      <td>1</td>\n",
       "      <td>3</td>\n",
       "      <td>562</td>\n",
       "      <td>Renamo - Civilians</td>\n",
       "      <td>1029</td>\n",
       "      <td>Renamo - Civilians</td>\n",
       "      <td>498</td>\n",
       "      <td>Renamo</td>\n",
       "      <td>1</td>\n",
       "      <td>...</td>\n",
       "      <td>552</td>\n",
       "      <td>Africa</td>\n",
       "      <td>1</td>\n",
       "      <td>1</td>\n",
       "      <td>1990-11-25</td>\n",
       "      <td>1990-11-25</td>\n",
       "      <td>0</td>\n",
       "      <td>0</td>\n",
       "      <td>6</td>\n",
       "      <td>0</td>\n",
       "    </tr>\n",
       "  </tbody>\n",
       "</table>\n",
       "<p>211879 rows × 29 columns</p>\n",
       "</div>"
      ],
      "text/plain": [
       "        year  active_year  type_of_violence  conflict_new_id  \\\n",
       "id                                                             \n",
       "244657  2017            1                 1              259   \n",
       "132140  1989            1                 1              333   \n",
       "130364  1989            1                 1              333   \n",
       "130359  1989            1                 1              333   \n",
       "133883  1989            1                 1              333   \n",
       "...      ...          ...               ...              ...   \n",
       "326022  2019            0                 3              476   \n",
       "325975  2019            0                 3              476   \n",
       "15525   1989            1                 3              562   \n",
       "15245   1990            1                 3              562   \n",
       "15493   1990            1                 3              562   \n",
       "\n",
       "                                        conflict_name  dyad_new_id  \\\n",
       "id                                                                   \n",
       "244657                               Iraq: Government          524   \n",
       "132140                        Afghanistan: Government          724   \n",
       "130364                        Afghanistan: Government          724   \n",
       "130359                        Afghanistan: Government          724   \n",
       "133883                        Afghanistan: Government          724   \n",
       "...                                               ...          ...   \n",
       "326022  Government of Zimbabwe (Rhodesia) - Civilians          943   \n",
       "325975  Government of Zimbabwe (Rhodesia) - Civilians          943   \n",
       "15525                              Renamo - Civilians         1029   \n",
       "15245                              Renamo - Civilians         1029   \n",
       "15493                              Renamo - Civilians         1029   \n",
       "\n",
       "                                                dyad_name  side_a_new_id  \\\n",
       "id                                                                         \n",
       "244657                            Government of Iraq - IS            116   \n",
       "132140  Government of Afghanistan - Jam'iyyat-i Islami...            130   \n",
       "130364  Government of Afghanistan - Jam'iyyat-i Islami...            130   \n",
       "130359  Government of Afghanistan - Jam'iyyat-i Islami...            130   \n",
       "133883  Government of Afghanistan - Jam'iyyat-i Islami...            130   \n",
       "...                                                   ...            ...   \n",
       "326022      Government of Zimbabwe (Rhodesia) - Civilians            101   \n",
       "325975      Government of Zimbabwe (Rhodesia) - Civilians            101   \n",
       "15525                                  Renamo - Civilians            498   \n",
       "15245                                  Renamo - Civilians            498   \n",
       "15493                                  Renamo - Civilians            498   \n",
       "\n",
       "                                   side_a  side_b_new_id  ... country_id  \\\n",
       "id                                                        ...              \n",
       "244657                 Government of Iraq            234  ...        700   \n",
       "132140          Government of Afghanistan            292  ...        700   \n",
       "130364          Government of Afghanistan            292  ...        700   \n",
       "130359          Government of Afghanistan            292  ...        700   \n",
       "133883          Government of Afghanistan            292  ...        700   \n",
       "...                                   ...            ...  ...        ...   \n",
       "326022  Government of Zimbabwe (Rhodesia)              1  ...        552   \n",
       "325975  Government of Zimbabwe (Rhodesia)              1  ...        552   \n",
       "15525                              Renamo              1  ...        552   \n",
       "15245                              Renamo              1  ...        552   \n",
       "15493                              Renamo              1  ...        552   \n",
       "\n",
       "        region event_clarity date_prec date_start   date_end  deaths_a  \\\n",
       "id                                                                       \n",
       "244657    Asia             1         1 2017-07-31 2017-07-31         0   \n",
       "132140    Asia             1         3 1989-01-07 1989-01-13         6   \n",
       "130364    Asia             2         2 1989-01-15 1989-01-18         0   \n",
       "130359    Asia             1         2 1989-01-23 1989-01-24         0   \n",
       "133883    Asia             1         3 1989-01-30 1989-02-05         0   \n",
       "...        ...           ...       ...        ...        ...       ...   \n",
       "326022  Africa             1         1 2019-10-12 2019-10-12         0   \n",
       "325975  Africa             1         1 2019-12-26 2019-12-26         0   \n",
       "15525   Africa             1         3 1989-03-18 1989-03-24         0   \n",
       "15245   Africa             2         2 1990-06-07 1990-06-10         0   \n",
       "15493   Africa             1         1 1990-11-25 1990-11-25         0   \n",
       "\n",
       "        deaths_b deaths_civilians  deaths_unknown  \n",
       "id                                                 \n",
       "244657         4                0               2  \n",
       "132140         0                0               0  \n",
       "130364         0                0               4  \n",
       "130359         0                0             600  \n",
       "133883         0                0               2  \n",
       "...          ...              ...             ...  \n",
       "326022         0                1               0  \n",
       "325975         0                2               0  \n",
       "15525          0                9               0  \n",
       "15245          0                7               0  \n",
       "15493          0                6               0  \n",
       "\n",
       "[211879 rows x 29 columns]"
      ]
     },
     "execution_count": 40,
     "metadata": {},
     "output_type": "execute_result"
    }
   ],
   "source": [
    "# verify id and datetime objects\n",
    "df_conflict"
   ]
  },
  {
   "cell_type": "markdown",
   "metadata": {},
   "source": [
    "## 3.5. Export Cleaned Dataframe to Local CSV"
   ]
  },
  {
   "cell_type": "code",
   "execution_count": 41,
   "metadata": {},
   "outputs": [],
   "source": [
    "# df_conflict.to_csv('/Users/richard/Desktop/data/interim/df_conflict_clean_section3.csv',\n",
    "#                  index=False)"
   ]
  },
  {
   "cell_type": "markdown",
   "metadata": {},
   "source": [
    "# 4. Spatial Joins"
   ]
  },
  {
   "cell_type": "markdown",
   "metadata": {},
   "source": [
    "Before moving on to a Profile Report of the GHCN dataset, it is important to note that the dataset is extremely large and may not all be relevant for our analysis. Based on visual exploration of the documentation it is already clear that a large amount of weather stations are located in geographical areas *other* than the ones in which the conflict incidents registered by the UCDP took place. Because of this, we will now:\n",
    "- plot the two datasets in order to confirm this, then move on to \n",
    "- execute a spatial join to select weather stations that are within 50km of conflict incidents. \n",
    "\n",
    "The radius of 50km is selected because it allows us to maintain a sufficient level of spatial detail while also ensuring that areas with high conflict density but weather station sparsity are represented. The radius of 50km corresponds roughly to the intermediary between the 2nd and 3rd level of the *date_prec* variable included in the UCDP conflict data, and explained above in Section 3.1."
   ]
  },
  {
   "cell_type": "markdown",
   "metadata": {},
   "source": [
    "## 4.1 Plotting Climate & Conflict Data"
   ]
  },
  {
   "cell_type": "code",
   "execution_count": 42,
   "metadata": {},
   "outputs": [],
   "source": [
    "# create geodataframe of conflict data\n",
    "crs_conflict = {'init': 'epsg:4326'}\n",
    "geometry_conflict = [Point(xy) for xy in zip(df_conflict['longitude'], df_conflict['latitude'])]\n",
    "gdf_conflict = gpd.GeoDataFrame(df_conflict, crs=crs_conflict, geometry=geometry_conflict)"
   ]
  },
  {
   "cell_type": "code",
   "execution_count": 43,
   "metadata": {},
   "outputs": [
    {
     "data": {
      "text/html": [
       "<div>\n",
       "<style scoped>\n",
       "    .dataframe tbody tr th:only-of-type {\n",
       "        vertical-align: middle;\n",
       "    }\n",
       "\n",
       "    .dataframe tbody tr th {\n",
       "        vertical-align: top;\n",
       "    }\n",
       "\n",
       "    .dataframe thead th {\n",
       "        text-align: right;\n",
       "    }\n",
       "</style>\n",
       "<table border=\"1\" class=\"dataframe\">\n",
       "  <thead>\n",
       "    <tr style=\"text-align: right;\">\n",
       "      <th></th>\n",
       "      <th>year</th>\n",
       "      <th>active_year</th>\n",
       "      <th>type_of_violence</th>\n",
       "      <th>conflict_new_id</th>\n",
       "      <th>conflict_name</th>\n",
       "      <th>dyad_new_id</th>\n",
       "      <th>dyad_name</th>\n",
       "      <th>side_a_new_id</th>\n",
       "      <th>side_a</th>\n",
       "      <th>side_b_new_id</th>\n",
       "      <th>...</th>\n",
       "      <th>region</th>\n",
       "      <th>event_clarity</th>\n",
       "      <th>date_prec</th>\n",
       "      <th>date_start</th>\n",
       "      <th>date_end</th>\n",
       "      <th>deaths_a</th>\n",
       "      <th>deaths_b</th>\n",
       "      <th>deaths_civilians</th>\n",
       "      <th>deaths_unknown</th>\n",
       "      <th>geometry</th>\n",
       "    </tr>\n",
       "    <tr>\n",
       "      <th>id</th>\n",
       "      <th></th>\n",
       "      <th></th>\n",
       "      <th></th>\n",
       "      <th></th>\n",
       "      <th></th>\n",
       "      <th></th>\n",
       "      <th></th>\n",
       "      <th></th>\n",
       "      <th></th>\n",
       "      <th></th>\n",
       "      <th></th>\n",
       "      <th></th>\n",
       "      <th></th>\n",
       "      <th></th>\n",
       "      <th></th>\n",
       "      <th></th>\n",
       "      <th></th>\n",
       "      <th></th>\n",
       "      <th></th>\n",
       "      <th></th>\n",
       "      <th></th>\n",
       "    </tr>\n",
       "  </thead>\n",
       "  <tbody>\n",
       "    <tr>\n",
       "      <th>244657</th>\n",
       "      <td>2017</td>\n",
       "      <td>1</td>\n",
       "      <td>1</td>\n",
       "      <td>259</td>\n",
       "      <td>Iraq: Government</td>\n",
       "      <td>524</td>\n",
       "      <td>Government of Iraq - IS</td>\n",
       "      <td>116</td>\n",
       "      <td>Government of Iraq</td>\n",
       "      <td>234</td>\n",
       "      <td>...</td>\n",
       "      <td>Asia</td>\n",
       "      <td>1</td>\n",
       "      <td>1</td>\n",
       "      <td>2017-07-31</td>\n",
       "      <td>2017-07-31</td>\n",
       "      <td>0</td>\n",
       "      <td>4</td>\n",
       "      <td>0</td>\n",
       "      <td>2</td>\n",
       "      <td>POINT (69.16280 34.53109)</td>\n",
       "    </tr>\n",
       "    <tr>\n",
       "      <th>132140</th>\n",
       "      <td>1989</td>\n",
       "      <td>1</td>\n",
       "      <td>1</td>\n",
       "      <td>333</td>\n",
       "      <td>Afghanistan: Government</td>\n",
       "      <td>724</td>\n",
       "      <td>Government of Afghanistan - Jam'iyyat-i Islami...</td>\n",
       "      <td>130</td>\n",
       "      <td>Government of Afghanistan</td>\n",
       "      <td>292</td>\n",
       "      <td>...</td>\n",
       "      <td>Asia</td>\n",
       "      <td>1</td>\n",
       "      <td>3</td>\n",
       "      <td>1989-01-07</td>\n",
       "      <td>1989-01-13</td>\n",
       "      <td>6</td>\n",
       "      <td>0</td>\n",
       "      <td>0</td>\n",
       "      <td>0</td>\n",
       "      <td>POINT (70.41667 34.33333)</td>\n",
       "    </tr>\n",
       "    <tr>\n",
       "      <th>130364</th>\n",
       "      <td>1989</td>\n",
       "      <td>1</td>\n",
       "      <td>1</td>\n",
       "      <td>333</td>\n",
       "      <td>Afghanistan: Government</td>\n",
       "      <td>724</td>\n",
       "      <td>Government of Afghanistan - Jam'iyyat-i Islami...</td>\n",
       "      <td>130</td>\n",
       "      <td>Government of Afghanistan</td>\n",
       "      <td>292</td>\n",
       "      <td>...</td>\n",
       "      <td>Asia</td>\n",
       "      <td>2</td>\n",
       "      <td>2</td>\n",
       "      <td>1989-01-15</td>\n",
       "      <td>1989-01-18</td>\n",
       "      <td>0</td>\n",
       "      <td>0</td>\n",
       "      <td>0</td>\n",
       "      <td>4</td>\n",
       "      <td>POINT (68.75000 36.75000)</td>\n",
       "    </tr>\n",
       "    <tr>\n",
       "      <th>130359</th>\n",
       "      <td>1989</td>\n",
       "      <td>1</td>\n",
       "      <td>1</td>\n",
       "      <td>333</td>\n",
       "      <td>Afghanistan: Government</td>\n",
       "      <td>724</td>\n",
       "      <td>Government of Afghanistan - Jam'iyyat-i Islami...</td>\n",
       "      <td>130</td>\n",
       "      <td>Government of Afghanistan</td>\n",
       "      <td>292</td>\n",
       "      <td>...</td>\n",
       "      <td>Asia</td>\n",
       "      <td>1</td>\n",
       "      <td>2</td>\n",
       "      <td>1989-01-23</td>\n",
       "      <td>1989-01-24</td>\n",
       "      <td>0</td>\n",
       "      <td>0</td>\n",
       "      <td>0</td>\n",
       "      <td>600</td>\n",
       "      <td>POINT (69.03889 35.31583)</td>\n",
       "    </tr>\n",
       "    <tr>\n",
       "      <th>133883</th>\n",
       "      <td>1989</td>\n",
       "      <td>1</td>\n",
       "      <td>1</td>\n",
       "      <td>333</td>\n",
       "      <td>Afghanistan: Government</td>\n",
       "      <td>724</td>\n",
       "      <td>Government of Afghanistan - Jam'iyyat-i Islami...</td>\n",
       "      <td>130</td>\n",
       "      <td>Government of Afghanistan</td>\n",
       "      <td>292</td>\n",
       "      <td>...</td>\n",
       "      <td>Asia</td>\n",
       "      <td>1</td>\n",
       "      <td>3</td>\n",
       "      <td>1989-01-30</td>\n",
       "      <td>1989-02-05</td>\n",
       "      <td>0</td>\n",
       "      <td>0</td>\n",
       "      <td>0</td>\n",
       "      <td>2</td>\n",
       "      <td>POINT (69.16280 34.53109)</td>\n",
       "    </tr>\n",
       "  </tbody>\n",
       "</table>\n",
       "<p>5 rows × 30 columns</p>\n",
       "</div>"
      ],
      "text/plain": [
       "        year  active_year  type_of_violence  conflict_new_id  \\\n",
       "id                                                             \n",
       "244657  2017            1                 1              259   \n",
       "132140  1989            1                 1              333   \n",
       "130364  1989            1                 1              333   \n",
       "130359  1989            1                 1              333   \n",
       "133883  1989            1                 1              333   \n",
       "\n",
       "                  conflict_name  dyad_new_id  \\\n",
       "id                                             \n",
       "244657         Iraq: Government          524   \n",
       "132140  Afghanistan: Government          724   \n",
       "130364  Afghanistan: Government          724   \n",
       "130359  Afghanistan: Government          724   \n",
       "133883  Afghanistan: Government          724   \n",
       "\n",
       "                                                dyad_name  side_a_new_id  \\\n",
       "id                                                                         \n",
       "244657                            Government of Iraq - IS            116   \n",
       "132140  Government of Afghanistan - Jam'iyyat-i Islami...            130   \n",
       "130364  Government of Afghanistan - Jam'iyyat-i Islami...            130   \n",
       "130359  Government of Afghanistan - Jam'iyyat-i Islami...            130   \n",
       "133883  Government of Afghanistan - Jam'iyyat-i Islami...            130   \n",
       "\n",
       "                           side_a  side_b_new_id  ... region  event_clarity  \\\n",
       "id                                                ...                         \n",
       "244657         Government of Iraq            234  ...   Asia              1   \n",
       "132140  Government of Afghanistan            292  ...   Asia              1   \n",
       "130364  Government of Afghanistan            292  ...   Asia              2   \n",
       "130359  Government of Afghanistan            292  ...   Asia              1   \n",
       "133883  Government of Afghanistan            292  ...   Asia              1   \n",
       "\n",
       "       date_prec date_start   date_end deaths_a  deaths_b  deaths_civilians  \\\n",
       "id                                                                            \n",
       "244657         1 2017-07-31 2017-07-31        0         4                 0   \n",
       "132140         3 1989-01-07 1989-01-13        6         0                 0   \n",
       "130364         2 1989-01-15 1989-01-18        0         0                 0   \n",
       "130359         2 1989-01-23 1989-01-24        0         0                 0   \n",
       "133883         3 1989-01-30 1989-02-05        0         0                 0   \n",
       "\n",
       "       deaths_unknown                   geometry  \n",
       "id                                                \n",
       "244657              2  POINT (69.16280 34.53109)  \n",
       "132140              0  POINT (70.41667 34.33333)  \n",
       "130364              4  POINT (68.75000 36.75000)  \n",
       "130359            600  POINT (69.03889 35.31583)  \n",
       "133883              2  POINT (69.16280 34.53109)  \n",
       "\n",
       "[5 rows x 30 columns]"
      ]
     },
     "execution_count": 43,
     "metadata": {},
     "output_type": "execute_result"
    }
   ],
   "source": [
    "gdf_conflict.head()"
   ]
  },
  {
   "cell_type": "code",
   "execution_count": 45,
   "metadata": {},
   "outputs": [
    {
     "data": {
      "image/png": "[encoded data removed]",
      "text/plain": [
       "<Figure size 1440x1080 with 1 Axes>"
      ]
     },
     "metadata": {
      "needs_background": "light"
     },
     "output_type": "display_data"
    }
   ],
   "source": [
    "# plot the two geodataframes: station locations and conflict incidents\n",
    "fig, ax = plt.subplots(figsize=(20,15))\n",
    "gdf_stations.plot(ax=ax, alpha=0.8, markersize=0.2, label='Weather Stations')\n",
    "gdf_conflict.plot(ax=ax, alpha=0.8, markersize=0.2, label='Conflict Incidents')\n",
    "plt.title('All Conflict and Climate Data', fontsize=15)\n",
    "plt.legend(loc=1, fontsize='large', markerscale=15)\n",
    "\n",
    "#plt.savefig('/Users/richard/Desktop/springboard_repo/capstones/capstone-two/reports/figures/Globe_allconflicts_allstations.png');"
   ]
  },
  {
   "cell_type": "markdown",
   "metadata": {},
   "source": [
    "#### Notes\n",
    "- As expected, the conflicts are mostly *not located* in the areas with the most dense climate measure coverage."
   ]
  },
  {
   "cell_type": "markdown",
   "metadata": {},
   "source": [
    "NOTE:\n",
    "Always plot this subset of the original stations GDF rather than the whole spatial join because single weather stations are plotted multiple times in the spatial join. This plot is cleaner because there are no repetitions of station IDs."
   ]
  },
  {
   "cell_type": "markdown",
   "metadata": {},
   "source": [
    "## 4.2 Spatial Join with 50KM Buffer\n",
    "\n",
    "We will now proceed to execute a spatial join of the two datasets (stations and conflict incidents) to yield:\n",
    "> **a geodataframe with all weather stations located within 50km of any conflict incident**\n",
    "\n",
    "This will allow us to significantly reduce the size of our GHCN climate dataset and omit the areas that are not relevant to our analysis (i.e. areas without conflict incidents)."
   ]
  },
  {
   "cell_type": "code",
   "execution_count": 89,
   "metadata": {},
   "outputs": [],
   "source": [
    "# convert both geodataframes to CRS EPSG3857 = meters (instead of degrees)\n",
    "gdf_conflict_mtr = gdf_conflict.to_crs(epsg = 3857)\n",
    "gdf_stations_mtr = gdf_stations.to_crs(epsg = 3857)"
   ]
  },
  {
   "cell_type": "code",
   "execution_count": 90,
   "metadata": {},
   "outputs": [],
   "source": [
    "# create buffered gdf at 50k\n",
    "gdf_conflict_buffered50k = gdf_conflict_mtr.copy()\n",
    "gdf_conflict_buffered50k.geometry = gdf_conflict_mtr.buffer(50000)"
   ]
  },
  {
   "cell_type": "code",
   "execution_count": 91,
   "metadata": {},
   "outputs": [
    {
     "data": {
      "text/html": [
       "<div>\n",
       "<style scoped>\n",
       "    .dataframe tbody tr th:only-of-type {\n",
       "        vertical-align: middle;\n",
       "    }\n",
       "\n",
       "    .dataframe tbody tr th {\n",
       "        vertical-align: top;\n",
       "    }\n",
       "\n",
       "    .dataframe thead th {\n",
       "        text-align: right;\n",
       "    }\n",
       "</style>\n",
       "<table border=\"1\" class=\"dataframe\">\n",
       "  <thead>\n",
       "    <tr style=\"text-align: right;\">\n",
       "      <th></th>\n",
       "      <th>year</th>\n",
       "      <th>active_year</th>\n",
       "      <th>type_of_violence</th>\n",
       "      <th>conflict_new_id</th>\n",
       "      <th>conflict_name</th>\n",
       "      <th>dyad_new_id</th>\n",
       "      <th>dyad_name</th>\n",
       "      <th>side_a_new_id</th>\n",
       "      <th>side_a</th>\n",
       "      <th>side_b_new_id</th>\n",
       "      <th>...</th>\n",
       "      <th>region</th>\n",
       "      <th>event_clarity</th>\n",
       "      <th>date_prec</th>\n",
       "      <th>date_start</th>\n",
       "      <th>date_end</th>\n",
       "      <th>deaths_a</th>\n",
       "      <th>deaths_b</th>\n",
       "      <th>deaths_civilians</th>\n",
       "      <th>deaths_unknown</th>\n",
       "      <th>geometry</th>\n",
       "    </tr>\n",
       "    <tr>\n",
       "      <th>id</th>\n",
       "      <th></th>\n",
       "      <th></th>\n",
       "      <th></th>\n",
       "      <th></th>\n",
       "      <th></th>\n",
       "      <th></th>\n",
       "      <th></th>\n",
       "      <th></th>\n",
       "      <th></th>\n",
       "      <th></th>\n",
       "      <th></th>\n",
       "      <th></th>\n",
       "      <th></th>\n",
       "      <th></th>\n",
       "      <th></th>\n",
       "      <th></th>\n",
       "      <th></th>\n",
       "      <th></th>\n",
       "      <th></th>\n",
       "      <th></th>\n",
       "      <th></th>\n",
       "    </tr>\n",
       "  </thead>\n",
       "  <tbody>\n",
       "    <tr>\n",
       "      <th>244657</th>\n",
       "      <td>2017</td>\n",
       "      <td>1</td>\n",
       "      <td>1</td>\n",
       "      <td>259</td>\n",
       "      <td>Iraq: Government</td>\n",
       "      <td>524</td>\n",
       "      <td>Government of Iraq - IS</td>\n",
       "      <td>116</td>\n",
       "      <td>Government of Iraq</td>\n",
       "      <td>234</td>\n",
       "      <td>...</td>\n",
       "      <td>Asia</td>\n",
       "      <td>1</td>\n",
       "      <td>1</td>\n",
       "      <td>2017-07-31</td>\n",
       "      <td>2017-07-31</td>\n",
       "      <td>0</td>\n",
       "      <td>4</td>\n",
       "      <td>0</td>\n",
       "      <td>2</td>\n",
       "      <td>POLYGON ((7749167.233 4100339.871, 7748926.469...</td>\n",
       "    </tr>\n",
       "    <tr>\n",
       "      <th>132140</th>\n",
       "      <td>1989</td>\n",
       "      <td>1</td>\n",
       "      <td>1</td>\n",
       "      <td>333</td>\n",
       "      <td>Afghanistan: Government</td>\n",
       "      <td>724</td>\n",
       "      <td>Government of Afghanistan - Jam'iyyat-i Islami...</td>\n",
       "      <td>130</td>\n",
       "      <td>Government of Afghanistan</td>\n",
       "      <td>292</td>\n",
       "      <td>...</td>\n",
       "      <td>Asia</td>\n",
       "      <td>1</td>\n",
       "      <td>3</td>\n",
       "      <td>1989-01-07</td>\n",
       "      <td>1989-01-13</td>\n",
       "      <td>6</td>\n",
       "      <td>0</td>\n",
       "      <td>0</td>\n",
       "      <td>0</td>\n",
       "      <td>POLYGON ((7888747.848 4073648.403, 7888507.084...</td>\n",
       "    </tr>\n",
       "    <tr>\n",
       "      <th>130364</th>\n",
       "      <td>1989</td>\n",
       "      <td>1</td>\n",
       "      <td>1</td>\n",
       "      <td>333</td>\n",
       "      <td>Afghanistan: Government</td>\n",
       "      <td>724</td>\n",
       "      <td>Government of Afghanistan - Jam'iyyat-i Islami...</td>\n",
       "      <td>130</td>\n",
       "      <td>Government of Afghanistan</td>\n",
       "      <td>292</td>\n",
       "      <td>...</td>\n",
       "      <td>Asia</td>\n",
       "      <td>2</td>\n",
       "      <td>2</td>\n",
       "      <td>1989-01-15</td>\n",
       "      <td>1989-01-18</td>\n",
       "      <td>0</td>\n",
       "      <td>0</td>\n",
       "      <td>0</td>\n",
       "      <td>4</td>\n",
       "      <td>POLYGON ((7703214.992 4404317.064, 7702974.228...</td>\n",
       "    </tr>\n",
       "    <tr>\n",
       "      <th>130359</th>\n",
       "      <td>1989</td>\n",
       "      <td>1</td>\n",
       "      <td>1</td>\n",
       "      <td>333</td>\n",
       "      <td>Afghanistan: Government</td>\n",
       "      <td>724</td>\n",
       "      <td>Government of Afghanistan - Jam'iyyat-i Islami...</td>\n",
       "      <td>130</td>\n",
       "      <td>Government of Afghanistan</td>\n",
       "      <td>292</td>\n",
       "      <td>...</td>\n",
       "      <td>Asia</td>\n",
       "      <td>1</td>\n",
       "      <td>2</td>\n",
       "      <td>1989-01-23</td>\n",
       "      <td>1989-01-24</td>\n",
       "      <td>0</td>\n",
       "      <td>0</td>\n",
       "      <td>0</td>\n",
       "      <td>600</td>\n",
       "      <td>POLYGON ((7735373.968 4206884.851, 7735133.205...</td>\n",
       "    </tr>\n",
       "    <tr>\n",
       "      <th>133883</th>\n",
       "      <td>1989</td>\n",
       "      <td>1</td>\n",
       "      <td>1</td>\n",
       "      <td>333</td>\n",
       "      <td>Afghanistan: Government</td>\n",
       "      <td>724</td>\n",
       "      <td>Government of Afghanistan - Jam'iyyat-i Islami...</td>\n",
       "      <td>130</td>\n",
       "      <td>Government of Afghanistan</td>\n",
       "      <td>292</td>\n",
       "      <td>...</td>\n",
       "      <td>Asia</td>\n",
       "      <td>1</td>\n",
       "      <td>3</td>\n",
       "      <td>1989-01-30</td>\n",
       "      <td>1989-02-05</td>\n",
       "      <td>0</td>\n",
       "      <td>0</td>\n",
       "      <td>0</td>\n",
       "      <td>2</td>\n",
       "      <td>POLYGON ((7749167.233 4100339.871, 7748926.469...</td>\n",
       "    </tr>\n",
       "  </tbody>\n",
       "</table>\n",
       "<p>5 rows × 30 columns</p>\n",
       "</div>"
      ],
      "text/plain": [
       "        year  active_year  type_of_violence  conflict_new_id  \\\n",
       "id                                                             \n",
       "244657  2017            1                 1              259   \n",
       "132140  1989            1                 1              333   \n",
       "130364  1989            1                 1              333   \n",
       "130359  1989            1                 1              333   \n",
       "133883  1989            1                 1              333   \n",
       "\n",
       "                  conflict_name  dyad_new_id  \\\n",
       "id                                             \n",
       "244657         Iraq: Government          524   \n",
       "132140  Afghanistan: Government          724   \n",
       "130364  Afghanistan: Government          724   \n",
       "130359  Afghanistan: Government          724   \n",
       "133883  Afghanistan: Government          724   \n",
       "\n",
       "                                                dyad_name  side_a_new_id  \\\n",
       "id                                                                         \n",
       "244657                            Government of Iraq - IS            116   \n",
       "132140  Government of Afghanistan - Jam'iyyat-i Islami...            130   \n",
       "130364  Government of Afghanistan - Jam'iyyat-i Islami...            130   \n",
       "130359  Government of Afghanistan - Jam'iyyat-i Islami...            130   \n",
       "133883  Government of Afghanistan - Jam'iyyat-i Islami...            130   \n",
       "\n",
       "                           side_a  side_b_new_id  ... region  event_clarity  \\\n",
       "id                                                ...                         \n",
       "244657         Government of Iraq            234  ...   Asia              1   \n",
       "132140  Government of Afghanistan            292  ...   Asia              1   \n",
       "130364  Government of Afghanistan            292  ...   Asia              2   \n",
       "130359  Government of Afghanistan            292  ...   Asia              1   \n",
       "133883  Government of Afghanistan            292  ...   Asia              1   \n",
       "\n",
       "       date_prec date_start   date_end deaths_a  deaths_b  deaths_civilians  \\\n",
       "id                                                                            \n",
       "244657         1 2017-07-31 2017-07-31        0         4                 0   \n",
       "132140         3 1989-01-07 1989-01-13        6         0                 0   \n",
       "130364         2 1989-01-15 1989-01-18        0         0                 0   \n",
       "130359         2 1989-01-23 1989-01-24        0         0                 0   \n",
       "133883         3 1989-01-30 1989-02-05        0         0                 0   \n",
       "\n",
       "       deaths_unknown                                           geometry  \n",
       "id                                                                        \n",
       "244657              2  POLYGON ((7749167.233 4100339.871, 7748926.469...  \n",
       "132140              0  POLYGON ((7888747.848 4073648.403, 7888507.084...  \n",
       "130364              4  POLYGON ((7703214.992 4404317.064, 7702974.228...  \n",
       "130359            600  POLYGON ((7735373.968 4206884.851, 7735133.205...  \n",
       "133883              2  POLYGON ((7749167.233 4100339.871, 7748926.469...  \n",
       "\n",
       "[5 rows x 30 columns]"
      ]
     },
     "execution_count": 91,
     "metadata": {},
     "output_type": "execute_result"
    }
   ],
   "source": [
    "# inspect buffered dataframe\n",
    "gdf_conflict_buffered50k.head()"
   ]
  },
  {
   "cell_type": "code",
   "execution_count": 92,
   "metadata": {},
   "outputs": [],
   "source": [
    "# execute inner spatial join of gdf_stations to buffered gdf_conflict\n",
    "gdf_sjoin50k = gpd.sjoin(gdf_stations_mtr, gdf_conflict_buffered50k, how='inner', op='within')"
   ]
  },
  {
   "cell_type": "markdown",
   "metadata": {},
   "source": [
    "### 4.2.1. Inspecting Spatial Join Dataframe"
   ]
  },
  {
   "cell_type": "code",
   "execution_count": 93,
   "metadata": {},
   "outputs": [
    {
     "data": {
      "text/html": [
       "<div>\n",
       "<style scoped>\n",
       "    .dataframe tbody tr th:only-of-type {\n",
       "        vertical-align: middle;\n",
       "    }\n",
       "\n",
       "    .dataframe tbody tr th {\n",
       "        vertical-align: top;\n",
       "    }\n",
       "\n",
       "    .dataframe thead th {\n",
       "        text-align: right;\n",
       "    }\n",
       "</style>\n",
       "<table border=\"1\" class=\"dataframe\">\n",
       "  <thead>\n",
       "    <tr style=\"text-align: right;\">\n",
       "      <th></th>\n",
       "      <th>LATITUDE</th>\n",
       "      <th>LONGITUDE</th>\n",
       "      <th>ELEVATION</th>\n",
       "      <th>STATE</th>\n",
       "      <th>NAME</th>\n",
       "      <th>GSN FLAG</th>\n",
       "      <th>HCN/CRN FLAG</th>\n",
       "      <th>WMO ID</th>\n",
       "      <th>geometry</th>\n",
       "      <th>index_right</th>\n",
       "      <th>...</th>\n",
       "      <th>country_id</th>\n",
       "      <th>region</th>\n",
       "      <th>event_clarity</th>\n",
       "      <th>date_prec</th>\n",
       "      <th>date_start</th>\n",
       "      <th>date_end</th>\n",
       "      <th>deaths_a</th>\n",
       "      <th>deaths_b</th>\n",
       "      <th>deaths_civilians</th>\n",
       "      <th>deaths_unknown</th>\n",
       "    </tr>\n",
       "  </thead>\n",
       "  <tbody>\n",
       "    <tr>\n",
       "      <th>AE000041196</th>\n",
       "      <td>25.333</td>\n",
       "      <td>55.517</td>\n",
       "      <td>34.0</td>\n",
       "      <td>NaN</td>\n",
       "      <td>SHARJAH INTER. AIRP</td>\n",
       "      <td>GSN</td>\n",
       "      <td>NaN</td>\n",
       "      <td>41196</td>\n",
       "      <td>POINT (6180124.170 2916701.927)</td>\n",
       "      <td>179967</td>\n",
       "      <td>...</td>\n",
       "      <td>696</td>\n",
       "      <td>Middle East</td>\n",
       "      <td>1</td>\n",
       "      <td>1</td>\n",
       "      <td>2010-01-20</td>\n",
       "      <td>2010-01-20</td>\n",
       "      <td>0</td>\n",
       "      <td>1</td>\n",
       "      <td>0</td>\n",
       "      <td>0</td>\n",
       "    </tr>\n",
       "    <tr>\n",
       "      <th>AEM00041194</th>\n",
       "      <td>25.255</td>\n",
       "      <td>55.364</td>\n",
       "      <td>10.4</td>\n",
       "      <td>NaN</td>\n",
       "      <td>DUBAI INTL</td>\n",
       "      <td>NaN</td>\n",
       "      <td>NaN</td>\n",
       "      <td>41194</td>\n",
       "      <td>POINT (6163092.288 2907098.278)</td>\n",
       "      <td>179967</td>\n",
       "      <td>...</td>\n",
       "      <td>696</td>\n",
       "      <td>Middle East</td>\n",
       "      <td>1</td>\n",
       "      <td>1</td>\n",
       "      <td>2010-01-20</td>\n",
       "      <td>2010-01-20</td>\n",
       "      <td>0</td>\n",
       "      <td>1</td>\n",
       "      <td>0</td>\n",
       "      <td>0</td>\n",
       "    </tr>\n",
       "    <tr>\n",
       "      <th>AF000040930</th>\n",
       "      <td>35.317</td>\n",
       "      <td>69.017</td>\n",
       "      <td>3366.0</td>\n",
       "      <td>NaN</td>\n",
       "      <td>NORTH-SALANG</td>\n",
       "      <td>GSN</td>\n",
       "      <td>NaN</td>\n",
       "      <td>40930</td>\n",
       "      <td>POINT (7682937.296 4207044.060)</td>\n",
       "      <td>146737</td>\n",
       "      <td>...</td>\n",
       "      <td>700</td>\n",
       "      <td>Asia</td>\n",
       "      <td>1</td>\n",
       "      <td>1</td>\n",
       "      <td>2001-05-17</td>\n",
       "      <td>2001-05-17</td>\n",
       "      <td>0</td>\n",
       "      <td>0</td>\n",
       "      <td>4</td>\n",
       "      <td>0</td>\n",
       "    </tr>\n",
       "    <tr>\n",
       "      <th>AF000040930</th>\n",
       "      <td>35.317</td>\n",
       "      <td>69.017</td>\n",
       "      <td>3366.0</td>\n",
       "      <td>NaN</td>\n",
       "      <td>NORTH-SALANG</td>\n",
       "      <td>GSN</td>\n",
       "      <td>NaN</td>\n",
       "      <td>40930</td>\n",
       "      <td>POINT (7682937.296 4207044.060)</td>\n",
       "      <td>134532</td>\n",
       "      <td>...</td>\n",
       "      <td>700</td>\n",
       "      <td>Asia</td>\n",
       "      <td>1</td>\n",
       "      <td>2</td>\n",
       "      <td>1997-04-02</td>\n",
       "      <td>1997-04-04</td>\n",
       "      <td>0</td>\n",
       "      <td>0</td>\n",
       "      <td>0</td>\n",
       "      <td>0</td>\n",
       "    </tr>\n",
       "    <tr>\n",
       "      <th>AF000040930</th>\n",
       "      <td>35.317</td>\n",
       "      <td>69.017</td>\n",
       "      <td>3366.0</td>\n",
       "      <td>NaN</td>\n",
       "      <td>NORTH-SALANG</td>\n",
       "      <td>GSN</td>\n",
       "      <td>NaN</td>\n",
       "      <td>40930</td>\n",
       "      <td>POINT (7682937.296 4207044.060)</td>\n",
       "      <td>134751</td>\n",
       "      <td>...</td>\n",
       "      <td>700</td>\n",
       "      <td>Asia</td>\n",
       "      <td>1</td>\n",
       "      <td>1</td>\n",
       "      <td>1998-03-27</td>\n",
       "      <td>1998-03-27</td>\n",
       "      <td>0</td>\n",
       "      <td>0</td>\n",
       "      <td>3</td>\n",
       "      <td>0</td>\n",
       "    </tr>\n",
       "  </tbody>\n",
       "</table>\n",
       "<p>5 rows × 39 columns</p>\n",
       "</div>"
      ],
      "text/plain": [
       "             LATITUDE  LONGITUDE  ELEVATION STATE                 NAME  \\\n",
       "AE000041196    25.333     55.517       34.0   NaN  SHARJAH INTER. AIRP   \n",
       "AEM00041194    25.255     55.364       10.4   NaN           DUBAI INTL   \n",
       "AF000040930    35.317     69.017     3366.0   NaN         NORTH-SALANG   \n",
       "AF000040930    35.317     69.017     3366.0   NaN         NORTH-SALANG   \n",
       "AF000040930    35.317     69.017     3366.0   NaN         NORTH-SALANG   \n",
       "\n",
       "            GSN FLAG HCN/CRN FLAG WMO ID                         geometry  \\\n",
       "AE000041196      GSN          NaN  41196  POINT (6180124.170 2916701.927)   \n",
       "AEM00041194      NaN          NaN  41194  POINT (6163092.288 2907098.278)   \n",
       "AF000040930      GSN          NaN  40930  POINT (7682937.296 4207044.060)   \n",
       "AF000040930      GSN          NaN  40930  POINT (7682937.296 4207044.060)   \n",
       "AF000040930      GSN          NaN  40930  POINT (7682937.296 4207044.060)   \n",
       "\n",
       "             index_right  ...  country_id       region  event_clarity  \\\n",
       "AE000041196       179967  ...         696  Middle East              1   \n",
       "AEM00041194       179967  ...         696  Middle East              1   \n",
       "AF000040930       146737  ...         700         Asia              1   \n",
       "AF000040930       134532  ...         700         Asia              1   \n",
       "AF000040930       134751  ...         700         Asia              1   \n",
       "\n",
       "             date_prec date_start   date_end deaths_a  deaths_b  \\\n",
       "AE000041196          1 2010-01-20 2010-01-20        0         1   \n",
       "AEM00041194          1 2010-01-20 2010-01-20        0         1   \n",
       "AF000040930          1 2001-05-17 2001-05-17        0         0   \n",
       "AF000040930          2 1997-04-02 1997-04-04        0         0   \n",
       "AF000040930          1 1998-03-27 1998-03-27        0         0   \n",
       "\n",
       "            deaths_civilians  deaths_unknown  \n",
       "AE000041196                0               0  \n",
       "AEM00041194                0               0  \n",
       "AF000040930                4               0  \n",
       "AF000040930                0               0  \n",
       "AF000040930                3               0  \n",
       "\n",
       "[5 rows x 39 columns]"
      ]
     },
     "execution_count": 93,
     "metadata": {},
     "output_type": "execute_result"
    }
   ],
   "source": [
    "gdf_sjoin50k.head()"
   ]
  },
  {
   "cell_type": "code",
   "execution_count": 94,
   "metadata": {},
   "outputs": [
    {
     "data": {
      "text/plain": [
       "Index(['LATITUDE', 'LONGITUDE', 'ELEVATION', 'STATE', 'NAME', 'GSN FLAG',\n",
       "       'HCN/CRN FLAG', 'WMO ID', 'geometry', 'index_right', 'year',\n",
       "       'active_year', 'type_of_violence', 'conflict_new_id', 'conflict_name',\n",
       "       'dyad_new_id', 'dyad_name', 'side_a_new_id', 'side_a', 'side_b_new_id',\n",
       "       'side_b', 'where_prec', 'where_coordinates', 'where_description',\n",
       "       'adm_1', 'adm_2', 'latitude', 'longitude', 'country', 'country_id',\n",
       "       'region', 'event_clarity', 'date_prec', 'date_start', 'date_end',\n",
       "       'deaths_a', 'deaths_b', 'deaths_civilians', 'deaths_unknown'],\n",
       "      dtype='object')"
      ]
     },
     "execution_count": 94,
     "metadata": {},
     "output_type": "execute_result"
    }
   ],
   "source": [
    "gdf_sjoin50k.columns"
   ]
  },
  {
   "cell_type": "code",
   "execution_count": 95,
   "metadata": {},
   "outputs": [
    {
     "data": {
      "text/plain": [
       "(455461, 39)"
      ]
     },
     "execution_count": 95,
     "metadata": {},
     "output_type": "execute_result"
    }
   ],
   "source": [
    "gdf_sjoin50k.shape"
   ]
  },
  {
   "cell_type": "markdown",
   "metadata": {},
   "source": [
    "This dataframe now contains:\n",
    "- 455461 observations, \n",
    "- the features of both the stations and the conflict incidents, and\n",
    "- the geometry points of the weather stations\n",
    "\n",
    "These are the stations that are located within 50km of any conflict incident and as such **exclude** the weather stations that are not located in areas of conflict.\n",
    "\n",
    "An important observation: the number of weather stations has almost tripled by executing this spatial join. This is because a single weather station can be in the 50km radius of more than 1 conflict incident. We will have to account for these duplicates later on in our analysis."
   ]
  },
  {
   "cell_type": "code",
   "execution_count": 96,
   "metadata": {},
   "outputs": [
    {
     "data": {
      "image/png": "[encoded data removed]",
      "text/plain": [
       "<Figure size 1440x1080 with 1 Axes>"
      ]
     },
     "metadata": {
      "needs_background": "light"
     },
     "output_type": "display_data"
    }
   ],
   "source": [
    "# plot the spatially-joined weather stations\n",
    "fig, ax = plt.subplots(figsize=(20,15))\n",
    "gdf_sjoin50k.plot(ax=ax, alpha=0.2, markersize=0.2, color = 'm', label='Spatial Joined Weather Stations')\n",
    "plt.legend(markerscale=10);"
   ]
  },
  {
   "cell_type": "markdown",
   "metadata": {},
   "source": [
    "### 4.2.2. Removing superfluous information\n",
    "This spatially joined dataset now includes all the stations that are found within 50km of all conflict incidents. However, the dataset currently contains a lot of superfluous data. Because many stations will fall within the range of multiple conflict incidents, this dataset contains a large number of repeated observations. As such, it is of practical significance **to reduce the size of this dataframe and retain only what is absolutely necessary**. In this case: the specific details of the conflict incidents are found in the original conflict dataset and do not need to remain in this dataset. \n",
    "\n",
    "What we want in this dataset is: \n",
    "- a multi-index of Conflict ID, then matched Station IDs; \n",
    "- the corresponding station name;\n",
    "- each station's latitude and longitude as a geopandas geometry point;"
   ]
  },
  {
   "cell_type": "code",
   "execution_count": 97,
   "metadata": {},
   "outputs": [],
   "source": [
    "# adjust spatial join gdf to retain only station IDs, station Names, station Point, and Conflict ID\n",
    "gdf_sjoin50k_clean = gdf_sjoin50k[['NAME', 'geometry', 'index_right']]\n",
    "gdf_sjoin50k_clean.reset_index(inplace=True)\n",
    "gdf_sjoin50k_clean = gdf_sjoin50k_clean.rename(columns={\"NAME\": \"station_name\", \n",
    "                             \"geometry\": \"geometry\",\n",
    "                             \"index_right\": \"conflict_ID\",\n",
    "                             \"index\": \"station_ID\"\n",
    "                            })"
   ]
  },
  {
   "cell_type": "code",
   "execution_count": 98,
   "metadata": {},
   "outputs": [
    {
     "data": {
      "text/html": [
       "<div>\n",
       "<style scoped>\n",
       "    .dataframe tbody tr th:only-of-type {\n",
       "        vertical-align: middle;\n",
       "    }\n",
       "\n",
       "    .dataframe tbody tr th {\n",
       "        vertical-align: top;\n",
       "    }\n",
       "\n",
       "    .dataframe thead th {\n",
       "        text-align: right;\n",
       "    }\n",
       "</style>\n",
       "<table border=\"1\" class=\"dataframe\">\n",
       "  <thead>\n",
       "    <tr style=\"text-align: right;\">\n",
       "      <th></th>\n",
       "      <th>station_ID</th>\n",
       "      <th>station_name</th>\n",
       "      <th>geometry</th>\n",
       "      <th>conflict_ID</th>\n",
       "    </tr>\n",
       "  </thead>\n",
       "  <tbody>\n",
       "    <tr>\n",
       "      <th>0</th>\n",
       "      <td>AE000041196</td>\n",
       "      <td>SHARJAH INTER. AIRP</td>\n",
       "      <td>POINT (6180124.170 2916701.927)</td>\n",
       "      <td>179967</td>\n",
       "    </tr>\n",
       "    <tr>\n",
       "      <th>1</th>\n",
       "      <td>AEM00041194</td>\n",
       "      <td>DUBAI INTL</td>\n",
       "      <td>POINT (6163092.288 2907098.278)</td>\n",
       "      <td>179967</td>\n",
       "    </tr>\n",
       "    <tr>\n",
       "      <th>2</th>\n",
       "      <td>AF000040930</td>\n",
       "      <td>NORTH-SALANG</td>\n",
       "      <td>POINT (7682937.296 4207044.060)</td>\n",
       "      <td>146737</td>\n",
       "    </tr>\n",
       "    <tr>\n",
       "      <th>3</th>\n",
       "      <td>AF000040930</td>\n",
       "      <td>NORTH-SALANG</td>\n",
       "      <td>POINT (7682937.296 4207044.060)</td>\n",
       "      <td>134532</td>\n",
       "    </tr>\n",
       "    <tr>\n",
       "      <th>4</th>\n",
       "      <td>AF000040930</td>\n",
       "      <td>NORTH-SALANG</td>\n",
       "      <td>POINT (7682937.296 4207044.060)</td>\n",
       "      <td>134751</td>\n",
       "    </tr>\n",
       "  </tbody>\n",
       "</table>\n",
       "</div>"
      ],
      "text/plain": [
       "    station_ID         station_name                         geometry  \\\n",
       "0  AE000041196  SHARJAH INTER. AIRP  POINT (6180124.170 2916701.927)   \n",
       "1  AEM00041194           DUBAI INTL  POINT (6163092.288 2907098.278)   \n",
       "2  AF000040930         NORTH-SALANG  POINT (7682937.296 4207044.060)   \n",
       "3  AF000040930         NORTH-SALANG  POINT (7682937.296 4207044.060)   \n",
       "4  AF000040930         NORTH-SALANG  POINT (7682937.296 4207044.060)   \n",
       "\n",
       "   conflict_ID  \n",
       "0       179967  \n",
       "1       179967  \n",
       "2       146737  \n",
       "3       134532  \n",
       "4       134751  "
      ]
     },
     "execution_count": 98,
     "metadata": {},
     "output_type": "execute_result"
    }
   ],
   "source": [
    "# inspect stripped dataframe\n",
    "gdf_sjoin50k_clean.head()"
   ]
  },
  {
   "cell_type": "code",
   "execution_count": 99,
   "metadata": {},
   "outputs": [],
   "source": [
    "# create a MultiIndex of 1: conflict_ID and 2: station_ID\n",
    "gdf_sjoin50k_clean.set_index(['conflict_ID', 'station_ID'], inplace=True)\n",
    "gdf_sjoin50k_clean.sort_index(inplace=True)"
   ]
  },
  {
   "cell_type": "code",
   "execution_count": 100,
   "metadata": {},
   "outputs": [
    {
     "data": {
      "text/html": [
       "<div>\n",
       "<style scoped>\n",
       "    .dataframe tbody tr th:only-of-type {\n",
       "        vertical-align: middle;\n",
       "    }\n",
       "\n",
       "    .dataframe tbody tr th {\n",
       "        vertical-align: top;\n",
       "    }\n",
       "\n",
       "    .dataframe thead th {\n",
       "        text-align: right;\n",
       "    }\n",
       "</style>\n",
       "<table border=\"1\" class=\"dataframe\">\n",
       "  <thead>\n",
       "    <tr style=\"text-align: right;\">\n",
       "      <th></th>\n",
       "      <th></th>\n",
       "      <th>station_name</th>\n",
       "      <th>geometry</th>\n",
       "    </tr>\n",
       "    <tr>\n",
       "      <th>conflict_ID</th>\n",
       "      <th>station_ID</th>\n",
       "      <th></th>\n",
       "      <th></th>\n",
       "    </tr>\n",
       "  </thead>\n",
       "  <tbody>\n",
       "    <tr>\n",
       "      <th rowspan=\"4\" valign=\"top\">1489</th>\n",
       "      <th>AGE00147716</th>\n",
       "      <td>NEMOURS (GHAZAOUET)</td>\n",
       "      <td>POINT (-205941.058 4177479.062)</td>\n",
       "    </tr>\n",
       "    <tr>\n",
       "      <th>AGM00060522</th>\n",
       "      <td>MAGHNIA</td>\n",
       "      <td>POINT (-197035.499 4139446.688)</td>\n",
       "    </tr>\n",
       "    <tr>\n",
       "      <th>AGM00060531</th>\n",
       "      <td>ZENATA</td>\n",
       "      <td>POINT (-161413.262 4166191.616)</td>\n",
       "    </tr>\n",
       "    <tr>\n",
       "      <th>MOE00147755</th>\n",
       "      <td>OUJDA</td>\n",
       "      <td>POINT (-214846.617 4134024.068)</td>\n",
       "    </tr>\n",
       "    <tr>\n",
       "      <th rowspan=\"3\" valign=\"top\">1490</th>\n",
       "      <th>AGM00060452</th>\n",
       "      <td>ARZEW</td>\n",
       "      <td>POINT (-29722.304 4275469.983)</td>\n",
       "    </tr>\n",
       "    <tr>\n",
       "      <th>AGM00060461</th>\n",
       "      <td>ORAN-PORT</td>\n",
       "      <td>POINT (-72357.669 4259419.966)</td>\n",
       "    </tr>\n",
       "    <tr>\n",
       "      <th>AGM00060490</th>\n",
       "      <td>ES SENIA</td>\n",
       "      <td>POINT (-69129.404 4249006.930)</td>\n",
       "    </tr>\n",
       "    <tr>\n",
       "      <th rowspan=\"2\" valign=\"top\">1491</th>\n",
       "      <th>AGM00060506</th>\n",
       "      <td>MASCARA-MATEMORE</td>\n",
       "      <td>POINT (33395.847 4245720.660)</td>\n",
       "    </tr>\n",
       "    <tr>\n",
       "      <th>AGM00060507</th>\n",
       "      <td>GHRISS</td>\n",
       "      <td>POINT (16363.965 4192183.562)</td>\n",
       "    </tr>\n",
       "    <tr>\n",
       "      <th>1492</th>\n",
       "      <th>AGM00060437</th>\n",
       "      <td>MEDEA</td>\n",
       "      <td>POINT (304236.168 4339631.933)</td>\n",
       "    </tr>\n",
       "    <tr>\n",
       "      <th rowspan=\"3\" valign=\"top\">1496</th>\n",
       "      <th>AG000060390</th>\n",
       "      <td>ALGER-DAR EL BEIDA</td>\n",
       "      <td>POINT (361788.345 4399691.644)</td>\n",
       "    </tr>\n",
       "    <tr>\n",
       "      <th>AGE00147708</th>\n",
       "      <td>TIZI OUZOU</td>\n",
       "      <td>POINT (450843.938 4400149.930)</td>\n",
       "    </tr>\n",
       "    <tr>\n",
       "      <th>AGM00060387</th>\n",
       "      <td>DELLYS</td>\n",
       "      <td>POINT (439711.989 4427543.964)</td>\n",
       "    </tr>\n",
       "    <tr>\n",
       "      <th rowspan=\"5\" valign=\"top\">1497</th>\n",
       "      <th>AG000060390</th>\n",
       "      <td>ALGER-DAR EL BEIDA</td>\n",
       "      <td>POINT (361788.345 4399691.644)</td>\n",
       "    </tr>\n",
       "    <tr>\n",
       "      <th>AGE00147705</th>\n",
       "      <td>ALGIERS-VILLE/UNIVERSITE</td>\n",
       "      <td>POINT (341750.837 4408485.828)</td>\n",
       "    </tr>\n",
       "    <tr>\n",
       "      <th>AGE00147706</th>\n",
       "      <td>ALGIERS-BOUZAREAH</td>\n",
       "      <td>POINT (337298.057 4411265.910)</td>\n",
       "    </tr>\n",
       "    <tr>\n",
       "      <th>AGE00147707</th>\n",
       "      <td>ALGIERS-CAP CAXINE</td>\n",
       "      <td>POINT (338411.252 4411265.910)</td>\n",
       "    </tr>\n",
       "    <tr>\n",
       "      <th>AGM00060369</th>\n",
       "      <td>ALGER-PORT</td>\n",
       "      <td>POINT (345090.421 4406679.163)</td>\n",
       "    </tr>\n",
       "    <tr>\n",
       "      <th rowspan=\"2\" valign=\"top\">1499</th>\n",
       "      <th>AGM00060506</th>\n",
       "      <td>MASCARA-MATEMORE</td>\n",
       "      <td>POINT (33395.847 4245720.660)</td>\n",
       "    </tr>\n",
       "    <tr>\n",
       "      <th>AGM00060507</th>\n",
       "      <td>GHRISS</td>\n",
       "      <td>POINT (16363.965 4192183.562)</td>\n",
       "    </tr>\n",
       "  </tbody>\n",
       "</table>\n",
       "</div>"
      ],
      "text/plain": [
       "                                     station_name  \\\n",
       "conflict_ID station_ID                              \n",
       "1489        AGE00147716       NEMOURS (GHAZAOUET)   \n",
       "            AGM00060522                   MAGHNIA   \n",
       "            AGM00060531                    ZENATA   \n",
       "            MOE00147755                     OUJDA   \n",
       "1490        AGM00060452                     ARZEW   \n",
       "            AGM00060461                 ORAN-PORT   \n",
       "            AGM00060490                  ES SENIA   \n",
       "1491        AGM00060506          MASCARA-MATEMORE   \n",
       "            AGM00060507                    GHRISS   \n",
       "1492        AGM00060437                     MEDEA   \n",
       "1496        AG000060390        ALGER-DAR EL BEIDA   \n",
       "            AGE00147708                TIZI OUZOU   \n",
       "            AGM00060387                    DELLYS   \n",
       "1497        AG000060390        ALGER-DAR EL BEIDA   \n",
       "            AGE00147705  ALGIERS-VILLE/UNIVERSITE   \n",
       "            AGE00147706         ALGIERS-BOUZAREAH   \n",
       "            AGE00147707        ALGIERS-CAP CAXINE   \n",
       "            AGM00060369                ALGER-PORT   \n",
       "1499        AGM00060506          MASCARA-MATEMORE   \n",
       "            AGM00060507                    GHRISS   \n",
       "\n",
       "                                                geometry  \n",
       "conflict_ID station_ID                                    \n",
       "1489        AGE00147716  POINT (-205941.058 4177479.062)  \n",
       "            AGM00060522  POINT (-197035.499 4139446.688)  \n",
       "            AGM00060531  POINT (-161413.262 4166191.616)  \n",
       "            MOE00147755  POINT (-214846.617 4134024.068)  \n",
       "1490        AGM00060452   POINT (-29722.304 4275469.983)  \n",
       "            AGM00060461   POINT (-72357.669 4259419.966)  \n",
       "            AGM00060490   POINT (-69129.404 4249006.930)  \n",
       "1491        AGM00060506    POINT (33395.847 4245720.660)  \n",
       "            AGM00060507    POINT (16363.965 4192183.562)  \n",
       "1492        AGM00060437   POINT (304236.168 4339631.933)  \n",
       "1496        AG000060390   POINT (361788.345 4399691.644)  \n",
       "            AGE00147708   POINT (450843.938 4400149.930)  \n",
       "            AGM00060387   POINT (439711.989 4427543.964)  \n",
       "1497        AG000060390   POINT (361788.345 4399691.644)  \n",
       "            AGE00147705   POINT (341750.837 4408485.828)  \n",
       "            AGE00147706   POINT (337298.057 4411265.910)  \n",
       "            AGE00147707   POINT (338411.252 4411265.910)  \n",
       "            AGM00060369   POINT (345090.421 4406679.163)  \n",
       "1499        AGM00060506    POINT (33395.847 4245720.660)  \n",
       "            AGM00060507    POINT (16363.965 4192183.562)  "
      ]
     },
     "execution_count": 100,
     "metadata": {},
     "output_type": "execute_result"
    }
   ],
   "source": [
    "# inspect dataframe with new MultiIndex\n",
    "gdf_sjoin50k_clean.head(20)"
   ]
  },
  {
   "cell_type": "code",
   "execution_count": 101,
   "metadata": {},
   "outputs": [],
   "source": [
    "# # export spatial join gdf to local .csv \n",
    "# gdf_sjoin50k_clean.to_csv('/Users/richard/Desktop/data/interim/sjoin_50kbuffer_clean_MultiIndex.csv')"
   ]
  },
  {
   "cell_type": "markdown",
   "metadata": {},
   "source": [
    "#### Note on Data Collection\n",
    "As mentioned earlier, the GHCN climate data is too large to read onto this machine in its entirety (>40GB). As such, we will only extract the files pertaining to the stations located within the 50km buffer we have defined. These are **the unique station_ID values in the spatial-join dataframe above**. \n",
    "\n",
    "Below we extract these unique values as a list and save it as a local .csv file. This .csv file is used to extract the corresponding .dly files from the .tar archive.\n",
    "\n",
    "**IMPORTANT: the data extraction is done in a separate notebook: 01_Data_Collection, available in this repo.**"
   ]
  },
  {
   "cell_type": "code",
   "execution_count": 102,
   "metadata": {},
   "outputs": [],
   "source": [
    "# create list of station IDs within 50k buffer of conflicts\n",
    "list_stations_buf50k = gdf_sjoin50k.index.unique()"
   ]
  },
  {
   "cell_type": "code",
   "execution_count": 103,
   "metadata": {},
   "outputs": [],
   "source": [
    "# convert to df, then export this list to local .csv\n",
    "df_stations50k = pd.DataFrame(list_stations_buf50k)\n",
    "# df_stations50k.to_csv('/Users/data_science/Desktop/springboard_repo/capstones/capstone-two/data/interim/stationIDs_50k.csv')"
   ]
  },
  {
   "cell_type": "markdown",
   "metadata": {},
   "source": [
    "### 4.2.2. Data collection\n",
    "\n",
    "We use the created csv with station IDs to extract the corresponding .dly's into .csv's and store those locally. This is done in the Notebook '01 Data Collection'."
   ]
  },
  {
   "cell_type": "markdown",
   "metadata": {},
   "source": [
    "## 4.3 Import Spatial Join 50km .csv Files"
   ]
  },
  {
   "cell_type": "markdown",
   "metadata": {},
   "source": [
    "### Note\n",
    "The .csv files which are imported into the notebook below were extracted from the original tar archive using a separate notebook ('01 Data Collection').\n"
   ]
  },
  {
   "cell_type": "code",
   "execution_count": null,
   "metadata": {},
   "outputs": [],
   "source": [
    "%%time\n",
    "# create df with PRCRP, TMAX, TMIN, TAVG, SNOW, SNWD of all 10000+ stations within 50km of conflict incidents\n",
    "# this takes about 10min to run\n",
    "\n",
    "path_to_50k = '/Users/data_science/Desktop/springboard_repo/capstones/capstone-two/data/raw/extracted_stations_buffer50km/*'\n",
    "df_stations_50k = pd.concat(\n",
    "    [pd.read_csv(f, \n",
    "                 parse_dates=[0], \n",
    "                 usecols=lambda x: x in ['Unnamed: 0', 'STATION ID', 'PRCP', 'TMAX', 'TMIN', 'TAVG', 'SNOW', 'SNWD'])\n",
    "                    for f in glob.glob(path_to_50k)], ignore_index = True)\n"
   ]
  },
  {
   "cell_type": "code",
   "execution_count": null,
   "metadata": {},
   "outputs": [],
   "source": [
    "# import df_stations_50k from local csv \n",
    "df_stations_50k = pd.read_csv()"
   ]
  },
  {
   "cell_type": "code",
   "execution_count": null,
   "metadata": {},
   "outputs": [],
   "source": [
    "df_stations_50k.info()"
   ]
  },
  {
   "cell_type": "code",
   "execution_count": null,
   "metadata": {},
   "outputs": [],
   "source": [
    "# rename the first column = \"DATE\"\n",
    "df_stations_50k.rename(columns={'Unnamed: 0': 'DATE'}, inplace=True)"
   ]
  },
  {
   "cell_type": "code",
   "execution_count": null,
   "metadata": {},
   "outputs": [],
   "source": [
    "# create MultiIndex of date and station_ID\n",
    "df_stations_50k.set_index(['DATE', 'STATION ID'], inplace=True)\n",
    "df_stations_50k.sort_index(inplace=True)"
   ]
  },
  {
   "cell_type": "code",
   "execution_count": null,
   "metadata": {},
   "outputs": [],
   "source": [
    "df_stations_50k.head()"
   ]
  },
  {
   "cell_type": "code",
   "execution_count": null,
   "metadata": {},
   "outputs": [],
   "source": [
    "# # export df to local csv\n",
    "# df_stations_50k.to_csv('/Users/data_science/Desktop/springboard_repo/capstones/capstone-two/data/interim/df_weather_50k.csv')"
   ]
  },
  {
   "cell_type": "markdown",
   "metadata": {},
   "source": []
  },
  {
   "cell_type": "markdown",
   "metadata": {},
   "source": [
    "# 5. Wrangling the GHCN Weather Data\n",
    "\n",
    "The ProfileReports for the GHCN data were generated in a separate Notebook (\"000_Profile_Report_Weather_50km\") and are imported here as html files. The dataset was too large for to be processed in a single report so separate reports were generated for each feature: PRCP, TAVG, TMIN, TMAX, SNOW, and SNWD.\n",
    "\n",
    "**NOTE: All profile reports reviewed below can be found in the 'reports' directory that is part of this repo.**"
   ]
  },
  {
   "cell_type": "markdown",
   "metadata": {},
   "source": [
    "## 5.1. Quality-Check per Feature\n",
    "This section provides the conclusions of the quality-check of each feature of the GHCN dataset. Conclusions are drawns and next steps outlined. Section 5.2 proceeds to manipulate the dataset based on the conclusions from this section."
   ]
  },
  {
   "cell_type": "markdown",
   "metadata": {},
   "source": [
    "### 5.1.1. PRCP - Precipitation Levels"
   ]
  },
  {
   "cell_type": "markdown",
   "metadata": {},
   "source": [
    "- Reminder: PRCP is measured in tenths of mm\n",
    "\n",
    "DATE:\n",
    "- There are 135.671.294 observations, spanning from  January 1833 until October 2020\n",
    "- The DATE histogram shows us that recordings of PRCP increase dramatically after 1906.\n",
    "- The highest density of PRCP recordings lies between ~1950 and ~1990.\n",
    "\n",
    "PRCP:\n",
    "- There are close to 6 million missing PRCP values, ~4.5%\n",
    "- Close to 75% of the PRCP values are 0 (which simply means no rain)\n",
    "- The maximum value of PRCP is 25397 = ~2.5m of rain, which seems like it's an outlier. 55 observations have exactly this value. A number of other single observations also have values of ~2000mm.\n",
    "- Quick research confirms that World Record of rainfall in a single day (24h) is 1825mm: see [url](http://www.bom.gov.au/water/designRainfalls/rainfallEvents/worldRecRainfall.shtml)\n",
    "- The minimum value of PRCP is -6660, which seems to indicate either a missing value or a registration error as negative precipitation is not physically possible. This value occurs a total of 5 times. The negative value of -8 occurs twice.\n",
    "\n",
    "### To Do\n",
    "- Convert any values above 17000 to NaN. ~60 values in total.\n",
    "- Convert negative values to NaN. Since there are only 7 in total, this won't practically affect the total missingness of this variable.\n",
    "\n"
   ]
  },
  {
   "cell_type": "markdown",
   "metadata": {},
   "source": [
    "### 5.1.2. TMAX - Maximum Temperature"
   ]
  },
  {
   "cell_type": "markdown",
   "metadata": {},
   "source": [
    "- Reminder: TMAX is measured in tenths of degrees Centigrade\n",
    "\n",
    "DATE:\n",
    "- There are 135.671.294 observations, spanning from  January 1833 until October 2020.\n",
    "- This is the same exact number of observations as PRCP.\n",
    "- Just like PRCP, the DATE histogram here shows us that recordings of TMAX increase dramatically after 1906.\n",
    "- Just like PRCP, the highest density of TMAX recordings lies between ~1950 and ~1990.\n",
    "\n",
    "TMAX:\n",
    "- There are >55% missing values for TMAX\n",
    "- There are ~50 values below the World Record for lowest temperature (-89C = 890 in tenths of C). Minimum value is -5733 = -573C. These must be registration errors.\n",
    "- There are also ~50 values far above the World Record for highest temperature (54C = 540 in tenth of C). These must be registration errors.\n",
    "\n",
    "### To Do\n",
    "- Convert extreme values (< 530 or > -800) to NaN.\n",
    "- Keep the variable for now, but be aware of high missingness.\n",
    "- Perhaps find a way to filter out stations that DO have reliable measurement for this variable."
   ]
  },
  {
   "cell_type": "markdown",
   "metadata": {},
   "source": [
    "### 5.1.3. TMIN - Minimum Temperature"
   ]
  },
  {
   "cell_type": "markdown",
   "metadata": {},
   "source": [
    "- TMIN is recorded in tenths of degrees C\n",
    "\n",
    "- There are  >55% missing values for TMIN (same % as TMAX)\n",
    "- There are missing values indicated by 9990\n",
    "- There are outliers / registration errors that exceed the World Record for hottest T = 540\n",
    "- There are outliers / registration errors that exceed the World Record for coldest T = 890\n",
    "\n",
    "### To Do\n",
    "- Convert extreme values (>530 or < 800) to NaN.\n",
    "- Keep the variable for now, but be aware of high missingness.\n",
    "- Perhaps find a way to filter out stations that DO have reliable measurement for this variable."
   ]
  },
  {
   "cell_type": "markdown",
   "metadata": {},
   "source": [
    "### 5.1.4. TAVG - Average Temperature"
   ]
  },
  {
   "cell_type": "markdown",
   "metadata": {},
   "source": [
    "- TAVG is recorded in tenths of degrees C\n",
    "\n",
    "- There are  >90% missing values for TAVG\n",
    "- However, in analysis of single stations I have seen that TAVG can for some stations provide the most reliable measurements.\n",
    "\n",
    "\n",
    "### To Do\n",
    "- Convert extreme values (>530 or < 800) to NaN.\n",
    "- Keep the variable for now, but be aware of high missingness.\n",
    "- Perhaps find a way to filter out stations that DO have reliable measurement for this variable."
   ]
  },
  {
   "cell_type": "markdown",
   "metadata": {},
   "source": [
    "### 5.1.5. SNOW - Snowfall"
   ]
  },
  {
   "cell_type": "markdown",
   "metadata": {},
   "source": [
    "- SNOW is snowfall, measured in mm\n",
    "\n",
    "- High degree of missingness (>95%) but considering the fact that many of the conflict areas are in warmer climates, this is not surprising.\n",
    "- Maximum value of 25397 occurs 55 times. This must be a registration error, we will treat it as NaN.\n",
    "\n"
   ]
  },
  {
   "cell_type": "markdown",
   "metadata": {},
   "source": [
    "### 5.1.6. SNWD - Snow Depth"
   ]
  },
  {
   "cell_type": "markdown",
   "metadata": {},
   "source": [
    "- SNWD is snow depth, measured in mm.\n",
    "\n",
    "- High degree of missingness (>95%) but considering the fact that many of the conflict areas are in warmer climates, this is not surprising.\n",
    "- Minimum values below 0 must be registration errors, we will treat those as NaN (total count = 106)\n",
    "- Maximum values of >55000 = ~5.5m; plausible snowdepth for high mountain ranges, keep as is.\n"
   ]
  },
  {
   "cell_type": "markdown",
   "metadata": {},
   "source": [
    "## 5.2 GHCN Data Cleaning\n",
    "Based on the findings in the previous section, this section will:\n",
    "\n",
    "1. Convert extreme outliers to NaN\n",
    "2. Impute TAVG from TMAX and TMIN where possible\n",
    "3. Evaluate whether to keep SNOW and SNWD as features\n",
    "4. Subset the climate data for years relevant to our analysis "
   ]
  },
  {
   "cell_type": "markdown",
   "metadata": {},
   "source": [
    "### 5.2.1 Converting extreme outliers to NaN"
   ]
  },
  {
   "cell_type": "markdown",
   "metadata": {},
   "source": [
    "**NOTE TO SELF** MacBook Air can't seem to open this file, keeps crashing. run this on MacBook Pro instead, then upload"
   ]
  },
  {
   "cell_type": "code",
   "execution_count": null,
   "metadata": {},
   "outputs": [],
   "source": [
    "# import csv containing weather data from stations within 50km of conflict incidents\n",
    "df_weather = pd.read_csv('/Users/richard/Desktop/data/interim/df_weather_50k.csv', index_col=0, parse_dates=[0])"
   ]
  },
  {
   "cell_type": "code",
   "execution_count": null,
   "metadata": {},
   "outputs": [],
   "source": [
    "df_weather.head()"
   ]
  },
  {
   "cell_type": "code",
   "execution_count": 5,
   "metadata": {},
   "outputs": [],
   "source": [
    "# copy df in order to clean out outliers\n",
    "df_weather_clean = df_weather.copy()"
   ]
  },
  {
   "cell_type": "code",
   "execution_count": 16,
   "metadata": {},
   "outputs": [],
   "source": [
    "# PRCP\n",
    "# any values above 17000 to NaN\n",
    "df_weather_clean.loc[df_weather_clean['PRCP'] > 17000] = np.nan\n",
    "\n",
    "# any values below 0 to NaN\n",
    "df_weather_clean.loc[df_weather_clean['PRCP'] < 0] = np.nan"
   ]
  },
  {
   "cell_type": "code",
   "execution_count": 23,
   "metadata": {},
   "outputs": [],
   "source": [
    "# TMAX\n",
    "# Convert extreme values (> 530 or < -800) to NaN.\n",
    "df_weather_clean.loc[df_weather_clean['TMAX'] > 530] = np.nan\n",
    "df_weather_clean.loc[df_weather_clean['TMAX'] < -800] = np.nan"
   ]
  },
  {
   "cell_type": "code",
   "execution_count": 26,
   "metadata": {},
   "outputs": [],
   "source": [
    "# TMIN\n",
    "# Convert extreme values (> 530 or < -800) to NaN.\n",
    "df_weather_clean.loc[df_weather_clean['TMIN'] > 530] = np.nan\n",
    "df_weather_clean.loc[df_weather_clean['TMIN'] < -800] = np.nan"
   ]
  },
  {
   "cell_type": "code",
   "execution_count": 28,
   "metadata": {},
   "outputs": [],
   "source": [
    "# TAVG\n",
    "# Convert extreme values (> 530 or < -800) to NaN.\n",
    "df_weather_clean.loc[df_weather_clean['TAVG'] > 530] = np.nan\n",
    "df_weather_clean.loc[df_weather_clean['TAVG'] < -800] = np.nan"
   ]
  },
  {
   "cell_type": "code",
   "execution_count": 32,
   "metadata": {},
   "outputs": [],
   "source": [
    "# SNOW\n",
    "# Convert extreme values (25397) to NaN.\n",
    "df_weather_clean.loc[df_weather_clean['SNOW'] == 25397] = np.nan"
   ]
  },
  {
   "cell_type": "code",
   "execution_count": 34,
   "metadata": {},
   "outputs": [],
   "source": [
    "# SNWD\n",
    "# convert negative values to NaN.\n",
    "df_weather_clean.loc[df_weather_clean['SNWD'] < 0] = np.nan"
   ]
  },
  {
   "cell_type": "code",
   "execution_count": null,
   "metadata": {},
   "outputs": [],
   "source": []
  },
  {
   "cell_type": "code",
   "execution_count": null,
   "metadata": {},
   "outputs": [],
   "source": [
    "# # export cleaned df to local csv\n",
    "# df_weather_clean.to_csv('/Users/richard/Desktop/data/interim/df_weather_50k_clean_old.csv'"
   ]
  },
  {
   "cell_type": "markdown",
   "metadata": {},
   "source": [
    "### 5.2.2. Imputing TAVG \n",
    "TMAX and TMIN have much fewer missing values than TAVG. Fortunately, we can confidently impute TAVG from TMAX and TMIN (TAVG = (TMAX+TMIN) / 2).\n",
    "\n",
    "This section does exactly that for the rows for which TAVG is NaN and both TMAX and TMIN are available."
   ]
  },
  {
   "cell_type": "markdown",
   "metadata": {},
   "source": [
    "Let's begin by checking how many stations that are missing TAVG values DO have TMIN and TMAX values"
   ]
  },
  {
   "cell_type": "code",
   "execution_count": 2,
   "metadata": {},
   "outputs": [],
   "source": [
    "# importing local csv with cleaned df\n",
    "df_weather = pd.read_csv('/Users/richard/Desktop/data/interim/df_weather_50k_clean.csv', index_col=[0,1], parse_dates=[0])"
   ]
  },
  {
   "cell_type": "code",
   "execution_count": 3,
   "metadata": {},
   "outputs": [
    {
     "data": {
      "text/html": [
       "<div>\n",
       "<style scoped>\n",
       "    .dataframe tbody tr th:only-of-type {\n",
       "        vertical-align: middle;\n",
       "    }\n",
       "\n",
       "    .dataframe tbody tr th {\n",
       "        vertical-align: top;\n",
       "    }\n",
       "\n",
       "    .dataframe thead th {\n",
       "        text-align: right;\n",
       "    }\n",
       "</style>\n",
       "<table border=\"1\" class=\"dataframe\">\n",
       "  <thead>\n",
       "    <tr style=\"text-align: right;\">\n",
       "      <th></th>\n",
       "      <th></th>\n",
       "      <th>PRCP</th>\n",
       "      <th>TAVG</th>\n",
       "      <th>TMAX</th>\n",
       "      <th>TMIN</th>\n",
       "      <th>SNWD</th>\n",
       "      <th>SNOW</th>\n",
       "    </tr>\n",
       "    <tr>\n",
       "      <th>DATE</th>\n",
       "      <th>STATION ID</th>\n",
       "      <th></th>\n",
       "      <th></th>\n",
       "      <th></th>\n",
       "      <th></th>\n",
       "      <th></th>\n",
       "      <th></th>\n",
       "    </tr>\n",
       "  </thead>\n",
       "  <tbody>\n",
       "    <tr>\n",
       "      <th>1833-01-02</th>\n",
       "      <th>BE000006447</th>\n",
       "      <td>NaN</td>\n",
       "      <td>NaN</td>\n",
       "      <td>-14.0</td>\n",
       "      <td>-48.0</td>\n",
       "      <td>NaN</td>\n",
       "      <td>NaN</td>\n",
       "    </tr>\n",
       "    <tr>\n",
       "      <th>1833-01-03</th>\n",
       "      <th>BE000006447</th>\n",
       "      <td>NaN</td>\n",
       "      <td>NaN</td>\n",
       "      <td>-31.0</td>\n",
       "      <td>-68.0</td>\n",
       "      <td>NaN</td>\n",
       "      <td>NaN</td>\n",
       "    </tr>\n",
       "    <tr>\n",
       "      <th>1833-01-04</th>\n",
       "      <th>BE000006447</th>\n",
       "      <td>NaN</td>\n",
       "      <td>NaN</td>\n",
       "      <td>-39.0</td>\n",
       "      <td>-68.0</td>\n",
       "      <td>NaN</td>\n",
       "      <td>NaN</td>\n",
       "    </tr>\n",
       "    <tr>\n",
       "      <th>1833-01-05</th>\n",
       "      <th>BE000006447</th>\n",
       "      <td>NaN</td>\n",
       "      <td>NaN</td>\n",
       "      <td>-44.0</td>\n",
       "      <td>-90.0</td>\n",
       "      <td>NaN</td>\n",
       "      <td>NaN</td>\n",
       "    </tr>\n",
       "    <tr>\n",
       "      <th>1833-01-06</th>\n",
       "      <th>BE000006447</th>\n",
       "      <td>NaN</td>\n",
       "      <td>NaN</td>\n",
       "      <td>14.0</td>\n",
       "      <td>-85.0</td>\n",
       "      <td>NaN</td>\n",
       "      <td>NaN</td>\n",
       "    </tr>\n",
       "  </tbody>\n",
       "</table>\n",
       "</div>"
      ],
      "text/plain": [
       "                        PRCP  TAVG  TMAX  TMIN  SNWD  SNOW\n",
       "DATE       STATION ID                                     \n",
       "1833-01-02 BE000006447   NaN   NaN -14.0 -48.0   NaN   NaN\n",
       "1833-01-03 BE000006447   NaN   NaN -31.0 -68.0   NaN   NaN\n",
       "1833-01-04 BE000006447   NaN   NaN -39.0 -68.0   NaN   NaN\n",
       "1833-01-05 BE000006447   NaN   NaN -44.0 -90.0   NaN   NaN\n",
       "1833-01-06 BE000006447   NaN   NaN  14.0 -85.0   NaN   NaN"
      ]
     },
     "execution_count": 3,
     "metadata": {},
     "output_type": "execute_result"
    }
   ],
   "source": [
    "df_weather.head()"
   ]
  },
  {
   "cell_type": "code",
   "execution_count": 5,
   "metadata": {},
   "outputs": [
    {
     "data": {
      "text/html": [
       "<div>\n",
       "<style scoped>\n",
       "    .dataframe tbody tr th:only-of-type {\n",
       "        vertical-align: middle;\n",
       "    }\n",
       "\n",
       "    .dataframe tbody tr th {\n",
       "        vertical-align: top;\n",
       "    }\n",
       "\n",
       "    .dataframe thead th {\n",
       "        text-align: right;\n",
       "    }\n",
       "</style>\n",
       "<table border=\"1\" class=\"dataframe\">\n",
       "  <thead>\n",
       "    <tr style=\"text-align: right;\">\n",
       "      <th></th>\n",
       "      <th></th>\n",
       "      <th>PRCP</th>\n",
       "      <th>TAVG</th>\n",
       "      <th>TMAX</th>\n",
       "      <th>TMIN</th>\n",
       "      <th>SNWD</th>\n",
       "      <th>SNOW</th>\n",
       "    </tr>\n",
       "    <tr>\n",
       "      <th>DATE</th>\n",
       "      <th>STATION ID</th>\n",
       "      <th></th>\n",
       "      <th></th>\n",
       "      <th></th>\n",
       "      <th></th>\n",
       "      <th></th>\n",
       "      <th></th>\n",
       "    </tr>\n",
       "  </thead>\n",
       "  <tbody>\n",
       "    <tr>\n",
       "      <th>1833-01-02</th>\n",
       "      <th>BE000006447</th>\n",
       "      <td>NaN</td>\n",
       "      <td>NaN</td>\n",
       "      <td>-14.0</td>\n",
       "      <td>-48.0</td>\n",
       "      <td>NaN</td>\n",
       "      <td>NaN</td>\n",
       "    </tr>\n",
       "    <tr>\n",
       "      <th>1833-01-03</th>\n",
       "      <th>BE000006447</th>\n",
       "      <td>NaN</td>\n",
       "      <td>NaN</td>\n",
       "      <td>-31.0</td>\n",
       "      <td>-68.0</td>\n",
       "      <td>NaN</td>\n",
       "      <td>NaN</td>\n",
       "    </tr>\n",
       "    <tr>\n",
       "      <th>1833-01-04</th>\n",
       "      <th>BE000006447</th>\n",
       "      <td>NaN</td>\n",
       "      <td>NaN</td>\n",
       "      <td>-39.0</td>\n",
       "      <td>-68.0</td>\n",
       "      <td>NaN</td>\n",
       "      <td>NaN</td>\n",
       "    </tr>\n",
       "    <tr>\n",
       "      <th>1833-01-05</th>\n",
       "      <th>BE000006447</th>\n",
       "      <td>NaN</td>\n",
       "      <td>NaN</td>\n",
       "      <td>-44.0</td>\n",
       "      <td>-90.0</td>\n",
       "      <td>NaN</td>\n",
       "      <td>NaN</td>\n",
       "    </tr>\n",
       "    <tr>\n",
       "      <th>1833-01-06</th>\n",
       "      <th>BE000006447</th>\n",
       "      <td>NaN</td>\n",
       "      <td>NaN</td>\n",
       "      <td>14.0</td>\n",
       "      <td>-85.0</td>\n",
       "      <td>NaN</td>\n",
       "      <td>NaN</td>\n",
       "    </tr>\n",
       "    <tr>\n",
       "      <th>...</th>\n",
       "      <th>...</th>\n",
       "      <td>...</td>\n",
       "      <td>...</td>\n",
       "      <td>...</td>\n",
       "      <td>...</td>\n",
       "      <td>...</td>\n",
       "      <td>...</td>\n",
       "    </tr>\n",
       "    <tr>\n",
       "      <th rowspan=\"5\" valign=\"top\">2020-10-20</th>\n",
       "      <th>USC00417622</th>\n",
       "      <td>0.0</td>\n",
       "      <td>NaN</td>\n",
       "      <td>350.0</td>\n",
       "      <td>233.0</td>\n",
       "      <td>NaN</td>\n",
       "      <td>NaN</td>\n",
       "    </tr>\n",
       "    <tr>\n",
       "      <th>USC00418059</th>\n",
       "      <td>NaN</td>\n",
       "      <td>NaN</td>\n",
       "      <td>NaN</td>\n",
       "      <td>NaN</td>\n",
       "      <td>NaN</td>\n",
       "      <td>NaN</td>\n",
       "    </tr>\n",
       "    <tr>\n",
       "      <th>USC00419588</th>\n",
       "      <td>0.0</td>\n",
       "      <td>NaN</td>\n",
       "      <td>339.0</td>\n",
       "      <td>239.0</td>\n",
       "      <td>NaN</td>\n",
       "      <td>NaN</td>\n",
       "    </tr>\n",
       "    <tr>\n",
       "      <th>USC00445204</th>\n",
       "      <td>0.0</td>\n",
       "      <td>NaN</td>\n",
       "      <td>211.0</td>\n",
       "      <td>111.0</td>\n",
       "      <td>NaN</td>\n",
       "      <td>NaN</td>\n",
       "    </tr>\n",
       "    <tr>\n",
       "      <th>USC00448737</th>\n",
       "      <td>0.0</td>\n",
       "      <td>NaN</td>\n",
       "      <td>200.0</td>\n",
       "      <td>128.0</td>\n",
       "      <td>0.0</td>\n",
       "      <td>0.0</td>\n",
       "    </tr>\n",
       "  </tbody>\n",
       "</table>\n",
       "<p>122837288 rows × 6 columns</p>\n",
       "</div>"
      ],
      "text/plain": [
       "                        PRCP  TAVG   TMAX   TMIN  SNWD  SNOW\n",
       "DATE       STATION ID                                       \n",
       "1833-01-02 BE000006447   NaN   NaN  -14.0  -48.0   NaN   NaN\n",
       "1833-01-03 BE000006447   NaN   NaN  -31.0  -68.0   NaN   NaN\n",
       "1833-01-04 BE000006447   NaN   NaN  -39.0  -68.0   NaN   NaN\n",
       "1833-01-05 BE000006447   NaN   NaN  -44.0  -90.0   NaN   NaN\n",
       "1833-01-06 BE000006447   NaN   NaN   14.0  -85.0   NaN   NaN\n",
       "...                      ...   ...    ...    ...   ...   ...\n",
       "2020-10-20 USC00417622   0.0   NaN  350.0  233.0   NaN   NaN\n",
       "           USC00418059   NaN   NaN    NaN    NaN   NaN   NaN\n",
       "           USC00419588   0.0   NaN  339.0  239.0   NaN   NaN\n",
       "           USC00445204   0.0   NaN  211.0  111.0   NaN   NaN\n",
       "           USC00448737   0.0   NaN  200.0  128.0   0.0   0.0\n",
       "\n",
       "[122837288 rows x 6 columns]"
      ]
     },
     "execution_count": 5,
     "metadata": {},
     "output_type": "execute_result"
    }
   ],
   "source": [
    "# index dataframe to return all entries for which TAVG is NaN\n",
    "df_weather[df_weather.TAVG.isnull()]"
   ]
  },
  {
   "cell_type": "code",
   "execution_count": 6,
   "metadata": {},
   "outputs": [
    {
     "data": {
      "text/plain": [
       "(135671294, 6)"
      ]
     },
     "execution_count": 6,
     "metadata": {},
     "output_type": "execute_result"
    }
   ],
   "source": [
    "df_weather.shape"
   ]
  },
  {
   "cell_type": "markdown",
   "metadata": {},
   "source": [
    "There are close to 122 million entries (read: days at stations) for which TAVG is missing. As noted above, this is more than 90% of the in total 135 million entries in this dataset.\n",
    "\n",
    "For stations that are missing TAVG but have TMAX and TMIN, let's now impute TAVG = (TMIN + TMAX) / 2"
   ]
  },
  {
   "cell_type": "code",
   "execution_count": 7,
   "metadata": {},
   "outputs": [],
   "source": [
    "# use pd.fillna() to impute missing TAVG values using TMIN and TMAX\n",
    "df_weather['TAVG'] = df_weather['TAVG'].fillna((df_weather['TMIN'] + df_weather['TMAX']) / 2)"
   ]
  },
  {
   "cell_type": "code",
   "execution_count": 8,
   "metadata": {},
   "outputs": [
    {
     "name": "stderr",
     "output_type": "stream",
     "text": [
      "/opt/miniconda3/envs/sklearn/lib/python3.7/site-packages/ipykernel_launcher.py:2: PerformanceWarning: indexing past lexsort depth may impact performance.\n",
      "  \n"
     ]
    },
    {
     "data": {
      "text/html": [
       "<div>\n",
       "<style scoped>\n",
       "    .dataframe tbody tr th:only-of-type {\n",
       "        vertical-align: middle;\n",
       "    }\n",
       "\n",
       "    .dataframe tbody tr th {\n",
       "        vertical-align: top;\n",
       "    }\n",
       "\n",
       "    .dataframe thead th {\n",
       "        text-align: right;\n",
       "    }\n",
       "</style>\n",
       "<table border=\"1\" class=\"dataframe\">\n",
       "  <thead>\n",
       "    <tr style=\"text-align: right;\">\n",
       "      <th></th>\n",
       "      <th></th>\n",
       "      <th>PRCP</th>\n",
       "      <th>TAVG</th>\n",
       "      <th>TMAX</th>\n",
       "      <th>TMIN</th>\n",
       "      <th>SNWD</th>\n",
       "      <th>SNOW</th>\n",
       "    </tr>\n",
       "    <tr>\n",
       "      <th>DATE</th>\n",
       "      <th>STATION ID</th>\n",
       "      <th></th>\n",
       "      <th></th>\n",
       "      <th></th>\n",
       "      <th></th>\n",
       "      <th></th>\n",
       "      <th></th>\n",
       "    </tr>\n",
       "  </thead>\n",
       "  <tbody>\n",
       "    <tr>\n",
       "      <th>1833-01-02</th>\n",
       "      <th>BE000006447</th>\n",
       "      <td>NaN</td>\n",
       "      <td>-31.0</td>\n",
       "      <td>-14.0</td>\n",
       "      <td>-48.0</td>\n",
       "      <td>NaN</td>\n",
       "      <td>NaN</td>\n",
       "    </tr>\n",
       "  </tbody>\n",
       "</table>\n",
       "</div>"
      ],
      "text/plain": [
       "                        PRCP  TAVG  TMAX  TMIN  SNWD  SNOW\n",
       "DATE       STATION ID                                     \n",
       "1833-01-02 BE000006447   NaN -31.0 -14.0 -48.0   NaN   NaN"
      ]
     },
     "execution_count": 8,
     "metadata": {},
     "output_type": "execute_result"
    }
   ],
   "source": [
    "# verify by checking single entry for which TAVG was previously NaN\n",
    "df_weather.loc['1833-01-02', 'BE000006447']"
   ]
  },
  {
   "cell_type": "markdown",
   "metadata": {},
   "source": [
    "This works as expected.\n",
    "\n",
    "Let's now check the NaN count for TAVG"
   ]
  },
  {
   "cell_type": "code",
   "execution_count": 9,
   "metadata": {},
   "outputs": [
    {
     "data": {
      "text/plain": [
       "73306365"
      ]
     },
     "execution_count": 9,
     "metadata": {},
     "output_type": "execute_result"
    }
   ],
   "source": [
    "# check new NaN count for TAVG\n",
    "df_weather.TAVG.isnull().sum()"
   ]
  },
  {
   "cell_type": "code",
   "execution_count": 10,
   "metadata": {},
   "outputs": [
    {
     "data": {
      "text/plain": [
       "(76441311, 76320966)"
      ]
     },
     "execution_count": 10,
     "metadata": {},
     "output_type": "execute_result"
    }
   ],
   "source": [
    "df_weather.TMIN.isnull().sum(), df_weather.TMAX.isnull().sum()"
   ]
  },
  {
   "cell_type": "markdown",
   "metadata": {},
   "source": [
    "This is a significant improvement, almost half of the missing TAVG values have been imputed.\n",
    "\n",
    "As a result, TAVG now has the least missing values of all three Temperature measures and will be our temperature measure of choice moving forward."
   ]
  },
  {
   "cell_type": "markdown",
   "metadata": {},
   "source": [
    "### 5.2.3 Check Zeroes in SNOW and SNWD"
   ]
  },
  {
   "cell_type": "markdown",
   "metadata": {},
   "source": [
    "As noted above in Section 5.1, both SNOW and SNWD have a very high number of NaN values. In this section, we are going to check the number of 0 values in those two features in order to evaluate whether perhaps the NaN's can be justifiably imputed as 0."
   ]
  },
  {
   "cell_type": "code",
   "execution_count": 13,
   "metadata": {},
   "outputs": [
    {
     "data": {
      "text/plain": [
       "0.0      5736488\n",
       "25.0       21693\n",
       "10.0       17042\n",
       "13.0       15833\n",
       "51.0       14561\n",
       "          ...   \n",
       "550.0          1\n",
       "299.0          1\n",
       "549.0          1\n",
       "354.0          1\n",
       "301.0          1\n",
       "Name: SNOW, Length: 513, dtype: int64"
      ]
     },
     "execution_count": 13,
     "metadata": {},
     "output_type": "execute_result"
    }
   ],
   "source": [
    "# check unique values of SNOW\n",
    "df_weather.SNOW.value_counts()"
   ]
  },
  {
   "cell_type": "code",
   "execution_count": 14,
   "metadata": {},
   "outputs": [
    {
     "data": {
      "text/plain": [
       "129546332"
      ]
     },
     "execution_count": 14,
     "metadata": {},
     "output_type": "execute_result"
    }
   ],
   "source": [
    "# check NaN count of SNOW\n",
    "df_weather.SNOW.isnull().sum()"
   ]
  },
  {
   "cell_type": "code",
   "execution_count": 15,
   "metadata": {},
   "outputs": [
    {
     "data": {
      "text/plain": [
       "0.0       5431460\n",
       "10.0        41766\n",
       "20.0        38656\n",
       "51.0        28608\n",
       "30.0        27620\n",
       "           ...   \n",
       "2565.0          1\n",
       "401.0           1\n",
       "386.0           1\n",
       "146.0           1\n",
       "2779.0          1\n",
       "Name: SNWD, Length: 679, dtype: int64"
      ]
     },
     "execution_count": 15,
     "metadata": {},
     "output_type": "execute_result"
    }
   ],
   "source": [
    "# check unique values of SNWD\n",
    "df_weather.SNWD.value_counts()"
   ]
  },
  {
   "cell_type": "code",
   "execution_count": 16,
   "metadata": {},
   "outputs": [
    {
     "data": {
      "text/plain": [
       "129464790"
      ]
     },
     "execution_count": 16,
     "metadata": {},
     "output_type": "execute_result"
    }
   ],
   "source": [
    "# check NaN count of SNWD\n",
    "df_weather.SNWD.isnull().sum()"
   ]
  },
  {
   "cell_type": "markdown",
   "metadata": {},
   "source": [
    "There are a substantial number of zeroes in both SNOW and SNWD. This means we cannot assume that the NaN values for SNOW and SNWD are meant to be zero and we simply have no means of knowing what the values might be. This leaves us with >95% missing values for these two variables. \n",
    "\n",
    "As such, we will **disregard these variables and exclude them from our analysis.**"
   ]
  },
  {
   "cell_type": "code",
   "execution_count": 28,
   "metadata": {},
   "outputs": [
    {
     "data": {
      "text/html": [
       "<div>\n",
       "<style scoped>\n",
       "    .dataframe tbody tr th:only-of-type {\n",
       "        vertical-align: middle;\n",
       "    }\n",
       "\n",
       "    .dataframe tbody tr th {\n",
       "        vertical-align: top;\n",
       "    }\n",
       "\n",
       "    .dataframe thead th {\n",
       "        text-align: right;\n",
       "    }\n",
       "</style>\n",
       "<table border=\"1\" class=\"dataframe\">\n",
       "  <thead>\n",
       "    <tr style=\"text-align: right;\">\n",
       "      <th></th>\n",
       "      <th></th>\n",
       "      <th>PRCP</th>\n",
       "      <th>TAVG</th>\n",
       "      <th>TMAX</th>\n",
       "      <th>TMIN</th>\n",
       "    </tr>\n",
       "    <tr>\n",
       "      <th>DATE</th>\n",
       "      <th>STATION ID</th>\n",
       "      <th></th>\n",
       "      <th></th>\n",
       "      <th></th>\n",
       "      <th></th>\n",
       "    </tr>\n",
       "  </thead>\n",
       "  <tbody>\n",
       "    <tr>\n",
       "      <th>1833-01-02</th>\n",
       "      <th>BE000006447</th>\n",
       "      <td>NaN</td>\n",
       "      <td>-31.0</td>\n",
       "      <td>-14.0</td>\n",
       "      <td>-48.0</td>\n",
       "    </tr>\n",
       "    <tr>\n",
       "      <th>1833-01-03</th>\n",
       "      <th>BE000006447</th>\n",
       "      <td>NaN</td>\n",
       "      <td>-49.5</td>\n",
       "      <td>-31.0</td>\n",
       "      <td>-68.0</td>\n",
       "    </tr>\n",
       "    <tr>\n",
       "      <th>1833-01-04</th>\n",
       "      <th>BE000006447</th>\n",
       "      <td>NaN</td>\n",
       "      <td>-53.5</td>\n",
       "      <td>-39.0</td>\n",
       "      <td>-68.0</td>\n",
       "    </tr>\n",
       "    <tr>\n",
       "      <th>1833-01-05</th>\n",
       "      <th>BE000006447</th>\n",
       "      <td>NaN</td>\n",
       "      <td>-67.0</td>\n",
       "      <td>-44.0</td>\n",
       "      <td>-90.0</td>\n",
       "    </tr>\n",
       "    <tr>\n",
       "      <th>1833-01-06</th>\n",
       "      <th>BE000006447</th>\n",
       "      <td>NaN</td>\n",
       "      <td>-35.5</td>\n",
       "      <td>14.0</td>\n",
       "      <td>-85.0</td>\n",
       "    </tr>\n",
       "  </tbody>\n",
       "</table>\n",
       "</div>"
      ],
      "text/plain": [
       "                        PRCP  TAVG  TMAX  TMIN\n",
       "DATE       STATION ID                         \n",
       "1833-01-02 BE000006447   NaN -31.0 -14.0 -48.0\n",
       "1833-01-03 BE000006447   NaN -49.5 -31.0 -68.0\n",
       "1833-01-04 BE000006447   NaN -53.5 -39.0 -68.0\n",
       "1833-01-05 BE000006447   NaN -67.0 -44.0 -90.0\n",
       "1833-01-06 BE000006447   NaN -35.5  14.0 -85.0"
      ]
     },
     "execution_count": 28,
     "metadata": {},
     "output_type": "execute_result"
    }
   ],
   "source": [
    "# drop SNOW and SNWD\n",
    "df_weather.drop(['SNOW', 'SNWD'], axis=1, inplace=True)\n",
    "df_weather.head()"
   ]
  },
  {
   "cell_type": "markdown",
   "metadata": {},
   "source": [
    "### 5.2.4 Limiting years included\n",
    "\n",
    "We saw above in Section 5.1 that the amount of climate data increases dramatically after 1906. We also learned in Section 3.1 that the conflict data spans from 1989 until 2020. \n",
    "\n",
    "For this reason, our analysis will most likely concern itself with the years after 1989. But just to give ourselves some leeway and material for comparison, let's maintain everything from 1920 onwards, thus giving us a century of climate data. We will exclude all climate data before this date."
   ]
  },
  {
   "cell_type": "code",
   "execution_count": 29,
   "metadata": {},
   "outputs": [
    {
     "name": "stdout",
     "output_type": "stream",
     "text": [
      "<class 'pandas.core.frame.DataFrame'>\n",
      "MultiIndex: 135566584 entries, (Timestamp('1833-01-02 00:00:00'), 'BE000006447') to (Timestamp('2020-10-20 00:00:00'), 'USR0000TLRG')\n",
      "Data columns (total 4 columns):\n",
      " #   Column  Dtype  \n",
      "---  ------  -----  \n",
      " 0   PRCP    float64\n",
      " 1   TAVG    float64\n",
      " 2   TMAX    float64\n",
      " 3   TMIN    float64\n",
      "dtypes: float64(4)\n",
      "memory usage: 4.8+ GB\n"
     ]
    }
   ],
   "source": [
    "df_weather.info()"
   ]
  },
  {
   "cell_type": "code",
   "execution_count": 30,
   "metadata": {},
   "outputs": [],
   "source": [
    "df_weather_1920 = df_weather.loc['1920-01-01':'2020-10-01']"
   ]
  },
  {
   "cell_type": "code",
   "execution_count": 31,
   "metadata": {},
   "outputs": [
    {
     "data": {
      "text/plain": [
       "11385816"
      ]
     },
     "execution_count": 31,
     "metadata": {},
     "output_type": "execute_result"
    }
   ],
   "source": [
    "df_weather.shape[0] - df_weather_1920.shape[0] "
   ]
  },
  {
   "cell_type": "code",
   "execution_count": 32,
   "metadata": {},
   "outputs": [
    {
     "data": {
      "text/plain": [
       "(124180768, 4)"
      ]
     },
     "execution_count": 32,
     "metadata": {},
     "output_type": "execute_result"
    }
   ],
   "source": [
    "df_weather_1920.shape"
   ]
  },
  {
   "cell_type": "markdown",
   "metadata": {},
   "source": [
    "Removing all data before 1920 and after September 2020 removes >11mln entries from the weather data, leaving us with a dataframe with >124mln observations and 4 features."
   ]
  },
  {
   "cell_type": "code",
   "execution_count": 33,
   "metadata": {},
   "outputs": [
    {
     "data": {
      "text/html": [
       "<div>\n",
       "<style scoped>\n",
       "    .dataframe tbody tr th:only-of-type {\n",
       "        vertical-align: middle;\n",
       "    }\n",
       "\n",
       "    .dataframe tbody tr th {\n",
       "        vertical-align: top;\n",
       "    }\n",
       "\n",
       "    .dataframe thead th {\n",
       "        text-align: right;\n",
       "    }\n",
       "</style>\n",
       "<table border=\"1\" class=\"dataframe\">\n",
       "  <thead>\n",
       "    <tr style=\"text-align: right;\">\n",
       "      <th></th>\n",
       "      <th></th>\n",
       "      <th>PRCP</th>\n",
       "      <th>TAVG</th>\n",
       "      <th>TMAX</th>\n",
       "      <th>TMIN</th>\n",
       "    </tr>\n",
       "    <tr>\n",
       "      <th>DATE</th>\n",
       "      <th>STATION ID</th>\n",
       "      <th></th>\n",
       "      <th></th>\n",
       "      <th></th>\n",
       "      <th></th>\n",
       "    </tr>\n",
       "  </thead>\n",
       "  <tbody>\n",
       "    <tr>\n",
       "      <th rowspan=\"5\" valign=\"top\">1920-01-01</th>\n",
       "      <th>AGE00147704</th>\n",
       "      <td>90.0</td>\n",
       "      <td>140.0</td>\n",
       "      <td>170.0</td>\n",
       "      <td>110.0</td>\n",
       "    </tr>\n",
       "    <tr>\n",
       "      <th>AGE00147705</th>\n",
       "      <td>102.0</td>\n",
       "      <td>155.0</td>\n",
       "      <td>190.0</td>\n",
       "      <td>120.0</td>\n",
       "    </tr>\n",
       "    <tr>\n",
       "      <th>AGE00147706</th>\n",
       "      <td>45.0</td>\n",
       "      <td>130.0</td>\n",
       "      <td>160.0</td>\n",
       "      <td>100.0</td>\n",
       "    </tr>\n",
       "    <tr>\n",
       "      <th>AGE00147710</th>\n",
       "      <td>61.0</td>\n",
       "      <td>130.0</td>\n",
       "      <td>170.0</td>\n",
       "      <td>90.0</td>\n",
       "    </tr>\n",
       "    <tr>\n",
       "      <th>AGE00147711</th>\n",
       "      <td>150.0</td>\n",
       "      <td>NaN</td>\n",
       "      <td>NaN</td>\n",
       "      <td>NaN</td>\n",
       "    </tr>\n",
       "  </tbody>\n",
       "</table>\n",
       "</div>"
      ],
      "text/plain": [
       "                         PRCP   TAVG   TMAX   TMIN\n",
       "DATE       STATION ID                             \n",
       "1920-01-01 AGE00147704   90.0  140.0  170.0  110.0\n",
       "           AGE00147705  102.0  155.0  190.0  120.0\n",
       "           AGE00147706   45.0  130.0  160.0  100.0\n",
       "           AGE00147710   61.0  130.0  170.0   90.0\n",
       "           AGE00147711  150.0    NaN    NaN    NaN"
      ]
     },
     "execution_count": 33,
     "metadata": {},
     "output_type": "execute_result"
    }
   ],
   "source": [
    "df_weather_1920.head()"
   ]
  },
  {
   "cell_type": "code",
   "execution_count": 34,
   "metadata": {},
   "outputs": [
    {
     "name": "stdout",
     "output_type": "stream",
     "text": [
      "CPU times: user 1h 53min 15s, sys: 54.2 s, total: 1h 54min 9s\n",
      "Wall time: 1h 55min 14s\n"
     ]
    }
   ],
   "source": [
    "# %%time\n",
    "# # export cleaned df after 1920 to local csv\n",
    "# df_weather_1920.to_csv('/Users/data_science/Desktop/springboard_repo/capstones/capstone-two/data/interim/df_weather_50k_clean_1920onwards.csv')"
   ]
  },
  {
   "cell_type": "markdown",
   "metadata": {},
   "source": [
    "# 6. Summary & Conclusions"
   ]
  },
  {
   "cell_type": "markdown",
   "metadata": {},
   "source": [
    "In this notebook we have:\n",
    "\n",
    "1. **Cleaned the UCDP conflict data (Section 3) by:**  \n",
    "\n",
    " 1. omitting a large number of variables (19) that were not relevant to our analysis. \n",
    " \n",
    " 2. omitting observations that did not meet our standards for data precision. \n",
    " \n",
    " 3. exporting the cleaned dataset to local csv 'df_conflict_clean.csv'\n",
    "\n",
    "\n",
    "2. **Executed a spatial join of climate data to buffered conflict data (Section 4)**\n",
    "- This was done to obtain only the weather stations located in our areas of interest (conflict)\n",
    "- The data extraction of .dly files into local .csv's is executed in Notebook 01 Data Collection\n",
    "\n",
    "\n",
    "3. **Cleaned the GHCN climate data (Section 5) by:**\n",
    " 1. omitting variables SNOW (snowfall) and SNWD (snow depth) because of high number of NaN values\n",
    " 2. converting extreme outliers (identified based on additional research) to NaN\n",
    " 3. limiting data to 1920-2020\n",
    " 4. exporting the cleaned dataset to local csv 'df_weather_50k_clean.csv'"
   ]
  },
  {
   "cell_type": "markdown",
   "metadata": {},
   "source": [
    "## 6.1 Summary of UCDP Conflict Data\n",
    "\n",
    "### 6.1.1. Overview\n",
    "\n",
    "This section presents the analysis of the Profile Report of the cleaned dataset.\n",
    "\n",
    "**NOTE:** The profile report of the cleaned dataset can be found in the 'reports' section of this repo.\n",
    "\n",
    "After removing the redundant variables and filtering for the observations with acceptable location and date precision, we now have a dataframe containing:\n",
    "- 30 variables\n",
    "- 211879 observations\n",
    "- 47067 missing cells ~ 0.7% of dataset; most of which (>41000) are in adm_2 as previously noted.\n",
    "\n",
    "### 6.1.2. Key Variables for Our Analysis & Points of Concern\n",
    "\n",
    "##### id\n",
    "This column contains only unique values, meaning each conflict incident indeed has a unique identifier.\n",
    "\n",
    "##### years\n",
    "This column contains integers ranging from 1989 to 2020; an interval of ~30 years.\n",
    "**This is less than expected and might be an issue.** When downloading the dataset I was under the impression that it stretched from 1946 onwards. I will have to look into this further. A potential issue here might be that a phenomenon like 'climate change' needs to be studied at longer intervals than 30 years.\n",
    "\n",
    "##### type_of_violence\n",
    "This is a categorical variable containing 1) for state-based conflicts (74%), 2) for non-state based conflicts (15.8%), and 3) for one-sided conflicts (10.2%). This variable may well be of use in our analysis in order to evaluate trends for different conflict types.\n",
    "\n",
    "##### conflict_id\n",
    "There are 1207 unique values in this column, with 2 conflicts (#299 and #333) claiming very high percentages, 20.9% and 13.8% respectively. All other conflict id's account for less than 3% of conflict incidents each. This variable will help us group our conflict incidents by specific conflict. \n",
    "\n",
    "##### conflict_name\n",
    "There are 1206 unique values in this column, meaning **1 conflict_id does not have a corresponding name. Something to look into.**\n",
    "\n",
    "##### adm_1\n",
    "This column contains the name of the first-order administrative region in which the conflict incident took place. The column contains 1485 distinct values and only 0.9% are missing. **This may therefore be a good variable to group our conflicts by larger geographical regions.**\n",
    "\n",
    "##### adm_2\n",
    "This column contains the name of the second-order administrative region. The column contains 6917 unique values but **41805 missing (~20%)**. While this variable would give us a more fine-grained geographical scale to group our conflict incidents by, the fact that such a large portion of incidents are missing adm_2 values is a trade-off worth considering further at a later stage.\n",
    "\n",
    "##### latitude & longitude\n",
    "No missing values for either of these columns. This is great news.\n",
    "\n",
    "##### country \n",
    "No missing values for this column.\n",
    "\n",
    "##### region\n",
    "No missing values for this column. Region is either: Middle East, Asia, Africa, America, Europe\n",
    "\n",
    "##### deaths: side_a, side_b, civilians, unknown\n",
    "No missing values for this column.\n",
    "All four variables do **include significant outliers which will have to be investigated further.**\n",
    "deaths_a: mean = 1.73, max = 10000\n",
    "deaths_b: mean = 2.29, max = 5000\n",
    "deaths_civilians: mean = 4.19, max = 40000\n",
    "deaths_unknown: mean = 1.35, max = 3000\n",
    "\n",
    "##### date start / end\n",
    "No missing values for this column. Columns can be converted to datetime object without issues."
   ]
  },
  {
   "cell_type": "markdown",
   "metadata": {},
   "source": [
    "## 6.2 Summary of GHCN Climate Data\n",
    "\n",
    "### 6.2.1. Time Frames\n",
    "- All variables in the spatially joined GHCN climate dataset have equal number of observations, ranging from January 1833 until October 2020. \n",
    "- All variables exhibit a dramatic increase of measurements after 1906\n",
    "- For all variables, the highest density of recordings lies between ~1950 and ~1990\n",
    "\n",
    "### 6.2.2. Key Variables for Our Analysis\n",
    "- PRCP is the most complete variable with <5% missing values.\n",
    "- TMIN and TMAX are next with ~55% missing values.\n",
    "- TAVG, SNOW, and SNWD all have ~95% missing values.\n",
    "- all variables have some extreme outliers which will be treated as registration errors and converted to NaN.\n",
    "\n"
   ]
  },
  {
   "cell_type": "markdown",
   "metadata": {},
   "source": [
    "## 6.3 Target Variable\n",
    "The target variable of our analysis will be **conflict severity**.\n",
    "We will define this variable based on 1) the number of deaths and 2) the duration of the conflict.\n",
    "\n",
    "The number of deaths will be calculated from the existing variables: *deaths_a, deaths_b, deaths_civilian* and *deaths_unknown*.\n",
    "\n",
    "The conflict duration can be calculated from the *date_start* of the first conflict incident of a particular conflict ID and the *date_end* of the last conflict incident pertaining to that same conflict ID.\n",
    "\n",
    "These variables will be combined into a measurement of conflict severity. We will postpone exact definition of this measure until a later stage of the analysis, after more in-depth exploratory data analysis has been conducted."
   ]
  },
  {
   "cell_type": "markdown",
   "metadata": {},
   "source": [
    "## 6.4 Explanatory Variables\n",
    "\n",
    "We will maintain all variables of the spatially-joined GHCN dataset for the moment and evaluate relevance of specific features on a case-by-case basis as we look at specific conflict regions."
   ]
  }
 ],
 "metadata": {
  "kernelspec": {
   "display_name": "sklearn-py3.7",
   "language": "python",
   "name": "sklearn-py3.7"
  },
  "language_info": {
   "codemirror_mode": {
    "name": "ipython",
    "version": 3
   },
   "file_extension": ".py",
   "mimetype": "text/x-python",
   "name": "python",
   "nbconvert_exporter": "python",
   "pygments_lexer": "ipython3",
   "version": "3.7.9"
  }
 },
 "nbformat": 4,
 "nbformat_minor": 2
}
