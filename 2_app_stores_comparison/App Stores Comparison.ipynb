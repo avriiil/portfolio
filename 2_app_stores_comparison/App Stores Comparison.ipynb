{
 "cells": [
  {
   "cell_type": "markdown",
   "metadata": {
    "colab_type": "text",
    "id": "i2RUFW7TFcuh"
   },
   "source": [
    "# Springboard Apps project - Tier 3 - Complete\n",
    "\n",
    "**Brief**\n",
    "\n",
    "Did Apple Store apps receive better reviews than Google Play apps?\n",
    "\n",
    "## Stages of the project\n",
    "\n",
    "1. Sourcing and loading \n",
    "    * Load the two datasets\n",
    "    * Pick the columns that we are going to work with \n",
    "    * Subsetting the data on this basis \n",
    " \n",
    " \n",
    "2. Cleaning, transforming and visualizing\n",
    "    * Check the data types and fix them\n",
    "    * Add a `platform` column to both the `Apple` and the `Google` dataframes\n",
    "    * Changing the column names to prepare for a join \n",
    "    * Join the two data sets\n",
    "    * Eliminate the `NaN` values\n",
    "    * Filter only those apps that have been reviewed at least once\n",
    "    * Summarize the data visually and analytically (by the column `platform`)  \n",
    "  \n",
    "  \n",
    "3. Modelling \n",
    "    * Hypothesis formulation\n",
    "    * Getting the distribution of the data\n",
    "    * Permutation test \n",
    "\n",
    "\n",
    "4. Evaluating and concluding \n",
    "    * What is our conclusion?\n",
    "    * What is our decision?\n",
    "    * Other models we could have used. \n",
    "    "
   ]
  },
  {
   "cell_type": "markdown",
   "metadata": {
    "colab_type": "text",
    "id": "QLUAXtl1Fcuk"
   },
   "source": [
    "## Importing the libraries\n"
   ]
  },
  {
   "cell_type": "code",
   "execution_count": 1,
   "metadata": {
    "colab": {},
    "colab_type": "code",
    "id": "XeXJOlGiFcum"
   },
   "outputs": [],
   "source": [
    "import pandas as pd\n",
    "import numpy as np\n",
    "import matplotlib.pyplot as plt\n",
    "from scipy import stats\n",
    "import random"
   ]
  },
  {
   "cell_type": "markdown",
   "metadata": {
    "colab_type": "text",
    "id": "zVD7NlPAFcup"
   },
   "source": [
    "## Stage 1 -  Sourcing and loading data"
   ]
  },
  {
   "cell_type": "markdown",
   "metadata": {
    "colab_type": "text",
    "id": "KU8bdbImFcuq"
   },
   "source": [
    "### 1a. Source and load the data\n",
    "The data for this project was downloaded from Kaggle. The data from the Apple Store can be found [here](https://www.kaggle.com/ramamet4/app-store-apple-data-set-10k-apps) and the data from Google Store can be found [here](https://www.kaggle.com/lava18/google-play-store-apps)."
   ]
  },
  {
   "cell_type": "code",
   "execution_count": 2,
   "metadata": {
    "colab": {},
    "colab_type": "code",
    "id": "laM1PB76Fcur"
   },
   "outputs": [
    {
     "data": {
      "text/html": [
       "<div>\n",
       "<style scoped>\n",
       "    .dataframe tbody tr th:only-of-type {\n",
       "        vertical-align: middle;\n",
       "    }\n",
       "\n",
       "    .dataframe tbody tr th {\n",
       "        vertical-align: top;\n",
       "    }\n",
       "\n",
       "    .dataframe thead th {\n",
       "        text-align: right;\n",
       "    }\n",
       "</style>\n",
       "<table border=\"1\" class=\"dataframe\">\n",
       "  <thead>\n",
       "    <tr style=\"text-align: right;\">\n",
       "      <th></th>\n",
       "      <th>App</th>\n",
       "      <th>Category</th>\n",
       "      <th>Rating</th>\n",
       "      <th>Reviews</th>\n",
       "      <th>Size</th>\n",
       "      <th>Installs</th>\n",
       "      <th>Type</th>\n",
       "      <th>Price</th>\n",
       "      <th>Content Rating</th>\n",
       "      <th>Genres</th>\n",
       "      <th>Last Updated</th>\n",
       "      <th>Current Ver</th>\n",
       "      <th>Android Ver</th>\n",
       "    </tr>\n",
       "  </thead>\n",
       "  <tbody>\n",
       "    <tr>\n",
       "      <th>0</th>\n",
       "      <td>Photo Editor &amp; Candy Camera &amp; Grid &amp; ScrapBook</td>\n",
       "      <td>ART_AND_DESIGN</td>\n",
       "      <td>4.1</td>\n",
       "      <td>159</td>\n",
       "      <td>19M</td>\n",
       "      <td>10,000+</td>\n",
       "      <td>Free</td>\n",
       "      <td>0</td>\n",
       "      <td>Everyone</td>\n",
       "      <td>Art &amp; Design</td>\n",
       "      <td>January 7, 2018</td>\n",
       "      <td>1.0.0</td>\n",
       "      <td>4.0.3 and up</td>\n",
       "    </tr>\n",
       "    <tr>\n",
       "      <th>1</th>\n",
       "      <td>Coloring book moana</td>\n",
       "      <td>ART_AND_DESIGN</td>\n",
       "      <td>3.9</td>\n",
       "      <td>967</td>\n",
       "      <td>14M</td>\n",
       "      <td>500,000+</td>\n",
       "      <td>Free</td>\n",
       "      <td>0</td>\n",
       "      <td>Everyone</td>\n",
       "      <td>Art &amp; Design;Pretend Play</td>\n",
       "      <td>January 15, 2018</td>\n",
       "      <td>2.0.0</td>\n",
       "      <td>4.0.3 and up</td>\n",
       "    </tr>\n",
       "    <tr>\n",
       "      <th>2</th>\n",
       "      <td>U Launcher Lite – FREE Live Cool Themes, Hide ...</td>\n",
       "      <td>ART_AND_DESIGN</td>\n",
       "      <td>4.7</td>\n",
       "      <td>87510</td>\n",
       "      <td>8.7M</td>\n",
       "      <td>5,000,000+</td>\n",
       "      <td>Free</td>\n",
       "      <td>0</td>\n",
       "      <td>Everyone</td>\n",
       "      <td>Art &amp; Design</td>\n",
       "      <td>August 1, 2018</td>\n",
       "      <td>1.2.4</td>\n",
       "      <td>4.0.3 and up</td>\n",
       "    </tr>\n",
       "  </tbody>\n",
       "</table>\n",
       "</div>"
      ],
      "text/plain": [
       "                                                 App        Category  Rating  \\\n",
       "0     Photo Editor & Candy Camera & Grid & ScrapBook  ART_AND_DESIGN     4.1   \n",
       "1                                Coloring book moana  ART_AND_DESIGN     3.9   \n",
       "2  U Launcher Lite – FREE Live Cool Themes, Hide ...  ART_AND_DESIGN     4.7   \n",
       "\n",
       "  Reviews  Size    Installs  Type Price Content Rating  \\\n",
       "0     159   19M     10,000+  Free     0       Everyone   \n",
       "1     967   14M    500,000+  Free     0       Everyone   \n",
       "2   87510  8.7M  5,000,000+  Free     0       Everyone   \n",
       "\n",
       "                      Genres      Last Updated Current Ver   Android Ver  \n",
       "0               Art & Design   January 7, 2018       1.0.0  4.0.3 and up  \n",
       "1  Art & Design;Pretend Play  January 15, 2018       2.0.0  4.0.3 and up  \n",
       "2               Art & Design    August 1, 2018       1.2.4  4.0.3 and up  "
      ]
     },
     "execution_count": 2,
     "metadata": {},
     "output_type": "execute_result"
    }
   ],
   "source": [
    "# create path to file variable\n",
    "google = 'googleplaystore.csv'\n",
    "\n",
    "# Read the csv file into a data frame called Google using the read_csv() pandas method.\n",
    "Google = pd.read_csv(google)\n",
    "\n",
    "Google.head(3)"
   ]
  },
  {
   "cell_type": "code",
   "execution_count": 5,
   "metadata": {
    "colab": {},
    "colab_type": "code",
    "id": "3AW8EA1wFcuu"
   },
   "outputs": [
    {
     "data": {
      "text/html": [
       "<div>\n",
       "<style scoped>\n",
       "    .dataframe tbody tr th:only-of-type {\n",
       "        vertical-align: middle;\n",
       "    }\n",
       "\n",
       "    .dataframe tbody tr th {\n",
       "        vertical-align: top;\n",
       "    }\n",
       "\n",
       "    .dataframe thead th {\n",
       "        text-align: right;\n",
       "    }\n",
       "</style>\n",
       "<table border=\"1\" class=\"dataframe\">\n",
       "  <thead>\n",
       "    <tr style=\"text-align: right;\">\n",
       "      <th></th>\n",
       "      <th>id</th>\n",
       "      <th>track_name</th>\n",
       "      <th>size_bytes</th>\n",
       "      <th>currency</th>\n",
       "      <th>price</th>\n",
       "      <th>rating_count_tot</th>\n",
       "      <th>rating_count_ver</th>\n",
       "      <th>user_rating</th>\n",
       "      <th>user_rating_ver</th>\n",
       "      <th>ver</th>\n",
       "      <th>cont_rating</th>\n",
       "      <th>prime_genre</th>\n",
       "      <th>sup_devices.num</th>\n",
       "      <th>ipadSc_urls.num</th>\n",
       "      <th>lang.num</th>\n",
       "      <th>vpp_lic</th>\n",
       "    </tr>\n",
       "  </thead>\n",
       "  <tbody>\n",
       "    <tr>\n",
       "      <th>1</th>\n",
       "      <td>281656475</td>\n",
       "      <td>PAC-MAN Premium</td>\n",
       "      <td>100788224</td>\n",
       "      <td>USD</td>\n",
       "      <td>3.99</td>\n",
       "      <td>21292</td>\n",
       "      <td>26</td>\n",
       "      <td>4.0</td>\n",
       "      <td>4.5</td>\n",
       "      <td>6.3.5</td>\n",
       "      <td>4+</td>\n",
       "      <td>Games</td>\n",
       "      <td>38</td>\n",
       "      <td>5</td>\n",
       "      <td>10</td>\n",
       "      <td>1</td>\n",
       "    </tr>\n",
       "    <tr>\n",
       "      <th>2</th>\n",
       "      <td>281796108</td>\n",
       "      <td>Evernote - stay organized</td>\n",
       "      <td>158578688</td>\n",
       "      <td>USD</td>\n",
       "      <td>0.00</td>\n",
       "      <td>161065</td>\n",
       "      <td>26</td>\n",
       "      <td>4.0</td>\n",
       "      <td>3.5</td>\n",
       "      <td>8.2.2</td>\n",
       "      <td>4+</td>\n",
       "      <td>Productivity</td>\n",
       "      <td>37</td>\n",
       "      <td>5</td>\n",
       "      <td>23</td>\n",
       "      <td>1</td>\n",
       "    </tr>\n",
       "    <tr>\n",
       "      <th>3</th>\n",
       "      <td>281940292</td>\n",
       "      <td>WeatherBug - Local Weather, Radar, Maps, Alerts</td>\n",
       "      <td>100524032</td>\n",
       "      <td>USD</td>\n",
       "      <td>0.00</td>\n",
       "      <td>188583</td>\n",
       "      <td>2822</td>\n",
       "      <td>3.5</td>\n",
       "      <td>4.5</td>\n",
       "      <td>5.0.0</td>\n",
       "      <td>4+</td>\n",
       "      <td>Weather</td>\n",
       "      <td>37</td>\n",
       "      <td>5</td>\n",
       "      <td>3</td>\n",
       "      <td>1</td>\n",
       "    </tr>\n",
       "  </tbody>\n",
       "</table>\n",
       "</div>"
      ],
      "text/plain": [
       "          id                                       track_name  size_bytes  \\\n",
       "1  281656475                                  PAC-MAN Premium   100788224   \n",
       "2  281796108                        Evernote - stay organized   158578688   \n",
       "3  281940292  WeatherBug - Local Weather, Radar, Maps, Alerts   100524032   \n",
       "\n",
       "  currency  price  rating_count_tot  rating_count_ver  user_rating  \\\n",
       "1      USD   3.99             21292                26          4.0   \n",
       "2      USD   0.00            161065                26          4.0   \n",
       "3      USD   0.00            188583              2822          3.5   \n",
       "\n",
       "   user_rating_ver    ver cont_rating   prime_genre  sup_devices.num  \\\n",
       "1              4.5  6.3.5          4+         Games               38   \n",
       "2              3.5  8.2.2          4+  Productivity               37   \n",
       "3              4.5  5.0.0          4+       Weather               37   \n",
       "\n",
       "   ipadSc_urls.num  lang.num  vpp_lic  \n",
       "1                5        10        1  \n",
       "2                5        23        1  \n",
       "3                5         3        1  "
      ]
     },
     "execution_count": 5,
     "metadata": {},
     "output_type": "execute_result"
    }
   ],
   "source": [
    "apple = 'AppleStore.csv'\n",
    "Apple = pd.read_csv(apple, index_col=0)\n",
    "Apple.head(3)"
   ]
  },
  {
   "cell_type": "markdown",
   "metadata": {
    "colab_type": "text",
    "id": "vljOHKNTFcuw"
   },
   "source": [
    "### 1b. Pick the columns we'll work with\n",
    "\n",
    "From the documentation of these datasets, we can infer that the most appropriate columns to answer the brief are:\n",
    "\n",
    "1. Google:\n",
    "    * `Category` # Do we need this?\n",
    "    * `Rating`\n",
    "    * `Reviews`\n",
    "    * `Price` (maybe)\n",
    "2. Apple:    \n",
    "    * `prime_genre` # Do we need this?\n",
    "    * `user_rating` \n",
    "    * `rating_count_tot`\n",
    "    * `price` (maybe)"
   ]
  },
  {
   "cell_type": "markdown",
   "metadata": {
    "colab_type": "text",
    "id": "uf69AeTvFcux"
   },
   "source": [
    "### 1c. Subsetting accordingly\n"
   ]
  },
  {
   "cell_type": "code",
   "execution_count": 8,
   "metadata": {
    "colab": {},
    "colab_type": "code",
    "id": "LNSDXyjdFcuy"
   },
   "outputs": [
    {
     "data": {
      "text/html": [
       "<div>\n",
       "<style scoped>\n",
       "    .dataframe tbody tr th:only-of-type {\n",
       "        vertical-align: middle;\n",
       "    }\n",
       "\n",
       "    .dataframe tbody tr th {\n",
       "        vertical-align: top;\n",
       "    }\n",
       "\n",
       "    .dataframe thead th {\n",
       "        text-align: right;\n",
       "    }\n",
       "</style>\n",
       "<table border=\"1\" class=\"dataframe\">\n",
       "  <thead>\n",
       "    <tr style=\"text-align: right;\">\n",
       "      <th></th>\n",
       "      <th>Category</th>\n",
       "      <th>Rating</th>\n",
       "      <th>Reviews</th>\n",
       "      <th>Price</th>\n",
       "    </tr>\n",
       "  </thead>\n",
       "  <tbody>\n",
       "    <tr>\n",
       "      <th>0</th>\n",
       "      <td>ART_AND_DESIGN</td>\n",
       "      <td>4.1</td>\n",
       "      <td>159</td>\n",
       "      <td>0</td>\n",
       "    </tr>\n",
       "    <tr>\n",
       "      <th>1</th>\n",
       "      <td>ART_AND_DESIGN</td>\n",
       "      <td>3.9</td>\n",
       "      <td>967</td>\n",
       "      <td>0</td>\n",
       "    </tr>\n",
       "    <tr>\n",
       "      <th>2</th>\n",
       "      <td>ART_AND_DESIGN</td>\n",
       "      <td>4.7</td>\n",
       "      <td>87510</td>\n",
       "      <td>0</td>\n",
       "    </tr>\n",
       "  </tbody>\n",
       "</table>\n",
       "</div>"
      ],
      "text/plain": [
       "         Category  Rating Reviews Price\n",
       "0  ART_AND_DESIGN     4.1     159     0\n",
       "1  ART_AND_DESIGN     3.9     967     0\n",
       "2  ART_AND_DESIGN     4.7   87510     0"
      ]
     },
     "execution_count": 8,
     "metadata": {},
     "output_type": "execute_result"
    }
   ],
   "source": [
    "# Subset our DataFrame object Google by selecting just the variables ['Category', 'Rating', 'Reviews', 'Price']\n",
    "Google = Google[['Category', 'Rating', 'Reviews', 'Price']]\n",
    "Google.head(3)"
   ]
  },
  {
   "cell_type": "code",
   "execution_count": 13,
   "metadata": {
    "colab": {},
    "colab_type": "code",
    "id": "AVCtENPtFcu0"
   },
   "outputs": [
    {
     "data": {
      "text/html": [
       "<div>\n",
       "<style scoped>\n",
       "    .dataframe tbody tr th:only-of-type {\n",
       "        vertical-align: middle;\n",
       "    }\n",
       "\n",
       "    .dataframe tbody tr th {\n",
       "        vertical-align: top;\n",
       "    }\n",
       "\n",
       "    .dataframe thead th {\n",
       "        text-align: right;\n",
       "    }\n",
       "</style>\n",
       "<table border=\"1\" class=\"dataframe\">\n",
       "  <thead>\n",
       "    <tr style=\"text-align: right;\">\n",
       "      <th></th>\n",
       "      <th>prime_genre</th>\n",
       "      <th>user_rating</th>\n",
       "      <th>rating_count_tot</th>\n",
       "      <th>price</th>\n",
       "    </tr>\n",
       "  </thead>\n",
       "  <tbody>\n",
       "    <tr>\n",
       "      <th>0</th>\n",
       "      <td>Games</td>\n",
       "      <td>4.0</td>\n",
       "      <td>21292</td>\n",
       "      <td>3.99</td>\n",
       "    </tr>\n",
       "    <tr>\n",
       "      <th>1</th>\n",
       "      <td>Productivity</td>\n",
       "      <td>4.0</td>\n",
       "      <td>161065</td>\n",
       "      <td>0.00</td>\n",
       "    </tr>\n",
       "    <tr>\n",
       "      <th>2</th>\n",
       "      <td>Weather</td>\n",
       "      <td>3.5</td>\n",
       "      <td>188583</td>\n",
       "      <td>0.00</td>\n",
       "    </tr>\n",
       "  </tbody>\n",
       "</table>\n",
       "</div>"
      ],
      "text/plain": [
       "    prime_genre  user_rating  rating_count_tot  price\n",
       "0         Games          4.0             21292   3.99\n",
       "1  Productivity          4.0            161065   0.00\n",
       "2       Weather          3.5            188583   0.00"
      ]
     },
     "execution_count": 13,
     "metadata": {},
     "output_type": "execute_result"
    }
   ],
   "source": [
    "# Do the same with our Apple object, selecting just the variables ['prime_genre', 'user_rating', 'rating_count_tot', 'price']\n",
    "Apple = Apple[['prime_genre', 'user_rating', 'rating_count_tot', 'price']]\n",
    "Apple = Apple.reset_index(drop=True)\n",
    "Apple.head(3)"
   ]
  },
  {
   "cell_type": "markdown",
   "metadata": {
    "colab_type": "text",
    "id": "wwK2wH-rFcu2"
   },
   "source": [
    "## Stage 2 -  Cleaning, transforming and visualizing"
   ]
  },
  {
   "cell_type": "markdown",
   "metadata": {
    "colab_type": "text",
    "id": "NsoE5x0JFcu3"
   },
   "source": [
    "### 2a. Check the data types for both Apple and Google, and fix them\n",
    " "
   ]
  },
  {
   "cell_type": "code",
   "execution_count": 15,
   "metadata": {
    "colab": {},
    "colab_type": "code",
    "id": "ymw10SaWFcu4"
   },
   "outputs": [
    {
     "data": {
      "text/plain": [
       "prime_genre          object\n",
       "user_rating         float64\n",
       "rating_count_tot      int64\n",
       "price               float64\n",
       "dtype: object"
      ]
     },
     "execution_count": 15,
     "metadata": {},
     "output_type": "execute_result"
    }
   ],
   "source": [
    "Apple.dtypes"
   ]
  },
  {
   "cell_type": "markdown",
   "metadata": {
    "colab_type": "text",
    "id": "VAiM6jIxFcu6"
   },
   "source": [
    "This is looking healthy. But what about our Google data frame?"
   ]
  },
  {
   "cell_type": "code",
   "execution_count": 16,
   "metadata": {
    "colab": {},
    "colab_type": "code",
    "id": "kmP8MhqyFcu7"
   },
   "outputs": [
    {
     "data": {
      "text/plain": [
       "Category     object\n",
       "Rating      float64\n",
       "Reviews      object\n",
       "Price        object\n",
       "dtype: object"
      ]
     },
     "execution_count": 16,
     "metadata": {},
     "output_type": "execute_result"
    }
   ],
   "source": [
    "Google.dtypes"
   ]
  },
  {
   "cell_type": "markdown",
   "metadata": {
    "colab_type": "text",
    "id": "O-dxAy0WFcu9"
   },
   "source": [
    "Weird. The data type for the column 'Price' is 'object', not a numeric data type like a float or an integer. Let's investigate the unique values of this column. "
   ]
  },
  {
   "cell_type": "code",
   "execution_count": 17,
   "metadata": {
    "colab": {},
    "colab_type": "code",
    "id": "Hu08K9y7Fcu9"
   },
   "outputs": [
    {
     "data": {
      "text/plain": [
       "array(['0', '$4.99', '$3.99', '$6.99', '$1.49', '$2.99', '$7.99', '$5.99',\n",
       "       '$3.49', '$1.99', '$9.99', '$7.49', '$0.99', '$9.00', '$5.49',\n",
       "       '$10.00', '$24.99', '$11.99', '$79.99', '$16.99', '$14.99',\n",
       "       '$1.00', '$29.99', '$12.99', '$2.49', '$10.99', '$1.50', '$19.99',\n",
       "       '$15.99', '$33.99', '$74.99', '$39.99', '$3.95', '$4.49', '$1.70',\n",
       "       '$8.99', '$2.00', '$3.88', '$25.99', '$399.99', '$17.99',\n",
       "       '$400.00', '$3.02', '$1.76', '$4.84', '$4.77', '$1.61', '$2.50',\n",
       "       '$1.59', '$6.49', '$1.29', '$5.00', '$13.99', '$299.99', '$379.99',\n",
       "       '$37.99', '$18.99', '$389.99', '$19.90', '$8.49', '$1.75',\n",
       "       '$14.00', '$4.85', '$46.99', '$109.99', '$154.99', '$3.08',\n",
       "       '$2.59', '$4.80', '$1.96', '$19.40', '$3.90', '$4.59', '$15.46',\n",
       "       '$3.04', '$4.29', '$2.60', '$3.28', '$4.60', '$28.99', '$2.95',\n",
       "       '$2.90', '$1.97', '$200.00', '$89.99', '$2.56', '$30.99', '$3.61',\n",
       "       '$394.99', '$1.26', 'Everyone', '$1.20', '$1.04'], dtype=object)"
      ]
     },
     "execution_count": 17,
     "metadata": {},
     "output_type": "execute_result"
    }
   ],
   "source": [
    "Google.Price.unique()"
   ]
  },
  {
   "cell_type": "markdown",
   "metadata": {
    "colab_type": "text",
    "id": "w_7nkogFFcu_"
   },
   "source": [
    "Aha! Fascinating. There are actually two issues here. \n",
    "\n",
    "- Firstly, there's a price called `Everyone`. That is a massive mistake! \n",
    "- Secondly, there are dollar symbols everywhere! \n",
    "\n",
    "\n",
    "Let's address the first issue first. Let's check the datapoints that have the price value `Everyone`"
   ]
  },
  {
   "cell_type": "code",
   "execution_count": 18,
   "metadata": {
    "colab": {},
    "colab_type": "code",
    "id": "E75WWmhdFcvA"
   },
   "outputs": [
    {
     "data": {
      "text/html": [
       "<div>\n",
       "<style scoped>\n",
       "    .dataframe tbody tr th:only-of-type {\n",
       "        vertical-align: middle;\n",
       "    }\n",
       "\n",
       "    .dataframe tbody tr th {\n",
       "        vertical-align: top;\n",
       "    }\n",
       "\n",
       "    .dataframe thead th {\n",
       "        text-align: right;\n",
       "    }\n",
       "</style>\n",
       "<table border=\"1\" class=\"dataframe\">\n",
       "  <thead>\n",
       "    <tr style=\"text-align: right;\">\n",
       "      <th></th>\n",
       "      <th>Category</th>\n",
       "      <th>Rating</th>\n",
       "      <th>Reviews</th>\n",
       "      <th>Price</th>\n",
       "    </tr>\n",
       "  </thead>\n",
       "  <tbody>\n",
       "    <tr>\n",
       "      <th>10472</th>\n",
       "      <td>1.9</td>\n",
       "      <td>19.0</td>\n",
       "      <td>3.0M</td>\n",
       "      <td>Everyone</td>\n",
       "    </tr>\n",
       "  </tbody>\n",
       "</table>\n",
       "</div>"
      ],
      "text/plain": [
       "      Category  Rating Reviews     Price\n",
       "10472      1.9    19.0    3.0M  Everyone"
      ]
     },
     "execution_count": 18,
     "metadata": {},
     "output_type": "execute_result"
    }
   ],
   "source": [
    "Google.loc[Google.Price == 'Everyone']"
   ]
  },
  {
   "cell_type": "markdown",
   "metadata": {
    "colab_type": "text",
    "id": "ezfLshdRFcvC"
   },
   "source": [
    "Thankfully, it's just one row. We've gotta get rid of it. "
   ]
  },
  {
   "cell_type": "code",
   "execution_count": 19,
   "metadata": {
    "colab": {},
    "colab_type": "code",
    "id": "DBmjUQUkFcvD"
   },
   "outputs": [
    {
     "data": {
      "text/plain": [
       "array(['0', '$4.99', '$3.99', '$6.99', '$1.49', '$2.99', '$7.99', '$5.99',\n",
       "       '$3.49', '$1.99', '$9.99', '$7.49', '$0.99', '$9.00', '$5.49',\n",
       "       '$10.00', '$24.99', '$11.99', '$79.99', '$16.99', '$14.99',\n",
       "       '$1.00', '$29.99', '$12.99', '$2.49', '$10.99', '$1.50', '$19.99',\n",
       "       '$15.99', '$33.99', '$74.99', '$39.99', '$3.95', '$4.49', '$1.70',\n",
       "       '$8.99', '$2.00', '$3.88', '$25.99', '$399.99', '$17.99',\n",
       "       '$400.00', '$3.02', '$1.76', '$4.84', '$4.77', '$1.61', '$2.50',\n",
       "       '$1.59', '$6.49', '$1.29', '$5.00', '$13.99', '$299.99', '$379.99',\n",
       "       '$37.99', '$18.99', '$389.99', '$19.90', '$8.49', '$1.75',\n",
       "       '$14.00', '$4.85', '$46.99', '$109.99', '$154.99', '$3.08',\n",
       "       '$2.59', '$4.80', '$1.96', '$19.40', '$3.90', '$4.59', '$15.46',\n",
       "       '$3.04', '$4.29', '$2.60', '$3.28', '$4.60', '$28.99', '$2.95',\n",
       "       '$2.90', '$1.97', '$200.00', '$89.99', '$2.56', '$30.99', '$3.61',\n",
       "       '$394.99', '$1.26', '$1.20', '$1.04'], dtype=object)"
      ]
     },
     "execution_count": 19,
     "metadata": {},
     "output_type": "execute_result"
    }
   ],
   "source": [
    "Google = Google.loc[~(Google.Price == 'Everyone')]\n",
    "\n",
    "# Check again the unique values of Google\n",
    "Google.Price.unique()"
   ]
  },
  {
   "cell_type": "markdown",
   "metadata": {
    "colab_type": "text",
    "id": "T43TB4qFFcvF"
   },
   "source": [
    "Our second problem remains: I'm seeing dollar symbols when I close my eyes! (And not in a good way). "
   ]
  },
  {
   "cell_type": "code",
   "execution_count": 23,
   "metadata": {
    "colab": {},
    "colab_type": "code",
    "id": "W87gVS9BFcvG"
   },
   "outputs": [],
   "source": [
    "# Let's create a variable called nosymb.\n",
    "# This variable will take the Price column of Google and apply the str.replace() method. \n",
    "nosymb = Google.Price.str.replace('$', '')\n",
    "\n",
    "# Now we need to do two things:\n",
    "# i. Make the values in the nosymb variable numeric using the to_numeric() pandas method.\n",
    "# ii. Assign this new set of numeric, dollar-sign-less values to Google['Price']. \n",
    "# You can do this in one line if you wish.\n",
    "Google.Price = pd.to_numeric(nosymb)"
   ]
  },
  {
   "cell_type": "markdown",
   "metadata": {
    "colab_type": "text",
    "id": "LxpJQ9yyFcvI"
   },
   "source": [
    "Now let's check the data types for our Google dataframe again, to verify that the 'Price' column really is numeric now."
   ]
  },
  {
   "cell_type": "code",
   "execution_count": 24,
   "metadata": {
    "colab": {},
    "colab_type": "code",
    "id": "Fn5Gt-QbFcvI"
   },
   "outputs": [
    {
     "data": {
      "text/plain": [
       "Category     object\n",
       "Rating      float64\n",
       "Reviews      object\n",
       "Price       float64\n",
       "dtype: object"
      ]
     },
     "execution_count": 24,
     "metadata": {},
     "output_type": "execute_result"
    }
   ],
   "source": [
    "Google.dtypes"
   ]
  },
  {
   "cell_type": "markdown",
   "metadata": {
    "colab_type": "text",
    "id": "FgfuiVo0FcvK"
   },
   "source": [
    "Notice that the column `Reviews` is still an object column. We actually need this column to be a numeric column, too. "
   ]
  },
  {
   "cell_type": "code",
   "execution_count": 25,
   "metadata": {
    "colab": {},
    "colab_type": "code",
    "id": "MiVEWsWBFcvL"
   },
   "outputs": [],
   "source": [
    "Google.Reviews = pd.to_numeric(Google.Reviews)"
   ]
  },
  {
   "cell_type": "code",
   "execution_count": 26,
   "metadata": {
    "colab": {},
    "colab_type": "code",
    "id": "wWJdXXTTFcvN"
   },
   "outputs": [
    {
     "data": {
      "text/plain": [
       "Category     object\n",
       "Rating      float64\n",
       "Reviews       int64\n",
       "Price       float64\n",
       "dtype: object"
      ]
     },
     "execution_count": 26,
     "metadata": {},
     "output_type": "execute_result"
    }
   ],
   "source": [
    "# Let's check the data types of Google again\n",
    "Google.dtypes"
   ]
  },
  {
   "cell_type": "markdown",
   "metadata": {
    "colab_type": "text",
    "id": "OiLm2GEKFcvP"
   },
   "source": [
    "### 2b. Add a `platform` column to both the `Apple` and the `Google` dataframes\n",
    "Let's add a new column to both dataframe objects called `platform`: all of its values in the Google dataframe will be just 'google', and all of its values for the Apple dataframe will be just 'apple'. \n",
    "\n",
    "The reason we're making this column is so that we can ultimately join our Apple and Google data together, and actually test out some hypotheses to solve the problem in our brief. "
   ]
  },
  {
   "cell_type": "code",
   "execution_count": 29,
   "metadata": {
    "colab": {},
    "colab_type": "code",
    "id": "mF-sOcx2FcvQ"
   },
   "outputs": [],
   "source": [
    "Apple['platform'] = 'apple'\n",
    "Google['platform'] = 'google'"
   ]
  },
  {
   "cell_type": "markdown",
   "metadata": {
    "colab_type": "text",
    "id": "EJcry17IFcvS"
   },
   "source": [
    "### 2c. Changing the column names to prepare for our join of the two datasets "
   ]
  },
  {
   "cell_type": "code",
   "execution_count": 65,
   "metadata": {
    "colab": {},
    "colab_type": "code",
    "id": "bdt9XH2KFcvT"
   },
   "outputs": [],
   "source": [
    "# Create a variable called old_names to store the column names of the Apple dataframe \n",
    "old_names = Apple.columns\n",
    "\n",
    "# Create a variable called new_names to store the column names of the Google dataframe \n",
    "new_names = Google.columns\n",
    "\n",
    "# change the columns names\n",
    "Apple.rename(columns=dict(zip(old_names,new_names)), inplace=True)"
   ]
  },
  {
   "cell_type": "code",
   "execution_count": 66,
   "metadata": {},
   "outputs": [
    {
     "data": {
      "text/html": [
       "<div>\n",
       "<style scoped>\n",
       "    .dataframe tbody tr th:only-of-type {\n",
       "        vertical-align: middle;\n",
       "    }\n",
       "\n",
       "    .dataframe tbody tr th {\n",
       "        vertical-align: top;\n",
       "    }\n",
       "\n",
       "    .dataframe thead th {\n",
       "        text-align: right;\n",
       "    }\n",
       "</style>\n",
       "<table border=\"1\" class=\"dataframe\">\n",
       "  <thead>\n",
       "    <tr style=\"text-align: right;\">\n",
       "      <th></th>\n",
       "      <th>Category</th>\n",
       "      <th>Rating</th>\n",
       "      <th>Reviews</th>\n",
       "      <th>Price</th>\n",
       "      <th>platform</th>\n",
       "    </tr>\n",
       "  </thead>\n",
       "  <tbody>\n",
       "    <tr>\n",
       "      <th>0</th>\n",
       "      <td>Games</td>\n",
       "      <td>4.0</td>\n",
       "      <td>21292</td>\n",
       "      <td>3.99</td>\n",
       "      <td>apple</td>\n",
       "    </tr>\n",
       "    <tr>\n",
       "      <th>1</th>\n",
       "      <td>Productivity</td>\n",
       "      <td>4.0</td>\n",
       "      <td>161065</td>\n",
       "      <td>0.00</td>\n",
       "      <td>apple</td>\n",
       "    </tr>\n",
       "    <tr>\n",
       "      <th>2</th>\n",
       "      <td>Weather</td>\n",
       "      <td>3.5</td>\n",
       "      <td>188583</td>\n",
       "      <td>0.00</td>\n",
       "      <td>apple</td>\n",
       "    </tr>\n",
       "    <tr>\n",
       "      <th>3</th>\n",
       "      <td>Shopping</td>\n",
       "      <td>4.0</td>\n",
       "      <td>262241</td>\n",
       "      <td>0.00</td>\n",
       "      <td>apple</td>\n",
       "    </tr>\n",
       "    <tr>\n",
       "      <th>4</th>\n",
       "      <td>Reference</td>\n",
       "      <td>4.5</td>\n",
       "      <td>985920</td>\n",
       "      <td>0.00</td>\n",
       "      <td>apple</td>\n",
       "    </tr>\n",
       "  </tbody>\n",
       "</table>\n",
       "</div>"
      ],
      "text/plain": [
       "       Category  Rating  Reviews  Price platform\n",
       "0         Games     4.0    21292   3.99    apple\n",
       "1  Productivity     4.0   161065   0.00    apple\n",
       "2       Weather     3.5   188583   0.00    apple\n",
       "3      Shopping     4.0   262241   0.00    apple\n",
       "4     Reference     4.5   985920   0.00    apple"
      ]
     },
     "execution_count": 66,
     "metadata": {},
     "output_type": "execute_result"
    }
   ],
   "source": [
    "Apple.head()"
   ]
  },
  {
   "cell_type": "markdown",
   "metadata": {
    "colab_type": "text",
    "id": "qewPiLrRFcvX"
   },
   "source": [
    "### 2d. Join the two datasets \n",
    "Let's combine the two datasets into a single data frame called `df`."
   ]
  },
  {
   "cell_type": "code",
   "execution_count": 67,
   "metadata": {
    "colab": {},
    "colab_type": "code",
    "id": "jq6fGfvyFcvY"
   },
   "outputs": [
    {
     "data": {
      "text/html": [
       "<div>\n",
       "<style scoped>\n",
       "    .dataframe tbody tr th:only-of-type {\n",
       "        vertical-align: middle;\n",
       "    }\n",
       "\n",
       "    .dataframe tbody tr th {\n",
       "        vertical-align: top;\n",
       "    }\n",
       "\n",
       "    .dataframe thead th {\n",
       "        text-align: right;\n",
       "    }\n",
       "</style>\n",
       "<table border=\"1\" class=\"dataframe\">\n",
       "  <thead>\n",
       "    <tr style=\"text-align: right;\">\n",
       "      <th></th>\n",
       "      <th>Category</th>\n",
       "      <th>Rating</th>\n",
       "      <th>Reviews</th>\n",
       "      <th>Price</th>\n",
       "      <th>platform</th>\n",
       "    </tr>\n",
       "  </thead>\n",
       "  <tbody>\n",
       "    <tr>\n",
       "      <th>1812</th>\n",
       "      <td>GAME</td>\n",
       "      <td>4.4</td>\n",
       "      <td>70747</td>\n",
       "      <td>0.00</td>\n",
       "      <td>google</td>\n",
       "    </tr>\n",
       "    <tr>\n",
       "      <th>9095</th>\n",
       "      <td>FINANCE</td>\n",
       "      <td>4.7</td>\n",
       "      <td>642</td>\n",
       "      <td>0.00</td>\n",
       "      <td>google</td>\n",
       "    </tr>\n",
       "    <tr>\n",
       "      <th>9448</th>\n",
       "      <td>NEWS_AND_MAGAZINES</td>\n",
       "      <td>NaN</td>\n",
       "      <td>10</td>\n",
       "      <td>0.00</td>\n",
       "      <td>google</td>\n",
       "    </tr>\n",
       "    <tr>\n",
       "      <th>1694</th>\n",
       "      <td>GAME</td>\n",
       "      <td>4.5</td>\n",
       "      <td>10216538</td>\n",
       "      <td>0.00</td>\n",
       "      <td>google</td>\n",
       "    </tr>\n",
       "    <tr>\n",
       "      <th>1663</th>\n",
       "      <td>Games</td>\n",
       "      <td>4.5</td>\n",
       "      <td>28902</td>\n",
       "      <td>0.00</td>\n",
       "      <td>apple</td>\n",
       "    </tr>\n",
       "    <tr>\n",
       "      <th>9911</th>\n",
       "      <td>FAMILY</td>\n",
       "      <td>5.0</td>\n",
       "      <td>5</td>\n",
       "      <td>0.00</td>\n",
       "      <td>google</td>\n",
       "    </tr>\n",
       "    <tr>\n",
       "      <th>1369</th>\n",
       "      <td>Games</td>\n",
       "      <td>4.5</td>\n",
       "      <td>78918</td>\n",
       "      <td>0.00</td>\n",
       "      <td>apple</td>\n",
       "    </tr>\n",
       "    <tr>\n",
       "      <th>7812</th>\n",
       "      <td>GAME</td>\n",
       "      <td>4.5</td>\n",
       "      <td>299046</td>\n",
       "      <td>0.00</td>\n",
       "      <td>google</td>\n",
       "    </tr>\n",
       "    <tr>\n",
       "      <th>5716</th>\n",
       "      <td>Productivity</td>\n",
       "      <td>3.5</td>\n",
       "      <td>353</td>\n",
       "      <td>9.99</td>\n",
       "      <td>apple</td>\n",
       "    </tr>\n",
       "    <tr>\n",
       "      <th>8371</th>\n",
       "      <td>FAMILY</td>\n",
       "      <td>4.3</td>\n",
       "      <td>10</td>\n",
       "      <td>12.99</td>\n",
       "      <td>google</td>\n",
       "    </tr>\n",
       "    <tr>\n",
       "      <th>7918</th>\n",
       "      <td>FINANCE</td>\n",
       "      <td>4.0</td>\n",
       "      <td>732</td>\n",
       "      <td>0.00</td>\n",
       "      <td>google</td>\n",
       "    </tr>\n",
       "    <tr>\n",
       "      <th>5186</th>\n",
       "      <td>Games</td>\n",
       "      <td>4.5</td>\n",
       "      <td>15</td>\n",
       "      <td>0.99</td>\n",
       "      <td>apple</td>\n",
       "    </tr>\n",
       "  </tbody>\n",
       "</table>\n",
       "</div>"
      ],
      "text/plain": [
       "                Category  Rating   Reviews  Price platform\n",
       "1812                GAME     4.4     70747   0.00   google\n",
       "9095             FINANCE     4.7       642   0.00   google\n",
       "9448  NEWS_AND_MAGAZINES     NaN        10   0.00   google\n",
       "1694                GAME     4.5  10216538   0.00   google\n",
       "1663               Games     4.5     28902   0.00    apple\n",
       "9911              FAMILY     5.0         5   0.00   google\n",
       "1369               Games     4.5     78918   0.00    apple\n",
       "7812                GAME     4.5    299046   0.00   google\n",
       "5716        Productivity     3.5       353   9.99    apple\n",
       "8371              FAMILY     4.3        10  12.99   google\n",
       "7918             FINANCE     4.0       732   0.00   google\n",
       "5186               Games     4.5        15   0.99    apple"
      ]
     },
     "execution_count": 67,
     "metadata": {},
     "output_type": "execute_result"
    }
   ],
   "source": [
    "# Let's use append() \n",
    "df = Google.append(Apple)\n",
    "\n",
    "# check 12 random points of the joined dataset\n",
    "df.sample(12)"
   ]
  },
  {
   "cell_type": "code",
   "execution_count": 71,
   "metadata": {},
   "outputs": [
    {
     "data": {
      "text/html": [
       "<div>\n",
       "<style scoped>\n",
       "    .dataframe tbody tr th:only-of-type {\n",
       "        vertical-align: middle;\n",
       "    }\n",
       "\n",
       "    .dataframe tbody tr th {\n",
       "        vertical-align: top;\n",
       "    }\n",
       "\n",
       "    .dataframe thead th {\n",
       "        text-align: right;\n",
       "    }\n",
       "</style>\n",
       "<table border=\"1\" class=\"dataframe\">\n",
       "  <thead>\n",
       "    <tr style=\"text-align: right;\">\n",
       "      <th></th>\n",
       "      <th>Category</th>\n",
       "      <th>Rating</th>\n",
       "      <th>Reviews</th>\n",
       "      <th>Price</th>\n",
       "      <th>platform</th>\n",
       "    </tr>\n",
       "  </thead>\n",
       "  <tbody>\n",
       "    <tr>\n",
       "      <th>0</th>\n",
       "      <td>ART_AND_DESIGN</td>\n",
       "      <td>4.1</td>\n",
       "      <td>159</td>\n",
       "      <td>0.00</td>\n",
       "      <td>google</td>\n",
       "    </tr>\n",
       "    <tr>\n",
       "      <th>0</th>\n",
       "      <td>Games</td>\n",
       "      <td>4.0</td>\n",
       "      <td>21292</td>\n",
       "      <td>3.99</td>\n",
       "      <td>apple</td>\n",
       "    </tr>\n",
       "    <tr>\n",
       "      <th>1</th>\n",
       "      <td>Productivity</td>\n",
       "      <td>4.0</td>\n",
       "      <td>161065</td>\n",
       "      <td>0.00</td>\n",
       "      <td>apple</td>\n",
       "    </tr>\n",
       "    <tr>\n",
       "      <th>1</th>\n",
       "      <td>ART_AND_DESIGN</td>\n",
       "      <td>3.9</td>\n",
       "      <td>967</td>\n",
       "      <td>0.00</td>\n",
       "      <td>google</td>\n",
       "    </tr>\n",
       "    <tr>\n",
       "      <th>2</th>\n",
       "      <td>ART_AND_DESIGN</td>\n",
       "      <td>4.7</td>\n",
       "      <td>87510</td>\n",
       "      <td>0.00</td>\n",
       "      <td>google</td>\n",
       "    </tr>\n",
       "    <tr>\n",
       "      <th>...</th>\n",
       "      <td>...</td>\n",
       "      <td>...</td>\n",
       "      <td>...</td>\n",
       "      <td>...</td>\n",
       "      <td>...</td>\n",
       "    </tr>\n",
       "    <tr>\n",
       "      <th>10836</th>\n",
       "      <td>FAMILY</td>\n",
       "      <td>4.5</td>\n",
       "      <td>38</td>\n",
       "      <td>0.00</td>\n",
       "      <td>google</td>\n",
       "    </tr>\n",
       "    <tr>\n",
       "      <th>10837</th>\n",
       "      <td>FAMILY</td>\n",
       "      <td>5.0</td>\n",
       "      <td>4</td>\n",
       "      <td>0.00</td>\n",
       "      <td>google</td>\n",
       "    </tr>\n",
       "    <tr>\n",
       "      <th>10838</th>\n",
       "      <td>MEDICAL</td>\n",
       "      <td>NaN</td>\n",
       "      <td>3</td>\n",
       "      <td>0.00</td>\n",
       "      <td>google</td>\n",
       "    </tr>\n",
       "    <tr>\n",
       "      <th>10839</th>\n",
       "      <td>BOOKS_AND_REFERENCE</td>\n",
       "      <td>4.5</td>\n",
       "      <td>114</td>\n",
       "      <td>0.00</td>\n",
       "      <td>google</td>\n",
       "    </tr>\n",
       "    <tr>\n",
       "      <th>10840</th>\n",
       "      <td>LIFESTYLE</td>\n",
       "      <td>4.5</td>\n",
       "      <td>398307</td>\n",
       "      <td>0.00</td>\n",
       "      <td>google</td>\n",
       "    </tr>\n",
       "  </tbody>\n",
       "</table>\n",
       "<p>18037 rows × 5 columns</p>\n",
       "</div>"
      ],
      "text/plain": [
       "                  Category  Rating  Reviews  Price platform\n",
       "0           ART_AND_DESIGN     4.1      159   0.00   google\n",
       "0                    Games     4.0    21292   3.99    apple\n",
       "1             Productivity     4.0   161065   0.00    apple\n",
       "1           ART_AND_DESIGN     3.9      967   0.00   google\n",
       "2           ART_AND_DESIGN     4.7    87510   0.00   google\n",
       "...                    ...     ...      ...    ...      ...\n",
       "10836               FAMILY     4.5       38   0.00   google\n",
       "10837               FAMILY     5.0        4   0.00   google\n",
       "10838              MEDICAL     NaN        3   0.00   google\n",
       "10839  BOOKS_AND_REFERENCE     4.5      114   0.00   google\n",
       "10840            LIFESTYLE     4.5   398307   0.00   google\n",
       "\n",
       "[18037 rows x 5 columns]"
      ]
     },
     "execution_count": 71,
     "metadata": {},
     "output_type": "execute_result"
    }
   ],
   "source": [
    "df.sort_index()"
   ]
  },
  {
   "cell_type": "markdown",
   "metadata": {
    "colab_type": "text",
    "id": "FjqsHugWFcvb"
   },
   "source": [
    "### 2e. Eliminate the NaN values\n",
    "\n",
    "As you can see there are some `NaN` values. We want to eliminate all these `NaN` values from the table."
   ]
  },
  {
   "cell_type": "code",
   "execution_count": null,
   "metadata": {},
   "outputs": [],
   "source": [
    "# check shape of df\n",
    "df.shape"
   ]
  },
  {
   "cell_type": "code",
   "execution_count": 75,
   "metadata": {
    "colab": {},
    "colab_type": "code",
    "id": "Gp2q6GLyFcvb"
   },
   "outputs": [
    {
     "data": {
      "text/plain": [
       "(16563, 5)"
      ]
     },
     "execution_count": 75,
     "metadata": {},
     "output_type": "execute_result"
    }
   ],
   "source": [
    "# Use the dropna() method to eliminate all the NaN values, and overwrite the same dataframe with the result. \n",
    "df = df.dropna()\n",
    "\n",
    "# Check the new dimesions of our dataframe. \n",
    "df.shape"
   ]
  },
  {
   "cell_type": "markdown",
   "metadata": {
    "colab_type": "text",
    "id": "qtfeQKtAFcvd"
   },
   "source": [
    "### 2f. Filter the data so that we only see whose apps that have been reviewed at least once\n",
    "\n",
    "Apps that haven't been reviewed yet can't help us solve our brief. \n",
    "\n",
    "So let's check to see if any apps have no reviews at all. "
   ]
  },
  {
   "cell_type": "code",
   "execution_count": 76,
   "metadata": {
    "colab": {},
    "colab_type": "code",
    "id": "Ge9OKXLNFcvd"
   },
   "outputs": [
    {
     "data": {
      "text/plain": [
       "Category    929\n",
       "Rating      929\n",
       "Reviews     929\n",
       "Price       929\n",
       "platform    929\n",
       "dtype: int64"
      ]
     },
     "execution_count": 76,
     "metadata": {},
     "output_type": "execute_result"
    }
   ],
   "source": [
    "# Subset df to pick out just those rows whose value for 'Reviews' is equal to 0. \n",
    "df.loc[df.Reviews == 0].count()"
   ]
  },
  {
   "cell_type": "markdown",
   "metadata": {
    "colab_type": "text",
    "id": "05f7H0kAFcvg"
   },
   "source": [
    "929 apps do not have reviews, we need to eliminate these points!"
   ]
  },
  {
   "cell_type": "code",
   "execution_count": 77,
   "metadata": {
    "colab": {},
    "colab_type": "code",
    "id": "pD8vmPjkFcvg"
   },
   "outputs": [
    {
     "data": {
      "text/plain": [
       "Category    0\n",
       "Rating      0\n",
       "Reviews     0\n",
       "Price       0\n",
       "platform    0\n",
       "dtype: int64"
      ]
     },
     "execution_count": 77,
     "metadata": {},
     "output_type": "execute_result"
    }
   ],
   "source": [
    "# Eliminate the points that have 0 reviews.\n",
    "df = df.loc[~(df.Reviews == 0)]\n",
    "df.loc[df.Reviews == 0].count()"
   ]
  },
  {
   "cell_type": "markdown",
   "metadata": {
    "colab_type": "text",
    "id": "ApnKES_bFcvi"
   },
   "source": [
    "### 2g. Summarize the data visually and analytically (by the column `platform`)"
   ]
  },
  {
   "cell_type": "markdown",
   "metadata": {
    "colab_type": "text",
    "id": "2smt9UocFcvj"
   },
   "source": [
    "What we need to solve our brief is a summary of the `Rating` column, but separated by the different platforms."
   ]
  },
  {
   "cell_type": "code",
   "execution_count": 79,
   "metadata": {
    "colab": {},
    "colab_type": "code",
    "id": "Vqckt347Fcvj"
   },
   "outputs": [
    {
     "data": {
      "text/html": [
       "<div>\n",
       "<style scoped>\n",
       "    .dataframe tbody tr th:only-of-type {\n",
       "        vertical-align: middle;\n",
       "    }\n",
       "\n",
       "    .dataframe tbody tr th {\n",
       "        vertical-align: top;\n",
       "    }\n",
       "\n",
       "    .dataframe thead th {\n",
       "        text-align: right;\n",
       "    }\n",
       "</style>\n",
       "<table border=\"1\" class=\"dataframe\">\n",
       "  <thead>\n",
       "    <tr style=\"text-align: right;\">\n",
       "      <th></th>\n",
       "      <th>Rating</th>\n",
       "      <th>Reviews</th>\n",
       "      <th>Price</th>\n",
       "    </tr>\n",
       "    <tr>\n",
       "      <th>platform</th>\n",
       "      <th></th>\n",
       "      <th></th>\n",
       "      <th></th>\n",
       "    </tr>\n",
       "  </thead>\n",
       "  <tbody>\n",
       "    <tr>\n",
       "      <th>apple</th>\n",
       "      <td>4.049697</td>\n",
       "      <td>14803.805520</td>\n",
       "      <td>1.821977</td>\n",
       "    </tr>\n",
       "    <tr>\n",
       "      <th>google</th>\n",
       "      <td>4.191757</td>\n",
       "      <td>514049.836536</td>\n",
       "      <td>0.960928</td>\n",
       "    </tr>\n",
       "  </tbody>\n",
       "</table>\n",
       "</div>"
      ],
      "text/plain": [
       "            Rating        Reviews     Price\n",
       "platform                                   \n",
       "apple     4.049697   14803.805520  1.821977\n",
       "google    4.191757  514049.836536  0.960928"
      ]
     },
     "execution_count": 79,
     "metadata": {},
     "output_type": "execute_result"
    }
   ],
   "source": [
    "# To summarize analytically, let's use the groupby() method on our df.\n",
    "df.groupby('platform').mean()"
   ]
  },
  {
   "cell_type": "markdown",
   "metadata": {
    "colab_type": "text",
    "id": "8f9TqMtKFcvl"
   },
   "source": [
    "Interesting! Our means of 4.049697 and 4.191757 don't **seem** all that different! Perhaps we've solved our brief already: there's no significant difference between Google Play app reviews and Apple Store app reviews. We have an ***observed difference*** here: which is simply (4.191757 - 4.049697) = 0.14206. This is just the actual difference that we observed between the mean rating for apps from Google Play, and the mean rating for apps from the Apple Store. Let's look at how we're going to use this observed difference to solve our problem using a statistical test. \n",
    "\n",
    "**Outline of our method:**\n",
    "1. We'll assume that platform (i.e, whether the app was Google or Apple) really doesn’t impact on ratings. \n",
    "\n",
    "\n",
    "2. Given this assumption, we should actually be able to get a difference in mean rating for Apple apps and mean rating for Google apps that's pretty similar to the one we actually got (0.14206) just by: \n",
    "a. shuffling the ratings column, \n",
    "b. keeping the platform column the same,\n",
    "c. calculating the difference between the mean rating for Apple and the mean rating for Google. \n",
    "\n",
    "\n",
    "3. We can make the shuffle more useful by doing it many times, each time calculating the mean rating for Apple apps and the mean rating for Google apps, and the difference between these means. \n",
    "\n",
    "\n",
    "4. We can then take the mean of all these differences, and this will be called our permutation difference. This permutation difference will be great indicator of what the difference would be if our initial assumption were true and platform really doesn’t impact on ratings. \n",
    "\n",
    "\n",
    "5. Now we do a comparison. If the observed difference looks just like the permutation difference, then we stick with the claim that actually, platform doesn’t impact on ratings. If instead, however, the permutation difference differs significantly from the observed difference, we'll conclude: something's going on; the platform does in fact impact on ratings. \n",
    "\n",
    "\n",
    "6. As for what the definition of *significantly* is, we'll get to that. But there’s a brief summary of what we're going to do. Exciting!\n",
    "\n",
    "If you want to look more deeply at the statistics behind this project, check out [this resource](https://www.springboard.com/archeio/download/4ea4d453b0b84014bcef287c50f47f00/)."
   ]
  },
  {
   "cell_type": "markdown",
   "metadata": {
    "colab_type": "text",
    "id": "d6EhTxArFcvm"
   },
   "source": [
    "Let's also get a **visual summary** of the `Rating` column, separated by the different platforms. "
   ]
  },
  {
   "cell_type": "code",
   "execution_count": 84,
   "metadata": {
    "colab": {},
    "colab_type": "code",
    "id": "hFKjrlWgFcvm"
   },
   "outputs": [
    {
     "data": {
      "image/png": "[encoded data removed]",
      "text/plain": [
       "<Figure size 432x288 with 1 Axes>"
      ]
     },
     "metadata": {
      "needs_background": "light"
     },
     "output_type": "display_data"
    }
   ],
   "source": [
    "# Call the boxplot() method on our df.\n",
    "df.boxplot('Rating', by='platform');"
   ]
  },
  {
   "cell_type": "markdown",
   "metadata": {
    "colab_type": "text",
    "id": "O8L-s1fgFcvp"
   },
   "source": [
    "## Stage 3 - Modelling"
   ]
  },
  {
   "cell_type": "markdown",
   "metadata": {
    "colab_type": "text",
    "id": "5fbRq2MZFcvq"
   },
   "source": [
    "### 3a. Hypothesis formulation\n",
    "\n",
    "Our **Null hypothesis** is:\n",
    "\n",
    "**H<sub>null</sub>**: the observed difference in the mean rating of Apple Store and Google Play apps is due to chance (and thus not due to the platform).\n",
    "\n",
    "The **Alternate hypothesis** os:\n",
    "\n",
    "**H<sub>alternative</sub>**: the observed difference in the average ratings of apple and google users is not due to chance (and is actually due to platform)\n",
    "\n",
    "We're selecting a **significance level** of 0.05. "
   ]
  },
  {
   "cell_type": "markdown",
   "metadata": {
    "colab_type": "text",
    "id": "TjBqkabaFcvq"
   },
   "source": [
    "### 3b. Getting the distribution of the data\n",
    "Now that the hypotheses and significance level are defined, we can select a statistical test to determine which hypothesis to accept. One of the most important things to determine is the **distribution of the data**.   "
   ]
  },
  {
   "cell_type": "code",
   "execution_count": 87,
   "metadata": {
    "colab": {},
    "colab_type": "code",
    "id": "bFwVhkeWFcvr"
   },
   "outputs": [],
   "source": [
    "# Create subsets of the column 'Rating' by the different platforms\n",
    "apple = df['Rating'].loc[df.platform == 'apple']\n",
    "google = df['Rating'].loc[df.platform == 'google']"
   ]
  },
  {
   "cell_type": "code",
   "execution_count": 89,
   "metadata": {
    "colab": {},
    "colab_type": "code",
    "id": "oPPFpwPvFcvu"
   },
   "outputs": [
    {
     "data": {
      "text/plain": [
       "NormaltestResult(statistic=1778.9974234584017, pvalue=0.0)"
      ]
     },
     "execution_count": 89,
     "metadata": {},
     "output_type": "execute_result"
    }
   ],
   "source": [
    "# get an indication of whether the apple data are normally distributed\n",
    "apple_normal = stats.normaltest(apple)\n",
    "apple_normal"
   ]
  },
  {
   "cell_type": "code",
   "execution_count": 90,
   "metadata": {
    "colab": {},
    "colab_type": "code",
    "id": "rCdh8a8KFcvw"
   },
   "outputs": [
    {
     "data": {
      "text/plain": [
       "NormaltestResult(statistic=3678.6157187516856, pvalue=0.0)"
      ]
     },
     "execution_count": 90,
     "metadata": {},
     "output_type": "execute_result"
    }
   ],
   "source": [
    "# Do the same with the google data. \n",
    "google_normal = stats.normaltest(google)\n",
    "google_normal"
   ]
  },
  {
   "cell_type": "markdown",
   "metadata": {
    "colab_type": "text",
    "id": "9gDqu21yFcv0"
   },
   "source": [
    "Since the null hypothesis of the normaltest() is that the data are normally distributed, the lower the p-value in the result of this test, the more likely the data are to be non-normal. \n",
    "\n",
    "Since the p-values is 0 for both tests, regardless of what we pick for the significance level, our conclusion is that the data are not normally distributed. \n",
    "\n",
    "We can actually also check out the distribution of the data visually with a histogram to verify this."
   ]
  },
  {
   "cell_type": "code",
   "execution_count": 91,
   "metadata": {
    "colab": {},
    "colab_type": "code",
    "id": "P9tT9RjNFcv1"
   },
   "outputs": [
    {
     "data": {
      "image/png": "[encoded data removed]",
      "text/plain": [
       "<Figure size 432x288 with 1 Axes>"
      ]
     },
     "metadata": {
      "needs_background": "light"
     },
     "output_type": "display_data"
    }
   ],
   "source": [
    "# Create a histogram of the apple reviews distribution\n",
    "apple.hist(histtype='step', bins=15);"
   ]
  },
  {
   "cell_type": "code",
   "execution_count": 92,
   "metadata": {
    "colab": {},
    "colab_type": "code",
    "id": "8dE1uC5iFcv2"
   },
   "outputs": [
    {
     "data": {
      "image/png": "[encoded data removed]",
      "text/plain": [
       "<Figure size 432x288 with 1 Axes>"
      ]
     },
     "metadata": {
      "needs_background": "light"
     },
     "output_type": "display_data"
    }
   ],
   "source": [
    "# Create a histogram of the google data\n",
    "google.hist(histtype='step', bins=15);"
   ]
  },
  {
   "cell_type": "markdown",
   "metadata": {
    "colab_type": "text",
    "id": "QhZV89FzFcv5"
   },
   "source": [
    "### 3c. Permutation test\n",
    "Since the data aren't normally distributed, we're using a *non-parametric* test here."
   ]
  },
  {
   "cell_type": "code",
   "execution_count": 107,
   "metadata": {
    "colab": {},
    "colab_type": "code",
    "id": "bxNhQgpqFcv6"
   },
   "outputs": [
    {
     "data": {
      "text/html": [
       "<div>\n",
       "<style scoped>\n",
       "    .dataframe tbody tr th:only-of-type {\n",
       "        vertical-align: middle;\n",
       "    }\n",
       "\n",
       "    .dataframe tbody tr th {\n",
       "        vertical-align: top;\n",
       "    }\n",
       "\n",
       "    .dataframe thead th {\n",
       "        text-align: right;\n",
       "    }\n",
       "</style>\n",
       "<table border=\"1\" class=\"dataframe\">\n",
       "  <thead>\n",
       "    <tr style=\"text-align: right;\">\n",
       "      <th></th>\n",
       "      <th>count</th>\n",
       "      <th>mean</th>\n",
       "      <th>std</th>\n",
       "      <th>min</th>\n",
       "      <th>25%</th>\n",
       "      <th>50%</th>\n",
       "      <th>75%</th>\n",
       "      <th>max</th>\n",
       "    </tr>\n",
       "    <tr>\n",
       "      <th>platform</th>\n",
       "      <th></th>\n",
       "      <th></th>\n",
       "      <th></th>\n",
       "      <th></th>\n",
       "      <th></th>\n",
       "      <th></th>\n",
       "      <th></th>\n",
       "      <th></th>\n",
       "    </tr>\n",
       "  </thead>\n",
       "  <tbody>\n",
       "    <tr>\n",
       "      <th>apple</th>\n",
       "      <td>6268.0</td>\n",
       "      <td>4.132179</td>\n",
       "      <td>0.605791</td>\n",
       "      <td>1.0</td>\n",
       "      <td>4.0</td>\n",
       "      <td>4.3</td>\n",
       "      <td>4.5</td>\n",
       "      <td>5.0</td>\n",
       "    </tr>\n",
       "    <tr>\n",
       "      <th>google</th>\n",
       "      <td>9366.0</td>\n",
       "      <td>4.136558</td>\n",
       "      <td>0.617726</td>\n",
       "      <td>1.0</td>\n",
       "      <td>4.0</td>\n",
       "      <td>4.3</td>\n",
       "      <td>4.5</td>\n",
       "      <td>5.0</td>\n",
       "    </tr>\n",
       "  </tbody>\n",
       "</table>\n",
       "</div>"
      ],
      "text/plain": [
       "           count      mean       std  min  25%  50%  75%  max\n",
       "platform                                                     \n",
       "apple     6268.0  4.132179  0.605791  1.0  4.0  4.3  4.5  5.0\n",
       "google    9366.0  4.136558  0.617726  1.0  4.0  4.3  4.5  5.0"
      ]
     },
     "execution_count": 107,
     "metadata": {},
     "output_type": "execute_result"
    }
   ],
   "source": [
    "# Create a column called `Permutation1`, and assign to it the result of permuting the Rating column\n",
    "df['Permutation1'] = np.random.permutation(df.Rating)\n",
    "\n",
    "# Call the describe() method on our permutation grouped by 'platform'\n",
    "df.Permutation1.groupby(df.platform).describe()"
   ]
  },
  {
   "cell_type": "code",
   "execution_count": 110,
   "metadata": {},
   "outputs": [],
   "source": [
    "# extract permutation mean of apple ratings and of google ratings\n",
    "perm1_apple = df.Permutation1.groupby(df.platform).mean().apple\n",
    "perm1_google = df.Permutation1.groupby(df.platform).mean().google"
   ]
  },
  {
   "cell_type": "code",
   "execution_count": 126,
   "metadata": {
    "colab": {},
    "colab_type": "code",
    "id": "AaGNfPGTFcv7"
   },
   "outputs": [
    {
     "name": "stdout",
     "output_type": "stream",
     "text": [
      "13.768210888110044% difference between observed mean and permutation mean\n"
     ]
    }
   ],
   "source": [
    "# Lets compare with the previous analytical summary:\n",
    "obs_diff = abs(df['Rating'].groupby(df.platform).mean().google - df['Rating'].groupby(df.platform).mean().apple)\n",
    "perm1_diff = abs(perm1_google - perm1_apple)\n",
    "compare = abs(perm1_diff - obs_diff)\n",
    "print(str(compare) + 'point difference between observed mean and permutation mean'\n",
    "print(str(compare * 100) + '% difference between observed mean and permutation mean')"
   ]
  },
  {
   "cell_type": "code",
   "execution_count": 119,
   "metadata": {
    "colab": {},
    "colab_type": "code",
    "id": "aJPNpX0JFcv-"
   },
   "outputs": [],
   "source": [
    "# The difference in the means for Permutation1 (0.001103) now looks hugely different to our observed difference of 0.14206. \n",
    "# It's sure starting to look like our observed difference is significant, and that the Null is false; platform does impact on ratings\n",
    "# But to be sure, let's create 10,000 permutations, calculate the mean ratings for Google and Apple apps and the difference between these for each one, and then take the average of all of these differences.\n",
    "# Let's create a vector with the differences - that will be the distibution of the Null.\n",
    "\n",
    "difference = []\n",
    "\n",
    "# Now we'll make a for loop that does the following 10,000 times:\n",
    "# 1. makes a permutation of the 'Rating' as you did above\n",
    "# 2. calculates the difference in the mean rating for apple and the mean rating for google. \n",
    "for i in range(10000):\n",
    "    df['permutation'] = np.random.permutation(df.Rating)\n",
    "    apple_mean = df.permutation.groupby(df.platform).mean().apple\n",
    "    google_mean = df.permutation.groupby(df.platform).mean().google\n",
    "    diff = abs(google_mean - apple_mean)\n",
    "    difference.append(diff)\n",
    "    "
   ]
  },
  {
   "cell_type": "code",
   "execution_count": 120,
   "metadata": {},
   "outputs": [
    {
     "data": {
      "text/plain": [
       "[0.009464953617759342,\n",
       " 0.01122730916765935,\n",
       " 0.006273948964207854,\n",
       " 0.0042985456636222,\n",
       " 0.006007639275861898,\n",
       " 0.004569566958725346,\n",
       " 0.0038191882245506292,\n",
       " 0.0059277463693447885,\n",
       " 0.004835876647073967,\n",
       " 0.0019283894372250643,\n",
       " 0.005177367635194052,\n",
       " 0.000628183571008023,\n",
       " 0.0008412313217105449,\n",
       " 0.005661436680989063,\n",
       " 0.002598875264888889,\n",
       " 0.00578987991841462,\n",
       " 0.007259294811130523,\n",
       " 0.010636716246525957,\n",
       " 0.0015289249047034659,\n",
       " 0.013885694444489616,\n",
       " 0.008399714864320451,\n",
       " 0.004245283725949456,\n",
       " 0.01758739911267604,\n",
       " 0.003983685644337598,\n",
       " 0.004724641164984611,\n",
       " 0.005954377338194483,\n",
       " 0.014289870583787057,\n",
       " 0.0017952345930689617,\n",
       " 0.007121428360213677,\n",
       " 0.022465578016380938,\n",
       " 0.00320667594133095,\n",
       " 0.014769228022825764,\n",
       " 0.0019863629816292416,\n",
       " 0.005608174743295002,\n",
       " 0.011893083388551773,\n",
       " 0.0016354487800320783,\n",
       " 0.008692655521514325,\n",
       " 0.01180847887530767,\n",
       " 0.007201321266720129,\n",
       " 0.007871807094361749,\n",
       " 0.0013957700605322643,\n",
       " 0.010636716246530398,\n",
       " 0.004942400522414125,\n",
       " 0.00853286970851741,\n",
       " 0.0010229364968168397,\n",
       " 0.006109451544447531,\n",
       " 0.0027053991402086197,\n",
       " 0.01428987058380038,\n",
       " 0.0007879693840147084,\n",
       " 0.027578724032849777,\n",
       " 0.01199960726392213,\n",
       " 0.01606943388904103,\n",
       " 0.0059810083070228615,\n",
       " 0.009656082006342714,\n",
       " 0.007072878029270591,\n",
       " 0.005576832167722756,\n",
       " 0.0035528785362117787,\n",
       " 0.020148683727647665,\n",
       " 0.005177367635192276,\n",
       " 0.009949022663551688,\n",
       " 0.005927746369327025,\n",
       " 0.005390415385869041,\n",
       " 0.003957054675486127,\n",
       " 0.015323766761645707,\n",
       " 0.0024657204207017003,\n",
       " 0.01658013390366353,\n",
       " 0.002887104315307809,\n",
       " 0.01857274495960226,\n",
       " 0.003339830785511033,\n",
       " 0.007227952235543178,\n",
       " 0.0025941636581121585,\n",
       " 0.006407103808385273,\n",
       " 0.010055546538887405,\n",
       " 0.011520249824856776,\n",
       " 0.01210141953249444,\n",
       " 0.009891049119122641,\n",
       " 0.01074795172862597,\n",
       " 0.012873717628754555,\n",
       " 0.015355109337217954,\n",
       " 0.016575422296908116,\n",
       " 0.010801213666290721,\n",
       " 0.010162070414221347,\n",
       " 0.013273182161281483,\n",
       " 0.005550201198905036,\n",
       " 0.013113396348280126,\n",
       " 0.0037706378936332996,\n",
       " 0.0023858275141765972,\n",
       " 0.029522784757867626,\n",
       " 0.011409014342778967,\n",
       " 0.0032865688478338484,\n",
       " 0.012873717628743009,\n",
       " 0.011861740812983967,\n",
       " 0.0016620797488791084,\n",
       " 0.0006281835710151285,\n",
       " 0.004809245678242036,\n",
       " 0.00038379324473947207,\n",
       " 0.007361107079719709,\n",
       " 0.009842498788212417,\n",
       " 0.015568157087901824,\n",
       " 0.00981115621262596,\n",
       " 0.014023560895419784,\n",
       " 0.00022400743174610938,\n",
       " 0.018279804302405722,\n",
       " 0.00600292766909849,\n",
       " 0.022940223848681107,\n",
       " 0.019482909506767676,\n",
       " 0.01482248996049318,\n",
       " 0.019616064350930884,\n",
       " 0.003020259159500327,\n",
       " 0.012825167297807916,\n",
       " 0.0074989735306409955,\n",
       " 0.00871928649034448,\n",
       " 0.015803124200678198,\n",
       " 0.003526247567370966,\n",
       " 0.008479607770835784,\n",
       " 0.00552828183679388,\n",
       " 0.010210620745172427,\n",
       " 0.006668701889990913,\n",
       " 0.01969124565070679,\n",
       " 0.0011341719788902083,\n",
       " 0.008772548428026994,\n",
       " 0.00044176678915874845,\n",
       " 0.013832432506808878,\n",
       " 0.019722588226278148,\n",
       " 0.008932334241042561,\n",
       " 0.010556823340021282,\n",
       " 0.004298545663607989,\n",
       " 0.010534903977935883,\n",
       " 0.017964944283120232,\n",
       " 0.0012406958542223734,\n",
       " 0.011222597560927028,\n",
       " 0.006349130263980207,\n",
       " 0.017512217812909014,\n",
       " 0.009363141349149728,\n",
       " 0.002114806219080556,\n",
       " 0.009385060711244897,\n",
       " 0.003983685644323387,\n",
       " 0.014609442209825296,\n",
       " 0.007148059329038503,\n",
       " 0.0033398307855234677,\n",
       " 0.012234574376685181,\n",
       " 0.01495564480468392,\n",
       " 0.002780580439974756,\n",
       " 0.013619384756130337,\n",
       " 0.003233306910172651,\n",
       " 0.005741329587491073,\n",
       " 0.0068331993097601185,\n",
       " 0.0035309591741237156,\n",
       " 0.0036594024115474966,\n",
       " 0.014338420914721262,\n",
       " 0.0039570546754941205,\n",
       " 0.016846443592009486,\n",
       " 0.025629951701096942,\n",
       " 0.009629451037523218,\n",
       " 0.015381740306053437,\n",
       " 0.010796502059551294,\n",
       " 0.001799946199809277,\n",
       " 0.0022526726699805266,\n",
       " 0.026140651715708785,\n",
       " 0.011488907249266767,\n",
       " 0.005709987011901951,\n",
       " 0.013171369892680751,\n",
       " 0.004911057946841879,\n",
       " 0.0014004816672468223,\n",
       " 0.011360464011844762,\n",
       " 0.0023811159074291766,\n",
       " 0.014631361571889379,\n",
       " 0.0003039003382516725,\n",
       " 0.009411691680091927,\n",
       " 0.006801856734168332,\n",
       " 0.004990950853339449,\n",
       " 0.004622828896391873,\n",
       " 0.00022400743174166848,\n",
       " 0.014684623509579886,\n",
       " 0.0029669972218160368,\n",
       " 0.0055768321677494015,\n",
       " 0.012367729220855495,\n",
       " 0.0030202591595038797,\n",
       " 0.005869772824922848,\n",
       " 0.01551489515023352,\n",
       " 0.013331155705697206,\n",
       " 0.0174009823308241,\n",
       " 0.005443677323566654,\n",
       " 4.230225661316922e-05,\n",
       " 0.001400481667239717,\n",
       " 0.004436412114542598,\n",
       " 0.009970942025638863,\n",
       " 0.00789843806320345,\n",
       " 0.005017581822192696,\n",
       " 0.001076198434461162,\n",
       " 0.0035262475673585314,\n",
       " 0.004010316613168641,\n",
       " 0.0030516017350796787,\n",
       " 0.009385060711237792,\n",
       " 0.0026740565646168335,\n",
       " 0.0005702100265940757,\n",
       " 0.001981651374892479,\n",
       " 0.012207943407849697,\n",
       " 0.009305167804734893,\n",
       " 0.0013957700605073953,\n",
       " 0.008612762615012315,\n",
       " 0.013885694444502938,\n",
       " 0.00709479739136043,\n",
       " 0.002146148794650138,\n",
       " 0.010130727838634002,\n",
       " 0.009735974912848278,\n",
       " 0.0016401603867679526,\n",
       " 0.008031592907371987,\n",
       " 0.007206032873454227,\n",
       " 0.012026238232733633,\n",
       " 0.008239929051301331,\n",
       " 0.012900348597573164,\n",
       " 0.022620652222649085,\n",
       " 0.004995662460082428,\n",
       " 0.00017074549404672013,\n",
       " 0.016047514526939644,\n",
       " 0.0015868984491040905,\n",
       " 0.009629451037493908,\n",
       " 0.014711254478411817,\n",
       " 0.004915769553568872,\n",
       " 0.014103453801941335,\n",
       " 0.0029717088285652338,\n",
       " 0.000996305527991126,\n",
       " 0.011786559513209838,\n",
       " 0.009784525243782483,\n",
       " 0.015381740306051661,\n",
       " 0.0020129939504691663,\n",
       " 0.0057366179807640805,\n",
       " 0.008532869708499646,\n",
       " 0.0041653908194430045,\n",
       " 0.0015289249046999132,\n",
       " 0.010743240121874997,\n",
       " 0.024249852928367233,\n",
       " 0.01876387334820162,\n",
       " 0.004724641164982835,\n",
       " 0.006486996714897941,\n",
       " 0.007627416768076323,\n",
       " 0.001342508122837316,\n",
       " 0.0005435790577585919,\n",
       " 0.01703286037388274,\n",
       " 0.005048924397763166,\n",
       " 0.014582811240963167,\n",
       " 0.006109451544448419,\n",
       " 0.006806568340924635,\n",
       " 0.0017466842621125522,\n",
       " 0.004298545663610653,\n",
       " 0.011280571105324988,\n",
       " 0.014684623509573669,\n",
       " 0.0070728780292652615,\n",
       " 0.009469665224504098,\n",
       " 0.0031800449724839197,\n",
       " 1.0959681036482039e-05,\n",
       " 0.002119517825810213,\n",
       " 0.0010809100412130235,\n",
       " 0.009549558131001668,\n",
       " 0.012953610535245907,\n",
       " 0.003100152065995232,\n",
       " 0.006833199309756566,\n",
       " 0.0025675326892944383,\n",
       " 0.004218652757103314,\n",
       " 0.011275859498582008,\n",
       " 0.006695332858835279,\n",
       " 0.005470308292374604,\n",
       " 0.0002819809761600567,\n",
       " 0.005630094105418593,\n",
       " 0.010321856227254678,\n",
       " 0.00395705467548968,\n",
       " 0.018412959146592023,\n",
       " 0.008479607770843778,\n",
       " 0.023477554832157743,\n",
       " 0.014476287365639884,\n",
       " 0.006486996714897053,\n",
       " 0.01729917006221715,\n",
       " 0.0024077468762699894,\n",
       " 0.012713931815714119,\n",
       " 0.01974921919511541,\n",
       " 0.005182079241951243,\n",
       " 0.011835109844149372,\n",
       " 0.005523570230051789,\n",
       " 0.014582811240983595,\n",
       " 0.003712664349238892,\n",
       " 0.012399071796422412,\n",
       " 0.012527515033858627,\n",
       " 0.0015070055425949747,\n",
       " 0.014556180272141006,\n",
       " 0.013459598943117435,\n",
       " 0.0014004816672512632,\n",
       " 0.006056189606770346,\n",
       " 6.422161872166043e-05,\n",
       " 0.0015022939358484422,\n",
       " 0.007285925779964231,\n",
       " 0.0009696745591369904,\n",
       " 6.422161871721954e-05,\n",
       " 0.003877161768985893,\n",
       " 0.015403659668144165,\n",
       " 0.011440356918346772,\n",
       " 0.014444944790045433,\n",
       " 0.002838553984398473,\n",
       " 0.00672196382766721,\n",
       " 0.003664114018289588,\n",
       " 0.008617474221755295,\n",
       " 0.013725908631461614,\n",
       " 0.012953610535236137,\n",
       " 0.015163980948629252,\n",
       " 0.009891049119129747,\n",
       " 0.014098742195197467,\n",
       " 0.006215975419787689,\n",
       " 0.004915769553572424,\n",
       " 0.0035262475673887295,\n",
       " 0.00036187388265229714,\n",
       " 0.0060828205756005005,\n",
       " 0.004196733394999264,\n",
       " 0.01732580103106507,\n",
       " 0.0033131998166808785,\n",
       " 6.893322546552838e-05,\n",
       " 0.0023278539697599854,\n",
       " 0.006429023170469783,\n",
       " 0.012607407940367743,\n",
       " 0.001528924904674156,\n",
       " 0.01327789376801558,\n",
       " 0.012052869201561123,\n",
       " 0.0002819809761520631,\n",
       " 0.015243873855118828,\n",
       " 0.006642070921164311,\n",
       " 0.007227952235553836,\n",
       " 0.018204623002651132,\n",
       " 0.0014224010293242273,\n",
       " 0.0006234719642828068,\n",
       " 0.01162677370020404,\n",
       " 0.007525604499483585,\n",
       " 0.014817778353752864,\n",
       " 0.017241196517798762,\n",
       " 0.0007033648707874818,\n",
       " 0.005661436680977516,\n",
       " 0.006375761232785493,\n",
       " 0.004542935989879204,\n",
       " 0.003526247567367413,\n",
       " 0.010796502059553958,\n",
       " 0.00813340517596206,\n",
       " 0.014311789945880449,\n",
       " 0.009864418150280052,\n",
       " 0.0038458191934145347,\n",
       " 0.002865184953240174,\n",
       " 0.007973619362955375,\n",
       " 0.018763873348189186,\n",
       " 0.009145381991728208,\n",
       " 0.006460365746059793,\n",
       " 0.006433734777210098,\n",
       " 0.007605497405993589,\n",
       " 0.009757894274953216,\n",
       " 0.0012140648854028768,\n",
       " 0.009997572994459247,\n",
       " 0.005017581822185591,\n",
       " 0.0042186527571113075,\n",
       " 0.009757894274927459,\n",
       " 0.004729352771724038,\n",
       " 0.001741972655351809,\n",
       " 0.0032865688478489474,\n",
       " 0.0048311650403141115,\n",
       " 0.0014224010293455436,\n",
       " 0.020942901185980745,\n",
       " 0.007339187717632534,\n",
       " 0.01945627853792331,\n",
       " 0.017667292019179826,\n",
       " 0.009522927162171513,\n",
       " 0.0022479610632455405,\n",
       " 0.005203998604042859,\n",
       " 0.010343775589348958,\n",
       " 0.002732030109031669,\n",
       " 0.0011827223098244133,\n",
       " 0.00863939358383714,\n",
       " 0.008431057439893586,\n",
       " 0.006935011578359962,\n",
       " 0.005044212791014857,\n",
       " 0.006695332858823733,\n",
       " 0.006295868326285259,\n",
       " 0.008164747751553847,\n",
       " 0.00027726936941085967,\n",
       " 0.0010542790723961915,\n",
       " 0.0015602674802579486,\n",
       " 0.001240695854240137,\n",
       " 0.0021946991255719084,\n",
       " 0.020947612792723724,\n",
       " 0.019429647569059405,\n",
       " 0.012394360189686537,\n",
       " 0.005554912805633805,\n",
       " 0.005843141856082923,\n",
       " 0.010694689790940792,\n",
       " 0.0021195178258262004,\n",
       " 0.009198643929405392,\n",
       " 0.007307845142038083,\n",
       " 0.0074143690173871235,\n",
       " 0.010401749133762905,\n",
       " 0.007206032873435575,\n",
       " 0.015008906742366435,\n",
       " 0.006327210901880598,\n",
       " 0.000495028726829716,\n",
       " 0.0025675326893006556,\n",
       " 0.0041653908194279055,\n",
       " 0.0075522354683190684,\n",
       " 0.0016135294179360216,\n",
       " 0.0014803745737488327,\n",
       " 0.008053512269451168,\n",
       " 0.006375761232802368,\n",
       " 0.003792557255728468,\n",
       " 0.011440356918353878,\n",
       " 0.015297135792801342,\n",
       " 0.004170102426165556,\n",
       " 0.0021994107323459744,\n",
       " 0.00859084325292514,\n",
       " 0.0094383226489132,\n",
       " 0.0023591965453455543,\n",
       " 0.012771905360142277,\n",
       " 0.019403016600271883,\n",
       " 0.009709343943998583,\n",
       " 0.003184756579259762,\n",
       " 0.006988273516020271,\n",
       " 0.006881749640680113,\n",
       " 0.0007299958396247419,\n",
       " 0.011200678198830971,\n",
       " 0.007494261923901568,\n",
       " 0.0074409999862385945,\n",
       " 0.0037972688624732243,\n",
       " 0.01807146815848082,\n",
       " 0.005656725074235425,\n",
       " 0.004303257270360739,\n",
       " 0.019105364336331476,\n",
       " 0.010370406558174672,\n",
       " 0.007600785799251497,\n",
       " 0.011546880793686043,\n",
       " 0.003313199816692425,\n",
       " 0.013353075067773723,\n",
       " 0.012687300846887517,\n",
       " 0.020676591497647223,\n",
       " 0.004538224383127343,\n",
       " 0.0060828205756102705,\n",
       " 0.0005702100265985166,\n",
       " 0.004676090834054847,\n",
       " 0.002891815922041019,\n",
       " 0.0023325655765100706,\n",
       " 0.008830521972450711,\n",
       " 0.0007566268084380212,\n",
       " 0.0044630430833754176,\n",
       " 0.018386328177764533,\n",
       " 0.0024657204206839367,\n",
       " 0.0015602674802677186,\n",
       " 0.010614796884434341,\n",
       " 0.010508273009086189,\n",
       " 0.007365818686472458,\n",
       " 0.008510950346401813,\n",
       " 0.022146006390353357,\n",
       " 0.004484962445458152,\n",
       " 0.009757894274939893,\n",
       " 0.012660669878044928,\n",
       " 0.0010761984344878073,\n",
       " 0.016127407433465635,\n",
       " 0.009438322648935404,\n",
       " 0.0032333069101708745,\n",
       " 0.0010276481035633722,\n",
       " 0.0007613384152032054,\n",
       " 0.0062159754197637085,\n",
       " 0.0017999461997808552,\n",
       " 0.024804391667191616,\n",
       " 0.012265916952257427,\n",
       " 0.015084088042099708,\n",
       " 0.006407103808376391,\n",
       " 0.006215975419797459,\n",
       " 0.017512217812909014,\n",
       " 0.006215975419786801,\n",
       " 0.004862507615888134,\n",
       " 0.008670736159420045,\n",
       " 0.004329888239193558,\n",
       " 0.01666002681018597,\n",
       " 0.006087532182347921,\n",
       " 0.002012993950468278,\n",
       " 0.0065668896213839645,\n",
       " 0.010747951728633076,\n",
       " 0.002567532689267793,\n",
       " 0.014103453801921795,\n",
       " 0.004356519208037923,\n",
       " 0.0071527709357797065,\n",
       " 0.004010316613163312,\n",
       " 0.009811156212636618,\n",
       " 0.008692655521522319,\n",
       " 0.00531523408611001,\n",
       " 0.027339045313330423,\n",
       " 0.006881749640682777,\n",
       " 0.015035537711185043,\n",
       " 0.004516305021034839,\n",
       " 0.003397804329952514,\n",
       " 0.00347769723644209,\n",
       " 0.024591343916480213,\n",
       " 0.01578120483856882,\n",
       " 0.01609606485787296,\n",
       " 0.0017686036242094971,\n",
       " 0.016708577141104186,\n",
       " 0.012074788563677608,\n",
       " 0.004329888239198887,\n",
       " 0.017640661050351447,\n",
       " 0.007232663842306586,\n",
       " 0.008053512269474261,\n",
       " 0.0029450778597208682,\n",
       " 0.017054779735974357,\n",
       " 0.0027053991402175015,\n",
       " 0.0005749216333352791,\n",
       " 0.025123963293197882,\n",
       " 0.01689499392296767,\n",
       " 0.005714698618637826,\n",
       " 0.0029184468908960426,\n",
       " 0.009629451037515224,\n",
       " 0.011542169186950169,\n",
       " 0.0017686036241899572,\n",
       " 0.015243873855128598,\n",
       " 0.0037972688624687834,\n",
       " 0.004036947582002348,\n",
       " 0.005501650867962837,\n",
       " 0.0031534140036617586,\n",
       " 0.012447622127361058,\n",
       " 0.009203355536153701,\n",
       " 0.0029936281906275397,\n",
       " 0.008164747751544965,\n",
       " 0.00699298512275881,\n",
       " 0.003259937879035668,\n",
       " 0.016362374546219804,\n",
       " 0.005923034762589374,\n",
       " 0.00019737646287953936,\n",
       " 0.007281214173215922,\n",
       " 0.0015555558735131925,\n",
       " 0.022008139939420523,\n",
       " 0.004436412114525723,\n",
       " 0.010055546538874971,\n",
       " 0.0044896740522020195,\n",
       " 0.00779191418783487,\n",
       " 0.003286568847831184,\n",
       " 0.005235341179620434,\n",
       " 0.0022479610632561986,\n",
       " 0.001768603624213938,\n",
       " 0.007547523861572536,\n",
       " 0.0010495674656434417,\n",
       " 0.006939723185112712,\n",
       " 0.023717233551654004,\n",
       " 0.010476930433502396,\n",
       " 0.003877161768987669,\n",
       " 0.006247317995363488,\n",
       " 0.009731263306107962,\n",
       " 0.010401749133762017,\n",
       " 0.007126139966924683,\n",
       " 0.02320653353704838,\n",
       " 0.010135439445390304,\n",
       " 0.005417046354718735,\n",
       " 0.006295868326295917,\n",
       " 0.012106131139240084,\n",
       " 0.013486229911976011,\n",
       " 0.011329121436266298,\n",
       " 0.010716609153026191,\n",
       " 0.00879917939685626,\n",
       " 0.0021148062190734507,\n",
       " 0.0029450778597368554,\n",
       " 0.011094154323459726,\n",
       " 0.006535547045804613,\n",
       " 0.0034244352987711224,\n",
       " 0.0029936281906675077,\n",
       " 0.008666024552681506,\n",
       " 0.013619384756147213,\n",
       " 0.013619384756146324,\n",
       " 0.00347769723644209,\n",
       " 0.0023591965453624297,\n",
       " 0.018577456566358563,\n",
       " 0.002141437187911599,\n",
       " 0.01652687196597835,\n",
       " 0.00901222714754546,\n",
       " 0.013996929926576307,\n",
       " 0.00163544878003119,\n",
       " 0.012873717628735015,\n",
       " 0.012314467283183639,\n",
       " 0.011062811747883039,\n",
       " 0.006935011578351968,\n",
       " 0.03668651537469536,\n",
       " 0.018044837189645335,\n",
       " 0.002146148794650138,\n",
       " 0.0027320301090396626,\n",
       " 0.023419581287723368,\n",
       " 0.0038771617689636884,\n",
       " 0.020756484404139464,\n",
       " 0.0037659262869036425,\n",
       " 0.004751272133809437,\n",
       " 0.003552878536202897,\n",
       " 0.013859063475657685,\n",
       " 0.004458331476636879,\n",
       " 0.00477790310265469,\n",
       " 0.0012140648853931069,\n",
       " 0.024245141321627806,\n",
       " 0.010827844635124428,\n",
       " 0.004542935989878316,\n",
       " 0.00014882613196487426,\n",
       " 0.003978974037579519,\n",
       " 0.006673413496729452,\n",
       " 0.0016354487800365192,\n",
       " 0.011253940136493057,\n",
       " 0.009092120054050135,\n",
       " 0.009709343944020787,\n",
       " 0.0007879693840280311,\n",
       " 0.0038505308001370864,\n",
       " 0.014556180272125907,\n",
       " 0.0046181172896355704,\n",
       " 0.0010761984344682674,\n",
       " 0.008106774207137235,\n",
       " 0.006433734777206546,\n",
       " 0.014156715739595427,\n",
       " 0.0024077468762655485,\n",
       " 0.004542935989864105,\n",
       " 0.02078782697971704,\n",
       " 0.01295361053524946,\n",
       " 0.009411691680098144,\n",
       " 0.013885694444512708,\n",
       " 0.004911057946834774,\n",
       " 0.0014803745737479446,\n",
       " 0.0039789740376017235,\n",
       " 0.02232771156546498,\n",
       " 0.010694689790958556,\n",
       " 0.008937045847789094,\n",
       " 0.007627416768069217,\n",
       " 0.019584721775335545,\n",
       " 0.008000250331768655,\n",
       " 0.003792557255733797,\n",
       " 0.011387094980666923,\n",
       " 0.005475019899138012,\n",
       " 0.00589640379377343,\n",
       " 0.02123584184317373,\n",
       " 0.00626923735747642,\n",
       " 0.013357786674506045,\n",
       " 0.015936279044852064,\n",
       " 0.0006281835710142403,\n",
       " 0.013464310549880842,\n",
       " 0.027334333706585667,\n",
       " 0.0077073096745650105,\n",
       " 0.005310522479378577,\n",
       " 0.01127585949859089,\n",
       " 0.006056189606774787,\n",
       " 0.006034270244682283,\n",
       " 0.011786559513215167,\n",
       " 0.00946495361775046,\n",
       " 0.0053105224793768,\n",
       " 0.004245283725948568,\n",
       " 0.007840464518777068,\n",
       " 0.014817778353763522,\n",
       " 0.013038215048492674,\n",
       " 0.01332644409893291,\n",
       " 0.007019616091608505,\n",
       " 0.009576189099861132,\n",
       " 0.004378438570111776,\n",
       " 0.0007080764775082571,\n",
       " 0.0019816513749093545,\n",
       " 0.003371173361111701,\n",
       " 0.010849763997228479,\n",
       " 0.011120785292316526,\n",
       " 0.017379062968736925,\n",
       " 0.0005702100265887466,\n",
       " 0.0011608029477336856,\n",
       " 0.006508916076976234,\n",
       " 0.005603463136562681,\n",
       " 0.011568800155766112,\n",
       " 0.01271864342246154,\n",
       " 0.015594788056723097,\n",
       " 0.009842498788184884,\n",
       " 0.018710611410535982,\n",
       " 0.008399714864330221,\n",
       " 0.017827077832202498,\n",
       " 0.0101040968698074,\n",
       " 0.010028915570053698,\n",
       " 0.014982275773498088,\n",
       " 0.009598108461933208,\n",
       " 0.00632249929513673,\n",
       " 0.005843141856092693,\n",
       " 0.00017074549405826644,\n",
       " 0.015648049994403834,\n",
       " 0.010162070414225788,\n",
       " 0.006833199309755678,\n",
       " 0.0020662558881232584,\n",
       " 0.017938313314300736,\n",
       " 0.011120785292328073,\n",
       " 0.00907020069195763,\n",
       " 0.00891041487895805,\n",
       " 0.006721963827671651,\n",
       " 0.006961642547196334,\n",
       " 0.0017733152309507005,\n",
       " 0.009895760725869174,\n",
       " 0.006402392201626306,\n",
       " 0.012234574376689622,\n",
       " 0.00810677420712036,\n",
       " 0.00028198097614851036,\n",
       " 0.010321856227249349,\n",
       " 0.00899030778543608,\n",
       " 0.005923034762602697,\n",
       " 0.013703989269386874,\n",
       " 0.0072812141732141455,\n",
       " 0.004170102426184208,\n",
       " 0.005923034762604473,\n",
       " 0.0033179114234407336,\n",
       " 0.0017952345930245528,\n",
       " 0.0036061404738738645,\n",
       " 0.002913735284148622,\n",
       " 0.011062811747915902,\n",
       " 0.008426345833169258,\n",
       " 0.01734772039315491,\n",
       " 0.005022293428910807,\n",
       " 0.008799179396858925,\n",
       " 0.014715966085157461,\n",
       " 0.0011075410100449545,\n",
       " 0.0012939577919057754,\n",
       " 0.00640239220163874,\n",
       " 0.006056189606791662,\n",
       " 0.01090773754162555,\n",
       " 0.004671379227327854,\n",
       " 0.014050191864245498,\n",
       " 0.006002927669082503,\n",
       " 0.0015289249046821496,\n",
       " 0.003957054675493232,\n",
       " 0.009145381991737978,\n",
       " 0.0072592948111323,\n",
       " 0.003100152065999673,\n",
       " 0.0014490319981783628,\n",
       " 0.003051601735075238,\n",
       " 0.004116840488497253,\n",
       " 0.014875751898173029,\n",
       " 0.005794591525164705,\n",
       " 0.015621419025566574,\n",
       " 0.006593520590226554,\n",
       " 0.0012626152163166537,\n",
       " 0.004356519208037035,\n",
       " 0.017032860373866754,\n",
       " 0.0005169480889497535,\n",
       " 0.0035262475673585314,\n",
       " 0.010636716246521516,\n",
       " 0.011520249824861217,\n",
       " 0.00776528321898784,\n",
       " 0.011600142731365004,\n",
       " 0.03242556036096822,\n",
       " 0.01202623823273985,\n",
       " 0.0029137352841424047,\n",
       " 0.01650024099716152,\n",
       " 0.011888371781798135,\n",
       " 0.004010316613148213,\n",
       " 0.011280571105332982,\n",
       " 0.011462276280436612,\n",
       " 0.0038191882245808273,\n",
       " 0.00861276261502475,\n",
       " 0.009283248442658376,\n",
       " 0.0013425081228310987,\n",
       " 0.00110754101005206,\n",
       " 0.003717375955966773,\n",
       " 0.010774582697451685,\n",
       " 0.008213298082460518,\n",
       " 0.004990950853339449,\n",
       " 0.02203477090826489,\n",
       " 0.017693922988028632,\n",
       " 0.0028651849532224105,\n",
       " 0.0004950287268332687,\n",
       " 0.00022871903848464825,\n",
       " 0.004995662460073547,\n",
       " 0.009385060711230686,\n",
       " 0.00912346262963215,\n",
       " 0.00879917939684649,\n",
       " 0.002012993950472719,\n",
       " 0.0030249707662326486,\n",
       " 0.019988897914656967,\n",
       " 0.004857796009170912,\n",
       " 0.004942400522411461,\n",
       " 0.0006501029331023034,\n",
       " 0.0026207946269645177,\n",
       " 0.0013957700604843026,\n",
       " 0.006429023170476,\n",
       " 0.007920357425291513,\n",
       " 0.00163544878004096,\n",
       " 0.00653554704581083,\n",
       " 0.004804534071500832,\n",
       " 0.0007347074463384118,\n",
       " 0.0025409017204447437,\n",
       " 0.022119375421520537,\n",
       " 0.017187934580132236,\n",
       " 0.0008412313216954459,\n",
       " 0.004245283725933469,\n",
       " 0.0005482906645042362,\n",
       " 0.0016620797488693384,\n",
       " 0.0035262475673700777,\n",
       " 0.0032113875480828113,\n",
       " 0.011466987887202684,\n",
       " 0.0030468901283198235,\n",
       " 0.015115430617695047,\n",
       " 0.017933601707538216,\n",
       " 0.006060901213526648,\n",
       " 0.008559500677345788,\n",
       " 0.0010809100412076944,\n",
       " 0.009709343944034998,\n",
       " 0.0008365197149498016,\n",
       " 0.008825810365687303,\n",
       " 0.011893083388569536,\n",
       " 0.0068817496406845535,\n",
       " 0.007925069032028276,\n",
       " 0.010455011071428544,\n",
       " 0.01064142785327249,\n",
       " 0.006322499295133177,\n",
       " 0.0028119230155434494,\n",
       " 0.01750750620614916,\n",
       " 0.0001707454940520492,\n",
       " 0.020836377310637033,\n",
       " 0.004484962445451934,\n",
       " 0.0013957700605251588,\n",
       " 0.01838632817776631,\n",
       " 0.010614796884451216,\n",
       " 0.010370406558193324,\n",
       " 0.0032646494857511144,\n",
       " 0.0024610088139542796,\n",
       " 0.0022213300944180503,\n",
       " 0.0013691390916887869,\n",
       " 0.004569566958702254,\n",
       " 0.015488264181392708,\n",
       " 0.01122730916767889,\n",
       " 0.010636716246525957,\n",
       " 0.012132762108064021,\n",
       " 0.008670736159441361,\n",
       " 0.0013472197295847366,\n",
       " 0.01847093269101574,\n",
       " 0.003126783034826275,\n",
       " 0.017960232676385246,\n",
       " 0.01660205326575337,\n",
       " 0.008351164533401345,\n",
       " 0.014529549303314404,\n",
       " 0.00813340517596739,\n",
       " 0.0038505308001468563,\n",
       " 0.006988273516030041,\n",
       " 0.012181312438991121,\n",
       " 0.018257884940314106,\n",
       " 0.008777260034770862,\n",
       " 0.006215975419786801,\n",
       " 0.007765283219015373,\n",
       " 0.01606943388904014,\n",
       " 0.006988273516020271,\n",
       " 0.013379706036628747,\n",
       " 0.0008897816526287627,\n",
       " 0.008452976802010959,\n",
       " 0.014871040291436266,\n",
       " 0.0039257120998987816,\n",
       " 0.015195323524197057,\n",
       " 0.015861097745102803,\n",
       " 0.007818545156660583,\n",
       " 0.010210620745167098,\n",
       " 0.00017545710080302257,\n",
       " 0.0017733152309560296,\n",
       " 0.0011341719788928728,\n",
       " 0.00811148581386778,\n",
       " 0.0031001520659925674,\n",
       " 0.004618117289630241,\n",
       " 0.011462276280438388,\n",
       " 0.010614796884442335,\n",
       " 0.01694825586061821,\n",
       " 0.02472921036743081,\n",
       " 0.0011341719789017546,\n",
       " 0.001528924904683926,\n",
       " 0.00028198097615295126,\n",
       " 0.010641427853266272,\n",
       " 0.009203355536147484,\n",
       " 0.0053418650549490465,\n",
       " 0.018279804302427927,\n",
       " 0.005816510887235005,\n",
       " 0.01775189653243281,\n",
       " 0.007845176125508502,\n",
       " 0.005608174743289673,\n",
       " 0.0014537436049169017,\n",
       " 0.006588808983499561,\n",
       " 0.000708076477518027,\n",
       " 0.004804534071495503,\n",
       " 0.019211888211652095,\n",
       " 0.012878429235493094,\n",
       " 0.019877662432556065,\n",
       " 0.006700044465564936,\n",
       " 0.008324533564559644,\n",
       " 0.005550201198890825,\n",
       " 0.003238018516922736,\n",
       " 0.00808485484504562,\n",
       " 0.00733918771761477,\n",
       " 0.015243873855128598,\n",
       " 0.009624739430764251,\n",
       " 0.004911057946840103,\n",
       " 0.019136706911903723,\n",
       " 0.013805801537991158,\n",
       " 0.0009696745591254441,\n",
       " 0.02179509218873399,\n",
       " 0.004303257270358074,\n",
       " 0.00017074549405826644,\n",
       " 0.02036173147833864,\n",
       " 0.00515073666636745,\n",
       " 0.0045115934142891945,\n",
       " 0.009309879411472544,\n",
       " 0.010401749133757576,\n",
       " 0.005155448273097996,\n",
       " 0.0001174835563793053,\n",
       " 0.0009696745591289968,\n",
       " 3.759064987196581e-05,\n",
       " 0.015510183543478995,\n",
       " 0.0008631506837852854,\n",
       " 0.003584221111808006,\n",
       " 0.010876394966034653,\n",
       " 0.0018265771686332144,\n",
       " 0.01178655951321872,\n",
       " 0.014231897039379326,\n",
       " 0.00736110707972415,\n",
       " 0.011813190482048874,\n",
       " 0.03141358354522428,\n",
       " 0.003180044972510565,\n",
       " 0.006513627683727208,\n",
       " 0.0007033648707750473,\n",
       " 0.014471575758870259,\n",
       " 0.014631361571897372,\n",
       " 0.011622062093433527,\n",
       " 0.0028604733464723253,\n",
       " 0.0043518076012745155,\n",
       " 0.001427112636082306,\n",
       " 0.002141437187901829,\n",
       " 0.0002506384005638296,\n",
       " 0.0027006875334478764,\n",
       " 0.014498206727719065,\n",
       " 0.005528281836806315,\n",
       " 0.013943667988910668,\n",
       " 0.00350432820527935,\n",
       " 0.01061008527768248,\n",
       " 0.0037659262868992016,\n",
       " 0.0078937264564507,\n",
       " 0.01851948302193307,\n",
       " 0.012740562784560261,\n",
       " 0.008031592907374652,\n",
       " 0.0022526726699938493,\n",
       " 0.006136082513275909,\n",
       " 0.009949022663546359,\n",
       " 0.00967800136844943,\n",
       " 0.003131494641596788,\n",
       " 0.004857796009168247,\n",
       " 0.0003086119449653424,\n",
       " 0.01199960726390259,\n",
       " 0.014285158977051182,\n",
       " 0.005337153448206067,\n",
       " 0.010876394966058633,\n",
       " 0.010774582697446355,\n",
       " 0.0025722442960303127,\n",
       " 0.00965608200635426,\n",
       " 0.005395126992620014,\n",
       " 0.009358429742404972,\n",
       " 0.003233306910203737,\n",
       " 0.008830521972424066,\n",
       " 0.01151553821811202,\n",
       " 0.00387716176899211,\n",
       " 0.009975653632364967,\n",
       " 0.0024077468762611076,\n",
       " 0.0022260417011743527,\n",
       " 0.016841731985272723,\n",
       " 0.01996226694578418,\n",
       " 0.0061141631511860695,\n",
       " 0.008452976802003853,\n",
       " 0.007898438063192792,\n",
       " 0.013646015724964045,\n",
       " 0.0004151358203383637,\n",
       " 0.0007832577772912686,\n",
       " 0.012500884065033802,\n",
       " 0.006215975419794795,\n",
       " 0.0009963055279955668,\n",
       " 0.008351164533378252,\n",
       " 0.01170195499995419,\n",
       " 0.0012626152163290882,\n",
       " 0.015435002243716411,\n",
       " 0.002226041701154813,\n",
       " 0.0067000444655827,\n",
       " 0.01428515897705207,\n",
       " 0.0052886031172905135,\n",
       " 0.006753306403251003,\n",
       " 0.019030183036543136,\n",
       " 0.006966354153944643,\n",
       " 0.0004950287268234987,\n",
       " 0.01450291833446915,\n",
       " 0.020783115372966066,\n",
       " 0.009251905867064814,\n",
       " 0.01159543112461936,\n",
       " 0.0036108520806177324,\n",
       " 0.010876394966044423,\n",
       " 0.0016934223244486901,\n",
       " 0.00752089289273794,\n",
       " 0.009842498788205312,\n",
       " 0.0076054974059829306,\n",
       " 0.0015022939358493304,\n",
       " 0.011462276280449935,\n",
       " 0.004436412114529276,\n",
       " 0.006109451544465294,\n",
       " 0.010348487196074174,\n",
       " 0.015142061586515432,\n",
       " 0.0049909508533536595,\n",
       " 0.0004151358203463573,\n",
       " 0.004170102426175326,\n",
       " 0.005954377338166061,\n",
       " 0.022332423172191085,\n",
       " 0.00864410519060499,\n",
       " 0.01761874168824562,\n",
       " ...]"
      ]
     },
     "execution_count": 120,
     "metadata": {},
     "output_type": "execute_result"
    }
   ],
   "source": [
    "difference"
   ]
  },
  {
   "cell_type": "code",
   "execution_count": 127,
   "metadata": {
    "colab": {},
    "colab_type": "code",
    "id": "VlzpYTkYFcv_"
   },
   "outputs": [
    {
     "data": {
      "image/png": "[encoded data removed]",
      "text/plain": [
       "<Figure size 432x288 with 1 Axes>"
      ]
     },
     "metadata": {
      "needs_background": "light"
     },
     "output_type": "display_data"
    }
   ],
   "source": [
    "# Make a variable called 'histo', and assign to it the result of plotting a histogram of the difference list. \n",
    "histo = plt.hist(difference, bins=100)\n",
    "\n",
    "# add a vertical line for our observed difference\n",
    "histo = plt.axvline(obs_difference, color='C1')"
   ]
  },
  {
   "cell_type": "code",
   "execution_count": 125,
   "metadata": {
    "colab": {},
    "colab_type": "code",
    "id": "KhqgDFd3FcwB"
   },
   "outputs": [
    {
     "data": {
      "text/plain": [
       "0.14206054745123442"
      ]
     },
     "execution_count": 125,
     "metadata": {},
     "output_type": "execute_result"
    }
   ],
   "source": [
    "# Now make a variable called obs_difference, and assign it the result of the mean of our 'apple' variable and the mean of our 'google variable'\n",
    "obs_difference = abs(df['Rating'].groupby(df.platform).mean().google - df['Rating'].groupby(df.platform).mean().apple)\n",
    "\n",
    "obs_difference"
   ]
  },
  {
   "cell_type": "markdown",
   "metadata": {
    "colab_type": "text",
    "id": "QUNuuSgDFcwE"
   },
   "source": [
    "## Stage 4 -  Evaluating and concluding\n",
    "### 4a. What is our conclusion?"
   ]
  },
  {
   "cell_type": "code",
   "execution_count": 132,
   "metadata": {
    "colab": {},
    "colab_type": "code",
    "id": "XMQHnqx1FcwF"
   },
   "outputs": [
    {
     "data": {
      "text/plain": [
       "0"
      ]
     },
     "execution_count": 132,
     "metadata": {},
     "output_type": "execute_result"
    }
   ],
   "source": [
    "'''\n",
    "What do we know? \n",
    "\n",
    "Recall: The p-value of our observed data is just the proportion of the data given the null that's at least as extreme as that observed data.\n",
    "\n",
    "As a result, we're going to count how many of the differences in our difference list are at least as extreme as our observed difference.\n",
    "\n",
    "If less than or equal to 5% of them are, then we will reject the Null. \n",
    "'''\n",
    "\n",
    "np.sum(difference > obs_difference)\n",
    "\n",
    "# normally we would compute confidence interval here, but since 0 of our permuted differences \n",
    "# are as extreme as our observed difference, there is no need."
   ]
  },
  {
   "cell_type": "markdown",
   "metadata": {
    "colab_type": "text",
    "id": "4RTofY9wFcwI"
   },
   "source": [
    "### 4b. What is our decision?\n",
    "So actually, zero differences are at least as extreme as our observed difference!\n",
    "\n",
    "So the p-value of our observed data is 0. \n",
    "\n",
    "It doesn't matter which significance level we pick; our observed data is statistically significant, and we reject the Null.\n",
    "\n",
    "We conclude that platform does impact on ratings. Specifically, we should advise our client to integrate **only Google Play** into their operating system interface. "
   ]
  }
 ],
 "metadata": {
  "colab": {
   "collapsed_sections": [
    "5fbRq2MZFcvq",
    "4RTofY9wFcwI",
    "Cu_eh7fTFcwJ"
   ],
   "name": "Springboard Apps project - Tier 3 - Complete.ipynb",
   "provenance": []
  },
  "kernelspec": {
   "display_name": "Python-geoTiledb208",
   "language": "python",
   "name": "python-geotiledb208"
  },
  "language_info": {
   "codemirror_mode": {
    "name": "ipython",
    "version": 3
   },
   "file_extension": ".py",
   "mimetype": "text/x-python",
   "name": "python",
   "nbconvert_exporter": "python",
   "pygments_lexer": "ipython3",
   "version": "3.7.8"
  }
 },
 "nbformat": 4,
 "nbformat_minor": 1
}
