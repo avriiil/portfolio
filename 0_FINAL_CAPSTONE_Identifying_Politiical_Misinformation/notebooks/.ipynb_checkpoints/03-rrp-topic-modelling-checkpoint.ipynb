{
 "cells": [
  {
   "cell_type": "markdown",
   "id": "c972dbe3",
   "metadata": {},
   "source": [
    "# Topic Modelling\n",
    "\n",
    "This notebook conducts **Topic Modelling** on the 6+ mln unique tweets in our dataset.\n",
    "\n",
    "The goal of this notebook is to **extract the specifically political content** from the 'junk' in order to continue the process of identifying the political misinformation in this dataset. From our work in the previous EDA stage (notebook 02-rrp-exploratory-data-analysis) we know that besides Political content there are large quantities of Commercial and Religious tweets in the dataset.\n",
    "\n",
    "This notebook explores the use of two Topic Modelling approaches to achieve this goal:\n",
    "1. Latent Dirichlet Allocation (LDA): the most widely-used unsupervised topic modelling algorithm out there. \n",
    "2. Gibbs Sampling Dirichlet Multinomial Mixture (GSDMM): \n",
    "\n",
    "The main difference between the two approaches is that LDA assumes that each document (tweet in our case) consists of multiple topics and calculates the contribution of each topic to the document. GSDMM, on the other hand, is specifically aimed at detecting topics in smaller documents and assumes **only one topic per document.** This is why [some researchers argue](https://towardsdatascience.com/a-unique-approach-to-short-text-clustering-part-1-algorithmic-theory-4d4fad0882e1) it is better suited for Topic Modelling in the case of micro-blogging content like Tweets.\n",
    "\n",
    "The other difference between the two approaches is that LDA requires the number of topics to be set, whereas GSDMM infers the number from the data.\n",
    "\n",
    "**IMPORTANT:** This notebook depends on the output of notebook **99-rrp-building-lda-models**. The models are built in that notebook and then imported here from the local directories to which they are saved.\n",
    "\n",
    "\n",
    "## Notebook Outline\n",
    "\n",
    "The notebook is outlined as follows:\n",
    "\n",
    "1. Importing Libraries\n",
    "\n",
    "\n",
    "2. Importing Dataset\n",
    "\n",
    "\n",
    "3. Pre-processing\n",
    "\n",
    "\n",
    "4. Running LDA Models\n",
    "\n",
    "\n",
    "5. Running GSDMM Models\n",
    "\n",
    "\n",
    "6. Selecting Best Model to identify \"Political\" Tweets\n",
    "\n",
    "\n",
    "7. Clustering \"Political\" Tweets into Sub-Topics to Identify Misinformation\n"
   ]
  },
  {
   "cell_type": "markdown",
   "id": "66c97386",
   "metadata": {},
   "source": [
    "# 1. Importing Libraries"
   ]
  },
  {
   "cell_type": "code",
   "execution_count": 1,
   "id": "45ef6349",
   "metadata": {},
   "outputs": [],
   "source": [
    "import pandas as pd\n",
    "import numpy as np\n",
    "import matplotlib.pyplot as plt\n",
    "import re\n",
    "\n",
    "import gensim\n",
    "from gensim import corpora, models\n",
    "import pyLDAvis\n",
    "import pyLDAvis.gensim_models as gensimvis\n",
    "from gensim.models import nmf\n",
    "from gensim.models import CoherenceModel\n",
    "from gsdmm import MovieGroupProcess"
   ]
  },
  {
   "cell_type": "code",
   "execution_count": 2,
   "id": "670221fc",
   "metadata": {},
   "outputs": [
    {
     "name": "stderr",
     "output_type": "stream",
     "text": [
      "/Users/richard/miniconda3/envs/cap3-topic-modelling/lib/python3.8/site-packages/ipykernel/ipkernel.py:287: DeprecationWarning: `should_run_async` will not call `transform_cell` automatically in the future. Please pass the result to `transformed_cell` argument and any exception that happen during thetransform in `preprocessing_exc_tuple` in IPython 7.17 and above.\n",
      "  and should_run_async(code)\n"
     ]
    }
   ],
   "source": [
    "import warnings\n",
    "warnings.filterwarnings(\"ignore\", category=DeprecationWarning)"
   ]
  },
  {
   "cell_type": "markdown",
   "id": "7b1836e5",
   "metadata": {},
   "source": [
    "# 2. Importing Dataset"
   ]
  },
  {
   "cell_type": "code",
   "execution_count": 3,
   "id": "1c0fbb65",
   "metadata": {},
   "outputs": [
    {
     "name": "stdout",
     "output_type": "stream",
     "text": [
      "CPU times: user 34.4 s, sys: 13.5 s, total: 47.9 s\n",
      "Wall time: 1min 8s\n"
     ]
    }
   ],
   "source": [
    "%%time\n",
    "df = pd.read_parquet('/Users/richard/Desktop/data_cap3/processed/df_unique_tweets_hashtags_lemmatized_with_timestamp_first.parquet',\n",
    "                     engine='pyarrow')"
   ]
  },
  {
   "cell_type": "code",
   "execution_count": 4,
   "id": "1c750851",
   "metadata": {},
   "outputs": [
    {
     "data": {
      "text/plain": [
       "(6145783, 6)"
      ]
     },
     "execution_count": 4,
     "metadata": {},
     "output_type": "execute_result"
    }
   ],
   "source": [
    "df.shape"
   ]
  },
  {
   "cell_type": "code",
   "execution_count": 5,
   "id": "73e554fa",
   "metadata": {},
   "outputs": [
    {
     "data": {
      "text/html": [
       "<div>\n",
       "<style scoped>\n",
       "    .dataframe tbody tr th:only-of-type {\n",
       "        vertical-align: middle;\n",
       "    }\n",
       "\n",
       "    .dataframe tbody tr th {\n",
       "        vertical-align: top;\n",
       "    }\n",
       "\n",
       "    .dataframe thead th {\n",
       "        text-align: right;\n",
       "    }\n",
       "</style>\n",
       "<table border=\"1\" class=\"dataframe\">\n",
       "  <thead>\n",
       "    <tr style=\"text-align: right;\">\n",
       "      <th></th>\n",
       "      <th>tweet_text</th>\n",
       "      <th>hashtags</th>\n",
       "      <th>is_retweet</th>\n",
       "      <th>retweet_tweetid</th>\n",
       "      <th>timestamp_first</th>\n",
       "      <th>user_reference_id</th>\n",
       "    </tr>\n",
       "  </thead>\n",
       "  <tbody>\n",
       "    <tr>\n",
       "      <th>0</th>\n",
       "      <td>[سَلام_1, عَلَى_1, رَحْمَة_1, اللَّه_1, بَرَكَ...</td>\n",
       "      <td>None</td>\n",
       "      <td>True</td>\n",
       "      <td>9.986493e+17</td>\n",
       "      <td>2018-05-25 00:15:00</td>\n",
       "      <td>58</td>\n",
       "    </tr>\n",
       "    <tr>\n",
       "      <th>1</th>\n",
       "      <td>[تَأْجِير_1, بَيْع_1, النطيطات_0, زحاليق_0, ما...</td>\n",
       "      <td>[للتأجير, لبيع النطيطات, زحاليق مائيه صابونية,...</td>\n",
       "      <td>True</td>\n",
       "      <td>9.996373e+17</td>\n",
       "      <td>2018-04-17 12:22:00</td>\n",
       "      <td>0</td>\n",
       "    </tr>\n",
       "    <tr>\n",
       "      <th>2</th>\n",
       "      <td>[مِظَلَّة_1, ساتِر_1, أُفُق_1, رِياض_1, مِظَلّ...</td>\n",
       "      <td>[مظلات, آفاق الرياض, مظلات استراحات, مظلات مسا...</td>\n",
       "      <td>True</td>\n",
       "      <td>9.993939e+17</td>\n",
       "      <td>2018-05-25 00:15:00</td>\n",
       "      <td>58</td>\n",
       "    </tr>\n",
       "    <tr>\n",
       "      <th>3</th>\n",
       "      <td>[فِيدْيُو_1, شاهَد_1, مُواطِن_1, وَثِق-ia_1, ف...</td>\n",
       "      <td>None</td>\n",
       "      <td>True</td>\n",
       "      <td>9.983516e+17</td>\n",
       "      <td>2018-05-25 13:06:00</td>\n",
       "      <td>1</td>\n",
       "    </tr>\n",
       "    <tr>\n",
       "      <th>4</th>\n",
       "      <td>[ٱِسْتَغْفَر_1, اللَّه_1, عَظِيم_2, تاب-u_1]</td>\n",
       "      <td>None</td>\n",
       "      <td>False</td>\n",
       "      <td>NaN</td>\n",
       "      <td>2014-04-12 03:34:00</td>\n",
       "      <td>657</td>\n",
       "    </tr>\n",
       "  </tbody>\n",
       "</table>\n",
       "</div>"
      ],
      "text/plain": [
       "                                          tweet_text  \\\n",
       "0  [سَلام_1, عَلَى_1, رَحْمَة_1, اللَّه_1, بَرَكَ...   \n",
       "1  [تَأْجِير_1, بَيْع_1, النطيطات_0, زحاليق_0, ما...   \n",
       "2  [مِظَلَّة_1, ساتِر_1, أُفُق_1, رِياض_1, مِظَلّ...   \n",
       "3  [فِيدْيُو_1, شاهَد_1, مُواطِن_1, وَثِق-ia_1, ف...   \n",
       "4       [ٱِسْتَغْفَر_1, اللَّه_1, عَظِيم_2, تاب-u_1]   \n",
       "\n",
       "                                            hashtags  is_retweet  \\\n",
       "0                                               None        True   \n",
       "1  [للتأجير, لبيع النطيطات, زحاليق مائيه صابونية,...        True   \n",
       "2  [مظلات, آفاق الرياض, مظلات استراحات, مظلات مسا...        True   \n",
       "3                                               None        True   \n",
       "4                                               None       False   \n",
       "\n",
       "   retweet_tweetid     timestamp_first  user_reference_id  \n",
       "0     9.986493e+17 2018-05-25 00:15:00                 58  \n",
       "1     9.996373e+17 2018-04-17 12:22:00                  0  \n",
       "2     9.993939e+17 2018-05-25 00:15:00                 58  \n",
       "3     9.983516e+17 2018-05-25 13:06:00                  1  \n",
       "4              NaN 2014-04-12 03:34:00                657  "
      ]
     },
     "execution_count": 5,
     "metadata": {},
     "output_type": "execute_result"
    }
   ],
   "source": [
    "df.head()"
   ]
  },
  {
   "cell_type": "markdown",
   "id": "07e7a418",
   "metadata": {},
   "source": [
    "# 3. Pre-Processing Documents\n",
    "\n",
    "In this section, we pre-process our documents (tweets) in order to be able to input them into our Topic Modelling algorithms.\n",
    "\n",
    "We do this by:\n",
    "1. Creating an array containing only the (lemmatized) tweet texts\n",
    "2. Creating a Bag of Words dictionary (filtering for extreme cases)\n",
    "3. Mapping our documents to the BOW dictionary"
   ]
  },
  {
   "cell_type": "markdown",
   "id": "46029a11",
   "metadata": {},
   "source": [
    "## 3.1. Create Docs Array"
   ]
  },
  {
   "cell_type": "code",
   "execution_count": 6,
   "id": "634db010",
   "metadata": {},
   "outputs": [],
   "source": [
    "# cast tweets to numpy array\n",
    "docs = df.tweet_text.to_numpy()"
   ]
  },
  {
   "cell_type": "code",
   "execution_count": 7,
   "id": "7d59519c",
   "metadata": {},
   "outputs": [
    {
     "data": {
      "text/plain": [
       "(6145783,)"
      ]
     },
     "execution_count": 7,
     "metadata": {},
     "output_type": "execute_result"
    }
   ],
   "source": [
    "# confirm n_tweets\n",
    "docs.shape"
   ]
  },
  {
   "cell_type": "code",
   "execution_count": 8,
   "id": "82ce6662",
   "metadata": {},
   "outputs": [
    {
     "data": {
      "text/plain": [
       "array(['ٱِنْطَلَق_1', 'مَرْكَز_1', 'ٱِتِّصال_1', 'مُوَحَّد_1',\n",
       "       'مُسْتَهْلِك_1', 'بَيِّن_1', 'إِنْشاء_1', 'لَجْنَة_1', 'دائِم_1',\n",
       "       'حِمايَة_1', 'مُسْتَهْلِك_1', 'بِناء_1', 'قَرار_1'], dtype=object)"
      ]
     },
     "execution_count": 8,
     "metadata": {},
     "output_type": "execute_result"
    }
   ],
   "source": [
    "# inspect one example\n",
    "docs[100]"
   ]
  },
  {
   "cell_type": "markdown",
   "id": "73ae7952",
   "metadata": {},
   "source": [
    "## 3.2. Create Bag-of-Words Dictionary\n",
    "\n",
    "Here we create a Bag-of-Words Dictionary from all of the documents in our corpus."
   ]
  },
  {
   "cell_type": "code",
   "execution_count": 9,
   "id": "86f2ead8",
   "metadata": {},
   "outputs": [
    {
     "name": "stdout",
     "output_type": "stream",
     "text": [
      "CPU times: user 3min 40s, sys: 8.92 s, total: 3min 49s\n",
      "Wall time: 5min 21s\n"
     ]
    }
   ],
   "source": [
    "%%time\n",
    "# create BOW dictionary from documents\n",
    "dictionary = gensim.corpora.Dictionary(docs)"
   ]
  },
  {
   "cell_type": "code",
   "execution_count": 10,
   "id": "d80c424f",
   "metadata": {},
   "outputs": [
    {
     "data": {
      "text/plain": [
       "890544"
      ]
     },
     "execution_count": 10,
     "metadata": {},
     "output_type": "execute_result"
    }
   ],
   "source": [
    "# inspect number of words in dictionary\n",
    "len(dictionary)"
   ]
  },
  {
   "cell_type": "markdown",
   "id": "ba478cb1",
   "metadata": {},
   "source": [
    "### 3.2.1. Filter Extreme Cases"
   ]
  },
  {
   "cell_type": "markdown",
   "id": "5d586762",
   "metadata": {},
   "source": [
    "To increase the effectiveness of our Topic Modelling, we will want to filter out words that appear across too many tweets and words that appear in only very few tweets. We do this using the .filter_extremes() method.\n",
    "\n",
    "**NOTE:** There is lots of experimenting to do here still. This is just a first experimental estimate. We will use this first setting to run a number of LDA models (each looking for a different number of topics). Once we have identified the optimal number of topics for the LDA, we will then come back and refine the dictionary filtering as a kind of hyperparameter tuning."
   ]
  },
  {
   "cell_type": "code",
   "execution_count": 11,
   "id": "eda43fc0",
   "metadata": {},
   "outputs": [],
   "source": [
    "# filter extreme cases out of dictionary\n",
    "dictionary.filter_extremes(no_below=15, no_above=0.5, keep_n=100000)"
   ]
  },
  {
   "cell_type": "code",
   "execution_count": 12,
   "id": "74b04fda",
   "metadata": {},
   "outputs": [
    {
     "data": {
      "text/plain": [
       "82457"
      ]
     },
     "execution_count": 12,
     "metadata": {},
     "output_type": "execute_result"
    }
   ],
   "source": [
    "len(dictionary)"
   ]
  },
  {
   "cell_type": "code",
   "execution_count": 13,
   "id": "c6803b4d",
   "metadata": {},
   "outputs": [],
   "source": [
    "vocab_length = len(dictionary)"
   ]
  },
  {
   "cell_type": "markdown",
   "id": "5121ea29",
   "metadata": {},
   "source": [
    "## 3.3. Map Docs to BOW\n",
    "\n",
    "We will now map our documents to the Bag-of-Words Dictionary.\n",
    "\n",
    "This will return each document as a set of tuples containing the index of the token into the dictionary and the number of occurrences of that token. "
   ]
  },
  {
   "cell_type": "code",
   "execution_count": null,
   "id": "f65228bc",
   "metadata": {},
   "outputs": [],
   "source": [
    "%%time\n",
    "# map docs to bag of words\n",
    "bow_corpus = [dictionary.doc2bow(doc) for doc in docs]"
   ]
  },
  {
   "cell_type": "code",
   "execution_count": null,
   "id": "4ddbde66",
   "metadata": {},
   "outputs": [],
   "source": [
    "# inspect\n",
    "bow_doc_250 = bow_corpus[250]\n",
    "\n",
    "for i in range(len(bow_doc_250)):\n",
    "    print(\"Word {} (\\\"{}\\\") appears {} time(s).\".format(bow_doc_250[i][0], \n",
    "                                                     dictionary[bow_doc_250[i][0]],\n",
    "                                                     bow_doc_250[i][1]))"
   ]
  },
  {
   "cell_type": "markdown",
   "id": "6d9a9d7d",
   "metadata": {},
   "source": [
    "# 4. Testing LDA Models\n",
    "\n",
    "In the auxiliary notebook **99-rrp-building-LDA-models**, we have built a number of LDA models. Because LDA works by looking for the number of clusters (topics) you set in advance, there's some trial-and-error experimentation to do here. Specifically, we built models with: 3 / 5 / 7 / 10 / 15 topics.\n",
    "\n",
    "In this process, it's good to keep in mind that our EDA already identified at least three main clusters:\n",
    "- Commercial\n",
    "- Religious\n",
    "- Political\n",
    "\n",
    "In this section, we will:\n",
    "\n",
    "1. Import LDA Models using 3 / 5 / 7 / 10 / 15 topics\n",
    "   - print top 20 words in topics\n",
    "2. Evaluate models\n",
    "   - Eyeballing Topic Contents using pyLDAvis \n",
    "   - Computing Topic Coherence using function\n",
    "3. Select best LDA model\n",
    "4. Refine performance using parameters\n",
    "   - adjust dictionary filtering cut-offs\n",
    "   - adjust LDA parameters: alpha, beta, random_state\n",
    "   \n"
   ]
  },
  {
   "cell_type": "markdown",
   "id": "9dab0c99",
   "metadata": {},
   "source": [
    "## A Note on Evaluating Topic Models\n",
    "\n",
    "Topic Modelling is not an exact science. We will depend **primarily** on a visual inspection of the topic models to assess the quality of each model, by asking ourselves:\n",
    "- Do the topics seem coherent?\n",
    "- Are the topics in line with what we've seen in the EDA so far?\n",
    "\n",
    "We will use the objective measure of Topic Coherence as an additional check to verify these 'eye-balling' checks.\n",
    "\n",
    "### Interpeting Topic Coherence\n",
    "\n",
    "Some good background info on [this SO thread](https://stackoverflow.com/questions/54762690/what-is-the-meaning-of-coherence-score-0-4-is-it-good-or-bad).\n",
    "- The overall coherence score of a topic is the average of the distances between words.\n",
    "    - .3 is bad\n",
    "    - .4 is low\n",
    "    - .55 is okay\n",
    "    - .65 might be as good as it is going to get\n",
    "    - .7 is nice\n",
    "    - .8 is unlikely and\n",
    "    - .9 is probably wrong"
   ]
  },
  {
   "cell_type": "markdown",
   "id": "ea14ffc1",
   "metadata": {},
   "source": [
    "## 4.1. Importing and Inspecting LDA Models\n",
    "\n",
    "Let's go ahead and import our 5 LDA Models and print out the top 20 words in each topic.\n",
    "\n",
    "I'll do a quick translate so you can read along ;)"
   ]
  },
  {
   "cell_type": "markdown",
   "id": "da2437f2",
   "metadata": {},
   "source": [
    "### 4.1.1. LDA with 5 Topics"
   ]
  },
  {
   "cell_type": "code",
   "execution_count": 19,
   "id": "ad37eccf",
   "metadata": {},
   "outputs": [
    {
     "name": "stdout",
     "output_type": "stream",
     "text": [
      "CPU times: user 120 ms, sys: 168 ms, total: 288 ms\n",
      "Wall time: 846 ms\n"
     ]
    }
   ],
   "source": [
    "%%time\n",
    "# load saved model\n",
    "lda_model_5 =  models.LdaModel.load('/Users/richard/Desktop/springboard_repo/capstones/three/models/LDA_5_below15_above50_top100k.model')"
   ]
  },
  {
   "cell_type": "code",
   "execution_count": 20,
   "id": "8697eaa4",
   "metadata": {},
   "outputs": [
    {
     "name": "stdout",
     "output_type": "stream",
     "text": [
      "Topic: 0 \n",
      "Words: 0.013*\"الله_1_0\" + 0.007*\"رياض_1_0\" + 0.006*\"ل_1_0\" + 0.005*\"قلب_3_0\" + 0.005*\"شركة_1_0\" + 0.005*\"دعم_1_0\" + 0.004*\"تنظيف_1_0\" + 0.004*\"أهلي_1_0\" + 0.004*\"رب_1_0\" + 0.004*\"سعودي_1_0\"\n",
      "Topic: 1 \n",
      "Words: 0.032*\"متابع_1_0\" + 0.030*\"بيع_1_0\" + 0.029*\"تويتر_0_0\" + 0.029*\"رتويت_0_0\" + 0.024*\"زيادة_1_0\" + 0.023*\"ٱنتصاب_1_0\" + 0.020*\"منتج_2_0\" + 0.020*\"قذف_1_0\" + 0.016*\"علاج_1_0\" + 0.016*\"تنفيذ_1_0\"\n",
      "Topic: 2 \n",
      "Words: 0.080*\"ساعة_1_0\" + 0.029*\"ماركة_1_0\" + 0.025*\"رياض_1_0\" + 0.024*\"نسائي_1_0\" + 0.024*\"مظلة_1_0\" + 0.021*\"كيلو_1_0\" + 0.020*\"أبى-a_1_0\" + 0.018*\"خارج_1_0\" + 0.017*\"طقم_1_0\" + 0.017*\"علبة_1_0\"\n",
      "Topic: 3 \n",
      "Words: 0.090*\"دون_1_0\" + 0.059*\"سداد_1_0\" + 0.055*\"مكيفات_1_0\" + 0.050*\"غسيل_1_0\" + 0.049*\"قرض_1_0\" + 0.047*\"بنك_1_0\" + 0.045*\"تسديد_1_0\" + 0.041*\"متعثر_1_0\" + 0.039*\"قلم_1_0\" + 0.035*\"قمة_1_0\"\n",
      "Topic: 4 \n",
      "Words: 0.114*\"جديد_1_0\" + 0.069*\"سكس_0_0\" + 0.037*\"فيلم_1_0\" + 0.030*\"ني_1_0\" + 0.027*\"محرم_1_0\" + 0.025*\"خادم_1_0\" + 0.024*\"قديم_1_0\" + 0.023*\"مترجم_1_0\" + 0.023*\"دفع_1_0\" + 0.021*\"عامل_2_0\"\n"
     ]
    }
   ],
   "source": [
    "# for each topic, print words occuring in that topic\n",
    "for idx, topic in lda_model_5.print_topics(-1):\n",
    "    print('Topic: {} \\nWords: {}'.format(idx, topic))"
   ]
  },
  {
   "cell_type": "markdown",
   "id": "96b56134",
   "metadata": {},
   "source": [
    "### First-Glance Analysis\n",
    "\n",
    "- Topic 0: Support, Cleaning, Civilian, Lord, Saudi, God, Riyadh\n",
    "- Topic 1: Follow, Twitter, Sell, Retweet, Treatment, Production\n",
    "- Topic 2: Outside, Suit, Box, Watch, Brand, Riyadh, For Women, Kilo\n",
    "- Topic 3: Downpayment, Without, Loan, Airconditioning, Laundry, Bank\n",
    "- Topic 4: Old, New, Translated, Payment, Worker, Sex, Film\n",
    "\n",
    "Interesting, but doesn't seem like there's a clearly political Topic in here."
   ]
  },
  {
   "cell_type": "markdown",
   "id": "1284f65e",
   "metadata": {},
   "source": [
    "### 4.1.2. LDA with 3 Topics"
   ]
  },
  {
   "cell_type": "code",
   "execution_count": 21,
   "id": "6e663ba8",
   "metadata": {},
   "outputs": [],
   "source": [
    "# load saved model\n",
    "lda_model_3 =  models.LdaModel.load('/Users/richard/Desktop/springboard_repo/capstones/three/models/LDA_3_below15_above50_top100k.model')"
   ]
  },
  {
   "cell_type": "code",
   "execution_count": 22,
   "id": "c37fc9d8",
   "metadata": {},
   "outputs": [
    {
     "name": "stdout",
     "output_type": "stream",
     "text": [
      "Topic: 0 \n",
      "Words: 0.015*\"الله_1_0\" + 0.006*\"ل_1_0\" + 0.006*\"قلب_3_0\" + 0.005*\"دعم_1_0\" + 0.005*\"أهلي_1_0\" + 0.005*\"رب_1_0\" + 0.004*\"سعودي_1_0\" + 0.004*\"اللهم_1_0\" + 0.004*\"أن_1_0\" + 0.004*\"أنا_1_0\"\n",
      "Topic: 1 \n",
      "Words: 0.042*\"رياض_1_0\" + 0.036*\"تنظيف_1_0\" + 0.035*\"شركة_1_0\" + 0.018*\"أثاث_1_0\" + 0.015*\"مجلس_1_0\" + 0.014*\"واصل_1_0\" + 0.012*\"طبيعي_1_0\" + 0.011*\"نقل_1_0\" + 0.011*\"مظلة_1_0\" + 0.010*\"مكيفات_1_0\"\n",
      "Topic: 2 \n",
      "Words: 0.041*\"ساعة_1_0\" + 0.028*\"سعر_1_0\" + 0.021*\"جديد_1_0\" + 0.017*\"عرض_1_0\" + 0.016*\"ماركة_1_0\" + 0.015*\"خاص_1_0\" + 0.015*\"ضمان_1_0\" + 0.013*\"رجل_1_0\" + 0.012*\"سنة_1_0\" + 0.012*\"نسائي_1_0\"\n"
     ]
    }
   ],
   "source": [
    "# for each topic, print words occuring in that topic\n",
    "for idx, topic in lda_model_3.print_topics(-1):\n",
    "    print('Topic: {} \\nWords: {}'.format(idx, topic))"
   ]
  },
  {
   "cell_type": "markdown",
   "id": "7110d485",
   "metadata": {},
   "source": [
    "### First-Glance Analysis\n",
    "\n",
    "- Topic 0: Saudi, God, Heart, Support, Civilian, Lord\n",
    "- Topic 1: Natural, Transportation, Airconditioning, Riydah, Cleaning, Company, Parliament / Seat\n",
    "- Topic 2: Insurance, Man, For Women, Watch, Price, Offer, Brand, Special\n",
    "\n",
    "Again, recurring themes of Spiritual and Religious, but doesn't seem like there's a clearly political Topic in here."
   ]
  },
  {
   "cell_type": "markdown",
   "id": "2c0842b8",
   "metadata": {},
   "source": [
    "### 4.1.3. LDA with 7 Topics"
   ]
  },
  {
   "cell_type": "code",
   "execution_count": 23,
   "id": "a05d1657",
   "metadata": {},
   "outputs": [],
   "source": [
    "# load saved model\n",
    "lda_model_7 =  models.LdaModel.load('/Users/richard/Desktop/springboard_repo/capstones/three/models/LDA_7_below15_above50_top100k.model')"
   ]
  },
  {
   "cell_type": "code",
   "execution_count": 24,
   "id": "19981efc",
   "metadata": {},
   "outputs": [
    {
     "name": "stdout",
     "output_type": "stream",
     "text": [
      "Topic: 0 \n",
      "Words: 0.063*\"شيك_1_0\" + 0.048*\"قهوة_1_0\" + 0.036*\"مول_1_0\" + 0.032*\"لذيذ_1_0\" + 0.031*\"إجازة_1_0\" + 0.029*\"ميل_1_0\" + 0.025*\"شاي_1_0\" + 0.024*\"ٱستمتع_1_0\" + 0.023*\"لذة_1_0\" + 0.015*\"كافي_1_0\"\n",
      "Topic: 1 \n",
      "Words: 0.057*\"توفيرحجوزات_0_0\" + 0.050*\"اوراوا_0_0\" + 0.026*\"هواري_1_0\" + 0.025*\"دندراوي_0_0\" + 0.014*\"الحبسي_0_0\" + 0.014*\"هيريرا_0_0\" + 0.014*\"انييستا_0_0\" + 0.014*\"تاعبك_0_0\" + 0.014*\"توحا_0_0\" + 0.013*\"ربيروف_0_0\"\n",
      "Topic: 2 \n",
      "Words: 0.383*\"الميكرسكوب_0_0\" + 0.047*\"بشرة_1_0\" + 0.033*\"نخبة_1_0\" + 0.029*\"ستار_1_0\" + 0.027*\"ياباني_1_0\" + 0.025*\"ٱستعادة_1_0\" + 0.017*\"عظمي_1_0\" + 0.016*\"سقطري_0_0\" + 0.015*\"مارسيل_0_0\" + 0.010*\"إيجابيات_1_0\"\n",
      "Topic: 3 \n",
      "Words: 0.101*\"كوبلاي_0_0\" + 0.031*\"هاذا_0_0\" + 0.022*\"سيرناي_0_0\" + 0.021*\"رأس-ai_1_0\" + 0.015*\"شاة_1_0\" + 0.015*\"بينار_0_0\" + 0.014*\"لايك_1_0\" + 0.013*\"كار_1_0\" + 0.012*\"ماه-w_1_0\" + 0.011*\"وه_0_0\"\n",
      "Topic: 4 \n",
      "Words: 0.060*\"ايي_0_0\" + 0.024*\"ربيي_0_0\" + 0.022*\"تهبلل_0_0\" + 0.016*\"استرونج_0_0\" + 0.014*\"والطقعه_0_0\" + 0.014*\"تهببل_0_0\" + 0.010*\"عمرريي_0_0\" + 0.008*\"وبل_1_0\" + 0.008*\"لهه_0_0\" + 0.007*\"وياكك_0_0\"\n",
      "Topic: 5 \n",
      "Words: 0.213*\"طلال_1_0\" + 0.057*\"الوادعي_0_0\" + 0.056*\"بن_2_0\" + 0.053*\"جابر_1_0\" + 0.050*\"شافي_1_0\" + 0.031*\"ميراي_0_0\" + 0.028*\"متسابق_1_0\" + 0.014*\"عبدالقادر_1_0\" + 0.014*\"الحركان_0_0\" + 0.013*\"محسن_2_0\"\n",
      "Topic: 6 \n",
      "Words: 0.013*\"الله_1_0\" + 0.007*\"رياض_1_0\" + 0.005*\"ل_1_0\" + 0.005*\"قلب_3_0\" + 0.005*\"شركة_1_0\" + 0.004*\"دعم_1_0\" + 0.004*\"تنظيف_1_0\" + 0.004*\"أهلي_1_0\" + 0.004*\"رب_1_0\" + 0.004*\"سعودي_1_0\"\n"
     ]
    }
   ],
   "source": [
    "# for each topic, print words occuring in that topic\n",
    "for idx, topic in lda_model_7.print_topics(-1):\n",
    "    print('Topic: {} \\nWords: {}'.format(idx, topic))"
   ]
  },
  {
   "cell_type": "markdown",
   "id": "ee7b2a6e",
   "metadata": {},
   "source": [
    "### First-Glance Analysis\n",
    "\n",
    "- Topic 0: Tea, Enjoy, Coffee, Cool/Great, Price\n",
    "- Topic 1: Football players names, Japanese Soccer Club, Dundarawy (Saudi journalist)\n",
    "- Topic 2: Restore, Bone, Soqotra (Saudi island), Microscope, People, Elite, Star, Japanese\n",
    "- Topic 3: Stopwords\n",
    "- Topic 4: Gibberish\n",
    "- Topic 5: Previous, Volatile, Names\n",
    "- Topic 6: Cleaning, Civilian, Lord, Saudi, God, Riyadh, Heart, Compay, Support\n",
    "    \n",
    "Wow, this is very different from the previous 2 models. Lots of seemingly random stuff in there."
   ]
  },
  {
   "cell_type": "markdown",
   "id": "22f2aec9",
   "metadata": {},
   "source": [
    "### 4.1.4. LDA with 10 Topics"
   ]
  },
  {
   "cell_type": "code",
   "execution_count": 25,
   "id": "667fee94",
   "metadata": {},
   "outputs": [],
   "source": [
    "# load saved model\n",
    "lda_model_10 =  models.LdaModel.load('/Users/richard/Desktop/springboard_repo/capstones/three/models/LDA_10_below15_above50_top100k.model')"
   ]
  },
  {
   "cell_type": "code",
   "execution_count": 26,
   "id": "5d366dcb",
   "metadata": {},
   "outputs": [
    {
     "name": "stdout",
     "output_type": "stream",
     "text": [
      "Topic: 0 \n",
      "Words: 0.000*\"سِعْر_1\" + 0.000*\"ساعَة_1\" + 0.000*\"طَلَب_1\" + 0.000*\"واتس_0\" + 0.000*\"جَدِيد_1\" + 0.000*\"سَنَة_1\" + 0.000*\"رِياض_1\" + 0.000*\"تَواصُل_1\" + 0.000*\"بَيْع_1\" + 0.000*\"تَسابّ_1\"\n",
      "Topic: 1 \n",
      "Words: 0.000*\"هِلال_3\" + 0.000*\"أَهْلِيّ_1\" + 0.000*\"رتويت_0\" + 0.000*\"سَجَّل_1\" + 0.000*\"نادِي_1\" + 0.000*\"إِعْلان_1\" + 0.000*\"حِساب_2\" + 0.000*\"نَصْر_2\" + 0.000*\"دَوْر_1\" + 0.000*\"تابَع_1\"\n",
      "Topic: 2 \n",
      "Words: 0.013*\"الله_1_0\" + 0.007*\"رياض_1_0\" + 0.005*\"ل_1_0\" + 0.005*\"قلب_3_0\" + 0.005*\"شركة_1_0\" + 0.005*\"دعم_1_0\" + 0.004*\"أهلي_1_0\" + 0.004*\"تنظيف_1_0\" + 0.004*\"رب_1_0\" + 0.004*\"سعودي_1_0\"\n",
      "Topic: 3 \n",
      "Words: 0.208*\"ماكا_0_0\" + 0.123*\"مالتي_0_0\" + 0.075*\"فياغرا_1_0\" + 0.072*\"منوي_1_0\" + 0.041*\"مستخلص_1_0\" + 0.035*\"جانبيهفعال_0_0\" + 0.034*\"والارداف_0_0\" + 0.026*\"أَيّ_2\" + 0.017*\"إذابة_1_0\" + 0.016*\"الملتي_0_0\"\n",
      "Topic: 4 \n",
      "Words: 0.003*\"اللَّه_1\" + 0.001*\"رَبّ_1\" + 0.001*\"اللّٰهُمَّ_1\" + 0.001*\"لِ_1\" + 0.000*\"خَيْر_1\" + 0.000*\"جَعَل-a_1\" + 0.000*\"قَلْب_3\" + 0.000*\"سَعادَة_1\" + 0.000*\"رَحِم-a_1\" + 0.000*\"أَنَّ_1\"\n",
      "Topic: 5 \n",
      "Words: 0.000*\"سَعُودِيّ_1\" + 0.000*\"مِصْر_1\" + 0.000*\"بَلَد_1\" + 0.000*\"قُوَّة_1\" + 0.000*\"دِمَشْق_1\" + 0.000*\"رِيف_1\" + 0.000*\"سُورِيا_1\" + 0.000*\"دَوْلَة_1\" + 0.000*\"شَعْب_1\" + 0.000*\"وَطَن_1\"\n",
      "Topic: 6 \n",
      "Words: 0.000*\"مَشّ_1\" + 0.000*\"حاجَة_1\" + 0.000*\"إِيه_1\" + 0.000*\"كَدّ_1\" + 0.000*\"بِنْت_1\" + 0.000*\"ده_0\" + 0.000*\"دِي_1\" + 0.000*\"أَنَّة_1\" + 0.000*\"مِعَى_1\" + 0.000*\"عاوِز_1\"\n",
      "Topic: 7 \n",
      "Words: 0.000*\"دُون_1\" + 0.000*\"ماء_1\" + 0.000*\"بَنْك_1\" + 0.000*\"جَدّ_1\" + 0.000*\"حَلّ_1\" + 0.000*\"عَسَل_1\" + 0.000*\"قَرْض_1\" + 0.000*\"رِياض_1\" + 0.000*\"نَوْع_1\" + 0.000*\"سَيّارَة_1\"\n",
      "Topic: 8 \n",
      "Words: 0.000*\"صُورَة_1\" + 0.000*\"رَمَضان_1\" + 0.000*\"طِفْل_1\" + 0.000*\"شَهْر_1\" + 0.000*\"عاصِفَة_1\" + 0.000*\"مَدِينَة_1\" + 0.000*\"حَزْم_1\" + 0.000*\"فِيدْيُو_1\" + 0.000*\"مَكَّة_1\" + 0.000*\"عِيد_1\"\n",
      "Topic: 9 \n",
      "Words: 0.000*\"أَفْضَل_2\" + 0.000*\"حِساب_2\" + 0.000*\"ٱِسْتَحَقّ_1\" + 0.000*\"رِياض_1\" + 0.000*\"حَرْف_1\" + 0.000*\"شَرِكَة_1\" + 0.000*\"دَعْم_1\" + 0.000*\"مَنْزِل_1\" + 0.000*\"تويتر_0\" + 0.000*\"أَمِير_2\"\n"
     ]
    }
   ],
   "source": [
    "# for each topic, print words occuring in that topic\n",
    "for idx, topic in lda_model_10.print_topics(-1):\n",
    "    print('Topic: {} \\nWords: {}'.format(idx, topic))"
   ]
  },
  {
   "cell_type": "markdown",
   "id": "fabbd84e",
   "metadata": {},
   "source": [
    "### First-Glance Analysis\n",
    "\n",
    "- Topic 0: Delivery, Sell, WhatsApp, Price, Watch, Order, New, Year, Riyadh\n",
    "- Topic 1: Victory, Turn, Follow, Universe, Civilian, Retweet, Register, Club, Announcement\n",
    "- Topic 2: Civilian, Cleaning, Lord, Saudi, God, Riyadh, Heart, Company, Support\n",
    "- Topic 3: Gibberish, Viagra, Sperm\n",
    "- Topic 4: Help, Mercy, Heart, God, Lord, Good\n",
    "- Topic 5: Country, People, Nation, Saudi, Egypt, Land, Power, Damascus, Syria\n",
    "- Topic 6: Stop words\n",
    "- Topic 7: Riyadh, Type, Car, Without, Water, Bank, Solution, Honey, Loan\n",
    "- Topic 8: video, Mekkah, Holiday, Ramadan, Baby, Month, City\n",
    "- Topic 9: Support, House, Twitter, Prince, Better, Account, Riyadh, Company, Deserve\n",
    "\n",
    "OK, interesting. We've got one clearly political Topic showing up here: **Topic 5**.\n",
    "\n",
    "Seems to me like the token \"Prince\" should also be showing up in the political cluster, though. There's gotta be some tweets about the royal Saudi family in here."
   ]
  },
  {
   "cell_type": "markdown",
   "id": "5caabea4",
   "metadata": {},
   "source": [
    "### 4.1.5. LDA with 15 Topics"
   ]
  },
  {
   "cell_type": "code",
   "execution_count": 20,
   "id": "f8fb1066",
   "metadata": {},
   "outputs": [],
   "source": [
    "# load saved model\n",
    "lda_model_15 =  models.LdaModel.load('/Users/richard/Desktop/springboard_repo/capstones/three/models/LDA_15_below15_above50_top100k.model')"
   ]
  },
  {
   "cell_type": "code",
   "execution_count": 28,
   "id": "a76a9ede",
   "metadata": {},
   "outputs": [
    {
     "name": "stdout",
     "output_type": "stream",
     "text": [
      "Topic: 0 \n",
      "Words: 0.000*\"أثاث_1_0\" + 0.000*\"أفريقيا_1_0\" + 0.000*\"سياسي_1_0\" + 0.000*\"مظلة_1_0\" + 0.000*\"حزام_1_0\" + 0.000*\"سكس_0_0\" + 0.000*\"شراء_1_0\" + 0.000*\"مستعمل_1_0\" + 0.000*\"عالمي_1_0\" + 0.000*\"زد_0_0\"\n",
      "Topic: 1 \n",
      "Words: 0.000*\"سِعْر_1\" + 0.000*\"واتس_0\" + 0.000*\"طَلَب_1\" + 0.000*\"رتويت_0\" + 0.000*\"تَواصُل_1\" + 0.000*\"عَمَل_1\" + 0.000*\"بَيْع_1\" + 0.000*\"مَوْقِع_1\" + 0.000*\"إِعْلان_1\" + 0.000*\"رَجُل_1\"\n",
      "Topic: 2 \n",
      "Words: 0.000*\"طَرِيق_1\" + 0.000*\"واحِد_1\" + 0.000*\"ٱِحْتاج_1\" + 0.000*\"آخَر_1\" + 0.000*\"قِيمَة_1\" + 0.000*\"فُرْصَة_1\" + 0.000*\"ٱِنْتَهَى_1\" + 0.000*\"نِهايَة_1\" + 0.000*\"نَظَر_1\" + 0.000*\"سِنّ_1\"\n",
      "Topic: 3 \n",
      "Words: 0.004*\"اللَّه_1\" + 0.001*\"قال-u_1\" + 0.001*\"ناس_1\" + 0.001*\"رَبّ_1\" + 0.001*\"اللّٰهُمَّ_1\" + 0.000*\"لِ_1\" + 0.000*\"رَحِم-a_1\" + 0.000*\"جَنَّة_1\" + 0.000*\"خَيْر_1\" + 0.000*\"حَمْد_2\"\n",
      "Topic: 4 \n",
      "Words: 0.001*\"لَيّ_1\" + 0.001*\"حُبّ_1\" + 0.000*\"قَلْب_3\" + 0.000*\"لَيْل_1\" + 0.000*\"أَنا_1\" + 0.000*\"عَيْن_3\" + 0.000*\"يِن_1\" + 0.000*\"بُعْد_1\" + 0.000*\"غِياب_1\" + 0.000*\"شَوْق_1\"\n",
      "Topic: 5 \n",
      "Words: 0.001*\"سَعُودِيّ_1\" + 0.000*\"مَلِك_2\" + 0.000*\"مِصْر_1\" + 0.000*\"مُحَمَّد_1\" + 0.000*\"شَعْب_1\" + 0.000*\"وَطَن_1\" + 0.000*\"ال_1\" + 0.000*\"عَبْداللّٰه_1\" + 0.000*\"أَمِير_2\" + 0.000*\"أَهَمّ_2\"\n",
      "Topic: 6 \n",
      "Words: 0.001*\"أَنا_1\" + 0.001*\"بَسّ-u_1\" + 0.001*\"مَشّ_1\" + 0.000*\"حَدّ_1\" + 0.000*\"أُمّ_1\" + 0.000*\"عُشّ_1\" + 0.000*\"إِيه_1\" + 0.000*\"كَدّ_1\" + 0.000*\"بِنْت_1\" + 0.000*\"ده_0\"\n",
      "Topic: 7 \n",
      "Words: 0.000*\"جَدِيد_1\" + 0.000*\"سَنَة_1\" + 0.000*\"دُون_1\" + 0.000*\"ماء_1\" + 0.000*\"بَنْك_1\" + 0.000*\"مُشْكِلَة_1\" + 0.000*\"مَن_1\" + 0.000*\"حَلّ_1\" + 0.000*\"عَسَل_1\" + 0.000*\"قَرْض_1\"\n",
      "Topic: 8 \n",
      "Words: 0.000*\"صُورَة_1\" + 0.000*\"رَمَضان_1\" + 0.000*\"شَهْر_1\" + 0.000*\"بَيْت_3\" + 0.000*\"أَبُو_1\" + 0.000*\"كِتاب_1\" + 0.000*\"عِيد_1\" + 0.000*\"أَحْمَد_1\" + 0.000*\"بَلَغ-u_1\" + 0.000*\"مُسَلْسَل_1\"\n",
      "Topic: 9 \n",
      "Words: 0.001*\"رِياض_1\" + 0.000*\"ساعَة_1\" + 0.000*\"أَفْضَل_2\" + 0.000*\"تَوْصِيل_1\" + 0.000*\"شَرِكَة_1\" + 0.000*\"نَوْم_1\" + 0.000*\"نَوْع_1\" + 0.000*\"مَجّان_1\" + 0.000*\"مَنْزِل_1\" + 0.000*\"جِدّ_1\"\n",
      "Topic: 10 \n",
      "Words: 0.000*\"هِلال_3\" + 0.000*\"أَهْلِيّ_1\" + 0.000*\"مَرَّة_1\" + 0.000*\"سَجَّل_1\" + 0.000*\"كَبِير_1\" + 0.000*\"نادِي_1\" + 0.000*\"كُرَة_1\" + 0.000*\"نَصْر_2\" + 0.000*\"جُمْهُور_1\" + 0.000*\"مُباراة_1\"\n",
      "Topic: 11 \n",
      "Words: 0.000*\"مَدِينَة_1\" + 0.000*\"قُوَّة_1\" + 0.000*\"حَقِيقَة_1\" + 0.000*\"بَلَد_1\" + 0.000*\"أَسَد_1\" + 0.000*\"حَقّ_2\" + 0.000*\"قام-u_1\" + 0.000*\"إِخْوَة_1\" + 0.000*\"أَمْن_1\" + 0.000*\"حُرّ_1\"\n",
      "Topic: 12 \n",
      "Words: 0.020*\"الله_1_0\" + 0.011*\"رياض_1_0\" + 0.009*\"ل_1_0\" + 0.008*\"قلب_3_0\" + 0.008*\"شركة_1_0\" + 0.007*\"دعم_1_0\" + 0.007*\"تنظيف_1_0\" + 0.007*\"أهلي_1_0\" + 0.006*\"رب_1_0\" + 0.006*\"سعودي_1_0\"\n",
      "Topic: 13 \n",
      "Words: 0.000*\"ٱِسْم_1\" + 0.000*\"حِساب_2\" + 0.000*\"طِفْل_1\" + 0.000*\"دِمَشْق_1\" + 0.000*\"ٱِسْتَحَقّ_1\" + 0.000*\"رِيف_1\" + 0.000*\"شُكْر_1\" + 0.000*\"تويتر_0\" + 0.000*\"سُورِيا_1\" + 0.000*\"دَعْم_1\"\n",
      "Topic: 14 \n",
      "Words: 0.001*\"أَنَّ_1\" + 0.001*\"لِ_1\" + 0.001*\"قَلْب_3\" + 0.001*\"أَنْتَ_1\" + 0.001*\"حَياة_1\" + 0.001*\"أَحَبّ_1\" + 0.001*\"كان_1\" + 0.001*\"كُلّ_1\" + 0.001*\"شَيْء_1\" + 0.001*\"نَفْس_1\"\n"
     ]
    }
   ],
   "source": [
    "# for each topic, print words occuring in that topic\n",
    "for idx, topic in lda_model_15.print_topics(-1):\n",
    "    print('Topic: {} \\nWords: {}'.format(idx, topic))"
   ]
  },
  {
   "cell_type": "markdown",
   "id": "89e9b1fb",
   "metadata": {},
   "source": [
    "### First-Glance Analysis\n",
    "\n",
    "- Topic 0: Buy, Used, International, Africa, Political, Sex, Umbrella\n",
    "- Topic 1: Sell, Site, Announcement, Man, Price, WhatsApp, Order, Retweet, Deliver\n",
    "- Topic 2: End, Ending, Vision, Tooth, Road, Need, Last, Chance\n",
    "- Topic 3: Heaven, Good, Grace, People, Lord, God, Mercy\n",
    "- Topic 4: After, Absence, Love, Heart, Night, Eye\n",
    "- Topic 5: Abdallah, Prince, Saudi, Prince, King, Important, Egypt, Mohammed, People, Nation\n",
    "- Topic 6: Stop words\n",
    "- Topic 7: Solution, Honey, Loan, New, Year, Without, Water, Bank, Problem\n",
    "- Topic 8: TV series, Ahmed, Exaggerate, Picture, Ramadan, Month, House, Book, Holiday\n",
    "- Topic 9: Kind, House, Riyadh, Watch, Best, Deliver, Company, Sleep\n",
    "- Topic 10: Victory, Audience, Match, Universe, Civilian, Register / Score, Big, Club, Ball\n",
    "- Topic 11: Brothers, Security, Free, City, Force, Truth, Country, Asad, Truth\n",
    "- Topic 12: Cleaning, Civilian, Lord, Saudi, God, Riyadh, Heart, Company, Support\n",
    "- Topic 13: Twitter, Syria, Support, Name, Account, Kid, Damascus, Deserve, Thank you\n",
    "- Topic 14: stop words\n",
    "\n",
    "\n",
    "OK, interesting. We've got at least two, maybe three political Topic showing up here: **Topic 5** and **Topic 11**. **Topic 13** also contains some political keywords. Maybe mixed in with some less relevant stuff?"
   ]
  },
  {
   "cell_type": "markdown",
   "id": "e03e85b2",
   "metadata": {},
   "source": [
    "## 4.2. Evaluating Models\n",
    "\n",
    "To evaluate our LDA models, we will primarily rely on the LDA visualisations generated using the **pyLDAvis** library. The interactive reports are too large to display as part of this notebook but are saved in the **reports** directory of this repo.\n",
    "\n",
    "As a secondary confirmation measure, we will also compute the Topic Coherence score."
   ]
  },
  {
   "cell_type": "markdown",
   "id": "09534134",
   "metadata": {},
   "source": [
    "### 4.2.1. Evaluating 5-Topic LDA"
   ]
  },
  {
   "cell_type": "code",
   "execution_count": 29,
   "id": "ab1c97fb",
   "metadata": {
    "scrolled": true
   },
   "outputs": [
    {
     "name": "stdout",
     "output_type": "stream",
     "text": [
      "CPU times: user 15min 3s, sys: 45.8 s, total: 15min 49s\n",
      "Wall time: 18min 31s\n"
     ]
    }
   ],
   "source": [
    "%%time\n",
    "# prepare visualisation data\n",
    "vis_data_LDA_5 = gensimvis.prepare(lda_model_5, bow_corpus, dictionary)"
   ]
  },
  {
   "cell_type": "code",
   "execution_count": 30,
   "id": "0db97ee4",
   "metadata": {},
   "outputs": [],
   "source": [
    "# create filepath to save HTML visualisation\n",
    "filepath = \"/Users/richard/Desktop/springboard_repo/capstones/three/reports/LDA_5_Below15_Above50_Top100k.html\""
   ]
  },
  {
   "cell_type": "code",
   "execution_count": 31,
   "id": "7103db8b",
   "metadata": {},
   "outputs": [],
   "source": [
    "# save visualisation to HTML in repo\n",
    "pyLDAvis.save_html(vis_data_LDA_5, filepath)"
   ]
  },
  {
   "cell_type": "code",
   "execution_count": 32,
   "id": "d3c7b570",
   "metadata": {},
   "outputs": [
    {
     "name": "stdout",
     "output_type": "stream",
     "text": [
      "CPU times: user 58.8 s, sys: 12.8 s, total: 1min 11s\n",
      "Wall time: 3min 21s\n"
     ]
    }
   ],
   "source": [
    "%%time\n",
    "# evaluate model using Topic Coherence score\n",
    "cm_5 = CoherenceModel(model=lda_model_5, corpus=bow_corpus, texts=docs, coherence='c_v')\n",
    "\n",
    "# get coherence value\n",
    "coherence_5 = cm_5.get_coherence()  "
   ]
  },
  {
   "cell_type": "code",
   "execution_count": 33,
   "id": "9906e0f5",
   "metadata": {},
   "outputs": [
    {
     "name": "stdout",
     "output_type": "stream",
     "text": [
      "0.37778454455329447\n"
     ]
    }
   ],
   "source": [
    "# print coherence value\n",
    "print(coherence_5)"
   ]
  },
  {
   "cell_type": "markdown",
   "id": "0c080264",
   "metadata": {},
   "source": [
    "### 4.2.2. Evaluating 3-Topic LDA"
   ]
  },
  {
   "cell_type": "code",
   "execution_count": 34,
   "id": "aaedd03e",
   "metadata": {},
   "outputs": [
    {
     "name": "stdout",
     "output_type": "stream",
     "text": [
      "CPU times: user 16min 52s, sys: 51.6 s, total: 17min 43s\n",
      "Wall time: 20min 53s\n"
     ]
    }
   ],
   "source": [
    "%%time\n",
    "# prepare visualisation data\n",
    "vis_data_LDA_3 = gensimvis.prepare(lda_model_3, bow_corpus, dictionary)\n",
    "\n",
    "# create filepath to save HTML visualisation\n",
    "filepath = \"/Users/richard/Desktop/springboard_repo/capstones/three/reports/LDA_3_Below15_Above50_Top100k.html\"\n",
    "\n",
    "# save visualisation to HTML in repo\n",
    "pyLDAvis.save_html(vis_data_LDA_3, filepath)"
   ]
  },
  {
   "cell_type": "code",
   "execution_count": 35,
   "id": "55852d1e",
   "metadata": {},
   "outputs": [
    {
     "name": "stdout",
     "output_type": "stream",
     "text": [
      "CPU times: user 55.8 s, sys: 9.84 s, total: 1min 5s\n",
      "Wall time: 2min 5s\n"
     ]
    }
   ],
   "source": [
    "%%time\n",
    "# evaluate model using Topic Coherence score\n",
    "#REWRITE WITH c_v !!!\n",
    "cm_3 = CoherenceModel(model=lda_model_3, corpus=bow_corpus, texts=docs, coherence='c_v')\n",
    "\n",
    "# get coherence value\n",
    "coherence_3 = cm_3.get_coherence()  "
   ]
  },
  {
   "cell_type": "code",
   "execution_count": 36,
   "id": "8e4eeafd",
   "metadata": {},
   "outputs": [
    {
     "name": "stdout",
     "output_type": "stream",
     "text": [
      "0.4256040003859985\n"
     ]
    }
   ],
   "source": [
    "print(coherence_3)"
   ]
  },
  {
   "cell_type": "markdown",
   "id": "19cbceb7",
   "metadata": {},
   "source": [
    "### 4.2.3. Evaluating 7-Topic LDA"
   ]
  },
  {
   "cell_type": "code",
   "execution_count": 37,
   "id": "e85ec815",
   "metadata": {},
   "outputs": [
    {
     "name": "stdout",
     "output_type": "stream",
     "text": [
      "CPU times: user 12min 21s, sys: 43.3 s, total: 13min 4s\n",
      "Wall time: 14min 34s\n"
     ]
    }
   ],
   "source": [
    "%%time\n",
    "# prepare visualisation data\n",
    "vis_data_LDA_7 = gensimvis.prepare(lda_model_7, bow_corpus, dictionary)\n",
    "\n",
    "# create filepath to save HTML visualisation\n",
    "filepath = \"/Users/richard/Desktop/springboard_repo/capstones/three/reports/LDA_7_Below15_Above50_Top100k.html\"\n",
    "\n",
    "# save visualisation to HTML in repo\n",
    "pyLDAvis.save_html(vis_data_LDA_7, filepath)"
   ]
  },
  {
   "cell_type": "code",
   "execution_count": 38,
   "id": "0f3a8294",
   "metadata": {},
   "outputs": [],
   "source": [
    "# evaluate model using Topic Coherence score\n",
    "cm_7 = CoherenceModel(model=lda_model_7, corpus=bow_corpus, texts=docs, coherence='c_v')\n",
    "coherence_7 = cm_7.get_coherence()  # get coherence value"
   ]
  },
  {
   "cell_type": "code",
   "execution_count": 39,
   "id": "5c73b51a",
   "metadata": {},
   "outputs": [
    {
     "name": "stdout",
     "output_type": "stream",
     "text": [
      "0.4286814719004147\n"
     ]
    }
   ],
   "source": [
    "print(coherence_7)"
   ]
  },
  {
   "cell_type": "markdown",
   "id": "5d9ccd8e",
   "metadata": {},
   "source": [
    "### 4.2.4. Evaluating 10-Topic LDA"
   ]
  },
  {
   "cell_type": "code",
   "execution_count": 40,
   "id": "2105e571",
   "metadata": {},
   "outputs": [
    {
     "name": "stdout",
     "output_type": "stream",
     "text": [
      "CPU times: user 12min 30s, sys: 40.9 s, total: 13min 11s\n",
      "Wall time: 14min 27s\n"
     ]
    }
   ],
   "source": [
    "%%time\n",
    "# prepare visualisation data\n",
    "vis_data_LDA_10 = gensimvis.prepare(lda_model_10, bow_corpus, dictionary)\n",
    "\n",
    "# create filepath to save HTML visualisation\n",
    "filepath = \"/Users/richard/Desktop/springboard_repo/capstones/three/reports/LDA_10_Below15_Above50_Top100k.html\"\n",
    "\n",
    "# save visualisation to HTML in repo\n",
    "pyLDAvis.save_html(vis_data_LDA_10, filepath)"
   ]
  },
  {
   "cell_type": "code",
   "execution_count": 41,
   "id": "b5528ffe",
   "metadata": {},
   "outputs": [],
   "source": [
    "# evaluate model using Topic Coherence score\n",
    "cm_10 = CoherenceModel(model=lda_model_10, corpus=bow_corpus, texts=docs, coherence='c_v')\n",
    "coherence_10 = cm_10.get_coherence()  # get coherence value"
   ]
  },
  {
   "cell_type": "code",
   "execution_count": 42,
   "id": "67a98247",
   "metadata": {},
   "outputs": [
    {
     "name": "stdout",
     "output_type": "stream",
     "text": [
      "0.5242469259416598\n"
     ]
    }
   ],
   "source": [
    "print(coherence_10)"
   ]
  },
  {
   "cell_type": "markdown",
   "id": "c6b98a8b",
   "metadata": {},
   "source": [
    "### 4.2.5. Evaluating 15-Topic LDA"
   ]
  },
  {
   "cell_type": "code",
   "execution_count": 43,
   "id": "6efeac94",
   "metadata": {},
   "outputs": [
    {
     "name": "stdout",
     "output_type": "stream",
     "text": [
      "CPU times: user 10min 52s, sys: 46.6 s, total: 11min 38s\n",
      "Wall time: 13min 21s\n"
     ]
    }
   ],
   "source": [
    "%%time\n",
    "# prepare visualisation data\n",
    "vis_data_LDA_15 = gensimvis.prepare(lda_model_15, bow_corpus, dictionary)\n",
    "\n",
    "# create filepath to save HTML visualisation\n",
    "filepath = \"/Users/richard/Desktop/springboard_repo/capstones/three/reports/LDA_15_Below15_Above50_Top100k.html\"\n",
    "\n",
    "# save visualisation to HTML in repo\n",
    "pyLDAvis.save_html(vis_data_LDA_15, filepath)"
   ]
  },
  {
   "cell_type": "code",
   "execution_count": 44,
   "id": "3b160c6d",
   "metadata": {},
   "outputs": [],
   "source": [
    "# evaluate model using Topic Coherence score\n",
    "cm_15 = CoherenceModel(model=lda_model_15, corpus=bow_corpus, texts=docs, coherence='c_v')\n",
    "coherence_15 = cm_15.get_coherence()  # get coherence value"
   ]
  },
  {
   "cell_type": "code",
   "execution_count": 45,
   "id": "46bd04b7",
   "metadata": {},
   "outputs": [
    {
     "name": "stdout",
     "output_type": "stream",
     "text": [
      "0.528143537847185\n"
     ]
    }
   ],
   "source": [
    "print(coherence_15)"
   ]
  },
  {
   "cell_type": "markdown",
   "id": "fffaa7b2",
   "metadata": {},
   "source": [
    "### Evaluating LDA Visualisation Report\n",
    "\n",
    "Our eye-balling evaluation led us to believe that the last LDA Model (with 15 topics) performed the best out of the 5 options. Below, we provide a summary of our in-depth analysis of the LDA Visualisation Report of this 15-Topic LDA Model.\n",
    "\n",
    "- LDA Visualisation shows Top 30 words that occur in each Topic\n",
    "- This more in-depth view of the topics confirms our initial 'First-Glance Analysis':\n",
    "    - There are 2 clearly political clusters\n",
    "    - There is 1 cluster mixing political with misc. content\n",
    "- The 15 clusters are not evenly distributed throughout the clustering space. Instead, there is one cluster on one side, and all 14 other clusters are overlapping on the other (see screenshot). This may be a sign that this clustering is not functioning entirely as it should.\n",
    "\n",
    "Overall, I think we would do well to first run our GSDMM models to see if those perform obviously better. If so, then there is no need to continue using LDA. If the difference between GSDMM and LDA is not so obvious, then we can always come back here and attempt to refine the 15-Topic LDA model."
   ]
  },
  {
   "cell_type": "code",
   "execution_count": 176,
   "id": "dbb43286",
   "metadata": {},
   "outputs": [
    {
     "data": {
      "image/png": "[encoded data removed]",
      "text/plain": [
       "<IPython.core.display.Image object>"
      ]
     },
     "execution_count": 176,
     "metadata": {},
     "output_type": "execute_result"
    }
   ],
   "source": [
    "from IPython.display import Image\n",
    "Image(filename='/Users/richard/Desktop/springboard_repo/capstones/three/figures/LDA_15_Topic1.png')"
   ]
  },
  {
   "cell_type": "markdown",
   "id": "f129b922",
   "metadata": {},
   "source": [
    "# 5. Running GSDMM\n",
    "\n",
    "This is going to be a very iterative process. \n",
    "\n",
    "We'll be looking for:\n",
    "- fast convergence\n",
    "- decrease in number of clusters\n",
    "- consistent number of items being transferred after first few runs\n",
    "\n",
    "To achieve that, we can play with:\n",
    "- alpha, beta\n",
    "- K\n",
    "- n_iters \n",
    "- dictionary size (filtering cut-offs)\n",
    "\n",
    "From [the library's Github Repo](https://github.com/rwalk/gsdmm-rust):\n",
    "\n",
    "A few ideas for working with GSDMM:\n",
    "\n",
    "- Always choose K bigger than the expected number of clusters but generally with the same order of magnitude as the expected number. If the number of clusters remains constant across all iterations, you may not have chosen a large enough value of K. Note, however, that large K significantly increases the computation time.\n",
    "- Alpha and beta need to be tuned for each data set and use case. Alpha and beta tend to work in opposite directions and they significantly impact the converence behavior. **It's usually sufficient to start with a subsample of documents** to get ballpark estimates for these parameters.\n",
    "- Monitor the number of clusters and the number of docs transferred at each iteration. Both should die off quickly and then stabilize. Generally, neither number should increase significantly in subsequent iterations."
   ]
  },
  {
   "cell_type": "markdown",
   "id": "594dc0bd",
   "metadata": {},
   "source": [
    "\n",
    "## 5.1. Create Sample Subset\n",
    "\n",
    "Let's follow the advice from the library's documentation and start with a subset of our data to get a ballpark estimate of our hyperparameters. \n",
    "\n",
    "Let's do a subset of 100k tweets."
   ]
  },
  {
   "cell_type": "code",
   "execution_count": 46,
   "id": "75c3ad17",
   "metadata": {},
   "outputs": [],
   "source": [
    "df_sample = df.sample(100000, random_state=21)"
   ]
  },
  {
   "cell_type": "code",
   "execution_count": 47,
   "id": "8ae8e47c",
   "metadata": {},
   "outputs": [],
   "source": [
    "docs_sample = df_sample.tweet_text.to_numpy()"
   ]
  },
  {
   "cell_type": "code",
   "execution_count": 48,
   "id": "3dd3e397",
   "metadata": {},
   "outputs": [],
   "source": [
    "# create BOW dictionary\n",
    "dictionary_sample = gensim.corpora.Dictionary(docs_sample)"
   ]
  },
  {
   "cell_type": "code",
   "execution_count": 49,
   "id": "9894d416",
   "metadata": {},
   "outputs": [
    {
     "data": {
      "text/plain": [
       "78659"
      ]
     },
     "execution_count": 49,
     "metadata": {},
     "output_type": "execute_result"
    }
   ],
   "source": [
    "len(dictionary_sample)"
   ]
  },
  {
   "cell_type": "code",
   "execution_count": 50,
   "id": "50868f57",
   "metadata": {},
   "outputs": [],
   "source": [
    "sample_vocab_length = len(dictionary_sample)"
   ]
  },
  {
   "cell_type": "code",
   "execution_count": 51,
   "id": "a2bdd9a7",
   "metadata": {},
   "outputs": [
    {
     "name": "stdout",
     "output_type": "stream",
     "text": [
      "CPU times: user 2.28 s, sys: 1.05 s, total: 3.33 s\n",
      "Wall time: 3.96 s\n"
     ]
    }
   ],
   "source": [
    "%%time\n",
    "# map docs to bag of words\n",
    "bow_corpus_sample = [dictionary_sample.doc2bow(doc) for doc in docs_sample]"
   ]
  },
  {
   "cell_type": "markdown",
   "id": "ababae39",
   "metadata": {},
   "source": [
    "OK, we're now ready to run GSDMM on this sample dataset."
   ]
  },
  {
   "cell_type": "markdown",
   "id": "6b213c6d",
   "metadata": {},
   "source": [
    "## 5.2. Run GSDMM Models\n",
    "\n",
    "Let's run a few different versions of GSDMM to see which hyperparameter settings perform the best. Just like with LDA, we will rely heavily on eye-balling to evaluate performance; supplemented by the calculation of the Topic Coherence score.\n",
    "\n",
    "It's perhaps useful to provide a simple illustration of how the GSDMM model works in order to understand how we're setting the hyperparameters (copied from [this Medium article](https://towardsdatascience.com/short-text-topic-modeling-70e50a57c883)):\n",
    "\n",
    ">Imagine a bunch of students in a restaurant, seated randomly at K tables. They are all asked to write their favorite movies on a paper (but it must remain a short list). The objective is to cluster them in such a way that students within the same group share the same movie interest. To do so, one after another, students must make a new table choice regarding the two following rules:\n",
    "\n",
    ">>**Rule 1:** Choose a table with more students. This rule improves completeness, all students sharing the same movie’s interest are assigned to the same table.\n",
    "\n",
    ">>**Rule 2:** Choose a table where students share similar movie’s interest. This rule aims to increase homogeneity, we want only members sharing the same movie’s interest at a table.\n",
    "\n",
    ">After repeating this process, we expect some tables to disappear and others to grow larger and eventually have clusters of students matching their movie’s interest. This is simply what the GSDMM algorithm does!\n",
    "\n",
    "\n",
    "The hyperparameters of GSDMM are:\n",
    "- **K**: the number of clusters that exists when the model is initiated. Students (tweets, in our case) will be distributed randomly across these K clusters to begin with. This means the number of clusters the model outputs can always only be **less than K**.\n",
    "- **alpha**: Alpha is a parameter affecting the shape of our probability distribution. More importantly, alpha is derived from the probability that a document will be grouped into a cluster. In the movie example, this is the probability of a student choosing a table.\n",
    "- **beta**: Beta is the other shape parameter for our distribution. Beta comes from the similarity of words in a document to those of words in another document. Relating to the movie groups, beta is the probability that a student will join a table with similar movie choices. If beta is 0, for example, the student will only join tables with movies in common. This may not be the best strategy. Perhaps two students love thriller movies, but they haven’t listed the same movies. We still want the students to wind up in the same group of thriller lovers.\n",
    "- **n_iters**: the number of times the students (tweets, in our case) are regrouped into new clusters based on the two rules defined above.\n",
    "\n",
    "Definitions of alpha and beta copied from [this Medium article](https://towardsdatascience.com/a-unique-approach-to-short-text-clustering-part-1-algorithmic-theory-4d4fad0882e1)"
   ]
  },
  {
   "cell_type": "markdown",
   "id": "711cb345",
   "metadata": {},
   "source": [
    "Now that we have an understanding of the inner workings of this algorithm, let's go ahead and give it a spin.\n",
    "\n",
    "We'll also define function that gets us the top words in each topic."
   ]
  },
  {
   "cell_type": "code",
   "execution_count": 20,
   "id": "c54bba78",
   "metadata": {},
   "outputs": [],
   "source": [
    "# define function to get top words per topic\n",
    "def top_words(cluster_word_distribution, top_cluster, values):\n",
    "    for cluster in top_cluster:\n",
    "        sort_dicts = sorted(cluster_word_distribution[cluster].items(), key=lambda k: k[1], reverse=True)[:values]\n",
    "        print(\"\\nCluster %s : %s\"%(cluster, sort_dicts))"
   ]
  },
  {
   "cell_type": "markdown",
   "id": "b362e2ac",
   "metadata": {},
   "source": [
    "### 5.2.1. GSDMM Model - Trial 1\n",
    "\n",
    "Let's start by running a GSDMM model with the same number of topics as our largest LDA model (15) and with out-of-the-box alpha and beta settings (i.e. both set to 0.1). We will do the re-grouping process a total of 10 times."
   ]
  },
  {
   "cell_type": "code",
   "execution_count": 53,
   "id": "08049824",
   "metadata": {},
   "outputs": [],
   "source": [
    "# initialize GSDMM\n",
    "gsdmm = MovieGroupProcess(K=15, alpha=0.1, beta=0.1, n_iters=10)"
   ]
  },
  {
   "cell_type": "code",
   "execution_count": 54,
   "id": "af9b7e98",
   "metadata": {},
   "outputs": [
    {
     "name": "stdout",
     "output_type": "stream",
     "text": [
      "In stage 0: transferred 89325 clusters with 15 clusters populated\n",
      "In stage 1: transferred 50729 clusters with 15 clusters populated\n",
      "In stage 2: transferred 20308 clusters with 15 clusters populated\n",
      "In stage 3: transferred 14747 clusters with 15 clusters populated\n",
      "In stage 4: transferred 11663 clusters with 15 clusters populated\n",
      "In stage 5: transferred 10331 clusters with 15 clusters populated\n",
      "In stage 6: transferred 9707 clusters with 15 clusters populated\n",
      "In stage 7: transferred 9529 clusters with 15 clusters populated\n",
      "In stage 8: transferred 9608 clusters with 15 clusters populated\n",
      "In stage 9: transferred 9455 clusters with 15 clusters populated\n",
      "CPU times: user 9min 41s, sys: 12.4 s, total: 9min 53s\n",
      "Wall time: 10min 8s\n"
     ]
    }
   ],
   "source": [
    "%%time\n",
    "y = gsdmm.fit(docs_sample, sample_vocab_length)"
   ]
  },
  {
   "cell_type": "markdown",
   "id": "55fe5008",
   "metadata": {},
   "source": [
    "Interesting. The GSDMM model does not converge down to less than 15 clusters.\n",
    "\n",
    "This indicates that we should probably try initiating the model with a higher number of clusters to start."
   ]
  },
  {
   "cell_type": "code",
   "execution_count": 55,
   "id": "d146a4f7",
   "metadata": {},
   "outputs": [
    {
     "name": "stdout",
     "output_type": "stream",
     "text": [
      "Number of documents per topic : [ 1933  9074  5787   995 16649 10713  5009  9021  7539   327  6628  2007\n",
      "  3475 20733   110]\n",
      "********************\n",
      "Most important clusters (by number of docs inside): [13  4  5  1  7  8 10  2  6 12 11  0  3  9 14]\n"
     ]
    }
   ],
   "source": [
    "doc_count = np.array(gsdmm.cluster_doc_count)\n",
    "print('Number of documents per topic :', doc_count)\n",
    "print('*'*20)\n",
    "\n",
    "# Topics sorted by the number of document they are allocated to\n",
    "top_index = doc_count.argsort()[-15:][::-1]\n",
    "print('Most important clusters (by number of docs inside):', top_index)"
   ]
  },
  {
   "cell_type": "code",
   "execution_count": 56,
   "id": "57f6b676",
   "metadata": {},
   "outputs": [
    {
     "name": "stdout",
     "output_type": "stream",
     "text": [
      "\n",
      "Cluster 13 : [('قَلْب_3', 3590), ('اللَّه_1', 3056), ('لِ_1', 2338), ('أَنَّ_1', 2060), ('حُبّ_1', 1731), ('حَياة_1', 1683), ('أَحَبّ_1', 1671), ('قال-u_1', 1419), ('شَيْء_1', 1415), ('أَنا_1', 1367), ('خَيْر_1', 1345), ('أَنْتَ_1', 1343), ('كان_1', 1335), ('رَبّ_1', 1221), ('لَيّ_1', 1043), ('ناس_1', 1006), ('نَفْس_1', 992), ('شَخْص_1', 988), ('كُلّ_1', 937), ('يَوْم_1', 804)]\n",
      "\n",
      "Cluster 4 : [('الله_1_0', 4510), ('قروب_0_0', 2693), ('دعم_1_0', 2591), ('قلب_3_0', 2163), ('ل_1_0', 2157), ('رب_1_0', 1491), ('اللهم_1_0', 1430), ('أن_1_0', 1256), ('خير_1_0', 1231), ('قال-u_1_0', 1066), ('حياة_1_0', 1057), ('أحب_1_0', 1027), ('أنت_1_0', 998), ('أنا_1_0', 918), ('من_1_0', 856), ('شيء_1_0', 838), ('حب_1_0', 833), ('كان_1_0', 818), ('لي_1_0', 785), ('نفس_1_0', 768)]\n",
      "\n",
      "Cluster 5 : [('سَعُودِيّ_1', 1107), ('قَطَر_1', 919), ('اللَّه_1', 903), ('أَمارَة_1', 845), ('عَرَبِيّ_1', 794), ('سُودان_1', 704), ('دَوْلَة_1', 657), ('رَئِيس_1', 645), ('مُحَمَّد_1', 597), ('بَلَد_1', 588), ('لِيبِيا_1', 582), ('إِرْهاب_1', 540), ('إِخْوَة_1', 502), ('شَعْب_1', 498), ('قُوَّة_1', 487), ('مَجْلِس_1', 486), ('سُورِيا_1', 479), ('تُركِيا_1', 474), ('جَيْش_1', 467), ('إِيران_1', 461)]\n",
      "\n",
      "Cluster 1 : [('هِلال_3', 814), ('أَهْلِيّ_1', 561), ('سَعُودِيّ_1', 527), ('رِياض_1', 506), ('حِساب_2', 394), ('اللَّه_1', 384), ('مُباراة_1', 377), ('سِعْر_1', 350), ('جَدِيد_1', 341), ('دَوْرِيّ_2', 338), ('نادِي_1', 328), ('أَفْضَل_2', 316), ('لِ_1', 306), ('عَرْض_1', 301), ('لاعِب_1', 286), ('مُحَمَّد_1', 279), ('عالَم_1', 278), ('عَسَل_1', 272), ('جُمْهُور_1', 268), ('دُون_1', 267)]\n",
      "\n",
      "Cluster 7 : [('أَنا_1', 1171), ('لَيّ_1', 1149), ('اللَّه_1', 909), ('بَسّ-u_1', 694), ('قال-u_1', 661), ('مَشّ_1', 651), ('أَنْتَ_1', 500), ('أَنَّ_1', 485), ('ناس_1', 441), ('رَبّ_1', 392), ('حاجَة_1', 373), ('بِنْت_1', 355), ('كُلّ_1', 344), ('تابَع_1', 326), ('لِ_1', 313), ('إِيه_1', 312), ('عِنْد_1', 308), ('حَدّ_1', 304), ('عُشّ_1', 296), ('رتويت_0', 293)]\n",
      "\n",
      "Cluster 8 : [('سعر_1_0', 1007), ('رياض_1_0', 872), ('طلب_1_0', 690), ('ساعة_1_0', 574), ('ماء_1_0', 531), ('واتس_0_0', 517), ('حساب_2_0', 497), ('بيع_1_0', 491), ('تواصل_1_0', 485), ('سعودي_1_0', 477), ('عرض_1_0', 435), ('ضمان_1_0', 417), ('خاص_1_0', 407), ('إعلان_1_0', 382), ('جديد_1_0', 372), ('متابع_1_0', 367), ('توصيل_1_0', 365), ('عسل_1_0', 360), ('تساب_1_0', 345), ('شركة_1_0', 336)]\n",
      "\n",
      "Cluster 10 : [('سعودي_1_0', 686), ('سوريا_1_0', 613), ('مدينة_1_0', 408), ('ريف_1_0', 377), ('الله_1_0', 361), ('أهلي_1_0', 348), ('قوة_1_0', 336), ('مصر_1_0', 307), ('هلال_3_0', 290), ('حلب_1_0', 288), ('بلد_1_0', 282), ('عربي_1_0', 243), ('رئيس_1_0', 243), ('طيران_1_0', 237), ('أسد_1_0', 233), ('قطر_1_0', 227), ('دولة_1_0', 222), ('ٱستهدف_1_0', 219), ('محمد_1_0', 219), ('جيش_1_0', 215)]\n",
      "\n",
      "Cluster 2 : [('اللَّه_1', 4407), ('اللّٰهُمَّ_1', 1999), ('رَبّ_1', 1159), ('لِ_1', 918), ('خَيْر_1', 670), ('سَلَّم_1', 552), ('أَنَّ_1', 492), ('قَلْب_3', 475), ('حَمْد_2', 449), ('وَلِي-i_1', 445), ('صَلَّى_1', 437), ('نَبِيّ_1', 434), ('ٱِسْتَغْفَر_1', 430), ('مُحَمَّد_1', 411), ('رَحِم-a_1', 410), ('جَعَل-a_1', 409), ('قال-u_1', 374), ('سَأَل-a_1', 372), ('جَنَّة_1', 367), ('أَنْتَ_1', 363)]\n",
      "\n",
      "Cluster 6 : [('أنا_1_0', 693), ('لي_1_0', 661), ('مش_1_0', 514), ('الله_1_0', 444), ('بس-u_1_0', 380), ('ناس_1_0', 303), ('أنت_1_0', 291), ('أن_1_0', 282), ('حاجة_1_0', 266), ('قال-u_1_0', 264), ('إيه_1_0', 264), ('كد_1_0', 235), ('ده_0_0', 227), ('دي_1_0', 211), ('عش_1_0', 208), ('حد_1_0', 192), ('أهلي_1_0', 190), ('كل_1_0', 188), ('كان_1_0', 187), ('رب_1_0', 177)]\n",
      "\n",
      "Cluster 12 : [('سكس_0', 4876), ('لَم_1', 1140), ('فِيلْم_1', 997), ('نِيّ_1', 932), ('قَحْبَة_1', 801), ('خَلْفَ_1', 756), ('شَرْمُوطَة_2', 740), ('رابَط_1', 623), ('ممحونه_0', 574), ('مربربه_0', 440), ('سَعُودِيّ_1', 420), ('حَلّ_1', 417), ('عَرَبِيّ_1', 414), ('خَلِيجِيّ_2', 411), ('سِحاق_1', 408), ('كسها_0', 393), ('مَصّ_2', 391), ('أَثار_1', 384), ('عَنِيف_1', 378), ('زُبّ_1', 377)]\n",
      "\n",
      "Cluster 11 : [('دَعْم_1', 858), ('قروب_0', 491), ('ساعَة_1', 365), ('حِساب_2', 209), ('سِعْر_1', 192), ('نَجْم_1', 183), ('إِبْداع_1', 169), ('حَرْف_1', 163), ('خاصّ_1', 156), ('نِسائِيّ_1', 142), ('ضَمان_1', 140), ('رَجُل_1', 139), ('طَلَب_1', 137), ('مارْكَة_1', 132), ('مُتابَعَة_1', 129), ('أَمِير_2', 128), ('جَدِيد_1', 120), ('عِطْر_1', 115), ('رِياض_1', 115), ('ٱِسْتَحَقّ_1', 115)]\n",
      "\n",
      "Cluster 0 : [('قرض_1_0', 1684), ('تسديد_1_0', 1552), ('رياض_1_0', 1155), ('أهلي_1_0', 1084), ('بنك_1_0', 1048), ('راجحي_1_0', 995), ('سداد_1_0', 660), ('تنظيف_1_0', 659), ('شركة_1_0', 555), ('راتب_1_0', 538), ('متعثر_1_0', 537), ('سامبا_1_0', 507), ('عربي_1_0', 468), ('إنماء_1_0', 447), ('بلد_1_0', 435), ('طريق_1_0', 385), ('شرعية_1_0', 371), ('سمة_1_0', 348), ('أبو_1_0', 266), ('جميع_1_0', 255)]\n",
      "\n",
      "Cluster 3 : [('شَرِكَة_1', 1103), ('رِياض_1', 1005), ('تَنْظِيف_1', 882), ('أَثاث_1', 408), ('ماء_1', 370), ('عَزْل_1', 346), ('نَقْل_1', 316), ('كَشَف-i_1', 272), ('خَزّان_1', 264), ('تَسَرُّب_1', 241), ('مُسْتَعْمَل_1', 200), ('أَفْضَل_2', 199), ('سَطْح_2', 192), ('عَفْش_1', 183), ('مَجْلِس_1', 182), ('شِراء_1', 162), ('مِظَلَّة_1', 159), ('مُكافَحَة_1', 157), ('شَقَّة_1', 148), ('مُكَيِّفات_1', 148)]\n",
      "\n",
      "Cluster 9 : [('مظلة_1_0', 195), ('زيت_1_0', 122), ('ساتر_1_0', 112), ('شعر_1_0', 87), ('شعر-u_1_0', 80), ('تساقط_1_0', 67), ('حشيش_1_0', 65), ('قرميد_2_0', 60), ('هناجر_1_0', 57), ('بيت_3_0', 51), ('صلع_1_0', 45), ('رياض_1_0', 43), ('مستودع_2_0', 40), ('سيارة_1_0', 39), ('جميع_1_0', 37), ('تواصل_1_0', 36), ('عمل_1_0', 36), ('طلب_1_0', 36), ('أصلي_1_0', 35), ('شنب_2_0', 32)]\n",
      "\n",
      "Cluster 14 : [('بيت_1_0', 22), ('طبخ-ua_1_0', 22), ('أم_1_0', 21), ('صالح_1_0', 21), ('زيت_1_0', 18), ('صحي_1_0', 18), ('لذيذ_1_0', 18), ('زيتون_1_0', 18), ('شَلّال_1', 17), ('كليجا_0_0', 16), ('مشبات_0', 15), ('شَوّايَة_1', 15), ('فُرْن_1', 13), ('فرن_1_0', 12), ('بيت_3_0', 12), ('مرض_1_0', 12), ('سكري_1_0', 12), ('رجيم_1_0', 12), ('هش_2_0', 10), ('رائحة_1_0', 10)]\n"
     ]
    }
   ],
   "source": [
    "# get top words in topics\n",
    "top_words(gsdmm.cluster_word_distribution, top_index, 20)"
   ]
  },
  {
   "cell_type": "markdown",
   "id": "fefb936f",
   "metadata": {},
   "source": [
    "### Analysis\n",
    "\n",
    "- Topic 0: Spiritual / Religious \n",
    "- Topic 1: Spiritual / Emotional \n",
    "- Topic 2: Political: Syria, Sudan, Iran, Qatar, President, Parliament, Army, Republic\n",
    "- Topic 3: Sports and misc.\n",
    "- Topic 4: Stopwords\n",
    "- Topic 5: Advertising / Commercial\n",
    "- Topic 6: Political: Syria, Damascus, Tehran, Army, Asad, etc.\n",
    "- Topic 7: Religious\n",
    "- Topic 8: Stopwords\n",
    "- Topic 9: Sexual: Sex, Whore, Bitch, Video, Film, Violence (few documents: 327)\n",
    "- Topic 10: Commercial / Fashion\n",
    "- Topic 11: Financial\n",
    "- Topic 12: Domestic Services\n",
    "- Topic 13: Commercial\n",
    "- Topic 14: Commercial / Medical (few documents: 110)\n",
    "\n",
    "Two clearly distinguishable Political Clusters in here. I get the impression that this is doing a better job at grouping words logically into somewhat coherent topics than the LDA.\n",
    "\n",
    "Let's now compute the Topic Coherence score. We'll have to define a function to get the top words of all topics as a list of lists."
   ]
  },
  {
   "cell_type": "code",
   "execution_count": 21,
   "id": "b192df1d",
   "metadata": {},
   "outputs": [],
   "source": [
    "# define function to get words in topics (to compute coherence score)\n",
    "def get_topics_lists(model, top_clusters, n_words):\n",
    "    '''\n",
    "    Gets lists of words in topics as a list of lists.\n",
    "    \n",
    "    model: gsdmm instance\n",
    "    top_clusters:  numpy array containing indices of top_clusters\n",
    "    n_words: top n number of words to include\n",
    "    \n",
    "    '''\n",
    "    # create empty list to contain topics\n",
    "    topics = []\n",
    "    \n",
    "    # iterate over top n clusters\n",
    "    for cluster in top_clusters:\n",
    "        #create sorted dictionary of word distributions\n",
    "        sorted_dict = sorted(model.cluster_word_distribution[cluster].items(), key=lambda k: k[1], reverse=True)[:n_words]\n",
    "        \n",
    "        #create empty list to contain words\n",
    "        topic = []\n",
    "        \n",
    "        #iterate over top n words in topic\n",
    "        for k,v in sorted_dict:\n",
    "            #append words to topic list\n",
    "            topic.append(k)\n",
    "            \n",
    "        #append topics to topics list    \n",
    "        topics.append(topic)\n",
    "    \n",
    "    return topics"
   ]
  },
  {
   "cell_type": "code",
   "execution_count": 58,
   "id": "f04e5f8a",
   "metadata": {},
   "outputs": [],
   "source": [
    "# get topics to feed to coherence model\n",
    "topics_sample = get_topics_lists(gsdmm, top_index, 20) "
   ]
  },
  {
   "cell_type": "markdown",
   "id": "6df7a9a0",
   "metadata": {},
   "source": [
    "This works, great."
   ]
  },
  {
   "cell_type": "code",
   "execution_count": 61,
   "id": "e62b9a77",
   "metadata": {},
   "outputs": [
    {
     "name": "stdout",
     "output_type": "stream",
     "text": [
      "CPU times: user 3.87 s, sys: 1.5 s, total: 5.37 s\n",
      "Wall time: 25.1 s\n"
     ]
    }
   ],
   "source": [
    "%%time\n",
    "# evaluate model using Topic Coherence score\n",
    "cm_gsdmm = CoherenceModel(topics=topics_sample, \n",
    "                          dictionary=dictionary_sample, \n",
    "                          corpus=bow_corpus_sample, \n",
    "                          texts=docs_sample, \n",
    "                          coherence='c_v')\n",
    "\n",
    "# get coherence value\n",
    "coherence_gsdmm = cm_gsdmm.get_coherence()  "
   ]
  },
  {
   "cell_type": "code",
   "execution_count": 62,
   "id": "dd66065e",
   "metadata": {},
   "outputs": [
    {
     "name": "stdout",
     "output_type": "stream",
     "text": [
      "0.6261070407976572\n"
     ]
    }
   ],
   "source": [
    "print(coherence_gsdmm)"
   ]
  },
  {
   "cell_type": "markdown",
   "id": "7934c4f9",
   "metadata": {},
   "source": [
    "Interesting, the topic coherence score on this first, out-of-the-box GSDMM model is already much higher than the highest score we had from an LDA model.\n",
    "\n",
    "This may be confirming our intuition that GSDMM is doing a better job here.\n",
    "\n",
    "Let's proceed to explore some more hyperparameter settings for the GSDMM models."
   ]
  },
  {
   "cell_type": "markdown",
   "id": "ecbca5f7",
   "metadata": {},
   "source": [
    "### 5.2.2. GSDMM Model - Trial 2\n",
    "\n",
    "Let's move on to adjust 1 of the hyperparameters (alpha) as well as the number of iterations."
   ]
  },
  {
   "cell_type": "code",
   "execution_count": 63,
   "id": "b968c921",
   "metadata": {},
   "outputs": [],
   "source": [
    "gsdmm_2 = MovieGroupProcess(K=15, alpha=0.3, beta=0.1, n_iters=20)"
   ]
  },
  {
   "cell_type": "code",
   "execution_count": 64,
   "id": "9f1d14ff",
   "metadata": {},
   "outputs": [
    {
     "name": "stdout",
     "output_type": "stream",
     "text": [
      "In stage 0: transferred 89262 clusters with 15 clusters populated\n",
      "In stage 1: transferred 50362 clusters with 15 clusters populated\n",
      "In stage 2: transferred 19110 clusters with 15 clusters populated\n",
      "In stage 3: transferred 13861 clusters with 15 clusters populated\n",
      "In stage 4: transferred 12214 clusters with 15 clusters populated\n",
      "In stage 5: transferred 11107 clusters with 15 clusters populated\n",
      "In stage 6: transferred 10370 clusters with 15 clusters populated\n",
      "In stage 7: transferred 9629 clusters with 15 clusters populated\n",
      "In stage 8: transferred 9142 clusters with 15 clusters populated\n",
      "In stage 9: transferred 8961 clusters with 15 clusters populated\n",
      "In stage 10: transferred 8837 clusters with 15 clusters populated\n",
      "In stage 11: transferred 8832 clusters with 15 clusters populated\n",
      "In stage 12: transferred 8911 clusters with 15 clusters populated\n",
      "In stage 13: transferred 8869 clusters with 15 clusters populated\n",
      "In stage 14: transferred 8762 clusters with 15 clusters populated\n",
      "In stage 15: transferred 8607 clusters with 15 clusters populated\n",
      "In stage 16: transferred 8601 clusters with 15 clusters populated\n",
      "In stage 17: transferred 8576 clusters with 15 clusters populated\n",
      "In stage 18: transferred 8603 clusters with 15 clusters populated\n",
      "In stage 19: transferred 8750 clusters with 15 clusters populated\n",
      "CPU times: user 18min 14s, sys: 15.8 s, total: 18min 30s\n",
      "Wall time: 18min 18s\n"
     ]
    }
   ],
   "source": [
    "%%time\n",
    "y_2 = gsdmm_2.fit(docs_sample, sample_vocab_length)"
   ]
  },
  {
   "cell_type": "code",
   "execution_count": 65,
   "id": "dd96a8a8",
   "metadata": {},
   "outputs": [
    {
     "name": "stdout",
     "output_type": "stream",
     "text": [
      "Number of documents per topic : [ 3203  3023 19115 17727  9435   664  8809 12407  7782   902   513   857\n",
      "  8292  3971  3300]\n",
      "********************\n",
      "Most important clusters (by number of docs inside): [ 2  3  7  4  6 12  8 13 14  0  1  9 11  5 10]\n"
     ]
    }
   ],
   "source": [
    "doc_count_2 = np.array(gsdmm_2.cluster_doc_count)\n",
    "print('Number of documents per topic :', doc_count_2)\n",
    "print('*'*20)\n",
    "\n",
    "# Topics sorted by the number of document they are allocated to\n",
    "top_index_2 = doc_count_2.argsort()[-15:][::-1]\n",
    "print('Most important clusters (by number of docs inside):', top_index_2)"
   ]
  },
  {
   "cell_type": "code",
   "execution_count": 66,
   "id": "1db962b2",
   "metadata": {},
   "outputs": [
    {
     "name": "stdout",
     "output_type": "stream",
     "text": [
      "\n",
      "Cluster 2 : [('الله_1_0', 4154), ('قروب_0_0', 2676), ('دعم_1_0', 2595), ('قلب_3_0', 2253), ('ل_1_0', 2190), ('رب_1_0', 1601), ('أنا_1_0', 1543), ('أن_1_0', 1448), ('لي_1_0', 1347), ('اللهم_1_0', 1280), ('قال-u_1_0', 1241), ('أنت_1_0', 1234), ('خير_1_0', 1233), ('حياة_1_0', 1156), ('أحب_1_0', 1089), ('ناس_1_0', 967), ('كان_1_0', 960), ('حب_1_0', 951), ('من_1_0', 906), ('نفس_1_0', 900)]\n",
      "\n",
      "Cluster 3 : [('قَلْب_3', 2904), ('لِ_1', 1803), ('أَنَّ_1', 1780), ('حُبّ_1', 1631), ('أَحَبّ_1', 1531), ('اللَّه_1', 1507), ('حَياة_1', 1436), ('أَنا_1', 1342), ('قال-u_1', 1235), ('شَيْء_1', 1224), ('أَنْتَ_1', 1201), ('كان_1', 1163), ('لَيّ_1', 1085), ('شَخْص_1', 958), ('ناس_1', 921), ('نَفْس_1', 830), ('خَيْر_1', 811), ('كُلّ_1', 748), ('دَعْم_1', 728), ('رُوح_1', 725)]\n",
      "\n",
      "Cluster 7 : [('سَعُودِيّ_1', 1244), ('قَطَر_1', 922), ('اللَّه_1', 905), ('أَمارَة_1', 864), ('عَرَبِيّ_1', 862), ('سُودان_1', 708), ('دَوْلَة_1', 694), ('مُحَمَّد_1', 655), ('رَئِيس_1', 640), ('بَلَد_1', 605), ('لِيبِيا_1', 591), ('إِرْهاب_1', 540), ('إِخْوَة_1', 503), ('شَعْب_1', 497), ('قُوَّة_1', 496), ('تُركِيا_1', 487), ('مَجْلِس_1', 485), ('سُورِيا_1', 479), ('جَيْش_1', 466), ('إِيران_1', 461)]\n",
      "\n",
      "Cluster 4 : [('اللَّه_1', 5939), ('اللّٰهُمَّ_1', 2716), ('رَبّ_1', 1964), ('لِ_1', 1513), ('خَيْر_1', 1229), ('قَلْب_3', 1210), ('أَنَّ_1', 789), ('جَعَل-a_1', 643), ('قال-u_1', 618), ('سَلَّم_1', 566), ('أَنْتَ_1', 555), ('رَحِم-a_1', 554), ('حَمْد_2', 505), ('سَأَل-a_1', 500), ('جَنَّة_1', 486), ('ٱِسْتَغْفَر_1', 476), ('وَلِي-i_1', 473), ('مِن_1', 464), ('صَلَّى_1', 462), ('نَبِيّ_1', 457)]\n",
      "\n",
      "Cluster 6 : [('سعودي_1_0', 819), ('الله_1_0', 676), ('أهلي_1_0', 559), ('هلال_3_0', 381), ('مصر_1_0', 344), ('محمد_1_0', 280), ('عالم_1_0', 271), ('ملك_2_0', 268), ('رئيس_1_0', 262), ('عربي_1_0', 255), ('قطر_1_0', 254), ('نادي_1_0', 245), ('دولة_1_0', 240), ('ال_1_0', 229), ('سوريا_1_0', 218), ('كل_1_0', 216), ('عمل_1_0', 215), ('قال-u_1_0', 213), ('وزير_1_0', 212), ('مدينة_1_0', 211)]\n",
      "\n",
      "Cluster 12 : [('أَنا_1', 1113), ('لَيّ_1', 1012), ('اللَّه_1', 927), ('بَسّ-u_1', 667), ('مَشّ_1', 641), ('قال-u_1', 584), ('أَنَّ_1', 477), ('أَنْتَ_1', 459), ('ناس_1', 419), ('رَبّ_1', 404), ('حاجَة_1', 381), ('بِنْت_1', 338), ('كُلّ_1', 310), ('حَدّ_1', 308), ('إِيه_1', 308), ('عُشّ_1', 294), ('عِنْد_1', 291), ('ده_0', 289), ('كَدّ_1', 271), ('نَفْس_1', 267)]\n",
      "\n",
      "Cluster 8 : [('قرض_1_0', 1690), ('تسديد_1_0', 1559), ('رياض_1_0', 1440), ('أهلي_1_0', 1147), ('بنك_1_0', 1078), ('راجحي_1_0', 1001), ('سعر_1_0', 974), ('طلب_1_0', 678), ('سداد_1_0', 667), ('ساعة_1_0', 617), ('راتب_1_0', 580), ('عربي_1_0', 574), ('طريق_1_0', 574), ('جديد_1_0', 541), ('متعثر_1_0', 537), ('واتس_0_0', 521), ('تواصل_1_0', 515), ('سامبا_1_0', 507), ('بيع_1_0', 482), ('حساب_2_0', 459)]\n",
      "\n",
      "Cluster 13 : [('هِلال_3', 803), ('أَهْلِيّ_1', 612), ('مُباراة_1', 386), ('دَوْرِيّ_2', 365), ('نادِي_1', 335), ('جُمْهُور_1', 306), ('ٱِتِّحاد_1', 305), ('لاعِب_1', 295), ('اللَّه_1', 285), ('نَصْر_2', 273), ('فَرِيق_1', 265), ('بَطَل_1', 230), ('سَعُودِيّ_1', 229), ('هَدَف_1', 216), ('كاس_1', 211), ('مُحَمَّد_1', 203), ('مُنْتَخَب_1', 201), ('بُطُولَة_1', 191), ('فَوْز_1', 178), ('مَلْعَب_1', 174)]\n",
      "\n",
      "Cluster 14 : [('رِياض_1', 1307), ('شَرِكَة_1', 1220), ('تَنْظِيف_1', 917), ('أَثاث_1', 465), ('ماء_1', 442), ('عَزْل_1', 348), ('نَقْل_1', 338), ('سِعْر_1', 291), ('أَفْضَل_2', 290), ('كَشَف-i_1', 281), ('خَزّان_1', 270), ('عَسَل_1', 263), ('تَسَرُّب_1', 243), ('مَجْلِس_1', 211), ('مَنْزِل_1', 203), ('مُسْتَعْمَل_1', 203), ('سَطْح_2', 196), ('نَوْع_1', 191), ('شَقَّة_1', 190), ('عَفْش_1', 183)]\n",
      "\n",
      "Cluster 0 : [('سكس_0', 4876), ('لَم_1', 1140), ('فِيلْم_1', 997), ('نِيّ_1', 932), ('قَحْبَة_1', 801), ('خَلْفَ_1', 756), ('شَرْمُوطَة_2', 740), ('رابَط_1', 625), ('ممحونه_0', 574), ('مربربه_0', 440), ('حَلّ_1', 414), ('خَلِيجِيّ_2', 411), ('سِحاق_1', 408), ('سَعُودِيّ_1', 405), ('كسها_0', 393), ('مَصّ_2', 391), ('أَثار_1', 384), ('عَنِيف_1', 378), ('زُبّ_1', 377), ('جِنْس_1', 365)]\n",
      "\n",
      "Cluster 1 : [('دَعْم_1', 590), ('حِساب_2', 539), ('رتويت_0', 429), ('ساعَة_1', 414), ('سِعْر_1', 319), ('تابَع_1', 299), ('قروب_0', 277), ('خاصّ_1', 253), ('مُتابِع_1', 247), ('مُتابَعَة_1', 207), ('جَدِيد_1', 184), ('إِعْلان_1', 179), ('إِبْداع_1', 172), ('لِ_1', 171), ('تويتر_0', 169), ('ضَمان_1', 159), ('عَرْض_1', 153), ('طَلَب_1', 153), ('تَغْرِيد_1', 152), ('مارْكَة_1', 150)]\n",
      "\n",
      "Cluster 9 : [('سوريا_1_0', 398), ('ريف_1_0', 363), ('حلب_1_0', 237), ('مدينة_1_0', 218), ('طيران_1_0', 206), ('ٱستهدف_1_0', 195), ('قوة_1_0', 187), ('أسد_1_0', 184), ('دمشق_1_0', 179), ('قصف_1_0', 142), ('شرقي_1_0', 137), ('غارة_1_0', 133), ('ثائر_2_0', 122), ('غوطة_1_0', 122), ('بلد_1_0', 118), ('نظام_1_0', 114), ('جوي_1_0', 112), ('حي_3_0', 103), ('روسي_1_0', 101), ('ادلب_0_0', 98)]\n",
      "\n",
      "Cluster 11 : [('تنظيف_1_0', 686), ('شركة_1_0', 613), ('رياض_1_0', 501), ('ماء_1_0', 452), ('خزان_1_0', 361), ('كشف-i_1_0', 330), ('عزل_1_0', 323), ('تسرب_1_0', 287), ('سطح_2_0', 224), ('مكافحة_1_0', 217), ('أثاث_1_0', 202), ('حشرة_1_0', 183), ('غسيل_1_0', 170), ('نقل_1_0', 157), ('مجلس_1_0', 153), ('ضمان_1_0', 148), ('عازلة_1_0', 147), ('منزل_1_0', 136), ('شقة_1_0', 136), ('حمام_1_0', 135)]\n",
      "\n",
      "Cluster 5 : [('الله_1_0', 501), ('مظلة_1_0', 196), ('سلم_1_0', 165), ('محمد_1_0', 128), ('نبي_1_0', 123), ('ساتر_1_0', 114), ('صل_0_0', 113), ('اللهم_1_0', 112), ('صلى_1_0', 87), ('ولي-i_1_0', 86), ('جمعة_1_0', 82), ('قرميد_2_0', 78), ('صلاة_1_0', 76), ('عظيم_2_0', 72), ('حمد_2_0', 68), ('ٱستغفر_1_0', 68), ('أكبر_2_0', 62), ('رياض_1_0', 59), ('هناجر_1_0', 57), ('عمل_1_0', 54)]\n",
      "\n",
      "Cluster 10 : [('قَرْض_1', 399), ('بَنْك_1', 296), ('تَسْدِيد_1', 284), ('سَداد_1', 247), ('قَرْض_2', 235), ('تَمْوِيل_1', 228), ('أَهْلِيّ_1', 213), ('كَفِيل_2', 170), ('راجِحِيّ_1', 165), ('راتِب_1', 164), ('حَتَّى_1', 162), ('دُون_1', 146), ('مُتَعَثِّر_1', 143), ('رِياض_1', 139), ('جَمِيع_1', 119), ('سِمَة_1', 108), ('مِنْطَقَة_1', 93), ('شَرْعِيّ_1', 92), ('جَدِيد_1', 88), ('خَصْم_1', 87)]\n"
     ]
    }
   ],
   "source": [
    "# get top words in topics\n",
    "top_words(gsdmm_2.cluster_word_distribution, top_index_2, 20)"
   ]
  },
  {
   "cell_type": "markdown",
   "id": "698cb246",
   "metadata": {},
   "source": [
    "### Analysis\n",
    "\n",
    "- Topic 0: Spiritual / Religious \n",
    "- Topic 1: Spiritual / Emotional \n",
    "- Topic 2: Political: Syria, Sudan, Iran, Qatar, President, Parliament, Army, Republic\n",
    "- Topic 3: Religious\n",
    "- Topic 4: Political (with maybe some Sports mixed in)\n",
    "- Topic 5: Stopwords\n",
    "- Topic 6: Commercial / Financial\n",
    "- Topic 7: Sports\n",
    "- Topic 8: Domestic Services\n",
    "- Topic 9: Sexual: Sex, Whore, Bitch, Video, Film, Violence\n",
    "- Topic 10: Commercial / Fashion\n",
    "- Topic 11: Political: Syria\n",
    "- Topic 12: Domestic Services\n",
    "- Topic 13: Religious\n",
    "- Topic 14: Financial\n",
    "\n",
    "Similar results to the first GSDMM model. Some clearly political clusters, although the order of the clusters is different."
   ]
  },
  {
   "cell_type": "code",
   "execution_count": 67,
   "id": "6c8dbd0e",
   "metadata": {},
   "outputs": [],
   "source": [
    "# get topics to feed to coherence model\n",
    "topics_sample_2 = get_topics_lists(gsdmm_2, top_index_2, 20) "
   ]
  },
  {
   "cell_type": "code",
   "execution_count": 68,
   "id": "db8ea12b",
   "metadata": {},
   "outputs": [
    {
     "name": "stdout",
     "output_type": "stream",
     "text": [
      "CPU times: user 3.82 s, sys: 1.41 s, total: 5.23 s\n",
      "Wall time: 24.7 s\n"
     ]
    }
   ],
   "source": [
    "%%time\n",
    "# evaluate model using Topic Coherence score\n",
    "cm_gsdmm_2 = CoherenceModel(topics=topics_sample_2, \n",
    "                            dictionary=dictionary_sample, \n",
    "                            corpus=bow_corpus_sample, \n",
    "                            texts=docs_sample, \n",
    "                            coherence='c_v')\n",
    "\n",
    "# get coherence value\n",
    "coherence_gsdmm_2 = cm_gsdmm_2.get_coherence()  "
   ]
  },
  {
   "cell_type": "code",
   "execution_count": 69,
   "id": "35d9dadc",
   "metadata": {},
   "outputs": [
    {
     "name": "stdout",
     "output_type": "stream",
     "text": [
      "0.6934121919904638\n"
     ]
    }
   ],
   "source": [
    "print(coherence_gsdmm_2)"
   ]
  },
  {
   "cell_type": "markdown",
   "id": "8a0236fa",
   "metadata": {},
   "source": [
    "A notable increase in the Topic Coherence score for this one, compared to the first settings.\n",
    "\n",
    "That said, I'm not totally happy with Topic 4 seeming to contain both political and sports-related keywords. Although if it's tweets about national sports teams then maybe it makes sense.\n",
    "\n",
    "**NOTE:** Setting the number of iterations to 20 doesn't seem to change a whole lot. The model simply does not reduce the topics to less than 15. This is reason to use lower n_iters in subsequent models."
   ]
  },
  {
   "cell_type": "markdown",
   "id": "48d6920d",
   "metadata": {},
   "source": [
    "### 5.2.3. GSDMM Model - Trial 3\n",
    "\n",
    "Let's now run a GSDMM model with a much higher number of starting clusters (30). Let's reduce n_iters to 15 and see if the model converges to a lower number of clusters within those 15 iterations."
   ]
  },
  {
   "cell_type": "code",
   "execution_count": 70,
   "id": "9535f577",
   "metadata": {},
   "outputs": [],
   "source": [
    "gsdmm_3 = MovieGroupProcess(K=30, alpha=0.1, beta=0.1, n_iters=15)"
   ]
  },
  {
   "cell_type": "code",
   "execution_count": 71,
   "id": "9440be64",
   "metadata": {
    "scrolled": true
   },
   "outputs": [
    {
     "name": "stdout",
     "output_type": "stream",
     "text": [
      "In stage 0: transferred 92925 clusters with 30 clusters populated\n",
      "In stage 1: transferred 57482 clusters with 30 clusters populated\n",
      "In stage 2: transferred 24490 clusters with 30 clusters populated\n",
      "In stage 3: transferred 17002 clusters with 30 clusters populated\n",
      "In stage 4: transferred 13663 clusters with 30 clusters populated\n",
      "In stage 5: transferred 11805 clusters with 27 clusters populated\n",
      "In stage 6: transferred 11002 clusters with 26 clusters populated\n",
      "In stage 7: transferred 10431 clusters with 26 clusters populated\n",
      "In stage 8: transferred 10205 clusters with 26 clusters populated\n",
      "In stage 9: transferred 10069 clusters with 26 clusters populated\n",
      "In stage 10: transferred 9892 clusters with 26 clusters populated\n",
      "In stage 11: transferred 9835 clusters with 25 clusters populated\n",
      "In stage 12: transferred 9927 clusters with 25 clusters populated\n",
      "In stage 13: transferred 9905 clusters with 25 clusters populated\n",
      "In stage 14: transferred 9730 clusters with 25 clusters populated\n",
      "CPU times: user 26min 51s, sys: 28.7 s, total: 27min 19s\n",
      "Wall time: 28min 37s\n"
     ]
    }
   ],
   "source": [
    "%%time\n",
    "y_3 = gsdmm_3.fit(docs_sample, sample_vocab_length)"
   ]
  },
  {
   "cell_type": "markdown",
   "id": "38f681f3",
   "metadata": {},
   "source": [
    "Alright, so setting K to 30 was useful - the model has reduced the number of clusters by 5.\n",
    "\n",
    "Next step will be to see if we can tweak that even further by playing around with the hyperparameters."
   ]
  },
  {
   "cell_type": "code",
   "execution_count": 124,
   "id": "2b268f85",
   "metadata": {},
   "outputs": [
    {
     "name": "stdout",
     "output_type": "stream",
     "text": [
      "Number of documents per topic : [ 9897   641     0  4583  1136  2304  5976 11799    84   366  1550   179\n",
      "     0  8745   276     2     0    27  3706     0 17586     0  8963   389\n",
      "   735  9398  3186  8143    86   243]\n",
      "********************\n",
      "Most important clusters (by number of docs inside): [20  7  0 25 22 13 27  6  3 18 26  5 10  4 24  1 23  9 14 29 11 28  8]\n"
     ]
    }
   ],
   "source": [
    "doc_count_3 = np.array(gsdmm_3.cluster_doc_count)\n",
    "print('Number of documents per topic :', doc_count_3)\n",
    "print('*'*20)\n",
    "\n",
    "# Topics sorted by the number of document they are allocated to\n",
    "top_index_3 = doc_count_3.argsort()[-23:][::-1]\n",
    "print('Most important clusters (by number of docs inside):', top_index_3)"
   ]
  },
  {
   "cell_type": "code",
   "execution_count": 73,
   "id": "30adaa67",
   "metadata": {},
   "outputs": [
    {
     "name": "stdout",
     "output_type": "stream",
     "text": [
      "\n",
      "Cluster 20 : [('قَلْب_3', 2908), ('لِ_1', 1819), ('أَنَّ_1', 1787), ('حُبّ_1', 1635), ('أَحَبّ_1', 1516), ('اللَّه_1', 1498), ('حَياة_1', 1446), ('أَنا_1', 1337), ('قال-u_1', 1245), ('شَيْء_1', 1224), ('أَنْتَ_1', 1193), ('كان_1', 1181), ('لَيّ_1', 1078), ('شَخْص_1', 955), ('ناس_1', 920), ('خَيْر_1', 833), ('نَفْس_1', 826), ('كُلّ_1', 727), ('رُوح_1', 678), ('راوَنْد_1', 668)]\n",
      "\n",
      "Cluster 7 : [('سَعُودِيّ_1', 1195), ('قَطَر_1', 923), ('اللَّه_1', 892), ('أَمارَة_1', 851), ('عَرَبِيّ_1', 842), ('سُودان_1', 708), ('دَوْلَة_1', 684), ('مُحَمَّد_1', 674), ('رَئِيس_1', 643), ('بَلَد_1', 597), ('لِيبِيا_1', 594), ('إِرْهاب_1', 537), ('شَعْب_1', 499), ('قُوَّة_1', 497), ('إِخْوَة_1', 491), ('مَجْلِس_1', 484), ('تُركِيا_1', 483), ('سُورِيا_1', 475), ('جَيْش_1', 462), ('إِيران_1', 461)]\n",
      "\n",
      "Cluster 0 : [('قروب_0_0', 2179), ('دعم_1_0', 2135), ('لي_1_0', 1270), ('أنا_1_0', 1261), ('قلب_3_0', 1079), ('الله_1_0', 931), ('ل_1_0', 783), ('أنت_1_0', 755), ('قال-u_1_0', 703), ('أن_1_0', 682), ('حب_1_0', 635), ('أحب_1_0', 610), ('ناس_1_0', 600), ('بس-u_1_0', 544), ('مش_1_0', 497), ('حياة_1_0', 436), ('كان_1_0', 424), ('كل_1_0', 402), ('نفس_1_0', 390), ('عمر_1_0', 375)]\n",
      "\n",
      "Cluster 25 : [('اللَّه_1', 5949), ('اللّٰهُمَّ_1', 2689), ('رَبّ_1', 1936), ('لِ_1', 1490), ('خَيْر_1', 1194), ('قَلْب_3', 1179), ('أَنَّ_1', 776), ('جَعَل-a_1', 636), ('قال-u_1', 597), ('سَلَّم_1', 566), ('أَنْتَ_1', 562), ('رَحِم-a_1', 546), ('حَمْد_2', 508), ('سَأَل-a_1', 502), ('جَنَّة_1', 478), ('ٱِسْتَغْفَر_1', 475), ('مِن_1', 473), ('وَلِي-i_1', 472), ('صَلَّى_1', 461), ('كُلّ_1', 457)]\n",
      "\n",
      "Cluster 22 : [('الله_1_0', 3755), ('اللهم_1_0', 1392), ('ل_1_0', 1243), ('رب_1_0', 1223), ('قلب_3_0', 1145), ('خير_1_0', 833), ('أن_1_0', 770), ('حياة_1_0', 707), ('شيء_1_0', 609), ('من_1_0', 607), ('قال-u_1_0', 550), ('كان_1_0', 539), ('نفس_1_0', 518), ('جعل-a_1_0', 487), ('أحب_1_0', 477), ('أنت_1_0', 475), ('كل_1_0', 408), ('رحم-a_1_0', 383), ('ناس_1_0', 369), ('سأل-a_1_0', 353)]\n",
      "\n",
      "Cluster 13 : [('سعودي_1_0', 868), ('الله_1_0', 619), ('أهلي_1_0', 591), ('هلال_3_0', 416), ('مصر_1_0', 327), ('ملك_2_0', 285), ('عالم_1_0', 284), ('محمد_1_0', 278), ('عربي_1_0', 276), ('قطر_1_0', 269), ('رئيس_1_0', 261), ('نادي_1_0', 252), ('عمل_1_0', 238), ('كل_1_0', 236), ('دولة_1_0', 230), ('ال_1_0', 226), ('رياض_1_0', 223), ('جديد_1_0', 220), ('ل_1_0', 217), ('وزير_1_0', 214)]\n",
      "\n",
      "Cluster 27 : [('أَنا_1', 1105), ('لَيّ_1', 971), ('اللَّه_1', 888), ('بَسّ-u_1', 670), ('مَشّ_1', 647), ('قال-u_1', 587), ('أَنَّ_1', 474), ('أَنْتَ_1', 445), ('ناس_1', 418), ('رَبّ_1', 406), ('حاجَة_1', 379), ('بِنْت_1', 335), ('إِيه_1', 312), ('كُلّ_1', 304), ('حَدّ_1', 299), ('ده_0', 287), ('عِنْد_1', 281), ('عُشّ_1', 281), ('نَفْس_1', 272), ('كَدّ_1', 269)]\n",
      "\n",
      "Cluster 6 : [('سعر_1_0', 900), ('طلب_1_0', 704), ('رياض_1_0', 671), ('ساعة_1_0', 532), ('واتس_0_0', 516), ('تواصل_1_0', 448), ('حساب_2_0', 433), ('عرض_1_0', 415), ('بيع_1_0', 393), ('خاص_1_0', 379), ('إعلان_1_0', 376), ('توصيل_1_0', 365), ('سعودي_1_0', 348), ('عسل_1_0', 344), ('تساب_1_0', 339), ('جديد_1_0', 338), ('ضمان_1_0', 317), ('عرض-i_1_0', 305), ('أبى-a_1_0', 302), ('واصل_1_0', 301)]\n",
      "\n",
      "Cluster 3 : [('رِياض_1', 1376), ('شَرِكَة_1', 1273), ('تَنْظِيف_1', 918), ('أَثاث_1', 466), ('ماء_1', 450), ('سِعْر_1', 446), ('أَفْضَل_2', 369), ('نَقْل_1', 353), ('عَزْل_1', 348), ('عَرْض_1', 296), ('كَشَف-i_1', 286), ('عَسَل_1', 270), ('خَزّان_1', 270), ('تَسَرُّب_1', 243), ('طَلَب_1', 232), ('دُون_1', 227), ('خِدْمَة_1', 220), ('مَنْزِل_1', 211), ('سَعُودِيّ_1', 205), ('مُسْتَعْمَل_1', 202)]\n",
      "\n",
      "Cluster 18 : [('هِلال_3', 809), ('أَهْلِيّ_1', 604), ('مُباراة_1', 378), ('دَوْرِيّ_2', 362), ('نادِي_1', 324), ('جُمْهُور_1', 307), ('لاعِب_1', 297), ('ٱِتِّحاد_1', 294), ('اللَّه_1', 288), ('نَصْر_2', 264), ('فَرِيق_1', 260), ('سَعُودِيّ_1', 230), ('هَدَف_1', 223), ('بَطَل_1', 219), ('كاس_1', 205), ('مُنْتَخَب_1', 200), ('بُطُولَة_1', 186), ('فَوْز_1', 178), ('مَلْعَب_1', 169), ('مُحَمَّد_1', 166)]\n",
      "\n",
      "Cluster 26 : [('سكس_0', 4876), ('لَم_1', 1140), ('فِيلْم_1', 997), ('نِيّ_1', 932), ('قَحْبَة_1', 801), ('خَلْفَ_1', 756), ('شَرْمُوطَة_2', 740), ('رابَط_1', 625), ('ممحونه_0', 574), ('مربربه_0', 440), ('حَلّ_1', 413), ('خَلِيجِيّ_2', 411), ('سِحاق_1', 408), ('سَعُودِيّ_1', 405), ('كسها_0', 393), ('مَصّ_2', 391), ('أَثار_1', 385), ('عَنِيف_1', 378), ('زُبّ_1', 377), ('جِنْس_1', 365)]\n",
      "\n",
      "Cluster 5 : [('دَعْم_1', 890), ('حِساب_2', 518), ('قروب_0', 467), ('رتويت_0', 438), ('تابَع_1', 346), ('مُتابِع_1', 238), ('مُتابَعَة_1', 210), ('ساعَة_1', 195), ('خاصّ_1', 193), ('نَجْم_1', 182), ('تويتر_0', 172), ('إِبْداع_1', 162), ('تَبادُل_1', 156), ('ريتويت_0', 155), ('لِ_1', 154), ('تَغْرِيد_1', 153), ('إِعْلان_1', 151), ('حَرْف_1', 135), ('ٱِسْتَحَقّ_1', 130), ('مُسابَقَة_1', 128)]\n",
      "\n",
      "Cluster 10 : [('قرض_1_0', 1684), ('تسديد_1_0', 1550), ('أهلي_1_0', 1078), ('بنك_1_0', 1018), ('راجحي_1_0', 994), ('رياض_1_0', 725), ('سداد_1_0', 656), ('متعثر_1_0', 537), ('راتب_1_0', 534), ('سامبا_1_0', 507), ('عربي_1_0', 466), ('إنماء_1_0', 447), ('بلد_1_0', 438), ('طريق_1_0', 383), ('شرعية_1_0', 370), ('سمة_1_0', 347), ('أبو_1_0', 260), ('جميع_1_0', 244), ('قرض_2_0', 228), ('سم_1_0', 209)]\n",
      "\n",
      "Cluster 4 : [('سوريا_1_0', 451), ('ريف_1_0', 377), ('حلب_1_0', 251), ('مدينة_1_0', 243), ('قوة_1_0', 229), ('طيران_1_0', 212), ('ٱستهدف_1_0', 208), ('أسد_1_0', 197), ('دمشق_1_0', 184), ('قصف_1_0', 147), ('غارة_1_0', 144), ('شرقي_1_0', 144), ('ثائر_2_0', 128), ('غوطة_1_0', 127), ('بلد_1_0', 126), ('روسي_1_0', 124), ('جوي_1_0', 124), ('نظام_1_0', 122), ('جيش_1_0', 110), ('ادلب_0_0', 106)]\n",
      "\n",
      "Cluster 24 : [('حساب_2_0', 316), ('مبروك_1_0', 228), ('دعم_1_0', 207), ('قروب_0_0', 180), ('متابعة_1_0', 176), ('متابع_1_0', 167), ('ٱستحق_1_0', 166), ('ل_1_0', 165), ('شاهد_1_0', 164), ('خير_1_0', 147), ('محب_1_0', 135), ('أمير_2_0', 125), ('مليون_1_0', 120), ('ذوق_1_0', 95), ('مميز_1_0', 94), ('مبدع_1_0', 88), ('ٱستأهل_1_0', 88), ('إبداع_1_0', 79), ('متألق_1_0', 67), ('متميز_1_0', 61)]\n",
      "\n",
      "Cluster 1 : [('تنظيف_1_0', 655), ('شركة_1_0', 478), ('رياض_1_0', 345), ('مكافحة_1_0', 191), ('ساعَة_1', 177), ('حشرة_1_0', 152), ('مجلس_1_0', 148), ('خزان_1_0', 142), ('شقة_1_0', 134), ('نقل_1_0', 125), ('ضَمان_1', 124), ('فلل_1_0', 123), ('مارْكَة_1', 118), ('سِعْر_1', 116), ('منزل_1_0', 108), ('نِسائِيّ_1', 101), ('سَنَة_1', 100), ('رش_1_0', 95), ('مبيد_1_0', 90), ('غسيل_1_0', 87)]\n",
      "\n",
      "Cluster 23 : [('قَرْض_1', 396), ('بَنْك_1', 295), ('تَسْدِيد_1', 284), ('سَداد_1', 221), ('أَهْلِيّ_1', 207), ('راجِحِيّ_1', 160), ('راتِب_1', 148), ('مُتَعَثِّر_1', 142), ('رِياض_1', 134), ('سِمَة_1', 108), ('قَرْض_2', 102), ('جَدِيد_1', 88), ('عَرَبِيّ_1', 85), ('ٱِسْتِخْراج_1', 85), ('جَمِيع_1', 80), ('سامْبا_1', 77), ('إِنْماء_1', 74), ('شِعْر_1', 69), ('مِنْطَقَة_1', 67), ('بَلَد_1', 66)]\n",
      "\n",
      "Cluster 9 : [('ماء_1_0', 437), ('كشف-i_1_0', 310), ('عزل_1_0', 305), ('تسرب_1_0', 270), ('سطح_2_0', 220), ('خزان_1_0', 219), ('عازلة_1_0', 145), ('حمام_1_0', 121), ('حل_1_0', 113), ('شركة_1_0', 106), ('رياض_1_0', 101), ('أسلى_1_0', 99), ('ضمان_1_0', 93), ('مطبخ_1_0', 93), ('مبلط_1_0', 92), ('ٱرتفاع_1_0', 91), ('فاتورة_1_0', 88), ('مجرى_1_0', 83), ('غسيل_1_0', 70), ('قطيف_1_0', 64)]\n",
      "\n",
      "Cluster 14 : [('مِظَلَّة_1', 146), ('أثاث_1_0', 123), ('مستعمل_1_0', 105), ('شراء_1_0', 95), ('رياض_1_0', 65), ('ساتِر_1', 65), ('دَمّام_1', 59), ('جَنُوبِيّ_1', 55), ('قَذْف_1', 39), ('ٱِنْتِصاب_1', 39), ('لكسان_0', 38), ('برجولات_0', 35), ('شَبّ-i_1', 35), ('جَمِيع_1', 34), ('جِنْسِيَّة_1', 33), ('ضُعْف_1', 30), ('عِلاج_1', 30), ('رِياض_1', 28), ('سَيّارَة_1', 27), ('زِيادَة_1', 26)]\n",
      "\n",
      "Cluster 29 : [('مظلة_1_0', 195), ('ساتر_1_0', 113), ('قرميد_2_0', 78), ('رياض_1_0', 60), ('هناجر_1_0', 57), ('عمل_1_0', 56), ('مشبات_0_0', 54), ('بيت_3_0', 51), ('شعر-u_1_0', 49), ('مستودع_2_0', 41), ('سيارة_1_0', 39), ('تراثي_1_0', 38), ('واصل_1_0', 32), ('جميع_1_0', 32), ('شب-i_1_0', 30), ('شواية_1_0', 30), ('شلال_1_0', 30), ('تواصل_1_0', 29), ('فرن_1_0', 29), ('مجلس_1_0', 28)]\n",
      "\n",
      "Cluster 11 : [('تَمْوِيل_1', 200), ('كَفِيل_2', 166), ('حَتَّى_1', 162), ('دُون_1', 143), ('قَرْض_2', 133), ('شَرْعِيّ_1', 92), ('خَصْم_1', 85), ('أَعْطَى_1', 66), ('يبدء_0', 65), ('شَخْصِيّ_1', 62), ('جَمِيع_1', 37), ('سدادالمبكر_0', 34), ('مِنْطَقَة_1', 24), ('سَداد_1', 24), ('مُبَكِّر_1', 22), ('قِطاع_1', 21), ('مَدَنِيّ_1', 21), ('طَلَب_2', 20), ('عَسْكَرِيّ_1', 19), ('مَمْلَكَة_1', 15)]\n",
      "\n",
      "Cluster 28 : [('سكس_0_0', 47), ('مترجم_1_0', 24), ('فيلم_1_0', 21), ('محرم_1_0', 20), ('ني_1_0', 15), ('رابط_1_0', 15), ('غنم_1_0', 13), ('بيع_1_0', 12), ('زيت_1_0', 12), ('شعر_1_0', 12), ('صلع_1_0', 12), ('للدقن_0_0', 12), ('شنب_2_0', 12), ('ناك-i_1_0', 11), ('موقع_1_0', 10), ('جوال_1_0', 9), ('عدد_1_0', 9), ('ٱستعمل_1_0', 9), ('كسها_0_0', 9), ('طيب_1_0', 8)]\n",
      "\n",
      "Cluster 8 : [('متابع_1_0', 66), ('بيع_1_0', 65), ('سري_1_0', 62), ('تام_1_0', 62), ('تويتر_0_0', 60), ('تنفيذ_1_0', 60), ('سعر_1_0', 59), ('كلمة_1_0', 56), ('سريع_1_0', 55), ('انستقرام_0_0', 55), ('أقل_2_0', 54), ('ٱحتاج_1_0', 51), ('تصويت_1_0', 50), ('لايكات_0_0', 42), ('مرور_1_0', 36), ('سرعة_1_0', 8), ('لانحتاج_0_0', 7), ('تواصل_1_0', 6), ('لايك_1_0', 6), ('مجموع_1_0', 5)]\n",
      "\n",
      "Cluster 17 : [('القنفذه_0_0', 6), ('خبر_1_0', 6), ('جبيل_1_0', 6), ('النماص_0_0', 6), ('نوم_1_0', 6), ('ٱنباع_1_0', 6), ('دوادمي_1_0', 6), ('الخفجي_0_0', 6), ('القويعيه_0_0', 6), ('محايل_0_0', 6), ('النعيريه_0_0', 6), ('واانت_0', 5), ('مدينة_1_0', 3), ('منور_1_0', 3), ('آلم_2_0', 3), ('جوار_1_0', 2), ('حي_3_0', 2), ('جو_1_0', 2), ('مستقبل_1_0', 2), ('عامل_2_0', 2)]\n",
      "\n",
      "Cluster 15 : [('ماهمني_0', 1), ('فييني_0', 1), ('سسب_0', 1), ('هَرْج_1', 1), ('الخلايقق_0', 1), ('مايغير_0', 1), ('صفاتتي_0', 1), ('هَيْبَة_1', 1), ('مَحْبُوب_1', 1), ('وااننحبب_0', 1), ('واسسوي_0', 1), ('براسسي_0', 1), ('هٰذا_1', 1), ('قدكان_0', 1), ('ٱِنْتِقالِيّ_1', 1), ('شَيَّط_1', 1), ('مَيْط_1', 1), ('مَوْكِب_1', 1), ('شاصاته_0', 1), ('داخِل_1', 1)]\n"
     ]
    }
   ],
   "source": [
    "# get top words in topics\n",
    "top_words(gsdmm_3.cluster_word_distribution, top_index_3, 20)"
   ]
  },
  {
   "cell_type": "markdown",
   "id": "72744134",
   "metadata": {},
   "source": [
    "### Analysis\n",
    "\n",
    "- Topic 0: Spiritual / Religious \n",
    "- Topic 1: Political: Syria, Sudan, Iran, Qatar, President, Parliament, Army, Republic \n",
    "- Topic 2: Stopwords / Emotional / Spiritual\n",
    "- Topic 3: Spiritual/ Religious\n",
    "- Topic 4: Spiritual/ Religious\n",
    "- Topic 5: Political (with some sports mixed in?)\n",
    "- Topic 6: Stopwords\n",
    "- Topic 7: Commercial / Fashion\n",
    "- Topic 8: Domestic Services\n",
    "- Topic 9: Sports\n",
    "- Topic 10: Sexual: Sex, Whore, Bitch, Video, Film, Violence\n",
    "- Topic 11: Commercial \n",
    "- Topic 12: Financial / Commercial\n",
    "- Topic 13: Political: Syria, Regime, Russia\n",
    "- Topic 14: Commercial / Spam\n",
    "- Topic 15: Domestic Services\n",
    "- Topic 16: Financial / Salary  Hair / Region / Country\n",
    "- Topic 17: Domestic Services\n",
    "- Topic 18: Commercial / Domestic Services\n",
    "- Topic 19: Commercial / Domestic Services\n",
    "- Topic 20: Financial / Kingdom / Army\n",
    "- Topic 21: Sexual\n",
    "- Topic 22: Commercial / Spam\n",
    "- Topic 23: Saudi Arabian cities and regions\n",
    "- Topic 24: Gibberish\n",
    "\n",
    "Two clearly political clusters (Clusters 7 and 4) with two potential political ones as well.\n",
    "\n",
    "Let's see what the Topic Coherence score does on this one."
   ]
  },
  {
   "cell_type": "code",
   "execution_count": 74,
   "id": "85687ebd",
   "metadata": {},
   "outputs": [],
   "source": [
    "# get topics to feed to coherence model\n",
    "topics_sample_3 = get_topics_lists(gsdmm_3, top_index_3, 10) "
   ]
  },
  {
   "cell_type": "code",
   "execution_count": 75,
   "id": "8b7cd060",
   "metadata": {},
   "outputs": [
    {
     "name": "stdout",
     "output_type": "stream",
     "text": [
      "CPU times: user 3.52 s, sys: 2.1 s, total: 5.62 s\n",
      "Wall time: 28.4 s\n"
     ]
    }
   ],
   "source": [
    "%%time\n",
    "# evaluate model using Topic Coherence score\n",
    "cm_gsdmm_3 = CoherenceModel(topics=topics_sample_3, \n",
    "                            dictionary=dictionary_sample, \n",
    "                            corpus=bow_corpus_sample, \n",
    "                            texts=docs_sample, \n",
    "                            coherence='c_v')\n",
    "\n",
    "# get coherence value\n",
    "coherence_gsdmm_3 = cm_gsdmm_3.get_coherence()  "
   ]
  },
  {
   "cell_type": "code",
   "execution_count": 76,
   "id": "bcfe1ee0",
   "metadata": {},
   "outputs": [
    {
     "name": "stdout",
     "output_type": "stream",
     "text": [
      "0.7738949956200956\n"
     ]
    }
   ],
   "source": [
    "print(coherence_gsdmm_3)"
   ]
  },
  {
   "cell_type": "markdown",
   "id": "530b5cb9",
   "metadata": {},
   "source": [
    "### Conclusions\n",
    "\n",
    "We have massively increased the Topic Coherence score here.\n",
    "\n",
    "Setting the number of topics to 30 was apparently a good move; it gave the model a chance to re-shuffle and reduce the number of clusters. Two clusters have very few tweets in them, and so in essence we actually have **23** topics here.\n",
    "\n",
    "I'm getting a sense, however, that the 'increase in performance' is in recognizing more and more fine-grained categories of 'junk'. The political tweets are still mostly in 2-3 clusters."
   ]
  },
  {
   "cell_type": "markdown",
   "id": "09bd1947",
   "metadata": {},
   "source": [
    "### 5.2.4. GSDMM Model - Trial 4\n",
    "\n",
    "Let's now try adjusting the **beta** parameter. This should increase the likelihood of documents clustering together. Let's begin by setting K to 15 and maintaining the 15 iterations of the last model."
   ]
  },
  {
   "cell_type": "code",
   "execution_count": 77,
   "id": "d9d31dd4",
   "metadata": {},
   "outputs": [],
   "source": [
    "gsdmm_4 = MovieGroupProcess(K=15, alpha=0.1, beta=0.3, n_iters=15)"
   ]
  },
  {
   "cell_type": "code",
   "execution_count": 78,
   "id": "b8950056",
   "metadata": {},
   "outputs": [
    {
     "name": "stdout",
     "output_type": "stream",
     "text": [
      "In stage 0: transferred 90994 clusters with 15 clusters populated\n",
      "In stage 1: transferred 46105 clusters with 15 clusters populated\n",
      "In stage 2: transferred 13611 clusters with 15 clusters populated\n",
      "In stage 3: transferred 9332 clusters with 15 clusters populated\n",
      "In stage 4: transferred 8250 clusters with 14 clusters populated\n",
      "In stage 5: transferred 7899 clusters with 14 clusters populated\n",
      "In stage 6: transferred 7652 clusters with 14 clusters populated\n",
      "In stage 7: transferred 7310 clusters with 14 clusters populated\n",
      "In stage 8: transferred 7100 clusters with 14 clusters populated\n",
      "In stage 9: transferred 7000 clusters with 15 clusters populated\n",
      "In stage 10: transferred 6879 clusters with 14 clusters populated\n",
      "In stage 11: transferred 6899 clusters with 14 clusters populated\n",
      "In stage 12: transferred 6795 clusters with 13 clusters populated\n",
      "In stage 13: transferred 7073 clusters with 13 clusters populated\n",
      "In stage 14: transferred 6986 clusters with 13 clusters populated\n",
      "CPU times: user 15min 32s, sys: 19.4 s, total: 15min 51s\n",
      "Wall time: 17min 22s\n"
     ]
    }
   ],
   "source": [
    "%%time\n",
    "y_4 = gsdmm_4.fit(docs_sample, sample_vocab_length)"
   ]
  },
  {
   "cell_type": "code",
   "execution_count": 125,
   "id": "9eb93628",
   "metadata": {},
   "outputs": [
    {
     "name": "stdout",
     "output_type": "stream",
     "text": [
      "Number of documents per topic : [  246     0    40 28675 21079  3588 19991  1138  7262  7844  8156  1632\n",
      "   312     0    37]\n",
      "********************\n",
      "Most important clusters (by number of docs inside): [ 3  4  6 10  9  8  5 11  7 12  0]\n"
     ]
    }
   ],
   "source": [
    "doc_count_4 = np.array(gsdmm_4.cluster_doc_count)\n",
    "print('Number of documents per topic :', doc_count_4)\n",
    "print('*'*20)\n",
    "\n",
    "# Topics sorted by the number of document they are allocated to\n",
    "top_index_4 = doc_count_4.argsort()[-11:][::-1]\n",
    "print('Most important clusters (by number of docs inside):', top_index_4)"
   ]
  },
  {
   "cell_type": "markdown",
   "id": "b180dd00",
   "metadata": {},
   "source": [
    "With these settings, the model converges quickly from 15 down to 13 clusters. 3 of these 13 clusters have less than 50 tweets in them, so we can leave them out. \n",
    "\n",
    "Let's see what keywords these 11 clusters contain."
   ]
  },
  {
   "cell_type": "code",
   "execution_count": 80,
   "id": "2c2e9e77",
   "metadata": {
    "scrolled": true
   },
   "outputs": [
    {
     "name": "stdout",
     "output_type": "stream",
     "text": [
      "\n",
      "Cluster 3 : [('اللَّه_1', 7824), ('قَلْب_3', 4188), ('لِ_1', 3439), ('أَنَّ_1', 2657), ('اللّٰهُمَّ_1', 2642), ('رَبّ_1', 2531), ('خَيْر_1', 2098), ('قال-u_1', 1990), ('أَحَبّ_1', 1917), ('حُبّ_1', 1864), ('أَنْتَ_1', 1848), ('حَياة_1', 1825), ('أَنا_1', 1767), ('كان_1', 1625), ('شَيْء_1', 1608), ('دَعْم_1', 1304), ('كُلّ_1', 1272), ('لَيّ_1', 1196), ('نَفْس_1', 1177), ('ناس_1', 1153)]\n",
      "\n",
      "Cluster 4 : [('الله_1_0', 4954), ('قروب_0_0', 2699), ('دعم_1_0', 2627), ('قلب_3_0', 2296), ('ل_1_0', 2265), ('رب_1_0', 1659), ('أنا_1_0', 1590), ('أن_1_0', 1534), ('اللهم_1_0', 1438), ('لي_1_0', 1419), ('قال-u_1_0', 1319), ('خير_1_0', 1292), ('أنت_1_0', 1274), ('حياة_1_0', 1215), ('أحب_1_0', 1104), ('كان_1_0', 1006), ('ناس_1_0', 994), ('حب_1_0', 987), ('من_1_0', 950), ('نفس_1_0', 946)]\n",
      "\n",
      "Cluster 6 : [('سَعُودِيّ_1', 1636), ('اللَّه_1', 1187), ('قَطَر_1', 985), ('عَرَبِيّ_1', 967), ('أَمارَة_1', 908), ('هِلال_3', 903), ('مُحَمَّد_1', 880), ('جَدِيد_1', 740), ('دَوْلَة_1', 731), ('سُودان_1', 712), ('رَئِيس_1', 705), ('رِياض_1', 688), ('بَلَد_1', 635), ('ال_1', 610), ('أَهْلِيّ_1', 608), ('لِيبِيا_1', 599), ('قُوَّة_1', 561), ('ساعَة_1', 558), ('عالَم_1', 558), ('كُلّ_1', 555)]\n",
      "\n",
      "Cluster 10 : [('أَنا_1', 1049), ('لَيّ_1', 1046), ('بَسّ-u_1', 646), ('مَشّ_1', 642), ('اللَّه_1', 639), ('قال-u_1', 489), ('أَنْتَ_1', 414), ('أَنَّ_1', 411), ('ناس_1', 399), ('حاجَة_1', 360), ('رتويت_0', 340), ('تابَع_1', 333), ('بِنْت_1', 306), ('إِيه_1', 301), ('عُشّ_1', 290), ('حَدّ_1', 289), ('رَبّ_1', 287), ('كُلّ_1', 284), ('ده_0', 284), ('عِنْد_1', 283)]\n",
      "\n",
      "Cluster 9 : [('رياض_1_0', 1274), ('سعر_1_0', 1044), ('شركة_1_0', 751), ('تنظيف_1_0', 709), ('طلب_1_0', 703), ('ساعة_1_0', 570), ('واتس_0_0', 523), ('تواصل_1_0', 511), ('بيع_1_0', 496), ('سعودي_1_0', 478), ('حساب_2_0', 470), ('عرض_1_0', 439), ('خاص_1_0', 413), ('إعلان_1_0', 386), ('جديد_1_0', 376), ('أفضل_2_0', 375), ('ضمان_1_0', 369), ('متابع_1_0', 368), ('توصيل_1_0', 365), ('عسل_1_0', 358)]\n",
      "\n",
      "Cluster 8 : [('سعودي_1_0', 709), ('سوريا_1_0', 615), ('أهلي_1_0', 473), ('مدينة_1_0', 403), ('ريف_1_0', 377), ('الله_1_0', 357), ('هلال_3_0', 352), ('قوة_1_0', 337), ('مصر_1_0', 325), ('بلد_1_0', 290), ('حلب_1_0', 286), ('رئيس_1_0', 253), ('عربي_1_0', 244), ('طيران_1_0', 240), ('أسد_1_0', 233), ('دولة_1_0', 231), ('قطر_1_0', 230), ('محمد_1_0', 226), ('جيش_1_0', 222), ('نادي_1_0', 220)]\n",
      "\n",
      "Cluster 5 : [('سكس_0', 4876), ('لَم_1', 1140), ('فِيلْم_1', 997), ('نِيّ_1', 932), ('قَحْبَة_1', 801), ('خَلْفَ_1', 756), ('شَرْمُوطَة_2', 740), ('رابَط_1', 623), ('ممحونه_0', 574), ('مربربه_0', 440), ('سَعُودِيّ_1', 421), ('حَلّ_1', 419), ('عَرَبِيّ_1', 416), ('خَلِيجِيّ_2', 412), ('سِحاق_1', 408), ('كسها_0', 393), ('مَصّ_2', 391), ('أَثار_1', 384), ('عَنِيف_1', 378), ('زُبّ_1', 377)]\n",
      "\n",
      "Cluster 11 : [('قرض_1_0', 1684), ('تسديد_1_0', 1550), ('أهلي_1_0', 1081), ('بنك_1_0', 1023), ('راجحي_1_0', 992), ('رياض_1_0', 727), ('سداد_1_0', 660), ('راتب_1_0', 540), ('متعثر_1_0', 537), ('سامبا_1_0', 507), ('عربي_1_0', 467), ('إنماء_1_0', 447), ('بلد_1_0', 435), ('طريق_1_0', 384), ('شرعية_1_0', 371), ('سمة_1_0', 348), ('أبو_1_0', 261), ('جميع_1_0', 246), ('قرض_2_0', 231), ('سم_1_0', 210)]\n",
      "\n",
      "Cluster 7 : [('شَرِكَة_1', 1120), ('رِياض_1', 1017), ('تَنْظِيف_1', 887), ('أَثاث_1', 440), ('ماء_1', 376), ('عَزْل_1', 347), ('نَقْل_1', 318), ('كَشَف-i_1', 273), ('خَزّان_1', 264), ('تَسَرُّب_1', 241), ('أَفْضَل_2', 211), ('مُسْتَعْمَل_1', 201), ('مَجْلِس_1', 192), ('سَطْح_2', 192), ('عَفْش_1', 183), ('شِراء_1', 163), ('مُكافَحَة_1', 158), ('مِظَلَّة_1', 157), ('شَقَّة_1', 151), ('مُكَيِّفات_1', 149)]\n",
      "\n",
      "Cluster 12 : [('ماء_1_0', 429), ('كشف-i_1_0', 307), ('عزل_1_0', 304), ('تسرب_1_0', 266), ('خزان_1_0', 219), ('سطح_2_0', 216), ('عازلة_1_0', 144), ('حمام_1_0', 119), ('حل_1_0', 112), ('شركة_1_0', 101), ('أسلى_1_0', 100), ('مطبخ_1_0', 93), ('مبلط_1_0', 91), ('ٱرتفاع_1_0', 90), ('ضمان_1_0', 89), ('مجرى_1_0', 85), ('فاتورة_1_0', 85), ('غسيل_1_0', 70), ('رياض_1_0', 60), ('دون_1_0', 57)]\n",
      "\n",
      "Cluster 0 : [('اللّٰهُمَّ_1', 206), ('مُحَمَّد_1', 201), ('سَلَّم_1', 199), ('صل_0', 191), ('نَبِيّ_1', 169), ('صَلَّى_1', 73), ('عَلِيّ_2', 66), ('اللَّه_1', 55), ('طَبْع_1', 49), ('مَطْبَع_1', 48), ('جُمْعَة_1', 47), ('باراك_1', 45), ('وَلِي-i_1', 43), ('وَصَل-i_1', 39), ('استغفرالله_0', 38), ('ال_1', 37), ('مَلْأَك_1', 35), ('تَسْلِيم_1', 33), ('صَلاة_1', 32), ('أَيُّها_1', 31)]\n",
      "\n",
      "Cluster 2 : [('كَرِيم_1', 40), ('سَجَّل_1', 31), ('أَنْتَ_1', 30), ('دَخَل-u_1', 29), ('مَجّان_1', 29), ('زَوَّد_1', 29), ('كابْتِن_1', 29), ('حاب_0', 29), ('ٱِشْتَغَل_1', 29), ('أَوْبَر_1', 29), ('بَيْت_3', 17), ('رِياض_1', 15), ('حُضُور_2', 12), ('ببيتكويتفعل_0', 12), ('وَجَد-i_1', 11), ('ساعَة_1', 11), ('حظورك_0', 11), ('أَقْصَى_2', 10), ('حِساب_2', 10), ('حَدّ_1', 10)]\n",
      "\n",
      "Cluster 14 : [('شِعْر_1', 56), ('زَيْت_1', 21), ('شَنَب_2', 21), ('عِلاج_1', 19), ('حَشِيش_1', 18), ('أَنْبَت_1', 18), ('تَساقُط_1', 17), ('طال-u_1', 15), ('تَكْثِيف_1', 15), ('الفراغات_0', 13), ('أَفْغانِيّ_1', 10), ('تَطْوِيل_1', 10), ('لِحْيَة_1', 9), ('كَثَّف_1', 8), ('مَنَع_1', 7), ('تَساقَط_1', 7), ('صَلَع_1', 7), ('ممتازللدقن_0', 7), ('والدقن_0', 7), ('نَعَم-ua_2', 7)]\n"
     ]
    }
   ],
   "source": [
    "# get top words in topics\n",
    "top_words(gsdmm_4.cluster_word_distribution, top_index_4, 20)"
   ]
  },
  {
   "cell_type": "markdown",
   "id": "7436b5a6",
   "metadata": {},
   "source": [
    "### Analysis\n",
    "\n",
    "- Topic 0: Spiritual / Religious / Stopwords\n",
    "- Topic 1: Spiritual / Religious / Stopwords\n",
    "- Topic 2: Political: Saudi, Qatar, Arab, Emirates, Country, President, Hour/Watch, Power\n",
    "- Topic 3: Stopwords\n",
    "- Topic 4: Commercial: Domestic Services, Watch, Offer, New, Best, Deliver\n",
    "- Topic 5: Political: Saudi, Syria, Egypt, Asad, Tehran, Army, Club, Qatar\n",
    "- Topic 6: Sexual\n",
    "- Topic 7: Financial / Banks\n",
    "- Topic 8: Commercial / Domestic Services\n",
    "- Topic 9: Commercial / Domestic Services\n",
    "- Topic 10: Religious\n",
    "\n",
    "Again, just 2 Political Clusters.\n",
    "\n",
    "Let's see what the Topic Coherence score does."
   ]
  },
  {
   "cell_type": "code",
   "execution_count": 81,
   "id": "956e78d2",
   "metadata": {},
   "outputs": [],
   "source": [
    "# get topics to feed to coherence model\n",
    "topics_sample_4 = get_topics_lists(gsdmm_4, top_index_4, 20) "
   ]
  },
  {
   "cell_type": "code",
   "execution_count": 82,
   "id": "9749fd85",
   "metadata": {},
   "outputs": [
    {
     "name": "stdout",
     "output_type": "stream",
     "text": [
      "CPU times: user 3.85 s, sys: 1.82 s, total: 5.67 s\n",
      "Wall time: 27.5 s\n"
     ]
    }
   ],
   "source": [
    "%%time\n",
    "# evaluate model using Topic Coherence score\n",
    "cm_gsdmm_4 = CoherenceModel(topics=topics_sample_4, \n",
    "                            dictionary=dictionary_sample, \n",
    "                            corpus=bow_corpus_sample, \n",
    "                            texts=docs_sample, \n",
    "                            coherence='c_v')\n",
    "\n",
    "# get coherence value\n",
    "coherence_gsdmm_4 = cm_gsdmm_4.get_coherence()  "
   ]
  },
  {
   "cell_type": "code",
   "execution_count": 83,
   "id": "db5d5c17",
   "metadata": {},
   "outputs": [
    {
     "name": "stdout",
     "output_type": "stream",
     "text": [
      "0.7067803345645273\n"
     ]
    }
   ],
   "source": [
    "print(coherence_gsdmm_4)"
   ]
  },
  {
   "cell_type": "markdown",
   "id": "98cf3881",
   "metadata": {},
   "source": [
    "Topic Coherence score has decreased. But again, I think this is mostly a matter of the 'junk' tweets getting lumped together a bit more. I still see two clearly distinguishable clusters of Political Content, just like in the previous model that had a higher Coherence score."
   ]
  },
  {
   "cell_type": "markdown",
   "id": "c21d518e",
   "metadata": {},
   "source": [
    "### 5.2.5. GSDMM Model - Trial 5\n",
    "\n",
    "Let's now play with setting **both alpha and beta** to non-default settings. Let's increase the number of iterations just give it a chance to sort them properly."
   ]
  },
  {
   "cell_type": "code",
   "execution_count": 84,
   "id": "4d2f5cab",
   "metadata": {},
   "outputs": [],
   "source": [
    "gsdmm_5 = MovieGroupProcess(K=15, alpha=0.2, beta=0.6, n_iters=25)"
   ]
  },
  {
   "cell_type": "code",
   "execution_count": 85,
   "id": "a3d21807",
   "metadata": {},
   "outputs": [
    {
     "name": "stdout",
     "output_type": "stream",
     "text": [
      "In stage 0: transferred 91971 clusters with 15 clusters populated\n",
      "In stage 1: transferred 38890 clusters with 15 clusters populated\n",
      "In stage 2: transferred 7928 clusters with 15 clusters populated\n",
      "In stage 3: transferred 5946 clusters with 11 clusters populated\n",
      "In stage 4: transferred 5706 clusters with 11 clusters populated\n",
      "In stage 5: transferred 5560 clusters with 10 clusters populated\n",
      "In stage 6: transferred 5274 clusters with 11 clusters populated\n",
      "In stage 7: transferred 5326 clusters with 10 clusters populated\n",
      "In stage 8: transferred 5326 clusters with 10 clusters populated\n",
      "In stage 9: transferred 5321 clusters with 10 clusters populated\n",
      "In stage 10: transferred 5283 clusters with 10 clusters populated\n",
      "In stage 11: transferred 5306 clusters with 11 clusters populated\n",
      "In stage 12: transferred 5226 clusters with 10 clusters populated\n",
      "In stage 13: transferred 5317 clusters with 10 clusters populated\n",
      "In stage 14: transferred 5353 clusters with 10 clusters populated\n",
      "In stage 15: transferred 5374 clusters with 10 clusters populated\n",
      "In stage 16: transferred 5376 clusters with 10 clusters populated\n",
      "In stage 17: transferred 5312 clusters with 10 clusters populated\n",
      "In stage 18: transferred 5315 clusters with 10 clusters populated\n",
      "In stage 19: transferred 5275 clusters with 11 clusters populated\n",
      "In stage 20: transferred 5217 clusters with 10 clusters populated\n",
      "In stage 21: transferred 5170 clusters with 10 clusters populated\n",
      "In stage 22: transferred 5171 clusters with 11 clusters populated\n",
      "In stage 23: transferred 5328 clusters with 10 clusters populated\n",
      "In stage 24: transferred 5358 clusters with 10 clusters populated\n",
      "CPU times: user 25min 18s, sys: 31.6 s, total: 25min 49s\n",
      "Wall time: 27min 35s\n"
     ]
    }
   ],
   "source": [
    "%%time\n",
    "y_5 = gsdmm_5.fit(docs_sample, sample_vocab_length)"
   ]
  },
  {
   "cell_type": "markdown",
   "id": "e086b664",
   "metadata": {},
   "source": [
    "OK, interesting. This does converge down to less than K=15 clusters.\n",
    "\n",
    "Setting n_iters to 25 was not very helpful, though - the model had converged to 10 clusters by step 6."
   ]
  },
  {
   "cell_type": "code",
   "execution_count": 126,
   "id": "409d45ed",
   "metadata": {},
   "outputs": [
    {
     "name": "stdout",
     "output_type": "stream",
     "text": [
      "Number of documents per topic : [11168     0     0   568  2205  3366     0   484  1549     0 35568   214\n",
      " 21617     0 23261]\n",
      "********************\n",
      "Most important clusters (by number of docs inside): [10 14 12  0  5  4  8  3  7 11]\n"
     ]
    }
   ],
   "source": [
    "doc_count_5 = np.array(gsdmm_5.cluster_doc_count)\n",
    "print('Number of documents per topic :', doc_count_5)\n",
    "print('*'*20)\n",
    "\n",
    "# Topics sorted by the number of document they are allocated to\n",
    "top_index_5 = doc_count_5.argsort()[-10:][::-1]\n",
    "print('Most important clusters (by number of docs inside):', top_index_5)"
   ]
  },
  {
   "cell_type": "markdown",
   "id": "21b8a1e8",
   "metadata": {},
   "source": [
    "The model has reduced our 15 initial clusters down to 10, with none of the clusters showing very low population.\n",
    "\n",
    "Let's look at the keywords in these topics."
   ]
  },
  {
   "cell_type": "code",
   "execution_count": 87,
   "id": "f7d6db81",
   "metadata": {
    "scrolled": true
   },
   "outputs": [
    {
     "name": "stdout",
     "output_type": "stream",
     "text": [
      "\n",
      "Cluster 10 : [('اللَّه_1', 8559), ('قَلْب_3', 4366), ('لِ_1', 3656), ('أَنَّ_1', 3073), ('اللّٰهُمَّ_1', 2868), ('رَبّ_1', 2816), ('أَنا_1', 2772), ('قال-u_1', 2448), ('خَيْر_1', 2249), ('أَنْتَ_1', 2225), ('أَحَبّ_1', 2077), ('لَيّ_1', 2043), ('حُبّ_1', 2024), ('حَياة_1', 2009), ('كان_1', 1835), ('شَيْء_1', 1718), ('كُلّ_1', 1541), ('ناس_1', 1538), ('نَفْس_1', 1412), ('دَعْم_1', 1295)]\n",
      "\n",
      "Cluster 14 : [('الله_1_0', 5211), ('قروب_0_0', 2708), ('دعم_1_0', 2661), ('ل_1_0', 2339), ('قلب_3_0', 2336), ('رب_1_0', 1693), ('أنا_1_0', 1642), ('أن_1_0', 1590), ('اللهم_1_0', 1492), ('لي_1_0', 1473), ('قال-u_1_0', 1393), ('خير_1_0', 1326), ('أنت_1_0', 1314), ('حياة_1_0', 1233), ('أحب_1_0', 1118), ('كان_1_0', 1051), ('ناس_1_0', 1015), ('من_1_0', 1005), ('حب_1_0', 999), ('كل_1_0', 975)]\n",
      "\n",
      "Cluster 12 : [('سَعُودِيّ_1', 1671), ('اللَّه_1', 1148), ('قَطَر_1', 993), ('عَرَبِيّ_1', 973), ('هِلال_3', 917), ('أَمارَة_1', 901), ('مُحَمَّد_1', 867), ('رِياض_1', 816), ('دَوْلَة_1', 749), ('جَدِيد_1', 737), ('رَئِيس_1', 718), ('سُودان_1', 712), ('أَهْلِيّ_1', 671), ('حِساب_2', 656), ('بَلَد_1', 642), ('ال_1', 627), ('عَمَل_1', 624), ('دَعْم_1', 618), ('لِيبِيا_1', 603), ('كُلّ_1', 571)]\n",
      "\n",
      "Cluster 0 : [('رياض_1_0', 1437), ('سعر_1_0', 1075), ('سعودي_1_0', 991), ('شركة_1_0', 914), ('تنظيف_1_0', 727), ('طلب_1_0', 725), ('ساعة_1_0', 606), ('ماء_1_0', 566), ('تواصل_1_0', 560), ('واتس_0_0', 536), ('بيع_1_0', 504), ('حساب_2_0', 502), ('جديد_1_0', 489), ('عرض_1_0', 463), ('ضمان_1_0', 459), ('خاص_1_0', 452), ('إعلان_1_0', 409), ('أفضل_2_0', 408), ('متابع_1_0', 375), ('كشف-i_1_0', 375)]\n",
      "\n",
      "Cluster 5 : [('سكس_0', 4876), ('لَم_1', 1140), ('فِيلْم_1', 997), ('نِيّ_1', 933), ('قَحْبَة_1', 801), ('خَلْفَ_1', 756), ('شَرْمُوطَة_2', 740), ('رابَط_1', 623), ('ممحونه_0', 575), ('مربربه_0', 440), ('حَلّ_1', 414), ('خَلِيجِيّ_2', 411), ('سِحاق_1', 408), ('سَعُودِيّ_1', 407), ('كسها_0', 393), ('مَصّ_2', 391), ('أَثار_1', 384), ('عَنِيف_1', 378), ('زُبّ_1', 377), ('جِنْس_1', 365)]\n",
      "\n",
      "Cluster 4 : [('سوريا_1_0', 577), ('ريف_1_0', 377), ('مدينة_1_0', 292), ('قوة_1_0', 291), ('حلب_1_0', 276), ('أسد_1_0', 223), ('طيران_1_0', 221), ('ٱستهدف_1_0', 214), ('دمشق_1_0', 193), ('جيش_1_0', 170), ('بلد_1_0', 162), ('روسي_1_0', 159), ('قصف_1_0', 156), ('شرقي_1_0', 147), ('غارة_1_0', 146), ('نظام_1_0', 146), ('سوري_1_0', 134), ('غوطة_1_0', 133), ('ثائر_2_0', 131), ('جوي_1_0', 130)]\n",
      "\n",
      "Cluster 8 : [('قرض_1_0', 1674), ('تسديد_1_0', 1549), ('أهلي_1_0', 1078), ('بنك_1_0', 1016), ('راجحي_1_0', 991), ('رياض_1_0', 725), ('سداد_1_0', 656), ('متعثر_1_0', 536), ('راتب_1_0', 525), ('سامبا_1_0', 507), ('عربي_1_0', 465), ('إنماء_1_0', 447), ('بلد_1_0', 437), ('طريق_1_0', 382), ('شرعية_1_0', 370), ('سمة_1_0', 347), ('أبو_1_0', 259), ('جميع_1_0', 242), ('قرض_2_0', 211), ('سم_1_0', 209)]\n",
      "\n",
      "Cluster 3 : [('شَرِكَة_1', 985), ('رِياض_1', 877), ('تَنْظِيف_1', 844), ('أَثاث_1', 401), ('نَقْل_1', 308), ('مُسْتَعْمَل_1', 196), ('عَفْش_1', 177), ('مَجْلِس_1', 166), ('أَفْضَل_2', 158), ('شِراء_1', 156), ('مُكافَحَة_1', 152), ('مُكَيِّفات_1', 145), ('شَقَّة_1', 142), ('خَزّان_1', 133), ('فَلَّل_1', 132), ('حَشَرَة_1', 115), ('غَسِيل_1', 107), ('كَنَب_1', 105), ('مَنْزِل_1', 99), ('رَشّ_1', 90)]\n",
      "\n",
      "Cluster 7 : [('قَرْض_1', 384), ('بَنْك_1', 285), ('تَسْدِيد_1', 279), ('سَداد_1', 215), ('أَهْلِيّ_1', 203), ('ساعَة_1', 162), ('راجِحِيّ_1', 158), ('راتِب_1', 144), ('مُتَعَثِّر_1', 142), ('رِياض_1', 136), ('جَدِيد_1', 120), ('ضَمان_1', 111), ('سِمَة_1', 107), ('قَرْض_2', 100), ('ٱِسْتِخْراج_1', 85), ('عَرَبِيّ_1', 84), ('مارْكَة_1', 78), ('سامْبا_1', 77), ('جَمِيع_1', 76), ('سَنَة_1', 74)]\n",
      "\n",
      "Cluster 11 : [('ماء_1', 309), ('عَزْل_1', 305), ('كَشَف-i_1', 244), ('تَسَرُّب_1', 210), ('سَطْح_2', 166), ('خَزّان_1', 123), ('حَلّ_1', 85), ('فاتُورَة_1', 82), ('ٱِرْتِفاع_1', 80), ('شَرِكَة_1', 66), ('حَمّام_1', 65), ('مُبَلَّط_1', 59), ('عازِلَة_1', 56), ('دُون_1', 50), ('رِياض_1', 49), ('ضَمان_1', 48), ('تَكْسِير_1', 45), ('شَبَكَة_1', 39), ('حَرارِيّ_1', 38), ('فُوم_1', 34)]\n",
      "\n",
      "Cluster 13 : []\n"
     ]
    }
   ],
   "source": [
    "# get top words in topics\n",
    "top_words(gsdmm_5.cluster_word_distribution, top_index_5, 20)"
   ]
  },
  {
   "cell_type": "markdown",
   "id": "c92f0fff",
   "metadata": {},
   "source": [
    "### Analysis\n",
    "\n",
    "- Topic 0: Spiritual / Religious / Stopwords\n",
    "- Topic 1: Spiritual / Religious / Stopwords\n",
    "- Topic 2: Political: Saudi, Qatar, Arab, Emirates, Country, President, Hour/Watch, Power\n",
    "- Topic 3: Commercial / Domestic Services\n",
    "- Topic 4: Sexual\n",
    "- Topic 5: Political: Saudi, Syria, Egypt, Asad, Tehran, Army, Club, Qatar\n",
    "- Topic 6: Financial\n",
    "- Topic 7: Commercial / Domestic Services\n",
    "- Topic 8: Financial\n",
    "- Topic 9: Commercial / Domestic Services\n",
    "\n",
    "Very similar to the previous model."
   ]
  },
  {
   "cell_type": "code",
   "execution_count": 127,
   "id": "df2fd79e",
   "metadata": {},
   "outputs": [],
   "source": [
    "# get topics to feed to coherence model\n",
    "topics_sample_5 = get_topics_lists(gsdmm_5, top_index_5, 20) "
   ]
  },
  {
   "cell_type": "code",
   "execution_count": 128,
   "id": "ca0d2898",
   "metadata": {},
   "outputs": [
    {
     "name": "stdout",
     "output_type": "stream",
     "text": [
      "CPU times: user 3.83 s, sys: 1.52 s, total: 5.35 s\n",
      "Wall time: 25.3 s\n"
     ]
    }
   ],
   "source": [
    "%%time\n",
    "# evaluate model using Topic Coherence score\n",
    "cm_gsdmm_5 = CoherenceModel(topics=topics_sample_5, \n",
    "                            dictionary=dictionary_sample, \n",
    "                            corpus=bow_corpus_sample, \n",
    "                            texts=docs_sample, \n",
    "                            coherence='c_v')\n",
    "\n",
    "# get coherence value\n",
    "coherence_gsdmm_5 = cm_gsdmm_5.get_coherence()  "
   ]
  },
  {
   "cell_type": "code",
   "execution_count": 129,
   "id": "f97ce11d",
   "metadata": {},
   "outputs": [
    {
     "name": "stdout",
     "output_type": "stream",
     "text": [
      "0.7545373035968512\n"
     ]
    }
   ],
   "source": [
    "print(coherence_gsdmm_5)"
   ]
  },
  {
   "cell_type": "markdown",
   "id": "08263f3a",
   "metadata": {},
   "source": [
    "The Topic Coherence score has increased from the previous model; just below that of Model 3. Again, it's worth noting that I have not seen a major difference in the clustering of political content. The 'performance' improvement seems to be in distinguishing between different kinds of non-political content which - for our purposes - is not very significant."
   ]
  },
  {
   "cell_type": "markdown",
   "id": "4762ca55",
   "metadata": {},
   "source": [
    "### 5.2.6. GSDMM Model - Trial 6\n",
    "\n",
    "Let's try increasing the **alpha and beta** values again, sticking to the 25 iterations."
   ]
  },
  {
   "cell_type": "code",
   "execution_count": 91,
   "id": "aa1c0751",
   "metadata": {},
   "outputs": [],
   "source": [
    "gsdmm_6 = MovieGroupProcess(K=15, alpha=0.2, beta=0.8, n_iters=25)"
   ]
  },
  {
   "cell_type": "code",
   "execution_count": 92,
   "id": "81184141",
   "metadata": {},
   "outputs": [
    {
     "name": "stdout",
     "output_type": "stream",
     "text": [
      "In stage 0: transferred 91826 clusters with 15 clusters populated\n",
      "In stage 1: transferred 45695 clusters with 15 clusters populated\n",
      "In stage 2: transferred 8775 clusters with 15 clusters populated\n",
      "In stage 3: transferred 6362 clusters with 11 clusters populated\n",
      "In stage 4: transferred 6020 clusters with 10 clusters populated\n",
      "In stage 5: transferred 5680 clusters with 10 clusters populated\n",
      "In stage 6: transferred 5266 clusters with 8 clusters populated\n",
      "In stage 7: transferred 5345 clusters with 8 clusters populated\n",
      "In stage 8: transferred 5369 clusters with 8 clusters populated\n",
      "In stage 9: transferred 5242 clusters with 8 clusters populated\n",
      "In stage 10: transferred 5232 clusters with 8 clusters populated\n",
      "In stage 11: transferred 5132 clusters with 8 clusters populated\n",
      "In stage 12: transferred 5199 clusters with 8 clusters populated\n",
      "In stage 13: transferred 5196 clusters with 8 clusters populated\n",
      "In stage 14: transferred 5176 clusters with 10 clusters populated\n",
      "In stage 15: transferred 5286 clusters with 9 clusters populated\n",
      "In stage 16: transferred 5158 clusters with 9 clusters populated\n",
      "In stage 17: transferred 5179 clusters with 8 clusters populated\n",
      "In stage 18: transferred 5162 clusters with 8 clusters populated\n",
      "In stage 19: transferred 5186 clusters with 8 clusters populated\n",
      "In stage 20: transferred 5092 clusters with 8 clusters populated\n",
      "In stage 21: transferred 5138 clusters with 9 clusters populated\n",
      "In stage 22: transferred 5166 clusters with 10 clusters populated\n",
      "In stage 23: transferred 5177 clusters with 8 clusters populated\n",
      "In stage 24: transferred 5150 clusters with 8 clusters populated\n",
      "CPU times: user 23min 34s, sys: 22.6 s, total: 23min 57s\n",
      "Wall time: 24min 27s\n"
     ]
    }
   ],
   "source": [
    "%%time\n",
    "y_6 = gsdmm_6.fit(docs_sample, sample_vocab_length)"
   ]
  },
  {
   "cell_type": "code",
   "execution_count": 130,
   "id": "422f059c",
   "metadata": {},
   "outputs": [
    {
     "name": "stdout",
     "output_type": "stream",
     "text": [
      "Number of documents per topic : [ 1572   178     0     0   649 13822     0 35986 22182     0  4117 21494\n",
      "     0     0     0]\n",
      "********************\n",
      "Most important clusters (by number of docs inside): [ 7  8 11  5 10  0  4  1]\n"
     ]
    }
   ],
   "source": [
    "doc_count_6 = np.array(gsdmm_6.cluster_doc_count)\n",
    "print('Number of documents per topic :', doc_count_6)\n",
    "print('*'*20)\n",
    "\n",
    "# Topics sorted by the number of document they are allocated to\n",
    "top_index_6 = doc_count_6.argsort()[-8:][::-1]\n",
    "print('Most important clusters (by number of docs inside):', top_index_6)"
   ]
  },
  {
   "cell_type": "code",
   "execution_count": 131,
   "id": "aefd35e6",
   "metadata": {},
   "outputs": [
    {
     "name": "stdout",
     "output_type": "stream",
     "text": [
      "\n",
      "Cluster 7 : [('اللَّه_1', 8586), ('قَلْب_3', 4376), ('لِ_1', 3695), ('أَنَّ_1', 3091), ('اللّٰهُمَّ_1', 2884), ('رَبّ_1', 2818), ('أَنا_1', 2798), ('قال-u_1', 2479), ('خَيْر_1', 2262), ('أَنْتَ_1', 2233), ('أَحَبّ_1', 2083), ('لَيّ_1', 2056), ('حُبّ_1', 2035), ('حَياة_1', 2013), ('كان_1', 1863), ('شَيْء_1', 1713), ('كُلّ_1', 1550), ('ناس_1', 1539), ('نَفْس_1', 1409), ('دَعْم_1', 1311)]\n",
      "\n",
      "Cluster 8 : [('الله_1_0', 5129), ('قروب_0_0', 2707), ('دعم_1_0', 2638), ('قلب_3_0', 2328), ('ل_1_0', 2311), ('رب_1_0', 1676), ('أنا_1_0', 1625), ('أن_1_0', 1568), ('اللهم_1_0', 1491), ('لي_1_0', 1451), ('قال-u_1_0', 1364), ('خير_1_0', 1314), ('أنت_1_0', 1301), ('حياة_1_0', 1225), ('أحب_1_0', 1114), ('كان_1_0', 1026), ('ناس_1_0', 1007), ('حب_1_0', 992), ('من_1_0', 975), ('نفس_1_0', 961)]\n",
      "\n",
      "Cluster 11 : [('سَعُودِيّ_1', 1660), ('اللَّه_1', 1126), ('قَطَر_1', 980), ('عَرَبِيّ_1', 973), ('هِلال_3', 916), ('أَمارَة_1', 877), ('رِياض_1', 872), ('مُحَمَّد_1', 868), ('جَدِيد_1', 773), ('دَوْلَة_1', 742), ('رَئِيس_1', 719), ('سُودان_1', 714), ('أَهْلِيّ_1', 649), ('حِساب_2', 647), ('ال_1', 631), ('عَمَل_1', 629), ('بَلَد_1', 624), ('سِعْر_1', 611), ('دَعْم_1', 602), ('لِيبِيا_1', 599)]\n",
      "\n",
      "Cluster 5 : [('رياض_1_0', 1460), ('سعودي_1_0', 1148), ('سعر_1_0', 1079), ('شركة_1_0', 918), ('طلب_1_0', 727), ('تنظيف_1_0', 727), ('ساعة_1_0', 630), ('ماء_1_0', 572), ('تواصل_1_0', 564), ('جديد_1_0', 545), ('واتس_0_0', 538), ('بيع_1_0', 508), ('حساب_2_0', 507), ('خاص_1_0', 472), ('عرض_1_0', 469), ('ضمان_1_0', 461), ('مدينة_1_0', 455), ('هلال_3_0', 443), ('أفضل_2_0', 425), ('إعلان_1_0', 418)]\n",
      "\n",
      "Cluster 10 : [('سكس_0', 4875), ('لَم_1', 1139), ('فِيلْم_1', 996), ('رِياض_1', 961), ('شَرِكَة_1', 948), ('نِيّ_1', 935), ('قَحْبَة_1', 801), ('تَنْظِيف_1', 791), ('خَلْفَ_1', 756), ('شَرْمُوطَة_2', 740), ('رابَط_1', 622), ('ممحونه_0', 574), ('مربربه_0', 440), ('سَعُودِيّ_1', 431), ('حَلّ_1', 421), ('عَرَبِيّ_1', 419), ('خَلِيجِيّ_2', 412), ('سِحاق_1', 408), ('كسها_0', 393), ('مَصّ_2', 391)]\n",
      "\n",
      "Cluster 0 : [('قرض_1_0', 1673), ('تسديد_1_0', 1549), ('أهلي_1_0', 1076), ('بنك_1_0', 1015), ('راجحي_1_0', 992), ('رياض_1_0', 725), ('سداد_1_0', 655), ('متعثر_1_0', 536), ('راتب_1_0', 524), ('سامبا_1_0', 507), ('عربي_1_0', 465), ('إنماء_1_0', 447), ('بلد_1_0', 435), ('طريق_1_0', 382), ('شرعية_1_0', 370), ('سمة_1_0', 347), ('أبو_1_0', 257), ('جميع_1_0', 242), ('سم_1_0', 209), ('قرض_2_0', 209)]\n",
      "\n",
      "Cluster 4 : [('ريف_1_0', 319), ('سوريا_1_0', 318), ('طيران_1_0', 197), ('ٱستهدف_1_0', 188), ('حلب_1_0', 187), ('مدينة_1_0', 174), ('قوة_1_0', 157), ('أسد_1_0', 155), ('دمشق_1_0', 149), ('قصف_1_0', 129), ('غارة_1_0', 126), ('شرقي_1_0', 121), ('ثائر_2_0', 109), ('بلد_1_0', 108), ('غوطة_1_0', 107), ('جوي_1_0', 103), ('نظام_1_0', 100), ('ادلب_0_0', 86), ('حي_3_0', 85), ('روسي_1_0', 82)]\n",
      "\n",
      "Cluster 1 : [('عَزْل_1', 301), ('ماء_1', 268), ('كَشَف-i_1', 226), ('تَسَرُّب_1', 195), ('سَطْح_2', 156), ('خَزّان_1', 132), ('حَلّ_1', 76), ('ٱِرْتِفاع_1', 73), ('فاتُورَة_1', 73), ('حَمّام_1', 64), ('شَرِكَة_1', 63), ('مُبَلَّط_1', 59), ('رِياض_1', 46), ('عازِلَة_1', 45), ('ضَمان_1', 40), ('دُون_1', 39), ('تَكْسِير_1', 39), ('شَبَكَة_1', 37), ('مَطْبَخ_1', 33), ('فُوم_1', 33)]\n"
     ]
    }
   ],
   "source": [
    "# get top words in topics\n",
    "top_words(gsdmm_6.cluster_word_distribution, top_index_6, 20)"
   ]
  },
  {
   "cell_type": "markdown",
   "id": "0cf26976",
   "metadata": {},
   "source": [
    "### Analysis\n",
    "\n",
    "- Topic 0: Spiritual / Religious / Stopwords\n",
    "- Topic 1: Spiritual / Religious / Stopwords\n",
    "- Topic 2: Political with some Commercial mixed in (Work, Account, Price, New)\n",
    "- Topic 3: Commercial / Domestic Services\n",
    "- Topic 4: Sexual\n",
    "- Topic 5: Financial\n",
    "- Topic 6: Political: Saudi, Syria, Egypt, Asad, Tehran, Army, Club, Qatar\n",
    "- Topic 7: Commercial / Domestic Services\n",
    "\n",
    "Similar to previous model, although one of the political clusters seems a little muddled."
   ]
  },
  {
   "cell_type": "code",
   "execution_count": 132,
   "id": "44d67006",
   "metadata": {},
   "outputs": [],
   "source": [
    "# get topics to feed to coherence model\n",
    "topics_sample_6 = get_topics_lists(gsdmm_6, top_index_6, 20) "
   ]
  },
  {
   "cell_type": "code",
   "execution_count": 133,
   "id": "7a903040",
   "metadata": {},
   "outputs": [
    {
     "name": "stdout",
     "output_type": "stream",
     "text": [
      "CPU times: user 3.52 s, sys: 2.17 s, total: 5.69 s\n",
      "Wall time: 27.1 s\n"
     ]
    }
   ],
   "source": [
    "%%time\n",
    "# evaluate model using Topic Coherence score\n",
    "cm_gsdmm_6 = CoherenceModel(topics=topics_sample_6, \n",
    "                            dictionary=dictionary_sample, \n",
    "                            corpus=bow_corpus_sample, \n",
    "                            texts=docs_sample, \n",
    "                            coherence='c_v')\n",
    "\n",
    "# get coherence value\n",
    "coherence_gsdmm_6 = cm_gsdmm_6.get_coherence()  "
   ]
  },
  {
   "cell_type": "code",
   "execution_count": 134,
   "id": "86eb3e00",
   "metadata": {},
   "outputs": [
    {
     "name": "stdout",
     "output_type": "stream",
     "text": [
      "0.7203851232803736\n"
     ]
    }
   ],
   "source": [
    "print(coherence_gsdmm_6)"
   ]
  },
  {
   "cell_type": "markdown",
   "id": "dbda8f57",
   "metadata": {},
   "source": [
    "Topic Coherence score is slightly lower than the previous model."
   ]
  },
  {
   "cell_type": "markdown",
   "id": "dd1f7d08",
   "metadata": {},
   "source": [
    "### 5.2.7. GSDMM Model - Trial 7\n",
    "\n",
    "Another trial with higher **alpha and beta** settings."
   ]
  },
  {
   "cell_type": "code",
   "execution_count": 98,
   "id": "e62487ef",
   "metadata": {},
   "outputs": [],
   "source": [
    "gsdmm_7 = MovieGroupProcess(K=15, alpha=0.4, beta=0.8, n_iters=25)"
   ]
  },
  {
   "cell_type": "code",
   "execution_count": 99,
   "id": "4667e763",
   "metadata": {},
   "outputs": [
    {
     "name": "stdout",
     "output_type": "stream",
     "text": [
      "In stage 0: transferred 91949 clusters with 15 clusters populated\n",
      "In stage 1: transferred 42350 clusters with 15 clusters populated\n",
      "In stage 2: transferred 8205 clusters with 15 clusters populated\n",
      "In stage 3: transferred 5643 clusters with 12 clusters populated\n",
      "In stage 4: transferred 5016 clusters with 11 clusters populated\n",
      "In stage 5: transferred 4703 clusters with 11 clusters populated\n",
      "In stage 6: transferred 4782 clusters with 11 clusters populated\n",
      "In stage 7: transferred 4692 clusters with 10 clusters populated\n",
      "In stage 8: transferred 4616 clusters with 10 clusters populated\n",
      "In stage 9: transferred 4689 clusters with 10 clusters populated\n",
      "In stage 10: transferred 4671 clusters with 10 clusters populated\n",
      "In stage 11: transferred 4644 clusters with 10 clusters populated\n",
      "In stage 12: transferred 4687 clusters with 10 clusters populated\n",
      "In stage 13: transferred 4688 clusters with 10 clusters populated\n",
      "In stage 14: transferred 4596 clusters with 11 clusters populated\n",
      "In stage 15: transferred 4653 clusters with 11 clusters populated\n",
      "In stage 16: transferred 4723 clusters with 10 clusters populated\n",
      "In stage 17: transferred 4809 clusters with 11 clusters populated\n",
      "In stage 18: transferred 4636 clusters with 10 clusters populated\n",
      "In stage 19: transferred 4718 clusters with 10 clusters populated\n",
      "In stage 20: transferred 4904 clusters with 12 clusters populated\n",
      "In stage 21: transferred 4857 clusters with 10 clusters populated\n",
      "In stage 22: transferred 4583 clusters with 10 clusters populated\n",
      "In stage 23: transferred 4308 clusters with 11 clusters populated\n",
      "In stage 24: transferred 4198 clusters with 11 clusters populated\n",
      "CPU times: user 22min 55s, sys: 23.4 s, total: 23min 19s\n",
      "Wall time: 23min 15s\n"
     ]
    }
   ],
   "source": [
    "%%time\n",
    "y_7 = gsdmm_7.fit(docs_sample, sample_vocab_length)"
   ]
  },
  {
   "cell_type": "code",
   "execution_count": 154,
   "id": "7ea1084a",
   "metadata": {},
   "outputs": [
    {
     "name": "stdout",
     "output_type": "stream",
     "text": [
      "Number of documents per topic : [34422 37054  4292     0  3276  1564     0     1   297  1255 16498   680\n",
      "     0   661     0]\n",
      "********************\n",
      "Most important clusters (by number of docs inside): [ 1  0 10  2  4  5  9 11 13  8]\n"
     ]
    }
   ],
   "source": [
    "doc_count_7 = np.array(gsdmm_7.cluster_doc_count)\n",
    "print('Number of documents per topic :', doc_count_7)\n",
    "print('*'*20)\n",
    "\n",
    "# Topics sorted by the number of document they are allocated to\n",
    "top_index_7 = doc_count_7.argsort()[-10:][::-1]\n",
    "print('Most important clusters (by number of docs inside):', top_index_7)"
   ]
  },
  {
   "cell_type": "code",
   "execution_count": 155,
   "id": "df17d043",
   "metadata": {
    "scrolled": true
   },
   "outputs": [
    {
     "name": "stdout",
     "output_type": "stream",
     "text": [
      "\n",
      "Cluster 1 : [('اللَّه_1', 8640), ('قَلْب_3', 4383), ('لِ_1', 3727), ('أَنَّ_1', 3115), ('اللّٰهُمَّ_1', 2845), ('رَبّ_1', 2832), ('أَنا_1', 2818), ('قال-u_1', 2509), ('خَيْر_1', 2292), ('أَنْتَ_1', 2250), ('لَيّ_1', 2115), ('أَحَبّ_1', 2097), ('حُبّ_1', 2051), ('حَياة_1', 2031), ('كان_1', 1880), ('شَيْء_1', 1740), ('كُلّ_1', 1607), ('ناس_1', 1561), ('نَفْس_1', 1431), ('دَعْم_1', 1382)]\n",
      "\n",
      "Cluster 0 : [('الله_1_0', 5516), ('دعم_1_0', 2866), ('قروب_0_0', 2728), ('ل_1_0', 2596), ('قلب_3_0', 2386), ('رب_1_0', 1704), ('أنا_1_0', 1679), ('أن_1_0', 1671), ('لي_1_0', 1537), ('قال-u_1_0', 1519), ('اللهم_1_0', 1505), ('خير_1_0', 1430), ('حياة_1_0', 1415), ('أنت_1_0', 1362), ('سعودي_1_0', 1291), ('كان_1_0', 1245), ('أحب_1_0', 1217), ('كل_1_0', 1156), ('حب_1_0', 1143), ('من_1_0', 1140)]\n",
      "\n",
      "Cluster 10 : [('سَعُودِيّ_1', 1510), ('اللَّه_1', 1001), ('قَطَر_1', 981), ('عَرَبِيّ_1', 937), ('أَمارَة_1', 878), ('هِلال_3', 848), ('مُحَمَّد_1', 847), ('دَوْلَة_1', 732), ('رَئِيس_1', 715), ('سُودان_1', 713), ('أَهْلِيّ_1', 628), ('بَلَد_1', 623), ('لِيبِيا_1', 593), ('مِصْر_1', 553), ('إِرْهاب_1', 536), ('ال_1', 534), ('قُوَّة_1', 523), ('إِخْوَة_1', 517), ('شَعْب_1', 513), ('تُركِيا_1', 510)]\n",
      "\n",
      "Cluster 2 : [('رِياض_1', 732), ('سِعْر_1', 548), ('رتويت_0', 418), ('ساعَة_1', 414), ('قَرْض_1', 404), ('حِساب_2', 338), ('جَدِيد_1', 305), ('تابَع_1', 305), ('بَنْك_1', 303), ('طَلَب_1', 298), ('تَسْدِيد_1', 289), ('عَرْض_1', 282), ('أَثاث_1', 278), ('تَواصُل_1', 251), ('عَسَل_1', 247), ('جَمِيع_1', 245), ('خاصّ_1', 236), ('دُون_1', 232), ('مُتابِع_1', 232), ('واتس_0', 231)]\n",
      "\n",
      "Cluster 4 : [('سكس_0', 4876), ('لَم_1', 1140), ('فِيلْم_1', 997), ('نِيّ_1', 936), ('قَحْبَة_1', 801), ('خَلْفَ_1', 756), ('شَرْمُوطَة_2', 740), ('رابَط_1', 625), ('ممحونه_0', 575), ('مربربه_0', 440), ('حَلّ_1', 418), ('خَلِيجِيّ_2', 412), ('سِحاق_1', 408), ('سَعُودِيّ_1', 405), ('كسها_0', 393), ('مَصّ_2', 391), ('أَثار_1', 384), ('عَنِيف_1', 378), ('زُبّ_1', 377), ('جِنْس_1', 365)]\n",
      "\n",
      "Cluster 5 : [('قرض_1_0', 1679), ('تسديد_1_0', 1549), ('أهلي_1_0', 1077), ('بنك_1_0', 1017), ('راجحي_1_0', 992), ('رياض_1_0', 725), ('سداد_1_0', 656), ('متعثر_1_0', 536), ('راتب_1_0', 524), ('سامبا_1_0', 507), ('عربي_1_0', 465), ('إنماء_1_0', 447), ('بلد_1_0', 435), ('طريق_1_0', 384), ('شرعية_1_0', 370), ('سمة_1_0', 347), ('أبو_1_0', 261), ('جميع_1_0', 244), ('قرض_2_0', 224), ('سم_1_0', 208)]\n",
      "\n",
      "Cluster 9 : [('تنظيف_1_0', 661), ('شركة_1_0', 505), ('رياض_1_0', 427), ('سوريا_1_0', 374), ('ريف_1_0', 353), ('حلب_1_0', 223), ('مدينة_1_0', 209), ('طيران_1_0', 205), ('أثاث_1_0', 198), ('مكافحة_1_0', 195), ('ٱستهدف_1_0', 193), ('أسد_1_0', 178), ('قوة_1_0', 178), ('تَمْوِيل_1', 175), ('دمشق_1_0', 171), ('مجلس_1_0', 157), ('حَتَّى_1', 153), ('حشرة_1_0', 153), ('نقل_1_0', 147), ('خزان_1_0', 146)]\n",
      "\n",
      "Cluster 11 : [('ساعة_1_0', 386), ('سعر_1_0', 246), ('ماركة_1_0', 194), ('طلب_1_0', 162), ('رياض_1_0', 157), ('رجل_1_0', 157), ('واتس_0_0', 157), ('طقم_1_0', 155), ('نسائي_1_0', 147), ('ضمان_1_0', 127), ('توصيل_1_0', 127), ('جديد_1_0', 112), ('أبى-a_1_0', 107), ('درجة_1_0', 106), ('سنة_1_0', 105), ('شحن_1_0', 97), ('أول_2_0', 96), ('عرض-i_1_0', 88), ('تساب_1_0', 88), ('آب_1_0', 84)]\n",
      "\n",
      "Cluster 13 : [('شَرِكَة_1', 1059), ('تَنْظِيف_1', 858), ('رِياض_1', 784), ('ماء_1', 345), ('عَزْل_1', 343), ('نَقْل_1', 297), ('كَشَف-i_1', 270), ('خَزّان_1', 258), ('تَسَرُّب_1', 238), ('أَثاث_1', 182), ('سَطْح_2', 170), ('عَفْش_1', 163), ('مُكافَحَة_1', 157), ('مَجْلِس_1', 154), ('شَقَّة_1', 143), ('أَفْضَل_2', 131), ('فَلَّل_1', 129), ('حَشَرَة_1', 120), ('مُكَيِّفات_1', 118), ('غَسِيل_1', 115)]\n",
      "\n",
      "Cluster 8 : [('ماء_1_0', 423), ('كشف-i_1_0', 304), ('عزل_1_0', 296), ('تسرب_1_0', 262), ('سطح_2_0', 216), ('خزان_1_0', 213), ('عازلة_1_0', 144), ('حمام_1_0', 119), ('حل_1_0', 112), ('شركة_1_0', 94), ('أسلى_1_0', 94), ('مطبخ_1_0', 93), ('مبلط_1_0', 92), ('ضمان_1_0', 90), ('ٱرتفاع_1_0', 90), ('فاتورة_1_0', 85), ('مجرى_1_0', 78), ('غسيل_1_0', 70), ('دون_1_0', 57), ('رياض_1_0', 55)]\n"
     ]
    }
   ],
   "source": [
    "# get top words in topics\n",
    "top_words(gsdmm_7.cluster_word_distribution, top_index_7, 20)"
   ]
  },
  {
   "cell_type": "markdown",
   "id": "5644f6c9",
   "metadata": {},
   "source": [
    "### Analysis\n",
    "\n",
    "- Topic 0: Spiritual / Religious / Stopwords\n",
    "- Topic 1: Spiritual / Religious / Stopwords\n",
    "- Topic 2: Political: Suadi, Emirates, Arab, Qatar, President\n",
    "- Topic 3: Commercial / Spam\n",
    "- Topic 4: Sexual\n",
    "- Topic 5: Financial\n",
    "- Topic 6: Commercial / Domestic Services\n",
    "- Topic 7: Commercial / Fashion\n",
    "- Topic 8: Commercial / Domestic Services\n",
    "- Topic 9: Commercial / Domestic Services\n",
    "\n",
    "Hm, this one only has 1 political cluster. I'm missing the keywords I've seen in other models relating to the Syria conflict."
   ]
  },
  {
   "cell_type": "code",
   "execution_count": 156,
   "id": "7b279a6a",
   "metadata": {},
   "outputs": [],
   "source": [
    "# get topics to feed to coherence model\n",
    "topics_sample_7 = get_topics_lists(gsdmm_7, top_index_7, 20) "
   ]
  },
  {
   "cell_type": "code",
   "execution_count": 157,
   "id": "62e71b0f",
   "metadata": {},
   "outputs": [
    {
     "name": "stdout",
     "output_type": "stream",
     "text": [
      "CPU times: user 4 s, sys: 2.3 s, total: 6.3 s\n",
      "Wall time: 30.2 s\n"
     ]
    }
   ],
   "source": [
    "%%time\n",
    "# evaluate model using Topic Coherence score\n",
    "cm_gsdmm_7 = CoherenceModel(topics=topics_sample_7, \n",
    "                            dictionary=dictionary_sample, \n",
    "                            corpus=bow_corpus_sample, \n",
    "                            texts=docs_sample, \n",
    "                            coherence='c_v')\n",
    "\n",
    "# get coherence value\n",
    "coherence_gsdmm_7 = cm_gsdmm_7.get_coherence()  "
   ]
  },
  {
   "cell_type": "code",
   "execution_count": 158,
   "id": "fddbdb5c",
   "metadata": {},
   "outputs": [
    {
     "name": "stdout",
     "output_type": "stream",
     "text": [
      "0.720511473642701\n"
     ]
    }
   ],
   "source": [
    "print(coherence_gsdmm_7)"
   ]
  },
  {
   "cell_type": "markdown",
   "id": "b10a4cd0",
   "metadata": {},
   "source": [
    "Topic Coherence score is almost identical to previous model."
   ]
  },
  {
   "cell_type": "markdown",
   "id": "53bcdd8d",
   "metadata": {},
   "source": [
    "### 5.2.8. GSDMM Model - Trial 8\n",
    "\n",
    "One more trial with **beta = 1**."
   ]
  },
  {
   "cell_type": "code",
   "execution_count": 105,
   "id": "afa15227",
   "metadata": {},
   "outputs": [],
   "source": [
    "gsdmm_8 = MovieGroupProcess(K=15, alpha=0.4, beta=1, n_iters=25)"
   ]
  },
  {
   "cell_type": "code",
   "execution_count": 106,
   "id": "2283d009",
   "metadata": {},
   "outputs": [
    {
     "name": "stdout",
     "output_type": "stream",
     "text": [
      "In stage 0: transferred 92213 clusters with 15 clusters populated\n",
      "In stage 1: transferred 39163 clusters with 15 clusters populated\n",
      "In stage 2: transferred 5805 clusters with 14 clusters populated\n",
      "In stage 3: transferred 4326 clusters with 12 clusters populated\n",
      "In stage 4: transferred 3934 clusters with 11 clusters populated\n",
      "In stage 5: transferred 3742 clusters with 10 clusters populated\n",
      "In stage 6: transferred 3617 clusters with 10 clusters populated\n",
      "In stage 7: transferred 3621 clusters with 9 clusters populated\n",
      "In stage 8: transferred 3741 clusters with 9 clusters populated\n",
      "In stage 9: transferred 3519 clusters with 9 clusters populated\n",
      "In stage 10: transferred 3473 clusters with 8 clusters populated\n",
      "In stage 11: transferred 3454 clusters with 8 clusters populated\n",
      "In stage 12: transferred 3462 clusters with 8 clusters populated\n",
      "In stage 13: transferred 3415 clusters with 8 clusters populated\n",
      "In stage 14: transferred 3466 clusters with 9 clusters populated\n",
      "In stage 15: transferred 3457 clusters with 9 clusters populated\n",
      "In stage 16: transferred 3459 clusters with 8 clusters populated\n",
      "In stage 17: transferred 3459 clusters with 8 clusters populated\n",
      "In stage 18: transferred 3415 clusters with 9 clusters populated\n",
      "In stage 19: transferred 3470 clusters with 8 clusters populated\n",
      "In stage 20: transferred 3488 clusters with 9 clusters populated\n",
      "In stage 21: transferred 3429 clusters with 8 clusters populated\n",
      "In stage 22: transferred 3383 clusters with 9 clusters populated\n",
      "In stage 23: transferred 3417 clusters with 8 clusters populated\n",
      "In stage 24: transferred 3450 clusters with 8 clusters populated\n",
      "CPU times: user 27min 21s, sys: 26.8 s, total: 27min 48s\n",
      "Wall time: 27min 50s\n"
     ]
    }
   ],
   "source": [
    "%%time\n",
    "y_8 = gsdmm_8.fit(docs_sample, sample_vocab_length)"
   ]
  },
  {
   "cell_type": "code",
   "execution_count": 149,
   "id": "be3cd7d1",
   "metadata": {},
   "outputs": [
    {
     "name": "stdout",
     "output_type": "stream",
     "text": [
      "Number of documents per topic : [    0   752     0   304    97 38816 21771  1237     0     0     0 36710\n",
      "     0     0   313]\n",
      "********************\n",
      "Most important clusters (by number of docs inside): [ 5 11  6  7  1 14  3  4]\n"
     ]
    }
   ],
   "source": [
    "doc_count_8 = np.array(gsdmm_8.cluster_doc_count)\n",
    "print('Number of documents per topic :', doc_count_8)\n",
    "print('*'*20)\n",
    "\n",
    "# Topics sorted by the number of document they are allocated to\n",
    "top_index_8 = doc_count_8.argsort()[-8:][::-1]\n",
    "print('Most important clusters (by number of docs inside):', top_index_8)"
   ]
  },
  {
   "cell_type": "code",
   "execution_count": 150,
   "id": "e2faef9b",
   "metadata": {
    "scrolled": true
   },
   "outputs": [
    {
     "name": "stdout",
     "output_type": "stream",
     "text": [
      "\n",
      "Cluster 5 : [('اللَّه_1', 8954), ('قَلْب_3', 4422), ('لِ_1', 3806), ('أَنَّ_1', 3169), ('اللّٰهُمَّ_1', 2915), ('رَبّ_1', 2884), ('أَنا_1', 2862), ('قال-u_1', 2557), ('خَيْر_1', 2356), ('أَنْتَ_1', 2316), ('لَيّ_1', 2224), ('أَحَبّ_1', 2097), ('حُبّ_1', 2074), ('حَياة_1', 2063), ('كان_1', 1921), ('شَيْء_1', 1757), ('كُلّ_1', 1686), ('ناس_1', 1582), ('نَفْس_1', 1451), ('دَعْم_1', 1432)]\n",
      "\n",
      "Cluster 11 : [('الله_1_0', 5523), ('دعم_1_0', 2868), ('قروب_0_0', 2731), ('ل_1_0', 2622), ('قلب_3_0', 2396), ('أهلي_1_0', 1924), ('رياض_1_0', 1788), ('رب_1_0', 1705), ('قرض_1_0', 1691), ('أنا_1_0', 1684), ('أن_1_0', 1676), ('تسديد_1_0', 1562), ('لي_1_0', 1557), ('قال-u_1_0', 1542), ('اللهم_1_0', 1508), ('حياة_1_0', 1434), ('خير_1_0', 1434), ('أنت_1_0', 1367), ('سعودي_1_0', 1331), ('كان_1_0', 1254)]\n",
      "\n",
      "Cluster 6 : [('سكس_0', 4876), ('سَعُودِيّ_1', 1969), ('عَرَبِيّ_1', 1269), ('لَم_1', 1152), ('فِيلْم_1', 1071), ('جَدِيد_1', 989), ('قَطَر_1', 964), ('نِيّ_1', 938), ('أَمارَة_1', 824), ('قَحْبَة_1', 801), ('رابَط_1', 777), ('هِلال_3', 772), ('خَلْفَ_1', 760), ('اللَّه_1', 756), ('مُحَمَّد_1', 751), ('رِياض_1', 744), ('شَرْمُوطَة_2', 741), ('سُودان_1', 706), ('رَئِيس_1', 698), ('دَوْلَة_1', 692)]\n",
      "\n",
      "Cluster 7 : [('شَرِكَة_1', 1064), ('رِياض_1', 963), ('تَنْظِيف_1', 850), ('تنظيف_1_0', 644), ('شركة_1_0', 475), ('أَثاث_1', 397), ('رياض_1_0', 396), ('ماء_1', 348), ('عَزْل_1', 344), ('نَقْل_1', 310), ('كَشَف-i_1', 267), ('خَزّان_1', 258), ('تَسَرُّب_1', 232), ('مُسْتَعْمَل_1', 194), ('مكافحة_1_0', 186), ('أَفْضَل_2', 185), ('سَطْح_2', 182), ('أثاث_1_0', 181), ('مَجْلِس_1', 178), ('عَفْش_1', 178)]\n",
      "\n",
      "Cluster 1 : [('سوريا_1_0', 359), ('ريف_1_0', 341), ('حلب_1_0', 214), ('طيران_1_0', 201), ('مدينة_1_0', 192), ('ٱستهدف_1_0', 189), ('قوة_1_0', 169), ('أسد_1_0', 164), ('دمشق_1_0', 160), ('شرقي_1_0', 132), ('غارة_1_0', 132), ('قصف_1_0', 131), ('ثائر_2_0', 119), ('غوطة_1_0', 117), ('بلد_1_0', 108), ('نظام_1_0', 107), ('جوي_1_0', 106), ('حي_3_0', 92), ('روسي_1_0', 89), ('ادلب_0_0', 87)]\n",
      "\n",
      "Cluster 14 : [('ماء_1_0', 427), ('كشف-i_1_0', 306), ('عزل_1_0', 303), ('تسرب_1_0', 264), ('خزان_1_0', 219), ('سطح_2_0', 216), ('عازلة_1_0', 144), ('حمام_1_0', 119), ('حل_1_0', 112), ('شركة_1_0', 100), ('أسلى_1_0', 99), ('مطبخ_1_0', 93), ('مبلط_1_0', 91), ('ضمان_1_0', 90), ('ٱرتفاع_1_0', 90), ('فاتورة_1_0', 85), ('مجرى_1_0', 83), ('غسيل_1_0', 70), ('رياض_1_0', 60), ('دون_1_0', 57)]\n",
      "\n",
      "Cluster 3 : [('قَرْض_1', 376), ('بَنْك_1', 275), ('تَسْدِيد_1', 271), ('سَداد_1', 215), ('أَهْلِيّ_1', 199), ('راجِحِيّ_1', 155), ('مُتَعَثِّر_1', 141), ('راتِب_1', 139), ('رِياض_1', 128), ('سِمَة_1', 105), ('قَرْض_2', 96), ('ٱِسْتِخْراج_1', 84), ('جَدِيد_1', 83), ('عَرَبِيّ_1', 82), ('سامْبا_1', 76), ('إِنْماء_1', 73), ('جَمِيع_1', 72), ('بَلَد_1', 66), ('مِنْطَقَة_1', 61), ('أَبُو_1', 38)]\n",
      "\n",
      "Cluster 4 : [('تَمْوِيل_1', 175), ('حَتَّى_1', 153), ('قَرْض_2', 132), ('كَفِيل_2', 109), ('شَرْعِيّ_1', 87), ('دُون_1', 80), ('خَصْم_1', 79), ('أَعْطَى_1', 66), ('يبدء_0', 65), ('شَخْصِيّ_1', 58), ('سدادالمبكر_0', 33), ('سَداد_1', 24), ('مُبَكِّر_1', 21), ('جَمِيع_1', 19), ('مِنْطَقَة_1', 18), ('طَلَب_2', 18), ('المملكهتقدم_0', 11), ('شخصيبدون_0', 8), ('مَمْلَكَة_1', 7), ('مَدَنِيّ_1', 7)]\n"
     ]
    }
   ],
   "source": [
    "# get top words in topics\n",
    "top_words(gsdmm_8.cluster_word_distribution, top_index_8, 20)"
   ]
  },
  {
   "cell_type": "markdown",
   "id": "d4adb218",
   "metadata": {},
   "source": [
    "### Analysis\n",
    "Only one clearly distinguishable 'political' cluster focussed on the conflict in Syria. We seem to have lost the cluster with Gulf State names and words like \"president\", \"king\", etc.\n",
    "\n",
    "I think we can safely surmise that our **beta** setting was **too high** in the last 2 models."
   ]
  },
  {
   "cell_type": "code",
   "execution_count": 151,
   "id": "8de674db",
   "metadata": {},
   "outputs": [],
   "source": [
    "# get topics to feed to coherence model\n",
    "topics_sample_8 = get_topics_lists(gsdmm_8, top_index_8, 20) "
   ]
  },
  {
   "cell_type": "code",
   "execution_count": 152,
   "id": "f72805d4",
   "metadata": {},
   "outputs": [
    {
     "name": "stdout",
     "output_type": "stream",
     "text": [
      "CPU times: user 3.25 s, sys: 2.19 s, total: 5.44 s\n",
      "Wall time: 30 s\n"
     ]
    }
   ],
   "source": [
    "%%time\n",
    "# evaluate model using Topic Coherence score\n",
    "cm_gsdmm_8 = CoherenceModel(topics=topics_sample_8, \n",
    "                            dictionary=dictionary_sample, \n",
    "                            corpus=bow_corpus_sample, \n",
    "                            texts=docs_sample, \n",
    "                            coherence='c_v')\n",
    "\n",
    "# get coherence value\n",
    "coherence_gsdmm_8 = cm_gsdmm_8.get_coherence()  "
   ]
  },
  {
   "cell_type": "code",
   "execution_count": 153,
   "id": "777402bb",
   "metadata": {},
   "outputs": [
    {
     "name": "stdout",
     "output_type": "stream",
     "text": [
      "0.6534742226388918\n"
     ]
    }
   ],
   "source": [
    "print(coherence_gsdmm_8)"
   ]
  },
  {
   "cell_type": "markdown",
   "id": "a6a44473",
   "metadata": {},
   "source": [
    "The Topic Coherence score has also reduced significantly. \n",
    "\n",
    "Let's proceed to create an overview from which to evaluate our 8 GSDMM Models."
   ]
  },
  {
   "cell_type": "markdown",
   "id": "13cd88d5",
   "metadata": {},
   "source": [
    "## 5.3. Evaluating GSDMM Models\n",
    "\n",
    "Let's create a plot of the Topic Coherence scores of the 8 models we've created. Let's see if that confirms our intuition that Model 3 and Model 5 are doing the best job of pulling out the Political content."
   ]
  },
  {
   "cell_type": "code",
   "execution_count": 159,
   "id": "2b411bd4",
   "metadata": {},
   "outputs": [],
   "source": [
    "gsdmm_coherence_scores = np.array([coherence_gsdmm, \n",
    "                                  coherence_gsdmm_2,\n",
    "                                  coherence_gsdmm_3,\n",
    "                                  coherence_gsdmm_4,\n",
    "                                  coherence_gsdmm_5,\n",
    "                                  coherence_gsdmm_6,\n",
    "                                  coherence_gsdmm_7,\n",
    "                                  coherence_gsdmm_8])"
   ]
  },
  {
   "cell_type": "code",
   "execution_count": 160,
   "id": "a8e09cfe",
   "metadata": {},
   "outputs": [],
   "source": [
    "gsdmm_coherence_scores = pd.DataFrame(gsdmm_coherence_scores, \n",
    "                                      columns=['coherence_score'])"
   ]
  },
  {
   "cell_type": "code",
   "execution_count": 162,
   "id": "f296c71d",
   "metadata": {},
   "outputs": [],
   "source": [
    "gsdmm_coherence_scores.set_index(pd.Index(np.arange(1,9)), inplace=True)"
   ]
  },
  {
   "cell_type": "code",
   "execution_count": 163,
   "id": "090acd1e",
   "metadata": {},
   "outputs": [
    {
     "data": {
      "text/html": [
       "<div>\n",
       "<style scoped>\n",
       "    .dataframe tbody tr th:only-of-type {\n",
       "        vertical-align: middle;\n",
       "    }\n",
       "\n",
       "    .dataframe tbody tr th {\n",
       "        vertical-align: top;\n",
       "    }\n",
       "\n",
       "    .dataframe thead th {\n",
       "        text-align: right;\n",
       "    }\n",
       "</style>\n",
       "<table border=\"1\" class=\"dataframe\">\n",
       "  <thead>\n",
       "    <tr style=\"text-align: right;\">\n",
       "      <th></th>\n",
       "      <th>coherence_score</th>\n",
       "    </tr>\n",
       "  </thead>\n",
       "  <tbody>\n",
       "    <tr>\n",
       "      <th>1</th>\n",
       "      <td>0.626107</td>\n",
       "    </tr>\n",
       "    <tr>\n",
       "      <th>2</th>\n",
       "      <td>0.693412</td>\n",
       "    </tr>\n",
       "    <tr>\n",
       "      <th>3</th>\n",
       "      <td>0.773895</td>\n",
       "    </tr>\n",
       "    <tr>\n",
       "      <th>4</th>\n",
       "      <td>0.706780</td>\n",
       "    </tr>\n",
       "    <tr>\n",
       "      <th>5</th>\n",
       "      <td>0.754537</td>\n",
       "    </tr>\n",
       "    <tr>\n",
       "      <th>6</th>\n",
       "      <td>0.720385</td>\n",
       "    </tr>\n",
       "    <tr>\n",
       "      <th>7</th>\n",
       "      <td>0.720511</td>\n",
       "    </tr>\n",
       "    <tr>\n",
       "      <th>8</th>\n",
       "      <td>0.653474</td>\n",
       "    </tr>\n",
       "  </tbody>\n",
       "</table>\n",
       "</div>"
      ],
      "text/plain": [
       "   coherence_score\n",
       "1         0.626107\n",
       "2         0.693412\n",
       "3         0.773895\n",
       "4         0.706780\n",
       "5         0.754537\n",
       "6         0.720385\n",
       "7         0.720511\n",
       "8         0.653474"
      ]
     },
     "execution_count": 163,
     "metadata": {},
     "output_type": "execute_result"
    }
   ],
   "source": [
    "gsdmm_coherence_scores"
   ]
  },
  {
   "cell_type": "code",
   "execution_count": 164,
   "id": "3a55f8c9",
   "metadata": {},
   "outputs": [
    {
     "data": {
      "image/png": "[encoded data removed]",
      "text/plain": [
       "<Figure size 864x432 with 1 Axes>"
      ]
     },
     "metadata": {
      "needs_background": "light"
     },
     "output_type": "display_data"
    }
   ],
   "source": [
    "fig, ax = plt.subplots(figsize=(12,6))\n",
    "plt.plot(gsdmm_coherence_scores.index, gsdmm_coherence_scores.coherence_score)\n",
    "plt.ylabel('Coherence Score')\n",
    "plt.xlabel('Model #')\n",
    "plt.title('Coherence Scores per GSDMM Model');"
   ]
  },
  {
   "cell_type": "markdown",
   "id": "c2a383b6",
   "metadata": {},
   "source": [
    "Models 3 and 5 seem to perform the best in terms of Topic Coherence.\n",
    "\n",
    "\n",
    "That's interesting because Model 3 has just out-of-the-box hyperparameters (alpha, beta) but a higher number of initial topics (30). This means it's woryth trying the hyperparameter settings of Model 5 with the number of topics of Model 3. See if that gives us even better Topic Coherence.\n",
    "\n",
    "But **more importantly**: Does this align with our human, eye-balling analysis?\n",
    "\n"
   ]
  },
  {
   "cell_type": "markdown",
   "id": "e1fde053",
   "metadata": {},
   "source": [
    "### 5.3.1. - GSDMM Model - Trial 9"
   ]
  },
  {
   "cell_type": "code",
   "execution_count": 118,
   "id": "21c5b1eb",
   "metadata": {},
   "outputs": [],
   "source": [
    "gsdmm_9 = MovieGroupProcess(K=30, alpha=0.4, beta=1, n_iters=25)"
   ]
  },
  {
   "cell_type": "code",
   "execution_count": 119,
   "id": "ec38223a",
   "metadata": {},
   "outputs": [
    {
     "name": "stdout",
     "output_type": "stream",
     "text": [
      "In stage 0: transferred 95956 clusters with 30 clusters populated\n",
      "In stage 1: transferred 32082 clusters with 30 clusters populated\n",
      "In stage 2: transferred 5158 clusters with 20 clusters populated\n",
      "In stage 3: transferred 4226 clusters with 12 clusters populated\n",
      "In stage 4: transferred 3879 clusters with 12 clusters populated\n",
      "In stage 5: transferred 3825 clusters with 11 clusters populated\n",
      "In stage 6: transferred 3765 clusters with 11 clusters populated\n",
      "In stage 7: transferred 3805 clusters with 11 clusters populated\n",
      "In stage 8: transferred 3732 clusters with 10 clusters populated\n",
      "In stage 9: transferred 3805 clusters with 11 clusters populated\n",
      "In stage 10: transferred 3816 clusters with 10 clusters populated\n",
      "In stage 11: transferred 3709 clusters with 10 clusters populated\n",
      "In stage 12: transferred 3752 clusters with 10 clusters populated\n",
      "In stage 13: transferred 3758 clusters with 10 clusters populated\n",
      "In stage 14: transferred 3794 clusters with 12 clusters populated\n",
      "In stage 15: transferred 3842 clusters with 11 clusters populated\n",
      "In stage 16: transferred 3768 clusters with 12 clusters populated\n",
      "In stage 17: transferred 3749 clusters with 12 clusters populated\n",
      "In stage 18: transferred 3868 clusters with 11 clusters populated\n",
      "In stage 19: transferred 3779 clusters with 12 clusters populated\n",
      "In stage 20: transferred 3827 clusters with 12 clusters populated\n",
      "In stage 21: transferred 3707 clusters with 10 clusters populated\n",
      "In stage 22: transferred 3741 clusters with 11 clusters populated\n",
      "In stage 23: transferred 3775 clusters with 11 clusters populated\n",
      "In stage 24: transferred 3740 clusters with 10 clusters populated\n",
      "CPU times: user 51min 17s, sys: 41 s, total: 51min 59s\n",
      "Wall time: 52min 1s\n"
     ]
    }
   ],
   "source": [
    "%%time\n",
    "y_9 = gsdmm_9.fit(docs_sample, sample_vocab_length)"
   ]
  },
  {
   "cell_type": "code",
   "execution_count": 142,
   "id": "7c67e9d6",
   "metadata": {},
   "outputs": [
    {
     "name": "stdout",
     "output_type": "stream",
     "text": [
      "Number of documents per topic : [    0   614     0     0     0    92     0     0  1617     0   740     0\n",
      "   135     0     0     0   720     0     0     0     0     0     0 20891\n",
      " 36784     0     0     0  3260 35147]\n",
      "********************\n",
      "Most important clusters (by number of docs inside): [24 29 23 28  8 10 16  1 12  5]\n"
     ]
    }
   ],
   "source": [
    "doc_count_9 = np.array(gsdmm_9.cluster_doc_count)\n",
    "print('Number of documents per topic :', doc_count_9)\n",
    "print('*'*20)\n",
    "\n",
    "# Topics sorted by the number of document they are allocated to\n",
    "top_index_9 = doc_count_9.argsort()[-10:][::-1]\n",
    "print('Most important clusters (by number of docs inside):', top_index_9)"
   ]
  },
  {
   "cell_type": "code",
   "execution_count": 143,
   "id": "ef75bc98",
   "metadata": {
    "scrolled": true
   },
   "outputs": [
    {
     "name": "stdout",
     "output_type": "stream",
     "text": [
      "\n",
      "Cluster 24 : [('اللَّه_1', 8700), ('قَلْب_3', 4395), ('لِ_1', 3716), ('أَنَّ_1', 3126), ('اللّٰهُمَّ_1', 2884), ('رَبّ_1', 2845), ('أَنا_1', 2816), ('قال-u_1', 2509), ('خَيْر_1', 2292), ('أَنْتَ_1', 2245), ('لَيّ_1', 2138), ('أَحَبّ_1', 2086), ('حُبّ_1', 2056), ('حَياة_1', 2027), ('كان_1', 1878), ('شَيْء_1', 1732), ('كُلّ_1', 1594), ('ناس_1', 1563), ('نَفْس_1', 1422), ('دَعْم_1', 1355)]\n",
      "\n",
      "Cluster 29 : [('الله_1_0', 5516), ('دعم_1_0', 2866), ('قروب_0_0', 2730), ('ل_1_0', 2597), ('قلب_3_0', 2387), ('رب_1_0', 1704), ('أنا_1_0', 1680), ('أن_1_0', 1672), ('لي_1_0', 1537), ('قال-u_1_0', 1518), ('اللهم_1_0', 1505), ('خير_1_0', 1429), ('حياة_1_0', 1416), ('أنت_1_0', 1362), ('سعودي_1_0', 1302), ('كان_1_0', 1245), ('أحب_1_0', 1230), ('كل_1_0', 1158), ('حب_1_0', 1151), ('من_1_0', 1143)]\n",
      "\n",
      "Cluster 23 : [('سَعُودِيّ_1', 1628), ('رِياض_1', 1018), ('اللَّه_1', 1013), ('قَطَر_1', 989), ('عَرَبِيّ_1', 965), ('هِلال_3', 906), ('أَمارَة_1', 868), ('مُحَمَّد_1', 837), ('جَدِيد_1', 758), ('دَوْلَة_1', 728), ('رَئِيس_1', 715), ('سُودان_1', 713), ('سِعْر_1', 649), ('أَهْلِيّ_1', 631), ('ال_1', 628), ('عَمَل_1', 620), ('بَلَد_1', 610), ('حِساب_2', 597), ('لِيبِيا_1', 597), ('ساعَة_1', 593)]\n",
      "\n",
      "Cluster 28 : [('سكس_0', 4876), ('لَم_1', 1140), ('فِيلْم_1', 996), ('نِيّ_1', 932), ('قَحْبَة_1', 801), ('خَلْفَ_1', 756), ('شَرْمُوطَة_2', 740), ('رابَط_1', 622), ('ممحونه_0', 575), ('مربربه_0', 440), ('حَلّ_1', 417), ('خَلِيجِيّ_2', 412), ('سِحاق_1', 408), ('سَعُودِيّ_1', 406), ('كسها_0', 393), ('مَصّ_2', 391), ('أَثار_1', 384), ('عَنِيف_1', 378), ('زُبّ_1', 377), ('جِنْس_1', 365)]\n",
      "\n",
      "Cluster 8 : [('قرض_1_0', 1678), ('تسديد_1_0', 1549), ('أهلي_1_0', 1074), ('بنك_1_0', 1014), ('راجحي_1_0', 991), ('رياض_1_0', 793), ('سداد_1_0', 656), ('متعثر_1_0', 536), ('راتب_1_0', 521), ('سامبا_1_0', 507), ('عربي_1_0', 465), ('إنماء_1_0', 447), ('بلد_1_0', 436), ('طريق_1_0', 383), ('شرعية_1_0', 370), ('سمة_1_0', 347), ('أبو_1_0', 263), ('جميع_1_0', 250), ('قرض_2_0', 221), ('سم_1_0', 209)]\n",
      "\n",
      "Cluster 10 : [('سوريا_1_0', 352), ('ريف_1_0', 342), ('حلب_1_0', 209), ('طيران_1_0', 200), ('ٱستهدف_1_0', 190), ('مدينة_1_0', 184), ('قوة_1_0', 169), ('أسد_1_0', 161), ('دمشق_1_0', 161), ('قصف_1_0', 133), ('غارة_1_0', 129), ('شرقي_1_0', 128), ('ثائر_2_0', 118), ('غوطة_1_0', 112), ('بلد_1_0', 110), ('جوي_1_0', 108), ('نظام_1_0', 107), ('حي_3_0', 94), ('روسي_1_0', 91), ('ادلب_0_0', 89)]\n",
      "\n",
      "Cluster 16 : [('شَرِكَة_1', 941), ('رِياض_1', 819), ('تَنْظِيف_1', 801), ('قَرْض_1', 382), ('نَقْل_1', 285), ('تَسْدِيد_1', 278), ('بَنْك_1', 278), ('سَداد_1', 214), ('أَهْلِيّ_1', 201), ('أَثاث_1', 170), ('عَفْش_1', 159), ('راجِحِيّ_1', 156), ('مُكافَحَة_1', 151), ('مَجْلِس_1', 150), ('مُتَعَثِّر_1', 140), ('راتِب_1', 140), ('شَقَّة_1', 134), ('خَزّان_1', 127), ('فَلَّل_1', 123), ('مُكَيِّفات_1', 118)]\n",
      "\n",
      "Cluster 1 : [('تنظيف_1_0', 673), ('شركة_1_0', 571), ('ماء_1_0', 446), ('رياض_1_0', 405), ('خزان_1_0', 359), ('كشف-i_1_0', 326), ('عزل_1_0', 319), ('تسرب_1_0', 285), ('سطح_2_0', 222), ('مكافحة_1_0', 210), ('حشرة_1_0', 175), ('غسيل_1_0', 160), ('مجلس_1_0', 149), ('عازلة_1_0', 147), ('شقة_1_0', 136), ('نقل_1_0', 135), ('حمام_1_0', 132), ('منزل_1_0', 130), ('فلل_1_0', 130), ('ضمان_1_0', 127)]\n",
      "\n",
      "Cluster 12 : [('عَزْل_1', 284), ('ماء_1', 191), ('كَشَف-i_1', 185), ('تَسَرُّب_1', 163), ('سَطْح_2', 148), ('خَزّان_1', 110), ('مُبَلَّط_1', 59), ('حَمّام_1', 58), ('حَلّ_1', 51), ('ٱِرْتِفاع_1', 51), ('فاتُورَة_1', 49), ('عازِلَة_1', 38), ('شَرِكَة_1', 36), ('رِياض_1', 36), ('ضَمان_1', 36), ('دُون_1', 32), ('تَكْسِير_1', 31), ('فُوم_1', 31), ('مَطْبَخ_1', 28), ('حَرارِيّ_1', 28)]\n",
      "\n",
      "Cluster 5 : [('تَمْوِيل_1', 175), ('حَتَّى_1', 153), ('قَرْض_2', 132), ('كَفِيل_2', 109), ('شَرْعِيّ_1', 87), ('خَصْم_1', 79), ('دُون_1', 79), ('أَعْطَى_1', 66), ('يبدء_0', 65), ('شَخْصِيّ_1', 58), ('سدادالمبكر_0', 33), ('سَداد_1', 24), ('مُبَكِّر_1', 21), ('جَمِيع_1', 19), ('طَلَب_2', 18), ('مِنْطَقَة_1', 18), ('المملكهتقدم_0', 11), ('شخصيبدون_0', 8), ('تَقَدَّم_1', 7), ('مَمْلَكَة_1', 7)]\n"
     ]
    }
   ],
   "source": [
    "# get top words in topics\n",
    "top_words(gsdmm_9.cluster_word_distribution, top_index_9, 20)"
   ]
  },
  {
   "cell_type": "markdown",
   "id": "a7abff43",
   "metadata": {},
   "source": [
    "### Analysis\n",
    "\n",
    "- Topic 0: Spiritual / Religious / Stopwords\n",
    "- Topic 1: Spiritual / Religious / Stopwords\n",
    "- Topic 2: Political: Saudi, Emirates, Arab, Qatar, President\n",
    "- Topic 3: Sexual\n",
    "- Topic 4: Financial\n",
    "- Topic 5: Political: Syria, Tehran, Damascus, Bombing, Regime\n",
    "- Topic 6: Commercial / Domestic Services\n",
    "- Topic 7: Commercial / Domestic Services\n",
    "- Topic 8: Commercial / Domestic Services\n",
    "- Topic 9: Financial / Commercial"
   ]
  },
  {
   "cell_type": "code",
   "execution_count": 165,
   "id": "b24eb2eb",
   "metadata": {},
   "outputs": [],
   "source": [
    "# get topics to feed to coherence model\n",
    "topics_sample_9 = get_topics_lists(gsdmm_9, top_index_9, 20) "
   ]
  },
  {
   "cell_type": "code",
   "execution_count": 166,
   "id": "3fd05558",
   "metadata": {},
   "outputs": [
    {
     "name": "stdout",
     "output_type": "stream",
     "text": [
      "CPU times: user 3.65 s, sys: 2.16 s, total: 5.81 s\n",
      "Wall time: 29.4 s\n"
     ]
    }
   ],
   "source": [
    "%%time\n",
    "# evaluate model using Topic Coherence score\n",
    "cm_gsdmm_9 = CoherenceModel(topics=topics_sample_9, \n",
    "                            dictionary=dictionary_sample, \n",
    "                            corpus=bow_corpus_sample, \n",
    "                            texts=docs_sample, \n",
    "                            coherence='c_v')\n",
    "\n",
    "# get coherence value\n",
    "coherence_gsdmm_9 = cm_gsdmm_9.get_coherence()  "
   ]
  },
  {
   "cell_type": "code",
   "execution_count": 167,
   "id": "33f6b80f",
   "metadata": {},
   "outputs": [
    {
     "name": "stdout",
     "output_type": "stream",
     "text": [
      "0.751324726068612\n"
     ]
    }
   ],
   "source": [
    "print(coherence_gsdmm_9)"
   ]
  },
  {
   "cell_type": "markdown",
   "id": "ce20e50d",
   "metadata": {},
   "source": [
    "This model has a similar Topic Coherence score to Models 3 and 5. Like Model 5, it has reduced the data down to **10 clusters**. This seems a lot more manageable than the **23 clusters** identified by Model 3, especially since we can't see any clear improvement in the categorisation of distinctly political tweets.\n",
    "\n",
    "> It is also worth noting that the Topic Coherence scores of **ALL** GSDMM Models exceed those of even the best-performing LDA models. This is reason enough to **opt for GSDMM as our topic-modelling approach moving forward**.\n",
    "\n",
    "### Conclusion\n",
    "We will proceed with **Model 9 as our model of choice**. That means we will use these settings to run the model on the entire dataset:\n",
    "- K = 30\n",
    "- alpha = 0.4\n",
    "- beta = 0.8\n",
    "- n_iters = 12"
   ]
  },
  {
   "cell_type": "markdown",
   "id": "df2338cf",
   "metadata": {},
   "source": [
    "## 5.4. Run Best GSDMM on Full Dataset\n",
    "\n",
    "We have used a subset of our dataset of unique tweets to get a sense of which hyperparameter settings work best for the GSDMM model.\n",
    "\n",
    "Now that we have an idea what the optimal settings are, we can proceed to run a GSDMM with these settings on the entire dataset of 6+ million unique tweets.\n",
    "\n",
    "It would be great if we could parallelize this operation, but unfortunately \"the sampling process of GSDMM is strictly sequential and can not be parallelized.\" ([reference](https://ojs.aaai.org/index.php/AAAI/article/view/4325/4203)). The article referenced here mentions an X-DMM model that does work in distributed processes but I have not found an open-source library that can run it."
   ]
  },
  {
   "cell_type": "code",
   "execution_count": 15,
   "id": "32627758",
   "metadata": {},
   "outputs": [],
   "source": [
    "# initialize GSDMM\n",
    "gsdmm_full = MovieGroupProcess(K=30, alpha=0.4, beta=0.8, n_iters=12)"
   ]
  },
  {
   "cell_type": "code",
   "execution_count": 18,
   "id": "a64d18f1",
   "metadata": {},
   "outputs": [
    {
     "name": "stdout",
     "output_type": "stream",
     "text": [
      "In stage 0: transferred 5928812 clusters with 30 clusters populated\n",
      "In stage 1: transferred 2690525 clusters with 30 clusters populated\n",
      "In stage 2: transferred 1118296 clusters with 30 clusters populated\n",
      "In stage 3: transferred 1028522 clusters with 30 clusters populated\n",
      "In stage 4: transferred 990903 clusters with 30 clusters populated\n",
      "In stage 5: transferred 902197 clusters with 30 clusters populated\n",
      "In stage 6: transferred 869036 clusters with 30 clusters populated\n",
      "In stage 7: transferred 814484 clusters with 30 clusters populated\n",
      "In stage 8: transferred 787908 clusters with 30 clusters populated\n"
     ]
    },
    {
     "ename": "KeyboardInterrupt",
     "evalue": "",
     "output_type": "error",
     "traceback": [
      "\u001b[0;31m---------------------------------------------------------------------------\u001b[0m",
      "\u001b[0;31mKeyboardInterrupt\u001b[0m                         Traceback (most recent call last)",
      "\u001b[0;32m<timed exec>\u001b[0m in \u001b[0;36m<module>\u001b[0;34m\u001b[0m\n",
      "\u001b[0;32m~/miniconda3/envs/cap3-topic-modelling/lib/python3.8/site-packages/gsdmm/mgp.py\u001b[0m in \u001b[0;36mfit\u001b[0;34m(self, docs, vocab_size)\u001b[0m\n\u001b[1;32m    129\u001b[0m \u001b[0;34m\u001b[0m\u001b[0m\n\u001b[1;32m    130\u001b[0m                 \u001b[0;31m# draw sample from distribution to find new cluster\u001b[0m\u001b[0;34m\u001b[0m\u001b[0;34m\u001b[0m\u001b[0;34m\u001b[0m\u001b[0m\n\u001b[0;32m--> 131\u001b[0;31m                 \u001b[0mp\u001b[0m \u001b[0;34m=\u001b[0m \u001b[0mself\u001b[0m\u001b[0;34m.\u001b[0m\u001b[0mscore\u001b[0m\u001b[0;34m(\u001b[0m\u001b[0mdoc\u001b[0m\u001b[0;34m)\u001b[0m\u001b[0;34m\u001b[0m\u001b[0;34m\u001b[0m\u001b[0m\n\u001b[0m\u001b[1;32m    132\u001b[0m                 \u001b[0mz_new\u001b[0m \u001b[0;34m=\u001b[0m \u001b[0mself\u001b[0m\u001b[0;34m.\u001b[0m\u001b[0m_sample\u001b[0m\u001b[0;34m(\u001b[0m\u001b[0mp\u001b[0m\u001b[0;34m)\u001b[0m\u001b[0;34m\u001b[0m\u001b[0;34m\u001b[0m\u001b[0m\n\u001b[1;32m    133\u001b[0m \u001b[0;34m\u001b[0m\u001b[0m\n",
      "\u001b[0;32m~/miniconda3/envs/cap3-topic-modelling/lib/python3.8/site-packages/gsdmm/mgp.py\u001b[0m in \u001b[0;36mscore\u001b[0;34m(self, doc)\u001b[0m\n\u001b[1;32m    185\u001b[0m             \u001b[0mlD2\u001b[0m \u001b[0;34m=\u001b[0m \u001b[0;36m0\u001b[0m\u001b[0;34m\u001b[0m\u001b[0;34m\u001b[0m\u001b[0m\n\u001b[1;32m    186\u001b[0m             \u001b[0;32mfor\u001b[0m \u001b[0mword\u001b[0m \u001b[0;32min\u001b[0m \u001b[0mdoc\u001b[0m\u001b[0;34m:\u001b[0m\u001b[0;34m\u001b[0m\u001b[0;34m\u001b[0m\u001b[0m\n\u001b[0;32m--> 187\u001b[0;31m                 \u001b[0mlN2\u001b[0m \u001b[0;34m+=\u001b[0m \u001b[0mlog\u001b[0m\u001b[0;34m(\u001b[0m\u001b[0mn_z_w\u001b[0m\u001b[0;34m[\u001b[0m\u001b[0mlabel\u001b[0m\u001b[0;34m]\u001b[0m\u001b[0;34m.\u001b[0m\u001b[0mget\u001b[0m\u001b[0;34m(\u001b[0m\u001b[0mword\u001b[0m\u001b[0;34m,\u001b[0m \u001b[0;36m0\u001b[0m\u001b[0;34m)\u001b[0m \u001b[0;34m+\u001b[0m \u001b[0mbeta\u001b[0m\u001b[0;34m)\u001b[0m\u001b[0;34m\u001b[0m\u001b[0;34m\u001b[0m\u001b[0m\n\u001b[0m\u001b[1;32m    188\u001b[0m             \u001b[0;32mfor\u001b[0m \u001b[0mj\u001b[0m \u001b[0;32min\u001b[0m \u001b[0mrange\u001b[0m\u001b[0;34m(\u001b[0m\u001b[0;36m1\u001b[0m\u001b[0;34m,\u001b[0m \u001b[0mdoc_size\u001b[0m \u001b[0;34m+\u001b[0m\u001b[0;36m1\u001b[0m\u001b[0;34m)\u001b[0m\u001b[0;34m:\u001b[0m\u001b[0;34m\u001b[0m\u001b[0;34m\u001b[0m\u001b[0m\n\u001b[1;32m    189\u001b[0m                 \u001b[0mlD2\u001b[0m \u001b[0;34m+=\u001b[0m \u001b[0mlog\u001b[0m\u001b[0;34m(\u001b[0m\u001b[0mn_z\u001b[0m\u001b[0;34m[\u001b[0m\u001b[0mlabel\u001b[0m\u001b[0;34m]\u001b[0m \u001b[0;34m+\u001b[0m \u001b[0mV\u001b[0m \u001b[0;34m*\u001b[0m \u001b[0mbeta\u001b[0m \u001b[0;34m+\u001b[0m \u001b[0mj\u001b[0m \u001b[0;34m-\u001b[0m \u001b[0;36m1\u001b[0m\u001b[0;34m)\u001b[0m\u001b[0;34m\u001b[0m\u001b[0;34m\u001b[0m\u001b[0m\n",
      "\u001b[0;31mKeyboardInterrupt\u001b[0m: "
     ]
    }
   ],
   "source": [
    "%%time\n",
    "y_full = gsdmm_full.fit(docs, vocab_length)"
   ]
  },
  {
   "cell_type": "markdown",
   "id": "3d05352e",
   "metadata": {},
   "source": [
    "Hmm. After 9 iterations there are still 30 clusters, no reduction. **That took almost 18 hours to run.**\n",
    "\n",
    "Two options:\n",
    "- We need different alpha and beta settings to converge faster\n",
    "- The model is recognizing more clusters due to the higher number of tweets included.\n",
    "\n",
    "Let's begin by just increasing the number of topics to 50 to see if that will reduce faster (within the first 4-6 iterations at least)."
   ]
  },
  {
   "cell_type": "code",
   "execution_count": 15,
   "id": "34e00ba5",
   "metadata": {},
   "outputs": [],
   "source": [
    "# initialize GSDMM\n",
    "gsdmm_full_2 = MovieGroupProcess(K=50, alpha=0.4, beta=0.8, n_iters=12)"
   ]
  },
  {
   "cell_type": "code",
   "execution_count": 16,
   "id": "a564c2e6",
   "metadata": {},
   "outputs": [
    {
     "name": "stdout",
     "output_type": "stream",
     "text": [
      "In stage 0: transferred 6014196 clusters with 50 clusters populated\n",
      "In stage 1: transferred 2626778 clusters with 50 clusters populated\n"
     ]
    },
    {
     "ename": "KeyboardInterrupt",
     "evalue": "",
     "output_type": "error",
     "traceback": [
      "\u001b[0;31m---------------------------------------------------------------------------\u001b[0m",
      "\u001b[0;31mKeyboardInterrupt\u001b[0m                         Traceback (most recent call last)",
      "\u001b[0;32m<timed exec>\u001b[0m in \u001b[0;36m<module>\u001b[0;34m\u001b[0m\n",
      "\u001b[0;32m~/miniconda3/envs/cap3-topic-modelling/lib/python3.8/site-packages/gsdmm/mgp.py\u001b[0m in \u001b[0;36mfit\u001b[0;34m(self, docs, vocab_size)\u001b[0m\n\u001b[1;32m    129\u001b[0m \u001b[0;34m\u001b[0m\u001b[0m\n\u001b[1;32m    130\u001b[0m                 \u001b[0;31m# draw sample from distribution to find new cluster\u001b[0m\u001b[0;34m\u001b[0m\u001b[0;34m\u001b[0m\u001b[0;34m\u001b[0m\u001b[0m\n\u001b[0;32m--> 131\u001b[0;31m                 \u001b[0mp\u001b[0m \u001b[0;34m=\u001b[0m \u001b[0mself\u001b[0m\u001b[0;34m.\u001b[0m\u001b[0mscore\u001b[0m\u001b[0;34m(\u001b[0m\u001b[0mdoc\u001b[0m\u001b[0;34m)\u001b[0m\u001b[0;34m\u001b[0m\u001b[0;34m\u001b[0m\u001b[0m\n\u001b[0m\u001b[1;32m    132\u001b[0m                 \u001b[0mz_new\u001b[0m \u001b[0;34m=\u001b[0m \u001b[0mself\u001b[0m\u001b[0;34m.\u001b[0m\u001b[0m_sample\u001b[0m\u001b[0;34m(\u001b[0m\u001b[0mp\u001b[0m\u001b[0;34m)\u001b[0m\u001b[0;34m\u001b[0m\u001b[0;34m\u001b[0m\u001b[0m\n\u001b[1;32m    133\u001b[0m \u001b[0;34m\u001b[0m\u001b[0m\n",
      "\u001b[0;32m~/miniconda3/envs/cap3-topic-modelling/lib/python3.8/site-packages/gsdmm/mgp.py\u001b[0m in \u001b[0;36mscore\u001b[0;34m(self, doc)\u001b[0m\n\u001b[1;32m    187\u001b[0m                 \u001b[0mlN2\u001b[0m \u001b[0;34m+=\u001b[0m \u001b[0mlog\u001b[0m\u001b[0;34m(\u001b[0m\u001b[0mn_z_w\u001b[0m\u001b[0;34m[\u001b[0m\u001b[0mlabel\u001b[0m\u001b[0;34m]\u001b[0m\u001b[0;34m.\u001b[0m\u001b[0mget\u001b[0m\u001b[0;34m(\u001b[0m\u001b[0mword\u001b[0m\u001b[0;34m,\u001b[0m \u001b[0;36m0\u001b[0m\u001b[0;34m)\u001b[0m \u001b[0;34m+\u001b[0m \u001b[0mbeta\u001b[0m\u001b[0;34m)\u001b[0m\u001b[0;34m\u001b[0m\u001b[0;34m\u001b[0m\u001b[0m\n\u001b[1;32m    188\u001b[0m             \u001b[0;32mfor\u001b[0m \u001b[0mj\u001b[0m \u001b[0;32min\u001b[0m \u001b[0mrange\u001b[0m\u001b[0;34m(\u001b[0m\u001b[0;36m1\u001b[0m\u001b[0;34m,\u001b[0m \u001b[0mdoc_size\u001b[0m \u001b[0;34m+\u001b[0m\u001b[0;36m1\u001b[0m\u001b[0;34m)\u001b[0m\u001b[0;34m:\u001b[0m\u001b[0;34m\u001b[0m\u001b[0;34m\u001b[0m\u001b[0m\n\u001b[0;32m--> 189\u001b[0;31m                 \u001b[0mlD2\u001b[0m \u001b[0;34m+=\u001b[0m \u001b[0mlog\u001b[0m\u001b[0;34m(\u001b[0m\u001b[0mn_z\u001b[0m\u001b[0;34m[\u001b[0m\u001b[0mlabel\u001b[0m\u001b[0;34m]\u001b[0m \u001b[0;34m+\u001b[0m \u001b[0mV\u001b[0m \u001b[0;34m*\u001b[0m \u001b[0mbeta\u001b[0m \u001b[0;34m+\u001b[0m \u001b[0mj\u001b[0m \u001b[0;34m-\u001b[0m \u001b[0;36m1\u001b[0m\u001b[0;34m)\u001b[0m\u001b[0;34m\u001b[0m\u001b[0;34m\u001b[0m\u001b[0m\n\u001b[0m\u001b[1;32m    190\u001b[0m             \u001b[0mp\u001b[0m\u001b[0;34m[\u001b[0m\u001b[0mlabel\u001b[0m\u001b[0;34m]\u001b[0m \u001b[0;34m=\u001b[0m \u001b[0mexp\u001b[0m\u001b[0;34m(\u001b[0m\u001b[0mlN1\u001b[0m \u001b[0;34m-\u001b[0m \u001b[0mlD1\u001b[0m \u001b[0;34m+\u001b[0m \u001b[0mlN2\u001b[0m \u001b[0;34m-\u001b[0m \u001b[0mlD2\u001b[0m\u001b[0;34m)\u001b[0m\u001b[0;34m\u001b[0m\u001b[0;34m\u001b[0m\u001b[0m\n\u001b[1;32m    191\u001b[0m \u001b[0;34m\u001b[0m\u001b[0m\n",
      "\u001b[0;31mKeyboardInterrupt\u001b[0m: "
     ]
    }
   ],
   "source": [
    "%%time\n",
    "y_full_2 = gsdmm_full_2.fit(docs, vocab_length)"
   ]
  },
  {
   "cell_type": "markdown",
   "id": "ad00eaa4",
   "metadata": {},
   "source": [
    "Pff, this is not very practical. **This takes more than 4 hours per iteration!**"
   ]
  },
  {
   "cell_type": "code",
   "execution_count": 17,
   "id": "df83db76",
   "metadata": {},
   "outputs": [],
   "source": [
    "# initialize GSDMM\n",
    "gsdmm_full_3 = MovieGroupProcess(K=30, alpha=0.4, beta=1, n_iters=12)"
   ]
  },
  {
   "cell_type": "code",
   "execution_count": 18,
   "id": "c5923b77",
   "metadata": {},
   "outputs": [
    {
     "name": "stdout",
     "output_type": "stream",
     "text": [
      "In stage 0: transferred 5930154 clusters with 30 clusters populated\n"
     ]
    },
    {
     "ename": "KeyboardInterrupt",
     "evalue": "",
     "output_type": "error",
     "traceback": [
      "\u001b[0;31m---------------------------------------------------------------------------\u001b[0m",
      "\u001b[0;31mKeyboardInterrupt\u001b[0m                         Traceback (most recent call last)",
      "\u001b[0;32m<ipython-input-18-6c1922cbf5cf>\u001b[0m in \u001b[0;36m<module>\u001b[0;34m\u001b[0m\n\u001b[0;32m----> 1\u001b[0;31m \u001b[0my_full_3\u001b[0m \u001b[0;34m=\u001b[0m \u001b[0mgsdmm_full_3\u001b[0m\u001b[0;34m.\u001b[0m\u001b[0mfit\u001b[0m\u001b[0;34m(\u001b[0m\u001b[0mdocs\u001b[0m\u001b[0;34m,\u001b[0m \u001b[0mvocab_length\u001b[0m\u001b[0;34m)\u001b[0m\u001b[0;34m\u001b[0m\u001b[0;34m\u001b[0m\u001b[0m\n\u001b[0m",
      "\u001b[0;32m~/miniconda3/envs/cap3-topic-modelling/lib/python3.8/site-packages/gsdmm/mgp.py\u001b[0m in \u001b[0;36mfit\u001b[0;34m(self, docs, vocab_size)\u001b[0m\n\u001b[1;32m    130\u001b[0m                 \u001b[0;31m# draw sample from distribution to find new cluster\u001b[0m\u001b[0;34m\u001b[0m\u001b[0;34m\u001b[0m\u001b[0;34m\u001b[0m\u001b[0m\n\u001b[1;32m    131\u001b[0m                 \u001b[0mp\u001b[0m \u001b[0;34m=\u001b[0m \u001b[0mself\u001b[0m\u001b[0;34m.\u001b[0m\u001b[0mscore\u001b[0m\u001b[0;34m(\u001b[0m\u001b[0mdoc\u001b[0m\u001b[0;34m)\u001b[0m\u001b[0;34m\u001b[0m\u001b[0;34m\u001b[0m\u001b[0m\n\u001b[0;32m--> 132\u001b[0;31m                 \u001b[0mz_new\u001b[0m \u001b[0;34m=\u001b[0m \u001b[0mself\u001b[0m\u001b[0;34m.\u001b[0m\u001b[0m_sample\u001b[0m\u001b[0;34m(\u001b[0m\u001b[0mp\u001b[0m\u001b[0;34m)\u001b[0m\u001b[0;34m\u001b[0m\u001b[0;34m\u001b[0m\u001b[0m\n\u001b[0m\u001b[1;32m    133\u001b[0m \u001b[0;34m\u001b[0m\u001b[0m\n\u001b[1;32m    134\u001b[0m                 \u001b[0;31m# transfer doc to the new cluster\u001b[0m\u001b[0;34m\u001b[0m\u001b[0;34m\u001b[0m\u001b[0;34m\u001b[0m\u001b[0m\n",
      "\u001b[0;32m~/miniconda3/envs/cap3-topic-modelling/lib/python3.8/site-packages/gsdmm/mgp.py\u001b[0m in \u001b[0;36m_sample\u001b[0;34m(p)\u001b[0m\n\u001b[1;32m     74\u001b[0m             \u001b[0mindex\u001b[0m \u001b[0mof\u001b[0m \u001b[0mrandomly\u001b[0m \u001b[0mselected\u001b[0m \u001b[0moutput\u001b[0m\u001b[0;34m\u001b[0m\u001b[0;34m\u001b[0m\u001b[0m\n\u001b[1;32m     75\u001b[0m         '''\n\u001b[0;32m---> 76\u001b[0;31m         \u001b[0;32mreturn\u001b[0m \u001b[0;34m[\u001b[0m\u001b[0mi\u001b[0m \u001b[0;32mfor\u001b[0m \u001b[0mi\u001b[0m\u001b[0;34m,\u001b[0m \u001b[0mentry\u001b[0m \u001b[0;32min\u001b[0m \u001b[0menumerate\u001b[0m\u001b[0;34m(\u001b[0m\u001b[0mmultinomial\u001b[0m\u001b[0;34m(\u001b[0m\u001b[0;36m1\u001b[0m\u001b[0;34m,\u001b[0m \u001b[0mp\u001b[0m\u001b[0;34m)\u001b[0m\u001b[0;34m)\u001b[0m \u001b[0;32mif\u001b[0m \u001b[0mentry\u001b[0m \u001b[0;34m!=\u001b[0m \u001b[0;36m0\u001b[0m\u001b[0;34m]\u001b[0m\u001b[0;34m[\u001b[0m\u001b[0;36m0\u001b[0m\u001b[0;34m]\u001b[0m\u001b[0;34m\u001b[0m\u001b[0;34m\u001b[0m\u001b[0m\n\u001b[0m\u001b[1;32m     77\u001b[0m \u001b[0;34m\u001b[0m\u001b[0m\n\u001b[1;32m     78\u001b[0m     \u001b[0;32mdef\u001b[0m \u001b[0mfit\u001b[0m\u001b[0;34m(\u001b[0m\u001b[0mself\u001b[0m\u001b[0;34m,\u001b[0m \u001b[0mdocs\u001b[0m\u001b[0;34m,\u001b[0m \u001b[0mvocab_size\u001b[0m\u001b[0;34m)\u001b[0m\u001b[0;34m:\u001b[0m\u001b[0;34m\u001b[0m\u001b[0;34m\u001b[0m\u001b[0m\n",
      "\u001b[0;31mKeyboardInterrupt\u001b[0m: "
     ]
    }
   ],
   "source": [
    "y_full_3 = gsdmm_full_3.fit(docs, vocab_length)"
   ]
  },
  {
   "cell_type": "markdown",
   "id": "4f8d5553",
   "metadata": {},
   "source": [
    "This is also taking more than **4 hours per iteration now**.\n",
    "\n",
    "We have to make a practical choice here. The deadline for this project is coming up and I simply don't have the time to let this run for 48hrs. \n",
    "\n",
    "I think we have to conclude that GSDMM is too inefficient to deal with the size of our dataset (at least in its Python iteration; the Github repo says that RUST version is much faster). We have to think of a work-around.\n",
    "\n",
    "We will do the following: we will take the output of our best LDA Model as our starting point. We will subset the LDA Clusters that are clearly or apparently political, deleting only those clusters that are **clearly junk**. This will give us a subset of **'mostly political'** tweets. We will then run GSDMM on this smaller subset to see if we can then pick out the **truly political** from that subset."
   ]
  },
  {
   "cell_type": "markdown",
   "id": "af0acb54",
   "metadata": {},
   "source": [
    "# 6. Assign Topic Labels to Tweets\n",
    "\n",
    "In this section, we assign the topic labels to all of the tweets in our Unique Tweets Dataset.\n",
    "\n",
    "We are working with the output of our 15-Topic LDA Model.\n",
    "\n",
    "As a reminder, below are the 15 Topics identified by this LDA Model and our 'First-Glance Analysis', copied from the end of Section 4."
   ]
  },
  {
   "cell_type": "code",
   "execution_count": 36,
   "id": "d21a6ed6",
   "metadata": {},
   "outputs": [
    {
     "name": "stdout",
     "output_type": "stream",
     "text": [
      "Topic: 0 \n",
      "Words: 0.000*\"أثاث_1_0\" + 0.000*\"أفريقيا_1_0\" + 0.000*\"سياسي_1_0\" + 0.000*\"مظلة_1_0\" + 0.000*\"حزام_1_0\" + 0.000*\"سكس_0_0\" + 0.000*\"شراء_1_0\" + 0.000*\"مستعمل_1_0\" + 0.000*\"عالمي_1_0\" + 0.000*\"زد_0_0\"\n",
      "Topic: 1 \n",
      "Words: 0.000*\"سِعْر_1\" + 0.000*\"واتس_0\" + 0.000*\"طَلَب_1\" + 0.000*\"رتويت_0\" + 0.000*\"تَواصُل_1\" + 0.000*\"عَمَل_1\" + 0.000*\"بَيْع_1\" + 0.000*\"مَوْقِع_1\" + 0.000*\"إِعْلان_1\" + 0.000*\"رَجُل_1\"\n",
      "Topic: 2 \n",
      "Words: 0.000*\"طَرِيق_1\" + 0.000*\"واحِد_1\" + 0.000*\"ٱِحْتاج_1\" + 0.000*\"آخَر_1\" + 0.000*\"قِيمَة_1\" + 0.000*\"فُرْصَة_1\" + 0.000*\"ٱِنْتَهَى_1\" + 0.000*\"نِهايَة_1\" + 0.000*\"نَظَر_1\" + 0.000*\"سِنّ_1\"\n",
      "Topic: 3 \n",
      "Words: 0.004*\"اللَّه_1\" + 0.001*\"قال-u_1\" + 0.001*\"ناس_1\" + 0.001*\"رَبّ_1\" + 0.001*\"اللّٰهُمَّ_1\" + 0.000*\"لِ_1\" + 0.000*\"رَحِم-a_1\" + 0.000*\"جَنَّة_1\" + 0.000*\"خَيْر_1\" + 0.000*\"حَمْد_2\"\n",
      "Topic: 4 \n",
      "Words: 0.001*\"لَيّ_1\" + 0.001*\"حُبّ_1\" + 0.000*\"قَلْب_3\" + 0.000*\"لَيْل_1\" + 0.000*\"أَنا_1\" + 0.000*\"عَيْن_3\" + 0.000*\"يِن_1\" + 0.000*\"بُعْد_1\" + 0.000*\"غِياب_1\" + 0.000*\"شَوْق_1\"\n",
      "Topic: 5 \n",
      "Words: 0.001*\"سَعُودِيّ_1\" + 0.000*\"مَلِك_2\" + 0.000*\"مِصْر_1\" + 0.000*\"مُحَمَّد_1\" + 0.000*\"شَعْب_1\" + 0.000*\"وَطَن_1\" + 0.000*\"ال_1\" + 0.000*\"عَبْداللّٰه_1\" + 0.000*\"أَمِير_2\" + 0.000*\"أَهَمّ_2\"\n",
      "Topic: 6 \n",
      "Words: 0.001*\"أَنا_1\" + 0.001*\"بَسّ-u_1\" + 0.001*\"مَشّ_1\" + 0.000*\"حَدّ_1\" + 0.000*\"أُمّ_1\" + 0.000*\"عُشّ_1\" + 0.000*\"إِيه_1\" + 0.000*\"كَدّ_1\" + 0.000*\"بِنْت_1\" + 0.000*\"ده_0\"\n",
      "Topic: 7 \n",
      "Words: 0.000*\"جَدِيد_1\" + 0.000*\"سَنَة_1\" + 0.000*\"دُون_1\" + 0.000*\"ماء_1\" + 0.000*\"بَنْك_1\" + 0.000*\"مُشْكِلَة_1\" + 0.000*\"مَن_1\" + 0.000*\"حَلّ_1\" + 0.000*\"عَسَل_1\" + 0.000*\"قَرْض_1\"\n",
      "Topic: 8 \n",
      "Words: 0.000*\"صُورَة_1\" + 0.000*\"رَمَضان_1\" + 0.000*\"شَهْر_1\" + 0.000*\"بَيْت_3\" + 0.000*\"أَبُو_1\" + 0.000*\"كِتاب_1\" + 0.000*\"عِيد_1\" + 0.000*\"أَحْمَد_1\" + 0.000*\"بَلَغ-u_1\" + 0.000*\"مُسَلْسَل_1\"\n",
      "Topic: 9 \n",
      "Words: 0.001*\"رِياض_1\" + 0.000*\"ساعَة_1\" + 0.000*\"أَفْضَل_2\" + 0.000*\"تَوْصِيل_1\" + 0.000*\"شَرِكَة_1\" + 0.000*\"نَوْم_1\" + 0.000*\"نَوْع_1\" + 0.000*\"مَجّان_1\" + 0.000*\"مَنْزِل_1\" + 0.000*\"جِدّ_1\"\n",
      "Topic: 10 \n",
      "Words: 0.000*\"هِلال_3\" + 0.000*\"أَهْلِيّ_1\" + 0.000*\"مَرَّة_1\" + 0.000*\"سَجَّل_1\" + 0.000*\"كَبِير_1\" + 0.000*\"نادِي_1\" + 0.000*\"كُرَة_1\" + 0.000*\"نَصْر_2\" + 0.000*\"جُمْهُور_1\" + 0.000*\"مُباراة_1\"\n",
      "Topic: 11 \n",
      "Words: 0.000*\"مَدِينَة_1\" + 0.000*\"قُوَّة_1\" + 0.000*\"حَقِيقَة_1\" + 0.000*\"بَلَد_1\" + 0.000*\"أَسَد_1\" + 0.000*\"حَقّ_2\" + 0.000*\"قام-u_1\" + 0.000*\"إِخْوَة_1\" + 0.000*\"أَمْن_1\" + 0.000*\"حُرّ_1\"\n",
      "Topic: 12 \n",
      "Words: 0.020*\"الله_1_0\" + 0.011*\"رياض_1_0\" + 0.009*\"ل_1_0\" + 0.008*\"قلب_3_0\" + 0.008*\"شركة_1_0\" + 0.007*\"دعم_1_0\" + 0.007*\"تنظيف_1_0\" + 0.007*\"أهلي_1_0\" + 0.006*\"رب_1_0\" + 0.006*\"سعودي_1_0\"\n",
      "Topic: 13 \n",
      "Words: 0.000*\"ٱِسْم_1\" + 0.000*\"حِساب_2\" + 0.000*\"طِفْل_1\" + 0.000*\"دِمَشْق_1\" + 0.000*\"ٱِسْتَحَقّ_1\" + 0.000*\"رِيف_1\" + 0.000*\"شُكْر_1\" + 0.000*\"تويتر_0\" + 0.000*\"سُورِيا_1\" + 0.000*\"دَعْم_1\"\n",
      "Topic: 14 \n",
      "Words: 0.001*\"أَنَّ_1\" + 0.001*\"لِ_1\" + 0.001*\"قَلْب_3\" + 0.001*\"أَنْتَ_1\" + 0.001*\"حَياة_1\" + 0.001*\"أَحَبّ_1\" + 0.001*\"كان_1\" + 0.001*\"كُلّ_1\" + 0.001*\"شَيْء_1\" + 0.001*\"نَفْس_1\"\n"
     ]
    }
   ],
   "source": [
    "# for each topic, print words occuring in that topic\n",
    "for idx, topic in lda_model_15.print_topics(-1):\n",
    "    print('Topic: {} \\nWords: {}'.format(idx, topic))"
   ]
  },
  {
   "cell_type": "markdown",
   "id": "6c715f4e",
   "metadata": {},
   "source": [
    "### First-Glance Analysis\n",
    "\n",
    "- Topic 0: Buy, Used, International, Africa, Political, Sex, Umbrella\n",
    "- Topic 1: Sell, Site, Announcement, Man, Price, WhatsApp, Order, Retweet, Deliver\n",
    "- Topic 2: End, Ending, Vision, Tooth, Road, Need, Last, Chance\n",
    "- Topic 3: Heaven, Good, Grace, People, Lord, God, Mercy\n",
    "- Topic 4: After, Absence, Love, Heart, Night, Eye\n",
    "- Topic 5: Abdallah, Prince, Saudi, Prince, King, Important, Egypt, Mohammed, People, Nation\n",
    "- Topic 6: Stop words\n",
    "- Topic 7: Solution, Honey, Loan, New, Year, Without, Water, Bank, Problem\n",
    "- Topic 8: TV series, Ahmed, Exaggerate, Picture, Ramadan, Month, House, Book, Holiday\n",
    "- Topic 9: Kind, House, Riyadh, Watch, Best, Deliver, Company, Sleep\n",
    "- Topic 10: Victory, Audience, Match, Universe, Civilian, Register / Score, Big, Club, Ball\n",
    "- Topic 11: Brothers, Security, Free, City, Force, Truth, Country, Asad, Truth\n",
    "- Topic 12: Cleaning, Civilian, Lord, Saudi, God, Riyadh, Heart, Company, Support\n",
    "- Topic 13: Twitter, Syria, Support, Name, Account, Kid, Damascus, Deserve, Thank you\n",
    "- Topic 14: stop words\n",
    "\n",
    "\n",
    "We've got at least two, maybe three political Topic showing up here: **Topic 5** and **Topic 11**. **Topic 13** also contains some political keywords. Maybe mixed in with some less relevant stuff?"
   ]
  },
  {
   "cell_type": "markdown",
   "id": "7b5610f0",
   "metadata": {},
   "source": [
    "## 6.1. Inspecting Single Doc\n",
    "\n",
    "Let's see how this works for a single document."
   ]
  },
  {
   "cell_type": "code",
   "execution_count": 19,
   "id": "a3063d47",
   "metadata": {},
   "outputs": [
    {
     "data": {
      "text/plain": [
       "array(['عَسَل_1', 'عَبْد_1', 'عَزِيز_1', 'عَسِيرِيّ_2', 'عَرْض_1',\n",
       "       'رَمَضانِيّ_1', 'كِيلُو_1', 'سِدْر_1', 'شَحْن_1', 'مَجّان_1',\n",
       "       'تَعَهَّد_1', 'أَقْسَم_1', 'عَسَل_1', 'سِدْر_1', 'طَبِيعِيّ_1',\n",
       "       'خالِي_1', 'ال_1'], dtype=object)"
      ]
     },
     "execution_count": 19,
     "metadata": {},
     "output_type": "execute_result"
    }
   ],
   "source": [
    "docs[1000]"
   ]
  },
  {
   "cell_type": "code",
   "execution_count": 26,
   "id": "aa16918f",
   "metadata": {},
   "outputs": [
    {
     "name": "stdout",
     "output_type": "stream",
     "text": [
      "\n",
      "Score: 0.493020236492157\t \n",
      "Topic: 0.000*\"جَدِيد_1\" + 0.000*\"سَنَة_1\" + 0.000*\"دُون_1\" + 0.000*\"ماء_1\" + 0.000*\"بَنْك_1\" + 0.000*\"مُشْكِلَة_1\" + 0.000*\"مَن_1\" + 0.000*\"حَلّ_1\" + 0.000*\"عَسَل_1\" + 0.000*\"قَرْض_1\" + 0.000*\"أَصْل_1\" + 0.000*\"عِلاج_1\" + 0.000*\"طَبِيعِيّ_1\" + 0.000*\"تَسْدِيد_1\" + 0.000*\"راتِب_1\" + 0.000*\"شَكْل_1\" + 0.000*\"ٱِتِّصال_1\" + 0.000*\"شِعْر_1\" + 0.000*\"سَداد_1\" + 0.000*\"خَسِر-a_1\"\n",
      "\n",
      "Score: 0.2396990805864334\t \n",
      "Topic: 0.004*\"اللَّه_1\" + 0.001*\"قال-u_1\" + 0.001*\"ناس_1\" + 0.001*\"رَبّ_1\" + 0.001*\"اللّٰهُمَّ_1\" + 0.000*\"لِ_1\" + 0.000*\"رَحِم-a_1\" + 0.000*\"جَنَّة_1\" + 0.000*\"خَيْر_1\" + 0.000*\"حَمْد_2\" + 0.000*\"ٱِسْتَغْفَر_1\" + 0.000*\"ذَكَر-u_1\" + 0.000*\"صَلاة_1\" + 0.000*\"وَلِي-i_1\" + 0.000*\"مات-u_1\" + 0.000*\"سَلَّم_1\" + 0.000*\"عَلَى_1\" + 0.000*\"مُسْلِم_1\" + 0.000*\"ذَنْب_1\" + 0.000*\"نَبِيّ_1\"\n",
      "\n",
      "Score: 0.14018359780311584\t \n",
      "Topic: 0.001*\"رِياض_1\" + 0.000*\"ساعَة_1\" + 0.000*\"أَفْضَل_2\" + 0.000*\"تَوْصِيل_1\" + 0.000*\"شَرِكَة_1\" + 0.000*\"نَوْم_1\" + 0.000*\"نَوْع_1\" + 0.000*\"مَجّان_1\" + 0.000*\"مَنْزِل_1\" + 0.000*\"جِدّ_1\" + 0.000*\"داخِل_1\" + 0.000*\"ضَمان_1\" + 0.000*\"بَيْت_1\" + 0.000*\"ٱِشْتَرَى_1\" + 0.000*\"زَعِيم_1\" + 0.000*\"ٱِتَّصَل_1\" + 0.000*\"مَمْلَكَة_1\" + 0.000*\"خارِج_1\" + 0.000*\"تَنْظِيف_1\" + 0.000*\"بَيْت_3\"\n",
      "\n",
      "Score: 0.07433658838272095\t \n",
      "Topic: 0.000*\"سِعْر_1\" + 0.000*\"واتس_0\" + 0.000*\"طَلَب_1\" + 0.000*\"رتويت_0\" + 0.000*\"تَواصُل_1\" + 0.000*\"عَمَل_1\" + 0.000*\"بَيْع_1\" + 0.000*\"مَوْقِع_1\" + 0.000*\"إِعْلان_1\" + 0.000*\"رَجُل_1\" + 0.000*\"تَسابّ_1\" + 0.000*\"تابَع_1\" + 0.000*\"آب_1\" + 0.000*\"خاصّ_1\" + 0.000*\"وَصَل-i_1\" + 0.000*\"رَبِح-a_1\" + 0.000*\"جَدّ_1\" + 0.000*\"عَرْض_1\" + 0.000*\"سَيّارَة_1\" + 0.000*\"تَمّ-i_1\"\n"
     ]
    }
   ],
   "source": [
    "for index, score in sorted(lda_model_15[bow_corpus[1000]], key=lambda tup: -1*tup[1]):\n",
    "    print(\"\\nScore: {}\\t \\nTopic: {}\".format(score, lda_model_15.print_topic(index, 20)))"
   ]
  },
  {
   "cell_type": "markdown",
   "id": "7c203e7a",
   "metadata": {},
   "source": [
    "This document is classified as predominantly \"Commercial\"."
   ]
  },
  {
   "cell_type": "markdown",
   "id": "32fa626b",
   "metadata": {},
   "source": [
    "## 6.2. Assigning Topic Labels"
   ]
  },
  {
   "cell_type": "code",
   "execution_count": 27,
   "id": "8cbb677a",
   "metadata": {},
   "outputs": [
    {
     "data": {
      "text/html": [
       "<div>\n",
       "<style scoped>\n",
       "    .dataframe tbody tr th:only-of-type {\n",
       "        vertical-align: middle;\n",
       "    }\n",
       "\n",
       "    .dataframe tbody tr th {\n",
       "        vertical-align: top;\n",
       "    }\n",
       "\n",
       "    .dataframe thead th {\n",
       "        text-align: right;\n",
       "    }\n",
       "</style>\n",
       "<table border=\"1\" class=\"dataframe\">\n",
       "  <thead>\n",
       "    <tr style=\"text-align: right;\">\n",
       "      <th></th>\n",
       "      <th>tweet_text</th>\n",
       "      <th>hashtags</th>\n",
       "      <th>is_retweet</th>\n",
       "      <th>retweet_tweetid</th>\n",
       "    </tr>\n",
       "    <tr>\n",
       "      <th>index</th>\n",
       "      <th></th>\n",
       "      <th></th>\n",
       "      <th></th>\n",
       "      <th></th>\n",
       "    </tr>\n",
       "  </thead>\n",
       "  <tbody>\n",
       "    <tr>\n",
       "      <th>0</th>\n",
       "      <td>[سَلام_1, عَلَى_1, رَحْمَة_1, اللَّه_1, بَرَكَ...</td>\n",
       "      <td>None</td>\n",
       "      <td>True</td>\n",
       "      <td>9.986493e+17</td>\n",
       "    </tr>\n",
       "    <tr>\n",
       "      <th>1</th>\n",
       "      <td>[تَأْجِير_1, بَيْع_1, النطيطات_0, زحاليق_0, ما...</td>\n",
       "      <td>[للتأجير, لبيع النطيطات, زحاليق مائيه صابونية,...</td>\n",
       "      <td>True</td>\n",
       "      <td>9.996373e+17</td>\n",
       "    </tr>\n",
       "    <tr>\n",
       "      <th>2</th>\n",
       "      <td>[مِظَلَّة_1, ساتِر_1, أُفُق_1, رِياض_1, مِظَلّ...</td>\n",
       "      <td>[مظلات, آفاق الرياض, مظلات استراحات, مظلات مسا...</td>\n",
       "      <td>True</td>\n",
       "      <td>9.993939e+17</td>\n",
       "    </tr>\n",
       "    <tr>\n",
       "      <th>3</th>\n",
       "      <td>[فِيدْيُو_1, شاهَد_1, مُواطِن_1, وَثِق-ia_1, ف...</td>\n",
       "      <td>None</td>\n",
       "      <td>True</td>\n",
       "      <td>9.983516e+17</td>\n",
       "    </tr>\n",
       "    <tr>\n",
       "      <th>4</th>\n",
       "      <td>[ٱِسْتَغْفَر_1, اللَّه_1, عَظِيم_2, تاب-u_1]</td>\n",
       "      <td>None</td>\n",
       "      <td>False</td>\n",
       "      <td>NaN</td>\n",
       "    </tr>\n",
       "  </tbody>\n",
       "</table>\n",
       "</div>"
      ],
      "text/plain": [
       "                                              tweet_text  \\\n",
       "index                                                      \n",
       "0      [سَلام_1, عَلَى_1, رَحْمَة_1, اللَّه_1, بَرَكَ...   \n",
       "1      [تَأْجِير_1, بَيْع_1, النطيطات_0, زحاليق_0, ما...   \n",
       "2      [مِظَلَّة_1, ساتِر_1, أُفُق_1, رِياض_1, مِظَلّ...   \n",
       "3      [فِيدْيُو_1, شاهَد_1, مُواطِن_1, وَثِق-ia_1, ف...   \n",
       "4           [ٱِسْتَغْفَر_1, اللَّه_1, عَظِيم_2, تاب-u_1]   \n",
       "\n",
       "                                                hashtags  is_retweet  \\\n",
       "index                                                                  \n",
       "0                                                   None        True   \n",
       "1      [للتأجير, لبيع النطيطات, زحاليق مائيه صابونية,...        True   \n",
       "2      [مظلات, آفاق الرياض, مظلات استراحات, مظلات مسا...        True   \n",
       "3                                                   None        True   \n",
       "4                                                   None       False   \n",
       "\n",
       "       retweet_tweetid  \n",
       "index                   \n",
       "0         9.986493e+17  \n",
       "1         9.996373e+17  \n",
       "2         9.993939e+17  \n",
       "3         9.983516e+17  \n",
       "4                  NaN  "
      ]
     },
     "execution_count": 27,
     "metadata": {},
     "output_type": "execute_result"
    }
   ],
   "source": [
    "df.head()"
   ]
  },
  {
   "cell_type": "code",
   "execution_count": 28,
   "id": "be9f0ece",
   "metadata": {},
   "outputs": [
    {
     "data": {
      "text/html": [
       "<div>\n",
       "<style scoped>\n",
       "    .dataframe tbody tr th:only-of-type {\n",
       "        vertical-align: middle;\n",
       "    }\n",
       "\n",
       "    .dataframe tbody tr th {\n",
       "        vertical-align: top;\n",
       "    }\n",
       "\n",
       "    .dataframe thead th {\n",
       "        text-align: right;\n",
       "    }\n",
       "</style>\n",
       "<table border=\"1\" class=\"dataframe\">\n",
       "  <thead>\n",
       "    <tr style=\"text-align: right;\">\n",
       "      <th></th>\n",
       "      <th>tweet_text</th>\n",
       "      <th>hashtags</th>\n",
       "      <th>is_retweet</th>\n",
       "      <th>retweet_tweetid</th>\n",
       "    </tr>\n",
       "  </thead>\n",
       "  <tbody>\n",
       "    <tr>\n",
       "      <th>0</th>\n",
       "      <td>[سَلام_1, عَلَى_1, رَحْمَة_1, اللَّه_1, بَرَكَ...</td>\n",
       "      <td>None</td>\n",
       "      <td>True</td>\n",
       "      <td>9.986493e+17</td>\n",
       "    </tr>\n",
       "    <tr>\n",
       "      <th>1</th>\n",
       "      <td>[تَأْجِير_1, بَيْع_1, النطيطات_0, زحاليق_0, ما...</td>\n",
       "      <td>[للتأجير, لبيع النطيطات, زحاليق مائيه صابونية,...</td>\n",
       "      <td>True</td>\n",
       "      <td>9.996373e+17</td>\n",
       "    </tr>\n",
       "    <tr>\n",
       "      <th>2</th>\n",
       "      <td>[مِظَلَّة_1, ساتِر_1, أُفُق_1, رِياض_1, مِظَلّ...</td>\n",
       "      <td>[مظلات, آفاق الرياض, مظلات استراحات, مظلات مسا...</td>\n",
       "      <td>True</td>\n",
       "      <td>9.993939e+17</td>\n",
       "    </tr>\n",
       "    <tr>\n",
       "      <th>3</th>\n",
       "      <td>[فِيدْيُو_1, شاهَد_1, مُواطِن_1, وَثِق-ia_1, ف...</td>\n",
       "      <td>None</td>\n",
       "      <td>True</td>\n",
       "      <td>9.983516e+17</td>\n",
       "    </tr>\n",
       "    <tr>\n",
       "      <th>4</th>\n",
       "      <td>[ٱِسْتَغْفَر_1, اللَّه_1, عَظِيم_2, تاب-u_1]</td>\n",
       "      <td>None</td>\n",
       "      <td>False</td>\n",
       "      <td>NaN</td>\n",
       "    </tr>\n",
       "  </tbody>\n",
       "</table>\n",
       "</div>"
      ],
      "text/plain": [
       "                                          tweet_text  \\\n",
       "0  [سَلام_1, عَلَى_1, رَحْمَة_1, اللَّه_1, بَرَكَ...   \n",
       "1  [تَأْجِير_1, بَيْع_1, النطيطات_0, زحاليق_0, ما...   \n",
       "2  [مِظَلَّة_1, ساتِر_1, أُفُق_1, رِياض_1, مِظَلّ...   \n",
       "3  [فِيدْيُو_1, شاهَد_1, مُواطِن_1, وَثِق-ia_1, ف...   \n",
       "4       [ٱِسْتَغْفَر_1, اللَّه_1, عَظِيم_2, تاب-u_1]   \n",
       "\n",
       "                                            hashtags  is_retweet  \\\n",
       "0                                               None        True   \n",
       "1  [للتأجير, لبيع النطيطات, زحاليق مائيه صابونية,...        True   \n",
       "2  [مظلات, آفاق الرياض, مظلات استراحات, مظلات مسا...        True   \n",
       "3                                               None        True   \n",
       "4                                               None       False   \n",
       "\n",
       "   retweet_tweetid  \n",
       "0     9.986493e+17  \n",
       "1     9.996373e+17  \n",
       "2     9.993939e+17  \n",
       "3     9.983516e+17  \n",
       "4              NaN  "
      ]
     },
     "execution_count": 28,
     "metadata": {},
     "output_type": "execute_result"
    }
   ],
   "source": [
    "df.reset_index(inplace=True, drop=True)\n",
    "df.head()"
   ]
  },
  {
   "cell_type": "markdown",
   "id": "b4a07e61",
   "metadata": {},
   "source": [
    "Let's define a function to get the topic labels.\n",
    "\n",
    "We will have to specify a minimum_probability; i.e. the minimum contribution of a topic to a document for the function to assign that label to that document."
   ]
  },
  {
   "cell_type": "code",
   "execution_count": 29,
   "id": "efd43f67",
   "metadata": {},
   "outputs": [],
   "source": [
    "# define function to get topics\n",
    "def get_topics_LDA_15(row):\n",
    "    index = int(row.name)\n",
    "    try:\n",
    "        topic = sorted(lda_model_15.get_document_topics(bow_corpus[index], minimum_probability=0.4), reverse=True)[0][0]\n",
    "        return topic\n",
    "    except:\n",
    "        return np.nan"
   ]
  },
  {
   "cell_type": "code",
   "execution_count": 30,
   "id": "b8f0dc40",
   "metadata": {},
   "outputs": [
    {
     "name": "stdout",
     "output_type": "stream",
     "text": [
      "CPU times: user 29min 17s, sys: 46.9 s, total: 30min 4s\n",
      "Wall time: 33min 57s\n"
     ]
    }
   ],
   "source": [
    "%%time\n",
    "df['topic'] = df.apply(get_topics_LDA_15, axis=1)"
   ]
  },
  {
   "cell_type": "code",
   "execution_count": 31,
   "id": "119099fb",
   "metadata": {},
   "outputs": [
    {
     "data": {
      "text/html": [
       "<div>\n",
       "<style scoped>\n",
       "    .dataframe tbody tr th:only-of-type {\n",
       "        vertical-align: middle;\n",
       "    }\n",
       "\n",
       "    .dataframe tbody tr th {\n",
       "        vertical-align: top;\n",
       "    }\n",
       "\n",
       "    .dataframe thead th {\n",
       "        text-align: right;\n",
       "    }\n",
       "</style>\n",
       "<table border=\"1\" class=\"dataframe\">\n",
       "  <thead>\n",
       "    <tr style=\"text-align: right;\">\n",
       "      <th></th>\n",
       "      <th>tweet_text</th>\n",
       "      <th>hashtags</th>\n",
       "      <th>is_retweet</th>\n",
       "      <th>retweet_tweetid</th>\n",
       "      <th>topic</th>\n",
       "    </tr>\n",
       "  </thead>\n",
       "  <tbody>\n",
       "    <tr>\n",
       "      <th>0</th>\n",
       "      <td>[سَلام_1, عَلَى_1, رَحْمَة_1, اللَّه_1, بَرَكَ...</td>\n",
       "      <td>None</td>\n",
       "      <td>True</td>\n",
       "      <td>9.986493e+17</td>\n",
       "      <td>NaN</td>\n",
       "    </tr>\n",
       "    <tr>\n",
       "      <th>1</th>\n",
       "      <td>[تَأْجِير_1, بَيْع_1, النطيطات_0, زحاليق_0, ما...</td>\n",
       "      <td>[للتأجير, لبيع النطيطات, زحاليق مائيه صابونية,...</td>\n",
       "      <td>True</td>\n",
       "      <td>9.996373e+17</td>\n",
       "      <td>NaN</td>\n",
       "    </tr>\n",
       "    <tr>\n",
       "      <th>2</th>\n",
       "      <td>[مِظَلَّة_1, ساتِر_1, أُفُق_1, رِياض_1, مِظَلّ...</td>\n",
       "      <td>[مظلات, آفاق الرياض, مظلات استراحات, مظلات مسا...</td>\n",
       "      <td>True</td>\n",
       "      <td>9.993939e+17</td>\n",
       "      <td>9.0</td>\n",
       "    </tr>\n",
       "    <tr>\n",
       "      <th>3</th>\n",
       "      <td>[فِيدْيُو_1, شاهَد_1, مُواطِن_1, وَثِق-ia_1, ف...</td>\n",
       "      <td>None</td>\n",
       "      <td>True</td>\n",
       "      <td>9.983516e+17</td>\n",
       "      <td>NaN</td>\n",
       "    </tr>\n",
       "    <tr>\n",
       "      <th>4</th>\n",
       "      <td>[ٱِسْتَغْفَر_1, اللَّه_1, عَظِيم_2, تاب-u_1]</td>\n",
       "      <td>None</td>\n",
       "      <td>False</td>\n",
       "      <td>NaN</td>\n",
       "      <td>3.0</td>\n",
       "    </tr>\n",
       "  </tbody>\n",
       "</table>\n",
       "</div>"
      ],
      "text/plain": [
       "                                          tweet_text  \\\n",
       "0  [سَلام_1, عَلَى_1, رَحْمَة_1, اللَّه_1, بَرَكَ...   \n",
       "1  [تَأْجِير_1, بَيْع_1, النطيطات_0, زحاليق_0, ما...   \n",
       "2  [مِظَلَّة_1, ساتِر_1, أُفُق_1, رِياض_1, مِظَلّ...   \n",
       "3  [فِيدْيُو_1, شاهَد_1, مُواطِن_1, وَثِق-ia_1, ف...   \n",
       "4       [ٱِسْتَغْفَر_1, اللَّه_1, عَظِيم_2, تاب-u_1]   \n",
       "\n",
       "                                            hashtags  is_retweet  \\\n",
       "0                                               None        True   \n",
       "1  [للتأجير, لبيع النطيطات, زحاليق مائيه صابونية,...        True   \n",
       "2  [مظلات, آفاق الرياض, مظلات استراحات, مظلات مسا...        True   \n",
       "3                                               None        True   \n",
       "4                                               None       False   \n",
       "\n",
       "   retweet_tweetid  topic  \n",
       "0     9.986493e+17    NaN  \n",
       "1     9.996373e+17    NaN  \n",
       "2     9.993939e+17    9.0  \n",
       "3     9.983516e+17    NaN  \n",
       "4              NaN    3.0  "
      ]
     },
     "execution_count": 31,
     "metadata": {},
     "output_type": "execute_result"
    }
   ],
   "source": [
    "df.head()"
   ]
  },
  {
   "cell_type": "code",
   "execution_count": 32,
   "id": "a973ea1a",
   "metadata": {},
   "outputs": [
    {
     "data": {
      "text/plain": [
       "1234749"
      ]
     },
     "execution_count": 32,
     "metadata": {},
     "output_type": "execute_result"
    }
   ],
   "source": [
    "df.topic.isnull().sum()"
   ]
  },
  {
   "cell_type": "code",
   "execution_count": 33,
   "id": "443a31a6",
   "metadata": {},
   "outputs": [
    {
     "data": {
      "text/plain": [
       "20.09099572829044"
      ]
     },
     "execution_count": 33,
     "metadata": {},
     "output_type": "execute_result"
    }
   ],
   "source": [
    "df.topic.isnull().sum() / df.shape[0] * 100"
   ]
  },
  {
   "cell_type": "code",
   "execution_count": 34,
   "id": "60a2bca5",
   "metadata": {},
   "outputs": [
    {
     "data": {
      "text/plain": [
       "12.0    2321648\n",
       "14.0    1285710\n",
       "3.0      304110\n",
       "6.0      149761\n",
       "5.0      149571\n",
       "1.0      141834\n",
       "11.0     135472\n",
       "10.0     102021\n",
       "4.0       86129\n",
       "7.0       64775\n",
       "13.0      64528\n",
       "9.0       58350\n",
       "8.0       27885\n",
       "2.0       19240\n",
       "Name: topic, dtype: int64"
      ]
     },
     "execution_count": 34,
     "metadata": {},
     "output_type": "execute_result"
    }
   ],
   "source": [
    "df.topic.value_counts()"
   ]
  },
  {
   "cell_type": "code",
   "execution_count": 35,
   "id": "57029012",
   "metadata": {},
   "outputs": [
    {
     "data": {
      "text/plain": [
       "(6145783, 5)"
      ]
     },
     "execution_count": 35,
     "metadata": {},
     "output_type": "execute_result"
    }
   ],
   "source": [
    "df.shape"
   ]
  },
  {
   "cell_type": "code",
   "execution_count": 38,
   "id": "8a57a7b4",
   "metadata": {},
   "outputs": [],
   "source": [
    "df = df.dropna(subset=['topic'])"
   ]
  },
  {
   "cell_type": "code",
   "execution_count": 39,
   "id": "b54b8ddd",
   "metadata": {},
   "outputs": [
    {
     "data": {
      "text/plain": [
       "(4911034, 5)"
      ]
     },
     "execution_count": 39,
     "metadata": {},
     "output_type": "execute_result"
    }
   ],
   "source": [
    "df.shape"
   ]
  },
  {
   "cell_type": "markdown",
   "id": "01137c00",
   "metadata": {},
   "source": [
    "We've lost about 20% of our data because of our cut-off point of **min_prob = 0.4**. \n",
    "\n",
    "Let's save this file to disk."
   ]
  },
  {
   "cell_type": "code",
   "execution_count": 40,
   "id": "1488817e",
   "metadata": {},
   "outputs": [
    {
     "data": {
      "text/plain": [
       "tweet_text          object\n",
       "hashtags            object\n",
       "is_retweet            bool\n",
       "retweet_tweetid    float64\n",
       "topic              float64\n",
       "dtype: object"
      ]
     },
     "execution_count": 40,
     "metadata": {},
     "output_type": "execute_result"
    }
   ],
   "source": [
    "df.dtypes"
   ]
  },
  {
   "cell_type": "code",
   "execution_count": 41,
   "id": "57abb709",
   "metadata": {},
   "outputs": [],
   "source": [
    "# save df_topics \n",
    "df.to_parquet('/Users/richard/Desktop/data_cap3/interim/df_topics_LDA_15_120521.parquet',\n",
    "                     engine='pyarrow')"
   ]
  },
  {
   "cell_type": "markdown",
   "id": "ec538db0",
   "metadata": {},
   "source": [
    "Let's proceed to extract only the **'mostly political'** tweets below."
   ]
  },
  {
   "cell_type": "code",
   "execution_count": 43,
   "id": "b64ac031",
   "metadata": {},
   "outputs": [],
   "source": [
    "# filter tweets with political topics\n",
    "df_pol = df[df.topic.isin([5,11,13])]"
   ]
  },
  {
   "cell_type": "code",
   "execution_count": 44,
   "id": "8c04ad12",
   "metadata": {},
   "outputs": [
    {
     "data": {
      "text/plain": [
       "(349571, 5)"
      ]
     },
     "execution_count": 44,
     "metadata": {},
     "output_type": "execute_result"
    }
   ],
   "source": [
    "# get shape\n",
    "df_pol.shape"
   ]
  },
  {
   "cell_type": "markdown",
   "id": "f3eea5c0",
   "metadata": {},
   "source": [
    "Extracting **just** the tweets labelled with Topic 5, 11 or 13, yields a dataframe of just under **350K political tweets**.\n",
    "\n",
    "Let's save this subset as a separate parquet file, too."
   ]
  },
  {
   "cell_type": "code",
   "execution_count": 45,
   "id": "bf24b06b",
   "metadata": {},
   "outputs": [],
   "source": [
    "# save df_pol to parquet\n",
    "df_pol.to_parquet('/Users/richard/Desktop/data_cap3/interim/df_topics_LDA_15_120521_ONLY_POL.parquet',\n",
    "                     engine='pyarrow')"
   ]
  },
  {
   "cell_type": "markdown",
   "id": "b6fed2f0",
   "metadata": {},
   "source": [
    "Let's have a look at the tweets in this subset of (supposedly) political tweets. Can we spot any blatant inconsistencies?"
   ]
  },
  {
   "cell_type": "code",
   "execution_count": 3,
   "id": "9d0e44d0",
   "metadata": {},
   "outputs": [],
   "source": [
    "df_pol = pd.read_parquet('/Users/richard/Desktop/data_cap3/interim/df_topics_LDA_15_120521_ONLY_POL.parquet',\n",
    "                     engine='pyarrow')"
   ]
  },
  {
   "cell_type": "code",
   "execution_count": 4,
   "id": "25d10fc8",
   "metadata": {},
   "outputs": [
    {
     "data": {
      "text/plain": [
       "2337261    [سَفِير_1, إِيرانِيّ_1, تَطَلَّع_1, وِساطَة_1,...\n",
       "3189361    [قُرْب_1, إِطْلاق_1, سَفِير_1, أُرْدُنِّيّ_1, ...\n",
       "1724158    [اردوغان_0, ٱِسْتَمَرّ_1, دَعْم_1, إِرْهاب_1, ...\n",
       "629003     [قَدَّم_1, مَمْلَكَة_1, عَرَبِيّ_1, سَعُودِيّ_...\n",
       "693344     [رُؤْيَة_2, كُوَيْت_1, شَأْن_1, تَأْسِيس_1, رِ...\n",
       "557923     [نَجاح_1, آخَر_1, وَقَف-i_1, خَلْف_1, مُلْهَم_...\n",
       "2254738    [وَطَنِيّ_1, سَعُودِيّ_1, وَطَنِيّ_1, خَيْر_1,...\n",
       "2092624                                [تَنْشِيط_1, حِساب_2]\n",
       "2064594    [قَصْف_1, جَوِّيّ_1, جَيْش_1, لِيبِيّ_1, بَوّا...\n",
       "2333617    [سَبَب_1, فُتُور_1, عَلاقَة_1, إِنْسانِيّ_1, ٱ...\n",
       "Name: tweet_text, dtype: object"
      ]
     },
     "execution_count": 4,
     "metadata": {},
     "output_type": "execute_result"
    }
   ],
   "source": [
    "df_pol.tweet_text.sample(10, random_state=1)"
   ]
  },
  {
   "cell_type": "code",
   "execution_count": 5,
   "id": "55254708",
   "metadata": {},
   "outputs": [
    {
     "data": {
      "text/plain": [
       "tweet_text         [قَدَّم_1, مَمْلَكَة_1, عَرَبِيّ_1, سَعُودِيّ_...\n",
       "hashtags                           [المملكة العربية السعودية, اليمن]\n",
       "is_retweet                                                      True\n",
       "retweet_tweetid                                1068138289989906432.0\n",
       "topic                                                            5.0\n",
       "Name: 629003, dtype: object"
      ]
     },
     "execution_count": 5,
     "metadata": {},
     "output_type": "execute_result"
    }
   ],
   "source": [
    "df_pol.loc[629003]"
   ]
  },
  {
   "cell_type": "markdown",
   "id": "f66ff3b2",
   "metadata": {},
   "source": [
    "This one might be about football."
   ]
  },
  {
   "cell_type": "code",
   "execution_count": 6,
   "id": "9fedf1c8",
   "metadata": {},
   "outputs": [
    {
     "data": {
      "text/plain": [
       "tweet_text         [نَجاح_1, آخَر_1, وَقَف-i_1, خَلْف_1, مُلْهَم_...\n",
       "hashtags                                                        None\n",
       "is_retweet                                                      True\n",
       "retweet_tweetid                                1065214214023860224.0\n",
       "topic                                                            5.0\n",
       "Name: 557923, dtype: object"
      ]
     },
     "execution_count": 6,
     "metadata": {},
     "output_type": "execute_result"
    }
   ],
   "source": [
    "df_pol.loc[557923]"
   ]
  },
  {
   "cell_type": "markdown",
   "id": "fe3d3f39",
   "metadata": {},
   "source": [
    "This one seems political."
   ]
  },
  {
   "cell_type": "code",
   "execution_count": 7,
   "id": "d2daed31",
   "metadata": {},
   "outputs": [
    {
     "data": {
      "text/plain": [
       "(array(['تَنْشِيط_1', 'حِساب_2'], dtype=object), 13.0)"
      ]
     },
     "execution_count": 7,
     "metadata": {},
     "output_type": "execute_result"
    }
   ],
   "source": [
    "df_pol.loc[2092624].tweet_text, df_pol.loc[2092624].topic"
   ]
  },
  {
   "cell_type": "code",
   "execution_count": 8,
   "id": "15cd27bd",
   "metadata": {},
   "outputs": [
    {
     "data": {
      "text/plain": [
       "(array(['سَبَب_1', 'فُتُور_1', 'عَلاقَة_1', 'إِنْسانِيّ_1', 'ٱِنْقِطاع_1',\n",
       "        'عَلاقَة_1', 'مَصْلَحَة_1', 'ٱِرْتَكَز_1', 'عُنْصُر_1', 'هَدَف_1',\n",
       "        'مَكانَة_1', 'نَتِيجَة_1', 'والِي_1'], dtype=object),\n",
       " 5.0)"
      ]
     },
     "execution_count": 8,
     "metadata": {},
     "output_type": "execute_result"
    }
   ],
   "source": [
    "df_pol.loc[2333617].tweet_text, df_pol.loc[2333617].topic"
   ]
  },
  {
   "cell_type": "markdown",
   "id": "95d9bda0",
   "metadata": {},
   "source": [
    "I'd say 6/10 are clearly political, 1 is not, and 3 are so-so.\n",
    "\n",
    "Let's try another sample."
   ]
  },
  {
   "cell_type": "code",
   "execution_count": 9,
   "id": "2023ead3",
   "metadata": {},
   "outputs": [
    {
     "data": {
      "text/plain": [
       "2465323    [راجِح_2, قاتِل_2, حَدّ_1, الجاي_0, حَقّ_2, أَ...\n",
       "1003669    [وَضْع_2, مَدِينَة_1, قَرْيَة_1, مِنْطَقَة_1, ...\n",
       "2096690    [تغريدتك_0, واضِح_1, مزعوج_0, مُظاهَرَة_1, ليش...\n",
       "3181898    [لِ_1, عَهِد-a_1, وَفَى-i_1, وَلِيّ_1, مَبْدَأ...\n",
       "1924657    [رَئِيس_1, السيسي_0, جَلْسَة_1, مُؤْتَمَر_1, ش...\n",
       "3412747    [صَحِيفَة_1, أَمْرِيكِيّ_1, فَضَح-a_1, تَمْوِي...\n",
       "713636     [أَمْس_1, إِشاعَة_2, صِحَّة_1, تَداوُل_1, عَزْ...\n",
       "699330     [دَعْم_1, ٱِمْتَزَج_1, جَمال_1, حَرْف_1, جَمال...\n",
       "2330272    [صَحافِيّ_2, وَطَن_1, ٱِجْتِماع_1, فُنْدُق_1, ...\n",
       "1160591           [ساعِد_1, أَبْناء_1, ٱِرْتَقَى_1, وَطَن_1]\n",
       "Name: tweet_text, dtype: object"
      ]
     },
     "execution_count": 9,
     "metadata": {},
     "output_type": "execute_result"
    }
   ],
   "source": [
    "df_pol.tweet_text.sample(10, random_state=2)"
   ]
  },
  {
   "cell_type": "markdown",
   "id": "5a7d02f9",
   "metadata": {},
   "source": [
    "Again, 7/10 are spot-on, but it's a mixed bag.\n",
    "\n",
    "Let's see what happens if we run GSDMM on this subset of mostly political tweets. 350K is an amount that it should be able to handle.\n"
   ]
  },
  {
   "cell_type": "markdown",
   "id": "4feab4fd",
   "metadata": {},
   "source": [
    "## 6.3. Feed LDA Output to GSDMM\n",
    "\n",
    "We will need to:\n",
    "- Create a new 'docs' array containing only the mostly-political tweets\n",
    "- Create a new dictionary and BOW-Corpus\n",
    "- Feed these into the final GSDMM model"
   ]
  },
  {
   "cell_type": "markdown",
   "id": "906f81d3",
   "metadata": {},
   "source": [
    "### 6.3.1. Preprocessing Political Tweets"
   ]
  },
  {
   "cell_type": "code",
   "execution_count": 10,
   "id": "e9c3ae43",
   "metadata": {},
   "outputs": [
    {
     "data": {
      "text/html": [
       "<div>\n",
       "<style scoped>\n",
       "    .dataframe tbody tr th:only-of-type {\n",
       "        vertical-align: middle;\n",
       "    }\n",
       "\n",
       "    .dataframe tbody tr th {\n",
       "        vertical-align: top;\n",
       "    }\n",
       "\n",
       "    .dataframe thead th {\n",
       "        text-align: right;\n",
       "    }\n",
       "</style>\n",
       "<table border=\"1\" class=\"dataframe\">\n",
       "  <thead>\n",
       "    <tr style=\"text-align: right;\">\n",
       "      <th></th>\n",
       "      <th>tweet_text</th>\n",
       "      <th>hashtags</th>\n",
       "      <th>is_retweet</th>\n",
       "      <th>retweet_tweetid</th>\n",
       "      <th>topic</th>\n",
       "    </tr>\n",
       "  </thead>\n",
       "  <tbody>\n",
       "    <tr>\n",
       "      <th>11</th>\n",
       "      <td>[عاجِل_1, نَبَأ_1, دِبلُوماسِيّ_2, تَلّ_1, أَب...</td>\n",
       "      <td>[عاجل]</td>\n",
       "      <td>True</td>\n",
       "      <td>9.999468e+17</td>\n",
       "      <td>11.0</td>\n",
       "    </tr>\n",
       "    <tr>\n",
       "      <th>16</th>\n",
       "      <td>[عُنْصُر_1, مِيلِيشِيا_1, الحوثي_0, قَتَل-u_1,...</td>\n",
       "      <td>[الحوثي, التحالف العربي, اليمن, الحاضر العربي]</td>\n",
       "      <td>False</td>\n",
       "      <td>NaN</td>\n",
       "      <td>11.0</td>\n",
       "    </tr>\n",
       "    <tr>\n",
       "      <th>21</th>\n",
       "      <td>[سِعْر_1, زِيادَة_1, مُتابِع_1, تويتر_0, خَلِي...</td>\n",
       "      <td>None</td>\n",
       "      <td>True</td>\n",
       "      <td>9.998055e+17</td>\n",
       "      <td>13.0</td>\n",
       "    </tr>\n",
       "    <tr>\n",
       "      <th>29</th>\n",
       "      <td>[اللوء_0, رُكْن_2, مانِع_2, عُمَر_1, ابالعلاء_...</td>\n",
       "      <td>None</td>\n",
       "      <td>True</td>\n",
       "      <td>9.995083e+17</td>\n",
       "      <td>5.0</td>\n",
       "    </tr>\n",
       "    <tr>\n",
       "      <th>36</th>\n",
       "      <td>[ٱِنْتَظَر_1, جَبان_1, أُكْذُوبَة_1, تارِيخ_1,...</td>\n",
       "      <td>None</td>\n",
       "      <td>False</td>\n",
       "      <td>NaN</td>\n",
       "      <td>5.0</td>\n",
       "    </tr>\n",
       "  </tbody>\n",
       "</table>\n",
       "</div>"
      ],
      "text/plain": [
       "                                           tweet_text  \\\n",
       "11  [عاجِل_1, نَبَأ_1, دِبلُوماسِيّ_2, تَلّ_1, أَب...   \n",
       "16  [عُنْصُر_1, مِيلِيشِيا_1, الحوثي_0, قَتَل-u_1,...   \n",
       "21  [سِعْر_1, زِيادَة_1, مُتابِع_1, تويتر_0, خَلِي...   \n",
       "29  [اللوء_0, رُكْن_2, مانِع_2, عُمَر_1, ابالعلاء_...   \n",
       "36  [ٱِنْتَظَر_1, جَبان_1, أُكْذُوبَة_1, تارِيخ_1,...   \n",
       "\n",
       "                                          hashtags  is_retweet  \\\n",
       "11                                          [عاجل]        True   \n",
       "16  [الحوثي, التحالف العربي, اليمن, الحاضر العربي]       False   \n",
       "21                                            None        True   \n",
       "29                                            None        True   \n",
       "36                                            None       False   \n",
       "\n",
       "    retweet_tweetid  topic  \n",
       "11     9.999468e+17   11.0  \n",
       "16              NaN   11.0  \n",
       "21     9.998055e+17   13.0  \n",
       "29     9.995083e+17    5.0  \n",
       "36              NaN    5.0  "
      ]
     },
     "execution_count": 10,
     "metadata": {},
     "output_type": "execute_result"
    }
   ],
   "source": [
    "df_pol.head()"
   ]
  },
  {
   "cell_type": "code",
   "execution_count": 11,
   "id": "1495c24c",
   "metadata": {},
   "outputs": [],
   "source": [
    "# create array of documents\n",
    "docs_pol = df_pol.tweet_text.to_numpy()"
   ]
  },
  {
   "cell_type": "code",
   "execution_count": 12,
   "id": "ef24de5b",
   "metadata": {},
   "outputs": [
    {
     "name": "stdout",
     "output_type": "stream",
     "text": [
      "CPU times: user 10.7 s, sys: 241 ms, total: 11 s\n",
      "Wall time: 11.8 s\n"
     ]
    }
   ],
   "source": [
    "%%time\n",
    "# create BOW dictionary\n",
    "dictionary_pol = gensim.corpora.Dictionary(docs_pol)"
   ]
  },
  {
   "cell_type": "markdown",
   "id": "3d5dfbff",
   "metadata": {},
   "source": [
    "We will skip filtering the dictionary as that was done for the LDA already; we want to retain as much of the political content as possible."
   ]
  },
  {
   "cell_type": "code",
   "execution_count": 13,
   "id": "98894233",
   "metadata": {},
   "outputs": [],
   "source": [
    "# get vocab length\n",
    "vocab_length_pol = len(dictionary_pol)"
   ]
  },
  {
   "cell_type": "code",
   "execution_count": 14,
   "id": "b02fdb30",
   "metadata": {},
   "outputs": [
    {
     "name": "stdout",
     "output_type": "stream",
     "text": [
      "CPU times: user 5.68 s, sys: 339 ms, total: 6.02 s\n",
      "Wall time: 6.09 s\n"
     ]
    }
   ],
   "source": [
    "%%time\n",
    "# map docs to bag of words\n",
    "bow_corpus_pol = [dictionary_pol.doc2bow(doc) for doc in docs_pol]"
   ]
  },
  {
   "cell_type": "markdown",
   "id": "c322d7f8",
   "metadata": {},
   "source": [
    "Alright, all set to feed this pre-processed data into our GSDMM Model."
   ]
  },
  {
   "cell_type": "markdown",
   "id": "b109d3c0",
   "metadata": {},
   "source": [
    "### 6.3.2. Run GSDMM Model\n",
    "\n",
    "Let's instantiate a GSDMM model using the hyperparameters identified as optimal during the GSDMM Testing phase (Section 4)."
   ]
  },
  {
   "cell_type": "code",
   "execution_count": 16,
   "id": "a77c20de",
   "metadata": {},
   "outputs": [],
   "source": [
    "# instantiate GSDMM\n",
    "gsdmm_pol = MovieGroupProcess(K=30, alpha=0.4, beta=1, n_iters=12)"
   ]
  },
  {
   "cell_type": "code",
   "execution_count": 17,
   "id": "429bcbba",
   "metadata": {},
   "outputs": [
    {
     "name": "stdout",
     "output_type": "stream",
     "text": [
      "In stage 0: transferred 336182 clusters with 30 clusters populated\n",
      "In stage 1: transferred 131822 clusters with 30 clusters populated\n",
      "In stage 2: transferred 45564 clusters with 28 clusters populated\n",
      "In stage 3: transferred 37263 clusters with 24 clusters populated\n",
      "In stage 4: transferred 34314 clusters with 23 clusters populated\n",
      "In stage 5: transferred 32278 clusters with 23 clusters populated\n",
      "In stage 6: transferred 31708 clusters with 23 clusters populated\n",
      "In stage 7: transferred 31023 clusters with 22 clusters populated\n",
      "In stage 8: transferred 30898 clusters with 22 clusters populated\n",
      "In stage 9: transferred 30806 clusters with 22 clusters populated\n",
      "In stage 10: transferred 30785 clusters with 21 clusters populated\n",
      "In stage 11: transferred 30594 clusters with 21 clusters populated\n",
      "CPU times: user 1h 54min, sys: 1min 2s, total: 1h 55min 2s\n",
      "Wall time: 2h 3min 32s\n"
     ]
    }
   ],
   "source": [
    "%%time\n",
    "y_pol = gsdmm_pol.fit(docs_pol, vocab_length_pol)"
   ]
  },
  {
   "cell_type": "markdown",
   "id": "412e3306",
   "metadata": {},
   "source": [
    "OK, that takes about 2hrs to run and converges from 30 down to 21 clusters. That's more than double the number of clusters than when we ran it on the sample, but that makes sense since the sample was just a fraction of the whole dataset.\n",
    "\n",
    "Let's get the top words in each of these topics."
   ]
  },
  {
   "cell_type": "code",
   "execution_count": 18,
   "id": "981a87bd",
   "metadata": {},
   "outputs": [
    {
     "name": "stdout",
     "output_type": "stream",
     "text": [
      "Number of documents per topic : [    0   572    16 15181 22551    19   891     0    73   251 36469 77200\n",
      " 97058     0     4     0   244   873 88029     7  9766     0     0     4\n",
      "    21     0     0   337     5     0]\n",
      "********************\n",
      "Most important clusters (by number of docs inside): [12 18 11 10  4  3 20  6 17  1 27  9 16  8 24  5  2 19 28 23 14]\n"
     ]
    }
   ],
   "source": [
    "doc_count_pol = np.array(gsdmm_pol.cluster_doc_count)\n",
    "print('Number of documents per topic :', doc_count_pol)\n",
    "print('*'*20)\n",
    "\n",
    "# Topics sorted by the number of document they are allocated to\n",
    "top_index_pol = doc_count_pol.argsort()[-21:][::-1]\n",
    "print('Most important clusters (by number of docs inside):', top_index_pol)"
   ]
  },
  {
   "cell_type": "markdown",
   "id": "522c3ac2",
   "metadata": {},
   "source": [
    "Worth noting that the bottom 8 topics have very few documents in them.\n",
    "\n",
    "That's **Clusters 8, 24, 5, 2, 19, 28, 23, and 14**."
   ]
  },
  {
   "cell_type": "code",
   "execution_count": 22,
   "id": "dd3f4506",
   "metadata": {
    "scrolled": true
   },
   "outputs": [
    {
     "name": "stdout",
     "output_type": "stream",
     "text": [
      "\n",
      "Cluster 12 : [('قَطَر_1', 27964), ('إِرْهاب_1', 19957), ('لِيبِيا_1', 18422), ('إِرْهابِيّ_1', 16488), ('إِخْوَة_1', 14541), ('جَيْش_1', 14267), ('تُركِيا_1', 13884), ('عَرَبِيّ_1', 13695), ('قُوَّة_1', 12733), ('سُودان_1', 12007), ('لِيبِيّ_1', 11352), ('يَمَن_2', 10407), ('إِيران_1', 8497), ('الحوثي_0', 8348), ('طَرابُلُس_1', 7605), ('دَوْلَة_1', 7563), ('مِيلِيشِيا_1', 6967), ('جَماعَة_1', 6884), ('عَسْكَرِيّ_1', 6805), ('بَلَد_1', 6548)]\n",
      "\n",
      "Cluster 18 : [('سَعُودِيّ_1', 25221), ('مُحَمَّد_1', 21603), ('أَمارَة_1', 21325), ('سَلْمان_1', 12098), ('مَلِك_2', 11211), ('أَمِير_2', 11161), ('ال_1', 9904), ('زايِد_1', 9852), ('عَرَبِيّ_1', 9533), ('شَيْخ_1', 9317), ('رَئِيس_1', 8955), ('دَوْلَة_1', 8684), ('وَطَنِيّ_1', 7856), ('وَلِيّ_1', 7487), ('وَطَن_1', 7163), ('سُمُوّ_1', 7008), ('عَهْد_4', 6918), ('شَعْب_1', 5930), ('اللَّه_1', 5897), ('إِماراتِيّ_1', 5352)]\n",
      "\n",
      "Cluster 11 : [('رَئِيس_1', 15206), ('مِصْر_1', 12443), ('وَزِير_1', 11865), ('سَعُودِيّ_1', 10891), ('عَرَبِيّ_1', 9728), ('مَجْلِس_1', 7844), ('إِيران_1', 7170), ('السيسي_0', 6746), ('دَوْلَة_1', 6704), ('أَمْرِيكِيّ_1', 6538), ('عاجِل_1', 5732), ('مِصْرِيّ_1', 5702), ('لِيبِيا_1', 5305), ('خارِجِيّ_1', 5257), ('عامّ_1', 4069), ('سِياسِيّ_1', 3825), ('أَمارَة_1', 3784), ('حُكُومَة_1', 3772), ('تُركِيا_1', 3746), ('أُمَّة_1', 3723)]\n",
      "\n",
      "Cluster 10 : [('دَعْم_1', 28171), ('حِساب_2', 10221), ('قروب_0', 8908), ('ٱِسْتَحَقّ_1', 7905), ('نَجْم_1', 7493), ('إِبْداع_1', 7404), ('حَرْف_1', 6711), ('مُتابَعَة_1', 6568), ('خاصّ_1', 5686), ('ذَوْق_1', 4864), ('حُضُور_2', 4322), ('مُبْدِع_1', 4288), ('مُمَيَّز_1', 3892), ('مَيَّز_1', 3876), ('مَبْرُوك_1', 3746), ('خُلْق_1', 3630), ('مُغَرِّد_1', 3619), ('شُكْر_1', 3497), ('أَمِير_2', 3147), ('تَمَيُّز_1', 3141)]\n",
      "\n",
      "Cluster 4 : [('سُورِيا_1', 10549), ('بَلَدِيّ_1', 6276), ('رِيف_1', 5577), ('قَصْف_1', 3669), ('نِظام_1', 3612), ('قُوَّة_1', 3538), ('مَدِينَة_1', 3439), ('دِمَشْق_1', 3133), ('ادلب_0', 3051), ('دِرْع_1', 2909), ('أَسَد_1', 2728), ('سُورِيّ_1', 2625), ('ٱِسْتَهْدَف_1', 2435), ('بَلَد_1', 2154), ('طَيَران_1', 1972), ('حَلَب_1', 1915), ('جَيْش_1', 1864), ('شَهِيد_1', 1638), ('مِنْطَقَة_1', 1552), ('مَدَنِيّ_1', 1379)]\n",
      "\n",
      "Cluster 3 : [('حِساب_2', 5858), ('مُسابَقَة_1', 3993), ('مُتابَعَة_1', 3493), ('شَرْط_1', 2371), ('مُتابِع_1', 2163), ('رتويت_0', 1720), ('تويتر_0', 1637), ('سُؤال_1', 1607), ('مَبْلَغ_1', 1477), ('سَحْب_1', 1464), ('فائِز_1', 1385), ('ٱِسْم_1', 1241), ('سُحُب_1', 1208), ('مَبْرُوك_1', 1006), ('مالِيّ_1', 960), ('دَعْم_1', 827), ('للتغريده_0', 793), ('جائِز_1', 641), ('التغريده_0', 570), ('طَبِيعَة_1', 530)]\n",
      "\n",
      "Cluster 20 : [('سكس_0', 16673), ('عَرَبِيّ_1', 3884), ('سَعُودِيّ_1', 3760), ('لَم_1', 3216), ('ممحونه_0', 2872), ('قَحْبَة_1', 2608), ('خَلْفَ_1', 2367), ('شَرْمُوطَة_2', 2363), ('صَدَر-u_1', 2329), ('نِيّ_1', 1927), ('كسها_0', 1675), ('نيج_0', 1395), ('مربربه_0', 1386), ('طيز_0', 1234), ('مُطْلَق_1', 1158), ('زُبّ_1', 1155), ('سكسيه_0', 1097), ('مُولَع_1', 1081), ('مَصّ_2', 1079), ('لَبّ-u_1', 1064)]\n",
      "\n",
      "Cluster 6 : [('كَفِيل_2', 2539), ('دُون_1', 1695), ('خَصْم_1', 846), ('تَمْوِيل_1', 844), ('حَتَّى_1', 841), ('شَرْعِيّ_1', 840), ('سدادالمبكر_0', 713), ('ال_1', 64), ('سدادالمبك_0', 46), ('هِلال_3', 37), ('سدادالمب_0', 30), ('سَعُودِيّ_1', 22), ('نَصْر_2', 22), ('بِنْت_1', 20), ('سدادالم_0', 19), ('عِلاوَة_1', 18), ('أَهْلِيّ_1', 15), ('ٱِتِّحاد_1', 13), ('رِياض_1', 13), ('زَواج_1', 13)]\n",
      "\n",
      "Cluster 17 : [('زِيادَة_1', 1500), ('رَغْبَة_1', 780), ('ٱِنْتِصاب_1', 658), ('قَذْف_1', 629), ('قُوَّة_1', 473), ('تَأْخِير_1', 436), ('جِنْسِيَّة_1', 421), ('صَلابَة_1', 353), ('ماكا_0', 347), ('فَتْرَة_1', 313), ('تَخَلُّص_1', 289), ('مالتي_0', 263), ('حَيَوان_1', 244), ('مِنَوِيّ_1', 230), ('مُطَوَّل_1', 230), ('سُرْعَة_1', 165), ('عَمِل-a_1', 160), ('مُتَكَرِّر_1', 155), ('ضُعْف_1', 154), ('قِلَّة_1', 142)]\n",
      "\n",
      "Cluster 1 : [('خَصْم_1', 1223), ('وُدّ_1', 951), ('كُوبُون_1', 306), ('خَصْم_2', 152), ('نَجْران_1', 150), ('كَوْدَة_1', 147), ('قَوِي-a_1', 115), ('مُرُورِيّ_1', 104), ('حَرَكَة_1', 103), ('تَحَكُّم_1', 103), ('مُرُور_1', 102), ('ٱِتِّجاه_1', 98), ('كَثِيف_1', 96), ('مَتْجَر_1', 91), ('مَوْقِع_1', 72), ('مَشَى-i_1', 70), ('أَفْضَل_2', 67), ('سُوق_1', 64), ('سِنْت_1', 55), ('قولدن_0', 52)]\n",
      "\n",
      "Cluster 27 : [('مَدِينَة_1', 330), ('مُنَوَّر_1', 318), ('ٱِنْباع_1', 306), ('نَوَّم_1', 305), ('النماص_0', 304), ('الخفجي_0', 300), ('دَوادِمِيّ_1', 300), ('القويعيه_0', 299), ('محايل_0', 299), ('النعيريه_0', 299), ('القنفذه_0', 299), ('عَرْعَر_1', 243), ('المزاحميه_0', 64), ('شَبّ-i_1', 46), ('مُزاحِم_1', 22), ('المزا_0', 19), ('مَزْح_1', 19), ('المزاحمي_0', 17), ('سَعُودِيّ_1', 15), ('عرع_0', 15)]\n",
      "\n",
      "Cluster 9 : [('دِيكُور_1', 176), ('خارِجِيّ_1', 157), ('داخِلِيّ_1', 150), ('مشبات_0', 104), ('مَجْلِس_1', 86), ('مُقاوِل_1', 84), ('حَجَر_1', 77), ('تَرْمِيم_1', 77), ('جَنُوبِيّ_1', 76), ('شَلّال_1', 72), ('تَشْطِيب_1', 70), ('حُرّ_1', 60), ('رُخام_1', 59), ('بِناء_1', 58), ('صِبْغ_1', 58), ('دِهان_1', 49), ('قِرْمِيد_2', 49), ('سرميك_0', 47), ('بيوزع_0', 45), ('فولورز_0', 45)]\n",
      "\n",
      "Cluster 16 : [('رَصَد_2', 419), ('طَقْس_1', 411), ('قاهِرَة_1', 288), ('جَوِّيّ_1', 215), ('عَظْمِيّ_1', 128), ('مِصْر_1', 127), ('مُعْتَدِل_1', 112), ('حَرارَة_1', 103), ('مائِل_1', 98), ('دَرَجَة_1', 83), ('نَهار_1', 72), ('صَعِيد_1', 71), ('نِيُوز_1', 69), ('أَفْرِيقِيا_1', 67), ('ساحِل_1', 64), ('ساد-u_1', 63), ('شَمالِيّ_1', 61), ('عَرَبِيّ_1', 54), ('لَيْل_1', 52), ('نَحْو_1', 49)]\n",
      "\n",
      "Cluster 8 : [('تَشْكِيل_1', 79), ('رَسْمِيّ_1', 53), ('ميلان_1', 38), ('دوناروما_0', 35), ('رومانيولي_0', 33), ('كِيس_1', 28), ('ناصِر_1', 23), ('ثِيُو_1', 23), ('كُونْتِي_1', 17), ('موساكيو_0', 16), ('مُواجَهَة_1', 14), ('كالابريا_0', 14), ('مُتَوَقَّع_1', 13), ('هاكان_1', 13), ('هيرنانديز_0', 12), ('بيليا_0', 11), ('دَوّار_1', 11), ('رُودْرِيجِيز_1', 10), ('سوسو_0', 10), ('دِي_1', 8)]\n",
      "\n",
      "Cluster 24 : [('قُوَّة_1', 95), ('يارزاق_0', 91), ('مَتِين_1', 86), ('ارزقني_0', 82), ('ياذا_0', 75), ('ياذو_0', 20), ('رَزّاق_1', 5), ('المتي_0', 3), ('مُتَبَرِّع_1', 2), ('مِصْباح_2', 2), ('مُحْتاج_1', 2), ('بُدّ_1', 2), ('أَرْز_1', 1), ('ال_1', 1), ('زَعِيم_1', 1), ('تويتر_0', 1), ('مَلِك_2', 1), ('هاشّ_1', 1), ('لَو_1', 1), ('كُلّ_1', 1)]\n",
      "\n",
      "Cluster 5 : [('حافِي_1', 16), ('مِفْرَش_1', 15), ('مَطّاط_1', 11), ('قَطْع_1', 10), ('وُصُول_1', 8), ('كَيِّس_1', 8), ('مخدات_0', 8), ('مَلِك_2', 7), ('جكار_0', 7), ('مِخَدَّة_1', 6), ('مَقاس_1', 6), ('نفرين_0', 6), ('مُطَرَّز_1', 6), ('قُطْن_1', 5), ('كَشْكَش_2', 5), ('مُبَطَّن_1', 5), ('خداديه_0', 5), ('جَدِيد_1', 4), ('نابِلْيُون_1', 4), ('بونابرت_0', 4)]\n",
      "\n",
      "Cluster 2 : [('بُرْج_2', 112), ('حَمْل_1', 15), ('دَلْو_1', 14), ('حُوت_1', 14), ('بُرْج_1', 13), ('ٱِخْتار_1', 12), ('ثَوْر_1', 12), ('جِدِّيّ_1', 11), ('وهقولك_0', 11), ('جَوْزاء_1', 10), ('مُمَيِّز_1', 9), ('عَيْب_1', 9), ('سَرَطان_1', 7), ('أَسَد_1', 5), ('قَوْس_1', 5), ('عَقْرَب_1', 4), ('أَمَل_1', 3), ('بَسّ-u_1', 3), ('لازِم_1', 3), ('متابعني_0', 3)]\n",
      "\n",
      "Cluster 19 : [('أَرْضِيَّة_1', 35), ('أَخْرَس_3', 16), ('مُلَوَّن_1', 15), ('مَطْبُوع_1', 14), ('خَرَسان_1', 6), ('خارِجِيّ_1', 4), ('حَدِيقَة_1', 4), ('كونكريت_0', 4), ('أَمْرِيكِيّ_1', 3), ('مُعارِض_1', 3), ('كافِي_1', 3), ('أَرْض_1', 2), ('حَوْش_1', 2), ('خرسانيه_0', 1), ('أَرْضِيّ_1', 1)]\n",
      "\n",
      "Cluster 28 : [('أَشار_1', 9), ('طَرَف_1', 8), ('أَهْل_1', 7), ('عَيْن_1', 4), ('مَرْحَباً_1', 4), ('تَكَلَّم_1', 4), ('أَيْقَن_1', 4), ('خِيفَة_1', 4), ('مَحْزُون_1', 4), ('المتيم_0', 4), ('سَهْل_1', 3), ('حَبِيب_1', 3), ('قدقال_0', 1), ('تسامٓح_0', 1), ('الانٓث_0', 1), ('لَفّ-u_1', 1), ('عَدُوّ_1', 1), ('الصٓعٗب_0', 1), ('تٗس٘امح_0', 1), ('م٘ن_0', 1)]\n",
      "\n",
      "Cluster 23 : [('مُزْمِن_1', 8), ('القولوني_0', 8), ('سَعُودِيّ_1', 5), ('عِرْض_1', 4), ('قُولُون_1', 4), ('عَصَبِيّ_1', 4), ('إِمْساك_1', 4), ('إِسْهال_1', 4), ('ٱِنْتِفاخ_1', 4), ('غاز_1', 4), ('ٱِضْطِراب_1', 3), ('عادَة_1', 2), ('جوايز_0', 1), ('مِصْر_1', 1), ('هٰذا_1', 1), ('ال_1', 1), ('قَذَف-i_1', 1), ('شَتَم-iu_1', 1)]\n",
      "\n",
      "Cluster 14 : [('إِيران_1', 4), ('أَرْخَى_1', 4), ('يك_0', 4), ('فارِسِيّ_1', 4), ('مُتَرْجِم_1', 4), ('دارد_0', 4), ('أَرْز_1', 4), ('دَرّ_1', 4), ('سراش_0', 4), ('ميليون_0', 4), ('ارزش_0', 4), ('حِزام_1', 2)]\n"
     ]
    }
   ],
   "source": [
    "# get top words in topics\n",
    "top_words(gsdmm_pol.cluster_word_distribution, top_index_pol, 20)"
   ]
  },
  {
   "cell_type": "markdown",
   "id": "12556745",
   "metadata": {},
   "source": [
    "### Analysis\n",
    "\n",
    "- Cluster 12: Terrorist / Middle East: Qatar, Terrorism, Sudan, Brotherhood, Terrorist, Arab, Country, Party\n",
    "- Cluster 18: Saudi Politics: Saudi, Mohammed, Emirate, President, Salman, Arab, King, Prince, Egypt\n",
    "- Cluster 11: Middle East Politics: President, Egypt, Minister ,Saudi, Arab, Parliament, Iran, Sisi, American\n",
    "- Cluster 10: Commercial: Account, Support, Follow, Star, Congratulations, Thank you, Twitter\n",
    "- Cluster 4: Syria: Syria, Country, Bombing, Regime, Power, Damascus, City, Dara'a (city), Idlib (city), Asad\n",
    "- Cluster 3: Misc. Commercial / Financial\n",
    "- Cluster 20: Sexual / Harassment\n",
    "- Cluster 6: Misc. Saudi, not clearly political\n",
    "- Cluster 17: Sexual Performance Medicine :)\n",
    "- Cluster 1: Traffic\n",
    "- Cluster 27: Saudi cities\n",
    "- Cluster 9: House furnishings\n",
    "- Cluster 16: Weather / Egypt\n",
    "- Rest: Misc.\n",
    "\n",
    "Clusters **12, 18, 11 and 4** are definitely Political Content. The others are definitely not.\n",
    "\n",
    "I'm happy with how this is looking."
   ]
  },
  {
   "cell_type": "code",
   "execution_count": 23,
   "id": "6c551f6f",
   "metadata": {},
   "outputs": [],
   "source": [
    "# get topics to feed to coherence model\n",
    "topics_sample_pol = get_topics_lists(gsdmm_pol, top_index_pol, 20) "
   ]
  },
  {
   "cell_type": "code",
   "execution_count": 24,
   "id": "24be9895",
   "metadata": {},
   "outputs": [
    {
     "name": "stdout",
     "output_type": "stream",
     "text": [
      "CPU times: user 10.6 s, sys: 992 ms, total: 11.6 s\n",
      "Wall time: 52.9 s\n"
     ]
    }
   ],
   "source": [
    "%%time\n",
    "# evaluate model using Topic Coherence score\n",
    "cm_gsdmm_pol = CoherenceModel(topics=topics_sample_pol, \n",
    "                            dictionary=dictionary_pol, \n",
    "                            corpus=bow_corpus_pol, \n",
    "                            texts=docs_pol, \n",
    "                            coherence='c_v')\n",
    "\n",
    "# get coherence value\n",
    "coherence_gsdmm_pol = cm_gsdmm_pol.get_coherence()  "
   ]
  },
  {
   "cell_type": "code",
   "execution_count": 25,
   "id": "fee7ade3",
   "metadata": {},
   "outputs": [
    {
     "name": "stdout",
     "output_type": "stream",
     "text": [
      "0.6782512724674742\n"
     ]
    }
   ],
   "source": [
    "print(coherence_gsdmm_pol)"
   ]
  },
  {
   "cell_type": "markdown",
   "id": "62cacf05",
   "metadata": {},
   "source": [
    "The Topic Coherence score is more than reasonable, especially considering the last few clusters were just a bunch of random words thrown together."
   ]
  },
  {
   "cell_type": "markdown",
   "id": "78361f12",
   "metadata": {},
   "source": [
    "### 6.3.3. Run GSDMM Model 2\n",
    "\n",
    "Let's run one more GSDMM on these 360K mostly-political tweets, this time with slightly different hyperparameter settings; just to see if that performs any better."
   ]
  },
  {
   "cell_type": "code",
   "execution_count": 45,
   "id": "d316d0fb",
   "metadata": {},
   "outputs": [],
   "source": [
    "# instantiate GSDMM\n",
    "gsdmm_pol_2 = MovieGroupProcess(K=25, alpha=0.2, beta=0.6, n_iters=12)"
   ]
  },
  {
   "cell_type": "code",
   "execution_count": 46,
   "id": "98ac27a1",
   "metadata": {},
   "outputs": [
    {
     "name": "stdout",
     "output_type": "stream",
     "text": [
      "In stage 0: transferred 332557 clusters with 25 clusters populated\n",
      "In stage 1: transferred 161157 clusters with 25 clusters populated\n",
      "In stage 2: transferred 59658 clusters with 25 clusters populated\n",
      "In stage 3: transferred 45422 clusters with 25 clusters populated\n",
      "In stage 4: transferred 40646 clusters with 24 clusters populated\n",
      "In stage 5: transferred 38376 clusters with 24 clusters populated\n",
      "In stage 6: transferred 37434 clusters with 24 clusters populated\n",
      "In stage 7: transferred 36758 clusters with 24 clusters populated\n",
      "In stage 8: transferred 36444 clusters with 23 clusters populated\n",
      "In stage 9: transferred 36561 clusters with 23 clusters populated\n",
      "In stage 10: transferred 36358 clusters with 23 clusters populated\n",
      "In stage 11: transferred 36160 clusters with 23 clusters populated\n",
      "CPU times: user 1h 12min 30s, sys: 37.5 s, total: 1h 13min 8s\n",
      "Wall time: 1h 14min 16s\n"
     ]
    }
   ],
   "source": [
    "%%time\n",
    "y_pol_2 = gsdmm_pol_2.fit(docs_pol, vocab_length_pol)"
   ]
  },
  {
   "cell_type": "code",
   "execution_count": 62,
   "id": "440417a6",
   "metadata": {},
   "outputs": [
    {
     "name": "stdout",
     "output_type": "stream",
     "text": [
      "Number of documents per topic : [ 1182  5290  9696  7999   318     0 38782     2 46301 52281    20 17989\n",
      "     4  1391   180 45685   154 52448     0  9784    20   101   402 59188\n",
      "   354]\n",
      "********************\n",
      "Most important clusters (by number of docs inside): [23 17  9  8 15  6 11 19  2  3  1 13  0 22 24  4 14 16 21 10 20 12  7]\n"
     ]
    }
   ],
   "source": [
    "doc_count_pol_2 = np.array(gsdmm_pol_2.cluster_doc_count)\n",
    "print('Number of documents per topic :', doc_count_pol_2)\n",
    "print('*'*20)\n",
    "\n",
    "# Topics sorted by the number of document they are allocated to\n",
    "top_index_pol_2 = doc_count_pol_2.argsort()[-23:][::-1]\n",
    "print('Most important clusters (by number of docs inside):', top_index_pol_2)"
   ]
  },
  {
   "cell_type": "code",
   "execution_count": 63,
   "id": "15536060",
   "metadata": {
    "scrolled": true
   },
   "outputs": [
    {
     "name": "stdout",
     "output_type": "stream",
     "text": [
      "\n",
      "Cluster 23 : [('رَئِيس_1', 14353), ('مِصْر_1', 11225), ('وَزِير_1', 9839), ('مَجْلِس_1', 7967), ('سَعُودِيّ_1', 7666), ('السيسي_0', 6452), ('عَرَبِيّ_1', 5906), ('مِصْرِيّ_1', 5461), ('دَوْلَة_1', 5145), ('عامّ_1', 5074), ('مُحَمَّد_1', 4574), ('أَمارَة_1', 3802), ('وِزارَة_1', 3791), ('نائِب_1', 3395), ('ال_1', 3179), ('أَفْرِيقِيا_1', 3161), ('أُمَّة_1', 3146), ('كُوَيْت_1', 3071), ('وَطَنِيّ_1', 3019), ('سُودان_1', 2822)]\n",
      "\n",
      "Cluster 17 : [('قَطَر_1', 26805), ('إِرْهاب_1', 16768), ('إِخْوَة_1', 13587), ('سُودان_1', 12400), ('إِرْهابِيّ_1', 11025), ('تُركِيا_1', 10338), ('عَرَبِيّ_1', 7863), ('دَوْلَة_1', 7025), ('جَماعَة_1', 5836), ('بَلَد_1', 5553), ('شَعْب_1', 5043), ('يَمَن_2', 4880), ('إِيران_1', 4733), ('قَطَرِيّ_1', 4506), ('حِزْب_1', 4250), ('دَعْم_1', 3875), ('سَعُودِيّ_1', 3799), ('جَزِيرَة_1', 3799), ('مَجْلِس_1', 3658), ('تَنْظِيم_1', 3630)]\n",
      "\n",
      "Cluster 9 : [('مُحَمَّد_1', 18386), ('سَعُودِيّ_1', 17446), ('أَمارَة_1', 15169), ('سَلْمان_1', 11450), ('أَمِير_2', 9596), ('زايِد_1', 9280), ('مَلِك_2', 8684), ('شَيْخ_1', 7940), ('ال_1', 7323), ('وَلِيّ_1', 7243), ('عَهْد_4', 6751), ('سُمُوّ_1', 6701), ('وَطَنِيّ_1', 6219), ('رَئِيس_1', 5918), ('عَرَبِيّ_1', 5848), ('وَطَن_1', 5796), ('دَوْلَة_1', 5288), ('اللَّه_1', 5254), ('شَعْب_1', 4477), ('عَبْدالعَزِيز_1', 4378)]\n",
      "\n",
      "Cluster 8 : [('إِيران_1', 10261), ('أَمْرِيكِيّ_1', 6945), ('عَرَبِيّ_1', 6877), ('سَعُودِيّ_1', 6827), ('تُركِيا_1', 5874), ('سُورِيا_1', 5679), ('عاجِل_1', 4581), ('وَزِير_1', 4348), ('عِراق_1', 4293), ('تُرْكِيّ_1', 3948), ('اردوغان_0', 3946), ('رَئِيس_1', 3586), ('إِيرانِيّ_1', 3398), ('خارِجِيّ_1', 3285), ('دَوْلَة_1', 3109), ('أَمْرِيكا_1', 2743), ('قَطَر_1', 2627), ('قُوَّة_1', 2439), ('أَمْن_1', 2421), ('سُورِيّ_1', 2400)]\n",
      "\n",
      "Cluster 15 : [('دَعْم_1', 29027), ('حِساب_2', 15819), ('مُتابَعَة_1', 10003), ('قروب_0', 8948), ('ٱِسْتَحَقّ_1', 8309), ('نَجْم_1', 7558), ('إِبْداع_1', 7443), ('حَرْف_1', 6904), ('خاصّ_1', 6055), ('ذَوْق_1', 4870), ('مَبْرُوك_1', 4697), ('حُضُور_2', 4349), ('مُبْدِع_1', 4324), ('مُمَيَّز_1', 3989), ('مُسابَقَة_1', 3913), ('مَيَّز_1', 3886), ('شُكْر_1', 3882), ('تويتر_0', 3861), ('مُغَرِّد_1', 3702), ('خُلْق_1', 3642)]\n",
      "\n",
      "Cluster 6 : [('لِيبِيا_1', 16300), ('لِيبِيّ_1', 10737), ('جَيْش_1', 10721), ('قُوَّة_1', 9728), ('طَرابُلُس_1', 7554), ('الحوثي_0', 5757), ('مِيلِيشِيا_1', 5226), ('عَرَبِيّ_1', 4710), ('إِرْهابِيّ_1', 4389), ('يَمَن_2', 4263), ('مُسَلَّح_2', 4047), ('مِنْطَقَة_1', 3991), ('وَطَنِيّ_1', 3923), ('مَدِينَة_1', 3755), ('تَحالُف_1', 3747), ('عاجِل_1', 3738), ('جَوِّيّ_1', 3400), ('عَمَلِيَّة_1', 3396), ('قَناة_1', 3260), ('سِلاح_1', 3230)]\n",
      "\n",
      "Cluster 11 : [('سُورِيا_1', 8292), ('رِيف_1', 5551), ('بَلَدِيّ_1', 4957), ('قَصْف_1', 3491), ('نِظام_1', 3374), ('قُوَّة_1', 3089), ('دِمَشْق_1', 3032), ('دِرْع_1', 2886), ('مَدِينَة_1', 2872), ('ادلب_0', 2845), ('أَسَد_1', 2503), ('ٱِسْتَهْدَف_1', 2319), ('بَلَد_1', 1991), ('طَيَران_1', 1922), ('حَلَب_1', 1907), ('سُورِيّ_1', 1767), ('جَيْش_1', 1708), ('شَهِيد_1', 1613), ('مَدَنِيّ_1', 1262), ('حَماة_1', 1206)]\n",
      "\n",
      "Cluster 19 : [('جامِعَة_1', 3706), ('سَعُودِيّ_1', 1879), ('مَلِك_2', 1285), ('ٱِخْتِبار_1', 1142), ('لُغَة_1', 1124), ('مَدْرَسَة_1', 1065), ('مُعَلِّم_1', 1017), ('دِراسَة_1', 849), ('سُؤال_1', 723), ('سُعُود_1', 723), ('تَدْرِيب_1', 689), ('عَرَبِيّ_1', 683), ('وَظِيفَة_1', 677), ('مَنْهَج_1', 675), ('أَمِير_2', 645), ('طالِب_1', 609), ('تَعْلِيم_1', 532), ('مُسابَقَة_1', 496), ('نَقْل_1', 478), ('كُلِّيَّة_1', 462)]\n",
      "\n",
      "Cluster 2 : [('سكس_0', 16673), ('عَرَبِيّ_1', 3875), ('سَعُودِيّ_1', 3731), ('لَم_1', 3215), ('ممحونه_0', 2873), ('قَحْبَة_1', 2608), ('خَلْفَ_1', 2367), ('شَرْمُوطَة_2', 2363), ('صَدَر-u_1', 2325), ('نِيّ_1', 1928), ('كسها_0', 1675), ('نيج_0', 1395), ('مربربه_0', 1386), ('طيز_0', 1234), ('مُطْلَق_1', 1158), ('زُبّ_1', 1155), ('سكسيه_0', 1097), ('مُولَع_1', 1081), ('مَصّ_2', 1079), ('لَبّ-u_1', 1063)]\n",
      "\n",
      "Cluster 3 : [('مَدِينَة_1', 1242), ('جَمال_2', 778), ('جَمال_1', 771), ('طَبِيعَة_1', 686), ('سَعُودِيّ_1', 495), ('أَلْمانِيا_1', 465), ('ٱِسْم_1', 458), ('مُورِيتانِيا_1', 351), ('بَلَد_1', 342), ('عَرَبِيّ_1', 325), ('رائِع_1', 324), ('مَنْظَر_1', 303), ('دُبَيّ_1', 279), ('رَوْعَة_1', 270), ('مُنَوَّر_1', 262), ('داخِلِيّ_1', 254), ('صُورَة_1', 241), ('دِيكُور_1', 226), ('حَيَوان_1', 225), ('خارِجِيّ_1', 220)]\n",
      "\n",
      "Cluster 1 : [('أَمارَة_1', 4807), ('سَعُودِيّ_1', 2106), ('يَمَن_2', 1977), ('إِماراتِيّ_1', 1651), ('دَوْلَة_1', 1634), ('سُودان_1', 1330), ('مُساعَدَة_1', 1227), ('أَحْمَر_1', 953), ('عَرَبِيّ_1', 951), ('شَعْب_1', 887), ('هِلال_3', 887), ('يَمَنِيّ_1', 782), ('إِنْسانِيّ_1', 696), ('وَفاء_2', 688), ('إِمارَة_1', 688), ('دَعْم_1', 598), ('مِلْيُون_1', 576), ('سَنَد_2', 420), ('قَدَّم_1', 408), ('غِذائِيّ_1', 396)]\n",
      "\n",
      "Cluster 13 : [('كَفِيل_2', 2543), ('خَصْم_1', 2112), ('دُون_1', 1698), ('وُدّ_1', 955), ('حَتَّى_1', 867), ('تَمْوِيل_1', 844), ('شَرْعِيّ_1', 840), ('سدادالمبكر_0', 713), ('كُوبُون_1', 306), ('خَصْم_2', 153), ('كَوْدَة_1', 147), ('ال_1', 143), ('قَوِي-a_1', 116), ('مَوْقِع_1', 74), ('أَفْضَل_2', 72), ('مَشَى-i_1', 69), ('مَتْجَر_1', 69), ('سِنْت_1', 56), ('قولدن_0', 53), ('أَنْد_1', 51)]\n",
      "\n",
      "Cluster 0 : [('زِيادَة_1', 1560), ('رَغْبَة_1', 781), ('ٱِنْتِصاب_1', 661), ('قَذْف_1', 631), ('قُوَّة_1', 587), ('تَأْخِير_1', 437), ('جِنْسِيَّة_1', 423), ('طَبْع_1', 361), ('صَلابَة_1', 353), ('ماكا_0', 350), ('فَتْرَة_1', 313), ('تَخَلُّص_1', 289), ('مالتي_0', 265), ('مَطْبَع_1', 255), ('سُرْعَة_1', 251), ('حَيَوان_1', 249), ('مُطَوَّل_1', 230), ('مِنَوِيّ_1', 229), ('عَمِل-a_1', 163), ('مُتَكَرِّر_1', 154)]\n",
      "\n",
      "Cluster 22 : [('طَقْس_1', 478), ('رَصَد_2', 460), ('قاهِرَة_1', 294), ('جَوِّيّ_1', 261), ('مِصْر_1', 135), ('عَظْمِيّ_1', 132), ('حَرارَة_1', 127), ('مُعْتَدِل_1', 113), ('دَرَجَة_1', 110), ('تويتر_0', 110), ('مائِل_1', 98), ('سِرِّيّ_1', 84), ('تامّ_1', 84), ('عَرَبِيّ_1', 78), ('نِيُوز_1', 74), ('نَهار_1', 72), ('صَعِيد_1', 71), ('سَرِيع_1', 70), ('ساحِل_1', 70), ('كَلِمَة_1', 69)]\n",
      "\n",
      "Cluster 24 : [('مَدِينَة_1', 329), ('مُنَوَّر_1', 324), ('نَوَّم_1', 314), ('النماص_0', 304), ('ٱِنْباع_1', 303), ('الخفجي_0', 300), ('دَوادِمِيّ_1', 300), ('القويعيه_0', 299), ('محايل_0', 299), ('النعيريه_0', 299), ('القنفذه_0', 299), ('عَرْعَر_1', 250), ('المزاحميه_0', 71), ('شَبّ-i_1', 60), ('ال_1', 26), ('مُزاحِم_1', 22), ('سَعُودِيّ_1', 20), ('مَزْح_1', 19), ('المزا_0', 19), ('المزاحمي_0', 17)]\n",
      "\n",
      "Cluster 4 : [('مِصْر_1', 272), ('أَمارَة_1', 263), ('سَعُودِيّ_1', 263), ('كُوَيْت_1', 263), ('صَدَى_1', 237), ('صِيانَة_1', 230), ('سَيّارَة_1', 184), ('مُعَدّات_1', 138), ('دُبَيّ_1', 126), ('مَرْكَب_1', 106), ('فولورز_0', 93), ('مُزَيَّت_1', 89), ('حَمَى-i_1', 82), ('زَيَّت_1', 72), ('بيوزع_0', 72), ('دَرّاجَة_1', 63), ('نَظُف-u_1', 50), ('حَرَكَة_1', 48), ('أَنْصارِيّ_1', 44), ('رُطُوبَة_1', 43)]\n",
      "\n",
      "Cluster 14 : [('مُرُورِيّ_1', 109), ('تَحَكُّم_1', 108), ('مُرُور_1', 105), ('حَرَكَة_1', 103), ('ٱِتِّجاه_1', 101), ('كَثِيف_1', 97), ('مَبْلَغ_1', 85), ('الغنامي_0', 78), ('حُرّ_1', 64), ('أَلْف_1', 44), ('شَكَر-u_1', 43), ('قُبَيْلَ_1', 43), ('سَداد_1', 43), ('الغنانيم_0', 43), ('مُشارَكَة_1', 42), ('اوتوستراد_0', 35), ('مَرْكَبَة_1', 30), ('تَصادُم_1', 29), ('لِي_1', 24), ('شَيْخ_1', 23)]\n",
      "\n",
      "Cluster 16 : [('حَقّ_2', 192), ('أَلَّب_1', 152), ('مَحْمُود_1', 122), ('راجِح_2', 102), ('إِعْدام_1', 79), ('شَهِيد_1', 63), ('يِن_1', 33), ('راجَع_1', 30), ('لازِم_1', 22), ('مَشّ_1', 20), ('شَهامَة_1', 20), ('رَجَع-i_1', 17), ('قاتِل_2', 15), ('باطِل_1', 12), ('قِصاص_1', 12), ('هيضيع_0', 9), ('أَلْف_1', 8), ('قانُونِيّ_1', 8), ('ٱِسْتِثْناء_1', 8), ('آر_1', 8)]\n",
      "\n",
      "Cluster 21 : [('تَشْكِيل_1', 81), ('رَسْمِيّ_1', 54), ('ميلان_1', 43), ('دوناروما_0', 36), ('أَرْضِيَّة_1', 35), ('رومانيولي_0', 34), ('كِيس_1', 28), ('ناصِر_1', 23), ('ثِيُو_1', 23), ('كُونْتِي_1', 17), ('أَخْرَس_3', 16), ('موساكيو_0', 16), ('مُلَوَّن_1', 15), ('كالابريا_0', 15), ('مُواجَهَة_1', 14), ('مَطْبُوع_1', 14), ('هاكان_1', 14), ('مُتَوَقَّع_1', 13), ('دَوّار_1', 12), ('هيرنانديز_0', 12)]\n",
      "\n",
      "Cluster 10 : [('حَسَب_1', 85), ('اللَّه_1', 81), ('نَعَم_1', 80), ('وَكِيل_1', 77), ('حسبناالله_0', 1), ('حَسِب-i_1', 1), ('أَنْقَذ_1', 1), ('ابوالقاسم_0', 1), ('شُكْر_1', 1), ('مَجْمُوعَة_1', 1), ('دَعْوِيّ_1', 1), ('ال_1', 1), ('شَهْر_1', 1), ('لادِن_1', 1), ('بِلا_1', 1), ('راتِب_1', 1), ('آل-u_1', 1), ('الل_0', 1), ('ونع_0', 1), ('كافَى_1', 1)]\n",
      "\n",
      "Cluster 20 : [('بُرْج_2', 116), ('حَمْل_1', 17), ('دَلْو_1', 16), ('حُوت_1', 16), ('ثَوْر_1', 14), ('بُرْج_1', 13), ('جَوْزاء_1', 13), ('ٱِخْتار_1', 12), ('جِدِّيّ_1', 12), ('وهقولك_0', 11), ('أَسَد_1', 10), ('سَرَطان_1', 9), ('مُمَيِّز_1', 9), ('عَيْب_1', 9), ('قَوْس_1', 8), ('عَقْرَب_1', 7), ('عَذْراء_2', 5), ('أَمَل_1', 3), ('لازِم_1', 3), ('بَسّ-u_1', 3)]\n",
      "\n",
      "Cluster 12 : [('إِيران_1', 4), ('فارِسِيّ_1', 4), ('مُتَرْجِم_1', 4), ('أَرْخَى_1', 4), ('أَرْز_1', 4), ('دَرّ_1', 4), ('سراش_0', 4), ('يك_0', 4), ('ميليون_0', 4), ('ارزش_0', 4), ('دارد_0', 4), ('حِزام_1', 2)]\n",
      "\n",
      "Cluster 7 : [('مناا_0', 3), ('دار-u_1', 2), ('م_0', 2), ('حصصل_0', 2), ('خطاا_0', 2), ('بداا_0', 2), ('قصصور_0', 2), ('لياليناا_0', 2), ('عطاا_0', 2), ('لَكّ-u_1', 2), ('دنياا_0', 2), ('منااك_0', 1)]\n"
     ]
    }
   ],
   "source": [
    "# get top words in topics\n",
    "top_words(gsdmm_pol_2.cluster_word_distribution, top_index_pol_2, 20)"
   ]
  },
  {
   "cell_type": "markdown",
   "id": "142e2158",
   "metadata": {},
   "source": [
    "### Analysis\n",
    "\n",
    "- Cluster 23: President, Egypt, Minister, Parliament, Saudi, Sisi, Arab, Egyptian, Country, Emirate\n",
    "- Cluster 17: Qatar, Terrorist, Brotherhood, Sudan, Terrorist, Arab\n",
    "- Cluster 9: Saudi Politics / Royal family\n",
    "- Cluster 8: Iran, American, Arab, Saudi, Turkey, Syria, Iraq, Turkey, Erdogan\n",
    "- Cluster 15: Commercial / Spam\n",
    "- Cluster 6: Libya, Army, Power, Tripoli, Huthi, Militia, Arab, Terrorist\n",
    "- Cluster 11: Syria, Country, Bombing, Regime, Power, Damascus, Syrian cities\n",
    "- Cluster 19: Misc. Saudi, not clearly political\n",
    "- Cluster 2: Sexual\n",
    "- Cluster 3: Commercial / Misc.\n",
    "- Cluster 1: Emirate, Saudi, Yemen, Emirates, Sudan, Help, Arab, People, Foot, Support\n",
    "- Cluster 13: Financial / Stopwords\n",
    "- Cluster 0: Sexual / Erection medicine\n",
    "- Cluster 22: Weather / Egypt\n",
    "- Cluster 24: Saudi Cities\n",
    "- Cluster 4: Egypt, Emirate, Saudi, Kuwait, Stopwords\n",
    "- Cluster 14: Traffic / Misc.\n",
    "- Cluster 16: Misc. / Truth, Martyr, Casualty, Execution\n",
    "- Cluster 21: Misc.\n",
    "- Cluster 10: Stopwords\n",
    "- Cluster 20: Misc.\n",
    "- Cluster 12: Iran, Persian, Translate, Cedar\n",
    "- Cluster 7: Stopwrods\n",
    "\n",
    "\n",
    "Clusters **23, 17, 9, 8, 6, and 11** are definitely Political Content. \n",
    "Cluster **1, 4, and 16** contain some Political Content.\n",
    "The others are definitely not.\n",
    "\n",
    "Overall, I was happier with the breakdown of topics of the previous GSDMM; they seemed more coherent.\n",
    "\n",
    "Let's check the Topic Coherence score as a double-check."
   ]
  },
  {
   "cell_type": "code",
   "execution_count": 64,
   "id": "3f1f90b9",
   "metadata": {},
   "outputs": [],
   "source": [
    "# get topics to feed to coherence model\n",
    "topics_sample_pol_2 = get_topics_lists(gsdmm_pol_2, top_index_pol_2, 20) "
   ]
  },
  {
   "cell_type": "code",
   "execution_count": 68,
   "id": "275c1d8a",
   "metadata": {},
   "outputs": [
    {
     "name": "stdout",
     "output_type": "stream",
     "text": [
      "CPU times: user 11.1 s, sys: 993 ms, total: 12.1 s\n",
      "Wall time: 59.3 s\n"
     ]
    }
   ],
   "source": [
    "%%time\n",
    "# evaluate model using Topic Coherence score\n",
    "cm_gsdmm_pol_2 = CoherenceModel(topics=topics_sample_pol_2, \n",
    "                            dictionary=dictionary_pol, \n",
    "                            corpus=bow_corpus_pol, \n",
    "                            texts=docs_pol, \n",
    "                            coherence='c_v')\n",
    "\n",
    "# get coherence value\n",
    "coherence_gsdmm_pol_2 = cm_gsdmm_pol_2.get_coherence()  "
   ]
  },
  {
   "cell_type": "code",
   "execution_count": 69,
   "id": "9e3f80bd",
   "metadata": {
    "scrolled": true
   },
   "outputs": [
    {
     "name": "stdout",
     "output_type": "stream",
     "text": [
      "0.6048986566754023\n"
     ]
    }
   ],
   "source": [
    "print(coherence_gsdmm_pol_2)"
   ]
  },
  {
   "cell_type": "markdown",
   "id": "68cbdca5",
   "metadata": {},
   "source": [
    "The Topic Coherence score is lower than the previous GSDMM Model. \n",
    "\n",
    "> That settles it: **We will proceed to use the first version of GSDMM Model.**\n",
    "\n",
    "**Note:** We ran two more alternative GSDMM models with lower values for **alpha** and **beta**. Both of those did not converge to a number of topics less than 25 and their Topic Coherence scores were significantly lower. For that reason, their output is not presented here."
   ]
  },
  {
   "cell_type": "markdown",
   "id": "5a016bc4",
   "metadata": {},
   "source": [
    "## 6.4. Get Labels from GSDMM\n",
    "\n",
    "Let's get the topic labels from the best GSDMM model and assign them to our df_pol dataframe. That will be the last step of this notebook before moving on to the next, in which we will run some clustering algorithms to see if we can detect the political content that's specifically **misinformation**."
   ]
  },
  {
   "cell_type": "code",
   "execution_count": 100,
   "id": "821ffcfb",
   "metadata": {},
   "outputs": [
    {
     "data": {
      "text/plain": [
       "array([12, 18, 11, 10,  4,  3, 20,  6, 17,  1, 27,  9, 16,  8, 24,  5,  2,\n",
       "       19, 28, 23, 14])"
      ]
     },
     "execution_count": 100,
     "metadata": {},
     "output_type": "execute_result"
    }
   ],
   "source": [
    "top_index_pol"
   ]
  },
  {
   "cell_type": "markdown",
   "id": "52e78406",
   "metadata": {},
   "source": [
    "We want to extract Clusters **12, 18, 11 and 4**.\n",
    "\n",
    "As a reminder, here are the keywords we found in those clusters:\n",
    "- Cluster 12: Terrorist / Middle East: Qatar, Terrorism, Sudan, Brotherhood, Terrorist, Arab, Country, Party\n",
    "- Cluster 18: Saudi Politics: Saudi, Mohammed, Emirate, President, Salman, Arab, King, Prince, Egypt\n",
    "- Cluster 11: Middle East Politics: President, Egypt, Minister ,Saudi, Arab, Parliament, Iran, Sisi, American\n",
    "- Cluster 4: Syria: Syria, Country, Bombing, Regime, Power, Damascus, City, Dara'a (city), Idlib (city), Asad\n",
    "\n",
    "Let's proceed to assign topic labels to these 4 clusters and label everything else '0'."
   ]
  },
  {
   "cell_type": "code",
   "execution_count": 108,
   "id": "09edf648",
   "metadata": {},
   "outputs": [
    {
     "data": {
      "text/plain": [
       "12"
      ]
     },
     "execution_count": 108,
     "metadata": {},
     "output_type": "execute_result"
    }
   ],
   "source": [
    "top_index_pol[0]"
   ]
  },
  {
   "cell_type": "code",
   "execution_count": 117,
   "id": "0c32b719",
   "metadata": {},
   "outputs": [
    {
     "data": {
      "text/plain": [
       "18"
      ]
     },
     "execution_count": 117,
     "metadata": {},
     "output_type": "execute_result"
    }
   ],
   "source": [
    "prob = gsdmm_pol.choose_best_label(docs_pol[11])\n",
    "prob[0]"
   ]
  },
  {
   "cell_type": "code",
   "execution_count": 124,
   "id": "59de9577",
   "metadata": {},
   "outputs": [],
   "source": [
    "def create_topics_dataframe(docs, mgp):\n",
    "    result = pd.DataFrame(columns=['Lemma-text', 'Topic'])\n",
    "    for i, text in enumerate(docs):\n",
    "        result.at[i, 'Lemma-text'] = docs[i]\n",
    "        prob = mgp.choose_best_label(docs[i])\n",
    "        result.at[i, 'Topic'] = prob[0]\n",
    "    return result"
   ]
  },
  {
   "cell_type": "code",
   "execution_count": 106,
   "id": "3400f279",
   "metadata": {},
   "outputs": [
    {
     "name": "stdout",
     "output_type": "stream",
     "text": [
      "CPU times: user 2h 11min 41s, sys: 6min 59s, total: 2h 18min 40s\n",
      "Wall time: 2h 40min 47s\n"
     ]
    },
    {
     "data": {
      "text/html": [
       "<div>\n",
       "<style scoped>\n",
       "    .dataframe tbody tr th:only-of-type {\n",
       "        vertical-align: middle;\n",
       "    }\n",
       "\n",
       "    .dataframe tbody tr th {\n",
       "        vertical-align: top;\n",
       "    }\n",
       "\n",
       "    .dataframe thead th {\n",
       "        text-align: right;\n",
       "    }\n",
       "</style>\n",
       "<table border=\"1\" class=\"dataframe\">\n",
       "  <thead>\n",
       "    <tr style=\"text-align: right;\">\n",
       "      <th></th>\n",
       "      <th>Lemma-text</th>\n",
       "      <th>Topic</th>\n",
       "    </tr>\n",
       "  </thead>\n",
       "  <tbody>\n",
       "    <tr>\n",
       "      <th>0</th>\n",
       "      <td>[عاجِل_1, نَبَأ_1, دِبلُوماسِيّ_2, تَلّ_1, أَب...</td>\n",
       "      <td>Egypt</td>\n",
       "    </tr>\n",
       "    <tr>\n",
       "      <th>1</th>\n",
       "      <td>[عُنْصُر_1, مِيلِيشِيا_1, الحوثي_0, قَتَل-u_1,...</td>\n",
       "      <td>Qatar / Terrorism</td>\n",
       "    </tr>\n",
       "    <tr>\n",
       "      <th>2</th>\n",
       "      <td>[سِعْر_1, زِيادَة_1, مُتابِع_1, تويتر_0, خَلِي...</td>\n",
       "      <td>Junk</td>\n",
       "    </tr>\n",
       "    <tr>\n",
       "      <th>3</th>\n",
       "      <td>[اللوء_0, رُكْن_2, مانِع_2, عُمَر_1, ابالعلاء_...</td>\n",
       "      <td>Saudi Internal</td>\n",
       "    </tr>\n",
       "    <tr>\n",
       "      <th>4</th>\n",
       "      <td>[ٱِنْتَظَر_1, جَبان_1, أُكْذُوبَة_1, تارِيخ_1,...</td>\n",
       "      <td>Qatar / Terrorism</td>\n",
       "    </tr>\n",
       "    <tr>\n",
       "      <th>...</th>\n",
       "      <td>...</td>\n",
       "      <td>...</td>\n",
       "    </tr>\n",
       "    <tr>\n",
       "      <th>349566</th>\n",
       "      <td>[رِيف_1, دِمَشْق_1, دارِي_1, ٱِشْتِباك_1, ثائِ...</td>\n",
       "      <td>Syria</td>\n",
       "    </tr>\n",
       "    <tr>\n",
       "      <th>349567</th>\n",
       "      <td>[لامُبالاة_1, ٱِسْتَحَقّ_1, تَقْدِير_2]</td>\n",
       "      <td>0</td>\n",
       "    </tr>\n",
       "    <tr>\n",
       "      <th>349568</th>\n",
       "      <td>[ال_1, ال_1, كُرَة_1]</td>\n",
       "      <td>Saudi Internal</td>\n",
       "    </tr>\n",
       "    <tr>\n",
       "      <th>349569</th>\n",
       "      <td>[غَرَد_1, صُورَة_1, مُبادَرَة_1, مُؤَسِّس_1, أ...</td>\n",
       "      <td>Saudi Internal</td>\n",
       "    </tr>\n",
       "    <tr>\n",
       "      <th>349570</th>\n",
       "      <td>[تابِع_1, رَوَى-i_1, خَلِيجِيّ_2, قَضِيَّة_1, ...</td>\n",
       "      <td>Qatar / Terrorism</td>\n",
       "    </tr>\n",
       "  </tbody>\n",
       "</table>\n",
       "<p>349571 rows × 2 columns</p>\n",
       "</div>"
      ],
      "text/plain": [
       "                                               Lemma-text              Topic\n",
       "0       [عاجِل_1, نَبَأ_1, دِبلُوماسِيّ_2, تَلّ_1, أَب...              Egypt\n",
       "1       [عُنْصُر_1, مِيلِيشِيا_1, الحوثي_0, قَتَل-u_1,...  Qatar / Terrorism\n",
       "2       [سِعْر_1, زِيادَة_1, مُتابِع_1, تويتر_0, خَلِي...               Junk\n",
       "3       [اللوء_0, رُكْن_2, مانِع_2, عُمَر_1, ابالعلاء_...     Saudi Internal\n",
       "4       [ٱِنْتَظَر_1, جَبان_1, أُكْذُوبَة_1, تارِيخ_1,...  Qatar / Terrorism\n",
       "...                                                   ...                ...\n",
       "349566  [رِيف_1, دِمَشْق_1, دارِي_1, ٱِشْتِباك_1, ثائِ...              Syria\n",
       "349567            [لامُبالاة_1, ٱِسْتَحَقّ_1, تَقْدِير_2]                  0\n",
       "349568                              [ال_1, ال_1, كُرَة_1]     Saudi Internal\n",
       "349569  [غَرَد_1, صُورَة_1, مُبادَرَة_1, مُؤَسِّس_1, أ...     Saudi Internal\n",
       "349570  [تابِع_1, رَوَى-i_1, خَلِيجِيّ_2, قَضِيَّة_1, ...  Qatar / Terrorism\n",
       "\n",
       "[349571 rows x 2 columns]"
      ]
     },
     "execution_count": 106,
     "metadata": {},
     "output_type": "execute_result"
    }
   ],
   "source": [
    "%%time\n",
    "# assign topics for mostly-political tweets\n",
    "create_topics_dataframe(docs=docs_pol, mgp=gsdmm_pol, threshold=0.3, topic_dict=topic_dict)"
   ]
  },
  {
   "cell_type": "code",
   "execution_count": 125,
   "id": "3de77180",
   "metadata": {},
   "outputs": [
    {
     "name": "stdout",
     "output_type": "stream",
     "text": [
      "CPU times: user 2h 29min 40s, sys: 7min 13s, total: 2h 36min 54s\n",
      "Wall time: 3h 21s\n"
     ]
    }
   ],
   "source": [
    "%%time\n",
    "df_pol_topics = create_topics_dataframe(docs=docs_pol, mgp=gsdmm_pol)"
   ]
  },
  {
   "cell_type": "code",
   "execution_count": 126,
   "id": "50b6ed36",
   "metadata": {},
   "outputs": [
    {
     "data": {
      "text/html": [
       "<div>\n",
       "<style scoped>\n",
       "    .dataframe tbody tr th:only-of-type {\n",
       "        vertical-align: middle;\n",
       "    }\n",
       "\n",
       "    .dataframe tbody tr th {\n",
       "        vertical-align: top;\n",
       "    }\n",
       "\n",
       "    .dataframe thead th {\n",
       "        text-align: right;\n",
       "    }\n",
       "</style>\n",
       "<table border=\"1\" class=\"dataframe\">\n",
       "  <thead>\n",
       "    <tr style=\"text-align: right;\">\n",
       "      <th></th>\n",
       "      <th>Lemma-text</th>\n",
       "      <th>Topic</th>\n",
       "    </tr>\n",
       "  </thead>\n",
       "  <tbody>\n",
       "    <tr>\n",
       "      <th>0</th>\n",
       "      <td>[عاجِل_1, نَبَأ_1, دِبلُوماسِيّ_2, تَلّ_1, أَب...</td>\n",
       "      <td>11</td>\n",
       "    </tr>\n",
       "    <tr>\n",
       "      <th>1</th>\n",
       "      <td>[عُنْصُر_1, مِيلِيشِيا_1, الحوثي_0, قَتَل-u_1,...</td>\n",
       "      <td>12</td>\n",
       "    </tr>\n",
       "    <tr>\n",
       "      <th>2</th>\n",
       "      <td>[سِعْر_1, زِيادَة_1, مُتابِع_1, تويتر_0, خَلِي...</td>\n",
       "      <td>3</td>\n",
       "    </tr>\n",
       "    <tr>\n",
       "      <th>3</th>\n",
       "      <td>[اللوء_0, رُكْن_2, مانِع_2, عُمَر_1, ابالعلاء_...</td>\n",
       "      <td>18</td>\n",
       "    </tr>\n",
       "    <tr>\n",
       "      <th>4</th>\n",
       "      <td>[ٱِنْتَظَر_1, جَبان_1, أُكْذُوبَة_1, تارِيخ_1,...</td>\n",
       "      <td>12</td>\n",
       "    </tr>\n",
       "  </tbody>\n",
       "</table>\n",
       "</div>"
      ],
      "text/plain": [
       "                                          Lemma-text Topic\n",
       "0  [عاجِل_1, نَبَأ_1, دِبلُوماسِيّ_2, تَلّ_1, أَب...    11\n",
       "1  [عُنْصُر_1, مِيلِيشِيا_1, الحوثي_0, قَتَل-u_1,...    12\n",
       "2  [سِعْر_1, زِيادَة_1, مُتابِع_1, تويتر_0, خَلِي...     3\n",
       "3  [اللوء_0, رُكْن_2, مانِع_2, عُمَر_1, ابالعلاء_...    18\n",
       "4  [ٱِنْتَظَر_1, جَبان_1, أُكْذُوبَة_1, تارِيخ_1,...    12"
      ]
     },
     "execution_count": 126,
     "metadata": {},
     "output_type": "execute_result"
    }
   ],
   "source": [
    "df_pol_topics.head()"
   ]
  },
  {
   "cell_type": "code",
   "execution_count": 127,
   "id": "5e5349c9",
   "metadata": {},
   "outputs": [
    {
     "data": {
      "text/plain": [
       "Lemma-text    0\n",
       "Topic         0\n",
       "dtype: int64"
      ]
     },
     "execution_count": 127,
     "metadata": {},
     "output_type": "execute_result"
    }
   ],
   "source": [
    "df_pol_topics.isnull().sum()"
   ]
  },
  {
   "cell_type": "code",
   "execution_count": 128,
   "id": "7bdde3e1",
   "metadata": {},
   "outputs": [],
   "source": [
    "# save to parquet\n",
    "df_pol_topics.to_parquet('/Users/richard/Desktop/data_cap3/interim/df_pol_topics_gsdmm_BEFORE_JOIN.parquet',\n",
    "                         engine='pyarrow')"
   ]
  },
  {
   "cell_type": "code",
   "execution_count": 129,
   "id": "f6df75b5",
   "metadata": {},
   "outputs": [
    {
     "data": {
      "text/html": [
       "<div>\n",
       "<style scoped>\n",
       "    .dataframe tbody tr th:only-of-type {\n",
       "        vertical-align: middle;\n",
       "    }\n",
       "\n",
       "    .dataframe tbody tr th {\n",
       "        vertical-align: top;\n",
       "    }\n",
       "\n",
       "    .dataframe thead th {\n",
       "        text-align: right;\n",
       "    }\n",
       "</style>\n",
       "<table border=\"1\" class=\"dataframe\">\n",
       "  <thead>\n",
       "    <tr style=\"text-align: right;\">\n",
       "      <th></th>\n",
       "      <th>tweet_text</th>\n",
       "      <th>hashtags</th>\n",
       "      <th>is_retweet</th>\n",
       "      <th>retweet_tweetid</th>\n",
       "      <th>topic</th>\n",
       "    </tr>\n",
       "  </thead>\n",
       "  <tbody>\n",
       "    <tr>\n",
       "      <th>11</th>\n",
       "      <td>[عاجِل_1, نَبَأ_1, دِبلُوماسِيّ_2, تَلّ_1, أَب...</td>\n",
       "      <td>[عاجل]</td>\n",
       "      <td>True</td>\n",
       "      <td>9.999468e+17</td>\n",
       "      <td>11.0</td>\n",
       "    </tr>\n",
       "    <tr>\n",
       "      <th>16</th>\n",
       "      <td>[عُنْصُر_1, مِيلِيشِيا_1, الحوثي_0, قَتَل-u_1,...</td>\n",
       "      <td>[الحوثي, التحالف العربي, اليمن, الحاضر العربي]</td>\n",
       "      <td>False</td>\n",
       "      <td>NaN</td>\n",
       "      <td>11.0</td>\n",
       "    </tr>\n",
       "    <tr>\n",
       "      <th>21</th>\n",
       "      <td>[سِعْر_1, زِيادَة_1, مُتابِع_1, تويتر_0, خَلِي...</td>\n",
       "      <td>None</td>\n",
       "      <td>True</td>\n",
       "      <td>9.998055e+17</td>\n",
       "      <td>13.0</td>\n",
       "    </tr>\n",
       "    <tr>\n",
       "      <th>29</th>\n",
       "      <td>[اللوء_0, رُكْن_2, مانِع_2, عُمَر_1, ابالعلاء_...</td>\n",
       "      <td>None</td>\n",
       "      <td>True</td>\n",
       "      <td>9.995083e+17</td>\n",
       "      <td>5.0</td>\n",
       "    </tr>\n",
       "    <tr>\n",
       "      <th>36</th>\n",
       "      <td>[ٱِنْتَظَر_1, جَبان_1, أُكْذُوبَة_1, تارِيخ_1,...</td>\n",
       "      <td>None</td>\n",
       "      <td>False</td>\n",
       "      <td>NaN</td>\n",
       "      <td>5.0</td>\n",
       "    </tr>\n",
       "  </tbody>\n",
       "</table>\n",
       "</div>"
      ],
      "text/plain": [
       "                                           tweet_text  \\\n",
       "11  [عاجِل_1, نَبَأ_1, دِبلُوماسِيّ_2, تَلّ_1, أَب...   \n",
       "16  [عُنْصُر_1, مِيلِيشِيا_1, الحوثي_0, قَتَل-u_1,...   \n",
       "21  [سِعْر_1, زِيادَة_1, مُتابِع_1, تويتر_0, خَلِي...   \n",
       "29  [اللوء_0, رُكْن_2, مانِع_2, عُمَر_1, ابالعلاء_...   \n",
       "36  [ٱِنْتَظَر_1, جَبان_1, أُكْذُوبَة_1, تارِيخ_1,...   \n",
       "\n",
       "                                          hashtags  is_retweet  \\\n",
       "11                                          [عاجل]        True   \n",
       "16  [الحوثي, التحالف العربي, اليمن, الحاضر العربي]       False   \n",
       "21                                            None        True   \n",
       "29                                            None        True   \n",
       "36                                            None       False   \n",
       "\n",
       "    retweet_tweetid  topic  \n",
       "11     9.999468e+17   11.0  \n",
       "16              NaN   11.0  \n",
       "21     9.998055e+17   13.0  \n",
       "29     9.995083e+17    5.0  \n",
       "36              NaN    5.0  "
      ]
     },
     "execution_count": 129,
     "metadata": {},
     "output_type": "execute_result"
    }
   ],
   "source": [
    "df_pol.head()"
   ]
  },
  {
   "cell_type": "code",
   "execution_count": 131,
   "id": "004fbdca",
   "metadata": {},
   "outputs": [],
   "source": [
    "df_pol.drop(columns=['topic'], inplace=True)"
   ]
  },
  {
   "cell_type": "code",
   "execution_count": 133,
   "id": "b8452dbc",
   "metadata": {},
   "outputs": [
    {
     "data": {
      "text/html": [
       "<div>\n",
       "<style scoped>\n",
       "    .dataframe tbody tr th:only-of-type {\n",
       "        vertical-align: middle;\n",
       "    }\n",
       "\n",
       "    .dataframe tbody tr th {\n",
       "        vertical-align: top;\n",
       "    }\n",
       "\n",
       "    .dataframe thead th {\n",
       "        text-align: right;\n",
       "    }\n",
       "</style>\n",
       "<table border=\"1\" class=\"dataframe\">\n",
       "  <thead>\n",
       "    <tr style=\"text-align: right;\">\n",
       "      <th></th>\n",
       "      <th>Lemma-text</th>\n",
       "      <th>Topic</th>\n",
       "    </tr>\n",
       "  </thead>\n",
       "  <tbody>\n",
       "    <tr>\n",
       "      <th>0</th>\n",
       "      <td>[عاجِل_1, نَبَأ_1, دِبلُوماسِيّ_2, تَلّ_1, أَب...</td>\n",
       "      <td>11</td>\n",
       "    </tr>\n",
       "    <tr>\n",
       "      <th>1</th>\n",
       "      <td>[عُنْصُر_1, مِيلِيشِيا_1, الحوثي_0, قَتَل-u_1,...</td>\n",
       "      <td>12</td>\n",
       "    </tr>\n",
       "    <tr>\n",
       "      <th>2</th>\n",
       "      <td>[سِعْر_1, زِيادَة_1, مُتابِع_1, تويتر_0, خَلِي...</td>\n",
       "      <td>3</td>\n",
       "    </tr>\n",
       "    <tr>\n",
       "      <th>3</th>\n",
       "      <td>[اللوء_0, رُكْن_2, مانِع_2, عُمَر_1, ابالعلاء_...</td>\n",
       "      <td>18</td>\n",
       "    </tr>\n",
       "    <tr>\n",
       "      <th>4</th>\n",
       "      <td>[ٱِنْتَظَر_1, جَبان_1, أُكْذُوبَة_1, تارِيخ_1,...</td>\n",
       "      <td>12</td>\n",
       "    </tr>\n",
       "  </tbody>\n",
       "</table>\n",
       "</div>"
      ],
      "text/plain": [
       "                                          Lemma-text Topic\n",
       "0  [عاجِل_1, نَبَأ_1, دِبلُوماسِيّ_2, تَلّ_1, أَب...    11\n",
       "1  [عُنْصُر_1, مِيلِيشِيا_1, الحوثي_0, قَتَل-u_1,...    12\n",
       "2  [سِعْر_1, زِيادَة_1, مُتابِع_1, تويتر_0, خَلِي...     3\n",
       "3  [اللوء_0, رُكْن_2, مانِع_2, عُمَر_1, ابالعلاء_...    18\n",
       "4  [ٱِنْتَظَر_1, جَبان_1, أُكْذُوبَة_1, تارِيخ_1,...    12"
      ]
     },
     "execution_count": 133,
     "metadata": {},
     "output_type": "execute_result"
    }
   ],
   "source": [
    "df_pol_topics.head()"
   ]
  },
  {
   "cell_type": "markdown",
   "id": "7c6cd083",
   "metadata": {},
   "source": [
    "## 6.5. Joining Topics to df_pol"
   ]
  },
  {
   "cell_type": "code",
   "execution_count": 72,
   "id": "0693e0f6",
   "metadata": {},
   "outputs": [],
   "source": [
    "df_pol = pd.read_parquet('/Users/richard/Desktop/data_cap3/interim/df_topics_LDA_15_120521_ONLY_POL.parquet',\n",
    "                     engine='pyarrow')"
   ]
  },
  {
   "cell_type": "code",
   "execution_count": 73,
   "id": "11add339",
   "metadata": {},
   "outputs": [],
   "source": [
    "df_pol_topics = pd.read_parquet('/Users/richard/Desktop/data_cap3/interim/df_pol_topics_gsdmm_BEFORE_JOIN.parquet',\n",
    "                                engine='pyarrow')"
   ]
  },
  {
   "cell_type": "code",
   "execution_count": 74,
   "id": "d40c1fd8",
   "metadata": {},
   "outputs": [],
   "source": [
    "df_unique_with_timestamps = pd.read_parquet('/Users/richard/Desktop/data_cap3/processed/df_unique_tweets_hashtags_lemmatized_with_timestamp_first.parquet',\n",
    "                                            engine='pyarrow')"
   ]
  },
  {
   "cell_type": "code",
   "execution_count": 75,
   "id": "21f33b4d",
   "metadata": {},
   "outputs": [
    {
     "data": {
      "text/html": [
       "<div>\n",
       "<style scoped>\n",
       "    .dataframe tbody tr th:only-of-type {\n",
       "        vertical-align: middle;\n",
       "    }\n",
       "\n",
       "    .dataframe tbody tr th {\n",
       "        vertical-align: top;\n",
       "    }\n",
       "\n",
       "    .dataframe thead th {\n",
       "        text-align: right;\n",
       "    }\n",
       "</style>\n",
       "<table border=\"1\" class=\"dataframe\">\n",
       "  <thead>\n",
       "    <tr style=\"text-align: right;\">\n",
       "      <th></th>\n",
       "      <th>tweet_text</th>\n",
       "      <th>hashtags</th>\n",
       "      <th>is_retweet</th>\n",
       "      <th>retweet_tweetid</th>\n",
       "      <th>topic</th>\n",
       "    </tr>\n",
       "  </thead>\n",
       "  <tbody>\n",
       "    <tr>\n",
       "      <th>11</th>\n",
       "      <td>[عاجِل_1, نَبَأ_1, دِبلُوماسِيّ_2, تَلّ_1, أَب...</td>\n",
       "      <td>[عاجل]</td>\n",
       "      <td>True</td>\n",
       "      <td>9.999468e+17</td>\n",
       "      <td>11.0</td>\n",
       "    </tr>\n",
       "    <tr>\n",
       "      <th>16</th>\n",
       "      <td>[عُنْصُر_1, مِيلِيشِيا_1, الحوثي_0, قَتَل-u_1,...</td>\n",
       "      <td>[الحوثي, التحالف العربي, اليمن, الحاضر العربي]</td>\n",
       "      <td>False</td>\n",
       "      <td>NaN</td>\n",
       "      <td>11.0</td>\n",
       "    </tr>\n",
       "    <tr>\n",
       "      <th>21</th>\n",
       "      <td>[سِعْر_1, زِيادَة_1, مُتابِع_1, تويتر_0, خَلِي...</td>\n",
       "      <td>None</td>\n",
       "      <td>True</td>\n",
       "      <td>9.998055e+17</td>\n",
       "      <td>13.0</td>\n",
       "    </tr>\n",
       "  </tbody>\n",
       "</table>\n",
       "</div>"
      ],
      "text/plain": [
       "                                           tweet_text  \\\n",
       "11  [عاجِل_1, نَبَأ_1, دِبلُوماسِيّ_2, تَلّ_1, أَب...   \n",
       "16  [عُنْصُر_1, مِيلِيشِيا_1, الحوثي_0, قَتَل-u_1,...   \n",
       "21  [سِعْر_1, زِيادَة_1, مُتابِع_1, تويتر_0, خَلِي...   \n",
       "\n",
       "                                          hashtags  is_retweet  \\\n",
       "11                                          [عاجل]        True   \n",
       "16  [الحوثي, التحالف العربي, اليمن, الحاضر العربي]       False   \n",
       "21                                            None        True   \n",
       "\n",
       "    retweet_tweetid  topic  \n",
       "11     9.999468e+17   11.0  \n",
       "16              NaN   11.0  \n",
       "21     9.998055e+17   13.0  "
      ]
     },
     "execution_count": 75,
     "metadata": {},
     "output_type": "execute_result"
    }
   ],
   "source": [
    "df_pol.head(3)"
   ]
  },
  {
   "cell_type": "code",
   "execution_count": 76,
   "id": "751808bd",
   "metadata": {},
   "outputs": [],
   "source": [
    "df_pol = df_pol.drop(columns=['topic'])"
   ]
  },
  {
   "cell_type": "code",
   "execution_count": 77,
   "id": "8c8c3f38",
   "metadata": {},
   "outputs": [
    {
     "data": {
      "text/plain": [
       "(349571, 4)"
      ]
     },
     "execution_count": 77,
     "metadata": {},
     "output_type": "execute_result"
    }
   ],
   "source": [
    "df_pol.shape"
   ]
  },
  {
   "cell_type": "code",
   "execution_count": 78,
   "id": "f27b7615",
   "metadata": {},
   "outputs": [
    {
     "data": {
      "text/html": [
       "<div>\n",
       "<style scoped>\n",
       "    .dataframe tbody tr th:only-of-type {\n",
       "        vertical-align: middle;\n",
       "    }\n",
       "\n",
       "    .dataframe tbody tr th {\n",
       "        vertical-align: top;\n",
       "    }\n",
       "\n",
       "    .dataframe thead th {\n",
       "        text-align: right;\n",
       "    }\n",
       "</style>\n",
       "<table border=\"1\" class=\"dataframe\">\n",
       "  <thead>\n",
       "    <tr style=\"text-align: right;\">\n",
       "      <th></th>\n",
       "      <th>tweet_text</th>\n",
       "      <th>hashtags</th>\n",
       "      <th>is_retweet</th>\n",
       "      <th>retweet_tweetid</th>\n",
       "    </tr>\n",
       "  </thead>\n",
       "  <tbody>\n",
       "    <tr>\n",
       "      <th>11</th>\n",
       "      <td>[عاجِل_1, نَبَأ_1, دِبلُوماسِيّ_2, تَلّ_1, أَب...</td>\n",
       "      <td>[عاجل]</td>\n",
       "      <td>True</td>\n",
       "      <td>9.999468e+17</td>\n",
       "    </tr>\n",
       "    <tr>\n",
       "      <th>16</th>\n",
       "      <td>[عُنْصُر_1, مِيلِيشِيا_1, الحوثي_0, قَتَل-u_1,...</td>\n",
       "      <td>[الحوثي, التحالف العربي, اليمن, الحاضر العربي]</td>\n",
       "      <td>False</td>\n",
       "      <td>NaN</td>\n",
       "    </tr>\n",
       "    <tr>\n",
       "      <th>21</th>\n",
       "      <td>[سِعْر_1, زِيادَة_1, مُتابِع_1, تويتر_0, خَلِي...</td>\n",
       "      <td>None</td>\n",
       "      <td>True</td>\n",
       "      <td>9.998055e+17</td>\n",
       "    </tr>\n",
       "  </tbody>\n",
       "</table>\n",
       "</div>"
      ],
      "text/plain": [
       "                                           tweet_text  \\\n",
       "11  [عاجِل_1, نَبَأ_1, دِبلُوماسِيّ_2, تَلّ_1, أَب...   \n",
       "16  [عُنْصُر_1, مِيلِيشِيا_1, الحوثي_0, قَتَل-u_1,...   \n",
       "21  [سِعْر_1, زِيادَة_1, مُتابِع_1, تويتر_0, خَلِي...   \n",
       "\n",
       "                                          hashtags  is_retweet  \\\n",
       "11                                          [عاجل]        True   \n",
       "16  [الحوثي, التحالف العربي, اليمن, الحاضر العربي]       False   \n",
       "21                                            None        True   \n",
       "\n",
       "    retweet_tweetid  \n",
       "11     9.999468e+17  \n",
       "16              NaN  \n",
       "21     9.998055e+17  "
      ]
     },
     "execution_count": 78,
     "metadata": {},
     "output_type": "execute_result"
    }
   ],
   "source": [
    "df_pol.head(3)"
   ]
  },
  {
   "cell_type": "markdown",
   "id": "72fd7c25",
   "metadata": {},
   "source": [
    "Let's join the username and timestamp from the df_unique."
   ]
  },
  {
   "cell_type": "code",
   "execution_count": 79,
   "id": "553a94ad",
   "metadata": {},
   "outputs": [],
   "source": [
    "df_pol = df_pol.merge(df_unique_with_timestamps[['user_reference_id', 'timestamp_first']],\n",
    "                      how='left',\n",
    "                      left_index=True,\n",
    "                      right_index=True)"
   ]
  },
  {
   "cell_type": "code",
   "execution_count": 80,
   "id": "40e7880c",
   "metadata": {},
   "outputs": [
    {
     "data": {
      "text/plain": [
       "(349571, 6)"
      ]
     },
     "execution_count": 80,
     "metadata": {},
     "output_type": "execute_result"
    }
   ],
   "source": [
    "df_pol.shape"
   ]
  },
  {
   "cell_type": "code",
   "execution_count": 81,
   "id": "8f5a39d4",
   "metadata": {},
   "outputs": [
    {
     "data": {
      "text/html": [
       "<div>\n",
       "<style scoped>\n",
       "    .dataframe tbody tr th:only-of-type {\n",
       "        vertical-align: middle;\n",
       "    }\n",
       "\n",
       "    .dataframe tbody tr th {\n",
       "        vertical-align: top;\n",
       "    }\n",
       "\n",
       "    .dataframe thead th {\n",
       "        text-align: right;\n",
       "    }\n",
       "</style>\n",
       "<table border=\"1\" class=\"dataframe\">\n",
       "  <thead>\n",
       "    <tr style=\"text-align: right;\">\n",
       "      <th></th>\n",
       "      <th>tweet_text</th>\n",
       "      <th>hashtags</th>\n",
       "      <th>is_retweet</th>\n",
       "      <th>retweet_tweetid</th>\n",
       "      <th>user_reference_id</th>\n",
       "      <th>timestamp_first</th>\n",
       "    </tr>\n",
       "  </thead>\n",
       "  <tbody>\n",
       "    <tr>\n",
       "      <th>11</th>\n",
       "      <td>[عاجِل_1, نَبَأ_1, دِبلُوماسِيّ_2, تَلّ_1, أَب...</td>\n",
       "      <td>[عاجل]</td>\n",
       "      <td>True</td>\n",
       "      <td>9.999468e+17</td>\n",
       "      <td>0</td>\n",
       "      <td>2018-05-25 13:07:00</td>\n",
       "    </tr>\n",
       "    <tr>\n",
       "      <th>16</th>\n",
       "      <td>[عُنْصُر_1, مِيلِيشِيا_1, الحوثي_0, قَتَل-u_1,...</td>\n",
       "      <td>[الحوثي, التحالف العربي, اليمن, الحاضر العربي]</td>\n",
       "      <td>False</td>\n",
       "      <td>NaN</td>\n",
       "      <td>5</td>\n",
       "      <td>2018-05-25 13:08:00</td>\n",
       "    </tr>\n",
       "    <tr>\n",
       "      <th>21</th>\n",
       "      <td>[سِعْر_1, زِيادَة_1, مُتابِع_1, تويتر_0, خَلِي...</td>\n",
       "      <td>None</td>\n",
       "      <td>True</td>\n",
       "      <td>9.998055e+17</td>\n",
       "      <td>0</td>\n",
       "      <td>2018-05-22 08:51:00</td>\n",
       "    </tr>\n",
       "    <tr>\n",
       "      <th>29</th>\n",
       "      <td>[اللوء_0, رُكْن_2, مانِع_2, عُمَر_1, ابالعلاء_...</td>\n",
       "      <td>None</td>\n",
       "      <td>True</td>\n",
       "      <td>9.995083e+17</td>\n",
       "      <td>58</td>\n",
       "      <td>2018-05-25 00:27:00</td>\n",
       "    </tr>\n",
       "    <tr>\n",
       "      <th>36</th>\n",
       "      <td>[ٱِنْتَظَر_1, جَبان_1, أُكْذُوبَة_1, تارِيخ_1,...</td>\n",
       "      <td>None</td>\n",
       "      <td>False</td>\n",
       "      <td>NaN</td>\n",
       "      <td>1</td>\n",
       "      <td>2018-05-25 13:10:00</td>\n",
       "    </tr>\n",
       "  </tbody>\n",
       "</table>\n",
       "</div>"
      ],
      "text/plain": [
       "                                           tweet_text  \\\n",
       "11  [عاجِل_1, نَبَأ_1, دِبلُوماسِيّ_2, تَلّ_1, أَب...   \n",
       "16  [عُنْصُر_1, مِيلِيشِيا_1, الحوثي_0, قَتَل-u_1,...   \n",
       "21  [سِعْر_1, زِيادَة_1, مُتابِع_1, تويتر_0, خَلِي...   \n",
       "29  [اللوء_0, رُكْن_2, مانِع_2, عُمَر_1, ابالعلاء_...   \n",
       "36  [ٱِنْتَظَر_1, جَبان_1, أُكْذُوبَة_1, تارِيخ_1,...   \n",
       "\n",
       "                                          hashtags  is_retweet  \\\n",
       "11                                          [عاجل]        True   \n",
       "16  [الحوثي, التحالف العربي, اليمن, الحاضر العربي]       False   \n",
       "21                                            None        True   \n",
       "29                                            None        True   \n",
       "36                                            None       False   \n",
       "\n",
       "    retweet_tweetid  user_reference_id     timestamp_first  \n",
       "11     9.999468e+17                  0 2018-05-25 13:07:00  \n",
       "16              NaN                  5 2018-05-25 13:08:00  \n",
       "21     9.998055e+17                  0 2018-05-22 08:51:00  \n",
       "29     9.995083e+17                 58 2018-05-25 00:27:00  \n",
       "36              NaN                  1 2018-05-25 13:10:00  "
      ]
     },
     "execution_count": 81,
     "metadata": {},
     "output_type": "execute_result"
    }
   ],
   "source": [
    "df_pol.head()"
   ]
  },
  {
   "cell_type": "markdown",
   "id": "011631e8",
   "metadata": {},
   "source": [
    "Let's also turn the index into a column, to make sure it's preserved as it goes through the joins."
   ]
  },
  {
   "cell_type": "code",
   "execution_count": 82,
   "id": "22f00688",
   "metadata": {},
   "outputs": [],
   "source": [
    "df_pol.reset_index(drop=False, inplace=True)"
   ]
  },
  {
   "cell_type": "code",
   "execution_count": 83,
   "id": "8f72b0de",
   "metadata": {},
   "outputs": [],
   "source": [
    "df_pol.rename(columns={'index': 'unique_tweetid'}, inplace=True)"
   ]
  },
  {
   "cell_type": "code",
   "execution_count": 84,
   "id": "c0f4c36a",
   "metadata": {},
   "outputs": [
    {
     "data": {
      "text/html": [
       "<div>\n",
       "<style scoped>\n",
       "    .dataframe tbody tr th:only-of-type {\n",
       "        vertical-align: middle;\n",
       "    }\n",
       "\n",
       "    .dataframe tbody tr th {\n",
       "        vertical-align: top;\n",
       "    }\n",
       "\n",
       "    .dataframe thead th {\n",
       "        text-align: right;\n",
       "    }\n",
       "</style>\n",
       "<table border=\"1\" class=\"dataframe\">\n",
       "  <thead>\n",
       "    <tr style=\"text-align: right;\">\n",
       "      <th></th>\n",
       "      <th>unique_tweetid</th>\n",
       "      <th>tweet_text</th>\n",
       "      <th>hashtags</th>\n",
       "      <th>is_retweet</th>\n",
       "      <th>retweet_tweetid</th>\n",
       "      <th>user_reference_id</th>\n",
       "      <th>timestamp_first</th>\n",
       "    </tr>\n",
       "  </thead>\n",
       "  <tbody>\n",
       "    <tr>\n",
       "      <th>0</th>\n",
       "      <td>11</td>\n",
       "      <td>[عاجِل_1, نَبَأ_1, دِبلُوماسِيّ_2, تَلّ_1, أَب...</td>\n",
       "      <td>[عاجل]</td>\n",
       "      <td>True</td>\n",
       "      <td>9.999468e+17</td>\n",
       "      <td>0</td>\n",
       "      <td>2018-05-25 13:07:00</td>\n",
       "    </tr>\n",
       "    <tr>\n",
       "      <th>1</th>\n",
       "      <td>16</td>\n",
       "      <td>[عُنْصُر_1, مِيلِيشِيا_1, الحوثي_0, قَتَل-u_1,...</td>\n",
       "      <td>[الحوثي, التحالف العربي, اليمن, الحاضر العربي]</td>\n",
       "      <td>False</td>\n",
       "      <td>NaN</td>\n",
       "      <td>5</td>\n",
       "      <td>2018-05-25 13:08:00</td>\n",
       "    </tr>\n",
       "    <tr>\n",
       "      <th>2</th>\n",
       "      <td>21</td>\n",
       "      <td>[سِعْر_1, زِيادَة_1, مُتابِع_1, تويتر_0, خَلِي...</td>\n",
       "      <td>None</td>\n",
       "      <td>True</td>\n",
       "      <td>9.998055e+17</td>\n",
       "      <td>0</td>\n",
       "      <td>2018-05-22 08:51:00</td>\n",
       "    </tr>\n",
       "    <tr>\n",
       "      <th>3</th>\n",
       "      <td>29</td>\n",
       "      <td>[اللوء_0, رُكْن_2, مانِع_2, عُمَر_1, ابالعلاء_...</td>\n",
       "      <td>None</td>\n",
       "      <td>True</td>\n",
       "      <td>9.995083e+17</td>\n",
       "      <td>58</td>\n",
       "      <td>2018-05-25 00:27:00</td>\n",
       "    </tr>\n",
       "    <tr>\n",
       "      <th>4</th>\n",
       "      <td>36</td>\n",
       "      <td>[ٱِنْتَظَر_1, جَبان_1, أُكْذُوبَة_1, تارِيخ_1,...</td>\n",
       "      <td>None</td>\n",
       "      <td>False</td>\n",
       "      <td>NaN</td>\n",
       "      <td>1</td>\n",
       "      <td>2018-05-25 13:10:00</td>\n",
       "    </tr>\n",
       "  </tbody>\n",
       "</table>\n",
       "</div>"
      ],
      "text/plain": [
       "   unique_tweetid                                         tweet_text  \\\n",
       "0              11  [عاجِل_1, نَبَأ_1, دِبلُوماسِيّ_2, تَلّ_1, أَب...   \n",
       "1              16  [عُنْصُر_1, مِيلِيشِيا_1, الحوثي_0, قَتَل-u_1,...   \n",
       "2              21  [سِعْر_1, زِيادَة_1, مُتابِع_1, تويتر_0, خَلِي...   \n",
       "3              29  [اللوء_0, رُكْن_2, مانِع_2, عُمَر_1, ابالعلاء_...   \n",
       "4              36  [ٱِنْتَظَر_1, جَبان_1, أُكْذُوبَة_1, تارِيخ_1,...   \n",
       "\n",
       "                                         hashtags  is_retweet  \\\n",
       "0                                          [عاجل]        True   \n",
       "1  [الحوثي, التحالف العربي, اليمن, الحاضر العربي]       False   \n",
       "2                                            None        True   \n",
       "3                                            None        True   \n",
       "4                                            None       False   \n",
       "\n",
       "   retweet_tweetid  user_reference_id     timestamp_first  \n",
       "0     9.999468e+17                  0 2018-05-25 13:07:00  \n",
       "1              NaN                  5 2018-05-25 13:08:00  \n",
       "2     9.998055e+17                  0 2018-05-22 08:51:00  \n",
       "3     9.995083e+17                 58 2018-05-25 00:27:00  \n",
       "4              NaN                  1 2018-05-25 13:10:00  "
      ]
     },
     "execution_count": 84,
     "metadata": {},
     "output_type": "execute_result"
    }
   ],
   "source": [
    "df_pol.head()"
   ]
  },
  {
   "cell_type": "markdown",
   "id": "64ef0772",
   "metadata": {},
   "source": [
    "OK, let's now have a look at the dataframe with the GSDMM topics."
   ]
  },
  {
   "cell_type": "code",
   "execution_count": 85,
   "id": "a0939504",
   "metadata": {},
   "outputs": [
    {
     "data": {
      "text/plain": [
       "(349571, 2)"
      ]
     },
     "execution_count": 85,
     "metadata": {},
     "output_type": "execute_result"
    }
   ],
   "source": [
    "df_pol_topics.shape"
   ]
  },
  {
   "cell_type": "code",
   "execution_count": 86,
   "id": "4939ac1e",
   "metadata": {
    "scrolled": true
   },
   "outputs": [
    {
     "data": {
      "text/html": [
       "<div>\n",
       "<style scoped>\n",
       "    .dataframe tbody tr th:only-of-type {\n",
       "        vertical-align: middle;\n",
       "    }\n",
       "\n",
       "    .dataframe tbody tr th {\n",
       "        vertical-align: top;\n",
       "    }\n",
       "\n",
       "    .dataframe thead th {\n",
       "        text-align: right;\n",
       "    }\n",
       "</style>\n",
       "<table border=\"1\" class=\"dataframe\">\n",
       "  <thead>\n",
       "    <tr style=\"text-align: right;\">\n",
       "      <th></th>\n",
       "      <th>Lemma-text</th>\n",
       "      <th>Topic</th>\n",
       "    </tr>\n",
       "  </thead>\n",
       "  <tbody>\n",
       "    <tr>\n",
       "      <th>0</th>\n",
       "      <td>[عاجِل_1, نَبَأ_1, دِبلُوماسِيّ_2, تَلّ_1, أَب...</td>\n",
       "      <td>11</td>\n",
       "    </tr>\n",
       "    <tr>\n",
       "      <th>1</th>\n",
       "      <td>[عُنْصُر_1, مِيلِيشِيا_1, الحوثي_0, قَتَل-u_1,...</td>\n",
       "      <td>12</td>\n",
       "    </tr>\n",
       "    <tr>\n",
       "      <th>2</th>\n",
       "      <td>[سِعْر_1, زِيادَة_1, مُتابِع_1, تويتر_0, خَلِي...</td>\n",
       "      <td>3</td>\n",
       "    </tr>\n",
       "  </tbody>\n",
       "</table>\n",
       "</div>"
      ],
      "text/plain": [
       "                                          Lemma-text  Topic\n",
       "0  [عاجِل_1, نَبَأ_1, دِبلُوماسِيّ_2, تَلّ_1, أَب...     11\n",
       "1  [عُنْصُر_1, مِيلِيشِيا_1, الحوثي_0, قَتَل-u_1,...     12\n",
       "2  [سِعْر_1, زِيادَة_1, مُتابِع_1, تويتر_0, خَلِي...      3"
      ]
     },
     "execution_count": 86,
     "metadata": {},
     "output_type": "execute_result"
    }
   ],
   "source": [
    "df_pol_topics.head(3)"
   ]
  },
  {
   "cell_type": "code",
   "execution_count": 87,
   "id": "6c4bf192",
   "metadata": {},
   "outputs": [],
   "source": [
    "# rename columns\n",
    "df_pol_topics.rename(columns={\n",
    "    'Lemma-text': 'tweet_text',\n",
    "    'Topic': 'gsdmm_topic'\n",
    "}, inplace=True)"
   ]
  },
  {
   "cell_type": "code",
   "execution_count": 88,
   "id": "b26db6d6",
   "metadata": {
    "scrolled": true
   },
   "outputs": [
    {
     "data": {
      "text/plain": [
       "numpy.ndarray"
      ]
     },
     "execution_count": 88,
     "metadata": {},
     "output_type": "execute_result"
    }
   ],
   "source": [
    "type(df_pol_topics.iloc[0]['tweet_text'])"
   ]
  },
  {
   "cell_type": "code",
   "execution_count": 89,
   "id": "701c43f0",
   "metadata": {},
   "outputs": [
    {
     "data": {
      "text/plain": [
       "numpy.ndarray"
      ]
     },
     "execution_count": 89,
     "metadata": {},
     "output_type": "execute_result"
    }
   ],
   "source": [
    "type(df_pol.iloc[0]['tweet_text'])"
   ]
  },
  {
   "cell_type": "markdown",
   "id": "dc9736ff",
   "metadata": {},
   "source": [
    "We have to convert these columns to strings before we can do the join."
   ]
  },
  {
   "cell_type": "code",
   "execution_count": 90,
   "id": "5826c6fe",
   "metadata": {},
   "outputs": [],
   "source": [
    "df_pol_topics['tweet_text_for_join'] = df_pol_topics['tweet_text'].apply(lambda x: str(x))"
   ]
  },
  {
   "cell_type": "code",
   "execution_count": 91,
   "id": "eccbca8c",
   "metadata": {},
   "outputs": [],
   "source": [
    "df_pol['tweet_text_for_join'] = df_pol['tweet_text'].apply(lambda x: str(x))"
   ]
  },
  {
   "cell_type": "code",
   "execution_count": 92,
   "id": "1246e04c",
   "metadata": {},
   "outputs": [
    {
     "data": {
      "text/html": [
       "<div>\n",
       "<style scoped>\n",
       "    .dataframe tbody tr th:only-of-type {\n",
       "        vertical-align: middle;\n",
       "    }\n",
       "\n",
       "    .dataframe tbody tr th {\n",
       "        vertical-align: top;\n",
       "    }\n",
       "\n",
       "    .dataframe thead th {\n",
       "        text-align: right;\n",
       "    }\n",
       "</style>\n",
       "<table border=\"1\" class=\"dataframe\">\n",
       "  <thead>\n",
       "    <tr style=\"text-align: right;\">\n",
       "      <th></th>\n",
       "      <th>tweet_text</th>\n",
       "      <th>gsdmm_topic</th>\n",
       "      <th>tweet_text_for_join</th>\n",
       "    </tr>\n",
       "  </thead>\n",
       "  <tbody>\n",
       "    <tr>\n",
       "      <th>0</th>\n",
       "      <td>[عاجِل_1, نَبَأ_1, دِبلُوماسِيّ_2, تَلّ_1, أَب...</td>\n",
       "      <td>11</td>\n",
       "      <td>['عاجِل_1' 'نَبَأ_1' 'دِبلُوماسِيّ_2' 'تَلّ_1'...</td>\n",
       "    </tr>\n",
       "    <tr>\n",
       "      <th>1</th>\n",
       "      <td>[عُنْصُر_1, مِيلِيشِيا_1, الحوثي_0, قَتَل-u_1,...</td>\n",
       "      <td>12</td>\n",
       "      <td>['عُنْصُر_1' 'مِيلِيشِيا_1' 'الحوثي_0' 'قَتَل-...</td>\n",
       "    </tr>\n",
       "    <tr>\n",
       "      <th>2</th>\n",
       "      <td>[سِعْر_1, زِيادَة_1, مُتابِع_1, تويتر_0, خَلِي...</td>\n",
       "      <td>3</td>\n",
       "      <td>['سِعْر_1' 'زِيادَة_1' 'مُتابِع_1' 'تويتر_0' '...</td>\n",
       "    </tr>\n",
       "    <tr>\n",
       "      <th>3</th>\n",
       "      <td>[اللوء_0, رُكْن_2, مانِع_2, عُمَر_1, ابالعلاء_...</td>\n",
       "      <td>18</td>\n",
       "      <td>['اللوء_0' 'رُكْن_2' 'مانِع_2' 'عُمَر_1' 'ابال...</td>\n",
       "    </tr>\n",
       "    <tr>\n",
       "      <th>4</th>\n",
       "      <td>[ٱِنْتَظَر_1, جَبان_1, أُكْذُوبَة_1, تارِيخ_1,...</td>\n",
       "      <td>12</td>\n",
       "      <td>['ٱِنْتَظَر_1' 'جَبان_1' 'أُكْذُوبَة_1' 'تارِي...</td>\n",
       "    </tr>\n",
       "  </tbody>\n",
       "</table>\n",
       "</div>"
      ],
      "text/plain": [
       "                                          tweet_text  gsdmm_topic  \\\n",
       "0  [عاجِل_1, نَبَأ_1, دِبلُوماسِيّ_2, تَلّ_1, أَب...           11   \n",
       "1  [عُنْصُر_1, مِيلِيشِيا_1, الحوثي_0, قَتَل-u_1,...           12   \n",
       "2  [سِعْر_1, زِيادَة_1, مُتابِع_1, تويتر_0, خَلِي...            3   \n",
       "3  [اللوء_0, رُكْن_2, مانِع_2, عُمَر_1, ابالعلاء_...           18   \n",
       "4  [ٱِنْتَظَر_1, جَبان_1, أُكْذُوبَة_1, تارِيخ_1,...           12   \n",
       "\n",
       "                                 tweet_text_for_join  \n",
       "0  ['عاجِل_1' 'نَبَأ_1' 'دِبلُوماسِيّ_2' 'تَلّ_1'...  \n",
       "1  ['عُنْصُر_1' 'مِيلِيشِيا_1' 'الحوثي_0' 'قَتَل-...  \n",
       "2  ['سِعْر_1' 'زِيادَة_1' 'مُتابِع_1' 'تويتر_0' '...  \n",
       "3  ['اللوء_0' 'رُكْن_2' 'مانِع_2' 'عُمَر_1' 'ابال...  \n",
       "4  ['ٱِنْتَظَر_1' 'جَبان_1' 'أُكْذُوبَة_1' 'تارِي...  "
      ]
     },
     "execution_count": 92,
     "metadata": {},
     "output_type": "execute_result"
    }
   ],
   "source": [
    "df_pol_topics.head()"
   ]
  },
  {
   "cell_type": "code",
   "execution_count": 93,
   "id": "43810dae",
   "metadata": {},
   "outputs": [
    {
     "data": {
      "text/html": [
       "<div>\n",
       "<style scoped>\n",
       "    .dataframe tbody tr th:only-of-type {\n",
       "        vertical-align: middle;\n",
       "    }\n",
       "\n",
       "    .dataframe tbody tr th {\n",
       "        vertical-align: top;\n",
       "    }\n",
       "\n",
       "    .dataframe thead th {\n",
       "        text-align: right;\n",
       "    }\n",
       "</style>\n",
       "<table border=\"1\" class=\"dataframe\">\n",
       "  <thead>\n",
       "    <tr style=\"text-align: right;\">\n",
       "      <th></th>\n",
       "      <th>unique_tweetid</th>\n",
       "      <th>tweet_text</th>\n",
       "      <th>hashtags</th>\n",
       "      <th>is_retweet</th>\n",
       "      <th>retweet_tweetid</th>\n",
       "      <th>user_reference_id</th>\n",
       "      <th>timestamp_first</th>\n",
       "      <th>tweet_text_for_join</th>\n",
       "    </tr>\n",
       "  </thead>\n",
       "  <tbody>\n",
       "    <tr>\n",
       "      <th>0</th>\n",
       "      <td>11</td>\n",
       "      <td>[عاجِل_1, نَبَأ_1, دِبلُوماسِيّ_2, تَلّ_1, أَب...</td>\n",
       "      <td>[عاجل]</td>\n",
       "      <td>True</td>\n",
       "      <td>9.999468e+17</td>\n",
       "      <td>0</td>\n",
       "      <td>2018-05-25 13:07:00</td>\n",
       "      <td>['عاجِل_1' 'نَبَأ_1' 'دِبلُوماسِيّ_2' 'تَلّ_1'...</td>\n",
       "    </tr>\n",
       "    <tr>\n",
       "      <th>1</th>\n",
       "      <td>16</td>\n",
       "      <td>[عُنْصُر_1, مِيلِيشِيا_1, الحوثي_0, قَتَل-u_1,...</td>\n",
       "      <td>[الحوثي, التحالف العربي, اليمن, الحاضر العربي]</td>\n",
       "      <td>False</td>\n",
       "      <td>NaN</td>\n",
       "      <td>5</td>\n",
       "      <td>2018-05-25 13:08:00</td>\n",
       "      <td>['عُنْصُر_1' 'مِيلِيشِيا_1' 'الحوثي_0' 'قَتَل-...</td>\n",
       "    </tr>\n",
       "    <tr>\n",
       "      <th>2</th>\n",
       "      <td>21</td>\n",
       "      <td>[سِعْر_1, زِيادَة_1, مُتابِع_1, تويتر_0, خَلِي...</td>\n",
       "      <td>None</td>\n",
       "      <td>True</td>\n",
       "      <td>9.998055e+17</td>\n",
       "      <td>0</td>\n",
       "      <td>2018-05-22 08:51:00</td>\n",
       "      <td>['سِعْر_1' 'زِيادَة_1' 'مُتابِع_1' 'تويتر_0' '...</td>\n",
       "    </tr>\n",
       "    <tr>\n",
       "      <th>3</th>\n",
       "      <td>29</td>\n",
       "      <td>[اللوء_0, رُكْن_2, مانِع_2, عُمَر_1, ابالعلاء_...</td>\n",
       "      <td>None</td>\n",
       "      <td>True</td>\n",
       "      <td>9.995083e+17</td>\n",
       "      <td>58</td>\n",
       "      <td>2018-05-25 00:27:00</td>\n",
       "      <td>['اللوء_0' 'رُكْن_2' 'مانِع_2' 'عُمَر_1' 'ابال...</td>\n",
       "    </tr>\n",
       "    <tr>\n",
       "      <th>4</th>\n",
       "      <td>36</td>\n",
       "      <td>[ٱِنْتَظَر_1, جَبان_1, أُكْذُوبَة_1, تارِيخ_1,...</td>\n",
       "      <td>None</td>\n",
       "      <td>False</td>\n",
       "      <td>NaN</td>\n",
       "      <td>1</td>\n",
       "      <td>2018-05-25 13:10:00</td>\n",
       "      <td>['ٱِنْتَظَر_1' 'جَبان_1' 'أُكْذُوبَة_1' 'تارِي...</td>\n",
       "    </tr>\n",
       "  </tbody>\n",
       "</table>\n",
       "</div>"
      ],
      "text/plain": [
       "   unique_tweetid                                         tweet_text  \\\n",
       "0              11  [عاجِل_1, نَبَأ_1, دِبلُوماسِيّ_2, تَلّ_1, أَب...   \n",
       "1              16  [عُنْصُر_1, مِيلِيشِيا_1, الحوثي_0, قَتَل-u_1,...   \n",
       "2              21  [سِعْر_1, زِيادَة_1, مُتابِع_1, تويتر_0, خَلِي...   \n",
       "3              29  [اللوء_0, رُكْن_2, مانِع_2, عُمَر_1, ابالعلاء_...   \n",
       "4              36  [ٱِنْتَظَر_1, جَبان_1, أُكْذُوبَة_1, تارِيخ_1,...   \n",
       "\n",
       "                                         hashtags  is_retweet  \\\n",
       "0                                          [عاجل]        True   \n",
       "1  [الحوثي, التحالف العربي, اليمن, الحاضر العربي]       False   \n",
       "2                                            None        True   \n",
       "3                                            None        True   \n",
       "4                                            None       False   \n",
       "\n",
       "   retweet_tweetid  user_reference_id     timestamp_first  \\\n",
       "0     9.999468e+17                  0 2018-05-25 13:07:00   \n",
       "1              NaN                  5 2018-05-25 13:08:00   \n",
       "2     9.998055e+17                  0 2018-05-22 08:51:00   \n",
       "3     9.995083e+17                 58 2018-05-25 00:27:00   \n",
       "4              NaN                  1 2018-05-25 13:10:00   \n",
       "\n",
       "                                 tweet_text_for_join  \n",
       "0  ['عاجِل_1' 'نَبَأ_1' 'دِبلُوماسِيّ_2' 'تَلّ_1'...  \n",
       "1  ['عُنْصُر_1' 'مِيلِيشِيا_1' 'الحوثي_0' 'قَتَل-...  \n",
       "2  ['سِعْر_1' 'زِيادَة_1' 'مُتابِع_1' 'تويتر_0' '...  \n",
       "3  ['اللوء_0' 'رُكْن_2' 'مانِع_2' 'عُمَر_1' 'ابال...  \n",
       "4  ['ٱِنْتَظَر_1' 'جَبان_1' 'أُكْذُوبَة_1' 'تارِي...  "
      ]
     },
     "execution_count": 93,
     "metadata": {},
     "output_type": "execute_result"
    }
   ],
   "source": [
    "df_pol.head()"
   ]
  },
  {
   "cell_type": "code",
   "execution_count": 96,
   "id": "7fbdfd1c",
   "metadata": {},
   "outputs": [],
   "source": [
    "# drop duplicates in df_pol_topics\n",
    "df_pol_topics.drop_duplicates(subset=['tweet_text_for_join'], inplace=True)"
   ]
  },
  {
   "cell_type": "code",
   "execution_count": 97,
   "id": "1e5d62d7",
   "metadata": {},
   "outputs": [
    {
     "name": "stdout",
     "output_type": "stream",
     "text": [
      "CPU times: user 732 ms, sys: 431 ms, total: 1.16 s\n",
      "Wall time: 1.53 s\n"
     ]
    }
   ],
   "source": [
    "%%time\n",
    "df_pol_merge = df_pol.merge(df_pol_topics[['tweet_text_for_join', 'gsdmm_topic']],\n",
    "                            how='left',\n",
    "                            on='tweet_text_for_join'\n",
    ")"
   ]
  },
  {
   "cell_type": "code",
   "execution_count": 99,
   "id": "153117ac",
   "metadata": {},
   "outputs": [],
   "source": [
    "df_pol_merge.drop(columns=['tweet_text_for_join'], inplace=True)"
   ]
  },
  {
   "cell_type": "code",
   "execution_count": 100,
   "id": "17130308",
   "metadata": {},
   "outputs": [
    {
     "data": {
      "text/html": [
       "<div>\n",
       "<style scoped>\n",
       "    .dataframe tbody tr th:only-of-type {\n",
       "        vertical-align: middle;\n",
       "    }\n",
       "\n",
       "    .dataframe tbody tr th {\n",
       "        vertical-align: top;\n",
       "    }\n",
       "\n",
       "    .dataframe thead th {\n",
       "        text-align: right;\n",
       "    }\n",
       "</style>\n",
       "<table border=\"1\" class=\"dataframe\">\n",
       "  <thead>\n",
       "    <tr style=\"text-align: right;\">\n",
       "      <th></th>\n",
       "      <th>unique_tweetid</th>\n",
       "      <th>tweet_text</th>\n",
       "      <th>hashtags</th>\n",
       "      <th>is_retweet</th>\n",
       "      <th>retweet_tweetid</th>\n",
       "      <th>user_reference_id</th>\n",
       "      <th>timestamp_first</th>\n",
       "      <th>gsdmm_topic</th>\n",
       "    </tr>\n",
       "  </thead>\n",
       "  <tbody>\n",
       "    <tr>\n",
       "      <th>0</th>\n",
       "      <td>11</td>\n",
       "      <td>[عاجِل_1, نَبَأ_1, دِبلُوماسِيّ_2, تَلّ_1, أَب...</td>\n",
       "      <td>[عاجل]</td>\n",
       "      <td>True</td>\n",
       "      <td>9.999468e+17</td>\n",
       "      <td>0</td>\n",
       "      <td>2018-05-25 13:07:00</td>\n",
       "      <td>11</td>\n",
       "    </tr>\n",
       "    <tr>\n",
       "      <th>1</th>\n",
       "      <td>16</td>\n",
       "      <td>[عُنْصُر_1, مِيلِيشِيا_1, الحوثي_0, قَتَل-u_1,...</td>\n",
       "      <td>[الحوثي, التحالف العربي, اليمن, الحاضر العربي]</td>\n",
       "      <td>False</td>\n",
       "      <td>NaN</td>\n",
       "      <td>5</td>\n",
       "      <td>2018-05-25 13:08:00</td>\n",
       "      <td>12</td>\n",
       "    </tr>\n",
       "    <tr>\n",
       "      <th>2</th>\n",
       "      <td>21</td>\n",
       "      <td>[سِعْر_1, زِيادَة_1, مُتابِع_1, تويتر_0, خَلِي...</td>\n",
       "      <td>None</td>\n",
       "      <td>True</td>\n",
       "      <td>9.998055e+17</td>\n",
       "      <td>0</td>\n",
       "      <td>2018-05-22 08:51:00</td>\n",
       "      <td>3</td>\n",
       "    </tr>\n",
       "    <tr>\n",
       "      <th>3</th>\n",
       "      <td>29</td>\n",
       "      <td>[اللوء_0, رُكْن_2, مانِع_2, عُمَر_1, ابالعلاء_...</td>\n",
       "      <td>None</td>\n",
       "      <td>True</td>\n",
       "      <td>9.995083e+17</td>\n",
       "      <td>58</td>\n",
       "      <td>2018-05-25 00:27:00</td>\n",
       "      <td>18</td>\n",
       "    </tr>\n",
       "    <tr>\n",
       "      <th>4</th>\n",
       "      <td>36</td>\n",
       "      <td>[ٱِنْتَظَر_1, جَبان_1, أُكْذُوبَة_1, تارِيخ_1,...</td>\n",
       "      <td>None</td>\n",
       "      <td>False</td>\n",
       "      <td>NaN</td>\n",
       "      <td>1</td>\n",
       "      <td>2018-05-25 13:10:00</td>\n",
       "      <td>12</td>\n",
       "    </tr>\n",
       "  </tbody>\n",
       "</table>\n",
       "</div>"
      ],
      "text/plain": [
       "   unique_tweetid                                         tweet_text  \\\n",
       "0              11  [عاجِل_1, نَبَأ_1, دِبلُوماسِيّ_2, تَلّ_1, أَب...   \n",
       "1              16  [عُنْصُر_1, مِيلِيشِيا_1, الحوثي_0, قَتَل-u_1,...   \n",
       "2              21  [سِعْر_1, زِيادَة_1, مُتابِع_1, تويتر_0, خَلِي...   \n",
       "3              29  [اللوء_0, رُكْن_2, مانِع_2, عُمَر_1, ابالعلاء_...   \n",
       "4              36  [ٱِنْتَظَر_1, جَبان_1, أُكْذُوبَة_1, تارِيخ_1,...   \n",
       "\n",
       "                                         hashtags  is_retweet  \\\n",
       "0                                          [عاجل]        True   \n",
       "1  [الحوثي, التحالف العربي, اليمن, الحاضر العربي]       False   \n",
       "2                                            None        True   \n",
       "3                                            None        True   \n",
       "4                                            None       False   \n",
       "\n",
       "   retweet_tweetid  user_reference_id     timestamp_first  gsdmm_topic  \n",
       "0     9.999468e+17                  0 2018-05-25 13:07:00           11  \n",
       "1              NaN                  5 2018-05-25 13:08:00           12  \n",
       "2     9.998055e+17                  0 2018-05-22 08:51:00            3  \n",
       "3     9.995083e+17                 58 2018-05-25 00:27:00           18  \n",
       "4              NaN                  1 2018-05-25 13:10:00           12  "
      ]
     },
     "execution_count": 100,
     "metadata": {},
     "output_type": "execute_result"
    }
   ],
   "source": [
    "df_pol_merge.head()"
   ]
  },
  {
   "cell_type": "code",
   "execution_count": 101,
   "id": "2983ed31",
   "metadata": {},
   "outputs": [
    {
     "data": {
      "text/plain": [
       "(349571, 8)"
      ]
     },
     "execution_count": 101,
     "metadata": {},
     "output_type": "execute_result"
    }
   ],
   "source": [
    "df_pol_merge.shape"
   ]
  },
  {
   "cell_type": "code",
   "execution_count": 102,
   "id": "99f534c9",
   "metadata": {},
   "outputs": [],
   "source": [
    "df_pol_merge.to_parquet('/Users/richard/Desktop/data_cap3/processed/df_mostly_pol_with_gsdmm_topics.parquet',\n",
    "                         engine='pyarrow')"
   ]
  },
  {
   "cell_type": "code",
   "execution_count": 103,
   "id": "9d3fde84",
   "metadata": {},
   "outputs": [],
   "source": [
    "# get subset of political tweets\n",
    "df_really_pol = df_pol_merge[df_pol_merge.gsdmm_topic.isin([12, 18, 11, 4])]"
   ]
  },
  {
   "cell_type": "code",
   "execution_count": 104,
   "id": "d5c5b044",
   "metadata": {},
   "outputs": [
    {
     "data": {
      "text/plain": [
       "12    97219\n",
       "18    88261\n",
       "11    76402\n",
       "4     22504\n",
       "Name: gsdmm_topic, dtype: int64"
      ]
     },
     "execution_count": 104,
     "metadata": {},
     "output_type": "execute_result"
    }
   ],
   "source": [
    "# confirm and get value counts\n",
    "df_really_pol.gsdmm_topic.value_counts()"
   ]
  },
  {
   "cell_type": "code",
   "execution_count": 105,
   "id": "b2ee8a5d",
   "metadata": {},
   "outputs": [
    {
     "data": {
      "text/plain": [
       "(284386, 8)"
      ]
     },
     "execution_count": 105,
     "metadata": {},
     "output_type": "execute_result"
    }
   ],
   "source": [
    "# get shape\n",
    "df_really_pol.shape"
   ]
  },
  {
   "cell_type": "code",
   "execution_count": 106,
   "id": "b22a727b",
   "metadata": {},
   "outputs": [
    {
     "data": {
      "text/html": [
       "<div>\n",
       "<style scoped>\n",
       "    .dataframe tbody tr th:only-of-type {\n",
       "        vertical-align: middle;\n",
       "    }\n",
       "\n",
       "    .dataframe tbody tr th {\n",
       "        vertical-align: top;\n",
       "    }\n",
       "\n",
       "    .dataframe thead th {\n",
       "        text-align: right;\n",
       "    }\n",
       "</style>\n",
       "<table border=\"1\" class=\"dataframe\">\n",
       "  <thead>\n",
       "    <tr style=\"text-align: right;\">\n",
       "      <th></th>\n",
       "      <th>unique_tweetid</th>\n",
       "      <th>tweet_text</th>\n",
       "      <th>hashtags</th>\n",
       "      <th>is_retweet</th>\n",
       "      <th>retweet_tweetid</th>\n",
       "      <th>user_reference_id</th>\n",
       "      <th>timestamp_first</th>\n",
       "      <th>gsdmm_topic</th>\n",
       "    </tr>\n",
       "  </thead>\n",
       "  <tbody>\n",
       "    <tr>\n",
       "      <th>0</th>\n",
       "      <td>11</td>\n",
       "      <td>[عاجِل_1, نَبَأ_1, دِبلُوماسِيّ_2, تَلّ_1, أَب...</td>\n",
       "      <td>[عاجل]</td>\n",
       "      <td>True</td>\n",
       "      <td>9.999468e+17</td>\n",
       "      <td>0</td>\n",
       "      <td>2018-05-25 13:07:00</td>\n",
       "      <td>11</td>\n",
       "    </tr>\n",
       "    <tr>\n",
       "      <th>1</th>\n",
       "      <td>16</td>\n",
       "      <td>[عُنْصُر_1, مِيلِيشِيا_1, الحوثي_0, قَتَل-u_1,...</td>\n",
       "      <td>[الحوثي, التحالف العربي, اليمن, الحاضر العربي]</td>\n",
       "      <td>False</td>\n",
       "      <td>NaN</td>\n",
       "      <td>5</td>\n",
       "      <td>2018-05-25 13:08:00</td>\n",
       "      <td>12</td>\n",
       "    </tr>\n",
       "    <tr>\n",
       "      <th>3</th>\n",
       "      <td>29</td>\n",
       "      <td>[اللوء_0, رُكْن_2, مانِع_2, عُمَر_1, ابالعلاء_...</td>\n",
       "      <td>None</td>\n",
       "      <td>True</td>\n",
       "      <td>9.995083e+17</td>\n",
       "      <td>58</td>\n",
       "      <td>2018-05-25 00:27:00</td>\n",
       "      <td>18</td>\n",
       "    </tr>\n",
       "    <tr>\n",
       "      <th>4</th>\n",
       "      <td>36</td>\n",
       "      <td>[ٱِنْتَظَر_1, جَبان_1, أُكْذُوبَة_1, تارِيخ_1,...</td>\n",
       "      <td>None</td>\n",
       "      <td>False</td>\n",
       "      <td>NaN</td>\n",
       "      <td>1</td>\n",
       "      <td>2018-05-25 13:10:00</td>\n",
       "      <td>12</td>\n",
       "    </tr>\n",
       "    <tr>\n",
       "      <th>6</th>\n",
       "      <td>142</td>\n",
       "      <td>[مشوفتش_0, خُلْق_1, مَبْدَأ_1, فَضِيحَة_1, قَر...</td>\n",
       "      <td>[فضيحة القرن, احد الاندية العربية]</td>\n",
       "      <td>True</td>\n",
       "      <td>1.000005e+18</td>\n",
       "      <td>22</td>\n",
       "      <td>2018-05-25 13:30:00</td>\n",
       "      <td>11</td>\n",
       "    </tr>\n",
       "  </tbody>\n",
       "</table>\n",
       "</div>"
      ],
      "text/plain": [
       "   unique_tweetid                                         tweet_text  \\\n",
       "0              11  [عاجِل_1, نَبَأ_1, دِبلُوماسِيّ_2, تَلّ_1, أَب...   \n",
       "1              16  [عُنْصُر_1, مِيلِيشِيا_1, الحوثي_0, قَتَل-u_1,...   \n",
       "3              29  [اللوء_0, رُكْن_2, مانِع_2, عُمَر_1, ابالعلاء_...   \n",
       "4              36  [ٱِنْتَظَر_1, جَبان_1, أُكْذُوبَة_1, تارِيخ_1,...   \n",
       "6             142  [مشوفتش_0, خُلْق_1, مَبْدَأ_1, فَضِيحَة_1, قَر...   \n",
       "\n",
       "                                         hashtags  is_retweet  \\\n",
       "0                                          [عاجل]        True   \n",
       "1  [الحوثي, التحالف العربي, اليمن, الحاضر العربي]       False   \n",
       "3                                            None        True   \n",
       "4                                            None       False   \n",
       "6              [فضيحة القرن, احد الاندية العربية]        True   \n",
       "\n",
       "   retweet_tweetid  user_reference_id     timestamp_first  gsdmm_topic  \n",
       "0     9.999468e+17                  0 2018-05-25 13:07:00           11  \n",
       "1              NaN                  5 2018-05-25 13:08:00           12  \n",
       "3     9.995083e+17                 58 2018-05-25 00:27:00           18  \n",
       "4              NaN                  1 2018-05-25 13:10:00           12  \n",
       "6     1.000005e+18                 22 2018-05-25 13:30:00           11  "
      ]
     },
     "execution_count": 106,
     "metadata": {},
     "output_type": "execute_result"
    }
   ],
   "source": [
    "df_really_pol.head()"
   ]
  },
  {
   "cell_type": "code",
   "execution_count": 108,
   "id": "0917ea85",
   "metadata": {},
   "outputs": [],
   "source": [
    "# save to parquet\n",
    "df_really_pol.to_parquet('/Users/richard/Desktop/data_cap3/processed/df_political_for_clustering.parquet',\n",
    "                         engine='pyarrow')"
   ]
  },
  {
   "cell_type": "markdown",
   "id": "08436170",
   "metadata": {},
   "source": [
    "Alright, that's done!\n",
    "\n",
    "We are left with just under **285K** tweets of which we are confident that they contain purely Political Content. We will use this as input to our clustering algorithms to see if we can find any noteworthy patterns there. Specifically, we are interested in seeing if it's possible to identify the **misinformation**."
   ]
  },
  {
   "cell_type": "markdown",
   "id": "fcd8b512",
   "metadata": {},
   "source": [
    "# Conclusions\n",
    "\n",
    "In this notebook, we started out with the subset of 6+ million unique tweets (down from the 36+ million tweets in our original dataset).\n",
    "\n",
    "We set out to conduct **topic modelling** on these 6+ million tweets to see if we could identify the Political Content. This was guided by our insights from the EDA stage that there were three main groups of tweets in the dataset: Commercial, Religious, and Political.\n",
    "\n",
    "We began by testing the popular LDA approach, by building a number of models, each initiated with a different number of clusters. The model with the highest number of clusters (15) seemed to perform the best based on both eye-balling and computing the Topic Coherence score.\n",
    "\n",
    "We then proceeded to test the GSDMM approach, which is specifically aimed at topic-detection in short-text documents such as tweets. This approach performed very well on a 100K subset of the data, with even the poorest GSDMM model outperforming our best LDA model.\n",
    "\n",
    "Unfortunately, the GSDMM approach had trouble dealing with the size of our dataset and for practical reasons we could not run it on the full 6+ million tweets.\n",
    "\n",
    "We crafted a work-around by using the output from the best (15-Topic) LDA Model. We subset the data to include only those tweets identified as 'mostly political' by that LDA Model and then fed this data (350K tweets, a significant reduction) into our GSDMM model. This time the model ran within 2 hours and managed to make useful distinctions within this 'mostly political' content between the 'truly political' and the 'remaining junk'. \n",
    "\n",
    "We ended by joining the GSDMM Topics to our 'mostly political' dataframe and then subsetting that to yield a dataframe containing only the 'truly political' content. This dataframe we will now use to feed into our clustering algorithms and classifier in the following notebooks: **04-rrp-clustering** and **05-rrp-classification**."
   ]
  },
  {
   "cell_type": "code",
   "execution_count": null,
   "id": "57ab83d5",
   "metadata": {},
   "outputs": [],
   "source": []
  }
 ],
 "metadata": {
  "kernelspec": {
   "display_name": "cap3-topic-modelling",
   "language": "python",
   "name": "cap3-topic-modelling"
  },
  "language_info": {
   "codemirror_mode": {
    "name": "ipython",
    "version": 3
   },
   "file_extension": ".py",
   "mimetype": "text/x-python",
   "name": "python",
   "nbconvert_exporter": "python",
   "pygments_lexer": "ipython3",
   "version": "3.8.2"
  }
 },
 "nbformat": 4,
 "nbformat_minor": 5
}
