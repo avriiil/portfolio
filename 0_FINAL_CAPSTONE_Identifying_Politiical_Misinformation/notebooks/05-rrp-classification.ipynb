{
 "cells": [
  {
   "cell_type": "markdown",
   "id": "a85221ba",
   "metadata": {},
   "source": [
    "# Classification\n",
    "\n",
    "This notebook conducts **Classification** on the 285,000 Political Content tweets in our dataset. The original envisioned goal of this stage was to predict whether Political tweets were **misinformation or not**, but the clustering approach in the previous notebook 04-rrp-clustering ran into some technical obstacles and we've had to switch direction.\n",
    "\n",
    "Instead, we will attempt to **predict the GSDMM Topic Label** using all the **non-text features** we have at our disposal.\n",
    "\n",
    "\n",
    "## Notebook Outline\n",
    "\n",
    "The notebook is structured as follows:\n",
    "\n",
    "1. Importing Libraries\n",
    "\n",
    "\n",
    "2. Setting up AWS Cluster\n",
    "\n",
    "\n",
    "3. Importing Dataset\n",
    "\n",
    "\n",
    "4. Pre-processing\n",
    "\n",
    "\n",
    "5. Building XGBoost Classifier\n",
    "\n",
    "\n",
    "6. Hyperparameter Turning\n",
    "\n",
    "\n",
    "7. Evaluate Best Classifier"
   ]
  },
  {
   "cell_type": "markdown",
   "id": "b4ab14dd",
   "metadata": {},
   "source": [
    "# 1. Importing Libraries"
   ]
  },
  {
   "cell_type": "code",
   "execution_count": 3,
   "id": "4f9cc279",
   "metadata": {},
   "outputs": [],
   "source": [
    "import pandas as pd\n",
    "import numpy as np\n",
    "import matplotlib.pyplot as plt\n",
    "import seaborn as sns\n",
    "import time\n",
    "\n",
    "# distributed processing libraries\n",
    "import coiled\n",
    "import dask\n",
    "from dask import distributed\n",
    "from dask.distributed import Client, progress\n",
    "import dask.dataframe as dd\n",
    "import dask.array as da\n",
    "\n",
    "# machine learning libraries\n",
    "#import dask_xgboost\n",
    "#from dask_xgboost import XGBClassifier\n",
    "from dask_ml.model_selection import train_test_split #GridSearchCV\n",
    "from sklearn.metrics import classification_report, confusion_matrix, precision_recall_fscore_support, accuracy_score\n",
    "from sklearn.model_selection import GridSearchCV\n",
    "import sklearn\n",
    "import xgboost as xgb\n",
    "from xgboost.dask import DaskDMatrix"
   ]
  },
  {
   "cell_type": "code",
   "execution_count": 4,
   "id": "4a0ee898",
   "metadata": {},
   "outputs": [
    {
     "name": "stdout",
     "output_type": "stream",
     "text": [
      "pandas version: 1.2.4\n",
      "numpy version: 1.19.2\n",
      "coiled version: 0.0.39.1\n",
      "dask version: 2021.05.0\n",
      "sklearn version: 0.24.1\n",
      "xgboost version: 1.3.3\n"
     ]
    }
   ],
   "source": [
    "print('pandas version: %s' % pd.__version__)\n",
    "print('numpy version: %s' % np.__version__)\n",
    "print('coiled version: %s' % coiled.__version__)\n",
    "print('dask version: %s' % dask.__version__)\n",
    "print('sklearn version: %s' % sklearn.__version__)\n",
    "print('xgboost version: %s' % xgb.__version__)"
   ]
  },
  {
   "cell_type": "markdown",
   "id": "14271fa1",
   "metadata": {},
   "source": [
    "# 2. Spin Up Coiled Cluster"
   ]
  },
  {
   "cell_type": "code",
   "execution_count": 6,
   "id": "281c7019",
   "metadata": {},
   "outputs": [
    {
     "data": {
      "application/vnd.jupyter.widget-view+json": {
       "model_id": "",
       "version_major": 2,
       "version_minor": 0
      },
      "text/plain": [
       "Output()"
      ]
     },
     "metadata": {},
     "output_type": "display_data"
    },
    {
     "name": "stdout",
     "output_type": "stream",
     "text": [
      "Found software environment build\n"
     ]
    },
    {
     "data": {
      "text/html": [
       "<pre style=\"white-space:pre;overflow-x:auto;line-height:normal;font-family:Menlo,'DejaVu Sans Mono',consolas,'Courier New',monospace\"></pre>\n"
      ],
      "text/plain": []
     },
     "metadata": {},
     "output_type": "display_data"
    },
    {
     "name": "stdout",
     "output_type": "stream",
     "text": [
      "CPU times: user 26.2 s, sys: 6.96 s, total: 33.1 s\n",
      "Wall time: 4min 10s\n"
     ]
    }
   ],
   "source": [
    "%%time\n",
    "# create coiled cluster\n",
    "cluster = coiled.Cluster(\n",
    "    name='cap3-clustering',\n",
    "    shutdown_on_close=False,\n",
    "    configuration=\"cap3-clustering-s2_8-w4_16\",\n",
    "    n_workers=25,\n",
    "    scheduler_options={\"idle_timeout\": \"2 hours\"}\n",
    ")"
   ]
  },
  {
   "cell_type": "code",
   "execution_count": 7,
   "id": "80b4c480",
   "metadata": {},
   "outputs": [
    {
     "name": "stdout",
     "output_type": "stream",
     "text": [
      "Dashboard: http://ec2-3-135-61-20.us-east-2.compute.amazonaws.com:8787\n"
     ]
    }
   ],
   "source": [
    "# connect cluster to Dask\n",
    "client = Client(cluster)\n",
    "print('Dashboard:', client.dashboard_link)"
   ]
  },
  {
   "cell_type": "markdown",
   "id": "a51322cb",
   "metadata": {},
   "source": [
    "# 3. Importing Dataset"
   ]
  },
  {
   "cell_type": "code",
   "execution_count": 8,
   "id": "ec0278df",
   "metadata": {},
   "outputs": [],
   "source": [
    "ddf = dd.read_parquet('s3://twitter-saudi-us-east-2/processed/df_political_for_clustering_preprocessed_partitioned.parquet',\n",
    "                      chunksize='64MB',\n",
    "                      engine='pyarrow'\n",
    ").persist()"
   ]
  },
  {
   "cell_type": "markdown",
   "id": "b72a415d",
   "metadata": {},
   "source": [
    "# 4. Pre-Processing\n",
    "\n",
    "We'll begin by preprocessing our data so it's ready to feed into our classifier.\n",
    "\n",
    "Specifically, we will:\n",
    "1. Subset features of interest\n",
    "2. Check for NaNs\n",
    "3. Check data types\n",
    "4. Convert to Dask Arrays\n",
    "5. Create Train/Test Splits"
   ]
  },
  {
   "cell_type": "markdown",
   "id": "71818f60",
   "metadata": {},
   "source": [
    "## 4.1. Get Features of Interest\n",
    "\n",
    "Let's subset all features other than the Tf-Idf vectors."
   ]
  },
  {
   "cell_type": "code",
   "execution_count": 9,
   "id": "fcc43a7b",
   "metadata": {
    "scrolled": true
   },
   "outputs": [
    {
     "data": {
      "text/html": [
       "<div>\n",
       "<style scoped>\n",
       "    .dataframe tbody tr th:only-of-type {\n",
       "        vertical-align: middle;\n",
       "    }\n",
       "\n",
       "    .dataframe tbody tr th {\n",
       "        vertical-align: top;\n",
       "    }\n",
       "\n",
       "    .dataframe thead th {\n",
       "        text-align: right;\n",
       "    }\n",
       "</style>\n",
       "<table border=\"1\" class=\"dataframe\">\n",
       "  <thead>\n",
       "    <tr style=\"text-align: right;\">\n",
       "      <th></th>\n",
       "      <th>appearance_count</th>\n",
       "      <th>user_tweet_count</th>\n",
       "      <th>timestamp_counts</th>\n",
       "      <th>follower_count</th>\n",
       "      <th>following_count</th>\n",
       "      <th>flagged</th>\n",
       "      <th>0</th>\n",
       "      <th>1</th>\n",
       "      <th>2</th>\n",
       "      <th>3</th>\n",
       "      <th>...</th>\n",
       "      <th>dialect_pred_MUS</th>\n",
       "      <th>dialect_pred_RAB</th>\n",
       "      <th>dialect_pred_RIY</th>\n",
       "      <th>dialect_pred_SAL</th>\n",
       "      <th>dialect_pred_SAN</th>\n",
       "      <th>dialect_pred_SFX</th>\n",
       "      <th>dialect_pred_TRI</th>\n",
       "      <th>dialect_pred_TUN</th>\n",
       "      <th>sentiment_pred_neutral</th>\n",
       "      <th>sentiment_pred_positive</th>\n",
       "    </tr>\n",
       "  </thead>\n",
       "  <tbody>\n",
       "    <tr>\n",
       "      <th>0</th>\n",
       "      <td>1</td>\n",
       "      <td>257890</td>\n",
       "      <td>35994.0</td>\n",
       "      <td>9007.0</td>\n",
       "      <td>8821.0</td>\n",
       "      <td>1.0</td>\n",
       "      <td>0.305829</td>\n",
       "      <td>0.23567</td>\n",
       "      <td>0.25127</td>\n",
       "      <td>0.260224</td>\n",
       "      <td>...</td>\n",
       "      <td>1.0</td>\n",
       "      <td>0.0</td>\n",
       "      <td>0.0</td>\n",
       "      <td>0.0</td>\n",
       "      <td>0.0</td>\n",
       "      <td>0.0</td>\n",
       "      <td>0.0</td>\n",
       "      <td>0.0</td>\n",
       "      <td>0.0</td>\n",
       "      <td>0.0</td>\n",
       "    </tr>\n",
       "    <tr>\n",
       "      <th>1</th>\n",
       "      <td>1</td>\n",
       "      <td>1698</td>\n",
       "      <td>17.0</td>\n",
       "      <td>616.0</td>\n",
       "      <td>1668.0</td>\n",
       "      <td>1.0</td>\n",
       "      <td>0.000000</td>\n",
       "      <td>0.00000</td>\n",
       "      <td>0.00000</td>\n",
       "      <td>0.000000</td>\n",
       "      <td>...</td>\n",
       "      <td>0.0</td>\n",
       "      <td>0.0</td>\n",
       "      <td>0.0</td>\n",
       "      <td>0.0</td>\n",
       "      <td>0.0</td>\n",
       "      <td>0.0</td>\n",
       "      <td>0.0</td>\n",
       "      <td>0.0</td>\n",
       "      <td>1.0</td>\n",
       "      <td>0.0</td>\n",
       "    </tr>\n",
       "    <tr>\n",
       "      <th>2</th>\n",
       "      <td>4</td>\n",
       "      <td>31135</td>\n",
       "      <td>3744.0</td>\n",
       "      <td>2370.0</td>\n",
       "      <td>3492.0</td>\n",
       "      <td>1.0</td>\n",
       "      <td>0.000000</td>\n",
       "      <td>0.00000</td>\n",
       "      <td>0.00000</td>\n",
       "      <td>0.000000</td>\n",
       "      <td>...</td>\n",
       "      <td>0.0</td>\n",
       "      <td>0.0</td>\n",
       "      <td>0.0</td>\n",
       "      <td>0.0</td>\n",
       "      <td>1.0</td>\n",
       "      <td>0.0</td>\n",
       "      <td>0.0</td>\n",
       "      <td>0.0</td>\n",
       "      <td>1.0</td>\n",
       "      <td>0.0</td>\n",
       "    </tr>\n",
       "    <tr>\n",
       "      <th>3</th>\n",
       "      <td>1</td>\n",
       "      <td>4982</td>\n",
       "      <td>110.0</td>\n",
       "      <td>168.0</td>\n",
       "      <td>408.0</td>\n",
       "      <td>1.0</td>\n",
       "      <td>0.000000</td>\n",
       "      <td>0.00000</td>\n",
       "      <td>0.00000</td>\n",
       "      <td>0.000000</td>\n",
       "      <td>...</td>\n",
       "      <td>0.0</td>\n",
       "      <td>0.0</td>\n",
       "      <td>0.0</td>\n",
       "      <td>0.0</td>\n",
       "      <td>0.0</td>\n",
       "      <td>0.0</td>\n",
       "      <td>0.0</td>\n",
       "      <td>0.0</td>\n",
       "      <td>0.0</td>\n",
       "      <td>0.0</td>\n",
       "    </tr>\n",
       "    <tr>\n",
       "      <th>4</th>\n",
       "      <td>1</td>\n",
       "      <td>13403</td>\n",
       "      <td>1139.0</td>\n",
       "      <td>1257.0</td>\n",
       "      <td>539.0</td>\n",
       "      <td>1.0</td>\n",
       "      <td>0.000000</td>\n",
       "      <td>0.00000</td>\n",
       "      <td>0.00000</td>\n",
       "      <td>0.000000</td>\n",
       "      <td>...</td>\n",
       "      <td>0.0</td>\n",
       "      <td>0.0</td>\n",
       "      <td>0.0</td>\n",
       "      <td>0.0</td>\n",
       "      <td>0.0</td>\n",
       "      <td>0.0</td>\n",
       "      <td>0.0</td>\n",
       "      <td>0.0</td>\n",
       "      <td>0.0</td>\n",
       "      <td>0.0</td>\n",
       "    </tr>\n",
       "  </tbody>\n",
       "</table>\n",
       "<p>5 rows × 10921 columns</p>\n",
       "</div>"
      ],
      "text/plain": [
       "   appearance_count  user_tweet_count  timestamp_counts  follower_count  \\\n",
       "0                 1            257890           35994.0          9007.0   \n",
       "1                 1              1698              17.0           616.0   \n",
       "2                 4             31135            3744.0          2370.0   \n",
       "3                 1              4982             110.0           168.0   \n",
       "4                 1             13403            1139.0          1257.0   \n",
       "\n",
       "   following_count  flagged         0        1        2         3  ...  \\\n",
       "0           8821.0      1.0  0.305829  0.23567  0.25127  0.260224  ...   \n",
       "1           1668.0      1.0  0.000000  0.00000  0.00000  0.000000  ...   \n",
       "2           3492.0      1.0  0.000000  0.00000  0.00000  0.000000  ...   \n",
       "3            408.0      1.0  0.000000  0.00000  0.00000  0.000000  ...   \n",
       "4            539.0      1.0  0.000000  0.00000  0.00000  0.000000  ...   \n",
       "\n",
       "   dialect_pred_MUS  dialect_pred_RAB  dialect_pred_RIY  dialect_pred_SAL  \\\n",
       "0               1.0               0.0               0.0               0.0   \n",
       "1               0.0               0.0               0.0               0.0   \n",
       "2               0.0               0.0               0.0               0.0   \n",
       "3               0.0               0.0               0.0               0.0   \n",
       "4               0.0               0.0               0.0               0.0   \n",
       "\n",
       "   dialect_pred_SAN  dialect_pred_SFX  dialect_pred_TRI  dialect_pred_TUN  \\\n",
       "0               0.0               0.0               0.0               0.0   \n",
       "1               0.0               0.0               0.0               0.0   \n",
       "2               1.0               0.0               0.0               0.0   \n",
       "3               0.0               0.0               0.0               0.0   \n",
       "4               0.0               0.0               0.0               0.0   \n",
       "\n",
       "   sentiment_pred_neutral  sentiment_pred_positive  \n",
       "0                     0.0                      0.0  \n",
       "1                     1.0                      0.0  \n",
       "2                     1.0                      0.0  \n",
       "3                     0.0                      0.0  \n",
       "4                     0.0                      0.0  \n",
       "\n",
       "[5 rows x 10921 columns]"
      ]
     },
     "execution_count": 9,
     "metadata": {},
     "output_type": "execute_result"
    }
   ],
   "source": [
    "ddf.head()"
   ]
  },
  {
   "cell_type": "code",
   "execution_count": 10,
   "id": "3ca24844",
   "metadata": {},
   "outputs": [],
   "source": [
    "# subset features of interest\n",
    "ddf_notext =   ddf[['appearance_count',\n",
    "                    'user_tweet_count',\n",
    "                    'timestamp_counts',\n",
    "                    'follower_count',\n",
    "                    'following_count',\n",
    "                    'gsdmm_topic_11', \n",
    "                    'gsdmm_topic_12', \n",
    "                    'gsdmm_topic_18',\n",
    "                    'dialect_pred_ALG', \n",
    "                    'dialect_pred_ALX', \n",
    "                    'dialect_pred_AMM',\n",
    "                    'dialect_pred_ASW', \n",
    "                    'dialect_pred_BAG', \n",
    "                    'dialect_pred_BAS',\n",
    "                    'dialect_pred_BEI', \n",
    "                    'dialect_pred_BEN', \n",
    "                    'dialect_pred_CAI',\n",
    "                    'dialect_pred_DAM', \n",
    "                    'dialect_pred_DOH', \n",
    "                    'dialect_pred_FES',\n",
    "                    'dialect_pred_JED', \n",
    "                    'dialect_pred_JER', \n",
    "                    'dialect_pred_KHA',\n",
    "                    'dialect_pred_MOS', \n",
    "                    'dialect_pred_MSA', \n",
    "                    'dialect_pred_MUS',\n",
    "                    'dialect_pred_RAB', \n",
    "                    'dialect_pred_RIY', \n",
    "                    'dialect_pred_SAL',\n",
    "                    'dialect_pred_SAN', \n",
    "                    'dialect_pred_SFX', \n",
    "                    'dialect_pred_TRI',\n",
    "                    'dialect_pred_TUN', \n",
    "                    'sentiment_pred_neutral',\n",
    "                    'sentiment_pred_positive']]"
   ]
  },
  {
   "cell_type": "code",
   "execution_count": 11,
   "id": "70d48085",
   "metadata": {},
   "outputs": [
    {
     "data": {
      "text/html": [
       "<div><strong>Dask DataFrame Structure:</strong></div>\n",
       "<div>\n",
       "<style scoped>\n",
       "    .dataframe tbody tr th:only-of-type {\n",
       "        vertical-align: middle;\n",
       "    }\n",
       "\n",
       "    .dataframe tbody tr th {\n",
       "        vertical-align: top;\n",
       "    }\n",
       "\n",
       "    .dataframe thead th {\n",
       "        text-align: right;\n",
       "    }\n",
       "</style>\n",
       "<table border=\"1\" class=\"dataframe\">\n",
       "  <thead>\n",
       "    <tr style=\"text-align: right;\">\n",
       "      <th></th>\n",
       "      <th>appearance_count</th>\n",
       "      <th>user_tweet_count</th>\n",
       "      <th>timestamp_counts</th>\n",
       "      <th>follower_count</th>\n",
       "      <th>following_count</th>\n",
       "      <th>gsdmm_topic_11</th>\n",
       "      <th>gsdmm_topic_12</th>\n",
       "      <th>gsdmm_topic_18</th>\n",
       "      <th>dialect_pred_ALG</th>\n",
       "      <th>dialect_pred_ALX</th>\n",
       "      <th>dialect_pred_AMM</th>\n",
       "      <th>dialect_pred_ASW</th>\n",
       "      <th>dialect_pred_BAG</th>\n",
       "      <th>dialect_pred_BAS</th>\n",
       "      <th>dialect_pred_BEI</th>\n",
       "      <th>dialect_pred_BEN</th>\n",
       "      <th>dialect_pred_CAI</th>\n",
       "      <th>dialect_pred_DAM</th>\n",
       "      <th>dialect_pred_DOH</th>\n",
       "      <th>dialect_pred_FES</th>\n",
       "      <th>dialect_pred_JED</th>\n",
       "      <th>dialect_pred_JER</th>\n",
       "      <th>dialect_pred_KHA</th>\n",
       "      <th>dialect_pred_MOS</th>\n",
       "      <th>dialect_pred_MSA</th>\n",
       "      <th>dialect_pred_MUS</th>\n",
       "      <th>dialect_pred_RAB</th>\n",
       "      <th>dialect_pred_RIY</th>\n",
       "      <th>dialect_pred_SAL</th>\n",
       "      <th>dialect_pred_SAN</th>\n",
       "      <th>dialect_pred_SFX</th>\n",
       "      <th>dialect_pred_TRI</th>\n",
       "      <th>dialect_pred_TUN</th>\n",
       "      <th>sentiment_pred_neutral</th>\n",
       "      <th>sentiment_pred_positive</th>\n",
       "    </tr>\n",
       "    <tr>\n",
       "      <th>npartitions=25</th>\n",
       "      <th></th>\n",
       "      <th></th>\n",
       "      <th></th>\n",
       "      <th></th>\n",
       "      <th></th>\n",
       "      <th></th>\n",
       "      <th></th>\n",
       "      <th></th>\n",
       "      <th></th>\n",
       "      <th></th>\n",
       "      <th></th>\n",
       "      <th></th>\n",
       "      <th></th>\n",
       "      <th></th>\n",
       "      <th></th>\n",
       "      <th></th>\n",
       "      <th></th>\n",
       "      <th></th>\n",
       "      <th></th>\n",
       "      <th></th>\n",
       "      <th></th>\n",
       "      <th></th>\n",
       "      <th></th>\n",
       "      <th></th>\n",
       "      <th></th>\n",
       "      <th></th>\n",
       "      <th></th>\n",
       "      <th></th>\n",
       "      <th></th>\n",
       "      <th></th>\n",
       "      <th></th>\n",
       "      <th></th>\n",
       "      <th></th>\n",
       "      <th></th>\n",
       "      <th></th>\n",
       "    </tr>\n",
       "  </thead>\n",
       "  <tbody>\n",
       "    <tr>\n",
       "      <th>0</th>\n",
       "      <td>int64</td>\n",
       "      <td>int64</td>\n",
       "      <td>float64</td>\n",
       "      <td>float64</td>\n",
       "      <td>float64</td>\n",
       "      <td>float64</td>\n",
       "      <td>float64</td>\n",
       "      <td>float64</td>\n",
       "      <td>float64</td>\n",
       "      <td>float64</td>\n",
       "      <td>float64</td>\n",
       "      <td>float64</td>\n",
       "      <td>float64</td>\n",
       "      <td>float64</td>\n",
       "      <td>float64</td>\n",
       "      <td>float64</td>\n",
       "      <td>float64</td>\n",
       "      <td>float64</td>\n",
       "      <td>float64</td>\n",
       "      <td>float64</td>\n",
       "      <td>float64</td>\n",
       "      <td>float64</td>\n",
       "      <td>float64</td>\n",
       "      <td>float64</td>\n",
       "      <td>float64</td>\n",
       "      <td>float64</td>\n",
       "      <td>float64</td>\n",
       "      <td>float64</td>\n",
       "      <td>float64</td>\n",
       "      <td>float64</td>\n",
       "      <td>float64</td>\n",
       "      <td>float64</td>\n",
       "      <td>float64</td>\n",
       "      <td>float64</td>\n",
       "      <td>float64</td>\n",
       "    </tr>\n",
       "    <tr>\n",
       "      <th>11376</th>\n",
       "      <td>...</td>\n",
       "      <td>...</td>\n",
       "      <td>...</td>\n",
       "      <td>...</td>\n",
       "      <td>...</td>\n",
       "      <td>...</td>\n",
       "      <td>...</td>\n",
       "      <td>...</td>\n",
       "      <td>...</td>\n",
       "      <td>...</td>\n",
       "      <td>...</td>\n",
       "      <td>...</td>\n",
       "      <td>...</td>\n",
       "      <td>...</td>\n",
       "      <td>...</td>\n",
       "      <td>...</td>\n",
       "      <td>...</td>\n",
       "      <td>...</td>\n",
       "      <td>...</td>\n",
       "      <td>...</td>\n",
       "      <td>...</td>\n",
       "      <td>...</td>\n",
       "      <td>...</td>\n",
       "      <td>...</td>\n",
       "      <td>...</td>\n",
       "      <td>...</td>\n",
       "      <td>...</td>\n",
       "      <td>...</td>\n",
       "      <td>...</td>\n",
       "      <td>...</td>\n",
       "      <td>...</td>\n",
       "      <td>...</td>\n",
       "      <td>...</td>\n",
       "      <td>...</td>\n",
       "      <td>...</td>\n",
       "    </tr>\n",
       "    <tr>\n",
       "      <th>...</th>\n",
       "      <td>...</td>\n",
       "      <td>...</td>\n",
       "      <td>...</td>\n",
       "      <td>...</td>\n",
       "      <td>...</td>\n",
       "      <td>...</td>\n",
       "      <td>...</td>\n",
       "      <td>...</td>\n",
       "      <td>...</td>\n",
       "      <td>...</td>\n",
       "      <td>...</td>\n",
       "      <td>...</td>\n",
       "      <td>...</td>\n",
       "      <td>...</td>\n",
       "      <td>...</td>\n",
       "      <td>...</td>\n",
       "      <td>...</td>\n",
       "      <td>...</td>\n",
       "      <td>...</td>\n",
       "      <td>...</td>\n",
       "      <td>...</td>\n",
       "      <td>...</td>\n",
       "      <td>...</td>\n",
       "      <td>...</td>\n",
       "      <td>...</td>\n",
       "      <td>...</td>\n",
       "      <td>...</td>\n",
       "      <td>...</td>\n",
       "      <td>...</td>\n",
       "      <td>...</td>\n",
       "      <td>...</td>\n",
       "      <td>...</td>\n",
       "      <td>...</td>\n",
       "      <td>...</td>\n",
       "      <td>...</td>\n",
       "    </tr>\n",
       "    <tr>\n",
       "      <th>273024</th>\n",
       "      <td>...</td>\n",
       "      <td>...</td>\n",
       "      <td>...</td>\n",
       "      <td>...</td>\n",
       "      <td>...</td>\n",
       "      <td>...</td>\n",
       "      <td>...</td>\n",
       "      <td>...</td>\n",
       "      <td>...</td>\n",
       "      <td>...</td>\n",
       "      <td>...</td>\n",
       "      <td>...</td>\n",
       "      <td>...</td>\n",
       "      <td>...</td>\n",
       "      <td>...</td>\n",
       "      <td>...</td>\n",
       "      <td>...</td>\n",
       "      <td>...</td>\n",
       "      <td>...</td>\n",
       "      <td>...</td>\n",
       "      <td>...</td>\n",
       "      <td>...</td>\n",
       "      <td>...</td>\n",
       "      <td>...</td>\n",
       "      <td>...</td>\n",
       "      <td>...</td>\n",
       "      <td>...</td>\n",
       "      <td>...</td>\n",
       "      <td>...</td>\n",
       "      <td>...</td>\n",
       "      <td>...</td>\n",
       "      <td>...</td>\n",
       "      <td>...</td>\n",
       "      <td>...</td>\n",
       "      <td>...</td>\n",
       "    </tr>\n",
       "    <tr>\n",
       "      <th>284385</th>\n",
       "      <td>...</td>\n",
       "      <td>...</td>\n",
       "      <td>...</td>\n",
       "      <td>...</td>\n",
       "      <td>...</td>\n",
       "      <td>...</td>\n",
       "      <td>...</td>\n",
       "      <td>...</td>\n",
       "      <td>...</td>\n",
       "      <td>...</td>\n",
       "      <td>...</td>\n",
       "      <td>...</td>\n",
       "      <td>...</td>\n",
       "      <td>...</td>\n",
       "      <td>...</td>\n",
       "      <td>...</td>\n",
       "      <td>...</td>\n",
       "      <td>...</td>\n",
       "      <td>...</td>\n",
       "      <td>...</td>\n",
       "      <td>...</td>\n",
       "      <td>...</td>\n",
       "      <td>...</td>\n",
       "      <td>...</td>\n",
       "      <td>...</td>\n",
       "      <td>...</td>\n",
       "      <td>...</td>\n",
       "      <td>...</td>\n",
       "      <td>...</td>\n",
       "      <td>...</td>\n",
       "      <td>...</td>\n",
       "      <td>...</td>\n",
       "      <td>...</td>\n",
       "      <td>...</td>\n",
       "      <td>...</td>\n",
       "    </tr>\n",
       "  </tbody>\n",
       "</table>\n",
       "</div>\n",
       "<div>Dask Name: getitem, 25 tasks</div>"
      ],
      "text/plain": [
       "Dask DataFrame Structure:\n",
       "               appearance_count user_tweet_count timestamp_counts follower_count following_count gsdmm_topic_11 gsdmm_topic_12 gsdmm_topic_18 dialect_pred_ALG dialect_pred_ALX dialect_pred_AMM dialect_pred_ASW dialect_pred_BAG dialect_pred_BAS dialect_pred_BEI dialect_pred_BEN dialect_pred_CAI dialect_pred_DAM dialect_pred_DOH dialect_pred_FES dialect_pred_JED dialect_pred_JER dialect_pred_KHA dialect_pred_MOS dialect_pred_MSA dialect_pred_MUS dialect_pred_RAB dialect_pred_RIY dialect_pred_SAL dialect_pred_SAN dialect_pred_SFX dialect_pred_TRI dialect_pred_TUN sentiment_pred_neutral sentiment_pred_positive\n",
       "npartitions=25                                                                                                                                                                                                                                                                                                                                                                                                                                                                                                                                                                                                                       \n",
       "0                         int64            int64          float64        float64         float64        float64        float64        float64          float64          float64          float64          float64          float64          float64          float64          float64          float64          float64          float64          float64          float64          float64          float64          float64          float64          float64          float64          float64          float64          float64          float64          float64          float64                float64                 float64\n",
       "11376                       ...              ...              ...            ...             ...            ...            ...            ...              ...              ...              ...              ...              ...              ...              ...              ...              ...              ...              ...              ...              ...              ...              ...              ...              ...              ...              ...              ...              ...              ...              ...              ...              ...                    ...                     ...\n",
       "...                         ...              ...              ...            ...             ...            ...            ...            ...              ...              ...              ...              ...              ...              ...              ...              ...              ...              ...              ...              ...              ...              ...              ...              ...              ...              ...              ...              ...              ...              ...              ...              ...              ...                    ...                     ...\n",
       "273024                      ...              ...              ...            ...             ...            ...            ...            ...              ...              ...              ...              ...              ...              ...              ...              ...              ...              ...              ...              ...              ...              ...              ...              ...              ...              ...              ...              ...              ...              ...              ...              ...              ...                    ...                     ...\n",
       "284385                      ...              ...              ...            ...             ...            ...            ...            ...              ...              ...              ...              ...              ...              ...              ...              ...              ...              ...              ...              ...              ...              ...              ...              ...              ...              ...              ...              ...              ...              ...              ...              ...              ...                    ...                     ...\n",
       "Dask Name: getitem, 25 tasks"
      ]
     },
     "execution_count": 11,
     "metadata": {},
     "output_type": "execute_result"
    }
   ],
   "source": [
    "ddf_notext.persist()"
   ]
  },
  {
   "cell_type": "markdown",
   "id": "773f3f4c",
   "metadata": {},
   "source": [
    "We'll have to turn the multiple topic columns into a single **target feature** column. \n",
    "\n",
    "Seeing as we have 4 different topic classes, this will be a **multi-class classification problem**.\n",
    "\n",
    "Our classifier requires the labels to be within the range 0, num_class, so will jot down here the reference:\n",
    "\n",
    "- Label 0 = Topic 4\n",
    "- Label 1 = Topic 11\n",
    "- Label 2 = Topic 12\n",
    "- Label 3 = Topic 18"
   ]
  },
  {
   "cell_type": "code",
   "execution_count": 12,
   "id": "1f2bc54d",
   "metadata": {},
   "outputs": [],
   "source": [
    "# create topic column\n",
    "ddf_notext['topic'] = 0"
   ]
  },
  {
   "cell_type": "code",
   "execution_count": 13,
   "id": "8d133734",
   "metadata": {},
   "outputs": [],
   "source": [
    "# define function to apply across each row in partition\n",
    "def map_topic(row):\n",
    "    if row['gsdmm_topic_11'] == 1:\n",
    "        row['topic'] = 1\n",
    "    elif row['gsdmm_topic_12'] == 1:\n",
    "        row['topic'] = 2\n",
    "    elif row['gsdmm_topic_18'] == 1:\n",
    "        row['topic'] = 3\n",
    "    else:\n",
    "        row['topic'] = 0\n",
    "    return row"
   ]
  },
  {
   "cell_type": "code",
   "execution_count": 14,
   "id": "a3031506",
   "metadata": {},
   "outputs": [],
   "source": [
    "# define function to map across each partition in dask dataframe\n",
    "def map_topics(df):\n",
    "    df = df.apply(map_topic, axis=1)\n",
    "    return df"
   ]
  },
  {
   "cell_type": "code",
   "execution_count": 15,
   "id": "8753345c",
   "metadata": {},
   "outputs": [
    {
     "data": {
      "text/html": [
       "<div><strong>Dask DataFrame Structure:</strong></div>\n",
       "<div>\n",
       "<style scoped>\n",
       "    .dataframe tbody tr th:only-of-type {\n",
       "        vertical-align: middle;\n",
       "    }\n",
       "\n",
       "    .dataframe tbody tr th {\n",
       "        vertical-align: top;\n",
       "    }\n",
       "\n",
       "    .dataframe thead th {\n",
       "        text-align: right;\n",
       "    }\n",
       "</style>\n",
       "<table border=\"1\" class=\"dataframe\">\n",
       "  <thead>\n",
       "    <tr style=\"text-align: right;\">\n",
       "      <th></th>\n",
       "      <th>appearance_count</th>\n",
       "      <th>user_tweet_count</th>\n",
       "      <th>timestamp_counts</th>\n",
       "      <th>follower_count</th>\n",
       "      <th>following_count</th>\n",
       "      <th>gsdmm_topic_11</th>\n",
       "      <th>gsdmm_topic_12</th>\n",
       "      <th>gsdmm_topic_18</th>\n",
       "      <th>dialect_pred_ALG</th>\n",
       "      <th>dialect_pred_ALX</th>\n",
       "      <th>dialect_pred_AMM</th>\n",
       "      <th>dialect_pred_ASW</th>\n",
       "      <th>dialect_pred_BAG</th>\n",
       "      <th>dialect_pred_BAS</th>\n",
       "      <th>dialect_pred_BEI</th>\n",
       "      <th>dialect_pred_BEN</th>\n",
       "      <th>dialect_pred_CAI</th>\n",
       "      <th>dialect_pred_DAM</th>\n",
       "      <th>dialect_pred_DOH</th>\n",
       "      <th>dialect_pred_FES</th>\n",
       "      <th>dialect_pred_JED</th>\n",
       "      <th>dialect_pred_JER</th>\n",
       "      <th>dialect_pred_KHA</th>\n",
       "      <th>dialect_pred_MOS</th>\n",
       "      <th>dialect_pred_MSA</th>\n",
       "      <th>dialect_pred_MUS</th>\n",
       "      <th>dialect_pred_RAB</th>\n",
       "      <th>dialect_pred_RIY</th>\n",
       "      <th>dialect_pred_SAL</th>\n",
       "      <th>dialect_pred_SAN</th>\n",
       "      <th>dialect_pred_SFX</th>\n",
       "      <th>dialect_pred_TRI</th>\n",
       "      <th>dialect_pred_TUN</th>\n",
       "      <th>sentiment_pred_neutral</th>\n",
       "      <th>sentiment_pred_positive</th>\n",
       "      <th>topic</th>\n",
       "    </tr>\n",
       "    <tr>\n",
       "      <th>npartitions=25</th>\n",
       "      <th></th>\n",
       "      <th></th>\n",
       "      <th></th>\n",
       "      <th></th>\n",
       "      <th></th>\n",
       "      <th></th>\n",
       "      <th></th>\n",
       "      <th></th>\n",
       "      <th></th>\n",
       "      <th></th>\n",
       "      <th></th>\n",
       "      <th></th>\n",
       "      <th></th>\n",
       "      <th></th>\n",
       "      <th></th>\n",
       "      <th></th>\n",
       "      <th></th>\n",
       "      <th></th>\n",
       "      <th></th>\n",
       "      <th></th>\n",
       "      <th></th>\n",
       "      <th></th>\n",
       "      <th></th>\n",
       "      <th></th>\n",
       "      <th></th>\n",
       "      <th></th>\n",
       "      <th></th>\n",
       "      <th></th>\n",
       "      <th></th>\n",
       "      <th></th>\n",
       "      <th></th>\n",
       "      <th></th>\n",
       "      <th></th>\n",
       "      <th></th>\n",
       "      <th></th>\n",
       "      <th></th>\n",
       "    </tr>\n",
       "  </thead>\n",
       "  <tbody>\n",
       "    <tr>\n",
       "      <th>0</th>\n",
       "      <td>float64</td>\n",
       "      <td>float64</td>\n",
       "      <td>float64</td>\n",
       "      <td>float64</td>\n",
       "      <td>float64</td>\n",
       "      <td>float64</td>\n",
       "      <td>float64</td>\n",
       "      <td>float64</td>\n",
       "      <td>float64</td>\n",
       "      <td>float64</td>\n",
       "      <td>float64</td>\n",
       "      <td>float64</td>\n",
       "      <td>float64</td>\n",
       "      <td>float64</td>\n",
       "      <td>float64</td>\n",
       "      <td>float64</td>\n",
       "      <td>float64</td>\n",
       "      <td>float64</td>\n",
       "      <td>float64</td>\n",
       "      <td>float64</td>\n",
       "      <td>float64</td>\n",
       "      <td>float64</td>\n",
       "      <td>float64</td>\n",
       "      <td>float64</td>\n",
       "      <td>float64</td>\n",
       "      <td>float64</td>\n",
       "      <td>float64</td>\n",
       "      <td>float64</td>\n",
       "      <td>float64</td>\n",
       "      <td>float64</td>\n",
       "      <td>float64</td>\n",
       "      <td>float64</td>\n",
       "      <td>float64</td>\n",
       "      <td>float64</td>\n",
       "      <td>float64</td>\n",
       "      <td>float64</td>\n",
       "    </tr>\n",
       "    <tr>\n",
       "      <th>11376</th>\n",
       "      <td>...</td>\n",
       "      <td>...</td>\n",
       "      <td>...</td>\n",
       "      <td>...</td>\n",
       "      <td>...</td>\n",
       "      <td>...</td>\n",
       "      <td>...</td>\n",
       "      <td>...</td>\n",
       "      <td>...</td>\n",
       "      <td>...</td>\n",
       "      <td>...</td>\n",
       "      <td>...</td>\n",
       "      <td>...</td>\n",
       "      <td>...</td>\n",
       "      <td>...</td>\n",
       "      <td>...</td>\n",
       "      <td>...</td>\n",
       "      <td>...</td>\n",
       "      <td>...</td>\n",
       "      <td>...</td>\n",
       "      <td>...</td>\n",
       "      <td>...</td>\n",
       "      <td>...</td>\n",
       "      <td>...</td>\n",
       "      <td>...</td>\n",
       "      <td>...</td>\n",
       "      <td>...</td>\n",
       "      <td>...</td>\n",
       "      <td>...</td>\n",
       "      <td>...</td>\n",
       "      <td>...</td>\n",
       "      <td>...</td>\n",
       "      <td>...</td>\n",
       "      <td>...</td>\n",
       "      <td>...</td>\n",
       "      <td>...</td>\n",
       "    </tr>\n",
       "    <tr>\n",
       "      <th>...</th>\n",
       "      <td>...</td>\n",
       "      <td>...</td>\n",
       "      <td>...</td>\n",
       "      <td>...</td>\n",
       "      <td>...</td>\n",
       "      <td>...</td>\n",
       "      <td>...</td>\n",
       "      <td>...</td>\n",
       "      <td>...</td>\n",
       "      <td>...</td>\n",
       "      <td>...</td>\n",
       "      <td>...</td>\n",
       "      <td>...</td>\n",
       "      <td>...</td>\n",
       "      <td>...</td>\n",
       "      <td>...</td>\n",
       "      <td>...</td>\n",
       "      <td>...</td>\n",
       "      <td>...</td>\n",
       "      <td>...</td>\n",
       "      <td>...</td>\n",
       "      <td>...</td>\n",
       "      <td>...</td>\n",
       "      <td>...</td>\n",
       "      <td>...</td>\n",
       "      <td>...</td>\n",
       "      <td>...</td>\n",
       "      <td>...</td>\n",
       "      <td>...</td>\n",
       "      <td>...</td>\n",
       "      <td>...</td>\n",
       "      <td>...</td>\n",
       "      <td>...</td>\n",
       "      <td>...</td>\n",
       "      <td>...</td>\n",
       "      <td>...</td>\n",
       "    </tr>\n",
       "    <tr>\n",
       "      <th>273024</th>\n",
       "      <td>...</td>\n",
       "      <td>...</td>\n",
       "      <td>...</td>\n",
       "      <td>...</td>\n",
       "      <td>...</td>\n",
       "      <td>...</td>\n",
       "      <td>...</td>\n",
       "      <td>...</td>\n",
       "      <td>...</td>\n",
       "      <td>...</td>\n",
       "      <td>...</td>\n",
       "      <td>...</td>\n",
       "      <td>...</td>\n",
       "      <td>...</td>\n",
       "      <td>...</td>\n",
       "      <td>...</td>\n",
       "      <td>...</td>\n",
       "      <td>...</td>\n",
       "      <td>...</td>\n",
       "      <td>...</td>\n",
       "      <td>...</td>\n",
       "      <td>...</td>\n",
       "      <td>...</td>\n",
       "      <td>...</td>\n",
       "      <td>...</td>\n",
       "      <td>...</td>\n",
       "      <td>...</td>\n",
       "      <td>...</td>\n",
       "      <td>...</td>\n",
       "      <td>...</td>\n",
       "      <td>...</td>\n",
       "      <td>...</td>\n",
       "      <td>...</td>\n",
       "      <td>...</td>\n",
       "      <td>...</td>\n",
       "      <td>...</td>\n",
       "    </tr>\n",
       "    <tr>\n",
       "      <th>284385</th>\n",
       "      <td>...</td>\n",
       "      <td>...</td>\n",
       "      <td>...</td>\n",
       "      <td>...</td>\n",
       "      <td>...</td>\n",
       "      <td>...</td>\n",
       "      <td>...</td>\n",
       "      <td>...</td>\n",
       "      <td>...</td>\n",
       "      <td>...</td>\n",
       "      <td>...</td>\n",
       "      <td>...</td>\n",
       "      <td>...</td>\n",
       "      <td>...</td>\n",
       "      <td>...</td>\n",
       "      <td>...</td>\n",
       "      <td>...</td>\n",
       "      <td>...</td>\n",
       "      <td>...</td>\n",
       "      <td>...</td>\n",
       "      <td>...</td>\n",
       "      <td>...</td>\n",
       "      <td>...</td>\n",
       "      <td>...</td>\n",
       "      <td>...</td>\n",
       "      <td>...</td>\n",
       "      <td>...</td>\n",
       "      <td>...</td>\n",
       "      <td>...</td>\n",
       "      <td>...</td>\n",
       "      <td>...</td>\n",
       "      <td>...</td>\n",
       "      <td>...</td>\n",
       "      <td>...</td>\n",
       "      <td>...</td>\n",
       "      <td>...</td>\n",
       "    </tr>\n",
       "  </tbody>\n",
       "</table>\n",
       "</div>\n",
       "<div>Dask Name: map_topics, 25 tasks</div>"
      ],
      "text/plain": [
       "Dask DataFrame Structure:\n",
       "               appearance_count user_tweet_count timestamp_counts follower_count following_count gsdmm_topic_11 gsdmm_topic_12 gsdmm_topic_18 dialect_pred_ALG dialect_pred_ALX dialect_pred_AMM dialect_pred_ASW dialect_pred_BAG dialect_pred_BAS dialect_pred_BEI dialect_pred_BEN dialect_pred_CAI dialect_pred_DAM dialect_pred_DOH dialect_pred_FES dialect_pred_JED dialect_pred_JER dialect_pred_KHA dialect_pred_MOS dialect_pred_MSA dialect_pred_MUS dialect_pred_RAB dialect_pred_RIY dialect_pred_SAL dialect_pred_SAN dialect_pred_SFX dialect_pred_TRI dialect_pred_TUN sentiment_pred_neutral sentiment_pred_positive    topic\n",
       "npartitions=25                                                                                                                                                                                                                                                                                                                                                                                                                                                                                                                                                                                                                                \n",
       "0                       float64          float64          float64        float64         float64        float64        float64        float64          float64          float64          float64          float64          float64          float64          float64          float64          float64          float64          float64          float64          float64          float64          float64          float64          float64          float64          float64          float64          float64          float64          float64          float64          float64                float64                 float64  float64\n",
       "11376                       ...              ...              ...            ...             ...            ...            ...            ...              ...              ...              ...              ...              ...              ...              ...              ...              ...              ...              ...              ...              ...              ...              ...              ...              ...              ...              ...              ...              ...              ...              ...              ...              ...                    ...                     ...      ...\n",
       "...                         ...              ...              ...            ...             ...            ...            ...            ...              ...              ...              ...              ...              ...              ...              ...              ...              ...              ...              ...              ...              ...              ...              ...              ...              ...              ...              ...              ...              ...              ...              ...              ...              ...                    ...                     ...      ...\n",
       "273024                      ...              ...              ...            ...             ...            ...            ...            ...              ...              ...              ...              ...              ...              ...              ...              ...              ...              ...              ...              ...              ...              ...              ...              ...              ...              ...              ...              ...              ...              ...              ...              ...              ...                    ...                     ...      ...\n",
       "284385                      ...              ...              ...            ...             ...            ...            ...            ...              ...              ...              ...              ...              ...              ...              ...              ...              ...              ...              ...              ...              ...              ...              ...              ...              ...              ...              ...              ...              ...              ...              ...              ...              ...                    ...                     ...      ...\n",
       "Dask Name: map_topics, 25 tasks"
      ]
     },
     "execution_count": 15,
     "metadata": {},
     "output_type": "execute_result"
    }
   ],
   "source": [
    "# map across all partitions\n",
    "ddf_notext = ddf_notext.map_partitions(map_topics)\n",
    "ddf_notext.persist()"
   ]
  },
  {
   "cell_type": "code",
   "execution_count": 16,
   "id": "c3a75770",
   "metadata": {},
   "outputs": [
    {
     "data": {
      "text/html": [
       "<div>\n",
       "<style scoped>\n",
       "    .dataframe tbody tr th:only-of-type {\n",
       "        vertical-align: middle;\n",
       "    }\n",
       "\n",
       "    .dataframe tbody tr th {\n",
       "        vertical-align: top;\n",
       "    }\n",
       "\n",
       "    .dataframe thead th {\n",
       "        text-align: right;\n",
       "    }\n",
       "</style>\n",
       "<table border=\"1\" class=\"dataframe\">\n",
       "  <thead>\n",
       "    <tr style=\"text-align: right;\">\n",
       "      <th></th>\n",
       "      <th>appearance_count</th>\n",
       "      <th>user_tweet_count</th>\n",
       "      <th>timestamp_counts</th>\n",
       "      <th>follower_count</th>\n",
       "      <th>following_count</th>\n",
       "      <th>gsdmm_topic_11</th>\n",
       "      <th>gsdmm_topic_12</th>\n",
       "      <th>gsdmm_topic_18</th>\n",
       "      <th>dialect_pred_ALG</th>\n",
       "      <th>dialect_pred_ALX</th>\n",
       "      <th>...</th>\n",
       "      <th>dialect_pred_RAB</th>\n",
       "      <th>dialect_pred_RIY</th>\n",
       "      <th>dialect_pred_SAL</th>\n",
       "      <th>dialect_pred_SAN</th>\n",
       "      <th>dialect_pred_SFX</th>\n",
       "      <th>dialect_pred_TRI</th>\n",
       "      <th>dialect_pred_TUN</th>\n",
       "      <th>sentiment_pred_neutral</th>\n",
       "      <th>sentiment_pred_positive</th>\n",
       "      <th>topic</th>\n",
       "    </tr>\n",
       "  </thead>\n",
       "  <tbody>\n",
       "    <tr>\n",
       "      <th>0</th>\n",
       "      <td>1.0</td>\n",
       "      <td>257890.0</td>\n",
       "      <td>35994.0</td>\n",
       "      <td>9007.0</td>\n",
       "      <td>8821.0</td>\n",
       "      <td>1.0</td>\n",
       "      <td>0.0</td>\n",
       "      <td>0.0</td>\n",
       "      <td>0.0</td>\n",
       "      <td>0.0</td>\n",
       "      <td>...</td>\n",
       "      <td>0.0</td>\n",
       "      <td>0.0</td>\n",
       "      <td>0.0</td>\n",
       "      <td>0.0</td>\n",
       "      <td>0.0</td>\n",
       "      <td>0.0</td>\n",
       "      <td>0.0</td>\n",
       "      <td>0.0</td>\n",
       "      <td>0.0</td>\n",
       "      <td>1.0</td>\n",
       "    </tr>\n",
       "    <tr>\n",
       "      <th>1</th>\n",
       "      <td>1.0</td>\n",
       "      <td>1698.0</td>\n",
       "      <td>17.0</td>\n",
       "      <td>616.0</td>\n",
       "      <td>1668.0</td>\n",
       "      <td>0.0</td>\n",
       "      <td>1.0</td>\n",
       "      <td>0.0</td>\n",
       "      <td>1.0</td>\n",
       "      <td>0.0</td>\n",
       "      <td>...</td>\n",
       "      <td>0.0</td>\n",
       "      <td>0.0</td>\n",
       "      <td>0.0</td>\n",
       "      <td>0.0</td>\n",
       "      <td>0.0</td>\n",
       "      <td>0.0</td>\n",
       "      <td>0.0</td>\n",
       "      <td>1.0</td>\n",
       "      <td>0.0</td>\n",
       "      <td>2.0</td>\n",
       "    </tr>\n",
       "    <tr>\n",
       "      <th>2</th>\n",
       "      <td>4.0</td>\n",
       "      <td>31135.0</td>\n",
       "      <td>3744.0</td>\n",
       "      <td>2370.0</td>\n",
       "      <td>3492.0</td>\n",
       "      <td>0.0</td>\n",
       "      <td>0.0</td>\n",
       "      <td>1.0</td>\n",
       "      <td>0.0</td>\n",
       "      <td>0.0</td>\n",
       "      <td>...</td>\n",
       "      <td>0.0</td>\n",
       "      <td>0.0</td>\n",
       "      <td>0.0</td>\n",
       "      <td>1.0</td>\n",
       "      <td>0.0</td>\n",
       "      <td>0.0</td>\n",
       "      <td>0.0</td>\n",
       "      <td>1.0</td>\n",
       "      <td>0.0</td>\n",
       "      <td>3.0</td>\n",
       "    </tr>\n",
       "    <tr>\n",
       "      <th>3</th>\n",
       "      <td>1.0</td>\n",
       "      <td>4982.0</td>\n",
       "      <td>110.0</td>\n",
       "      <td>168.0</td>\n",
       "      <td>408.0</td>\n",
       "      <td>0.0</td>\n",
       "      <td>1.0</td>\n",
       "      <td>0.0</td>\n",
       "      <td>0.0</td>\n",
       "      <td>0.0</td>\n",
       "      <td>...</td>\n",
       "      <td>0.0</td>\n",
       "      <td>0.0</td>\n",
       "      <td>0.0</td>\n",
       "      <td>0.0</td>\n",
       "      <td>0.0</td>\n",
       "      <td>0.0</td>\n",
       "      <td>0.0</td>\n",
       "      <td>0.0</td>\n",
       "      <td>0.0</td>\n",
       "      <td>2.0</td>\n",
       "    </tr>\n",
       "    <tr>\n",
       "      <th>4</th>\n",
       "      <td>1.0</td>\n",
       "      <td>13403.0</td>\n",
       "      <td>1139.0</td>\n",
       "      <td>1257.0</td>\n",
       "      <td>539.0</td>\n",
       "      <td>1.0</td>\n",
       "      <td>0.0</td>\n",
       "      <td>0.0</td>\n",
       "      <td>0.0</td>\n",
       "      <td>0.0</td>\n",
       "      <td>...</td>\n",
       "      <td>0.0</td>\n",
       "      <td>0.0</td>\n",
       "      <td>0.0</td>\n",
       "      <td>0.0</td>\n",
       "      <td>0.0</td>\n",
       "      <td>0.0</td>\n",
       "      <td>0.0</td>\n",
       "      <td>0.0</td>\n",
       "      <td>0.0</td>\n",
       "      <td>1.0</td>\n",
       "    </tr>\n",
       "  </tbody>\n",
       "</table>\n",
       "<p>5 rows × 36 columns</p>\n",
       "</div>"
      ],
      "text/plain": [
       "   appearance_count  user_tweet_count  timestamp_counts  follower_count  \\\n",
       "0               1.0          257890.0           35994.0          9007.0   \n",
       "1               1.0            1698.0              17.0           616.0   \n",
       "2               4.0           31135.0            3744.0          2370.0   \n",
       "3               1.0            4982.0             110.0           168.0   \n",
       "4               1.0           13403.0            1139.0          1257.0   \n",
       "\n",
       "   following_count  gsdmm_topic_11  gsdmm_topic_12  gsdmm_topic_18  \\\n",
       "0           8821.0             1.0             0.0             0.0   \n",
       "1           1668.0             0.0             1.0             0.0   \n",
       "2           3492.0             0.0             0.0             1.0   \n",
       "3            408.0             0.0             1.0             0.0   \n",
       "4            539.0             1.0             0.0             0.0   \n",
       "\n",
       "   dialect_pred_ALG  dialect_pred_ALX  ...  dialect_pred_RAB  \\\n",
       "0               0.0               0.0  ...               0.0   \n",
       "1               1.0               0.0  ...               0.0   \n",
       "2               0.0               0.0  ...               0.0   \n",
       "3               0.0               0.0  ...               0.0   \n",
       "4               0.0               0.0  ...               0.0   \n",
       "\n",
       "   dialect_pred_RIY  dialect_pred_SAL  dialect_pred_SAN  dialect_pred_SFX  \\\n",
       "0               0.0               0.0               0.0               0.0   \n",
       "1               0.0               0.0               0.0               0.0   \n",
       "2               0.0               0.0               1.0               0.0   \n",
       "3               0.0               0.0               0.0               0.0   \n",
       "4               0.0               0.0               0.0               0.0   \n",
       "\n",
       "   dialect_pred_TRI  dialect_pred_TUN  sentiment_pred_neutral  \\\n",
       "0               0.0               0.0                     0.0   \n",
       "1               0.0               0.0                     1.0   \n",
       "2               0.0               0.0                     1.0   \n",
       "3               0.0               0.0                     0.0   \n",
       "4               0.0               0.0                     0.0   \n",
       "\n",
       "   sentiment_pred_positive  topic  \n",
       "0                      0.0    1.0  \n",
       "1                      0.0    2.0  \n",
       "2                      0.0    3.0  \n",
       "3                      0.0    2.0  \n",
       "4                      0.0    1.0  \n",
       "\n",
       "[5 rows x 36 columns]"
      ]
     },
     "execution_count": 16,
     "metadata": {},
     "output_type": "execute_result"
    }
   ],
   "source": [
    "# verify\n",
    "ddf_notext.head()"
   ]
  },
  {
   "cell_type": "markdown",
   "id": "640571d7",
   "metadata": {},
   "source": [
    "Excellent, that worked."
   ]
  },
  {
   "cell_type": "markdown",
   "id": "303c173a",
   "metadata": {},
   "source": [
    "## 4.2. Check for NaNs"
   ]
  },
  {
   "cell_type": "code",
   "execution_count": 17,
   "id": "76e2a3f4",
   "metadata": {},
   "outputs": [
    {
     "data": {
      "text/plain": [
       "appearance_count           0\n",
       "user_tweet_count           0\n",
       "timestamp_counts           0\n",
       "follower_count             0\n",
       "following_count            0\n",
       "gsdmm_topic_11             0\n",
       "gsdmm_topic_12             0\n",
       "gsdmm_topic_18             0\n",
       "dialect_pred_ALG           0\n",
       "dialect_pred_ALX           0\n",
       "dialect_pred_AMM           0\n",
       "dialect_pred_ASW           0\n",
       "dialect_pred_BAG           0\n",
       "dialect_pred_BAS           0\n",
       "dialect_pred_BEI           0\n",
       "dialect_pred_BEN           0\n",
       "dialect_pred_CAI           0\n",
       "dialect_pred_DAM           0\n",
       "dialect_pred_DOH           0\n",
       "dialect_pred_FES           0\n",
       "dialect_pred_JED           0\n",
       "dialect_pred_JER           0\n",
       "dialect_pred_KHA           0\n",
       "dialect_pred_MOS           0\n",
       "dialect_pred_MSA           0\n",
       "dialect_pred_MUS           0\n",
       "dialect_pred_RAB           0\n",
       "dialect_pred_RIY           0\n",
       "dialect_pred_SAL           0\n",
       "dialect_pred_SAN           0\n",
       "dialect_pred_SFX           0\n",
       "dialect_pred_TRI           0\n",
       "dialect_pred_TUN           0\n",
       "sentiment_pred_neutral     0\n",
       "sentiment_pred_positive    0\n",
       "topic                      0\n",
       "dtype: int64"
      ]
     },
     "execution_count": 17,
     "metadata": {},
     "output_type": "execute_result"
    }
   ],
   "source": [
    "ddf_notext.isnull().sum().compute()"
   ]
  },
  {
   "cell_type": "markdown",
   "id": "f8ca145c",
   "metadata": {},
   "source": [
    "No NaNs in any of our columns. Excellent, let's proceed."
   ]
  },
  {
   "cell_type": "markdown",
   "id": "4cdceeec",
   "metadata": {},
   "source": [
    "## 4.3. Check Data Types"
   ]
  },
  {
   "cell_type": "code",
   "execution_count": 18,
   "id": "dbf706f4",
   "metadata": {},
   "outputs": [
    {
     "data": {
      "text/plain": [
       "appearance_count           float64\n",
       "user_tweet_count           float64\n",
       "timestamp_counts           float64\n",
       "follower_count             float64\n",
       "following_count            float64\n",
       "gsdmm_topic_11             float64\n",
       "gsdmm_topic_12             float64\n",
       "gsdmm_topic_18             float64\n",
       "dialect_pred_ALG           float64\n",
       "dialect_pred_ALX           float64\n",
       "dialect_pred_AMM           float64\n",
       "dialect_pred_ASW           float64\n",
       "dialect_pred_BAG           float64\n",
       "dialect_pred_BAS           float64\n",
       "dialect_pred_BEI           float64\n",
       "dialect_pred_BEN           float64\n",
       "dialect_pred_CAI           float64\n",
       "dialect_pred_DAM           float64\n",
       "dialect_pred_DOH           float64\n",
       "dialect_pred_FES           float64\n",
       "dialect_pred_JED           float64\n",
       "dialect_pred_JER           float64\n",
       "dialect_pred_KHA           float64\n",
       "dialect_pred_MOS           float64\n",
       "dialect_pred_MSA           float64\n",
       "dialect_pred_MUS           float64\n",
       "dialect_pred_RAB           float64\n",
       "dialect_pred_RIY           float64\n",
       "dialect_pred_SAL           float64\n",
       "dialect_pred_SAN           float64\n",
       "dialect_pred_SFX           float64\n",
       "dialect_pred_TRI           float64\n",
       "dialect_pred_TUN           float64\n",
       "sentiment_pred_neutral     float64\n",
       "sentiment_pred_positive    float64\n",
       "topic                      float64\n",
       "dtype: object"
      ]
     },
     "execution_count": 18,
     "metadata": {},
     "output_type": "execute_result"
    }
   ],
   "source": [
    "ddf_notext.dtypes"
   ]
  },
  {
   "cell_type": "markdown",
   "id": "a8919317",
   "metadata": {},
   "source": [
    "All numerical, great!"
   ]
  },
  {
   "cell_type": "markdown",
   "id": "c8cfcbd2",
   "metadata": {},
   "source": [
    "## 4.4. Get Target and Predictor Features"
   ]
  },
  {
   "cell_type": "code",
   "execution_count": 19,
   "id": "a0f02382",
   "metadata": {},
   "outputs": [
    {
     "data": {
      "text/plain": [
       "Index(['appearance_count', 'user_tweet_count', 'timestamp_counts',\n",
       "       'follower_count', 'following_count', 'gsdmm_topic_11', 'gsdmm_topic_12',\n",
       "       'gsdmm_topic_18', 'dialect_pred_ALG', 'dialect_pred_ALX',\n",
       "       'dialect_pred_AMM', 'dialect_pred_ASW', 'dialect_pred_BAG',\n",
       "       'dialect_pred_BAS', 'dialect_pred_BEI', 'dialect_pred_BEN',\n",
       "       'dialect_pred_CAI', 'dialect_pred_DAM', 'dialect_pred_DOH',\n",
       "       'dialect_pred_FES', 'dialect_pred_JED', 'dialect_pred_JER',\n",
       "       'dialect_pred_KHA', 'dialect_pred_MOS', 'dialect_pred_MSA',\n",
       "       'dialect_pred_MUS', 'dialect_pred_RAB', 'dialect_pred_RIY',\n",
       "       'dialect_pred_SAL', 'dialect_pred_SAN', 'dialect_pred_SFX',\n",
       "       'dialect_pred_TRI', 'dialect_pred_TUN', 'sentiment_pred_neutral',\n",
       "       'sentiment_pred_positive', 'topic'],\n",
       "      dtype='object')"
      ]
     },
     "execution_count": 19,
     "metadata": {},
     "output_type": "execute_result"
    }
   ],
   "source": [
    "ddf_notext.columns"
   ]
  },
  {
   "cell_type": "code",
   "execution_count": 20,
   "id": "ab81e7f1",
   "metadata": {},
   "outputs": [],
   "source": [
    "# get target and predictor features \n",
    "ddf_X = ddf_notext[['appearance_count', \n",
    "                 'user_tweet_count', \n",
    "                 'timestamp_counts',\n",
    "                 'follower_count', \n",
    "                 'following_count', \n",
    "                 'dialect_pred_ALG', \n",
    "                 'dialect_pred_ALX',\n",
    "                 'dialect_pred_AMM', \n",
    "                 'dialect_pred_ASW', \n",
    "                 'dialect_pred_BAG',\n",
    "                 'dialect_pred_BAS', \n",
    "                 'dialect_pred_BEI', \n",
    "                 'dialect_pred_BEN',\n",
    "                 'dialect_pred_CAI', \n",
    "                 'dialect_pred_DAM', \n",
    "                 'dialect_pred_DOH',\n",
    "                 'dialect_pred_FES', \n",
    "                 'dialect_pred_JED', \n",
    "                 'dialect_pred_JER',\n",
    "                 'dialect_pred_KHA', \n",
    "                 'dialect_pred_MOS', \n",
    "                 'dialect_pred_MSA',\n",
    "                 'dialect_pred_MUS', \n",
    "                 'dialect_pred_RAB', \n",
    "                 'dialect_pred_RIY',\n",
    "                 'dialect_pred_SAL', \n",
    "                 'dialect_pred_SAN', \n",
    "                 'dialect_pred_SFX',\n",
    "                 'dialect_pred_TRI', \n",
    "                 'dialect_pred_TUN', \n",
    "                 'sentiment_pred_neutral',\n",
    "                 'sentiment_pred_positive']]\n",
    "\n",
    "ddf_y = ddf_notext[['topic']]"
   ]
  },
  {
   "cell_type": "markdown",
   "id": "799cf7b5",
   "metadata": {},
   "source": [
    "## 4.5. Check Class (Im)Balance\n",
    "\n",
    "When setting up a classification ML problem, it's important to be aware of the (im)balance in the dataset between the different classes. \n",
    "\n",
    "Let's check how that's looking for our target feature 'Topic'."
   ]
  },
  {
   "cell_type": "code",
   "execution_count": 21,
   "id": "62debb8b",
   "metadata": {},
   "outputs": [
    {
     "data": {
      "text/plain": [
       "2.0    97219\n",
       "3.0    88261\n",
       "1.0    76402\n",
       "0.0    22504\n",
       "Name: topic, dtype: int64"
      ]
     },
     "execution_count": 21,
     "metadata": {},
     "output_type": "execute_result"
    }
   ],
   "source": [
    "# get value counts of 4 labels\n",
    "ddf_y.topic.value_counts().compute()"
   ]
  },
  {
   "cell_type": "code",
   "execution_count": 22,
   "id": "a1004ebf",
   "metadata": {},
   "outputs": [
    {
     "data": {
      "text/plain": [
       "2.0    0.341856\n",
       "3.0    0.310356\n",
       "1.0    0.268656\n",
       "0.0    0.079132\n",
       "Name: topic, dtype: float64"
      ]
     },
     "execution_count": 22,
     "metadata": {},
     "output_type": "execute_result"
    }
   ],
   "source": [
    "# get again as percentages of total\n",
    "ddf_y.topic.value_counts(normalize=True).compute()"
   ]
  },
  {
   "cell_type": "markdown",
   "id": "f23f69be",
   "metadata": {},
   "source": [
    "Alright, we have some imbalance to be aware of.\n",
    "\n",
    "Specifically,\n",
    "- Topic 4 has the lowest contribution (8%)\n",
    "- Topic 12 has the highest contribution (34%)\n",
    "- This means Topic 12 occurs more than 4x more than Topic 4\n",
    "- Topics 11, 12 and 18 are relatively evenly represented.\n",
    "\n",
    "Remember from our t-SNE plot that Topics 11 and 12 tended to cluster together.\n",
    "\n",
    "As a refresher, here are the keywords of each:\n",
    "\n",
    "- Cluster 12: Terrorist / Middle East: Qatar, Terrorism, Sudan, Brotherhood, Terrorist, Arab, Country, Party\n",
    "- Cluster 18: Saudi Politics: Saudi, Mohammed, Emirate, President, Salman, Arab, King, Prince, Egypt\n",
    "- Cluster 11: Middle East Politics: President, Egypt, Minister ,Saudi, Arab, Parliament, Iran, Sisi, American\n",
    "- Cluster 4: Syria: Syria, Country, Bombing, Regime, Power, Damascus, City, Dara'a (city), Idlib (city), Asad\n"
   ]
  },
  {
   "cell_type": "markdown",
   "id": "ac2ae83a",
   "metadata": {},
   "source": [
    "## 4.6. Create Train / Test Splits"
   ]
  },
  {
   "cell_type": "code",
   "execution_count": 23,
   "id": "3bf4c592",
   "metadata": {},
   "outputs": [],
   "source": [
    "# create train and test splits\n",
    "X_train, X_test, y_train, y_test = train_test_split(ddf_X, \n",
    "                                                    ddf_y, \n",
    "                                                    test_size=0.3, \n",
    "                                                    shuffle=True, \n",
    "                                                    random_state=2)"
   ]
  },
  {
   "cell_type": "code",
   "execution_count": 24,
   "id": "6eb75ba7",
   "metadata": {},
   "outputs": [
    {
     "data": {
      "text/html": [
       "<div><strong>Dask DataFrame Structure:</strong></div>\n",
       "<div>\n",
       "<style scoped>\n",
       "    .dataframe tbody tr th:only-of-type {\n",
       "        vertical-align: middle;\n",
       "    }\n",
       "\n",
       "    .dataframe tbody tr th {\n",
       "        vertical-align: top;\n",
       "    }\n",
       "\n",
       "    .dataframe thead th {\n",
       "        text-align: right;\n",
       "    }\n",
       "</style>\n",
       "<table border=\"1\" class=\"dataframe\">\n",
       "  <thead>\n",
       "    <tr style=\"text-align: right;\">\n",
       "      <th></th>\n",
       "      <th>topic</th>\n",
       "    </tr>\n",
       "    <tr>\n",
       "      <th>npartitions=25</th>\n",
       "      <th></th>\n",
       "    </tr>\n",
       "  </thead>\n",
       "  <tbody>\n",
       "    <tr>\n",
       "      <th>0</th>\n",
       "      <td>float64</td>\n",
       "    </tr>\n",
       "    <tr>\n",
       "      <th>11376</th>\n",
       "      <td>...</td>\n",
       "    </tr>\n",
       "    <tr>\n",
       "      <th>...</th>\n",
       "      <td>...</td>\n",
       "    </tr>\n",
       "    <tr>\n",
       "      <th>273024</th>\n",
       "      <td>...</td>\n",
       "    </tr>\n",
       "    <tr>\n",
       "      <th>284385</th>\n",
       "      <td>...</td>\n",
       "    </tr>\n",
       "  </tbody>\n",
       "</table>\n",
       "</div>\n",
       "<div>Dask Name: split, 25 tasks</div>"
      ],
      "text/plain": [
       "Dask DataFrame Structure:\n",
       "                  topic\n",
       "npartitions=25         \n",
       "0               float64\n",
       "11376               ...\n",
       "...                 ...\n",
       "273024              ...\n",
       "284385              ...\n",
       "Dask Name: split, 25 tasks"
      ]
     },
     "execution_count": 24,
     "metadata": {},
     "output_type": "execute_result"
    }
   ],
   "source": [
    "# persist splits in memory\n",
    "X_train.persist()\n",
    "X_test.persist()\n",
    "y_train.persist()\n",
    "y_test.persist()"
   ]
  },
  {
   "cell_type": "markdown",
   "id": "2338c5e2",
   "metadata": {},
   "source": [
    "# 5. Building XGBoost Model\n",
    "\n",
    "Now we're all set to build our first classifier.\n",
    "\n",
    "Let's set some basic parameters to get this going, we will do a more extensive GridSearchCV later."
   ]
  },
  {
   "cell_type": "markdown",
   "id": "80cf44d9",
   "metadata": {},
   "source": [
    "## 5.1. First XGBoost Model\n",
    "\n",
    "We'll only set the **objective** parameter to **multi-class:softmax** here and set the **number of classes**. We'll leave the rest of the hyperparameters on their default settings."
   ]
  },
  {
   "cell_type": "code",
   "execution_count": 23,
   "id": "53398ce9",
   "metadata": {},
   "outputs": [],
   "source": [
    "# define model parameters\n",
    "params = {\n",
    "    'objective': 'multi:softmax',\n",
    "    'num_class': 4\n",
    "}"
   ]
  },
  {
   "cell_type": "code",
   "execution_count": 24,
   "id": "8835ac4e",
   "metadata": {},
   "outputs": [
    {
     "name": "stdout",
     "output_type": "stream",
     "text": [
      "XGBoost model trained on 199052 rows \n",
      "in 16.2277 seconds.\n"
     ]
    }
   ],
   "source": [
    "# train model with timer\n",
    "start_time = time.time()\n",
    "model = dask_xgboost.train(client, \n",
    "                           params, \n",
    "                           X_train, \n",
    "                           y_train\n",
    ")\n",
    "duration = time.time() - start_time\n",
    "\n",
    "print('XGBoost model trained on {} rows \\nin {} seconds.'.format(X_train.shape[0].compute(), round(duration, 4)))"
   ]
  },
  {
   "cell_type": "code",
   "execution_count": 25,
   "id": "6c8fc7c0",
   "metadata": {},
   "outputs": [],
   "source": [
    "# get label predictions\n",
    "y_pred = dask_xgboost.predict(client, model, X_test)"
   ]
  },
  {
   "cell_type": "code",
   "execution_count": 26,
   "id": "c68539bb",
   "metadata": {},
   "outputs": [
    {
     "name": "stdout",
     "output_type": "stream",
     "text": [
      "CPU times: user 968 ms, sys: 80.8 ms, total: 1.05 s\n",
      "Wall time: 8.75 s\n"
     ]
    }
   ],
   "source": [
    "%%time\n",
    "# bring y_test and y_pred to computer\n",
    "y_test, y_pred = dask.compute(y_test, y_pred)"
   ]
  },
  {
   "cell_type": "markdown",
   "id": "3e733c63",
   "metadata": {},
   "source": [
    "## 5.2. Evaluating XGBoost on MultiClass"
   ]
  },
  {
   "cell_type": "markdown",
   "id": "c8a24855",
   "metadata": {},
   "source": [
    "From [the sklearn documentation](https://scikit-learn.org/stable/modules/model_evaluation.html#average):\n",
    "\n",
    "- \"macro\" simply calculates the mean of the binary metrics, giving equal weight to each class. In problems where infrequent classes are nonetheless important, macro-averaging may be a means of highlighting their performance. On the other hand, the assumption that all classes are equally important is often untrue, such that macro-averaging will over-emphasize the typically low performance on an infrequent class.\n",
    "\n",
    "- **\"weighted\" accounts for class imbalance** by computing the average of binary metrics in which each class’s score is weighted by its presence in the true data sample.\n",
    "\n",
    "- \"micro\" gives each sample-class pair an equal contribution to the overall metric (except as a result of sample-weight). Rather than summing the metric per class, this sums the dividends and divisors that make up the per-class metrics to calculate an overall quotient. Micro-averaging may be preferred in multilabel settings, including multiclass classification where a majority class is to be ignored.\n",
    "\n",
    "- Note that **if all labels are included, “micro”-averaging in a multiclass setting will produce precision, recall and  that are all identical to accuracy**. "
   ]
  },
  {
   "cell_type": "code",
   "execution_count": 27,
   "id": "9c38946f",
   "metadata": {},
   "outputs": [
    {
     "name": "stdout",
     "output_type": "stream",
     "text": [
      "              precision    recall  f1-score   support\n",
      "\n",
      "           0       0.67      0.53      0.59      6794\n",
      "           1       0.54      0.39      0.45     22904\n",
      "           2       0.66      0.69      0.68     29284\n",
      "           3       0.62      0.76      0.68     26352\n",
      "\n",
      "    accuracy                           0.62     85334\n",
      "   macro avg       0.62      0.59      0.60     85334\n",
      "weighted avg       0.61      0.62      0.61     85334\n",
      "\n"
     ]
    }
   ],
   "source": [
    "print(classification_report(y_test, y_pred, labels=[0,1,2,3]))"
   ]
  },
  {
   "cell_type": "code",
   "execution_count": 28,
   "id": "9dd0a710",
   "metadata": {},
   "outputs": [],
   "source": [
    "cm = confusion_matrix(y_test, y_pred)"
   ]
  },
  {
   "cell_type": "code",
   "execution_count": 29,
   "id": "5526bbe8",
   "metadata": {},
   "outputs": [],
   "source": [
    "def plot_confusion_matrix(cm, classes, normalized=True, cmap='bone', title='Plot Title'):\n",
    "    plt.figure(figsize=[7, 6])\n",
    "    plt.title(title, fontsize=20)\n",
    "    norm_cm = cm\n",
    "    if normalized:\n",
    "        norm_cm = cm.astype('float') / cm.sum(axis=1)[:, np.newaxis]\n",
    "        sns.heatmap(norm_cm, annot=cm, fmt='g', xticklabels=classes, yticklabels=classes, cmap=cmap)"
   ]
  },
  {
   "cell_type": "code",
   "execution_count": 30,
   "id": "58c15b28",
   "metadata": {},
   "outputs": [
    {
     "data": {
      "image/png": "[encoded data removed]",
      "text/plain": [
       "<Figure size 504x432 with 2 Axes>"
      ]
     },
     "metadata": {
      "needs_background": "light"
     },
     "output_type": "display_data"
    }
   ],
   "source": [
    "plot_confusion_matrix(cm, \n",
    "                      ['Topic 4', 'Topic 11', 'Topic 12', 'Topic 18'],\n",
    "                      title='Normalized Confusion Matrix')"
   ]
  },
  {
   "cell_type": "code",
   "execution_count": 32,
   "id": "51288e66",
   "metadata": {},
   "outputs": [
    {
     "data": {
      "text/plain": [
       "0.6205849954297232"
      ]
     },
     "execution_count": 32,
     "metadata": {},
     "output_type": "execute_result"
    }
   ],
   "source": [
    "accuracy_score(y_test,y_pred)"
   ]
  },
  {
   "cell_type": "markdown",
   "id": "836bff69",
   "metadata": {},
   "source": [
    "OK, not fantastic, but also not terrible for a first shot. And considering the fact that the tweet texts are not included; the topic is simply being predicted from the dialect, sentiment, and user characteristics.\n",
    "\n",
    "Following the sklearn documentation blurb copied above, we know that the **micro average** of the precision,  f1 score, and recall are all around 0.62 (i.e. the value of the overall accuracy). This is basically in line with the **weighted average** which falls between 0.61 and 0.62 for the 3 metrics.\n",
    "\n",
    "Let's see if we can improve on this using a GridSearchCV."
   ]
  },
  {
   "cell_type": "markdown",
   "id": "d0ebd81e",
   "metadata": {},
   "source": [
    "# 6. Hyperparameter Tuning"
   ]
  },
  {
   "cell_type": "markdown",
   "id": "dea056ef",
   "metadata": {},
   "source": [
    "## 6.1. Running GridSearchCV\n",
    "\n",
    "Let's run a GridSearchCV with a number of different parameter combinations. Since we're running this on a cluster we can be pretty experimental since we don't really have to worry about the number of total iterations to run in terms of time."
   ]
  },
  {
   "cell_type": "code",
   "execution_count": 41,
   "id": "318ec7f0",
   "metadata": {},
   "outputs": [],
   "source": [
    "# define model parameters\n",
    "params = {\n",
    "    'objective': ['multi:softmax', 'multi:softprob'],\n",
    "    'num_class': [4],\n",
    "    'n_estimators': [3,5,7,10], #number of rounds\n",
    "    'max_depth': [3,4,5,6,7],\n",
    "    'eta': [.3, .2, .1, .05, .01, .005], # sets the learning rate\n",
    "    'n_jobs': [-1],\n",
    "    'min_child_weight': [0.3, 0.5, 1, 2, 3],\n",
    "}"
   ]
  },
  {
   "cell_type": "code",
   "execution_count": 60,
   "id": "ea7abfd8",
   "metadata": {},
   "outputs": [],
   "source": [
    "xg_cl = XGBClassifier(num_boost_round=3)"
   ]
  },
  {
   "cell_type": "code",
   "execution_count": 64,
   "id": "27039b71",
   "metadata": {},
   "outputs": [],
   "source": [
    "cv = GridSearchCV(xg_cl, \n",
    "                  params, \n",
    "                  cv=3)"
   ]
  },
  {
   "cell_type": "code",
   "execution_count": 65,
   "id": "3190d917",
   "metadata": {},
   "outputs": [
    {
     "ename": "OSError",
     "evalue": "[Errno 22] Bad Request",
     "output_type": "error",
     "traceback": [
      "\u001b[0;31m---------------------------------------------------------------------------\u001b[0m",
      "\u001b[0;31mClientError\u001b[0m                               Traceback (most recent call last)",
      "\u001b[0;32m/opt/conda/envs/coiled/lib/python3.8/site-packages/s3fs/core.py\u001b[0m in \u001b[0;36m_call_s3\u001b[0;34m()\u001b[0m\n",
      "\u001b[0;32m/opt/conda/envs/coiled/lib/python3.8/site-packages/aiobotocore/client.py\u001b[0m in \u001b[0;36m_make_api_call\u001b[0;34m()\u001b[0m\n",
      "\u001b[0;31mClientError\u001b[0m: An error occurred (400) when calling the HeadObject operation: Bad Request",
      "\nThe above exception was the direct cause of the following exception:\n",
      "\u001b[0;31mOSError\u001b[0m                                   Traceback (most recent call last)",
      "\u001b[0;32m<ipython-input-65-cc8e0f394d4b>\u001b[0m in \u001b[0;36m<module>\u001b[0;34m\u001b[0m\n\u001b[1;32m      2\u001b[0m \u001b[0mstart_time\u001b[0m \u001b[0;34m=\u001b[0m \u001b[0mtime\u001b[0m\u001b[0;34m.\u001b[0m\u001b[0mtime\u001b[0m\u001b[0;34m(\u001b[0m\u001b[0;34m)\u001b[0m\u001b[0;34m\u001b[0m\u001b[0;34m\u001b[0m\u001b[0m\n\u001b[1;32m      3\u001b[0m \u001b[0;34m\u001b[0m\u001b[0m\n\u001b[0;32m----> 4\u001b[0;31m cv.fit(X_train, \n\u001b[0m\u001b[1;32m      5\u001b[0m        \u001b[0my_train\u001b[0m\u001b[0;34m,\u001b[0m\u001b[0;34m\u001b[0m\u001b[0;34m\u001b[0m\u001b[0m\n\u001b[1;32m      6\u001b[0m        classes=[0,1,2,3]);\n",
      "\u001b[0;32m~/miniconda3/envs/cap3-clustering/lib/python3.8/site-packages/dask_ml/model_selection/_search.py\u001b[0m in \u001b[0;36mfit\u001b[0;34m(self, X, y, groups, **fit_params)\u001b[0m\n\u001b[1;32m   1234\u001b[0m \u001b[0;34m\u001b[0m\u001b[0m\n\u001b[1;32m   1235\u001b[0m         \u001b[0mcandidate_params\u001b[0m \u001b[0;34m=\u001b[0m \u001b[0mlist\u001b[0m\u001b[0;34m(\u001b[0m\u001b[0mself\u001b[0m\u001b[0;34m.\u001b[0m\u001b[0m_get_param_iterator\u001b[0m\u001b[0;34m(\u001b[0m\u001b[0;34m)\u001b[0m\u001b[0;34m)\u001b[0m\u001b[0;34m\u001b[0m\u001b[0;34m\u001b[0m\u001b[0m\n\u001b[0;32m-> 1236\u001b[0;31m         dsk, keys, n_splits, _ = build_cv_graph(\n\u001b[0m\u001b[1;32m   1237\u001b[0m             \u001b[0mestimator\u001b[0m\u001b[0;34m,\u001b[0m\u001b[0;34m\u001b[0m\u001b[0;34m\u001b[0m\u001b[0m\n\u001b[1;32m   1238\u001b[0m             \u001b[0mself\u001b[0m\u001b[0;34m.\u001b[0m\u001b[0mcv\u001b[0m\u001b[0;34m,\u001b[0m\u001b[0;34m\u001b[0m\u001b[0;34m\u001b[0m\u001b[0m\n",
      "\u001b[0;32m~/miniconda3/envs/cap3-clustering/lib/python3.8/site-packages/dask_ml/model_selection/_search.py\u001b[0m in \u001b[0;36mbuild_cv_graph\u001b[0;34m(estimator, cv, scorer, candidate_params, X, y, groups, fit_params, iid, error_score, return_train_score, cache_cv)\u001b[0m\n\u001b[1;32m    199\u001b[0m ):\n\u001b[1;32m    200\u001b[0m     \u001b[0mX\u001b[0m\u001b[0;34m,\u001b[0m \u001b[0my\u001b[0m\u001b[0;34m,\u001b[0m \u001b[0mgroups\u001b[0m \u001b[0;34m=\u001b[0m \u001b[0mto_indexable\u001b[0m\u001b[0;34m(\u001b[0m\u001b[0mX\u001b[0m\u001b[0;34m,\u001b[0m \u001b[0my\u001b[0m\u001b[0;34m,\u001b[0m \u001b[0mgroups\u001b[0m\u001b[0;34m)\u001b[0m\u001b[0;34m\u001b[0m\u001b[0;34m\u001b[0m\u001b[0m\n\u001b[0;32m--> 201\u001b[0;31m     \u001b[0mcv\u001b[0m \u001b[0;34m=\u001b[0m \u001b[0mcheck_cv\u001b[0m\u001b[0;34m(\u001b[0m\u001b[0mcv\u001b[0m\u001b[0;34m,\u001b[0m \u001b[0my\u001b[0m\u001b[0;34m,\u001b[0m \u001b[0mis_classifier\u001b[0m\u001b[0;34m(\u001b[0m\u001b[0mestimator\u001b[0m\u001b[0;34m)\u001b[0m\u001b[0;34m)\u001b[0m\u001b[0;34m\u001b[0m\u001b[0;34m\u001b[0m\u001b[0m\n\u001b[0m\u001b[1;32m    202\u001b[0m     \u001b[0;31m# \"pairwise\" estimators require a different graph for CV splitting\u001b[0m\u001b[0;34m\u001b[0m\u001b[0;34m\u001b[0m\u001b[0;34m\u001b[0m\u001b[0m\n\u001b[1;32m    203\u001b[0m     \u001b[0;32mif\u001b[0m \u001b[0mSK_024\u001b[0m\u001b[0;34m:\u001b[0m\u001b[0;34m\u001b[0m\u001b[0;34m\u001b[0m\u001b[0m\n",
      "\u001b[0;32m~/miniconda3/envs/cap3-clustering/lib/python3.8/site-packages/dask_ml/model_selection/_search.py\u001b[0m in \u001b[0;36mcheck_cv\u001b[0;34m(cv, y, classifier)\u001b[0m\n\u001b[1;32m    970\u001b[0m     \u001b[0;32mif\u001b[0m \u001b[0mclassifier\u001b[0m\u001b[0;34m:\u001b[0m\u001b[0;34m\u001b[0m\u001b[0;34m\u001b[0m\u001b[0m\n\u001b[1;32m    971\u001b[0m         \u001b[0;31m# ``y`` is a dask object. We need to compute the target type\u001b[0m\u001b[0;34m\u001b[0m\u001b[0;34m\u001b[0m\u001b[0;34m\u001b[0m\u001b[0m\n\u001b[0;32m--> 972\u001b[0;31m         \u001b[0mtarget_type\u001b[0m \u001b[0;34m=\u001b[0m \u001b[0mdelayed\u001b[0m\u001b[0;34m(\u001b[0m\u001b[0mtype_of_target\u001b[0m\u001b[0;34m,\u001b[0m \u001b[0mpure\u001b[0m\u001b[0;34m=\u001b[0m\u001b[0;32mTrue\u001b[0m\u001b[0;34m)\u001b[0m\u001b[0;34m(\u001b[0m\u001b[0my\u001b[0m\u001b[0;34m)\u001b[0m\u001b[0;34m.\u001b[0m\u001b[0mcompute\u001b[0m\u001b[0;34m(\u001b[0m\u001b[0;34m)\u001b[0m\u001b[0;34m\u001b[0m\u001b[0;34m\u001b[0m\u001b[0m\n\u001b[0m\u001b[1;32m    973\u001b[0m         \u001b[0;32mif\u001b[0m \u001b[0mtarget_type\u001b[0m \u001b[0;32min\u001b[0m \u001b[0;34m(\u001b[0m\u001b[0;34m\"binary\"\u001b[0m\u001b[0;34m,\u001b[0m \u001b[0;34m\"multiclass\"\u001b[0m\u001b[0;34m)\u001b[0m\u001b[0;34m:\u001b[0m\u001b[0;34m\u001b[0m\u001b[0;34m\u001b[0m\u001b[0m\n\u001b[1;32m    974\u001b[0m             \u001b[0;32mreturn\u001b[0m \u001b[0mStratifiedKFold\u001b[0m\u001b[0;34m(\u001b[0m\u001b[0mcv\u001b[0m\u001b[0;34m)\u001b[0m\u001b[0;34m\u001b[0m\u001b[0;34m\u001b[0m\u001b[0m\n",
      "\u001b[0;32m~/miniconda3/envs/cap3-clustering/lib/python3.8/site-packages/dask/base.py\u001b[0m in \u001b[0;36mcompute\u001b[0;34m(self, **kwargs)\u001b[0m\n\u001b[1;32m    283\u001b[0m         \u001b[0mdask\u001b[0m\u001b[0;34m.\u001b[0m\u001b[0mbase\u001b[0m\u001b[0;34m.\u001b[0m\u001b[0mcompute\u001b[0m\u001b[0;34m\u001b[0m\u001b[0;34m\u001b[0m\u001b[0m\n\u001b[1;32m    284\u001b[0m         \"\"\"\n\u001b[0;32m--> 285\u001b[0;31m         \u001b[0;34m(\u001b[0m\u001b[0mresult\u001b[0m\u001b[0;34m,\u001b[0m\u001b[0;34m)\u001b[0m \u001b[0;34m=\u001b[0m \u001b[0mcompute\u001b[0m\u001b[0;34m(\u001b[0m\u001b[0mself\u001b[0m\u001b[0;34m,\u001b[0m \u001b[0mtraverse\u001b[0m\u001b[0;34m=\u001b[0m\u001b[0;32mFalse\u001b[0m\u001b[0;34m,\u001b[0m \u001b[0;34m**\u001b[0m\u001b[0mkwargs\u001b[0m\u001b[0;34m)\u001b[0m\u001b[0;34m\u001b[0m\u001b[0;34m\u001b[0m\u001b[0m\n\u001b[0m\u001b[1;32m    286\u001b[0m         \u001b[0;32mreturn\u001b[0m \u001b[0mresult\u001b[0m\u001b[0;34m\u001b[0m\u001b[0;34m\u001b[0m\u001b[0m\n\u001b[1;32m    287\u001b[0m \u001b[0;34m\u001b[0m\u001b[0m\n",
      "\u001b[0;32m~/miniconda3/envs/cap3-clustering/lib/python3.8/site-packages/dask/base.py\u001b[0m in \u001b[0;36mcompute\u001b[0;34m(*args, **kwargs)\u001b[0m\n\u001b[1;32m    565\u001b[0m         \u001b[0mpostcomputes\u001b[0m\u001b[0;34m.\u001b[0m\u001b[0mappend\u001b[0m\u001b[0;34m(\u001b[0m\u001b[0mx\u001b[0m\u001b[0;34m.\u001b[0m\u001b[0m__dask_postcompute__\u001b[0m\u001b[0;34m(\u001b[0m\u001b[0;34m)\u001b[0m\u001b[0;34m)\u001b[0m\u001b[0;34m\u001b[0m\u001b[0;34m\u001b[0m\u001b[0m\n\u001b[1;32m    566\u001b[0m \u001b[0;34m\u001b[0m\u001b[0m\n\u001b[0;32m--> 567\u001b[0;31m     \u001b[0mresults\u001b[0m \u001b[0;34m=\u001b[0m \u001b[0mschedule\u001b[0m\u001b[0;34m(\u001b[0m\u001b[0mdsk\u001b[0m\u001b[0;34m,\u001b[0m \u001b[0mkeys\u001b[0m\u001b[0;34m,\u001b[0m \u001b[0;34m**\u001b[0m\u001b[0mkwargs\u001b[0m\u001b[0;34m)\u001b[0m\u001b[0;34m\u001b[0m\u001b[0;34m\u001b[0m\u001b[0m\n\u001b[0m\u001b[1;32m    568\u001b[0m     \u001b[0;32mreturn\u001b[0m \u001b[0mrepack\u001b[0m\u001b[0;34m(\u001b[0m\u001b[0;34m[\u001b[0m\u001b[0mf\u001b[0m\u001b[0;34m(\u001b[0m\u001b[0mr\u001b[0m\u001b[0;34m,\u001b[0m \u001b[0;34m*\u001b[0m\u001b[0ma\u001b[0m\u001b[0;34m)\u001b[0m \u001b[0;32mfor\u001b[0m \u001b[0mr\u001b[0m\u001b[0;34m,\u001b[0m \u001b[0;34m(\u001b[0m\u001b[0mf\u001b[0m\u001b[0;34m,\u001b[0m \u001b[0ma\u001b[0m\u001b[0;34m)\u001b[0m \u001b[0;32min\u001b[0m \u001b[0mzip\u001b[0m\u001b[0;34m(\u001b[0m\u001b[0mresults\u001b[0m\u001b[0;34m,\u001b[0m \u001b[0mpostcomputes\u001b[0m\u001b[0;34m)\u001b[0m\u001b[0;34m]\u001b[0m\u001b[0;34m)\u001b[0m\u001b[0;34m\u001b[0m\u001b[0;34m\u001b[0m\u001b[0m\n\u001b[1;32m    569\u001b[0m \u001b[0;34m\u001b[0m\u001b[0m\n",
      "\u001b[0;32m~/miniconda3/envs/cap3-clustering/lib/python3.8/site-packages/distributed/client.py\u001b[0m in \u001b[0;36mget\u001b[0;34m(self, dsk, keys, workers, allow_other_workers, resources, sync, asynchronous, direct, retries, priority, fifo_timeout, actors, **kwargs)\u001b[0m\n\u001b[1;32m   2672\u001b[0m                     \u001b[0mshould_rejoin\u001b[0m \u001b[0;34m=\u001b[0m \u001b[0;32mFalse\u001b[0m\u001b[0;34m\u001b[0m\u001b[0;34m\u001b[0m\u001b[0m\n\u001b[1;32m   2673\u001b[0m             \u001b[0;32mtry\u001b[0m\u001b[0;34m:\u001b[0m\u001b[0;34m\u001b[0m\u001b[0;34m\u001b[0m\u001b[0m\n\u001b[0;32m-> 2674\u001b[0;31m                 \u001b[0mresults\u001b[0m \u001b[0;34m=\u001b[0m \u001b[0mself\u001b[0m\u001b[0;34m.\u001b[0m\u001b[0mgather\u001b[0m\u001b[0;34m(\u001b[0m\u001b[0mpacked\u001b[0m\u001b[0;34m,\u001b[0m \u001b[0masynchronous\u001b[0m\u001b[0;34m=\u001b[0m\u001b[0masynchronous\u001b[0m\u001b[0;34m,\u001b[0m \u001b[0mdirect\u001b[0m\u001b[0;34m=\u001b[0m\u001b[0mdirect\u001b[0m\u001b[0;34m)\u001b[0m\u001b[0;34m\u001b[0m\u001b[0;34m\u001b[0m\u001b[0m\n\u001b[0m\u001b[1;32m   2675\u001b[0m             \u001b[0;32mfinally\u001b[0m\u001b[0;34m:\u001b[0m\u001b[0;34m\u001b[0m\u001b[0;34m\u001b[0m\u001b[0m\n\u001b[1;32m   2676\u001b[0m                 \u001b[0;32mfor\u001b[0m \u001b[0mf\u001b[0m \u001b[0;32min\u001b[0m \u001b[0mfutures\u001b[0m\u001b[0;34m.\u001b[0m\u001b[0mvalues\u001b[0m\u001b[0;34m(\u001b[0m\u001b[0;34m)\u001b[0m\u001b[0;34m:\u001b[0m\u001b[0;34m\u001b[0m\u001b[0;34m\u001b[0m\u001b[0m\n",
      "\u001b[0;32m~/miniconda3/envs/cap3-clustering/lib/python3.8/site-packages/distributed/client.py\u001b[0m in \u001b[0;36mgather\u001b[0;34m(self, futures, errors, direct, asynchronous)\u001b[0m\n\u001b[1;32m   1981\u001b[0m             \u001b[0;32melse\u001b[0m\u001b[0;34m:\u001b[0m\u001b[0;34m\u001b[0m\u001b[0;34m\u001b[0m\u001b[0m\n\u001b[1;32m   1982\u001b[0m                 \u001b[0mlocal_worker\u001b[0m \u001b[0;34m=\u001b[0m \u001b[0;32mNone\u001b[0m\u001b[0;34m\u001b[0m\u001b[0;34m\u001b[0m\u001b[0m\n\u001b[0;32m-> 1983\u001b[0;31m             return self.sync(\n\u001b[0m\u001b[1;32m   1984\u001b[0m                 \u001b[0mself\u001b[0m\u001b[0;34m.\u001b[0m\u001b[0m_gather\u001b[0m\u001b[0;34m,\u001b[0m\u001b[0;34m\u001b[0m\u001b[0;34m\u001b[0m\u001b[0m\n\u001b[1;32m   1985\u001b[0m                 \u001b[0mfutures\u001b[0m\u001b[0;34m,\u001b[0m\u001b[0;34m\u001b[0m\u001b[0;34m\u001b[0m\u001b[0m\n",
      "\u001b[0;32m~/miniconda3/envs/cap3-clustering/lib/python3.8/site-packages/distributed/client.py\u001b[0m in \u001b[0;36msync\u001b[0;34m(self, func, asynchronous, callback_timeout, *args, **kwargs)\u001b[0m\n\u001b[1;32m    849\u001b[0m             \u001b[0;32mreturn\u001b[0m \u001b[0mfuture\u001b[0m\u001b[0;34m\u001b[0m\u001b[0;34m\u001b[0m\u001b[0m\n\u001b[1;32m    850\u001b[0m         \u001b[0;32melse\u001b[0m\u001b[0;34m:\u001b[0m\u001b[0;34m\u001b[0m\u001b[0;34m\u001b[0m\u001b[0m\n\u001b[0;32m--> 851\u001b[0;31m             return sync(\n\u001b[0m\u001b[1;32m    852\u001b[0m                 \u001b[0mself\u001b[0m\u001b[0;34m.\u001b[0m\u001b[0mloop\u001b[0m\u001b[0;34m,\u001b[0m \u001b[0mfunc\u001b[0m\u001b[0;34m,\u001b[0m \u001b[0;34m*\u001b[0m\u001b[0margs\u001b[0m\u001b[0;34m,\u001b[0m \u001b[0mcallback_timeout\u001b[0m\u001b[0;34m=\u001b[0m\u001b[0mcallback_timeout\u001b[0m\u001b[0;34m,\u001b[0m \u001b[0;34m**\u001b[0m\u001b[0mkwargs\u001b[0m\u001b[0;34m\u001b[0m\u001b[0;34m\u001b[0m\u001b[0m\n\u001b[1;32m    853\u001b[0m             )\n",
      "\u001b[0;32m~/miniconda3/envs/cap3-clustering/lib/python3.8/site-packages/distributed/utils.py\u001b[0m in \u001b[0;36msync\u001b[0;34m(loop, func, callback_timeout, *args, **kwargs)\u001b[0m\n\u001b[1;32m    352\u001b[0m     \u001b[0;32mif\u001b[0m \u001b[0merror\u001b[0m\u001b[0;34m[\u001b[0m\u001b[0;36m0\u001b[0m\u001b[0;34m]\u001b[0m\u001b[0;34m:\u001b[0m\u001b[0;34m\u001b[0m\u001b[0;34m\u001b[0m\u001b[0m\n\u001b[1;32m    353\u001b[0m         \u001b[0mtyp\u001b[0m\u001b[0;34m,\u001b[0m \u001b[0mexc\u001b[0m\u001b[0;34m,\u001b[0m \u001b[0mtb\u001b[0m \u001b[0;34m=\u001b[0m \u001b[0merror\u001b[0m\u001b[0;34m[\u001b[0m\u001b[0;36m0\u001b[0m\u001b[0;34m]\u001b[0m\u001b[0;34m\u001b[0m\u001b[0;34m\u001b[0m\u001b[0m\n\u001b[0;32m--> 354\u001b[0;31m         \u001b[0;32mraise\u001b[0m \u001b[0mexc\u001b[0m\u001b[0;34m.\u001b[0m\u001b[0mwith_traceback\u001b[0m\u001b[0;34m(\u001b[0m\u001b[0mtb\u001b[0m\u001b[0;34m)\u001b[0m\u001b[0;34m\u001b[0m\u001b[0;34m\u001b[0m\u001b[0m\n\u001b[0m\u001b[1;32m    355\u001b[0m     \u001b[0;32melse\u001b[0m\u001b[0;34m:\u001b[0m\u001b[0;34m\u001b[0m\u001b[0;34m\u001b[0m\u001b[0m\n\u001b[1;32m    356\u001b[0m         \u001b[0;32mreturn\u001b[0m \u001b[0mresult\u001b[0m\u001b[0;34m[\u001b[0m\u001b[0;36m0\u001b[0m\u001b[0;34m]\u001b[0m\u001b[0;34m\u001b[0m\u001b[0;34m\u001b[0m\u001b[0m\n",
      "\u001b[0;32m~/miniconda3/envs/cap3-clustering/lib/python3.8/site-packages/distributed/utils.py\u001b[0m in \u001b[0;36mf\u001b[0;34m()\u001b[0m\n\u001b[1;32m    335\u001b[0m             \u001b[0;32mif\u001b[0m \u001b[0mcallback_timeout\u001b[0m \u001b[0;32mis\u001b[0m \u001b[0;32mnot\u001b[0m \u001b[0;32mNone\u001b[0m\u001b[0;34m:\u001b[0m\u001b[0;34m\u001b[0m\u001b[0;34m\u001b[0m\u001b[0m\n\u001b[1;32m    336\u001b[0m                 \u001b[0mfuture\u001b[0m \u001b[0;34m=\u001b[0m \u001b[0masyncio\u001b[0m\u001b[0;34m.\u001b[0m\u001b[0mwait_for\u001b[0m\u001b[0;34m(\u001b[0m\u001b[0mfuture\u001b[0m\u001b[0;34m,\u001b[0m \u001b[0mcallback_timeout\u001b[0m\u001b[0;34m)\u001b[0m\u001b[0;34m\u001b[0m\u001b[0;34m\u001b[0m\u001b[0m\n\u001b[0;32m--> 337\u001b[0;31m             \u001b[0mresult\u001b[0m\u001b[0;34m[\u001b[0m\u001b[0;36m0\u001b[0m\u001b[0;34m]\u001b[0m \u001b[0;34m=\u001b[0m \u001b[0;32myield\u001b[0m \u001b[0mfuture\u001b[0m\u001b[0;34m\u001b[0m\u001b[0;34m\u001b[0m\u001b[0m\n\u001b[0m\u001b[1;32m    338\u001b[0m         \u001b[0;32mexcept\u001b[0m \u001b[0mException\u001b[0m \u001b[0;32mas\u001b[0m \u001b[0mexc\u001b[0m\u001b[0;34m:\u001b[0m\u001b[0;34m\u001b[0m\u001b[0;34m\u001b[0m\u001b[0m\n\u001b[1;32m    339\u001b[0m             \u001b[0merror\u001b[0m\u001b[0;34m[\u001b[0m\u001b[0;36m0\u001b[0m\u001b[0;34m]\u001b[0m \u001b[0;34m=\u001b[0m \u001b[0msys\u001b[0m\u001b[0;34m.\u001b[0m\u001b[0mexc_info\u001b[0m\u001b[0;34m(\u001b[0m\u001b[0;34m)\u001b[0m\u001b[0;34m\u001b[0m\u001b[0;34m\u001b[0m\u001b[0m\n",
      "\u001b[0;32m~/miniconda3/envs/cap3-clustering/lib/python3.8/site-packages/tornado/gen.py\u001b[0m in \u001b[0;36mrun\u001b[0;34m(self)\u001b[0m\n\u001b[1;32m    760\u001b[0m \u001b[0;34m\u001b[0m\u001b[0m\n\u001b[1;32m    761\u001b[0m                     \u001b[0;32mtry\u001b[0m\u001b[0;34m:\u001b[0m\u001b[0;34m\u001b[0m\u001b[0;34m\u001b[0m\u001b[0m\n\u001b[0;32m--> 762\u001b[0;31m                         \u001b[0mvalue\u001b[0m \u001b[0;34m=\u001b[0m \u001b[0mfuture\u001b[0m\u001b[0;34m.\u001b[0m\u001b[0mresult\u001b[0m\u001b[0;34m(\u001b[0m\u001b[0;34m)\u001b[0m\u001b[0;34m\u001b[0m\u001b[0;34m\u001b[0m\u001b[0m\n\u001b[0m\u001b[1;32m    763\u001b[0m                     \u001b[0;32mexcept\u001b[0m \u001b[0mException\u001b[0m\u001b[0;34m:\u001b[0m\u001b[0;34m\u001b[0m\u001b[0;34m\u001b[0m\u001b[0m\n\u001b[1;32m    764\u001b[0m                         \u001b[0mexc_info\u001b[0m \u001b[0;34m=\u001b[0m \u001b[0msys\u001b[0m\u001b[0;34m.\u001b[0m\u001b[0mexc_info\u001b[0m\u001b[0;34m(\u001b[0m\u001b[0;34m)\u001b[0m\u001b[0;34m\u001b[0m\u001b[0;34m\u001b[0m\u001b[0m\n",
      "\u001b[0;32m~/miniconda3/envs/cap3-clustering/lib/python3.8/site-packages/distributed/client.py\u001b[0m in \u001b[0;36m_gather\u001b[0;34m(self, futures, errors, direct, local_worker)\u001b[0m\n\u001b[1;32m   1846\u001b[0m                             \u001b[0mexc\u001b[0m \u001b[0;34m=\u001b[0m \u001b[0mCancelledError\u001b[0m\u001b[0;34m(\u001b[0m\u001b[0mkey\u001b[0m\u001b[0;34m)\u001b[0m\u001b[0;34m\u001b[0m\u001b[0;34m\u001b[0m\u001b[0m\n\u001b[1;32m   1847\u001b[0m                         \u001b[0;32melse\u001b[0m\u001b[0;34m:\u001b[0m\u001b[0;34m\u001b[0m\u001b[0;34m\u001b[0m\u001b[0m\n\u001b[0;32m-> 1848\u001b[0;31m                             \u001b[0;32mraise\u001b[0m \u001b[0mexception\u001b[0m\u001b[0;34m.\u001b[0m\u001b[0mwith_traceback\u001b[0m\u001b[0;34m(\u001b[0m\u001b[0mtraceback\u001b[0m\u001b[0;34m)\u001b[0m\u001b[0;34m\u001b[0m\u001b[0;34m\u001b[0m\u001b[0m\n\u001b[0m\u001b[1;32m   1849\u001b[0m                         \u001b[0;32mraise\u001b[0m \u001b[0mexc\u001b[0m\u001b[0;34m\u001b[0m\u001b[0;34m\u001b[0m\u001b[0m\n\u001b[1;32m   1850\u001b[0m                     \u001b[0;32mif\u001b[0m \u001b[0merrors\u001b[0m \u001b[0;34m==\u001b[0m \u001b[0;34m\"skip\"\u001b[0m\u001b[0;34m:\u001b[0m\u001b[0;34m\u001b[0m\u001b[0;34m\u001b[0m\u001b[0m\n",
      "\u001b[0;32m/opt/conda/envs/coiled/lib/python3.8/site-packages/dask/optimization.py\u001b[0m in \u001b[0;36m__call__\u001b[0;34m()\u001b[0m\n",
      "\u001b[0;32m/opt/conda/envs/coiled/lib/python3.8/site-packages/dask/core.py\u001b[0m in \u001b[0;36mget\u001b[0;34m()\u001b[0m\n",
      "\u001b[0;32m/opt/conda/envs/coiled/lib/python3.8/site-packages/dask/core.py\u001b[0m in \u001b[0;36m_execute_task\u001b[0;34m()\u001b[0m\n",
      "\u001b[0;32m/opt/conda/envs/coiled/lib/python3.8/site-packages/dask/dataframe/io/parquet/core.py\u001b[0m in \u001b[0;36m__call__\u001b[0;34m()\u001b[0m\n",
      "\u001b[0;32m/opt/conda/envs/coiled/lib/python3.8/site-packages/dask/dataframe/io/parquet/core.py\u001b[0m in \u001b[0;36mread_parquet_part\u001b[0;34m()\u001b[0m\n",
      "\u001b[0;32m/opt/conda/envs/coiled/lib/python3.8/site-packages/dask/dataframe/io/parquet/core.py\u001b[0m in \u001b[0;36m<listcomp>\u001b[0;34m()\u001b[0m\n",
      "\u001b[0;32m/opt/conda/envs/coiled/lib/python3.8/site-packages/dask/dataframe/io/parquet/arrow.py\u001b[0m in \u001b[0;36mread_partition\u001b[0;34m()\u001b[0m\n",
      "\u001b[0;32m/opt/conda/envs/coiled/lib/python3.8/site-packages/dask/dataframe/io/parquet/arrow.py\u001b[0m in \u001b[0;36m_read_table\u001b[0;34m()\u001b[0m\n",
      "\u001b[0;32m/opt/conda/envs/coiled/lib/python3.8/site-packages/dask/dataframe/io/parquet/arrow.py\u001b[0m in \u001b[0;36m_read_table_from_path\u001b[0;34m()\u001b[0m\n",
      "\u001b[0;32m/opt/conda/envs/coiled/lib/python3.8/site-packages/fsspec/spec.py\u001b[0m in \u001b[0;36mopen\u001b[0;34m()\u001b[0m\n",
      "\u001b[0;32m/opt/conda/envs/coiled/lib/python3.8/site-packages/s3fs/core.py\u001b[0m in \u001b[0;36m_open\u001b[0;34m()\u001b[0m\n",
      "\u001b[0;32m/opt/conda/envs/coiled/lib/python3.8/site-packages/s3fs/core.py\u001b[0m in \u001b[0;36m__init__\u001b[0;34m()\u001b[0m\n",
      "\u001b[0;32m/opt/conda/envs/coiled/lib/python3.8/site-packages/fsspec/spec.py\u001b[0m in \u001b[0;36m__init__\u001b[0;34m()\u001b[0m\n",
      "\u001b[0;32m/opt/conda/envs/coiled/lib/python3.8/site-packages/fsspec/asyn.py\u001b[0m in \u001b[0;36mwrapper\u001b[0;34m()\u001b[0m\n",
      "\u001b[0;32m/opt/conda/envs/coiled/lib/python3.8/site-packages/fsspec/asyn.py\u001b[0m in \u001b[0;36msync\u001b[0;34m()\u001b[0m\n",
      "\u001b[0;32m/opt/conda/envs/coiled/lib/python3.8/site-packages/fsspec/asyn.py\u001b[0m in \u001b[0;36m_runner\u001b[0;34m()\u001b[0m\n",
      "\u001b[0;32m/opt/conda/envs/coiled/lib/python3.8/site-packages/s3fs/core.py\u001b[0m in \u001b[0;36m_info\u001b[0;34m()\u001b[0m\n",
      "\u001b[0;32m/opt/conda/envs/coiled/lib/python3.8/site-packages/s3fs/core.py\u001b[0m in \u001b[0;36m_call_s3\u001b[0;34m()\u001b[0m\n",
      "\u001b[0;31mOSError\u001b[0m: [Errno 22] Bad Request"
     ]
    }
   ],
   "source": [
    "# train model with timer\n",
    "start_time = time.time()\n",
    "\n",
    "cv.fit(X_train, \n",
    "       y_train, \n",
    "       classes=[0,1,2,3]);\n",
    "\n",
    "duration = time.time() - start_time\n",
    "\n",
    "print('GridSearchCV conducted \\nin {} seconds.'.format(round(duration, 4)))"
   ]
  },
  {
   "cell_type": "markdown",
   "id": "70ab21c8",
   "metadata": {},
   "source": [
    "This is annoying. From [this Github thread](https://github.com/dask/dask-ml/issues/667) it seems like Dask-ML's XGBoost doesn't jive well with Dask-ML's GridSearchCV.\n",
    "\n",
    "The thread suggests working with the original **xgboost** library. But we tried that and also can't get to work."
   ]
  },
  {
   "cell_type": "markdown",
   "id": "29935a43",
   "metadata": {},
   "source": [
    "## 5.4. XGBoost CV Locally\n",
    "\n",
    "From the XGBoost docs, it seems that XGBoost has its own Cross-Validation class. \n",
    "\n",
    "```\n",
    "xgboost.cv(params, dtrain, num_boost_round=10, nfold=3, stratified=False, folds=None, metrics=(), obj=None, feval=None, maximize=None, early_stopping_rounds=None, fpreproc=None, as_pandas=True, verbose_eval=None, show_stdv=True, seed=0, callbacks=None, shuffle=True)\n",
    "```\n",
    "\n",
    "**BUT** after trying this out, it turns out that this can't handle Dask dataframes and, unfortunately, the dask API of XGBoost doesn't have a .cv() class.\n",
    "\n",
    "So I think the only thing left to do is to bring our train and test sets to this computer and process the model training locally. Curious to see how long that will take."
   ]
  },
  {
   "cell_type": "code",
   "execution_count": 32,
   "id": "6955e194",
   "metadata": {},
   "outputs": [],
   "source": [
    "# bring train/test sets locally\n",
    "X_train_df = X_train.compute()\n",
    "X_test_df = X_test.compute()\n",
    "y_train_df = y_train.compute()\n",
    "y_test_df = y_test.compute()"
   ]
  },
  {
   "cell_type": "code",
   "execution_count": 47,
   "id": "baae8c1f",
   "metadata": {},
   "outputs": [],
   "source": [
    "# define model parameters\n",
    "params = {\n",
    "    'objective': ['multi:softmax'],\n",
    "    'num_class': [4],\n",
    "    'n_estimators': [3,5,7,10], #number of rounds\n",
    "    'max_depth': [3,5,7,10,15],\n",
    "    'eta': [.3, .2, .1, .05, .01, .005], # sets the learning rate\n",
    "    'n_jobs': [-1],\n",
    "    'min_child_weight': [0.5, 1, 2, 3, 5],\n",
    "}"
   ]
  },
  {
   "cell_type": "code",
   "execution_count": 48,
   "id": "47de9110",
   "metadata": {},
   "outputs": [],
   "source": [
    "# define grid search object\n",
    "cv = GridSearchCV(estimator=xgb.XGBClassifier(use_label_encoder=False, labels=[0,1,2,3]), \n",
    "                  param_grid=params,\n",
    "                  scoring='accuracy',\n",
    "                  n_jobs=-1,\n",
    "                  )"
   ]
  },
  {
   "cell_type": "code",
   "execution_count": 49,
   "id": "5169b6e5",
   "metadata": {},
   "outputs": [
    {
     "name": "stderr",
     "output_type": "stream",
     "text": [
      "distributed.client - ERROR - Failed to reconnect to scheduler after 10.00 seconds, closing client\n",
      "_GatheringFuture exception was never retrieved\n",
      "future: <_GatheringFuture finished exception=CancelledError()>\n",
      "asyncio.exceptions.CancelledError\n"
     ]
    },
    {
     "name": "stdout",
     "output_type": "stream",
     "text": [
      "[00:55:41] WARNING: /opt/concourse/worker/volumes/live/7a2b9f41-3287-451b-6691-43e9a6c0910f/volume/xgboost-split_1619728204606/work/src/learner.cc:541: \n",
      "Parameters: { labels } might not be used.\n",
      "\n",
      "  This may not be accurate due to some parameters are only used in language bindings but\n",
      "  passed down to XGBoost core.  Or some parameters are not used but slip through this\n",
      "  verification. Please open an issue if you find above cases.\n",
      "\n",
      "\n",
      "[00:55:44] WARNING: /opt/concourse/worker/volumes/live/7a2b9f41-3287-451b-6691-43e9a6c0910f/volume/xgboost-split_1619728204606/work/src/learner.cc:1061: Starting in XGBoost 1.3.0, the default evaluation metric used with the objective 'multi:softprob' was changed from 'merror' to 'mlogloss'. Explicitly set eval_metric if you'd like to restore the old behavior.\n",
      "GridSearchCV trained in 26715.8266 seconds.\n"
     ]
    }
   ],
   "source": [
    "# train model with timer\n",
    "start_time = time.time()\n",
    "\n",
    "cv.fit(X_train_df, y_train_df)\n",
    "\n",
    "duration = time.time() - start_time\n",
    "\n",
    "print('GridSearchCV trained in {} seconds.'.format(round(duration, 4)))"
   ]
  },
  {
   "cell_type": "code",
   "execution_count": 64,
   "id": "89e1ba87",
   "metadata": {},
   "outputs": [
    {
     "name": "stdout",
     "output_type": "stream",
     "text": [
      "7:25:15.826620\n"
     ]
    }
   ],
   "source": [
    "import datetime\n",
    "print(str(datetime.timedelta(seconds=duration)))"
   ]
  },
  {
   "cell_type": "markdown",
   "id": "7f475c4a",
   "metadata": {},
   "source": [
    "That only took 7.5 hours! ;)\n",
    "\n",
    "Let's get the best estimator and see if it did any better than our out-of-the-box model."
   ]
  },
  {
   "cell_type": "code",
   "execution_count": 50,
   "id": "100fc57b",
   "metadata": {},
   "outputs": [
    {
     "data": {
      "text/plain": [
       "XGBClassifier(base_score=0.5, booster='gbtree', colsample_bylevel=1,\n",
       "              colsample_bynode=1, colsample_bytree=1, eta=0.2, gamma=0,\n",
       "              gpu_id=-1, importance_type='gain', interaction_constraints='',\n",
       "              labels=[0, 1, 2, 3], learning_rate=0.200000003, max_delta_step=0,\n",
       "              max_depth=10, min_child_weight=5, missing=nan,\n",
       "              monotone_constraints='()', n_estimators=10, n_jobs=-1,\n",
       "              num_class=4, num_parallel_tree=1, objective='multi:softprob',\n",
       "              random_state=0, reg_alpha=0, reg_lambda=1, scale_pos_weight=None,\n",
       "              subsample=1, tree_method='exact', use_label_encoder=False,\n",
       "              validate_parameters=1, ...)"
      ]
     },
     "execution_count": 50,
     "metadata": {},
     "output_type": "execute_result"
    }
   ],
   "source": [
    "cv.best_estimator_"
   ]
  },
  {
   "cell_type": "code",
   "execution_count": 57,
   "id": "60bb91f5",
   "metadata": {},
   "outputs": [],
   "source": [
    "y_pred = cv.best_estimator_.predict(X_test_df)"
   ]
  },
  {
   "cell_type": "code",
   "execution_count": 58,
   "id": "6d014a9f",
   "metadata": {},
   "outputs": [
    {
     "name": "stdout",
     "output_type": "stream",
     "text": [
      "              precision    recall  f1-score   support\n",
      "\n",
      "           0       0.65      0.58      0.62      6794\n",
      "           1       0.56      0.43      0.48     22904\n",
      "           2       0.68      0.71      0.70     29284\n",
      "           3       0.65      0.76      0.70     26352\n",
      "\n",
      "    accuracy                           0.64     85334\n",
      "   macro avg       0.63      0.62      0.62     85334\n",
      "weighted avg       0.63      0.64      0.63     85334\n",
      "\n"
     ]
    }
   ],
   "source": [
    "print(classification_report(y_test_df, y_pred, labels=[0,1,2,3]))"
   ]
  },
  {
   "cell_type": "code",
   "execution_count": 59,
   "id": "a43b3cad",
   "metadata": {},
   "outputs": [],
   "source": [
    "cm = confusion_matrix(y_test_df, y_pred)"
   ]
  },
  {
   "cell_type": "code",
   "execution_count": 60,
   "id": "d2944ebf",
   "metadata": {},
   "outputs": [],
   "source": [
    "def plot_confusion_matrix(cm, classes, normalized=True, cmap='bone', title='Plot Title'):\n",
    "    plt.figure(figsize=[7, 6])\n",
    "    plt.title(title, fontsize=20)\n",
    "    norm_cm = cm\n",
    "    if normalized:\n",
    "        norm_cm = cm.astype('float') / cm.sum(axis=1)[:, np.newaxis]\n",
    "        sns.heatmap(norm_cm, annot=cm, fmt='g', xticklabels=classes, yticklabels=classes, cmap=cmap)"
   ]
  },
  {
   "cell_type": "code",
   "execution_count": 61,
   "id": "2247778b",
   "metadata": {},
   "outputs": [
    {
     "data": {
      "image/png": "[encoded data removed]",
      "text/plain": [
       "<Figure size 504x432 with 2 Axes>"
      ]
     },
     "metadata": {
      "needs_background": "light"
     },
     "output_type": "display_data"
    }
   ],
   "source": [
    "plot_confusion_matrix(cm, \n",
    "                      ['Topic 4', 'Topic 11', 'Topic 12', 'Topic 18'],\n",
    "                      title='Normalized Confusion Matrix')"
   ]
  },
  {
   "cell_type": "markdown",
   "id": "3fea855c",
   "metadata": {},
   "source": [
    "Alright, just a slight increase in performance, from 62% to 64%. Not a fantastic increase in performance, especially considering the runtime.\n",
    "\n",
    "Interesting to see that especially Topic 4 (Qatar / Terrorism) seems pretty well classified."
   ]
  },
  {
   "cell_type": "markdown",
   "id": "b5ebb0e1",
   "metadata": {},
   "source": [
    "# Conclusions\n",
    "\n",
    "We've seen that it is possible to predict the sub-topics of the Political Tweet from the non-text features with an accuracy of 64%. Not really a model worth deploying, but it is interesting to see such a relative strong correlation, considering the fact that we're not looking at the content of the tweets. It would be worth doing further exploration to see which of the features contributes most substantially to this predictive power. I wouldn't be suprised if it's **Dialect**, given the fact that there seems to be some geographical diversification within the topics.\n",
    "\n",
    "The biggest lesson, however, is that **distributed machine learning** poses some unique challenges. As we also saw in the previous notebook, depending on the size of the dataset and the libraries you're hoping to work with, things might not run as smoothly as you're used to, if you're coming from the well-paved Pandas and Sklearn universe.\n",
    "\n",
    "Although I would've loved to have more substantial findings at this point, it's been a massively instructive journey to work through all this. To connect with maintainers and other data scientists on forums and Github in order to understand the limitations of libraries...and begin to figure out ways to work around those limitations.\n",
    "\n",
    "I'll definitely be back to fine-tune this project and see if I can reach the goal I set out to begin with: extracting the purely political **misinformation** tweets from this dataset of 36 million tweets."
   ]
  }
 ],
 "metadata": {
  "kernelspec": {
   "display_name": "cap3-clustering",
   "language": "python",
   "name": "cap3-clustering"
  },
  "language_info": {
   "codemirror_mode": {
    "name": "ipython",
    "version": 3
   },
   "file_extension": ".py",
   "mimetype": "text/x-python",
   "name": "python",
   "nbconvert_exporter": "python",
   "pygments_lexer": "ipython3",
   "version": "3.8.8"
  }
 },
 "nbformat": 4,
 "nbformat_minor": 5
}
