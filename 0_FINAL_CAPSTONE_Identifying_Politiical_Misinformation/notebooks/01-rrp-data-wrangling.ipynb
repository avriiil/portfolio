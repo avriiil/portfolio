{
 "cells": [
  {
   "cell_type": "markdown",
   "metadata": {},
   "source": [
    "# Say What Now? \n",
    "## Detecting Arabic-Language Political Misinformation on Twitter"
   ]
  },
  {
   "cell_type": "markdown",
   "metadata": {},
   "source": [
    "# Introduction to Project & Notebook\n",
    "This is the first notebook of the project \"Say What Now? Identifying Arabic-Language Political Misinformation on Twitter\". The project uses a dataset of censored Twitter accounts containing more than 36 million tweets to:\n",
    "1. **Build a machine-learning classifier** to identify political misinformation tweets\n",
    "2. **Conduct network analysis** to identify the underlying relationships between the accounts\n",
    "\n",
    "In addition, this project sets out to tackle 2 technical challenges:\n",
    "1. **Use distributed computing** to process the larger-than-memory dataset, specifically using the new (Beta) Coiled interface to run AWS clusters\n",
    "2. **Conduct research** into NLP for low-resource languages such as Arabic, specifically by using semi-supervised learning to circumvent the challenges of scarce labelled datasets.\n",
    "\n",
    "## About the Dataset\n",
    "Data downloaded on February 26, 2021 from [the Information Operations page](https://transparency.twitter.com/en/reports/information-operations.html) of the Twitter Transparency Center\n",
    "\n",
    "Notes about the dataset:\n",
    "- What's Included? \"Platform manipulation that we can reliably attribute to a government or state linked actor is considered an information operation and is prohibited by the Twitter Rules.\"\n",
    "- \"These datasets include profile information, Tweets and media (e.g., images and videos) from accounts we believe are connected to state linked information operations. Tweets and media which were deleted [by the user] are not included in the datasets.\"\n",
    "- \"For accounts with fewer than 5,000 followers, we have hashed certain identifying fields (such as user ID and screen name) in the publicly-available version of the datasets. While we’ve taken every possible precaution to ensure there are no false positives in these datasets, we’ve hashed these fields to reduce the potential negative impact on authentic or compromised accounts — while still enabling longitudinal research, network analysis, and assessment of the underlying content created by these accounts.\"\n",
    "\n",
    "\n",
    "Twitter's [statement](https://twitter.com/TwitterSafety/status/1245682431975460864?s=20) about this particular dataset: \n",
    "- \"A network of accounts associated with Saudi Arabia and operating out of multiple countries including KSA, Egypt and UAE, were amplifying content praising Saudi leadership, and critical of Qatar and Turkish activity in Yemen. A total of 5,350 accounts were removed.\"\n",
    "\n",
    "## Notebook Outline\n",
    "\n",
    "0. Introduction to Project and Notebook\n",
    "\n",
    "\n",
    "1. Import Libraries\n",
    "\n",
    "\n",
    "2. Configure Coiled AWS Clusters\n",
    "\n",
    "\n",
    "3. Import Data\n",
    "\n",
    "\n",
    "4. Data Inspection & Basic Data Cleaning\n",
    " - Remove faulty and NaN rows\n",
    "\n",
    "\n",
    "5. Text Cleaning\n",
    " - Subset Arabic Tweets\n",
    " - Remove URLs\n",
    " - Remove emoji\n",
    " - Move RT usernames to new column & Remove RT\n",
    " - Move hashtags to new column & Remove hashtags\n",
    " - Delete Rows with Empty Tweet_Text\n",
    "\n",
    "\n",
    "6. Subset Unique Tweets\n",
    " - Create a dataframe with only unique tweets and a reset index\n",
    " - Replace tweets in original dataframe with indices from new (unique tweets) dataframe\n",
    "\n",
    "\n",
    "7. NLP Pre-Processing of Unique Tweets\n",
    " - Dediacritization\n",
    " - Tokenization\n",
    " - Orthographic Normalisation\n",
    " - Morphological Disambiguation\n",
    " - Lemmatization"
   ]
  },
  {
   "cell_type": "markdown",
   "metadata": {},
   "source": [
    "# 1. Importing Libraries"
   ]
  },
  {
   "cell_type": "code",
   "execution_count": 1,
   "metadata": {},
   "outputs": [],
   "source": [
    "import pandas as pd\n",
    "import numpy as np\n",
    "import re\n",
    "import matplotlib.pyplot as plt\n",
    "import coiled\n",
    "import dask\n",
    "from dask import distributed\n",
    "from dask.distributed import Client, progress\n",
    "import dask.dataframe as dd\n",
    "\n",
    "import emoji\n",
    "import lxml\n",
    "\n",
    "from nltk.corpus import stopwords\n",
    "from camel_tools.tokenizers.word import simple_word_tokenize\n",
    "from camel_tools.utils.normalize import normalize_alef_maksura_ar\n",
    "from camel_tools.utils.normalize import normalize_alef_ar\n",
    "from camel_tools.utils.normalize import normalize_teh_marbuta_ar\n",
    "from camel_tools.utils.dediac import dediac_ar\n",
    "from camel_tools.morphology.database import MorphologyDB\n",
    "from camel_tools.morphology.analyzer import Analyzer\n",
    "from camel_tools.disambig.mle import MLEDisambiguator\n",
    "from camel_tools.tokenizers.morphological import MorphologicalTokenizer"
   ]
  },
  {
   "cell_type": "markdown",
   "metadata": {},
   "source": [
    "# 2. Configuring Coiled Clusters\n",
    "Below, we spin up our Coiled AWS clusters in 2 simple steps:\n",
    "\n",
    "1. Spinning up our cluster using the configurations set up in notebook **99-rrp-cluster-configurations**\n",
    "2. Connecting our cluster to a Dask client\n",
    "\n",
    "In the Cluster Configuration notebook we have:\n",
    "1. Created a software environment that will be distributed to all the workers on our clusters using a local .yml file\n",
    "2. Created a cluster configuration containing specs of our scheduler and workers"
   ]
  },
  {
   "cell_type": "code",
   "execution_count": 3,
   "metadata": {},
   "outputs": [
    {
     "data": {
      "text/html": [
       "<pre style=\"white-space:pre;overflow-x:auto;line-height:normal;font-family:Menlo,'DejaVu Sans Mono',consolas,'Courier New',monospace\"><span style=\"color: #008000; text-decoration-color: #008000\">⠙</span> <span style=\"color: #008000; text-decoration-color: #008000; font-weight: bold\"> Creating Cluster. This takes about a minute...</span>\n",
       "</pre>\n"
      ],
      "text/plain": [
       "\u001b[32m⠙\u001b[0m \u001b[1;32m Creating Cluster. This takes about a minute...\u001b[0m\n"
      ]
     },
     "metadata": {},
     "output_type": "display_data"
    },
    {
     "data": {
      "text/html": [
       "<pre style=\"white-space:pre;overflow-x:auto;line-height:normal;font-family:Menlo,'DejaVu Sans Mono',consolas,'Courier New',monospace\"></pre>\n"
      ],
      "text/plain": []
     },
     "metadata": {},
     "output_type": "display_data"
    },
    {
     "name": "stdout",
     "output_type": "stream",
     "text": [
      "CPU times: user 29 s, sys: 7.68 s, total: 36.7 s\n",
      "Wall time: 4min 34s\n"
     ]
    }
   ],
   "source": [
    "%%time\n",
    "# create coiled cluster\n",
    "cluster = coiled.Cluster(\n",
    "    name='wrangling-cluster',\n",
    "    shutdown_on_close=False,\n",
    "    configuration=\"cap3-wrangling-s2_8-w4_16\",\n",
    "    n_workers=50,\n",
    "    scheduler_options={\"idle_timeout\": \"2 hours\"},\n",
    ")"
   ]
  },
  {
   "cell_type": "code",
   "execution_count": 4,
   "metadata": {},
   "outputs": [
    {
     "name": "stdout",
     "output_type": "stream",
     "text": [
      "Dashboard: http://ec2-3-16-114-53.us-east-2.compute.amazonaws.com:8787\n"
     ]
    }
   ],
   "source": [
    "# connect cluster to Dask\n",
    "client = Client(cluster)\n",
    "print('Dashboard:', client.dashboard_link)"
   ]
  },
  {
   "cell_type": "markdown",
   "metadata": {},
   "source": [
    "# 3. Importing Arabic Twitter Data"
   ]
  },
  {
   "cell_type": "markdown",
   "metadata": {},
   "source": [
    "Working with AWS clusters requires our data to be stored in an AWS S3 bucket. Below, we read in our data from an S3 bucket, selecting only the columns relevant to our analysis: basic information about the users, the content of the tweets and any information about interactions (retweets, replies) between users."
   ]
  },
  {
   "cell_type": "code",
   "execution_count": 5,
   "metadata": {},
   "outputs": [
    {
     "name": "stderr",
     "output_type": "stream",
     "text": [
      "Skipping line 410: unexpected end of data\n"
     ]
    }
   ],
   "source": [
    "# read s3 data into dask dataframe\n",
    "ddf = dd.read_csv(\n",
    "    \"s3://twitter-saudi-us-east-2/sa_eg_ae_022020_tweets_csv_hashed_*.csv\",\n",
    "    blocksize=\"64MiB\",\n",
    "    usecols=[\n",
    "        'tweetid',\n",
    "        'userid',\n",
    "        'user_screen_name',\n",
    "        'follower_count', \n",
    "        'following_count',\n",
    "        'tweet_language',\n",
    "        'tweet_text',\n",
    "        'tweet_time', \n",
    "        'tweet_client_name', \n",
    "        'is_retweet',\n",
    "        'retweet_userid',\n",
    "        'retweet_tweetid'],\n",
    "    engine='python',\n",
    "    error_bad_lines=False,\n",
    "    na_values='None',\n",
    "    dtype={\n",
    "        \"tweetid\": \"object\",\n",
    "        \"userid\": \"object\",\n",
    "        \"user_screen_name\": \"object\",\n",
    "        \"follower_count\": \"object\",\n",
    "        \"following_count\": \"object\",\n",
    "        \"tweet_language\": \"object\",\n",
    "        \"tweet_text\": \"object\",\n",
    "        \"tweet_time\": \"object\",\n",
    "        \"tweet_client_name\": \"object\",\n",
    "        \"is_retweet\": \"object\",\n",
    "        \"retweet_userid\": \"object\",\n",
    "        \"retweet_tweetid\": \"object\"\n",
    "    }\n",
    ").persist()"
   ]
  },
  {
   "cell_type": "markdown",
   "metadata": {},
   "source": [
    "# 4. Data Inspection & Basic Data Cleaning"
   ]
  },
  {
   "cell_type": "markdown",
   "metadata": {},
   "source": [
    "Let's have a look at what's in our dataframe and what we'll need to do to get this into a shape we can work with."
   ]
  },
  {
   "cell_type": "code",
   "execution_count": 6,
   "metadata": {},
   "outputs": [
    {
     "data": {
      "text/html": [
       "<div><strong>Dask DataFrame Structure:</strong></div>\n",
       "<div>\n",
       "<style scoped>\n",
       "    .dataframe tbody tr th:only-of-type {\n",
       "        vertical-align: middle;\n",
       "    }\n",
       "\n",
       "    .dataframe tbody tr th {\n",
       "        vertical-align: top;\n",
       "    }\n",
       "\n",
       "    .dataframe thead th {\n",
       "        text-align: right;\n",
       "    }\n",
       "</style>\n",
       "<table border=\"1\" class=\"dataframe\">\n",
       "  <thead>\n",
       "    <tr style=\"text-align: right;\">\n",
       "      <th></th>\n",
       "      <th>tweetid</th>\n",
       "      <th>userid</th>\n",
       "      <th>user_screen_name</th>\n",
       "      <th>follower_count</th>\n",
       "      <th>following_count</th>\n",
       "      <th>tweet_language</th>\n",
       "      <th>tweet_text</th>\n",
       "      <th>tweet_time</th>\n",
       "      <th>tweet_client_name</th>\n",
       "      <th>is_retweet</th>\n",
       "      <th>retweet_userid</th>\n",
       "      <th>retweet_tweetid</th>\n",
       "    </tr>\n",
       "    <tr>\n",
       "      <th>npartitions=369</th>\n",
       "      <th></th>\n",
       "      <th></th>\n",
       "      <th></th>\n",
       "      <th></th>\n",
       "      <th></th>\n",
       "      <th></th>\n",
       "      <th></th>\n",
       "      <th></th>\n",
       "      <th></th>\n",
       "      <th></th>\n",
       "      <th></th>\n",
       "      <th></th>\n",
       "    </tr>\n",
       "  </thead>\n",
       "  <tbody>\n",
       "    <tr>\n",
       "      <th></th>\n",
       "      <td>object</td>\n",
       "      <td>object</td>\n",
       "      <td>object</td>\n",
       "      <td>object</td>\n",
       "      <td>object</td>\n",
       "      <td>object</td>\n",
       "      <td>object</td>\n",
       "      <td>object</td>\n",
       "      <td>object</td>\n",
       "      <td>object</td>\n",
       "      <td>object</td>\n",
       "      <td>object</td>\n",
       "    </tr>\n",
       "    <tr>\n",
       "      <th></th>\n",
       "      <td>...</td>\n",
       "      <td>...</td>\n",
       "      <td>...</td>\n",
       "      <td>...</td>\n",
       "      <td>...</td>\n",
       "      <td>...</td>\n",
       "      <td>...</td>\n",
       "      <td>...</td>\n",
       "      <td>...</td>\n",
       "      <td>...</td>\n",
       "      <td>...</td>\n",
       "      <td>...</td>\n",
       "    </tr>\n",
       "    <tr>\n",
       "      <th>...</th>\n",
       "      <td>...</td>\n",
       "      <td>...</td>\n",
       "      <td>...</td>\n",
       "      <td>...</td>\n",
       "      <td>...</td>\n",
       "      <td>...</td>\n",
       "      <td>...</td>\n",
       "      <td>...</td>\n",
       "      <td>...</td>\n",
       "      <td>...</td>\n",
       "      <td>...</td>\n",
       "      <td>...</td>\n",
       "    </tr>\n",
       "    <tr>\n",
       "      <th></th>\n",
       "      <td>...</td>\n",
       "      <td>...</td>\n",
       "      <td>...</td>\n",
       "      <td>...</td>\n",
       "      <td>...</td>\n",
       "      <td>...</td>\n",
       "      <td>...</td>\n",
       "      <td>...</td>\n",
       "      <td>...</td>\n",
       "      <td>...</td>\n",
       "      <td>...</td>\n",
       "      <td>...</td>\n",
       "    </tr>\n",
       "    <tr>\n",
       "      <th></th>\n",
       "      <td>...</td>\n",
       "      <td>...</td>\n",
       "      <td>...</td>\n",
       "      <td>...</td>\n",
       "      <td>...</td>\n",
       "      <td>...</td>\n",
       "      <td>...</td>\n",
       "      <td>...</td>\n",
       "      <td>...</td>\n",
       "      <td>...</td>\n",
       "      <td>...</td>\n",
       "      <td>...</td>\n",
       "    </tr>\n",
       "  </tbody>\n",
       "</table>\n",
       "</div>\n",
       "<div>Dask Name: read-csv, 369 tasks</div>"
      ],
      "text/plain": [
       "Dask DataFrame Structure:\n",
       "                tweetid  userid user_screen_name follower_count following_count tweet_language tweet_text tweet_time tweet_client_name is_retweet retweet_userid retweet_tweetid\n",
       "npartitions=369                                                                                                                                                                 \n",
       "                 object  object           object         object          object         object     object     object            object     object         object          object\n",
       "                    ...     ...              ...            ...             ...            ...        ...        ...               ...        ...            ...             ...\n",
       "...                 ...     ...              ...            ...             ...            ...        ...        ...               ...        ...            ...             ...\n",
       "                    ...     ...              ...            ...             ...            ...        ...        ...               ...        ...            ...             ...\n",
       "                    ...     ...              ...            ...             ...            ...        ...        ...               ...        ...            ...             ...\n",
       "Dask Name: read-csv, 369 tasks"
      ]
     },
     "execution_count": 6,
     "metadata": {},
     "output_type": "execute_result"
    }
   ],
   "source": [
    "# inspect\n",
    "ddf"
   ]
  },
  {
   "cell_type": "code",
   "execution_count": 7,
   "metadata": {},
   "outputs": [
    {
     "data": {
      "text/plain": [
       "36524387"
      ]
     },
     "execution_count": 7,
     "metadata": {},
     "output_type": "execute_result"
    }
   ],
   "source": [
    "# get number of rows of our dask dataframe\n",
    "n_rows_all = ddf.shape[0].compute()\n",
    "n_rows_all"
   ]
  },
  {
   "cell_type": "markdown",
   "metadata": {},
   "source": [
    "We have more than 36.5 million tweets.\n",
    "\n",
    "We had some trouble setting the data types directly upon import. From earlier experimentation not presented in this notebook, we know that this is most likely due to NaNs and/or faulty rows in which entries have shifted across columns (e.g. content of 'username' is in 'retweet_id' column). Let's investigate and resolve this first before moving on."
   ]
  },
  {
   "cell_type": "markdown",
   "metadata": {},
   "source": [
    "## 4.1 Start by Creating Index\n",
    "When working with a dask dataframe, it's best practice to set an index at the start of your operations. Because Dask dataframes are partitioned, the row indices (that would be accessed using .iloc) are not straightforward to use. Setting the index resolves this and creates a clear index across all partitions. This is an expensive operation so best to use it as sparingly as possible."
   ]
  },
  {
   "cell_type": "code",
   "execution_count": 8,
   "metadata": {},
   "outputs": [
    {
     "name": "stdout",
     "output_type": "stream",
     "text": [
      "CPU times: user 2.5 s, sys: 127 ms, total: 2.62 s\n",
      "Wall time: 8.84 s\n"
     ]
    }
   ],
   "source": [
    "%%time\n",
    "# set index to tweetid\n",
    "ddf = ddf.set_index('tweetid', drop=True).persist()"
   ]
  },
  {
   "cell_type": "markdown",
   "metadata": {},
   "source": [
    "Done.\n",
    "\n",
    "We will now proceed to inspect each column of the dataframe to check for NaNs / faulty entries and clean up as needed."
   ]
  },
  {
   "cell_type": "markdown",
   "metadata": {},
   "source": [
    "## 4.2 Inspecting Tweet_Text Column\n",
    "Let's proceed to inspect the tweet_text column to see what's going on with the faulty entries and see if we can remove them."
   ]
  },
  {
   "cell_type": "code",
   "execution_count": 10,
   "metadata": {},
   "outputs": [],
   "source": [
    "# get a subset of our dataframe to experiment with\n",
    "df_temp = ddf.partitions[9].compute()"
   ]
  },
  {
   "cell_type": "code",
   "execution_count": 11,
   "metadata": {},
   "outputs": [
    {
     "data": {
      "text/html": [
       "<div>\n",
       "<style scoped>\n",
       "    .dataframe tbody tr th:only-of-type {\n",
       "        vertical-align: middle;\n",
       "    }\n",
       "\n",
       "    .dataframe tbody tr th {\n",
       "        vertical-align: top;\n",
       "    }\n",
       "\n",
       "    .dataframe thead th {\n",
       "        text-align: right;\n",
       "    }\n",
       "</style>\n",
       "<table border=\"1\" class=\"dataframe\">\n",
       "  <thead>\n",
       "    <tr style=\"text-align: right;\">\n",
       "      <th></th>\n",
       "      <th>userid</th>\n",
       "      <th>user_screen_name</th>\n",
       "      <th>follower_count</th>\n",
       "      <th>following_count</th>\n",
       "      <th>tweet_language</th>\n",
       "      <th>tweet_text</th>\n",
       "      <th>tweet_time</th>\n",
       "      <th>tweet_client_name</th>\n",
       "      <th>is_retweet</th>\n",
       "      <th>retweet_userid</th>\n",
       "      <th>retweet_tweetid</th>\n",
       "    </tr>\n",
       "    <tr>\n",
       "      <th>tweetid</th>\n",
       "      <th></th>\n",
       "      <th></th>\n",
       "      <th></th>\n",
       "      <th></th>\n",
       "      <th></th>\n",
       "      <th></th>\n",
       "      <th></th>\n",
       "      <th></th>\n",
       "      <th></th>\n",
       "      <th></th>\n",
       "      <th></th>\n",
       "    </tr>\n",
       "  </thead>\n",
       "  <tbody>\n",
       "    <tr>\n",
       "      <th>1040243117105065984</th>\n",
       "      <td>993642585892818944</td>\n",
       "      <td>rahil_76</td>\n",
       "      <td>12576</td>\n",
       "      <td>12682</td>\n",
       "      <td>ar</td>\n",
       "      <td>RT @alasirihoney_: 1_اقسم بالله انه عسل سدر طب...</td>\n",
       "      <td>2018-09-13 14:17</td>\n",
       "      <td>Twitter for Android</td>\n",
       "      <td>true</td>\n",
       "      <td>NaN</td>\n",
       "      <td>1040088191351640065</td>\n",
       "    </tr>\n",
       "    <tr>\n",
       "      <th>1040243122406678534</th>\n",
       "      <td>993642585892818944</td>\n",
       "      <td>rahil_76</td>\n",
       "      <td>12576</td>\n",
       "      <td>12682</td>\n",
       "      <td>ar</td>\n",
       "      <td>RT @alasirihoney_: 1_عسل ابيض مجرى | بلدي طبيع...</td>\n",
       "      <td>2018-09-13 14:17</td>\n",
       "      <td>Twitter for Android</td>\n",
       "      <td>true</td>\n",
       "      <td>NaN</td>\n",
       "      <td>1040087978578722816</td>\n",
       "    </tr>\n",
       "    <tr>\n",
       "      <th>1040243124407291904</th>\n",
       "      <td>993642585892818944</td>\n",
       "      <td>rahil_76</td>\n",
       "      <td>12576</td>\n",
       "      <td>12682</td>\n",
       "      <td>ar</td>\n",
       "      <td>RT @alasirihoney_: 1_عسل سدر عسل طبيعي عسل ابو...</td>\n",
       "      <td>2018-09-13 14:17</td>\n",
       "      <td>Twitter for Android</td>\n",
       "      <td>true</td>\n",
       "      <td>NaN</td>\n",
       "      <td>1040087959792504832</td>\n",
       "    </tr>\n",
       "    <tr>\n",
       "      <th>1040243161019412480</th>\n",
       "      <td>993642585892818944</td>\n",
       "      <td>rahil_76</td>\n",
       "      <td>12576</td>\n",
       "      <td>12682</td>\n",
       "      <td>ar</td>\n",
       "      <td>RT @dddhhh284: #خزنات # حمامات # مسابح \\nحل ار...</td>\n",
       "      <td>2018-09-13 14:17</td>\n",
       "      <td>Twitter for Android</td>\n",
       "      <td>true</td>\n",
       "      <td>NaN</td>\n",
       "      <td>1039887208356958208</td>\n",
       "    </tr>\n",
       "    <tr>\n",
       "      <th>1040243165003956224</th>\n",
       "      <td>993642585892818944</td>\n",
       "      <td>rahil_76</td>\n",
       "      <td>12576</td>\n",
       "      <td>12682</td>\n",
       "      <td>ar</td>\n",
       "      <td>RT @dddhhh284: #خزنات # حمامات # مسابح \\nحل ار...</td>\n",
       "      <td>2018-09-13 14:17</td>\n",
       "      <td>Twitter for Android</td>\n",
       "      <td>true</td>\n",
       "      <td>NaN</td>\n",
       "      <td>1039886180030898176</td>\n",
       "    </tr>\n",
       "    <tr>\n",
       "      <th>...</th>\n",
       "      <td>...</td>\n",
       "      <td>...</td>\n",
       "      <td>...</td>\n",
       "      <td>...</td>\n",
       "      <td>...</td>\n",
       "      <td>...</td>\n",
       "      <td>...</td>\n",
       "      <td>...</td>\n",
       "      <td>...</td>\n",
       "      <td>...</td>\n",
       "      <td>...</td>\n",
       "    </tr>\n",
       "    <tr>\n",
       "      <th>1044651472749826048</th>\n",
       "      <td>448366650</td>\n",
       "      <td>hassin1937</td>\n",
       "      <td>30529</td>\n",
       "      <td>7265</td>\n",
       "      <td>ar</td>\n",
       "      <td>RT @mom999900: لاعدمتك ياهناء قلبي وخله💚ياللي ...</td>\n",
       "      <td>2018-09-25 18:14</td>\n",
       "      <td>Twitter for iPhone</td>\n",
       "      <td>true</td>\n",
       "      <td>NaN</td>\n",
       "      <td>1044622714944794624</td>\n",
       "    </tr>\n",
       "    <tr>\n",
       "      <th>1044651483885637632</th>\n",
       "      <td>448366650</td>\n",
       "      <td>hassin1937</td>\n",
       "      <td>30529</td>\n",
       "      <td>7265</td>\n",
       "      <td>ar</td>\n",
       "      <td>RT @do__x: •\\n\\n.\\n.\\nأحياناً . .\\nيتوّجب عليك...</td>\n",
       "      <td>2018-09-25 18:14</td>\n",
       "      <td>Twitter for iPhone</td>\n",
       "      <td>true</td>\n",
       "      <td>NaN</td>\n",
       "      <td>1044629681792782339</td>\n",
       "    </tr>\n",
       "    <tr>\n",
       "      <th>1044651498024591361</th>\n",
       "      <td>rJ9LKF5+KW7TRiUemWEc2o7f2Yir2yMc+oxuoHToyR0=</td>\n",
       "      <td>rJ9LKF5+KW7TRiUemWEc2o7f2Yir2yMc+oxuoHToyR0=</td>\n",
       "      <td>616</td>\n",
       "      <td>1668</td>\n",
       "      <td>ar</td>\n",
       "      <td>دونالد #ترامب رئيس #الولايات_المتحدة الأمريكية...</td>\n",
       "      <td>2018-09-25 18:15</td>\n",
       "      <td>TweetDeck</td>\n",
       "      <td>false</td>\n",
       "      <td>NaN</td>\n",
       "      <td>NaN</td>\n",
       "    </tr>\n",
       "    <tr>\n",
       "      <th>1044651498259402753</th>\n",
       "      <td>raSzN6PrYMCSDxoqTBRxJ6+gadIVulhn0NA0dn10A=</td>\n",
       "      <td>raSzN6PrYMCSDxoqTBRxJ6+gadIVulhn0NA0dn10A=</td>\n",
       "      <td>800</td>\n",
       "      <td>359</td>\n",
       "      <td>ar</td>\n",
       "      <td>دونالد #ترامب رئيس #الولايات_المتحدة الأمريكية...</td>\n",
       "      <td>2018-09-25 18:15</td>\n",
       "      <td>TweetDeck</td>\n",
       "      <td>false</td>\n",
       "      <td>NaN</td>\n",
       "      <td>NaN</td>\n",
       "    </tr>\n",
       "    <tr>\n",
       "      <th>1044651499496886272</th>\n",
       "      <td>448366650</td>\n",
       "      <td>hassin1937</td>\n",
       "      <td>30529</td>\n",
       "      <td>7265</td>\n",
       "      <td>ar</td>\n",
       "      <td>RT @KhalidNahas: #حروف_ثمينه\\n\\nالسماء غطاء لل...</td>\n",
       "      <td>2018-09-25 18:15</td>\n",
       "      <td>Twitter for iPhone</td>\n",
       "      <td>true</td>\n",
       "      <td>NaN</td>\n",
       "      <td>1044528133548978176</td>\n",
       "    </tr>\n",
       "  </tbody>\n",
       "</table>\n",
       "<p>100270 rows × 11 columns</p>\n",
       "</div>"
      ],
      "text/plain": [
       "                                                           userid  \\\n",
       "tweetid                                                             \n",
       "1040243117105065984                            993642585892818944   \n",
       "1040243122406678534                            993642585892818944   \n",
       "1040243124407291904                            993642585892818944   \n",
       "1040243161019412480                            993642585892818944   \n",
       "1040243165003956224                            993642585892818944   \n",
       "...                                                           ...   \n",
       "1044651472749826048                                     448366650   \n",
       "1044651483885637632                                     448366650   \n",
       "1044651498024591361  rJ9LKF5+KW7TRiUemWEc2o7f2Yir2yMc+oxuoHToyR0=   \n",
       "1044651498259402753    raSzN6PrYMCSDxoqTBRxJ6+gadIVulhn0NA0dn10A=   \n",
       "1044651499496886272                                     448366650   \n",
       "\n",
       "                                                 user_screen_name  \\\n",
       "tweetid                                                             \n",
       "1040243117105065984                                      rahil_76   \n",
       "1040243122406678534                                      rahil_76   \n",
       "1040243124407291904                                      rahil_76   \n",
       "1040243161019412480                                      rahil_76   \n",
       "1040243165003956224                                      rahil_76   \n",
       "...                                                           ...   \n",
       "1044651472749826048                                    hassin1937   \n",
       "1044651483885637632                                    hassin1937   \n",
       "1044651498024591361  rJ9LKF5+KW7TRiUemWEc2o7f2Yir2yMc+oxuoHToyR0=   \n",
       "1044651498259402753    raSzN6PrYMCSDxoqTBRxJ6+gadIVulhn0NA0dn10A=   \n",
       "1044651499496886272                                    hassin1937   \n",
       "\n",
       "                    follower_count following_count tweet_language  \\\n",
       "tweetid                                                             \n",
       "1040243117105065984          12576           12682             ar   \n",
       "1040243122406678534          12576           12682             ar   \n",
       "1040243124407291904          12576           12682             ar   \n",
       "1040243161019412480          12576           12682             ar   \n",
       "1040243165003956224          12576           12682             ar   \n",
       "...                            ...             ...            ...   \n",
       "1044651472749826048          30529            7265             ar   \n",
       "1044651483885637632          30529            7265             ar   \n",
       "1044651498024591361            616            1668             ar   \n",
       "1044651498259402753            800             359             ar   \n",
       "1044651499496886272          30529            7265             ar   \n",
       "\n",
       "                                                            tweet_text  \\\n",
       "tweetid                                                                  \n",
       "1040243117105065984  RT @alasirihoney_: 1_اقسم بالله انه عسل سدر طب...   \n",
       "1040243122406678534  RT @alasirihoney_: 1_عسل ابيض مجرى | بلدي طبيع...   \n",
       "1040243124407291904  RT @alasirihoney_: 1_عسل سدر عسل طبيعي عسل ابو...   \n",
       "1040243161019412480  RT @dddhhh284: #خزنات # حمامات # مسابح \\nحل ار...   \n",
       "1040243165003956224  RT @dddhhh284: #خزنات # حمامات # مسابح \\nحل ار...   \n",
       "...                                                                ...   \n",
       "1044651472749826048  RT @mom999900: لاعدمتك ياهناء قلبي وخله💚ياللي ...   \n",
       "1044651483885637632  RT @do__x: •\\n\\n.\\n.\\nأحياناً . .\\nيتوّجب عليك...   \n",
       "1044651498024591361  دونالد #ترامب رئيس #الولايات_المتحدة الأمريكية...   \n",
       "1044651498259402753  دونالد #ترامب رئيس #الولايات_المتحدة الأمريكية...   \n",
       "1044651499496886272  RT @KhalidNahas: #حروف_ثمينه\\n\\nالسماء غطاء لل...   \n",
       "\n",
       "                           tweet_time    tweet_client_name is_retweet  \\\n",
       "tweetid                                                                 \n",
       "1040243117105065984  2018-09-13 14:17  Twitter for Android       true   \n",
       "1040243122406678534  2018-09-13 14:17  Twitter for Android       true   \n",
       "1040243124407291904  2018-09-13 14:17  Twitter for Android       true   \n",
       "1040243161019412480  2018-09-13 14:17  Twitter for Android       true   \n",
       "1040243165003956224  2018-09-13 14:17  Twitter for Android       true   \n",
       "...                               ...                  ...        ...   \n",
       "1044651472749826048  2018-09-25 18:14   Twitter for iPhone       true   \n",
       "1044651483885637632  2018-09-25 18:14   Twitter for iPhone       true   \n",
       "1044651498024591361  2018-09-25 18:15            TweetDeck      false   \n",
       "1044651498259402753  2018-09-25 18:15            TweetDeck      false   \n",
       "1044651499496886272  2018-09-25 18:15   Twitter for iPhone       true   \n",
       "\n",
       "                    retweet_userid      retweet_tweetid  \n",
       "tweetid                                                  \n",
       "1040243117105065984            NaN  1040088191351640065  \n",
       "1040243122406678534            NaN  1040087978578722816  \n",
       "1040243124407291904            NaN  1040087959792504832  \n",
       "1040243161019412480            NaN  1039887208356958208  \n",
       "1040243165003956224            NaN  1039886180030898176  \n",
       "...                            ...                  ...  \n",
       "1044651472749826048            NaN  1044622714944794624  \n",
       "1044651483885637632            NaN  1044629681792782339  \n",
       "1044651498024591361            NaN                  NaN  \n",
       "1044651498259402753            NaN                  NaN  \n",
       "1044651499496886272            NaN  1044528133548978176  \n",
       "\n",
       "[100270 rows x 11 columns]"
      ]
     },
     "execution_count": 11,
     "metadata": {},
     "output_type": "execute_result"
    }
   ],
   "source": [
    "df_temp"
   ]
  },
  {
   "cell_type": "markdown",
   "metadata": {},
   "source": [
    "The tweet_text column contains faulty entries that are:\n",
    "- only digits (shifted rows due to faulty import)\n",
    "- NaNs\n",
    "\n",
    "Let's first remove NaNs so that we can then proceed to look at the digit entries."
   ]
  },
  {
   "cell_type": "markdown",
   "metadata": {},
   "source": [
    "### 4.2.1. Drop NaNs from ddf"
   ]
  },
  {
   "cell_type": "code",
   "execution_count": 12,
   "metadata": {},
   "outputs": [],
   "source": [
    "# drop rows for which tweet_text is NaN\n",
    "ddf = ddf.dropna(subset=['tweet_text'])"
   ]
  },
  {
   "cell_type": "code",
   "execution_count": 13,
   "metadata": {},
   "outputs": [
    {
     "name": "stdout",
     "output_type": "stream",
     "text": [
      "CPU times: user 101 ms, sys: 12.3 ms, total: 114 ms\n",
      "Wall time: 1.98 s\n"
     ]
    },
    {
     "data": {
      "text/plain": [
       "36523971"
      ]
     },
     "execution_count": 13,
     "metadata": {},
     "output_type": "execute_result"
    }
   ],
   "source": [
    "%%time\n",
    "ddf.shape[0].compute()"
   ]
  },
  {
   "cell_type": "code",
   "execution_count": 14,
   "metadata": {},
   "outputs": [
    {
     "data": {
      "text/plain": [
       "416"
      ]
     },
     "execution_count": 14,
     "metadata": {},
     "output_type": "execute_result"
    }
   ],
   "source": [
    "n_rows_all - 36523971"
   ]
  },
  {
   "cell_type": "markdown",
   "metadata": {},
   "source": [
    "Dropping the rows with NaN in tweet_text still leaves us with >36.5mln tweets. We have dropped 416 rows."
   ]
  },
  {
   "cell_type": "markdown",
   "metadata": {},
   "source": [
    "### 4.2.2. Drop Faulty Rows"
   ]
  },
  {
   "cell_type": "markdown",
   "metadata": {},
   "source": [
    "Now let's see how many rows there are with digits in tweet_text. These rows are faulty imports; their contents have been shifted across columns, i.e. tweetid contains tweet_text etc."
   ]
  },
  {
   "cell_type": "code",
   "execution_count": 15,
   "metadata": {},
   "outputs": [
    {
     "data": {
      "text/plain": [
       "373"
      ]
     },
     "execution_count": 15,
     "metadata": {},
     "output_type": "execute_result"
    }
   ],
   "source": [
    "# subset ddf to get the number of entries for which tweet_text is entirely numeric\n",
    "df_numeric = ddf[ddf.tweet_text.str.isnumeric()].compute()\n",
    "df_numeric.shape[0]"
   ]
  },
  {
   "cell_type": "code",
   "execution_count": 16,
   "metadata": {},
   "outputs": [
    {
     "data": {
      "text/html": [
       "<div>\n",
       "<style scoped>\n",
       "    .dataframe tbody tr th:only-of-type {\n",
       "        vertical-align: middle;\n",
       "    }\n",
       "\n",
       "    .dataframe tbody tr th {\n",
       "        vertical-align: top;\n",
       "    }\n",
       "\n",
       "    .dataframe thead th {\n",
       "        text-align: right;\n",
       "    }\n",
       "</style>\n",
       "<table border=\"1\" class=\"dataframe\">\n",
       "  <thead>\n",
       "    <tr style=\"text-align: right;\">\n",
       "      <th></th>\n",
       "      <th>userid</th>\n",
       "      <th>user_screen_name</th>\n",
       "      <th>follower_count</th>\n",
       "      <th>following_count</th>\n",
       "      <th>tweet_language</th>\n",
       "      <th>tweet_text</th>\n",
       "      <th>tweet_time</th>\n",
       "      <th>tweet_client_name</th>\n",
       "      <th>is_retweet</th>\n",
       "      <th>retweet_userid</th>\n",
       "      <th>retweet_tweetid</th>\n",
       "    </tr>\n",
       "    <tr>\n",
       "      <th>tweetid</th>\n",
       "      <th></th>\n",
       "      <th></th>\n",
       "      <th></th>\n",
       "      <th></th>\n",
       "      <th></th>\n",
       "      <th></th>\n",
       "      <th></th>\n",
       "      <th></th>\n",
       "      <th></th>\n",
       "      <th></th>\n",
       "      <th></th>\n",
       "    </tr>\n",
       "  </thead>\n",
       "  <tbody>\n",
       "    <tr>\n",
       "      <th>1112427432743788546</th>\n",
       "      <td>NInrrL2fY2whh740LuCYLkW+1YQoDijuRzl2I3AGoZQ=</td>\n",
       "      <td>NInrrL2fY2whh740LuCYLkW+1YQoDijuRzl2I3AGoZQ=</td>\n",
       "      <td>4601</td>\n",
       "      <td>3861</td>\n",
       "      <td>und</td>\n",
       "      <td>٠</td>\n",
       "      <td>2019-03-31 18:52</td>\n",
       "      <td>Twitter for Android</td>\n",
       "      <td>false</td>\n",
       "      <td>NaN</td>\n",
       "      <td>NaN</td>\n",
       "    </tr>\n",
       "    <tr>\n",
       "      <th>لان اليوم خميس واجازه وكذا انشرولي ابي اوصل ١٠٠٠ واكون لكم من الشاكرين 😊\"</th>\n",
       "      <td>2018-08-16 18:33</td>\n",
       "      <td>NaN</td>\n",
       "      <td>NaN</td>\n",
       "      <td>1030109875140026369</td>\n",
       "      <td>0</td>\n",
       "      <td>0</td>\n",
       "      <td>0</td>\n",
       "      <td>0</td>\n",
       "      <td>NaN</td>\n",
       "      <td>None</td>\n",
       "      <td>None</td>\n",
       "    </tr>\n",
       "    <tr>\n",
       "      <th>🐟شر…\"</th>\n",
       "      <td>2019-08-03 20:21</td>\n",
       "      <td>NaN</td>\n",
       "      <td>NaN</td>\n",
       "      <td>1157488424955387905</td>\n",
       "      <td>0</td>\n",
       "      <td>0</td>\n",
       "      <td>0</td>\n",
       "      <td>0</td>\n",
       "      <td>NaN</td>\n",
       "      <td>None</td>\n",
       "      <td>None</td>\n",
       "    </tr>\n",
       "    <tr>\n",
       "      <th>#اليوم_العالمي_…\"</th>\n",
       "      <td>2017-09-30 13:41</td>\n",
       "      <td>NaN</td>\n",
       "      <td>NaN</td>\n",
       "      <td>913719629171658754</td>\n",
       "      <td>0</td>\n",
       "      <td>0</td>\n",
       "      <td>0</td>\n",
       "      <td>0</td>\n",
       "      <td>NaN</td>\n",
       "      <td>None</td>\n",
       "      <td>None</td>\n",
       "    </tr>\n",
       "    <tr>\n",
       "      <th>تنظيم حفل زواج لاحد الموقوفين بحضور اهالي العروسين في سجن ذهبان في جده مع التكفل التام من قبل #أمن_…\"</th>\n",
       "      <td>2019-10-04 15:59</td>\n",
       "      <td>NaN</td>\n",
       "      <td>NaN</td>\n",
       "      <td>1180117429835501568</td>\n",
       "      <td>0</td>\n",
       "      <td>0</td>\n",
       "      <td>0</td>\n",
       "      <td>0</td>\n",
       "      <td>NaN</td>\n",
       "      <td>None</td>\n",
       "      <td>None</td>\n",
       "    </tr>\n",
       "  </tbody>\n",
       "</table>\n",
       "</div>"
      ],
      "text/plain": [
       "                                                                                          userid  \\\n",
       "tweetid                                                                                            \n",
       "1112427432743788546                                 NInrrL2fY2whh740LuCYLkW+1YQoDijuRzl2I3AGoZQ=   \n",
       "   لان اليوم خميس واجازه وكذا انشرولي ابي اوصل ...                              2018-08-16 18:33   \n",
       "🐟شر…\"                                                                           2019-08-03 20:21   \n",
       "#اليوم_العالمي_…\"                                                               2017-09-30 13:41   \n",
       "تنظيم حفل زواج لاحد الموقوفين بحضور اهالي العرو...                              2019-10-04 15:59   \n",
       "\n",
       "                                                                                user_screen_name  \\\n",
       "tweetid                                                                                            \n",
       "1112427432743788546                                 NInrrL2fY2whh740LuCYLkW+1YQoDijuRzl2I3AGoZQ=   \n",
       "   لان اليوم خميس واجازه وكذا انشرولي ابي اوصل ...                                           NaN   \n",
       "🐟شر…\"                                                                                        NaN   \n",
       "#اليوم_العالمي_…\"                                                                            NaN   \n",
       "تنظيم حفل زواج لاحد الموقوفين بحضور اهالي العرو...                                           NaN   \n",
       "\n",
       "                                                   follower_count  \\\n",
       "tweetid                                                             \n",
       "1112427432743788546                                          4601   \n",
       "   لان اليوم خميس واجازه وكذا انشرولي ابي اوصل ...            NaN   \n",
       "🐟شر…\"                                                         NaN   \n",
       "#اليوم_العالمي_…\"                                             NaN   \n",
       "تنظيم حفل زواج لاحد الموقوفين بحضور اهالي العرو...            NaN   \n",
       "\n",
       "                                                        following_count  \\\n",
       "tweetid                                                                   \n",
       "1112427432743788546                                                3861   \n",
       "   لان اليوم خميس واجازه وكذا انشرولي ابي اوصل ...  1030109875140026369   \n",
       "🐟شر…\"                                               1157488424955387905   \n",
       "#اليوم_العالمي_…\"                                    913719629171658754   \n",
       "تنظيم حفل زواج لاحد الموقوفين بحضور اهالي العرو...  1180117429835501568   \n",
       "\n",
       "                                                   tweet_language tweet_text  \\\n",
       "tweetid                                                                        \n",
       "1112427432743788546                                           und          ٠   \n",
       "   لان اليوم خميس واجازه وكذا انشرولي ابي اوصل ...              0          0   \n",
       "🐟شر…\"                                                           0          0   \n",
       "#اليوم_العالمي_…\"                                               0          0   \n",
       "تنظيم حفل زواج لاحد الموقوفين بحضور اهالي العرو...              0          0   \n",
       "\n",
       "                                                          tweet_time  \\\n",
       "tweetid                                                                \n",
       "1112427432743788546                                 2019-03-31 18:52   \n",
       "   لان اليوم خميس واجازه وكذا انشرولي ابي اوصل ...                 0   \n",
       "🐟شر…\"                                                              0   \n",
       "#اليوم_العالمي_…\"                                                  0   \n",
       "تنظيم حفل زواج لاحد الموقوفين بحضور اهالي العرو...                 0   \n",
       "\n",
       "                                                      tweet_client_name  \\\n",
       "tweetid                                                                   \n",
       "1112427432743788546                                 Twitter for Android   \n",
       "   لان اليوم خميس واجازه وكذا انشرولي ابي اوصل ...                    0   \n",
       "🐟شر…\"                                                                 0   \n",
       "#اليوم_العالمي_…\"                                                     0   \n",
       "تنظيم حفل زواج لاحد الموقوفين بحضور اهالي العرو...                    0   \n",
       "\n",
       "                                                   is_retweet retweet_userid  \\\n",
       "tweetid                                                                        \n",
       "1112427432743788546                                     false            NaN   \n",
       "   لان اليوم خميس واجازه وكذا انشرولي ابي اوصل ...        NaN           None   \n",
       "🐟شر…\"                                                     NaN           None   \n",
       "#اليوم_العالمي_…\"                                         NaN           None   \n",
       "تنظيم حفل زواج لاحد الموقوفين بحضور اهالي العرو...        NaN           None   \n",
       "\n",
       "                                                   retweet_tweetid  \n",
       "tweetid                                                             \n",
       "1112427432743788546                                            NaN  \n",
       "   لان اليوم خميس واجازه وكذا انشرولي ابي اوصل ...            None  \n",
       "🐟شر…\"                                                         None  \n",
       "#اليوم_العالمي_…\"                                             None  \n",
       "تنظيم حفل زواج لاحد الموقوفين بحضور اهالي العرو...            None  "
      ]
     },
     "execution_count": 16,
     "metadata": {},
     "output_type": "execute_result"
    }
   ],
   "source": [
    "df_numeric.sample(5)"
   ]
  },
  {
   "cell_type": "markdown",
   "metadata": {},
   "source": [
    "There are 373 rows that contain only digits in the tweet_text column - although this includes some tweets that are not shifted, but are just tweets of numbers. But we can remove all of those, they're not going to be very informative anyway."
   ]
  },
  {
   "cell_type": "markdown",
   "metadata": {},
   "source": [
    "Dask does not support dropping rows. Instead, let's select the inverse of the rows_to_drop."
   ]
  },
  {
   "cell_type": "code",
   "execution_count": 17,
   "metadata": {},
   "outputs": [],
   "source": [
    "# get all rows that are NOT all numeric\n",
    "ddf = ddf[~ddf.tweet_text.str.isnumeric()]"
   ]
  },
  {
   "cell_type": "code",
   "execution_count": 18,
   "metadata": {},
   "outputs": [
    {
     "data": {
      "text/plain": [
       "36523598"
      ]
     },
     "execution_count": 18,
     "metadata": {},
     "output_type": "execute_result"
    }
   ],
   "source": [
    "ddf.shape[0].compute()"
   ]
  },
  {
   "cell_type": "code",
   "execution_count": 19,
   "metadata": {},
   "outputs": [
    {
     "data": {
      "text/plain": [
       "789"
      ]
     },
     "execution_count": 19,
     "metadata": {},
     "output_type": "execute_result"
    }
   ],
   "source": [
    "n_rows_all - 36523598"
   ]
  },
  {
   "cell_type": "markdown",
   "metadata": {},
   "source": [
    "After removing tweets with all numeric entries in tweet_text we have removed 789 tweets in total (i.e. including the NaNs removed above). \n",
    "\n",
    "Let's make sure we have removed all the instances where userid contains the date (i.e. shifted columns)."
   ]
  },
  {
   "cell_type": "code",
   "execution_count": 20,
   "metadata": {},
   "outputs": [],
   "source": [
    "# define function to pass to map_partitions\n",
    "def get_faulty_ids(df):\n",
    "    df_all = pd.DataFrame()\n",
    "    df_faulty = df[df.userid.str.startswith('201')]\n",
    "    df_all = df_all.append(df_faulty)\n",
    "    return df_all"
   ]
  },
  {
   "cell_type": "code",
   "execution_count": 21,
   "metadata": {
    "scrolled": false
   },
   "outputs": [
    {
     "name": "stdout",
     "output_type": "stream",
     "text": [
      "CPU times: user 737 ms, sys: 71.3 ms, total: 808 ms\n",
      "Wall time: 14.3 s\n"
     ]
    },
    {
     "data": {
      "text/html": [
       "<div>\n",
       "<style scoped>\n",
       "    .dataframe tbody tr th:only-of-type {\n",
       "        vertical-align: middle;\n",
       "    }\n",
       "\n",
       "    .dataframe tbody tr th {\n",
       "        vertical-align: top;\n",
       "    }\n",
       "\n",
       "    .dataframe thead th {\n",
       "        text-align: right;\n",
       "    }\n",
       "</style>\n",
       "<table border=\"1\" class=\"dataframe\">\n",
       "  <thead>\n",
       "    <tr style=\"text-align: right;\">\n",
       "      <th></th>\n",
       "      <th>userid</th>\n",
       "      <th>user_screen_name</th>\n",
       "      <th>follower_count</th>\n",
       "      <th>following_count</th>\n",
       "      <th>tweet_language</th>\n",
       "      <th>tweet_text</th>\n",
       "      <th>tweet_time</th>\n",
       "      <th>tweet_client_name</th>\n",
       "      <th>is_retweet</th>\n",
       "      <th>retweet_userid</th>\n",
       "      <th>retweet_tweetid</th>\n",
       "    </tr>\n",
       "    <tr>\n",
       "      <th>tweetid</th>\n",
       "      <th></th>\n",
       "      <th></th>\n",
       "      <th></th>\n",
       "      <th></th>\n",
       "      <th></th>\n",
       "      <th></th>\n",
       "      <th></th>\n",
       "      <th></th>\n",
       "      <th></th>\n",
       "      <th></th>\n",
       "      <th></th>\n",
       "    </tr>\n",
       "  </thead>\n",
       "  <tbody>\n",
       "  </tbody>\n",
       "</table>\n",
       "</div>"
      ],
      "text/plain": [
       "Empty DataFrame\n",
       "Columns: [userid, user_screen_name, follower_count, following_count, tweet_language, tweet_text, tweet_time, tweet_client_name, is_retweet, retweet_userid, retweet_tweetid]\n",
       "Index: []"
      ]
     },
     "execution_count": 21,
     "metadata": {},
     "output_type": "execute_result"
    }
   ],
   "source": [
    "%%time\n",
    "# pass faulty_ids function to each partition\n",
    "df_faultyrows = ddf.map_partitions(get_faulty_ids).compute()\n",
    "df_faultyrows"
   ]
  },
  {
   "cell_type": "markdown",
   "metadata": {},
   "source": [
    "Yes, we have removed al entries for which the userid was a date.\n",
    "\n",
    "Let's see if we can now convert our columns to the right datatypes. That should gives us confidence that all our rows contain the right entries and we have no more faulty imports / shifted rows."
   ]
  },
  {
   "cell_type": "code",
   "execution_count": 22,
   "metadata": {},
   "outputs": [
    {
     "data": {
      "text/plain": [
       "Index(['userid', 'user_screen_name', 'follower_count', 'following_count',\n",
       "       'tweet_language', 'tweet_text', 'tweet_time', 'tweet_client_name',\n",
       "       'is_retweet', 'retweet_userid', 'retweet_tweetid'],\n",
       "      dtype='object')"
      ]
     },
     "execution_count": 22,
     "metadata": {},
     "output_type": "execute_result"
    }
   ],
   "source": [
    "ddf.columns"
   ]
  },
  {
   "cell_type": "markdown",
   "metadata": {},
   "source": [
    "## 4.3 Inspecting is_retweet Column\n",
    "\n",
    "Let's inspect the is_retweet column. This column should contain only Boolean values: True or False."
   ]
  },
  {
   "cell_type": "code",
   "execution_count": 23,
   "metadata": {},
   "outputs": [],
   "source": [
    "is_retweet = ddf.is_retweet"
   ]
  },
  {
   "cell_type": "code",
   "execution_count": 24,
   "metadata": {},
   "outputs": [
    {
     "data": {
      "text/plain": [
       "true     33107687\n",
       "false     3415910\n",
       "[]              1\n",
       "Name: is_retweet, dtype: int64"
      ]
     },
     "execution_count": 24,
     "metadata": {},
     "output_type": "execute_result"
    }
   ],
   "source": [
    "is_retweet.value_counts().compute()"
   ]
  },
  {
   "cell_type": "markdown",
   "metadata": {},
   "source": [
    "There's one NaN or empty value. Let's check that out."
   ]
  },
  {
   "cell_type": "code",
   "execution_count": 25,
   "metadata": {},
   "outputs": [
    {
     "data": {
      "text/html": [
       "<div>\n",
       "<style scoped>\n",
       "    .dataframe tbody tr th:only-of-type {\n",
       "        vertical-align: middle;\n",
       "    }\n",
       "\n",
       "    .dataframe tbody tr th {\n",
       "        vertical-align: top;\n",
       "    }\n",
       "\n",
       "    .dataframe thead th {\n",
       "        text-align: right;\n",
       "    }\n",
       "</style>\n",
       "<table border=\"1\" class=\"dataframe\">\n",
       "  <thead>\n",
       "    <tr style=\"text-align: right;\">\n",
       "      <th></th>\n",
       "      <th>userid</th>\n",
       "      <th>user_screen_name</th>\n",
       "      <th>follower_count</th>\n",
       "      <th>following_count</th>\n",
       "      <th>tweet_language</th>\n",
       "      <th>tweet_text</th>\n",
       "      <th>tweet_time</th>\n",
       "      <th>tweet_client_name</th>\n",
       "      <th>is_retweet</th>\n",
       "      <th>retweet_userid</th>\n",
       "      <th>retweet_tweetid</th>\n",
       "    </tr>\n",
       "    <tr>\n",
       "      <th>tweetid</th>\n",
       "      <th></th>\n",
       "      <th></th>\n",
       "      <th></th>\n",
       "      <th></th>\n",
       "      <th></th>\n",
       "      <th></th>\n",
       "      <th></th>\n",
       "      <th></th>\n",
       "      <th></th>\n",
       "      <th></th>\n",
       "      <th></th>\n",
       "    </tr>\n",
       "  </thead>\n",
       "  <tbody>\n",
       "    <tr>\n",
       "      <th>اسبيلت</th>\n",
       "      <td>اسبيلت</td>\n",
       "      <td>2019-07-11 09:23</td>\n",
       "      <td>NaN</td>\n",
       "      <td>true</td>\n",
       "      <td>absent</td>\n",
       "      <td>absent</td>\n",
       "      <td>0</td>\n",
       "      <td>0</td>\n",
       "      <td>[]</td>\n",
       "      <td>['3069869876']</td>\n",
       "      <td>NaN</td>\n",
       "    </tr>\n",
       "  </tbody>\n",
       "</table>\n",
       "</div>"
      ],
      "text/plain": [
       "         userid  user_screen_name follower_count following_count  \\\n",
       "tweetid                                                            \n",
       " اسبيلت  اسبيلت  2019-07-11 09:23            NaN            true   \n",
       "\n",
       "        tweet_language tweet_text tweet_time tweet_client_name is_retweet  \\\n",
       "tweetid                                                                     \n",
       " اسبيلت         absent     absent          0                 0         []   \n",
       "\n",
       "         retweet_userid retweet_tweetid  \n",
       "tweetid                                  \n",
       " اسبيلت  ['3069869876']             NaN  "
      ]
     },
     "execution_count": 25,
     "metadata": {},
     "output_type": "execute_result"
    }
   ],
   "source": [
    "ddf[ddf.is_retweet == \"[]\"].compute()"
   ]
  },
  {
   "cell_type": "markdown",
   "metadata": {},
   "source": [
    "This is a shifted row too, let's drop it."
   ]
  },
  {
   "cell_type": "code",
   "execution_count": 25,
   "metadata": {},
   "outputs": [],
   "source": [
    "ddf = ddf[ddf.is_retweet != \"[]\"]"
   ]
  },
  {
   "cell_type": "code",
   "execution_count": 26,
   "metadata": {},
   "outputs": [
    {
     "data": {
      "text/plain": [
       "36523597"
      ]
     },
     "execution_count": 26,
     "metadata": {},
     "output_type": "execute_result"
    }
   ],
   "source": [
    "ddf.shape[0].compute()"
   ]
  },
  {
   "cell_type": "code",
   "execution_count": 27,
   "metadata": {},
   "outputs": [
    {
     "data": {
      "text/plain": [
       "790"
      ]
     },
     "execution_count": 27,
     "metadata": {},
     "output_type": "execute_result"
    }
   ],
   "source": [
    "n_rows_all - 36523597"
   ]
  },
  {
   "cell_type": "markdown",
   "metadata": {},
   "source": [
    "We've now dropped one more row, totalling 790 rows dropped.\n",
    "\n",
    "Let's now convert this column to boolean. To do that, we map the strings 'true' and 'false' to their corresponding Boolean values."
   ]
  },
  {
   "cell_type": "code",
   "execution_count": 28,
   "metadata": {},
   "outputs": [],
   "source": [
    "# create dictionary to map strings to booleans\n",
    "mapping = {'true': True, 'false': False}"
   ]
  },
  {
   "cell_type": "code",
   "execution_count": 29,
   "metadata": {},
   "outputs": [],
   "source": [
    "# map strings to booleans\n",
    "ddf.is_retweet = ddf.is_retweet.map(mapping)"
   ]
  },
  {
   "cell_type": "code",
   "execution_count": 30,
   "metadata": {},
   "outputs": [
    {
     "data": {
      "text/plain": [
       "True     33107687\n",
       "False     3415910\n",
       "Name: is_retweet, dtype: int64"
      ]
     },
     "execution_count": 30,
     "metadata": {},
     "output_type": "execute_result"
    }
   ],
   "source": [
    "# inspect counts\n",
    "ddf.is_retweet.value_counts().compute()"
   ]
  },
  {
   "cell_type": "code",
   "execution_count": 31,
   "metadata": {},
   "outputs": [],
   "source": [
    "# cast column to boolean data type\n",
    "ddf.is_retweet = ddf.is_retweet.astype(bool)"
   ]
  },
  {
   "cell_type": "code",
   "execution_count": 32,
   "metadata": {},
   "outputs": [
    {
     "data": {
      "text/plain": [
       "True     33107687\n",
       "False     3415910\n",
       "Name: is_retweet, dtype: int64"
      ]
     },
     "execution_count": 32,
     "metadata": {},
     "output_type": "execute_result"
    }
   ],
   "source": [
    "# verify\n",
    "ddf.is_retweet.value_counts().compute()"
   ]
  },
  {
   "cell_type": "code",
   "execution_count": 33,
   "metadata": {},
   "outputs": [
    {
     "data": {
      "text/plain": [
       "userid               object\n",
       "user_screen_name     object\n",
       "follower_count       object\n",
       "following_count      object\n",
       "tweet_language       object\n",
       "tweet_text           object\n",
       "tweet_time           object\n",
       "tweet_client_name    object\n",
       "is_retweet             bool\n",
       "retweet_userid       object\n",
       "retweet_tweetid      object\n",
       "dtype: object"
      ]
     },
     "execution_count": 33,
     "metadata": {},
     "output_type": "execute_result"
    }
   ],
   "source": [
    "ddf.dtypes"
   ]
  },
  {
   "cell_type": "markdown",
   "metadata": {},
   "source": [
    "Excellent, that has worked as expected."
   ]
  },
  {
   "cell_type": "markdown",
   "metadata": {},
   "source": [
    "## 4.4. Inspecting Following and Follower Columns\n",
    "Let's have a look at the following_count and follower_count columns.\n",
    "\n",
    "We'll look at:\n",
    "- number of non-numeric entries\n",
    "- number of NaNs\n",
    "- any strange one-time occurrences that don't belong"
   ]
  },
  {
   "cell_type": "code",
   "execution_count": 34,
   "metadata": {},
   "outputs": [],
   "source": [
    "# get rows with following_count is non-numeric\n",
    "faulty_following = ddf[~ddf.following_count.str.isnumeric()].compute()"
   ]
  },
  {
   "cell_type": "code",
   "execution_count": 35,
   "metadata": {},
   "outputs": [
    {
     "data": {
      "text/html": [
       "<div>\n",
       "<style scoped>\n",
       "    .dataframe tbody tr th:only-of-type {\n",
       "        vertical-align: middle;\n",
       "    }\n",
       "\n",
       "    .dataframe tbody tr th {\n",
       "        vertical-align: top;\n",
       "    }\n",
       "\n",
       "    .dataframe thead th {\n",
       "        text-align: right;\n",
       "    }\n",
       "</style>\n",
       "<table border=\"1\" class=\"dataframe\">\n",
       "  <thead>\n",
       "    <tr style=\"text-align: right;\">\n",
       "      <th></th>\n",
       "      <th>userid</th>\n",
       "      <th>user_screen_name</th>\n",
       "      <th>follower_count</th>\n",
       "      <th>following_count</th>\n",
       "      <th>tweet_language</th>\n",
       "      <th>tweet_text</th>\n",
       "      <th>tweet_time</th>\n",
       "      <th>tweet_client_name</th>\n",
       "      <th>is_retweet</th>\n",
       "      <th>retweet_userid</th>\n",
       "      <th>retweet_tweetid</th>\n",
       "    </tr>\n",
       "    <tr>\n",
       "      <th>tweetid</th>\n",
       "      <th></th>\n",
       "      <th></th>\n",
       "      <th></th>\n",
       "      <th></th>\n",
       "      <th></th>\n",
       "      <th></th>\n",
       "      <th></th>\n",
       "      <th></th>\n",
       "      <th></th>\n",
       "      <th></th>\n",
       "      <th></th>\n",
       "    </tr>\n",
       "  </thead>\n",
       "  <tbody>\n",
       "  </tbody>\n",
       "</table>\n",
       "</div>"
      ],
      "text/plain": [
       "Empty DataFrame\n",
       "Columns: [userid, user_screen_name, follower_count, following_count, tweet_language, tweet_text, tweet_time, tweet_client_name, is_retweet, retweet_userid, retweet_tweetid]\n",
       "Index: []"
      ]
     },
     "execution_count": 35,
     "metadata": {},
     "output_type": "execute_result"
    }
   ],
   "source": [
    "faulty_following"
   ]
  },
  {
   "cell_type": "code",
   "execution_count": 36,
   "metadata": {},
   "outputs": [],
   "source": [
    "# get rows with NaNs\n",
    "following_NaN = ddf[ddf.following_count.isnull()].compute()"
   ]
  },
  {
   "cell_type": "code",
   "execution_count": 37,
   "metadata": {},
   "outputs": [
    {
     "data": {
      "text/html": [
       "<div>\n",
       "<style scoped>\n",
       "    .dataframe tbody tr th:only-of-type {\n",
       "        vertical-align: middle;\n",
       "    }\n",
       "\n",
       "    .dataframe tbody tr th {\n",
       "        vertical-align: top;\n",
       "    }\n",
       "\n",
       "    .dataframe thead th {\n",
       "        text-align: right;\n",
       "    }\n",
       "</style>\n",
       "<table border=\"1\" class=\"dataframe\">\n",
       "  <thead>\n",
       "    <tr style=\"text-align: right;\">\n",
       "      <th></th>\n",
       "      <th>userid</th>\n",
       "      <th>user_screen_name</th>\n",
       "      <th>follower_count</th>\n",
       "      <th>following_count</th>\n",
       "      <th>tweet_language</th>\n",
       "      <th>tweet_text</th>\n",
       "      <th>tweet_time</th>\n",
       "      <th>tweet_client_name</th>\n",
       "      <th>is_retweet</th>\n",
       "      <th>retweet_userid</th>\n",
       "      <th>retweet_tweetid</th>\n",
       "    </tr>\n",
       "    <tr>\n",
       "      <th>tweetid</th>\n",
       "      <th></th>\n",
       "      <th></th>\n",
       "      <th></th>\n",
       "      <th></th>\n",
       "      <th></th>\n",
       "      <th></th>\n",
       "      <th></th>\n",
       "      <th></th>\n",
       "      <th></th>\n",
       "      <th></th>\n",
       "      <th></th>\n",
       "    </tr>\n",
       "  </thead>\n",
       "  <tbody>\n",
       "  </tbody>\n",
       "</table>\n",
       "</div>"
      ],
      "text/plain": [
       "Empty DataFrame\n",
       "Columns: [userid, user_screen_name, follower_count, following_count, tweet_language, tweet_text, tweet_time, tweet_client_name, is_retweet, retweet_userid, retweet_tweetid]\n",
       "Index: []"
      ]
     },
     "execution_count": 37,
     "metadata": {},
     "output_type": "execute_result"
    }
   ],
   "source": [
    "following_NaN"
   ]
  },
  {
   "cell_type": "code",
   "execution_count": 38,
   "metadata": {},
   "outputs": [],
   "source": [
    "# get value counts\n",
    "following_value_counts = ddf.following_count.value_counts()"
   ]
  },
  {
   "cell_type": "code",
   "execution_count": 39,
   "metadata": {},
   "outputs": [
    {
     "data": {
      "text/plain": [
       "726     5\n",
       "480     5\n",
       "304     4\n",
       "183     2\n",
       "812     2\n",
       "239     2\n",
       "384     1\n",
       "1113    1\n",
       "173     1\n",
       "851     1\n",
       "Name: following_count, dtype: int64"
      ]
     },
     "execution_count": 39,
     "metadata": {},
     "output_type": "execute_result"
    }
   ],
   "source": [
    "# check tail to spot any strange one-time occurrences\n",
    "following_value_counts.tail(10)"
   ]
  },
  {
   "cell_type": "markdown",
   "metadata": {},
   "source": [
    "No issues here.\n",
    "\n",
    "Let's look at follower_count:"
   ]
  },
  {
   "cell_type": "code",
   "execution_count": 40,
   "metadata": {},
   "outputs": [],
   "source": [
    "# get rows with follower_count is non-numeric\n",
    "faulty_follower = ddf[~ddf.follower_count.str.isnumeric()].compute()"
   ]
  },
  {
   "cell_type": "code",
   "execution_count": 41,
   "metadata": {},
   "outputs": [
    {
     "data": {
      "text/html": [
       "<div>\n",
       "<style scoped>\n",
       "    .dataframe tbody tr th:only-of-type {\n",
       "        vertical-align: middle;\n",
       "    }\n",
       "\n",
       "    .dataframe tbody tr th {\n",
       "        vertical-align: top;\n",
       "    }\n",
       "\n",
       "    .dataframe thead th {\n",
       "        text-align: right;\n",
       "    }\n",
       "</style>\n",
       "<table border=\"1\" class=\"dataframe\">\n",
       "  <thead>\n",
       "    <tr style=\"text-align: right;\">\n",
       "      <th></th>\n",
       "      <th>userid</th>\n",
       "      <th>user_screen_name</th>\n",
       "      <th>follower_count</th>\n",
       "      <th>following_count</th>\n",
       "      <th>tweet_language</th>\n",
       "      <th>tweet_text</th>\n",
       "      <th>tweet_time</th>\n",
       "      <th>tweet_client_name</th>\n",
       "      <th>is_retweet</th>\n",
       "      <th>retweet_userid</th>\n",
       "      <th>retweet_tweetid</th>\n",
       "    </tr>\n",
       "    <tr>\n",
       "      <th>tweetid</th>\n",
       "      <th></th>\n",
       "      <th></th>\n",
       "      <th></th>\n",
       "      <th></th>\n",
       "      <th></th>\n",
       "      <th></th>\n",
       "      <th></th>\n",
       "      <th></th>\n",
       "      <th></th>\n",
       "      <th></th>\n",
       "      <th></th>\n",
       "    </tr>\n",
       "  </thead>\n",
       "  <tbody>\n",
       "  </tbody>\n",
       "</table>\n",
       "</div>"
      ],
      "text/plain": [
       "Empty DataFrame\n",
       "Columns: [userid, user_screen_name, follower_count, following_count, tweet_language, tweet_text, tweet_time, tweet_client_name, is_retweet, retweet_userid, retweet_tweetid]\n",
       "Index: []"
      ]
     },
     "execution_count": 41,
     "metadata": {},
     "output_type": "execute_result"
    }
   ],
   "source": [
    "faulty_follower"
   ]
  },
  {
   "cell_type": "code",
   "execution_count": 42,
   "metadata": {},
   "outputs": [],
   "source": [
    "# get rows with NaNs\n",
    "follower_NaN = ddf[ddf.follower_count.isnull()].compute()"
   ]
  },
  {
   "cell_type": "code",
   "execution_count": 43,
   "metadata": {},
   "outputs": [
    {
     "data": {
      "text/html": [
       "<div>\n",
       "<style scoped>\n",
       "    .dataframe tbody tr th:only-of-type {\n",
       "        vertical-align: middle;\n",
       "    }\n",
       "\n",
       "    .dataframe tbody tr th {\n",
       "        vertical-align: top;\n",
       "    }\n",
       "\n",
       "    .dataframe thead th {\n",
       "        text-align: right;\n",
       "    }\n",
       "</style>\n",
       "<table border=\"1\" class=\"dataframe\">\n",
       "  <thead>\n",
       "    <tr style=\"text-align: right;\">\n",
       "      <th></th>\n",
       "      <th>userid</th>\n",
       "      <th>user_screen_name</th>\n",
       "      <th>follower_count</th>\n",
       "      <th>following_count</th>\n",
       "      <th>tweet_language</th>\n",
       "      <th>tweet_text</th>\n",
       "      <th>tweet_time</th>\n",
       "      <th>tweet_client_name</th>\n",
       "      <th>is_retweet</th>\n",
       "      <th>retweet_userid</th>\n",
       "      <th>retweet_tweetid</th>\n",
       "    </tr>\n",
       "    <tr>\n",
       "      <th>tweetid</th>\n",
       "      <th></th>\n",
       "      <th></th>\n",
       "      <th></th>\n",
       "      <th></th>\n",
       "      <th></th>\n",
       "      <th></th>\n",
       "      <th></th>\n",
       "      <th></th>\n",
       "      <th></th>\n",
       "      <th></th>\n",
       "      <th></th>\n",
       "    </tr>\n",
       "  </thead>\n",
       "  <tbody>\n",
       "  </tbody>\n",
       "</table>\n",
       "</div>"
      ],
      "text/plain": [
       "Empty DataFrame\n",
       "Columns: [userid, user_screen_name, follower_count, following_count, tweet_language, tweet_text, tweet_time, tweet_client_name, is_retweet, retweet_userid, retweet_tweetid]\n",
       "Index: []"
      ]
     },
     "execution_count": 43,
     "metadata": {},
     "output_type": "execute_result"
    }
   ],
   "source": [
    "follower_NaN"
   ]
  },
  {
   "cell_type": "code",
   "execution_count": 44,
   "metadata": {},
   "outputs": [],
   "source": [
    "# get value counts\n",
    "follower_value_counts = ddf.follower_count.value_counts()"
   ]
  },
  {
   "cell_type": "code",
   "execution_count": 45,
   "metadata": {},
   "outputs": [
    {
     "data": {
      "text/plain": [
       "7988     29\n",
       "1353     28\n",
       "1607     28\n",
       "3790     25\n",
       "2196     24\n",
       "1465     24\n",
       "1210     22\n",
       "23195    22\n",
       "821      14\n",
       "3731     10\n",
       "Name: follower_count, dtype: int64"
      ]
     },
     "execution_count": 45,
     "metadata": {},
     "output_type": "execute_result"
    }
   ],
   "source": [
    "# check tail to spot any strange one-time occurrences\n",
    "follower_value_counts.tail(10)"
   ]
  },
  {
   "cell_type": "markdown",
   "metadata": {},
   "source": [
    "No issues here either.\n",
    "\n",
    "This means we should be able to cast these columns to int64 data type."
   ]
  },
  {
   "cell_type": "code",
   "execution_count": 46,
   "metadata": {},
   "outputs": [],
   "source": [
    "# cast columns to integer dtypes\n",
    "ddf.following_count = ddf.following_count.astype('int64')\n",
    "ddf.follower_count = ddf.follower_count.astype('int64')"
   ]
  },
  {
   "cell_type": "code",
   "execution_count": 47,
   "metadata": {},
   "outputs": [
    {
     "data": {
      "text/plain": [
       "userid               object\n",
       "user_screen_name     object\n",
       "follower_count        int64\n",
       "following_count       int64\n",
       "tweet_language       object\n",
       "tweet_text           object\n",
       "tweet_time           object\n",
       "tweet_client_name    object\n",
       "is_retweet             bool\n",
       "retweet_userid       object\n",
       "retweet_tweetid      object\n",
       "dtype: object"
      ]
     },
     "execution_count": 47,
     "metadata": {},
     "output_type": "execute_result"
    }
   ],
   "source": [
    "ddf.dtypes"
   ]
  },
  {
   "cell_type": "markdown",
   "metadata": {},
   "source": [
    "Perfect. Both columns cast to int64."
   ]
  },
  {
   "cell_type": "markdown",
   "metadata": {},
   "source": [
    "## 4.5. Inspecting tweet_language Column\n",
    "Let's have a look at the tweet_language column next. This column should contain only strings indicating the language of the tweets in tweet_text column."
   ]
  },
  {
   "cell_type": "code",
   "execution_count": 48,
   "metadata": {},
   "outputs": [],
   "source": [
    "# get local copy of tweet_language column\n",
    "lang_value_counts = ddf.tweet_language.value_counts().compute()"
   ]
  },
  {
   "cell_type": "code",
   "execution_count": 49,
   "metadata": {},
   "outputs": [
    {
     "data": {
      "text/plain": [
       "Index(['ar', 'und', 'en', 'fa', 'tr', 'ko', 'eu', 'in', 'fi', 'tl', 'vi', 'fr',\n",
       "       'ur', 'es', 'pt', 'ja', 'ca', 'cs', 'ht', 'de', 'et', 'id', 'zh', 'it',\n",
       "       'ru', 'pl', 'nl', 'cy', 'ckb', 'sk', 'hi', 'sl', 'sv', 'uk', 'da', 'hu',\n",
       "       'sd', 'lt', 'no', 'is', 'ro', 'lv', 'th', 'bo', 'ta', 'kn', 'hr', 'ps',\n",
       "       'iw', 'bg', 'bn', 'bs', 'ug', 'el', 'am', 'hy', 'ml', 'ka', 'sr', 'ne',\n",
       "       'chr', 'pa', 'dv', 'iu', 'sn', 'mr', 'he'],\n",
       "      dtype='object')"
      ]
     },
     "execution_count": 49,
     "metadata": {},
     "output_type": "execute_result"
    }
   ],
   "source": [
    "# inspect values\n",
    "lang_value_counts.index"
   ]
  },
  {
   "cell_type": "markdown",
   "metadata": {},
   "source": [
    "That looks fine, too. No strange numbers or tweet texts in here that would point to faulty imports.\n",
    "\n",
    "This column is already of type 'object' so we can proceed without altering anything."
   ]
  },
  {
   "cell_type": "markdown",
   "metadata": {},
   "source": [
    "## 4.6. Inspecting tweet_client_name Column\n",
    "Let's take a look at the tweet_client_name column next."
   ]
  },
  {
   "cell_type": "code",
   "execution_count": 50,
   "metadata": {},
   "outputs": [],
   "source": [
    "# get a local copy of the column\n",
    "client_name_value_counts = ddf.tweet_client_name.value_counts().compute()"
   ]
  },
  {
   "cell_type": "code",
   "execution_count": 51,
   "metadata": {},
   "outputs": [
    {
     "data": {
      "text/plain": [
       "Twitter for iPhone     17746118\n",
       "Twitter for Android    11781531\n",
       "Twitter for iPad        3063280\n",
       "Twitter Web App         1468719\n",
       "Twitter Web Client       534684\n",
       "                         ...   \n",
       "erased14602063                1\n",
       "PicCollage                    1\n",
       "erased14118499                1\n",
       "Plays Now                     1\n",
       "   Fancy                      1\n",
       "Name: tweet_client_name, Length: 457, dtype: int64"
      ]
     },
     "execution_count": 51,
     "metadata": {},
     "output_type": "execute_result"
    }
   ],
   "source": [
    "# inspect value counts\n",
    "client_name_value_counts"
   ]
  },
  {
   "cell_type": "code",
   "execution_count": 52,
   "metadata": {},
   "outputs": [
    {
     "data": {
      "text/plain": [
       "مكتبة تغريدات                        9519\n",
       "WatchClient                             1\n",
       "Twuffer                                44\n",
       "Appy Pie App                            1\n",
       "Fãs - Só que ao Contrário old           5\n",
       "Crazy HeliumBooth HD Free on iOS        1\n",
       "TellyApp                                2\n",
       "tweetie                                15\n",
       "erased994719                         3287\n",
       "UberSocial for BlackBerry             324\n",
       "Publish Live                            5\n",
       "TLampApp                                1\n",
       "تطبيق كتابي                           610\n",
       "CallApp                                 3\n",
       "erased7925788                          18\n",
       "Shorty Awards                           8\n",
       "RULES OF SURVIVAL                       1\n",
       "Telly Android                           3\n",
       "Mobile Web (M2)                     25148\n",
       "Samsung Mobile                         88\n",
       "Name: tweet_client_name, dtype: int64"
      ]
     },
     "execution_count": 52,
     "metadata": {},
     "output_type": "execute_result"
    }
   ],
   "source": [
    "client_name_value_counts.sample(20)"
   ]
  },
  {
   "cell_type": "markdown",
   "metadata": {},
   "source": [
    "This looks in order. Client names in arabic are read from right to left which is why the value counts are in the left column.\n",
    "\n",
    "The column is already of type 'object', so no change necessary here."
   ]
  },
  {
   "cell_type": "markdown",
   "metadata": {},
   "source": [
    "## 4.7. Inspecting retweet_tweetid Column"
   ]
  },
  {
   "cell_type": "code",
   "execution_count": 53,
   "metadata": {},
   "outputs": [],
   "source": [
    "# get local copy of column\n",
    "retweetids = ddf.retweet_tweetid"
   ]
  },
  {
   "cell_type": "code",
   "execution_count": 54,
   "metadata": {},
   "outputs": [
    {
     "data": {
      "text/plain": [
       "tweetid\n",
       "1000000000447930368    998649277479088128\n",
       "1000000030391095297    999637296612855808\n",
       "1000000039362662400    999393857438699520\n",
       "1000000054911033344    998351563839148032\n",
       "1000000204865789954                   NaN\n",
       "Name: retweet_tweetid, dtype: object"
      ]
     },
     "execution_count": 54,
     "metadata": {},
     "output_type": "execute_result"
    }
   ],
   "source": [
    "retweetids.head()"
   ]
  },
  {
   "cell_type": "markdown",
   "metadata": {},
   "source": [
    "OK, so we have a null value here. Let's see how many in total."
   ]
  },
  {
   "cell_type": "code",
   "execution_count": 55,
   "metadata": {},
   "outputs": [
    {
     "data": {
      "text/plain": [
       "3415910"
      ]
     },
     "execution_count": 55,
     "metadata": {},
     "output_type": "execute_result"
    }
   ],
   "source": [
    "ddf.retweet_tweetid.isnull().sum().compute()"
   ]
  },
  {
   "cell_type": "markdown",
   "metadata": {},
   "source": [
    "That corresponds exactly to the number of non-retweets, so that's fine.\n",
    "\n",
    "This means we should cast this column to **float** not integer."
   ]
  },
  {
   "cell_type": "code",
   "execution_count": 56,
   "metadata": {},
   "outputs": [],
   "source": [
    "# cast column to float dtypes\n",
    "ddf.retweet_tweetid = ddf.retweet_tweetid.astype('float64')"
   ]
  },
  {
   "cell_type": "code",
   "execution_count": 57,
   "metadata": {},
   "outputs": [
    {
     "data": {
      "text/plain": [
       "userid                object\n",
       "user_screen_name      object\n",
       "follower_count         int64\n",
       "following_count        int64\n",
       "tweet_language        object\n",
       "tweet_text            object\n",
       "tweet_time            object\n",
       "tweet_client_name     object\n",
       "is_retweet              bool\n",
       "retweet_userid        object\n",
       "retweet_tweetid      float64\n",
       "dtype: object"
      ]
     },
     "execution_count": 57,
     "metadata": {},
     "output_type": "execute_result"
    }
   ],
   "source": [
    "ddf.dtypes"
   ]
  },
  {
   "cell_type": "markdown",
   "metadata": {},
   "source": [
    "## 4.8. Inspecting retweet_userid Column\n",
    "\n",
    "This column should contain hashed and unhashed userids, i.e. strings.\n",
    "\n",
    "Let's just check any NaNs."
   ]
  },
  {
   "cell_type": "code",
   "execution_count": 58,
   "metadata": {},
   "outputs": [
    {
     "data": {
      "text/plain": [
       "35839843"
      ]
     },
     "execution_count": 58,
     "metadata": {},
     "output_type": "execute_result"
    }
   ],
   "source": [
    "ddf.retweet_userid.isnull().sum().compute()"
   ]
  },
  {
   "cell_type": "markdown",
   "metadata": {},
   "source": [
    "Wow. 35.8 mln NaNs for the retweet_userid, that is worrisome considering the large number of retweets in the dataset.\n",
    "\n",
    "Let's have a closer look."
   ]
  },
  {
   "cell_type": "code",
   "execution_count": 59,
   "metadata": {},
   "outputs": [],
   "source": [
    "retweet_userids_notNaN = ddf[ddf.retweet_userid.notnull()]"
   ]
  },
  {
   "cell_type": "code",
   "execution_count": 60,
   "metadata": {},
   "outputs": [
    {
     "data": {
      "text/html": [
       "<div>\n",
       "<style scoped>\n",
       "    .dataframe tbody tr th:only-of-type {\n",
       "        vertical-align: middle;\n",
       "    }\n",
       "\n",
       "    .dataframe tbody tr th {\n",
       "        vertical-align: top;\n",
       "    }\n",
       "\n",
       "    .dataframe thead th {\n",
       "        text-align: right;\n",
       "    }\n",
       "</style>\n",
       "<table border=\"1\" class=\"dataframe\">\n",
       "  <thead>\n",
       "    <tr style=\"text-align: right;\">\n",
       "      <th></th>\n",
       "      <th>userid</th>\n",
       "      <th>user_screen_name</th>\n",
       "      <th>follower_count</th>\n",
       "      <th>following_count</th>\n",
       "      <th>tweet_language</th>\n",
       "      <th>tweet_text</th>\n",
       "      <th>tweet_time</th>\n",
       "      <th>tweet_client_name</th>\n",
       "      <th>is_retweet</th>\n",
       "      <th>retweet_userid</th>\n",
       "      <th>retweet_tweetid</th>\n",
       "    </tr>\n",
       "    <tr>\n",
       "      <th>tweetid</th>\n",
       "      <th></th>\n",
       "      <th></th>\n",
       "      <th></th>\n",
       "      <th></th>\n",
       "      <th></th>\n",
       "      <th></th>\n",
       "      <th></th>\n",
       "      <th></th>\n",
       "      <th></th>\n",
       "      <th></th>\n",
       "      <th></th>\n",
       "    </tr>\n",
       "  </thead>\n",
       "  <tbody>\n",
       "    <tr>\n",
       "      <th>1000061011880284161</th>\n",
       "      <td>np1eOxdxZnVz8KR9WRdXAaxOCMVgkHZlqKMZpQKTq08=</td>\n",
       "      <td>np1eOxdxZnVz8KR9WRdXAaxOCMVgkHZlqKMZpQKTq08=</td>\n",
       "      <td>4607</td>\n",
       "      <td>4843</td>\n",
       "      <td>ar</td>\n",
       "      <td>RT @jLrAA2gkQM83CtpEH6YyeV3eb+f56UcVcdvWBXKt0Q...</td>\n",
       "      <td>2018-05-25 17:08</td>\n",
       "      <td>Twitter for Android</td>\n",
       "      <td>True</td>\n",
       "      <td>974777604812263425</td>\n",
       "      <td>1.000053e+18</td>\n",
       "    </tr>\n",
       "    <tr>\n",
       "      <th>1000061016393252864</th>\n",
       "      <td>np1eOxdxZnVz8KR9WRdXAaxOCMVgkHZlqKMZpQKTq08=</td>\n",
       "      <td>np1eOxdxZnVz8KR9WRdXAaxOCMVgkHZlqKMZpQKTq08=</td>\n",
       "      <td>4607</td>\n",
       "      <td>4843</td>\n",
       "      <td>ar</td>\n",
       "      <td>RT @jLrAA2gkQM83CtpEH6YyeV3eb+f56UcVcdvWBXKt0Q...</td>\n",
       "      <td>2018-05-25 17:08</td>\n",
       "      <td>Twitter for Android</td>\n",
       "      <td>True</td>\n",
       "      <td>974777604812263425</td>\n",
       "      <td>1.000053e+18</td>\n",
       "    </tr>\n",
       "    <tr>\n",
       "      <th>1000061023066492934</th>\n",
       "      <td>np1eOxdxZnVz8KR9WRdXAaxOCMVgkHZlqKMZpQKTq08=</td>\n",
       "      <td>np1eOxdxZnVz8KR9WRdXAaxOCMVgkHZlqKMZpQKTq08=</td>\n",
       "      <td>4607</td>\n",
       "      <td>4843</td>\n",
       "      <td>ar</td>\n",
       "      <td>RT @jLrAA2gkQM83CtpEH6YyeV3eb+f56UcVcdvWBXKt0Q...</td>\n",
       "      <td>2018-05-25 17:08</td>\n",
       "      <td>Twitter for Android</td>\n",
       "      <td>True</td>\n",
       "      <td>974777604812263425</td>\n",
       "      <td>1.000052e+18</td>\n",
       "    </tr>\n",
       "    <tr>\n",
       "      <th>1000061031132131329</th>\n",
       "      <td>np1eOxdxZnVz8KR9WRdXAaxOCMVgkHZlqKMZpQKTq08=</td>\n",
       "      <td>np1eOxdxZnVz8KR9WRdXAaxOCMVgkHZlqKMZpQKTq08=</td>\n",
       "      <td>4607</td>\n",
       "      <td>4843</td>\n",
       "      <td>ar</td>\n",
       "      <td>RT @jLrAA2gkQM83CtpEH6YyeV3eb+f56UcVcdvWBXKt0Q...</td>\n",
       "      <td>2018-05-25 17:08</td>\n",
       "      <td>Twitter for Android</td>\n",
       "      <td>True</td>\n",
       "      <td>974777604812263425</td>\n",
       "      <td>1.000052e+18</td>\n",
       "    </tr>\n",
       "    <tr>\n",
       "      <th>1000061714824679424</th>\n",
       "      <td>XLCNthF4y5Q18iYqRrj7hStchSPp26kfx7ly0SPVt8=</td>\n",
       "      <td>XLCNthF4y5Q18iYqRrj7hStchSPp26kfx7ly0SPVt8=</td>\n",
       "      <td>2370</td>\n",
       "      <td>3492</td>\n",
       "      <td>ar</td>\n",
       "      <td>RT @2sTX4IADf8dmtSoDvHdalKZ9Wh2InPrVINyxL3ZJOU...</td>\n",
       "      <td>2018-05-25 17:11</td>\n",
       "      <td>Twitter for Android</td>\n",
       "      <td>True</td>\n",
       "      <td>2sTX4IADf8dmtSoDvHdalKZ9Wh2InPrVINyxL3ZJOUc=</td>\n",
       "      <td>1.000040e+18</td>\n",
       "    </tr>\n",
       "    <tr>\n",
       "      <th>1000061720243720192</th>\n",
       "      <td>XLCNthF4y5Q18iYqRrj7hStchSPp26kfx7ly0SPVt8=</td>\n",
       "      <td>XLCNthF4y5Q18iYqRrj7hStchSPp26kfx7ly0SPVt8=</td>\n",
       "      <td>2370</td>\n",
       "      <td>3492</td>\n",
       "      <td>ar</td>\n",
       "      <td>RT @2sTX4IADf8dmtSoDvHdalKZ9Wh2InPrVINyxL3ZJOU...</td>\n",
       "      <td>2018-05-25 17:11</td>\n",
       "      <td>Twitter for Android</td>\n",
       "      <td>True</td>\n",
       "      <td>2sTX4IADf8dmtSoDvHdalKZ9Wh2InPrVINyxL3ZJOUc=</td>\n",
       "      <td>1.000040e+18</td>\n",
       "    </tr>\n",
       "    <tr>\n",
       "      <th>1000061725092319235</th>\n",
       "      <td>XLCNthF4y5Q18iYqRrj7hStchSPp26kfx7ly0SPVt8=</td>\n",
       "      <td>XLCNthF4y5Q18iYqRrj7hStchSPp26kfx7ly0SPVt8=</td>\n",
       "      <td>2370</td>\n",
       "      <td>3492</td>\n",
       "      <td>ar</td>\n",
       "      <td>RT @2sTX4IADf8dmtSoDvHdalKZ9Wh2InPrVINyxL3ZJOU...</td>\n",
       "      <td>2018-05-25 17:11</td>\n",
       "      <td>Twitter for Android</td>\n",
       "      <td>True</td>\n",
       "      <td>2sTX4IADf8dmtSoDvHdalKZ9Wh2InPrVINyxL3ZJOUc=</td>\n",
       "      <td>1.000040e+18</td>\n",
       "    </tr>\n",
       "    <tr>\n",
       "      <th>1000061730414825472</th>\n",
       "      <td>XLCNthF4y5Q18iYqRrj7hStchSPp26kfx7ly0SPVt8=</td>\n",
       "      <td>XLCNthF4y5Q18iYqRrj7hStchSPp26kfx7ly0SPVt8=</td>\n",
       "      <td>2370</td>\n",
       "      <td>3492</td>\n",
       "      <td>ar</td>\n",
       "      <td>RT @2sTX4IADf8dmtSoDvHdalKZ9Wh2InPrVINyxL3ZJOU...</td>\n",
       "      <td>2018-05-25 17:11</td>\n",
       "      <td>Twitter for Android</td>\n",
       "      <td>True</td>\n",
       "      <td>2sTX4IADf8dmtSoDvHdalKZ9Wh2InPrVINyxL3ZJOUc=</td>\n",
       "      <td>1.000040e+18</td>\n",
       "    </tr>\n",
       "    <tr>\n",
       "      <th>1000061736110690304</th>\n",
       "      <td>XLCNthF4y5Q18iYqRrj7hStchSPp26kfx7ly0SPVt8=</td>\n",
       "      <td>XLCNthF4y5Q18iYqRrj7hStchSPp26kfx7ly0SPVt8=</td>\n",
       "      <td>2370</td>\n",
       "      <td>3492</td>\n",
       "      <td>ar</td>\n",
       "      <td>RT @2sTX4IADf8dmtSoDvHdalKZ9Wh2InPrVINyxL3ZJOU...</td>\n",
       "      <td>2018-05-25 17:11</td>\n",
       "      <td>Twitter for Android</td>\n",
       "      <td>True</td>\n",
       "      <td>2sTX4IADf8dmtSoDvHdalKZ9Wh2InPrVINyxL3ZJOUc=</td>\n",
       "      <td>1.000040e+18</td>\n",
       "    </tr>\n",
       "    <tr>\n",
       "      <th>1000071220707151873</th>\n",
       "      <td>CGglXh1nikyRGa29EEe1F2FAhhkOQ0Z6OlKB5vmS8=</td>\n",
       "      <td>CGglXh1nikyRGa29EEe1F2FAhhkOQ0Z6OlKB5vmS8=</td>\n",
       "      <td>4540</td>\n",
       "      <td>4732</td>\n",
       "      <td>ar</td>\n",
       "      <td>RT @2sTX4IADf8dmtSoDvHdalKZ9Wh2InPrVINyxL3ZJOU...</td>\n",
       "      <td>2018-05-25 17:48</td>\n",
       "      <td>Twitter for Android</td>\n",
       "      <td>True</td>\n",
       "      <td>2sTX4IADf8dmtSoDvHdalKZ9Wh2InPrVINyxL3ZJOUc=</td>\n",
       "      <td>1.000046e+18</td>\n",
       "    </tr>\n",
       "    <tr>\n",
       "      <th>1000071226860204032</th>\n",
       "      <td>CGglXh1nikyRGa29EEe1F2FAhhkOQ0Z6OlKB5vmS8=</td>\n",
       "      <td>CGglXh1nikyRGa29EEe1F2FAhhkOQ0Z6OlKB5vmS8=</td>\n",
       "      <td>4540</td>\n",
       "      <td>4732</td>\n",
       "      <td>ar</td>\n",
       "      <td>RT @2sTX4IADf8dmtSoDvHdalKZ9Wh2InPrVINyxL3ZJOU...</td>\n",
       "      <td>2018-05-25 17:48</td>\n",
       "      <td>Twitter for Android</td>\n",
       "      <td>True</td>\n",
       "      <td>2sTX4IADf8dmtSoDvHdalKZ9Wh2InPrVINyxL3ZJOUc=</td>\n",
       "      <td>1.000045e+18</td>\n",
       "    </tr>\n",
       "    <tr>\n",
       "      <th>1000071237031297024</th>\n",
       "      <td>CGglXh1nikyRGa29EEe1F2FAhhkOQ0Z6OlKB5vmS8=</td>\n",
       "      <td>CGglXh1nikyRGa29EEe1F2FAhhkOQ0Z6OlKB5vmS8=</td>\n",
       "      <td>4540</td>\n",
       "      <td>4732</td>\n",
       "      <td>ar</td>\n",
       "      <td>RT @2sTX4IADf8dmtSoDvHdalKZ9Wh2InPrVINyxL3ZJOU...</td>\n",
       "      <td>2018-05-25 17:48</td>\n",
       "      <td>Twitter for Android</td>\n",
       "      <td>True</td>\n",
       "      <td>2sTX4IADf8dmtSoDvHdalKZ9Wh2InPrVINyxL3ZJOUc=</td>\n",
       "      <td>1.000045e+18</td>\n",
       "    </tr>\n",
       "    <tr>\n",
       "      <th>1000071243771662336</th>\n",
       "      <td>CGglXh1nikyRGa29EEe1F2FAhhkOQ0Z6OlKB5vmS8=</td>\n",
       "      <td>CGglXh1nikyRGa29EEe1F2FAhhkOQ0Z6OlKB5vmS8=</td>\n",
       "      <td>4540</td>\n",
       "      <td>4732</td>\n",
       "      <td>ar</td>\n",
       "      <td>RT @2sTX4IADf8dmtSoDvHdalKZ9Wh2InPrVINyxL3ZJOU...</td>\n",
       "      <td>2018-05-25 17:48</td>\n",
       "      <td>Twitter for Android</td>\n",
       "      <td>True</td>\n",
       "      <td>2sTX4IADf8dmtSoDvHdalKZ9Wh2InPrVINyxL3ZJOUc=</td>\n",
       "      <td>1.000045e+18</td>\n",
       "    </tr>\n",
       "    <tr>\n",
       "      <th>1000071255410790404</th>\n",
       "      <td>CGglXh1nikyRGa29EEe1F2FAhhkOQ0Z6OlKB5vmS8=</td>\n",
       "      <td>CGglXh1nikyRGa29EEe1F2FAhhkOQ0Z6OlKB5vmS8=</td>\n",
       "      <td>4540</td>\n",
       "      <td>4732</td>\n",
       "      <td>ar</td>\n",
       "      <td>RT @2sTX4IADf8dmtSoDvHdalKZ9Wh2InPrVINyxL3ZJOU...</td>\n",
       "      <td>2018-05-25 17:49</td>\n",
       "      <td>Twitter for Android</td>\n",
       "      <td>True</td>\n",
       "      <td>2sTX4IADf8dmtSoDvHdalKZ9Wh2InPrVINyxL3ZJOUc=</td>\n",
       "      <td>1.000046e+18</td>\n",
       "    </tr>\n",
       "    <tr>\n",
       "      <th>1000108900270698496</th>\n",
       "      <td>DMQ8Xwu8l9hqTi40fCweBpNsHKRIv1iMevZEpk2o6Ps=</td>\n",
       "      <td>DMQ8Xwu8l9hqTi40fCweBpNsHKRIv1iMevZEpk2o6Ps=</td>\n",
       "      <td>2114</td>\n",
       "      <td>2037</td>\n",
       "      <td>ar</td>\n",
       "      <td>RT @DMQ8Xwu8l9hqTi40fCweBpNsHKRIv1iMevZEpk2o6P...</td>\n",
       "      <td>2018-05-25 20:18</td>\n",
       "      <td>Twitter for iPhone</td>\n",
       "      <td>True</td>\n",
       "      <td>DMQ8Xwu8l9hqTi40fCweBpNsHKRIv1iMevZEpk2o6Ps=</td>\n",
       "      <td>1.000108e+18</td>\n",
       "    </tr>\n",
       "  </tbody>\n",
       "</table>\n",
       "</div>"
      ],
      "text/plain": [
       "                                                           userid  \\\n",
       "tweetid                                                             \n",
       "1000061011880284161  np1eOxdxZnVz8KR9WRdXAaxOCMVgkHZlqKMZpQKTq08=   \n",
       "1000061016393252864  np1eOxdxZnVz8KR9WRdXAaxOCMVgkHZlqKMZpQKTq08=   \n",
       "1000061023066492934  np1eOxdxZnVz8KR9WRdXAaxOCMVgkHZlqKMZpQKTq08=   \n",
       "1000061031132131329  np1eOxdxZnVz8KR9WRdXAaxOCMVgkHZlqKMZpQKTq08=   \n",
       "1000061714824679424   XLCNthF4y5Q18iYqRrj7hStchSPp26kfx7ly0SPVt8=   \n",
       "1000061720243720192   XLCNthF4y5Q18iYqRrj7hStchSPp26kfx7ly0SPVt8=   \n",
       "1000061725092319235   XLCNthF4y5Q18iYqRrj7hStchSPp26kfx7ly0SPVt8=   \n",
       "1000061730414825472   XLCNthF4y5Q18iYqRrj7hStchSPp26kfx7ly0SPVt8=   \n",
       "1000061736110690304   XLCNthF4y5Q18iYqRrj7hStchSPp26kfx7ly0SPVt8=   \n",
       "1000071220707151873    CGglXh1nikyRGa29EEe1F2FAhhkOQ0Z6OlKB5vmS8=   \n",
       "1000071226860204032    CGglXh1nikyRGa29EEe1F2FAhhkOQ0Z6OlKB5vmS8=   \n",
       "1000071237031297024    CGglXh1nikyRGa29EEe1F2FAhhkOQ0Z6OlKB5vmS8=   \n",
       "1000071243771662336    CGglXh1nikyRGa29EEe1F2FAhhkOQ0Z6OlKB5vmS8=   \n",
       "1000071255410790404    CGglXh1nikyRGa29EEe1F2FAhhkOQ0Z6OlKB5vmS8=   \n",
       "1000108900270698496  DMQ8Xwu8l9hqTi40fCweBpNsHKRIv1iMevZEpk2o6Ps=   \n",
       "\n",
       "                                                 user_screen_name  \\\n",
       "tweetid                                                             \n",
       "1000061011880284161  np1eOxdxZnVz8KR9WRdXAaxOCMVgkHZlqKMZpQKTq08=   \n",
       "1000061016393252864  np1eOxdxZnVz8KR9WRdXAaxOCMVgkHZlqKMZpQKTq08=   \n",
       "1000061023066492934  np1eOxdxZnVz8KR9WRdXAaxOCMVgkHZlqKMZpQKTq08=   \n",
       "1000061031132131329  np1eOxdxZnVz8KR9WRdXAaxOCMVgkHZlqKMZpQKTq08=   \n",
       "1000061714824679424   XLCNthF4y5Q18iYqRrj7hStchSPp26kfx7ly0SPVt8=   \n",
       "1000061720243720192   XLCNthF4y5Q18iYqRrj7hStchSPp26kfx7ly0SPVt8=   \n",
       "1000061725092319235   XLCNthF4y5Q18iYqRrj7hStchSPp26kfx7ly0SPVt8=   \n",
       "1000061730414825472   XLCNthF4y5Q18iYqRrj7hStchSPp26kfx7ly0SPVt8=   \n",
       "1000061736110690304   XLCNthF4y5Q18iYqRrj7hStchSPp26kfx7ly0SPVt8=   \n",
       "1000071220707151873    CGglXh1nikyRGa29EEe1F2FAhhkOQ0Z6OlKB5vmS8=   \n",
       "1000071226860204032    CGglXh1nikyRGa29EEe1F2FAhhkOQ0Z6OlKB5vmS8=   \n",
       "1000071237031297024    CGglXh1nikyRGa29EEe1F2FAhhkOQ0Z6OlKB5vmS8=   \n",
       "1000071243771662336    CGglXh1nikyRGa29EEe1F2FAhhkOQ0Z6OlKB5vmS8=   \n",
       "1000071255410790404    CGglXh1nikyRGa29EEe1F2FAhhkOQ0Z6OlKB5vmS8=   \n",
       "1000108900270698496  DMQ8Xwu8l9hqTi40fCweBpNsHKRIv1iMevZEpk2o6Ps=   \n",
       "\n",
       "                     follower_count  following_count tweet_language  \\\n",
       "tweetid                                                               \n",
       "1000061011880284161            4607             4843             ar   \n",
       "1000061016393252864            4607             4843             ar   \n",
       "1000061023066492934            4607             4843             ar   \n",
       "1000061031132131329            4607             4843             ar   \n",
       "1000061714824679424            2370             3492             ar   \n",
       "1000061720243720192            2370             3492             ar   \n",
       "1000061725092319235            2370             3492             ar   \n",
       "1000061730414825472            2370             3492             ar   \n",
       "1000061736110690304            2370             3492             ar   \n",
       "1000071220707151873            4540             4732             ar   \n",
       "1000071226860204032            4540             4732             ar   \n",
       "1000071237031297024            4540             4732             ar   \n",
       "1000071243771662336            4540             4732             ar   \n",
       "1000071255410790404            4540             4732             ar   \n",
       "1000108900270698496            2114             2037             ar   \n",
       "\n",
       "                                                            tweet_text  \\\n",
       "tweetid                                                                  \n",
       "1000061011880284161  RT @jLrAA2gkQM83CtpEH6YyeV3eb+f56UcVcdvWBXKt0Q...   \n",
       "1000061016393252864  RT @jLrAA2gkQM83CtpEH6YyeV3eb+f56UcVcdvWBXKt0Q...   \n",
       "1000061023066492934  RT @jLrAA2gkQM83CtpEH6YyeV3eb+f56UcVcdvWBXKt0Q...   \n",
       "1000061031132131329  RT @jLrAA2gkQM83CtpEH6YyeV3eb+f56UcVcdvWBXKt0Q...   \n",
       "1000061714824679424  RT @2sTX4IADf8dmtSoDvHdalKZ9Wh2InPrVINyxL3ZJOU...   \n",
       "1000061720243720192  RT @2sTX4IADf8dmtSoDvHdalKZ9Wh2InPrVINyxL3ZJOU...   \n",
       "1000061725092319235  RT @2sTX4IADf8dmtSoDvHdalKZ9Wh2InPrVINyxL3ZJOU...   \n",
       "1000061730414825472  RT @2sTX4IADf8dmtSoDvHdalKZ9Wh2InPrVINyxL3ZJOU...   \n",
       "1000061736110690304  RT @2sTX4IADf8dmtSoDvHdalKZ9Wh2InPrVINyxL3ZJOU...   \n",
       "1000071220707151873  RT @2sTX4IADf8dmtSoDvHdalKZ9Wh2InPrVINyxL3ZJOU...   \n",
       "1000071226860204032  RT @2sTX4IADf8dmtSoDvHdalKZ9Wh2InPrVINyxL3ZJOU...   \n",
       "1000071237031297024  RT @2sTX4IADf8dmtSoDvHdalKZ9Wh2InPrVINyxL3ZJOU...   \n",
       "1000071243771662336  RT @2sTX4IADf8dmtSoDvHdalKZ9Wh2InPrVINyxL3ZJOU...   \n",
       "1000071255410790404  RT @2sTX4IADf8dmtSoDvHdalKZ9Wh2InPrVINyxL3ZJOU...   \n",
       "1000108900270698496  RT @DMQ8Xwu8l9hqTi40fCweBpNsHKRIv1iMevZEpk2o6P...   \n",
       "\n",
       "                           tweet_time    tweet_client_name  is_retweet  \\\n",
       "tweetid                                                                  \n",
       "1000061011880284161  2018-05-25 17:08  Twitter for Android        True   \n",
       "1000061016393252864  2018-05-25 17:08  Twitter for Android        True   \n",
       "1000061023066492934  2018-05-25 17:08  Twitter for Android        True   \n",
       "1000061031132131329  2018-05-25 17:08  Twitter for Android        True   \n",
       "1000061714824679424  2018-05-25 17:11  Twitter for Android        True   \n",
       "1000061720243720192  2018-05-25 17:11  Twitter for Android        True   \n",
       "1000061725092319235  2018-05-25 17:11  Twitter for Android        True   \n",
       "1000061730414825472  2018-05-25 17:11  Twitter for Android        True   \n",
       "1000061736110690304  2018-05-25 17:11  Twitter for Android        True   \n",
       "1000071220707151873  2018-05-25 17:48  Twitter for Android        True   \n",
       "1000071226860204032  2018-05-25 17:48  Twitter for Android        True   \n",
       "1000071237031297024  2018-05-25 17:48  Twitter for Android        True   \n",
       "1000071243771662336  2018-05-25 17:48  Twitter for Android        True   \n",
       "1000071255410790404  2018-05-25 17:49  Twitter for Android        True   \n",
       "1000108900270698496  2018-05-25 20:18   Twitter for iPhone        True   \n",
       "\n",
       "                                                   retweet_userid  \\\n",
       "tweetid                                                             \n",
       "1000061011880284161                            974777604812263425   \n",
       "1000061016393252864                            974777604812263425   \n",
       "1000061023066492934                            974777604812263425   \n",
       "1000061031132131329                            974777604812263425   \n",
       "1000061714824679424  2sTX4IADf8dmtSoDvHdalKZ9Wh2InPrVINyxL3ZJOUc=   \n",
       "1000061720243720192  2sTX4IADf8dmtSoDvHdalKZ9Wh2InPrVINyxL3ZJOUc=   \n",
       "1000061725092319235  2sTX4IADf8dmtSoDvHdalKZ9Wh2InPrVINyxL3ZJOUc=   \n",
       "1000061730414825472  2sTX4IADf8dmtSoDvHdalKZ9Wh2InPrVINyxL3ZJOUc=   \n",
       "1000061736110690304  2sTX4IADf8dmtSoDvHdalKZ9Wh2InPrVINyxL3ZJOUc=   \n",
       "1000071220707151873  2sTX4IADf8dmtSoDvHdalKZ9Wh2InPrVINyxL3ZJOUc=   \n",
       "1000071226860204032  2sTX4IADf8dmtSoDvHdalKZ9Wh2InPrVINyxL3ZJOUc=   \n",
       "1000071237031297024  2sTX4IADf8dmtSoDvHdalKZ9Wh2InPrVINyxL3ZJOUc=   \n",
       "1000071243771662336  2sTX4IADf8dmtSoDvHdalKZ9Wh2InPrVINyxL3ZJOUc=   \n",
       "1000071255410790404  2sTX4IADf8dmtSoDvHdalKZ9Wh2InPrVINyxL3ZJOUc=   \n",
       "1000108900270698496  DMQ8Xwu8l9hqTi40fCweBpNsHKRIv1iMevZEpk2o6Ps=   \n",
       "\n",
       "                     retweet_tweetid  \n",
       "tweetid                               \n",
       "1000061011880284161     1.000053e+18  \n",
       "1000061016393252864     1.000053e+18  \n",
       "1000061023066492934     1.000052e+18  \n",
       "1000061031132131329     1.000052e+18  \n",
       "1000061714824679424     1.000040e+18  \n",
       "1000061720243720192     1.000040e+18  \n",
       "1000061725092319235     1.000040e+18  \n",
       "1000061730414825472     1.000040e+18  \n",
       "1000061736110690304     1.000040e+18  \n",
       "1000071220707151873     1.000046e+18  \n",
       "1000071226860204032     1.000045e+18  \n",
       "1000071237031297024     1.000045e+18  \n",
       "1000071243771662336     1.000045e+18  \n",
       "1000071255410790404     1.000046e+18  \n",
       "1000108900270698496     1.000108e+18  "
      ]
     },
     "execution_count": 60,
     "metadata": {},
     "output_type": "execute_result"
    }
   ],
   "source": [
    "retweet_userids_notNaN.head(15)"
   ]
  },
  {
   "cell_type": "markdown",
   "metadata": {},
   "source": [
    "Yes, we are missing the retweet_userid for the majority of our tweets.\n",
    "\n",
    "However, it seems the tweet_text contains the retweet @username. Let's see if this is also the case for the entries with retweet_userid = NaN. That would be great."
   ]
  },
  {
   "cell_type": "code",
   "execution_count": 61,
   "metadata": {},
   "outputs": [],
   "source": [
    "retweet_userids_NaN = ddf[ddf.retweet_userid.isnull()]"
   ]
  },
  {
   "cell_type": "code",
   "execution_count": 62,
   "metadata": {},
   "outputs": [
    {
     "data": {
      "text/html": [
       "<div>\n",
       "<style scoped>\n",
       "    .dataframe tbody tr th:only-of-type {\n",
       "        vertical-align: middle;\n",
       "    }\n",
       "\n",
       "    .dataframe tbody tr th {\n",
       "        vertical-align: top;\n",
       "    }\n",
       "\n",
       "    .dataframe thead th {\n",
       "        text-align: right;\n",
       "    }\n",
       "</style>\n",
       "<table border=\"1\" class=\"dataframe\">\n",
       "  <thead>\n",
       "    <tr style=\"text-align: right;\">\n",
       "      <th></th>\n",
       "      <th>userid</th>\n",
       "      <th>user_screen_name</th>\n",
       "      <th>follower_count</th>\n",
       "      <th>following_count</th>\n",
       "      <th>tweet_language</th>\n",
       "      <th>tweet_text</th>\n",
       "      <th>tweet_time</th>\n",
       "      <th>tweet_client_name</th>\n",
       "      <th>is_retweet</th>\n",
       "      <th>retweet_userid</th>\n",
       "      <th>retweet_tweetid</th>\n",
       "    </tr>\n",
       "    <tr>\n",
       "      <th>tweetid</th>\n",
       "      <th></th>\n",
       "      <th></th>\n",
       "      <th></th>\n",
       "      <th></th>\n",
       "      <th></th>\n",
       "      <th></th>\n",
       "      <th></th>\n",
       "      <th></th>\n",
       "      <th></th>\n",
       "      <th></th>\n",
       "      <th></th>\n",
       "    </tr>\n",
       "  </thead>\n",
       "  <tbody>\n",
       "    <tr>\n",
       "      <th>1000000000447930368</th>\n",
       "      <td>948302862098092034</td>\n",
       "      <td>y_44a_</td>\n",
       "      <td>9007</td>\n",
       "      <td>8821</td>\n",
       "      <td>ar</td>\n",
       "      <td>RT @oneway_market: السلام عليكم ورحمة الله وبر...</td>\n",
       "      <td>2018-05-25 13:05</td>\n",
       "      <td>Twitter for iPhone</td>\n",
       "      <td>True</td>\n",
       "      <td>NaN</td>\n",
       "      <td>9.986493e+17</td>\n",
       "    </tr>\n",
       "    <tr>\n",
       "      <th>1000000030391095297</th>\n",
       "      <td>948302862098092034</td>\n",
       "      <td>y_44a_</td>\n",
       "      <td>9007</td>\n",
       "      <td>8821</td>\n",
       "      <td>ar</td>\n",
       "      <td>RT @games4marah: 🌻#للتأجير 🌻#لبيع_النطيطات 🌻\\n...</td>\n",
       "      <td>2018-05-25 13:06</td>\n",
       "      <td>Twitter for iPhone</td>\n",
       "      <td>True</td>\n",
       "      <td>NaN</td>\n",
       "      <td>9.996373e+17</td>\n",
       "    </tr>\n",
       "    <tr>\n",
       "      <th>1000000039362662400</th>\n",
       "      <td>948302862098092034</td>\n",
       "      <td>y_44a_</td>\n",
       "      <td>9007</td>\n",
       "      <td>8821</td>\n",
       "      <td>ar</td>\n",
       "      <td>RT @mzlatksa: #مظلات وسواتر #آفاق_الرياض\\n#مظل...</td>\n",
       "      <td>2018-05-25 13:06</td>\n",
       "      <td>Twitter for iPhone</td>\n",
       "      <td>True</td>\n",
       "      <td>NaN</td>\n",
       "      <td>9.993939e+17</td>\n",
       "    </tr>\n",
       "    <tr>\n",
       "      <th>1000000054911033344</th>\n",
       "      <td>iXwa1+qxYAH2hEJ9nDG11qo6nmcpl89IQKhDRDqpfU4=</td>\n",
       "      <td>iXwa1+qxYAH2hEJ9nDG11qo6nmcpl89IQKhDRDqpfU4=</td>\n",
       "      <td>168</td>\n",
       "      <td>408</td>\n",
       "      <td>ar</td>\n",
       "      <td>RT @videohat_1: فيديو\\nشاهد.. مواطن يوثق بالفي...</td>\n",
       "      <td>2018-05-25 13:06</td>\n",
       "      <td>Twitter for iPhone</td>\n",
       "      <td>True</td>\n",
       "      <td>NaN</td>\n",
       "      <td>9.983516e+17</td>\n",
       "    </tr>\n",
       "    <tr>\n",
       "      <th>1000000204865789954</th>\n",
       "      <td>Gj+bihYSO0L5Ht1+f9OEqP42KbnJWtNK4qv0WJr0cs=</td>\n",
       "      <td>Gj+bihYSO0L5Ht1+f9OEqP42KbnJWtNK4qv0WJr0cs=</td>\n",
       "      <td>1623</td>\n",
       "      <td>2022</td>\n",
       "      <td>ar</td>\n",
       "      <td>أستغفر الله العظيم وأتوب إليه https://t.co/Dn3...</td>\n",
       "      <td>2018-05-25 13:06</td>\n",
       "      <td>غرد بصدقة</td>\n",
       "      <td>False</td>\n",
       "      <td>NaN</td>\n",
       "      <td>NaN</td>\n",
       "    </tr>\n",
       "    <tr>\n",
       "      <th>1000000215598891008</th>\n",
       "      <td>948302862098092034</td>\n",
       "      <td>y_44a_</td>\n",
       "      <td>9007</td>\n",
       "      <td>8821</td>\n",
       "      <td>ar</td>\n",
       "      <td>RT @danat_almesk: #تخفيضات 50% على جميع الأصنا...</td>\n",
       "      <td>2018-05-25 13:06</td>\n",
       "      <td>Twitter for iPhone</td>\n",
       "      <td>True</td>\n",
       "      <td>NaN</td>\n",
       "      <td>9.997592e+17</td>\n",
       "    </tr>\n",
       "    <tr>\n",
       "      <th>1000000242165714944</th>\n",
       "      <td>948302862098092034</td>\n",
       "      <td>y_44a_</td>\n",
       "      <td>9007</td>\n",
       "      <td>8821</td>\n",
       "      <td>ar</td>\n",
       "      <td>RT @756870fda1544b6: ✅علاج السرطان في الهند عن...</td>\n",
       "      <td>2018-05-25 13:06</td>\n",
       "      <td>Twitter for iPhone</td>\n",
       "      <td>True</td>\n",
       "      <td>NaN</td>\n",
       "      <td>9.997301e+17</td>\n",
       "    </tr>\n",
       "    <tr>\n",
       "      <th>1000000262315094022</th>\n",
       "      <td>948302862098092034</td>\n",
       "      <td>y_44a_</td>\n",
       "      <td>9007</td>\n",
       "      <td>8821</td>\n",
       "      <td>ar</td>\n",
       "      <td>RT @m3asafarah: دورة #مع_السفرة السادسة عشر\\nا...</td>\n",
       "      <td>2018-05-25 13:06</td>\n",
       "      <td>Twitter for iPhone</td>\n",
       "      <td>True</td>\n",
       "      <td>NaN</td>\n",
       "      <td>9.997669e+17</td>\n",
       "    </tr>\n",
       "    <tr>\n",
       "      <th>1000000271492288512</th>\n",
       "      <td>948302862098092034</td>\n",
       "      <td>y_44a_</td>\n",
       "      <td>9007</td>\n",
       "      <td>8821</td>\n",
       "      <td>ar</td>\n",
       "      <td>RT @Ayed72044978: #تسديد_قروض\\n♋الراجحي\\n♋الاه...</td>\n",
       "      <td>2018-05-25 13:06</td>\n",
       "      <td>Twitter for iPhone</td>\n",
       "      <td>True</td>\n",
       "      <td>NaN</td>\n",
       "      <td>9.997610e+17</td>\n",
       "    </tr>\n",
       "    <tr>\n",
       "      <th>1000000325586169856</th>\n",
       "      <td>2SJuOzyE6GQOsmW9ukY3ChH8rl049x6mDNZi3EM=</td>\n",
       "      <td>2SJuOzyE6GQOsmW9ukY3ChH8rl049x6mDNZi3EM=</td>\n",
       "      <td>1850</td>\n",
       "      <td>1594</td>\n",
       "      <td>ar</td>\n",
       "      <td>لا إله إلا أنت سبحانك إني كنت من الظالمين \\n♻️...</td>\n",
       "      <td>2018-05-25 13:07</td>\n",
       "      <td>تطبيق زاد المسلم</td>\n",
       "      <td>False</td>\n",
       "      <td>NaN</td>\n",
       "      <td>NaN</td>\n",
       "    </tr>\n",
       "    <tr>\n",
       "      <th>1000000475503132673</th>\n",
       "      <td>ytmVN9opEFMM7Uk+0O0XgSuOpIRlok5Xqu+jel9qyM=</td>\n",
       "      <td>ytmVN9opEFMM7Uk+0O0XgSuOpIRlok5Xqu+jel9qyM=</td>\n",
       "      <td>3928</td>\n",
       "      <td>4273</td>\n",
       "      <td>ar</td>\n",
       "      <td>@hel89006141 تابعني فضلا وليس امرا</td>\n",
       "      <td>2018-05-25 13:07</td>\n",
       "      <td>Twitter for Android</td>\n",
       "      <td>False</td>\n",
       "      <td>NaN</td>\n",
       "      <td>NaN</td>\n",
       "    </tr>\n",
       "    <tr>\n",
       "      <th>1000000503982579713</th>\n",
       "      <td>948302862098092034</td>\n",
       "      <td>y_44a_</td>\n",
       "      <td>9007</td>\n",
       "      <td>8821</td>\n",
       "      <td>ar</td>\n",
       "      <td>RT @qahtani03: #عاجل نبأ دبلوماسي بان تل أبيب ...</td>\n",
       "      <td>2018-05-25 13:07</td>\n",
       "      <td>Twitter for iPhone</td>\n",
       "      <td>True</td>\n",
       "      <td>NaN</td>\n",
       "      <td>9.999468e+17</td>\n",
       "    </tr>\n",
       "    <tr>\n",
       "      <th>1000000514699022336</th>\n",
       "      <td>948302862098092034</td>\n",
       "      <td>y_44a_</td>\n",
       "      <td>9007</td>\n",
       "      <td>8821</td>\n",
       "      <td>ar</td>\n",
       "      <td>RT @tsded_k: تسديد_القروض\\n💯📘🔙الراجحي \\n📕🔙الأه...</td>\n",
       "      <td>2018-05-25 13:07</td>\n",
       "      <td>Twitter for iPhone</td>\n",
       "      <td>True</td>\n",
       "      <td>NaN</td>\n",
       "      <td>9.998106e+17</td>\n",
       "    </tr>\n",
       "    <tr>\n",
       "      <th>1000000527437062144</th>\n",
       "      <td>948302862098092034</td>\n",
       "      <td>y_44a_</td>\n",
       "      <td>9007</td>\n",
       "      <td>8821</td>\n",
       "      <td>ar</td>\n",
       "      <td>RT @baqatacount: رمضان مبارك عليكم 🌙معا لعمل ا...</td>\n",
       "      <td>2018-05-25 13:07</td>\n",
       "      <td>Twitter for iPhone</td>\n",
       "      <td>True</td>\n",
       "      <td>NaN</td>\n",
       "      <td>9.995574e+17</td>\n",
       "    </tr>\n",
       "    <tr>\n",
       "      <th>1000000536886808580</th>\n",
       "      <td>948302862098092034</td>\n",
       "      <td>y_44a_</td>\n",
       "      <td>9007</td>\n",
       "      <td>8821</td>\n",
       "      <td>ar</td>\n",
       "      <td>RT @azsepm: استقدام سواق خاص\\nhttps://t.co/fc6...</td>\n",
       "      <td>2018-05-25 13:08</td>\n",
       "      <td>Twitter for iPhone</td>\n",
       "      <td>True</td>\n",
       "      <td>NaN</td>\n",
       "      <td>9.999429e+17</td>\n",
       "    </tr>\n",
       "  </tbody>\n",
       "</table>\n",
       "</div>"
      ],
      "text/plain": [
       "                                                           userid  \\\n",
       "tweetid                                                             \n",
       "1000000000447930368                            948302862098092034   \n",
       "1000000030391095297                            948302862098092034   \n",
       "1000000039362662400                            948302862098092034   \n",
       "1000000054911033344  iXwa1+qxYAH2hEJ9nDG11qo6nmcpl89IQKhDRDqpfU4=   \n",
       "1000000204865789954   Gj+bihYSO0L5Ht1+f9OEqP42KbnJWtNK4qv0WJr0cs=   \n",
       "1000000215598891008                            948302862098092034   \n",
       "1000000242165714944                            948302862098092034   \n",
       "1000000262315094022                            948302862098092034   \n",
       "1000000271492288512                            948302862098092034   \n",
       "1000000325586169856      2SJuOzyE6GQOsmW9ukY3ChH8rl049x6mDNZi3EM=   \n",
       "1000000475503132673   ytmVN9opEFMM7Uk+0O0XgSuOpIRlok5Xqu+jel9qyM=   \n",
       "1000000503982579713                            948302862098092034   \n",
       "1000000514699022336                            948302862098092034   \n",
       "1000000527437062144                            948302862098092034   \n",
       "1000000536886808580                            948302862098092034   \n",
       "\n",
       "                                                 user_screen_name  \\\n",
       "tweetid                                                             \n",
       "1000000000447930368                                        y_44a_   \n",
       "1000000030391095297                                        y_44a_   \n",
       "1000000039362662400                                        y_44a_   \n",
       "1000000054911033344  iXwa1+qxYAH2hEJ9nDG11qo6nmcpl89IQKhDRDqpfU4=   \n",
       "1000000204865789954   Gj+bihYSO0L5Ht1+f9OEqP42KbnJWtNK4qv0WJr0cs=   \n",
       "1000000215598891008                                        y_44a_   \n",
       "1000000242165714944                                        y_44a_   \n",
       "1000000262315094022                                        y_44a_   \n",
       "1000000271492288512                                        y_44a_   \n",
       "1000000325586169856      2SJuOzyE6GQOsmW9ukY3ChH8rl049x6mDNZi3EM=   \n",
       "1000000475503132673   ytmVN9opEFMM7Uk+0O0XgSuOpIRlok5Xqu+jel9qyM=   \n",
       "1000000503982579713                                        y_44a_   \n",
       "1000000514699022336                                        y_44a_   \n",
       "1000000527437062144                                        y_44a_   \n",
       "1000000536886808580                                        y_44a_   \n",
       "\n",
       "                     follower_count  following_count tweet_language  \\\n",
       "tweetid                                                               \n",
       "1000000000447930368            9007             8821             ar   \n",
       "1000000030391095297            9007             8821             ar   \n",
       "1000000039362662400            9007             8821             ar   \n",
       "1000000054911033344             168              408             ar   \n",
       "1000000204865789954            1623             2022             ar   \n",
       "1000000215598891008            9007             8821             ar   \n",
       "1000000242165714944            9007             8821             ar   \n",
       "1000000262315094022            9007             8821             ar   \n",
       "1000000271492288512            9007             8821             ar   \n",
       "1000000325586169856            1850             1594             ar   \n",
       "1000000475503132673            3928             4273             ar   \n",
       "1000000503982579713            9007             8821             ar   \n",
       "1000000514699022336            9007             8821             ar   \n",
       "1000000527437062144            9007             8821             ar   \n",
       "1000000536886808580            9007             8821             ar   \n",
       "\n",
       "                                                            tweet_text  \\\n",
       "tweetid                                                                  \n",
       "1000000000447930368  RT @oneway_market: السلام عليكم ورحمة الله وبر...   \n",
       "1000000030391095297  RT @games4marah: 🌻#للتأجير 🌻#لبيع_النطيطات 🌻\\n...   \n",
       "1000000039362662400  RT @mzlatksa: #مظلات وسواتر #آفاق_الرياض\\n#مظل...   \n",
       "1000000054911033344  RT @videohat_1: فيديو\\nشاهد.. مواطن يوثق بالفي...   \n",
       "1000000204865789954  أستغفر الله العظيم وأتوب إليه https://t.co/Dn3...   \n",
       "1000000215598891008  RT @danat_almesk: #تخفيضات 50% على جميع الأصنا...   \n",
       "1000000242165714944  RT @756870fda1544b6: ✅علاج السرطان في الهند عن...   \n",
       "1000000262315094022  RT @m3asafarah: دورة #مع_السفرة السادسة عشر\\nا...   \n",
       "1000000271492288512  RT @Ayed72044978: #تسديد_قروض\\n♋الراجحي\\n♋الاه...   \n",
       "1000000325586169856  لا إله إلا أنت سبحانك إني كنت من الظالمين \\n♻️...   \n",
       "1000000475503132673                 @hel89006141 تابعني فضلا وليس امرا   \n",
       "1000000503982579713  RT @qahtani03: #عاجل نبأ دبلوماسي بان تل أبيب ...   \n",
       "1000000514699022336  RT @tsded_k: تسديد_القروض\\n💯📘🔙الراجحي \\n📕🔙الأه...   \n",
       "1000000527437062144  RT @baqatacount: رمضان مبارك عليكم 🌙معا لعمل ا...   \n",
       "1000000536886808580  RT @azsepm: استقدام سواق خاص\\nhttps://t.co/fc6...   \n",
       "\n",
       "                           tweet_time    tweet_client_name  is_retweet  \\\n",
       "tweetid                                                                  \n",
       "1000000000447930368  2018-05-25 13:05   Twitter for iPhone        True   \n",
       "1000000030391095297  2018-05-25 13:06   Twitter for iPhone        True   \n",
       "1000000039362662400  2018-05-25 13:06   Twitter for iPhone        True   \n",
       "1000000054911033344  2018-05-25 13:06   Twitter for iPhone        True   \n",
       "1000000204865789954  2018-05-25 13:06            غرد بصدقة       False   \n",
       "1000000215598891008  2018-05-25 13:06   Twitter for iPhone        True   \n",
       "1000000242165714944  2018-05-25 13:06   Twitter for iPhone        True   \n",
       "1000000262315094022  2018-05-25 13:06   Twitter for iPhone        True   \n",
       "1000000271492288512  2018-05-25 13:06   Twitter for iPhone        True   \n",
       "1000000325586169856  2018-05-25 13:07   تطبيق زاد المسلم         False   \n",
       "1000000475503132673  2018-05-25 13:07  Twitter for Android       False   \n",
       "1000000503982579713  2018-05-25 13:07   Twitter for iPhone        True   \n",
       "1000000514699022336  2018-05-25 13:07   Twitter for iPhone        True   \n",
       "1000000527437062144  2018-05-25 13:07   Twitter for iPhone        True   \n",
       "1000000536886808580  2018-05-25 13:08   Twitter for iPhone        True   \n",
       "\n",
       "                    retweet_userid  retweet_tweetid  \n",
       "tweetid                                              \n",
       "1000000000447930368            NaN     9.986493e+17  \n",
       "1000000030391095297            NaN     9.996373e+17  \n",
       "1000000039362662400            NaN     9.993939e+17  \n",
       "1000000054911033344            NaN     9.983516e+17  \n",
       "1000000204865789954            NaN              NaN  \n",
       "1000000215598891008            NaN     9.997592e+17  \n",
       "1000000242165714944            NaN     9.997301e+17  \n",
       "1000000262315094022            NaN     9.997669e+17  \n",
       "1000000271492288512            NaN     9.997610e+17  \n",
       "1000000325586169856            NaN              NaN  \n",
       "1000000475503132673            NaN              NaN  \n",
       "1000000503982579713            NaN     9.999468e+17  \n",
       "1000000514699022336            NaN     9.998106e+17  \n",
       "1000000527437062144            NaN     9.995574e+17  \n",
       "1000000536886808580            NaN     9.999429e+17  "
      ]
     },
     "execution_count": 62,
     "metadata": {},
     "output_type": "execute_result"
    }
   ],
   "source": [
    "retweet_userids_NaN.head(15)"
   ]
  },
  {
   "cell_type": "markdown",
   "metadata": {},
   "source": [
    "The entries containing NaN for retweet_userid DO contain a retweet handle but not formatted as userid but as username / screenname. \n",
    "\n",
    "This **may be because** these users (without userids) are not included as users themselves in this dataset, i.e. the entries that DO have retweet_userids may be retweeting other users in this dataset. Just a hunch.\n",
    "\n",
    "Possible solution: create a reference table of ALL users (those who (re)tweeted and those who were being retweeted) with a unique user index. This table would have the columns: \n",
    "\n",
    "1. Unique ID generated by me \n",
    "2. Screen Name \n",
    "3. Twitter UserID if available\n",
    "4. number of followers/following, if available"
   ]
  },
  {
   "cell_type": "markdown",
   "metadata": {},
   "source": [
    "Besides this, no sign of faulty imports / shifted rows here. The column is already of type 'object' so no change necessary."
   ]
  },
  {
   "cell_type": "markdown",
   "metadata": {},
   "source": [
    "## 4.9. Inspecting tweetid Column\n",
    "\n",
    "We've already set tweetid to be the index. Let's just make sure that it is indeed unique."
   ]
  },
  {
   "cell_type": "code",
   "execution_count": 63,
   "metadata": {},
   "outputs": [],
   "source": [
    "ddf['tweetid'] = ddf.index"
   ]
  },
  {
   "cell_type": "code",
   "execution_count": 64,
   "metadata": {},
   "outputs": [
    {
     "data": {
      "text/html": [
       "<div>\n",
       "<style scoped>\n",
       "    .dataframe tbody tr th:only-of-type {\n",
       "        vertical-align: middle;\n",
       "    }\n",
       "\n",
       "    .dataframe tbody tr th {\n",
       "        vertical-align: top;\n",
       "    }\n",
       "\n",
       "    .dataframe thead th {\n",
       "        text-align: right;\n",
       "    }\n",
       "</style>\n",
       "<table border=\"1\" class=\"dataframe\">\n",
       "  <thead>\n",
       "    <tr style=\"text-align: right;\">\n",
       "      <th></th>\n",
       "      <th>userid</th>\n",
       "      <th>user_screen_name</th>\n",
       "      <th>follower_count</th>\n",
       "      <th>following_count</th>\n",
       "      <th>tweet_language</th>\n",
       "      <th>tweet_text</th>\n",
       "      <th>tweet_time</th>\n",
       "      <th>tweet_client_name</th>\n",
       "      <th>is_retweet</th>\n",
       "      <th>retweet_userid</th>\n",
       "      <th>retweet_tweetid</th>\n",
       "      <th>tweetid</th>\n",
       "    </tr>\n",
       "    <tr>\n",
       "      <th>tweetid</th>\n",
       "      <th></th>\n",
       "      <th></th>\n",
       "      <th></th>\n",
       "      <th></th>\n",
       "      <th></th>\n",
       "      <th></th>\n",
       "      <th></th>\n",
       "      <th></th>\n",
       "      <th></th>\n",
       "      <th></th>\n",
       "      <th></th>\n",
       "      <th></th>\n",
       "    </tr>\n",
       "  </thead>\n",
       "  <tbody>\n",
       "    <tr>\n",
       "      <th>1000000000447930368</th>\n",
       "      <td>948302862098092034</td>\n",
       "      <td>y_44a_</td>\n",
       "      <td>9007</td>\n",
       "      <td>8821</td>\n",
       "      <td>ar</td>\n",
       "      <td>RT @oneway_market: السلام عليكم ورحمة الله وبر...</td>\n",
       "      <td>2018-05-25 13:05</td>\n",
       "      <td>Twitter for iPhone</td>\n",
       "      <td>True</td>\n",
       "      <td>NaN</td>\n",
       "      <td>9.986493e+17</td>\n",
       "      <td>1000000000447930368</td>\n",
       "    </tr>\n",
       "    <tr>\n",
       "      <th>1000000030391095297</th>\n",
       "      <td>948302862098092034</td>\n",
       "      <td>y_44a_</td>\n",
       "      <td>9007</td>\n",
       "      <td>8821</td>\n",
       "      <td>ar</td>\n",
       "      <td>RT @games4marah: 🌻#للتأجير 🌻#لبيع_النطيطات 🌻\\n...</td>\n",
       "      <td>2018-05-25 13:06</td>\n",
       "      <td>Twitter for iPhone</td>\n",
       "      <td>True</td>\n",
       "      <td>NaN</td>\n",
       "      <td>9.996373e+17</td>\n",
       "      <td>1000000030391095297</td>\n",
       "    </tr>\n",
       "    <tr>\n",
       "      <th>1000000039362662400</th>\n",
       "      <td>948302862098092034</td>\n",
       "      <td>y_44a_</td>\n",
       "      <td>9007</td>\n",
       "      <td>8821</td>\n",
       "      <td>ar</td>\n",
       "      <td>RT @mzlatksa: #مظلات وسواتر #آفاق_الرياض\\n#مظل...</td>\n",
       "      <td>2018-05-25 13:06</td>\n",
       "      <td>Twitter for iPhone</td>\n",
       "      <td>True</td>\n",
       "      <td>NaN</td>\n",
       "      <td>9.993939e+17</td>\n",
       "      <td>1000000039362662400</td>\n",
       "    </tr>\n",
       "    <tr>\n",
       "      <th>1000000054911033344</th>\n",
       "      <td>iXwa1+qxYAH2hEJ9nDG11qo6nmcpl89IQKhDRDqpfU4=</td>\n",
       "      <td>iXwa1+qxYAH2hEJ9nDG11qo6nmcpl89IQKhDRDqpfU4=</td>\n",
       "      <td>168</td>\n",
       "      <td>408</td>\n",
       "      <td>ar</td>\n",
       "      <td>RT @videohat_1: فيديو\\nشاهد.. مواطن يوثق بالفي...</td>\n",
       "      <td>2018-05-25 13:06</td>\n",
       "      <td>Twitter for iPhone</td>\n",
       "      <td>True</td>\n",
       "      <td>NaN</td>\n",
       "      <td>9.983516e+17</td>\n",
       "      <td>1000000054911033344</td>\n",
       "    </tr>\n",
       "    <tr>\n",
       "      <th>1000000204865789954</th>\n",
       "      <td>Gj+bihYSO0L5Ht1+f9OEqP42KbnJWtNK4qv0WJr0cs=</td>\n",
       "      <td>Gj+bihYSO0L5Ht1+f9OEqP42KbnJWtNK4qv0WJr0cs=</td>\n",
       "      <td>1623</td>\n",
       "      <td>2022</td>\n",
       "      <td>ar</td>\n",
       "      <td>أستغفر الله العظيم وأتوب إليه https://t.co/Dn3...</td>\n",
       "      <td>2018-05-25 13:06</td>\n",
       "      <td>غرد بصدقة</td>\n",
       "      <td>False</td>\n",
       "      <td>NaN</td>\n",
       "      <td>NaN</td>\n",
       "      <td>1000000204865789954</td>\n",
       "    </tr>\n",
       "  </tbody>\n",
       "</table>\n",
       "</div>"
      ],
      "text/plain": [
       "                                                           userid  \\\n",
       "tweetid                                                             \n",
       "1000000000447930368                            948302862098092034   \n",
       "1000000030391095297                            948302862098092034   \n",
       "1000000039362662400                            948302862098092034   \n",
       "1000000054911033344  iXwa1+qxYAH2hEJ9nDG11qo6nmcpl89IQKhDRDqpfU4=   \n",
       "1000000204865789954   Gj+bihYSO0L5Ht1+f9OEqP42KbnJWtNK4qv0WJr0cs=   \n",
       "\n",
       "                                                 user_screen_name  \\\n",
       "tweetid                                                             \n",
       "1000000000447930368                                        y_44a_   \n",
       "1000000030391095297                                        y_44a_   \n",
       "1000000039362662400                                        y_44a_   \n",
       "1000000054911033344  iXwa1+qxYAH2hEJ9nDG11qo6nmcpl89IQKhDRDqpfU4=   \n",
       "1000000204865789954   Gj+bihYSO0L5Ht1+f9OEqP42KbnJWtNK4qv0WJr0cs=   \n",
       "\n",
       "                     follower_count  following_count tweet_language  \\\n",
       "tweetid                                                               \n",
       "1000000000447930368            9007             8821             ar   \n",
       "1000000030391095297            9007             8821             ar   \n",
       "1000000039362662400            9007             8821             ar   \n",
       "1000000054911033344             168              408             ar   \n",
       "1000000204865789954            1623             2022             ar   \n",
       "\n",
       "                                                            tweet_text  \\\n",
       "tweetid                                                                  \n",
       "1000000000447930368  RT @oneway_market: السلام عليكم ورحمة الله وبر...   \n",
       "1000000030391095297  RT @games4marah: 🌻#للتأجير 🌻#لبيع_النطيطات 🌻\\n...   \n",
       "1000000039362662400  RT @mzlatksa: #مظلات وسواتر #آفاق_الرياض\\n#مظل...   \n",
       "1000000054911033344  RT @videohat_1: فيديو\\nشاهد.. مواطن يوثق بالفي...   \n",
       "1000000204865789954  أستغفر الله العظيم وأتوب إليه https://t.co/Dn3...   \n",
       "\n",
       "                           tweet_time   tweet_client_name  is_retweet  \\\n",
       "tweetid                                                                 \n",
       "1000000000447930368  2018-05-25 13:05  Twitter for iPhone        True   \n",
       "1000000030391095297  2018-05-25 13:06  Twitter for iPhone        True   \n",
       "1000000039362662400  2018-05-25 13:06  Twitter for iPhone        True   \n",
       "1000000054911033344  2018-05-25 13:06  Twitter for iPhone        True   \n",
       "1000000204865789954  2018-05-25 13:06           غرد بصدقة       False   \n",
       "\n",
       "                    retweet_userid  retweet_tweetid              tweetid  \n",
       "tweetid                                                                   \n",
       "1000000000447930368            NaN     9.986493e+17  1000000000447930368  \n",
       "1000000030391095297            NaN     9.996373e+17  1000000030391095297  \n",
       "1000000039362662400            NaN     9.993939e+17  1000000039362662400  \n",
       "1000000054911033344            NaN     9.983516e+17  1000000054911033344  \n",
       "1000000204865789954            NaN              NaN  1000000204865789954  "
      ]
     },
     "execution_count": 64,
     "metadata": {},
     "output_type": "execute_result"
    }
   ],
   "source": [
    "ddf.head()"
   ]
  },
  {
   "cell_type": "code",
   "execution_count": 65,
   "metadata": {},
   "outputs": [
    {
     "data": {
      "text/plain": [
       "36523597"
      ]
     },
     "execution_count": 65,
     "metadata": {},
     "output_type": "execute_result"
    }
   ],
   "source": [
    "ddf.tweetid.str.isnumeric().sum().compute()"
   ]
  },
  {
   "cell_type": "code",
   "execution_count": 66,
   "metadata": {},
   "outputs": [
    {
     "data": {
      "text/plain": [
       "36523597"
      ]
     },
     "execution_count": 66,
     "metadata": {},
     "output_type": "execute_result"
    }
   ],
   "source": [
    "ddf.shape[0].compute()"
   ]
  },
  {
   "cell_type": "code",
   "execution_count": 67,
   "metadata": {},
   "outputs": [],
   "source": [
    "ddf = ddf.drop('tweetid', axis=1)"
   ]
  },
  {
   "cell_type": "code",
   "execution_count": 68,
   "metadata": {},
   "outputs": [
    {
     "data": {
      "text/html": [
       "<div>\n",
       "<style scoped>\n",
       "    .dataframe tbody tr th:only-of-type {\n",
       "        vertical-align: middle;\n",
       "    }\n",
       "\n",
       "    .dataframe tbody tr th {\n",
       "        vertical-align: top;\n",
       "    }\n",
       "\n",
       "    .dataframe thead th {\n",
       "        text-align: right;\n",
       "    }\n",
       "</style>\n",
       "<table border=\"1\" class=\"dataframe\">\n",
       "  <thead>\n",
       "    <tr style=\"text-align: right;\">\n",
       "      <th></th>\n",
       "      <th>userid</th>\n",
       "      <th>user_screen_name</th>\n",
       "      <th>follower_count</th>\n",
       "      <th>following_count</th>\n",
       "      <th>tweet_language</th>\n",
       "      <th>tweet_text</th>\n",
       "      <th>tweet_time</th>\n",
       "      <th>tweet_client_name</th>\n",
       "      <th>is_retweet</th>\n",
       "      <th>retweet_userid</th>\n",
       "      <th>retweet_tweetid</th>\n",
       "    </tr>\n",
       "    <tr>\n",
       "      <th>tweetid</th>\n",
       "      <th></th>\n",
       "      <th></th>\n",
       "      <th></th>\n",
       "      <th></th>\n",
       "      <th></th>\n",
       "      <th></th>\n",
       "      <th></th>\n",
       "      <th></th>\n",
       "      <th></th>\n",
       "      <th></th>\n",
       "      <th></th>\n",
       "    </tr>\n",
       "  </thead>\n",
       "  <tbody>\n",
       "    <tr>\n",
       "      <th>1000000000447930368</th>\n",
       "      <td>948302862098092034</td>\n",
       "      <td>y_44a_</td>\n",
       "      <td>9007</td>\n",
       "      <td>8821</td>\n",
       "      <td>ar</td>\n",
       "      <td>RT @oneway_market: السلام عليكم ورحمة الله وبر...</td>\n",
       "      <td>2018-05-25 13:05</td>\n",
       "      <td>Twitter for iPhone</td>\n",
       "      <td>True</td>\n",
       "      <td>NaN</td>\n",
       "      <td>9.986493e+17</td>\n",
       "    </tr>\n",
       "    <tr>\n",
       "      <th>1000000030391095297</th>\n",
       "      <td>948302862098092034</td>\n",
       "      <td>y_44a_</td>\n",
       "      <td>9007</td>\n",
       "      <td>8821</td>\n",
       "      <td>ar</td>\n",
       "      <td>RT @games4marah: 🌻#للتأجير 🌻#لبيع_النطيطات 🌻\\n...</td>\n",
       "      <td>2018-05-25 13:06</td>\n",
       "      <td>Twitter for iPhone</td>\n",
       "      <td>True</td>\n",
       "      <td>NaN</td>\n",
       "      <td>9.996373e+17</td>\n",
       "    </tr>\n",
       "    <tr>\n",
       "      <th>1000000039362662400</th>\n",
       "      <td>948302862098092034</td>\n",
       "      <td>y_44a_</td>\n",
       "      <td>9007</td>\n",
       "      <td>8821</td>\n",
       "      <td>ar</td>\n",
       "      <td>RT @mzlatksa: #مظلات وسواتر #آفاق_الرياض\\n#مظل...</td>\n",
       "      <td>2018-05-25 13:06</td>\n",
       "      <td>Twitter for iPhone</td>\n",
       "      <td>True</td>\n",
       "      <td>NaN</td>\n",
       "      <td>9.993939e+17</td>\n",
       "    </tr>\n",
       "    <tr>\n",
       "      <th>1000000054911033344</th>\n",
       "      <td>iXwa1+qxYAH2hEJ9nDG11qo6nmcpl89IQKhDRDqpfU4=</td>\n",
       "      <td>iXwa1+qxYAH2hEJ9nDG11qo6nmcpl89IQKhDRDqpfU4=</td>\n",
       "      <td>168</td>\n",
       "      <td>408</td>\n",
       "      <td>ar</td>\n",
       "      <td>RT @videohat_1: فيديو\\nشاهد.. مواطن يوثق بالفي...</td>\n",
       "      <td>2018-05-25 13:06</td>\n",
       "      <td>Twitter for iPhone</td>\n",
       "      <td>True</td>\n",
       "      <td>NaN</td>\n",
       "      <td>9.983516e+17</td>\n",
       "    </tr>\n",
       "    <tr>\n",
       "      <th>1000000204865789954</th>\n",
       "      <td>Gj+bihYSO0L5Ht1+f9OEqP42KbnJWtNK4qv0WJr0cs=</td>\n",
       "      <td>Gj+bihYSO0L5Ht1+f9OEqP42KbnJWtNK4qv0WJr0cs=</td>\n",
       "      <td>1623</td>\n",
       "      <td>2022</td>\n",
       "      <td>ar</td>\n",
       "      <td>أستغفر الله العظيم وأتوب إليه https://t.co/Dn3...</td>\n",
       "      <td>2018-05-25 13:06</td>\n",
       "      <td>غرد بصدقة</td>\n",
       "      <td>False</td>\n",
       "      <td>NaN</td>\n",
       "      <td>NaN</td>\n",
       "    </tr>\n",
       "  </tbody>\n",
       "</table>\n",
       "</div>"
      ],
      "text/plain": [
       "                                                           userid  \\\n",
       "tweetid                                                             \n",
       "1000000000447930368                            948302862098092034   \n",
       "1000000030391095297                            948302862098092034   \n",
       "1000000039362662400                            948302862098092034   \n",
       "1000000054911033344  iXwa1+qxYAH2hEJ9nDG11qo6nmcpl89IQKhDRDqpfU4=   \n",
       "1000000204865789954   Gj+bihYSO0L5Ht1+f9OEqP42KbnJWtNK4qv0WJr0cs=   \n",
       "\n",
       "                                                 user_screen_name  \\\n",
       "tweetid                                                             \n",
       "1000000000447930368                                        y_44a_   \n",
       "1000000030391095297                                        y_44a_   \n",
       "1000000039362662400                                        y_44a_   \n",
       "1000000054911033344  iXwa1+qxYAH2hEJ9nDG11qo6nmcpl89IQKhDRDqpfU4=   \n",
       "1000000204865789954   Gj+bihYSO0L5Ht1+f9OEqP42KbnJWtNK4qv0WJr0cs=   \n",
       "\n",
       "                     follower_count  following_count tweet_language  \\\n",
       "tweetid                                                               \n",
       "1000000000447930368            9007             8821             ar   \n",
       "1000000030391095297            9007             8821             ar   \n",
       "1000000039362662400            9007             8821             ar   \n",
       "1000000054911033344             168              408             ar   \n",
       "1000000204865789954            1623             2022             ar   \n",
       "\n",
       "                                                            tweet_text  \\\n",
       "tweetid                                                                  \n",
       "1000000000447930368  RT @oneway_market: السلام عليكم ورحمة الله وبر...   \n",
       "1000000030391095297  RT @games4marah: 🌻#للتأجير 🌻#لبيع_النطيطات 🌻\\n...   \n",
       "1000000039362662400  RT @mzlatksa: #مظلات وسواتر #آفاق_الرياض\\n#مظل...   \n",
       "1000000054911033344  RT @videohat_1: فيديو\\nشاهد.. مواطن يوثق بالفي...   \n",
       "1000000204865789954  أستغفر الله العظيم وأتوب إليه https://t.co/Dn3...   \n",
       "\n",
       "                           tweet_time   tweet_client_name  is_retweet  \\\n",
       "tweetid                                                                 \n",
       "1000000000447930368  2018-05-25 13:05  Twitter for iPhone        True   \n",
       "1000000030391095297  2018-05-25 13:06  Twitter for iPhone        True   \n",
       "1000000039362662400  2018-05-25 13:06  Twitter for iPhone        True   \n",
       "1000000054911033344  2018-05-25 13:06  Twitter for iPhone        True   \n",
       "1000000204865789954  2018-05-25 13:06           غرد بصدقة       False   \n",
       "\n",
       "                    retweet_userid  retweet_tweetid  \n",
       "tweetid                                              \n",
       "1000000000447930368            NaN     9.986493e+17  \n",
       "1000000030391095297            NaN     9.996373e+17  \n",
       "1000000039362662400            NaN     9.993939e+17  \n",
       "1000000054911033344            NaN     9.983516e+17  \n",
       "1000000204865789954            NaN              NaN  "
      ]
     },
     "execution_count": 68,
     "metadata": {},
     "output_type": "execute_result"
    }
   ],
   "source": [
    "ddf.head()"
   ]
  },
  {
   "cell_type": "markdown",
   "metadata": {},
   "source": [
    "Excellent. All rows have a tweetid that is entirely numeric.\n",
    "\n",
    "This gives us enough confidence that our columns contain all the right values (i.e. no faulty import / shifted rows) and we can proceed to change the data types."
   ]
  },
  {
   "cell_type": "markdown",
   "metadata": {},
   "source": [
    "## 4.10.  Inspecting tweet_time column\n",
    "\n",
    "Let's see if we can cast this column to datetime64, that would verify that it contains only dates."
   ]
  },
  {
   "cell_type": "code",
   "execution_count": 69,
   "metadata": {},
   "outputs": [],
   "source": [
    "ddf.tweet_time = ddf.tweet_time.astype('datetime64')"
   ]
  },
  {
   "cell_type": "code",
   "execution_count": 70,
   "metadata": {},
   "outputs": [
    {
     "data": {
      "text/plain": [
       "Timestamp('2020-01-22 06:02:00')"
      ]
     },
     "execution_count": 70,
     "metadata": {},
     "output_type": "execute_result"
    }
   ],
   "source": [
    "ddf.tweet_time.max().compute()"
   ]
  },
  {
   "cell_type": "markdown",
   "metadata": {},
   "source": [
    "That worked. We should be all set now.\n",
    "\n",
    "Let's just confirm below."
   ]
  },
  {
   "cell_type": "markdown",
   "metadata": {},
   "source": [
    "## Verifying Data Types"
   ]
  },
  {
   "cell_type": "code",
   "execution_count": 71,
   "metadata": {},
   "outputs": [
    {
     "data": {
      "text/plain": [
       "userid                       object\n",
       "user_screen_name             object\n",
       "follower_count                int64\n",
       "following_count               int64\n",
       "tweet_language               object\n",
       "tweet_text                   object\n",
       "tweet_time           datetime64[ns]\n",
       "tweet_client_name            object\n",
       "is_retweet                     bool\n",
       "retweet_userid               object\n",
       "retweet_tweetid             float64\n",
       "dtype: object"
      ]
     },
     "execution_count": 71,
     "metadata": {},
     "output_type": "execute_result"
    }
   ],
   "source": [
    "ddf.dtypes"
   ]
  },
  {
   "cell_type": "markdown",
   "metadata": {},
   "source": [
    "Excellent. We have converted all the columns to their appropriate datatypes.\n",
    "\n",
    "Let's confirm the number of rows in our dataframe after this first pass of filtering out NaN rows and faulty imports."
   ]
  },
  {
   "cell_type": "code",
   "execution_count": 72,
   "metadata": {},
   "outputs": [
    {
     "data": {
      "text/plain": [
       "36523597"
      ]
     },
     "execution_count": 72,
     "metadata": {},
     "output_type": "execute_result"
    }
   ],
   "source": [
    "ddf.shape[0].compute()"
   ]
  },
  {
   "cell_type": "code",
   "execution_count": 73,
   "metadata": {},
   "outputs": [],
   "source": [
    "# persist this corrected version of ddf to cluster memory\n",
    "ddf = ddf.persist()"
   ]
  },
  {
   "cell_type": "markdown",
   "metadata": {},
   "source": [
    "This still leaves us with more than 36.5mln tweets, which is ample material to work with.\n",
    "\n",
    "Let's now proceed to subset the dataframe to include only arabic tweets."
   ]
  },
  {
   "cell_type": "markdown",
   "metadata": {},
   "source": [
    "# 5. Cleaning Text Data\n",
    "\n",
    "In this section, we proceed to clean up the data in the tweet_text column for use in the NLP topic-modelling stage of this project. "
   ]
  },
  {
   "cell_type": "markdown",
   "metadata": {},
   "source": [
    "## 5.1. Subsetting Arabic Tweets\n",
    "We are interested only in Arabic-language tweets so the first step is to filter out any tweets that are not in Arabic."
   ]
  },
  {
   "cell_type": "markdown",
   "metadata": {},
   "source": [
    "### 5.1.1. Percentage of Tweets in Arabic\n",
    "For a first sanity check, let's evaluate the percentage of tweets in our dataset that are in Arabic."
   ]
  },
  {
   "cell_type": "code",
   "execution_count": 74,
   "metadata": {},
   "outputs": [
    {
     "name": "stdout",
     "output_type": "stream",
     "text": [
      "CPU times: user 136 ms, sys: 8.42 ms, total: 145 ms\n",
      "Wall time: 2.02 s\n"
     ]
    },
    {
     "data": {
      "text/plain": [
       "ar     34249868\n",
       "und     1682128\n",
       "en       287225\n",
       "fa        26917\n",
       "tr        15486\n",
       "         ...   \n",
       "dv            1\n",
       "iu            1\n",
       "sn            1\n",
       "mr            1\n",
       "he            1\n",
       "Name: tweet_language, Length: 67, dtype: int64"
      ]
     },
     "execution_count": 74,
     "metadata": {},
     "output_type": "execute_result"
    }
   ],
   "source": [
    "%%time\n",
    "# get value counts of tweet language column\n",
    "ddf.tweet_language.value_counts().compute()"
   ]
  },
  {
   "cell_type": "code",
   "execution_count": 75,
   "metadata": {},
   "outputs": [
    {
     "data": {
      "text/plain": [
       "93.77260185092223"
      ]
     },
     "execution_count": 75,
     "metadata": {},
     "output_type": "execute_result"
    }
   ],
   "source": [
    "# get percentage of arabic language tweets\n",
    "ddf.tweet_language.value_counts().compute().loc['ar'] / n_rows_all * 100"
   ]
  },
  {
   "cell_type": "code",
   "execution_count": 76,
   "metadata": {},
   "outputs": [
    {
     "data": {
      "text/plain": [
       "4.605492762958622"
      ]
     },
     "execution_count": 76,
     "metadata": {},
     "output_type": "execute_result"
    }
   ],
   "source": [
    "# get percentage of english language tweets\n",
    "ddf.tweet_language.value_counts().compute().loc['und'] / n_rows_all * 100"
   ]
  },
  {
   "cell_type": "code",
   "execution_count": 77,
   "metadata": {},
   "outputs": [
    {
     "data": {
      "text/plain": [
       "0.786392390377421"
      ]
     },
     "execution_count": 77,
     "metadata": {},
     "output_type": "execute_result"
    }
   ],
   "source": [
    "# get percentage of english language tweets\n",
    "ddf.tweet_language.value_counts().compute().loc['en'] / n_rows_all * 100"
   ]
  },
  {
   "cell_type": "markdown",
   "metadata": {},
   "source": [
    "- We have a clear majority of Arabic language tweets: almost 94%.\n",
    "- 4.6% of the tweets have language 'undefined'.\n",
    "- Less than 1% of the tweets are in English.\n",
    "\n",
    "### 5.1.2. Exploring 'Undefined' Category\n",
    "Let's explore the 'undefined' category a little further. I wonder if this is mostly Arabic."
   ]
  },
  {
   "cell_type": "code",
   "execution_count": 78,
   "metadata": {},
   "outputs": [
    {
     "name": "stdout",
     "output_type": "stream",
     "text": [
      "CPU times: user 15.4 ms, sys: 4.01 ms, total: 19.4 ms\n",
      "Wall time: 289 ms\n"
     ]
    },
    {
     "data": {
      "text/plain": [
       "tweetid\n",
       "1000737104392081408    RT @ssa3tt: #ليفربول_ريال_مدريد\\n#تخفيضات_رمضا...\n",
       "1000012400513478657    RT @joo_roody: #رمضان_كريم\\n#مركز_طرق_الجمال\\n...\n",
       "1000616288740413440         RT @54W3j0rWTQXoONS: https://t.co/hcEHcLYYYd\n",
       "1000112656043429888                       😭😭😭😭😭😭 https://t.co/yoiKYBV9Qf\n",
       "1001593342973632513    RT @abwfhdalswady: #مظلات_وسواتر_الخالدي053444...\n",
       "1001474778044215297                         🔥🔥🔥🔥 https://t.co/monyq4OWKK\n",
       "1000286266133569536    RT @t2030d1: #عمان_تتكاتف_كلها \\n#ساعه_استجابه...\n",
       "1000011997159854080    RT @ooaoaoao: #هي_وحدة #وش_خطتك_في_رمضان #حزب_...\n",
       "1000431922831675393         RT @OJmz7UlUDh5Cbsd: https://t.co/3iyJrE16Zf\n",
       "1000476676193751040    RT @naql3afshriyad: #ليفربول_ريال_مدريد\\n#شركة...\n",
       "1000790558498017280     RT @rufaqaa: #غرد_بموعظه https://t.co/zK4an1rS4n\n",
       "1000826364616937477    RT @almohydb4: .\\n#رمضان #غرد_بذكر_الله \\n#ابت...\n",
       "1001647595943579650    RT @Riyadh_mmm: #شركة_تنظيف_بالرياض 💯✔      #ت...\n",
       "1001852875767762944    RT @vip_u_s111: #شركة_تنظيف_بالرياض ✔   #تنظيف...\n",
       "1000330166349058049         RT @alaayahyaazyabi: https://t.co/uoxA4qouRM\n",
       "Name: tweet_text, dtype: object"
      ]
     },
     "execution_count": 78,
     "metadata": {},
     "output_type": "execute_result"
    }
   ],
   "source": [
    "%%time\n",
    "# get tweet texts that have language = 'und'\n",
    "ddf[ddf.tweet_language == 'und'].tweet_text.sample(frac=0.01).head(15)"
   ]
  },
  {
   "cell_type": "markdown",
   "metadata": {},
   "source": [
    "Running the cell above a number of times reveals that the 'undefined' category seems to be made up of:\n",
    "- tweets in Arabic\n",
    "- tweets with only URLs\n",
    "- tweets with only emojis\n",
    "\n",
    "This means we should be able to retrieve some more Arabic tweets from this column to increase the total number of rows in our Arabic-only dataframe."
   ]
  },
  {
   "cell_type": "markdown",
   "metadata": {},
   "source": [
    "### 5.1.3. Filtering Arabic from Undefined\n",
    "\n",
    "Let's do this by:\n",
    "1. Filtering out tweets with language = 'ar' into separate ddf: ddf_ar\n",
    "2. Filtering out tweets with language = 'und' into separate ddf: ddf_und\n",
    "3. Deleting tweets that are URLs or only emoji from ddf_und\n",
    "4. Appending ddf_und to ddf_ar"
   ]
  },
  {
   "cell_type": "code",
   "execution_count": 79,
   "metadata": {},
   "outputs": [],
   "source": [
    "ddf_ar = ddf[ddf.tweet_language == 'ar']\n",
    "ddf_und = ddf[ddf.tweet_language == 'und']"
   ]
  },
  {
   "cell_type": "code",
   "execution_count": 80,
   "metadata": {},
   "outputs": [
    {
     "data": {
      "text/plain": [
       "1682128"
      ]
     },
     "execution_count": 80,
     "metadata": {},
     "output_type": "execute_result"
    }
   ],
   "source": [
    "# verify\n",
    "ddf_und.shape[0].compute()"
   ]
  },
  {
   "cell_type": "markdown",
   "metadata": {},
   "source": [
    "The undefined ddf should be small enough to work with locally as a pandas dataframe. Let's call a compute: df_und"
   ]
  },
  {
   "cell_type": "code",
   "execution_count": 81,
   "metadata": {},
   "outputs": [],
   "source": [
    "# turn ddf_und into local pandas dataframe\n",
    "df_und = ddf_und.compute()"
   ]
  },
  {
   "cell_type": "code",
   "execution_count": 82,
   "metadata": {},
   "outputs": [],
   "source": [
    "# # save locally for future reference\n",
    "# df_und.to_csv('/Users/richard/Desktop/springboard_repo/capstones/three/df_undefined.csv')"
   ]
  },
  {
   "cell_type": "code",
   "execution_count": 83,
   "metadata": {},
   "outputs": [
    {
     "name": "stdout",
     "output_type": "stream",
     "text": [
      "<class 'pandas.core.frame.DataFrame'>\n",
      "Index: 1682128 entries, 1000000675722547200 to 999999622281121792\n",
      "Data columns (total 11 columns):\n",
      " #   Column             Non-Null Count    Dtype         \n",
      "---  ------             --------------    -----         \n",
      " 0   userid             1682128 non-null  object        \n",
      " 1   user_screen_name   1682128 non-null  object        \n",
      " 2   follower_count     1682128 non-null  int64         \n",
      " 3   following_count    1682128 non-null  int64         \n",
      " 4   tweet_language     1682128 non-null  object        \n",
      " 5   tweet_text         1682128 non-null  object        \n",
      " 6   tweet_time         1682128 non-null  datetime64[ns]\n",
      " 7   tweet_client_name  1682128 non-null  object        \n",
      " 8   is_retweet         1682128 non-null  bool          \n",
      " 9   retweet_userid     21326 non-null    object        \n",
      " 10  retweet_tweetid    1492599 non-null  float64       \n",
      "dtypes: bool(1), datetime64[ns](1), float64(1), int64(2), object(6)\n",
      "memory usage: 142.8+ MB\n"
     ]
    }
   ],
   "source": [
    "df_und.info()"
   ]
  },
  {
   "cell_type": "markdown",
   "metadata": {},
   "source": [
    "This is looking good. We have no NaNs for the first 9 columns and the expected many NaNs for retweet_userid and some NaNs for retweet_tweetid.\n",
    "\n",
    "**Important:** some of these are **re-tweets** of tweets containing only emojis or URLs. \n",
    "\n",
    "This means it's better to:\n",
    "1. first move the retweet usernames to the new column retweet_user_screen_name (to account for lack of user_ids) \n",
    "2. then remove all \"RT\"s, mentions, and URLs, and\n",
    "3. then come back and filter out arabic tweets from undefined.\n",
    "\n",
    "What we can do at this point is **remove all the tweets with tweet_languages other than 'ar' and 'und'**."
   ]
  },
  {
   "cell_type": "code",
   "execution_count": 84,
   "metadata": {},
   "outputs": [],
   "source": [
    "# subset ddf to include only 'ar' and 'und' entries and persist to memory\n",
    "ddf = ddf[(ddf.tweet_language == 'ar') | (ddf.tweet_language == 'und')].persist()"
   ]
  },
  {
   "cell_type": "code",
   "execution_count": 85,
   "metadata": {},
   "outputs": [
    {
     "data": {
      "text/plain": [
       "35931996"
      ]
     },
     "execution_count": 85,
     "metadata": {},
     "output_type": "execute_result"
    }
   ],
   "source": [
    "ddf.shape[0].compute()"
   ]
  },
  {
   "cell_type": "code",
   "execution_count": 86,
   "metadata": {},
   "outputs": [],
   "source": [
    "n_rows_arabic_und = ddf.shape[0].compute()"
   ]
  },
  {
   "cell_type": "markdown",
   "metadata": {},
   "source": [
    "After removing all tweets in languages other than 'arabic' and 'undefined' we are left with just under 36 million tweets.\n",
    "\n",
    "We still have to filter out the tweets in 'undefined' containing only emojis and URLs but we'll do that at a later stage."
   ]
  },
  {
   "cell_type": "markdown",
   "metadata": {},
   "source": [
    "## 5.2. Move Retweet Usernames to New Column\n",
    "\n",
    "As mentioned above, the next step is to move the retweet usernames to a new column. We are doing this because the column retweet_userid is almost entirely empty. In this way, we can recoup the valuable information contained in the tweet_text column, namely: who is retweeting who. As mentioned in Section 4, this new column we are creating ('retweet_user_screen_name') will become part of a reference table that will allow us to keep track of which users are retweeting one another.\n",
    "\n",
    "Let's work with df_und first locally, to get a feel of how to do this."
   ]
  },
  {
   "cell_type": "code",
   "execution_count": 87,
   "metadata": {},
   "outputs": [
    {
     "data": {
      "text/plain": [
       "tweetid\n",
       "866627763641495552                RT @kbria2016: https://t.co/dwgHXb62uz\n",
       "1122476147743313920    RT @a_abdawhab2022: @DiwaniyaOfPoets #مسابقة_د...\n",
       "1057630368596033536    RT @a__r__z: #اسال_تميسه\\n #الاختبارات\\n #ضعف_...\n",
       "749742946380083200     RT @eostudy: :Three sentences for getting Succ...\n",
       "1077159302887018496               RT @LahaleboS: https://t.co/RPUpyjdv5i\n",
       "1046470719549386752                RT @sluttyx1: https://t.co/qTo3IbcUCc\n",
       "1115381123931168768    RT @Jood_Elevators: #مصاعد_جود 920008419 https...\n",
       "1198462139033423872           RT @hawa_Lbalq8op: https://t.co/TgDuMWNLZi\n",
       "793890843207798784     RT @hmodee2050: #سكري #محشي #للوز #تين_مشمش #ص...\n",
       "872185405420040192                    RT @8iiit: https://t.co/fsUcZBX2U2\n",
       "1141980248483008513             RT @ward_altaif: https://t.co/5Yam41mmG4\n",
       "1205223104798175247    RT @AdryDrive: 🅼┏━━┓#H0MEL3ND ⭐️⭐️⭐️\\n🆄┃━┳┻┳┓┏...\n",
       "1202307740841971715                RT @JEA__: 🖤🔥 https://t.co/CixoI4KliB\n",
       "762087051940491264          RT @am_dema2015: 👌🏻💐 https://t.co/dx2Kh0ahUW\n",
       "1105208447992320001    RT @sherktH: #اكتيفيتي_UFM\\n#شركة_ادارة_المشار...\n",
       "1066051790326689792         RT @AbdulmoeinAagha: https://t.co/bsNGzQls43\n",
       "1162726364463718401    RT @USP_UPP_: المتحدة للطباعة الأمنية تقدم خدم...\n",
       "1003327825447972864                                    @iAHMDFCB10 😂😂😂😭😭\n",
       "1101537235923542019    RT @erty_13: #رساله_الي_حبيبك\\n#جامعة_الأميرة_...\n",
       "1154705572652101632                           RT @MGWV1OO: @H0MEL3ND 🥇👍💎\n",
       "Name: tweet_text, dtype: object"
      ]
     },
     "execution_count": 87,
     "metadata": {},
     "output_type": "execute_result"
    }
   ],
   "source": [
    "df_und.tweet_text.sample(20, random_state=25)"
   ]
  },
  {
   "cell_type": "code",
   "execution_count": 88,
   "metadata": {},
   "outputs": [
    {
     "data": {
      "text/plain": [
       "userid                     ytmVN9opEFMM7Uk+0O0XgSuOpIRlok5Xqu+jel9qyM=\n",
       "user_screen_name           ytmVN9opEFMM7Uk+0O0XgSuOpIRlok5Xqu+jel9qyM=\n",
       "follower_count                                                    3928\n",
       "following_count                                                   4273\n",
       "tweet_language                                                     und\n",
       "tweet_text           RT @Abo_ody103: #الشفا\\n#الحزم\\n#الفواز\\n#الدا...\n",
       "tweet_time                                         2018-05-25 13:08:00\n",
       "tweet_client_name                                  Twitter for Android\n",
       "is_retweet                                                        True\n",
       "retweet_userid                                                     NaN\n",
       "retweet_tweetid                                   999699981744340992.0\n",
       "Name: 1000000675722547200, dtype: object"
      ]
     },
     "execution_count": 88,
     "metadata": {},
     "output_type": "execute_result"
    }
   ],
   "source": [
    "df_und.iloc[0]"
   ]
  },
  {
   "cell_type": "markdown",
   "metadata": {},
   "source": [
    "Let's define a regex pattern to find the user screen name - located between \"RT @\" and \":\".\n",
    "\n",
    "We will then use this regex in a function that returns only the user_screen_name when present and NaN otherwise."
   ]
  },
  {
   "cell_type": "code",
   "execution_count": 89,
   "metadata": {},
   "outputs": [],
   "source": [
    "pattern_RT_mention = r\"RT @([^:]+):\""
   ]
  },
  {
   "cell_type": "code",
   "execution_count": 90,
   "metadata": {},
   "outputs": [],
   "source": [
    "def search_RT_mention(tweet_text):\n",
    "    try:\n",
    "        return re.search(pattern_RT_mention, tweet_text).group(1)\n",
    "    except:\n",
    "        return np.nan"
   ]
  },
  {
   "cell_type": "code",
   "execution_count": 91,
   "metadata": {},
   "outputs": [],
   "source": [
    "df_und['retweet_user_screen_name'] = df_und.tweet_text.apply(search_RT_mention)"
   ]
  },
  {
   "cell_type": "code",
   "execution_count": 92,
   "metadata": {},
   "outputs": [
    {
     "data": {
      "text/plain": [
       "tweetid\n",
       "1084914415139463168           qawafel0\n",
       "1040951141721415680         Sexfire911\n",
       "896032239615713282               uo_uj\n",
       "653726989996695552            Hanoy666\n",
       "706594987430039552               hl_4o\n",
       "806487693689585664             mmayz_1\n",
       "1086358281222799362            KAlobid\n",
       "831091702999896064              3z_r0q\n",
       "1142068113242017799    laila_al_ohaidb\n",
       "1188047037738213376             dr52kk\n",
       "409646074807455744                 NaN\n",
       "841161647020507138          mxxzzxxzz1\n",
       "733597818594566144             Tuwath_\n",
       "1118600863977750530           alaotify\n",
       "833549244434939904            mousaa__\n",
       "1059235615378677761          sefgcx123\n",
       "756096541685903362          albader_77\n",
       "807181247478988800           0808Decor\n",
       "632226038240575488             eostudy\n",
       "1187256296908701696                NaN\n",
       "Name: retweet_user_screen_name, dtype: object"
      ]
     },
     "execution_count": 92,
     "metadata": {},
     "output_type": "execute_result"
    }
   ],
   "source": [
    "df_und.retweet_user_screen_name.sample(20)"
   ]
  },
  {
   "cell_type": "markdown",
   "metadata": {},
   "source": [
    "Excellent, this has worked. By indexing '1' into the .group() call we are pulling out only the grouped characters between the @ and the :, i.e. the user_screen_name.\n",
    "\n",
    "Let's now apply this to our entire ddf by writing a function to pass to ddf.map_partitions. This function operates on each partition of the dask dataframe (which is a df) and will use the search_RT_mention function defined above."
   ]
  },
  {
   "cell_type": "code",
   "execution_count": 93,
   "metadata": {},
   "outputs": [],
   "source": [
    "def create_retweet_user_column(df):\n",
    "    df['retweet_user_screen_name'] = df.tweet_text.apply(search_RT_mention)\n",
    "    return df"
   ]
  },
  {
   "cell_type": "code",
   "execution_count": 94,
   "metadata": {},
   "outputs": [],
   "source": [
    "# map to all partitions and persist new dataframe to memory\n",
    "ddf = ddf.map_partitions(create_retweet_user_column).persist()"
   ]
  },
  {
   "cell_type": "code",
   "execution_count": 95,
   "metadata": {},
   "outputs": [
    {
     "data": {
      "text/html": [
       "<div>\n",
       "<style scoped>\n",
       "    .dataframe tbody tr th:only-of-type {\n",
       "        vertical-align: middle;\n",
       "    }\n",
       "\n",
       "    .dataframe tbody tr th {\n",
       "        vertical-align: top;\n",
       "    }\n",
       "\n",
       "    .dataframe thead th {\n",
       "        text-align: right;\n",
       "    }\n",
       "</style>\n",
       "<table border=\"1\" class=\"dataframe\">\n",
       "  <thead>\n",
       "    <tr style=\"text-align: right;\">\n",
       "      <th></th>\n",
       "      <th>userid</th>\n",
       "      <th>user_screen_name</th>\n",
       "      <th>follower_count</th>\n",
       "      <th>following_count</th>\n",
       "      <th>tweet_language</th>\n",
       "      <th>tweet_text</th>\n",
       "      <th>tweet_time</th>\n",
       "      <th>tweet_client_name</th>\n",
       "      <th>is_retweet</th>\n",
       "      <th>retweet_userid</th>\n",
       "      <th>retweet_tweetid</th>\n",
       "      <th>retweet_user_screen_name</th>\n",
       "    </tr>\n",
       "    <tr>\n",
       "      <th>tweetid</th>\n",
       "      <th></th>\n",
       "      <th></th>\n",
       "      <th></th>\n",
       "      <th></th>\n",
       "      <th></th>\n",
       "      <th></th>\n",
       "      <th></th>\n",
       "      <th></th>\n",
       "      <th></th>\n",
       "      <th></th>\n",
       "      <th></th>\n",
       "      <th></th>\n",
       "    </tr>\n",
       "  </thead>\n",
       "  <tbody>\n",
       "    <tr>\n",
       "      <th>1000401223508512768</th>\n",
       "      <td>meAFVoFFDbqur3udXGEVzD0JyLWeeDfVsLXuq3IWpI=</td>\n",
       "      <td>meAFVoFFDbqur3udXGEVzD0JyLWeeDfVsLXuq3IWpI=</td>\n",
       "      <td>3576</td>\n",
       "      <td>5464</td>\n",
       "      <td>ar</td>\n",
       "      <td>#مسابقه_نوف_بنت_عبدالعزيز\\n\"\\n\"\\nقال تعالي:\\n\\...</td>\n",
       "      <td>2018-05-26 15:40:00</td>\n",
       "      <td>Twitter for iPhone</td>\n",
       "      <td>False</td>\n",
       "      <td>NaN</td>\n",
       "      <td>NaN</td>\n",
       "      <td>NaN</td>\n",
       "    </tr>\n",
       "    <tr>\n",
       "      <th>1000193719377768448</th>\n",
       "      <td>CGglXh1nikyRGa29EEe1F2FAhhkOQ0Z6OlKB5vmS8=</td>\n",
       "      <td>CGglXh1nikyRGa29EEe1F2FAhhkOQ0Z6OlKB5vmS8=</td>\n",
       "      <td>4540</td>\n",
       "      <td>4732</td>\n",
       "      <td>und</td>\n",
       "      <td>RT @ghj__123: https://t.co/FeWYAPyJZF</td>\n",
       "      <td>2018-05-26 01:55:00</td>\n",
       "      <td>Twitter for Android</td>\n",
       "      <td>True</td>\n",
       "      <td>NaN</td>\n",
       "      <td>1.000100e+18</td>\n",
       "      <td>ghj__123</td>\n",
       "    </tr>\n",
       "    <tr>\n",
       "      <th>1001596706948034562</th>\n",
       "      <td>CGglXh1nikyRGa29EEe1F2FAhhkOQ0Z6OlKB5vmS8=</td>\n",
       "      <td>CGglXh1nikyRGa29EEe1F2FAhhkOQ0Z6OlKB5vmS8=</td>\n",
       "      <td>4540</td>\n",
       "      <td>4732</td>\n",
       "      <td>ar</td>\n",
       "      <td>RT @tsded_k: تسديد_القروض\\n💯📘🔙الراجحي \\n📕🔙الأه...</td>\n",
       "      <td>2018-05-29 22:50:00</td>\n",
       "      <td>Twitter for Android</td>\n",
       "      <td>True</td>\n",
       "      <td>NaN</td>\n",
       "      <td>1.001290e+18</td>\n",
       "      <td>tsded_k</td>\n",
       "    </tr>\n",
       "    <tr>\n",
       "      <th>1001117219043119109</th>\n",
       "      <td>948302862098092034</td>\n",
       "      <td>y_44a_</td>\n",
       "      <td>9007</td>\n",
       "      <td>8821</td>\n",
       "      <td>ar</td>\n",
       "      <td>RT @yosefah50019586: مع ملتي ماكا 💊⤵\\n💥زيادة ق...</td>\n",
       "      <td>2018-05-28 15:05:00</td>\n",
       "      <td>Twitter for iPhone</td>\n",
       "      <td>True</td>\n",
       "      <td>NaN</td>\n",
       "      <td>1.001054e+18</td>\n",
       "      <td>yosefah50019586</td>\n",
       "    </tr>\n",
       "    <tr>\n",
       "      <th>1001347238025678848</th>\n",
       "      <td>XLCNthF4y5Q18iYqRrj7hStchSPp26kfx7ly0SPVt8=</td>\n",
       "      <td>XLCNthF4y5Q18iYqRrj7hStchSPp26kfx7ly0SPVt8=</td>\n",
       "      <td>2370</td>\n",
       "      <td>3492</td>\n",
       "      <td>ar</td>\n",
       "      <td>RT @honeyTaif2018: #اربح_بيت_مع_مصعب\\n#وحدك_ام...</td>\n",
       "      <td>2018-05-29 06:19:00</td>\n",
       "      <td>Twitter for Android</td>\n",
       "      <td>True</td>\n",
       "      <td>NaN</td>\n",
       "      <td>1.001055e+18</td>\n",
       "      <td>honeyTaif2018</td>\n",
       "    </tr>\n",
       "    <tr>\n",
       "      <th>1000064166135255045</th>\n",
       "      <td>np1eOxdxZnVz8KR9WRdXAaxOCMVgkHZlqKMZpQKTq08=</td>\n",
       "      <td>np1eOxdxZnVz8KR9WRdXAaxOCMVgkHZlqKMZpQKTq08=</td>\n",
       "      <td>4607</td>\n",
       "      <td>4843</td>\n",
       "      <td>ar</td>\n",
       "      <td>RT @waam2040: #تسديد_قروض_بنكية \\n🌙الراجحي\\n🌙ا...</td>\n",
       "      <td>2018-05-25 17:20:00</td>\n",
       "      <td>Twitter for Android</td>\n",
       "      <td>True</td>\n",
       "      <td>NaN</td>\n",
       "      <td>9.999010e+17</td>\n",
       "      <td>waam2040</td>\n",
       "    </tr>\n",
       "    <tr>\n",
       "      <th>1001812856994713600</th>\n",
       "      <td>988400378797535232</td>\n",
       "      <td>maram__2002</td>\n",
       "      <td>16937</td>\n",
       "      <td>16823</td>\n",
       "      <td>und</td>\n",
       "      <td>RT @mark0547070481: #شركه_رش_مبيدات #شركة_مكاف...</td>\n",
       "      <td>2018-05-30 13:09:00</td>\n",
       "      <td>Twitter for iPhone</td>\n",
       "      <td>True</td>\n",
       "      <td>NaN</td>\n",
       "      <td>1.001374e+18</td>\n",
       "      <td>mark0547070481</td>\n",
       "    </tr>\n",
       "    <tr>\n",
       "      <th>1000972929595789314</th>\n",
       "      <td>vczripOcvrQ82Or6UC35LhdwjXqWZPGKl+mzXb5dQ64=</td>\n",
       "      <td>vczripOcvrQ82Or6UC35LhdwjXqWZPGKl+mzXb5dQ64=</td>\n",
       "      <td>4468</td>\n",
       "      <td>148</td>\n",
       "      <td>ar</td>\n",
       "      <td>RT @Abotalaal72: حساب هلاليه تستحق المتابعه\\nد...</td>\n",
       "      <td>2018-05-28 05:31:00</td>\n",
       "      <td>Twitter for iPhone</td>\n",
       "      <td>True</td>\n",
       "      <td>NaN</td>\n",
       "      <td>1.000940e+18</td>\n",
       "      <td>Abotalaal72</td>\n",
       "    </tr>\n",
       "    <tr>\n",
       "      <th>1000330356258754560</th>\n",
       "      <td>948302862098092034</td>\n",
       "      <td>y_44a_</td>\n",
       "      <td>9007</td>\n",
       "      <td>8821</td>\n",
       "      <td>ar</td>\n",
       "      <td>RT @1l5l1__: #تسديد_قروض\\n#سداد_قروض بنكية \\n#...</td>\n",
       "      <td>2018-05-26 10:58:00</td>\n",
       "      <td>Twitter for iPhone</td>\n",
       "      <td>True</td>\n",
       "      <td>NaN</td>\n",
       "      <td>1.000204e+18</td>\n",
       "      <td>1l5l1__</td>\n",
       "    </tr>\n",
       "  </tbody>\n",
       "</table>\n",
       "</div>"
      ],
      "text/plain": [
       "                                                           userid  \\\n",
       "tweetid                                                             \n",
       "1000401223508512768   meAFVoFFDbqur3udXGEVzD0JyLWeeDfVsLXuq3IWpI=   \n",
       "1000193719377768448    CGglXh1nikyRGa29EEe1F2FAhhkOQ0Z6OlKB5vmS8=   \n",
       "1001596706948034562    CGglXh1nikyRGa29EEe1F2FAhhkOQ0Z6OlKB5vmS8=   \n",
       "1001117219043119109                            948302862098092034   \n",
       "1001347238025678848   XLCNthF4y5Q18iYqRrj7hStchSPp26kfx7ly0SPVt8=   \n",
       "1000064166135255045  np1eOxdxZnVz8KR9WRdXAaxOCMVgkHZlqKMZpQKTq08=   \n",
       "1001812856994713600                            988400378797535232   \n",
       "1000972929595789314  vczripOcvrQ82Or6UC35LhdwjXqWZPGKl+mzXb5dQ64=   \n",
       "1000330356258754560                            948302862098092034   \n",
       "\n",
       "                                                 user_screen_name  \\\n",
       "tweetid                                                             \n",
       "1000401223508512768   meAFVoFFDbqur3udXGEVzD0JyLWeeDfVsLXuq3IWpI=   \n",
       "1000193719377768448    CGglXh1nikyRGa29EEe1F2FAhhkOQ0Z6OlKB5vmS8=   \n",
       "1001596706948034562    CGglXh1nikyRGa29EEe1F2FAhhkOQ0Z6OlKB5vmS8=   \n",
       "1001117219043119109                                        y_44a_   \n",
       "1001347238025678848   XLCNthF4y5Q18iYqRrj7hStchSPp26kfx7ly0SPVt8=   \n",
       "1000064166135255045  np1eOxdxZnVz8KR9WRdXAaxOCMVgkHZlqKMZpQKTq08=   \n",
       "1001812856994713600                                   maram__2002   \n",
       "1000972929595789314  vczripOcvrQ82Or6UC35LhdwjXqWZPGKl+mzXb5dQ64=   \n",
       "1000330356258754560                                        y_44a_   \n",
       "\n",
       "                     follower_count  following_count tweet_language  \\\n",
       "tweetid                                                               \n",
       "1000401223508512768            3576             5464             ar   \n",
       "1000193719377768448            4540             4732            und   \n",
       "1001596706948034562            4540             4732             ar   \n",
       "1001117219043119109            9007             8821             ar   \n",
       "1001347238025678848            2370             3492             ar   \n",
       "1000064166135255045            4607             4843             ar   \n",
       "1001812856994713600           16937            16823            und   \n",
       "1000972929595789314            4468              148             ar   \n",
       "1000330356258754560            9007             8821             ar   \n",
       "\n",
       "                                                            tweet_text  \\\n",
       "tweetid                                                                  \n",
       "1000401223508512768  #مسابقه_نوف_بنت_عبدالعزيز\\n\"\\n\"\\nقال تعالي:\\n\\...   \n",
       "1000193719377768448              RT @ghj__123: https://t.co/FeWYAPyJZF   \n",
       "1001596706948034562  RT @tsded_k: تسديد_القروض\\n💯📘🔙الراجحي \\n📕🔙الأه...   \n",
       "1001117219043119109  RT @yosefah50019586: مع ملتي ماكا 💊⤵\\n💥زيادة ق...   \n",
       "1001347238025678848  RT @honeyTaif2018: #اربح_بيت_مع_مصعب\\n#وحدك_ام...   \n",
       "1000064166135255045  RT @waam2040: #تسديد_قروض_بنكية \\n🌙الراجحي\\n🌙ا...   \n",
       "1001812856994713600  RT @mark0547070481: #شركه_رش_مبيدات #شركة_مكاف...   \n",
       "1000972929595789314  RT @Abotalaal72: حساب هلاليه تستحق المتابعه\\nد...   \n",
       "1000330356258754560  RT @1l5l1__: #تسديد_قروض\\n#سداد_قروض بنكية \\n#...   \n",
       "\n",
       "                             tweet_time    tweet_client_name  is_retweet  \\\n",
       "tweetid                                                                    \n",
       "1000401223508512768 2018-05-26 15:40:00   Twitter for iPhone       False   \n",
       "1000193719377768448 2018-05-26 01:55:00  Twitter for Android        True   \n",
       "1001596706948034562 2018-05-29 22:50:00  Twitter for Android        True   \n",
       "1001117219043119109 2018-05-28 15:05:00   Twitter for iPhone        True   \n",
       "1001347238025678848 2018-05-29 06:19:00  Twitter for Android        True   \n",
       "1000064166135255045 2018-05-25 17:20:00  Twitter for Android        True   \n",
       "1001812856994713600 2018-05-30 13:09:00   Twitter for iPhone        True   \n",
       "1000972929595789314 2018-05-28 05:31:00   Twitter for iPhone        True   \n",
       "1000330356258754560 2018-05-26 10:58:00   Twitter for iPhone        True   \n",
       "\n",
       "                    retweet_userid  retweet_tweetid retweet_user_screen_name  \n",
       "tweetid                                                                       \n",
       "1000401223508512768            NaN              NaN                      NaN  \n",
       "1000193719377768448            NaN     1.000100e+18                 ghj__123  \n",
       "1001596706948034562            NaN     1.001290e+18                  tsded_k  \n",
       "1001117219043119109            NaN     1.001054e+18          yosefah50019586  \n",
       "1001347238025678848            NaN     1.001055e+18            honeyTaif2018  \n",
       "1000064166135255045            NaN     9.999010e+17                 waam2040  \n",
       "1001812856994713600            NaN     1.001374e+18           mark0547070481  \n",
       "1000972929595789314            NaN     1.000940e+18              Abotalaal72  \n",
       "1000330356258754560            NaN     1.000204e+18                  1l5l1__  "
      ]
     },
     "execution_count": 95,
     "metadata": {},
     "output_type": "execute_result"
    }
   ],
   "source": [
    "ddf.partitions[0].sample(frac=0.0002, random_state=26).compute()"
   ]
  },
  {
   "cell_type": "markdown",
   "metadata": {},
   "source": [
    "Excellent, this has worked as expected.\n",
    "\n",
    "We can now proceed to clean the Tweet_Text column."
   ]
  },
  {
   "cell_type": "markdown",
   "metadata": {},
   "source": [
    "## 5.3. Cleaning Tweet_Text Column\n",
    "\n",
    "We will be removing the following from tweet_text:\n",
    "- RT_mention pattern\n",
    "- URLs\n",
    "- line breaks (\"\\n\" etc.)\n",
    "- hashtags and underscores"
   ]
  },
  {
   "cell_type": "markdown",
   "metadata": {},
   "source": [
    "### 5.3.1. Remove Retweet Mentions\n",
    "\n",
    "The function below uses a regex pattern to remove the \"RT @user_screen_name:\" substrings from any tweet_text entries containing a retweet mention."
   ]
  },
  {
   "cell_type": "code",
   "execution_count": 96,
   "metadata": {},
   "outputs": [],
   "source": [
    "def remove_RT_mentions(tweet_text):\n",
    "    try:\n",
    "        return re.sub(pattern_RT_mention, \"\", tweet_text)\n",
    "    except:\n",
    "        pass"
   ]
  },
  {
   "cell_type": "code",
   "execution_count": 97,
   "metadata": {},
   "outputs": [],
   "source": [
    "def clean_tweet_text_column_RT(df):\n",
    "    df.tweet_text = df.tweet_text.apply(remove_RT_mentions)\n",
    "    return df"
   ]
  },
  {
   "cell_type": "code",
   "execution_count": 98,
   "metadata": {},
   "outputs": [],
   "source": [
    "ddf = ddf.map_partitions(clean_tweet_text_column_RT).persist()"
   ]
  },
  {
   "cell_type": "code",
   "execution_count": 99,
   "metadata": {},
   "outputs": [
    {
     "data": {
      "text/plain": [
       "tweetid\n",
       "1035744319632822272     مفارقة؛\\n\\nيتم تشجيع ٥٠٠٠ شخص على ريادة الاعم...\n",
       "1047354863032496128     شركة تنظيف خزانات بالرياض0537315337\\n💫شركة غس...\n",
       "1052329431539310592     📢 اعلان عن توفر وظيفة \\n👩‍🎓فني/مهندس صيانة\\n👩...\n",
       "1060135231213240320    @youm7 @dandrawy_hawary أن الاوان لان تفعل الق...\n",
       "1062354330408402944     #عسل_الضرم يستخدم في علاج الجروح والحروق وتخف...\n",
       "                                             ...                        \n",
       "956402769719713792      #تجميل #مكياج #تسريحات #شعر https://t.co/nYlN...\n",
       "964457950004826112      عيش بـ #صراحه #طيبه \\n\\nوتصير لـ #أجلك معظم #...\n",
       "978396048778461195      مؤسسةالتميز الرائدةفي عالم التظليل والمقاولات...\n",
       "984870080017203200      #ساعه_استجابه\\n\\n#قرعه_دوري_الابطال\\n\\nحقين \\...\n",
       "991331720044609536      @M0VOWuYUH34R3rjz0aoiTA4kY6lN7gsukt2O3+jV2Yo=...\n",
       "Name: tweet_text, Length: 160, dtype: object"
      ]
     },
     "execution_count": 99,
     "metadata": {},
     "output_type": "execute_result"
    }
   ],
   "source": [
    "ddf.tweet_text.sample(frac=0.000005).compute()"
   ]
  },
  {
   "cell_type": "markdown",
   "metadata": {},
   "source": [
    "Works like a charm!"
   ]
  },
  {
   "cell_type": "markdown",
   "metadata": {},
   "source": [
    "### 5.3.2. Removing Remaining Mentions\n",
    "\n",
    "The tweet_text column also occasionally contains mentions that are not retweet-related. We will remove those below."
   ]
  },
  {
   "cell_type": "code",
   "execution_count": 100,
   "metadata": {},
   "outputs": [],
   "source": [
    "pattern_mentions = r'@[\\S]+'"
   ]
  },
  {
   "cell_type": "code",
   "execution_count": 101,
   "metadata": {},
   "outputs": [],
   "source": [
    "def remove_mentions(tweet_text):\n",
    "    return re.sub(pattern_mentions, \"\", tweet_text)"
   ]
  },
  {
   "cell_type": "code",
   "execution_count": 102,
   "metadata": {},
   "outputs": [],
   "source": [
    "def clean_tweet_text_column_mentions(df):\n",
    "    df.tweet_text = df.tweet_text.apply(remove_mentions)\n",
    "    return df"
   ]
  },
  {
   "cell_type": "code",
   "execution_count": 103,
   "metadata": {},
   "outputs": [
    {
     "data": {
      "text/plain": [
       "tweetid\n",
       "1157717594297774080     #الملك_سلمان : من دافع عن ديننا قبل كل شي وعن...\n",
       "1184320597272100865     تقارب الارواح قلب وصوت / ترى عليه اثبات علميا...\n",
       "1186000635356962818     ساعة رولكس أوتوماتيك  1\\n\\nالتوصيل خلال ساعه ...\n",
       "496762459214979072     يا ليت بعض القلوب ؟ تشوفها عيني\\nاعـرف وفـاهـا...\n",
       "666496653205991424      ⭕️تشكيلة راقية من مقابض الابواب والكوالين وبا...\n",
       "715975659294756866      💢💯💢💯💢💯\\nرولكس ستيل نسائي درجه اولى هاي كواليت...\n",
       "726760920618307584      لَا أُرِيد وَضْع عَلامة إسْتِفهامٍ لمَا سَبق\\...\n",
       "779723954965639172      أبسط أيآمي معك كآنت جميلة\\nوالبسيط آللي يجي م...\n",
       "Name: tweet_text, dtype: object"
      ]
     },
     "execution_count": 103,
     "metadata": {},
     "output_type": "execute_result"
    }
   ],
   "source": [
    "# inspect ddf before removing mentions\n",
    "ddf.tweet_text.sample(frac=0.000004, random_state=5).compute()"
   ]
  },
  {
   "cell_type": "code",
   "execution_count": 104,
   "metadata": {},
   "outputs": [],
   "source": [
    "# apply cleaning function to all partitions\n",
    "ddf = ddf.map_partitions(clean_tweet_text_column_mentions).persist()"
   ]
  },
  {
   "cell_type": "code",
   "execution_count": 105,
   "metadata": {},
   "outputs": [
    {
     "data": {
      "text/plain": [
       "tweetid\n",
       "1157717594297774080     #الملك_سلمان : من دافع عن ديننا قبل كل شي وعن...\n",
       "1184320597272100865     تقارب الارواح قلب وصوت / ترى عليه اثبات علميا...\n",
       "1186000635356962818     ساعة رولكس أوتوماتيك  1\\n\\nالتوصيل خلال ساعه ...\n",
       "496762459214979072     يا ليت بعض القلوب ؟ تشوفها عيني\\nاعـرف وفـاهـا...\n",
       "666496653205991424      ⭕️تشكيلة راقية من مقابض الابواب والكوالين وبا...\n",
       "715975659294756866      💢💯💢💯💢💯\\nرولكس ستيل نسائي درجه اولى هاي كواليت...\n",
       "726760920618307584      لَا أُرِيد وَضْع عَلامة إسْتِفهامٍ لمَا سَبق\\...\n",
       "779723954965639172      أبسط أيآمي معك كآنت جميلة\\nوالبسيط آللي يجي م...\n",
       "Name: tweet_text, dtype: object"
      ]
     },
     "execution_count": 105,
     "metadata": {},
     "output_type": "execute_result"
    }
   ],
   "source": [
    "# inspect ddf after removing mentions\n",
    "ddf.tweet_text.sample(frac=0.000004, random_state=5).compute()"
   ]
  },
  {
   "cell_type": "markdown",
   "metadata": {},
   "source": [
    "Excellent. Let's proceed."
   ]
  },
  {
   "cell_type": "markdown",
   "metadata": {},
   "source": [
    "### 5.3.3. Removing Emoji\n",
    "\n",
    "Now proceeding to remove all emoji from the tweet_text. Technically, we could save these to a separate column and use them as features (for example, to augment our sentiment analysis). But to maintain a realistic scope of this project we will not do so here. \n",
    "\n",
    "We will simply use the *emoji* library, which keeps an up-to-date record of all emoji Unicodes, to remove the emoji from the tweet text bodies."
   ]
  },
  {
   "cell_type": "code",
   "execution_count": 106,
   "metadata": {},
   "outputs": [],
   "source": [
    "def remove_emoji(tweet_text):\n",
    "    try:\n",
    "        return emoji.get_emoji_regexp().sub(u'', tweet_text)\n",
    "    except:\n",
    "        pass"
   ]
  },
  {
   "cell_type": "code",
   "execution_count": 107,
   "metadata": {},
   "outputs": [],
   "source": [
    "def clean_tweet_text_column_emoji(df):\n",
    "    df.tweet_text = df.tweet_text.apply(remove_emoji)\n",
    "    return df"
   ]
  },
  {
   "cell_type": "markdown",
   "metadata": {},
   "source": [
    "We had some trouble running this function on the entire ddf. After extensive debugging, a repartitioning with max. partition_size set to 50MB seems to have solved the problem, so we will conduct that here before continuing to pass the function to .map_partitions()."
   ]
  },
  {
   "cell_type": "code",
   "execution_count": 108,
   "metadata": {},
   "outputs": [
    {
     "data": {
      "text/html": [
       "<div><strong>Dask DataFrame Structure:</strong></div>\n",
       "<div>\n",
       "<style scoped>\n",
       "    .dataframe tbody tr th:only-of-type {\n",
       "        vertical-align: middle;\n",
       "    }\n",
       "\n",
       "    .dataframe tbody tr th {\n",
       "        vertical-align: top;\n",
       "    }\n",
       "\n",
       "    .dataframe thead th {\n",
       "        text-align: right;\n",
       "    }\n",
       "</style>\n",
       "<table border=\"1\" class=\"dataframe\">\n",
       "  <thead>\n",
       "    <tr style=\"text-align: right;\">\n",
       "      <th></th>\n",
       "      <th>userid</th>\n",
       "      <th>user_screen_name</th>\n",
       "      <th>follower_count</th>\n",
       "      <th>following_count</th>\n",
       "      <th>tweet_language</th>\n",
       "      <th>tweet_text</th>\n",
       "      <th>tweet_time</th>\n",
       "      <th>tweet_client_name</th>\n",
       "      <th>is_retweet</th>\n",
       "      <th>retweet_userid</th>\n",
       "      <th>retweet_tweetid</th>\n",
       "      <th>retweet_user_screen_name</th>\n",
       "    </tr>\n",
       "    <tr>\n",
       "      <th>npartitions=369</th>\n",
       "      <th></th>\n",
       "      <th></th>\n",
       "      <th></th>\n",
       "      <th></th>\n",
       "      <th></th>\n",
       "      <th></th>\n",
       "      <th></th>\n",
       "      <th></th>\n",
       "      <th></th>\n",
       "      <th></th>\n",
       "      <th></th>\n",
       "      <th></th>\n",
       "    </tr>\n",
       "  </thead>\n",
       "  <tbody>\n",
       "    <tr>\n",
       "      <th>✴️نسدد المتعثرات لدى س…\"</th>\n",
       "      <td>object</td>\n",
       "      <td>object</td>\n",
       "      <td>int64</td>\n",
       "      <td>int64</td>\n",
       "      <td>object</td>\n",
       "      <td>object</td>\n",
       "      <td>datetime64[ns]</td>\n",
       "      <td>object</td>\n",
       "      <td>bool</td>\n",
       "      <td>object</td>\n",
       "      <td>float64</td>\n",
       "      <td>float64</td>\n",
       "    </tr>\n",
       "    <tr>\n",
       "      <th>1001882935384002560</th>\n",
       "      <td>...</td>\n",
       "      <td>...</td>\n",
       "      <td>...</td>\n",
       "      <td>...</td>\n",
       "      <td>...</td>\n",
       "      <td>...</td>\n",
       "      <td>...</td>\n",
       "      <td>...</td>\n",
       "      <td>...</td>\n",
       "      <td>...</td>\n",
       "      <td>...</td>\n",
       "      <td>...</td>\n",
       "    </tr>\n",
       "    <tr>\n",
       "      <th>...</th>\n",
       "      <td>...</td>\n",
       "      <td>...</td>\n",
       "      <td>...</td>\n",
       "      <td>...</td>\n",
       "      <td>...</td>\n",
       "      <td>...</td>\n",
       "      <td>...</td>\n",
       "      <td>...</td>\n",
       "      <td>...</td>\n",
       "      <td>...</td>\n",
       "      <td>...</td>\n",
       "      <td>...</td>\n",
       "    </tr>\n",
       "    <tr>\n",
       "      <th>تنظيم حفل زواج لاحد الموقوفين بحضور اهالي العروسين في سجن ذهبان في جده مع التكفل التام من قبل #أمن_…\"</th>\n",
       "      <td>...</td>\n",
       "      <td>...</td>\n",
       "      <td>...</td>\n",
       "      <td>...</td>\n",
       "      <td>...</td>\n",
       "      <td>...</td>\n",
       "      <td>...</td>\n",
       "      <td>...</td>\n",
       "      <td>...</td>\n",
       "      <td>...</td>\n",
       "      <td>...</td>\n",
       "      <td>...</td>\n",
       "    </tr>\n",
       "    <tr>\n",
       "      <th>🙊٥ - أخلا…\"</th>\n",
       "      <td>...</td>\n",
       "      <td>...</td>\n",
       "      <td>...</td>\n",
       "      <td>...</td>\n",
       "      <td>...</td>\n",
       "      <td>...</td>\n",
       "      <td>...</td>\n",
       "      <td>...</td>\n",
       "      <td>...</td>\n",
       "      <td>...</td>\n",
       "      <td>...</td>\n",
       "      <td>...</td>\n",
       "    </tr>\n",
       "  </tbody>\n",
       "</table>\n",
       "</div>\n",
       "<div>Dask Name: clean_tweet_text_column_mentions, 369 tasks</div>"
      ],
      "text/plain": [
       "Dask DataFrame Structure:\n",
       "                                                                                                       userid user_screen_name follower_count following_count tweet_language tweet_text      tweet_time tweet_client_name is_retweet retweet_userid retweet_tweetid retweet_user_screen_name\n",
       "npartitions=369                                                                                                                                                                                                                                                                             \n",
       "            ✴️نسدد المتعثرات لدى س…\"                                                                   object           object          int64           int64         object     object  datetime64[ns]            object       bool         object         float64                  float64\n",
       "1001882935384002560                                                                                       ...              ...            ...             ...            ...        ...             ...               ...        ...            ...             ...                      ...\n",
       "...                                                                                                       ...              ...            ...             ...            ...        ...             ...               ...        ...            ...             ...                      ...\n",
       "تنظيم حفل زواج لاحد الموقوفين بحضور اهالي العروسين في سجن ذهبان في جده مع التكفل التام من قبل #أمن_…\"     ...              ...            ...             ...            ...        ...             ...               ...        ...            ...             ...                      ...\n",
       "🙊٥ - أخلا…\"                                                                                               ...              ...            ...             ...            ...        ...             ...               ...        ...            ...             ...                      ...\n",
       "Dask Name: clean_tweet_text_column_mentions, 369 tasks"
      ]
     },
     "execution_count": 108,
     "metadata": {},
     "output_type": "execute_result"
    }
   ],
   "source": [
    "ddf"
   ]
  },
  {
   "cell_type": "code",
   "execution_count": 109,
   "metadata": {},
   "outputs": [],
   "source": [
    "ddf = ddf.repartition(partition_size=\"50MB\")"
   ]
  },
  {
   "cell_type": "code",
   "execution_count": 110,
   "metadata": {},
   "outputs": [
    {
     "data": {
      "text/plain": [
       "True"
      ]
     },
     "execution_count": 110,
     "metadata": {},
     "output_type": "execute_result"
    }
   ],
   "source": [
    "ddf.shape[0].compute() == n_rows_arabic_und"
   ]
  },
  {
   "cell_type": "code",
   "execution_count": 111,
   "metadata": {
    "scrolled": true
   },
   "outputs": [
    {
     "data": {
      "text/html": [
       "<div><strong>Dask DataFrame Structure:</strong></div>\n",
       "<div>\n",
       "<style scoped>\n",
       "    .dataframe tbody tr th:only-of-type {\n",
       "        vertical-align: middle;\n",
       "    }\n",
       "\n",
       "    .dataframe tbody tr th {\n",
       "        vertical-align: top;\n",
       "    }\n",
       "\n",
       "    .dataframe thead th {\n",
       "        text-align: right;\n",
       "    }\n",
       "</style>\n",
       "<table border=\"1\" class=\"dataframe\">\n",
       "  <thead>\n",
       "    <tr style=\"text-align: right;\">\n",
       "      <th></th>\n",
       "      <th>userid</th>\n",
       "      <th>user_screen_name</th>\n",
       "      <th>follower_count</th>\n",
       "      <th>following_count</th>\n",
       "      <th>tweet_language</th>\n",
       "      <th>tweet_text</th>\n",
       "      <th>tweet_time</th>\n",
       "      <th>tweet_client_name</th>\n",
       "      <th>is_retweet</th>\n",
       "      <th>retweet_userid</th>\n",
       "      <th>retweet_tweetid</th>\n",
       "      <th>retweet_user_screen_name</th>\n",
       "    </tr>\n",
       "    <tr>\n",
       "      <th>npartitions=769</th>\n",
       "      <th></th>\n",
       "      <th></th>\n",
       "      <th></th>\n",
       "      <th></th>\n",
       "      <th></th>\n",
       "      <th></th>\n",
       "      <th></th>\n",
       "      <th></th>\n",
       "      <th></th>\n",
       "      <th></th>\n",
       "      <th></th>\n",
       "      <th></th>\n",
       "    </tr>\n",
       "  </thead>\n",
       "  <tbody>\n",
       "    <tr>\n",
       "      <th></th>\n",
       "      <td>object</td>\n",
       "      <td>object</td>\n",
       "      <td>int64</td>\n",
       "      <td>int64</td>\n",
       "      <td>object</td>\n",
       "      <td>object</td>\n",
       "      <td>datetime64[ns]</td>\n",
       "      <td>object</td>\n",
       "      <td>bool</td>\n",
       "      <td>object</td>\n",
       "      <td>float64</td>\n",
       "      <td>float64</td>\n",
       "    </tr>\n",
       "    <tr>\n",
       "      <th></th>\n",
       "      <td>...</td>\n",
       "      <td>...</td>\n",
       "      <td>...</td>\n",
       "      <td>...</td>\n",
       "      <td>...</td>\n",
       "      <td>...</td>\n",
       "      <td>...</td>\n",
       "      <td>...</td>\n",
       "      <td>...</td>\n",
       "      <td>...</td>\n",
       "      <td>...</td>\n",
       "      <td>...</td>\n",
       "    </tr>\n",
       "    <tr>\n",
       "      <th>...</th>\n",
       "      <td>...</td>\n",
       "      <td>...</td>\n",
       "      <td>...</td>\n",
       "      <td>...</td>\n",
       "      <td>...</td>\n",
       "      <td>...</td>\n",
       "      <td>...</td>\n",
       "      <td>...</td>\n",
       "      <td>...</td>\n",
       "      <td>...</td>\n",
       "      <td>...</td>\n",
       "      <td>...</td>\n",
       "    </tr>\n",
       "    <tr>\n",
       "      <th></th>\n",
       "      <td>...</td>\n",
       "      <td>...</td>\n",
       "      <td>...</td>\n",
       "      <td>...</td>\n",
       "      <td>...</td>\n",
       "      <td>...</td>\n",
       "      <td>...</td>\n",
       "      <td>...</td>\n",
       "      <td>...</td>\n",
       "      <td>...</td>\n",
       "      <td>...</td>\n",
       "      <td>...</td>\n",
       "    </tr>\n",
       "    <tr>\n",
       "      <th></th>\n",
       "      <td>...</td>\n",
       "      <td>...</td>\n",
       "      <td>...</td>\n",
       "      <td>...</td>\n",
       "      <td>...</td>\n",
       "      <td>...</td>\n",
       "      <td>...</td>\n",
       "      <td>...</td>\n",
       "      <td>...</td>\n",
       "      <td>...</td>\n",
       "      <td>...</td>\n",
       "      <td>...</td>\n",
       "    </tr>\n",
       "  </tbody>\n",
       "</table>\n",
       "</div>\n",
       "<div>Dask Name: repartition, 2273 tasks</div>"
      ],
      "text/plain": [
       "Dask DataFrame Structure:\n",
       "                 userid user_screen_name follower_count following_count tweet_language tweet_text      tweet_time tweet_client_name is_retweet retweet_userid retweet_tweetid retweet_user_screen_name\n",
       "npartitions=769                                                                                                                                                                                       \n",
       "                 object           object          int64           int64         object     object  datetime64[ns]            object       bool         object         float64                  float64\n",
       "                    ...              ...            ...             ...            ...        ...             ...               ...        ...            ...             ...                      ...\n",
       "...                 ...              ...            ...             ...            ...        ...             ...               ...        ...            ...             ...                      ...\n",
       "                    ...              ...            ...             ...            ...        ...             ...               ...        ...            ...             ...                      ...\n",
       "                    ...              ...            ...             ...            ...        ...             ...               ...        ...            ...             ...                      ...\n",
       "Dask Name: repartition, 2273 tasks"
      ]
     },
     "execution_count": 111,
     "metadata": {},
     "output_type": "execute_result"
    }
   ],
   "source": [
    "ddf"
   ]
  },
  {
   "cell_type": "markdown",
   "metadata": {},
   "source": [
    "OK, ddf now has 769 partitions of max. 50MB each.\n",
    "\n",
    "Let's run the removing-emoji function."
   ]
  },
  {
   "cell_type": "code",
   "execution_count": 118,
   "metadata": {},
   "outputs": [],
   "source": [
    "# apply function to all partitions\n",
    "# NB: this takes ca. 10min (with 50 workers) to run \n",
    "# persist() call so will run in the background and will slow down subsequent operations\n",
    "ddf = ddf.map_partitions(clean_tweet_text_column_emoji).persist()"
   ]
  },
  {
   "cell_type": "code",
   "execution_count": 119,
   "metadata": {},
   "outputs": [
    {
     "data": {
      "text/plain": [
       "True"
      ]
     },
     "execution_count": 119,
     "metadata": {},
     "output_type": "execute_result"
    }
   ],
   "source": [
    "ddf.shape[0].compute() == n_rows_arabic_und"
   ]
  },
  {
   "cell_type": "markdown",
   "metadata": {},
   "source": [
    "Excellent. Emoji's: bye, bye!"
   ]
  },
  {
   "cell_type": "markdown",
   "metadata": {},
   "source": [
    "### 5.3.4. Removing Line Breaks\n",
    "\n",
    "Let's replace line breaks (\"\\n\") with a white space."
   ]
  },
  {
   "cell_type": "code",
   "execution_count": 121,
   "metadata": {},
   "outputs": [],
   "source": [
    "def remove_linebreaks(tweet_text):\n",
    "    return re.sub(r'[\\n]', \" \", tweet_text)"
   ]
  },
  {
   "cell_type": "code",
   "execution_count": 122,
   "metadata": {},
   "outputs": [],
   "source": [
    "def clean_tweet_text_column_linebreaks(df):\n",
    "    df.tweet_text = df.tweet_text.apply(remove_linebreaks)\n",
    "    return df"
   ]
  },
  {
   "cell_type": "code",
   "execution_count": 123,
   "metadata": {},
   "outputs": [
    {
     "data": {
      "text/plain": [
       "Series([], Name: tweet_text, dtype: object)"
      ]
     },
     "execution_count": 123,
     "metadata": {},
     "output_type": "execute_result"
    }
   ],
   "source": [
    "# inspect sample of ddf before removing linebreaks \n",
    "ddf.tweet_text.sample(frac=0.00005, random_state=15).compute()"
   ]
  },
  {
   "cell_type": "code",
   "execution_count": 124,
   "metadata": {},
   "outputs": [],
   "source": [
    "# apply cleaning function to all partitions\n",
    "ddf = ddf.map_partitions(clean_tweet_text_column_linebreaks).persist()"
   ]
  },
  {
   "cell_type": "code",
   "execution_count": 125,
   "metadata": {},
   "outputs": [
    {
     "data": {
      "text/plain": [
       "tweetid\n",
       "1001076400189857792     تميزي مع هاي كلاس باطقم السهره الرائعة ح   سا...\n",
       "1000708048661504002    يدخل فريق #مونبلييه_الفرنسي فى مواجهة قوية مع ...\n",
       "1002840636079460358    (فانتقمنا منهم فانظر كيف كان عاقبة المكذبين) [...\n",
       "1002269876118056960         اطقم نسائي ناعمه   7    بأشكال مميززه  ول...\n",
       "1003644144127021056     َ من عامل الله بالتقوى والطاعة في حال رخائه ،...\n",
       "                                             ...                        \n",
       "994701086123610114         برفووو ابوفيصل_سيبوني خلوني احللل  هههههههههه\n",
       "997035000913645568      معمول أم صالح طبخ بيت √بالتمر √طعم لذيذ √ دقي...\n",
       "997258402555285504      ساعة باتيك فيليب رجالي a  التوصيل خلال ساعه ا...\n",
       "999115886828113925      #وزنك_زاد_ولا_باقي #مسابقه_زياد_الجهني4 #الدم...\n",
       "998820191315296256      اقمشة دنهل   السعر 180 ريال  للتواصل واتس على...\n",
       "Name: tweet_text, Length: 1770, dtype: object"
      ]
     },
     "execution_count": 125,
     "metadata": {},
     "output_type": "execute_result"
    }
   ],
   "source": [
    "# inspect sample of ddf after removing linebreaks \n",
    "ddf.tweet_text.sample(frac=0.00005, random_state=15).compute()"
   ]
  },
  {
   "cell_type": "markdown",
   "metadata": {},
   "source": [
    "Done."
   ]
  },
  {
   "cell_type": "markdown",
   "metadata": {},
   "source": [
    "### 5.3.5. Removing URLs\n",
    "Let's remove all URLs from the tweet_text column."
   ]
  },
  {
   "cell_type": "code",
   "execution_count": 126,
   "metadata": {},
   "outputs": [],
   "source": [
    "pattern_URLs = r'http\\S+'"
   ]
  },
  {
   "cell_type": "code",
   "execution_count": 127,
   "metadata": {},
   "outputs": [],
   "source": [
    "def remove_URLs(tweet_text):\n",
    "    return re.sub(pattern_URLs, \"\", tweet_text)"
   ]
  },
  {
   "cell_type": "code",
   "execution_count": 128,
   "metadata": {},
   "outputs": [],
   "source": [
    "def clean_tweet_text_column_URLs(df):\n",
    "    df.tweet_text = df.tweet_text.apply(remove_URLs)\n",
    "    return df"
   ]
  },
  {
   "cell_type": "code",
   "execution_count": 129,
   "metadata": {},
   "outputs": [],
   "source": [
    "# apply cleaning function to all partitions\n",
    "ddf = ddf.map_partitions(clean_tweet_text_column_URLs).persist()"
   ]
  },
  {
   "cell_type": "code",
   "execution_count": 130,
   "metadata": {},
   "outputs": [
    {
     "data": {
      "text/plain": [
       "tweetid\n",
       "1001247484260376578     Mail on Sunday | مانشستر سيتي يقترب من التوقي...\n",
       "1000895874069823488     من فوايد علاج تدليك الاعصاب والضغط علي مسارات...\n",
       "1002028867471757312     توفر من جديد6 لحاف ٩ قطعه مطرز نفرين لحاف لحا...\n",
       "1002238276533653504     زعيم الأمة وقائدها خادم الحرمين الشريفين المل...\n",
       "1004465349415395328    #ولي_العهد الأمير #محمد_بن_سلمان يستقبل ولي عه...\n",
       "                                             ...                        \n",
       "995058150373036032      اللي ينفع أحكيلهم مش هيفهموا واللي هيفهموا ما...\n",
       "997275163912794112      تعتبرالخلوة التقنية الأكثر فائدة للوصول إلى ا...\n",
       "996947883260874752     اللّهم  أنت الحليم فلا تعجل، وأنت الجواد فلا ت...\n",
       "998913241244893184     عن أبي هريرة رضي الله عنه أن الرسول صلى الله ع...\n",
       "999835329266962434       سنابك احلى  لديك سناب وتبى مشاهدات عاليه واض...\n",
       "Name: tweet_text, Length: 1770, dtype: object"
      ]
     },
     "execution_count": 130,
     "metadata": {},
     "output_type": "execute_result"
    }
   ],
   "source": [
    "# inspect sample of ddf after removing linebreaks \n",
    "ddf.tweet_text.sample(frac=0.00005, random_state=19).compute()"
   ]
  },
  {
   "cell_type": "markdown",
   "metadata": {},
   "source": [
    "Done."
   ]
  },
  {
   "cell_type": "markdown",
   "metadata": {},
   "source": [
    "## Progress Check\n",
    "For an intermediate sanity check, let's sample our dask dataframe to see how we're doing."
   ]
  },
  {
   "cell_type": "code",
   "execution_count": 131,
   "metadata": {},
   "outputs": [],
   "source": [
    "df_temp = ddf.tweet_text.sample(frac=0.0001, random_state=1).compute()"
   ]
  },
  {
   "cell_type": "code",
   "execution_count": 132,
   "metadata": {},
   "outputs": [
    {
     "data": {
      "text/plain": [
       "(3589,)"
      ]
     },
     "execution_count": 132,
     "metadata": {},
     "output_type": "execute_result"
    }
   ],
   "source": [
    "df_temp.shape"
   ]
  },
  {
   "cell_type": "code",
   "execution_count": 133,
   "metadata": {},
   "outputs": [
    {
     "data": {
      "text/plain": [
       "tweetid\n",
       "934789324620607489      #الكدس_ليس_كضيتنا #الهلال_اوراورا  السلام علي...\n",
       "1175890834987847684     بمناسبة #اليوم_الوطني_٨٩ بادر بالاشتراك بعروض...\n",
       "932723901469220864       عروض مميزة  بوفيه مفتوح    افطار يومي 52 ريا...\n",
       "1151400910397906945     وصل الأمر بنشأت الديهي وقناة ten عمل حلقة كام...\n",
       "1081511593001795584     لاننسي هذا البطل أبداً سياده المشير حسين طنطا...\n",
       "1107306700493737986     إذا كنت تبحث عن #تصميم #سيرة_ذاتية فألق نظرة ...\n",
       "811126400774242304      وداعاً لمشاكل #القولون #الانتفاخات اتصل بنا 0...\n",
       "729138548767637504      عسل ربيع نجد نادر جدا وقد بذلت جهدا كبيرا من ...\n",
       "939134949755707392     اللهم إني أعوذ بك من الهم والحزن والعجز والكسل...\n",
       "1115653481686286337     خادمات وجميع المهن المنزلية من الفلبين وصول ٤...\n",
       "840745144731238400      ززيت الشعر الافغاني الأصلي٪  ينعم يكثف يطول ي...\n",
       "671989097423118336      قبلة الصباح كفيله .. أن تجعل من المستحيل ممكن...\n",
       "1191035821819871232     بحمد الله وتوفيقة تم توقيع شراكة استراتيجية م...\n",
       "612385868062416897      خدم البلاط يقدم للملك المغربي التمر والحليب ف...\n",
       "867041557358292996      فيش سيارة بمنفذ واحد + فيش ثلاثي مناسب لشحن ا...\n",
       "802442873526427648      وحدات جاهزةللبيع الفوري مساحات مختلفةمن82م:12...\n",
       "1077933244849504256     وصل حديثا مبخرة احلام الالكترونية للطلب واتس ...\n",
       "729651171376402432      عرض ليومين  قلم + كبك + علبه Mont Blank فخم ج...\n",
       "1199992751124824064     #سلسلة/ضربات_جوية شنتها مقاتلات/القوات_الجوية...\n",
       "520927539477630976                    اللهم اشفي مرضانا و مرضى المسلمين \n",
       "933458830834446336              مانقص مال من صدقة ،،،   #وقف_سبل_العطاء \n",
       "1156386209805099009     ماركة إيست المحلية من نون صارت توفّر لك عدّة ...\n",
       "928481422729465857      لي العلان بافضل سعر   الرجاء التواصل خاص او و...\n",
       "731543996036751361      الان سجل وتدرب مجانا في  #الذهب و #النفط التس...\n",
       "845754834116599813      متوفر الان #عملية #تكميم_المعدة بالمنظار مع ت...\n",
       "Name: tweet_text, dtype: object"
      ]
     },
     "execution_count": 133,
     "metadata": {},
     "output_type": "execute_result"
    }
   ],
   "source": [
    "df_temp.sample(25, random_state=3)"
   ]
  },
  {
   "cell_type": "markdown",
   "metadata": {},
   "source": [
    "Still to clean:\n",
    "- digits\n",
    "- some non-character icons\n",
    "- some random latin characters\n",
    "- hashtags\n",
    "\n",
    "We could also try removing any non-arabic text. But that would remove hashtags and underscores and we need to process those first."
   ]
  },
  {
   "cell_type": "markdown",
   "metadata": {},
   "source": [
    "## 5.4. Hashtags\n",
    "\n",
    "How to deal with the hashtags? This is not a straightforward problem, and there are several ways we could approach it. We could: \n",
    "\n",
    "1. Remove the hashtag symbols and underscores and keep the words of the hashtags in the tweet_text body\n",
    "2. Move the hashtags out of the tweet_text body and save them as a separate feature\n",
    "\n",
    "We will opt for a combination of the two. We will first copy the hashtags to a separate column and save them as a separate feature, i.e. each tweet will have a feature that is a list of the hashtags (text only) that were included in that tweet. We will then remove the hashtag symbols and underscores from the tweet_text body **but maintain the words themselves**.\n",
    "\n",
    "We are opting for this approach for two reasons:\n",
    "1. To accommodate for instances in which hashtags double as part of the tweet sentence itself, e.g. \"I didn't know #machinelearning worked in #arabic!\"\n",
    "2. Because we are ultimately interested in topic modelling and the text in the hashtags is likely to contain a strong signal about the topic each tweet belongs to.\n",
    "\n",
    "To play devil's advocate here - and illustrate that there's always more than one way to approach a problem - we could also think of a good reason *not* to keep the hashtag text in the tweet_text column, namely:\n",
    "1. Hashtags are, in some sense, a rudimentary form of topic modelling already. By including them in the tweet_text, we may be overpowering the signal that's in the tweet_text body itself. In other words, our topic modelling algorithm might simply cluster tweets according to the hashtags they contain.\n",
    "\n",
    "We will be aware of this moving forward. Should this problem arise, we can always remove the hashtag texts from the tweet_text column at a later stage, since we have the hashtag texts saved in a separate column."
   ]
  },
  {
   "cell_type": "code",
   "execution_count": 134,
   "metadata": {},
   "outputs": [],
   "source": [
    "# inspect sample of ddf  \n",
    "df_temp = ddf.partitions[0].sample(frac=0.001, random_state=1).compute()"
   ]
  },
  {
   "cell_type": "code",
   "execution_count": 135,
   "metadata": {},
   "outputs": [
    {
     "data": {
      "text/plain": [
       "tweetid\n",
       "1000621618530529281     !#تسديد_قروض الراجحي الاهلي 22 راتب سامبا الا...\n",
       "1000378419681644544     #استقدام_عامله_منزليه #فيتنام 20 يوم #الفلبين...\n",
       "1000690962451124224    أهم ما جاء من عناوين في الصحف السعودية الصادرة...\n",
       "1000487400529891328     مجموعة #العناية_بالشعر منتجات تحتوي على #زبدة...\n",
       "1001152483434160128     جديدناا️5 اطقم رجاليه حديد ساعه رجالي حديد فخ...\n",
       "1000903312978382849               اللهم أعذنا من عذاب القبر وعذاب جهنم  \n",
       "1000803590825488384     تنفيذ المشبات الحجر والرخام أفران_قرميد_طوب-ش...\n",
       "1000975849192075264     كريم #بلاك_فايتر الاصلي  لتاخير القذف بدون اي...\n",
       "1001191420852690944     يارب إن للصائم دعوة مستجابة عند فطره ، فأجعله...\n",
       "1000523587747500032     #الاتحاد_اكبر_عقد_رعايه #جوايز_السعوديه9 #ليف...\n",
       "1000440820821057537     عرض خاص10 قماش دنهال مع علبه وكيس دنهال صناعه...\n",
       "1000859060005154816     شاحن واير لس من انكر يدعم الايفون 8 و ايفون X...\n",
       "1001414469136904193     دنيا و مامتها بيعيدوا علي جورج سيدهم علشان عي...\n",
       "1000385385208332289     ساعة باتيك فيليب ساعات الزمرد 3 التوصيل خلال ...\n",
       "1000644161475895296     جديدنا 17 طقم نسائي  ساعه زايروس نسائي  ضمان ...\n",
       "Name: tweet_text, dtype: object"
      ]
     },
     "execution_count": 135,
     "metadata": {},
     "output_type": "execute_result"
    }
   ],
   "source": [
    "df_temp.tweet_text.sample(15, random_state=6)"
   ]
  },
  {
   "cell_type": "code",
   "execution_count": 136,
   "metadata": {},
   "outputs": [
    {
     "data": {
      "text/plain": [
       "tweetid\n",
       "1001191420852690944     يارب إن للصائم دعوة مستجابة عند فطره ، فأجعله...\n",
       "1001125595206561792         ┊┊┊┊┊مبدع ┊┊┊┊مميز ┊┊┊مغرد ┊┊متألق       ...\n",
       "1000975849192075264     كريم #بلاك_فايتر الاصلي  لتاخير القذف بدون اي...\n",
       "1001511046102822913     البخاخ الالماني #دراجون مؤخر القذف من اول مره...\n",
       "1000050679422029826                                                     \n",
       "1000803590825488384     تنفيذ المشبات الحجر والرخام أفران_قرميد_طوب-ش...\n",
       "1000808319865499649     شاحن متعدد معه ماطور هواء للكفر يشحن  جميع ال...\n",
       "1000621618530529281     !#تسديد_قروض الراجحي الاهلي 22 راتب سامبا الا...\n",
       "1000729335903514624     ترا المجامل بعض الاحيان مقبول يدخـل تحت منهـج...\n",
       "1001443851427606528     #تريكة_أسطورة_عربية  #صيفنا_في_تركيا_اخطر  #ع...\n",
       "1000859060005154816     شاحن واير لس من انكر يدعم الايفون 8 و ايفون X...\n",
       "1001560860110802944     ☜أقوى برنامج تخسيس في أوروبا والشرق الأوسط  ك...\n",
       "1000848835395059712                                ملامح في عُمق القلب*.\n",
       "1000440820821057537     عرض خاص10 قماش دنهال مع علبه وكيس دنهال صناعه...\n",
       "1000371012968599553     تصريح ياسمين صبري حول إتقانها اللغة الإسبانية...\n",
       "Name: tweet_text, dtype: object"
      ]
     },
     "execution_count": 136,
     "metadata": {},
     "output_type": "execute_result"
    }
   ],
   "source": [
    "df_temp.tweet_text.sample(15, random_state=7)"
   ]
  },
  {
   "cell_type": "code",
   "execution_count": 138,
   "metadata": {},
   "outputs": [
    {
     "data": {
      "text/plain": [
       "' #تريكة_أسطورة_عربية  #صيفنا_في_تركيا_اخطر  #عرس_الجميله_والوحش  #شركة _غسيل_سجاد #شركة_تنظيف_مجالس #شركة_تنظيف_كنب تعقيم و…'"
      ]
     },
     "execution_count": 138,
     "metadata": {},
     "output_type": "execute_result"
    }
   ],
   "source": [
    "df_temp.loc['1001443851427606528'].tweet_text"
   ]
  },
  {
   "cell_type": "code",
   "execution_count": 139,
   "metadata": {},
   "outputs": [
    {
     "data": {
      "text/plain": [
       "' كريم #بلاك_فايتر الاصلي  لتاخير القذف بدون اي آثار جانبيه للطلب 0542835579 السعر 180 ريال '"
      ]
     },
     "execution_count": 139,
     "metadata": {},
     "output_type": "execute_result"
    }
   ],
   "source": [
    "df_temp.loc['1000975849192075264'].tweet_text"
   ]
  },
  {
   "cell_type": "markdown",
   "metadata": {},
   "source": [
    "**NOTE:** Some of these hashtags are quite long. In the first example above, up to 6 words, separated by underscores."
   ]
  },
  {
   "cell_type": "markdown",
   "metadata": {},
   "source": [
    "### 5.4.1. Move Hashtags to New Column"
   ]
  },
  {
   "cell_type": "markdown",
   "metadata": {},
   "source": [
    "We will use a regex to find the hashtags and move them to a new column.\n",
    "\n",
    "Since Arabic is written from right to left, matching hashtags in Arabic using a regex means the reverse of how it's done in English texts."
   ]
  },
  {
   "cell_type": "code",
   "execution_count": 140,
   "metadata": {},
   "outputs": [],
   "source": [
    "# pattern to match 'reverse' hashtags\n",
    "pattern_hashtags = r'((?<!\\S)#\\S+)+'"
   ]
  },
  {
   "cell_type": "code",
   "execution_count": 141,
   "metadata": {},
   "outputs": [
    {
     "data": {
      "text/plain": [
       "' كريم hash الاصلي  لتاخير القذف بدون اي آثار جانبيه للطلب 0542835579 السعر 180 ريال '"
      ]
     },
     "execution_count": 141,
     "metadata": {},
     "output_type": "execute_result"
    }
   ],
   "source": [
    "re.sub(pattern_hashtags, 'hash', df_temp.tweet_text.loc['1000975849192075264'])"
   ]
  },
  {
   "cell_type": "markdown",
   "metadata": {},
   "source": [
    "This pattern works. Let's apply it to our df_temp:"
   ]
  },
  {
   "cell_type": "code",
   "execution_count": 142,
   "metadata": {},
   "outputs": [],
   "source": [
    "def find_hashtags(tweet_text):\n",
    "    hashtag_list = re.findall(pattern_hashtags, tweet_text)\n",
    "    if len(hashtag_list) == 0:\n",
    "        return np.nan\n",
    "    else:\n",
    "        return hashtag_list"
   ]
  },
  {
   "cell_type": "code",
   "execution_count": 143,
   "metadata": {},
   "outputs": [],
   "source": [
    "df_temp['hashtags'] = df_temp.tweet_text.apply(find_hashtags)"
   ]
  },
  {
   "cell_type": "code",
   "execution_count": 144,
   "metadata": {},
   "outputs": [
    {
     "data": {
      "text/plain": [
       "tweetid\n",
       "1000975849192075264                                        [#بلاك_فايتر]\n",
       "1000164119008497664    [#مصمم_ديكور, #ديكورات, #نيو_كلاسيك, #تصميم_دا...\n",
       "1000523587747500032    [#الاتحاد_اكبر_عقد_رعايه, #جوايز_السعوديه9, #ل...\n",
       "1001241675736469504                                                  NaN\n",
       "1000050679422029826                                                  NaN\n",
       "1001167653975789569                                  [#سروال_التورمالين]\n",
       "1000162954510327810                                                  NaN\n",
       "1001303244759535617    [#القولون_الهضمي, #الإمساك, #جرثومة_المعدة, #ا...\n",
       "1000839996901871617                                                  NaN\n",
       "1000487400529891328               [#العناية_بالشعر, #زبدة_الشيا, #الشيا]\n",
       "1001560860110802944                                                  NaN\n",
       "1000690962451124224    [#الارصاد, #اعصار_مكونو, #السعودية, #الصحف_الس...\n",
       "1001443851427606528    [#تريكة_أسطورة_عربية, #صيفنا_في_تركيا_اخطر, #ع...\n",
       "1001152483434160128                                                  NaN\n",
       "1001125595206561792                                                  NaN\n",
       "Name: hashtags, dtype: object"
      ]
     },
     "execution_count": 144,
     "metadata": {},
     "output_type": "execute_result"
    }
   ],
   "source": [
    "df_temp.hashtags.sample(15)"
   ]
  },
  {
   "cell_type": "code",
   "execution_count": 243,
   "metadata": {},
   "outputs": [
    {
     "data": {
      "text/plain": [
       "'انهيار الليرة التركية بعد تدخلات أردوغان.. وحجم الديون يتزايد! #تركيا #أردوغان #الليرة_التركية #الاقتصاد_التركي #هاشتاجات_العرب '"
      ]
     },
     "execution_count": 243,
     "metadata": {},
     "output_type": "execute_result"
    }
   ],
   "source": [
    "df_temp.loc['1003015938629951488'].tweet_text"
   ]
  },
  {
   "cell_type": "code",
   "execution_count": 244,
   "metadata": {},
   "outputs": [
    {
     "data": {
      "text/plain": [
       "['#تركيا',\n",
       " '#أردوغان',\n",
       " '#الليرة_التركية',\n",
       " '#الاقتصاد_التركي',\n",
       " '#هاشتاجات_العرب']"
      ]
     },
     "execution_count": 244,
     "metadata": {},
     "output_type": "execute_result"
    }
   ],
   "source": [
    "df_temp.loc['1003015938629951488'].hashtags"
   ]
  },
  {
   "cell_type": "markdown",
   "metadata": {},
   "source": [
    "**NOTE:** The formatting of .sample() and .head() is off so that it appears as if the hashtag is on the left of the word instead of on the right. This is just a display issue and not an actually problem. Important to keep in mind.\n",
    "\n",
    "**NOTE:** These two randomly extracted tweets illustrate important things about the contents of the tweets in our dataset. The first one is an ad for laser eye-correction, the second is clearly political and critical of Erdogan. It translates roughly as \n",
    "\n",
    "> *The collapse of the Turkish lira after Erdogan's interventions ... and the volume of debt is increasing!*"
   ]
  },
  {
   "cell_type": "markdown",
   "metadata": {},
   "source": [
    "Great, this is working for df_temp. Let's expand and apply to our entire ddf."
   ]
  },
  {
   "cell_type": "code",
   "execution_count": 146,
   "metadata": {},
   "outputs": [],
   "source": [
    "def extract_hashtags(df):\n",
    "    df['hashtags'] = df.tweet_text.apply(find_hashtags)\n",
    "    return df"
   ]
  },
  {
   "cell_type": "code",
   "execution_count": 147,
   "metadata": {},
   "outputs": [],
   "source": [
    "ddf = ddf.map_partitions(extract_hashtags).persist()"
   ]
  },
  {
   "cell_type": "code",
   "execution_count": 148,
   "metadata": {},
   "outputs": [
    {
     "data": {
      "text/html": [
       "<div>\n",
       "<style scoped>\n",
       "    .dataframe tbody tr th:only-of-type {\n",
       "        vertical-align: middle;\n",
       "    }\n",
       "\n",
       "    .dataframe tbody tr th {\n",
       "        vertical-align: top;\n",
       "    }\n",
       "\n",
       "    .dataframe thead th {\n",
       "        text-align: right;\n",
       "    }\n",
       "</style>\n",
       "<table border=\"1\" class=\"dataframe\">\n",
       "  <thead>\n",
       "    <tr style=\"text-align: right;\">\n",
       "      <th></th>\n",
       "      <th>userid</th>\n",
       "      <th>user_screen_name</th>\n",
       "      <th>follower_count</th>\n",
       "      <th>following_count</th>\n",
       "      <th>tweet_language</th>\n",
       "      <th>tweet_text</th>\n",
       "      <th>tweet_time</th>\n",
       "      <th>tweet_client_name</th>\n",
       "      <th>is_retweet</th>\n",
       "      <th>retweet_userid</th>\n",
       "      <th>retweet_tweetid</th>\n",
       "      <th>retweet_user_screen_name</th>\n",
       "      <th>hashtags</th>\n",
       "    </tr>\n",
       "    <tr>\n",
       "      <th>tweetid</th>\n",
       "      <th></th>\n",
       "      <th></th>\n",
       "      <th></th>\n",
       "      <th></th>\n",
       "      <th></th>\n",
       "      <th></th>\n",
       "      <th></th>\n",
       "      <th></th>\n",
       "      <th></th>\n",
       "      <th></th>\n",
       "      <th></th>\n",
       "      <th></th>\n",
       "      <th></th>\n",
       "    </tr>\n",
       "  </thead>\n",
       "  <tbody>\n",
       "    <tr>\n",
       "      <th>1009346032596070401</th>\n",
       "      <td>CGglXh1nikyRGa29EEe1F2FAhhkOQ0Z6OlKB5vmS8=</td>\n",
       "      <td>CGglXh1nikyRGa29EEe1F2FAhhkOQ0Z6OlKB5vmS8=</td>\n",
       "      <td>4540</td>\n",
       "      <td>4732</td>\n",
       "      <td>ar</td>\n",
       "      <td>#عروض #الليزك #اللازك #تصحيح_النظر #تشطيب_الن...</td>\n",
       "      <td>2018-06-20 08:03:00</td>\n",
       "      <td>Twitter for Android</td>\n",
       "      <td>True</td>\n",
       "      <td>NaN</td>\n",
       "      <td>1.009167e+18</td>\n",
       "      <td>o4g_vv</td>\n",
       "      <td>[#عروض, #الليزك, #اللازك, #تصحيح_النظر, #تشطيب...</td>\n",
       "    </tr>\n",
       "    <tr>\n",
       "      <th>1011524952007331840</th>\n",
       "      <td>urO+NoCFhGNMfK3o4hfFvmKE9W3swxGbRkMLvanBUz8=</td>\n",
       "      <td>urO+NoCFhGNMfK3o4hfFvmKE9W3swxGbRkMLvanBUz8=</td>\n",
       "      <td>1693</td>\n",
       "      <td>629</td>\n",
       "      <td>ar</td>\n",
       "      <td>لا</td>\n",
       "      <td>2018-06-26 08:21:00</td>\n",
       "      <td>Twitter for Android</td>\n",
       "      <td>False</td>\n",
       "      <td>NaN</td>\n",
       "      <td>NaN</td>\n",
       "      <td>NaN</td>\n",
       "      <td>NaN</td>\n",
       "    </tr>\n",
       "    <tr>\n",
       "      <th>1015996262838087680</th>\n",
       "      <td>nU+LdjgIh5dXaoPkSqQn1BdPRpiqC6mXXCYaCRSRI8=</td>\n",
       "      <td>nU+LdjgIh5dXaoPkSqQn1BdPRpiqC6mXXCYaCRSRI8=</td>\n",
       "      <td>2701</td>\n",
       "      <td>4232</td>\n",
       "      <td>ar</td>\n",
       "      <td>“وَلَوْ أهدَوْا كنوز الكونِ .. فلا تعني لنا أ...</td>\n",
       "      <td>2018-07-08 16:29:00</td>\n",
       "      <td>Twitter for iPhone</td>\n",
       "      <td>True</td>\n",
       "      <td>NaN</td>\n",
       "      <td>1.015167e+18</td>\n",
       "      <td>ad_asd85</td>\n",
       "      <td>[#تويت_فلسطينى]</td>\n",
       "    </tr>\n",
       "    <tr>\n",
       "      <th>1018691265460875266</th>\n",
       "      <td>765562015180001280</td>\n",
       "      <td>3366Zss</td>\n",
       "      <td>5774</td>\n",
       "      <td>6543</td>\n",
       "      <td>ar</td>\n",
       "      <td>• - قال العلامة ابن عثيمين • - عليه رحمات رب ...</td>\n",
       "      <td>2018-07-16 02:58:00</td>\n",
       "      <td>Twitter for iPhone</td>\n",
       "      <td>True</td>\n",
       "      <td>NaN</td>\n",
       "      <td>1.018450e+18</td>\n",
       "      <td>13_mrm</td>\n",
       "      <td>NaN</td>\n",
       "    </tr>\n",
       "    <tr>\n",
       "      <th>1019273039018692613</th>\n",
       "      <td>xSOhWuOuq1LzRUfZ9Mm3SS2fmHBeDktWxBVDBRzNvQ=</td>\n",
       "      <td>xSOhWuOuq1LzRUfZ9Mm3SS2fmHBeDktWxBVDBRzNvQ=</td>\n",
       "      <td>866</td>\n",
       "      <td>49</td>\n",
       "      <td>ar</td>\n",
       "      <td>#أحيانا  تحتاج قلوبنا گل فترة أن ننفضها مثل م...</td>\n",
       "      <td>2018-07-17 17:30:00</td>\n",
       "      <td>Twitter for iPhone</td>\n",
       "      <td>True</td>\n",
       "      <td>NaN</td>\n",
       "      <td>1.019259e+18</td>\n",
       "      <td>hanan_13_DZ</td>\n",
       "      <td>[#أحيانا]</td>\n",
       "    </tr>\n",
       "    <tr>\n",
       "      <th>...</th>\n",
       "      <td>...</td>\n",
       "      <td>...</td>\n",
       "      <td>...</td>\n",
       "      <td>...</td>\n",
       "      <td>...</td>\n",
       "      <td>...</td>\n",
       "      <td>...</td>\n",
       "      <td>...</td>\n",
       "      <td>...</td>\n",
       "      <td>...</td>\n",
       "      <td>...</td>\n",
       "      <td>...</td>\n",
       "      <td>...</td>\n",
       "    </tr>\n",
       "    <tr>\n",
       "      <th>960941436261863425</th>\n",
       "      <td>480758910</td>\n",
       "      <td>mutfaell1</td>\n",
       "      <td>814247</td>\n",
       "      <td>663230</td>\n",
       "      <td>ar</td>\n",
       "      <td>تعاني من سمنة مفرطة  لا تستطيع تحمل أنظمة الح...</td>\n",
       "      <td>2018-02-06 18:21:00</td>\n",
       "      <td>Twitter for Android</td>\n",
       "      <td>True</td>\n",
       "      <td>NaN</td>\n",
       "      <td>9.609338e+17</td>\n",
       "      <td>qh4O9oDZSorckZH</td>\n",
       "      <td>NaN</td>\n",
       "    </tr>\n",
       "    <tr>\n",
       "      <th>981247832148664320</th>\n",
       "      <td>948302862098092034</td>\n",
       "      <td>y_44a_</td>\n",
       "      <td>9007</td>\n",
       "      <td>8821</td>\n",
       "      <td>ar</td>\n",
       "      <td>#تسديد_قروض_بنكية  #الرياض_جميع_المناطق الراج...</td>\n",
       "      <td>2018-04-03 19:11:00</td>\n",
       "      <td>Twitter for iPhone</td>\n",
       "      <td>True</td>\n",
       "      <td>NaN</td>\n",
       "      <td>9.806776e+17</td>\n",
       "      <td>tsdeed_qd</td>\n",
       "      <td>[#تسديد_قروض_بنكية, #الرياض_جميع_المناطق, #سدا...</td>\n",
       "    </tr>\n",
       "    <tr>\n",
       "      <th>984131614698541056</th>\n",
       "      <td>QnYdRpeAMpwbn7LLxUNW7jtCKAwjAK8Li0MotarE324=</td>\n",
       "      <td>QnYdRpeAMpwbn7LLxUNW7jtCKAwjAK8Li0MotarE324=</td>\n",
       "      <td>3967</td>\n",
       "      <td>5079</td>\n",
       "      <td>ar</td>\n",
       "      <td>#التمر يحتوي على كالسيلينيوم والمنغنيز والنحا...</td>\n",
       "      <td>2018-04-11 18:10:00</td>\n",
       "      <td>Twitter for iPhone</td>\n",
       "      <td>True</td>\n",
       "      <td>NaN</td>\n",
       "      <td>9.838218e+17</td>\n",
       "      <td>lcb6s</td>\n",
       "      <td>[#التمر]</td>\n",
       "    </tr>\n",
       "    <tr>\n",
       "      <th>985640394670174215</th>\n",
       "      <td>448366650</td>\n",
       "      <td>hassin1937</td>\n",
       "      <td>30529</td>\n",
       "      <td>7265</td>\n",
       "      <td>ar</td>\n",
       "      <td>المهذري يهذري مع شديد الصخونه سبعة سنين الاه...</td>\n",
       "      <td>2018-04-15 22:05:00</td>\n",
       "      <td>Twitter for iPhone</td>\n",
       "      <td>True</td>\n",
       "      <td>NaN</td>\n",
       "      <td>9.855993e+17</td>\n",
       "      <td>yaser_515</td>\n",
       "      <td>NaN</td>\n",
       "    </tr>\n",
       "    <tr>\n",
       "      <th>989120453154353153</th>\n",
       "      <td>ymky5geGFEAYlrqmWFvPrEU3yRc1DD3jpwfC4LXACic=</td>\n",
       "      <td>ymky5geGFEAYlrqmWFvPrEU3yRc1DD3jpwfC4LXACic=</td>\n",
       "      <td>3863</td>\n",
       "      <td>4707</td>\n",
       "      <td>ar</td>\n",
       "      <td>الف سلامة على حضرتك  هل قمت باى اجراء طبى من...</td>\n",
       "      <td>2018-04-25 12:34:00</td>\n",
       "      <td>Twitter for Android</td>\n",
       "      <td>True</td>\n",
       "      <td>NaN</td>\n",
       "      <td>9.887955e+17</td>\n",
       "      <td>basemhenri</td>\n",
       "      <td>NaN</td>\n",
       "    </tr>\n",
       "  </tbody>\n",
       "</table>\n",
       "<p>244 rows × 13 columns</p>\n",
       "</div>"
      ],
      "text/plain": [
       "                                                           userid  \\\n",
       "tweetid                                                             \n",
       "1009346032596070401    CGglXh1nikyRGa29EEe1F2FAhhkOQ0Z6OlKB5vmS8=   \n",
       "1011524952007331840  urO+NoCFhGNMfK3o4hfFvmKE9W3swxGbRkMLvanBUz8=   \n",
       "1015996262838087680   nU+LdjgIh5dXaoPkSqQn1BdPRpiqC6mXXCYaCRSRI8=   \n",
       "1018691265460875266                            765562015180001280   \n",
       "1019273039018692613   xSOhWuOuq1LzRUfZ9Mm3SS2fmHBeDktWxBVDBRzNvQ=   \n",
       "...                                                           ...   \n",
       "960941436261863425                                      480758910   \n",
       "981247832148664320                             948302862098092034   \n",
       "984131614698541056   QnYdRpeAMpwbn7LLxUNW7jtCKAwjAK8Li0MotarE324=   \n",
       "985640394670174215                                      448366650   \n",
       "989120453154353153   ymky5geGFEAYlrqmWFvPrEU3yRc1DD3jpwfC4LXACic=   \n",
       "\n",
       "                                                 user_screen_name  \\\n",
       "tweetid                                                             \n",
       "1009346032596070401    CGglXh1nikyRGa29EEe1F2FAhhkOQ0Z6OlKB5vmS8=   \n",
       "1011524952007331840  urO+NoCFhGNMfK3o4hfFvmKE9W3swxGbRkMLvanBUz8=   \n",
       "1015996262838087680   nU+LdjgIh5dXaoPkSqQn1BdPRpiqC6mXXCYaCRSRI8=   \n",
       "1018691265460875266                                       3366Zss   \n",
       "1019273039018692613   xSOhWuOuq1LzRUfZ9Mm3SS2fmHBeDktWxBVDBRzNvQ=   \n",
       "...                                                           ...   \n",
       "960941436261863425                                      mutfaell1   \n",
       "981247832148664320                                         y_44a_   \n",
       "984131614698541056   QnYdRpeAMpwbn7LLxUNW7jtCKAwjAK8Li0MotarE324=   \n",
       "985640394670174215                                     hassin1937   \n",
       "989120453154353153   ymky5geGFEAYlrqmWFvPrEU3yRc1DD3jpwfC4LXACic=   \n",
       "\n",
       "                     follower_count  following_count tweet_language  \\\n",
       "tweetid                                                               \n",
       "1009346032596070401            4540             4732             ar   \n",
       "1011524952007331840            1693              629             ar   \n",
       "1015996262838087680            2701             4232             ar   \n",
       "1018691265460875266            5774             6543             ar   \n",
       "1019273039018692613             866               49             ar   \n",
       "...                             ...              ...            ...   \n",
       "960941436261863425           814247           663230             ar   \n",
       "981247832148664320             9007             8821             ar   \n",
       "984131614698541056             3967             5079             ar   \n",
       "985640394670174215            30529             7265             ar   \n",
       "989120453154353153             3863             4707             ar   \n",
       "\n",
       "                                                            tweet_text  \\\n",
       "tweetid                                                                  \n",
       "1009346032596070401   #عروض #الليزك #اللازك #تصحيح_النظر #تشطيب_الن...   \n",
       "1011524952007331840                                                 لا   \n",
       "1015996262838087680   “وَلَوْ أهدَوْا كنوز الكونِ .. فلا تعني لنا أ...   \n",
       "1018691265460875266   • - قال العلامة ابن عثيمين • - عليه رحمات رب ...   \n",
       "1019273039018692613   #أحيانا  تحتاج قلوبنا گل فترة أن ننفضها مثل م...   \n",
       "...                                                                ...   \n",
       "960941436261863425    تعاني من سمنة مفرطة  لا تستطيع تحمل أنظمة الح...   \n",
       "981247832148664320    #تسديد_قروض_بنكية  #الرياض_جميع_المناطق الراج...   \n",
       "984131614698541056    #التمر يحتوي على كالسيلينيوم والمنغنيز والنحا...   \n",
       "985640394670174215     المهذري يهذري مع شديد الصخونه سبعة سنين الاه...   \n",
       "989120453154353153     الف سلامة على حضرتك  هل قمت باى اجراء طبى من...   \n",
       "\n",
       "                             tweet_time    tweet_client_name  is_retweet  \\\n",
       "tweetid                                                                    \n",
       "1009346032596070401 2018-06-20 08:03:00  Twitter for Android        True   \n",
       "1011524952007331840 2018-06-26 08:21:00  Twitter for Android       False   \n",
       "1015996262838087680 2018-07-08 16:29:00   Twitter for iPhone        True   \n",
       "1018691265460875266 2018-07-16 02:58:00   Twitter for iPhone        True   \n",
       "1019273039018692613 2018-07-17 17:30:00   Twitter for iPhone        True   \n",
       "...                                 ...                  ...         ...   \n",
       "960941436261863425  2018-02-06 18:21:00  Twitter for Android        True   \n",
       "981247832148664320  2018-04-03 19:11:00   Twitter for iPhone        True   \n",
       "984131614698541056  2018-04-11 18:10:00   Twitter for iPhone        True   \n",
       "985640394670174215  2018-04-15 22:05:00   Twitter for iPhone        True   \n",
       "989120453154353153  2018-04-25 12:34:00  Twitter for Android        True   \n",
       "\n",
       "                    retweet_userid  retweet_tweetid retweet_user_screen_name  \\\n",
       "tweetid                                                                        \n",
       "1009346032596070401            NaN     1.009167e+18                   o4g_vv   \n",
       "1011524952007331840            NaN              NaN                      NaN   \n",
       "1015996262838087680            NaN     1.015167e+18                 ad_asd85   \n",
       "1018691265460875266            NaN     1.018450e+18                   13_mrm   \n",
       "1019273039018692613            NaN     1.019259e+18              hanan_13_DZ   \n",
       "...                            ...              ...                      ...   \n",
       "960941436261863425             NaN     9.609338e+17          qh4O9oDZSorckZH   \n",
       "981247832148664320             NaN     9.806776e+17                tsdeed_qd   \n",
       "984131614698541056             NaN     9.838218e+17                    lcb6s   \n",
       "985640394670174215             NaN     9.855993e+17                yaser_515   \n",
       "989120453154353153             NaN     9.887955e+17               basemhenri   \n",
       "\n",
       "                                                              hashtags  \n",
       "tweetid                                                                 \n",
       "1009346032596070401  [#عروض, #الليزك, #اللازك, #تصحيح_النظر, #تشطيب...  \n",
       "1011524952007331840                                                NaN  \n",
       "1015996262838087680                                    [#تويت_فلسطينى]  \n",
       "1018691265460875266                                                NaN  \n",
       "1019273039018692613                                          [#أحيانا]  \n",
       "...                                                                ...  \n",
       "960941436261863425                                                 NaN  \n",
       "981247832148664320   [#تسديد_قروض_بنكية, #الرياض_جميع_المناطق, #سدا...  \n",
       "984131614698541056                                            [#التمر]  \n",
       "985640394670174215                                                 NaN  \n",
       "989120453154353153                                                 NaN  \n",
       "\n",
       "[244 rows x 13 columns]"
      ]
     },
     "execution_count": 148,
     "metadata": {},
     "output_type": "execute_result"
    }
   ],
   "source": [
    "ddf.sample(frac=0.00001, random_state=1).compute()"
   ]
  },
  {
   "cell_type": "markdown",
   "metadata": {},
   "source": [
    "This looks like it worked.\n",
    "\n",
    "Let's double-check by having a look at the tweet_text for entries that have NaN in the hashtags column:"
   ]
  },
  {
   "cell_type": "code",
   "execution_count": 149,
   "metadata": {},
   "outputs": [],
   "source": [
    "text = ddf.loc['1005851382082166785'].tweet_text.compute()"
   ]
  },
  {
   "cell_type": "code",
   "execution_count": 150,
   "metadata": {},
   "outputs": [
    {
     "data": {
      "text/plain": [
       "' اللهم انت ربي لا اله الا انت خلقتني وانا عبدك وانا على عهدك ووعدك ما استطعت اعوذ بك من شر ماصنعت ابوء لك بنعمتك علي وابوء بذن…'"
      ]
     },
     "execution_count": 150,
     "metadata": {},
     "output_type": "execute_result"
    }
   ],
   "source": [
    "text[0]"
   ]
  },
  {
   "cell_type": "code",
   "execution_count": 151,
   "metadata": {},
   "outputs": [
    {
     "data": {
      "text/plain": [
       "[]"
      ]
     },
     "execution_count": 151,
     "metadata": {},
     "output_type": "execute_result"
    }
   ],
   "source": [
    "re.findall(r'#', text[0])"
   ]
  },
  {
   "cell_type": "markdown",
   "metadata": {},
   "source": [
    "Perfect."
   ]
  },
  {
   "cell_type": "markdown",
   "metadata": {},
   "source": [
    "### 5.4.2. Removing Hashtags and Underscores \n",
    "\n",
    "Let's replace any hashtags and underscores with a space in the tweet_text column. In the hashtags column, we remove the # and replace only the underscore with a space. \n",
    "\n",
    "This way we keep the words of the hashtags (to go into our topic modelling) but remove the non-letter characters."
   ]
  },
  {
   "cell_type": "code",
   "execution_count": 152,
   "metadata": {},
   "outputs": [],
   "source": [
    "# define function to sub underscores and hashtags with space\n",
    "def remove_hashtags_underscores(tweet_text):\n",
    "    return re.sub(r'[_#]', \" \", tweet_text)"
   ]
  },
  {
   "cell_type": "code",
   "execution_count": 153,
   "metadata": {},
   "outputs": [],
   "source": [
    "# define funtion to clean each partition\n",
    "def clean_hashtags_underscores(df):\n",
    "    df.tweet_text = df.tweet_text.apply(remove_hashtags_underscores) \n",
    "    \n",
    "    for index in range(0, len(df)): \n",
    "        list_hashtags = df.hashtags.iloc[index]\n",
    "        if type(list_hashtags) == list:\n",
    "            for index in range (0, len(list_hashtags)):\n",
    "                list_hashtags[index] = re.sub(r'_', \" \", list_hashtags[index]) \n",
    "                list_hashtags[index] = re.sub(r'#', \"\", list_hashtags[index])\n",
    "        else:\n",
    "            pass \n",
    "    return df"
   ]
  },
  {
   "cell_type": "markdown",
   "metadata": {},
   "source": [
    "Let's test on a subset of ddf first."
   ]
  },
  {
   "cell_type": "code",
   "execution_count": 154,
   "metadata": {},
   "outputs": [],
   "source": [
    "df_temp = ddf.sample(frac=0.0001, random_state=1).compute()"
   ]
  },
  {
   "cell_type": "code",
   "execution_count": 155,
   "metadata": {},
   "outputs": [],
   "source": [
    "df_temp2 = df_temp.copy()"
   ]
  },
  {
   "cell_type": "code",
   "execution_count": 158,
   "metadata": {},
   "outputs": [
    {
     "data": {
      "text/plain": [
       "userid                                                              499971841\n",
       "user_screen_name                                               Alwatansupport\n",
       "follower_count                                                         115985\n",
       "following_count                                                        102456\n",
       "tweet_language                                                             ar\n",
       "tweet_text                   شارك معنا بالسناب واربح جلسة مساج مجاناً يوم ...\n",
       "tweet_time                                                2017-05-03 00:53:00\n",
       "tweet_client_name                                         Twitter for Android\n",
       "is_retweet                                                               True\n",
       "retweet_userid                                                            NaN\n",
       "retweet_tweetid                                          777445506121433088.0\n",
       "retweet_user_screen_name                                         knights_rest\n",
       "hashtags                         [#مساج, #حمام_مغربي, #مسابقة_تصوير, #مسابقة]\n",
       "Name: 859571653029879808, dtype: object"
      ]
     },
     "execution_count": 158,
     "metadata": {},
     "output_type": "execute_result"
    }
   ],
   "source": [
    "df_temp2.loc['859571653029879808']"
   ]
  },
  {
   "cell_type": "code",
   "execution_count": 159,
   "metadata": {},
   "outputs": [],
   "source": [
    "clean_hashtags_underscores(df_temp2);"
   ]
  },
  {
   "cell_type": "code",
   "execution_count": 161,
   "metadata": {},
   "outputs": [
    {
     "data": {
      "text/plain": [
       "userid                                                              499971841\n",
       "user_screen_name                                               Alwatansupport\n",
       "follower_count                                                         115985\n",
       "following_count                                                        102456\n",
       "tweet_language                                                             ar\n",
       "tweet_text                   شارك معنا بالسناب واربح جلسة مساج مجاناً يوم ...\n",
       "tweet_time                                                2017-05-03 00:53:00\n",
       "tweet_client_name                                         Twitter for Android\n",
       "is_retweet                                                               True\n",
       "retweet_userid                                                            NaN\n",
       "retweet_tweetid                                          777445506121433088.0\n",
       "retweet_user_screen_name                                         knights_rest\n",
       "hashtags                             [مساج, حمام مغربي, مسابقة تصوير, مسابقة]\n",
       "Name: 859571653029879808, dtype: object"
      ]
     },
     "execution_count": 161,
     "metadata": {},
     "output_type": "execute_result"
    }
   ],
   "source": [
    "df_temp2.loc['859571653029879808']"
   ]
  },
  {
   "cell_type": "code",
   "execution_count": 162,
   "metadata": {},
   "outputs": [
    {
     "data": {
      "text/plain": [
       "'مسابقة تصوير'"
      ]
     },
     "execution_count": 162,
     "metadata": {},
     "output_type": "execute_result"
    }
   ],
   "source": [
    "df_temp2.loc['859571653029879808'].hashtags[2]"
   ]
  },
  {
   "cell_type": "markdown",
   "metadata": {},
   "source": [
    "OK, this works. Let's map to our ddf partitions:"
   ]
  },
  {
   "cell_type": "code",
   "execution_count": 163,
   "metadata": {},
   "outputs": [],
   "source": [
    "ddf = ddf.map_partitions(clean_hashtags_underscores).persist()"
   ]
  },
  {
   "cell_type": "code",
   "execution_count": 164,
   "metadata": {},
   "outputs": [
    {
     "data": {
      "text/plain": [
       "tweetid\n",
       "1000000000447930368                                                  NaN\n",
       "1000000030391095297    [للتأجير, لبيع النطيطات, زحاليق مائيه صابونية,...\n",
       "1000000039362662400    [مظلات, آفاق الرياض, مظلات استراحات, مظلات مسا...\n",
       "1000000054911033344                                                  NaN\n",
       "1000000204865789954                                                  NaN\n",
       "1000000215598891008    [تخفيضات, دانة المسك للعود, الرياض, الدائري ال...\n",
       "1000000242165714944                  [سرطان الثدي, سرطان البنكرياس, سر…]\n",
       "1000000262315094022                                   [مع السفرة, حلقا…]\n",
       "1000000271492288512                                         [تسديد قروض]\n",
       "1000000325586169856                                                  NaN\n",
       "Name: hashtags, dtype: object"
      ]
     },
     "execution_count": 164,
     "metadata": {},
     "output_type": "execute_result"
    }
   ],
   "source": [
    "ddf.partitions[0].hashtags.head(10)"
   ]
  },
  {
   "cell_type": "markdown",
   "metadata": {},
   "source": [
    "Done."
   ]
  },
  {
   "cell_type": "markdown",
   "metadata": {},
   "source": [
    "## 5.5. Final Cleaning Tweet_Text Column\n",
    "\n",
    "Now that we've dealth with hashtags, we still have to clean:\n",
    "- digits\n",
    "- some non-character icons\n",
    "- some random latin characters\n",
    "\n",
    "We could also try doing this all in one go by removing any non-arabic text. \n",
    "Let's try that on a subset of ddf first."
   ]
  },
  {
   "cell_type": "code",
   "execution_count": 165,
   "metadata": {},
   "outputs": [],
   "source": [
    "df_temp = ddf.sample(frac=0.0001, random_state=21).compute()"
   ]
  },
  {
   "cell_type": "code",
   "execution_count": 166,
   "metadata": {},
   "outputs": [
    {
     "data": {
      "text/plain": [
       "tweetid\n",
       "1093296731670921217     اللَّهُمَ أنْت رَبي لا إلَهَ إلا أَنْت خَلَقت...\n",
       "926446895194615808      عروض بداية العام الجديد   ⁧ الضرم750⁩ريال  1-...\n",
       "1113744665583472640     خادمات وجميع المهن المنزلية من الفلبين وصول ٤...\n",
       "1157840291140968448     كل شْيُء أتَرُكه خِلْفيُ لْأَ أعود إلْيُهُ ، ...\n",
       "708589958542573568      مخيم VIP  بروضة خريم   للحجز : 0533303874   ر...\n",
       "505748895985463296      هناك أموات لم تمت كلماتهم وهناك أحياء لم نسمع...\n",
       "1060597280389115904     بمناسبة قدوم فصل الشتاء  عزل اسطح خزانات مساب...\n",
       "1104441862587322370     جعلوا من الخوف طاعة .. ومن الجوع قناعة .! ظلا...\n",
       "806384247909076993      عملائنا الكرام  الآن ولفترة محدودةاستفيدوا من...\n",
       "899288848701808641      طرق بسيطة وفعالة في خلق جو من الاختلاف في منز...\n",
       "835842101141192704       شركة تنظيف فلل0509760904   شركة تنظيف شقق   ...\n",
       "698613681282772994                  نشالين الترند حفله السهرة يلا شاركو \n",
       "738825767203840001      كفر LuMee للايفون 6 و ايفون 6p  متوفر بالاسود...\n",
       "1058114883923906562     وداعاً لمشاكل  القولون للإمساك والإسهال وارتج...\n",
       "1073688278744907777                                   قلعة الوافي للدعم \n",
       "Name: tweet_text, dtype: object"
      ]
     },
     "execution_count": 166,
     "metadata": {},
     "output_type": "execute_result"
    }
   ],
   "source": [
    "df_temp.tweet_text.sample(15, random_state=2)"
   ]
  },
  {
   "cell_type": "markdown",
   "metadata": {},
   "source": [
    "We're using a regex pattern found in [this SO thread](https://stackoverflow.com/questions/11323596/regular-expression-for-arabic-language) to eliminate all non-Arabic characters from the tweet_text bodies."
   ]
  },
  {
   "cell_type": "code",
   "execution_count": 167,
   "metadata": {},
   "outputs": [],
   "source": [
    "pattern_notArabic = r'[^\\u0620-\\u065f]+'"
   ]
  },
  {
   "cell_type": "code",
   "execution_count": 168,
   "metadata": {},
   "outputs": [],
   "source": [
    "def remove_nonArabic_characters(tweet_text):\n",
    "    try:\n",
    "        t = re.sub(pattern_notArabic, ' ', tweet_text)\n",
    "        return t\n",
    "    except:\n",
    "        pass\n"
   ]
  },
  {
   "cell_type": "code",
   "execution_count": 169,
   "metadata": {},
   "outputs": [],
   "source": [
    "def tweet_text_finalsweep(df):\n",
    "    df.tweet_text = df.tweet_text.apply(remove_nonArabic_characters)\n",
    "    return df"
   ]
  },
  {
   "cell_type": "code",
   "execution_count": 170,
   "metadata": {},
   "outputs": [],
   "source": [
    "# remove all non-Arabic characters\n",
    "df_temp.tweet_text = df_temp.tweet_text.apply(remove_nonArabic_characters)"
   ]
  },
  {
   "cell_type": "code",
   "execution_count": 171,
   "metadata": {},
   "outputs": [
    {
     "data": {
      "text/plain": [
       "tweetid\n",
       "1093296731670921217     اللَّهُمَ أنْت رَبي لا إلَهَ إلا أَنْت خَلَقت...\n",
       "926446895194615808      عروض بداية العام الجديد الضرم ريال السدر ريال...\n",
       "1113744665583472640     خادمات وجميع المهن المنزلية من الفلبين وصول ي...\n",
       "1157840291140968448     كل شْيُء أتَرُكه خِلْفيُ لْأَ أعود إلْيُهُ قُ...\n",
       "708589958542573568       مخيم بروضة خريم للحجز روضة خريم الاهلي القادسيه\n",
       "505748895985463296      هناك أموات لم تمت كلماتهم وهناك أحياء لم نسمع...\n",
       "1060597280389115904     بمناسبة قدوم فصل الشتاء عزل اسطح خزانات مسابح...\n",
       "1104441862587322370     جعلوا من الخوف طاعة ومن الجوع قناعة ظلام في ا...\n",
       "806384247909076993      عملائنا الكرام الآن ولفترة محدودةاستفيدوا من ...\n",
       "899288848701808641      طرق بسيطة وفعالة في خلق جو من الاختلاف في منز...\n",
       "835842101141192704      شركة تنظيف فلل شركة تنظيف شقق تنظيف مجالس تنظ...\n",
       "698613681282772994                  نشالين الترند حفله السهرة يلا شاركو \n",
       "738825767203840001      كفر للايفون و ايفون متوفر بالاسود والذهبي وال...\n",
       "1058114883923906562     وداعاً لمشاكل القولون للإمساك والإسهال وارتجا...\n",
       "1073688278744907777                                   قلعة الوافي للدعم \n",
       "Name: tweet_text, dtype: object"
      ]
     },
     "execution_count": 171,
     "metadata": {},
     "output_type": "execute_result"
    }
   ],
   "source": [
    "df_temp.tweet_text.sample(15, random_state=2)"
   ]
  },
  {
   "cell_type": "code",
   "execution_count": 172,
   "metadata": {},
   "outputs": [
    {
     "data": {
      "text/plain": [
       "tweetid\n",
       "818754471006236672      ليس النجاح القوي ضحية ظروفه فهو يخلق الظروف ا...\n",
       "1170898381453090817     هذا الـ فيديو يستحق ان يراه كل موظف وكل مدير ...\n",
       "1113414510348525570     المبدعونللبحث العلمي للاستفسار اضغط بروبوزال ...\n",
       "1102568060810977280     اقسم بالله انه عسل سدر طبيعي من منحلي الخاص ف...\n",
       "848816215049084928      لدينا تمويل عقاري بدون دفعة أولى وسداد المديو...\n",
       "1200824869224628224     ياشاري الدلّه وبيض الفناجيل دوّر لها مجلس على...\n",
       "1026775850195275776     الشخصية المحورية في الحملة الكندية التي استهد...\n",
       "1105573619760025600     لانكوم لا نوت تريزور أ لا فولي لو عطر دافئ بر...\n",
       "560025686904012803      بعض السعوديين اللي بالتويتر يشوفون الفلو من ب...\n",
       "1104485410053459968     سهلنا عليك اختيارك العائلي خدمات فندقية جلسات...\n",
       "1125522733784285185     ساعة هوبلو رجالي التوصيل خلال ساعه الرياض خار...\n",
       "793699789636505600      تسديد قروض بنكية الراجحي راتب الاهلي راتب الع...\n",
       "1104146812078837760     سؤال السحب على السيارة الثانية مع شرط متابعة ...\n",
       "825413554232840193      الحين تَرجع لي وتَنثر حَنينك ما عاد يمديني ول...\n",
       "1118927997317320705     اكثر انسان مرتاح اللي ينام بالازعاج خلوا عنكم...\n",
       "Name: tweet_text, dtype: object"
      ]
     },
     "execution_count": 172,
     "metadata": {},
     "output_type": "execute_result"
    }
   ],
   "source": [
    "df_temp.tweet_text.sample(15, random_state=14)"
   ]
  },
  {
   "cell_type": "markdown",
   "metadata": {},
   "source": [
    "Done, now let's apply to ddf:"
   ]
  },
  {
   "cell_type": "code",
   "execution_count": 174,
   "metadata": {},
   "outputs": [],
   "source": [
    "ddf = ddf.map_partitions(tweet_text_finalsweep).persist()"
   ]
  },
  {
   "cell_type": "code",
   "execution_count": 175,
   "metadata": {},
   "outputs": [
    {
     "data": {
      "text/plain": [
       "tweetid\n",
       "1000858610753327104      دعاء الجلسة بين السجدتين رب اغفر لي رب اغفر لي \n",
       "1000646766260256768     شركة تنظيف منازل بالسليمانيه شركه غسيل خزانات...\n",
       "1000542120820822016     عيونك أجمل وأحلي بدون نظارة طبية مع تصحيح الن...\n",
       "1000296152816865281     حساب مهتم بالسياحه بالمملكه و خاصه ابها وظايف...\n",
       "1001182832788729857     العيد مابقى عليه الا اقل من شهر مو متحمسه تطل...\n",
       "1000170398829498368     كفرات لويس فيتون ماركة وجودة عاليه جدا لجميع ...\n",
       "1000896205193469957     مهما حصلك في حياتك خليك دايما واثق ان ربنا شا...\n",
       "1000929696480223232     لدينا طاقم من أفضل الفنيين والمعدات في خدمتكم...\n",
       "1000214068442132482    اللهم إني أسألك علماً نافعاً ورزقاً طيباً وعمل...\n",
       "1000972633847058432     الدعاء لجنودنا في شهر رمضان شركة تنظيف قصور ش...\n",
       "Name: tweet_text, dtype: object"
      ]
     },
     "execution_count": 175,
     "metadata": {},
     "output_type": "execute_result"
    }
   ],
   "source": [
    "ddf.tweet_text.sample(frac=0.001, random_state=7).head(10)"
   ]
  },
  {
   "cell_type": "markdown",
   "metadata": {},
   "source": [
    "## 5.6. Drop Rows with Empty Tweet_Text Columns\n",
    "\n",
    "We have removed all:\n",
    "- emojis\n",
    "- mentions\n",
    "- URLs\n",
    "- hashtags\n",
    "- digits\n",
    "- non-Arabic characters\n",
    "\n",
    "We can now proceed to drop any rows that have an empty tweet_text column. These should be the entries that have tweet_language = 'undefined' and that only contained emoji's, mentions and/or URLs.\n",
    "\n",
    "These entries will contain only spaces (rather than totally empty strings). Let's write a regex pattern that will allow us to match any entries containing of only 0 or more spaces."
   ]
  },
  {
   "cell_type": "code",
   "execution_count": 176,
   "metadata": {},
   "outputs": [],
   "source": [
    "# regex pattern\n",
    "pattern_whitespaces = r'^\\s*$'"
   ]
  },
  {
   "cell_type": "markdown",
   "metadata": {},
   "source": [
    "Let's test on a partition first."
   ]
  },
  {
   "cell_type": "code",
   "execution_count": 177,
   "metadata": {},
   "outputs": [],
   "source": [
    "# test on first partition\n",
    "df_0 = ddf.partitions[1].compute()"
   ]
  },
  {
   "cell_type": "code",
   "execution_count": 178,
   "metadata": {},
   "outputs": [
    {
     "data": {
      "text/plain": [
       "0"
      ]
     },
     "execution_count": 178,
     "metadata": {},
     "output_type": "execute_result"
    }
   ],
   "source": [
    "df_0.tweet_text.isnull().sum()"
   ]
  },
  {
   "cell_type": "code",
   "execution_count": 179,
   "metadata": {
    "scrolled": true
   },
   "outputs": [
    {
     "data": {
      "text/html": [
       "<div>\n",
       "<style scoped>\n",
       "    .dataframe tbody tr th:only-of-type {\n",
       "        vertical-align: middle;\n",
       "    }\n",
       "\n",
       "    .dataframe tbody tr th {\n",
       "        vertical-align: top;\n",
       "    }\n",
       "\n",
       "    .dataframe thead th {\n",
       "        text-align: right;\n",
       "    }\n",
       "</style>\n",
       "<table border=\"1\" class=\"dataframe\">\n",
       "  <thead>\n",
       "    <tr style=\"text-align: right;\">\n",
       "      <th></th>\n",
       "      <th>userid</th>\n",
       "      <th>user_screen_name</th>\n",
       "      <th>follower_count</th>\n",
       "      <th>following_count</th>\n",
       "      <th>tweet_language</th>\n",
       "      <th>tweet_text</th>\n",
       "      <th>tweet_time</th>\n",
       "      <th>tweet_client_name</th>\n",
       "      <th>is_retweet</th>\n",
       "      <th>retweet_userid</th>\n",
       "      <th>retweet_tweetid</th>\n",
       "      <th>retweet_user_screen_name</th>\n",
       "      <th>hashtags</th>\n",
       "    </tr>\n",
       "    <tr>\n",
       "      <th>tweetid</th>\n",
       "      <th></th>\n",
       "      <th></th>\n",
       "      <th></th>\n",
       "      <th></th>\n",
       "      <th></th>\n",
       "      <th></th>\n",
       "      <th></th>\n",
       "      <th></th>\n",
       "      <th></th>\n",
       "      <th></th>\n",
       "      <th></th>\n",
       "      <th></th>\n",
       "      <th></th>\n",
       "    </tr>\n",
       "  </thead>\n",
       "  <tbody>\n",
       "    <tr>\n",
       "      <th>1001597814097567745</th>\n",
       "      <td>988400378797535232</td>\n",
       "      <td>maram__2002</td>\n",
       "      <td>16937</td>\n",
       "      <td>16823</td>\n",
       "      <td>und</td>\n",
       "      <td></td>\n",
       "      <td>2018-05-29 22:55:00</td>\n",
       "      <td>Twitter for iPhone</td>\n",
       "      <td>True</td>\n",
       "      <td>NaN</td>\n",
       "      <td>9.971469e+17</td>\n",
       "      <td>badre72</td>\n",
       "      <td>NaN</td>\n",
       "    </tr>\n",
       "    <tr>\n",
       "      <th>1001599017569193984</th>\n",
       "      <td>kpeiRc5FjzPFD6lb5jNnUMi9wNYGNh2U3cjP6JEj3I=</td>\n",
       "      <td>kpeiRc5FjzPFD6lb5jNnUMi9wNYGNh2U3cjP6JEj3I=</td>\n",
       "      <td>1777</td>\n",
       "      <td>765</td>\n",
       "      <td>und</td>\n",
       "      <td></td>\n",
       "      <td>2018-05-29 22:59:00</td>\n",
       "      <td>Twitter for iPhone</td>\n",
       "      <td>False</td>\n",
       "      <td>NaN</td>\n",
       "      <td>NaN</td>\n",
       "      <td>NaN</td>\n",
       "      <td>NaN</td>\n",
       "    </tr>\n",
       "    <tr>\n",
       "      <th>1001599162415280134</th>\n",
       "      <td>kpeiRc5FjzPFD6lb5jNnUMi9wNYGNh2U3cjP6JEj3I=</td>\n",
       "      <td>kpeiRc5FjzPFD6lb5jNnUMi9wNYGNh2U3cjP6JEj3I=</td>\n",
       "      <td>1777</td>\n",
       "      <td>765</td>\n",
       "      <td>und</td>\n",
       "      <td></td>\n",
       "      <td>2018-05-29 23:00:00</td>\n",
       "      <td>Twitter for iPhone</td>\n",
       "      <td>False</td>\n",
       "      <td>NaN</td>\n",
       "      <td>NaN</td>\n",
       "      <td>NaN</td>\n",
       "      <td>NaN</td>\n",
       "    </tr>\n",
       "    <tr>\n",
       "      <th>1001600008381222912</th>\n",
       "      <td>N7vyR3Dc33h4hsFz7AN8UsMWS9KFrO6+xwoaY2PCEnE=</td>\n",
       "      <td>N7vyR3Dc33h4hsFz7AN8UsMWS9KFrO6+xwoaY2PCEnE=</td>\n",
       "      <td>77</td>\n",
       "      <td>663</td>\n",
       "      <td>und</td>\n",
       "      <td></td>\n",
       "      <td>2018-05-29 23:03:00</td>\n",
       "      <td>Twitter for iPhone</td>\n",
       "      <td>False</td>\n",
       "      <td>NaN</td>\n",
       "      <td>NaN</td>\n",
       "      <td>NaN</td>\n",
       "      <td>NaN</td>\n",
       "    </tr>\n",
       "    <tr>\n",
       "      <th>1001600512259698688</th>\n",
       "      <td>OjC1wjnPAgRjJBgqeQHJL+OLlbzy0OdfKtWW0FVX4q0=</td>\n",
       "      <td>OjC1wjnPAgRjJBgqeQHJL+OLlbzy0OdfKtWW0FVX4q0=</td>\n",
       "      <td>3526</td>\n",
       "      <td>4287</td>\n",
       "      <td>und</td>\n",
       "      <td></td>\n",
       "      <td>2018-05-29 23:05:00</td>\n",
       "      <td>Twitter for iPhone</td>\n",
       "      <td>True</td>\n",
       "      <td>NaN</td>\n",
       "      <td>1.001586e+18</td>\n",
       "      <td>othmanalkamees</td>\n",
       "      <td>NaN</td>\n",
       "    </tr>\n",
       "    <tr>\n",
       "      <th>...</th>\n",
       "      <td>...</td>\n",
       "      <td>...</td>\n",
       "      <td>...</td>\n",
       "      <td>...</td>\n",
       "      <td>...</td>\n",
       "      <td>...</td>\n",
       "      <td>...</td>\n",
       "      <td>...</td>\n",
       "      <td>...</td>\n",
       "      <td>...</td>\n",
       "      <td>...</td>\n",
       "      <td>...</td>\n",
       "      <td>...</td>\n",
       "    </tr>\n",
       "    <tr>\n",
       "      <th>1003366640430600192</th>\n",
       "      <td>948302862098092034</td>\n",
       "      <td>y_44a_</td>\n",
       "      <td>9007</td>\n",
       "      <td>8821</td>\n",
       "      <td>und</td>\n",
       "      <td></td>\n",
       "      <td>2018-06-03 20:03:00</td>\n",
       "      <td>Twitter for iPhone</td>\n",
       "      <td>True</td>\n",
       "      <td>NaN</td>\n",
       "      <td>9.609943e+17</td>\n",
       "      <td>Albait_alraqi</td>\n",
       "      <td>NaN</td>\n",
       "    </tr>\n",
       "    <tr>\n",
       "      <th>1003366651948097536</th>\n",
       "      <td>948302862098092034</td>\n",
       "      <td>y_44a_</td>\n",
       "      <td>9007</td>\n",
       "      <td>8821</td>\n",
       "      <td>und</td>\n",
       "      <td></td>\n",
       "      <td>2018-06-03 20:03:00</td>\n",
       "      <td>Twitter for iPhone</td>\n",
       "      <td>True</td>\n",
       "      <td>NaN</td>\n",
       "      <td>9.988897e+17</td>\n",
       "      <td>alzawq</td>\n",
       "      <td>NaN</td>\n",
       "    </tr>\n",
       "    <tr>\n",
       "      <th>1003366657149022208</th>\n",
       "      <td>948302862098092034</td>\n",
       "      <td>y_44a_</td>\n",
       "      <td>9007</td>\n",
       "      <td>8821</td>\n",
       "      <td>und</td>\n",
       "      <td></td>\n",
       "      <td>2018-06-03 20:03:00</td>\n",
       "      <td>Twitter for iPhone</td>\n",
       "      <td>True</td>\n",
       "      <td>NaN</td>\n",
       "      <td>1.000184e+18</td>\n",
       "      <td>alzawq</td>\n",
       "      <td>NaN</td>\n",
       "    </tr>\n",
       "    <tr>\n",
       "      <th>1003367764478787584</th>\n",
       "      <td>urO+NoCFhGNMfK3o4hfFvmKE9W3swxGbRkMLvanBUz8=</td>\n",
       "      <td>urO+NoCFhGNMfK3o4hfFvmKE9W3swxGbRkMLvanBUz8=</td>\n",
       "      <td>1693</td>\n",
       "      <td>629</td>\n",
       "      <td>und</td>\n",
       "      <td></td>\n",
       "      <td>2018-06-03 20:08:00</td>\n",
       "      <td>Twitter for Android</td>\n",
       "      <td>False</td>\n",
       "      <td>NaN</td>\n",
       "      <td>NaN</td>\n",
       "      <td>NaN</td>\n",
       "      <td>NaN</td>\n",
       "    </tr>\n",
       "    <tr>\n",
       "      <th>1003369198863769600</th>\n",
       "      <td>2sTX4IADf8dmtSoDvHdalKZ9Wh2InPrVINyxL3ZJOUc=</td>\n",
       "      <td>2sTX4IADf8dmtSoDvHdalKZ9Wh2InPrVINyxL3ZJOUc=</td>\n",
       "      <td>3168</td>\n",
       "      <td>3839</td>\n",
       "      <td>und</td>\n",
       "      <td></td>\n",
       "      <td>2018-06-03 20:13:00</td>\n",
       "      <td>Twitter for Android</td>\n",
       "      <td>True</td>\n",
       "      <td>NaN</td>\n",
       "      <td>1.003361e+18</td>\n",
       "      <td>R7iv7</td>\n",
       "      <td>NaN</td>\n",
       "    </tr>\n",
       "  </tbody>\n",
       "</table>\n",
       "<p>657 rows × 13 columns</p>\n",
       "</div>"
      ],
      "text/plain": [
       "                                                           userid  \\\n",
       "tweetid                                                             \n",
       "1001597814097567745                            988400378797535232   \n",
       "1001599017569193984   kpeiRc5FjzPFD6lb5jNnUMi9wNYGNh2U3cjP6JEj3I=   \n",
       "1001599162415280134   kpeiRc5FjzPFD6lb5jNnUMi9wNYGNh2U3cjP6JEj3I=   \n",
       "1001600008381222912  N7vyR3Dc33h4hsFz7AN8UsMWS9KFrO6+xwoaY2PCEnE=   \n",
       "1001600512259698688  OjC1wjnPAgRjJBgqeQHJL+OLlbzy0OdfKtWW0FVX4q0=   \n",
       "...                                                           ...   \n",
       "1003366640430600192                            948302862098092034   \n",
       "1003366651948097536                            948302862098092034   \n",
       "1003366657149022208                            948302862098092034   \n",
       "1003367764478787584  urO+NoCFhGNMfK3o4hfFvmKE9W3swxGbRkMLvanBUz8=   \n",
       "1003369198863769600  2sTX4IADf8dmtSoDvHdalKZ9Wh2InPrVINyxL3ZJOUc=   \n",
       "\n",
       "                                                 user_screen_name  \\\n",
       "tweetid                                                             \n",
       "1001597814097567745                                   maram__2002   \n",
       "1001599017569193984   kpeiRc5FjzPFD6lb5jNnUMi9wNYGNh2U3cjP6JEj3I=   \n",
       "1001599162415280134   kpeiRc5FjzPFD6lb5jNnUMi9wNYGNh2U3cjP6JEj3I=   \n",
       "1001600008381222912  N7vyR3Dc33h4hsFz7AN8UsMWS9KFrO6+xwoaY2PCEnE=   \n",
       "1001600512259698688  OjC1wjnPAgRjJBgqeQHJL+OLlbzy0OdfKtWW0FVX4q0=   \n",
       "...                                                           ...   \n",
       "1003366640430600192                                        y_44a_   \n",
       "1003366651948097536                                        y_44a_   \n",
       "1003366657149022208                                        y_44a_   \n",
       "1003367764478787584  urO+NoCFhGNMfK3o4hfFvmKE9W3swxGbRkMLvanBUz8=   \n",
       "1003369198863769600  2sTX4IADf8dmtSoDvHdalKZ9Wh2InPrVINyxL3ZJOUc=   \n",
       "\n",
       "                     follower_count  following_count tweet_language  \\\n",
       "tweetid                                                               \n",
       "1001597814097567745           16937            16823            und   \n",
       "1001599017569193984            1777              765            und   \n",
       "1001599162415280134            1777              765            und   \n",
       "1001600008381222912              77              663            und   \n",
       "1001600512259698688            3526             4287            und   \n",
       "...                             ...              ...            ...   \n",
       "1003366640430600192            9007             8821            und   \n",
       "1003366651948097536            9007             8821            und   \n",
       "1003366657149022208            9007             8821            und   \n",
       "1003367764478787584            1693              629            und   \n",
       "1003369198863769600            3168             3839            und   \n",
       "\n",
       "                    tweet_text          tweet_time    tweet_client_name  \\\n",
       "tweetid                                                                   \n",
       "1001597814097567745            2018-05-29 22:55:00   Twitter for iPhone   \n",
       "1001599017569193984            2018-05-29 22:59:00   Twitter for iPhone   \n",
       "1001599162415280134            2018-05-29 23:00:00   Twitter for iPhone   \n",
       "1001600008381222912            2018-05-29 23:03:00   Twitter for iPhone   \n",
       "1001600512259698688            2018-05-29 23:05:00   Twitter for iPhone   \n",
       "...                        ...                 ...                  ...   \n",
       "1003366640430600192            2018-06-03 20:03:00   Twitter for iPhone   \n",
       "1003366651948097536            2018-06-03 20:03:00   Twitter for iPhone   \n",
       "1003366657149022208            2018-06-03 20:03:00   Twitter for iPhone   \n",
       "1003367764478787584            2018-06-03 20:08:00  Twitter for Android   \n",
       "1003369198863769600            2018-06-03 20:13:00  Twitter for Android   \n",
       "\n",
       "                     is_retweet retweet_userid  retweet_tweetid  \\\n",
       "tweetid                                                           \n",
       "1001597814097567745        True            NaN     9.971469e+17   \n",
       "1001599017569193984       False            NaN              NaN   \n",
       "1001599162415280134       False            NaN              NaN   \n",
       "1001600008381222912       False            NaN              NaN   \n",
       "1001600512259698688        True            NaN     1.001586e+18   \n",
       "...                         ...            ...              ...   \n",
       "1003366640430600192        True            NaN     9.609943e+17   \n",
       "1003366651948097536        True            NaN     9.988897e+17   \n",
       "1003366657149022208        True            NaN     1.000184e+18   \n",
       "1003367764478787584       False            NaN              NaN   \n",
       "1003369198863769600        True            NaN     1.003361e+18   \n",
       "\n",
       "                    retweet_user_screen_name hashtags  \n",
       "tweetid                                                \n",
       "1001597814097567745                  badre72      NaN  \n",
       "1001599017569193984                      NaN      NaN  \n",
       "1001599162415280134                      NaN      NaN  \n",
       "1001600008381222912                      NaN      NaN  \n",
       "1001600512259698688           othmanalkamees      NaN  \n",
       "...                                      ...      ...  \n",
       "1003366640430600192            Albait_alraqi      NaN  \n",
       "1003366651948097536                   alzawq      NaN  \n",
       "1003366657149022208                   alzawq      NaN  \n",
       "1003367764478787584                      NaN      NaN  \n",
       "1003369198863769600                    R7iv7      NaN  \n",
       "\n",
       "[657 rows x 13 columns]"
      ]
     },
     "execution_count": 179,
     "metadata": {},
     "output_type": "execute_result"
    }
   ],
   "source": [
    "df_0[df_0.tweet_text == ' ']"
   ]
  },
  {
   "cell_type": "code",
   "execution_count": 180,
   "metadata": {},
   "outputs": [],
   "source": [
    "# create mask that contains all entries where tweet text matches regex pattern, i.e. only whitespaces\n",
    "mask = df_0.tweet_text.str.contains(pattern_whitespaces)"
   ]
  },
  {
   "cell_type": "code",
   "execution_count": 181,
   "metadata": {},
   "outputs": [],
   "source": [
    "# use mask to maintain only entries that do NOT contain only whitespaces\n",
    "df_0 = df_0[~mask]"
   ]
  },
  {
   "cell_type": "code",
   "execution_count": 182,
   "metadata": {},
   "outputs": [
    {
     "data": {
      "text/html": [
       "<div>\n",
       "<style scoped>\n",
       "    .dataframe tbody tr th:only-of-type {\n",
       "        vertical-align: middle;\n",
       "    }\n",
       "\n",
       "    .dataframe tbody tr th {\n",
       "        vertical-align: top;\n",
       "    }\n",
       "\n",
       "    .dataframe thead th {\n",
       "        text-align: right;\n",
       "    }\n",
       "</style>\n",
       "<table border=\"1\" class=\"dataframe\">\n",
       "  <thead>\n",
       "    <tr style=\"text-align: right;\">\n",
       "      <th></th>\n",
       "      <th>userid</th>\n",
       "      <th>user_screen_name</th>\n",
       "      <th>follower_count</th>\n",
       "      <th>following_count</th>\n",
       "      <th>tweet_language</th>\n",
       "      <th>tweet_text</th>\n",
       "      <th>tweet_time</th>\n",
       "      <th>tweet_client_name</th>\n",
       "      <th>is_retweet</th>\n",
       "      <th>retweet_userid</th>\n",
       "      <th>retweet_tweetid</th>\n",
       "      <th>retweet_user_screen_name</th>\n",
       "      <th>hashtags</th>\n",
       "    </tr>\n",
       "    <tr>\n",
       "      <th>tweetid</th>\n",
       "      <th></th>\n",
       "      <th></th>\n",
       "      <th></th>\n",
       "      <th></th>\n",
       "      <th></th>\n",
       "      <th></th>\n",
       "      <th></th>\n",
       "      <th></th>\n",
       "      <th></th>\n",
       "      <th></th>\n",
       "      <th></th>\n",
       "      <th></th>\n",
       "      <th></th>\n",
       "    </tr>\n",
       "  </thead>\n",
       "  <tbody>\n",
       "  </tbody>\n",
       "</table>\n",
       "</div>"
      ],
      "text/plain": [
       "Empty DataFrame\n",
       "Columns: [userid, user_screen_name, follower_count, following_count, tweet_language, tweet_text, tweet_time, tweet_client_name, is_retweet, retweet_userid, retweet_tweetid, retweet_user_screen_name, hashtags]\n",
       "Index: []"
      ]
     },
     "execution_count": 182,
     "metadata": {},
     "output_type": "execute_result"
    }
   ],
   "source": [
    "# verify\n",
    "df_0[df_0.tweet_text == ' ']"
   ]
  },
  {
   "cell_type": "markdown",
   "metadata": {},
   "source": [
    "This works. Let's apply to ddf:"
   ]
  },
  {
   "cell_type": "code",
   "execution_count": 183,
   "metadata": {},
   "outputs": [],
   "source": [
    "# define function\n",
    "def remove_empty_tweets(df):\n",
    "    mask = df.tweet_text.str.contains(pattern_whitespaces)\n",
    "    df = df[~mask]\n",
    "    return df"
   ]
  },
  {
   "cell_type": "code",
   "execution_count": 184,
   "metadata": {},
   "outputs": [],
   "source": [
    "# apply across all partitions\n",
    "ddf = ddf.map_partitions(remove_empty_tweets).persist()"
   ]
  },
  {
   "cell_type": "code",
   "execution_count": 185,
   "metadata": {},
   "outputs": [
    {
     "data": {
      "text/html": [
       "<div>\n",
       "<style scoped>\n",
       "    .dataframe tbody tr th:only-of-type {\n",
       "        vertical-align: middle;\n",
       "    }\n",
       "\n",
       "    .dataframe tbody tr th {\n",
       "        vertical-align: top;\n",
       "    }\n",
       "\n",
       "    .dataframe thead th {\n",
       "        text-align: right;\n",
       "    }\n",
       "</style>\n",
       "<table border=\"1\" class=\"dataframe\">\n",
       "  <thead>\n",
       "    <tr style=\"text-align: right;\">\n",
       "      <th></th>\n",
       "      <th>userid</th>\n",
       "      <th>user_screen_name</th>\n",
       "      <th>follower_count</th>\n",
       "      <th>following_count</th>\n",
       "      <th>tweet_language</th>\n",
       "      <th>tweet_text</th>\n",
       "      <th>tweet_time</th>\n",
       "      <th>tweet_client_name</th>\n",
       "      <th>is_retweet</th>\n",
       "      <th>retweet_userid</th>\n",
       "      <th>retweet_tweetid</th>\n",
       "      <th>retweet_user_screen_name</th>\n",
       "      <th>hashtags</th>\n",
       "    </tr>\n",
       "    <tr>\n",
       "      <th>tweetid</th>\n",
       "      <th></th>\n",
       "      <th></th>\n",
       "      <th></th>\n",
       "      <th></th>\n",
       "      <th></th>\n",
       "      <th></th>\n",
       "      <th></th>\n",
       "      <th></th>\n",
       "      <th></th>\n",
       "      <th></th>\n",
       "      <th></th>\n",
       "      <th></th>\n",
       "      <th></th>\n",
       "    </tr>\n",
       "  </thead>\n",
       "  <tbody>\n",
       "  </tbody>\n",
       "</table>\n",
       "</div>"
      ],
      "text/plain": [
       "Empty DataFrame\n",
       "Columns: [userid, user_screen_name, follower_count, following_count, tweet_language, tweet_text, tweet_time, tweet_client_name, is_retweet, retweet_userid, retweet_tweetid, retweet_user_screen_name, hashtags]\n",
       "Index: []"
      ]
     },
     "execution_count": 185,
     "metadata": {},
     "output_type": "execute_result"
    }
   ],
   "source": [
    "# verify\n",
    "ddf[ddf.tweet_text == ' '].compute()"
   ]
  },
  {
   "cell_type": "markdown",
   "metadata": {},
   "source": [
    "Excellent, this has worked.\n",
    "\n",
    "Let's see how many rows we have left now."
   ]
  },
  {
   "cell_type": "code",
   "execution_count": 186,
   "metadata": {},
   "outputs": [
    {
     "data": {
      "text/plain": [
       "35347002"
      ]
     },
     "execution_count": 186,
     "metadata": {},
     "output_type": "execute_result"
    }
   ],
   "source": [
    "ddf.shape[0].compute()"
   ]
  },
  {
   "cell_type": "markdown",
   "metadata": {},
   "source": [
    "Just over 35 million tweets left. These are guaranteed to be all in Arabic. That's still more than enough to work with.\n",
    "\n",
    "Let's save this cleaned df to our s3 bucket as parquet."
   ]
  },
  {
   "cell_type": "code",
   "execution_count": 187,
   "metadata": {},
   "outputs": [],
   "source": [
    "ddf.to_parquet('s3://twitter-saudi-us-east-2/interim/ddf_clean_without_empty_tweet_text_rows.parquet',\n",
    "               engine='pyarrow')"
   ]
  },
  {
   "cell_type": "markdown",
   "metadata": {},
   "source": [
    "# 6. Create Username Reference Table\n",
    "\n",
    "We will create a reference table containing:\n",
    "- unique users (indexed from 0 to n_users)\n",
    "- their Twitter user_id, if available\n",
    "- their user_screen_name\n",
    "- their number of followers, if available (!!)\n",
    "- their number of following, if available (!!)\n",
    "- whether the user was flagged by Twitter or not\n",
    "\n",
    "(!!) These won't be available for users who have only been retweeted by flagged users but who were not flagged and subsequently removed by Twitter themselves (at least not in this batch).\n"
   ]
  },
  {
   "cell_type": "code",
   "execution_count": 188,
   "metadata": {},
   "outputs": [
    {
     "data": {
      "text/plain": [
       "Index(['userid', 'user_screen_name', 'follower_count', 'following_count',\n",
       "       'tweet_language', 'tweet_text', 'tweet_time', 'tweet_client_name',\n",
       "       'is_retweet', 'retweet_userid', 'retweet_tweetid',\n",
       "       'retweet_user_screen_name', 'hashtags'],\n",
       "      dtype='object')"
      ]
     },
     "execution_count": 188,
     "metadata": {},
     "output_type": "execute_result"
    }
   ],
   "source": [
    "ddf.columns"
   ]
  },
  {
   "cell_type": "markdown",
   "metadata": {},
   "source": [
    "Steps are as follows:\n",
    "1. Subset ddf to include only userid, user_screen_name, follower_count and following_count\n",
    "2. Drop duplicates (subset='user_screen_name', method='first')\n",
    "3. Get unique usernames from retweet_user_screen_name\n",
    "4. Append together\n",
    "5. For all columns with NaN in userid > Flagged = 0. All others, Flagged = 1"
   ]
  },
  {
   "cell_type": "markdown",
   "metadata": {},
   "source": [
    "## 6.1. Get Unique Usernames and Related Data of Flagged Users"
   ]
  },
  {
   "cell_type": "code",
   "execution_count": 264,
   "metadata": {},
   "outputs": [],
   "source": [
    "ddf_user_screen_name = ddf[['user_screen_name', 'userid', 'follower_count', 'following_count']].persist()"
   ]
  },
  {
   "cell_type": "code",
   "execution_count": 265,
   "metadata": {},
   "outputs": [
    {
     "data": {
      "text/html": [
       "<div>\n",
       "<style scoped>\n",
       "    .dataframe tbody tr th:only-of-type {\n",
       "        vertical-align: middle;\n",
       "    }\n",
       "\n",
       "    .dataframe tbody tr th {\n",
       "        vertical-align: top;\n",
       "    }\n",
       "\n",
       "    .dataframe thead th {\n",
       "        text-align: right;\n",
       "    }\n",
       "</style>\n",
       "<table border=\"1\" class=\"dataframe\">\n",
       "  <thead>\n",
       "    <tr style=\"text-align: right;\">\n",
       "      <th></th>\n",
       "      <th>user_screen_name</th>\n",
       "      <th>userid</th>\n",
       "      <th>follower_count</th>\n",
       "      <th>following_count</th>\n",
       "    </tr>\n",
       "    <tr>\n",
       "      <th>tweetid</th>\n",
       "      <th></th>\n",
       "      <th></th>\n",
       "      <th></th>\n",
       "      <th></th>\n",
       "    </tr>\n",
       "  </thead>\n",
       "  <tbody>\n",
       "    <tr>\n",
       "      <th>1000000000447930368</th>\n",
       "      <td>y_44a_</td>\n",
       "      <td>948302862098092034</td>\n",
       "      <td>9007</td>\n",
       "      <td>8821</td>\n",
       "    </tr>\n",
       "    <tr>\n",
       "      <th>1000000030391095297</th>\n",
       "      <td>y_44a_</td>\n",
       "      <td>948302862098092034</td>\n",
       "      <td>9007</td>\n",
       "      <td>8821</td>\n",
       "    </tr>\n",
       "    <tr>\n",
       "      <th>1000000039362662400</th>\n",
       "      <td>y_44a_</td>\n",
       "      <td>948302862098092034</td>\n",
       "      <td>9007</td>\n",
       "      <td>8821</td>\n",
       "    </tr>\n",
       "    <tr>\n",
       "      <th>1000000054911033344</th>\n",
       "      <td>iXwa1+qxYAH2hEJ9nDG11qo6nmcpl89IQKhDRDqpfU4=</td>\n",
       "      <td>iXwa1+qxYAH2hEJ9nDG11qo6nmcpl89IQKhDRDqpfU4=</td>\n",
       "      <td>168</td>\n",
       "      <td>408</td>\n",
       "    </tr>\n",
       "    <tr>\n",
       "      <th>1000000204865789954</th>\n",
       "      <td>Gj+bihYSO0L5Ht1+f9OEqP42KbnJWtNK4qv0WJr0cs=</td>\n",
       "      <td>Gj+bihYSO0L5Ht1+f9OEqP42KbnJWtNK4qv0WJr0cs=</td>\n",
       "      <td>1623</td>\n",
       "      <td>2022</td>\n",
       "    </tr>\n",
       "  </tbody>\n",
       "</table>\n",
       "</div>"
      ],
      "text/plain": [
       "                                                 user_screen_name  \\\n",
       "tweetid                                                             \n",
       "1000000000447930368                                        y_44a_   \n",
       "1000000030391095297                                        y_44a_   \n",
       "1000000039362662400                                        y_44a_   \n",
       "1000000054911033344  iXwa1+qxYAH2hEJ9nDG11qo6nmcpl89IQKhDRDqpfU4=   \n",
       "1000000204865789954   Gj+bihYSO0L5Ht1+f9OEqP42KbnJWtNK4qv0WJr0cs=   \n",
       "\n",
       "                                                           userid  \\\n",
       "tweetid                                                             \n",
       "1000000000447930368                            948302862098092034   \n",
       "1000000030391095297                            948302862098092034   \n",
       "1000000039362662400                            948302862098092034   \n",
       "1000000054911033344  iXwa1+qxYAH2hEJ9nDG11qo6nmcpl89IQKhDRDqpfU4=   \n",
       "1000000204865789954   Gj+bihYSO0L5Ht1+f9OEqP42KbnJWtNK4qv0WJr0cs=   \n",
       "\n",
       "                     follower_count  following_count  \n",
       "tweetid                                               \n",
       "1000000000447930368            9007             8821  \n",
       "1000000030391095297            9007             8821  \n",
       "1000000039362662400            9007             8821  \n",
       "1000000054911033344             168              408  \n",
       "1000000204865789954            1623             2022  "
      ]
     },
     "execution_count": 265,
     "metadata": {},
     "output_type": "execute_result"
    }
   ],
   "source": [
    "ddf_user_screen_name.head()"
   ]
  },
  {
   "cell_type": "code",
   "execution_count": 266,
   "metadata": {},
   "outputs": [
    {
     "data": {
      "text/plain": [
       "35347002"
      ]
     },
     "execution_count": 266,
     "metadata": {},
     "output_type": "execute_result"
    }
   ],
   "source": [
    "ddf_user_screen_name.shape[0].compute()"
   ]
  },
  {
   "cell_type": "markdown",
   "metadata": {},
   "source": [
    "Excellent.\n",
    "\n",
    "If we do a groupby, we can also get the number of times each user has tweeted, that might be useful information, too."
   ]
  },
  {
   "cell_type": "code",
   "execution_count": 267,
   "metadata": {},
   "outputs": [],
   "source": [
    "# get tweet count per user as separate dataframe \n",
    "df_tweet_counts = ddf_user_screen_name.groupby(['user_screen_name']).userid.count().compute()"
   ]
  },
  {
   "cell_type": "code",
   "execution_count": 268,
   "metadata": {},
   "outputs": [
    {
     "data": {
      "text/plain": [
       "(4273,)"
      ]
     },
     "execution_count": 268,
     "metadata": {},
     "output_type": "execute_result"
    }
   ],
   "source": [
    "df_tweet_counts.shape"
   ]
  },
  {
   "cell_type": "code",
   "execution_count": 269,
   "metadata": {},
   "outputs": [
    {
     "data": {
      "text/plain": [
       "user_screen_name\n",
       "++NKgOjGxSjksF8OoE2pc279lQPgPw+2VAEDAQFFs=       289\n",
       "+H3e4huQnfPabIqJjpda8W933waxcGgJsnY0w+WcoI=     7159\n",
       "+ZPMEkaCpxlnSug88JSojnxg+AE7p8viodFn5CRg=      28168\n",
       "+iPsIpKQMg6RBLUH7rz9RquJvqGFh0At9B9cBPVq8o=    13404\n",
       "0IODAjn8rdCiEhCJAgw2x8Ey0z9biPDat3xFjXYVb4=        1\n",
       "Name: userid, dtype: int64"
      ]
     },
     "execution_count": 269,
     "metadata": {},
     "output_type": "execute_result"
    }
   ],
   "source": [
    "df_tweet_counts.head()"
   ]
  },
  {
   "cell_type": "markdown",
   "metadata": {},
   "source": [
    "Let's now proceed to drop all duplicates in ddf_user_screen_name."
   ]
  },
  {
   "cell_type": "code",
   "execution_count": 270,
   "metadata": {},
   "outputs": [],
   "source": [
    "ddf_user_screen_name = ddf_user_screen_name.drop_duplicates(subset=['user_screen_name'])"
   ]
  },
  {
   "cell_type": "code",
   "execution_count": 271,
   "metadata": {},
   "outputs": [
    {
     "data": {
      "text/html": [
       "<div>\n",
       "<style scoped>\n",
       "    .dataframe tbody tr th:only-of-type {\n",
       "        vertical-align: middle;\n",
       "    }\n",
       "\n",
       "    .dataframe tbody tr th {\n",
       "        vertical-align: top;\n",
       "    }\n",
       "\n",
       "    .dataframe thead th {\n",
       "        text-align: right;\n",
       "    }\n",
       "</style>\n",
       "<table border=\"1\" class=\"dataframe\">\n",
       "  <thead>\n",
       "    <tr style=\"text-align: right;\">\n",
       "      <th></th>\n",
       "      <th>user_screen_name</th>\n",
       "      <th>userid</th>\n",
       "      <th>follower_count</th>\n",
       "      <th>following_count</th>\n",
       "    </tr>\n",
       "    <tr>\n",
       "      <th>tweetid</th>\n",
       "      <th></th>\n",
       "      <th></th>\n",
       "      <th></th>\n",
       "      <th></th>\n",
       "    </tr>\n",
       "  </thead>\n",
       "  <tbody>\n",
       "    <tr>\n",
       "      <th>1000000000447930368</th>\n",
       "      <td>y_44a_</td>\n",
       "      <td>948302862098092034</td>\n",
       "      <td>9007</td>\n",
       "      <td>8821</td>\n",
       "    </tr>\n",
       "    <tr>\n",
       "      <th>1000000054911033344</th>\n",
       "      <td>iXwa1+qxYAH2hEJ9nDG11qo6nmcpl89IQKhDRDqpfU4=</td>\n",
       "      <td>iXwa1+qxYAH2hEJ9nDG11qo6nmcpl89IQKhDRDqpfU4=</td>\n",
       "      <td>168</td>\n",
       "      <td>408</td>\n",
       "    </tr>\n",
       "    <tr>\n",
       "      <th>1000000204865789954</th>\n",
       "      <td>Gj+bihYSO0L5Ht1+f9OEqP42KbnJWtNK4qv0WJr0cs=</td>\n",
       "      <td>Gj+bihYSO0L5Ht1+f9OEqP42KbnJWtNK4qv0WJr0cs=</td>\n",
       "      <td>1623</td>\n",
       "      <td>2022</td>\n",
       "    </tr>\n",
       "    <tr>\n",
       "      <th>1000000325586169856</th>\n",
       "      <td>2SJuOzyE6GQOsmW9ukY3ChH8rl049x6mDNZi3EM=</td>\n",
       "      <td>2SJuOzyE6GQOsmW9ukY3ChH8rl049x6mDNZi3EM=</td>\n",
       "      <td>1850</td>\n",
       "      <td>1594</td>\n",
       "    </tr>\n",
       "    <tr>\n",
       "      <th>1000000475503132673</th>\n",
       "      <td>ytmVN9opEFMM7Uk+0O0XgSuOpIRlok5Xqu+jel9qyM=</td>\n",
       "      <td>ytmVN9opEFMM7Uk+0O0XgSuOpIRlok5Xqu+jel9qyM=</td>\n",
       "      <td>3928</td>\n",
       "      <td>4273</td>\n",
       "    </tr>\n",
       "    <tr>\n",
       "      <th>1000000623381753862</th>\n",
       "      <td>rJ9LKF5+KW7TRiUemWEc2o7f2Yir2yMc+oxuoHToyR0=</td>\n",
       "      <td>rJ9LKF5+KW7TRiUemWEc2o7f2Yir2yMc+oxuoHToyR0=</td>\n",
       "      <td>616</td>\n",
       "      <td>1668</td>\n",
       "    </tr>\n",
       "    <tr>\n",
       "      <th>1000001073459945472</th>\n",
       "      <td>m7m_aq</td>\n",
       "      <td>2904198326</td>\n",
       "      <td>42835</td>\n",
       "      <td>42860</td>\n",
       "    </tr>\n",
       "    <tr>\n",
       "      <th>1000001135242104832</th>\n",
       "      <td>Oyts8f+bvCC1gTv8xwa5wUbtFnEAImBG2bKeoR+ayRk=</td>\n",
       "      <td>Oyts8f+bvCC1gTv8xwa5wUbtFnEAImBG2bKeoR+ayRk=</td>\n",
       "      <td>952</td>\n",
       "      <td>524</td>\n",
       "    </tr>\n",
       "    <tr>\n",
       "      <th>1000001283313545216</th>\n",
       "      <td>uvY9IQjUPH4qmW4RI5URaQTKFFszPWdCw4nTUPolPQ=</td>\n",
       "      <td>uvY9IQjUPH4qmW4RI5URaQTKFFszPWdCw4nTUPolPQ=</td>\n",
       "      <td>553</td>\n",
       "      <td>566</td>\n",
       "    </tr>\n",
       "    <tr>\n",
       "      <th>1000002504942346240</th>\n",
       "      <td>lLdMGNWHZQHieTbvbBinuzNilXcZXihu5EIKw+GqbIQ=</td>\n",
       "      <td>lLdMGNWHZQHieTbvbBinuzNilXcZXihu5EIKw+GqbIQ=</td>\n",
       "      <td>1526</td>\n",
       "      <td>621</td>\n",
       "    </tr>\n",
       "  </tbody>\n",
       "</table>\n",
       "</div>"
      ],
      "text/plain": [
       "                                                 user_screen_name  \\\n",
       "tweetid                                                             \n",
       "1000000000447930368                                        y_44a_   \n",
       "1000000054911033344  iXwa1+qxYAH2hEJ9nDG11qo6nmcpl89IQKhDRDqpfU4=   \n",
       "1000000204865789954   Gj+bihYSO0L5Ht1+f9OEqP42KbnJWtNK4qv0WJr0cs=   \n",
       "1000000325586169856      2SJuOzyE6GQOsmW9ukY3ChH8rl049x6mDNZi3EM=   \n",
       "1000000475503132673   ytmVN9opEFMM7Uk+0O0XgSuOpIRlok5Xqu+jel9qyM=   \n",
       "1000000623381753862  rJ9LKF5+KW7TRiUemWEc2o7f2Yir2yMc+oxuoHToyR0=   \n",
       "1000001073459945472                                        m7m_aq   \n",
       "1000001135242104832  Oyts8f+bvCC1gTv8xwa5wUbtFnEAImBG2bKeoR+ayRk=   \n",
       "1000001283313545216   uvY9IQjUPH4qmW4RI5URaQTKFFszPWdCw4nTUPolPQ=   \n",
       "1000002504942346240  lLdMGNWHZQHieTbvbBinuzNilXcZXihu5EIKw+GqbIQ=   \n",
       "\n",
       "                                                           userid  \\\n",
       "tweetid                                                             \n",
       "1000000000447930368                            948302862098092034   \n",
       "1000000054911033344  iXwa1+qxYAH2hEJ9nDG11qo6nmcpl89IQKhDRDqpfU4=   \n",
       "1000000204865789954   Gj+bihYSO0L5Ht1+f9OEqP42KbnJWtNK4qv0WJr0cs=   \n",
       "1000000325586169856      2SJuOzyE6GQOsmW9ukY3ChH8rl049x6mDNZi3EM=   \n",
       "1000000475503132673   ytmVN9opEFMM7Uk+0O0XgSuOpIRlok5Xqu+jel9qyM=   \n",
       "1000000623381753862  rJ9LKF5+KW7TRiUemWEc2o7f2Yir2yMc+oxuoHToyR0=   \n",
       "1000001073459945472                                    2904198326   \n",
       "1000001135242104832  Oyts8f+bvCC1gTv8xwa5wUbtFnEAImBG2bKeoR+ayRk=   \n",
       "1000001283313545216   uvY9IQjUPH4qmW4RI5URaQTKFFszPWdCw4nTUPolPQ=   \n",
       "1000002504942346240  lLdMGNWHZQHieTbvbBinuzNilXcZXihu5EIKw+GqbIQ=   \n",
       "\n",
       "                     follower_count  following_count  \n",
       "tweetid                                               \n",
       "1000000000447930368            9007             8821  \n",
       "1000000054911033344             168              408  \n",
       "1000000204865789954            1623             2022  \n",
       "1000000325586169856            1850             1594  \n",
       "1000000475503132673            3928             4273  \n",
       "1000000623381753862             616             1668  \n",
       "1000001073459945472           42835            42860  \n",
       "1000001135242104832             952              524  \n",
       "1000001283313545216             553              566  \n",
       "1000002504942346240            1526              621  "
      ]
     },
     "execution_count": 271,
     "metadata": {},
     "output_type": "execute_result"
    }
   ],
   "source": [
    "ddf_user_screen_name.head(10)"
   ]
  },
  {
   "cell_type": "markdown",
   "metadata": {},
   "source": [
    "That looks good. Let's bring that in as a local pandas dataframe now."
   ]
  },
  {
   "cell_type": "code",
   "execution_count": 272,
   "metadata": {},
   "outputs": [],
   "source": [
    "df_user_screen_name = ddf_user_screen_name.compute()"
   ]
  },
  {
   "cell_type": "code",
   "execution_count": 273,
   "metadata": {},
   "outputs": [
    {
     "data": {
      "text/plain": [
       "(4273, 4)"
      ]
     },
     "execution_count": 273,
     "metadata": {},
     "output_type": "execute_result"
    }
   ],
   "source": [
    "df_user_screen_name.shape"
   ]
  },
  {
   "cell_type": "code",
   "execution_count": 274,
   "metadata": {},
   "outputs": [
    {
     "data": {
      "text/html": [
       "<div>\n",
       "<style scoped>\n",
       "    .dataframe tbody tr th:only-of-type {\n",
       "        vertical-align: middle;\n",
       "    }\n",
       "\n",
       "    .dataframe tbody tr th {\n",
       "        vertical-align: top;\n",
       "    }\n",
       "\n",
       "    .dataframe thead th {\n",
       "        text-align: right;\n",
       "    }\n",
       "</style>\n",
       "<table border=\"1\" class=\"dataframe\">\n",
       "  <thead>\n",
       "    <tr style=\"text-align: right;\">\n",
       "      <th></th>\n",
       "      <th>user_screen_name</th>\n",
       "      <th>userid</th>\n",
       "      <th>follower_count</th>\n",
       "      <th>following_count</th>\n",
       "    </tr>\n",
       "    <tr>\n",
       "      <th>tweetid</th>\n",
       "      <th></th>\n",
       "      <th></th>\n",
       "      <th></th>\n",
       "      <th></th>\n",
       "    </tr>\n",
       "  </thead>\n",
       "  <tbody>\n",
       "    <tr>\n",
       "      <th>1136144650950103042</th>\n",
       "      <td>HpLtcR38EHiDwl+SMFeiZJfjJYhhXXSqrjSZmO2L8=</td>\n",
       "      <td>HpLtcR38EHiDwl+SMFeiZJfjJYhhXXSqrjSZmO2L8=</td>\n",
       "      <td>1360</td>\n",
       "      <td>2107</td>\n",
       "    </tr>\n",
       "    <tr>\n",
       "      <th>1195443645480161280</th>\n",
       "      <td>iolNitXbFp48iizuBln3aM+RFk2CQpaLBTG2lELHI=</td>\n",
       "      <td>iolNitXbFp48iizuBln3aM+RFk2CQpaLBTG2lELHI=</td>\n",
       "      <td>12</td>\n",
       "      <td>76</td>\n",
       "    </tr>\n",
       "    <tr>\n",
       "      <th>1138528120259186689</th>\n",
       "      <td>U6uJY1DUNiWiPQdumvwTc8aLgBXr4zo+8OOHfZWb8=</td>\n",
       "      <td>U6uJY1DUNiWiPQdumvwTc8aLgBXr4zo+8OOHfZWb8=</td>\n",
       "      <td>210</td>\n",
       "      <td>453</td>\n",
       "    </tr>\n",
       "    <tr>\n",
       "      <th>763527967347793921</th>\n",
       "      <td>+uKxjQyby7fwl4aj6LZs691EKlQwFgiImkzmasxQ9Ls=</td>\n",
       "      <td>+uKxjQyby7fwl4aj6LZs691EKlQwFgiImkzmasxQ9Ls=</td>\n",
       "      <td>18</td>\n",
       "      <td>7</td>\n",
       "    </tr>\n",
       "    <tr>\n",
       "      <th>673322036949839872</th>\n",
       "      <td>X+hmavIgL84Zl2PS103dQz7cNGYPpaOACCSJhwSUCTE=</td>\n",
       "      <td>X+hmavIgL84Zl2PS103dQz7cNGYPpaOACCSJhwSUCTE=</td>\n",
       "      <td>32</td>\n",
       "      <td>93</td>\n",
       "    </tr>\n",
       "    <tr>\n",
       "      <th>1165721449337950208</th>\n",
       "      <td>malkk23</td>\n",
       "      <td>1147517086123593728</td>\n",
       "      <td>7104</td>\n",
       "      <td>6603</td>\n",
       "    </tr>\n",
       "    <tr>\n",
       "      <th>1102130141008936960</th>\n",
       "      <td>rhR0hzSb6ltboeLaqA+9DiGhGIhP6kLzwj59mzXpcE=</td>\n",
       "      <td>rhR0hzSb6ltboeLaqA+9DiGhGIhP6kLzwj59mzXpcE=</td>\n",
       "      <td>2627</td>\n",
       "      <td>2787</td>\n",
       "    </tr>\n",
       "    <tr>\n",
       "      <th>1062201700025389058</th>\n",
       "      <td>O6Pr8bRNPEUttX3lkQUjWK6sdSITczyQUjfbCz+Ym4=</td>\n",
       "      <td>O6Pr8bRNPEUttX3lkQUjWK6sdSITczyQUjfbCz+Ym4=</td>\n",
       "      <td>5</td>\n",
       "      <td>72</td>\n",
       "    </tr>\n",
       "    <tr>\n",
       "      <th>590783574661533696</th>\n",
       "      <td>luEpRfvffUb3Zin5EhdNdWMXiDQIaB4cqKcYp52JSH4=</td>\n",
       "      <td>luEpRfvffUb3Zin5EhdNdWMXiDQIaB4cqKcYp52JSH4=</td>\n",
       "      <td>10</td>\n",
       "      <td>74</td>\n",
       "    </tr>\n",
       "    <tr>\n",
       "      <th>1121098481274368001</th>\n",
       "      <td>loghVlPG9BZXJshg1JskiMyKBCZvpA4kWJ4wpJxuvA=</td>\n",
       "      <td>loghVlPG9BZXJshg1JskiMyKBCZvpA4kWJ4wpJxuvA=</td>\n",
       "      <td>554</td>\n",
       "      <td>802</td>\n",
       "    </tr>\n",
       "    <tr>\n",
       "      <th>1086827325516201984</th>\n",
       "      <td>9EN9iyF1IBZWP2N3t30Aa3K6vdN+WE9Eq2UhHEOzPo=</td>\n",
       "      <td>9EN9iyF1IBZWP2N3t30Aa3K6vdN+WE9Eq2UhHEOzPo=</td>\n",
       "      <td>11</td>\n",
       "      <td>89</td>\n",
       "    </tr>\n",
       "    <tr>\n",
       "      <th>1169590757747044354</th>\n",
       "      <td>1+6iPNZl0ddzz7t1sLaQ9xvJLfLFFmWt7zEvjt6P6k=</td>\n",
       "      <td>1+6iPNZl0ddzz7t1sLaQ9xvJLfLFFmWt7zEvjt6P6k=</td>\n",
       "      <td>342</td>\n",
       "      <td>1374</td>\n",
       "    </tr>\n",
       "    <tr>\n",
       "      <th>1062204939202527233</th>\n",
       "      <td>yPD8O8s3ePXZH1nuYQQCIHKIIERxFhK9P0IwIyEpwTM=</td>\n",
       "      <td>yPD8O8s3ePXZH1nuYQQCIHKIIERxFhK9P0IwIyEpwTM=</td>\n",
       "      <td>4</td>\n",
       "      <td>17</td>\n",
       "    </tr>\n",
       "    <tr>\n",
       "      <th>1061602468860022785</th>\n",
       "      <td>cgIgl6UQZHVToKSh9LIbtQailDoMg8DoLELwaKdJImM=</td>\n",
       "      <td>cgIgl6UQZHVToKSh9LIbtQailDoMg8DoLELwaKdJImM=</td>\n",
       "      <td>11</td>\n",
       "      <td>4</td>\n",
       "    </tr>\n",
       "    <tr>\n",
       "      <th>685835988522942464</th>\n",
       "      <td>5rAV2X5eENgvS4yAcxxOiJMMecuM0FT6wM7QElmuzQ=</td>\n",
       "      <td>5rAV2X5eENgvS4yAcxxOiJMMecuM0FT6wM7QElmuzQ=</td>\n",
       "      <td>4</td>\n",
       "      <td>5</td>\n",
       "    </tr>\n",
       "    <tr>\n",
       "      <th>1000005556411797504</th>\n",
       "      <td>HTBBKikdnLiZg0AfAbGcuB3F9dgmJ35q2F+6EFfPHkY=</td>\n",
       "      <td>HTBBKikdnLiZg0AfAbGcuB3F9dgmJ35q2F+6EFfPHkY=</td>\n",
       "      <td>66</td>\n",
       "      <td>966</td>\n",
       "    </tr>\n",
       "    <tr>\n",
       "      <th>1102389039976443904</th>\n",
       "      <td>yLV50+sKZPo7nzDRZoQL2Eoci6RVWIUviLjTvF00XEA=</td>\n",
       "      <td>yLV50+sKZPo7nzDRZoQL2Eoci6RVWIUviLjTvF00XEA=</td>\n",
       "      <td>25</td>\n",
       "      <td>85</td>\n",
       "    </tr>\n",
       "    <tr>\n",
       "      <th>1039406797763825664</th>\n",
       "      <td>MOixlUe+bm3NEeDqwIAHAXvVbzXSQGPHnmSaHJg+Vo=</td>\n",
       "      <td>MOixlUe+bm3NEeDqwIAHAXvVbzXSQGPHnmSaHJg+Vo=</td>\n",
       "      <td>2</td>\n",
       "      <td>34</td>\n",
       "    </tr>\n",
       "    <tr>\n",
       "      <th>1063759593132691457</th>\n",
       "      <td>l999e</td>\n",
       "      <td>3427881706</td>\n",
       "      <td>25204</td>\n",
       "      <td>22311</td>\n",
       "    </tr>\n",
       "    <tr>\n",
       "      <th>1059527410708819968</th>\n",
       "      <td>lanNIBXMMIgA3jTsDFJhZ5qvL8yHBSNRedcitp2lIs=</td>\n",
       "      <td>lanNIBXMMIgA3jTsDFJhZ5qvL8yHBSNRedcitp2lIs=</td>\n",
       "      <td>0</td>\n",
       "      <td>4</td>\n",
       "    </tr>\n",
       "  </tbody>\n",
       "</table>\n",
       "</div>"
      ],
      "text/plain": [
       "                                                 user_screen_name  \\\n",
       "tweetid                                                             \n",
       "1136144650950103042    HpLtcR38EHiDwl+SMFeiZJfjJYhhXXSqrjSZmO2L8=   \n",
       "1195443645480161280    iolNitXbFp48iizuBln3aM+RFk2CQpaLBTG2lELHI=   \n",
       "1138528120259186689    U6uJY1DUNiWiPQdumvwTc8aLgBXr4zo+8OOHfZWb8=   \n",
       "763527967347793921   +uKxjQyby7fwl4aj6LZs691EKlQwFgiImkzmasxQ9Ls=   \n",
       "673322036949839872   X+hmavIgL84Zl2PS103dQz7cNGYPpaOACCSJhwSUCTE=   \n",
       "1165721449337950208                                       malkk23   \n",
       "1102130141008936960   rhR0hzSb6ltboeLaqA+9DiGhGIhP6kLzwj59mzXpcE=   \n",
       "1062201700025389058   O6Pr8bRNPEUttX3lkQUjWK6sdSITczyQUjfbCz+Ym4=   \n",
       "590783574661533696   luEpRfvffUb3Zin5EhdNdWMXiDQIaB4cqKcYp52JSH4=   \n",
       "1121098481274368001   loghVlPG9BZXJshg1JskiMyKBCZvpA4kWJ4wpJxuvA=   \n",
       "1086827325516201984   9EN9iyF1IBZWP2N3t30Aa3K6vdN+WE9Eq2UhHEOzPo=   \n",
       "1169590757747044354   1+6iPNZl0ddzz7t1sLaQ9xvJLfLFFmWt7zEvjt6P6k=   \n",
       "1062204939202527233  yPD8O8s3ePXZH1nuYQQCIHKIIERxFhK9P0IwIyEpwTM=   \n",
       "1061602468860022785  cgIgl6UQZHVToKSh9LIbtQailDoMg8DoLELwaKdJImM=   \n",
       "685835988522942464    5rAV2X5eENgvS4yAcxxOiJMMecuM0FT6wM7QElmuzQ=   \n",
       "1000005556411797504  HTBBKikdnLiZg0AfAbGcuB3F9dgmJ35q2F+6EFfPHkY=   \n",
       "1102389039976443904  yLV50+sKZPo7nzDRZoQL2Eoci6RVWIUviLjTvF00XEA=   \n",
       "1039406797763825664   MOixlUe+bm3NEeDqwIAHAXvVbzXSQGPHnmSaHJg+Vo=   \n",
       "1063759593132691457                                         l999e   \n",
       "1059527410708819968   lanNIBXMMIgA3jTsDFJhZ5qvL8yHBSNRedcitp2lIs=   \n",
       "\n",
       "                                                           userid  \\\n",
       "tweetid                                                             \n",
       "1136144650950103042    HpLtcR38EHiDwl+SMFeiZJfjJYhhXXSqrjSZmO2L8=   \n",
       "1195443645480161280    iolNitXbFp48iizuBln3aM+RFk2CQpaLBTG2lELHI=   \n",
       "1138528120259186689    U6uJY1DUNiWiPQdumvwTc8aLgBXr4zo+8OOHfZWb8=   \n",
       "763527967347793921   +uKxjQyby7fwl4aj6LZs691EKlQwFgiImkzmasxQ9Ls=   \n",
       "673322036949839872   X+hmavIgL84Zl2PS103dQz7cNGYPpaOACCSJhwSUCTE=   \n",
       "1165721449337950208                           1147517086123593728   \n",
       "1102130141008936960   rhR0hzSb6ltboeLaqA+9DiGhGIhP6kLzwj59mzXpcE=   \n",
       "1062201700025389058   O6Pr8bRNPEUttX3lkQUjWK6sdSITczyQUjfbCz+Ym4=   \n",
       "590783574661533696   luEpRfvffUb3Zin5EhdNdWMXiDQIaB4cqKcYp52JSH4=   \n",
       "1121098481274368001   loghVlPG9BZXJshg1JskiMyKBCZvpA4kWJ4wpJxuvA=   \n",
       "1086827325516201984   9EN9iyF1IBZWP2N3t30Aa3K6vdN+WE9Eq2UhHEOzPo=   \n",
       "1169590757747044354   1+6iPNZl0ddzz7t1sLaQ9xvJLfLFFmWt7zEvjt6P6k=   \n",
       "1062204939202527233  yPD8O8s3ePXZH1nuYQQCIHKIIERxFhK9P0IwIyEpwTM=   \n",
       "1061602468860022785  cgIgl6UQZHVToKSh9LIbtQailDoMg8DoLELwaKdJImM=   \n",
       "685835988522942464    5rAV2X5eENgvS4yAcxxOiJMMecuM0FT6wM7QElmuzQ=   \n",
       "1000005556411797504  HTBBKikdnLiZg0AfAbGcuB3F9dgmJ35q2F+6EFfPHkY=   \n",
       "1102389039976443904  yLV50+sKZPo7nzDRZoQL2Eoci6RVWIUviLjTvF00XEA=   \n",
       "1039406797763825664   MOixlUe+bm3NEeDqwIAHAXvVbzXSQGPHnmSaHJg+Vo=   \n",
       "1063759593132691457                                    3427881706   \n",
       "1059527410708819968   lanNIBXMMIgA3jTsDFJhZ5qvL8yHBSNRedcitp2lIs=   \n",
       "\n",
       "                     follower_count  following_count  \n",
       "tweetid                                               \n",
       "1136144650950103042            1360             2107  \n",
       "1195443645480161280              12               76  \n",
       "1138528120259186689             210              453  \n",
       "763527967347793921               18                7  \n",
       "673322036949839872               32               93  \n",
       "1165721449337950208            7104             6603  \n",
       "1102130141008936960            2627             2787  \n",
       "1062201700025389058               5               72  \n",
       "590783574661533696               10               74  \n",
       "1121098481274368001             554              802  \n",
       "1086827325516201984              11               89  \n",
       "1169590757747044354             342             1374  \n",
       "1062204939202527233               4               17  \n",
       "1061602468860022785              11                4  \n",
       "685835988522942464                4                5  \n",
       "1000005556411797504              66              966  \n",
       "1102389039976443904              25               85  \n",
       "1039406797763825664               2               34  \n",
       "1063759593132691457           25204            22311  \n",
       "1059527410708819968               0                4  "
      ]
     },
     "execution_count": 274,
     "metadata": {},
     "output_type": "execute_result"
    }
   ],
   "source": [
    "df_user_screen_name.sample(20, random_state=2)"
   ]
  },
  {
   "cell_type": "markdown",
   "metadata": {},
   "source": [
    "Let's join df_user_screen_name with df_tweet_count."
   ]
  },
  {
   "cell_type": "code",
   "execution_count": 275,
   "metadata": {},
   "outputs": [],
   "source": [
    "# convert df_tweet_counts to dataframe\n",
    "df_tweet_counts = pd.DataFrame(df_tweet_counts)"
   ]
  },
  {
   "cell_type": "code",
   "execution_count": 276,
   "metadata": {},
   "outputs": [],
   "source": [
    "# reset the index\n",
    "df_tweet_counts.reset_index(drop=False, inplace=True)"
   ]
  },
  {
   "cell_type": "code",
   "execution_count": 277,
   "metadata": {},
   "outputs": [],
   "source": [
    "# rename the tweet_count column\n",
    "df_tweet_counts = df_tweet_counts.rename(columns={'userid': 'tweet_count'})"
   ]
  },
  {
   "cell_type": "code",
   "execution_count": 278,
   "metadata": {},
   "outputs": [
    {
     "data": {
      "text/html": [
       "<div>\n",
       "<style scoped>\n",
       "    .dataframe tbody tr th:only-of-type {\n",
       "        vertical-align: middle;\n",
       "    }\n",
       "\n",
       "    .dataframe tbody tr th {\n",
       "        vertical-align: top;\n",
       "    }\n",
       "\n",
       "    .dataframe thead th {\n",
       "        text-align: right;\n",
       "    }\n",
       "</style>\n",
       "<table border=\"1\" class=\"dataframe\">\n",
       "  <thead>\n",
       "    <tr style=\"text-align: right;\">\n",
       "      <th></th>\n",
       "      <th>user_screen_name</th>\n",
       "      <th>tweet_count</th>\n",
       "    </tr>\n",
       "  </thead>\n",
       "  <tbody>\n",
       "    <tr>\n",
       "      <th>0</th>\n",
       "      <td>++NKgOjGxSjksF8OoE2pc279lQPgPw+2VAEDAQFFs=</td>\n",
       "      <td>289</td>\n",
       "    </tr>\n",
       "    <tr>\n",
       "      <th>1</th>\n",
       "      <td>+H3e4huQnfPabIqJjpda8W933waxcGgJsnY0w+WcoI=</td>\n",
       "      <td>7159</td>\n",
       "    </tr>\n",
       "    <tr>\n",
       "      <th>2</th>\n",
       "      <td>+ZPMEkaCpxlnSug88JSojnxg+AE7p8viodFn5CRg=</td>\n",
       "      <td>28168</td>\n",
       "    </tr>\n",
       "    <tr>\n",
       "      <th>3</th>\n",
       "      <td>+iPsIpKQMg6RBLUH7rz9RquJvqGFh0At9B9cBPVq8o=</td>\n",
       "      <td>13404</td>\n",
       "    </tr>\n",
       "    <tr>\n",
       "      <th>4</th>\n",
       "      <td>0IODAjn8rdCiEhCJAgw2x8Ey0z9biPDat3xFjXYVb4=</td>\n",
       "      <td>1</td>\n",
       "    </tr>\n",
       "  </tbody>\n",
       "</table>\n",
       "</div>"
      ],
      "text/plain": [
       "                              user_screen_name  tweet_count\n",
       "0   ++NKgOjGxSjksF8OoE2pc279lQPgPw+2VAEDAQFFs=          289\n",
       "1  +H3e4huQnfPabIqJjpda8W933waxcGgJsnY0w+WcoI=         7159\n",
       "2    +ZPMEkaCpxlnSug88JSojnxg+AE7p8viodFn5CRg=        28168\n",
       "3  +iPsIpKQMg6RBLUH7rz9RquJvqGFh0At9B9cBPVq8o=        13404\n",
       "4  0IODAjn8rdCiEhCJAgw2x8Ey0z9biPDat3xFjXYVb4=            1"
      ]
     },
     "execution_count": 278,
     "metadata": {},
     "output_type": "execute_result"
    }
   ],
   "source": [
    "df_tweet_counts.head()"
   ]
  },
  {
   "cell_type": "markdown",
   "metadata": {},
   "source": [
    "We're now ready to execute the join."
   ]
  },
  {
   "cell_type": "code",
   "execution_count": 280,
   "metadata": {},
   "outputs": [],
   "source": [
    "df_users = df_user_screen_name.merge(\n",
    "    df_tweet_counts, \n",
    "    how='left', \n",
    "    on='user_screen_name'\n",
    ")"
   ]
  },
  {
   "cell_type": "code",
   "execution_count": 281,
   "metadata": {},
   "outputs": [
    {
     "data": {
      "text/html": [
       "<div>\n",
       "<style scoped>\n",
       "    .dataframe tbody tr th:only-of-type {\n",
       "        vertical-align: middle;\n",
       "    }\n",
       "\n",
       "    .dataframe tbody tr th {\n",
       "        vertical-align: top;\n",
       "    }\n",
       "\n",
       "    .dataframe thead th {\n",
       "        text-align: right;\n",
       "    }\n",
       "</style>\n",
       "<table border=\"1\" class=\"dataframe\">\n",
       "  <thead>\n",
       "    <tr style=\"text-align: right;\">\n",
       "      <th></th>\n",
       "      <th>user_screen_name</th>\n",
       "      <th>userid</th>\n",
       "      <th>follower_count</th>\n",
       "      <th>following_count</th>\n",
       "      <th>tweet_count</th>\n",
       "    </tr>\n",
       "  </thead>\n",
       "  <tbody>\n",
       "    <tr>\n",
       "      <th>0</th>\n",
       "      <td>y_44a_</td>\n",
       "      <td>948302862098092034</td>\n",
       "      <td>9007</td>\n",
       "      <td>8821</td>\n",
       "      <td>258339</td>\n",
       "    </tr>\n",
       "    <tr>\n",
       "      <th>1</th>\n",
       "      <td>iXwa1+qxYAH2hEJ9nDG11qo6nmcpl89IQKhDRDqpfU4=</td>\n",
       "      <td>iXwa1+qxYAH2hEJ9nDG11qo6nmcpl89IQKhDRDqpfU4=</td>\n",
       "      <td>168</td>\n",
       "      <td>408</td>\n",
       "      <td>4982</td>\n",
       "    </tr>\n",
       "    <tr>\n",
       "      <th>2</th>\n",
       "      <td>Gj+bihYSO0L5Ht1+f9OEqP42KbnJWtNK4qv0WJr0cs=</td>\n",
       "      <td>Gj+bihYSO0L5Ht1+f9OEqP42KbnJWtNK4qv0WJr0cs=</td>\n",
       "      <td>1623</td>\n",
       "      <td>2022</td>\n",
       "      <td>59605</td>\n",
       "    </tr>\n",
       "    <tr>\n",
       "      <th>3</th>\n",
       "      <td>2SJuOzyE6GQOsmW9ukY3ChH8rl049x6mDNZi3EM=</td>\n",
       "      <td>2SJuOzyE6GQOsmW9ukY3ChH8rl049x6mDNZi3EM=</td>\n",
       "      <td>1850</td>\n",
       "      <td>1594</td>\n",
       "      <td>14833</td>\n",
       "    </tr>\n",
       "    <tr>\n",
       "      <th>4</th>\n",
       "      <td>ytmVN9opEFMM7Uk+0O0XgSuOpIRlok5Xqu+jel9qyM=</td>\n",
       "      <td>ytmVN9opEFMM7Uk+0O0XgSuOpIRlok5Xqu+jel9qyM=</td>\n",
       "      <td>3928</td>\n",
       "      <td>4273</td>\n",
       "      <td>17643</td>\n",
       "    </tr>\n",
       "  </tbody>\n",
       "</table>\n",
       "</div>"
      ],
      "text/plain": [
       "                               user_screen_name  \\\n",
       "0                                        y_44a_   \n",
       "1  iXwa1+qxYAH2hEJ9nDG11qo6nmcpl89IQKhDRDqpfU4=   \n",
       "2   Gj+bihYSO0L5Ht1+f9OEqP42KbnJWtNK4qv0WJr0cs=   \n",
       "3      2SJuOzyE6GQOsmW9ukY3ChH8rl049x6mDNZi3EM=   \n",
       "4   ytmVN9opEFMM7Uk+0O0XgSuOpIRlok5Xqu+jel9qyM=   \n",
       "\n",
       "                                         userid  follower_count  \\\n",
       "0                            948302862098092034            9007   \n",
       "1  iXwa1+qxYAH2hEJ9nDG11qo6nmcpl89IQKhDRDqpfU4=             168   \n",
       "2   Gj+bihYSO0L5Ht1+f9OEqP42KbnJWtNK4qv0WJr0cs=            1623   \n",
       "3      2SJuOzyE6GQOsmW9ukY3ChH8rl049x6mDNZi3EM=            1850   \n",
       "4   ytmVN9opEFMM7Uk+0O0XgSuOpIRlok5Xqu+jel9qyM=            3928   \n",
       "\n",
       "   following_count  tweet_count  \n",
       "0             8821       258339  \n",
       "1              408         4982  \n",
       "2             2022        59605  \n",
       "3             1594        14833  \n",
       "4             4273        17643  "
      ]
     },
     "execution_count": 281,
     "metadata": {},
     "output_type": "execute_result"
    }
   ],
   "source": [
    "df_users.head()"
   ]
  },
  {
   "cell_type": "code",
   "execution_count": 282,
   "metadata": {},
   "outputs": [
    {
     "data": {
      "text/html": [
       "<div>\n",
       "<style scoped>\n",
       "    .dataframe tbody tr th:only-of-type {\n",
       "        vertical-align: middle;\n",
       "    }\n",
       "\n",
       "    .dataframe tbody tr th {\n",
       "        vertical-align: top;\n",
       "    }\n",
       "\n",
       "    .dataframe thead th {\n",
       "        text-align: right;\n",
       "    }\n",
       "</style>\n",
       "<table border=\"1\" class=\"dataframe\">\n",
       "  <thead>\n",
       "    <tr style=\"text-align: right;\">\n",
       "      <th></th>\n",
       "      <th>user_screen_name</th>\n",
       "      <th>tweet_count</th>\n",
       "    </tr>\n",
       "  </thead>\n",
       "  <tbody>\n",
       "    <tr>\n",
       "      <th>256</th>\n",
       "      <td>y_44a_</td>\n",
       "      <td>258339</td>\n",
       "    </tr>\n",
       "  </tbody>\n",
       "</table>\n",
       "</div>"
      ],
      "text/plain": [
       "    user_screen_name  tweet_count\n",
       "256           y_44a_       258339"
      ]
     },
     "execution_count": 282,
     "metadata": {},
     "output_type": "execute_result"
    }
   ],
   "source": [
    "df_tweet_counts[df_tweet_counts.user_screen_name == 'y_44a_']"
   ]
  },
  {
   "cell_type": "code",
   "execution_count": 283,
   "metadata": {},
   "outputs": [
    {
     "data": {
      "text/html": [
       "<div>\n",
       "<style scoped>\n",
       "    .dataframe tbody tr th:only-of-type {\n",
       "        vertical-align: middle;\n",
       "    }\n",
       "\n",
       "    .dataframe tbody tr th {\n",
       "        vertical-align: top;\n",
       "    }\n",
       "\n",
       "    .dataframe thead th {\n",
       "        text-align: right;\n",
       "    }\n",
       "</style>\n",
       "<table border=\"1\" class=\"dataframe\">\n",
       "  <thead>\n",
       "    <tr style=\"text-align: right;\">\n",
       "      <th></th>\n",
       "      <th>user_screen_name</th>\n",
       "      <th>tweet_count</th>\n",
       "    </tr>\n",
       "  </thead>\n",
       "  <tbody>\n",
       "    <tr>\n",
       "      <th>184</th>\n",
       "      <td>iXwa1+qxYAH2hEJ9nDG11qo6nmcpl89IQKhDRDqpfU4=</td>\n",
       "      <td>4982</td>\n",
       "    </tr>\n",
       "  </tbody>\n",
       "</table>\n",
       "</div>"
      ],
      "text/plain": [
       "                                 user_screen_name  tweet_count\n",
       "184  iXwa1+qxYAH2hEJ9nDG11qo6nmcpl89IQKhDRDqpfU4=         4982"
      ]
     },
     "execution_count": 283,
     "metadata": {},
     "output_type": "execute_result"
    }
   ],
   "source": [
    "df_tweet_counts[df_tweet_counts.user_screen_name == 'iXwa1+qxYAH2hEJ9nDG11qo6nmcpl89IQKhDRDqpfU4=']"
   ]
  },
  {
   "cell_type": "code",
   "execution_count": 284,
   "metadata": {},
   "outputs": [
    {
     "data": {
      "text/html": [
       "<div>\n",
       "<style scoped>\n",
       "    .dataframe tbody tr th:only-of-type {\n",
       "        vertical-align: middle;\n",
       "    }\n",
       "\n",
       "    .dataframe tbody tr th {\n",
       "        vertical-align: top;\n",
       "    }\n",
       "\n",
       "    .dataframe thead th {\n",
       "        text-align: right;\n",
       "    }\n",
       "</style>\n",
       "<table border=\"1\" class=\"dataframe\">\n",
       "  <thead>\n",
       "    <tr style=\"text-align: right;\">\n",
       "      <th></th>\n",
       "      <th>user_screen_name</th>\n",
       "      <th>userid</th>\n",
       "      <th>follower_count</th>\n",
       "      <th>following_count</th>\n",
       "      <th>tweet_count</th>\n",
       "    </tr>\n",
       "  </thead>\n",
       "  <tbody>\n",
       "    <tr>\n",
       "      <th>4268</th>\n",
       "      <td>7pOdmjKqHcJVTSok+qfVEYNov31rbO9CCKCwnQP7vzk=</td>\n",
       "      <td>7pOdmjKqHcJVTSok+qfVEYNov31rbO9CCKCwnQP7vzk=</td>\n",
       "      <td>11</td>\n",
       "      <td>80</td>\n",
       "      <td>1</td>\n",
       "    </tr>\n",
       "    <tr>\n",
       "      <th>4269</th>\n",
       "      <td>G+jasJ4rse9GSGy4XauAEx3JwWOR4JUmSwQzZ3rL4I=</td>\n",
       "      <td>G+jasJ4rse9GSGy4XauAEx3JwWOR4JUmSwQzZ3rL4I=</td>\n",
       "      <td>0</td>\n",
       "      <td>21</td>\n",
       "      <td>1</td>\n",
       "    </tr>\n",
       "    <tr>\n",
       "      <th>4270</th>\n",
       "      <td>w8DugCJZldmy0PZWJwFgvvm56mm5o5fBBqHgYxMXG8A=</td>\n",
       "      <td>w8DugCJZldmy0PZWJwFgvvm56mm5o5fBBqHgYxMXG8A=</td>\n",
       "      <td>0</td>\n",
       "      <td>0</td>\n",
       "      <td>1</td>\n",
       "    </tr>\n",
       "    <tr>\n",
       "      <th>4271</th>\n",
       "      <td>o+r+FeR4oE5hHYFTsleFXNUDpyA5RmzHYkvEPxYu7Ck=</td>\n",
       "      <td>o+r+FeR4oE5hHYFTsleFXNUDpyA5RmzHYkvEPxYu7Ck=</td>\n",
       "      <td>7</td>\n",
       "      <td>9</td>\n",
       "      <td>1</td>\n",
       "    </tr>\n",
       "    <tr>\n",
       "      <th>4272</th>\n",
       "      <td>sB6soAYD34Fcwj2BXikt3QTJkBBVe1J9N10QslhlnTg=</td>\n",
       "      <td>sB6soAYD34Fcwj2BXikt3QTJkBBVe1J9N10QslhlnTg=</td>\n",
       "      <td>10</td>\n",
       "      <td>5</td>\n",
       "      <td>1</td>\n",
       "    </tr>\n",
       "  </tbody>\n",
       "</table>\n",
       "</div>"
      ],
      "text/plain": [
       "                                  user_screen_name  \\\n",
       "4268  7pOdmjKqHcJVTSok+qfVEYNov31rbO9CCKCwnQP7vzk=   \n",
       "4269   G+jasJ4rse9GSGy4XauAEx3JwWOR4JUmSwQzZ3rL4I=   \n",
       "4270  w8DugCJZldmy0PZWJwFgvvm56mm5o5fBBqHgYxMXG8A=   \n",
       "4271  o+r+FeR4oE5hHYFTsleFXNUDpyA5RmzHYkvEPxYu7Ck=   \n",
       "4272  sB6soAYD34Fcwj2BXikt3QTJkBBVe1J9N10QslhlnTg=   \n",
       "\n",
       "                                            userid  follower_count  \\\n",
       "4268  7pOdmjKqHcJVTSok+qfVEYNov31rbO9CCKCwnQP7vzk=              11   \n",
       "4269   G+jasJ4rse9GSGy4XauAEx3JwWOR4JUmSwQzZ3rL4I=               0   \n",
       "4270  w8DugCJZldmy0PZWJwFgvvm56mm5o5fBBqHgYxMXG8A=               0   \n",
       "4271  o+r+FeR4oE5hHYFTsleFXNUDpyA5RmzHYkvEPxYu7Ck=               7   \n",
       "4272  sB6soAYD34Fcwj2BXikt3QTJkBBVe1J9N10QslhlnTg=              10   \n",
       "\n",
       "      following_count  tweet_count  \n",
       "4268               80            1  \n",
       "4269               21            1  \n",
       "4270                0            1  \n",
       "4271                9            1  \n",
       "4272                5            1  "
      ]
     },
     "execution_count": 284,
     "metadata": {},
     "output_type": "execute_result"
    }
   ],
   "source": [
    "df_users.tail()"
   ]
  },
  {
   "cell_type": "markdown",
   "metadata": {},
   "source": [
    "Excellent, that worked. These are the **4273 unique users** who have been flagged and removed by Twitter."
   ]
  },
  {
   "cell_type": "markdown",
   "metadata": {},
   "source": [
    "## 6.2. Get Unique Usernames of Retweeted Users (not flagged)\n",
    "\n",
    "Let's now proceed to append the remaining users whose tweets were retweeted by some of these 4273 flagged users. These are stored in the retweet_user_screen_name column.\n",
    "\n",
    "We will:\n",
    "1. get all unique usernames from that column\n",
    "2. append them to df_users\n",
    "3. then drop duplicates (method='first') which will leave us with only those retweet_usernames added that are not already in this df_users dataframe of 4273 flagged users."
   ]
  },
  {
   "cell_type": "code",
   "execution_count": 338,
   "metadata": {},
   "outputs": [],
   "source": [
    "ddf_retweet_usernames = ddf[['retweet_user_screen_name']].persist()"
   ]
  },
  {
   "cell_type": "code",
   "execution_count": 339,
   "metadata": {},
   "outputs": [],
   "source": [
    "ddf_retweet_usernames = ddf_retweet_usernames.drop_duplicates()"
   ]
  },
  {
   "cell_type": "code",
   "execution_count": 340,
   "metadata": {},
   "outputs": [
    {
     "data": {
      "text/plain": [
       "334100"
      ]
     },
     "execution_count": 340,
     "metadata": {},
     "output_type": "execute_result"
    }
   ],
   "source": [
    "ddf_retweet_usernames.shape[0].compute()"
   ]
  },
  {
   "cell_type": "code",
   "execution_count": 341,
   "metadata": {},
   "outputs": [],
   "source": [
    "# bring in as pandas dataframe\n",
    "df_retweet_usernames = ddf_retweet_usernames.compute()"
   ]
  },
  {
   "cell_type": "code",
   "execution_count": 342,
   "metadata": {},
   "outputs": [
    {
     "data": {
      "text/html": [
       "<div>\n",
       "<style scoped>\n",
       "    .dataframe tbody tr th:only-of-type {\n",
       "        vertical-align: middle;\n",
       "    }\n",
       "\n",
       "    .dataframe tbody tr th {\n",
       "        vertical-align: top;\n",
       "    }\n",
       "\n",
       "    .dataframe thead th {\n",
       "        text-align: right;\n",
       "    }\n",
       "</style>\n",
       "<table border=\"1\" class=\"dataframe\">\n",
       "  <thead>\n",
       "    <tr style=\"text-align: right;\">\n",
       "      <th></th>\n",
       "      <th>retweet_user_screen_name</th>\n",
       "    </tr>\n",
       "    <tr>\n",
       "      <th>tweetid</th>\n",
       "      <th></th>\n",
       "    </tr>\n",
       "  </thead>\n",
       "  <tbody>\n",
       "    <tr>\n",
       "      <th>1000000000447930368</th>\n",
       "      <td>oneway_market</td>\n",
       "    </tr>\n",
       "    <tr>\n",
       "      <th>1000000030391095297</th>\n",
       "      <td>games4marah</td>\n",
       "    </tr>\n",
       "    <tr>\n",
       "      <th>1000000039362662400</th>\n",
       "      <td>mzlatksa</td>\n",
       "    </tr>\n",
       "    <tr>\n",
       "      <th>1000000054911033344</th>\n",
       "      <td>videohat_1</td>\n",
       "    </tr>\n",
       "    <tr>\n",
       "      <th>1000000204865789954</th>\n",
       "      <td>NaN</td>\n",
       "    </tr>\n",
       "  </tbody>\n",
       "</table>\n",
       "</div>"
      ],
      "text/plain": [
       "                    retweet_user_screen_name\n",
       "tweetid                                     \n",
       "1000000000447930368            oneway_market\n",
       "1000000030391095297              games4marah\n",
       "1000000039362662400                 mzlatksa\n",
       "1000000054911033344               videohat_1\n",
       "1000000204865789954                      NaN"
      ]
     },
     "execution_count": 342,
     "metadata": {},
     "output_type": "execute_result"
    }
   ],
   "source": [
    "df_retweet_usernames.head()"
   ]
  },
  {
   "cell_type": "code",
   "execution_count": 343,
   "metadata": {},
   "outputs": [
    {
     "data": {
      "text/plain": [
       "1"
      ]
     },
     "execution_count": 343,
     "metadata": {},
     "output_type": "execute_result"
    }
   ],
   "source": [
    "df_retweet_usernames.retweet_user_screen_name.isnull().sum()"
   ]
  },
  {
   "cell_type": "code",
   "execution_count": 344,
   "metadata": {},
   "outputs": [],
   "source": [
    "df_retweet_usernames.dropna(inplace=True)"
   ]
  },
  {
   "cell_type": "code",
   "execution_count": 345,
   "metadata": {},
   "outputs": [],
   "source": [
    "df_retweet_usernames.reset_index(drop=True, inplace=True)"
   ]
  },
  {
   "cell_type": "code",
   "execution_count": 346,
   "metadata": {},
   "outputs": [
    {
     "data": {
      "text/html": [
       "<div>\n",
       "<style scoped>\n",
       "    .dataframe tbody tr th:only-of-type {\n",
       "        vertical-align: middle;\n",
       "    }\n",
       "\n",
       "    .dataframe tbody tr th {\n",
       "        vertical-align: top;\n",
       "    }\n",
       "\n",
       "    .dataframe thead th {\n",
       "        text-align: right;\n",
       "    }\n",
       "</style>\n",
       "<table border=\"1\" class=\"dataframe\">\n",
       "  <thead>\n",
       "    <tr style=\"text-align: right;\">\n",
       "      <th></th>\n",
       "      <th>retweet_user_screen_name</th>\n",
       "    </tr>\n",
       "  </thead>\n",
       "  <tbody>\n",
       "    <tr>\n",
       "      <th>0</th>\n",
       "      <td>oneway_market</td>\n",
       "    </tr>\n",
       "    <tr>\n",
       "      <th>1</th>\n",
       "      <td>games4marah</td>\n",
       "    </tr>\n",
       "    <tr>\n",
       "      <th>2</th>\n",
       "      <td>mzlatksa</td>\n",
       "    </tr>\n",
       "    <tr>\n",
       "      <th>3</th>\n",
       "      <td>videohat_1</td>\n",
       "    </tr>\n",
       "    <tr>\n",
       "      <th>4</th>\n",
       "      <td>danat_almesk</td>\n",
       "    </tr>\n",
       "  </tbody>\n",
       "</table>\n",
       "</div>"
      ],
      "text/plain": [
       "  retweet_user_screen_name\n",
       "0            oneway_market\n",
       "1              games4marah\n",
       "2                 mzlatksa\n",
       "3               videohat_1\n",
       "4             danat_almesk"
      ]
     },
     "execution_count": 346,
     "metadata": {},
     "output_type": "execute_result"
    }
   ],
   "source": [
    "df_retweet_usernames.head()"
   ]
  },
  {
   "cell_type": "code",
   "execution_count": 347,
   "metadata": {},
   "outputs": [
    {
     "data": {
      "text/plain": [
       "(334099, 1)"
      ]
     },
     "execution_count": 347,
     "metadata": {},
     "output_type": "execute_result"
    }
   ],
   "source": [
    "df_retweet_usernames.shape"
   ]
  },
  {
   "cell_type": "markdown",
   "metadata": {},
   "source": [
    "That's a lot of extra usernames. Seems like there are plenty of tweets included that were not originally authored by the flagged users in this dataset. \n",
    "\n",
    "**NOTE:** Would be interesting to investigate what those are, because - technically speaking - those should be perfectly harmless Tweets. Since Twitter didn't flag them, that is..."
   ]
  },
  {
   "cell_type": "code",
   "execution_count": 348,
   "metadata": {},
   "outputs": [],
   "source": [
    "df_retweet_usernames = df_retweet_usernames.rename(columns={'retweet_user_screen_name': 'user_screen_name'})"
   ]
  },
  {
   "cell_type": "code",
   "execution_count": 349,
   "metadata": {},
   "outputs": [],
   "source": [
    "df_retweet_usernames['flagged'] = 0"
   ]
  },
  {
   "cell_type": "code",
   "execution_count": 350,
   "metadata": {},
   "outputs": [],
   "source": [
    "df_users = df_users.append(df_retweet_usernames)"
   ]
  },
  {
   "cell_type": "code",
   "execution_count": 352,
   "metadata": {},
   "outputs": [
    {
     "data": {
      "text/html": [
       "<div>\n",
       "<style scoped>\n",
       "    .dataframe tbody tr th:only-of-type {\n",
       "        vertical-align: middle;\n",
       "    }\n",
       "\n",
       "    .dataframe tbody tr th {\n",
       "        vertical-align: top;\n",
       "    }\n",
       "\n",
       "    .dataframe thead th {\n",
       "        text-align: right;\n",
       "    }\n",
       "</style>\n",
       "<table border=\"1\" class=\"dataframe\">\n",
       "  <thead>\n",
       "    <tr style=\"text-align: right;\">\n",
       "      <th></th>\n",
       "      <th>user_screen_name</th>\n",
       "      <th>userid</th>\n",
       "      <th>follower_count</th>\n",
       "      <th>following_count</th>\n",
       "      <th>tweet_count</th>\n",
       "      <th>flagged</th>\n",
       "    </tr>\n",
       "  </thead>\n",
       "  <tbody>\n",
       "    <tr>\n",
       "      <th>4270</th>\n",
       "      <td>w8DugCJZldmy0PZWJwFgvvm56mm5o5fBBqHgYxMXG8A=</td>\n",
       "      <td>w8DugCJZldmy0PZWJwFgvvm56mm5o5fBBqHgYxMXG8A=</td>\n",
       "      <td>0.0</td>\n",
       "      <td>0.0</td>\n",
       "      <td>1.0</td>\n",
       "      <td>NaN</td>\n",
       "    </tr>\n",
       "    <tr>\n",
       "      <th>4271</th>\n",
       "      <td>o+r+FeR4oE5hHYFTsleFXNUDpyA5RmzHYkvEPxYu7Ck=</td>\n",
       "      <td>o+r+FeR4oE5hHYFTsleFXNUDpyA5RmzHYkvEPxYu7Ck=</td>\n",
       "      <td>7.0</td>\n",
       "      <td>9.0</td>\n",
       "      <td>1.0</td>\n",
       "      <td>NaN</td>\n",
       "    </tr>\n",
       "    <tr>\n",
       "      <th>4272</th>\n",
       "      <td>sB6soAYD34Fcwj2BXikt3QTJkBBVe1J9N10QslhlnTg=</td>\n",
       "      <td>sB6soAYD34Fcwj2BXikt3QTJkBBVe1J9N10QslhlnTg=</td>\n",
       "      <td>10.0</td>\n",
       "      <td>5.0</td>\n",
       "      <td>1.0</td>\n",
       "      <td>NaN</td>\n",
       "    </tr>\n",
       "    <tr>\n",
       "      <th>0</th>\n",
       "      <td>oneway_market</td>\n",
       "      <td>NaN</td>\n",
       "      <td>NaN</td>\n",
       "      <td>NaN</td>\n",
       "      <td>NaN</td>\n",
       "      <td>0.0</td>\n",
       "    </tr>\n",
       "    <tr>\n",
       "      <th>1</th>\n",
       "      <td>games4marah</td>\n",
       "      <td>NaN</td>\n",
       "      <td>NaN</td>\n",
       "      <td>NaN</td>\n",
       "      <td>NaN</td>\n",
       "      <td>0.0</td>\n",
       "    </tr>\n",
       "    <tr>\n",
       "      <th>2</th>\n",
       "      <td>mzlatksa</td>\n",
       "      <td>NaN</td>\n",
       "      <td>NaN</td>\n",
       "      <td>NaN</td>\n",
       "      <td>NaN</td>\n",
       "      <td>0.0</td>\n",
       "    </tr>\n",
       "    <tr>\n",
       "      <th>3</th>\n",
       "      <td>videohat_1</td>\n",
       "      <td>NaN</td>\n",
       "      <td>NaN</td>\n",
       "      <td>NaN</td>\n",
       "      <td>NaN</td>\n",
       "      <td>0.0</td>\n",
       "    </tr>\n",
       "    <tr>\n",
       "      <th>4</th>\n",
       "      <td>danat_almesk</td>\n",
       "      <td>NaN</td>\n",
       "      <td>NaN</td>\n",
       "      <td>NaN</td>\n",
       "      <td>NaN</td>\n",
       "      <td>0.0</td>\n",
       "    </tr>\n",
       "    <tr>\n",
       "      <th>5</th>\n",
       "      <td>756870fda1544b6</td>\n",
       "      <td>NaN</td>\n",
       "      <td>NaN</td>\n",
       "      <td>NaN</td>\n",
       "      <td>NaN</td>\n",
       "      <td>0.0</td>\n",
       "    </tr>\n",
       "    <tr>\n",
       "      <th>6</th>\n",
       "      <td>m3asafarah</td>\n",
       "      <td>NaN</td>\n",
       "      <td>NaN</td>\n",
       "      <td>NaN</td>\n",
       "      <td>NaN</td>\n",
       "      <td>0.0</td>\n",
       "    </tr>\n",
       "  </tbody>\n",
       "</table>\n",
       "</div>"
      ],
      "text/plain": [
       "                                  user_screen_name  \\\n",
       "4270  w8DugCJZldmy0PZWJwFgvvm56mm5o5fBBqHgYxMXG8A=   \n",
       "4271  o+r+FeR4oE5hHYFTsleFXNUDpyA5RmzHYkvEPxYu7Ck=   \n",
       "4272  sB6soAYD34Fcwj2BXikt3QTJkBBVe1J9N10QslhlnTg=   \n",
       "0                                    oneway_market   \n",
       "1                                      games4marah   \n",
       "2                                         mzlatksa   \n",
       "3                                       videohat_1   \n",
       "4                                     danat_almesk   \n",
       "5                                  756870fda1544b6   \n",
       "6                                       m3asafarah   \n",
       "\n",
       "                                            userid  follower_count  \\\n",
       "4270  w8DugCJZldmy0PZWJwFgvvm56mm5o5fBBqHgYxMXG8A=             0.0   \n",
       "4271  o+r+FeR4oE5hHYFTsleFXNUDpyA5RmzHYkvEPxYu7Ck=             7.0   \n",
       "4272  sB6soAYD34Fcwj2BXikt3QTJkBBVe1J9N10QslhlnTg=            10.0   \n",
       "0                                              NaN             NaN   \n",
       "1                                              NaN             NaN   \n",
       "2                                              NaN             NaN   \n",
       "3                                              NaN             NaN   \n",
       "4                                              NaN             NaN   \n",
       "5                                              NaN             NaN   \n",
       "6                                              NaN             NaN   \n",
       "\n",
       "      following_count  tweet_count  flagged  \n",
       "4270              0.0          1.0      NaN  \n",
       "4271              9.0          1.0      NaN  \n",
       "4272              5.0          1.0      NaN  \n",
       "0                 NaN          NaN      0.0  \n",
       "1                 NaN          NaN      0.0  \n",
       "2                 NaN          NaN      0.0  \n",
       "3                 NaN          NaN      0.0  \n",
       "4                 NaN          NaN      0.0  \n",
       "5                 NaN          NaN      0.0  \n",
       "6                 NaN          NaN      0.0  "
      ]
     },
     "execution_count": 352,
     "metadata": {},
     "output_type": "execute_result"
    }
   ],
   "source": [
    "df_users.iloc[4270:4280]"
   ]
  },
  {
   "cell_type": "markdown",
   "metadata": {},
   "source": [
    "Excellent, just need to:\n",
    "\n",
    "1. reset the index\n",
    "2. drop duplicate user_screen_name (keeping the 'first')\n",
    "3. set 'Flagged' column to 0 for all NaN values"
   ]
  },
  {
   "cell_type": "code",
   "execution_count": 353,
   "metadata": {},
   "outputs": [],
   "source": [
    "# drop duplicates\n",
    "df_users.drop_duplicates(subset='user_screen_name', keep='first', inplace=True)"
   ]
  },
  {
   "cell_type": "code",
   "execution_count": 354,
   "metadata": {},
   "outputs": [
    {
     "data": {
      "text/plain": [
       "(336755, 6)"
      ]
     },
     "execution_count": 354,
     "metadata": {},
     "output_type": "execute_result"
    }
   ],
   "source": [
    "df_users.shape"
   ]
  },
  {
   "cell_type": "code",
   "execution_count": 355,
   "metadata": {},
   "outputs": [
    {
     "data": {
      "text/html": [
       "<div>\n",
       "<style scoped>\n",
       "    .dataframe tbody tr th:only-of-type {\n",
       "        vertical-align: middle;\n",
       "    }\n",
       "\n",
       "    .dataframe tbody tr th {\n",
       "        vertical-align: top;\n",
       "    }\n",
       "\n",
       "    .dataframe thead th {\n",
       "        text-align: right;\n",
       "    }\n",
       "</style>\n",
       "<table border=\"1\" class=\"dataframe\">\n",
       "  <thead>\n",
       "    <tr style=\"text-align: right;\">\n",
       "      <th></th>\n",
       "      <th>user_screen_name</th>\n",
       "      <th>userid</th>\n",
       "      <th>follower_count</th>\n",
       "      <th>following_count</th>\n",
       "      <th>tweet_count</th>\n",
       "      <th>flagged</th>\n",
       "    </tr>\n",
       "  </thead>\n",
       "  <tbody>\n",
       "    <tr>\n",
       "      <th>4270</th>\n",
       "      <td>w8DugCJZldmy0PZWJwFgvvm56mm5o5fBBqHgYxMXG8A=</td>\n",
       "      <td>w8DugCJZldmy0PZWJwFgvvm56mm5o5fBBqHgYxMXG8A=</td>\n",
       "      <td>0.0</td>\n",
       "      <td>0.0</td>\n",
       "      <td>1.0</td>\n",
       "      <td>NaN</td>\n",
       "    </tr>\n",
       "    <tr>\n",
       "      <th>4271</th>\n",
       "      <td>o+r+FeR4oE5hHYFTsleFXNUDpyA5RmzHYkvEPxYu7Ck=</td>\n",
       "      <td>o+r+FeR4oE5hHYFTsleFXNUDpyA5RmzHYkvEPxYu7Ck=</td>\n",
       "      <td>7.0</td>\n",
       "      <td>9.0</td>\n",
       "      <td>1.0</td>\n",
       "      <td>NaN</td>\n",
       "    </tr>\n",
       "    <tr>\n",
       "      <th>4272</th>\n",
       "      <td>sB6soAYD34Fcwj2BXikt3QTJkBBVe1J9N10QslhlnTg=</td>\n",
       "      <td>sB6soAYD34Fcwj2BXikt3QTJkBBVe1J9N10QslhlnTg=</td>\n",
       "      <td>10.0</td>\n",
       "      <td>5.0</td>\n",
       "      <td>1.0</td>\n",
       "      <td>NaN</td>\n",
       "    </tr>\n",
       "    <tr>\n",
       "      <th>0</th>\n",
       "      <td>oneway_market</td>\n",
       "      <td>NaN</td>\n",
       "      <td>NaN</td>\n",
       "      <td>NaN</td>\n",
       "      <td>NaN</td>\n",
       "      <td>0.0</td>\n",
       "    </tr>\n",
       "    <tr>\n",
       "      <th>1</th>\n",
       "      <td>games4marah</td>\n",
       "      <td>NaN</td>\n",
       "      <td>NaN</td>\n",
       "      <td>NaN</td>\n",
       "      <td>NaN</td>\n",
       "      <td>0.0</td>\n",
       "    </tr>\n",
       "    <tr>\n",
       "      <th>2</th>\n",
       "      <td>mzlatksa</td>\n",
       "      <td>NaN</td>\n",
       "      <td>NaN</td>\n",
       "      <td>NaN</td>\n",
       "      <td>NaN</td>\n",
       "      <td>0.0</td>\n",
       "    </tr>\n",
       "    <tr>\n",
       "      <th>3</th>\n",
       "      <td>videohat_1</td>\n",
       "      <td>NaN</td>\n",
       "      <td>NaN</td>\n",
       "      <td>NaN</td>\n",
       "      <td>NaN</td>\n",
       "      <td>0.0</td>\n",
       "    </tr>\n",
       "    <tr>\n",
       "      <th>4</th>\n",
       "      <td>danat_almesk</td>\n",
       "      <td>NaN</td>\n",
       "      <td>NaN</td>\n",
       "      <td>NaN</td>\n",
       "      <td>NaN</td>\n",
       "      <td>0.0</td>\n",
       "    </tr>\n",
       "    <tr>\n",
       "      <th>5</th>\n",
       "      <td>756870fda1544b6</td>\n",
       "      <td>NaN</td>\n",
       "      <td>NaN</td>\n",
       "      <td>NaN</td>\n",
       "      <td>NaN</td>\n",
       "      <td>0.0</td>\n",
       "    </tr>\n",
       "    <tr>\n",
       "      <th>6</th>\n",
       "      <td>m3asafarah</td>\n",
       "      <td>NaN</td>\n",
       "      <td>NaN</td>\n",
       "      <td>NaN</td>\n",
       "      <td>NaN</td>\n",
       "      <td>0.0</td>\n",
       "    </tr>\n",
       "  </tbody>\n",
       "</table>\n",
       "</div>"
      ],
      "text/plain": [
       "                                  user_screen_name  \\\n",
       "4270  w8DugCJZldmy0PZWJwFgvvm56mm5o5fBBqHgYxMXG8A=   \n",
       "4271  o+r+FeR4oE5hHYFTsleFXNUDpyA5RmzHYkvEPxYu7Ck=   \n",
       "4272  sB6soAYD34Fcwj2BXikt3QTJkBBVe1J9N10QslhlnTg=   \n",
       "0                                    oneway_market   \n",
       "1                                      games4marah   \n",
       "2                                         mzlatksa   \n",
       "3                                       videohat_1   \n",
       "4                                     danat_almesk   \n",
       "5                                  756870fda1544b6   \n",
       "6                                       m3asafarah   \n",
       "\n",
       "                                            userid  follower_count  \\\n",
       "4270  w8DugCJZldmy0PZWJwFgvvm56mm5o5fBBqHgYxMXG8A=             0.0   \n",
       "4271  o+r+FeR4oE5hHYFTsleFXNUDpyA5RmzHYkvEPxYu7Ck=             7.0   \n",
       "4272  sB6soAYD34Fcwj2BXikt3QTJkBBVe1J9N10QslhlnTg=            10.0   \n",
       "0                                              NaN             NaN   \n",
       "1                                              NaN             NaN   \n",
       "2                                              NaN             NaN   \n",
       "3                                              NaN             NaN   \n",
       "4                                              NaN             NaN   \n",
       "5                                              NaN             NaN   \n",
       "6                                              NaN             NaN   \n",
       "\n",
       "      following_count  tweet_count  flagged  \n",
       "4270              0.0          1.0      NaN  \n",
       "4271              9.0          1.0      NaN  \n",
       "4272              5.0          1.0      NaN  \n",
       "0                 NaN          NaN      0.0  \n",
       "1                 NaN          NaN      0.0  \n",
       "2                 NaN          NaN      0.0  \n",
       "3                 NaN          NaN      0.0  \n",
       "4                 NaN          NaN      0.0  \n",
       "5                 NaN          NaN      0.0  \n",
       "6                 NaN          NaN      0.0  "
      ]
     },
     "execution_count": 355,
     "metadata": {},
     "output_type": "execute_result"
    }
   ],
   "source": [
    "df_users.iloc[4270:4280]"
   ]
  },
  {
   "cell_type": "markdown",
   "metadata": {},
   "source": [
    "Alright, after appending the two sets of usernames and dropping duplicates, we are left with close to 337k users, of which 4273 have been flagged by Twitter (and contain additional information like following_count, etc.).\n",
    "\n",
    "Let's reset the index."
   ]
  },
  {
   "cell_type": "code",
   "execution_count": 356,
   "metadata": {},
   "outputs": [],
   "source": [
    "df_users.reset_index(drop=True, inplace=True)"
   ]
  },
  {
   "cell_type": "code",
   "execution_count": 357,
   "metadata": {},
   "outputs": [
    {
     "data": {
      "text/html": [
       "<div>\n",
       "<style scoped>\n",
       "    .dataframe tbody tr th:only-of-type {\n",
       "        vertical-align: middle;\n",
       "    }\n",
       "\n",
       "    .dataframe tbody tr th {\n",
       "        vertical-align: top;\n",
       "    }\n",
       "\n",
       "    .dataframe thead th {\n",
       "        text-align: right;\n",
       "    }\n",
       "</style>\n",
       "<table border=\"1\" class=\"dataframe\">\n",
       "  <thead>\n",
       "    <tr style=\"text-align: right;\">\n",
       "      <th></th>\n",
       "      <th>user_screen_name</th>\n",
       "      <th>userid</th>\n",
       "      <th>follower_count</th>\n",
       "      <th>following_count</th>\n",
       "      <th>tweet_count</th>\n",
       "      <th>flagged</th>\n",
       "    </tr>\n",
       "  </thead>\n",
       "  <tbody>\n",
       "    <tr>\n",
       "      <th>4270</th>\n",
       "      <td>w8DugCJZldmy0PZWJwFgvvm56mm5o5fBBqHgYxMXG8A=</td>\n",
       "      <td>w8DugCJZldmy0PZWJwFgvvm56mm5o5fBBqHgYxMXG8A=</td>\n",
       "      <td>0.0</td>\n",
       "      <td>0.0</td>\n",
       "      <td>1.0</td>\n",
       "      <td>NaN</td>\n",
       "    </tr>\n",
       "    <tr>\n",
       "      <th>4271</th>\n",
       "      <td>o+r+FeR4oE5hHYFTsleFXNUDpyA5RmzHYkvEPxYu7Ck=</td>\n",
       "      <td>o+r+FeR4oE5hHYFTsleFXNUDpyA5RmzHYkvEPxYu7Ck=</td>\n",
       "      <td>7.0</td>\n",
       "      <td>9.0</td>\n",
       "      <td>1.0</td>\n",
       "      <td>NaN</td>\n",
       "    </tr>\n",
       "    <tr>\n",
       "      <th>4272</th>\n",
       "      <td>sB6soAYD34Fcwj2BXikt3QTJkBBVe1J9N10QslhlnTg=</td>\n",
       "      <td>sB6soAYD34Fcwj2BXikt3QTJkBBVe1J9N10QslhlnTg=</td>\n",
       "      <td>10.0</td>\n",
       "      <td>5.0</td>\n",
       "      <td>1.0</td>\n",
       "      <td>NaN</td>\n",
       "    </tr>\n",
       "    <tr>\n",
       "      <th>4273</th>\n",
       "      <td>oneway_market</td>\n",
       "      <td>NaN</td>\n",
       "      <td>NaN</td>\n",
       "      <td>NaN</td>\n",
       "      <td>NaN</td>\n",
       "      <td>0.0</td>\n",
       "    </tr>\n",
       "    <tr>\n",
       "      <th>4274</th>\n",
       "      <td>games4marah</td>\n",
       "      <td>NaN</td>\n",
       "      <td>NaN</td>\n",
       "      <td>NaN</td>\n",
       "      <td>NaN</td>\n",
       "      <td>0.0</td>\n",
       "    </tr>\n",
       "    <tr>\n",
       "      <th>4275</th>\n",
       "      <td>mzlatksa</td>\n",
       "      <td>NaN</td>\n",
       "      <td>NaN</td>\n",
       "      <td>NaN</td>\n",
       "      <td>NaN</td>\n",
       "      <td>0.0</td>\n",
       "    </tr>\n",
       "    <tr>\n",
       "      <th>4276</th>\n",
       "      <td>videohat_1</td>\n",
       "      <td>NaN</td>\n",
       "      <td>NaN</td>\n",
       "      <td>NaN</td>\n",
       "      <td>NaN</td>\n",
       "      <td>0.0</td>\n",
       "    </tr>\n",
       "    <tr>\n",
       "      <th>4277</th>\n",
       "      <td>danat_almesk</td>\n",
       "      <td>NaN</td>\n",
       "      <td>NaN</td>\n",
       "      <td>NaN</td>\n",
       "      <td>NaN</td>\n",
       "      <td>0.0</td>\n",
       "    </tr>\n",
       "    <tr>\n",
       "      <th>4278</th>\n",
       "      <td>756870fda1544b6</td>\n",
       "      <td>NaN</td>\n",
       "      <td>NaN</td>\n",
       "      <td>NaN</td>\n",
       "      <td>NaN</td>\n",
       "      <td>0.0</td>\n",
       "    </tr>\n",
       "    <tr>\n",
       "      <th>4279</th>\n",
       "      <td>m3asafarah</td>\n",
       "      <td>NaN</td>\n",
       "      <td>NaN</td>\n",
       "      <td>NaN</td>\n",
       "      <td>NaN</td>\n",
       "      <td>0.0</td>\n",
       "    </tr>\n",
       "  </tbody>\n",
       "</table>\n",
       "</div>"
      ],
      "text/plain": [
       "                                  user_screen_name  \\\n",
       "4270  w8DugCJZldmy0PZWJwFgvvm56mm5o5fBBqHgYxMXG8A=   \n",
       "4271  o+r+FeR4oE5hHYFTsleFXNUDpyA5RmzHYkvEPxYu7Ck=   \n",
       "4272  sB6soAYD34Fcwj2BXikt3QTJkBBVe1J9N10QslhlnTg=   \n",
       "4273                                 oneway_market   \n",
       "4274                                   games4marah   \n",
       "4275                                      mzlatksa   \n",
       "4276                                    videohat_1   \n",
       "4277                                  danat_almesk   \n",
       "4278                               756870fda1544b6   \n",
       "4279                                    m3asafarah   \n",
       "\n",
       "                                            userid  follower_count  \\\n",
       "4270  w8DugCJZldmy0PZWJwFgvvm56mm5o5fBBqHgYxMXG8A=             0.0   \n",
       "4271  o+r+FeR4oE5hHYFTsleFXNUDpyA5RmzHYkvEPxYu7Ck=             7.0   \n",
       "4272  sB6soAYD34Fcwj2BXikt3QTJkBBVe1J9N10QslhlnTg=            10.0   \n",
       "4273                                           NaN             NaN   \n",
       "4274                                           NaN             NaN   \n",
       "4275                                           NaN             NaN   \n",
       "4276                                           NaN             NaN   \n",
       "4277                                           NaN             NaN   \n",
       "4278                                           NaN             NaN   \n",
       "4279                                           NaN             NaN   \n",
       "\n",
       "      following_count  tweet_count  flagged  \n",
       "4270              0.0          1.0      NaN  \n",
       "4271              9.0          1.0      NaN  \n",
       "4272              5.0          1.0      NaN  \n",
       "4273              NaN          NaN      0.0  \n",
       "4274              NaN          NaN      0.0  \n",
       "4275              NaN          NaN      0.0  \n",
       "4276              NaN          NaN      0.0  \n",
       "4277              NaN          NaN      0.0  \n",
       "4278              NaN          NaN      0.0  \n",
       "4279              NaN          NaN      0.0  "
      ]
     },
     "execution_count": 357,
     "metadata": {},
     "output_type": "execute_result"
    }
   ],
   "source": [
    "df_users.iloc[4270:4280]"
   ]
  },
  {
   "cell_type": "code",
   "execution_count": 358,
   "metadata": {},
   "outputs": [
    {
     "data": {
      "text/html": [
       "<div>\n",
       "<style scoped>\n",
       "    .dataframe tbody tr th:only-of-type {\n",
       "        vertical-align: middle;\n",
       "    }\n",
       "\n",
       "    .dataframe tbody tr th {\n",
       "        vertical-align: top;\n",
       "    }\n",
       "\n",
       "    .dataframe thead th {\n",
       "        text-align: right;\n",
       "    }\n",
       "</style>\n",
       "<table border=\"1\" class=\"dataframe\">\n",
       "  <thead>\n",
       "    <tr style=\"text-align: right;\">\n",
       "      <th></th>\n",
       "      <th>user_screen_name</th>\n",
       "      <th>userid</th>\n",
       "      <th>follower_count</th>\n",
       "      <th>following_count</th>\n",
       "      <th>tweet_count</th>\n",
       "      <th>flagged</th>\n",
       "    </tr>\n",
       "  </thead>\n",
       "  <tbody>\n",
       "    <tr>\n",
       "      <th>336750</th>\n",
       "      <td>nice_moon2030</td>\n",
       "      <td>NaN</td>\n",
       "      <td>NaN</td>\n",
       "      <td>NaN</td>\n",
       "      <td>NaN</td>\n",
       "      <td>0.0</td>\n",
       "    </tr>\n",
       "    <tr>\n",
       "      <th>336751</th>\n",
       "      <td>Shaibah11</td>\n",
       "      <td>NaN</td>\n",
       "      <td>NaN</td>\n",
       "      <td>NaN</td>\n",
       "      <td>NaN</td>\n",
       "      <td>0.0</td>\n",
       "    </tr>\n",
       "    <tr>\n",
       "      <th>336752</th>\n",
       "      <td>EqA50Heq8z0Jaff</td>\n",
       "      <td>NaN</td>\n",
       "      <td>NaN</td>\n",
       "      <td>NaN</td>\n",
       "      <td>NaN</td>\n",
       "      <td>0.0</td>\n",
       "    </tr>\n",
       "    <tr>\n",
       "      <th>336753</th>\n",
       "      <td>e540w</td>\n",
       "      <td>NaN</td>\n",
       "      <td>NaN</td>\n",
       "      <td>NaN</td>\n",
       "      <td>NaN</td>\n",
       "      <td>0.0</td>\n",
       "    </tr>\n",
       "    <tr>\n",
       "      <th>336754</th>\n",
       "      <td>dina_50_0</td>\n",
       "      <td>NaN</td>\n",
       "      <td>NaN</td>\n",
       "      <td>NaN</td>\n",
       "      <td>NaN</td>\n",
       "      <td>0.0</td>\n",
       "    </tr>\n",
       "  </tbody>\n",
       "</table>\n",
       "</div>"
      ],
      "text/plain": [
       "       user_screen_name userid  follower_count  following_count  tweet_count  \\\n",
       "336750    nice_moon2030    NaN             NaN              NaN          NaN   \n",
       "336751        Shaibah11    NaN             NaN              NaN          NaN   \n",
       "336752  EqA50Heq8z0Jaff    NaN             NaN              NaN          NaN   \n",
       "336753            e540w    NaN             NaN              NaN          NaN   \n",
       "336754        dina_50_0    NaN             NaN              NaN          NaN   \n",
       "\n",
       "        flagged  \n",
       "336750      0.0  \n",
       "336751      0.0  \n",
       "336752      0.0  \n",
       "336753      0.0  \n",
       "336754      0.0  "
      ]
     },
     "execution_count": 358,
     "metadata": {},
     "output_type": "execute_result"
    }
   ],
   "source": [
    "df_users.tail()"
   ]
  },
  {
   "cell_type": "markdown",
   "metadata": {},
   "source": [
    "## 6.3. Set 'Flagged' Column\n",
    "Last but not least, let's set the 'Flagged' column to '1' for all rows which are currently other than 0."
   ]
  },
  {
   "cell_type": "code",
   "execution_count": 376,
   "metadata": {},
   "outputs": [],
   "source": [
    "df_users.loc[df_users.flagged != 0, \"flagged\"] = 1.0"
   ]
  },
  {
   "cell_type": "code",
   "execution_count": 377,
   "metadata": {},
   "outputs": [
    {
     "data": {
      "text/html": [
       "<div>\n",
       "<style scoped>\n",
       "    .dataframe tbody tr th:only-of-type {\n",
       "        vertical-align: middle;\n",
       "    }\n",
       "\n",
       "    .dataframe tbody tr th {\n",
       "        vertical-align: top;\n",
       "    }\n",
       "\n",
       "    .dataframe thead th {\n",
       "        text-align: right;\n",
       "    }\n",
       "</style>\n",
       "<table border=\"1\" class=\"dataframe\">\n",
       "  <thead>\n",
       "    <tr style=\"text-align: right;\">\n",
       "      <th></th>\n",
       "      <th>user_screen_name</th>\n",
       "      <th>userid</th>\n",
       "      <th>follower_count</th>\n",
       "      <th>following_count</th>\n",
       "      <th>tweet_count</th>\n",
       "      <th>flagged</th>\n",
       "    </tr>\n",
       "  </thead>\n",
       "  <tbody>\n",
       "    <tr>\n",
       "      <th>4270</th>\n",
       "      <td>w8DugCJZldmy0PZWJwFgvvm56mm5o5fBBqHgYxMXG8A=</td>\n",
       "      <td>w8DugCJZldmy0PZWJwFgvvm56mm5o5fBBqHgYxMXG8A=</td>\n",
       "      <td>0.0</td>\n",
       "      <td>0.0</td>\n",
       "      <td>1.0</td>\n",
       "      <td>1.0</td>\n",
       "    </tr>\n",
       "    <tr>\n",
       "      <th>4271</th>\n",
       "      <td>o+r+FeR4oE5hHYFTsleFXNUDpyA5RmzHYkvEPxYu7Ck=</td>\n",
       "      <td>o+r+FeR4oE5hHYFTsleFXNUDpyA5RmzHYkvEPxYu7Ck=</td>\n",
       "      <td>7.0</td>\n",
       "      <td>9.0</td>\n",
       "      <td>1.0</td>\n",
       "      <td>1.0</td>\n",
       "    </tr>\n",
       "    <tr>\n",
       "      <th>4272</th>\n",
       "      <td>sB6soAYD34Fcwj2BXikt3QTJkBBVe1J9N10QslhlnTg=</td>\n",
       "      <td>sB6soAYD34Fcwj2BXikt3QTJkBBVe1J9N10QslhlnTg=</td>\n",
       "      <td>10.0</td>\n",
       "      <td>5.0</td>\n",
       "      <td>1.0</td>\n",
       "      <td>1.0</td>\n",
       "    </tr>\n",
       "    <tr>\n",
       "      <th>4273</th>\n",
       "      <td>oneway_market</td>\n",
       "      <td>NaN</td>\n",
       "      <td>NaN</td>\n",
       "      <td>NaN</td>\n",
       "      <td>NaN</td>\n",
       "      <td>0.0</td>\n",
       "    </tr>\n",
       "    <tr>\n",
       "      <th>4274</th>\n",
       "      <td>games4marah</td>\n",
       "      <td>NaN</td>\n",
       "      <td>NaN</td>\n",
       "      <td>NaN</td>\n",
       "      <td>NaN</td>\n",
       "      <td>0.0</td>\n",
       "    </tr>\n",
       "    <tr>\n",
       "      <th>4275</th>\n",
       "      <td>mzlatksa</td>\n",
       "      <td>NaN</td>\n",
       "      <td>NaN</td>\n",
       "      <td>NaN</td>\n",
       "      <td>NaN</td>\n",
       "      <td>0.0</td>\n",
       "    </tr>\n",
       "    <tr>\n",
       "      <th>4276</th>\n",
       "      <td>videohat_1</td>\n",
       "      <td>NaN</td>\n",
       "      <td>NaN</td>\n",
       "      <td>NaN</td>\n",
       "      <td>NaN</td>\n",
       "      <td>0.0</td>\n",
       "    </tr>\n",
       "    <tr>\n",
       "      <th>4277</th>\n",
       "      <td>danat_almesk</td>\n",
       "      <td>NaN</td>\n",
       "      <td>NaN</td>\n",
       "      <td>NaN</td>\n",
       "      <td>NaN</td>\n",
       "      <td>0.0</td>\n",
       "    </tr>\n",
       "    <tr>\n",
       "      <th>4278</th>\n",
       "      <td>756870fda1544b6</td>\n",
       "      <td>NaN</td>\n",
       "      <td>NaN</td>\n",
       "      <td>NaN</td>\n",
       "      <td>NaN</td>\n",
       "      <td>0.0</td>\n",
       "    </tr>\n",
       "    <tr>\n",
       "      <th>4279</th>\n",
       "      <td>m3asafarah</td>\n",
       "      <td>NaN</td>\n",
       "      <td>NaN</td>\n",
       "      <td>NaN</td>\n",
       "      <td>NaN</td>\n",
       "      <td>0.0</td>\n",
       "    </tr>\n",
       "  </tbody>\n",
       "</table>\n",
       "</div>"
      ],
      "text/plain": [
       "                                  user_screen_name  \\\n",
       "4270  w8DugCJZldmy0PZWJwFgvvm56mm5o5fBBqHgYxMXG8A=   \n",
       "4271  o+r+FeR4oE5hHYFTsleFXNUDpyA5RmzHYkvEPxYu7Ck=   \n",
       "4272  sB6soAYD34Fcwj2BXikt3QTJkBBVe1J9N10QslhlnTg=   \n",
       "4273                                 oneway_market   \n",
       "4274                                   games4marah   \n",
       "4275                                      mzlatksa   \n",
       "4276                                    videohat_1   \n",
       "4277                                  danat_almesk   \n",
       "4278                               756870fda1544b6   \n",
       "4279                                    m3asafarah   \n",
       "\n",
       "                                            userid  follower_count  \\\n",
       "4270  w8DugCJZldmy0PZWJwFgvvm56mm5o5fBBqHgYxMXG8A=             0.0   \n",
       "4271  o+r+FeR4oE5hHYFTsleFXNUDpyA5RmzHYkvEPxYu7Ck=             7.0   \n",
       "4272  sB6soAYD34Fcwj2BXikt3QTJkBBVe1J9N10QslhlnTg=            10.0   \n",
       "4273                                           NaN             NaN   \n",
       "4274                                           NaN             NaN   \n",
       "4275                                           NaN             NaN   \n",
       "4276                                           NaN             NaN   \n",
       "4277                                           NaN             NaN   \n",
       "4278                                           NaN             NaN   \n",
       "4279                                           NaN             NaN   \n",
       "\n",
       "      following_count  tweet_count flagged  \n",
       "4270              0.0          1.0     1.0  \n",
       "4271              9.0          1.0     1.0  \n",
       "4272              5.0          1.0     1.0  \n",
       "4273              NaN          NaN     0.0  \n",
       "4274              NaN          NaN     0.0  \n",
       "4275              NaN          NaN     0.0  \n",
       "4276              NaN          NaN     0.0  \n",
       "4277              NaN          NaN     0.0  \n",
       "4278              NaN          NaN     0.0  \n",
       "4279              NaN          NaN     0.0  "
      ]
     },
     "execution_count": 377,
     "metadata": {},
     "output_type": "execute_result"
    }
   ],
   "source": [
    "df_users.iloc[4270:4280]"
   ]
  },
  {
   "cell_type": "markdown",
   "metadata": {},
   "source": [
    "This looks like it worked. Let's confirm by summing the counts in 'flagged', that should equal 4273."
   ]
  },
  {
   "cell_type": "code",
   "execution_count": 378,
   "metadata": {},
   "outputs": [
    {
     "data": {
      "text/plain": [
       "4273"
      ]
     },
     "execution_count": 378,
     "metadata": {},
     "output_type": "execute_result"
    }
   ],
   "source": [
    "df_users.flagged[df_users.flagged == 1].count()"
   ]
  },
  {
   "cell_type": "markdown",
   "metadata": {},
   "source": [
    "Excellent. Let's save as local and cloud-based parquet."
   ]
  },
  {
   "cell_type": "code",
   "execution_count": 379,
   "metadata": {},
   "outputs": [],
   "source": [
    "# # save this dataframe locally\n",
    "# df_users.to_parquet('/Users/richard/Desktop/data_cap3/interim/df_unique_users.parquet',\n",
    "#                     engine='pyarrow')"
   ]
  },
  {
   "cell_type": "code",
   "execution_count": 380,
   "metadata": {},
   "outputs": [],
   "source": [
    "# # save this dataframe to s3 bucket\n",
    "# df_users.to_parquet('s3://twitter-saudi-us-east-2/interim/df_unique_users.parquet',\n",
    "#                     engine='pyarrow')"
   ]
  },
  {
   "cell_type": "markdown",
   "metadata": {},
   "source": [
    "## 6.4. Substitute Userid / User_Screen_Name with Unique User ID\n",
    "\n",
    "We are now ready to simplify our main dataframe ddf by substituting the user_screen_name and userid with our new, unique user ID index values. We will do the same for the usernames in the retweet_user_screen_name column. \n",
    "\n",
    "Following this, we can drop 4 columns:\n",
    "- userid\n",
    "- user_screen_name\n",
    "- retweet_userid\n",
    "- retweet_user_screen_name"
   ]
  },
  {
   "cell_type": "code",
   "execution_count": 14,
   "metadata": {},
   "outputs": [],
   "source": [
    "# turn df_users into dask dataframe\n",
    "ddf_users = dd.from_pandas(df_users, npartitions=1).persist()"
   ]
  },
  {
   "cell_type": "code",
   "execution_count": 15,
   "metadata": {},
   "outputs": [
    {
     "data": {
      "text/html": [
       "<div><strong>Dask DataFrame Structure:</strong></div>\n",
       "<div>\n",
       "<style scoped>\n",
       "    .dataframe tbody tr th:only-of-type {\n",
       "        vertical-align: middle;\n",
       "    }\n",
       "\n",
       "    .dataframe tbody tr th {\n",
       "        vertical-align: top;\n",
       "    }\n",
       "\n",
       "    .dataframe thead th {\n",
       "        text-align: right;\n",
       "    }\n",
       "</style>\n",
       "<table border=\"1\" class=\"dataframe\">\n",
       "  <thead>\n",
       "    <tr style=\"text-align: right;\">\n",
       "      <th></th>\n",
       "      <th>user_screen_name</th>\n",
       "      <th>userid</th>\n",
       "      <th>follower_count</th>\n",
       "      <th>following_count</th>\n",
       "      <th>tweet_count</th>\n",
       "      <th>flagged</th>\n",
       "    </tr>\n",
       "    <tr>\n",
       "      <th>npartitions=1</th>\n",
       "      <th></th>\n",
       "      <th></th>\n",
       "      <th></th>\n",
       "      <th></th>\n",
       "      <th></th>\n",
       "      <th></th>\n",
       "    </tr>\n",
       "  </thead>\n",
       "  <tbody>\n",
       "    <tr>\n",
       "      <th>0</th>\n",
       "      <td>object</td>\n",
       "      <td>object</td>\n",
       "      <td>float64</td>\n",
       "      <td>float64</td>\n",
       "      <td>float64</td>\n",
       "      <td>float64</td>\n",
       "    </tr>\n",
       "    <tr>\n",
       "      <th>336754</th>\n",
       "      <td>...</td>\n",
       "      <td>...</td>\n",
       "      <td>...</td>\n",
       "      <td>...</td>\n",
       "      <td>...</td>\n",
       "      <td>...</td>\n",
       "    </tr>\n",
       "  </tbody>\n",
       "</table>\n",
       "</div>\n",
       "<div>Dask Name: from_pandas, 1 tasks</div>"
      ],
      "text/plain": [
       "Dask DataFrame Structure:\n",
       "              user_screen_name  userid follower_count following_count tweet_count  flagged\n",
       "npartitions=1                                                                             \n",
       "0                       object  object        float64         float64     float64  float64\n",
       "336754                     ...     ...            ...             ...         ...      ...\n",
       "Dask Name: from_pandas, 1 tasks"
      ]
     },
     "execution_count": 15,
     "metadata": {},
     "output_type": "execute_result"
    }
   ],
   "source": [
    "ddf_users"
   ]
  },
  {
   "cell_type": "markdown",
   "metadata": {},
   "source": [
    "Let's turn the index of ddf_users into a column, to prepare for our join."
   ]
  },
  {
   "cell_type": "code",
   "execution_count": 16,
   "metadata": {},
   "outputs": [],
   "source": [
    "ddf_users['reference_userid'] = ddf_users.index"
   ]
  },
  {
   "cell_type": "code",
   "execution_count": 17,
   "metadata": {},
   "outputs": [
    {
     "data": {
      "text/html": [
       "<div>\n",
       "<style scoped>\n",
       "    .dataframe tbody tr th:only-of-type {\n",
       "        vertical-align: middle;\n",
       "    }\n",
       "\n",
       "    .dataframe tbody tr th {\n",
       "        vertical-align: top;\n",
       "    }\n",
       "\n",
       "    .dataframe thead th {\n",
       "        text-align: right;\n",
       "    }\n",
       "</style>\n",
       "<table border=\"1\" class=\"dataframe\">\n",
       "  <thead>\n",
       "    <tr style=\"text-align: right;\">\n",
       "      <th></th>\n",
       "      <th>user_screen_name</th>\n",
       "      <th>userid</th>\n",
       "      <th>follower_count</th>\n",
       "      <th>following_count</th>\n",
       "      <th>tweet_count</th>\n",
       "      <th>flagged</th>\n",
       "      <th>reference_userid</th>\n",
       "    </tr>\n",
       "  </thead>\n",
       "  <tbody>\n",
       "    <tr>\n",
       "      <th>0</th>\n",
       "      <td>y_44a_</td>\n",
       "      <td>948302862098092034</td>\n",
       "      <td>9007.0</td>\n",
       "      <td>8821.0</td>\n",
       "      <td>258339.0</td>\n",
       "      <td>1.0</td>\n",
       "      <td>0</td>\n",
       "    </tr>\n",
       "    <tr>\n",
       "      <th>1</th>\n",
       "      <td>iXwa1+qxYAH2hEJ9nDG11qo6nmcpl89IQKhDRDqpfU4=</td>\n",
       "      <td>iXwa1+qxYAH2hEJ9nDG11qo6nmcpl89IQKhDRDqpfU4=</td>\n",
       "      <td>168.0</td>\n",
       "      <td>408.0</td>\n",
       "      <td>4982.0</td>\n",
       "      <td>1.0</td>\n",
       "      <td>1</td>\n",
       "    </tr>\n",
       "    <tr>\n",
       "      <th>2</th>\n",
       "      <td>Gj+bihYSO0L5Ht1+f9OEqP42KbnJWtNK4qv0WJr0cs=</td>\n",
       "      <td>Gj+bihYSO0L5Ht1+f9OEqP42KbnJWtNK4qv0WJr0cs=</td>\n",
       "      <td>1623.0</td>\n",
       "      <td>2022.0</td>\n",
       "      <td>59605.0</td>\n",
       "      <td>1.0</td>\n",
       "      <td>2</td>\n",
       "    </tr>\n",
       "    <tr>\n",
       "      <th>3</th>\n",
       "      <td>2SJuOzyE6GQOsmW9ukY3ChH8rl049x6mDNZi3EM=</td>\n",
       "      <td>2SJuOzyE6GQOsmW9ukY3ChH8rl049x6mDNZi3EM=</td>\n",
       "      <td>1850.0</td>\n",
       "      <td>1594.0</td>\n",
       "      <td>14833.0</td>\n",
       "      <td>1.0</td>\n",
       "      <td>3</td>\n",
       "    </tr>\n",
       "    <tr>\n",
       "      <th>4</th>\n",
       "      <td>ytmVN9opEFMM7Uk+0O0XgSuOpIRlok5Xqu+jel9qyM=</td>\n",
       "      <td>ytmVN9opEFMM7Uk+0O0XgSuOpIRlok5Xqu+jel9qyM=</td>\n",
       "      <td>3928.0</td>\n",
       "      <td>4273.0</td>\n",
       "      <td>17643.0</td>\n",
       "      <td>1.0</td>\n",
       "      <td>4</td>\n",
       "    </tr>\n",
       "  </tbody>\n",
       "</table>\n",
       "</div>"
      ],
      "text/plain": [
       "                               user_screen_name  \\\n",
       "0                                        y_44a_   \n",
       "1  iXwa1+qxYAH2hEJ9nDG11qo6nmcpl89IQKhDRDqpfU4=   \n",
       "2   Gj+bihYSO0L5Ht1+f9OEqP42KbnJWtNK4qv0WJr0cs=   \n",
       "3      2SJuOzyE6GQOsmW9ukY3ChH8rl049x6mDNZi3EM=   \n",
       "4   ytmVN9opEFMM7Uk+0O0XgSuOpIRlok5Xqu+jel9qyM=   \n",
       "\n",
       "                                         userid  follower_count  \\\n",
       "0                            948302862098092034          9007.0   \n",
       "1  iXwa1+qxYAH2hEJ9nDG11qo6nmcpl89IQKhDRDqpfU4=           168.0   \n",
       "2   Gj+bihYSO0L5Ht1+f9OEqP42KbnJWtNK4qv0WJr0cs=          1623.0   \n",
       "3      2SJuOzyE6GQOsmW9ukY3ChH8rl049x6mDNZi3EM=          1850.0   \n",
       "4   ytmVN9opEFMM7Uk+0O0XgSuOpIRlok5Xqu+jel9qyM=          3928.0   \n",
       "\n",
       "   following_count  tweet_count  flagged  reference_userid  \n",
       "0           8821.0     258339.0      1.0                 0  \n",
       "1            408.0       4982.0      1.0                 1  \n",
       "2           2022.0      59605.0      1.0                 2  \n",
       "3           1594.0      14833.0      1.0                 3  \n",
       "4           4273.0      17643.0      1.0                 4  "
      ]
     },
     "execution_count": 17,
     "metadata": {},
     "output_type": "execute_result"
    }
   ],
   "source": [
    "ddf_users.head()"
   ]
  },
  {
   "cell_type": "code",
   "execution_count": 18,
   "metadata": {},
   "outputs": [
    {
     "data": {
      "text/plain": [
       "Index(['user_screen_name', 'userid', 'follower_count', 'following_count',\n",
       "       'tweet_count', 'flagged', 'reference_userid'],\n",
       "      dtype='object')"
      ]
     },
     "execution_count": 18,
     "metadata": {},
     "output_type": "execute_result"
    }
   ],
   "source": [
    "ddf_users.columns"
   ]
  },
  {
   "cell_type": "code",
   "execution_count": 19,
   "metadata": {},
   "outputs": [
    {
     "data": {
      "text/plain": [
       "True"
      ]
     },
     "execution_count": 19,
     "metadata": {},
     "output_type": "execute_result"
    }
   ],
   "source": [
    "ddf_users.known_divisions"
   ]
  },
  {
   "cell_type": "markdown",
   "metadata": {},
   "source": [
    "Let's do the same for ddf."
   ]
  },
  {
   "cell_type": "code",
   "execution_count": 20,
   "metadata": {},
   "outputs": [
    {
     "data": {
      "text/plain": [
       "Index(['userid', 'user_screen_name', 'follower_count', 'following_count',\n",
       "       'tweet_language', 'tweet_text', 'tweet_time', 'tweet_client_name',\n",
       "       'is_retweet', 'retweet_userid', 'retweet_tweetid',\n",
       "       'retweet_user_screen_name', 'hashtags'],\n",
       "      dtype='object')"
      ]
     },
     "execution_count": 20,
     "metadata": {},
     "output_type": "execute_result"
    }
   ],
   "source": [
    "ddf.columns"
   ]
  },
  {
   "cell_type": "code",
   "execution_count": 21,
   "metadata": {},
   "outputs": [
    {
     "data": {
      "text/plain": [
       "True"
      ]
     },
     "execution_count": 21,
     "metadata": {},
     "output_type": "execute_result"
    }
   ],
   "source": [
    "ddf.known_divisions"
   ]
  },
  {
   "cell_type": "code",
   "execution_count": 22,
   "metadata": {},
   "outputs": [],
   "source": [
    "ddf['tweetid'] = ddf.index"
   ]
  },
  {
   "cell_type": "code",
   "execution_count": 23,
   "metadata": {},
   "outputs": [
    {
     "data": {
      "text/html": [
       "<div>\n",
       "<style scoped>\n",
       "    .dataframe tbody tr th:only-of-type {\n",
       "        vertical-align: middle;\n",
       "    }\n",
       "\n",
       "    .dataframe tbody tr th {\n",
       "        vertical-align: top;\n",
       "    }\n",
       "\n",
       "    .dataframe thead th {\n",
       "        text-align: right;\n",
       "    }\n",
       "</style>\n",
       "<table border=\"1\" class=\"dataframe\">\n",
       "  <thead>\n",
       "    <tr style=\"text-align: right;\">\n",
       "      <th></th>\n",
       "      <th>userid</th>\n",
       "      <th>user_screen_name</th>\n",
       "      <th>follower_count</th>\n",
       "      <th>following_count</th>\n",
       "      <th>tweet_language</th>\n",
       "      <th>tweet_text</th>\n",
       "      <th>tweet_time</th>\n",
       "      <th>tweet_client_name</th>\n",
       "      <th>is_retweet</th>\n",
       "      <th>retweet_userid</th>\n",
       "      <th>retweet_tweetid</th>\n",
       "      <th>retweet_user_screen_name</th>\n",
       "      <th>hashtags</th>\n",
       "      <th>tweetid</th>\n",
       "    </tr>\n",
       "    <tr>\n",
       "      <th>tweetid</th>\n",
       "      <th></th>\n",
       "      <th></th>\n",
       "      <th></th>\n",
       "      <th></th>\n",
       "      <th></th>\n",
       "      <th></th>\n",
       "      <th></th>\n",
       "      <th></th>\n",
       "      <th></th>\n",
       "      <th></th>\n",
       "      <th></th>\n",
       "      <th></th>\n",
       "      <th></th>\n",
       "      <th></th>\n",
       "    </tr>\n",
       "  </thead>\n",
       "  <tbody>\n",
       "    <tr>\n",
       "      <th>1000000000447930368</th>\n",
       "      <td>948302862098092034</td>\n",
       "      <td>y_44a_</td>\n",
       "      <td>9007</td>\n",
       "      <td>8821</td>\n",
       "      <td>ar</td>\n",
       "      <td>السلام عليكم ورحمة الله وبركاته مرحبا عملاء م...</td>\n",
       "      <td>2018-05-25 13:05:00</td>\n",
       "      <td>Twitter for iPhone</td>\n",
       "      <td>True</td>\n",
       "      <td>None</td>\n",
       "      <td>9.986493e+17</td>\n",
       "      <td>oneway_market</td>\n",
       "      <td>None</td>\n",
       "      <td>1000000000447930368</td>\n",
       "    </tr>\n",
       "    <tr>\n",
       "      <th>1000000030391095297</th>\n",
       "      <td>948302862098092034</td>\n",
       "      <td>y_44a_</td>\n",
       "      <td>9007</td>\n",
       "      <td>8821</td>\n",
       "      <td>ar</td>\n",
       "      <td>للتأجير لبيع النطيطات زحاليق مائيه صابونية مل...</td>\n",
       "      <td>2018-05-25 13:06:00</td>\n",
       "      <td>Twitter for iPhone</td>\n",
       "      <td>True</td>\n",
       "      <td>None</td>\n",
       "      <td>9.996373e+17</td>\n",
       "      <td>games4marah</td>\n",
       "      <td>[للتأجير, لبيع النطيطات, زحاليق مائيه صابونية,...</td>\n",
       "      <td>1000000030391095297</td>\n",
       "    </tr>\n",
       "  </tbody>\n",
       "</table>\n",
       "</div>"
      ],
      "text/plain": [
       "                                 userid user_screen_name  follower_count  \\\n",
       "tweetid                                                                    \n",
       "1000000000447930368  948302862098092034           y_44a_            9007   \n",
       "1000000030391095297  948302862098092034           y_44a_            9007   \n",
       "\n",
       "                     following_count tweet_language  \\\n",
       "tweetid                                               \n",
       "1000000000447930368             8821             ar   \n",
       "1000000030391095297             8821             ar   \n",
       "\n",
       "                                                            tweet_text  \\\n",
       "tweetid                                                                  \n",
       "1000000000447930368   السلام عليكم ورحمة الله وبركاته مرحبا عملاء م...   \n",
       "1000000030391095297   للتأجير لبيع النطيطات زحاليق مائيه صابونية مل...   \n",
       "\n",
       "                             tweet_time   tweet_client_name  is_retweet  \\\n",
       "tweetid                                                                   \n",
       "1000000000447930368 2018-05-25 13:05:00  Twitter for iPhone        True   \n",
       "1000000030391095297 2018-05-25 13:06:00  Twitter for iPhone        True   \n",
       "\n",
       "                    retweet_userid  retweet_tweetid retweet_user_screen_name  \\\n",
       "tweetid                                                                        \n",
       "1000000000447930368           None     9.986493e+17            oneway_market   \n",
       "1000000030391095297           None     9.996373e+17              games4marah   \n",
       "\n",
       "                                                              hashtags  \\\n",
       "tweetid                                                                  \n",
       "1000000000447930368                                               None   \n",
       "1000000030391095297  [للتأجير, لبيع النطيطات, زحاليق مائيه صابونية,...   \n",
       "\n",
       "                                 tweetid  \n",
       "tweetid                                   \n",
       "1000000000447930368  1000000000447930368  \n",
       "1000000030391095297  1000000030391095297  "
      ]
     },
     "execution_count": 23,
     "metadata": {},
     "output_type": "execute_result"
    }
   ],
   "source": [
    "ddf.head(2)"
   ]
  },
  {
   "cell_type": "markdown",
   "metadata": {},
   "source": [
    "Excellent.\n",
    "\n",
    "We are now ready to perform our joins:\n",
    "1. Joining on 'user_screen_name' column to bring in the respective unique User IDs\n",
    "2. Joining on 'retweet_user_screen_name' column to bring in the respective unique User IDs there, too\n",
    "\n",
    "After these two joins we will:\n",
    "- delete the redundant columns\n",
    "- maintain 'tweetid' as a column, not as index"
   ]
  },
  {
   "cell_type": "code",
   "execution_count": 25,
   "metadata": {},
   "outputs": [
    {
     "name": "stdout",
     "output_type": "stream",
     "text": [
      "CPU times: user 584 ms, sys: 102 ms, total: 686 ms\n",
      "Wall time: 864 ms\n"
     ]
    }
   ],
   "source": [
    "%%time\n",
    "# execute left join\n",
    "ddf = ddf.merge(\n",
    "    ddf_users[[\"reference_userid\", \"user_screen_name\"]],\n",
    "    how=\"left\",\n",
    "    on=\"user_screen_name\"\n",
    ").persist()"
   ]
  },
  {
   "cell_type": "markdown",
   "metadata": {},
   "source": [
    "Great, let's verify by comparing user_screen_name and ID pairs in ddf to df_users."
   ]
  },
  {
   "cell_type": "code",
   "execution_count": 27,
   "metadata": {},
   "outputs": [
    {
     "data": {
      "text/html": [
       "<div>\n",
       "<style scoped>\n",
       "    .dataframe tbody tr th:only-of-type {\n",
       "        vertical-align: middle;\n",
       "    }\n",
       "\n",
       "    .dataframe tbody tr th {\n",
       "        vertical-align: top;\n",
       "    }\n",
       "\n",
       "    .dataframe thead th {\n",
       "        text-align: right;\n",
       "    }\n",
       "</style>\n",
       "<table border=\"1\" class=\"dataframe\">\n",
       "  <thead>\n",
       "    <tr style=\"text-align: right;\">\n",
       "      <th></th>\n",
       "      <th>reference_userid</th>\n",
       "      <th>user_screen_name</th>\n",
       "    </tr>\n",
       "  </thead>\n",
       "  <tbody>\n",
       "    <tr>\n",
       "      <th>0</th>\n",
       "      <td>0</td>\n",
       "      <td>y_44a_</td>\n",
       "    </tr>\n",
       "    <tr>\n",
       "      <th>1</th>\n",
       "      <td>0</td>\n",
       "      <td>y_44a_</td>\n",
       "    </tr>\n",
       "    <tr>\n",
       "      <th>2</th>\n",
       "      <td>0</td>\n",
       "      <td>y_44a_</td>\n",
       "    </tr>\n",
       "    <tr>\n",
       "      <th>3</th>\n",
       "      <td>1</td>\n",
       "      <td>iXwa1+qxYAH2hEJ9nDG11qo6nmcpl89IQKhDRDqpfU4=</td>\n",
       "    </tr>\n",
       "    <tr>\n",
       "      <th>4</th>\n",
       "      <td>2</td>\n",
       "      <td>Gj+bihYSO0L5Ht1+f9OEqP42KbnJWtNK4qv0WJr0cs=</td>\n",
       "    </tr>\n",
       "    <tr>\n",
       "      <th>5</th>\n",
       "      <td>0</td>\n",
       "      <td>y_44a_</td>\n",
       "    </tr>\n",
       "    <tr>\n",
       "      <th>6</th>\n",
       "      <td>0</td>\n",
       "      <td>y_44a_</td>\n",
       "    </tr>\n",
       "    <tr>\n",
       "      <th>7</th>\n",
       "      <td>0</td>\n",
       "      <td>y_44a_</td>\n",
       "    </tr>\n",
       "    <tr>\n",
       "      <th>8</th>\n",
       "      <td>0</td>\n",
       "      <td>y_44a_</td>\n",
       "    </tr>\n",
       "    <tr>\n",
       "      <th>9</th>\n",
       "      <td>3</td>\n",
       "      <td>2SJuOzyE6GQOsmW9ukY3ChH8rl049x6mDNZi3EM=</td>\n",
       "    </tr>\n",
       "  </tbody>\n",
       "</table>\n",
       "</div>"
      ],
      "text/plain": [
       "   reference_userid                              user_screen_name\n",
       "0                 0                                        y_44a_\n",
       "1                 0                                        y_44a_\n",
       "2                 0                                        y_44a_\n",
       "3                 1  iXwa1+qxYAH2hEJ9nDG11qo6nmcpl89IQKhDRDqpfU4=\n",
       "4                 2   Gj+bihYSO0L5Ht1+f9OEqP42KbnJWtNK4qv0WJr0cs=\n",
       "5                 0                                        y_44a_\n",
       "6                 0                                        y_44a_\n",
       "7                 0                                        y_44a_\n",
       "8                 0                                        y_44a_\n",
       "9                 3      2SJuOzyE6GQOsmW9ukY3ChH8rl049x6mDNZi3EM="
      ]
     },
     "execution_count": 27,
     "metadata": {},
     "output_type": "execute_result"
    }
   ],
   "source": [
    "ddf[['reference_userid', 'user_screen_name']].head(10)"
   ]
  },
  {
   "cell_type": "code",
   "execution_count": 28,
   "metadata": {},
   "outputs": [
    {
     "data": {
      "text/html": [
       "<div>\n",
       "<style scoped>\n",
       "    .dataframe tbody tr th:only-of-type {\n",
       "        vertical-align: middle;\n",
       "    }\n",
       "\n",
       "    .dataframe tbody tr th {\n",
       "        vertical-align: top;\n",
       "    }\n",
       "\n",
       "    .dataframe thead th {\n",
       "        text-align: right;\n",
       "    }\n",
       "</style>\n",
       "<table border=\"1\" class=\"dataframe\">\n",
       "  <thead>\n",
       "    <tr style=\"text-align: right;\">\n",
       "      <th></th>\n",
       "      <th>user_screen_name</th>\n",
       "      <th>userid</th>\n",
       "      <th>follower_count</th>\n",
       "      <th>following_count</th>\n",
       "      <th>tweet_count</th>\n",
       "      <th>flagged</th>\n",
       "    </tr>\n",
       "  </thead>\n",
       "  <tbody>\n",
       "    <tr>\n",
       "      <th>0</th>\n",
       "      <td>y_44a_</td>\n",
       "      <td>948302862098092034</td>\n",
       "      <td>9007.0</td>\n",
       "      <td>8821.0</td>\n",
       "      <td>258339.0</td>\n",
       "      <td>1.0</td>\n",
       "    </tr>\n",
       "    <tr>\n",
       "      <th>1</th>\n",
       "      <td>iXwa1+qxYAH2hEJ9nDG11qo6nmcpl89IQKhDRDqpfU4=</td>\n",
       "      <td>iXwa1+qxYAH2hEJ9nDG11qo6nmcpl89IQKhDRDqpfU4=</td>\n",
       "      <td>168.0</td>\n",
       "      <td>408.0</td>\n",
       "      <td>4982.0</td>\n",
       "      <td>1.0</td>\n",
       "    </tr>\n",
       "    <tr>\n",
       "      <th>2</th>\n",
       "      <td>Gj+bihYSO0L5Ht1+f9OEqP42KbnJWtNK4qv0WJr0cs=</td>\n",
       "      <td>Gj+bihYSO0L5Ht1+f9OEqP42KbnJWtNK4qv0WJr0cs=</td>\n",
       "      <td>1623.0</td>\n",
       "      <td>2022.0</td>\n",
       "      <td>59605.0</td>\n",
       "      <td>1.0</td>\n",
       "    </tr>\n",
       "    <tr>\n",
       "      <th>3</th>\n",
       "      <td>2SJuOzyE6GQOsmW9ukY3ChH8rl049x6mDNZi3EM=</td>\n",
       "      <td>2SJuOzyE6GQOsmW9ukY3ChH8rl049x6mDNZi3EM=</td>\n",
       "      <td>1850.0</td>\n",
       "      <td>1594.0</td>\n",
       "      <td>14833.0</td>\n",
       "      <td>1.0</td>\n",
       "    </tr>\n",
       "  </tbody>\n",
       "</table>\n",
       "</div>"
      ],
      "text/plain": [
       "                               user_screen_name  \\\n",
       "0                                        y_44a_   \n",
       "1  iXwa1+qxYAH2hEJ9nDG11qo6nmcpl89IQKhDRDqpfU4=   \n",
       "2   Gj+bihYSO0L5Ht1+f9OEqP42KbnJWtNK4qv0WJr0cs=   \n",
       "3      2SJuOzyE6GQOsmW9ukY3ChH8rl049x6mDNZi3EM=   \n",
       "\n",
       "                                         userid  follower_count  \\\n",
       "0                            948302862098092034          9007.0   \n",
       "1  iXwa1+qxYAH2hEJ9nDG11qo6nmcpl89IQKhDRDqpfU4=           168.0   \n",
       "2   Gj+bihYSO0L5Ht1+f9OEqP42KbnJWtNK4qv0WJr0cs=          1623.0   \n",
       "3      2SJuOzyE6GQOsmW9ukY3ChH8rl049x6mDNZi3EM=          1850.0   \n",
       "\n",
       "   following_count  tweet_count  flagged  \n",
       "0           8821.0     258339.0      1.0  \n",
       "1            408.0       4982.0      1.0  \n",
       "2           2022.0      59605.0      1.0  \n",
       "3           1594.0      14833.0      1.0  "
      ]
     },
     "execution_count": 28,
     "metadata": {},
     "output_type": "execute_result"
    }
   ],
   "source": [
    "df_users.head(4)"
   ]
  },
  {
   "cell_type": "markdown",
   "metadata": {},
   "source": [
    "Perfect, this worked.\n",
    "\n",
    "Let's now just proceed to do a similar join for the retweet_user_screen_name column and then we're done."
   ]
  },
  {
   "cell_type": "code",
   "execution_count": 30,
   "metadata": {},
   "outputs": [
    {
     "name": "stdout",
     "output_type": "stream",
     "text": [
      "CPU times: user 450 ms, sys: 363 ms, total: 813 ms\n",
      "Wall time: 1.06 s\n"
     ]
    }
   ],
   "source": [
    "%%time\n",
    "# execute left join\n",
    "ddf = ddf.merge(\n",
    "    ddf_users[[\"reference_userid\", \"user_screen_name\"]],\n",
    "    how=\"left\",\n",
    "    left_on=\"retweet_user_screen_name\",\n",
    "    right_on=\"user_screen_name\"\n",
    ").persist()"
   ]
  },
  {
   "cell_type": "code",
   "execution_count": 31,
   "metadata": {},
   "outputs": [
    {
     "data": {
      "text/html": [
       "<div>\n",
       "<style scoped>\n",
       "    .dataframe tbody tr th:only-of-type {\n",
       "        vertical-align: middle;\n",
       "    }\n",
       "\n",
       "    .dataframe tbody tr th {\n",
       "        vertical-align: top;\n",
       "    }\n",
       "\n",
       "    .dataframe thead th {\n",
       "        text-align: right;\n",
       "    }\n",
       "</style>\n",
       "<table border=\"1\" class=\"dataframe\">\n",
       "  <thead>\n",
       "    <tr style=\"text-align: right;\">\n",
       "      <th></th>\n",
       "      <th>userid</th>\n",
       "      <th>user_screen_name_x</th>\n",
       "      <th>follower_count</th>\n",
       "      <th>following_count</th>\n",
       "      <th>tweet_language</th>\n",
       "      <th>tweet_text</th>\n",
       "      <th>tweet_time</th>\n",
       "      <th>tweet_client_name</th>\n",
       "      <th>is_retweet</th>\n",
       "      <th>retweet_userid</th>\n",
       "      <th>retweet_tweetid</th>\n",
       "      <th>retweet_user_screen_name</th>\n",
       "      <th>hashtags</th>\n",
       "      <th>tweetid</th>\n",
       "      <th>reference_userid_x</th>\n",
       "      <th>reference_userid_y</th>\n",
       "      <th>user_screen_name_y</th>\n",
       "    </tr>\n",
       "  </thead>\n",
       "  <tbody>\n",
       "    <tr>\n",
       "      <th>0</th>\n",
       "      <td>948302862098092034</td>\n",
       "      <td>y_44a_</td>\n",
       "      <td>9007</td>\n",
       "      <td>8821</td>\n",
       "      <td>ar</td>\n",
       "      <td>السلام عليكم ورحمة الله وبركاته مرحبا عملاء م...</td>\n",
       "      <td>2018-05-25 13:05:00</td>\n",
       "      <td>Twitter for iPhone</td>\n",
       "      <td>True</td>\n",
       "      <td>None</td>\n",
       "      <td>9.986493e+17</td>\n",
       "      <td>oneway_market</td>\n",
       "      <td>None</td>\n",
       "      <td>1000000000447930368</td>\n",
       "      <td>0</td>\n",
       "      <td>4273.0</td>\n",
       "      <td>oneway_market</td>\n",
       "    </tr>\n",
       "    <tr>\n",
       "      <th>1</th>\n",
       "      <td>948302862098092034</td>\n",
       "      <td>y_44a_</td>\n",
       "      <td>9007</td>\n",
       "      <td>8821</td>\n",
       "      <td>ar</td>\n",
       "      <td>للتأجير لبيع النطيطات زحاليق مائيه صابونية مل...</td>\n",
       "      <td>2018-05-25 13:06:00</td>\n",
       "      <td>Twitter for iPhone</td>\n",
       "      <td>True</td>\n",
       "      <td>None</td>\n",
       "      <td>9.996373e+17</td>\n",
       "      <td>games4marah</td>\n",
       "      <td>[للتأجير, لبيع النطيطات, زحاليق مائيه صابونية,...</td>\n",
       "      <td>1000000030391095297</td>\n",
       "      <td>0</td>\n",
       "      <td>4274.0</td>\n",
       "      <td>games4marah</td>\n",
       "    </tr>\n",
       "    <tr>\n",
       "      <th>2</th>\n",
       "      <td>948302862098092034</td>\n",
       "      <td>y_44a_</td>\n",
       "      <td>9007</td>\n",
       "      <td>8821</td>\n",
       "      <td>ar</td>\n",
       "      <td>مظلات وسواتر آفاق الرياض مظلات استراحات مظلات...</td>\n",
       "      <td>2018-05-25 13:06:00</td>\n",
       "      <td>Twitter for iPhone</td>\n",
       "      <td>True</td>\n",
       "      <td>None</td>\n",
       "      <td>9.993939e+17</td>\n",
       "      <td>mzlatksa</td>\n",
       "      <td>[مظلات, آفاق الرياض, مظلات استراحات, مظلات مسا...</td>\n",
       "      <td>1000000039362662400</td>\n",
       "      <td>0</td>\n",
       "      <td>4275.0</td>\n",
       "      <td>mzlatksa</td>\n",
       "    </tr>\n",
       "  </tbody>\n",
       "</table>\n",
       "</div>"
      ],
      "text/plain": [
       "               userid user_screen_name_x  follower_count  following_count  \\\n",
       "0  948302862098092034             y_44a_            9007             8821   \n",
       "1  948302862098092034             y_44a_            9007             8821   \n",
       "2  948302862098092034             y_44a_            9007             8821   \n",
       "\n",
       "  tweet_language                                         tweet_text  \\\n",
       "0             ar   السلام عليكم ورحمة الله وبركاته مرحبا عملاء م...   \n",
       "1             ar   للتأجير لبيع النطيطات زحاليق مائيه صابونية مل...   \n",
       "2             ar   مظلات وسواتر آفاق الرياض مظلات استراحات مظلات...   \n",
       "\n",
       "           tweet_time   tweet_client_name  is_retweet retweet_userid  \\\n",
       "0 2018-05-25 13:05:00  Twitter for iPhone        True           None   \n",
       "1 2018-05-25 13:06:00  Twitter for iPhone        True           None   \n",
       "2 2018-05-25 13:06:00  Twitter for iPhone        True           None   \n",
       "\n",
       "   retweet_tweetid retweet_user_screen_name  \\\n",
       "0     9.986493e+17            oneway_market   \n",
       "1     9.996373e+17              games4marah   \n",
       "2     9.993939e+17                 mzlatksa   \n",
       "\n",
       "                                            hashtags              tweetid  \\\n",
       "0                                               None  1000000000447930368   \n",
       "1  [للتأجير, لبيع النطيطات, زحاليق مائيه صابونية,...  1000000030391095297   \n",
       "2  [مظلات, آفاق الرياض, مظلات استراحات, مظلات مسا...  1000000039362662400   \n",
       "\n",
       "   reference_userid_x  reference_userid_y user_screen_name_y  \n",
       "0                   0              4273.0      oneway_market  \n",
       "1                   0              4274.0        games4marah  \n",
       "2                   0              4275.0           mzlatksa  "
      ]
     },
     "execution_count": 31,
     "metadata": {},
     "output_type": "execute_result"
    }
   ],
   "source": [
    "ddf.head(3)"
   ]
  },
  {
   "cell_type": "code",
   "execution_count": 32,
   "metadata": {},
   "outputs": [
    {
     "data": {
      "text/plain": [
       "(user_screen_name    oneway_market\n",
       " userid                       None\n",
       " follower_count                NaN\n",
       " following_count               NaN\n",
       " tweet_count                   NaN\n",
       " flagged                       0.0\n",
       " Name: 4273, dtype: object,\n",
       " user_screen_name    games4marah\n",
       " userid                     None\n",
       " follower_count              NaN\n",
       " following_count             NaN\n",
       " tweet_count                 NaN\n",
       " flagged                     0.0\n",
       " Name: 4274, dtype: object)"
      ]
     },
     "execution_count": 32,
     "metadata": {},
     "output_type": "execute_result"
    }
   ],
   "source": [
    "# double-check\n",
    "df_users.iloc[4273], df_users.iloc[4274]"
   ]
  },
  {
   "cell_type": "markdown",
   "metadata": {},
   "source": [
    "Excellent, this worked. Let's just remove and rename some columns."
   ]
  },
  {
   "cell_type": "code",
   "execution_count": 33,
   "metadata": {},
   "outputs": [
    {
     "data": {
      "text/plain": [
       "Index(['userid', 'user_screen_name_x', 'follower_count', 'following_count',\n",
       "       'tweet_language', 'tweet_text', 'tweet_time', 'tweet_client_name',\n",
       "       'is_retweet', 'retweet_userid', 'retweet_tweetid',\n",
       "       'retweet_user_screen_name', 'hashtags', 'tweetid', 'reference_userid_x',\n",
       "       'reference_userid_y', 'user_screen_name_y'],\n",
       "      dtype='object')"
      ]
     },
     "execution_count": 33,
     "metadata": {},
     "output_type": "execute_result"
    }
   ],
   "source": [
    "ddf.columns"
   ]
  },
  {
   "cell_type": "code",
   "execution_count": 34,
   "metadata": {},
   "outputs": [],
   "source": [
    "ddf = ddf.drop(columns=['userid', \n",
    "                       'user_screen_name_x', \n",
    "                       'retweet_userid', \n",
    "                       'retweet_user_screen_name', \n",
    "                       'user_screen_name_y']).persist()"
   ]
  },
  {
   "cell_type": "markdown",
   "metadata": {},
   "source": [
    "Now let's rename the two reference_userid columns"
   ]
  },
  {
   "cell_type": "code",
   "execution_count": 35,
   "metadata": {},
   "outputs": [],
   "source": [
    "ddf = ddf.rename(columns={\n",
    "        'reference_userid_x': 'user_reference_id',\n",
    "        'reference_userid_y': 'retweet_user_reference_id'\n",
    "}).persist()"
   ]
  },
  {
   "cell_type": "markdown",
   "metadata": {},
   "source": [
    "Finally let's just reshuffle the order of the columns."
   ]
  },
  {
   "cell_type": "code",
   "execution_count": 37,
   "metadata": {},
   "outputs": [],
   "source": [
    "ddf = ddf[['tweetid',\n",
    "           'user_reference_id', \n",
    "           'follower_count', \n",
    "           'following_count', \n",
    "           'tweet_text',\n",
    "           'hashtags',\n",
    "           'tweet_language',\n",
    "           'tweet_time',\n",
    "           'tweet_client_name',\n",
    "           'is_retweet',\n",
    "           'retweet_tweetid',\n",
    "           'retweet_user_reference_id']].persist()"
   ]
  },
  {
   "cell_type": "code",
   "execution_count": 38,
   "metadata": {},
   "outputs": [
    {
     "data": {
      "text/html": [
       "<div>\n",
       "<style scoped>\n",
       "    .dataframe tbody tr th:only-of-type {\n",
       "        vertical-align: middle;\n",
       "    }\n",
       "\n",
       "    .dataframe tbody tr th {\n",
       "        vertical-align: top;\n",
       "    }\n",
       "\n",
       "    .dataframe thead th {\n",
       "        text-align: right;\n",
       "    }\n",
       "</style>\n",
       "<table border=\"1\" class=\"dataframe\">\n",
       "  <thead>\n",
       "    <tr style=\"text-align: right;\">\n",
       "      <th></th>\n",
       "      <th>tweetid</th>\n",
       "      <th>user_reference_id</th>\n",
       "      <th>follower_count</th>\n",
       "      <th>following_count</th>\n",
       "      <th>tweet_text</th>\n",
       "      <th>hashtags</th>\n",
       "      <th>tweet_language</th>\n",
       "      <th>tweet_time</th>\n",
       "      <th>tweet_client_name</th>\n",
       "      <th>is_retweet</th>\n",
       "      <th>retweet_tweetid</th>\n",
       "      <th>retweet_user_reference_id</th>\n",
       "    </tr>\n",
       "  </thead>\n",
       "  <tbody>\n",
       "    <tr>\n",
       "      <th>0</th>\n",
       "      <td>1000000000447930368</td>\n",
       "      <td>0</td>\n",
       "      <td>9007</td>\n",
       "      <td>8821</td>\n",
       "      <td>السلام عليكم ورحمة الله وبركاته مرحبا عملاء م...</td>\n",
       "      <td>None</td>\n",
       "      <td>ar</td>\n",
       "      <td>2018-05-25 13:05:00</td>\n",
       "      <td>Twitter for iPhone</td>\n",
       "      <td>True</td>\n",
       "      <td>9.986493e+17</td>\n",
       "      <td>4273.0</td>\n",
       "    </tr>\n",
       "    <tr>\n",
       "      <th>1</th>\n",
       "      <td>1000000030391095297</td>\n",
       "      <td>0</td>\n",
       "      <td>9007</td>\n",
       "      <td>8821</td>\n",
       "      <td>للتأجير لبيع النطيطات زحاليق مائيه صابونية مل...</td>\n",
       "      <td>[للتأجير, لبيع النطيطات, زحاليق مائيه صابونية,...</td>\n",
       "      <td>ar</td>\n",
       "      <td>2018-05-25 13:06:00</td>\n",
       "      <td>Twitter for iPhone</td>\n",
       "      <td>True</td>\n",
       "      <td>9.996373e+17</td>\n",
       "      <td>4274.0</td>\n",
       "    </tr>\n",
       "    <tr>\n",
       "      <th>2</th>\n",
       "      <td>1000000039362662400</td>\n",
       "      <td>0</td>\n",
       "      <td>9007</td>\n",
       "      <td>8821</td>\n",
       "      <td>مظلات وسواتر آفاق الرياض مظلات استراحات مظلات...</td>\n",
       "      <td>[مظلات, آفاق الرياض, مظلات استراحات, مظلات مسا...</td>\n",
       "      <td>ar</td>\n",
       "      <td>2018-05-25 13:06:00</td>\n",
       "      <td>Twitter for iPhone</td>\n",
       "      <td>True</td>\n",
       "      <td>9.993939e+17</td>\n",
       "      <td>4275.0</td>\n",
       "    </tr>\n",
       "    <tr>\n",
       "      <th>3</th>\n",
       "      <td>1000000054911033344</td>\n",
       "      <td>1</td>\n",
       "      <td>168</td>\n",
       "      <td>408</td>\n",
       "      <td>فيديو شاهد مواطن يوثق بالفيديو كميات كبيرة من...</td>\n",
       "      <td>None</td>\n",
       "      <td>ar</td>\n",
       "      <td>2018-05-25 13:06:00</td>\n",
       "      <td>Twitter for iPhone</td>\n",
       "      <td>True</td>\n",
       "      <td>9.983516e+17</td>\n",
       "      <td>4276.0</td>\n",
       "    </tr>\n",
       "    <tr>\n",
       "      <th>4</th>\n",
       "      <td>1000000204865789954</td>\n",
       "      <td>2</td>\n",
       "      <td>1623</td>\n",
       "      <td>2022</td>\n",
       "      <td>أستغفر الله العظيم وأتوب إليه</td>\n",
       "      <td>None</td>\n",
       "      <td>ar</td>\n",
       "      <td>2018-05-25 13:06:00</td>\n",
       "      <td>غرد بصدقة</td>\n",
       "      <td>False</td>\n",
       "      <td>NaN</td>\n",
       "      <td>NaN</td>\n",
       "    </tr>\n",
       "  </tbody>\n",
       "</table>\n",
       "</div>"
      ],
      "text/plain": [
       "               tweetid  user_reference_id  follower_count  following_count  \\\n",
       "0  1000000000447930368                  0            9007             8821   \n",
       "1  1000000030391095297                  0            9007             8821   \n",
       "2  1000000039362662400                  0            9007             8821   \n",
       "3  1000000054911033344                  1             168              408   \n",
       "4  1000000204865789954                  2            1623             2022   \n",
       "\n",
       "                                          tweet_text  \\\n",
       "0   السلام عليكم ورحمة الله وبركاته مرحبا عملاء م...   \n",
       "1   للتأجير لبيع النطيطات زحاليق مائيه صابونية مل...   \n",
       "2   مظلات وسواتر آفاق الرياض مظلات استراحات مظلات...   \n",
       "3   فيديو شاهد مواطن يوثق بالفيديو كميات كبيرة من...   \n",
       "4                     أستغفر الله العظيم وأتوب إليه    \n",
       "\n",
       "                                            hashtags tweet_language  \\\n",
       "0                                               None             ar   \n",
       "1  [للتأجير, لبيع النطيطات, زحاليق مائيه صابونية,...             ar   \n",
       "2  [مظلات, آفاق الرياض, مظلات استراحات, مظلات مسا...             ar   \n",
       "3                                               None             ar   \n",
       "4                                               None             ar   \n",
       "\n",
       "           tweet_time   tweet_client_name  is_retweet  retweet_tweetid  \\\n",
       "0 2018-05-25 13:05:00  Twitter for iPhone        True     9.986493e+17   \n",
       "1 2018-05-25 13:06:00  Twitter for iPhone        True     9.996373e+17   \n",
       "2 2018-05-25 13:06:00  Twitter for iPhone        True     9.993939e+17   \n",
       "3 2018-05-25 13:06:00  Twitter for iPhone        True     9.983516e+17   \n",
       "4 2018-05-25 13:06:00           غرد بصدقة       False              NaN   \n",
       "\n",
       "   retweet_user_reference_id  \n",
       "0                     4273.0  \n",
       "1                     4274.0  \n",
       "2                     4275.0  \n",
       "3                     4276.0  \n",
       "4                        NaN  "
      ]
     },
     "execution_count": 38,
     "metadata": {},
     "output_type": "execute_result"
    }
   ],
   "source": [
    "ddf.head()"
   ]
  },
  {
   "cell_type": "code",
   "execution_count": 40,
   "metadata": {},
   "outputs": [
    {
     "data": {
      "text/plain": [
       "35347002"
      ]
     },
     "execution_count": 40,
     "metadata": {},
     "output_type": "execute_result"
    }
   ],
   "source": [
    "ddf.shape[0].compute()"
   ]
  },
  {
   "cell_type": "markdown",
   "metadata": {},
   "source": [
    "Fantastic. \n",
    "\n",
    "Let's save this now."
   ]
  },
  {
   "cell_type": "code",
   "execution_count": 41,
   "metadata": {},
   "outputs": [
    {
     "data": {
      "text/plain": [
       "False"
      ]
     },
     "execution_count": 41,
     "metadata": {},
     "output_type": "execute_result"
    }
   ],
   "source": [
    "# check if divisions are known\n",
    "ddf.known_divisions"
   ]
  },
  {
   "cell_type": "code",
   "execution_count": 42,
   "metadata": {},
   "outputs": [],
   "source": [
    "# set index to tweetid column\n",
    "ddf = ddf.set_index('tweetid', drop=True).persist()"
   ]
  },
  {
   "cell_type": "code",
   "execution_count": 45,
   "metadata": {},
   "outputs": [],
   "source": [
    "# let's drop tweetid from the columns\n",
    "ddf = ddf.drop(columns=['tweetid']).persist()"
   ]
  },
  {
   "cell_type": "code",
   "execution_count": 46,
   "metadata": {},
   "outputs": [
    {
     "data": {
      "text/html": [
       "<div>\n",
       "<style scoped>\n",
       "    .dataframe tbody tr th:only-of-type {\n",
       "        vertical-align: middle;\n",
       "    }\n",
       "\n",
       "    .dataframe tbody tr th {\n",
       "        vertical-align: top;\n",
       "    }\n",
       "\n",
       "    .dataframe thead th {\n",
       "        text-align: right;\n",
       "    }\n",
       "</style>\n",
       "<table border=\"1\" class=\"dataframe\">\n",
       "  <thead>\n",
       "    <tr style=\"text-align: right;\">\n",
       "      <th></th>\n",
       "      <th>user_reference_id</th>\n",
       "      <th>follower_count</th>\n",
       "      <th>following_count</th>\n",
       "      <th>tweet_text</th>\n",
       "      <th>hashtags</th>\n",
       "      <th>tweet_language</th>\n",
       "      <th>tweet_time</th>\n",
       "      <th>tweet_client_name</th>\n",
       "      <th>is_retweet</th>\n",
       "      <th>retweet_tweetid</th>\n",
       "      <th>retweet_user_reference_id</th>\n",
       "    </tr>\n",
       "    <tr>\n",
       "      <th>tweetid</th>\n",
       "      <th></th>\n",
       "      <th></th>\n",
       "      <th></th>\n",
       "      <th></th>\n",
       "      <th></th>\n",
       "      <th></th>\n",
       "      <th></th>\n",
       "      <th></th>\n",
       "      <th></th>\n",
       "      <th></th>\n",
       "      <th></th>\n",
       "    </tr>\n",
       "  </thead>\n",
       "  <tbody>\n",
       "    <tr>\n",
       "      <th>1000000000447930368</th>\n",
       "      <td>0</td>\n",
       "      <td>9007</td>\n",
       "      <td>8821</td>\n",
       "      <td>السلام عليكم ورحمة الله وبركاته مرحبا عملاء م...</td>\n",
       "      <td>None</td>\n",
       "      <td>ar</td>\n",
       "      <td>2018-05-25 13:05:00</td>\n",
       "      <td>Twitter for iPhone</td>\n",
       "      <td>True</td>\n",
       "      <td>9.986493e+17</td>\n",
       "      <td>4273.0</td>\n",
       "    </tr>\n",
       "    <tr>\n",
       "      <th>1000000030391095297</th>\n",
       "      <td>0</td>\n",
       "      <td>9007</td>\n",
       "      <td>8821</td>\n",
       "      <td>للتأجير لبيع النطيطات زحاليق مائيه صابونية مل...</td>\n",
       "      <td>[للتأجير, لبيع النطيطات, زحاليق مائيه صابونية,...</td>\n",
       "      <td>ar</td>\n",
       "      <td>2018-05-25 13:06:00</td>\n",
       "      <td>Twitter for iPhone</td>\n",
       "      <td>True</td>\n",
       "      <td>9.996373e+17</td>\n",
       "      <td>4274.0</td>\n",
       "    </tr>\n",
       "    <tr>\n",
       "      <th>1000000039362662400</th>\n",
       "      <td>0</td>\n",
       "      <td>9007</td>\n",
       "      <td>8821</td>\n",
       "      <td>مظلات وسواتر آفاق الرياض مظلات استراحات مظلات...</td>\n",
       "      <td>[مظلات, آفاق الرياض, مظلات استراحات, مظلات مسا...</td>\n",
       "      <td>ar</td>\n",
       "      <td>2018-05-25 13:06:00</td>\n",
       "      <td>Twitter for iPhone</td>\n",
       "      <td>True</td>\n",
       "      <td>9.993939e+17</td>\n",
       "      <td>4275.0</td>\n",
       "    </tr>\n",
       "    <tr>\n",
       "      <th>1000000054911033344</th>\n",
       "      <td>1</td>\n",
       "      <td>168</td>\n",
       "      <td>408</td>\n",
       "      <td>فيديو شاهد مواطن يوثق بالفيديو كميات كبيرة من...</td>\n",
       "      <td>None</td>\n",
       "      <td>ar</td>\n",
       "      <td>2018-05-25 13:06:00</td>\n",
       "      <td>Twitter for iPhone</td>\n",
       "      <td>True</td>\n",
       "      <td>9.983516e+17</td>\n",
       "      <td>4276.0</td>\n",
       "    </tr>\n",
       "    <tr>\n",
       "      <th>1000000204865789954</th>\n",
       "      <td>2</td>\n",
       "      <td>1623</td>\n",
       "      <td>2022</td>\n",
       "      <td>أستغفر الله العظيم وأتوب إليه</td>\n",
       "      <td>None</td>\n",
       "      <td>ar</td>\n",
       "      <td>2018-05-25 13:06:00</td>\n",
       "      <td>غرد بصدقة</td>\n",
       "      <td>False</td>\n",
       "      <td>NaN</td>\n",
       "      <td>NaN</td>\n",
       "    </tr>\n",
       "  </tbody>\n",
       "</table>\n",
       "</div>"
      ],
      "text/plain": [
       "                     user_reference_id  follower_count  following_count  \\\n",
       "tweetid                                                                   \n",
       "1000000000447930368                  0            9007             8821   \n",
       "1000000030391095297                  0            9007             8821   \n",
       "1000000039362662400                  0            9007             8821   \n",
       "1000000054911033344                  1             168              408   \n",
       "1000000204865789954                  2            1623             2022   \n",
       "\n",
       "                                                            tweet_text  \\\n",
       "tweetid                                                                  \n",
       "1000000000447930368   السلام عليكم ورحمة الله وبركاته مرحبا عملاء م...   \n",
       "1000000030391095297   للتأجير لبيع النطيطات زحاليق مائيه صابونية مل...   \n",
       "1000000039362662400   مظلات وسواتر آفاق الرياض مظلات استراحات مظلات...   \n",
       "1000000054911033344   فيديو شاهد مواطن يوثق بالفيديو كميات كبيرة من...   \n",
       "1000000204865789954                     أستغفر الله العظيم وأتوب إليه    \n",
       "\n",
       "                                                              hashtags  \\\n",
       "tweetid                                                                  \n",
       "1000000000447930368                                               None   \n",
       "1000000030391095297  [للتأجير, لبيع النطيطات, زحاليق مائيه صابونية,...   \n",
       "1000000039362662400  [مظلات, آفاق الرياض, مظلات استراحات, مظلات مسا...   \n",
       "1000000054911033344                                               None   \n",
       "1000000204865789954                                               None   \n",
       "\n",
       "                    tweet_language          tweet_time   tweet_client_name  \\\n",
       "tweetid                                                                      \n",
       "1000000000447930368             ar 2018-05-25 13:05:00  Twitter for iPhone   \n",
       "1000000030391095297             ar 2018-05-25 13:06:00  Twitter for iPhone   \n",
       "1000000039362662400             ar 2018-05-25 13:06:00  Twitter for iPhone   \n",
       "1000000054911033344             ar 2018-05-25 13:06:00  Twitter for iPhone   \n",
       "1000000204865789954             ar 2018-05-25 13:06:00           غرد بصدقة   \n",
       "\n",
       "                     is_retweet  retweet_tweetid  retweet_user_reference_id  \n",
       "tweetid                                                                      \n",
       "1000000000447930368        True     9.986493e+17                     4273.0  \n",
       "1000000030391095297        True     9.996373e+17                     4274.0  \n",
       "1000000039362662400        True     9.993939e+17                     4275.0  \n",
       "1000000054911033344        True     9.983516e+17                     4276.0  \n",
       "1000000204865789954       False              NaN                        NaN  "
      ]
     },
     "execution_count": 46,
     "metadata": {},
     "output_type": "execute_result"
    }
   ],
   "source": [
    "ddf.head()"
   ]
  },
  {
   "cell_type": "code",
   "execution_count": 47,
   "metadata": {},
   "outputs": [],
   "source": [
    "ddf.to_parquet('s3://twitter-saudi-us-east-2/interim/ddf_clean_userids_substituted.parquet',\n",
    "               engine='pyarrow')"
   ]
  },
  {
   "cell_type": "markdown",
   "metadata": {},
   "source": [
    "Excellent.\n",
    "\n",
    "We now have:\n",
    "- a reference dataframe containing all the information about the unique users in this dataset\n",
    "- a slimmed-down version of our main dataframe with user ids and names replaced with just their unique identifiers.\n",
    "\n",
    "Let's now proceed to create a similar reference dataframe for the **unique tweets** in the dataset."
   ]
  },
  {
   "cell_type": "markdown",
   "metadata": {},
   "source": [
    "# 7. Identifying Unique Tweets\n",
    "\n",
    "We will now proceed to identify the unique tweets in the dataset. Since there are so many re-tweets, we are hoping that this will allow us to significantly reduce the size of the dataset so that we can proceed to work with the tweet text contents locally using pandas, rather than distributed using dask.\n",
    "\n",
    "The goal is to get a relational database of:\n",
    "- unique tweets with unique identifiers, generated by us\n",
    "- the original dataset with unique tweet IDs, representing unique instances of potentially duplicated content\n",
    "\n",
    "The collection of unique tweet content is what we will feed into our topic modelling algorithm."
   ]
  },
  {
   "cell_type": "markdown",
   "metadata": {},
   "source": [
    "## 7.1. Drop All Rows with Duplicate Tweet_Text\n",
    "Let's proceed to drop all rows from ddf that have duplicate contents for the tweet_text column. This will leave us with the set of original tweets; i.e. no duplicates due to re-tweeting."
   ]
  },
  {
   "cell_type": "code",
   "execution_count": 11,
   "metadata": {},
   "outputs": [],
   "source": [
    "# create dask dataframe with only unique entries in tweet_text\n",
    "ddf_unique = ddf.drop_duplicates(subset=['tweet_text']).persist()"
   ]
  },
  {
   "cell_type": "code",
   "execution_count": 12,
   "metadata": {},
   "outputs": [
    {
     "data": {
      "text/html": [
       "<div><strong>Dask DataFrame Structure:</strong></div>\n",
       "<div>\n",
       "<style scoped>\n",
       "    .dataframe tbody tr th:only-of-type {\n",
       "        vertical-align: middle;\n",
       "    }\n",
       "\n",
       "    .dataframe tbody tr th {\n",
       "        vertical-align: top;\n",
       "    }\n",
       "\n",
       "    .dataframe thead th {\n",
       "        text-align: right;\n",
       "    }\n",
       "</style>\n",
       "<table border=\"1\" class=\"dataframe\">\n",
       "  <thead>\n",
       "    <tr style=\"text-align: right;\">\n",
       "      <th></th>\n",
       "      <th>user_reference_id</th>\n",
       "      <th>follower_count</th>\n",
       "      <th>following_count</th>\n",
       "      <th>tweet_text</th>\n",
       "      <th>hashtags</th>\n",
       "      <th>tweet_language</th>\n",
       "      <th>tweet_time</th>\n",
       "      <th>tweet_client_name</th>\n",
       "      <th>is_retweet</th>\n",
       "      <th>retweet_tweetid</th>\n",
       "      <th>retweet_user_reference_id</th>\n",
       "    </tr>\n",
       "    <tr>\n",
       "      <th>npartitions=1</th>\n",
       "      <th></th>\n",
       "      <th></th>\n",
       "      <th></th>\n",
       "      <th></th>\n",
       "      <th></th>\n",
       "      <th></th>\n",
       "      <th></th>\n",
       "      <th></th>\n",
       "      <th></th>\n",
       "      <th></th>\n",
       "      <th></th>\n",
       "    </tr>\n",
       "  </thead>\n",
       "  <tbody>\n",
       "    <tr>\n",
       "      <th></th>\n",
       "      <td>int64</td>\n",
       "      <td>int64</td>\n",
       "      <td>int64</td>\n",
       "      <td>object</td>\n",
       "      <td>object</td>\n",
       "      <td>object</td>\n",
       "      <td>datetime64[ns]</td>\n",
       "      <td>object</td>\n",
       "      <td>bool</td>\n",
       "      <td>float64</td>\n",
       "      <td>float64</td>\n",
       "    </tr>\n",
       "    <tr>\n",
       "      <th></th>\n",
       "      <td>...</td>\n",
       "      <td>...</td>\n",
       "      <td>...</td>\n",
       "      <td>...</td>\n",
       "      <td>...</td>\n",
       "      <td>...</td>\n",
       "      <td>...</td>\n",
       "      <td>...</td>\n",
       "      <td>...</td>\n",
       "      <td>...</td>\n",
       "      <td>...</td>\n",
       "    </tr>\n",
       "  </tbody>\n",
       "</table>\n",
       "</div>\n",
       "<div>Dask Name: drop-duplicates-agg, 1 tasks</div>"
      ],
      "text/plain": [
       "Dask DataFrame Structure:\n",
       "              user_reference_id follower_count following_count tweet_text hashtags tweet_language      tweet_time tweet_client_name is_retweet retweet_tweetid retweet_user_reference_id\n",
       "npartitions=1                                                                                                                                                                           \n",
       "                          int64          int64           int64     object   object         object  datetime64[ns]            object       bool         float64                   float64\n",
       "                            ...            ...             ...        ...      ...            ...             ...               ...        ...             ...                       ...\n",
       "Dask Name: drop-duplicates-agg, 1 tasks"
      ]
     },
     "execution_count": 12,
     "metadata": {},
     "output_type": "execute_result"
    }
   ],
   "source": [
    "ddf_unique"
   ]
  },
  {
   "cell_type": "code",
   "execution_count": 13,
   "metadata": {},
   "outputs": [
    {
     "data": {
      "text/plain": [
       "6153341"
      ]
     },
     "execution_count": 13,
     "metadata": {},
     "output_type": "execute_result"
    }
   ],
   "source": [
    "# get number of rows in ddf_unique\n",
    "ddf_unique.shape[0].compute()"
   ]
  },
  {
   "cell_type": "markdown",
   "metadata": {},
   "source": [
    "OK. That is more than expected. The fact that we had 3.4million rows with is_retweet = False led us to believe we'd end up with around that number in unique tweets. We have now ended up with almost double that.\n",
    "\n",
    "Let's investigate this further before continuing on. We need to be make sure we can trust this set of 'unique' tweets."
   ]
  },
  {
   "cell_type": "code",
   "execution_count": 14,
   "metadata": {},
   "outputs": [
    {
     "data": {
      "text/html": [
       "<div>\n",
       "<style scoped>\n",
       "    .dataframe tbody tr th:only-of-type {\n",
       "        vertical-align: middle;\n",
       "    }\n",
       "\n",
       "    .dataframe tbody tr th {\n",
       "        vertical-align: top;\n",
       "    }\n",
       "\n",
       "    .dataframe thead th {\n",
       "        text-align: right;\n",
       "    }\n",
       "</style>\n",
       "<table border=\"1\" class=\"dataframe\">\n",
       "  <thead>\n",
       "    <tr style=\"text-align: right;\">\n",
       "      <th></th>\n",
       "      <th>user_reference_id</th>\n",
       "      <th>follower_count</th>\n",
       "      <th>following_count</th>\n",
       "      <th>tweet_text</th>\n",
       "      <th>hashtags</th>\n",
       "      <th>tweet_language</th>\n",
       "      <th>tweet_time</th>\n",
       "      <th>tweet_client_name</th>\n",
       "      <th>is_retweet</th>\n",
       "      <th>retweet_tweetid</th>\n",
       "      <th>retweet_user_reference_id</th>\n",
       "    </tr>\n",
       "    <tr>\n",
       "      <th>tweetid</th>\n",
       "      <th></th>\n",
       "      <th></th>\n",
       "      <th></th>\n",
       "      <th></th>\n",
       "      <th></th>\n",
       "      <th></th>\n",
       "      <th></th>\n",
       "      <th></th>\n",
       "      <th></th>\n",
       "      <th></th>\n",
       "      <th></th>\n",
       "    </tr>\n",
       "  </thead>\n",
       "  <tbody>\n",
       "    <tr>\n",
       "      <th>1000000000447930368</th>\n",
       "      <td>0</td>\n",
       "      <td>9007</td>\n",
       "      <td>8821</td>\n",
       "      <td>السلام عليكم ورحمة الله وبركاته مرحبا عملاء م...</td>\n",
       "      <td>None</td>\n",
       "      <td>ar</td>\n",
       "      <td>2018-05-25 13:05:00</td>\n",
       "      <td>Twitter for iPhone</td>\n",
       "      <td>True</td>\n",
       "      <td>9.986493e+17</td>\n",
       "      <td>4273.0</td>\n",
       "    </tr>\n",
       "    <tr>\n",
       "      <th>1000000030391095297</th>\n",
       "      <td>0</td>\n",
       "      <td>9007</td>\n",
       "      <td>8821</td>\n",
       "      <td>للتأجير لبيع النطيطات زحاليق مائيه صابونية مل...</td>\n",
       "      <td>[للتأجير, لبيع النطيطات, زحاليق مائيه صابونية,...</td>\n",
       "      <td>ar</td>\n",
       "      <td>2018-05-25 13:06:00</td>\n",
       "      <td>Twitter for iPhone</td>\n",
       "      <td>True</td>\n",
       "      <td>9.996373e+17</td>\n",
       "      <td>4274.0</td>\n",
       "    </tr>\n",
       "    <tr>\n",
       "      <th>1000000039362662400</th>\n",
       "      <td>0</td>\n",
       "      <td>9007</td>\n",
       "      <td>8821</td>\n",
       "      <td>مظلات وسواتر آفاق الرياض مظلات استراحات مظلات...</td>\n",
       "      <td>[مظلات, آفاق الرياض, مظلات استراحات, مظلات مسا...</td>\n",
       "      <td>ar</td>\n",
       "      <td>2018-05-25 13:06:00</td>\n",
       "      <td>Twitter for iPhone</td>\n",
       "      <td>True</td>\n",
       "      <td>9.993939e+17</td>\n",
       "      <td>4275.0</td>\n",
       "    </tr>\n",
       "    <tr>\n",
       "      <th>1000000054911033344</th>\n",
       "      <td>1</td>\n",
       "      <td>168</td>\n",
       "      <td>408</td>\n",
       "      <td>فيديو شاهد مواطن يوثق بالفيديو كميات كبيرة من...</td>\n",
       "      <td>None</td>\n",
       "      <td>ar</td>\n",
       "      <td>2018-05-25 13:06:00</td>\n",
       "      <td>Twitter for iPhone</td>\n",
       "      <td>True</td>\n",
       "      <td>9.983516e+17</td>\n",
       "      <td>4276.0</td>\n",
       "    </tr>\n",
       "    <tr>\n",
       "      <th>1000000204865789954</th>\n",
       "      <td>2</td>\n",
       "      <td>1623</td>\n",
       "      <td>2022</td>\n",
       "      <td>أستغفر الله العظيم وأتوب إليه</td>\n",
       "      <td>None</td>\n",
       "      <td>ar</td>\n",
       "      <td>2018-05-25 13:06:00</td>\n",
       "      <td>غرد بصدقة</td>\n",
       "      <td>False</td>\n",
       "      <td>NaN</td>\n",
       "      <td>NaN</td>\n",
       "    </tr>\n",
       "  </tbody>\n",
       "</table>\n",
       "</div>"
      ],
      "text/plain": [
       "                     user_reference_id  follower_count  following_count  \\\n",
       "tweetid                                                                   \n",
       "1000000000447930368                  0            9007             8821   \n",
       "1000000030391095297                  0            9007             8821   \n",
       "1000000039362662400                  0            9007             8821   \n",
       "1000000054911033344                  1             168              408   \n",
       "1000000204865789954                  2            1623             2022   \n",
       "\n",
       "                                                            tweet_text  \\\n",
       "tweetid                                                                  \n",
       "1000000000447930368   السلام عليكم ورحمة الله وبركاته مرحبا عملاء م...   \n",
       "1000000030391095297   للتأجير لبيع النطيطات زحاليق مائيه صابونية مل...   \n",
       "1000000039362662400   مظلات وسواتر آفاق الرياض مظلات استراحات مظلات...   \n",
       "1000000054911033344   فيديو شاهد مواطن يوثق بالفيديو كميات كبيرة من...   \n",
       "1000000204865789954                     أستغفر الله العظيم وأتوب إليه    \n",
       "\n",
       "                                                              hashtags  \\\n",
       "tweetid                                                                  \n",
       "1000000000447930368                                               None   \n",
       "1000000030391095297  [للتأجير, لبيع النطيطات, زحاليق مائيه صابونية,...   \n",
       "1000000039362662400  [مظلات, آفاق الرياض, مظلات استراحات, مظلات مسا...   \n",
       "1000000054911033344                                               None   \n",
       "1000000204865789954                                               None   \n",
       "\n",
       "                    tweet_language          tweet_time   tweet_client_name  \\\n",
       "tweetid                                                                      \n",
       "1000000000447930368             ar 2018-05-25 13:05:00  Twitter for iPhone   \n",
       "1000000030391095297             ar 2018-05-25 13:06:00  Twitter for iPhone   \n",
       "1000000039362662400             ar 2018-05-25 13:06:00  Twitter for iPhone   \n",
       "1000000054911033344             ar 2018-05-25 13:06:00  Twitter for iPhone   \n",
       "1000000204865789954             ar 2018-05-25 13:06:00           غرد بصدقة   \n",
       "\n",
       "                     is_retweet  retweet_tweetid  retweet_user_reference_id  \n",
       "tweetid                                                                      \n",
       "1000000000447930368        True     9.986493e+17                     4273.0  \n",
       "1000000030391095297        True     9.996373e+17                     4274.0  \n",
       "1000000039362662400        True     9.993939e+17                     4275.0  \n",
       "1000000054911033344        True     9.983516e+17                     4276.0  \n",
       "1000000204865789954       False              NaN                        NaN  "
      ]
     },
     "execution_count": 14,
     "metadata": {},
     "output_type": "execute_result"
    }
   ],
   "source": [
    "ddf_unique.head()"
   ]
  },
  {
   "cell_type": "code",
   "execution_count": 15,
   "metadata": {},
   "outputs": [
    {
     "data": {
      "text/html": [
       "<div>\n",
       "<style scoped>\n",
       "    .dataframe tbody tr th:only-of-type {\n",
       "        vertical-align: middle;\n",
       "    }\n",
       "\n",
       "    .dataframe tbody tr th {\n",
       "        vertical-align: top;\n",
       "    }\n",
       "\n",
       "    .dataframe thead th {\n",
       "        text-align: right;\n",
       "    }\n",
       "</style>\n",
       "<table border=\"1\" class=\"dataframe\">\n",
       "  <thead>\n",
       "    <tr style=\"text-align: right;\">\n",
       "      <th></th>\n",
       "      <th>user_reference_id</th>\n",
       "      <th>follower_count</th>\n",
       "      <th>following_count</th>\n",
       "      <th>tweet_text</th>\n",
       "      <th>hashtags</th>\n",
       "      <th>tweet_language</th>\n",
       "      <th>tweet_time</th>\n",
       "      <th>tweet_client_name</th>\n",
       "      <th>is_retweet</th>\n",
       "      <th>retweet_tweetid</th>\n",
       "      <th>retweet_user_reference_id</th>\n",
       "    </tr>\n",
       "    <tr>\n",
       "      <th>tweetid</th>\n",
       "      <th></th>\n",
       "      <th></th>\n",
       "      <th></th>\n",
       "      <th></th>\n",
       "      <th></th>\n",
       "      <th></th>\n",
       "      <th></th>\n",
       "      <th></th>\n",
       "      <th></th>\n",
       "      <th></th>\n",
       "      <th></th>\n",
       "    </tr>\n",
       "  </thead>\n",
       "  <tbody>\n",
       "    <tr>\n",
       "      <th>1000000000447930368</th>\n",
       "      <td>0</td>\n",
       "      <td>9007</td>\n",
       "      <td>8821</td>\n",
       "      <td>السلام عليكم ورحمة الله وبركاته مرحبا عملاء م...</td>\n",
       "      <td>None</td>\n",
       "      <td>ar</td>\n",
       "      <td>2018-05-25 13:05:00</td>\n",
       "      <td>Twitter for iPhone</td>\n",
       "      <td>True</td>\n",
       "      <td>9.986493e+17</td>\n",
       "      <td>4273.0</td>\n",
       "    </tr>\n",
       "    <tr>\n",
       "      <th>1000000030391095297</th>\n",
       "      <td>0</td>\n",
       "      <td>9007</td>\n",
       "      <td>8821</td>\n",
       "      <td>للتأجير لبيع النطيطات زحاليق مائيه صابونية مل...</td>\n",
       "      <td>[للتأجير, لبيع النطيطات, زحاليق مائيه صابونية,...</td>\n",
       "      <td>ar</td>\n",
       "      <td>2018-05-25 13:06:00</td>\n",
       "      <td>Twitter for iPhone</td>\n",
       "      <td>True</td>\n",
       "      <td>9.996373e+17</td>\n",
       "      <td>4274.0</td>\n",
       "    </tr>\n",
       "    <tr>\n",
       "      <th>1000000039362662400</th>\n",
       "      <td>0</td>\n",
       "      <td>9007</td>\n",
       "      <td>8821</td>\n",
       "      <td>مظلات وسواتر آفاق الرياض مظلات استراحات مظلات...</td>\n",
       "      <td>[مظلات, آفاق الرياض, مظلات استراحات, مظلات مسا...</td>\n",
       "      <td>ar</td>\n",
       "      <td>2018-05-25 13:06:00</td>\n",
       "      <td>Twitter for iPhone</td>\n",
       "      <td>True</td>\n",
       "      <td>9.993939e+17</td>\n",
       "      <td>4275.0</td>\n",
       "    </tr>\n",
       "    <tr>\n",
       "      <th>1000000054911033344</th>\n",
       "      <td>1</td>\n",
       "      <td>168</td>\n",
       "      <td>408</td>\n",
       "      <td>فيديو شاهد مواطن يوثق بالفيديو كميات كبيرة من...</td>\n",
       "      <td>None</td>\n",
       "      <td>ar</td>\n",
       "      <td>2018-05-25 13:06:00</td>\n",
       "      <td>Twitter for iPhone</td>\n",
       "      <td>True</td>\n",
       "      <td>9.983516e+17</td>\n",
       "      <td>4276.0</td>\n",
       "    </tr>\n",
       "    <tr>\n",
       "      <th>1000000215598891008</th>\n",
       "      <td>0</td>\n",
       "      <td>9007</td>\n",
       "      <td>8821</td>\n",
       "      <td>تخفيضات على جميع الأصناف لدى دانة المسك للعود...</td>\n",
       "      <td>[تخفيضات, دانة المسك للعود, الرياض, الدائري ال...</td>\n",
       "      <td>ar</td>\n",
       "      <td>2018-05-25 13:06:00</td>\n",
       "      <td>Twitter for iPhone</td>\n",
       "      <td>True</td>\n",
       "      <td>9.997592e+17</td>\n",
       "      <td>4277.0</td>\n",
       "    </tr>\n",
       "  </tbody>\n",
       "</table>\n",
       "</div>"
      ],
      "text/plain": [
       "                     user_reference_id  follower_count  following_count  \\\n",
       "tweetid                                                                   \n",
       "1000000000447930368                  0            9007             8821   \n",
       "1000000030391095297                  0            9007             8821   \n",
       "1000000039362662400                  0            9007             8821   \n",
       "1000000054911033344                  1             168              408   \n",
       "1000000215598891008                  0            9007             8821   \n",
       "\n",
       "                                                            tweet_text  \\\n",
       "tweetid                                                                  \n",
       "1000000000447930368   السلام عليكم ورحمة الله وبركاته مرحبا عملاء م...   \n",
       "1000000030391095297   للتأجير لبيع النطيطات زحاليق مائيه صابونية مل...   \n",
       "1000000039362662400   مظلات وسواتر آفاق الرياض مظلات استراحات مظلات...   \n",
       "1000000054911033344   فيديو شاهد مواطن يوثق بالفيديو كميات كبيرة من...   \n",
       "1000000215598891008   تخفيضات على جميع الأصناف لدى دانة المسك للعود...   \n",
       "\n",
       "                                                              hashtags  \\\n",
       "tweetid                                                                  \n",
       "1000000000447930368                                               None   \n",
       "1000000030391095297  [للتأجير, لبيع النطيطات, زحاليق مائيه صابونية,...   \n",
       "1000000039362662400  [مظلات, آفاق الرياض, مظلات استراحات, مظلات مسا...   \n",
       "1000000054911033344                                               None   \n",
       "1000000215598891008  [تخفيضات, دانة المسك للعود, الرياض, الدائري ال...   \n",
       "\n",
       "                    tweet_language          tweet_time   tweet_client_name  \\\n",
       "tweetid                                                                      \n",
       "1000000000447930368             ar 2018-05-25 13:05:00  Twitter for iPhone   \n",
       "1000000030391095297             ar 2018-05-25 13:06:00  Twitter for iPhone   \n",
       "1000000039362662400             ar 2018-05-25 13:06:00  Twitter for iPhone   \n",
       "1000000054911033344             ar 2018-05-25 13:06:00  Twitter for iPhone   \n",
       "1000000215598891008             ar 2018-05-25 13:06:00  Twitter for iPhone   \n",
       "\n",
       "                     is_retweet  retweet_tweetid  retweet_user_reference_id  \n",
       "tweetid                                                                      \n",
       "1000000000447930368        True     9.986493e+17                     4273.0  \n",
       "1000000030391095297        True     9.996373e+17                     4274.0  \n",
       "1000000039362662400        True     9.993939e+17                     4275.0  \n",
       "1000000054911033344        True     9.983516e+17                     4276.0  \n",
       "1000000215598891008        True     9.997592e+17                     4277.0  "
      ]
     },
     "execution_count": 15,
     "metadata": {},
     "output_type": "execute_result"
    }
   ],
   "source": [
    "# inspect entries for which is_retweet = True\n",
    "ddf_unique[ddf_unique.is_retweet == True].head()"
   ]
  },
  {
   "cell_type": "markdown",
   "metadata": {},
   "source": [
    "We might be able to use the retweet_tweetid feature to get all entries which have retweeted the same tweet."
   ]
  },
  {
   "cell_type": "markdown",
   "metadata": {},
   "source": [
    "Let's try this by finding duplicates in retweet_tweetid column. "
   ]
  },
  {
   "cell_type": "code",
   "execution_count": 16,
   "metadata": {},
   "outputs": [
    {
     "data": {
      "text/plain": [
       "1.096888e+18    5\n",
       "4.185034e+17    4\n",
       "1.085309e+18    4\n",
       "4.198996e+17    4\n",
       "1.012492e+18    4\n",
       "1.088175e+18    4\n",
       "1.090611e+18    4\n",
       "1.119623e+18    4\n",
       "1.088173e+18    4\n",
       "1.085316e+18    4\n",
       "9.870564e+17    4\n",
       "1.093834e+18    4\n",
       "1.153985e+18    4\n",
       "9.870569e+17    4\n",
       "1.139251e+18    3\n",
       "Name: retweet_tweetid, dtype: int64"
      ]
     },
     "execution_count": 16,
     "metadata": {},
     "output_type": "execute_result"
    }
   ],
   "source": [
    "# check first if we even have duplicates by doing a value_counts()\n",
    "ddf_unique.retweet_tweetid.value_counts().head(15)"
   ]
  },
  {
   "cell_type": "markdown",
   "metadata": {},
   "source": [
    "It seems we do have retweets of the same tweets in this dataset. That would seem to mean that not all the tweets in this reduced dataset are truly unique.\n",
    "\n",
    "Maybe there are minor changes like spaces, hashtags, etc.?"
   ]
  },
  {
   "cell_type": "markdown",
   "metadata": {},
   "source": [
    "Let's get just the duplicated rows.\n",
    "Dask does not support the .duplicated() method, so let's create a ddf with value_counts > 1 as a mask."
   ]
  },
  {
   "cell_type": "code",
   "execution_count": 17,
   "metadata": {},
   "outputs": [],
   "source": [
    "# create mask ddf\n",
    "ddf_filter = ddf_unique['retweet_tweetid'].value_counts().map(lambda x: x > 1)"
   ]
  },
  {
   "cell_type": "code",
   "execution_count": 18,
   "metadata": {},
   "outputs": [],
   "source": [
    "# use mask to get duplicated rows\n",
    "ddf_duplicated_retweetids = ddf_unique[ddf_unique['retweet_tweetid'].isin(list(ddf_filter[ddf_filter].index))]"
   ]
  },
  {
   "cell_type": "code",
   "execution_count": 19,
   "metadata": {},
   "outputs": [],
   "source": [
    "# set index and sort dataframe\n",
    "ddf_duplicated_retweetids = ddf_duplicated_retweetids.set_index('retweet_tweetid')"
   ]
  },
  {
   "cell_type": "code",
   "execution_count": 20,
   "metadata": {},
   "outputs": [
    {
     "data": {
      "text/html": [
       "<div>\n",
       "<style scoped>\n",
       "    .dataframe tbody tr th:only-of-type {\n",
       "        vertical-align: middle;\n",
       "    }\n",
       "\n",
       "    .dataframe tbody tr th {\n",
       "        vertical-align: top;\n",
       "    }\n",
       "\n",
       "    .dataframe thead th {\n",
       "        text-align: right;\n",
       "    }\n",
       "</style>\n",
       "<table border=\"1\" class=\"dataframe\">\n",
       "  <thead>\n",
       "    <tr style=\"text-align: right;\">\n",
       "      <th></th>\n",
       "      <th>user_reference_id</th>\n",
       "      <th>follower_count</th>\n",
       "      <th>following_count</th>\n",
       "      <th>tweet_text</th>\n",
       "      <th>hashtags</th>\n",
       "      <th>tweet_language</th>\n",
       "      <th>tweet_time</th>\n",
       "      <th>tweet_client_name</th>\n",
       "      <th>is_retweet</th>\n",
       "      <th>retweet_user_reference_id</th>\n",
       "    </tr>\n",
       "    <tr>\n",
       "      <th>retweet_tweetid</th>\n",
       "      <th></th>\n",
       "      <th></th>\n",
       "      <th></th>\n",
       "      <th></th>\n",
       "      <th></th>\n",
       "      <th></th>\n",
       "      <th></th>\n",
       "      <th></th>\n",
       "      <th></th>\n",
       "      <th></th>\n",
       "    </tr>\n",
       "  </thead>\n",
       "  <tbody>\n",
       "    <tr>\n",
       "      <th>1.373095e+17</th>\n",
       "      <td>176</td>\n",
       "      <td>650</td>\n",
       "      <td>561</td>\n",
       "      <td>المهم ان اسامة لن يلعب في السعودية لغير الهلا...</td>\n",
       "      <td>None</td>\n",
       "      <td>ar</td>\n",
       "      <td>2014-10-18 13:37:00</td>\n",
       "      <td>Twitter for Android</td>\n",
       "      <td>True</td>\n",
       "      <td>171264.0</td>\n",
       "    </tr>\n",
       "    <tr>\n",
       "      <th>1.373095e+17</th>\n",
       "      <td>176</td>\n",
       "      <td>650</td>\n",
       "      <td>561</td>\n",
       "      <td>المهم ان اسامة لن يلعب في السعودية لغير الهلا...</td>\n",
       "      <td>None</td>\n",
       "      <td>ar</td>\n",
       "      <td>2016-02-24 12:35:00</td>\n",
       "      <td>Twitter for iPhone</td>\n",
       "      <td>True</td>\n",
       "      <td>5660.0</td>\n",
       "    </tr>\n",
       "    <tr>\n",
       "      <th>2.348015e+17</th>\n",
       "      <td>3562</td>\n",
       "      <td>652879</td>\n",
       "      <td>421198</td>\n",
       "      <td>التـمـيز فـيـك لـو غـيرك تـمـيز فـارقه ميزتك ...</td>\n",
       "      <td>None</td>\n",
       "      <td>ar</td>\n",
       "      <td>2016-08-11 10:24:00</td>\n",
       "      <td>Twitter for iPad</td>\n",
       "      <td>True</td>\n",
       "      <td>235215.0</td>\n",
       "    </tr>\n",
       "    <tr>\n",
       "      <th>2.348015e+17</th>\n",
       "      <td>3557</td>\n",
       "      <td>814247</td>\n",
       "      <td>663230</td>\n",
       "      <td>التـمـيز فـيـك لـو غـيرك تـمـيز فـارقه ميزتك ...</td>\n",
       "      <td>None</td>\n",
       "      <td>ar</td>\n",
       "      <td>2017-10-28 12:44:00</td>\n",
       "      <td>Twitter for Android</td>\n",
       "      <td>True</td>\n",
       "      <td>302905.0</td>\n",
       "    </tr>\n",
       "    <tr>\n",
       "      <th>2.348034e+17</th>\n",
       "      <td>3562</td>\n",
       "      <td>652879</td>\n",
       "      <td>421198</td>\n",
       "      <td>يآ عووونكـ ماقلتي عووونك ولا قلت وش فيكــ وش ...</td>\n",
       "      <td>None</td>\n",
       "      <td>ar</td>\n",
       "      <td>2016-08-11 10:24:00</td>\n",
       "      <td>Twitter for iPad</td>\n",
       "      <td>True</td>\n",
       "      <td>235215.0</td>\n",
       "    </tr>\n",
       "    <tr>\n",
       "      <th>2.348034e+17</th>\n",
       "      <td>3557</td>\n",
       "      <td>814247</td>\n",
       "      <td>663230</td>\n",
       "      <td>يآ عووونكـ ماقلتي عووونك ولا قلت وش فيكــ وش ...</td>\n",
       "      <td>None</td>\n",
       "      <td>ar</td>\n",
       "      <td>2017-10-28 19:54:00</td>\n",
       "      <td>Twitter for Android</td>\n",
       "      <td>True</td>\n",
       "      <td>302905.0</td>\n",
       "    </tr>\n",
       "    <tr>\n",
       "      <th>2.873282e+17</th>\n",
       "      <td>3587</td>\n",
       "      <td>138546</td>\n",
       "      <td>122416</td>\n",
       "      <td>الل م انّي أسألك نفحةً ن نفحآت رحمتك تلك التي...</td>\n",
       "      <td>None</td>\n",
       "      <td>ar</td>\n",
       "      <td>2017-12-09 10:06:00</td>\n",
       "      <td>Twitter for iPhone</td>\n",
       "      <td>True</td>\n",
       "      <td>302905.0</td>\n",
       "    </tr>\n",
       "    <tr>\n",
       "      <th>2.873282e+17</th>\n",
       "      <td>3617</td>\n",
       "      <td>187212</td>\n",
       "      <td>175594</td>\n",
       "      <td>الل م انّي أسألك نفحةً ن نفحآت رحمتك تلك التي...</td>\n",
       "      <td>None</td>\n",
       "      <td>ar</td>\n",
       "      <td>2016-07-27 16:06:00</td>\n",
       "      <td>Twitter for iPhone</td>\n",
       "      <td>True</td>\n",
       "      <td>235215.0</td>\n",
       "    </tr>\n",
       "    <tr>\n",
       "      <th>2.943013e+17</th>\n",
       "      <td>3587</td>\n",
       "      <td>138546</td>\n",
       "      <td>122416</td>\n",
       "      <td>ربنا اجعلنا لك ذكارين لك شكارين إليك أواهين م...</td>\n",
       "      <td>None</td>\n",
       "      <td>ar</td>\n",
       "      <td>2017-12-11 12:46:00</td>\n",
       "      <td>Twitter for iPhone</td>\n",
       "      <td>True</td>\n",
       "      <td>302905.0</td>\n",
       "    </tr>\n",
       "    <tr>\n",
       "      <th>2.943013e+17</th>\n",
       "      <td>3373</td>\n",
       "      <td>870549</td>\n",
       "      <td>564628</td>\n",
       "      <td>ربنا اجعلنا لك ذكارين لك شكارين إليك أواهين م...</td>\n",
       "      <td>None</td>\n",
       "      <td>ar</td>\n",
       "      <td>2016-07-20 13:02:00</td>\n",
       "      <td>Twitter for iPad</td>\n",
       "      <td>True</td>\n",
       "      <td>235215.0</td>\n",
       "    </tr>\n",
       "    <tr>\n",
       "      <th>3.162164e+17</th>\n",
       "      <td>3036</td>\n",
       "      <td>257783</td>\n",
       "      <td>124267</td>\n",
       "      <td>اللهم جنّبني سواد القلبْ وموت الضمير وسُوء ال...</td>\n",
       "      <td>None</td>\n",
       "      <td>ar</td>\n",
       "      <td>2016-06-21 20:12:00</td>\n",
       "      <td>Twitter for iPhone</td>\n",
       "      <td>True</td>\n",
       "      <td>235215.0</td>\n",
       "    </tr>\n",
       "    <tr>\n",
       "      <th>3.162164e+17</th>\n",
       "      <td>3556</td>\n",
       "      <td>600516</td>\n",
       "      <td>512111</td>\n",
       "      <td>اللهم جنّبني سواد القلبْ وموت الضمير وسُوء ال...</td>\n",
       "      <td>None</td>\n",
       "      <td>ar</td>\n",
       "      <td>2017-05-22 00:45:00</td>\n",
       "      <td>Twitter for iPhone</td>\n",
       "      <td>True</td>\n",
       "      <td>302905.0</td>\n",
       "    </tr>\n",
       "    <tr>\n",
       "      <th>3.400972e+17</th>\n",
       "      <td>3036</td>\n",
       "      <td>257783</td>\n",
       "      <td>124267</td>\n",
       "      <td>فستان أحلام بمليون وأطفال سوريآ يموتون جوعآ و...</td>\n",
       "      <td>None</td>\n",
       "      <td>ar</td>\n",
       "      <td>2015-11-24 14:56:00</td>\n",
       "      <td>Twitter for Android</td>\n",
       "      <td>True</td>\n",
       "      <td>230392.0</td>\n",
       "    </tr>\n",
       "    <tr>\n",
       "      <th>3.400972e+17</th>\n",
       "      <td>3563</td>\n",
       "      <td>1096328</td>\n",
       "      <td>805745</td>\n",
       "      <td>فستان أحلام بمليون وأطفال سوريآ يموتون جوعآ و...</td>\n",
       "      <td>None</td>\n",
       "      <td>ar</td>\n",
       "      <td>2016-05-01 23:23:00</td>\n",
       "      <td>Twitter for iPhone</td>\n",
       "      <td>True</td>\n",
       "      <td>251042.0</td>\n",
       "    </tr>\n",
       "    <tr>\n",
       "      <th>3.456597e+17</th>\n",
       "      <td>3365</td>\n",
       "      <td>651585</td>\n",
       "      <td>466283</td>\n",
       "      <td>الجروح كثآر ي جرحي العطيب والعيون المجروحه وش...</td>\n",
       "      <td>None</td>\n",
       "      <td>ar</td>\n",
       "      <td>2013-06-15 14:58:00</td>\n",
       "      <td>Twitter for Android</td>\n",
       "      <td>True</td>\n",
       "      <td>166691.0</td>\n",
       "    </tr>\n",
       "  </tbody>\n",
       "</table>\n",
       "</div>"
      ],
      "text/plain": [
       "                 user_reference_id  follower_count  following_count  \\\n",
       "retweet_tweetid                                                       \n",
       "1.373095e+17                   176             650              561   \n",
       "1.373095e+17                   176             650              561   \n",
       "2.348015e+17                  3562          652879           421198   \n",
       "2.348015e+17                  3557          814247           663230   \n",
       "2.348034e+17                  3562          652879           421198   \n",
       "2.348034e+17                  3557          814247           663230   \n",
       "2.873282e+17                  3587          138546           122416   \n",
       "2.873282e+17                  3617          187212           175594   \n",
       "2.943013e+17                  3587          138546           122416   \n",
       "2.943013e+17                  3373          870549           564628   \n",
       "3.162164e+17                  3036          257783           124267   \n",
       "3.162164e+17                  3556          600516           512111   \n",
       "3.400972e+17                  3036          257783           124267   \n",
       "3.400972e+17                  3563         1096328           805745   \n",
       "3.456597e+17                  3365          651585           466283   \n",
       "\n",
       "                                                        tweet_text hashtags  \\\n",
       "retweet_tweetid                                                               \n",
       "1.373095e+17      المهم ان اسامة لن يلعب في السعودية لغير الهلا...     None   \n",
       "1.373095e+17      المهم ان اسامة لن يلعب في السعودية لغير الهلا...     None   \n",
       "2.348015e+17      التـمـيز فـيـك لـو غـيرك تـمـيز فـارقه ميزتك ...     None   \n",
       "2.348015e+17      التـمـيز فـيـك لـو غـيرك تـمـيز فـارقه ميزتك ...     None   \n",
       "2.348034e+17      يآ عووونكـ ماقلتي عووونك ولا قلت وش فيكــ وش ...     None   \n",
       "2.348034e+17      يآ عووونكـ ماقلتي عووونك ولا قلت وش فيكــ وش ...     None   \n",
       "2.873282e+17      الل م انّي أسألك نفحةً ن نفحآت رحمتك تلك التي...     None   \n",
       "2.873282e+17      الل م انّي أسألك نفحةً ن نفحآت رحمتك تلك التي...     None   \n",
       "2.943013e+17      ربنا اجعلنا لك ذكارين لك شكارين إليك أواهين م...     None   \n",
       "2.943013e+17      ربنا اجعلنا لك ذكارين لك شكارين إليك أواهين م...     None   \n",
       "3.162164e+17      اللهم جنّبني سواد القلبْ وموت الضمير وسُوء ال...     None   \n",
       "3.162164e+17      اللهم جنّبني سواد القلبْ وموت الضمير وسُوء ال...     None   \n",
       "3.400972e+17      فستان أحلام بمليون وأطفال سوريآ يموتون جوعآ و...     None   \n",
       "3.400972e+17      فستان أحلام بمليون وأطفال سوريآ يموتون جوعآ و...     None   \n",
       "3.456597e+17      الجروح كثآر ي جرحي العطيب والعيون المجروحه وش...     None   \n",
       "\n",
       "                tweet_language          tweet_time    tweet_client_name  \\\n",
       "retweet_tweetid                                                           \n",
       "1.373095e+17                ar 2014-10-18 13:37:00  Twitter for Android   \n",
       "1.373095e+17                ar 2016-02-24 12:35:00   Twitter for iPhone   \n",
       "2.348015e+17                ar 2016-08-11 10:24:00     Twitter for iPad   \n",
       "2.348015e+17                ar 2017-10-28 12:44:00  Twitter for Android   \n",
       "2.348034e+17                ar 2016-08-11 10:24:00     Twitter for iPad   \n",
       "2.348034e+17                ar 2017-10-28 19:54:00  Twitter for Android   \n",
       "2.873282e+17                ar 2017-12-09 10:06:00   Twitter for iPhone   \n",
       "2.873282e+17                ar 2016-07-27 16:06:00   Twitter for iPhone   \n",
       "2.943013e+17                ar 2017-12-11 12:46:00   Twitter for iPhone   \n",
       "2.943013e+17                ar 2016-07-20 13:02:00     Twitter for iPad   \n",
       "3.162164e+17                ar 2016-06-21 20:12:00   Twitter for iPhone   \n",
       "3.162164e+17                ar 2017-05-22 00:45:00   Twitter for iPhone   \n",
       "3.400972e+17                ar 2015-11-24 14:56:00  Twitter for Android   \n",
       "3.400972e+17                ar 2016-05-01 23:23:00   Twitter for iPhone   \n",
       "3.456597e+17                ar 2013-06-15 14:58:00  Twitter for Android   \n",
       "\n",
       "                 is_retweet  retweet_user_reference_id  \n",
       "retweet_tweetid                                         \n",
       "1.373095e+17           True                   171264.0  \n",
       "1.373095e+17           True                     5660.0  \n",
       "2.348015e+17           True                   235215.0  \n",
       "2.348015e+17           True                   302905.0  \n",
       "2.348034e+17           True                   235215.0  \n",
       "2.348034e+17           True                   302905.0  \n",
       "2.873282e+17           True                   302905.0  \n",
       "2.873282e+17           True                   235215.0  \n",
       "2.943013e+17           True                   302905.0  \n",
       "2.943013e+17           True                   235215.0  \n",
       "3.162164e+17           True                   235215.0  \n",
       "3.162164e+17           True                   302905.0  \n",
       "3.400972e+17           True                   230392.0  \n",
       "3.400972e+17           True                   251042.0  \n",
       "3.456597e+17           True                   166691.0  "
      ]
     },
     "execution_count": 20,
     "metadata": {},
     "output_type": "execute_result"
    }
   ],
   "source": [
    "# apply\n",
    "ddf_duplicated_retweetids.head(15)"
   ]
  },
  {
   "cell_type": "markdown",
   "metadata": {},
   "source": [
    "OK. We do have duplicates here, it seems.\n",
    "\n",
    "We could proceed to drop rows with duplicate retweet_tweetid. But be careful to keep the rows with \"NaN\" in retweet_tweetid!\n",
    "\n",
    "I am curious, though, why these weren't dropped when we dropped duplicates in tweet_text. Minor differences due to preprocessing maybe (additional white space for example)? Let's investigate a little further."
   ]
  },
  {
   "cell_type": "code",
   "execution_count": 21,
   "metadata": {},
   "outputs": [],
   "source": [
    "# get a local copy to use as pandas dataframe for easier wrangling\n",
    "df_duplicated_retweetids = ddf_duplicated_retweetids.compute()"
   ]
  },
  {
   "cell_type": "code",
   "execution_count": 22,
   "metadata": {},
   "outputs": [
    {
     "data": {
      "text/html": [
       "<div>\n",
       "<style scoped>\n",
       "    .dataframe tbody tr th:only-of-type {\n",
       "        vertical-align: middle;\n",
       "    }\n",
       "\n",
       "    .dataframe tbody tr th {\n",
       "        vertical-align: top;\n",
       "    }\n",
       "\n",
       "    .dataframe thead th {\n",
       "        text-align: right;\n",
       "    }\n",
       "</style>\n",
       "<table border=\"1\" class=\"dataframe\">\n",
       "  <thead>\n",
       "    <tr style=\"text-align: right;\">\n",
       "      <th></th>\n",
       "      <th>user_reference_id</th>\n",
       "      <th>follower_count</th>\n",
       "      <th>following_count</th>\n",
       "      <th>tweet_text</th>\n",
       "      <th>hashtags</th>\n",
       "      <th>tweet_language</th>\n",
       "      <th>tweet_time</th>\n",
       "      <th>tweet_client_name</th>\n",
       "      <th>is_retweet</th>\n",
       "      <th>retweet_user_reference_id</th>\n",
       "    </tr>\n",
       "    <tr>\n",
       "      <th>retweet_tweetid</th>\n",
       "      <th></th>\n",
       "      <th></th>\n",
       "      <th></th>\n",
       "      <th></th>\n",
       "      <th></th>\n",
       "      <th></th>\n",
       "      <th></th>\n",
       "      <th></th>\n",
       "      <th></th>\n",
       "      <th></th>\n",
       "    </tr>\n",
       "  </thead>\n",
       "  <tbody>\n",
       "    <tr>\n",
       "      <th>1.373095e+17</th>\n",
       "      <td>176</td>\n",
       "      <td>650</td>\n",
       "      <td>561</td>\n",
       "      <td>المهم ان اسامة لن يلعب في السعودية لغير الهلا...</td>\n",
       "      <td>None</td>\n",
       "      <td>ar</td>\n",
       "      <td>2014-10-18 13:37:00</td>\n",
       "      <td>Twitter for Android</td>\n",
       "      <td>True</td>\n",
       "      <td>171264.0</td>\n",
       "    </tr>\n",
       "    <tr>\n",
       "      <th>1.373095e+17</th>\n",
       "      <td>176</td>\n",
       "      <td>650</td>\n",
       "      <td>561</td>\n",
       "      <td>المهم ان اسامة لن يلعب في السعودية لغير الهلا...</td>\n",
       "      <td>None</td>\n",
       "      <td>ar</td>\n",
       "      <td>2016-02-24 12:35:00</td>\n",
       "      <td>Twitter for iPhone</td>\n",
       "      <td>True</td>\n",
       "      <td>5660.0</td>\n",
       "    </tr>\n",
       "  </tbody>\n",
       "</table>\n",
       "</div>"
      ],
      "text/plain": [
       "                 user_reference_id  follower_count  following_count  \\\n",
       "retweet_tweetid                                                       \n",
       "1.373095e+17                   176             650              561   \n",
       "1.373095e+17                   176             650              561   \n",
       "\n",
       "                                                        tweet_text hashtags  \\\n",
       "retweet_tweetid                                                               \n",
       "1.373095e+17      المهم ان اسامة لن يلعب في السعودية لغير الهلا...     None   \n",
       "1.373095e+17      المهم ان اسامة لن يلعب في السعودية لغير الهلا...     None   \n",
       "\n",
       "                tweet_language          tweet_time    tweet_client_name  \\\n",
       "retweet_tweetid                                                           \n",
       "1.373095e+17                ar 2014-10-18 13:37:00  Twitter for Android   \n",
       "1.373095e+17                ar 2016-02-24 12:35:00   Twitter for iPhone   \n",
       "\n",
       "                 is_retweet  retweet_user_reference_id  \n",
       "retweet_tweetid                                         \n",
       "1.373095e+17           True                   171264.0  \n",
       "1.373095e+17           True                     5660.0  "
      ]
     },
     "execution_count": 22,
     "metadata": {},
     "output_type": "execute_result"
    }
   ],
   "source": [
    "df_duplicated_retweetids.iloc[0:2]"
   ]
  },
  {
   "cell_type": "markdown",
   "metadata": {},
   "source": [
    "Just looking at these first two entries is fascinating:\n",
    "- same user\n",
    "- retweeting the same message twice\n",
    "- a year and a half apart\n",
    "- but the retweet_user_screen_name is different "
   ]
  },
  {
   "cell_type": "code",
   "execution_count": 23,
   "metadata": {},
   "outputs": [
    {
     "data": {
      "text/plain": [
       "' المهم ان اسامة لن يلعب في السعودية لغير الهلال واحتمالية بقاءه حتى نهاية الموسم واردة وعرض الهلال بالنسبة له مجزي وهو م '"
      ]
     },
     "execution_count": 23,
     "metadata": {},
     "output_type": "execute_result"
    }
   ],
   "source": [
    "df_duplicated_retweetids.tweet_text.iloc[0]"
   ]
  },
  {
   "cell_type": "code",
   "execution_count": 24,
   "metadata": {},
   "outputs": [
    {
     "data": {
      "text/plain": [
       "' المهم ان اسامة لن يلعب في السعودية لغير الهلال واحتمالية بقاءه حتى نهاية الموسم واردة وعرض الهلال بالنسبة له مجزي وهو مق '"
      ]
     },
     "execution_count": 24,
     "metadata": {},
     "output_type": "execute_result"
    }
   ],
   "source": [
    "df_duplicated_retweetids.tweet_text.iloc[1]"
   ]
  },
  {
   "cell_type": "markdown",
   "metadata": {},
   "source": [
    "One character difference between these two tweets. Hence it wasn't dropped in the .drop_duplicates().\n",
    "\n",
    "The safest way forward is to drop any rows with duplicate values in the retweet_tweetid column. We'll do that after we've inspected the contents of some tweets to see if we have any tweets that are almost identical."
   ]
  },
  {
   "cell_type": "markdown",
   "metadata": {},
   "source": [
    "### 7.1.1. Finding Matching Substrings\n",
    "Let's try matching a part of the text to find entries that are almost identical."
   ]
  },
  {
   "cell_type": "code",
   "execution_count": 25,
   "metadata": {},
   "outputs": [
    {
     "data": {
      "text/plain": [
       "tweetid\n",
       "1000000030391095297     للتأجير لبيع النطيطات زحاليق مائيه صابونية مل...\n",
       "Name: tweet_text, dtype: object"
      ]
     },
     "execution_count": 25,
     "metadata": {},
     "output_type": "execute_result"
    }
   ],
   "source": [
    "# get tweet content\n",
    "ddf_unique.loc['1000000030391095297'].tweet_text.compute()"
   ]
  },
  {
   "cell_type": "code",
   "execution_count": 26,
   "metadata": {},
   "outputs": [
    {
     "data": {
      "text/html": [
       "<div>\n",
       "<style scoped>\n",
       "    .dataframe tbody tr th:only-of-type {\n",
       "        vertical-align: middle;\n",
       "    }\n",
       "\n",
       "    .dataframe tbody tr th {\n",
       "        vertical-align: top;\n",
       "    }\n",
       "\n",
       "    .dataframe thead th {\n",
       "        text-align: right;\n",
       "    }\n",
       "</style>\n",
       "<table border=\"1\" class=\"dataframe\">\n",
       "  <thead>\n",
       "    <tr style=\"text-align: right;\">\n",
       "      <th></th>\n",
       "      <th>user_reference_id</th>\n",
       "      <th>follower_count</th>\n",
       "      <th>following_count</th>\n",
       "      <th>tweet_text</th>\n",
       "      <th>hashtags</th>\n",
       "      <th>tweet_language</th>\n",
       "      <th>tweet_time</th>\n",
       "      <th>tweet_client_name</th>\n",
       "      <th>is_retweet</th>\n",
       "      <th>retweet_tweetid</th>\n",
       "      <th>retweet_user_reference_id</th>\n",
       "    </tr>\n",
       "    <tr>\n",
       "      <th>tweetid</th>\n",
       "      <th></th>\n",
       "      <th></th>\n",
       "      <th></th>\n",
       "      <th></th>\n",
       "      <th></th>\n",
       "      <th></th>\n",
       "      <th></th>\n",
       "      <th></th>\n",
       "      <th></th>\n",
       "      <th></th>\n",
       "      <th></th>\n",
       "    </tr>\n",
       "  </thead>\n",
       "  <tbody>\n",
       "    <tr>\n",
       "      <th>1000000030391095297</th>\n",
       "      <td>0</td>\n",
       "      <td>9007</td>\n",
       "      <td>8821</td>\n",
       "      <td>للتأجير لبيع النطيطات زحاليق مائيه صابونية مل...</td>\n",
       "      <td>[للتأجير, لبيع النطيطات, زحاليق مائيه صابونية,...</td>\n",
       "      <td>ar</td>\n",
       "      <td>2018-05-25 13:06:00</td>\n",
       "      <td>Twitter for iPhone</td>\n",
       "      <td>True</td>\n",
       "      <td>9.996373e+17</td>\n",
       "      <td>4274.0</td>\n",
       "    </tr>\n",
       "  </tbody>\n",
       "</table>\n",
       "</div>"
      ],
      "text/plain": [
       "                     user_reference_id  follower_count  following_count  \\\n",
       "tweetid                                                                   \n",
       "1000000030391095297                  0            9007             8821   \n",
       "\n",
       "                                                            tweet_text  \\\n",
       "tweetid                                                                  \n",
       "1000000030391095297   للتأجير لبيع النطيطات زحاليق مائيه صابونية مل...   \n",
       "\n",
       "                                                              hashtags  \\\n",
       "tweetid                                                                  \n",
       "1000000030391095297  [للتأجير, لبيع النطيطات, زحاليق مائيه صابونية,...   \n",
       "\n",
       "                    tweet_language          tweet_time   tweet_client_name  \\\n",
       "tweetid                                                                      \n",
       "1000000030391095297             ar 2018-05-25 13:06:00  Twitter for iPhone   \n",
       "\n",
       "                     is_retweet  retweet_tweetid  retweet_user_reference_id  \n",
       "tweetid                                                                      \n",
       "1000000030391095297        True     9.996373e+17                     4274.0  "
      ]
     },
     "execution_count": 26,
     "metadata": {},
     "output_type": "execute_result"
    }
   ],
   "source": [
    "# find all entries\n",
    "ddf_unique[ddf_unique.tweet_text.str.contains('للتأجير لبيع النطيطات')].head()"
   ]
  },
  {
   "cell_type": "markdown",
   "metadata": {},
   "source": [
    "Interesting. A small substring doesn't return any matches other than the one which has is_retweet marked as True. This means **it must be a retweet of a tweet not contained in this dataset** (i.e. of a user not marked as engaging in political misinformation). This is very interesting and worth exploring further in our EDA.\n",
    "\n",
    "Let's double-check a couple more just to be sure."
   ]
  },
  {
   "cell_type": "code",
   "execution_count": 27,
   "metadata": {},
   "outputs": [],
   "source": [
    "# get tweet content\n",
    "result = ddf_unique.loc['1000000054911033344']['tweet_text'].compute()"
   ]
  },
  {
   "cell_type": "code",
   "execution_count": 28,
   "metadata": {},
   "outputs": [
    {
     "data": {
      "text/plain": [
       "' فيديو شاهد مواطن يوثق بالفيديو كميات كبيرة من الطعام تهدر من خيمة إفطار الصائمين '"
      ]
     },
     "execution_count": 28,
     "metadata": {},
     "output_type": "execute_result"
    }
   ],
   "source": [
    "result.loc['1000000054911033344']"
   ]
  },
  {
   "cell_type": "code",
   "execution_count": 29,
   "metadata": {},
   "outputs": [
    {
     "data": {
      "text/html": [
       "<div>\n",
       "<style scoped>\n",
       "    .dataframe tbody tr th:only-of-type {\n",
       "        vertical-align: middle;\n",
       "    }\n",
       "\n",
       "    .dataframe tbody tr th {\n",
       "        vertical-align: top;\n",
       "    }\n",
       "\n",
       "    .dataframe thead th {\n",
       "        text-align: right;\n",
       "    }\n",
       "</style>\n",
       "<table border=\"1\" class=\"dataframe\">\n",
       "  <thead>\n",
       "    <tr style=\"text-align: right;\">\n",
       "      <th></th>\n",
       "      <th>user_reference_id</th>\n",
       "      <th>follower_count</th>\n",
       "      <th>following_count</th>\n",
       "      <th>tweet_text</th>\n",
       "      <th>hashtags</th>\n",
       "      <th>tweet_language</th>\n",
       "      <th>tweet_time</th>\n",
       "      <th>tweet_client_name</th>\n",
       "      <th>is_retweet</th>\n",
       "      <th>retweet_tweetid</th>\n",
       "      <th>retweet_user_reference_id</th>\n",
       "    </tr>\n",
       "    <tr>\n",
       "      <th>tweetid</th>\n",
       "      <th></th>\n",
       "      <th></th>\n",
       "      <th></th>\n",
       "      <th></th>\n",
       "      <th></th>\n",
       "      <th></th>\n",
       "      <th></th>\n",
       "      <th></th>\n",
       "      <th></th>\n",
       "      <th></th>\n",
       "      <th></th>\n",
       "    </tr>\n",
       "  </thead>\n",
       "  <tbody>\n",
       "    <tr>\n",
       "      <th>1000000054911033344</th>\n",
       "      <td>1</td>\n",
       "      <td>168</td>\n",
       "      <td>408</td>\n",
       "      <td>فيديو شاهد مواطن يوثق بالفيديو كميات كبيرة من...</td>\n",
       "      <td>None</td>\n",
       "      <td>ar</td>\n",
       "      <td>2018-05-25 13:06:00</td>\n",
       "      <td>Twitter for iPhone</td>\n",
       "      <td>True</td>\n",
       "      <td>9.983516e+17</td>\n",
       "      <td>4276.0</td>\n",
       "    </tr>\n",
       "    <tr>\n",
       "      <th>998364569184751621</th>\n",
       "      <td>6</td>\n",
       "      <td>42835</td>\n",
       "      <td>42860</td>\n",
       "      <td>مواطن يوثق بالفيديو كميات كبيرة من الطعام تهد...</td>\n",
       "      <td>None</td>\n",
       "      <td>ar</td>\n",
       "      <td>2018-05-21 00:47:00</td>\n",
       "      <td>Twitter for Android</td>\n",
       "      <td>True</td>\n",
       "      <td>9.983592e+17</td>\n",
       "      <td>17138.0</td>\n",
       "    </tr>\n",
       "  </tbody>\n",
       "</table>\n",
       "</div>"
      ],
      "text/plain": [
       "                     user_reference_id  follower_count  following_count  \\\n",
       "tweetid                                                                   \n",
       "1000000054911033344                  1             168              408   \n",
       "998364569184751621                   6           42835            42860   \n",
       "\n",
       "                                                            tweet_text  \\\n",
       "tweetid                                                                  \n",
       "1000000054911033344   فيديو شاهد مواطن يوثق بالفيديو كميات كبيرة من...   \n",
       "998364569184751621    مواطن يوثق بالفيديو كميات كبيرة من الطعام تهد...   \n",
       "\n",
       "                    hashtags tweet_language          tweet_time  \\\n",
       "tweetid                                                           \n",
       "1000000054911033344     None             ar 2018-05-25 13:06:00   \n",
       "998364569184751621      None             ar 2018-05-21 00:47:00   \n",
       "\n",
       "                       tweet_client_name  is_retweet  retweet_tweetid  \\\n",
       "tweetid                                                                 \n",
       "1000000054911033344   Twitter for iPhone        True     9.983516e+17   \n",
       "998364569184751621   Twitter for Android        True     9.983592e+17   \n",
       "\n",
       "                     retweet_user_reference_id  \n",
       "tweetid                                         \n",
       "1000000054911033344                     4276.0  \n",
       "998364569184751621                     17138.0  "
      ]
     },
     "execution_count": 29,
     "metadata": {},
     "output_type": "execute_result"
    }
   ],
   "source": [
    "# find all entries\n",
    "ddf_unique[ddf_unique.tweet_text.str.contains('مواطن يوثق بالفيديو كميات كبيرة')].head()"
   ]
  },
  {
   "cell_type": "code",
   "execution_count": 30,
   "metadata": {},
   "outputs": [],
   "source": [
    "# get tweet content\n",
    "result2 = ddf_unique.loc['998364569184751621'].tweet_text.compute()"
   ]
  },
  {
   "cell_type": "code",
   "execution_count": 31,
   "metadata": {},
   "outputs": [
    {
     "data": {
      "text/plain": [
       "' مواطن يوثق بالفيديو كميات كبيرة من الطعام تهدر من خيمة إفطار الصائمين '"
      ]
     },
     "execution_count": 31,
     "metadata": {},
     "output_type": "execute_result"
    }
   ],
   "source": [
    "result2.loc['998364569184751621']"
   ]
  },
  {
   "cell_type": "markdown",
   "metadata": {},
   "source": [
    "Interesting. Here we have 2 tweets which **are both retweets** and which have very similar content - except that one has two extra words at the beginning of the tweet (which may well be a hashtag). So here we have a tweet being retweeted with a minor customization.\n",
    "\n",
    "**Importantly** the original tweet is not included in the dataset and comes from a user not identified as 'compromised'.\n",
    "\n",
    "Let's try one more."
   ]
  },
  {
   "cell_type": "code",
   "execution_count": 32,
   "metadata": {},
   "outputs": [],
   "source": [
    "# get tweet content\n",
    "result3 = ddf_unique.loc['1000000215598891008']['tweet_text'].compute()"
   ]
  },
  {
   "cell_type": "code",
   "execution_count": 33,
   "metadata": {},
   "outputs": [
    {
     "data": {
      "text/plain": [
       "' تخفيضات على جميع الأصناف لدى دانة المسك للعود الرياض الدائري الشرقي حي الروابي بين مخرج و مقابل أسواق العثيم '"
      ]
     },
     "execution_count": 33,
     "metadata": {},
     "output_type": "execute_result"
    }
   ],
   "source": [
    "result3.loc['1000000215598891008']"
   ]
  },
  {
   "cell_type": "code",
   "execution_count": 34,
   "metadata": {},
   "outputs": [
    {
     "data": {
      "text/html": [
       "<div>\n",
       "<style scoped>\n",
       "    .dataframe tbody tr th:only-of-type {\n",
       "        vertical-align: middle;\n",
       "    }\n",
       "\n",
       "    .dataframe tbody tr th {\n",
       "        vertical-align: top;\n",
       "    }\n",
       "\n",
       "    .dataframe thead th {\n",
       "        text-align: right;\n",
       "    }\n",
       "</style>\n",
       "<table border=\"1\" class=\"dataframe\">\n",
       "  <thead>\n",
       "    <tr style=\"text-align: right;\">\n",
       "      <th></th>\n",
       "      <th>user_reference_id</th>\n",
       "      <th>follower_count</th>\n",
       "      <th>following_count</th>\n",
       "      <th>tweet_text</th>\n",
       "      <th>hashtags</th>\n",
       "      <th>tweet_language</th>\n",
       "      <th>tweet_time</th>\n",
       "      <th>tweet_client_name</th>\n",
       "      <th>is_retweet</th>\n",
       "      <th>retweet_tweetid</th>\n",
       "      <th>retweet_user_reference_id</th>\n",
       "    </tr>\n",
       "    <tr>\n",
       "      <th>tweetid</th>\n",
       "      <th></th>\n",
       "      <th></th>\n",
       "      <th></th>\n",
       "      <th></th>\n",
       "      <th></th>\n",
       "      <th></th>\n",
       "      <th></th>\n",
       "      <th></th>\n",
       "      <th></th>\n",
       "      <th></th>\n",
       "      <th></th>\n",
       "    </tr>\n",
       "  </thead>\n",
       "  <tbody>\n",
       "    <tr>\n",
       "      <th>1000000215598891008</th>\n",
       "      <td>0</td>\n",
       "      <td>9007</td>\n",
       "      <td>8821</td>\n",
       "      <td>تخفيضات على جميع الأصناف لدى دانة المسك للعود...</td>\n",
       "      <td>[تخفيضات, دانة المسك للعود, الرياض, الدائري ال...</td>\n",
       "      <td>ar</td>\n",
       "      <td>2018-05-25 13:06:00</td>\n",
       "      <td>Twitter for iPhone</td>\n",
       "      <td>True</td>\n",
       "      <td>9.997592e+17</td>\n",
       "      <td>4277.0</td>\n",
       "    </tr>\n",
       "    <tr>\n",
       "      <th>1031068213684183040</th>\n",
       "      <td>148</td>\n",
       "      <td>72720</td>\n",
       "      <td>69585</td>\n",
       "      <td>دهن مخلط الدايموند من دانة المسك للعود الرياض...</td>\n",
       "      <td>[دهن مخلط الدايموند, دانة المسك, للعود, الرياض...</td>\n",
       "      <td>ar</td>\n",
       "      <td>2018-08-19 06:39:00</td>\n",
       "      <td>Twitter for Android</td>\n",
       "      <td>True</td>\n",
       "      <td>1.020977e+18</td>\n",
       "      <td>4277.0</td>\n",
       "    </tr>\n",
       "    <tr>\n",
       "      <th>960302987188023297</th>\n",
       "      <td>3558</td>\n",
       "      <td>117314</td>\n",
       "      <td>117272</td>\n",
       "      <td>دهن مخلط ملكي من دانة المسك للعود الرياض الدا...</td>\n",
       "      <td>[دهن مخلط ملكي, دانة المسك, للعود, الرياض, الد...</td>\n",
       "      <td>ar</td>\n",
       "      <td>2018-02-05 00:04:00</td>\n",
       "      <td>Twitter for iPhone</td>\n",
       "      <td>True</td>\n",
       "      <td>9.602409e+17</td>\n",
       "      <td>4277.0</td>\n",
       "    </tr>\n",
       "    <tr>\n",
       "      <th>963889899517677568</th>\n",
       "      <td>3556</td>\n",
       "      <td>600516</td>\n",
       "      <td>512111</td>\n",
       "      <td>عود خشب طبيعي كلمنتان المتميز برائحته الجذابة...</td>\n",
       "      <td>[عود خشب طبيعي, كلمنتان, دانة المسك للعود, الر...</td>\n",
       "      <td>ar</td>\n",
       "      <td>2018-02-14 21:37:00</td>\n",
       "      <td>Twitter for iPhone</td>\n",
       "      <td>True</td>\n",
       "      <td>9.638707e+17</td>\n",
       "      <td>4277.0</td>\n",
       "    </tr>\n",
       "    <tr>\n",
       "      <th>970147097067638784</th>\n",
       "      <td>3941</td>\n",
       "      <td>204788</td>\n",
       "      <td>158132</td>\n",
       "      <td>دهن مخلط السيوف من دانة المسك للعود الرياض ال...</td>\n",
       "      <td>[دهن مخلط السيوف, دانة المسك, للعود, الرياض, ا...</td>\n",
       "      <td>ar</td>\n",
       "      <td>2018-03-04 04:01:00</td>\n",
       "      <td>Twitter for iPhone</td>\n",
       "      <td>True</td>\n",
       "      <td>9.700389e+17</td>\n",
       "      <td>4277.0</td>\n",
       "    </tr>\n",
       "  </tbody>\n",
       "</table>\n",
       "</div>"
      ],
      "text/plain": [
       "                     user_reference_id  follower_count  following_count  \\\n",
       "tweetid                                                                   \n",
       "1000000215598891008                  0            9007             8821   \n",
       "1031068213684183040                148           72720            69585   \n",
       "960302987188023297                3558          117314           117272   \n",
       "963889899517677568                3556          600516           512111   \n",
       "970147097067638784                3941          204788           158132   \n",
       "\n",
       "                                                            tweet_text  \\\n",
       "tweetid                                                                  \n",
       "1000000215598891008   تخفيضات على جميع الأصناف لدى دانة المسك للعود...   \n",
       "1031068213684183040   دهن مخلط الدايموند من دانة المسك للعود الرياض...   \n",
       "960302987188023297    دهن مخلط ملكي من دانة المسك للعود الرياض الدا...   \n",
       "963889899517677568    عود خشب طبيعي كلمنتان المتميز برائحته الجذابة...   \n",
       "970147097067638784    دهن مخلط السيوف من دانة المسك للعود الرياض ال...   \n",
       "\n",
       "                                                              hashtags  \\\n",
       "tweetid                                                                  \n",
       "1000000215598891008  [تخفيضات, دانة المسك للعود, الرياض, الدائري ال...   \n",
       "1031068213684183040  [دهن مخلط الدايموند, دانة المسك, للعود, الرياض...   \n",
       "960302987188023297   [دهن مخلط ملكي, دانة المسك, للعود, الرياض, الد...   \n",
       "963889899517677568   [عود خشب طبيعي, كلمنتان, دانة المسك للعود, الر...   \n",
       "970147097067638784   [دهن مخلط السيوف, دانة المسك, للعود, الرياض, ا...   \n",
       "\n",
       "                    tweet_language          tweet_time    tweet_client_name  \\\n",
       "tweetid                                                                       \n",
       "1000000215598891008             ar 2018-05-25 13:06:00   Twitter for iPhone   \n",
       "1031068213684183040             ar 2018-08-19 06:39:00  Twitter for Android   \n",
       "960302987188023297              ar 2018-02-05 00:04:00   Twitter for iPhone   \n",
       "963889899517677568              ar 2018-02-14 21:37:00   Twitter for iPhone   \n",
       "970147097067638784              ar 2018-03-04 04:01:00   Twitter for iPhone   \n",
       "\n",
       "                     is_retweet  retweet_tweetid  retweet_user_reference_id  \n",
       "tweetid                                                                      \n",
       "1000000215598891008        True     9.997592e+17                     4277.0  \n",
       "1031068213684183040        True     1.020977e+18                     4277.0  \n",
       "960302987188023297         True     9.602409e+17                     4277.0  \n",
       "963889899517677568         True     9.638707e+17                     4277.0  \n",
       "970147097067638784         True     9.700389e+17                     4277.0  "
      ]
     },
     "execution_count": 34,
     "metadata": {},
     "output_type": "execute_result"
    }
   ],
   "source": [
    "# find all entries\n",
    "ddf_unique[ddf_unique.tweet_text.str.contains(' دانة المسك للعود الرياض الدائري الشرقي حي الروابي بين')].head()"
   ]
  },
  {
   "cell_type": "markdown",
   "metadata": {},
   "source": [
    "No exact matches, just mentions of the same shopping mall.\n",
    "\n",
    "We know enough now to continue:\n",
    "- We should **definitely not** filter simply by is_retweet = False, because many of the retweets are retweeting messages that are not included in this dataset\n",
    "- We should be wary of the possibility of entries that are **almost identical** -- i.e. retweets with a minor alteration.\n",
    "- We will drop any rows with duplicate retweet_tweetids. This should remove most - if not all - of the almost identical tweets. We will do this using a **mask** rather than a **.drop_duplicates()** call to avoid losing the NaNs.\n",
    "\n",
    "That said, this creates a new problem: when we perform the join, some rows will not match exactly with their respective 'unique tweet' - because there are minor differences between them. \n",
    "\n",
    "Solution:\n",
    "- Check NaN values in 'unique_tweet_id' column of ddf AFTER the join.\n",
    "- Fill these using a JOIN the retweet_tweetid column (so KEEP that column in ddf_unique)."
   ]
  },
  {
   "cell_type": "markdown",
   "metadata": {},
   "source": [
    "### 7.1.2. Drop Duplicate Retweet_Tweetids\n",
    "\n",
    "In this section, we will use the mask / ddf_filter created above to drop all rows with more than one instance of the same **retweet_tweetid** while keeping the NaNs."
   ]
  },
  {
   "cell_type": "code",
   "execution_count": 35,
   "metadata": {},
   "outputs": [
    {
     "data": {
      "text/plain": [
       "1.096888e+18    5\n",
       "4.185034e+17    4\n",
       "1.085309e+18    4\n",
       "4.198996e+17    4\n",
       "1.012492e+18    4\n",
       "1.088175e+18    4\n",
       "1.090611e+18    4\n",
       "1.119623e+18    4\n",
       "1.088173e+18    4\n",
       "1.085316e+18    4\n",
       "Name: retweet_tweetid, dtype: int64"
      ]
     },
     "execution_count": 35,
     "metadata": {},
     "output_type": "execute_result"
    }
   ],
   "source": [
    "# check value counts\n",
    "ddf_unique.retweet_tweetid.value_counts().head(10)"
   ]
  },
  {
   "cell_type": "code",
   "execution_count": 36,
   "metadata": {},
   "outputs": [
    {
     "data": {
      "text/plain": [
       "6153341"
      ]
     },
     "execution_count": 36,
     "metadata": {},
     "output_type": "execute_result"
    }
   ],
   "source": [
    "ddf_unique.shape[0].compute()"
   ]
  },
  {
   "cell_type": "markdown",
   "metadata": {},
   "source": [
    "Let's pull out a tweet_text that has been tweeted by:\n",
    "- the original tweet ( **retweet_tweetid** = Nan)\n",
    "- retweeted with **multiple retweet_tweetids**\n",
    "\n",
    "This should help us verify that we're doing the right thing."
   ]
  },
  {
   "cell_type": "code",
   "execution_count": 37,
   "metadata": {},
   "outputs": [],
   "source": [
    "same_retweetid = ddf[ddf.retweet_tweetid == 1157138758036123648].compute()"
   ]
  },
  {
   "cell_type": "code",
   "execution_count": 38,
   "metadata": {},
   "outputs": [],
   "source": [
    "same_text = same_retweetid.iloc[0].tweet_text"
   ]
  },
  {
   "cell_type": "code",
   "execution_count": 39,
   "metadata": {},
   "outputs": [
    {
     "data": {
      "text/html": [
       "<div>\n",
       "<style scoped>\n",
       "    .dataframe tbody tr th:only-of-type {\n",
       "        vertical-align: middle;\n",
       "    }\n",
       "\n",
       "    .dataframe tbody tr th {\n",
       "        vertical-align: top;\n",
       "    }\n",
       "\n",
       "    .dataframe thead th {\n",
       "        text-align: right;\n",
       "    }\n",
       "</style>\n",
       "<table border=\"1\" class=\"dataframe\">\n",
       "  <thead>\n",
       "    <tr style=\"text-align: right;\">\n",
       "      <th></th>\n",
       "      <th>user_reference_id</th>\n",
       "      <th>follower_count</th>\n",
       "      <th>following_count</th>\n",
       "      <th>tweet_text</th>\n",
       "      <th>hashtags</th>\n",
       "      <th>tweet_language</th>\n",
       "      <th>tweet_time</th>\n",
       "      <th>tweet_client_name</th>\n",
       "      <th>is_retweet</th>\n",
       "      <th>retweet_tweetid</th>\n",
       "      <th>retweet_user_reference_id</th>\n",
       "    </tr>\n",
       "    <tr>\n",
       "      <th>tweetid</th>\n",
       "      <th></th>\n",
       "      <th></th>\n",
       "      <th></th>\n",
       "      <th></th>\n",
       "      <th></th>\n",
       "      <th></th>\n",
       "      <th></th>\n",
       "      <th></th>\n",
       "      <th></th>\n",
       "      <th></th>\n",
       "      <th></th>\n",
       "    </tr>\n",
       "  </thead>\n",
       "  <tbody>\n",
       "    <tr>\n",
       "      <th>1146251429457354752</th>\n",
       "      <td>2117</td>\n",
       "      <td>1364</td>\n",
       "      <td>1716</td>\n",
       "      <td>مناحل ابو سلطان عرض خاص لمده اسبوع كيلو سدر ج...</td>\n",
       "      <td>[مناحل ابو سلطان]</td>\n",
       "      <td>ar</td>\n",
       "      <td>2019-07-03 02:56:00</td>\n",
       "      <td>Twitter for Android</td>\n",
       "      <td>False</td>\n",
       "      <td>NaN</td>\n",
       "      <td>NaN</td>\n",
       "    </tr>\n",
       "    <tr>\n",
       "      <th>1146253210107224065</th>\n",
       "      <td>284</td>\n",
       "      <td>8968</td>\n",
       "      <td>8010</td>\n",
       "      <td>مناحل ابو سلطان عرض خاص لمده اسبوع كيلو سدر ج...</td>\n",
       "      <td>[مناحل ابو سلطان]</td>\n",
       "      <td>ar</td>\n",
       "      <td>2019-07-03 03:03:00</td>\n",
       "      <td>Twitter for Android</td>\n",
       "      <td>False</td>\n",
       "      <td>NaN</td>\n",
       "      <td>NaN</td>\n",
       "    </tr>\n",
       "    <tr>\n",
       "      <th>1146258605601099777</th>\n",
       "      <td>2137</td>\n",
       "      <td>2162</td>\n",
       "      <td>2874</td>\n",
       "      <td>مناحل ابو سلطان عرض خاص لمده اسبوع كيلو سدر ج...</td>\n",
       "      <td>[مناحل ابو سلطان]</td>\n",
       "      <td>ar</td>\n",
       "      <td>2019-07-03 03:25:00</td>\n",
       "      <td>Twitter for Android</td>\n",
       "      <td>True</td>\n",
       "      <td>1.146253e+18</td>\n",
       "      <td>22598.0</td>\n",
       "    </tr>\n",
       "    <tr>\n",
       "      <th>1146266513801994241</th>\n",
       "      <td>2132</td>\n",
       "      <td>2351</td>\n",
       "      <td>2397</td>\n",
       "      <td>مناحل ابو سلطان عرض خاص لمده اسبوع كيلو سدر ج...</td>\n",
       "      <td>[مناحل ابو سلطان]</td>\n",
       "      <td>ar</td>\n",
       "      <td>2019-07-03 03:56:00</td>\n",
       "      <td>Twitter for Android</td>\n",
       "      <td>True</td>\n",
       "      <td>1.146253e+18</td>\n",
       "      <td>22598.0</td>\n",
       "    </tr>\n",
       "    <tr>\n",
       "      <th>1146266908557238273</th>\n",
       "      <td>284</td>\n",
       "      <td>8968</td>\n",
       "      <td>8010</td>\n",
       "      <td>مناحل ابو سلطان عرض خاص لمده اسبوع كيلو سدر ج...</td>\n",
       "      <td>[مناحل ابو سلطان]</td>\n",
       "      <td>ar</td>\n",
       "      <td>2019-07-03 03:58:00</td>\n",
       "      <td>Twitter for Android</td>\n",
       "      <td>True</td>\n",
       "      <td>1.146252e+18</td>\n",
       "      <td>100422.0</td>\n",
       "    </tr>\n",
       "    <tr>\n",
       "      <th>...</th>\n",
       "      <td>...</td>\n",
       "      <td>...</td>\n",
       "      <td>...</td>\n",
       "      <td>...</td>\n",
       "      <td>...</td>\n",
       "      <td>...</td>\n",
       "      <td>...</td>\n",
       "      <td>...</td>\n",
       "      <td>...</td>\n",
       "      <td>...</td>\n",
       "      <td>...</td>\n",
       "    </tr>\n",
       "    <tr>\n",
       "      <th>1175134986422251520</th>\n",
       "      <td>179</td>\n",
       "      <td>16937</td>\n",
       "      <td>16823</td>\n",
       "      <td>مناحل ابو سلطان عرض خاص لمده اسبوع كيلو سدر ج...</td>\n",
       "      <td>[مناحل ابو سلطان]</td>\n",
       "      <td>ar</td>\n",
       "      <td>2019-09-20 19:49:00</td>\n",
       "      <td>Twitter for iPhone</td>\n",
       "      <td>True</td>\n",
       "      <td>1.174895e+18</td>\n",
       "      <td>92440.0</td>\n",
       "    </tr>\n",
       "    <tr>\n",
       "      <th>1175145494022098946</th>\n",
       "      <td>1522</td>\n",
       "      <td>4294</td>\n",
       "      <td>3682</td>\n",
       "      <td>مناحل ابو سلطان عرض خاص لمده اسبوع كيلو سدر ج...</td>\n",
       "      <td>[مناحل ابو سلطان]</td>\n",
       "      <td>ar</td>\n",
       "      <td>2019-09-20 20:31:00</td>\n",
       "      <td>Twitter for Android</td>\n",
       "      <td>True</td>\n",
       "      <td>1.174895e+18</td>\n",
       "      <td>92440.0</td>\n",
       "    </tr>\n",
       "    <tr>\n",
       "      <th>1175145591619411972</th>\n",
       "      <td>1522</td>\n",
       "      <td>4294</td>\n",
       "      <td>3682</td>\n",
       "      <td>مناحل ابو سلطان عرض خاص لمده اسبوع كيلو سدر ج...</td>\n",
       "      <td>[مناحل ابو سلطان]</td>\n",
       "      <td>ar</td>\n",
       "      <td>2019-09-20 20:31:00</td>\n",
       "      <td>Twitter for Android</td>\n",
       "      <td>True</td>\n",
       "      <td>1.174894e+18</td>\n",
       "      <td>2117.0</td>\n",
       "    </tr>\n",
       "    <tr>\n",
       "      <th>1175184889097986049</th>\n",
       "      <td>210</td>\n",
       "      <td>3690</td>\n",
       "      <td>5504</td>\n",
       "      <td>مناحل ابو سلطان عرض خاص لمده اسبوع كيلو سدر ج...</td>\n",
       "      <td>[مناحل ابو سلطان]</td>\n",
       "      <td>ar</td>\n",
       "      <td>2019-09-20 23:08:00</td>\n",
       "      <td>Twitter for iPhone</td>\n",
       "      <td>True</td>\n",
       "      <td>1.174895e+18</td>\n",
       "      <td>92440.0</td>\n",
       "    </tr>\n",
       "    <tr>\n",
       "      <th>1175302010553458688</th>\n",
       "      <td>1527</td>\n",
       "      <td>3709</td>\n",
       "      <td>5551</td>\n",
       "      <td>مناحل ابو سلطان عرض خاص لمده اسبوع كيلو سدر ج...</td>\n",
       "      <td>[مناحل ابو سلطان]</td>\n",
       "      <td>ar</td>\n",
       "      <td>2019-09-21 06:53:00</td>\n",
       "      <td>Twitter for Android</td>\n",
       "      <td>True</td>\n",
       "      <td>1.174894e+18</td>\n",
       "      <td>2117.0</td>\n",
       "    </tr>\n",
       "  </tbody>\n",
       "</table>\n",
       "<p>6702 rows × 11 columns</p>\n",
       "</div>"
      ],
      "text/plain": [
       "                     user_reference_id  follower_count  following_count  \\\n",
       "tweetid                                                                   \n",
       "1146251429457354752               2117            1364             1716   \n",
       "1146253210107224065                284            8968             8010   \n",
       "1146258605601099777               2137            2162             2874   \n",
       "1146266513801994241               2132            2351             2397   \n",
       "1146266908557238273                284            8968             8010   \n",
       "...                                ...             ...              ...   \n",
       "1175134986422251520                179           16937            16823   \n",
       "1175145494022098946               1522            4294             3682   \n",
       "1175145591619411972               1522            4294             3682   \n",
       "1175184889097986049                210            3690             5504   \n",
       "1175302010553458688               1527            3709             5551   \n",
       "\n",
       "                                                            tweet_text  \\\n",
       "tweetid                                                                  \n",
       "1146251429457354752   مناحل ابو سلطان عرض خاص لمده اسبوع كيلو سدر ج...   \n",
       "1146253210107224065   مناحل ابو سلطان عرض خاص لمده اسبوع كيلو سدر ج...   \n",
       "1146258605601099777   مناحل ابو سلطان عرض خاص لمده اسبوع كيلو سدر ج...   \n",
       "1146266513801994241   مناحل ابو سلطان عرض خاص لمده اسبوع كيلو سدر ج...   \n",
       "1146266908557238273   مناحل ابو سلطان عرض خاص لمده اسبوع كيلو سدر ج...   \n",
       "...                                                                ...   \n",
       "1175134986422251520   مناحل ابو سلطان عرض خاص لمده اسبوع كيلو سدر ج...   \n",
       "1175145494022098946   مناحل ابو سلطان عرض خاص لمده اسبوع كيلو سدر ج...   \n",
       "1175145591619411972   مناحل ابو سلطان عرض خاص لمده اسبوع كيلو سدر ج...   \n",
       "1175184889097986049   مناحل ابو سلطان عرض خاص لمده اسبوع كيلو سدر ج...   \n",
       "1175302010553458688   مناحل ابو سلطان عرض خاص لمده اسبوع كيلو سدر ج...   \n",
       "\n",
       "                              hashtags tweet_language          tweet_time  \\\n",
       "tweetid                                                                     \n",
       "1146251429457354752  [مناحل ابو سلطان]             ar 2019-07-03 02:56:00   \n",
       "1146253210107224065  [مناحل ابو سلطان]             ar 2019-07-03 03:03:00   \n",
       "1146258605601099777  [مناحل ابو سلطان]             ar 2019-07-03 03:25:00   \n",
       "1146266513801994241  [مناحل ابو سلطان]             ar 2019-07-03 03:56:00   \n",
       "1146266908557238273  [مناحل ابو سلطان]             ar 2019-07-03 03:58:00   \n",
       "...                                ...            ...                 ...   \n",
       "1175134986422251520  [مناحل ابو سلطان]             ar 2019-09-20 19:49:00   \n",
       "1175145494022098946  [مناحل ابو سلطان]             ar 2019-09-20 20:31:00   \n",
       "1175145591619411972  [مناحل ابو سلطان]             ar 2019-09-20 20:31:00   \n",
       "1175184889097986049  [مناحل ابو سلطان]             ar 2019-09-20 23:08:00   \n",
       "1175302010553458688  [مناحل ابو سلطان]             ar 2019-09-21 06:53:00   \n",
       "\n",
       "                       tweet_client_name  is_retweet  retweet_tweetid  \\\n",
       "tweetid                                                                 \n",
       "1146251429457354752  Twitter for Android       False              NaN   \n",
       "1146253210107224065  Twitter for Android       False              NaN   \n",
       "1146258605601099777  Twitter for Android        True     1.146253e+18   \n",
       "1146266513801994241  Twitter for Android        True     1.146253e+18   \n",
       "1146266908557238273  Twitter for Android        True     1.146252e+18   \n",
       "...                                  ...         ...              ...   \n",
       "1175134986422251520   Twitter for iPhone        True     1.174895e+18   \n",
       "1175145494022098946  Twitter for Android        True     1.174895e+18   \n",
       "1175145591619411972  Twitter for Android        True     1.174894e+18   \n",
       "1175184889097986049   Twitter for iPhone        True     1.174895e+18   \n",
       "1175302010553458688  Twitter for Android        True     1.174894e+18   \n",
       "\n",
       "                     retweet_user_reference_id  \n",
       "tweetid                                         \n",
       "1146251429457354752                        NaN  \n",
       "1146253210107224065                        NaN  \n",
       "1146258605601099777                    22598.0  \n",
       "1146266513801994241                    22598.0  \n",
       "1146266908557238273                   100422.0  \n",
       "...                                        ...  \n",
       "1175134986422251520                    92440.0  \n",
       "1175145494022098946                    92440.0  \n",
       "1175145591619411972                     2117.0  \n",
       "1175184889097986049                    92440.0  \n",
       "1175302010553458688                     2117.0  \n",
       "\n",
       "[6702 rows x 11 columns]"
      ]
     },
     "execution_count": 39,
     "metadata": {},
     "output_type": "execute_result"
    }
   ],
   "source": [
    "ddf[ddf.tweet_text == same_text].compute()"
   ]
  },
  {
   "cell_type": "code",
   "execution_count": 40,
   "metadata": {},
   "outputs": [
    {
     "data": {
      "text/html": [
       "<div>\n",
       "<style scoped>\n",
       "    .dataframe tbody tr th:only-of-type {\n",
       "        vertical-align: middle;\n",
       "    }\n",
       "\n",
       "    .dataframe tbody tr th {\n",
       "        vertical-align: top;\n",
       "    }\n",
       "\n",
       "    .dataframe thead th {\n",
       "        text-align: right;\n",
       "    }\n",
       "</style>\n",
       "<table border=\"1\" class=\"dataframe\">\n",
       "  <thead>\n",
       "    <tr style=\"text-align: right;\">\n",
       "      <th></th>\n",
       "      <th>user_reference_id</th>\n",
       "      <th>follower_count</th>\n",
       "      <th>following_count</th>\n",
       "      <th>tweet_text</th>\n",
       "      <th>hashtags</th>\n",
       "      <th>tweet_language</th>\n",
       "      <th>tweet_time</th>\n",
       "      <th>tweet_client_name</th>\n",
       "      <th>is_retweet</th>\n",
       "      <th>retweet_user_reference_id</th>\n",
       "    </tr>\n",
       "    <tr>\n",
       "      <th>retweet_tweetid</th>\n",
       "      <th></th>\n",
       "      <th></th>\n",
       "      <th></th>\n",
       "      <th></th>\n",
       "      <th></th>\n",
       "      <th></th>\n",
       "      <th></th>\n",
       "      <th></th>\n",
       "      <th></th>\n",
       "      <th></th>\n",
       "    </tr>\n",
       "  </thead>\n",
       "  <tbody>\n",
       "    <tr>\n",
       "      <th>1.373095e+17</th>\n",
       "      <td>176</td>\n",
       "      <td>650</td>\n",
       "      <td>561</td>\n",
       "      <td>المهم ان اسامة لن يلعب في السعودية لغير الهلا...</td>\n",
       "      <td>None</td>\n",
       "      <td>ar</td>\n",
       "      <td>2014-10-18 13:37:00</td>\n",
       "      <td>Twitter for Android</td>\n",
       "      <td>True</td>\n",
       "      <td>171264.0</td>\n",
       "    </tr>\n",
       "    <tr>\n",
       "      <th>1.373095e+17</th>\n",
       "      <td>176</td>\n",
       "      <td>650</td>\n",
       "      <td>561</td>\n",
       "      <td>المهم ان اسامة لن يلعب في السعودية لغير الهلا...</td>\n",
       "      <td>None</td>\n",
       "      <td>ar</td>\n",
       "      <td>2016-02-24 12:35:00</td>\n",
       "      <td>Twitter for iPhone</td>\n",
       "      <td>True</td>\n",
       "      <td>5660.0</td>\n",
       "    </tr>\n",
       "    <tr>\n",
       "      <th>2.348015e+17</th>\n",
       "      <td>3562</td>\n",
       "      <td>652879</td>\n",
       "      <td>421198</td>\n",
       "      <td>التـمـيز فـيـك لـو غـيرك تـمـيز فـارقه ميزتك ...</td>\n",
       "      <td>None</td>\n",
       "      <td>ar</td>\n",
       "      <td>2016-08-11 10:24:00</td>\n",
       "      <td>Twitter for iPad</td>\n",
       "      <td>True</td>\n",
       "      <td>235215.0</td>\n",
       "    </tr>\n",
       "    <tr>\n",
       "      <th>2.348015e+17</th>\n",
       "      <td>3557</td>\n",
       "      <td>814247</td>\n",
       "      <td>663230</td>\n",
       "      <td>التـمـيز فـيـك لـو غـيرك تـمـيز فـارقه ميزتك ...</td>\n",
       "      <td>None</td>\n",
       "      <td>ar</td>\n",
       "      <td>2017-10-28 12:44:00</td>\n",
       "      <td>Twitter for Android</td>\n",
       "      <td>True</td>\n",
       "      <td>302905.0</td>\n",
       "    </tr>\n",
       "    <tr>\n",
       "      <th>2.348034e+17</th>\n",
       "      <td>3562</td>\n",
       "      <td>652879</td>\n",
       "      <td>421198</td>\n",
       "      <td>يآ عووونكـ ماقلتي عووونك ولا قلت وش فيكــ وش ...</td>\n",
       "      <td>None</td>\n",
       "      <td>ar</td>\n",
       "      <td>2016-08-11 10:24:00</td>\n",
       "      <td>Twitter for iPad</td>\n",
       "      <td>True</td>\n",
       "      <td>235215.0</td>\n",
       "    </tr>\n",
       "  </tbody>\n",
       "</table>\n",
       "</div>"
      ],
      "text/plain": [
       "                 user_reference_id  follower_count  following_count  \\\n",
       "retweet_tweetid                                                       \n",
       "1.373095e+17                   176             650              561   \n",
       "1.373095e+17                   176             650              561   \n",
       "2.348015e+17                  3562          652879           421198   \n",
       "2.348015e+17                  3557          814247           663230   \n",
       "2.348034e+17                  3562          652879           421198   \n",
       "\n",
       "                                                        tweet_text hashtags  \\\n",
       "retweet_tweetid                                                               \n",
       "1.373095e+17      المهم ان اسامة لن يلعب في السعودية لغير الهلا...     None   \n",
       "1.373095e+17      المهم ان اسامة لن يلعب في السعودية لغير الهلا...     None   \n",
       "2.348015e+17      التـمـيز فـيـك لـو غـيرك تـمـيز فـارقه ميزتك ...     None   \n",
       "2.348015e+17      التـمـيز فـيـك لـو غـيرك تـمـيز فـارقه ميزتك ...     None   \n",
       "2.348034e+17      يآ عووونكـ ماقلتي عووونك ولا قلت وش فيكــ وش ...     None   \n",
       "\n",
       "                tweet_language          tweet_time    tweet_client_name  \\\n",
       "retweet_tweetid                                                           \n",
       "1.373095e+17                ar 2014-10-18 13:37:00  Twitter for Android   \n",
       "1.373095e+17                ar 2016-02-24 12:35:00   Twitter for iPhone   \n",
       "2.348015e+17                ar 2016-08-11 10:24:00     Twitter for iPad   \n",
       "2.348015e+17                ar 2017-10-28 12:44:00  Twitter for Android   \n",
       "2.348034e+17                ar 2016-08-11 10:24:00     Twitter for iPad   \n",
       "\n",
       "                 is_retweet  retweet_user_reference_id  \n",
       "retweet_tweetid                                         \n",
       "1.373095e+17           True                   171264.0  \n",
       "1.373095e+17           True                     5660.0  \n",
       "2.348015e+17           True                   235215.0  \n",
       "2.348015e+17           True                   302905.0  \n",
       "2.348034e+17           True                   235215.0  "
      ]
     },
     "execution_count": 40,
     "metadata": {},
     "output_type": "execute_result"
    }
   ],
   "source": [
    "# inspect df with duplicated retweet ids\n",
    "df_duplicated_retweetids.head()"
   ]
  },
  {
   "cell_type": "code",
   "execution_count": 41,
   "metadata": {},
   "outputs": [],
   "source": [
    "# get indices \n",
    "duplicated_retweetids = df_duplicated_retweetids.index.unique()"
   ]
  },
  {
   "cell_type": "code",
   "execution_count": 42,
   "metadata": {},
   "outputs": [
    {
     "data": {
      "text/plain": [
       "3709"
      ]
     },
     "execution_count": 42,
     "metadata": {},
     "output_type": "execute_result"
    }
   ],
   "source": [
    "# check how many\n",
    "len(duplicated_retweetids)"
   ]
  },
  {
   "cell_type": "code",
   "execution_count": 43,
   "metadata": {},
   "outputs": [],
   "source": [
    "# turn into list\n",
    "duplicated_retweetids = list(duplicated_retweetids)"
   ]
  },
  {
   "cell_type": "code",
   "execution_count": 44,
   "metadata": {},
   "outputs": [],
   "source": [
    "# use mask to filter out duplicate retweetids\n",
    "ddf_unique_dropped = ddf_unique[~(ddf_unique.retweet_tweetid.isin(duplicated_retweetids))].persist()"
   ]
  },
  {
   "cell_type": "code",
   "execution_count": 46,
   "metadata": {},
   "outputs": [
    {
     "data": {
      "text/plain": [
       "7558"
      ]
     },
     "execution_count": 46,
     "metadata": {},
     "output_type": "execute_result"
    }
   ],
   "source": [
    "# check n_rows dropped\n",
    "ddf_unique.shape[0].compute() - ddf_unique_dropped.shape[0].compute()"
   ]
  },
  {
   "cell_type": "code",
   "execution_count": 47,
   "metadata": {},
   "outputs": [
    {
     "data": {
      "text/html": [
       "<div>\n",
       "<style scoped>\n",
       "    .dataframe tbody tr th:only-of-type {\n",
       "        vertical-align: middle;\n",
       "    }\n",
       "\n",
       "    .dataframe tbody tr th {\n",
       "        vertical-align: top;\n",
       "    }\n",
       "\n",
       "    .dataframe thead th {\n",
       "        text-align: right;\n",
       "    }\n",
       "</style>\n",
       "<table border=\"1\" class=\"dataframe\">\n",
       "  <thead>\n",
       "    <tr style=\"text-align: right;\">\n",
       "      <th></th>\n",
       "      <th>user_reference_id</th>\n",
       "      <th>follower_count</th>\n",
       "      <th>following_count</th>\n",
       "      <th>tweet_text</th>\n",
       "      <th>hashtags</th>\n",
       "      <th>tweet_language</th>\n",
       "      <th>tweet_time</th>\n",
       "      <th>tweet_client_name</th>\n",
       "      <th>is_retweet</th>\n",
       "      <th>retweet_tweetid</th>\n",
       "      <th>retweet_user_reference_id</th>\n",
       "    </tr>\n",
       "    <tr>\n",
       "      <th>tweetid</th>\n",
       "      <th></th>\n",
       "      <th></th>\n",
       "      <th></th>\n",
       "      <th></th>\n",
       "      <th></th>\n",
       "      <th></th>\n",
       "      <th></th>\n",
       "      <th></th>\n",
       "      <th></th>\n",
       "      <th></th>\n",
       "      <th></th>\n",
       "    </tr>\n",
       "  </thead>\n",
       "  <tbody>\n",
       "    <tr>\n",
       "      <th>1146251429457354752</th>\n",
       "      <td>2117</td>\n",
       "      <td>1364</td>\n",
       "      <td>1716</td>\n",
       "      <td>مناحل ابو سلطان عرض خاص لمده اسبوع كيلو سدر ج...</td>\n",
       "      <td>[مناحل ابو سلطان]</td>\n",
       "      <td>ar</td>\n",
       "      <td>2019-07-03 02:56:00</td>\n",
       "      <td>Twitter for Android</td>\n",
       "      <td>False</td>\n",
       "      <td>NaN</td>\n",
       "      <td>NaN</td>\n",
       "    </tr>\n",
       "  </tbody>\n",
       "</table>\n",
       "</div>"
      ],
      "text/plain": [
       "                     user_reference_id  follower_count  following_count  \\\n",
       "tweetid                                                                   \n",
       "1146251429457354752               2117            1364             1716   \n",
       "\n",
       "                                                            tweet_text  \\\n",
       "tweetid                                                                  \n",
       "1146251429457354752   مناحل ابو سلطان عرض خاص لمده اسبوع كيلو سدر ج...   \n",
       "\n",
       "                              hashtags tweet_language          tweet_time  \\\n",
       "tweetid                                                                     \n",
       "1146251429457354752  [مناحل ابو سلطان]             ar 2019-07-03 02:56:00   \n",
       "\n",
       "                       tweet_client_name  is_retweet  retweet_tweetid  \\\n",
       "tweetid                                                                 \n",
       "1146251429457354752  Twitter for Android       False              NaN   \n",
       "\n",
       "                     retweet_user_reference_id  \n",
       "tweetid                                         \n",
       "1146251429457354752                        NaN  "
      ]
     },
     "execution_count": 47,
     "metadata": {},
     "output_type": "execute_result"
    }
   ],
   "source": [
    "# inspect by looking up tweet_text\n",
    "ddf_unique_dropped[ddf_unique_dropped.tweet_text == same_text].compute()"
   ]
  },
  {
   "cell_type": "code",
   "execution_count": 49,
   "metadata": {},
   "outputs": [],
   "source": [
    "ddf_unique = ddf_unique_dropped.persist()"
   ]
  },
  {
   "cell_type": "code",
   "execution_count": 50,
   "metadata": {},
   "outputs": [
    {
     "data": {
      "text/plain": [
       "4.517189e+08    1\n",
       "1.072091e+18    1\n",
       "1.072091e+18    1\n",
       "1.072091e+18    1\n",
       "1.072091e+18    1\n",
       "1.072091e+18    1\n",
       "1.072091e+18    1\n",
       "1.072091e+18    1\n",
       "1.072090e+18    1\n",
       "1.072103e+18    1\n",
       "Name: retweet_tweetid, dtype: int64"
      ]
     },
     "execution_count": 50,
     "metadata": {},
     "output_type": "execute_result"
    }
   ],
   "source": [
    "# verify by checking value counts again\n",
    "ddf_unique.retweet_tweetid.value_counts().head(10)"
   ]
  },
  {
   "cell_type": "code",
   "execution_count": 51,
   "metadata": {},
   "outputs": [
    {
     "data": {
      "text/plain": [
       "6145783"
      ]
     },
     "execution_count": 51,
     "metadata": {},
     "output_type": "execute_result"
    }
   ],
   "source": [
    "ddf_unique.shape[0].compute()"
   ]
  },
  {
   "cell_type": "markdown",
   "metadata": {},
   "source": [
    "Excellent, that did the trick.\n",
    "\n",
    "That has reduced our set of unique tweets to 6.15mln.\n",
    "\n",
    "Now that this is done, we can save the ddf with unique tweets to our s3 bucket."
   ]
  },
  {
   "cell_type": "code",
   "execution_count": 52,
   "metadata": {},
   "outputs": [],
   "source": [
    "# save ddf with unique tweets to s3 bucket as parquet\n",
    "ddf_unique.to_parquet('s3://twitter-saudi-us-east-2/interim/ddf_unique_all_columns.parquet',\n",
    "               engine='pyarrow')"
   ]
  },
  {
   "cell_type": "markdown",
   "metadata": {},
   "source": [
    "### 7.1.3. Get Local Copy of Unique Tweets"
   ]
  },
  {
   "cell_type": "markdown",
   "metadata": {},
   "source": [
    "The csv file in our s3 bucket totals to 1.4GB. That means we should definitely be able to read it in as a local pandas dataframe, especially if we only use the tweet_text and hashtags columns.\n",
    "\n",
    "Let's try that now."
   ]
  },
  {
   "cell_type": "code",
   "execution_count": 53,
   "metadata": {},
   "outputs": [
    {
     "data": {
      "text/html": [
       "<div>\n",
       "<style scoped>\n",
       "    .dataframe tbody tr th:only-of-type {\n",
       "        vertical-align: middle;\n",
       "    }\n",
       "\n",
       "    .dataframe tbody tr th {\n",
       "        vertical-align: top;\n",
       "    }\n",
       "\n",
       "    .dataframe thead th {\n",
       "        text-align: right;\n",
       "    }\n",
       "</style>\n",
       "<table border=\"1\" class=\"dataframe\">\n",
       "  <thead>\n",
       "    <tr style=\"text-align: right;\">\n",
       "      <th></th>\n",
       "      <th>tweet_text</th>\n",
       "      <th>hashtags</th>\n",
       "      <th>is_retweet</th>\n",
       "      <th>retweet_tweetid</th>\n",
       "    </tr>\n",
       "    <tr>\n",
       "      <th>tweetid</th>\n",
       "      <th></th>\n",
       "      <th></th>\n",
       "      <th></th>\n",
       "      <th></th>\n",
       "    </tr>\n",
       "  </thead>\n",
       "  <tbody>\n",
       "    <tr>\n",
       "      <th>1000000000447930368</th>\n",
       "      <td>السلام عليكم ورحمة الله وبركاته مرحبا عملاء م...</td>\n",
       "      <td>None</td>\n",
       "      <td>True</td>\n",
       "      <td>9.986493e+17</td>\n",
       "    </tr>\n",
       "    <tr>\n",
       "      <th>1000000030391095297</th>\n",
       "      <td>للتأجير لبيع النطيطات زحاليق مائيه صابونية مل...</td>\n",
       "      <td>[للتأجير, لبيع النطيطات, زحاليق مائيه صابونية,...</td>\n",
       "      <td>True</td>\n",
       "      <td>9.996373e+17</td>\n",
       "    </tr>\n",
       "    <tr>\n",
       "      <th>1000000039362662400</th>\n",
       "      <td>مظلات وسواتر آفاق الرياض مظلات استراحات مظلات...</td>\n",
       "      <td>[مظلات, آفاق الرياض, مظلات استراحات, مظلات مسا...</td>\n",
       "      <td>True</td>\n",
       "      <td>9.993939e+17</td>\n",
       "    </tr>\n",
       "    <tr>\n",
       "      <th>1000000054911033344</th>\n",
       "      <td>فيديو شاهد مواطن يوثق بالفيديو كميات كبيرة من...</td>\n",
       "      <td>None</td>\n",
       "      <td>True</td>\n",
       "      <td>9.983516e+17</td>\n",
       "    </tr>\n",
       "    <tr>\n",
       "      <th>1000000204865789954</th>\n",
       "      <td>أستغفر الله العظيم وأتوب إليه</td>\n",
       "      <td>None</td>\n",
       "      <td>False</td>\n",
       "      <td>NaN</td>\n",
       "    </tr>\n",
       "  </tbody>\n",
       "</table>\n",
       "</div>"
      ],
      "text/plain": [
       "                                                            tweet_text  \\\n",
       "tweetid                                                                  \n",
       "1000000000447930368   السلام عليكم ورحمة الله وبركاته مرحبا عملاء م...   \n",
       "1000000030391095297   للتأجير لبيع النطيطات زحاليق مائيه صابونية مل...   \n",
       "1000000039362662400   مظلات وسواتر آفاق الرياض مظلات استراحات مظلات...   \n",
       "1000000054911033344   فيديو شاهد مواطن يوثق بالفيديو كميات كبيرة من...   \n",
       "1000000204865789954                     أستغفر الله العظيم وأتوب إليه    \n",
       "\n",
       "                                                              hashtags  \\\n",
       "tweetid                                                                  \n",
       "1000000000447930368                                               None   \n",
       "1000000030391095297  [للتأجير, لبيع النطيطات, زحاليق مائيه صابونية,...   \n",
       "1000000039362662400  [مظلات, آفاق الرياض, مظلات استراحات, مظلات مسا...   \n",
       "1000000054911033344                                               None   \n",
       "1000000204865789954                                               None   \n",
       "\n",
       "                     is_retweet  retweet_tweetid  \n",
       "tweetid                                           \n",
       "1000000000447930368        True     9.986493e+17  \n",
       "1000000030391095297        True     9.996373e+17  \n",
       "1000000039362662400        True     9.993939e+17  \n",
       "1000000054911033344        True     9.983516e+17  \n",
       "1000000204865789954       False              NaN  "
      ]
     },
     "execution_count": 53,
     "metadata": {},
     "output_type": "execute_result"
    }
   ],
   "source": [
    "ddf_unique[['tweet_text', 'hashtags', 'is_retweet', 'retweet_tweetid']].head()"
   ]
  },
  {
   "cell_type": "code",
   "execution_count": 54,
   "metadata": {},
   "outputs": [
    {
     "name": "stdout",
     "output_type": "stream",
     "text": [
      "CPU times: user 1min 42s, sys: 3min 14s, total: 4min 57s\n",
      "Wall time: 18min 43s\n"
     ]
    }
   ],
   "source": [
    "%%time\n",
    "# bring copy of only unique tweet text bodies, hashtags and retweet data to local machine as pandas dataframe\n",
    "df_tweets_hashtags = ddf_unique[['tweet_text', 'hashtags', 'is_retweet', 'retweet_tweetid']].compute()"
   ]
  },
  {
   "cell_type": "code",
   "execution_count": 55,
   "metadata": {},
   "outputs": [
    {
     "data": {
      "text/html": [
       "<div>\n",
       "<style scoped>\n",
       "    .dataframe tbody tr th:only-of-type {\n",
       "        vertical-align: middle;\n",
       "    }\n",
       "\n",
       "    .dataframe tbody tr th {\n",
       "        vertical-align: top;\n",
       "    }\n",
       "\n",
       "    .dataframe thead th {\n",
       "        text-align: right;\n",
       "    }\n",
       "</style>\n",
       "<table border=\"1\" class=\"dataframe\">\n",
       "  <thead>\n",
       "    <tr style=\"text-align: right;\">\n",
       "      <th></th>\n",
       "      <th>tweet_text</th>\n",
       "      <th>hashtags</th>\n",
       "      <th>is_retweet</th>\n",
       "      <th>retweet_tweetid</th>\n",
       "    </tr>\n",
       "    <tr>\n",
       "      <th>tweetid</th>\n",
       "      <th></th>\n",
       "      <th></th>\n",
       "      <th></th>\n",
       "      <th></th>\n",
       "    </tr>\n",
       "  </thead>\n",
       "  <tbody>\n",
       "    <tr>\n",
       "      <th>1000000000447930368</th>\n",
       "      <td>السلام عليكم ورحمة الله وبركاته مرحبا عملاء م...</td>\n",
       "      <td>None</td>\n",
       "      <td>True</td>\n",
       "      <td>9.986493e+17</td>\n",
       "    </tr>\n",
       "    <tr>\n",
       "      <th>1000000030391095297</th>\n",
       "      <td>للتأجير لبيع النطيطات زحاليق مائيه صابونية مل...</td>\n",
       "      <td>[للتأجير, لبيع النطيطات, زحاليق مائيه صابونية,...</td>\n",
       "      <td>True</td>\n",
       "      <td>9.996373e+17</td>\n",
       "    </tr>\n",
       "    <tr>\n",
       "      <th>1000000039362662400</th>\n",
       "      <td>مظلات وسواتر آفاق الرياض مظلات استراحات مظلات...</td>\n",
       "      <td>[مظلات, آفاق الرياض, مظلات استراحات, مظلات مسا...</td>\n",
       "      <td>True</td>\n",
       "      <td>9.993939e+17</td>\n",
       "    </tr>\n",
       "    <tr>\n",
       "      <th>1000000054911033344</th>\n",
       "      <td>فيديو شاهد مواطن يوثق بالفيديو كميات كبيرة من...</td>\n",
       "      <td>None</td>\n",
       "      <td>True</td>\n",
       "      <td>9.983516e+17</td>\n",
       "    </tr>\n",
       "    <tr>\n",
       "      <th>1000000204865789954</th>\n",
       "      <td>أستغفر الله العظيم وأتوب إليه</td>\n",
       "      <td>None</td>\n",
       "      <td>False</td>\n",
       "      <td>NaN</td>\n",
       "    </tr>\n",
       "  </tbody>\n",
       "</table>\n",
       "</div>"
      ],
      "text/plain": [
       "                                                            tweet_text  \\\n",
       "tweetid                                                                  \n",
       "1000000000447930368   السلام عليكم ورحمة الله وبركاته مرحبا عملاء م...   \n",
       "1000000030391095297   للتأجير لبيع النطيطات زحاليق مائيه صابونية مل...   \n",
       "1000000039362662400   مظلات وسواتر آفاق الرياض مظلات استراحات مظلات...   \n",
       "1000000054911033344   فيديو شاهد مواطن يوثق بالفيديو كميات كبيرة من...   \n",
       "1000000204865789954                     أستغفر الله العظيم وأتوب إليه    \n",
       "\n",
       "                                                              hashtags  \\\n",
       "tweetid                                                                  \n",
       "1000000000447930368                                               None   \n",
       "1000000030391095297  [للتأجير, لبيع النطيطات, زحاليق مائيه صابونية,...   \n",
       "1000000039362662400  [مظلات, آفاق الرياض, مظلات استراحات, مظلات مسا...   \n",
       "1000000054911033344                                               None   \n",
       "1000000204865789954                                               None   \n",
       "\n",
       "                     is_retweet  retweet_tweetid  \n",
       "tweetid                                           \n",
       "1000000000447930368        True     9.986493e+17  \n",
       "1000000030391095297        True     9.996373e+17  \n",
       "1000000039362662400        True     9.993939e+17  \n",
       "1000000054911033344        True     9.983516e+17  \n",
       "1000000204865789954       False              NaN  "
      ]
     },
     "execution_count": 55,
     "metadata": {},
     "output_type": "execute_result"
    }
   ],
   "source": [
    "df_tweets_hashtags.head()"
   ]
  },
  {
   "cell_type": "markdown",
   "metadata": {},
   "source": [
    "Excellent. That works and we can continue to work locally from here.\n",
    "\n",
    "Let's reset the index and then save this to our s3 bucket as well for later reference."
   ]
  },
  {
   "cell_type": "code",
   "execution_count": 56,
   "metadata": {},
   "outputs": [],
   "source": [
    "# reset the index to be consecutive integers starting from 0\n",
    "df_tweets_hashtags.reset_index(drop=True, inplace=True)"
   ]
  },
  {
   "cell_type": "code",
   "execution_count": 57,
   "metadata": {},
   "outputs": [],
   "source": [
    "# create column from index for later use\n",
    "df_tweets_hashtags.reset_index(drop=False,inplace=True)"
   ]
  },
  {
   "cell_type": "code",
   "execution_count": 58,
   "metadata": {},
   "outputs": [
    {
     "data": {
      "text/html": [
       "<div>\n",
       "<style scoped>\n",
       "    .dataframe tbody tr th:only-of-type {\n",
       "        vertical-align: middle;\n",
       "    }\n",
       "\n",
       "    .dataframe tbody tr th {\n",
       "        vertical-align: top;\n",
       "    }\n",
       "\n",
       "    .dataframe thead th {\n",
       "        text-align: right;\n",
       "    }\n",
       "</style>\n",
       "<table border=\"1\" class=\"dataframe\">\n",
       "  <thead>\n",
       "    <tr style=\"text-align: right;\">\n",
       "      <th></th>\n",
       "      <th>index</th>\n",
       "      <th>tweet_text</th>\n",
       "      <th>hashtags</th>\n",
       "      <th>is_retweet</th>\n",
       "      <th>retweet_tweetid</th>\n",
       "    </tr>\n",
       "  </thead>\n",
       "  <tbody>\n",
       "    <tr>\n",
       "      <th>0</th>\n",
       "      <td>0</td>\n",
       "      <td>السلام عليكم ورحمة الله وبركاته مرحبا عملاء م...</td>\n",
       "      <td>None</td>\n",
       "      <td>True</td>\n",
       "      <td>9.986493e+17</td>\n",
       "    </tr>\n",
       "    <tr>\n",
       "      <th>1</th>\n",
       "      <td>1</td>\n",
       "      <td>للتأجير لبيع النطيطات زحاليق مائيه صابونية مل...</td>\n",
       "      <td>[للتأجير, لبيع النطيطات, زحاليق مائيه صابونية,...</td>\n",
       "      <td>True</td>\n",
       "      <td>9.996373e+17</td>\n",
       "    </tr>\n",
       "    <tr>\n",
       "      <th>2</th>\n",
       "      <td>2</td>\n",
       "      <td>مظلات وسواتر آفاق الرياض مظلات استراحات مظلات...</td>\n",
       "      <td>[مظلات, آفاق الرياض, مظلات استراحات, مظلات مسا...</td>\n",
       "      <td>True</td>\n",
       "      <td>9.993939e+17</td>\n",
       "    </tr>\n",
       "    <tr>\n",
       "      <th>3</th>\n",
       "      <td>3</td>\n",
       "      <td>فيديو شاهد مواطن يوثق بالفيديو كميات كبيرة من...</td>\n",
       "      <td>None</td>\n",
       "      <td>True</td>\n",
       "      <td>9.983516e+17</td>\n",
       "    </tr>\n",
       "    <tr>\n",
       "      <th>4</th>\n",
       "      <td>4</td>\n",
       "      <td>أستغفر الله العظيم وأتوب إليه</td>\n",
       "      <td>None</td>\n",
       "      <td>False</td>\n",
       "      <td>NaN</td>\n",
       "    </tr>\n",
       "    <tr>\n",
       "      <th>5</th>\n",
       "      <td>5</td>\n",
       "      <td>تخفيضات على جميع الأصناف لدى دانة المسك للعود...</td>\n",
       "      <td>[تخفيضات, دانة المسك للعود, الرياض, الدائري ال...</td>\n",
       "      <td>True</td>\n",
       "      <td>9.997592e+17</td>\n",
       "    </tr>\n",
       "    <tr>\n",
       "      <th>6</th>\n",
       "      <td>6</td>\n",
       "      <td>علاج السرطان في الهند عند افضل مستشفى مختص با...</td>\n",
       "      <td>[سرطان الثدي, سرطان البنكرياس, سر…]</td>\n",
       "      <td>True</td>\n",
       "      <td>9.997301e+17</td>\n",
       "    </tr>\n",
       "    <tr>\n",
       "      <th>7</th>\n",
       "      <td>7</td>\n",
       "      <td>دورة مع السفرة السادسة عشر احصائية الربع الاو...</td>\n",
       "      <td>[مع السفرة, حلقا…]</td>\n",
       "      <td>True</td>\n",
       "      <td>9.997669e+17</td>\n",
       "    </tr>\n",
       "    <tr>\n",
       "      <th>8</th>\n",
       "      <td>8</td>\n",
       "      <td>تسديد قروض الراجحي الاهلي راتب وجميع البنوك ب...</td>\n",
       "      <td>[تسديد قروض]</td>\n",
       "      <td>True</td>\n",
       "      <td>9.997610e+17</td>\n",
       "    </tr>\n",
       "    <tr>\n",
       "      <th>9</th>\n",
       "      <td>9</td>\n",
       "      <td>لا إله إلا أنت سبحانك إني كنت من الظالمين</td>\n",
       "      <td>None</td>\n",
       "      <td>False</td>\n",
       "      <td>NaN</td>\n",
       "    </tr>\n",
       "  </tbody>\n",
       "</table>\n",
       "</div>"
      ],
      "text/plain": [
       "   index                                         tweet_text  \\\n",
       "0      0   السلام عليكم ورحمة الله وبركاته مرحبا عملاء م...   \n",
       "1      1   للتأجير لبيع النطيطات زحاليق مائيه صابونية مل...   \n",
       "2      2   مظلات وسواتر آفاق الرياض مظلات استراحات مظلات...   \n",
       "3      3   فيديو شاهد مواطن يوثق بالفيديو كميات كبيرة من...   \n",
       "4      4                     أستغفر الله العظيم وأتوب إليه    \n",
       "5      5   تخفيضات على جميع الأصناف لدى دانة المسك للعود...   \n",
       "6      6   علاج السرطان في الهند عند افضل مستشفى مختص با...   \n",
       "7      7   دورة مع السفرة السادسة عشر احصائية الربع الاو...   \n",
       "8      8   تسديد قروض الراجحي الاهلي راتب وجميع البنوك ب...   \n",
       "9      9         لا إله إلا أنت سبحانك إني كنت من الظالمين    \n",
       "\n",
       "                                            hashtags  is_retweet  \\\n",
       "0                                               None        True   \n",
       "1  [للتأجير, لبيع النطيطات, زحاليق مائيه صابونية,...        True   \n",
       "2  [مظلات, آفاق الرياض, مظلات استراحات, مظلات مسا...        True   \n",
       "3                                               None        True   \n",
       "4                                               None       False   \n",
       "5  [تخفيضات, دانة المسك للعود, الرياض, الدائري ال...        True   \n",
       "6                [سرطان الثدي, سرطان البنكرياس, سر…]        True   \n",
       "7                                 [مع السفرة, حلقا…]        True   \n",
       "8                                       [تسديد قروض]        True   \n",
       "9                                               None       False   \n",
       "\n",
       "   retweet_tweetid  \n",
       "0     9.986493e+17  \n",
       "1     9.996373e+17  \n",
       "2     9.993939e+17  \n",
       "3     9.983516e+17  \n",
       "4              NaN  \n",
       "5     9.997592e+17  \n",
       "6     9.997301e+17  \n",
       "7     9.997669e+17  \n",
       "8     9.997610e+17  \n",
       "9              NaN  "
      ]
     },
     "execution_count": 58,
     "metadata": {},
     "output_type": "execute_result"
    }
   ],
   "source": [
    "df_tweets_hashtags.head(10)"
   ]
  },
  {
   "cell_type": "markdown",
   "metadata": {},
   "source": [
    "Excellent, let's save, both locally and to s3 bucket."
   ]
  },
  {
   "cell_type": "code",
   "execution_count": 59,
   "metadata": {},
   "outputs": [],
   "source": [
    "# save this dataframe locally\n",
    "df_tweets_hashtags.to_parquet('/Users/richard/Desktop/data_cap3/interim/df_unique_tweets_hashtags_reset_index_030521.parquet',\n",
    "                          engine='pyarrow')"
   ]
  },
  {
   "cell_type": "code",
   "execution_count": 60,
   "metadata": {},
   "outputs": [
    {
     "name": "stdout",
     "output_type": "stream",
     "text": [
      "CPU times: user 48.7 s, sys: 53.7 s, total: 1min 42s\n",
      "Wall time: 16min 14s\n"
     ]
    }
   ],
   "source": [
    "%%time\n",
    "# save this dataframe to s3 bucket (ca. 1GB upload)\n",
    "df_tweets_hashtags.to_parquet('s3://twitter-saudi-us-east-2/interim/df_unique_tweets_hashtags_reset_index.parquet',\n",
    "                              engine='pyarrow')"
   ]
  },
  {
   "cell_type": "markdown",
   "metadata": {},
   "source": [
    "## 7.2. Replace Tweet_Text in Full Table with Index\n",
    "\n",
    "Now that we have a Dataframe with the unique tweet_text contents and hashtags (and a reset index), we can go ahead and replace the tweet_text bodies in the original, full dataset (containing >35mln rows) with just an integer referring to the index of the unique tweet_text content. We'll do this using a JOIN.\n",
    "\n",
    "This will significantly reduce the size of the original, full dataset and may mean we can work with that locally, too.\n",
    "\n",
    "Because we will be executing a join here, let's bring in the pandas dataframe with unique tweets as a dask dataframe. That will make the join easier to execute.\n"
   ]
  },
  {
   "cell_type": "code",
   "execution_count": 4,
   "metadata": {},
   "outputs": [],
   "source": [
    "ddf_tweets_hashtags = dd.read_parquet('s3://twitter-saudi-us-east-2/interim/df_unique_tweets_hashtags_reset_index.parquet',\n",
    "                                      engine='pyarrow').persist()"
   ]
  },
  {
   "cell_type": "code",
   "execution_count": 5,
   "metadata": {},
   "outputs": [
    {
     "data": {
      "text/html": [
       "<div>\n",
       "<style scoped>\n",
       "    .dataframe tbody tr th:only-of-type {\n",
       "        vertical-align: middle;\n",
       "    }\n",
       "\n",
       "    .dataframe tbody tr th {\n",
       "        vertical-align: top;\n",
       "    }\n",
       "\n",
       "    .dataframe thead th {\n",
       "        text-align: right;\n",
       "    }\n",
       "</style>\n",
       "<table border=\"1\" class=\"dataframe\">\n",
       "  <thead>\n",
       "    <tr style=\"text-align: right;\">\n",
       "      <th></th>\n",
       "      <th>index</th>\n",
       "      <th>tweet_text</th>\n",
       "      <th>hashtags</th>\n",
       "      <th>is_retweet</th>\n",
       "      <th>retweet_tweetid</th>\n",
       "    </tr>\n",
       "  </thead>\n",
       "  <tbody>\n",
       "    <tr>\n",
       "      <th>0</th>\n",
       "      <td>0</td>\n",
       "      <td>السلام عليكم ورحمة الله وبركاته مرحبا عملاء م...</td>\n",
       "      <td>None</td>\n",
       "      <td>True</td>\n",
       "      <td>9.986493e+17</td>\n",
       "    </tr>\n",
       "    <tr>\n",
       "      <th>1</th>\n",
       "      <td>1</td>\n",
       "      <td>للتأجير لبيع النطيطات زحاليق مائيه صابونية مل...</td>\n",
       "      <td>[للتأجير, لبيع النطيطات, زحاليق مائيه صابونية,...</td>\n",
       "      <td>True</td>\n",
       "      <td>9.996373e+17</td>\n",
       "    </tr>\n",
       "    <tr>\n",
       "      <th>2</th>\n",
       "      <td>2</td>\n",
       "      <td>مظلات وسواتر آفاق الرياض مظلات استراحات مظلات...</td>\n",
       "      <td>[مظلات, آفاق الرياض, مظلات استراحات, مظلات مسا...</td>\n",
       "      <td>True</td>\n",
       "      <td>9.993939e+17</td>\n",
       "    </tr>\n",
       "    <tr>\n",
       "      <th>3</th>\n",
       "      <td>3</td>\n",
       "      <td>فيديو شاهد مواطن يوثق بالفيديو كميات كبيرة من...</td>\n",
       "      <td>None</td>\n",
       "      <td>True</td>\n",
       "      <td>9.983516e+17</td>\n",
       "    </tr>\n",
       "    <tr>\n",
       "      <th>4</th>\n",
       "      <td>4</td>\n",
       "      <td>أستغفر الله العظيم وأتوب إليه</td>\n",
       "      <td>None</td>\n",
       "      <td>False</td>\n",
       "      <td>NaN</td>\n",
       "    </tr>\n",
       "  </tbody>\n",
       "</table>\n",
       "</div>"
      ],
      "text/plain": [
       "   index                                         tweet_text  \\\n",
       "0      0   السلام عليكم ورحمة الله وبركاته مرحبا عملاء م...   \n",
       "1      1   للتأجير لبيع النطيطات زحاليق مائيه صابونية مل...   \n",
       "2      2   مظلات وسواتر آفاق الرياض مظلات استراحات مظلات...   \n",
       "3      3   فيديو شاهد مواطن يوثق بالفيديو كميات كبيرة من...   \n",
       "4      4                     أستغفر الله العظيم وأتوب إليه    \n",
       "\n",
       "                                            hashtags  is_retweet  \\\n",
       "0                                               None        True   \n",
       "1  [للتأجير, لبيع النطيطات, زحاليق مائيه صابونية,...        True   \n",
       "2  [مظلات, آفاق الرياض, مظلات استراحات, مظلات مسا...        True   \n",
       "3                                               None        True   \n",
       "4                                               None       False   \n",
       "\n",
       "   retweet_tweetid  \n",
       "0     9.986493e+17  \n",
       "1     9.996373e+17  \n",
       "2     9.993939e+17  \n",
       "3     9.983516e+17  \n",
       "4              NaN  "
      ]
     },
     "execution_count": 5,
     "metadata": {},
     "output_type": "execute_result"
    }
   ],
   "source": [
    "ddf_tweets_hashtags.head()"
   ]
  },
  {
   "cell_type": "code",
   "execution_count": 6,
   "metadata": {},
   "outputs": [
    {
     "data": {
      "text/plain": [
       "6145783"
      ]
     },
     "execution_count": 6,
     "metadata": {},
     "output_type": "execute_result"
    }
   ],
   "source": [
    "ddf_tweets_hashtags.shape[0].compute()"
   ]
  },
  {
   "cell_type": "code",
   "execution_count": 7,
   "metadata": {},
   "outputs": [
    {
     "data": {
      "text/html": [
       "<div>\n",
       "<style scoped>\n",
       "    .dataframe tbody tr th:only-of-type {\n",
       "        vertical-align: middle;\n",
       "    }\n",
       "\n",
       "    .dataframe tbody tr th {\n",
       "        vertical-align: top;\n",
       "    }\n",
       "\n",
       "    .dataframe thead th {\n",
       "        text-align: right;\n",
       "    }\n",
       "</style>\n",
       "<table border=\"1\" class=\"dataframe\">\n",
       "  <thead>\n",
       "    <tr style=\"text-align: right;\">\n",
       "      <th></th>\n",
       "      <th>index</th>\n",
       "      <th>tweet_text</th>\n",
       "      <th>hashtags</th>\n",
       "      <th>is_retweet</th>\n",
       "      <th>retweet_tweetid</th>\n",
       "    </tr>\n",
       "  </thead>\n",
       "  <tbody>\n",
       "    <tr>\n",
       "      <th>6145778</th>\n",
       "      <td>6145778</td>\n",
       "      <td>وأنا بقلّب في تركى آل شيخ لقيت التايم لاين</td>\n",
       "      <td>None</td>\n",
       "      <td>False</td>\n",
       "      <td>NaN</td>\n",
       "    </tr>\n",
       "    <tr>\n",
       "      <th>6145779</th>\n",
       "      <td>6145779</td>\n",
       "      <td>اختي جوزها شافها وهي طالعه من مسجد بالعشر الا...</td>\n",
       "      <td>None</td>\n",
       "      <td>True</td>\n",
       "      <td>9.993118e+17</td>\n",
       "    </tr>\n",
       "    <tr>\n",
       "      <th>6145780</th>\n",
       "      <td>6145780</td>\n",
       "      <td>رمضان كريم الدحيل العين القدس عاصمه فلسطين ال...</td>\n",
       "      <td>[رمضان كريم, الدحيل العين, Ramadan, القدس عاصم...</td>\n",
       "      <td>True</td>\n",
       "      <td>9.968081e+17</td>\n",
       "    </tr>\n",
       "    <tr>\n",
       "      <th>6145781</th>\n",
       "      <td>6145781</td>\n",
       "      <td>قال رسول الله إنَّ في الجمُعةِ لساعَةٌ لا يوا...</td>\n",
       "      <td>None</td>\n",
       "      <td>True</td>\n",
       "      <td>7.741362e+17</td>\n",
       "    </tr>\n",
       "    <tr>\n",
       "      <th>6145782</th>\n",
       "      <td>6145782</td>\n",
       "      <td>إنجازات شخصية للأعضاء فقط شنو انجازات المجلس ...</td>\n",
       "      <td>[شنو انجازات المجلس الامه]</td>\n",
       "      <td>True</td>\n",
       "      <td>9.992911e+17</td>\n",
       "    </tr>\n",
       "  </tbody>\n",
       "</table>\n",
       "</div>"
      ],
      "text/plain": [
       "           index                                         tweet_text  \\\n",
       "6145778  6145778        وأنا بقلّب في تركى آل شيخ لقيت التايم لاين    \n",
       "6145779  6145779   اختي جوزها شافها وهي طالعه من مسجد بالعشر الا...   \n",
       "6145780  6145780   رمضان كريم الدحيل العين القدس عاصمه فلسطين ال...   \n",
       "6145781  6145781   قال رسول الله إنَّ في الجمُعةِ لساعَةٌ لا يوا...   \n",
       "6145782  6145782   إنجازات شخصية للأعضاء فقط شنو انجازات المجلس ...   \n",
       "\n",
       "                                                  hashtags  is_retweet  \\\n",
       "6145778                                               None       False   \n",
       "6145779                                               None        True   \n",
       "6145780  [رمضان كريم, الدحيل العين, Ramadan, القدس عاصم...        True   \n",
       "6145781                                               None        True   \n",
       "6145782                         [شنو انجازات المجلس الامه]        True   \n",
       "\n",
       "         retweet_tweetid  \n",
       "6145778              NaN  \n",
       "6145779     9.993118e+17  \n",
       "6145780     9.968081e+17  \n",
       "6145781     7.741362e+17  \n",
       "6145782     9.992911e+17  "
      ]
     },
     "execution_count": 7,
     "metadata": {},
     "output_type": "execute_result"
    }
   ],
   "source": [
    "ddf_tweets_hashtags.tail()"
   ]
  },
  {
   "cell_type": "markdown",
   "metadata": {},
   "source": [
    "Looks like that saved OK.\n",
    "\n",
    "It's only 1 partition, though, so let's repartition to 50MB per partition."
   ]
  },
  {
   "cell_type": "code",
   "execution_count": 8,
   "metadata": {},
   "outputs": [],
   "source": [
    "# repartition\n",
    "ddf_tweets_hashtags = ddf_tweets_hashtags.repartition(partition_size='50MB').persist()"
   ]
  },
  {
   "cell_type": "code",
   "execution_count": 9,
   "metadata": {},
   "outputs": [
    {
     "data": {
      "text/plain": [
       "False"
      ]
     },
     "execution_count": 9,
     "metadata": {},
     "output_type": "execute_result"
    }
   ],
   "source": [
    "# check if divisions are known\n",
    "ddf_tweets_hashtags.known_divisions"
   ]
  },
  {
   "cell_type": "code",
   "execution_count": 10,
   "metadata": {},
   "outputs": [],
   "source": [
    "# set index\n",
    "ddf_tweets_hashtags = ddf_tweets_hashtags.set_index('index', drop=False).persist()"
   ]
  },
  {
   "cell_type": "code",
   "execution_count": 11,
   "metadata": {},
   "outputs": [
    {
     "data": {
      "text/html": [
       "<div>\n",
       "<style scoped>\n",
       "    .dataframe tbody tr th:only-of-type {\n",
       "        vertical-align: middle;\n",
       "    }\n",
       "\n",
       "    .dataframe tbody tr th {\n",
       "        vertical-align: top;\n",
       "    }\n",
       "\n",
       "    .dataframe thead th {\n",
       "        text-align: right;\n",
       "    }\n",
       "</style>\n",
       "<table border=\"1\" class=\"dataframe\">\n",
       "  <thead>\n",
       "    <tr style=\"text-align: right;\">\n",
       "      <th></th>\n",
       "      <th>index</th>\n",
       "      <th>tweet_text</th>\n",
       "      <th>hashtags</th>\n",
       "      <th>is_retweet</th>\n",
       "      <th>retweet_tweetid</th>\n",
       "    </tr>\n",
       "    <tr>\n",
       "      <th>index</th>\n",
       "      <th></th>\n",
       "      <th></th>\n",
       "      <th></th>\n",
       "      <th></th>\n",
       "      <th></th>\n",
       "    </tr>\n",
       "  </thead>\n",
       "  <tbody>\n",
       "    <tr>\n",
       "      <th>0</th>\n",
       "      <td>0</td>\n",
       "      <td>السلام عليكم ورحمة الله وبركاته مرحبا عملاء م...</td>\n",
       "      <td>None</td>\n",
       "      <td>True</td>\n",
       "      <td>9.986493e+17</td>\n",
       "    </tr>\n",
       "    <tr>\n",
       "      <th>1</th>\n",
       "      <td>1</td>\n",
       "      <td>للتأجير لبيع النطيطات زحاليق مائيه صابونية مل...</td>\n",
       "      <td>[للتأجير, لبيع النطيطات, زحاليق مائيه صابونية,...</td>\n",
       "      <td>True</td>\n",
       "      <td>9.996373e+17</td>\n",
       "    </tr>\n",
       "    <tr>\n",
       "      <th>2</th>\n",
       "      <td>2</td>\n",
       "      <td>مظلات وسواتر آفاق الرياض مظلات استراحات مظلات...</td>\n",
       "      <td>[مظلات, آفاق الرياض, مظلات استراحات, مظلات مسا...</td>\n",
       "      <td>True</td>\n",
       "      <td>9.993939e+17</td>\n",
       "    </tr>\n",
       "    <tr>\n",
       "      <th>3</th>\n",
       "      <td>3</td>\n",
       "      <td>فيديو شاهد مواطن يوثق بالفيديو كميات كبيرة من...</td>\n",
       "      <td>None</td>\n",
       "      <td>True</td>\n",
       "      <td>9.983516e+17</td>\n",
       "    </tr>\n",
       "    <tr>\n",
       "      <th>4</th>\n",
       "      <td>4</td>\n",
       "      <td>أستغفر الله العظيم وأتوب إليه</td>\n",
       "      <td>None</td>\n",
       "      <td>False</td>\n",
       "      <td>NaN</td>\n",
       "    </tr>\n",
       "  </tbody>\n",
       "</table>\n",
       "</div>"
      ],
      "text/plain": [
       "       index                                         tweet_text  \\\n",
       "index                                                             \n",
       "0          0   السلام عليكم ورحمة الله وبركاته مرحبا عملاء م...   \n",
       "1          1   للتأجير لبيع النطيطات زحاليق مائيه صابونية مل...   \n",
       "2          2   مظلات وسواتر آفاق الرياض مظلات استراحات مظلات...   \n",
       "3          3   فيديو شاهد مواطن يوثق بالفيديو كميات كبيرة من...   \n",
       "4          4                     أستغفر الله العظيم وأتوب إليه    \n",
       "\n",
       "                                                hashtags  is_retweet  \\\n",
       "index                                                                  \n",
       "0                                                   None        True   \n",
       "1      [للتأجير, لبيع النطيطات, زحاليق مائيه صابونية,...        True   \n",
       "2      [مظلات, آفاق الرياض, مظلات استراحات, مظلات مسا...        True   \n",
       "3                                                   None        True   \n",
       "4                                                   None       False   \n",
       "\n",
       "       retweet_tweetid  \n",
       "index                   \n",
       "0         9.986493e+17  \n",
       "1         9.996373e+17  \n",
       "2         9.993939e+17  \n",
       "3         9.983516e+17  \n",
       "4                  NaN  "
      ]
     },
     "execution_count": 11,
     "metadata": {},
     "output_type": "execute_result"
    }
   ],
   "source": [
    "ddf_tweets_hashtags.head()"
   ]
  },
  {
   "cell_type": "code",
   "execution_count": 12,
   "metadata": {},
   "outputs": [
    {
     "data": {
      "text/plain": [
       "True"
      ]
     },
     "execution_count": 12,
     "metadata": {},
     "output_type": "execute_result"
    }
   ],
   "source": [
    "ddf_tweets_hashtags.known_divisions"
   ]
  },
  {
   "cell_type": "markdown",
   "metadata": {},
   "source": [
    "### 7.2.1. Executing Join\n",
    "\n",
    "We're now ready to execute the join. We will:\n",
    "1. Bring in the unique_tweet_id by joining on the 'tweet_text' column\n",
    "2. For any rows with slightly mismatched tweet_texts, we will join the unique_tweet_id on the 'retweet_tweetid' column"
   ]
  },
  {
   "cell_type": "code",
   "execution_count": 13,
   "metadata": {},
   "outputs": [],
   "source": [
    "ddf = dd.read_parquet('s3://twitter-saudi-us-east-2/interim/ddf_clean_userids_substituted.parquet',\n",
    "                      engine='pyarrow').persist()"
   ]
  },
  {
   "cell_type": "code",
   "execution_count": 14,
   "metadata": {},
   "outputs": [
    {
     "data": {
      "text/plain": [
       "True"
      ]
     },
     "execution_count": 14,
     "metadata": {},
     "output_type": "execute_result"
    }
   ],
   "source": [
    "# check if divisions are known\n",
    "ddf.known_divisions"
   ]
  },
  {
   "cell_type": "code",
   "execution_count": 15,
   "metadata": {},
   "outputs": [
    {
     "data": {
      "text/html": [
       "<div>\n",
       "<style scoped>\n",
       "    .dataframe tbody tr th:only-of-type {\n",
       "        vertical-align: middle;\n",
       "    }\n",
       "\n",
       "    .dataframe tbody tr th {\n",
       "        vertical-align: top;\n",
       "    }\n",
       "\n",
       "    .dataframe thead th {\n",
       "        text-align: right;\n",
       "    }\n",
       "</style>\n",
       "<table border=\"1\" class=\"dataframe\">\n",
       "  <thead>\n",
       "    <tr style=\"text-align: right;\">\n",
       "      <th></th>\n",
       "      <th>user_reference_id</th>\n",
       "      <th>follower_count</th>\n",
       "      <th>following_count</th>\n",
       "      <th>tweet_text</th>\n",
       "      <th>hashtags</th>\n",
       "      <th>tweet_language</th>\n",
       "      <th>tweet_time</th>\n",
       "      <th>tweet_client_name</th>\n",
       "      <th>is_retweet</th>\n",
       "      <th>retweet_tweetid</th>\n",
       "      <th>retweet_user_reference_id</th>\n",
       "    </tr>\n",
       "    <tr>\n",
       "      <th>tweetid</th>\n",
       "      <th></th>\n",
       "      <th></th>\n",
       "      <th></th>\n",
       "      <th></th>\n",
       "      <th></th>\n",
       "      <th></th>\n",
       "      <th></th>\n",
       "      <th></th>\n",
       "      <th></th>\n",
       "      <th></th>\n",
       "      <th></th>\n",
       "    </tr>\n",
       "  </thead>\n",
       "  <tbody>\n",
       "    <tr>\n",
       "      <th>1000000000447930368</th>\n",
       "      <td>0</td>\n",
       "      <td>9007</td>\n",
       "      <td>8821</td>\n",
       "      <td>السلام عليكم ورحمة الله وبركاته مرحبا عملاء م...</td>\n",
       "      <td>None</td>\n",
       "      <td>ar</td>\n",
       "      <td>2018-05-25 13:05:00</td>\n",
       "      <td>Twitter for iPhone</td>\n",
       "      <td>True</td>\n",
       "      <td>9.986493e+17</td>\n",
       "      <td>4273.0</td>\n",
       "    </tr>\n",
       "    <tr>\n",
       "      <th>1000000030391095297</th>\n",
       "      <td>0</td>\n",
       "      <td>9007</td>\n",
       "      <td>8821</td>\n",
       "      <td>للتأجير لبيع النطيطات زحاليق مائيه صابونية مل...</td>\n",
       "      <td>[للتأجير, لبيع النطيطات, زحاليق مائيه صابونية,...</td>\n",
       "      <td>ar</td>\n",
       "      <td>2018-05-25 13:06:00</td>\n",
       "      <td>Twitter for iPhone</td>\n",
       "      <td>True</td>\n",
       "      <td>9.996373e+17</td>\n",
       "      <td>4274.0</td>\n",
       "    </tr>\n",
       "    <tr>\n",
       "      <th>1000000039362662400</th>\n",
       "      <td>0</td>\n",
       "      <td>9007</td>\n",
       "      <td>8821</td>\n",
       "      <td>مظلات وسواتر آفاق الرياض مظلات استراحات مظلات...</td>\n",
       "      <td>[مظلات, آفاق الرياض, مظلات استراحات, مظلات مسا...</td>\n",
       "      <td>ar</td>\n",
       "      <td>2018-05-25 13:06:00</td>\n",
       "      <td>Twitter for iPhone</td>\n",
       "      <td>True</td>\n",
       "      <td>9.993939e+17</td>\n",
       "      <td>4275.0</td>\n",
       "    </tr>\n",
       "    <tr>\n",
       "      <th>1000000054911033344</th>\n",
       "      <td>1</td>\n",
       "      <td>168</td>\n",
       "      <td>408</td>\n",
       "      <td>فيديو شاهد مواطن يوثق بالفيديو كميات كبيرة من...</td>\n",
       "      <td>None</td>\n",
       "      <td>ar</td>\n",
       "      <td>2018-05-25 13:06:00</td>\n",
       "      <td>Twitter for iPhone</td>\n",
       "      <td>True</td>\n",
       "      <td>9.983516e+17</td>\n",
       "      <td>4276.0</td>\n",
       "    </tr>\n",
       "    <tr>\n",
       "      <th>1000000204865789954</th>\n",
       "      <td>2</td>\n",
       "      <td>1623</td>\n",
       "      <td>2022</td>\n",
       "      <td>أستغفر الله العظيم وأتوب إليه</td>\n",
       "      <td>None</td>\n",
       "      <td>ar</td>\n",
       "      <td>2018-05-25 13:06:00</td>\n",
       "      <td>غرد بصدقة</td>\n",
       "      <td>False</td>\n",
       "      <td>NaN</td>\n",
       "      <td>NaN</td>\n",
       "    </tr>\n",
       "  </tbody>\n",
       "</table>\n",
       "</div>"
      ],
      "text/plain": [
       "                     user_reference_id  follower_count  following_count  \\\n",
       "tweetid                                                                   \n",
       "1000000000447930368                  0            9007             8821   \n",
       "1000000030391095297                  0            9007             8821   \n",
       "1000000039362662400                  0            9007             8821   \n",
       "1000000054911033344                  1             168              408   \n",
       "1000000204865789954                  2            1623             2022   \n",
       "\n",
       "                                                            tweet_text  \\\n",
       "tweetid                                                                  \n",
       "1000000000447930368   السلام عليكم ورحمة الله وبركاته مرحبا عملاء م...   \n",
       "1000000030391095297   للتأجير لبيع النطيطات زحاليق مائيه صابونية مل...   \n",
       "1000000039362662400   مظلات وسواتر آفاق الرياض مظلات استراحات مظلات...   \n",
       "1000000054911033344   فيديو شاهد مواطن يوثق بالفيديو كميات كبيرة من...   \n",
       "1000000204865789954                     أستغفر الله العظيم وأتوب إليه    \n",
       "\n",
       "                                                              hashtags  \\\n",
       "tweetid                                                                  \n",
       "1000000000447930368                                               None   \n",
       "1000000030391095297  [للتأجير, لبيع النطيطات, زحاليق مائيه صابونية,...   \n",
       "1000000039362662400  [مظلات, آفاق الرياض, مظلات استراحات, مظلات مسا...   \n",
       "1000000054911033344                                               None   \n",
       "1000000204865789954                                               None   \n",
       "\n",
       "                    tweet_language          tweet_time   tweet_client_name  \\\n",
       "tweetid                                                                      \n",
       "1000000000447930368             ar 2018-05-25 13:05:00  Twitter for iPhone   \n",
       "1000000030391095297             ar 2018-05-25 13:06:00  Twitter for iPhone   \n",
       "1000000039362662400             ar 2018-05-25 13:06:00  Twitter for iPhone   \n",
       "1000000054911033344             ar 2018-05-25 13:06:00  Twitter for iPhone   \n",
       "1000000204865789954             ar 2018-05-25 13:06:00           غرد بصدقة   \n",
       "\n",
       "                     is_retweet  retweet_tweetid  retweet_user_reference_id  \n",
       "tweetid                                                                      \n",
       "1000000000447930368        True     9.986493e+17                     4273.0  \n",
       "1000000030391095297        True     9.996373e+17                     4274.0  \n",
       "1000000039362662400        True     9.993939e+17                     4275.0  \n",
       "1000000054911033344        True     9.983516e+17                     4276.0  \n",
       "1000000204865789954       False              NaN                        NaN  "
      ]
     },
     "execution_count": 15,
     "metadata": {},
     "output_type": "execute_result"
    }
   ],
   "source": [
    "ddf.head()"
   ]
  },
  {
   "cell_type": "code",
   "execution_count": 16,
   "metadata": {},
   "outputs": [],
   "source": [
    "# turn tweetid into column before executing join\n",
    "ddf['tweetid'] = ddf.index\n",
    "ddf.persist();"
   ]
  },
  {
   "cell_type": "code",
   "execution_count": 17,
   "metadata": {},
   "outputs": [
    {
     "data": {
      "text/plain": [
       "(True, True)"
      ]
     },
     "execution_count": 17,
     "metadata": {},
     "output_type": "execute_result"
    }
   ],
   "source": [
    "# verify that both divisions are known\n",
    "ddf_tweets_hashtags.known_divisions, ddf.known_divisions"
   ]
  },
  {
   "cell_type": "markdown",
   "metadata": {},
   "source": [
    "OK, now we should be all set to execute the join."
   ]
  },
  {
   "cell_type": "code",
   "execution_count": 18,
   "metadata": {},
   "outputs": [
    {
     "name": "stdout",
     "output_type": "stream",
     "text": [
      "CPU times: user 6.13 s, sys: 188 ms, total: 6.31 s\n",
      "Wall time: 7.4 s\n"
     ]
    }
   ],
   "source": [
    "%%time\n",
    "# execute left join\n",
    "# takes a minute or two to run on the cluster\n",
    "ddf_merged = ddf.merge(\n",
    "    ddf_tweets_hashtags[\n",
    "        [\"index\", 'tweet_text']\n",
    "    ],\n",
    "    how=\"left\",\n",
    "    on=\"tweet_text\"\n",
    ").persist()"
   ]
  },
  {
   "cell_type": "markdown",
   "metadata": {},
   "source": [
    "Let's inspect the new dataframe to see if that executed OK."
   ]
  },
  {
   "cell_type": "code",
   "execution_count": 19,
   "metadata": {},
   "outputs": [
    {
     "data": {
      "text/html": [
       "<div>\n",
       "<style scoped>\n",
       "    .dataframe tbody tr th:only-of-type {\n",
       "        vertical-align: middle;\n",
       "    }\n",
       "\n",
       "    .dataframe tbody tr th {\n",
       "        vertical-align: top;\n",
       "    }\n",
       "\n",
       "    .dataframe thead th {\n",
       "        text-align: right;\n",
       "    }\n",
       "</style>\n",
       "<table border=\"1\" class=\"dataframe\">\n",
       "  <thead>\n",
       "    <tr style=\"text-align: right;\">\n",
       "      <th></th>\n",
       "      <th>user_reference_id</th>\n",
       "      <th>follower_count</th>\n",
       "      <th>following_count</th>\n",
       "      <th>tweet_text</th>\n",
       "      <th>hashtags</th>\n",
       "      <th>tweet_language</th>\n",
       "      <th>tweet_time</th>\n",
       "      <th>tweet_client_name</th>\n",
       "      <th>is_retweet</th>\n",
       "      <th>retweet_tweetid</th>\n",
       "      <th>retweet_user_reference_id</th>\n",
       "      <th>tweetid</th>\n",
       "      <th>index</th>\n",
       "    </tr>\n",
       "  </thead>\n",
       "  <tbody>\n",
       "    <tr>\n",
       "      <th>0</th>\n",
       "      <td>11</td>\n",
       "      <td>51215</td>\n",
       "      <td>7289</td>\n",
       "      <td>اللهم لا تصدّ عنا وجهك يوم أن نلقاك اللّهم لا ...</td>\n",
       "      <td>None</td>\n",
       "      <td>ar</td>\n",
       "      <td>2018-05-25 14:15:00</td>\n",
       "      <td>erased14591474</td>\n",
       "      <td>False</td>\n",
       "      <td>NaN</td>\n",
       "      <td>NaN</td>\n",
       "      <td>1000017501831548928</td>\n",
       "      <td>317.0</td>\n",
       "    </tr>\n",
       "    <tr>\n",
       "      <th>1</th>\n",
       "      <td>16</td>\n",
       "      <td>3395</td>\n",
       "      <td>393</td>\n",
       "      <td>اللهم لا تصدّ عنا وجهك يوم أن نلقاك اللّهم لا ...</td>\n",
       "      <td>None</td>\n",
       "      <td>ar</td>\n",
       "      <td>2018-05-25 15:52:00</td>\n",
       "      <td>erased14591474</td>\n",
       "      <td>False</td>\n",
       "      <td>NaN</td>\n",
       "      <td>NaN</td>\n",
       "      <td>1000041961783529473</td>\n",
       "      <td>317.0</td>\n",
       "    </tr>\n",
       "    <tr>\n",
       "      <th>2</th>\n",
       "      <td>58</td>\n",
       "      <td>2370</td>\n",
       "      <td>3492</td>\n",
       "      <td>احباط هجوم إرهابي بأبها زيادة قوة وصلابة الإن...</td>\n",
       "      <td>[احباط هجوم إرهابي بأبها]</td>\n",
       "      <td>ar</td>\n",
       "      <td>2018-05-26 21:02:00</td>\n",
       "      <td>Twitter for Android</td>\n",
       "      <td>True</td>\n",
       "      <td>1.000423e+18</td>\n",
       "      <td>5212.0</td>\n",
       "      <td>1000482347123437571</td>\n",
       "      <td>5288.0</td>\n",
       "    </tr>\n",
       "    <tr>\n",
       "      <th>3</th>\n",
       "      <td>189</td>\n",
       "      <td>802</td>\n",
       "      <td>282</td>\n",
       "      <td>اللهم يا من بلغتنا رمضان أكرمنا بالعتق من الن...</td>\n",
       "      <td>None</td>\n",
       "      <td>ar</td>\n",
       "      <td>2018-05-26 22:23:00</td>\n",
       "      <td>Twitter for Android</td>\n",
       "      <td>True</td>\n",
       "      <td>9.994315e+17</td>\n",
       "      <td>5620.0</td>\n",
       "      <td>1000502743893671936</td>\n",
       "      <td>5490.0</td>\n",
       "    </tr>\n",
       "    <tr>\n",
       "      <th>4</th>\n",
       "      <td>58</td>\n",
       "      <td>2370</td>\n",
       "      <td>3492</td>\n",
       "      <td>اجعلنا منهم يا الله</td>\n",
       "      <td>None</td>\n",
       "      <td>ar</td>\n",
       "      <td>2018-05-26 23:55:00</td>\n",
       "      <td>Twitter for iPhone</td>\n",
       "      <td>True</td>\n",
       "      <td>1.000420e+18</td>\n",
       "      <td>5913.0</td>\n",
       "      <td>1000525934754136064</td>\n",
       "      <td>5744.0</td>\n",
       "    </tr>\n",
       "  </tbody>\n",
       "</table>\n",
       "</div>"
      ],
      "text/plain": [
       "   user_reference_id  follower_count  following_count  \\\n",
       "0                 11           51215             7289   \n",
       "1                 16            3395              393   \n",
       "2                 58            2370             3492   \n",
       "3                189             802              282   \n",
       "4                 58            2370             3492   \n",
       "\n",
       "                                          tweet_text  \\\n",
       "0  اللهم لا تصدّ عنا وجهك يوم أن نلقاك اللّهم لا ...   \n",
       "1  اللهم لا تصدّ عنا وجهك يوم أن نلقاك اللّهم لا ...   \n",
       "2   احباط هجوم إرهابي بأبها زيادة قوة وصلابة الإن...   \n",
       "3   اللهم يا من بلغتنا رمضان أكرمنا بالعتق من الن...   \n",
       "4                               اجعلنا منهم يا الله    \n",
       "\n",
       "                    hashtags tweet_language          tweet_time  \\\n",
       "0                       None             ar 2018-05-25 14:15:00   \n",
       "1                       None             ar 2018-05-25 15:52:00   \n",
       "2  [احباط هجوم إرهابي بأبها]             ar 2018-05-26 21:02:00   \n",
       "3                       None             ar 2018-05-26 22:23:00   \n",
       "4                       None             ar 2018-05-26 23:55:00   \n",
       "\n",
       "     tweet_client_name  is_retweet  retweet_tweetid  \\\n",
       "0       erased14591474       False              NaN   \n",
       "1       erased14591474       False              NaN   \n",
       "2  Twitter for Android        True     1.000423e+18   \n",
       "3  Twitter for Android        True     9.994315e+17   \n",
       "4   Twitter for iPhone        True     1.000420e+18   \n",
       "\n",
       "   retweet_user_reference_id              tweetid   index  \n",
       "0                        NaN  1000017501831548928   317.0  \n",
       "1                        NaN  1000041961783529473   317.0  \n",
       "2                     5212.0  1000482347123437571  5288.0  \n",
       "3                     5620.0  1000502743893671936  5490.0  \n",
       "4                     5913.0  1000525934754136064  5744.0  "
      ]
     },
     "execution_count": 19,
     "metadata": {},
     "output_type": "execute_result"
    }
   ],
   "source": [
    "ddf_merged.head()"
   ]
  },
  {
   "cell_type": "code",
   "execution_count": 20,
   "metadata": {},
   "outputs": [
    {
     "data": {
      "text/html": [
       "<div>\n",
       "<style scoped>\n",
       "    .dataframe tbody tr th:only-of-type {\n",
       "        vertical-align: middle;\n",
       "    }\n",
       "\n",
       "    .dataframe tbody tr th {\n",
       "        vertical-align: top;\n",
       "    }\n",
       "\n",
       "    .dataframe thead th {\n",
       "        text-align: right;\n",
       "    }\n",
       "</style>\n",
       "<table border=\"1\" class=\"dataframe\">\n",
       "  <thead>\n",
       "    <tr style=\"text-align: right;\">\n",
       "      <th></th>\n",
       "      <th>tweet_text</th>\n",
       "      <th>index</th>\n",
       "    </tr>\n",
       "  </thead>\n",
       "  <tbody>\n",
       "    <tr>\n",
       "      <th>0</th>\n",
       "      <td>اللهم لا تصدّ عنا وجهك يوم أن نلقاك اللّهم لا ...</td>\n",
       "      <td>317.0</td>\n",
       "    </tr>\n",
       "    <tr>\n",
       "      <th>1</th>\n",
       "      <td>اللهم لا تصدّ عنا وجهك يوم أن نلقاك اللّهم لا ...</td>\n",
       "      <td>317.0</td>\n",
       "    </tr>\n",
       "    <tr>\n",
       "      <th>2</th>\n",
       "      <td>احباط هجوم إرهابي بأبها زيادة قوة وصلابة الإن...</td>\n",
       "      <td>5288.0</td>\n",
       "    </tr>\n",
       "    <tr>\n",
       "      <th>3</th>\n",
       "      <td>اللهم يا من بلغتنا رمضان أكرمنا بالعتق من الن...</td>\n",
       "      <td>5490.0</td>\n",
       "    </tr>\n",
       "    <tr>\n",
       "      <th>4</th>\n",
       "      <td>اجعلنا منهم يا الله</td>\n",
       "      <td>5744.0</td>\n",
       "    </tr>\n",
       "  </tbody>\n",
       "</table>\n",
       "</div>"
      ],
      "text/plain": [
       "                                          tweet_text   index\n",
       "0  اللهم لا تصدّ عنا وجهك يوم أن نلقاك اللّهم لا ...   317.0\n",
       "1  اللهم لا تصدّ عنا وجهك يوم أن نلقاك اللّهم لا ...   317.0\n",
       "2   احباط هجوم إرهابي بأبها زيادة قوة وصلابة الإن...  5288.0\n",
       "3   اللهم يا من بلغتنا رمضان أكرمنا بالعتق من الن...  5490.0\n",
       "4                               اجعلنا منهم يا الله   5744.0"
      ]
     },
     "execution_count": 20,
     "metadata": {},
     "output_type": "execute_result"
    }
   ],
   "source": [
    "ddf_merged[['tweet_text', 'index']].head()"
   ]
  },
  {
   "cell_type": "markdown",
   "metadata": {},
   "source": [
    "OK, we have 2 identical tweet_texts showing up as having the same index. That's a good sign."
   ]
  },
  {
   "cell_type": "code",
   "execution_count": 21,
   "metadata": {},
   "outputs": [
    {
     "data": {
      "text/plain": [
       "True"
      ]
     },
     "execution_count": 21,
     "metadata": {},
     "output_type": "execute_result"
    }
   ],
   "source": [
    "# verify max() value of index column\n",
    "ddf_merged['index'].max().compute() == (ddf_tweets_hashtags.shape[0].compute() - 1)"
   ]
  },
  {
   "cell_type": "code",
   "execution_count": 22,
   "metadata": {},
   "outputs": [
    {
     "data": {
      "text/html": [
       "<div>\n",
       "<style scoped>\n",
       "    .dataframe tbody tr th:only-of-type {\n",
       "        vertical-align: middle;\n",
       "    }\n",
       "\n",
       "    .dataframe tbody tr th {\n",
       "        vertical-align: top;\n",
       "    }\n",
       "\n",
       "    .dataframe thead th {\n",
       "        text-align: right;\n",
       "    }\n",
       "</style>\n",
       "<table border=\"1\" class=\"dataframe\">\n",
       "  <thead>\n",
       "    <tr style=\"text-align: right;\">\n",
       "      <th></th>\n",
       "      <th>index</th>\n",
       "      <th>tweet_text</th>\n",
       "      <th>hashtags</th>\n",
       "      <th>is_retweet</th>\n",
       "      <th>retweet_tweetid</th>\n",
       "    </tr>\n",
       "    <tr>\n",
       "      <th>index</th>\n",
       "      <th></th>\n",
       "      <th></th>\n",
       "      <th></th>\n",
       "      <th></th>\n",
       "      <th></th>\n",
       "    </tr>\n",
       "  </thead>\n",
       "  <tbody>\n",
       "    <tr>\n",
       "      <th>5744</th>\n",
       "      <td>5744</td>\n",
       "      <td>اجعلنا منهم يا الله</td>\n",
       "      <td>None</td>\n",
       "      <td>True</td>\n",
       "      <td>1.000420e+18</td>\n",
       "    </tr>\n",
       "  </tbody>\n",
       "</table>\n",
       "</div>"
      ],
      "text/plain": [
       "       index             tweet_text hashtags  is_retweet  retweet_tweetid\n",
       "index                                                                    \n",
       "5744    5744   اجعلنا منهم يا الله      None        True     1.000420e+18"
      ]
     },
     "execution_count": 22,
     "metadata": {},
     "output_type": "execute_result"
    }
   ],
   "source": [
    "# verify\n",
    "ddf_tweets_hashtags[ddf_tweets_hashtags['index'] == 5744].compute()"
   ]
  },
  {
   "cell_type": "markdown",
   "metadata": {},
   "source": [
    "Perfect. This worked.\n",
    "\n",
    "We can now drop the tweet_text column."
   ]
  },
  {
   "cell_type": "code",
   "execution_count": 23,
   "metadata": {},
   "outputs": [
    {
     "data": {
      "text/html": [
       "<div><strong>Dask DataFrame Structure:</strong></div>\n",
       "<div>\n",
       "<style scoped>\n",
       "    .dataframe tbody tr th:only-of-type {\n",
       "        vertical-align: middle;\n",
       "    }\n",
       "\n",
       "    .dataframe tbody tr th {\n",
       "        vertical-align: top;\n",
       "    }\n",
       "\n",
       "    .dataframe thead th {\n",
       "        text-align: right;\n",
       "    }\n",
       "</style>\n",
       "<table border=\"1\" class=\"dataframe\">\n",
       "  <thead>\n",
       "    <tr style=\"text-align: right;\">\n",
       "      <th></th>\n",
       "      <th>user_reference_id</th>\n",
       "      <th>follower_count</th>\n",
       "      <th>following_count</th>\n",
       "      <th>hashtags</th>\n",
       "      <th>tweet_language</th>\n",
       "      <th>tweet_time</th>\n",
       "      <th>tweet_client_name</th>\n",
       "      <th>is_retweet</th>\n",
       "      <th>retweet_tweetid</th>\n",
       "      <th>retweet_user_reference_id</th>\n",
       "      <th>tweetid</th>\n",
       "      <th>index</th>\n",
       "    </tr>\n",
       "    <tr>\n",
       "      <th>npartitions=763</th>\n",
       "      <th></th>\n",
       "      <th></th>\n",
       "      <th></th>\n",
       "      <th></th>\n",
       "      <th></th>\n",
       "      <th></th>\n",
       "      <th></th>\n",
       "      <th></th>\n",
       "      <th></th>\n",
       "      <th></th>\n",
       "      <th></th>\n",
       "      <th></th>\n",
       "    </tr>\n",
       "  </thead>\n",
       "  <tbody>\n",
       "    <tr>\n",
       "      <th></th>\n",
       "      <td>int64</td>\n",
       "      <td>int64</td>\n",
       "      <td>int64</td>\n",
       "      <td>object</td>\n",
       "      <td>object</td>\n",
       "      <td>datetime64[ns]</td>\n",
       "      <td>object</td>\n",
       "      <td>bool</td>\n",
       "      <td>float64</td>\n",
       "      <td>float64</td>\n",
       "      <td>object</td>\n",
       "      <td>int64</td>\n",
       "    </tr>\n",
       "    <tr>\n",
       "      <th></th>\n",
       "      <td>...</td>\n",
       "      <td>...</td>\n",
       "      <td>...</td>\n",
       "      <td>...</td>\n",
       "      <td>...</td>\n",
       "      <td>...</td>\n",
       "      <td>...</td>\n",
       "      <td>...</td>\n",
       "      <td>...</td>\n",
       "      <td>...</td>\n",
       "      <td>...</td>\n",
       "      <td>...</td>\n",
       "    </tr>\n",
       "    <tr>\n",
       "      <th>...</th>\n",
       "      <td>...</td>\n",
       "      <td>...</td>\n",
       "      <td>...</td>\n",
       "      <td>...</td>\n",
       "      <td>...</td>\n",
       "      <td>...</td>\n",
       "      <td>...</td>\n",
       "      <td>...</td>\n",
       "      <td>...</td>\n",
       "      <td>...</td>\n",
       "      <td>...</td>\n",
       "      <td>...</td>\n",
       "    </tr>\n",
       "    <tr>\n",
       "      <th></th>\n",
       "      <td>...</td>\n",
       "      <td>...</td>\n",
       "      <td>...</td>\n",
       "      <td>...</td>\n",
       "      <td>...</td>\n",
       "      <td>...</td>\n",
       "      <td>...</td>\n",
       "      <td>...</td>\n",
       "      <td>...</td>\n",
       "      <td>...</td>\n",
       "      <td>...</td>\n",
       "      <td>...</td>\n",
       "    </tr>\n",
       "    <tr>\n",
       "      <th></th>\n",
       "      <td>...</td>\n",
       "      <td>...</td>\n",
       "      <td>...</td>\n",
       "      <td>...</td>\n",
       "      <td>...</td>\n",
       "      <td>...</td>\n",
       "      <td>...</td>\n",
       "      <td>...</td>\n",
       "      <td>...</td>\n",
       "      <td>...</td>\n",
       "      <td>...</td>\n",
       "      <td>...</td>\n",
       "    </tr>\n",
       "  </tbody>\n",
       "</table>\n",
       "</div>\n",
       "<div>Dask Name: drop_by_shallow_copy, 763 tasks</div>"
      ],
      "text/plain": [
       "Dask DataFrame Structure:\n",
       "                user_reference_id follower_count following_count hashtags tweet_language      tweet_time tweet_client_name is_retweet retweet_tweetid retweet_user_reference_id tweetid  index\n",
       "npartitions=763                                                                                                                                                                               \n",
       "                            int64          int64           int64   object         object  datetime64[ns]            object       bool         float64                   float64  object  int64\n",
       "                              ...            ...             ...      ...            ...             ...               ...        ...             ...                       ...     ...    ...\n",
       "...                           ...            ...             ...      ...            ...             ...               ...        ...             ...                       ...     ...    ...\n",
       "                              ...            ...             ...      ...            ...             ...               ...        ...             ...                       ...     ...    ...\n",
       "                              ...            ...             ...      ...            ...             ...               ...        ...             ...                       ...     ...    ...\n",
       "Dask Name: drop_by_shallow_copy, 763 tasks"
      ]
     },
     "execution_count": 23,
     "metadata": {},
     "output_type": "execute_result"
    }
   ],
   "source": [
    "# drop tweet_text column\n",
    "ddf_merged_dropped = ddf_merged.drop(columns='tweet_text')\n",
    "ddf_merged_dropped.persist()"
   ]
  },
  {
   "cell_type": "code",
   "execution_count": 24,
   "metadata": {},
   "outputs": [
    {
     "data": {
      "text/html": [
       "<div>\n",
       "<style scoped>\n",
       "    .dataframe tbody tr th:only-of-type {\n",
       "        vertical-align: middle;\n",
       "    }\n",
       "\n",
       "    .dataframe tbody tr th {\n",
       "        vertical-align: top;\n",
       "    }\n",
       "\n",
       "    .dataframe thead th {\n",
       "        text-align: right;\n",
       "    }\n",
       "</style>\n",
       "<table border=\"1\" class=\"dataframe\">\n",
       "  <thead>\n",
       "    <tr style=\"text-align: right;\">\n",
       "      <th></th>\n",
       "      <th>user_reference_id</th>\n",
       "      <th>follower_count</th>\n",
       "      <th>following_count</th>\n",
       "      <th>hashtags</th>\n",
       "      <th>tweet_language</th>\n",
       "      <th>tweet_time</th>\n",
       "      <th>tweet_client_name</th>\n",
       "      <th>is_retweet</th>\n",
       "      <th>retweet_tweetid</th>\n",
       "      <th>retweet_user_reference_id</th>\n",
       "      <th>tweetid</th>\n",
       "      <th>index</th>\n",
       "    </tr>\n",
       "  </thead>\n",
       "  <tbody>\n",
       "    <tr>\n",
       "      <th>0</th>\n",
       "      <td>11</td>\n",
       "      <td>51215</td>\n",
       "      <td>7289</td>\n",
       "      <td>None</td>\n",
       "      <td>ar</td>\n",
       "      <td>2018-05-25 14:15:00</td>\n",
       "      <td>erased14591474</td>\n",
       "      <td>False</td>\n",
       "      <td>NaN</td>\n",
       "      <td>NaN</td>\n",
       "      <td>1000017501831548928</td>\n",
       "      <td>317.0</td>\n",
       "    </tr>\n",
       "    <tr>\n",
       "      <th>1</th>\n",
       "      <td>16</td>\n",
       "      <td>3395</td>\n",
       "      <td>393</td>\n",
       "      <td>None</td>\n",
       "      <td>ar</td>\n",
       "      <td>2018-05-25 15:52:00</td>\n",
       "      <td>erased14591474</td>\n",
       "      <td>False</td>\n",
       "      <td>NaN</td>\n",
       "      <td>NaN</td>\n",
       "      <td>1000041961783529473</td>\n",
       "      <td>317.0</td>\n",
       "    </tr>\n",
       "    <tr>\n",
       "      <th>2</th>\n",
       "      <td>58</td>\n",
       "      <td>2370</td>\n",
       "      <td>3492</td>\n",
       "      <td>[احباط هجوم إرهابي بأبها]</td>\n",
       "      <td>ar</td>\n",
       "      <td>2018-05-26 21:02:00</td>\n",
       "      <td>Twitter for Android</td>\n",
       "      <td>True</td>\n",
       "      <td>1.000423e+18</td>\n",
       "      <td>5212.0</td>\n",
       "      <td>1000482347123437571</td>\n",
       "      <td>5288.0</td>\n",
       "    </tr>\n",
       "    <tr>\n",
       "      <th>3</th>\n",
       "      <td>189</td>\n",
       "      <td>802</td>\n",
       "      <td>282</td>\n",
       "      <td>None</td>\n",
       "      <td>ar</td>\n",
       "      <td>2018-05-26 22:23:00</td>\n",
       "      <td>Twitter for Android</td>\n",
       "      <td>True</td>\n",
       "      <td>9.994315e+17</td>\n",
       "      <td>5620.0</td>\n",
       "      <td>1000502743893671936</td>\n",
       "      <td>5490.0</td>\n",
       "    </tr>\n",
       "    <tr>\n",
       "      <th>4</th>\n",
       "      <td>58</td>\n",
       "      <td>2370</td>\n",
       "      <td>3492</td>\n",
       "      <td>None</td>\n",
       "      <td>ar</td>\n",
       "      <td>2018-05-26 23:55:00</td>\n",
       "      <td>Twitter for iPhone</td>\n",
       "      <td>True</td>\n",
       "      <td>1.000420e+18</td>\n",
       "      <td>5913.0</td>\n",
       "      <td>1000525934754136064</td>\n",
       "      <td>5744.0</td>\n",
       "    </tr>\n",
       "  </tbody>\n",
       "</table>\n",
       "</div>"
      ],
      "text/plain": [
       "   user_reference_id  follower_count  following_count  \\\n",
       "0                 11           51215             7289   \n",
       "1                 16            3395              393   \n",
       "2                 58            2370             3492   \n",
       "3                189             802              282   \n",
       "4                 58            2370             3492   \n",
       "\n",
       "                    hashtags tweet_language          tweet_time  \\\n",
       "0                       None             ar 2018-05-25 14:15:00   \n",
       "1                       None             ar 2018-05-25 15:52:00   \n",
       "2  [احباط هجوم إرهابي بأبها]             ar 2018-05-26 21:02:00   \n",
       "3                       None             ar 2018-05-26 22:23:00   \n",
       "4                       None             ar 2018-05-26 23:55:00   \n",
       "\n",
       "     tweet_client_name  is_retweet  retweet_tweetid  \\\n",
       "0       erased14591474       False              NaN   \n",
       "1       erased14591474       False              NaN   \n",
       "2  Twitter for Android        True     1.000423e+18   \n",
       "3  Twitter for Android        True     9.994315e+17   \n",
       "4   Twitter for iPhone        True     1.000420e+18   \n",
       "\n",
       "   retweet_user_reference_id              tweetid   index  \n",
       "0                        NaN  1000017501831548928   317.0  \n",
       "1                        NaN  1000041961783529473   317.0  \n",
       "2                     5212.0  1000482347123437571  5288.0  \n",
       "3                     5620.0  1000502743893671936  5490.0  \n",
       "4                     5913.0  1000525934754136064  5744.0  "
      ]
     },
     "execution_count": 24,
     "metadata": {},
     "output_type": "execute_result"
    }
   ],
   "source": [
    "ddf_merged_dropped.head()"
   ]
  },
  {
   "cell_type": "code",
   "execution_count": 25,
   "metadata": {},
   "outputs": [
    {
     "data": {
      "text/plain": [
       "35347002"
      ]
     },
     "execution_count": 25,
     "metadata": {},
     "output_type": "execute_result"
    }
   ],
   "source": [
    "ddf_merged_dropped.shape[0].compute()"
   ]
  },
  {
   "cell_type": "markdown",
   "metadata": {},
   "source": [
    "Excellent, looking good. Number of rows is still **35347002**.\n",
    "\n",
    "We can now proceed to change the column name 'index' to 'unique_tweetid'.\n",
    "\n",
    "Let's also reshuffle the order of the columns."
   ]
  },
  {
   "cell_type": "code",
   "execution_count": 26,
   "metadata": {},
   "outputs": [],
   "source": [
    "ddf_merged_dropped = ddf_merged_dropped.rename(columns={\n",
    "    'index': 'unique_tweetid',\n",
    "    'tweetid': 'twitter_tweetid'\n",
    "}\n",
    ").persist()"
   ]
  },
  {
   "cell_type": "code",
   "execution_count": 27,
   "metadata": {},
   "outputs": [
    {
     "data": {
      "text/plain": [
       "Index(['user_reference_id', 'follower_count', 'following_count', 'hashtags',\n",
       "       'tweet_language', 'tweet_time', 'tweet_client_name', 'is_retweet',\n",
       "       'retweet_tweetid', 'retweet_user_reference_id', 'twitter_tweetid',\n",
       "       'unique_tweetid'],\n",
       "      dtype='object')"
      ]
     },
     "execution_count": 27,
     "metadata": {},
     "output_type": "execute_result"
    }
   ],
   "source": [
    "ddf_merged_dropped.columns"
   ]
  },
  {
   "cell_type": "code",
   "execution_count": 28,
   "metadata": {},
   "outputs": [],
   "source": [
    "ddf_merged_dropped = ddf_merged_dropped[['unique_tweetid',\n",
    "                                         'twitter_tweetid',\n",
    "                                         'user_reference_id', \n",
    "                                         'follower_count', \n",
    "                                         'following_count', \n",
    "                                         'hashtags',\n",
    "                                         'tweet_language', \n",
    "                                         'tweet_time', \n",
    "                                         'tweet_client_name', \n",
    "                                         'is_retweet',\n",
    "                                         'retweet_tweetid', \n",
    "                                         'retweet_user_reference_id']].persist()"
   ]
  },
  {
   "cell_type": "code",
   "execution_count": 29,
   "metadata": {},
   "outputs": [
    {
     "data": {
      "text/html": [
       "<div>\n",
       "<style scoped>\n",
       "    .dataframe tbody tr th:only-of-type {\n",
       "        vertical-align: middle;\n",
       "    }\n",
       "\n",
       "    .dataframe tbody tr th {\n",
       "        vertical-align: top;\n",
       "    }\n",
       "\n",
       "    .dataframe thead th {\n",
       "        text-align: right;\n",
       "    }\n",
       "</style>\n",
       "<table border=\"1\" class=\"dataframe\">\n",
       "  <thead>\n",
       "    <tr style=\"text-align: right;\">\n",
       "      <th></th>\n",
       "      <th>unique_tweetid</th>\n",
       "      <th>twitter_tweetid</th>\n",
       "      <th>user_reference_id</th>\n",
       "      <th>follower_count</th>\n",
       "      <th>following_count</th>\n",
       "      <th>hashtags</th>\n",
       "      <th>tweet_language</th>\n",
       "      <th>tweet_time</th>\n",
       "      <th>tweet_client_name</th>\n",
       "      <th>is_retweet</th>\n",
       "      <th>retweet_tweetid</th>\n",
       "      <th>retweet_user_reference_id</th>\n",
       "    </tr>\n",
       "  </thead>\n",
       "  <tbody>\n",
       "    <tr>\n",
       "      <th>0</th>\n",
       "      <td>317.0</td>\n",
       "      <td>1000017501831548928</td>\n",
       "      <td>11</td>\n",
       "      <td>51215</td>\n",
       "      <td>7289</td>\n",
       "      <td>None</td>\n",
       "      <td>ar</td>\n",
       "      <td>2018-05-25 14:15:00</td>\n",
       "      <td>erased14591474</td>\n",
       "      <td>False</td>\n",
       "      <td>NaN</td>\n",
       "      <td>NaN</td>\n",
       "    </tr>\n",
       "    <tr>\n",
       "      <th>1</th>\n",
       "      <td>317.0</td>\n",
       "      <td>1000041961783529473</td>\n",
       "      <td>16</td>\n",
       "      <td>3395</td>\n",
       "      <td>393</td>\n",
       "      <td>None</td>\n",
       "      <td>ar</td>\n",
       "      <td>2018-05-25 15:52:00</td>\n",
       "      <td>erased14591474</td>\n",
       "      <td>False</td>\n",
       "      <td>NaN</td>\n",
       "      <td>NaN</td>\n",
       "    </tr>\n",
       "    <tr>\n",
       "      <th>2</th>\n",
       "      <td>5288.0</td>\n",
       "      <td>1000482347123437571</td>\n",
       "      <td>58</td>\n",
       "      <td>2370</td>\n",
       "      <td>3492</td>\n",
       "      <td>[احباط هجوم إرهابي بأبها]</td>\n",
       "      <td>ar</td>\n",
       "      <td>2018-05-26 21:02:00</td>\n",
       "      <td>Twitter for Android</td>\n",
       "      <td>True</td>\n",
       "      <td>1.000423e+18</td>\n",
       "      <td>5212.0</td>\n",
       "    </tr>\n",
       "    <tr>\n",
       "      <th>3</th>\n",
       "      <td>5490.0</td>\n",
       "      <td>1000502743893671936</td>\n",
       "      <td>189</td>\n",
       "      <td>802</td>\n",
       "      <td>282</td>\n",
       "      <td>None</td>\n",
       "      <td>ar</td>\n",
       "      <td>2018-05-26 22:23:00</td>\n",
       "      <td>Twitter for Android</td>\n",
       "      <td>True</td>\n",
       "      <td>9.994315e+17</td>\n",
       "      <td>5620.0</td>\n",
       "    </tr>\n",
       "    <tr>\n",
       "      <th>4</th>\n",
       "      <td>5744.0</td>\n",
       "      <td>1000525934754136064</td>\n",
       "      <td>58</td>\n",
       "      <td>2370</td>\n",
       "      <td>3492</td>\n",
       "      <td>None</td>\n",
       "      <td>ar</td>\n",
       "      <td>2018-05-26 23:55:00</td>\n",
       "      <td>Twitter for iPhone</td>\n",
       "      <td>True</td>\n",
       "      <td>1.000420e+18</td>\n",
       "      <td>5913.0</td>\n",
       "    </tr>\n",
       "  </tbody>\n",
       "</table>\n",
       "</div>"
      ],
      "text/plain": [
       "   unique_tweetid      twitter_tweetid  user_reference_id  follower_count  \\\n",
       "0           317.0  1000017501831548928                 11           51215   \n",
       "1           317.0  1000041961783529473                 16            3395   \n",
       "2          5288.0  1000482347123437571                 58            2370   \n",
       "3          5490.0  1000502743893671936                189             802   \n",
       "4          5744.0  1000525934754136064                 58            2370   \n",
       "\n",
       "   following_count                   hashtags tweet_language  \\\n",
       "0             7289                       None             ar   \n",
       "1              393                       None             ar   \n",
       "2             3492  [احباط هجوم إرهابي بأبها]             ar   \n",
       "3              282                       None             ar   \n",
       "4             3492                       None             ar   \n",
       "\n",
       "           tweet_time    tweet_client_name  is_retweet  retweet_tweetid  \\\n",
       "0 2018-05-25 14:15:00       erased14591474       False              NaN   \n",
       "1 2018-05-25 15:52:00       erased14591474       False              NaN   \n",
       "2 2018-05-26 21:02:00  Twitter for Android        True     1.000423e+18   \n",
       "3 2018-05-26 22:23:00  Twitter for Android        True     9.994315e+17   \n",
       "4 2018-05-26 23:55:00   Twitter for iPhone        True     1.000420e+18   \n",
       "\n",
       "   retweet_user_reference_id  \n",
       "0                        NaN  \n",
       "1                        NaN  \n",
       "2                     5212.0  \n",
       "3                     5620.0  \n",
       "4                     5913.0  "
      ]
     },
     "execution_count": 29,
     "metadata": {},
     "output_type": "execute_result"
    }
   ],
   "source": [
    "ddf_merged_dropped.head()"
   ]
  },
  {
   "cell_type": "code",
   "execution_count": 30,
   "metadata": {},
   "outputs": [],
   "source": [
    "# interim save to s3 bucket\n",
    "ddf_merged_dropped.to_parquet('s3://twitter-saudi-us-east-2/interim/ddf_merged_dropped_BEFORE_join_on_retweetids.parquet',\n",
    "                              engine='pyarrow')"
   ]
  },
  {
   "cell_type": "markdown",
   "metadata": {},
   "source": [
    "### 7.2.2. Joining Unique Tweet IDs of Mismatched Retweets\n",
    "\n",
    "Only one thing left to do: the values with NaN in the **unique_tweetid** column are slightly mismatched retweets. We will bring in the unique tweetid of these tweets by joinin on the **retweet_tweetid** column."
   ]
  },
  {
   "cell_type": "code",
   "execution_count": 31,
   "metadata": {},
   "outputs": [
    {
     "data": {
      "text/html": [
       "<div>\n",
       "<style scoped>\n",
       "    .dataframe tbody tr th:only-of-type {\n",
       "        vertical-align: middle;\n",
       "    }\n",
       "\n",
       "    .dataframe tbody tr th {\n",
       "        vertical-align: top;\n",
       "    }\n",
       "\n",
       "    .dataframe thead th {\n",
       "        text-align: right;\n",
       "    }\n",
       "</style>\n",
       "<table border=\"1\" class=\"dataframe\">\n",
       "  <thead>\n",
       "    <tr style=\"text-align: right;\">\n",
       "      <th></th>\n",
       "      <th>index</th>\n",
       "      <th>tweet_text</th>\n",
       "      <th>hashtags</th>\n",
       "      <th>is_retweet</th>\n",
       "      <th>retweet_tweetid</th>\n",
       "    </tr>\n",
       "    <tr>\n",
       "      <th>index</th>\n",
       "      <th></th>\n",
       "      <th></th>\n",
       "      <th></th>\n",
       "      <th></th>\n",
       "      <th></th>\n",
       "    </tr>\n",
       "  </thead>\n",
       "  <tbody>\n",
       "    <tr>\n",
       "      <th>0</th>\n",
       "      <td>0</td>\n",
       "      <td>السلام عليكم ورحمة الله وبركاته مرحبا عملاء م...</td>\n",
       "      <td>None</td>\n",
       "      <td>True</td>\n",
       "      <td>9.986493e+17</td>\n",
       "    </tr>\n",
       "    <tr>\n",
       "      <th>1</th>\n",
       "      <td>1</td>\n",
       "      <td>للتأجير لبيع النطيطات زحاليق مائيه صابونية مل...</td>\n",
       "      <td>[للتأجير, لبيع النطيطات, زحاليق مائيه صابونية,...</td>\n",
       "      <td>True</td>\n",
       "      <td>9.996373e+17</td>\n",
       "    </tr>\n",
       "    <tr>\n",
       "      <th>2</th>\n",
       "      <td>2</td>\n",
       "      <td>مظلات وسواتر آفاق الرياض مظلات استراحات مظلات...</td>\n",
       "      <td>[مظلات, آفاق الرياض, مظلات استراحات, مظلات مسا...</td>\n",
       "      <td>True</td>\n",
       "      <td>9.993939e+17</td>\n",
       "    </tr>\n",
       "    <tr>\n",
       "      <th>3</th>\n",
       "      <td>3</td>\n",
       "      <td>فيديو شاهد مواطن يوثق بالفيديو كميات كبيرة من...</td>\n",
       "      <td>None</td>\n",
       "      <td>True</td>\n",
       "      <td>9.983516e+17</td>\n",
       "    </tr>\n",
       "    <tr>\n",
       "      <th>4</th>\n",
       "      <td>4</td>\n",
       "      <td>أستغفر الله العظيم وأتوب إليه</td>\n",
       "      <td>None</td>\n",
       "      <td>False</td>\n",
       "      <td>NaN</td>\n",
       "    </tr>\n",
       "  </tbody>\n",
       "</table>\n",
       "</div>"
      ],
      "text/plain": [
       "       index                                         tweet_text  \\\n",
       "index                                                             \n",
       "0          0   السلام عليكم ورحمة الله وبركاته مرحبا عملاء م...   \n",
       "1          1   للتأجير لبيع النطيطات زحاليق مائيه صابونية مل...   \n",
       "2          2   مظلات وسواتر آفاق الرياض مظلات استراحات مظلات...   \n",
       "3          3   فيديو شاهد مواطن يوثق بالفيديو كميات كبيرة من...   \n",
       "4          4                     أستغفر الله العظيم وأتوب إليه    \n",
       "\n",
       "                                                hashtags  is_retweet  \\\n",
       "index                                                                  \n",
       "0                                                   None        True   \n",
       "1      [للتأجير, لبيع النطيطات, زحاليق مائيه صابونية,...        True   \n",
       "2      [مظلات, آفاق الرياض, مظلات استراحات, مظلات مسا...        True   \n",
       "3                                                   None        True   \n",
       "4                                                   None       False   \n",
       "\n",
       "       retweet_tweetid  \n",
       "index                   \n",
       "0         9.986493e+17  \n",
       "1         9.996373e+17  \n",
       "2         9.993939e+17  \n",
       "3         9.983516e+17  \n",
       "4                  NaN  "
      ]
     },
     "execution_count": 31,
     "metadata": {},
     "output_type": "execute_result"
    }
   ],
   "source": [
    "ddf_tweets_hashtags.head()"
   ]
  },
  {
   "cell_type": "code",
   "execution_count": 32,
   "metadata": {},
   "outputs": [
    {
     "data": {
      "text/plain": [
       "True"
      ]
     },
     "execution_count": 32,
     "metadata": {},
     "output_type": "execute_result"
    }
   ],
   "source": [
    "# check if divisions are known\n",
    "ddf_tweets_hashtags.known_divisions"
   ]
  },
  {
   "cell_type": "code",
   "execution_count": 33,
   "metadata": {},
   "outputs": [
    {
     "data": {
      "text/plain": [
       "False"
      ]
     },
     "execution_count": 33,
     "metadata": {},
     "output_type": "execute_result"
    }
   ],
   "source": [
    "# same for main ddf\n",
    "ddf_merged_dropped.known_divisions"
   ]
  },
  {
   "cell_type": "markdown",
   "metadata": {},
   "source": [
    "Important to set index for ddf_merged_dropped AND to maintain twitter_tweetid as a separate column so we retain it after the join."
   ]
  },
  {
   "cell_type": "code",
   "execution_count": 34,
   "metadata": {},
   "outputs": [],
   "source": [
    "# set index for ddf_merged_dropped\n",
    "ddf_merged_dropped = ddf_merged_dropped.set_index('twitter_tweetid', drop=False).persist()"
   ]
  },
  {
   "cell_type": "code",
   "execution_count": 35,
   "metadata": {},
   "outputs": [
    {
     "data": {
      "text/plain": [
       "True"
      ]
     },
     "execution_count": 35,
     "metadata": {},
     "output_type": "execute_result"
    }
   ],
   "source": [
    "# same for main ddf\n",
    "ddf_merged_dropped.known_divisions"
   ]
  },
  {
   "cell_type": "code",
   "execution_count": 36,
   "metadata": {},
   "outputs": [
    {
     "data": {
      "text/html": [
       "<div>\n",
       "<style scoped>\n",
       "    .dataframe tbody tr th:only-of-type {\n",
       "        vertical-align: middle;\n",
       "    }\n",
       "\n",
       "    .dataframe tbody tr th {\n",
       "        vertical-align: top;\n",
       "    }\n",
       "\n",
       "    .dataframe thead th {\n",
       "        text-align: right;\n",
       "    }\n",
       "</style>\n",
       "<table border=\"1\" class=\"dataframe\">\n",
       "  <thead>\n",
       "    <tr style=\"text-align: right;\">\n",
       "      <th></th>\n",
       "      <th>unique_tweetid</th>\n",
       "      <th>twitter_tweetid</th>\n",
       "      <th>user_reference_id</th>\n",
       "      <th>follower_count</th>\n",
       "      <th>following_count</th>\n",
       "      <th>hashtags</th>\n",
       "      <th>tweet_language</th>\n",
       "      <th>tweet_time</th>\n",
       "      <th>tweet_client_name</th>\n",
       "      <th>is_retweet</th>\n",
       "      <th>retweet_tweetid</th>\n",
       "      <th>retweet_user_reference_id</th>\n",
       "    </tr>\n",
       "    <tr>\n",
       "      <th>twitter_tweetid</th>\n",
       "      <th></th>\n",
       "      <th></th>\n",
       "      <th></th>\n",
       "      <th></th>\n",
       "      <th></th>\n",
       "      <th></th>\n",
       "      <th></th>\n",
       "      <th></th>\n",
       "      <th></th>\n",
       "      <th></th>\n",
       "      <th></th>\n",
       "      <th></th>\n",
       "    </tr>\n",
       "  </thead>\n",
       "  <tbody>\n",
       "    <tr>\n",
       "      <th>1000000000447930368</th>\n",
       "      <td>0.0</td>\n",
       "      <td>1000000000447930368</td>\n",
       "      <td>0</td>\n",
       "      <td>9007</td>\n",
       "      <td>8821</td>\n",
       "      <td>None</td>\n",
       "      <td>ar</td>\n",
       "      <td>2018-05-25 13:05:00</td>\n",
       "      <td>Twitter for iPhone</td>\n",
       "      <td>True</td>\n",
       "      <td>9.986493e+17</td>\n",
       "      <td>4273.0</td>\n",
       "    </tr>\n",
       "    <tr>\n",
       "      <th>1000000030391095297</th>\n",
       "      <td>1.0</td>\n",
       "      <td>1000000030391095297</td>\n",
       "      <td>0</td>\n",
       "      <td>9007</td>\n",
       "      <td>8821</td>\n",
       "      <td>[للتأجير, لبيع النطيطات, زحاليق مائيه صابونية,...</td>\n",
       "      <td>ar</td>\n",
       "      <td>2018-05-25 13:06:00</td>\n",
       "      <td>Twitter for iPhone</td>\n",
       "      <td>True</td>\n",
       "      <td>9.996373e+17</td>\n",
       "      <td>4274.0</td>\n",
       "    </tr>\n",
       "    <tr>\n",
       "      <th>1000000039362662400</th>\n",
       "      <td>2.0</td>\n",
       "      <td>1000000039362662400</td>\n",
       "      <td>0</td>\n",
       "      <td>9007</td>\n",
       "      <td>8821</td>\n",
       "      <td>[مظلات, آفاق الرياض, مظلات استراحات, مظلات مسا...</td>\n",
       "      <td>ar</td>\n",
       "      <td>2018-05-25 13:06:00</td>\n",
       "      <td>Twitter for iPhone</td>\n",
       "      <td>True</td>\n",
       "      <td>9.993939e+17</td>\n",
       "      <td>4275.0</td>\n",
       "    </tr>\n",
       "    <tr>\n",
       "      <th>1000000054911033344</th>\n",
       "      <td>3.0</td>\n",
       "      <td>1000000054911033344</td>\n",
       "      <td>1</td>\n",
       "      <td>168</td>\n",
       "      <td>408</td>\n",
       "      <td>None</td>\n",
       "      <td>ar</td>\n",
       "      <td>2018-05-25 13:06:00</td>\n",
       "      <td>Twitter for iPhone</td>\n",
       "      <td>True</td>\n",
       "      <td>9.983516e+17</td>\n",
       "      <td>4276.0</td>\n",
       "    </tr>\n",
       "    <tr>\n",
       "      <th>1000000204865789954</th>\n",
       "      <td>4.0</td>\n",
       "      <td>1000000204865789954</td>\n",
       "      <td>2</td>\n",
       "      <td>1623</td>\n",
       "      <td>2022</td>\n",
       "      <td>None</td>\n",
       "      <td>ar</td>\n",
       "      <td>2018-05-25 13:06:00</td>\n",
       "      <td>غرد بصدقة</td>\n",
       "      <td>False</td>\n",
       "      <td>NaN</td>\n",
       "      <td>NaN</td>\n",
       "    </tr>\n",
       "  </tbody>\n",
       "</table>\n",
       "</div>"
      ],
      "text/plain": [
       "                     unique_tweetid      twitter_tweetid  user_reference_id  \\\n",
       "twitter_tweetid                                                               \n",
       "1000000000447930368             0.0  1000000000447930368                  0   \n",
       "1000000030391095297             1.0  1000000030391095297                  0   \n",
       "1000000039362662400             2.0  1000000039362662400                  0   \n",
       "1000000054911033344             3.0  1000000054911033344                  1   \n",
       "1000000204865789954             4.0  1000000204865789954                  2   \n",
       "\n",
       "                     follower_count  following_count  \\\n",
       "twitter_tweetid                                        \n",
       "1000000000447930368            9007             8821   \n",
       "1000000030391095297            9007             8821   \n",
       "1000000039362662400            9007             8821   \n",
       "1000000054911033344             168              408   \n",
       "1000000204865789954            1623             2022   \n",
       "\n",
       "                                                              hashtags  \\\n",
       "twitter_tweetid                                                          \n",
       "1000000000447930368                                               None   \n",
       "1000000030391095297  [للتأجير, لبيع النطيطات, زحاليق مائيه صابونية,...   \n",
       "1000000039362662400  [مظلات, آفاق الرياض, مظلات استراحات, مظلات مسا...   \n",
       "1000000054911033344                                               None   \n",
       "1000000204865789954                                               None   \n",
       "\n",
       "                    tweet_language          tweet_time   tweet_client_name  \\\n",
       "twitter_tweetid                                                              \n",
       "1000000000447930368             ar 2018-05-25 13:05:00  Twitter for iPhone   \n",
       "1000000030391095297             ar 2018-05-25 13:06:00  Twitter for iPhone   \n",
       "1000000039362662400             ar 2018-05-25 13:06:00  Twitter for iPhone   \n",
       "1000000054911033344             ar 2018-05-25 13:06:00  Twitter for iPhone   \n",
       "1000000204865789954             ar 2018-05-25 13:06:00           غرد بصدقة   \n",
       "\n",
       "                     is_retweet  retweet_tweetid  retweet_user_reference_id  \n",
       "twitter_tweetid                                                              \n",
       "1000000000447930368        True     9.986493e+17                     4273.0  \n",
       "1000000030391095297        True     9.996373e+17                     4274.0  \n",
       "1000000039362662400        True     9.993939e+17                     4275.0  \n",
       "1000000054911033344        True     9.983516e+17                     4276.0  \n",
       "1000000204865789954       False              NaN                        NaN  "
      ]
     },
     "execution_count": 36,
     "metadata": {},
     "output_type": "execute_result"
    }
   ],
   "source": [
    "ddf_merged_dropped.head()"
   ]
  },
  {
   "cell_type": "code",
   "execution_count": 37,
   "metadata": {},
   "outputs": [
    {
     "data": {
      "text/plain": [
       "35347002"
      ]
     },
     "execution_count": 37,
     "metadata": {},
     "output_type": "execute_result"
    }
   ],
   "source": [
    "ddf_merged_dropped.shape[0].compute()"
   ]
  },
  {
   "cell_type": "code",
   "execution_count": 38,
   "metadata": {},
   "outputs": [
    {
     "data": {
      "text/plain": [
       "6145783"
      ]
     },
     "execution_count": 38,
     "metadata": {},
     "output_type": "execute_result"
    }
   ],
   "source": [
    "ddf_tweets_hashtags.shape[0].compute()"
   ]
  },
  {
   "cell_type": "code",
   "execution_count": 39,
   "metadata": {},
   "outputs": [
    {
     "data": {
      "text/plain": [
       "True"
      ]
     },
     "execution_count": 39,
     "metadata": {},
     "output_type": "execute_result"
    }
   ],
   "source": [
    "ddf_tweets_hashtags.known_divisions"
   ]
  },
  {
   "cell_type": "markdown",
   "metadata": {},
   "source": [
    "One more thing to do before we can perform the join:\n",
    "\n",
    "Replace the NaNs in ddf_merged_dropped's **retweet_tweetid** column with something else. This to avoid the join joining on the NaN values."
   ]
  },
  {
   "cell_type": "code",
   "execution_count": 40,
   "metadata": {},
   "outputs": [],
   "source": [
    "# fill NaNs with 999\n",
    "ddf_merged_dropped.retweet_tweetid = ddf_merged_dropped.retweet_tweetid.fillna(999).persist()"
   ]
  },
  {
   "cell_type": "code",
   "execution_count": 41,
   "metadata": {},
   "outputs": [
    {
     "data": {
      "text/plain": [
       "0"
      ]
     },
     "execution_count": 41,
     "metadata": {},
     "output_type": "execute_result"
    }
   ],
   "source": [
    "ddf_merged_dropped.retweet_tweetid.isnull().sum().compute()"
   ]
  },
  {
   "cell_type": "code",
   "execution_count": 42,
   "metadata": {},
   "outputs": [
    {
     "data": {
      "text/plain": [
       "35347002"
      ]
     },
     "execution_count": 42,
     "metadata": {},
     "output_type": "execute_result"
    }
   ],
   "source": [
    "ddf_merged_dropped.shape[0].compute()"
   ]
  },
  {
   "cell_type": "code",
   "execution_count": 43,
   "metadata": {},
   "outputs": [
    {
     "data": {
      "text/plain": [
       "unique_tweetid                        int64\n",
       "twitter_tweetid                      object\n",
       "user_reference_id                     int64\n",
       "follower_count                        int64\n",
       "following_count                       int64\n",
       "hashtags                             object\n",
       "tweet_language                       object\n",
       "tweet_time                   datetime64[ns]\n",
       "tweet_client_name                    object\n",
       "is_retweet                             bool\n",
       "retweet_tweetid                     float64\n",
       "retweet_user_reference_id           float64\n",
       "dtype: object"
      ]
     },
     "execution_count": 43,
     "metadata": {},
     "output_type": "execute_result"
    }
   ],
   "source": [
    "# retweet column still dtype float?\n",
    "ddf_merged_dropped.dtypes"
   ]
  },
  {
   "cell_type": "code",
   "execution_count": 44,
   "metadata": {},
   "outputs": [
    {
     "data": {
      "text/plain": [
       "index                int64\n",
       "tweet_text          object\n",
       "hashtags            object\n",
       "is_retweet            bool\n",
       "retweet_tweetid    float64\n",
       "dtype: object"
      ]
     },
     "execution_count": 44,
     "metadata": {},
     "output_type": "execute_result"
    }
   ],
   "source": [
    "ddf_tweets_hashtags.dtypes"
   ]
  },
  {
   "cell_type": "markdown",
   "metadata": {},
   "source": [
    "OK, ready to execute join."
   ]
  },
  {
   "cell_type": "code",
   "execution_count": 45,
   "metadata": {},
   "outputs": [
    {
     "name": "stdout",
     "output_type": "stream",
     "text": [
      "CPU times: user 6.56 s, sys: 287 ms, total: 6.85 s\n",
      "Wall time: 7.76 s\n"
     ]
    }
   ],
   "source": [
    "%%time\n",
    "# execute left join\n",
    "# takes a minute or two to run on the cluster\n",
    "ddf_final = ddf_merged_dropped.merge(\n",
    "                    ddf_tweets_hashtags[\n",
    "                        [\"index\", 'retweet_tweetid']\n",
    "                    ],\n",
    "                    how=\"left\",\n",
    "                    on=\"retweet_tweetid\"\n",
    ").persist()"
   ]
  },
  {
   "cell_type": "code",
   "execution_count": 46,
   "metadata": {},
   "outputs": [
    {
     "data": {
      "text/html": [
       "<div>\n",
       "<style scoped>\n",
       "    .dataframe tbody tr th:only-of-type {\n",
       "        vertical-align: middle;\n",
       "    }\n",
       "\n",
       "    .dataframe tbody tr th {\n",
       "        vertical-align: top;\n",
       "    }\n",
       "\n",
       "    .dataframe thead th {\n",
       "        text-align: right;\n",
       "    }\n",
       "</style>\n",
       "<table border=\"1\" class=\"dataframe\">\n",
       "  <thead>\n",
       "    <tr style=\"text-align: right;\">\n",
       "      <th></th>\n",
       "      <th>unique_tweetid</th>\n",
       "      <th>twitter_tweetid</th>\n",
       "      <th>user_reference_id</th>\n",
       "      <th>follower_count</th>\n",
       "      <th>following_count</th>\n",
       "      <th>hashtags</th>\n",
       "      <th>tweet_language</th>\n",
       "      <th>tweet_time</th>\n",
       "      <th>tweet_client_name</th>\n",
       "      <th>is_retweet</th>\n",
       "      <th>retweet_tweetid</th>\n",
       "      <th>retweet_user_reference_id</th>\n",
       "      <th>index</th>\n",
       "    </tr>\n",
       "  </thead>\n",
       "  <tbody>\n",
       "    <tr>\n",
       "      <th>0</th>\n",
       "      <td>275.0</td>\n",
       "      <td>1000011728917291009</td>\n",
       "      <td>10</td>\n",
       "      <td>4962</td>\n",
       "      <td>4547</td>\n",
       "      <td>[الخليج التجارى, دبى, القناة المائية]</td>\n",
       "      <td>ar</td>\n",
       "      <td>2018-05-25 13:52:00</td>\n",
       "      <td>Twitter for iPhone</td>\n",
       "      <td>True</td>\n",
       "      <td>9.997086e+17</td>\n",
       "      <td>4381.0</td>\n",
       "      <td>275.0</td>\n",
       "    </tr>\n",
       "    <tr>\n",
       "      <th>1</th>\n",
       "      <td>981.0</td>\n",
       "      <td>1000069946448273408</td>\n",
       "      <td>0</td>\n",
       "      <td>9007</td>\n",
       "      <td>8821</td>\n",
       "      <td>None</td>\n",
       "      <td>ar</td>\n",
       "      <td>2018-05-25 17:43:00</td>\n",
       "      <td>Twitter for iPhone</td>\n",
       "      <td>True</td>\n",
       "      <td>9.998270e+17</td>\n",
       "      <td>4341.0</td>\n",
       "      <td>981.0</td>\n",
       "    </tr>\n",
       "    <tr>\n",
       "      <th>2</th>\n",
       "      <td>1156.0</td>\n",
       "      <td>1000074572362866689</td>\n",
       "      <td>88</td>\n",
       "      <td>4540</td>\n",
       "      <td>4732</td>\n",
       "      <td>[الرياض, الرياض الآن, الدمام, الدمام الآن, الق...</td>\n",
       "      <td>ar</td>\n",
       "      <td>2018-05-25 18:02:00</td>\n",
       "      <td>Twitter for Android</td>\n",
       "      <td>True</td>\n",
       "      <td>9.992870e+17</td>\n",
       "      <td>4719.0</td>\n",
       "      <td>NaN</td>\n",
       "    </tr>\n",
       "    <tr>\n",
       "      <th>3</th>\n",
       "      <td>1249.0</td>\n",
       "      <td>1000077564696768518</td>\n",
       "      <td>0</td>\n",
       "      <td>9007</td>\n",
       "      <td>8821</td>\n",
       "      <td>[جيوشيلد, حماية, رمضان, عروض رمضان]</td>\n",
       "      <td>ar</td>\n",
       "      <td>2018-05-25 18:14:00</td>\n",
       "      <td>Twitter for iPhone</td>\n",
       "      <td>True</td>\n",
       "      <td>9.978252e+17</td>\n",
       "      <td>4347.0</td>\n",
       "      <td>1249.0</td>\n",
       "    </tr>\n",
       "    <tr>\n",
       "      <th>4</th>\n",
       "      <td>1249.0</td>\n",
       "      <td>1000099542241628160</td>\n",
       "      <td>66</td>\n",
       "      <td>4607</td>\n",
       "      <td>4843</td>\n",
       "      <td>[جيوشيلد, حماية, رمضان, عروض رمضان]</td>\n",
       "      <td>ar</td>\n",
       "      <td>2018-05-25 19:41:00</td>\n",
       "      <td>Twitter for Android</td>\n",
       "      <td>True</td>\n",
       "      <td>9.978252e+17</td>\n",
       "      <td>4347.0</td>\n",
       "      <td>1249.0</td>\n",
       "    </tr>\n",
       "  </tbody>\n",
       "</table>\n",
       "</div>"
      ],
      "text/plain": [
       "   unique_tweetid      twitter_tweetid  user_reference_id  follower_count  \\\n",
       "0           275.0  1000011728917291009                 10            4962   \n",
       "1           981.0  1000069946448273408                  0            9007   \n",
       "2          1156.0  1000074572362866689                 88            4540   \n",
       "3          1249.0  1000077564696768518                  0            9007   \n",
       "4          1249.0  1000099542241628160                 66            4607   \n",
       "\n",
       "   following_count                                           hashtags  \\\n",
       "0             4547              [الخليج التجارى, دبى, القناة المائية]   \n",
       "1             8821                                               None   \n",
       "2             4732  [الرياض, الرياض الآن, الدمام, الدمام الآن, الق...   \n",
       "3             8821                [جيوشيلد, حماية, رمضان, عروض رمضان]   \n",
       "4             4843                [جيوشيلد, حماية, رمضان, عروض رمضان]   \n",
       "\n",
       "  tweet_language          tweet_time    tweet_client_name  is_retweet  \\\n",
       "0             ar 2018-05-25 13:52:00   Twitter for iPhone        True   \n",
       "1             ar 2018-05-25 17:43:00   Twitter for iPhone        True   \n",
       "2             ar 2018-05-25 18:02:00  Twitter for Android        True   \n",
       "3             ar 2018-05-25 18:14:00   Twitter for iPhone        True   \n",
       "4             ar 2018-05-25 19:41:00  Twitter for Android        True   \n",
       "\n",
       "   retweet_tweetid  retweet_user_reference_id   index  \n",
       "0     9.997086e+17                     4381.0   275.0  \n",
       "1     9.998270e+17                     4341.0   981.0  \n",
       "2     9.992870e+17                     4719.0     NaN  \n",
       "3     9.978252e+17                     4347.0  1249.0  \n",
       "4     9.978252e+17                     4347.0  1249.0  "
      ]
     },
     "execution_count": 46,
     "metadata": {},
     "output_type": "execute_result"
    }
   ],
   "source": [
    "ddf_final.head()"
   ]
  },
  {
   "cell_type": "code",
   "execution_count": 47,
   "metadata": {},
   "outputs": [
    {
     "data": {
      "text/plain": [
       "35347002"
      ]
     },
     "execution_count": 47,
     "metadata": {},
     "output_type": "execute_result"
    }
   ],
   "source": [
    "# check shape\n",
    "ddf_final.shape[0].compute()"
   ]
  },
  {
   "cell_type": "markdown",
   "metadata": {},
   "source": [
    "Let's check a sample of our ddf_final for correspondence between **unique_tweetid** and the newly joined **index**. These should be the same."
   ]
  },
  {
   "cell_type": "code",
   "execution_count": 48,
   "metadata": {},
   "outputs": [
    {
     "data": {
      "text/html": [
       "<div>\n",
       "<style scoped>\n",
       "    .dataframe tbody tr th:only-of-type {\n",
       "        vertical-align: middle;\n",
       "    }\n",
       "\n",
       "    .dataframe tbody tr th {\n",
       "        vertical-align: top;\n",
       "    }\n",
       "\n",
       "    .dataframe thead th {\n",
       "        text-align: right;\n",
       "    }\n",
       "</style>\n",
       "<table border=\"1\" class=\"dataframe\">\n",
       "  <thead>\n",
       "    <tr style=\"text-align: right;\">\n",
       "      <th></th>\n",
       "      <th>unique_tweetid</th>\n",
       "      <th>twitter_tweetid</th>\n",
       "      <th>retweet_tweetid</th>\n",
       "      <th>index</th>\n",
       "    </tr>\n",
       "  </thead>\n",
       "  <tbody>\n",
       "    <tr>\n",
       "      <th>37559</th>\n",
       "      <td>5447465.0</td>\n",
       "      <td>885864270797393921</td>\n",
       "      <td>8.856847e+17</td>\n",
       "      <td>5447465.0</td>\n",
       "    </tr>\n",
       "    <tr>\n",
       "      <th>9977</th>\n",
       "      <td>1580981.0</td>\n",
       "      <td>1143030293374394368</td>\n",
       "      <td>1.142064e+18</td>\n",
       "      <td>1580981.0</td>\n",
       "    </tr>\n",
       "    <tr>\n",
       "      <th>40477</th>\n",
       "      <td>5837503.0</td>\n",
       "      <td>955915527427411969</td>\n",
       "      <td>9.558111e+17</td>\n",
       "      <td>NaN</td>\n",
       "    </tr>\n",
       "    <tr>\n",
       "      <th>31653</th>\n",
       "      <td>4845687.0</td>\n",
       "      <td>791917788285722624</td>\n",
       "      <td>7.918077e+17</td>\n",
       "      <td>NaN</td>\n",
       "    </tr>\n",
       "    <tr>\n",
       "      <th>35908</th>\n",
       "      <td>23.0</td>\n",
       "      <td>855872250574245888</td>\n",
       "      <td>8.558364e+17</td>\n",
       "      <td>NaN</td>\n",
       "    </tr>\n",
       "    <tr>\n",
       "      <th>3071</th>\n",
       "      <td>777588.0</td>\n",
       "      <td>1089483720405516288</td>\n",
       "      <td>1.083514e+18</td>\n",
       "      <td>777588.0</td>\n",
       "    </tr>\n",
       "    <tr>\n",
       "      <th>26802</th>\n",
       "      <td>4344023.0</td>\n",
       "      <td>718102313014063105</td>\n",
       "      <td>7.174532e+17</td>\n",
       "      <td>NaN</td>\n",
       "    </tr>\n",
       "    <tr>\n",
       "      <th>1856</th>\n",
       "      <td>373738.0</td>\n",
       "      <td>1068849280960606209</td>\n",
       "      <td>1.051647e+18</td>\n",
       "      <td>373738.0</td>\n",
       "    </tr>\n",
       "    <tr>\n",
       "      <th>40294</th>\n",
       "      <td>5842468.0</td>\n",
       "      <td>948042603714539520</td>\n",
       "      <td>9.480423e+17</td>\n",
       "      <td>5842468.0</td>\n",
       "    </tr>\n",
       "    <tr>\n",
       "      <th>18543</th>\n",
       "      <td>1789480.0</td>\n",
       "      <td>1195388577699356672</td>\n",
       "      <td>1.195220e+18</td>\n",
       "      <td>NaN</td>\n",
       "    </tr>\n",
       "  </tbody>\n",
       "</table>\n",
       "</div>"
      ],
      "text/plain": [
       "       unique_tweetid      twitter_tweetid  retweet_tweetid      index\n",
       "37559       5447465.0   885864270797393921     8.856847e+17  5447465.0\n",
       "9977        1580981.0  1143030293374394368     1.142064e+18  1580981.0\n",
       "40477       5837503.0   955915527427411969     9.558111e+17        NaN\n",
       "31653       4845687.0   791917788285722624     7.918077e+17        NaN\n",
       "35908            23.0   855872250574245888     8.558364e+17        NaN\n",
       "3071         777588.0  1089483720405516288     1.083514e+18   777588.0\n",
       "26802       4344023.0   718102313014063105     7.174532e+17        NaN\n",
       "1856         373738.0  1068849280960606209     1.051647e+18   373738.0\n",
       "40294       5842468.0   948042603714539520     9.480423e+17  5842468.0\n",
       "18543       1789480.0  1195388577699356672     1.195220e+18        NaN"
      ]
     },
     "execution_count": 48,
     "metadata": {},
     "output_type": "execute_result"
    }
   ],
   "source": [
    "# check sample \n",
    "ddf_final[['unique_tweetid', 'twitter_tweetid', 'retweet_tweetid', 'index']].sample(frac=0.001, random_state=27).head(10)"
   ]
  },
  {
   "cell_type": "markdown",
   "metadata": {},
   "source": [
    "The merge worked.\n",
    "\n",
    "Now replace all NaN values in 'unique_tweetid' with the corresponding 'index' value."
   ]
  },
  {
   "cell_type": "code",
   "execution_count": 49,
   "metadata": {},
   "outputs": [
    {
     "data": {
      "text/plain": [
       "65349"
      ]
     },
     "execution_count": 49,
     "metadata": {},
     "output_type": "execute_result"
    }
   ],
   "source": [
    "# check number of tweets with no unique_tweetid\n",
    "ddf_final.unique_tweetid[ddf_final.unique_tweetid.isnull()].shape[0].compute()"
   ]
  },
  {
   "cell_type": "code",
   "execution_count": 50,
   "metadata": {},
   "outputs": [],
   "source": [
    "# replace NaNs in unique_tweetid with value in index column\n",
    "ddf_final.unique_tweetid = ddf_final.unique_tweetid.fillna(ddf_final['index']).persist()"
   ]
  },
  {
   "cell_type": "code",
   "execution_count": 51,
   "metadata": {},
   "outputs": [
    {
     "name": "stdout",
     "output_type": "stream",
     "text": [
      "65167\n"
     ]
    }
   ],
   "source": [
    "# check number of tweets with no unique_tweetid\n",
    "n_rows_final_null = ddf_final.unique_tweetid[ddf_final.unique_tweetid.isnull()].shape[0].compute()\n",
    "print(n_rows_final_null)"
   ]
  },
  {
   "cell_type": "code",
   "execution_count": 52,
   "metadata": {},
   "outputs": [
    {
     "data": {
      "text/plain": [
       "0.18436358478153253"
      ]
     },
     "execution_count": 52,
     "metadata": {},
     "output_type": "execute_result"
    }
   ],
   "source": [
    "n_rows_final_null / ddf_final.shape[0].compute() * 100"
   ]
  },
  {
   "cell_type": "markdown",
   "metadata": {},
   "source": [
    "Hm, we still have 65k tweets with no unique tweet_id. Just over 0.18%.\n",
    "\n",
    "I've spent too much time on this and need to move on. I will drop these rows for now.\n",
    "\n",
    "We can also drop the 'index' column."
   ]
  },
  {
   "cell_type": "code",
   "execution_count": 53,
   "metadata": {},
   "outputs": [
    {
     "data": {
      "text/html": [
       "<div><strong>Dask DataFrame Structure:</strong></div>\n",
       "<div>\n",
       "<style scoped>\n",
       "    .dataframe tbody tr th:only-of-type {\n",
       "        vertical-align: middle;\n",
       "    }\n",
       "\n",
       "    .dataframe tbody tr th {\n",
       "        vertical-align: top;\n",
       "    }\n",
       "\n",
       "    .dataframe thead th {\n",
       "        text-align: right;\n",
       "    }\n",
       "</style>\n",
       "<table border=\"1\" class=\"dataframe\">\n",
       "  <thead>\n",
       "    <tr style=\"text-align: right;\">\n",
       "      <th></th>\n",
       "      <th>unique_tweetid</th>\n",
       "      <th>twitter_tweetid</th>\n",
       "      <th>user_reference_id</th>\n",
       "      <th>follower_count</th>\n",
       "      <th>following_count</th>\n",
       "      <th>hashtags</th>\n",
       "      <th>tweet_language</th>\n",
       "      <th>tweet_time</th>\n",
       "      <th>tweet_client_name</th>\n",
       "      <th>is_retweet</th>\n",
       "      <th>retweet_tweetid</th>\n",
       "      <th>retweet_user_reference_id</th>\n",
       "    </tr>\n",
       "    <tr>\n",
       "      <th>npartitions=763</th>\n",
       "      <th></th>\n",
       "      <th></th>\n",
       "      <th></th>\n",
       "      <th></th>\n",
       "      <th></th>\n",
       "      <th></th>\n",
       "      <th></th>\n",
       "      <th></th>\n",
       "      <th></th>\n",
       "      <th></th>\n",
       "      <th></th>\n",
       "      <th></th>\n",
       "    </tr>\n",
       "  </thead>\n",
       "  <tbody>\n",
       "    <tr>\n",
       "      <th></th>\n",
       "      <td>int64</td>\n",
       "      <td>object</td>\n",
       "      <td>int64</td>\n",
       "      <td>int64</td>\n",
       "      <td>int64</td>\n",
       "      <td>object</td>\n",
       "      <td>object</td>\n",
       "      <td>datetime64[ns]</td>\n",
       "      <td>object</td>\n",
       "      <td>bool</td>\n",
       "      <td>float64</td>\n",
       "      <td>float64</td>\n",
       "    </tr>\n",
       "    <tr>\n",
       "      <th></th>\n",
       "      <td>...</td>\n",
       "      <td>...</td>\n",
       "      <td>...</td>\n",
       "      <td>...</td>\n",
       "      <td>...</td>\n",
       "      <td>...</td>\n",
       "      <td>...</td>\n",
       "      <td>...</td>\n",
       "      <td>...</td>\n",
       "      <td>...</td>\n",
       "      <td>...</td>\n",
       "      <td>...</td>\n",
       "    </tr>\n",
       "    <tr>\n",
       "      <th>...</th>\n",
       "      <td>...</td>\n",
       "      <td>...</td>\n",
       "      <td>...</td>\n",
       "      <td>...</td>\n",
       "      <td>...</td>\n",
       "      <td>...</td>\n",
       "      <td>...</td>\n",
       "      <td>...</td>\n",
       "      <td>...</td>\n",
       "      <td>...</td>\n",
       "      <td>...</td>\n",
       "      <td>...</td>\n",
       "    </tr>\n",
       "    <tr>\n",
       "      <th></th>\n",
       "      <td>...</td>\n",
       "      <td>...</td>\n",
       "      <td>...</td>\n",
       "      <td>...</td>\n",
       "      <td>...</td>\n",
       "      <td>...</td>\n",
       "      <td>...</td>\n",
       "      <td>...</td>\n",
       "      <td>...</td>\n",
       "      <td>...</td>\n",
       "      <td>...</td>\n",
       "      <td>...</td>\n",
       "    </tr>\n",
       "    <tr>\n",
       "      <th></th>\n",
       "      <td>...</td>\n",
       "      <td>...</td>\n",
       "      <td>...</td>\n",
       "      <td>...</td>\n",
       "      <td>...</td>\n",
       "      <td>...</td>\n",
       "      <td>...</td>\n",
       "      <td>...</td>\n",
       "      <td>...</td>\n",
       "      <td>...</td>\n",
       "      <td>...</td>\n",
       "      <td>...</td>\n",
       "    </tr>\n",
       "  </tbody>\n",
       "</table>\n",
       "</div>\n",
       "<div>Dask Name: drop_by_shallow_copy, 763 tasks</div>"
      ],
      "text/plain": [
       "Dask DataFrame Structure:\n",
       "                unique_tweetid twitter_tweetid user_reference_id follower_count following_count hashtags tweet_language      tweet_time tweet_client_name is_retweet retweet_tweetid retweet_user_reference_id\n",
       "npartitions=763                                                                                                                                                                                               \n",
       "                         int64          object             int64          int64           int64   object         object  datetime64[ns]            object       bool         float64                   float64\n",
       "                           ...             ...               ...            ...             ...      ...            ...             ...               ...        ...             ...                       ...\n",
       "...                        ...             ...               ...            ...             ...      ...            ...             ...               ...        ...             ...                       ...\n",
       "                           ...             ...               ...            ...             ...      ...            ...             ...               ...        ...             ...                       ...\n",
       "                           ...             ...               ...            ...             ...      ...            ...             ...               ...        ...             ...                       ...\n",
       "Dask Name: drop_by_shallow_copy, 763 tasks"
      ]
     },
     "execution_count": 53,
     "metadata": {},
     "output_type": "execute_result"
    }
   ],
   "source": [
    "ddf_final_dropped = ddf_final.dropna(subset=['unique_tweetid'])\n",
    "ddf_final_dropped = ddf_final_dropped.drop(columns=['index'])\n",
    "ddf_final_dropped.persist()"
   ]
  },
  {
   "cell_type": "code",
   "execution_count": 55,
   "metadata": {},
   "outputs": [
    {
     "data": {
      "text/html": [
       "<div>\n",
       "<style scoped>\n",
       "    .dataframe tbody tr th:only-of-type {\n",
       "        vertical-align: middle;\n",
       "    }\n",
       "\n",
       "    .dataframe tbody tr th {\n",
       "        vertical-align: top;\n",
       "    }\n",
       "\n",
       "    .dataframe thead th {\n",
       "        text-align: right;\n",
       "    }\n",
       "</style>\n",
       "<table border=\"1\" class=\"dataframe\">\n",
       "  <thead>\n",
       "    <tr style=\"text-align: right;\">\n",
       "      <th></th>\n",
       "      <th>unique_tweetid</th>\n",
       "      <th>twitter_tweetid</th>\n",
       "      <th>user_reference_id</th>\n",
       "      <th>follower_count</th>\n",
       "      <th>following_count</th>\n",
       "      <th>hashtags</th>\n",
       "      <th>tweet_language</th>\n",
       "      <th>tweet_time</th>\n",
       "      <th>tweet_client_name</th>\n",
       "      <th>is_retweet</th>\n",
       "      <th>retweet_tweetid</th>\n",
       "      <th>retweet_user_reference_id</th>\n",
       "    </tr>\n",
       "  </thead>\n",
       "  <tbody>\n",
       "    <tr>\n",
       "      <th>0</th>\n",
       "      <td>275.0</td>\n",
       "      <td>1000011728917291009</td>\n",
       "      <td>10</td>\n",
       "      <td>4962</td>\n",
       "      <td>4547</td>\n",
       "      <td>[الخليج التجارى, دبى, القناة المائية]</td>\n",
       "      <td>ar</td>\n",
       "      <td>2018-05-25 13:52:00</td>\n",
       "      <td>Twitter for iPhone</td>\n",
       "      <td>True</td>\n",
       "      <td>9.997086e+17</td>\n",
       "      <td>4381.0</td>\n",
       "    </tr>\n",
       "    <tr>\n",
       "      <th>1</th>\n",
       "      <td>981.0</td>\n",
       "      <td>1000069946448273408</td>\n",
       "      <td>0</td>\n",
       "      <td>9007</td>\n",
       "      <td>8821</td>\n",
       "      <td>None</td>\n",
       "      <td>ar</td>\n",
       "      <td>2018-05-25 17:43:00</td>\n",
       "      <td>Twitter for iPhone</td>\n",
       "      <td>True</td>\n",
       "      <td>9.998270e+17</td>\n",
       "      <td>4341.0</td>\n",
       "    </tr>\n",
       "    <tr>\n",
       "      <th>2</th>\n",
       "      <td>1156.0</td>\n",
       "      <td>1000074572362866689</td>\n",
       "      <td>88</td>\n",
       "      <td>4540</td>\n",
       "      <td>4732</td>\n",
       "      <td>[الرياض, الرياض الآن, الدمام, الدمام الآن, الق...</td>\n",
       "      <td>ar</td>\n",
       "      <td>2018-05-25 18:02:00</td>\n",
       "      <td>Twitter for Android</td>\n",
       "      <td>True</td>\n",
       "      <td>9.992870e+17</td>\n",
       "      <td>4719.0</td>\n",
       "    </tr>\n",
       "  </tbody>\n",
       "</table>\n",
       "</div>"
      ],
      "text/plain": [
       "   unique_tweetid      twitter_tweetid  user_reference_id  follower_count  \\\n",
       "0           275.0  1000011728917291009                 10            4962   \n",
       "1           981.0  1000069946448273408                  0            9007   \n",
       "2          1156.0  1000074572362866689                 88            4540   \n",
       "\n",
       "   following_count                                           hashtags  \\\n",
       "0             4547              [الخليج التجارى, دبى, القناة المائية]   \n",
       "1             8821                                               None   \n",
       "2             4732  [الرياض, الرياض الآن, الدمام, الدمام الآن, الق...   \n",
       "\n",
       "  tweet_language          tweet_time    tweet_client_name  is_retweet  \\\n",
       "0             ar 2018-05-25 13:52:00   Twitter for iPhone        True   \n",
       "1             ar 2018-05-25 17:43:00   Twitter for iPhone        True   \n",
       "2             ar 2018-05-25 18:02:00  Twitter for Android        True   \n",
       "\n",
       "   retweet_tweetid  retweet_user_reference_id  \n",
       "0     9.997086e+17                     4381.0  \n",
       "1     9.998270e+17                     4341.0  \n",
       "2     9.992870e+17                     4719.0  "
      ]
     },
     "execution_count": 55,
     "metadata": {},
     "output_type": "execute_result"
    }
   ],
   "source": [
    "ddf_final_dropped.head(3)"
   ]
  },
  {
   "cell_type": "code",
   "execution_count": 56,
   "metadata": {},
   "outputs": [
    {
     "data": {
      "text/plain": [
       "65167"
      ]
     },
     "execution_count": 56,
     "metadata": {},
     "output_type": "execute_result"
    }
   ],
   "source": [
    "ddf_final.shape[0].compute() - ddf_final_dropped.shape[0].compute()"
   ]
  },
  {
   "cell_type": "markdown",
   "metadata": {},
   "source": [
    "Excellent. \n",
    "\n",
    "Let's set the index to **twitter_tweetid** column and then save this to our s3 bucket."
   ]
  },
  {
   "cell_type": "code",
   "execution_count": 57,
   "metadata": {},
   "outputs": [
    {
     "data": {
      "text/plain": [
       "False"
      ]
     },
     "execution_count": 57,
     "metadata": {},
     "output_type": "execute_result"
    }
   ],
   "source": [
    "# check if divisions are known\n",
    "ddf_final_dropped.known_divisions"
   ]
  },
  {
   "cell_type": "code",
   "execution_count": 58,
   "metadata": {},
   "outputs": [],
   "source": [
    "# set index and drop twitter_tweetid column\n",
    "ddf_final_dropped = ddf_final_dropped.set_index('twitter_tweetid', drop=True).persist()"
   ]
  },
  {
   "cell_type": "code",
   "execution_count": 59,
   "metadata": {},
   "outputs": [
    {
     "data": {
      "text/plain": [
       "True"
      ]
     },
     "execution_count": 59,
     "metadata": {},
     "output_type": "execute_result"
    }
   ],
   "source": [
    "ddf_final_dropped.known_divisions"
   ]
  },
  {
   "cell_type": "code",
   "execution_count": 60,
   "metadata": {},
   "outputs": [
    {
     "data": {
      "text/html": [
       "<div>\n",
       "<style scoped>\n",
       "    .dataframe tbody tr th:only-of-type {\n",
       "        vertical-align: middle;\n",
       "    }\n",
       "\n",
       "    .dataframe tbody tr th {\n",
       "        vertical-align: top;\n",
       "    }\n",
       "\n",
       "    .dataframe thead th {\n",
       "        text-align: right;\n",
       "    }\n",
       "</style>\n",
       "<table border=\"1\" class=\"dataframe\">\n",
       "  <thead>\n",
       "    <tr style=\"text-align: right;\">\n",
       "      <th></th>\n",
       "      <th>unique_tweetid</th>\n",
       "      <th>user_reference_id</th>\n",
       "      <th>follower_count</th>\n",
       "      <th>following_count</th>\n",
       "      <th>hashtags</th>\n",
       "      <th>tweet_language</th>\n",
       "      <th>tweet_time</th>\n",
       "      <th>tweet_client_name</th>\n",
       "      <th>is_retweet</th>\n",
       "      <th>retweet_tweetid</th>\n",
       "      <th>retweet_user_reference_id</th>\n",
       "    </tr>\n",
       "    <tr>\n",
       "      <th>twitter_tweetid</th>\n",
       "      <th></th>\n",
       "      <th></th>\n",
       "      <th></th>\n",
       "      <th></th>\n",
       "      <th></th>\n",
       "      <th></th>\n",
       "      <th></th>\n",
       "      <th></th>\n",
       "      <th></th>\n",
       "      <th></th>\n",
       "      <th></th>\n",
       "    </tr>\n",
       "  </thead>\n",
       "  <tbody>\n",
       "    <tr>\n",
       "      <th>1000000000447930368</th>\n",
       "      <td>0.0</td>\n",
       "      <td>0</td>\n",
       "      <td>9007</td>\n",
       "      <td>8821</td>\n",
       "      <td>None</td>\n",
       "      <td>ar</td>\n",
       "      <td>2018-05-25 13:05:00</td>\n",
       "      <td>Twitter for iPhone</td>\n",
       "      <td>True</td>\n",
       "      <td>9.986493e+17</td>\n",
       "      <td>4273.0</td>\n",
       "    </tr>\n",
       "    <tr>\n",
       "      <th>1000000030391095297</th>\n",
       "      <td>1.0</td>\n",
       "      <td>0</td>\n",
       "      <td>9007</td>\n",
       "      <td>8821</td>\n",
       "      <td>[للتأجير, لبيع النطيطات, زحاليق مائيه صابونية,...</td>\n",
       "      <td>ar</td>\n",
       "      <td>2018-05-25 13:06:00</td>\n",
       "      <td>Twitter for iPhone</td>\n",
       "      <td>True</td>\n",
       "      <td>9.996373e+17</td>\n",
       "      <td>4274.0</td>\n",
       "    </tr>\n",
       "    <tr>\n",
       "      <th>1000000039362662400</th>\n",
       "      <td>2.0</td>\n",
       "      <td>0</td>\n",
       "      <td>9007</td>\n",
       "      <td>8821</td>\n",
       "      <td>[مظلات, آفاق الرياض, مظلات استراحات, مظلات مسا...</td>\n",
       "      <td>ar</td>\n",
       "      <td>2018-05-25 13:06:00</td>\n",
       "      <td>Twitter for iPhone</td>\n",
       "      <td>True</td>\n",
       "      <td>9.993939e+17</td>\n",
       "      <td>4275.0</td>\n",
       "    </tr>\n",
       "  </tbody>\n",
       "</table>\n",
       "</div>"
      ],
      "text/plain": [
       "                     unique_tweetid  user_reference_id  follower_count  \\\n",
       "twitter_tweetid                                                          \n",
       "1000000000447930368             0.0                  0            9007   \n",
       "1000000030391095297             1.0                  0            9007   \n",
       "1000000039362662400             2.0                  0            9007   \n",
       "\n",
       "                     following_count  \\\n",
       "twitter_tweetid                        \n",
       "1000000000447930368             8821   \n",
       "1000000030391095297             8821   \n",
       "1000000039362662400             8821   \n",
       "\n",
       "                                                              hashtags  \\\n",
       "twitter_tweetid                                                          \n",
       "1000000000447930368                                               None   \n",
       "1000000030391095297  [للتأجير, لبيع النطيطات, زحاليق مائيه صابونية,...   \n",
       "1000000039362662400  [مظلات, آفاق الرياض, مظلات استراحات, مظلات مسا...   \n",
       "\n",
       "                    tweet_language          tweet_time   tweet_client_name  \\\n",
       "twitter_tweetid                                                              \n",
       "1000000000447930368             ar 2018-05-25 13:05:00  Twitter for iPhone   \n",
       "1000000030391095297             ar 2018-05-25 13:06:00  Twitter for iPhone   \n",
       "1000000039362662400             ar 2018-05-25 13:06:00  Twitter for iPhone   \n",
       "\n",
       "                     is_retweet  retweet_tweetid  retweet_user_reference_id  \n",
       "twitter_tweetid                                                              \n",
       "1000000000447930368        True     9.986493e+17                     4273.0  \n",
       "1000000030391095297        True     9.996373e+17                     4274.0  \n",
       "1000000039362662400        True     9.993939e+17                     4275.0  "
      ]
     },
     "execution_count": 60,
     "metadata": {},
     "output_type": "execute_result"
    }
   ],
   "source": [
    "ddf_final_dropped.head(3)"
   ]
  },
  {
   "cell_type": "code",
   "execution_count": 61,
   "metadata": {},
   "outputs": [
    {
     "data": {
      "text/plain": [
       "35281835"
      ]
     },
     "execution_count": 61,
     "metadata": {},
     "output_type": "execute_result"
    }
   ],
   "source": [
    "ddf_final_dropped.shape[0].compute()"
   ]
  },
  {
   "cell_type": "markdown",
   "metadata": {},
   "source": [
    "Great, let's save this.\n",
    "\n",
    "We still have more than 35M tweets to work with."
   ]
  },
  {
   "cell_type": "code",
   "execution_count": 62,
   "metadata": {},
   "outputs": [],
   "source": [
    "# save to s3 as parquet\n",
    "ddf_final_dropped.to_parquet('s3://twitter-saudi-us-east-2/interim/ddf_complete_with_tweets_as_indices.parquet',\n",
    "                              engine='pyarrow')"
   ]
  },
  {
   "cell_type": "markdown",
   "metadata": {},
   "source": [
    "# 8. Pre-Processing Unique Tweets\n",
    "\n",
    "In order to process our tweets using a topic-modelling algorithm (LDA), we will have to conduct the necessary pre-processing steps. Many of these steps are specific to Arabic NLP. As such, I'll provide a brief motivation for why each step is necessary.\n",
    "\n",
    "For an in-depth explanation, please see [my Medium article](https://towardsdatascience.com/arabic-nlp-unique-challenges-and-their-solutions-d99e8a87893d) on the topic. \n",
    "\n",
    "0. Remove repeating characters and stop words (technically part of wrangling steps above but will do it here)\n",
    "1. Orthographic Normalisation: necessary to account for alternative spellings and common spelling inconsistencies across dialects\n",
    "2. Dediacritization: removal of diacritics (small symbols above/below characters) to reduce data sparsity.\n",
    "3. Remove stopwords\n",
    "4. Morphological Disambiguation: identifying the most likely meaning and form of the word and its lemma(s)**\n",
    "5. Tokenization\n",
    "\n",
    "** Note: Arabic words have on average ~7 diacritizations and ~3 lemmas *per word* *."
   ]
  },
  {
   "cell_type": "code",
   "execution_count": 64,
   "metadata": {},
   "outputs": [],
   "source": [
    "# drop index column\n",
    "ddf_uniq = ddf_tweets_hashtags.drop(columns=['index']).persist()"
   ]
  },
  {
   "cell_type": "code",
   "execution_count": 65,
   "metadata": {},
   "outputs": [
    {
     "data": {
      "text/html": [
       "<div>\n",
       "<style scoped>\n",
       "    .dataframe tbody tr th:only-of-type {\n",
       "        vertical-align: middle;\n",
       "    }\n",
       "\n",
       "    .dataframe tbody tr th {\n",
       "        vertical-align: top;\n",
       "    }\n",
       "\n",
       "    .dataframe thead th {\n",
       "        text-align: right;\n",
       "    }\n",
       "</style>\n",
       "<table border=\"1\" class=\"dataframe\">\n",
       "  <thead>\n",
       "    <tr style=\"text-align: right;\">\n",
       "      <th></th>\n",
       "      <th>tweet_text</th>\n",
       "      <th>hashtags</th>\n",
       "      <th>is_retweet</th>\n",
       "      <th>retweet_tweetid</th>\n",
       "    </tr>\n",
       "    <tr>\n",
       "      <th>index</th>\n",
       "      <th></th>\n",
       "      <th></th>\n",
       "      <th></th>\n",
       "      <th></th>\n",
       "    </tr>\n",
       "  </thead>\n",
       "  <tbody>\n",
       "    <tr>\n",
       "      <th>0</th>\n",
       "      <td>السلام عليكم ورحمة الله وبركاته مرحبا عملاء م...</td>\n",
       "      <td>None</td>\n",
       "      <td>True</td>\n",
       "      <td>9.986493e+17</td>\n",
       "    </tr>\n",
       "    <tr>\n",
       "      <th>1</th>\n",
       "      <td>للتأجير لبيع النطيطات زحاليق مائيه صابونية مل...</td>\n",
       "      <td>[للتأجير, لبيع النطيطات, زحاليق مائيه صابونية,...</td>\n",
       "      <td>True</td>\n",
       "      <td>9.996373e+17</td>\n",
       "    </tr>\n",
       "    <tr>\n",
       "      <th>2</th>\n",
       "      <td>مظلات وسواتر آفاق الرياض مظلات استراحات مظلات...</td>\n",
       "      <td>[مظلات, آفاق الرياض, مظلات استراحات, مظلات مسا...</td>\n",
       "      <td>True</td>\n",
       "      <td>9.993939e+17</td>\n",
       "    </tr>\n",
       "    <tr>\n",
       "      <th>3</th>\n",
       "      <td>فيديو شاهد مواطن يوثق بالفيديو كميات كبيرة من...</td>\n",
       "      <td>None</td>\n",
       "      <td>True</td>\n",
       "      <td>9.983516e+17</td>\n",
       "    </tr>\n",
       "    <tr>\n",
       "      <th>4</th>\n",
       "      <td>أستغفر الله العظيم وأتوب إليه</td>\n",
       "      <td>None</td>\n",
       "      <td>False</td>\n",
       "      <td>NaN</td>\n",
       "    </tr>\n",
       "  </tbody>\n",
       "</table>\n",
       "</div>"
      ],
      "text/plain": [
       "                                              tweet_text  \\\n",
       "index                                                      \n",
       "0       السلام عليكم ورحمة الله وبركاته مرحبا عملاء م...   \n",
       "1       للتأجير لبيع النطيطات زحاليق مائيه صابونية مل...   \n",
       "2       مظلات وسواتر آفاق الرياض مظلات استراحات مظلات...   \n",
       "3       فيديو شاهد مواطن يوثق بالفيديو كميات كبيرة من...   \n",
       "4                         أستغفر الله العظيم وأتوب إليه    \n",
       "\n",
       "                                                hashtags  is_retweet  \\\n",
       "index                                                                  \n",
       "0                                                   None        True   \n",
       "1      [للتأجير, لبيع النطيطات, زحاليق مائيه صابونية,...        True   \n",
       "2      [مظلات, آفاق الرياض, مظلات استراحات, مظلات مسا...        True   \n",
       "3                                                   None        True   \n",
       "4                                                   None       False   \n",
       "\n",
       "       retweet_tweetid  \n",
       "index                   \n",
       "0         9.986493e+17  \n",
       "1         9.996373e+17  \n",
       "2         9.993939e+17  \n",
       "3         9.983516e+17  \n",
       "4                  NaN  "
      ]
     },
     "execution_count": 65,
     "metadata": {},
     "output_type": "execute_result"
    }
   ],
   "source": [
    "ddf_uniq.head()"
   ]
  },
  {
   "cell_type": "code",
   "execution_count": 66,
   "metadata": {},
   "outputs": [
    {
     "data": {
      "text/plain": [
       "6145783"
      ]
     },
     "execution_count": 66,
     "metadata": {},
     "output_type": "execute_result"
    }
   ],
   "source": [
    "ddf_uniq.shape[0].compute()"
   ]
  },
  {
   "cell_type": "markdown",
   "metadata": {},
   "source": [
    "Alright, let's go ahead and preprocess our 6.1M unique tweets."
   ]
  },
  {
   "cell_type": "markdown",
   "metadata": {},
   "source": [
    "### 8.1. Remove Repeating Characters\n",
    "\n",
    "This is something we could have done earlier on in the data wrangling phase, but let's do it now before continuing. Using the regex pattern below, we will replace any character that is repeated more than twice with a single instance of that character. This is to account for informal text input such as (the Arabic equivalents of): \"yeeeees\" or \"haaaahaaa\", etc."
   ]
  },
  {
   "cell_type": "code",
   "execution_count": 67,
   "metadata": {},
   "outputs": [],
   "source": [
    "# define function\n",
    "def remove_repeating_char(text):\n",
    "    return re.sub(\"(.)\\\\1{2,}\", \"\\\\1\", text)"
   ]
  },
  {
   "cell_type": "code",
   "execution_count": 68,
   "metadata": {},
   "outputs": [
    {
     "data": {
      "text/plain": [
       "'اللة ه'"
      ]
     },
     "execution_count": 68,
     "metadata": {},
     "output_type": "execute_result"
    }
   ],
   "source": [
    "# test\n",
    "remove_repeating_char('اللة هههه')"
   ]
  },
  {
   "cell_type": "markdown",
   "metadata": {},
   "source": [
    "Great, this is working as expected. Let's apply to our dask dataframe."
   ]
  },
  {
   "cell_type": "code",
   "execution_count": 69,
   "metadata": {},
   "outputs": [],
   "source": [
    "# define function map across partitions\n",
    "def map_remove_rep_char(df):\n",
    "    df.tweet_text = df.tweet_text.apply(remove_repeating_char)\n",
    "    return df"
   ]
  },
  {
   "cell_type": "code",
   "execution_count": 70,
   "metadata": {},
   "outputs": [],
   "source": [
    "ddf_uniq = ddf_uniq.map_partitions(map_remove_rep_char).persist()"
   ]
  },
  {
   "cell_type": "markdown",
   "metadata": {},
   "source": [
    "### 8.2. Orthographic Normalization\n",
    "Let's now move on to normalize spellings to account for inconsistencies across dialects and common spelling 'mistakes'. This will reduce data sparsity."
   ]
  },
  {
   "cell_type": "code",
   "execution_count": 72,
   "metadata": {},
   "outputs": [],
   "source": [
    "def ortho_normalize(text):\n",
    "    text = normalize_alef_maksura_ar(text)\n",
    "    text = normalize_alef_ar(text)\n",
    "    text = normalize_teh_marbuta_ar(text)\n",
    "    return text"
   ]
  },
  {
   "cell_type": "code",
   "execution_count": 73,
   "metadata": {},
   "outputs": [],
   "source": [
    "def map_ortho(df):\n",
    "    df.tweet_text = df.tweet_text.apply(ortho_normalize)\n",
    "    return df"
   ]
  },
  {
   "cell_type": "code",
   "execution_count": 74,
   "metadata": {},
   "outputs": [],
   "source": [
    "# map across partitions\n",
    "ddf_uniq = ddf_uniq.map_partitions(map_ortho).persist()"
   ]
  },
  {
   "cell_type": "code",
   "execution_count": 75,
   "metadata": {},
   "outputs": [
    {
     "data": {
      "text/plain": [
       "index\n",
       "915        عرض خاص مركز طرق الجمال الطبي تنظيف الاسنان ت...\n",
       "48117      كاس العالم علي بي اوت رتويت شهري اشتراك رتويت...\n",
       "74594      لحم برمه علي كيف كيفك السعوديه الدمام الخبر م...\n",
       "135340     نفسيتي محتاجه ادعس علي شواربك ابوك لاابو اللي...\n",
       "48656      واكيد هتشجع منتخب الاورجواي الشقيق ضد منتخبنا...\n",
       "151018     صفَت لك الايــام والا ماصفت المجد غـايه للرجـ...\n",
       "3647       اللهم ادخل السرور والحبور في نفوس العرب الشرف...\n",
       "89270      اللهم احتويني برحمتك وتولَّني بقُدرتك ولا تخز...\n",
       "79808     هيكل سمكه القنفذ سم هذه السمكه علي الكائنات ال...\n",
       "17187      مهندس مصري محكوم عليه بالاعدام في السعوديه يس...\n",
       "Name: tweet_text, dtype: object"
      ]
     },
     "execution_count": 75,
     "metadata": {},
     "output_type": "execute_result"
    }
   ],
   "source": [
    "ddf_uniq.tweet_text.sample(frac=0.0001, random_state=21).head(10)"
   ]
  },
  {
   "cell_type": "markdown",
   "metadata": {},
   "source": [
    "### 8.3. Dediacritization\n",
    "Now let's proceed to remove the diacritics, again to significnatly reduce data sparsity.\n",
    "\n",
    "*NB: diacritics are, loosely put, the Arabic equivalent of vowels. They are symbols written above or below the main characters that change the pronunciation (and possibly the meaning) of the word. This means that, technically speaking, the different words can **look** the same when we remove the diacritics. However, fluent Arabic-speaking people can ascertain the correct meaning of the word from context. For example, most Arabic newspapers are written without the diacritics.*\n",
    "\n",
    "We use the **dediac_ar** function included in the **camel_tools** library."
   ]
  },
  {
   "cell_type": "code",
   "execution_count": 76,
   "metadata": {},
   "outputs": [],
   "source": [
    "def map_dediac(df):\n",
    "    df.tweet_text = df.tweet_text.apply(dediac_ar)\n",
    "    return df"
   ]
  },
  {
   "cell_type": "code",
   "execution_count": 77,
   "metadata": {},
   "outputs": [],
   "source": [
    "ddf_uniq = ddf_uniq.map_partitions(map_dediac).persist()"
   ]
  },
  {
   "cell_type": "code",
   "execution_count": 78,
   "metadata": {},
   "outputs": [
    {
     "data": {
      "text/plain": [
       "index\n",
       "151704                قروب ريم الملكيه اهداء لنونا الغامدي \n",
       "75433      خل الوجيه المظلمه والكئيبه اللي بها الهجران ك...\n",
       "8750                                      الف مبروك يا بطل \n",
       "40080      هديتك مع فلل بريرا حطين حاب تشتغل وتزود دخلك ...\n",
       "25114      احسن الله عزاءكم وجبر مصابكم وغفرا الله لها و...\n",
       "92645      للاعلانات التواصل علي الواتساب مستشفيات بيع م...\n",
       "42559      المشكله الحقيقيه انها بتاخد اكتر من وقتها علي...\n",
       "40959      بس بقول شو شعورك الامارات رهف تناشد الملك سلم...\n",
       "50978     انتي اللي احلي واجمل عيد اونتي حتتي انتي احلي ...\n",
       "68706      هاشتاج السيسي مش هيرحل يقترب من رقم مليون مشا...\n",
       "Name: tweet_text, dtype: object"
      ]
     },
     "execution_count": 78,
     "metadata": {},
     "output_type": "execute_result"
    }
   ],
   "source": [
    "ddf_uniq.tweet_text.sample(frac=0.0001, random_state=2).head(10)"
   ]
  },
  {
   "cell_type": "markdown",
   "metadata": {},
   "source": [
    "### 8.4. Morphological Analysis\n",
    "Arabic has a very rich inflectional system. A verb could have up to 5400 inflections (compared to 6 in English and 1 in Chinese). So the trick is knowing...what does a word mean? Especially when stripped of its diacritics?\n",
    "\n",
    "CAMeL Tools allows us to perform analysis against a morphological database to get all of that word's possible meanings. We can then select one."
   ]
  },
  {
   "cell_type": "code",
   "execution_count": 79,
   "metadata": {},
   "outputs": [
    {
     "name": "stdout",
     "output_type": "stream",
     "text": [
      "{'diac': 'سَيُحاسِب', 'lex': 'حاسَب_1', 'bw': 'سَ/FUT_PART+يُ/IV3MS+حاسِب/IV', 'gloss': 'will_+_he;it+hold_responsible;get_even_with', 'pos': 'verb', 'prc3': '0', 'prc2': '0', 'prc1': 'sa_fut', 'prc0': '0', 'per': '3', 'asp': 'i', 'vox': 'a', 'mod': 'i', 'stt': 'na', 'cas': 'na', 'enc0': '0', 'rat': 'n', 'source': 'lex', 'form_gen': 'm', 'form_num': 's', 'pattern': 'سَيُ1ا2ِ3', 'root': 'ح.س.ب', 'catib6': 'PRT+VRB', 'ud': 'AUX+VERB', 'd1seg': 'سَيُحاسِب', 'd1tok': 'سَيُحاسِب', 'atbseg': 'سَ+_يُحاسِب', 'd3seg': 'سَ+_يُحاسِب', 'd2seg': 'سَ+_يُحاسِب', 'd2tok': 'سَ+_يُحاسِب', 'atbtok': 'سَ+_يُحاسِب', 'd3tok': 'سَ+_يُحاسِب', 'bwtok': 'سَ+_يُ+_حاسِب', 'pos_lex_logprob': -5.099521, 'caphi': 's_a_y_u_7_aa_s_i_b', 'pos_logprob': -1.023208, 'gen': 'm', 'lex_logprob': -5.099521, 'num': 's', 'stem': 'حاسِب', 'stemgloss': 'hold_responsible;get_even_with', 'stemcat': 'IV_yu'} \n",
      "\n"
     ]
    }
   ],
   "source": [
    "# First, we need to load a morphological database.\n",
    "# Here, we load the default database which is used for analyzing\n",
    "# Modern Standard Arabic. \n",
    "db = MorphologyDB.builtin_db()\n",
    "\n",
    "analyzer = Analyzer(db)\n",
    "\n",
    "analyses = analyzer.analyze('سيحاسب')\n",
    "\n",
    "for analysis in analyses:\n",
    "    print(analysis, '\\n')"
   ]
  },
  {
   "cell_type": "markdown",
   "metadata": {},
   "source": [
    "This only works per single word. \n",
    "\n",
    "Since we are working with longer strings (more than 6 million of them, in fact) it's better to just select the first analysis (analyses are sorted from most likely to least likely) and perform Morphological Disambiguation, see below."
   ]
  },
  {
   "cell_type": "markdown",
   "metadata": {},
   "source": [
    "### 8.5. Simple Word Tokenize\n",
    "\n",
    "Before we can perform Morpohological Disambiguation (select a particular meaning and form of our word from the range of possibilities), we need to perform a simple word tokenizing in order to be able to feed these into the disambiguating algorithm."
   ]
  },
  {
   "cell_type": "markdown",
   "metadata": {},
   "source": [
    "While testing this tool, we discovered that the word يارب was not being tokenized correctly.  It is, in fact, two words, but because some tweets include it as one word it was getting processed incorrectly. Therefore, let's first split the instances of يارب and insert a whitespace in between them so that it's tokenized properly."
   ]
  },
  {
   "cell_type": "code",
   "execution_count": 80,
   "metadata": {},
   "outputs": [
    {
     "data": {
      "text/plain": [
       "' يارب سوره بالتوفيق يارب اوقاف القران'"
      ]
     },
     "execution_count": 80,
     "metadata": {},
     "output_type": "execute_result"
    }
   ],
   "source": [
    "# testing on a single sentence\n",
    "sentence = ' يارب سوره بالتوفيق يارب اوقاف القران'\n",
    "sentence"
   ]
  },
  {
   "cell_type": "code",
   "execution_count": 81,
   "metadata": {},
   "outputs": [],
   "source": [
    "# define variables with strings to avoid problems with right-to-left order in .replace() call\n",
    "yarab = 'يارب'\n",
    "ya_rab = 'يا رب'"
   ]
  },
  {
   "cell_type": "code",
   "execution_count": 82,
   "metadata": {},
   "outputs": [
    {
     "data": {
      "text/plain": [
       "' يا رب سوره بالتوفيق يا رب اوقاف القران'"
      ]
     },
     "execution_count": 82,
     "metadata": {},
     "output_type": "execute_result"
    }
   ],
   "source": [
    "sentence.replace(yarab, ya_rab)"
   ]
  },
  {
   "cell_type": "code",
   "execution_count": 83,
   "metadata": {},
   "outputs": [],
   "source": [
    "def split_yarab(text):\n",
    "    text = text.replace(yarab, ya_rab)\n",
    "    return text"
   ]
  },
  {
   "cell_type": "code",
   "execution_count": 84,
   "metadata": {},
   "outputs": [],
   "source": [
    "def map_split_yarab(df):\n",
    "    df.tweet_text = df.tweet_text.apply(split_yarab)\n",
    "    return df"
   ]
  },
  {
   "cell_type": "code",
   "execution_count": 85,
   "metadata": {},
   "outputs": [],
   "source": [
    "# map across partitions\n",
    "ddf_uniq = ddf_uniq.map_partitions(map_split_yarab).persist()"
   ]
  },
  {
   "cell_type": "markdown",
   "metadata": {},
   "source": [
    "Done. Let's now apply the simple_word_tokenizer across partitions."
   ]
  },
  {
   "cell_type": "code",
   "execution_count": 86,
   "metadata": {},
   "outputs": [],
   "source": [
    "def map_simple_tokenizer(df):\n",
    "    df.tweet_text = df.tweet_text.apply(simple_word_tokenize)\n",
    "    return df"
   ]
  },
  {
   "cell_type": "code",
   "execution_count": 87,
   "metadata": {},
   "outputs": [],
   "source": [
    "# map across partitions\n",
    "ddf_uniq = ddf_uniq.map_partitions(map_simple_tokenizer).persist()"
   ]
  },
  {
   "cell_type": "code",
   "execution_count": 88,
   "metadata": {},
   "outputs": [
    {
     "data": {
      "text/html": [
       "<div>\n",
       "<style scoped>\n",
       "    .dataframe tbody tr th:only-of-type {\n",
       "        vertical-align: middle;\n",
       "    }\n",
       "\n",
       "    .dataframe tbody tr th {\n",
       "        vertical-align: top;\n",
       "    }\n",
       "\n",
       "    .dataframe thead th {\n",
       "        text-align: right;\n",
       "    }\n",
       "</style>\n",
       "<table border=\"1\" class=\"dataframe\">\n",
       "  <thead>\n",
       "    <tr style=\"text-align: right;\">\n",
       "      <th></th>\n",
       "      <th>tweet_text</th>\n",
       "      <th>hashtags</th>\n",
       "      <th>is_retweet</th>\n",
       "      <th>retweet_tweetid</th>\n",
       "    </tr>\n",
       "    <tr>\n",
       "      <th>index</th>\n",
       "      <th></th>\n",
       "      <th></th>\n",
       "      <th></th>\n",
       "      <th></th>\n",
       "    </tr>\n",
       "  </thead>\n",
       "  <tbody>\n",
       "    <tr>\n",
       "      <th>0</th>\n",
       "      <td>[السلام, عليكم, ورحمه, الله, وبركاته, مرحبا, ع...</td>\n",
       "      <td>None</td>\n",
       "      <td>True</td>\n",
       "      <td>9.986493e+17</td>\n",
       "    </tr>\n",
       "    <tr>\n",
       "      <th>1</th>\n",
       "      <td>[للتاجير, لبيع, النطيطات, زحاليق, مائيه, صابون...</td>\n",
       "      <td>[للتأجير, لبيع النطيطات, زحاليق مائيه صابونية,...</td>\n",
       "      <td>True</td>\n",
       "      <td>9.996373e+17</td>\n",
       "    </tr>\n",
       "    <tr>\n",
       "      <th>2</th>\n",
       "      <td>[مظلات, وسواتر, افاق, الرياض, مظلات, استراحات,...</td>\n",
       "      <td>[مظلات, آفاق الرياض, مظلات استراحات, مظلات مسا...</td>\n",
       "      <td>True</td>\n",
       "      <td>9.993939e+17</td>\n",
       "    </tr>\n",
       "    <tr>\n",
       "      <th>3</th>\n",
       "      <td>[فيديو, شاهد, مواطن, يوثق, بالفيديو, كميات, كب...</td>\n",
       "      <td>None</td>\n",
       "      <td>True</td>\n",
       "      <td>9.983516e+17</td>\n",
       "    </tr>\n",
       "    <tr>\n",
       "      <th>4</th>\n",
       "      <td>[استغفر, الله, العظيم, واتوب, اليه]</td>\n",
       "      <td>None</td>\n",
       "      <td>False</td>\n",
       "      <td>NaN</td>\n",
       "    </tr>\n",
       "  </tbody>\n",
       "</table>\n",
       "</div>"
      ],
      "text/plain": [
       "                                              tweet_text  \\\n",
       "index                                                      \n",
       "0      [السلام, عليكم, ورحمه, الله, وبركاته, مرحبا, ع...   \n",
       "1      [للتاجير, لبيع, النطيطات, زحاليق, مائيه, صابون...   \n",
       "2      [مظلات, وسواتر, افاق, الرياض, مظلات, استراحات,...   \n",
       "3      [فيديو, شاهد, مواطن, يوثق, بالفيديو, كميات, كب...   \n",
       "4                    [استغفر, الله, العظيم, واتوب, اليه]   \n",
       "\n",
       "                                                hashtags  is_retweet  \\\n",
       "index                                                                  \n",
       "0                                                   None        True   \n",
       "1      [للتأجير, لبيع النطيطات, زحاليق مائيه صابونية,...        True   \n",
       "2      [مظلات, آفاق الرياض, مظلات استراحات, مظلات مسا...        True   \n",
       "3                                                   None        True   \n",
       "4                                                   None       False   \n",
       "\n",
       "       retweet_tweetid  \n",
       "index                   \n",
       "0         9.986493e+17  \n",
       "1         9.996373e+17  \n",
       "2         9.993939e+17  \n",
       "3         9.983516e+17  \n",
       "4                  NaN  "
      ]
     },
     "execution_count": 88,
     "metadata": {},
     "output_type": "execute_result"
    }
   ],
   "source": [
    "ddf_uniq.head()"
   ]
  },
  {
   "cell_type": "markdown",
   "metadata": {},
   "source": [
    "### 8.6. Removing Stop Words\n",
    "\n",
    "Using [this Github text file](https://github.com/mohataher/arabic-stop-words), we will define our set of Arabic stop words to remove from the tokenized tweet_text column."
   ]
  },
  {
   "cell_type": "code",
   "execution_count": 89,
   "metadata": {},
   "outputs": [
    {
     "name": "stdout",
     "output_type": "stream",
     "text": [
      "['،', 'ء', 'ءَ', 'آ', 'آب', 'آذار', 'آض', 'آل', 'آمينَ', 'آناء', 'آنفا', 'آه', 'آهاً', 'آهٍ', 'آهِ', 'أ', 'أبدا', 'أبريل', 'أبو', 'أبٌ', 'أجل', 'أجمع', 'أحد', 'أخبر', 'أخذ', 'أخو', 'أخٌ', 'أربع', 'أربعاء', 'أربعة', 'أربعمئة', 'أربعمائة', 'أرى', 'أسكن', 'أصبح', 'أصلا', 'أضحى', 'أطعم', 'أعطى', 'أعلم', 'أغسطس', 'أفريل', 'أفعل به', 'أفٍّ', 'أقبل', 'أكتوبر', 'أل', 'ألا', 'ألف', 'ألفى', 'أم', 'أما', 'أمام', 'أمامك', 'أمامكَ', 'أمد', 'أمس', 'أمسى', 'أمّا', 'أن', 'أنا', 'أنبأ', 'أنت', 'أنتم', 'أنتما', 'أنتن', 'أنتِ', 'أنشأ', 'أنه', 'أنًّ', 'أنّى', 'أهلا', 'أو', 'أوت', 'أوشك', 'أول', 'أولئك', 'أولاء', 'أولالك', 'أوّهْ', 'أى', 'أي', 'أيا', 'أيار', 'أيضا', 'أيلول', 'أين', 'أيّ', 'أيّان', 'أُفٍّ', 'ؤ', 'إحدى', 'إذ', 'إذا', 'إذاً', 'إذما', 'إذن', 'إزاء', 'إلى', 'إلي', 'إليكم', 'إليكما', 'إليكنّ', 'إليكَ', 'إلَيْكَ', 'إلّا', 'إمّا', 'إن', 'إنَّ', 'إى', 'إياك', 'إياكم', 'إياكما', 'إياكن', 'إيانا', 'إياه', 'إياها', 'إياهم', 'إياهما', 'إياهن', 'إياي', 'إيهٍ', 'ئ', 'ا', 'ا?', 'ا?ى', 'االا', 'االتى', 'ابتدأ', 'ابين', 'اتخذ', 'اثر', 'اثنا', 'اثنان', 'اثني', 'اثنين', 'اجل', 'احد', 'اخرى', 'اخلولق', 'اذا', 'اربعة', 'اربعون', 'اربعين', 'ارتدّ', 'استحال', 'اصبح', 'اضحى', 'اطار', 'اعادة', 'اعلنت', 'اف', 'اكثر', 'اكد', 'الآن', 'الألاء', 'الألى', 'الا', 'الاخيرة', 'الان', 'الاول', 'الاولى', 'التى', 'التي', 'الثاني', 'الثانية', 'الحالي', 'الذاتي', 'الذى', 'الذي', 'الذين', 'السابق', 'الف', 'اللاتي', 'اللتان', 'اللتيا', 'اللتين', 'اللذان', 'اللذين', 'اللواتي', 'الماضي', 'المقبل', 'الوقت', 'الى', 'الي', 'اليه', 'اليها', 'اليوم', 'اما', 'امام', 'امس', 'امسى', 'ان', 'انبرى', 'انقلب', 'انه', 'انها', 'او', 'اول', 'اي', 'ايار', 'ايام', 'ايضا', 'ب', 'بؤسا', 'بإن', 'بئس', 'باء', 'بات', 'باسم', 'بان', 'بخٍ', 'بد', 'بدلا', 'برس', 'بسبب', 'بسّ', 'بشكل', 'بضع', 'بطآن', 'بعد', 'بعدا', 'بعض', 'بغتة', 'بل', 'بلى', 'بن', 'به', 'بها', 'بهذا', 'بيد', 'بين', 'بَسْ', 'بَلْهَ', 'ة', 'ت', 'تاء', 'تارة', 'تاسع', 'تانِ', 'تانِك', 'تبدّل', 'تجاه', 'تحت', 'تحوّل', 'تخذ', 'ترك', 'تسع', 'تسعة', 'تسعمئة', 'تسعمائة', 'تسعون', 'تسعين', 'تشرين', 'تعسا', 'تعلَّم', 'تفعلان', 'تفعلون', 'تفعلين', 'تكون', 'تلقاء', 'تلك', 'تم', 'تموز', 'تينك', 'تَيْنِ', 'تِه', 'تِي', 'ث', 'ثاء', 'ثالث', 'ثامن', 'ثان', 'ثاني', 'ثلاث', 'ثلاثاء', 'ثلاثة', 'ثلاثمئة', 'ثلاثمائة', 'ثلاثون', 'ثلاثين', 'ثم', 'ثمان', 'ثمانمئة', 'ثمانون', 'ثماني', 'ثمانية', 'ثمانين', 'ثمنمئة', 'ثمَّ', 'ثمّ', 'ثمّة', 'ج', 'جانفي', 'جدا', 'جعل', 'جلل', 'جمعة', 'جميع', 'جنيه', 'جوان', 'جويلية', 'جير', 'جيم', 'ح', 'حاء', 'حادي', 'حار', 'حاشا', 'حاليا', 'حاي', 'حبذا', 'حبيب', 'حتى', 'حجا', 'حدَث', 'حرى', 'حزيران', 'حسب', 'حقا', 'حمدا', 'حمو', 'حمٌ', 'حوالى', 'حول', 'حيث', 'حيثما', 'حين', 'حيَّ', 'حَذارِ', 'خ', 'خاء', 'خاصة', 'خال', 'خامس', 'خبَّر', 'خلا', 'خلافا', 'خلال', 'خلف', 'خمس', 'خمسة', 'خمسمئة', 'خمسمائة', 'خمسون', 'خمسين', 'خميس', 'د', 'دال', 'درهم', 'درى', 'دواليك', 'دولار', 'دون', 'دونك', 'ديسمبر', 'دينار', 'ذ', 'ذا', 'ذات', 'ذاك', 'ذال', 'ذانك', 'ذانِ', 'ذلك', 'ذهب', 'ذو', 'ذيت', 'ذينك', 'ذَيْنِ', 'ذِه', 'ذِي', 'ر', 'رأى', 'راء', 'رابع', 'راح', 'رجع', 'رزق', 'رويدك', 'ريال', 'ريث', 'رُبَّ', 'ز', 'زاي', 'زعم', 'زود', 'زيارة', 'س', 'ساء', 'سابع', 'سادس', 'سبت', 'سبتمبر', 'سبحان', 'سبع', 'سبعة', 'سبعمئة', 'سبعمائة', 'سبعون', 'سبعين', 'ست', 'ستة', 'ستكون', 'ستمئة', 'ستمائة', 'ستون', 'ستين', 'سحقا', 'سرا', 'سرعان', 'سقى', 'سمعا', 'سنة', 'سنتيم', 'سنوات', 'سوف', 'سوى', 'سين', 'ش', 'شباط', 'شبه', 'شتانَ', 'شخصا', 'شرع', 'شمال', 'شيكل', 'شين', 'شَتَّانَ', 'ص', 'صاد', 'صار', 'صباح', 'صبر', 'صبرا', 'صدقا', 'صراحة', 'صفر', 'صهٍ', 'صهْ', 'ض', 'ضاد', 'ضحوة', 'ضد', 'ضمن', 'ط', 'طاء', 'طاق', 'طالما', 'طرا', 'طفق', 'طَق', 'ظ', 'ظاء', 'ظل', 'ظلّ', 'ظنَّ', 'ع', 'عاد', 'عاشر', 'عام', 'عاما', 'عامة', 'عجبا', 'عدا', 'عدة', 'عدد', 'عدم', 'عدَّ', 'عسى', 'عشر', 'عشرة', 'عشرون', 'عشرين', 'عل', 'علق', 'علم', 'على', 'علي', 'عليك', 'عليه', 'عليها', 'علًّ', 'عن', 'عند', 'عندما', 'عنه', 'عنها', 'عوض', 'عيانا', 'عين', 'عَدَسْ', 'غ', 'غادر', 'غالبا', 'غدا', 'غداة', 'غير', 'غين', 'ـ', 'ف', 'فإن', 'فاء', 'فان', 'فانه', 'فبراير', 'فرادى', 'فضلا', 'فقد', 'فقط', 'فكان', 'فلان', 'فلس', 'فهو', 'فو', 'فوق', 'فى', 'في', 'فيفري', 'فيه', 'فيها', 'ق', 'قاطبة', 'قاف', 'قال', 'قام', 'قبل', 'قد', 'قرش', 'قطّ', 'قلما', 'قوة', 'ك', 'كأن', 'كأنّ', 'كأيّ', 'كأيّن', 'كاد', 'كاف', 'كان', 'كانت', 'كانون', 'كثيرا', 'كذا', 'كذلك', 'كرب', 'كسا', 'كل', 'كلتا', 'كلم', 'كلَّا', 'كلّما', 'كم', 'كما', 'كن', 'كى', 'كيت', 'كيف', 'كيفما', 'كِخ', 'ل', 'لأن', 'لا', 'لا سيما', 'لات', 'لازال', 'لاسيما', 'لام', 'لايزال', 'لبيك', 'لدن', 'لدى', 'لدي', 'لذلك', 'لعل', 'لعلَّ', 'لعمر', 'لقاء', 'لكن', 'لكنه', 'لكنَّ', 'للامم', 'لم', 'لما', 'لمّا', 'لن', 'له', 'لها', 'لهذا', 'لهم', 'لو', 'لوكالة', 'لولا', 'لوما', 'ليت', 'ليرة', 'ليس', 'ليسب', 'م', 'مئة', 'مئتان', 'ما', 'ما أفعله', 'ما انفك', 'ما برح', 'مائة', 'ماانفك', 'مابرح', 'مادام', 'ماذا', 'مارس', 'مازال', 'مافتئ', 'ماي', 'مايزال', 'مايو', 'متى', 'مثل', 'مذ', 'مرّة', 'مساء', 'مع', 'معاذ', 'معه', 'معها', 'مقابل', 'مكانكم', 'مكانكما', 'مكانكنّ', 'مكانَك', 'مليار', 'مليم', 'مليون', 'مما', 'من', 'منذ', 'منه', 'منها', 'مه', 'مهما', 'ميم', 'ن', 'نا', 'نبَّا', 'نحن', 'نحو', 'نعم', 'نفس', 'نفسه', 'نهاية', 'نوفمبر', 'نون', 'نيسان', 'نيف', 'نَخْ', 'نَّ', 'ه', 'هؤلاء', 'ها', 'هاء', 'هاكَ', 'هبّ', 'هذا', 'هذه', 'هل', 'هللة', 'هلم', 'هلّا', 'هم', 'هما', 'همزة', 'هن', 'هنا', 'هناك', 'هنالك', 'هو', 'هي', 'هيا', 'هيهات', 'هيّا', 'هَؤلاء', 'هَاتانِ', 'هَاتَيْنِ', 'هَاتِه', 'هَاتِي', 'هَجْ', 'هَذا', 'هَذانِ', 'هَذَيْنِ', 'هَذِه', 'هَذِي', 'هَيْهات', 'و', 'و6', 'وأبو', 'وأن', 'وا', 'واحد', 'واضاف', 'واضافت', 'واكد', 'والتي', 'والذي', 'وان', 'واهاً', 'واو', 'واوضح', 'وبين', 'وثي', 'وجد', 'وراءَك', 'ورد', 'وعلى', 'وفي', 'وقال', 'وقالت', 'وقد', 'وقف', 'وكان', 'وكانت', 'ولا', 'ولايزال', 'ولكن', 'ولم', 'وله', 'وليس', 'ومع', 'ومن', 'وهب', 'وهذا', 'وهو', 'وهي', 'وَيْ', 'وُشْكَانَ', 'ى', 'ي', 'يا', 'ياء', 'يفعلان', 'يفعلون', 'يكون', 'يلي', 'يمكن', 'يمين', 'ين', 'يناير', 'يوان', 'يورو', 'يوليو', 'يوم', 'يونيو', 'ّأيّان', '']\n"
     ]
    }
   ],
   "source": [
    "# define stopwords\n",
    "with open('/Users/richard/Desktop/springboard_repo/capstones/three/supporting_files/arabic-stopwords.txt', 'r') as file:\n",
    "    stopwords = file.read()\n",
    "    stopwords_list = stopwords.split('\\n')\n",
    "    \n",
    "print(stopwords_list)"
   ]
  },
  {
   "cell_type": "markdown",
   "metadata": {},
   "source": [
    "Let's now proceed to remove the stopwords."
   ]
  },
  {
   "cell_type": "code",
   "execution_count": 90,
   "metadata": {},
   "outputs": [],
   "source": [
    "def remove_stopwords(tokenized_text):\n",
    "    tokens_without_sw = [word for word in tokenized_text if word not in stopwords_list]\n",
    "    return tokens_without_sw"
   ]
  },
  {
   "cell_type": "code",
   "execution_count": 91,
   "metadata": {},
   "outputs": [],
   "source": [
    "def map_stopwords(df):\n",
    "    df.tweet_text = df.tweet_text.apply(remove_stopwords)\n",
    "    return df"
   ]
  },
  {
   "cell_type": "code",
   "execution_count": 92,
   "metadata": {},
   "outputs": [],
   "source": [
    "# map across partitions\n",
    "ddf_uniq = ddf_uniq.map_partitions(map_stopwords).persist()"
   ]
  },
  {
   "cell_type": "code",
   "execution_count": 93,
   "metadata": {},
   "outputs": [
    {
     "data": {
      "text/html": [
       "<div>\n",
       "<style scoped>\n",
       "    .dataframe tbody tr th:only-of-type {\n",
       "        vertical-align: middle;\n",
       "    }\n",
       "\n",
       "    .dataframe tbody tr th {\n",
       "        vertical-align: top;\n",
       "    }\n",
       "\n",
       "    .dataframe thead th {\n",
       "        text-align: right;\n",
       "    }\n",
       "</style>\n",
       "<table border=\"1\" class=\"dataframe\">\n",
       "  <thead>\n",
       "    <tr style=\"text-align: right;\">\n",
       "      <th></th>\n",
       "      <th>tweet_text</th>\n",
       "      <th>hashtags</th>\n",
       "      <th>is_retweet</th>\n",
       "      <th>retweet_tweetid</th>\n",
       "    </tr>\n",
       "    <tr>\n",
       "      <th>index</th>\n",
       "      <th></th>\n",
       "      <th></th>\n",
       "      <th></th>\n",
       "      <th></th>\n",
       "    </tr>\n",
       "  </thead>\n",
       "  <tbody>\n",
       "    <tr>\n",
       "      <th>0</th>\n",
       "      <td>[السلام, عليكم, ورحمه, الله, وبركاته, مرحبا, ع...</td>\n",
       "      <td>None</td>\n",
       "      <td>True</td>\n",
       "      <td>9.986493e+17</td>\n",
       "    </tr>\n",
       "    <tr>\n",
       "      <th>1</th>\n",
       "      <td>[للتاجير, لبيع, النطيطات, زحاليق, مائيه, صابون...</td>\n",
       "      <td>[للتأجير, لبيع النطيطات, زحاليق مائيه صابونية,...</td>\n",
       "      <td>True</td>\n",
       "      <td>9.996373e+17</td>\n",
       "    </tr>\n",
       "    <tr>\n",
       "      <th>2</th>\n",
       "      <td>[مظلات, وسواتر, افاق, الرياض, مظلات, استراحات,...</td>\n",
       "      <td>[مظلات, آفاق الرياض, مظلات استراحات, مظلات مسا...</td>\n",
       "      <td>True</td>\n",
       "      <td>9.993939e+17</td>\n",
       "    </tr>\n",
       "    <tr>\n",
       "      <th>3</th>\n",
       "      <td>[فيديو, شاهد, مواطن, يوثق, بالفيديو, كميات, كب...</td>\n",
       "      <td>None</td>\n",
       "      <td>True</td>\n",
       "      <td>9.983516e+17</td>\n",
       "    </tr>\n",
       "    <tr>\n",
       "      <th>4</th>\n",
       "      <td>[استغفر, الله, العظيم, واتوب]</td>\n",
       "      <td>None</td>\n",
       "      <td>False</td>\n",
       "      <td>NaN</td>\n",
       "    </tr>\n",
       "  </tbody>\n",
       "</table>\n",
       "</div>"
      ],
      "text/plain": [
       "                                              tweet_text  \\\n",
       "index                                                      \n",
       "0      [السلام, عليكم, ورحمه, الله, وبركاته, مرحبا, ع...   \n",
       "1      [للتاجير, لبيع, النطيطات, زحاليق, مائيه, صابون...   \n",
       "2      [مظلات, وسواتر, افاق, الرياض, مظلات, استراحات,...   \n",
       "3      [فيديو, شاهد, مواطن, يوثق, بالفيديو, كميات, كب...   \n",
       "4                          [استغفر, الله, العظيم, واتوب]   \n",
       "\n",
       "                                                hashtags  is_retweet  \\\n",
       "index                                                                  \n",
       "0                                                   None        True   \n",
       "1      [للتأجير, لبيع النطيطات, زحاليق مائيه صابونية,...        True   \n",
       "2      [مظلات, آفاق الرياض, مظلات استراحات, مظلات مسا...        True   \n",
       "3                                                   None        True   \n",
       "4                                                   None       False   \n",
       "\n",
       "       retweet_tweetid  \n",
       "index                   \n",
       "0         9.986493e+17  \n",
       "1         9.996373e+17  \n",
       "2         9.993939e+17  \n",
       "3         9.983516e+17  \n",
       "4                  NaN  "
      ]
     },
     "execution_count": 93,
     "metadata": {},
     "output_type": "execute_result"
    }
   ],
   "source": [
    "ddf_uniq.head()"
   ]
  },
  {
   "cell_type": "markdown",
   "metadata": {},
   "source": [
    "Done.\n",
    "\n",
    "Let's do an interim save to our s3 bucket before continuing to run the lemmatization function."
   ]
  },
  {
   "cell_type": "code",
   "execution_count": 94,
   "metadata": {},
   "outputs": [],
   "source": [
    "# save to s3 before lemmatizing\n",
    "ddf_uniq.to_parquet('s3://twitter-saudi-us-east-2/interim/ddf_unique_BEFORE_lemmatization.parquet',\n",
    "                             engine='pyarrow')"
   ]
  },
  {
   "cell_type": "markdown",
   "metadata": {},
   "source": [
    "### 8.7. Morphological Disambiguation\n",
    "\n",
    "The next and final step is to conduct **morphological disambiguation**: to reduce the range of possible forms and meanings of the words in our Arabic text (which has been dediacritized and therefore can have multiple meanings) to a single form and meaning. \n",
    "\n",
    "For this project we will also use this step to directly **lemmatize** our tokens. There are many different ways to create 'morphological tokens' (using 9 different schemas built into the CAMeL Morphological Disambiguator). But since we will be conducting Topic Modelling on the text, the lemmas will suffice for our purposes."
   ]
  },
  {
   "cell_type": "code",
   "execution_count": 6,
   "metadata": {},
   "outputs": [],
   "source": [
    "# instantiate the Maximum Likelihood Disambiguator\n",
    "mle = MLEDisambiguator.pretrained()"
   ]
  },
  {
   "cell_type": "markdown",
   "metadata": {},
   "source": [
    "Let's run it on a sample sentence to see how it works:"
   ]
  },
  {
   "cell_type": "code",
   "execution_count": 7,
   "metadata": {},
   "outputs": [
    {
     "name": "stdout",
     "output_type": "stream",
     "text": [
      "('نَجَحَ', 'verb', 'نَجَح-a_1')\n",
      "('بايدن', 'noun_prop', 'بايدن_0')\n",
      "('فِي', 'prep', 'فِي_1')\n",
      "('الاِنْتِخاباتِ', 'noun', 'ٱِنْتِخاب_1')\n",
      "['نَجَح-a_1', 'بايدن_0', 'فِي_1', 'ٱِنْتِخاب_1']\n"
     ]
    }
   ],
   "source": [
    "# The disambiguator expects pre-tokenized text\n",
    "sentence = simple_word_tokenize('نجح بايدن في الانتخابات')\n",
    "\n",
    "disambig = mle.disambiguate(sentence)\n",
    "\n",
    "# For each disambiguated word d in disambig, d.analyses is a list of analyses\n",
    "# sorted from most likely to least likely. Therefore, d.analyses[0] would\n",
    "# be the most likely analysis for a given word. Below we extract different\n",
    "# features from the top analysis of each disambiguated word into seperate lists.\n",
    "diacritized = [d.analyses[0].analysis['diac'] for d in disambig]\n",
    "pos_tags = [d.analyses[0].analysis['pos'] for d in disambig]\n",
    "lemmas = [d.analyses[0].analysis['lex'] for d in disambig]\n",
    "\n",
    "# Print the combined feature values extracted above\n",
    "for triplet in zip(diacritized, pos_tags, lemmas):\n",
    "    print(triplet)\n",
    "\n",
    "# print lemmas\n",
    "print(lemmas)"
   ]
  },
  {
   "cell_type": "markdown",
   "metadata": {},
   "source": [
    "The above example from the CAMeL documentation works perfectly.\n",
    "\n",
    "Let's now adapt so that we can get just the lemmas.\n",
    "\n",
    "**NOTE:** We included the try/except clauses because some list indexing was throwing an 'out of range' error. The function now returns NaN if it can't lemmatize a token. **Very important** therefore to check the number of NaNs in the ddf after mapping this function across all partitions."
   ]
  },
  {
   "cell_type": "code",
   "execution_count": 8,
   "metadata": {},
   "outputs": [],
   "source": [
    "def get_lemmas(tokenized_text):\n",
    "    disambig = mle.disambiguate(tokenized_text)\n",
    "    try:\n",
    "        lemmas = [d.analyses[0].analysis['lex'] for d in disambig]\n",
    "        return lemmas\n",
    "    except:\n",
    "        return np.nan"
   ]
  },
  {
   "cell_type": "markdown",
   "metadata": {},
   "source": [
    "Let's try it on a subset of df_unique_tokenized."
   ]
  },
  {
   "cell_type": "code",
   "execution_count": 9,
   "metadata": {},
   "outputs": [],
   "source": [
    "df_sample = ddf_uniq.sample(frac=0.0001, random_state=21).compute()"
   ]
  },
  {
   "cell_type": "code",
   "execution_count": 10,
   "metadata": {},
   "outputs": [
    {
     "data": {
      "text/plain": [
       "(624, 4)"
      ]
     },
     "execution_count": 10,
     "metadata": {},
     "output_type": "execute_result"
    }
   ],
   "source": [
    "df_sample.shape"
   ]
  },
  {
   "cell_type": "code",
   "execution_count": 11,
   "metadata": {},
   "outputs": [
    {
     "data": {
      "text/html": [
       "<div>\n",
       "<style scoped>\n",
       "    .dataframe tbody tr th:only-of-type {\n",
       "        vertical-align: middle;\n",
       "    }\n",
       "\n",
       "    .dataframe tbody tr th {\n",
       "        vertical-align: top;\n",
       "    }\n",
       "\n",
       "    .dataframe thead th {\n",
       "        text-align: right;\n",
       "    }\n",
       "</style>\n",
       "<table border=\"1\" class=\"dataframe\">\n",
       "  <thead>\n",
       "    <tr style=\"text-align: right;\">\n",
       "      <th></th>\n",
       "      <th>tweet_text</th>\n",
       "      <th>hashtags</th>\n",
       "      <th>is_retweet</th>\n",
       "      <th>retweet_tweetid</th>\n",
       "    </tr>\n",
       "    <tr>\n",
       "      <th>index</th>\n",
       "      <th></th>\n",
       "      <th></th>\n",
       "      <th></th>\n",
       "      <th></th>\n",
       "    </tr>\n",
       "  </thead>\n",
       "  <tbody>\n",
       "    <tr>\n",
       "      <th>915</th>\n",
       "      <td>[عرض, خاص, مركز, طرق, الجمال, الطبي, تنظيف, ال...</td>\n",
       "      <td>[عرض خاص]</td>\n",
       "      <td>True</td>\n",
       "      <td>9.998049e+17</td>\n",
       "    </tr>\n",
       "    <tr>\n",
       "      <th>48117</th>\n",
       "      <td>[كاس, العالم, بي, اوت, رتويت, شهري, اشتراك, رت...</td>\n",
       "      <td>[كاس العالم علي بي اوت, رتويت, اشتراك, اصوات, ...</td>\n",
       "      <td>True</td>\n",
       "      <td>1.006832e+18</td>\n",
       "    </tr>\n",
       "    <tr>\n",
       "      <th>74594</th>\n",
       "      <td>[لحم, برمه, كيفك, السعوديه, الدمام, الخبر, مطا...</td>\n",
       "      <td>[على كيف كيفك, السعودية, الدمام, الخبر, مطاعم ...</td>\n",
       "      <td>True</td>\n",
       "      <td>1.011250e+18</td>\n",
       "    </tr>\n",
       "    <tr>\n",
       "      <th>135340</th>\n",
       "      <td>[نفسيتي, محتاجه, ادعس, شواربك, ابوك, لاابو, ال...</td>\n",
       "      <td>[نفسيتي محتاجه, نفسيتك محتاجة اية, القوة الغاشمة]</td>\n",
       "      <td>True</td>\n",
       "      <td>1.018902e+18</td>\n",
       "    </tr>\n",
       "    <tr>\n",
       "      <th>48656</th>\n",
       "      <td>[واكيد, هتشجع, منتخب, الاورجواي, الشقيق, منتخب...</td>\n",
       "      <td>None</td>\n",
       "      <td>False</td>\n",
       "      <td>NaN</td>\n",
       "    </tr>\n",
       "  </tbody>\n",
       "</table>\n",
       "</div>"
      ],
      "text/plain": [
       "                                               tweet_text  \\\n",
       "index                                                       \n",
       "915     [عرض, خاص, مركز, طرق, الجمال, الطبي, تنظيف, ال...   \n",
       "48117   [كاس, العالم, بي, اوت, رتويت, شهري, اشتراك, رت...   \n",
       "74594   [لحم, برمه, كيفك, السعوديه, الدمام, الخبر, مطا...   \n",
       "135340  [نفسيتي, محتاجه, ادعس, شواربك, ابوك, لاابو, ال...   \n",
       "48656   [واكيد, هتشجع, منتخب, الاورجواي, الشقيق, منتخب...   \n",
       "\n",
       "                                                 hashtags  is_retweet  \\\n",
       "index                                                                   \n",
       "915                                             [عرض خاص]        True   \n",
       "48117   [كاس العالم علي بي اوت, رتويت, اشتراك, اصوات, ...        True   \n",
       "74594   [على كيف كيفك, السعودية, الدمام, الخبر, مطاعم ...        True   \n",
       "135340  [نفسيتي محتاجه, نفسيتك محتاجة اية, القوة الغاشمة]        True   \n",
       "48656                                                None       False   \n",
       "\n",
       "        retweet_tweetid  \n",
       "index                    \n",
       "915        9.998049e+17  \n",
       "48117      1.006832e+18  \n",
       "74594      1.011250e+18  \n",
       "135340     1.018902e+18  \n",
       "48656               NaN  "
      ]
     },
     "execution_count": 11,
     "metadata": {},
     "output_type": "execute_result"
    }
   ],
   "source": [
    "df_sample.head()"
   ]
  },
  {
   "cell_type": "code",
   "execution_count": 12,
   "metadata": {},
   "outputs": [
    {
     "name": "stdout",
     "output_type": "stream",
     "text": [
      "CPU times: user 8.66 s, sys: 408 ms, total: 9.07 s\n",
      "Wall time: 12.2 s\n"
     ]
    }
   ],
   "source": [
    "%%time\n",
    "df_sample['lemmas'] = df_sample.tweet_text.apply(get_lemmas)"
   ]
  },
  {
   "cell_type": "code",
   "execution_count": 13,
   "metadata": {},
   "outputs": [
    {
     "data": {
      "text/html": [
       "<div>\n",
       "<style scoped>\n",
       "    .dataframe tbody tr th:only-of-type {\n",
       "        vertical-align: middle;\n",
       "    }\n",
       "\n",
       "    .dataframe tbody tr th {\n",
       "        vertical-align: top;\n",
       "    }\n",
       "\n",
       "    .dataframe thead th {\n",
       "        text-align: right;\n",
       "    }\n",
       "</style>\n",
       "<table border=\"1\" class=\"dataframe\">\n",
       "  <thead>\n",
       "    <tr style=\"text-align: right;\">\n",
       "      <th></th>\n",
       "      <th>tweet_text</th>\n",
       "      <th>hashtags</th>\n",
       "      <th>is_retweet</th>\n",
       "      <th>retweet_tweetid</th>\n",
       "      <th>lemmas</th>\n",
       "    </tr>\n",
       "    <tr>\n",
       "      <th>index</th>\n",
       "      <th></th>\n",
       "      <th></th>\n",
       "      <th></th>\n",
       "      <th></th>\n",
       "      <th></th>\n",
       "    </tr>\n",
       "  </thead>\n",
       "  <tbody>\n",
       "    <tr>\n",
       "      <th>915</th>\n",
       "      <td>[عرض, خاص, مركز, طرق, الجمال, الطبي, تنظيف, ال...</td>\n",
       "      <td>[عرض خاص]</td>\n",
       "      <td>True</td>\n",
       "      <td>9.998049e+17</td>\n",
       "      <td>[عَرَض-i_1, خاصّ_1, مَرْكَز_1, طَرِيق_1, جَمال...</td>\n",
       "    </tr>\n",
       "    <tr>\n",
       "      <th>48117</th>\n",
       "      <td>[كاس, العالم, بي, اوت, رتويت, شهري, اشتراك, رت...</td>\n",
       "      <td>[كاس العالم علي بي اوت, رتويت, اشتراك, اصوات, ...</td>\n",
       "      <td>True</td>\n",
       "      <td>1.006832e+18</td>\n",
       "      <td>[كاس_1, عالَم_1, بِي_1, أَوَى-i_1, رتويت_0, شَ...</td>\n",
       "    </tr>\n",
       "    <tr>\n",
       "      <th>74594</th>\n",
       "      <td>[لحم, برمه, كيفك, السعوديه, الدمام, الخبر, مطا...</td>\n",
       "      <td>[على كيف كيفك, السعودية, الدمام, الخبر, مطاعم ...</td>\n",
       "      <td>True</td>\n",
       "      <td>1.011250e+18</td>\n",
       "      <td>[لَحْم_1, رُمَّة_1, كيفك_0, سَعُودِيّ_1, دَمّا...</td>\n",
       "    </tr>\n",
       "    <tr>\n",
       "      <th>135340</th>\n",
       "      <td>[نفسيتي, محتاجه, ادعس, شواربك, ابوك, لاابو, ال...</td>\n",
       "      <td>[نفسيتي محتاجه, نفسيتك محتاجة اية, القوة الغاشمة]</td>\n",
       "      <td>True</td>\n",
       "      <td>1.018902e+18</td>\n",
       "      <td>[نَفْسِيّ_1, مُحْتاج_1, دَعَس-a_1, شارِب_3, أَ...</td>\n",
       "    </tr>\n",
       "    <tr>\n",
       "      <th>48656</th>\n",
       "      <td>[واكيد, هتشجع, منتخب, الاورجواي, الشقيق, منتخب...</td>\n",
       "      <td>None</td>\n",
       "      <td>False</td>\n",
       "      <td>NaN</td>\n",
       "      <td>[أَكِيد_1, هتشجع_0, مُنْتَخَب_1, أُورُجواي_1, ...</td>\n",
       "    </tr>\n",
       "  </tbody>\n",
       "</table>\n",
       "</div>"
      ],
      "text/plain": [
       "                                               tweet_text  \\\n",
       "index                                                       \n",
       "915     [عرض, خاص, مركز, طرق, الجمال, الطبي, تنظيف, ال...   \n",
       "48117   [كاس, العالم, بي, اوت, رتويت, شهري, اشتراك, رت...   \n",
       "74594   [لحم, برمه, كيفك, السعوديه, الدمام, الخبر, مطا...   \n",
       "135340  [نفسيتي, محتاجه, ادعس, شواربك, ابوك, لاابو, ال...   \n",
       "48656   [واكيد, هتشجع, منتخب, الاورجواي, الشقيق, منتخب...   \n",
       "\n",
       "                                                 hashtags  is_retweet  \\\n",
       "index                                                                   \n",
       "915                                             [عرض خاص]        True   \n",
       "48117   [كاس العالم علي بي اوت, رتويت, اشتراك, اصوات, ...        True   \n",
       "74594   [على كيف كيفك, السعودية, الدمام, الخبر, مطاعم ...        True   \n",
       "135340  [نفسيتي محتاجه, نفسيتك محتاجة اية, القوة الغاشمة]        True   \n",
       "48656                                                None       False   \n",
       "\n",
       "        retweet_tweetid                                             lemmas  \n",
       "index                                                                       \n",
       "915        9.998049e+17  [عَرَض-i_1, خاصّ_1, مَرْكَز_1, طَرِيق_1, جَمال...  \n",
       "48117      1.006832e+18  [كاس_1, عالَم_1, بِي_1, أَوَى-i_1, رتويت_0, شَ...  \n",
       "74594      1.011250e+18  [لَحْم_1, رُمَّة_1, كيفك_0, سَعُودِيّ_1, دَمّا...  \n",
       "135340     1.018902e+18  [نَفْسِيّ_1, مُحْتاج_1, دَعَس-a_1, شارِب_3, أَ...  \n",
       "48656               NaN  [أَكِيد_1, هتشجع_0, مُنْتَخَب_1, أُورُجواي_1, ...  "
      ]
     },
     "execution_count": 13,
     "metadata": {},
     "output_type": "execute_result"
    }
   ],
   "source": [
    "df_sample.head()"
   ]
  },
  {
   "cell_type": "code",
   "execution_count": 14,
   "metadata": {},
   "outputs": [
    {
     "data": {
      "text/plain": [
       "array(['عرض', 'خاص', 'مركز', 'طرق', 'الجمال', 'الطبي', 'تنظيف', 'الاسنان',\n",
       "       'تبيض', 'الاسنان', 'بالزوم', 'تبيض', 'الاسنان', 'المنزلي',\n",
       "       'القوالب'], dtype=object)"
      ]
     },
     "execution_count": 14,
     "metadata": {},
     "output_type": "execute_result"
    }
   ],
   "source": [
    "df_sample.loc[915].tweet_text"
   ]
  },
  {
   "cell_type": "code",
   "execution_count": 15,
   "metadata": {},
   "outputs": [
    {
     "data": {
      "text/plain": [
       "['عَرَض-i_1',\n",
       " 'خاصّ_1',\n",
       " 'مَرْكَز_1',\n",
       " 'طَرِيق_1',\n",
       " 'جَمال_2',\n",
       " 'طِبِّيّ_1',\n",
       " 'تَنْظِيف_1',\n",
       " 'سِنّ_1',\n",
       " 'باض-i_1',\n",
       " 'سِنّ_1',\n",
       " 'زُوم_1',\n",
       " 'باض-i_1',\n",
       " 'سِنّ_1',\n",
       " 'مَنْزِلِيّ_1',\n",
       " 'قالِب_1']"
      ]
     },
     "execution_count": 15,
     "metadata": {},
     "output_type": "execute_result"
    }
   ],
   "source": [
    "df_sample.loc[915].lemmas"
   ]
  },
  {
   "cell_type": "markdown",
   "metadata": {},
   "source": [
    "Great, that worked. This randomly extracted tweet is an ad for dental hygiene services. Very politically compromised ;)\n",
    "\n",
    "Let's now apply on the whole ddf_uniq."
   ]
  },
  {
   "cell_type": "markdown",
   "metadata": {},
   "source": [
    "### 8.9. Lemmatization\n",
    "\n",
    "I had quite come trouble trying to run the lemmatization function on my Coiled / AWS cluster. The tricky thing is that the lemmatization requires all the workers to have access to the **morphology database** (~19MB) which was slowing down the distributed processing considerably because the serialized data had to be transferred between workers multiple time. This meant that running the lemmatization function on a dask dataframe of just 36 rows took more than 9 minutes (!!).\n",
    "\n",
    "I ended up getting in touch with the Dask maintainers and Gabe Joseph ended up writing a hack / work-around, found [here](https://github.com/gjoseph92/once-per-worker). The package has been pip-installed to our software environments, so we will import it here and proceed."
   ]
  },
  {
   "cell_type": "code",
   "execution_count": 11,
   "metadata": {},
   "outputs": [],
   "source": [
    "from once_per_worker import once_per_worker"
   ]
  },
  {
   "cell_type": "code",
   "execution_count": 12,
   "metadata": {},
   "outputs": [],
   "source": [
    "loaded_disambiguator = once_per_worker(lambda: MLEDisambiguator.pretrained())"
   ]
  },
  {
   "cell_type": "code",
   "execution_count": 13,
   "metadata": {},
   "outputs": [],
   "source": [
    "def map_lemmas(df, disambiguator):\n",
    "    \n",
    "    def get_lemmas_nested(tokenized_text):\n",
    "        \n",
    "        disambig = disambiguator.disambiguate(tokenized_text)\n",
    "\n",
    "        try:\n",
    "            lemmas = [d.analyses[0].analysis['lex'] for d in disambig]\n",
    "            return lemmas\n",
    "        except:\n",
    "            return np.nan\n",
    "    \n",
    "    df.tweet_text = df.tweet_text.apply(get_lemmas_nested)\n",
    "    return df"
   ]
  },
  {
   "cell_type": "markdown",
   "metadata": {},
   "source": [
    "Mapping this function to our Dask Dataframe only works if the **number of partitions** in the dataframe is **less than the number of workers**. This is most likely because the camel-tools disambiguator is not thread-safe.\n",
    "\n",
    "Below we run the lemmatisation function on batches of partitions and then append them all together to get back to our complete dataset of **6145783 unique tweets**."
   ]
  },
  {
   "cell_type": "code",
   "execution_count": 8,
   "metadata": {},
   "outputs": [],
   "source": [
    "ddf_0_4 = ddf_uniq.partitions[0:5].persist()"
   ]
  },
  {
   "cell_type": "code",
   "execution_count": 9,
   "metadata": {},
   "outputs": [
    {
     "data": {
      "text/html": [
       "<div><strong>Dask DataFrame Structure:</strong></div>\n",
       "<div>\n",
       "<style scoped>\n",
       "    .dataframe tbody tr th:only-of-type {\n",
       "        vertical-align: middle;\n",
       "    }\n",
       "\n",
       "    .dataframe tbody tr th {\n",
       "        vertical-align: top;\n",
       "    }\n",
       "\n",
       "    .dataframe thead th {\n",
       "        text-align: right;\n",
       "    }\n",
       "</style>\n",
       "<table border=\"1\" class=\"dataframe\">\n",
       "  <thead>\n",
       "    <tr style=\"text-align: right;\">\n",
       "      <th></th>\n",
       "      <th>tweet_text</th>\n",
       "      <th>hashtags</th>\n",
       "      <th>is_retweet</th>\n",
       "      <th>retweet_tweetid</th>\n",
       "    </tr>\n",
       "    <tr>\n",
       "      <th>npartitions=5</th>\n",
       "      <th></th>\n",
       "      <th></th>\n",
       "      <th></th>\n",
       "      <th></th>\n",
       "    </tr>\n",
       "  </thead>\n",
       "  <tbody>\n",
       "    <tr>\n",
       "      <th>0</th>\n",
       "      <td>object</td>\n",
       "      <td>object</td>\n",
       "      <td>bool</td>\n",
       "      <td>float64</td>\n",
       "    </tr>\n",
       "    <tr>\n",
       "      <th>157584</th>\n",
       "      <td>...</td>\n",
       "      <td>...</td>\n",
       "      <td>...</td>\n",
       "      <td>...</td>\n",
       "    </tr>\n",
       "    <tr>\n",
       "      <th>...</th>\n",
       "      <td>...</td>\n",
       "      <td>...</td>\n",
       "      <td>...</td>\n",
       "      <td>...</td>\n",
       "    </tr>\n",
       "    <tr>\n",
       "      <th>630336</th>\n",
       "      <td>...</td>\n",
       "      <td>...</td>\n",
       "      <td>...</td>\n",
       "      <td>...</td>\n",
       "    </tr>\n",
       "    <tr>\n",
       "      <th>787920</th>\n",
       "      <td>...</td>\n",
       "      <td>...</td>\n",
       "      <td>...</td>\n",
       "      <td>...</td>\n",
       "    </tr>\n",
       "  </tbody>\n",
       "</table>\n",
       "</div>\n",
       "<div>Dask Name: blocks, 5 tasks</div>"
      ],
      "text/plain": [
       "Dask DataFrame Structure:\n",
       "              tweet_text hashtags is_retweet retweet_tweetid\n",
       "npartitions=5                                               \n",
       "0                 object   object       bool         float64\n",
       "157584               ...      ...        ...             ...\n",
       "...                  ...      ...        ...             ...\n",
       "630336               ...      ...        ...             ...\n",
       "787920               ...      ...        ...             ...\n",
       "Dask Name: blocks, 5 tasks"
      ]
     },
     "execution_count": 9,
     "metadata": {},
     "output_type": "execute_result"
    }
   ],
   "source": [
    "ddf_0_4"
   ]
  },
  {
   "cell_type": "code",
   "execution_count": 14,
   "metadata": {},
   "outputs": [],
   "source": [
    "# run test on cluster\n",
    "ddf_0_4_lem = ddf_0_4.map_partitions(map_lemmas,\n",
    "                                  loaded_disambiguator,\n",
    "                                  meta=ddf_uniq\n",
    ").copy().persist()"
   ]
  },
  {
   "cell_type": "code",
   "execution_count": 15,
   "metadata": {
    "scrolled": true
   },
   "outputs": [
    {
     "name": "stdout",
     "output_type": "stream",
     "text": [
      "CPU times: user 2.33 s, sys: 518 ms, total: 2.85 s\n",
      "Wall time: 20min 39s\n"
     ]
    },
    {
     "data": {
      "text/html": [
       "<div>\n",
       "<style scoped>\n",
       "    .dataframe tbody tr th:only-of-type {\n",
       "        vertical-align: middle;\n",
       "    }\n",
       "\n",
       "    .dataframe tbody tr th {\n",
       "        vertical-align: top;\n",
       "    }\n",
       "\n",
       "    .dataframe thead th {\n",
       "        text-align: right;\n",
       "    }\n",
       "</style>\n",
       "<table border=\"1\" class=\"dataframe\">\n",
       "  <thead>\n",
       "    <tr style=\"text-align: right;\">\n",
       "      <th></th>\n",
       "      <th>tweet_text</th>\n",
       "      <th>hashtags</th>\n",
       "      <th>is_retweet</th>\n",
       "      <th>retweet_tweetid</th>\n",
       "    </tr>\n",
       "    <tr>\n",
       "      <th>index</th>\n",
       "      <th></th>\n",
       "      <th></th>\n",
       "      <th></th>\n",
       "      <th></th>\n",
       "    </tr>\n",
       "  </thead>\n",
       "  <tbody>\n",
       "    <tr>\n",
       "      <th>0</th>\n",
       "      <td>[سَلام_1, عَلَى_1, رَحْمَة_1, اللَّه_1, بَرَكَ...</td>\n",
       "      <td>None</td>\n",
       "      <td>True</td>\n",
       "      <td>9.986493e+17</td>\n",
       "    </tr>\n",
       "    <tr>\n",
       "      <th>1</th>\n",
       "      <td>[تَأْجِير_1, بَيْع_1, النطيطات_0, زحاليق_0, ما...</td>\n",
       "      <td>[للتأجير, لبيع النطيطات, زحاليق مائيه صابونية,...</td>\n",
       "      <td>True</td>\n",
       "      <td>9.996373e+17</td>\n",
       "    </tr>\n",
       "    <tr>\n",
       "      <th>2</th>\n",
       "      <td>[مِظَلَّة_1, ساتِر_1, أُفُق_1, رِياض_1, مِظَلّ...</td>\n",
       "      <td>[مظلات, آفاق الرياض, مظلات استراحات, مظلات مسا...</td>\n",
       "      <td>True</td>\n",
       "      <td>9.993939e+17</td>\n",
       "    </tr>\n",
       "    <tr>\n",
       "      <th>3</th>\n",
       "      <td>[فِيدْيُو_1, شاهَد_1, مُواطِن_1, وَثِق-ia_1, ف...</td>\n",
       "      <td>None</td>\n",
       "      <td>True</td>\n",
       "      <td>9.983516e+17</td>\n",
       "    </tr>\n",
       "    <tr>\n",
       "      <th>4</th>\n",
       "      <td>[ٱِسْتَغْفَر_1, اللَّه_1, عَظِيم_2, تاب-u_1]</td>\n",
       "      <td>None</td>\n",
       "      <td>False</td>\n",
       "      <td>NaN</td>\n",
       "    </tr>\n",
       "  </tbody>\n",
       "</table>\n",
       "</div>"
      ],
      "text/plain": [
       "                                              tweet_text  \\\n",
       "index                                                      \n",
       "0      [سَلام_1, عَلَى_1, رَحْمَة_1, اللَّه_1, بَرَكَ...   \n",
       "1      [تَأْجِير_1, بَيْع_1, النطيطات_0, زحاليق_0, ما...   \n",
       "2      [مِظَلَّة_1, ساتِر_1, أُفُق_1, رِياض_1, مِظَلّ...   \n",
       "3      [فِيدْيُو_1, شاهَد_1, مُواطِن_1, وَثِق-ia_1, ف...   \n",
       "4           [ٱِسْتَغْفَر_1, اللَّه_1, عَظِيم_2, تاب-u_1]   \n",
       "\n",
       "                                                hashtags  is_retweet  \\\n",
       "index                                                                  \n",
       "0                                                   None        True   \n",
       "1      [للتأجير, لبيع النطيطات, زحاليق مائيه صابونية,...        True   \n",
       "2      [مظلات, آفاق الرياض, مظلات استراحات, مظلات مسا...        True   \n",
       "3                                                   None        True   \n",
       "4                                                   None       False   \n",
       "\n",
       "       retweet_tweetid  \n",
       "index                   \n",
       "0         9.986493e+17  \n",
       "1         9.996373e+17  \n",
       "2         9.993939e+17  \n",
       "3         9.983516e+17  \n",
       "4                  NaN  "
      ]
     },
     "execution_count": 15,
     "metadata": {},
     "output_type": "execute_result"
    }
   ],
   "source": [
    "%%time\n",
    "ddf_0_4_lem.head()"
   ]
  },
  {
   "cell_type": "code",
   "execution_count": 19,
   "metadata": {},
   "outputs": [],
   "source": [
    "ddf_5_14 = ddf_uniq.partitions[5:15].persist()"
   ]
  },
  {
   "cell_type": "code",
   "execution_count": 20,
   "metadata": {},
   "outputs": [],
   "source": [
    "# run mapping dunction on batch\n",
    "ddf_5_14_lem = ddf_5_14.map_partitions(map_lemmas,\n",
    "                                  loaded_disambiguator,\n",
    "                                  meta=ddf_uniq\n",
    ").copy().persist()"
   ]
  },
  {
   "cell_type": "code",
   "execution_count": 21,
   "metadata": {},
   "outputs": [
    {
     "data": {
      "text/plain": [
       "1575842"
      ]
     },
     "execution_count": 21,
     "metadata": {},
     "output_type": "execute_result"
    }
   ],
   "source": [
    "ddf_5_14_lem.shape[0].compute()"
   ]
  },
  {
   "cell_type": "code",
   "execution_count": 22,
   "metadata": {},
   "outputs": [],
   "source": [
    "ddf_15_24 = ddf_uniq.partitions[15:25].persist()"
   ]
  },
  {
   "cell_type": "code",
   "execution_count": 23,
   "metadata": {},
   "outputs": [],
   "source": [
    "# run test on cluster\n",
    "ddf_15_24_lem = ddf_15_24.map_partitions(map_lemmas,\n",
    "                                  loaded_disambiguator,\n",
    "                                  meta=ddf_uniq\n",
    ").copy().persist()"
   ]
  },
  {
   "cell_type": "code",
   "execution_count": 24,
   "metadata": {},
   "outputs": [
    {
     "name": "stdout",
     "output_type": "stream",
     "text": [
      "CPU times: user 4.29 s, sys: 875 ms, total: 5.16 s\n",
      "Wall time: 40min 44s\n"
     ]
    },
    {
     "data": {
      "text/plain": [
       "1575842"
      ]
     },
     "execution_count": 24,
     "metadata": {},
     "output_type": "execute_result"
    }
   ],
   "source": [
    "%%time\n",
    "ddf_15_24_lem.shape[0].compute()"
   ]
  },
  {
   "cell_type": "code",
   "execution_count": 42,
   "metadata": {},
   "outputs": [],
   "source": [
    "ddf_25_39 = ddf_uniq.partitions[25:].persist()"
   ]
  },
  {
   "cell_type": "code",
   "execution_count": 43,
   "metadata": {},
   "outputs": [],
   "source": [
    "# run test on cluster\n",
    "ddf_25_39_lem = ddf_25_39.map_partitions(map_lemmas,\n",
    "                                  loaded_disambiguator,\n",
    "                                  meta=ddf_uniq\n",
    ").copy().persist()"
   ]
  },
  {
   "cell_type": "code",
   "execution_count": 44,
   "metadata": {},
   "outputs": [
    {
     "name": "stdout",
     "output_type": "stream",
     "text": [
      "CPU times: user 16.1 s, sys: 3.14 s, total: 19.3 s\n",
      "Wall time: 2h 25min 49s\n"
     ]
    },
    {
     "data": {
      "text/plain": [
       "2206179"
      ]
     },
     "execution_count": 44,
     "metadata": {},
     "output_type": "execute_result"
    }
   ],
   "source": [
    "%%time\n",
    "ddf_25_39_lem.shape[0].compute()"
   ]
  },
  {
   "cell_type": "markdown",
   "metadata": {},
   "source": [
    "Let's append these partial lemmatized ddf's into one big one."
   ]
  },
  {
   "cell_type": "code",
   "execution_count": 46,
   "metadata": {},
   "outputs": [
    {
     "data": {
      "text/html": [
       "<div><strong>Dask DataFrame Structure:</strong></div>\n",
       "<div>\n",
       "<style scoped>\n",
       "    .dataframe tbody tr th:only-of-type {\n",
       "        vertical-align: middle;\n",
       "    }\n",
       "\n",
       "    .dataframe tbody tr th {\n",
       "        vertical-align: top;\n",
       "    }\n",
       "\n",
       "    .dataframe thead th {\n",
       "        text-align: right;\n",
       "    }\n",
       "</style>\n",
       "<table border=\"1\" class=\"dataframe\">\n",
       "  <thead>\n",
       "    <tr style=\"text-align: right;\">\n",
       "      <th></th>\n",
       "      <th>tweet_text</th>\n",
       "      <th>hashtags</th>\n",
       "      <th>is_retweet</th>\n",
       "      <th>retweet_tweetid</th>\n",
       "    </tr>\n",
       "    <tr>\n",
       "      <th>npartitions=39</th>\n",
       "      <th></th>\n",
       "      <th></th>\n",
       "      <th></th>\n",
       "      <th></th>\n",
       "    </tr>\n",
       "  </thead>\n",
       "  <tbody>\n",
       "    <tr>\n",
       "      <th></th>\n",
       "      <td>object</td>\n",
       "      <td>object</td>\n",
       "      <td>bool</td>\n",
       "      <td>float64</td>\n",
       "    </tr>\n",
       "    <tr>\n",
       "      <th></th>\n",
       "      <td>...</td>\n",
       "      <td>...</td>\n",
       "      <td>...</td>\n",
       "      <td>...</td>\n",
       "    </tr>\n",
       "    <tr>\n",
       "      <th>...</th>\n",
       "      <td>...</td>\n",
       "      <td>...</td>\n",
       "      <td>...</td>\n",
       "      <td>...</td>\n",
       "    </tr>\n",
       "    <tr>\n",
       "      <th></th>\n",
       "      <td>...</td>\n",
       "      <td>...</td>\n",
       "      <td>...</td>\n",
       "      <td>...</td>\n",
       "    </tr>\n",
       "    <tr>\n",
       "      <th></th>\n",
       "      <td>...</td>\n",
       "      <td>...</td>\n",
       "      <td>...</td>\n",
       "      <td>...</td>\n",
       "    </tr>\n",
       "  </tbody>\n",
       "</table>\n",
       "</div>\n",
       "<div>Dask Name: concat, 39 tasks</div>"
      ],
      "text/plain": [
       "Dask DataFrame Structure:\n",
       "               tweet_text hashtags is_retweet retweet_tweetid\n",
       "npartitions=39                                               \n",
       "                   object   object       bool         float64\n",
       "                      ...      ...        ...             ...\n",
       "...                   ...      ...        ...             ...\n",
       "                      ...      ...        ...             ...\n",
       "                      ...      ...        ...             ...\n",
       "Dask Name: concat, 39 tasks"
      ]
     },
     "execution_count": 46,
     "metadata": {},
     "output_type": "execute_result"
    }
   ],
   "source": [
    "# append partial ddfs together\n",
    "ddf_full_lem = ddf_0_4_lem.append(ddf_5_14_lem)\n",
    "ddf_full_lem = ddf_full_lem.append(ddf_15_24_lem)\n",
    "ddf_full_lem = ddf_full_lem.append(ddf_25_39_lem)\n",
    "ddf_full_lem.persist()"
   ]
  },
  {
   "cell_type": "code",
   "execution_count": 48,
   "metadata": {},
   "outputs": [
    {
     "data": {
      "text/plain": [
       "True"
      ]
     },
     "execution_count": 48,
     "metadata": {},
     "output_type": "execute_result"
    }
   ],
   "source": [
    "# check n_rows to verify\n",
    "ddf_full_lem.shape[0].compute() == 6145783"
   ]
  },
  {
   "cell_type": "code",
   "execution_count": 49,
   "metadata": {},
   "outputs": [
    {
     "data": {
      "text/plain": [
       "0"
      ]
     },
     "execution_count": 49,
     "metadata": {},
     "output_type": "execute_result"
    }
   ],
   "source": [
    "# check number of NaNs\n",
    "ddf_full_lem.tweet_text.isnull().sum().compute()"
   ]
  },
  {
   "cell_type": "code",
   "execution_count": 50,
   "metadata": {},
   "outputs": [
    {
     "data": {
      "text/plain": [
       "index\n",
       "915        [عَرَض-i_1, خاصّ_1, مَرْكَز_1, طَرِيق_1, جَمال...\n",
       "48117      [كاس_1, عالَم_1, بِي_1, أَوَى-i_1, رتويت_0, شَ...\n",
       "74594      [لَحْم_1, رُمَّة_1, كيفك_0, سَعُودِيّ_1, دَمّا...\n",
       "135340     [نَفْسِيّ_1, مُحْتاج_1, دَعَس-a_1, شارِب_3, أَ...\n",
       "48656      [أَكِيد_1, هتشجع_0, مُنْتَخَب_1, أُورُجواي_1, ...\n",
       "                                 ...                        \n",
       "6114091    [ٱتساق_1_0, قمر_1_0, سياحة_1_0, فندق_1_0, مكة_...\n",
       "6067753    [الحمدلل_0_0, أغاث_1_0, روح_1_0, الحمدلل_0_0, ...\n",
       "5993520    [بيع_1_0, ألمنيوم_1_0, طائرة_1_0, ألف_1_0, طن_...\n",
       "6089414    [أرسل_1_0, رمز_1_0, رائح_1_0, رائح_1_0, روسيا_...\n",
       "6031645             [دان-i_1_0, هديلك_0_0, درس_1_0, أول_2_0]\n",
       "Name: tweet_text, Length: 6162, dtype: object"
      ]
     },
     "execution_count": 50,
     "metadata": {},
     "output_type": "execute_result"
    }
   ],
   "source": [
    "ddf_full_lem.tweet_text.sample(frac=0.001, random_state=21).compute()"
   ]
  },
  {
   "cell_type": "markdown",
   "metadata": {},
   "source": [
    "Looking good. The number of rows in our appended dataframe is correct and all tweets have been lemmatised.\n",
    "\n",
    "Let's save to our s3 bucket."
   ]
  },
  {
   "cell_type": "code",
   "execution_count": 94,
   "metadata": {},
   "outputs": [],
   "source": [
    "# bring local copy to save\n",
    "df_full_lem = ddf_full_lem.compute()"
   ]
  },
  {
   "cell_type": "code",
   "execution_count": 95,
   "metadata": {},
   "outputs": [
    {
     "data": {
      "text/html": [
       "<div>\n",
       "<style scoped>\n",
       "    .dataframe tbody tr th:only-of-type {\n",
       "        vertical-align: middle;\n",
       "    }\n",
       "\n",
       "    .dataframe tbody tr th {\n",
       "        vertical-align: top;\n",
       "    }\n",
       "\n",
       "    .dataframe thead th {\n",
       "        text-align: right;\n",
       "    }\n",
       "</style>\n",
       "<table border=\"1\" class=\"dataframe\">\n",
       "  <thead>\n",
       "    <tr style=\"text-align: right;\">\n",
       "      <th></th>\n",
       "      <th>tweet_text</th>\n",
       "      <th>hashtags</th>\n",
       "      <th>is_retweet</th>\n",
       "      <th>retweet_tweetid</th>\n",
       "    </tr>\n",
       "    <tr>\n",
       "      <th>index</th>\n",
       "      <th></th>\n",
       "      <th></th>\n",
       "      <th></th>\n",
       "      <th></th>\n",
       "    </tr>\n",
       "  </thead>\n",
       "  <tbody>\n",
       "    <tr>\n",
       "      <th>0</th>\n",
       "      <td>[سَلام_1, عَلَى_1, رَحْمَة_1, اللَّه_1, بَرَكَ...</td>\n",
       "      <td>None</td>\n",
       "      <td>True</td>\n",
       "      <td>9.986493e+17</td>\n",
       "    </tr>\n",
       "    <tr>\n",
       "      <th>1</th>\n",
       "      <td>[تَأْجِير_1, بَيْع_1, النطيطات_0, زحاليق_0, ما...</td>\n",
       "      <td>[للتأجير, لبيع النطيطات, زحاليق مائيه صابونية,...</td>\n",
       "      <td>True</td>\n",
       "      <td>9.996373e+17</td>\n",
       "    </tr>\n",
       "    <tr>\n",
       "      <th>2</th>\n",
       "      <td>[مِظَلَّة_1, ساتِر_1, أُفُق_1, رِياض_1, مِظَلّ...</td>\n",
       "      <td>[مظلات, آفاق الرياض, مظلات استراحات, مظلات مسا...</td>\n",
       "      <td>True</td>\n",
       "      <td>9.993939e+17</td>\n",
       "    </tr>\n",
       "    <tr>\n",
       "      <th>3</th>\n",
       "      <td>[فِيدْيُو_1, شاهَد_1, مُواطِن_1, وَثِق-ia_1, ف...</td>\n",
       "      <td>None</td>\n",
       "      <td>True</td>\n",
       "      <td>9.983516e+17</td>\n",
       "    </tr>\n",
       "    <tr>\n",
       "      <th>4</th>\n",
       "      <td>[ٱِسْتَغْفَر_1, اللَّه_1, عَظِيم_2, تاب-u_1]</td>\n",
       "      <td>None</td>\n",
       "      <td>False</td>\n",
       "      <td>NaN</td>\n",
       "    </tr>\n",
       "  </tbody>\n",
       "</table>\n",
       "</div>"
      ],
      "text/plain": [
       "                                              tweet_text  \\\n",
       "index                                                      \n",
       "0      [سَلام_1, عَلَى_1, رَحْمَة_1, اللَّه_1, بَرَكَ...   \n",
       "1      [تَأْجِير_1, بَيْع_1, النطيطات_0, زحاليق_0, ما...   \n",
       "2      [مِظَلَّة_1, ساتِر_1, أُفُق_1, رِياض_1, مِظَلّ...   \n",
       "3      [فِيدْيُو_1, شاهَد_1, مُواطِن_1, وَثِق-ia_1, ف...   \n",
       "4           [ٱِسْتَغْفَر_1, اللَّه_1, عَظِيم_2, تاب-u_1]   \n",
       "\n",
       "                                                hashtags  is_retweet  \\\n",
       "index                                                                  \n",
       "0                                                   None        True   \n",
       "1      [للتأجير, لبيع النطيطات, زحاليق مائيه صابونية,...        True   \n",
       "2      [مظلات, آفاق الرياض, مظلات استراحات, مظلات مسا...        True   \n",
       "3                                                   None        True   \n",
       "4                                                   None       False   \n",
       "\n",
       "       retweet_tweetid  \n",
       "index                   \n",
       "0         9.986493e+17  \n",
       "1         9.996373e+17  \n",
       "2         9.993939e+17  \n",
       "3         9.983516e+17  \n",
       "4                  NaN  "
      ]
     },
     "execution_count": 95,
     "metadata": {},
     "output_type": "execute_result"
    }
   ],
   "source": [
    "df_full_lem.head()"
   ]
  },
  {
   "cell_type": "code",
   "execution_count": 96,
   "metadata": {},
   "outputs": [
    {
     "data": {
      "text/plain": [
       "(6145783, 4)"
      ]
     },
     "execution_count": 96,
     "metadata": {},
     "output_type": "execute_result"
    }
   ],
   "source": [
    "df_full_lem.shape"
   ]
  },
  {
   "cell_type": "code",
   "execution_count": 97,
   "metadata": {},
   "outputs": [],
   "source": [
    "df_full_lem.to_parquet('/Users/richard/Desktop/data_cap3/processed/df_unique_tweets_hashtags_lemmatized_050521.parquet',\n",
    "                       engine='pyarrow')"
   ]
  },
  {
   "cell_type": "markdown",
   "metadata": {},
   "source": [
    "# Conclusions\n",
    "\n",
    "In this notebook, we have conducted **basic data cleaning**, including:\n",
    "- removing faulty rows (<1000 = <0.001%)\n",
    "- subsetting the dataset to include only Arabic tweets (ca. 96%)\n",
    "- cleaning the tweet_text column of URLs, Emoji, RT symbols and usernames, hashtags,\n",
    "- creating a new column containing the hashtags\n",
    "- creating a new column containing the retweet usernames\n",
    "\n",
    "\n",
    "We have also create a number of **reference tables** to reduce the size of the main dataframe and to begin constructing a relational database, including:\n",
    "- creating a dataframe with **only unique tweets** and a unique index (from 0 to n_tweets)\n",
    "- replacing tweet texts in original dataframe with indices from new (unique tweets) dataframe\n",
    "- creating a dataframe with **unique user screen names** and a new, unique index (from 0 to n_users)\n",
    "- replacing user screen names in original dataframe with indices from new (unique users) dataframe\n",
    "\n",
    "\n",
    "Finally, we have conducted extensive NLP Arabic-specific Pre-Processing of the unique tweets, including:\n",
    " - dediacritization\n",
    " - tokenization\n",
    " - orthographic normalisation\n",
    " - lemmatization\n",
    "\n",
    "\n",
    "Our data is now ready for the next stages of the project: EDA, Topic Modelling and Clustering. As a reminder, we have 3 main dataframes at this point:\n",
    "1. ddf: a distributed Dask dataframe containing the full dataset with tweet texts and user screen names as indices\n",
    "2. df_unique: a Pandas dataframe containing the tweet texts and hashtags of the ca. 4.1 million unique tweets\n",
    "3. df_users: a Pandas dataframe containing the user screen names and Twitter user IDs (when available) of all unique users in the dataset.\n",
    " "
   ]
  }
 ],
 "metadata": {
  "kernelspec": {
   "display_name": "cap3-wrangling",
   "language": "python",
   "name": "cap3-wrangling"
  },
  "language_info": {
   "codemirror_mode": {
    "name": "ipython",
    "version": 3
   },
   "file_extension": ".py",
   "mimetype": "text/x-python",
   "name": "python",
   "nbconvert_exporter": "python",
   "pygments_lexer": "ipython3",
   "version": "3.8.8"
  }
 },
 "nbformat": 4,
 "nbformat_minor": 4
}
