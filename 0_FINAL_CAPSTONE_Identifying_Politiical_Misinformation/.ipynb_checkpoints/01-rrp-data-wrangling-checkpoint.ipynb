{
 "cells": [
  {
   "cell_type": "markdown",
   "metadata": {},
   "source": [
    "# 01 Data Wrangling Notebook\n",
    "\n",
    "Work done\n",
    "1. Import\n",
    "2. Remove faulty rows (shifted, NaN for tweet_text). Data still >36.5mln tweets -- DONE\n",
    "3. Filter out only arabic + undefined that is Arabic\n",
    "4. Evaluate tweets vs retweets\n",
    "5. How many unique tweets?\n",
    " - create relational table - unique tweets and all tweets (common index)\n",
    " - save as parquet instead of csv\n",
    " - strive to bring data down to something you can work with in pandas\n",
    "6. Clean unique tweets\n",
    " - remove URLs\n",
    " - remove emoji\n",
    " - remove RT\n",
    " - remove \n"
   ]
  },
  {
   "cell_type": "code",
   "execution_count": null,
   "metadata": {},
   "outputs": [],
   "source": []
  },
  {
   "cell_type": "markdown",
   "metadata": {},
   "source": [
    "# About the Dataset\n",
    "\n",
    "Data downloaded on February 26, 2021 from [the Information Operations page](https://transparency.twitter.com/en/reports/information-operations.html) of the Twitter Transparency Center\n",
    "\n",
    "Notes about the dataset:\n",
    "- What's Included? \"Platform manipulation that we can reliably attribute to a government or state linked actor is considered an information operation and is prohibited by the Twitter Rules.\"\n",
    "- \"These datasets include profile information, Tweets and media (e.g., images and videos) from accounts we believe are connected to state linked information operations. Tweets and media which were deleted [by the user] are not included in the datasets.\"\n",
    "- \"For accounts with fewer than 5,000 followers, we have hashed certain identifying fields (such as user ID and screen name) in the publicly-available version of the datasets. While we’ve taken every possible precaution to ensure there are no false positives in these datasets, we’ve hashed these fields to reduce the potential negative impact on authentic or compromised accounts — while still enabling longitudinal research, network analysis, and assessment of the underlying content created by these accounts.\"\n",
    "\n",
    "\n",
    "Twitter's [statement](https://twitter.com/TwitterSafety/status/1245682431975460864?s=20) about this particular dataset: \n",
    "- \"A network of accounts associated with Saudi Arabia and operating out of multiple countries including KSA, Egypt and UAE, were amplifying content praising Saudi leadership, and critical of Qatar and Turkish activity in Yemen. A total of 5,350 accounts were removed.\""
   ]
  },
  {
   "cell_type": "code",
   "execution_count": null,
   "metadata": {},
   "outputs": [],
   "source": []
  },
  {
   "cell_type": "markdown",
   "metadata": {},
   "source": [
    "## Working with DASK\n",
    "\n",
    "### Behind the Scenes\n",
    "Every Dask dataframe is composed of multiple pandas dataframes (\"partitions\")\n",
    "\n",
    "- df.partitions[1].compute() gives you the 1st partition as a pandas dataframe\n",
    "\n",
    "- df.map_partitions(len).compute() will map the passed function across all partitions\n",
    "\n",
    "### Computing\n",
    "To get dask to actually compute the value we want, we will have to call .compute() at the end.\n",
    "\n",
    "- e.g. df.column.max().compute()\n",
    "\n",
    "### Inferring Data Types\n",
    "Dask infers the data types from the first few lines. This may mean that it encounters problems when it reads in the actual data during a computation. It may discover an entry at the end of a column that cannot be converted into the inferred datatype. That's why it's best to set datatypes on importing.\n",
    "\n",
    "### Indexing\n",
    "\n",
    "- See [this link](https://medium.com/analytics-vidhya/a-deep-dive-into-dask-dataframes-7455d66a5bc5#f3e9)\n",
    "- What this means is that there is no common index spanning across the partitions. Each partition has its separate index.\n",
    "- Luckily, we have a serial number column which we can use as the index. We will have to inform the dask dataframe to use it as the index. df_dd = df_dd.set_index('serial_no')\n",
    "- Please note that this is a costly operation, and shouldn’t be done again and again. It involves a lot of communication, shuffling, and exchange of data between the partitions. However, a one-time effort is worth it, if you need to perform frequent index-based slicing"
   ]
  },
  {
   "cell_type": "markdown",
   "metadata": {},
   "source": [
    "# Importing Libraries"
   ]
  },
  {
   "cell_type": "code",
   "execution_count": 2,
   "metadata": {},
   "outputs": [],
   "source": [
    "import coiled\n",
    "import dask\n",
    "from dask import distributed\n",
    "from dask.distributed import Client\n",
    "import dask.dataframe as dd\n",
    "import boto3\n",
    "import pandas as pd\n",
    "import numpy as np\n",
    "import matplotlib.pyplot as plt\n",
    "import re\n",
    "import emoji\n",
    "import lxml"
   ]
  },
  {
   "cell_type": "markdown",
   "metadata": {},
   "source": [
    "# Create Coiled Cluster"
   ]
  },
  {
   "cell_type": "code",
   "execution_count": 2,
   "metadata": {},
   "outputs": [
    {
     "name": "stdout",
     "output_type": "stream",
     "text": [
      "Updating software environment...\n",
      "Solving conda environment...\n",
      "Conda environment solved!\n",
      "Building Docker image\n",
      "(this takes a few minutes)\n",
      "STEP 1: FROM coiled/default:sha-9aa53a2\n",
      "STEP 2: COPY environment.yml environment.yml\n",
      "--> ffa6aef8a51\n",
      "STEP 3: RUN conda env update -n coiled -f environment.yml     && rm environment.yml     && conda clean --all -y     && echo \"conda activate coiled\" >> ~/.bashrc\n",
      "Collecting package metadata (repodata.json): ...working... done\n",
      "Solving environment: ...working... done\n",
      "\n",
      "Downloading and Extracting Packages\n",
      "multidict-5.1.0      | 66 KB     | ########## | 100% \n",
      "font-ttf-source-code | 654 KB    | ########## | 100% \n",
      "async_generator-1.10 | 39 KB     | ########## | 100% \n",
      "prometheus_client-0. | 45 KB     | ########## | 100% \n",
      "mkl-service-2.3.0    | 52 KB     | ########## | 100% \n",
      "ncurses-6.2          | 817 KB    | ########## | 100% \n",
      "h5py-2.10.0          | 902 KB    | ########## | 100% \n",
      "freetype-2.10.4      | 596 KB    | ########## | 100% \n",
      "fonts-conda-forge-1  | 4 KB      | ########## | 100% \n",
      "libpng-1.6.37        | 278 KB    | ########## | 100% \n",
      "protobuf-3.11.4      | 636 KB    | ########## | 100% \n",
      "packaging-20.9       | 37 KB     | ########## | 100% \n",
      "jupyter_client-6.1.7 | 77 KB     | ########## | 100% \n",
      "testpath-0.4.4       | 85 KB     | ########## | 100% \n",
      "requests-2.25.1      | 52 KB     | ########## | 100% \n",
      "libpq-12.3           | 2.6 MB    | ########## | 100% \n",
      "glog-0.4.0           | 123 KB    | ########## | 100% \n",
      "libgd-2.3.0          | 297 KB    | ########## | 100% \n",
      "libsodium-1.0.18     | 244 KB    | ########## | 100% \n",
      "re2-2019.08.01       | 456 KB    | ########## | 100% \n",
      "gdk-pixbuf-2.42.4    | 610 KB    | ########## | 100% \n",
      "parso-0.7.0          | 72 KB     | ########## | 100% \n",
      "pyrsistent-0.17.3    | 89 KB     | ########## | 100% \n",
      "thrift-compiler-0.13 | 10.9 MB   | ########## | 100% \n",
      "argon2-cffi-20.1.0   | 46 KB     | ########## | 100% \n",
      "atk-1.0-2.36.0       | 456 KB    | ########## | 100% \n",
      "tbb-2020.3           | 1.1 MB    | ########## | 100% \n",
      "pysocks-1.7.1        | 27 KB     | ########## | 100% \n",
      "traitlets-5.0.5      | 81 KB     | ########## | 100% \n",
      "jupyter_core-4.7.1   | 68 KB     | ########## | 100% \n",
      "tensorflow-base-2.3. | 74.8 MB   | ########## | 100% \n",
      "libgcc-ng-9.3.0      | 7.8 MB    | ########## | 100% \n",
      "pyarrow-0.17.0       | 4.3 MB    | ########## | 100% \n",
      "json5-0.9.5          | 22 KB     | ########## | 100% \n",
      "requests-oauthlib-1. | 23 KB     | ########## | 100% \n",
      "zeromq-4.3.4         | 331 KB    | ########## | 100% \n",
      "locket-0.2.1         | 10 KB     | ########## | 100% \n",
      "jinja2-2.11.3        | 101 KB    | ########## | 100% \n",
      "aiobotocore-1.2.2    | 41 KB     | ########## | 100% \n",
      "libevent-2.1.10      | 1.1 MB    | ########## | 100% \n",
      "libxcb-1.14          | 505 KB    | ########## | 100% \n",
      "openssl-1.1.1j       | 2.5 MB    | ########## | 100% \n",
      "glib-2.68.0          | 442 KB    | ########## | 100% \n",
      "send2trash-1.5.0     | 14 KB     | ########## | 100% \n",
      "aws-sdk-cpp-1.7.164  | 1.8 MB    | ########## | 100% \n",
      "ipython_genutils-0.2 | 27 KB     | ########## | 100% \n",
      "pycparser-2.20       | 94 KB     | ########## | 100% \n",
      "lz4-c-1.9.2          | 175 KB    | ########## | 100% \n",
      "matplotlib-3.3.4     | 26 KB     | ########## | 100% \n",
      "python_abi-3.7       | 4 KB      | ########## | 100% \n",
      "cffi-1.14.5          | 224 KB    | ########## | 100% \n",
      "termcolor-1.1.0      | 9 KB      | ########## | 100% \n",
      "jedi-0.17.2          | 918 KB    | ########## | 100% \n",
      "pyqt5-sip-4.19.18    | 310 KB    | ########## | 100% \n",
      "font-ttf-dejavu-sans | 335 KB    | ########## | 100% \n",
      "jsonschema-3.2.0     | 47 KB     | ########## | 100% \n",
      "nss-3.63             | 2.1 MB    | ########## | 100% \n",
      "werkzeug-1.0.1       | 239 KB    | ########## | 100% \n",
      "libffi-3.3           | 50 KB     | ########## | 100% \n",
      "nbconvert-6.0.7      | 484 KB    | ########## | 100% \n",
      "anyio-2.2.0          | 119 KB    | ########## | 100% \n",
      "yarl-1.6.3           | 133 KB    | ########## | 100% \n",
      "pyjwt-1.7.1          | 33 KB     | ########## | 100% \n",
      "jupyterlab-3.0.11    | 3.5 MB    | ########## | 100% \n",
      "pandas-1.2.3         | 8.5 MB    | ########## | 100% \n",
      "gstreamer-1.18.4     | 2.0 MB    | ########## | 100% \n",
      "ninja-1.10.2         | 1.4 MB    | ########## | 100% \n",
      "libuuid-1.0.3        | 15 KB     | ########## | 100% \n",
      "xz-5.2.5             | 341 KB    | ########## | 100% \n",
      "msgpack-python-1.0.2 | 81 KB     | ########## | 100% \n",
      "pexpect-4.8.0        | 53 KB     | ########## | 100% \n",
      "arrow-cpp-0.17.0     | 19.6 MB   | ########## | 100% \n",
      "parquet-cpp-1.5.1    | 3 KB      | ########## | 100% \n",
      "glib-tools-2.68.0    | 86 KB     | ########## | 100% \n",
      "certifi-2020.12.5    | 141 KB    | ########## | 100% \n",
      "setuptools-52.0.0    | 710 KB    | ########## | 100% \n",
      "matplotlib-base-3.3. | 5.1 MB    | ########## | 100% \n",
      "cairo-1.16.0         | 1.0 MB    | ########## | 100% \n",
      "libtiff-4.2.0        | 502 KB    | ########## | 100% \n",
      "snappy-1.1.8         | 40 KB     | ########## | 100% \n",
      "markupsafe-1.1.1     | 26 KB     | ########## | 100% \n",
      "coiled-0.0.37        | 46 KB     | ########## | 100% \n",
      "libllvm11-11.1.0     | 29.1 MB   | ########## | 100% \n",
      "libgomp-9.3.0        | 376 KB    | ########## | 100% \n",
      "gettext-0.19.8.1     | 2.9 MB    | ########## | 100% \n",
      "kiwisolver-1.3.1     | 80 KB     | ########## | 100% \n",
      "libssh2-1.9.0        | 269 KB    | ########## | 100% \n",
      "cachetools-4.2.1     | 13 KB     | ########## | 100% \n",
      "mistune-0.8.4        | 54 KB     | ########## | 100% \n",
      "blinker-1.4          | 23 KB     | ########## | 100% \n",
      "libxslt-1.1.33       | 522 KB    | ########## | 100% \n",
      "mkl_fft-1.3.0        | 167 KB    | ########## | 100% \n",
      "async-timeout-3.0.1  | 13 KB     | ########## | 100% \n",
      "bleach-3.3.0         | 113 KB    | ########## | 100% \n",
      "pyopenssl-20.0.1     | 49 KB     | ########## | 100% \n",
      "decorator-4.4.2      | 12 KB     | ########## | 100% \n",
      "bokeh-2.3.0          | 5.8 MB    | ########## | 100% \n",
      "hdf5-1.10.6          | 3.7 MB    | ########## | 100% \n",
      "typing-extensions-3. | 12 KB     | ########## | 100% \n",
      "pyqt-impl-5.12.3     | 5.9 MB    | ########## | 100% \n",
      "pcre-8.44            | 212 KB    | ########## | 100% \n",
      "bzip2-1.0.8          | 78 KB     | ########## | 100% \n",
      "cryptography-3.4.6   | 908 KB    | ########## | 100% \n",
      "entrypoints-0.3      | 12 KB     | ########## | 100% \n",
      "ipython-7.21.0       | 978 KB    | ########## | 100% \n",
      "libwebp-base-1.2.0   | 437 KB    | ########## | 100% \n",
      "libtool-2.4.6        | 394 KB    | ########## | 100% \n",
      "c-ares-1.17.1        | 108 KB    | ########## | 100% \n",
      "nest-asyncio-1.5.1   | 10 KB     | ########## | 100% \n",
      "dbus-1.13.18         | 504 KB    | ########## | 100% \n",
      "tensorflow-estimator | 271 KB    | ########## | 100% \n",
      "_tflow_select-2.3.0  | 3 KB      | ########## | 100% \n",
      "giflib-5.2.1         | 78 KB     | ########## | 100% \n",
      "pygments-2.8.1       | 703 KB    | ########## | 100% \n",
      "librsvg-2.50.3       | 16.8 MB   | ########## | 100% \n",
      "tensorflow-2.3.0     | 4 KB      | ########## | 100% \n",
      "olefile-0.46         | 50 KB     | ########## | 100% \n",
      "importlib-metadata-3 | 31 KB     | ########## | 100% \n",
      "yaml-0.2.5           | 75 KB     | ########## | 100% \n",
      "mkl-2020.2           | 138.3 MB  | ########## | 100% \n",
      "readline-8.1         | 362 KB    | ########## | 100% \n",
      "psutil-5.8.0         | 329 KB    | ########## | 100% \n",
      "seaborn-0.11.1       | 212 KB    | ########## | 100% \n",
      "absl-py-0.12.0       | 171 KB    | ########## | 100% \n",
      "pyasn1-modules-0.2.8 | 72 KB     | ########## | 100% \n",
      "graphite2-1.3.14     | 99 KB     | ########## | 100% \n",
      "fastparquet-0.5.0    | 177 KB    | ########## | 100% \n",
      "gflags-2.2.2         | 126 KB    | ########## | 100% \n",
      "pyasn1-0.4.8         | 57 KB     | ########## | 100% \n",
      "libprotobuf-3.11.4   | 2.9 MB    | ########## | 100% \n",
      "krb5-1.17.1          | 1.3 MB    | ########## | 100% \n",
      "pip-21.0.1           | 1.8 MB    | ########## | 100% \n",
      "thrift-0.11.0        | 105 KB    | ########## | 100% \n",
      "nbformat-5.1.2       | 68 KB     | ########## | 100% \n",
      "boost-cpp-1.72.0     | 16.3 MB   | ########## | 100% \n",
      "attrs-20.3.0         | 43 KB     | ########## | 100% \n",
      "lcms2-2.11           | 307 KB    | ########## | 100% \n",
      "mkl_random-1.1.1     | 322 KB    | ########## | 100% \n",
      "zstd-1.4.5           | 619 KB    | ########## | 100% \n",
      "chardet-3.0.4        | 175 KB    | ########## | 100% \n",
      "fontconfig-2.13.1    | 250 KB    | ########## | 100% \n",
      "pickleshare-0.7.5    | 13 KB     | ########## | 100% \n",
      "pyyaml-5.4.1         | 168 KB    | ########## | 100% \n",
      "nbclient-0.5.3       | 62 KB     | ########## | 100% \n"
     ]
    },
    {
     "name": "stdout",
     "output_type": "stream",
     "text": [
      "tensorboard-plugin-w | 630 KB    | ########## | 100% \n",
      "jupyter_server-1.4.1 | 311 KB    | ########## | 100% \n",
      "fsspec-0.8.3         | 72 KB     | ########## | 100% \n",
      "google-pasta-0.2.0   | 46 KB     | ########## | 100% \n",
      "backcall-0.2.0       | 13 KB     | ########## | 100% \n",
      "cython-0.29.22       | 1.9 MB    | ########## | 100% \n",
      "qt-5.12.9            | 99.5 MB   | ########## | 100% \n",
      "rich-9.13.0          | 320 KB    | ########## | 100% \n",
      "importlib_metadata-3 | 11 KB     | ########## | 100% \n",
      "coverage-5.5         | 254 KB    | ########## | 100% \n",
      "rsa-4.7.2            | 28 KB     | ########## | 100% \n",
      "jupyterlab_server-2. | 37 KB     | ########## | 100% \n",
      "tensorboard-2.4.0    | 8.8 MB    | ########## | 100% \n",
      "grpc-cpp-1.28.1      | 4.0 MB    | ########## | 100% \n",
      "emoji-1.0.1          | 74 KB     | ########## | 100% \n",
      "aiohttp-3.7.4        | 536 KB    | ########## | 100% \n",
      "abseil-cpp-20200225. | 864 KB    | ########## | 100% \n",
      "brotli-1.0.9         | 375 KB    | ########## | 100% \n",
      "cloudpickle-1.6.0    | 30 KB     | ########## | 100% \n",
      "cycler-0.10.0        | 13 KB     | ########## | 100% \n",
      "jupyter-packaging-0. | 14 KB     | ########## | 100% \n",
      "brotlipy-0.7.0       | 320 KB    | ########## | 100% \n",
      "gtk2-2.24.33         | 7.3 MB    | ########## | 100% \n",
      "mysql-common-8.0.22  | 1.5 MB    | ########## | 100% \n",
      "pyzmq-20.0.0         | 439 KB    | ########## | 100% \n",
      "markdown-3.3.4       | 127 KB    | ########## | 100% \n",
      "numpy-base-1.19.2    | 4.1 MB    | ########## | 100% \n",
      "pandocfilters-1.4.3  | 14 KB     | ########## | 100% \n",
      "fonts-conda-ecosyste | 4 KB      | ########## | 100% \n",
      "wheel-0.36.2         | 33 KB     | ########## | 100% \n",
      "python-dateutil-2.8. | 221 KB    | ########## | 100% \n",
      "harfbuzz-2.8.0       | 1.9 MB    | ########## | 100% \n",
      "heapdict-1.0.1       | 9 KB      | ########## | 100% \n",
      "gobject-introspectio | 1.4 MB    | ########## | 100% \n",
      "wrapt-1.12.1         | 49 KB     | ########## | 100% \n",
      "prompt-toolkit-3.0.1 | 256 KB    | ########## | 100% \n",
      "six-1.15.0           | 27 KB     | ########## | 100% \n",
      "intel-openmp-2020.2  | 786 KB    | ########## | 100% \n",
      "graphviz-2.47.0      | 5.3 MB    | ########## | 100% \n",
      "jpeg-9d              | 264 KB    | ########## | 100% \n",
      "commonmark-0.9.1     | 49 KB     | ########## | 100% \n",
      "pyqtwebengine-5.12.1 | 175 KB    | ########## | 100% \n",
      "jmespath-0.10.0      | 23 KB     | ########## | 100% \n",
      "aioitertools-0.7.1   | 20 KB     | ########## | 100% \n",
      "typing_extensions-3. | 28 KB     | ########## | 100% \n",
      "babel-2.9.0          | 5.5 MB    | ########## | 100% \n",
      "pyqt-5.12.3          | 21 KB     | ########## | 100% \n",
      "webencodings-0.5.1   | 19 KB     | ########## | 100% \n",
      "blas-1.0             | 6 KB      | ########## | 100% \n",
      "future-0.18.2        | 631 KB    | ########## | 100% \n",
      "terminado-0.9.3      | 25 KB     | ########## | 100% \n",
      "sortedcontainers-2.3 | 26 KB     | ########## | 100% \n",
      "pillow-8.1.2         | 624 KB    | ########## | 100% \n",
      "toolz-0.11.1         | 46 KB     | ########## | 100% \n",
      "ptyprocess-0.7.0     | 17 KB     | ########## | 100% \n",
      "zict-2.0.0           | 10 KB     | ########## | 100% \n",
      "libcurl-7.69.1       | 431 KB    | ########## | 100% \n",
      "mysql-libs-8.0.22    | 1.7 MB    | ########## | 100% \n",
      "idna-2.10            | 52 KB     | ########## | 100% \n",
      "click-7.1.2          | 64 KB     | ########## | 100% \n",
      "numpy-1.19.2         | 22 KB     | ########## | 100% \n",
      "lxml-4.5.1           | 1.2 MB    | ########## | 100% \n",
      "scipy-1.6.1          | 15.4 MB   | ########## | 100% \n",
      "google-auth-1.28.0   | 72 KB     | ########## | 100% \n",
      "libedit-3.1.20210216 | 167 KB    | ########## | 100% \n",
      "zipp-3.4.1           | 15 KB     | ########## | 100% \n",
      "astunparse-1.6.3     | 17 KB     | ########## | 100% \n",
      "font-ttf-ubuntu-0.83 | 1.5 MB    | ########## | 100% \n",
      "ld_impl_linux-64-2.3 | 568 KB    | ########## | 100% \n",
      "colorama-0.4.4       | 21 KB     | ########## | 100% \n",
      "pyqtchart-5.12       | 256 KB    | ########## | 100% \n",
      "pyparsing-2.4.7      | 59 KB     | ########## | 100% \n",
      "boto3-1.17.28        | 70 KB     | ########## | 100% \n",
      "llvmlite-0.36.0      | 391 KB    | ########## | 100% \n",
      "tblib-1.7.0          | 16 KB     | ########## | 100% \n",
      "keras-preprocessing- | 35 KB     | ########## | 100% \n",
      "google-auth-oauthlib | 18 KB     | ########## | 100% \n",
      "oauthlib-3.1.0       | 91 KB     | ########## | 100% \n",
      "opt_einsum-3.1.0     | 54 KB     | ########## | 100% \n",
      "pango-1.42.4         | 533 KB    | ########## | 100% \n",
      "libthrift-0.13.0     | 2.5 MB    | ########## | 100% \n",
      "sqlite-3.35.2        | 983 KB    | ########## | 100% \n",
      "s3transfer-0.3.6     | 53 KB     | ########## | 100% \n",
      "sniffio-1.2.0        | 15 KB     | ########## | 100% \n",
      "cytoolz-0.11.0       | 328 KB    | ########## | 100% \n",
      "ipykernel-5.3.4      | 179 KB    | ########## | 100% \n",
      "zlib-1.2.11          | 103 KB    | ########## | 100% \n",
      "dask-2021.2.0        | 5 KB      | ########## | 100% \n",
      "python-3.7.10        | 45.2 MB   | ########## | 100% \n",
      "gast-0.3.3           | 14 KB     | ########## | 100% \n",
      "pixman-0.40.0        | 370 KB    | ########## | 100% \n",
      "tk-8.6.10            | 3.0 MB    | ########## | 100% \n",
      "libxml2-2.9.10       | 1.3 MB    | ########## | 100% \n",
      "distributed-2021.2.0 | 1.0 MB    | ########## | 100% \n",
      "icu-68.1             | 11.8 MB   | ########## | 100% \n",
      "s3fs-0.5.2           | 24 KB     | ########## | 100% \n",
      "fribidi-1.0.10       | 103 KB    | ########## | 100% \n",
      "dask-core-2021.2.0   | 643 KB    | ########## | 100% \n",
      "curl-7.69.1          | 137 KB    | ########## | 100% \n",
      "partd-1.1.0          | 20 KB     | ########## | 100% \n",
      "_libgcc_mutex-0.1    | 3 KB      | ########## | 100% \n",
      "wcwidth-0.2.5        | 29 KB     | ########## | 100% \n",
      "urllib3-1.26.4       | 105 KB    | ########## | 100% \n",
      "libclang-11.1.0      | 19.2 MB   | ########## | 100% \n",
      "libiconv-1.16        | 1.4 MB    | ########## | 100% \n",
      "pytz-2021.1          | 181 KB    | ########## | 100% \n",
      "libstdcxx-ng-9.3.0   | 4.0 MB    | ########## | 100% \n",
      "nspr-4.30            | 233 KB    | ########## | 100% \n",
      "nbclassic-0.2.6      | 19 KB     | ########## | 100% \n",
      "libllvm10-10.0.1     | 22.1 MB   | ########## | 100% \n",
      "libglib-2.68.0       | 3.0 MB    | ########## | 100% \n",
      "numba-0.53.0         | 3.3 MB    | ########## | 100% \n",
      "defusedxml-0.7.1     | 23 KB     | ########## | 100% \n",
      "expat-2.2.10         | 153 KB    | ########## | 100% \n",
      "libxkbcommon-1.0.3   | 581 KB    | ########## | 100% \n",
      "libwebp-1.2.0        | 493 KB    | ########## | 100% \n",
      "ca-certificates-2021 | 118 KB    | ########## | 100% \n",
      "jupyterlab_pygments- | 8 KB      | ########## | 100% \n",
      "notebook-6.3.0       | 4.1 MB    | ########## | 100% \n",
      "libgfortran-ng-7.3.0 | 1006 KB   | ########## | 100% \n",
      "pandoc-2.12          | 9.5 MB    | ########## | 100% \n",
      "gst-plugins-base-1.1 | 6.8 MB    | ########## | 100% \n",
      "gts-0.7.6            | 411 KB    | ########## | 100% \n",
      "thrift-cpp-0.13.0    | 14 KB     | ########## | 100% \n",
      "botocore-1.20.33     | 3.6 MB    | ########## | 100% \n",
      "grpcio-1.36.1        | 1.9 MB    | ########## | 100% \n",
      "_openmp_mutex-4.5    | 22 KB     | ########## | 100% \n",
      "font-ttf-inconsolata | 83 KB     | ########## | 100% \n",
      "tornado-6.1          | 589 KB    | ########## | 100% \n",
      "Preparing transaction: ...working... done\n",
      "Verifying transaction: ...working... done\n",
      "Executing transaction: ...working...\n",
      "\n",
      "done\n",
      "#\n",
      "# To activate this environment, use\n",
      "#\n",
      "#     $ conda activate coiled\n",
      "#\n",
      "# To deactivate an active environment, use\n",
      "#\n",
      "#     $ conda deactivate\n",
      "\n",
      "Cache location: /opt/conda/pkgs\n",
      "Will remove the following tarballs:\n",
      "\n",
      "/opt/conda/pkgs\n",
      "---------------\n",
      "multidict-5.1.0-py37h27cfd23_2.conda          66 KB\n",
      "font-ttf-source-code-pro-2.030-h7457263_0.conda     654 KB\n",
      "async_generator-1.10-py37h28b3542_0.conda      39 KB\n",
      "prometheus_client-0.9.0-pyhd3eb1b0_0.conda      45 KB\n",
      "mkl-service-2.3.0-py37he8ac12f_0.conda        52 KB\n",
      "ncurses-6.2-he6710b0_1.conda                 817 KB\n",
      "h5py-2.10.0-py37hd6299e0_1.conda             902 KB\n",
      "freetype-2.10.4-h5ab3b9f_0.conda             596 KB\n",
      "fonts-conda-forge-1-0.tar.bz2                  4 KB\n",
      "libpng-1.6.37-hbc83047_0.conda               278 KB\n",
      "protobuf-3.11.4-py37he6710b0_0.conda         636 KB\n",
      "packaging-20.9-pyhd3eb1b0_0.conda             37 KB\n",
      "jupyter_client-6.1.7-py_0.conda               77 KB\n",
      "testpath-0.4.4-pyhd3eb1b0_0.tar.bz2           85 KB\n",
      "requests-2.25.1-pyhd3eb1b0_0.conda            52 KB\n",
      "libpq-12.3-h255efa7_3.tar.bz2                2.6 MB\n",
      "glog-0.4.0-he6710b0_0.conda                  123 KB\n",
      "libgd-2.3.0-h47910db_1.tar.bz2               297 KB\n",
      "libsodium-1.0.18-h7b6447c_0.conda            244 KB\n",
      "re2-2019.08.01-he6710b0_0.conda              456 KB\n",
      "gdk-pixbuf-2.42.4-h04a7f16_2.tar.bz2         610 KB\n",
      "parso-0.7.0-py_0.conda                        72 KB\n",
      "pyrsistent-0.17.3-py37h7b6447c_0.conda        89 KB\n",
      "thrift-compiler-0.13.0-hfb8234f_6.conda     10.9 MB\n",
      "argon2-cffi-20.1.0-py37h27cfd23_1.conda       46 KB\n",
      "atk-1.0-2.36.0-h28cd5cc_0.conda              456 KB\n",
      "tbb-2020.3-hfd86e86_0.conda                  1.1 MB\n",
      "pysocks-1.7.1-py37_1.conda                    27 KB\n",
      "traitlets-5.0.5-pyhd3eb1b0_0.tar.bz2          81 KB\n",
      "jupyter_core-4.7.1-py37h06a4308_0.conda       68 KB\n",
      "tensorflow-base-2.3.0-eigen_py37h3b305d7_0.conda    74.8 MB\n",
      "libgcc-ng-9.3.0-h2828fa1_18.tar.bz2          7.8 MB\n",
      "pyarrow-0.17.0-py37h110162e_0.tar.bz2        4.3 MB\n",
      "json5-0.9.5-py_0.conda                        22 KB\n",
      "requests-oauthlib-1.3.0-py_0.conda            23 KB\n",
      "zeromq-4.3.4-h2531618_0.conda                331 KB\n",
      "locket-0.2.1-py37h06a4308_1.conda             10 KB\n",
      "jinja2-2.11.3-pyhd3eb1b0_0.conda             101 KB\n",
      "aiobotocore-1.2.2-pyhd3eb1b0_0.conda          41 KB\n",
      "libevent-2.1.10-hcdb4288_3.tar.bz2           1.1 MB\n",
      "libxcb-1.14-h7b6447c_0.conda                 505 KB\n",
      "openssl-1.1.1j-h27cfd23_0.conda              2.5 MB\n",
      "glib-2.68.0-h9c3ff4c_2.tar.bz2               442 KB\n",
      "send2trash-1.5.0-pyhd3eb1b0_1.conda           14 KB\n",
      "aws-sdk-cpp-1.7.164-hc831370_1.tar.bz2       1.8 MB\n",
      "ipython_genutils-0.2.0-pyhd3eb1b0_1.conda      27 KB\n",
      "pycparser-2.20-py_2.conda                     94 KB\n",
      "lz4-c-1.9.2-heb0550a_3.conda                 175 KB\n",
      "matplotlib-3.3.4-py37h06a4308_0.conda         26 KB\n",
      "python_abi-3.7-1_cp37m.tar.bz2                 4 KB\n",
      "cffi-1.14.5-py37h261ae71_0.conda             224 KB\n",
      "termcolor-1.1.0-py37h06a4308_1.conda           9 KB\n",
      "jedi-0.17.2-py37h06a4308_1.conda             918 KB\n",
      "pyqt5-sip-4.19.18-py37hcd2ae1e_7.tar.bz2     310 KB\n",
      "font-ttf-dejavu-sans-mono-2.37-h6964260_0.conda     335 KB\n",
      "jsonschema-3.2.0-py_2.conda                   47 KB\n",
      "nss-3.63-hb5efdd6_0.tar.bz2                  2.1 MB\n",
      "werkzeug-1.0.1-pyhd3eb1b0_0.tar.bz2          239 KB\n",
      "libffi-3.3-he6710b0_2.conda                   50 KB\n",
      "nbconvert-6.0.7-py37_0.conda                 484 KB\n",
      "anyio-2.2.0-py37h06a4308_0.conda             119 KB\n",
      "yarl-1.6.3-py37h27cfd23_0.conda              133 KB\n",
      "pyjwt-1.7.1-py37_0.conda                      33 KB\n",
      "jupyterlab-3.0.11-pyhd3eb1b0_0.conda         3.5 MB\n",
      "pandas-1.2.3-py37ha9443f7_0.conda            8.5 MB\n",
      "gstreamer-1.18.4-h76c114f_0.tar.bz2          2.0 MB\n",
      "ninja-1.10.2-py37hff7bd54_0.conda            1.4 MB\n",
      "libuuid-1.0.3-h1bed415_2.conda                15 KB\n",
      "xz-5.2.5-h7b6447c_0.conda                    341 KB\n",
      "msgpack-python-1.0.2-py37hff7bd54_1.conda      81 KB\n",
      "pexpect-4.8.0-pyhd3eb1b0_3.conda              53 KB\n",
      "arrow-cpp-0.17.0-py37hc11a6a2_0.tar.bz2     19.6 MB\n",
      "parquet-cpp-1.5.1-2.tar.bz2                    3 KB\n",
      "glib-tools-2.68.0-h9c3ff4c_2.tar.bz2          86 KB\n",
      "certifi-2020.12.5-py37h06a4308_0.conda       141 KB\n",
      "setuptools-52.0.0-py37h06a4308_0.conda       710 KB\n",
      "matplotlib-base-3.3.4-py37h62a2d02_0.conda     5.1 MB\n",
      "cairo-1.16.0-hf32fb01_1.conda                1.0 MB\n",
      "libtiff-4.2.0-h85742a9_0.conda               502 KB\n",
      "snappy-1.1.8-he6710b0_0.conda                 40 KB\n",
      "markupsafe-1.1.1-py37h14c3975_1.conda         26 KB\n",
      "coiled-0.0.37-pyhd8ed1ab_0.tar.bz2            46 KB\n",
      "libllvm11-11.1.0-hf817b99_0.tar.bz2         29.1 MB\n",
      "libgomp-9.3.0-h2828fa1_18.tar.bz2            376 KB\n",
      "gettext-0.19.8.1-h9b4dc7a_1.conda            2.9 MB\n",
      "kiwisolver-1.3.1-py37h2531618_0.conda         80 KB\n",
      "libssh2-1.9.0-h1ba5d50_1.conda               269 KB\n",
      "cachetools-4.2.1-pyhd3eb1b0_0.conda           13 KB\n",
      "mistune-0.8.4-py37h14c3975_1001.conda         54 KB\n",
      "blinker-1.4-py37h06a4308_0.conda              23 KB\n",
      "libxslt-1.1.33-h15afd5d_2.tar.bz2            522 KB\n",
      "mkl_fft-1.3.0-py37h54f3939_0.conda           167 KB\n",
      "async-timeout-3.0.1-py37h06a4308_0.conda      13 KB\n",
      "bleach-3.3.0-pyhd3eb1b0_0.conda              113 KB\n",
      "pyopenssl-20.0.1-pyhd3eb1b0_1.conda           49 KB\n",
      "decorator-4.4.2-pyhd3eb1b0_0.tar.bz2          12 KB\n",
      "bokeh-2.3.0-py37h06a4308_0.conda             5.8 MB\n",
      "hdf5-1.10.6-hb1b8bf9_0.conda                 3.7 MB\n",
      "typing-extensions-3.7.4.3-hd3eb1b0_0.conda      12 KB\n",
      "pyqt-impl-5.12.3-py37he336c9b_7.tar.bz2      5.9 MB\n",
      "pcre-8.44-he6710b0_0.conda                   212 KB\n",
      "bzip2-1.0.8-h7b6447c_0.conda                  78 KB\n",
      "cryptography-3.4.6-py37hd23ed53_0.conda      908 KB\n",
      "entrypoints-0.3-py37_0.conda                  12 KB\n",
      "ipython-7.21.0-py37hb070fc8_0.conda          978 KB\n",
      "libwebp-base-1.2.0-h27cfd23_0.conda          437 KB\n",
      "libtool-2.4.6-h7b6447c_1005.conda            394 KB\n",
      "c-ares-1.17.1-h27cfd23_0.conda               108 KB\n",
      "nest-asyncio-1.5.1-pyhd3eb1b0_0.conda         10 KB\n",
      "dbus-1.13.18-hb2f20db_0.conda                504 KB\n",
      "tensorflow-estimator-2.3.0-pyheb71bc4_0.conda     271 KB\n",
      "_tflow_select-2.3.0-eigen.conda                3 KB\n",
      "giflib-5.2.1-h7b6447c_0.conda                 78 KB\n",
      "pygments-2.8.1-pyhd3eb1b0_0.conda            703 KB\n",
      "librsvg-2.50.3-hfa39831_1.tar.bz2           16.8 MB\n",
      "tensorflow-2.3.0-eigen_py37h189e6a2_0.conda       4 KB\n",
      "olefile-0.46-py37_0.conda                     50 KB\n",
      "importlib-metadata-3.7.3-py37h06a4308_1.conda      31 KB\n",
      "yaml-0.2.5-h7b6447c_0.conda                   75 KB\n",
      "mkl-2020.2-256.conda                       138.3 MB\n",
      "readline-8.1-h27cfd23_0.conda                362 KB\n",
      "psutil-5.8.0-py37h27cfd23_1.conda            329 KB\n",
      "seaborn-0.11.1-pyhd3eb1b0_0.conda            212 KB\n",
      "absl-py-0.12.0-py37h06a4308_0.conda          171 KB\n",
      "pyasn1-modules-0.2.8-py_0.conda               72 KB\n",
      "graphite2-1.3.14-h23475e2_0.conda             99 KB\n",
      "fastparquet-0.5.0-py37h6323ea4_1.conda       177 KB\n",
      "gflags-2.2.2-he6710b0_0.conda                126 KB\n",
      "pyasn1-0.4.8-py_0.conda                       57 KB\n",
      "libprotobuf-3.11.4-hd408876_0.conda          2.9 MB\n",
      "krb5-1.17.1-h173b8e3_0.conda                 1.3 MB\n",
      "pip-21.0.1-py37h06a4308_0.conda              1.8 MB\n",
      "thrift-0.11.0-py37hf484d3e_0.conda           105 KB\n",
      "nbformat-5.1.2-pyhd3eb1b0_1.conda             68 KB\n",
      "boost-cpp-1.72.0-h9d3c048_4.tar.bz2         16.3 MB\n",
      "attrs-20.3.0-pyhd3eb1b0_0.conda               43 KB\n",
      "lcms2-2.11-h396b838_0.conda                  307 KB\n",
      "mkl_random-1.1.1-py37h0573a6f_0.conda        322 KB\n",
      "zstd-1.4.5-h9ceee32_0.conda                  619 KB\n",
      "chardet-3.0.4-py37h06a4308_1003.conda        175 KB\n",
      "fontconfig-2.13.1-h6c09931_0.conda           250 KB\n",
      "pickleshare-0.7.5-pyhd3eb1b0_1003.conda       13 KB\n",
      "pyyaml-5.4.1-py37h27cfd23_1.conda            168 KB\n",
      "nbclient-0.5.3-pyhd3eb1b0_0.conda             62 KB\n",
      "tensorboard-plugin-wit-1.6.0-py_0.conda      630 KB\n",
      "jupyter_server-1.4.1-py37h06a4308_0.conda     311 KB\n",
      "fsspec-0.8.3-py_0.conda                       72 KB\n",
      "google-pasta-0.2.0-py_0.conda                 46 KB\n",
      "backcall-0.2.0-pyhd3eb1b0_0.tar.bz2           13 KB\n",
      "cython-0.29.22-py37h2531618_0.conda          1.9 MB\n",
      "qt-5.12.9-h9d6b050_2.tar.bz2                99.5 MB\n",
      "rich-9.13.0-py37h89c1867_1.tar.bz2           320 KB\n",
      "importlib_metadata-3.7.3-hd3eb1b0_1.conda      11 KB\n",
      "coverage-5.5-py37h27cfd23_2.conda            254 KB\n",
      "rsa-4.7.2-pyhd3eb1b0_1.conda                  28 KB\n",
      "jupyterlab_server-2.3.0-pyhd3eb1b0_0.conda      37 KB\n",
      "tensorboard-2.4.0-pyhc547734_0.conda         8.8 MB\n",
      "grpc-cpp-1.28.1-h8e748ff_2.tar.bz2           4.0 MB\n",
      "emoji-1.0.1-pyhd8ed1ab_0.tar.bz2              74 KB\n",
      "aiohttp-3.7.4-py37h27cfd23_1.conda           536 KB\n",
      "abseil-cpp-20200225.2-h2531618_0.conda       864 KB\n",
      "brotli-1.0.9-he6710b0_2.conda                375 KB\n",
      "cloudpickle-1.6.0-py_0.conda                  30 KB\n",
      "cycler-0.10.0-py37_0.conda                    13 KB\n",
      "jupyter-packaging-0.7.12-pyhd3eb1b0_0.conda      14 KB\n",
      "brotlipy-0.7.0-py37h27cfd23_1003.conda       320 KB\n",
      "gtk2-2.24.33-hab0c2f8_0.tar.bz2              7.3 MB\n",
      "mysql-common-8.0.22-ha770c72_1.tar.bz2       1.5 MB\n",
      "pyzmq-20.0.0-py37h2531618_1.conda            439 KB\n",
      "markdown-3.3.4-py37h06a4308_0.conda          127 KB\n",
      "numpy-base-1.19.2-py37hfa32c7d_0.conda       4.1 MB\n",
      "pandocfilters-1.4.3-py37h06a4308_1.conda      14 KB\n",
      "fonts-conda-ecosystem-1-0.tar.bz2              4 KB\n",
      "wheel-0.36.2-pyhd3eb1b0_0.conda               33 KB\n",
      "python-dateutil-2.8.1-pyhd3eb1b0_0.tar.bz2     221 KB\n",
      "harfbuzz-2.8.0-h83ec7ef_1.tar.bz2            1.9 MB\n",
      "heapdict-1.0.1-py_0.conda                      9 KB\n",
      "gobject-introspection-1.68.0-py37h2109141_1.conda     1.4 MB\n",
      "wrapt-1.12.1-py37h7b6447c_1.conda             49 KB\n",
      "prompt-toolkit-3.0.17-pyh06a4308_0.conda     256 KB\n",
      "six-1.15.0-py37h06a4308_0.conda               27 KB\n",
      "intel-openmp-2020.2-254.conda                786 KB\n",
      "graphviz-2.47.0-h93c640b_0.tar.bz2           5.3 MB\n",
      "jpeg-9d-h36c2ea0_0.tar.bz2                   264 KB\n",
      "commonmark-0.9.1-py_0.conda                   49 KB\n",
      "pyqtwebengine-5.12.1-py37he336c9b_7.tar.bz2     175 KB\n",
      "jmespath-0.10.0-py_0.conda                    23 KB\n",
      "aioitertools-0.7.1-pyhd3eb1b0_0.conda         20 KB\n",
      "typing_extensions-3.7.4.3-pyh06a4308_0.conda      28 KB\n",
      "babel-2.9.0-pyhd3eb1b0_0.conda               5.5 MB\n",
      "pyqt-5.12.3-py37h89c1867_7.tar.bz2            21 KB\n",
      "webencodings-0.5.1-py37_1.conda               19 KB\n",
      "blas-1.0-mkl.conda                             6 KB\n",
      "future-0.18.2-py37_1.conda                   631 KB\n",
      "terminado-0.9.3-py37h06a4308_0.conda          25 KB\n",
      "sortedcontainers-2.3.0-pyhd3eb1b0_0.conda      26 KB\n",
      "pillow-8.1.2-py37he98fc37_0.conda            624 KB\n",
      "toolz-0.11.1-pyhd3eb1b0_0.tar.bz2             46 KB\n",
      "ptyprocess-0.7.0-pyhd3eb1b0_2.conda           17 KB\n",
      "zict-2.0.0-pyhd3eb1b0_0.tar.bz2               10 KB\n",
      "libcurl-7.69.1-h20c2e04_0.conda              431 KB\n",
      "mysql-libs-8.0.22-h1fd7589_1.tar.bz2         1.7 MB\n",
      "idna-2.10-pyhd3eb1b0_0.tar.bz2                52 KB\n",
      "click-7.1.2-pyhd3eb1b0_0.tar.bz2              64 KB\n",
      "numpy-1.19.2-py37h54aff64_0.conda             22 KB\n",
      "lxml-4.5.1-py37hefd8a0e_0.conda              1.2 MB\n",
      "scipy-1.6.1-py37h91f5cce_0.conda            15.4 MB\n",
      "google-auth-1.28.0-pyhd3eb1b0_0.conda         72 KB\n",
      "libedit-3.1.20210216-h27cfd23_1.conda        167 KB\n",
      "zipp-3.4.1-pyhd3eb1b0_0.conda                 15 KB\n",
      "astunparse-1.6.3-py_0.conda                   17 KB\n",
      "font-ttf-ubuntu-0.83-h8b1ccd4_0.conda        1.5 MB\n",
      "ld_impl_linux-64-2.33.1-h53a641e_7.conda     568 KB\n",
      "colorama-0.4.4-pyhd3eb1b0_0.conda             21 KB\n",
      "pyqtchart-5.12-py37he336c9b_7.tar.bz2        256 KB\n",
      "pyparsing-2.4.7-pyhd3eb1b0_0.tar.bz2          59 KB\n",
      "boto3-1.17.28-pyhd3eb1b0_0.conda              70 KB\n",
      "llvmlite-0.36.0-py37h612dafd_4.conda         391 KB\n",
      "tblib-1.7.0-py_0.conda                        16 KB\n",
      "keras-preprocessing-1.1.2-pyhd3eb1b0_0.conda      35 KB\n",
      "oauthlib-3.1.0-py_0.conda                     91 KB\n",
      "google-auth-oauthlib-0.4.3-pyhd3eb1b0_0.conda      18 KB\n",
      "opt_einsum-3.1.0-py_0.conda                   54 KB\n",
      "pango-1.42.4-h69149e4_5.tar.bz2              533 KB\n",
      "libthrift-0.13.0-hfb8234f_6.conda            2.5 MB\n",
      "sqlite-3.35.2-hdfb4753_0.conda               983 KB\n",
      "s3transfer-0.3.6-pyhd3eb1b0_0.conda           53 KB\n",
      "sniffio-1.2.0-py37h06a4308_1.conda            15 KB\n",
      "cytoolz-0.11.0-py37h7b6447c_0.conda          328 KB\n",
      "ipykernel-5.3.4-py37h5ca1d4c_0.conda         179 KB\n",
      "zlib-1.2.11-h7b6447c_3.conda                 103 KB\n",
      "dask-2021.2.0-pyhd3eb1b0_0.conda               5 KB\n",
      "python-3.7.10-hdb3f193_0.conda              45.2 MB\n",
      "gast-0.3.3-py_0.conda                         14 KB\n",
      "pixman-0.40.0-h7b6447c_0.conda               370 KB\n",
      "tk-8.6.10-hbc83047_0.conda                   3.0 MB\n",
      "libxml2-2.9.10-h72842e0_3.tar.bz2            1.3 MB\n",
      "distributed-2021.2.0-py37h06a4308_0.conda     1.0 MB\n",
      "icu-68.1-h2531618_0.conda                   11.8 MB\n",
      "s3fs-0.5.2-pyhd3eb1b0_0.conda                 24 KB\n",
      "fribidi-1.0.10-h7b6447c_0.conda              103 KB\n",
      "dask-core-2021.2.0-pyhd3eb1b0_0.conda        643 KB\n",
      "curl-7.69.1-hbc83047_0.conda                 137 KB\n",
      "partd-1.1.0-py_0.conda                        20 KB\n",
      "_libgcc_mutex-0.1-conda_forge.tar.bz2          3 KB\n",
      "wcwidth-0.2.5-py_0.conda                      29 KB\n",
      "urllib3-1.26.4-pyhd3eb1b0_0.conda            105 KB\n",
      "libclang-11.1.0-default_ha53f305_0.tar.bz2    19.2 MB\n",
      "libiconv-1.16-h516909a_0.tar.bz2             1.4 MB\n",
      "pytz-2021.1-pyhd3eb1b0_0.conda               181 KB\n",
      "libstdcxx-ng-9.3.0-h6de172a_18.tar.bz2       4.0 MB\n",
      "nspr-4.30-h9c3ff4c_0.tar.bz2                 233 KB\n",
      "nbclassic-0.2.6-pyhd3eb1b0_0.conda            19 KB\n",
      "libllvm10-10.0.1-hbcb73fb_5.conda           22.1 MB\n",
      "libglib-2.68.0-h3e27bee_2.tar.bz2            3.0 MB\n",
      "numba-0.53.0-py37ha9443f7_0.conda            3.3 MB\n",
      "defusedxml-0.7.1-pyhd3eb1b0_0.conda           23 KB\n",
      "expat-2.2.10-he6710b0_2.conda                153 KB\n",
      "libxkbcommon-1.0.3-he3ba5ed_0.tar.bz2        581 KB\n",
      "libwebp-1.2.0-h89dd481_0.conda               493 KB\n",
      "ca-certificates-2021.1.19-h06a4308_1.conda     118 KB\n",
      "jupyterlab_pygments-0.1.2-py_0.conda           8 KB\n",
      "notebook-6.3.0-py37h06a4308_0.conda          4.1 MB\n",
      "libgfortran-ng-7.3.0-hdf63c60_0.conda       1006 KB\n",
      "pandoc-2.12-h06a4308_0.conda                 9.5 MB\n",
      "gst-plugins-base-1.14.5-h0935bb2_2.tar.bz2     6.8 MB\n",
      "gts-0.7.6-h64030ff_2.tar.bz2                 411 KB\n",
      "thrift-cpp-0.13.0-h06a4308_6.conda            14 KB\n",
      "botocore-1.20.33-pyhd3eb1b0_1.conda          3.6 MB\n",
      "grpcio-1.36.1-py37h2157cd5_1.conda           1.9 MB\n",
      "_openmp_mutex-4.5-1_gnu.tar.bz2               22 KB\n",
      "font-ttf-inconsolata-2.001-hcb22688_0.conda      83 KB\n",
      "tornado-6.1-py37h27cfd23_0.conda             589 KB\n",
      "\n",
      "---------------------------------------------------\n",
      "Total:                                     720.2 MB\n",
      "\n",
      "Removed multidict-5.1.0-py37h27cfd23_2.conda\n",
      "Removed font-ttf-source-code-pro-2.030-h7457263_0.conda\n",
      "Removed async_generator-1.10-py37h28b3542_0.conda\n",
      "Removed prometheus_client-0.9.0-pyhd3eb1b0_0.conda\n",
      "Removed mkl-service-2.3.0-py37he8ac12f_0.conda\n",
      "Removed ncurses-6.2-he6710b0_1.conda\n",
      "Removed h5py-2.10.0-py37hd6299e0_1.conda\n",
      "Removed freetype-2.10.4-h5ab3b9f_0.conda\n",
      "Removed fonts-conda-forge-1-0.tar.bz2\n",
      "Removed libpng-1.6.37-hbc83047_0.conda\n",
      "Removed protobuf-3.11.4-py37he6710b0_0.conda\n",
      "Removed packaging-20.9-pyhd3eb1b0_0.conda\n",
      "Removed jupyter_client-6.1.7-py_0.conda\n",
      "Removed testpath-0.4.4-pyhd3eb1b0_0.tar.bz2\n",
      "Removed requests-2.25.1-pyhd3eb1b0_0.conda\n",
      "Removed libpq-12.3-h255efa7_3.tar.bz2\n",
      "Removed glog-0.4.0-he6710b0_0.conda\n",
      "Removed libgd-2.3.0-h47910db_1.tar.bz2\n",
      "Removed libsodium-1.0.18-h7b6447c_0.conda\n",
      "Removed re2-2019.08.01-he6710b0_0.conda\n",
      "Removed gdk-pixbuf-2.42.4-h04a7f16_2.tar.bz2\n",
      "Removed parso-0.7.0-py_0.conda\n",
      "Removed pyrsistent-0.17.3-py37h7b6447c_0.conda\n",
      "Removed thrift-compiler-0.13.0-hfb8234f_6.conda\n",
      "Removed argon2-cffi-20.1.0-py37h27cfd23_1.conda\n",
      "Removed atk-1.0-2.36.0-h28cd5cc_0.conda\n",
      "Removed tbb-2020.3-hfd86e86_0.conda\n",
      "Removed pysocks-1.7.1-py37_1.conda\n",
      "Removed traitlets-5.0.5-pyhd3eb1b0_0.tar.bz2\n",
      "Removed jupyter_core-4.7.1-py37h06a4308_0.conda\n",
      "Removed tensorflow-base-2.3.0-eigen_py37h3b305d7_0.conda\n",
      "Removed libgcc-ng-9.3.0-h2828fa1_18.tar.bz2\n",
      "Removed pyarrow-0.17.0-py37h110162e_0.tar.bz2\n",
      "Removed json5-0.9.5-py_0.conda\n",
      "Removed requests-oauthlib-1.3.0-py_0.conda\n",
      "Removed zeromq-4.3.4-h2531618_0.conda\n",
      "Removed locket-0.2.1-py37h06a4308_1.conda\n",
      "Removed jinja2-2.11.3-pyhd3eb1b0_0.conda\n",
      "Removed aiobotocore-1.2.2-pyhd3eb1b0_0.conda\n",
      "Removed libevent-2.1.10-hcdb4288_3.tar.bz2\n",
      "Removed libxcb-1.14-h7b6447c_0.conda\n",
      "Removed openssl-1.1.1j-h27cfd23_0.conda\n",
      "Removed glib-2.68.0-h9c3ff4c_2.tar.bz2\n",
      "Removed send2trash-1.5.0-pyhd3eb1b0_1.conda\n",
      "Removed aws-sdk-cpp-1.7.164-hc831370_1.tar.bz2\n",
      "Removed ipython_genutils-0.2.0-pyhd3eb1b0_1.conda\n",
      "Removed pycparser-2.20-py_2.conda\n",
      "Removed lz4-c-1.9.2-heb0550a_3.conda\n",
      "Removed matplotlib-3.3.4-py37h06a4308_0.conda\n",
      "Removed python_abi-3.7-1_cp37m.tar.bz2\n",
      "Removed cffi-1.14.5-py37h261ae71_0.conda\n",
      "Removed termcolor-1.1.0-py37h06a4308_1.conda\n",
      "Removed jedi-0.17.2-py37h06a4308_1.conda\n",
      "Removed pyqt5-sip-4.19.18-py37hcd2ae1e_7.tar.bz2\n",
      "Removed font-ttf-dejavu-sans-mono-2.37-h6964260_0.conda\n",
      "Removed jsonschema-3.2.0-py_2.conda\n",
      "Removed nss-3.63-hb5efdd6_0.tar.bz2\n",
      "Removed werkzeug-1.0.1-pyhd3eb1b0_0.tar.bz2\n",
      "Removed libffi-3.3-he6710b0_2.conda\n",
      "Removed nbconvert-6.0.7-py37_0.conda\n",
      "Removed anyio-2.2.0-py37h06a4308_0.conda\n",
      "Removed yarl-1.6.3-py37h27cfd23_0.conda\n",
      "Removed pyjwt-1.7.1-py37_0.conda\n",
      "Removed jupyterlab-3.0.11-pyhd3eb1b0_0.conda\n",
      "Removed pandas-1.2.3-py37ha9443f7_0.conda\n",
      "Removed gstreamer-1.18.4-h76c114f_0.tar.bz2\n",
      "Removed ninja-1.10.2-py37hff7bd54_0.conda\n",
      "Removed libuuid-1.0.3-h1bed415_2.conda\n",
      "Removed xz-5.2.5-h7b6447c_0.conda\n",
      "Removed msgpack-python-1.0.2-py37hff7bd54_1.conda\n",
      "Removed pexpect-4.8.0-pyhd3eb1b0_3.conda\n",
      "Removed arrow-cpp-0.17.0-py37hc11a6a2_0.tar.bz2\n",
      "Removed parquet-cpp-1.5.1-2.tar.bz2\n",
      "Removed glib-tools-2.68.0-h9c3ff4c_2.tar.bz2\n",
      "Removed certifi-2020.12.5-py37h06a4308_0.conda\n",
      "Removed setuptools-52.0.0-py37h06a4308_0.conda\n",
      "Removed matplotlib-base-3.3.4-py37h62a2d02_0.conda\n",
      "Removed cairo-1.16.0-hf32fb01_1.conda\n",
      "Removed libtiff-4.2.0-h85742a9_0.conda\n",
      "Removed snappy-1.1.8-he6710b0_0.conda\n",
      "Removed markupsafe-1.1.1-py37h14c3975_1.conda\n",
      "Removed coiled-0.0.37-pyhd8ed1ab_0.tar.bz2\n",
      "Removed libllvm11-11.1.0-hf817b99_0.tar.bz2\n",
      "Removed libgomp-9.3.0-h2828fa1_18.tar.bz2\n",
      "Removed gettext-0.19.8.1-h9b4dc7a_1.conda\n",
      "Removed kiwisolver-1.3.1-py37h2531618_0.conda\n",
      "Removed libssh2-1.9.0-h1ba5d50_1.conda\n",
      "Removed cachetools-4.2.1-pyhd3eb1b0_0.conda\n",
      "Removed mistune-0.8.4-py37h14c3975_1001.conda\n",
      "Removed blinker-1.4-py37h06a4308_0.conda\n",
      "Removed libxslt-1.1.33-h15afd5d_2.tar.bz2\n",
      "Removed mkl_fft-1.3.0-py37h54f3939_0.conda\n",
      "Removed async-timeout-3.0.1-py37h06a4308_0.conda\n",
      "Removed bleach-3.3.0-pyhd3eb1b0_0.conda\n",
      "Removed pyopenssl-20.0.1-pyhd3eb1b0_1.conda\n",
      "Removed decorator-4.4.2-pyhd3eb1b0_0.tar.bz2\n",
      "Removed bokeh-2.3.0-py37h06a4308_0.conda\n",
      "Removed hdf5-1.10.6-hb1b8bf9_0.conda\n",
      "Removed typing-extensions-3.7.4.3-hd3eb1b0_0.conda\n",
      "Removed pyqt-impl-5.12.3-py37he336c9b_7.tar.bz2\n",
      "Removed pcre-8.44-he6710b0_0.conda\n",
      "Removed bzip2-1.0.8-h7b6447c_0.conda\n",
      "Removed cryptography-3.4.6-py37hd23ed53_0.conda\n",
      "Removed entrypoints-0.3-py37_0.conda\n",
      "Removed ipython-7.21.0-py37hb070fc8_0.conda\n",
      "Removed libwebp-base-1.2.0-h27cfd23_0.conda\n",
      "Removed libtool-2.4.6-h7b6447c_1005.conda\n",
      "Removed c-ares-1.17.1-h27cfd23_0.conda\n",
      "Removed nest-asyncio-1.5.1-pyhd3eb1b0_0.conda\n",
      "Removed dbus-1.13.18-hb2f20db_0.conda\n",
      "Removed tensorflow-estimator-2.3.0-pyheb71bc4_0.conda\n",
      "Removed _tflow_select-2.3.0-eigen.conda\n",
      "Removed giflib-5.2.1-h7b6447c_0.conda\n",
      "Removed pygments-2.8.1-pyhd3eb1b0_0.conda\n",
      "Removed librsvg-2.50.3-hfa39831_1.tar.bz2\n",
      "Removed tensorflow-2.3.0-eigen_py37h189e6a2_0.conda\n",
      "Removed olefile-0.46-py37_0.conda\n",
      "Removed importlib-metadata-3.7.3-py37h06a4308_1.conda\n",
      "Removed yaml-0.2.5-h7b6447c_0.conda\n",
      "Removed mkl-2020.2-256.conda\n",
      "Removed readline-8.1-h27cfd23_0.conda\n",
      "Removed psutil-5.8.0-py37h27cfd23_1.conda\n",
      "Removed seaborn-0.11.1-pyhd3eb1b0_0.conda\n",
      "Removed absl-py-0.12.0-py37h06a4308_0.conda\n",
      "Removed pyasn1-modules-0.2.8-py_0.conda\n",
      "Removed graphite2-1.3.14-h23475e2_0.conda\n",
      "Removed fastparquet-0.5.0-py37h6323ea4_1.conda\n",
      "Removed gflags-2.2.2-he6710b0_0.conda\n",
      "Removed pyasn1-0.4.8-py_0.conda\n",
      "Removed libprotobuf-3.11.4-hd408876_0.conda\n",
      "Removed krb5-1.17.1-h173b8e3_0.conda\n",
      "Removed pip-21.0.1-py37h06a4308_0.conda\n",
      "Removed thrift-0.11.0-py37hf484d3e_0.conda\n",
      "Removed nbformat-5.1.2-pyhd3eb1b0_1.conda\n",
      "Removed boost-cpp-1.72.0-h9d3c048_4.tar.bz2\n",
      "Removed attrs-20.3.0-pyhd3eb1b0_0.conda\n",
      "Removed lcms2-2.11-h396b838_0.conda\n",
      "Removed mkl_random-1.1.1-py37h0573a6f_0.conda\n",
      "Removed zstd-1.4.5-h9ceee32_0.conda\n",
      "Removed chardet-3.0.4-py37h06a4308_1003.conda\n",
      "Removed fontconfig-2.13.1-h6c09931_0.conda\n",
      "Removed pickleshare-0.7.5-pyhd3eb1b0_1003.conda\n",
      "Removed pyyaml-5.4.1-py37h27cfd23_1.conda\n",
      "Removed nbclient-0.5.3-pyhd3eb1b0_0.conda\n",
      "Removed tensorboard-plugin-wit-1.6.0-py_0.conda\n",
      "Removed jupyter_server-1.4.1-py37h06a4308_0.conda\n",
      "Removed fsspec-0.8.3-py_0.conda\n",
      "Removed google-pasta-0.2.0-py_0.conda\n",
      "Removed backcall-0.2.0-pyhd3eb1b0_0.tar.bz2\n",
      "Removed cython-0.29.22-py37h2531618_0.conda\n",
      "Removed qt-5.12.9-h9d6b050_2.tar.bz2\n",
      "Removed rich-9.13.0-py37h89c1867_1.tar.bz2\n",
      "Removed importlib_metadata-3.7.3-hd3eb1b0_1.conda\n",
      "Removed coverage-5.5-py37h27cfd23_2.conda\n",
      "Removed rsa-4.7.2-pyhd3eb1b0_1.conda\n",
      "Removed jupyterlab_server-2.3.0-pyhd3eb1b0_0.conda\n",
      "Removed tensorboard-2.4.0-pyhc547734_0.conda\n",
      "Removed grpc-cpp-1.28.1-h8e748ff_2.tar.bz2\n",
      "Removed emoji-1.0.1-pyhd8ed1ab_0.tar.bz2\n",
      "Removed aiohttp-3.7.4-py37h27cfd23_1.conda\n",
      "Removed abseil-cpp-20200225.2-h2531618_0.conda\n",
      "Removed brotli-1.0.9-he6710b0_2.conda\n",
      "Removed cloudpickle-1.6.0-py_0.conda\n",
      "Removed cycler-0.10.0-py37_0.conda\n",
      "Removed jupyter-packaging-0.7.12-pyhd3eb1b0_0.conda\n",
      "Removed brotlipy-0.7.0-py37h27cfd23_1003.conda\n",
      "Removed gtk2-2.24.33-hab0c2f8_0.tar.bz2\n",
      "Removed mysql-common-8.0.22-ha770c72_1.tar.bz2\n",
      "Removed pyzmq-20.0.0-py37h2531618_1.conda\n",
      "Removed markdown-3.3.4-py37h06a4308_0.conda\n",
      "Removed numpy-base-1.19.2-py37hfa32c7d_0.conda\n",
      "Removed pandocfilters-1.4.3-py37h06a4308_1.conda\n",
      "Removed fonts-conda-ecosystem-1-0.tar.bz2\n",
      "Removed wheel-0.36.2-pyhd3eb1b0_0.conda\n",
      "Removed python-dateutil-2.8.1-pyhd3eb1b0_0.tar.bz2\n",
      "Removed harfbuzz-2.8.0-h83ec7ef_1.tar.bz2\n",
      "Removed heapdict-1.0.1-py_0.conda\n",
      "Removed gobject-introspection-1.68.0-py37h2109141_1.conda\n",
      "Removed wrapt-1.12.1-py37h7b6447c_1.conda\n",
      "Removed prompt-toolkit-3.0.17-pyh06a4308_0.conda\n",
      "Removed six-1.15.0-py37h06a4308_0.conda\n",
      "Removed intel-openmp-2020.2-254.conda\n",
      "Removed graphviz-2.47.0-h93c640b_0.tar.bz2\n",
      "Removed jpeg-9d-h36c2ea0_0.tar.bz2\n",
      "Removed commonmark-0.9.1-py_0.conda\n",
      "Removed pyqtwebengine-5.12.1-py37he336c9b_7.tar.bz2\n",
      "Removed jmespath-0.10.0-py_0.conda\n",
      "Removed aioitertools-0.7.1-pyhd3eb1b0_0.conda\n",
      "Removed typing_extensions-3.7.4.3-pyh06a4308_0.conda\n",
      "Removed babel-2.9.0-pyhd3eb1b0_0.conda\n",
      "Removed pyqt-5.12.3-py37h89c1867_7.tar.bz2\n",
      "Removed webencodings-0.5.1-py37_1.conda\n",
      "Removed blas-1.0-mkl.conda\n",
      "Removed future-0.18.2-py37_1.conda\n",
      "Removed terminado-0.9.3-py37h06a4308_0.conda\n",
      "Removed sortedcontainers-2.3.0-pyhd3eb1b0_0.conda\n",
      "Removed pillow-8.1.2-py37he98fc37_0.conda\n",
      "Removed toolz-0.11.1-pyhd3eb1b0_0.tar.bz2\n",
      "Removed ptyprocess-0.7.0-pyhd3eb1b0_2.conda\n",
      "Removed zict-2.0.0-pyhd3eb1b0_0.tar.bz2\n",
      "Removed libcurl-7.69.1-h20c2e04_0.conda\n",
      "Removed mysql-libs-8.0.22-h1fd7589_1.tar.bz2\n",
      "Removed idna-2.10-pyhd3eb1b0_0.tar.bz2\n",
      "Removed click-7.1.2-pyhd3eb1b0_0.tar.bz2\n",
      "Removed numpy-1.19.2-py37h54aff64_0.conda\n",
      "Removed lxml-4.5.1-py37hefd8a0e_0.conda\n",
      "Removed scipy-1.6.1-py37h91f5cce_0.conda\n",
      "Removed google-auth-1.28.0-pyhd3eb1b0_0.conda\n",
      "Removed libedit-3.1.20210216-h27cfd23_1.conda\n",
      "Removed zipp-3.4.1-pyhd3eb1b0_0.conda\n",
      "Removed astunparse-1.6.3-py_0.conda\n",
      "Removed font-ttf-ubuntu-0.83-h8b1ccd4_0.conda\n",
      "Removed ld_impl_linux-64-2.33.1-h53a641e_7.conda\n",
      "Removed colorama-0.4.4-pyhd3eb1b0_0.conda\n",
      "Removed pyqtchart-5.12-py37he336c9b_7.tar.bz2\n",
      "Removed pyparsing-2.4.7-pyhd3eb1b0_0.tar.bz2\n",
      "Removed boto3-1.17.28-pyhd3eb1b0_0.conda\n",
      "Removed llvmlite-0.36.0-py37h612dafd_4.conda\n",
      "Removed tblib-1.7.0-py_0.conda\n",
      "Removed keras-preprocessing-1.1.2-pyhd3eb1b0_0.conda\n",
      "Removed oauthlib-3.1.0-py_0.conda\n",
      "Removed google-auth-oauthlib-0.4.3-pyhd3eb1b0_0.conda\n",
      "Removed opt_einsum-3.1.0-py_0.conda\n",
      "Removed pango-1.42.4-h69149e4_5.tar.bz2\n",
      "Removed libthrift-0.13.0-hfb8234f_6.conda\n",
      "Removed sqlite-3.35.2-hdfb4753_0.conda\n",
      "Removed s3transfer-0.3.6-pyhd3eb1b0_0.conda\n",
      "Removed sniffio-1.2.0-py37h06a4308_1.conda\n",
      "Removed cytoolz-0.11.0-py37h7b6447c_0.conda\n",
      "Removed ipykernel-5.3.4-py37h5ca1d4c_0.conda\n",
      "Removed zlib-1.2.11-h7b6447c_3.conda\n",
      "Removed dask-2021.2.0-pyhd3eb1b0_0.conda\n",
      "Removed python-3.7.10-hdb3f193_0.conda\n",
      "Removed gast-0.3.3-py_0.conda\n",
      "Removed pixman-0.40.0-h7b6447c_0.conda\n",
      "Removed tk-8.6.10-hbc83047_0.conda\n",
      "Removed libxml2-2.9.10-h72842e0_3.tar.bz2\n",
      "Removed distributed-2021.2.0-py37h06a4308_0.conda\n",
      "Removed icu-68.1-h2531618_0.conda\n"
     ]
    },
    {
     "name": "stdout",
     "output_type": "stream",
     "text": [
      "Removed s3fs-0.5.2-pyhd3eb1b0_0.conda\n",
      "Removed fribidi-1.0.10-h7b6447c_0.conda\n",
      "Removed dask-core-2021.2.0-pyhd3eb1b0_0.conda\n",
      "Removed curl-7.69.1-hbc83047_0.conda\n",
      "Removed partd-1.1.0-py_0.conda\n",
      "Removed _libgcc_mutex-0.1-conda_forge.tar.bz2\n",
      "Removed wcwidth-0.2.5-py_0.conda\n",
      "Removed urllib3-1.26.4-pyhd3eb1b0_0.conda\n",
      "Removed libclang-11.1.0-default_ha53f305_0.tar.bz2\n",
      "Removed libiconv-1.16-h516909a_0.tar.bz2\n",
      "Removed pytz-2021.1-pyhd3eb1b0_0.conda\n",
      "Removed libstdcxx-ng-9.3.0-h6de172a_18.tar.bz2\n",
      "Removed nspr-4.30-h9c3ff4c_0.tar.bz2\n",
      "Removed nbclassic-0.2.6-pyhd3eb1b0_0.conda\n",
      "Removed libllvm10-10.0.1-hbcb73fb_5.conda\n",
      "Removed libglib-2.68.0-h3e27bee_2.tar.bz2\n",
      "Removed numba-0.53.0-py37ha9443f7_0.conda\n",
      "Removed defusedxml-0.7.1-pyhd3eb1b0_0.conda\n",
      "Removed expat-2.2.10-he6710b0_2.conda\n",
      "Removed libxkbcommon-1.0.3-he3ba5ed_0.tar.bz2\n",
      "Removed libwebp-1.2.0-h89dd481_0.conda\n",
      "Removed ca-certificates-2021.1.19-h06a4308_1.conda\n",
      "Removed jupyterlab_pygments-0.1.2-py_0.conda\n",
      "Removed notebook-6.3.0-py37h06a4308_0.conda\n",
      "Removed libgfortran-ng-7.3.0-hdf63c60_0.conda\n",
      "Removed pandoc-2.12-h06a4308_0.conda\n",
      "Removed gst-plugins-base-1.14.5-h0935bb2_2.tar.bz2\n",
      "Removed gts-0.7.6-h64030ff_2.tar.bz2\n",
      "Removed thrift-cpp-0.13.0-h06a4308_6.conda\n",
      "Removed botocore-1.20.33-pyhd3eb1b0_1.conda\n",
      "Removed grpcio-1.36.1-py37h2157cd5_1.conda\n",
      "Removed _openmp_mutex-4.5-1_gnu.tar.bz2\n",
      "Removed font-ttf-inconsolata-2.001-hcb22688_0.conda\n",
      "Removed tornado-6.1-py37h27cfd23_0.conda\n",
      "WARNING: /root/.conda/pkgs does not exist\n",
      "Cache location: /opt/conda/pkgs\n",
      "Will remove the following packages:\n",
      "/opt/conda/pkgs\n",
      "---------------\n",
      "\n",
      "fonts-conda-forge-1-0                         11 KB\n",
      "matplotlib-3.3.4-py37h06a4308_0               92 KB\n",
      "python_abi-3.7-1_cp37m                        10 KB\n",
      "parquet-cpp-1.5.1-2                            8 KB\n",
      "typing-extensions-3.7.4.3-hd3eb1b0_0          37 KB\n",
      "libwebp-base-1.2.0-h27cfd23_0                2.8 MB\n",
      "_tflow_select-2.3.0-eigen                      5 KB\n",
      "tensorflow-2.3.0-eigen_py37h189e6a2_0         10 KB\n",
      "importlib_metadata-3.7.3-hd3eb1b0_1           38 KB\n",
      "fonts-conda-ecosystem-1-0                      9 KB\n",
      "pyqt-5.12.3-py37h89c1867_7                    79 KB\n",
      "blas-1.0-mkl                                  15 KB\n",
      "mysql-libs-8.0.22-h1fd7589_1                 7.0 MB\n",
      "numpy-1.19.2-py37h54aff64_0                   68 KB\n",
      "dask-2021.2.0-pyhd3eb1b0_0                    12 KB\n",
      "_libgcc_mutex-0.1-conda_forge                  6 KB\n",
      "thrift-cpp-0.13.0-h06a4308_6                  40 KB\n",
      "_openmp_mutex-4.5-1_gnu                       93 KB\n",
      "\n",
      "---------------------------------------------------\n",
      "Total:                                      10.4 MB\n",
      "\n",
      "removing fonts-conda-forge-1-0\n",
      "removing matplotlib-3.3.4-py37h06a4308_0\n",
      "removing python_abi-3.7-1_cp37m\n",
      "removing parquet-cpp-1.5.1-2\n",
      "removing typing-extensions-3.7.4.3-hd3eb1b0_0\n",
      "removing libwebp-base-1.2.0-h27cfd23_0\n",
      "removing _tflow_select-2.3.0-eigen\n",
      "removing tensorflow-2.3.0-eigen_py37h189e6a2_0\n",
      "removing importlib_metadata-3.7.3-hd3eb1b0_1\n",
      "removing fonts-conda-ecosystem-1-0\n",
      "removing pyqt-5.12.3-py37h89c1867_7\n",
      "removing blas-1.0-mkl\n",
      "removing mysql-libs-8.0.22-h1fd7589_1\n",
      "removing numpy-1.19.2-py37h54aff64_0\n",
      "removing dask-2021.2.0-pyhd3eb1b0_0\n",
      "removing _libgcc_mutex-0.1-conda_forge\n",
      "removing thrift-cpp-0.13.0-h06a4308_6\n",
      "removing _openmp_mutex-4.5-1_gnu\n",
      "--> 77da123b55f\n",
      "STEP 4: ENV PATH /opt/conda/envs/coiled/bin:$PATH\n",
      "--> e4500ceb8c0\n",
      "STEP 5: SHELL [\"conda\", \"run\", \"-n\", \"coiled\", \"/bin/bash\", \"-c\"]\n",
      "STEP 6: COMMIT 34962831-2075-44c5-ae46-3d65c828a82d\n",
      "--> dcde326241f\n",
      "dcde326241fc510e127c5172981bca2abf1dec91875072e99de870cd302ff477\n",
      "Docker build succeeded: 34962831-2075-44c5-ae46-3d65c828a82d\n",
      "Uploading image\n",
      "Getting image source signatures\n",
      "Copying blob sha256:ce6d702630b37545e3b1cec8a6627f905f8d39596c25a77c267c2bce8b20d8ce\n",
      "Copying blob sha256:73571478965aec06a47d046298c659c0829276bb627684ad4dcb56547f09b619\n",
      "Copying blob sha256:f5600c6330da7bb112776ba067a32a9c20842d6ecc8ee3289f1a713b644092f8\n",
      "Copying blob sha256:dfef8986f350d2efb7dd633410dceac30543be620085d9819f42db7067f55f64\n",
      "Copying blob sha256:0553ab4c463e8dd22931a5deb37e8014a18cde60d6be1337f4415de56649a947\n",
      "Copying blob sha256:a588771f02959cc28fb5a4766d35763261f857d110a062234b2bd589ed44e1aa\n",
      "Copying config sha256:dcde326241fc510e127c5172981bca2abf1dec91875072e99de870cd302ff477\n",
      "Writing manifest to image destination\n",
      "Storing signatures\n",
      "Finished updating environment\n"
     ]
    }
   ],
   "source": [
    "# create software environment with necessary libraries\n",
    "coiled.create_software_environment(\n",
    "    name=\"tensorflow\", \n",
    "    conda=\"/Users/richard/Desktop/conda_env_configs/tensorflow.yml\"\n",
    ")"
   ]
  },
  {
   "cell_type": "code",
   "execution_count": null,
   "metadata": {},
   "outputs": [],
   "source": [
    "# create cluster configuration\n",
    "coiled.create_cluster_configuration(\n",
    "    name=\"cluster-tensorflow-s2_8-w4_16\",\n",
    "    scheduler_cpu=2,\n",
    "    scheduler_memory=\"8 GiB\",\n",
    "    worker_cpu=4,\n",
    "    worker_memory=\"16 GiB\",\n",
    "    software=\"tensorflow\",\n",
    ")"
   ]
  },
  {
   "cell_type": "code",
   "execution_count": 3,
   "metadata": {},
   "outputs": [
    {
     "name": "stderr",
     "output_type": "stream",
     "text": [
      "/Users/richard/miniconda3/envs/tensorflow/lib/python3.7/site-packages/rich/live.py:216: UserWarning: install \"ipywidgets\" for Jupyter support\n",
      "  warnings.warn('install \"ipywidgets\" for Jupyter support')\n"
     ]
    },
    {
     "name": "stdout",
     "output_type": "stream",
     "text": [
      "Checking environment images\n",
      "Valid environment image found\n"
     ]
    },
    {
     "data": {
      "text/html": [
       "<pre style=\"white-space:pre;overflow-x:auto;line-height:normal;font-family:Menlo,'DejaVu Sans Mono',consolas,'Courier New',monospace\"></pre>\n"
      ],
      "text/plain": [
       "<rich.jupyter.JupyterRenderable at 0x128013190>"
      ]
     },
     "metadata": {},
     "output_type": "display_data"
    },
    {
     "name": "stdout",
     "output_type": "stream",
     "text": [
      "CPU times: user 2.22 s, sys: 817 ms, total: 3.03 s\n",
      "Wall time: 3min 19s\n"
     ]
    }
   ],
   "source": [
    "%%time\n",
    "# create coiled cluster\n",
    "cluster = coiled.Cluster(\n",
    "    name='tweets_50',\n",
    "    shutdown_on_close=False,\n",
    "    configuration=\"cluster-tensorflow-s2_8-w4_16\",\n",
    "    n_workers=50,\n",
    "    scheduler_options={\"idle_timeout\": \"2 hours\"}\n",
    ")"
   ]
  },
  {
   "cell_type": "code",
   "execution_count": 2,
   "metadata": {},
   "outputs": [
    {
     "data": {
      "text/html": [
       "<pre style=\"white-space:pre;overflow-x:auto;line-height:normal;font-family:Menlo,'DejaVu Sans Mono',consolas,'Courier New',monospace\">Using existing cluster: <span style=\"color: #008000; text-decoration-color: #008000\">'tweets_50'</span>\n",
       "</pre>\n"
      ],
      "text/plain": [
       "<rich.jupyter.JupyterRenderable at 0x11e8dbe90>"
      ]
     },
     "metadata": {},
     "output_type": "display_data"
    },
    {
     "name": "stderr",
     "output_type": "stream",
     "text": [
      "/Users/richard/miniconda3/envs/tensorflow/lib/python3.7/site-packages/rich/live.py:216: UserWarning: install \"ipywidgets\" for Jupyter support\n",
      "  warnings.warn('install \"ipywidgets\" for Jupyter support')\n"
     ]
    },
    {
     "data": {
      "text/html": [
       "<pre style=\"white-space:pre;overflow-x:auto;line-height:normal;font-family:Menlo,'DejaVu Sans Mono',consolas,'Courier New',monospace\"></pre>\n"
      ],
      "text/plain": [
       "<rich.jupyter.JupyterRenderable at 0x119773e90>"
      ]
     },
     "metadata": {},
     "output_type": "display_data"
    }
   ],
   "source": [
    "# # connect to running cluster\n",
    "# cluster = coiled.Cluster(name='tweets_50')"
   ]
  },
  {
   "cell_type": "code",
   "execution_count": 4,
   "metadata": {},
   "outputs": [
    {
     "name": "stdout",
     "output_type": "stream",
     "text": [
      "Dashboard: http://ec2-18-216-189-49.us-east-2.compute.amazonaws.com:8787\n"
     ]
    }
   ],
   "source": [
    "# connect cluster to Dask\n",
    "client = Client(cluster)\n",
    "print('Dashboard:', client.dashboard_link)"
   ]
  },
  {
   "cell_type": "markdown",
   "metadata": {},
   "source": [
    "# Accessing S3 Bucket"
   ]
  },
  {
   "cell_type": "code",
   "execution_count": null,
   "metadata": {},
   "outputs": [],
   "source": [
    "# Let's use Amazon S3\n",
    "s3 = boto3.resource('s3')"
   ]
  },
  {
   "cell_type": "code",
   "execution_count": null,
   "metadata": {},
   "outputs": [],
   "source": [
    "# Print out bucket names\n",
    "for bucket in s3.buckets.all():\n",
    "    print(bucket.name)"
   ]
  },
  {
   "cell_type": "markdown",
   "metadata": {},
   "source": [
    "**NOTE:** You could also connect to .client() instead of .resource()\n",
    "\n",
    "Clients are lower-level APIs which may give some minor improvement in performance but are 'grittier' and harder to read. Most outputs will be dictionary-format which you will then have to process further yourself.\n",
    "\n",
    "Resources are higher-level, object-oriented abstractions. More user-friendly.\n",
    "\n",
    "Helpful [link](https://realpython.com/python-boto3-aws-s3/) : \"With clients, there is more programmatic work to be done. The majority of the client operations give you a dictionary response. To get the exact information that you need, you’ll have to parse that dictionary yourself. With resource methods, the SDK does that work for you.\n",
    "\n",
    "With the client, you might see some slight performance improvements. The disadvantage is that your code becomes less readable than it would be if you were using the resource. Resources offer a better abstraction, and your code will be easier to comprehend.\""
   ]
  },
  {
   "cell_type": "markdown",
   "metadata": {},
   "source": [
    "## Reading in Arabic Twitter Data"
   ]
  },
  {
   "cell_type": "markdown",
   "metadata": {},
   "source": [
    "We are reading in only columns:\n",
    "\n",
    "- 'tweetid'\n",
    "- 'userid'\n",
    "- 'user_screen_name'\n",
    "- 'follower_count', \n",
    "- 'following_count',\n",
    "- 'tweet_language',\n",
    "- 'tweet_text'\n",
    "- 'tweet_time', \n",
    "- 'tweet_client_name', \n",
    "- 'in_reply_to_userid',\n",
    "- 'in_reply_to_tweetid', \n",
    "- 'quoted_tweet_tweetid', \n",
    "- 'is_retweet',\n",
    "- 'retweet_userid', \n",
    "- 'retweet_tweetid', \n"
   ]
  },
  {
   "cell_type": "code",
   "execution_count": null,
   "metadata": {},
   "outputs": [],
   "source": [
    "# client.restart()"
   ]
  },
  {
   "cell_type": "markdown",
   "metadata": {},
   "source": [
    "# Import Raw Data"
   ]
  },
  {
   "cell_type": "code",
   "execution_count": 5,
   "metadata": {},
   "outputs": [
    {
     "name": "stderr",
     "output_type": "stream",
     "text": [
      "Skipping line 410: unexpected end of data\n"
     ]
    }
   ],
   "source": [
    "# NOTE: IMPORT WITH BLOCKSIZE=64MiB\n",
    "\n",
    "# read s3 data into dask dataframe\n",
    "ddf = dd.read_csv(\n",
    "    \"s3://twitter-saudi-us-east-2/sa_eg_ae_022020_tweets_csv_hashed_*.csv\",\n",
    "    blocksize=\"64MiB\",\n",
    "    usecols=[\n",
    "        'tweetid',\n",
    "        'userid',\n",
    "        'user_screen_name',\n",
    "        'follower_count', \n",
    "        'following_count',\n",
    "        'tweet_language',\n",
    "        'tweet_text',\n",
    "        'tweet_time', \n",
    "        'tweet_client_name', \n",
    "        'is_retweet',\n",
    "        'retweet_userid',\n",
    "        'retweet_tweetid'],\n",
    "    engine='python',\n",
    "    error_bad_lines=False,\n",
    "    na_values='None',\n",
    "    dtype={\n",
    "        \"tweetid\": \"object\",\n",
    "        \"userid\": \"object\",\n",
    "        \"user_screen_name\": \"object\",\n",
    "        \"follower_count\": \"object\",\n",
    "        \"following_count\": \"object\",\n",
    "        \"tweet_language\": \"object\",\n",
    "        \"tweet_text\": \"object\",\n",
    "        \"tweet_time\": \"object\",\n",
    "        \"tweet_client_name\": \"object\",\n",
    "        \"is_retweet\": \"object\",\n",
    "        \"retweet_userid\": \"object\",\n",
    "        \"retweet_tweetid\": \"object\"\n",
    "    }\n",
    ").persist()"
   ]
  },
  {
   "cell_type": "code",
   "execution_count": 6,
   "metadata": {},
   "outputs": [
    {
     "data": {
      "text/html": [
       "<div><strong>Dask DataFrame Structure:</strong></div>\n",
       "<div>\n",
       "<style scoped>\n",
       "    .dataframe tbody tr th:only-of-type {\n",
       "        vertical-align: middle;\n",
       "    }\n",
       "\n",
       "    .dataframe tbody tr th {\n",
       "        vertical-align: top;\n",
       "    }\n",
       "\n",
       "    .dataframe thead th {\n",
       "        text-align: right;\n",
       "    }\n",
       "</style>\n",
       "<table border=\"1\" class=\"dataframe\">\n",
       "  <thead>\n",
       "    <tr style=\"text-align: right;\">\n",
       "      <th></th>\n",
       "      <th>tweetid</th>\n",
       "      <th>userid</th>\n",
       "      <th>user_screen_name</th>\n",
       "      <th>follower_count</th>\n",
       "      <th>following_count</th>\n",
       "      <th>tweet_language</th>\n",
       "      <th>tweet_text</th>\n",
       "      <th>tweet_time</th>\n",
       "      <th>tweet_client_name</th>\n",
       "      <th>is_retweet</th>\n",
       "      <th>retweet_userid</th>\n",
       "      <th>retweet_tweetid</th>\n",
       "    </tr>\n",
       "    <tr>\n",
       "      <th>npartitions=369</th>\n",
       "      <th></th>\n",
       "      <th></th>\n",
       "      <th></th>\n",
       "      <th></th>\n",
       "      <th></th>\n",
       "      <th></th>\n",
       "      <th></th>\n",
       "      <th></th>\n",
       "      <th></th>\n",
       "      <th></th>\n",
       "      <th></th>\n",
       "      <th></th>\n",
       "    </tr>\n",
       "  </thead>\n",
       "  <tbody>\n",
       "    <tr>\n",
       "      <th></th>\n",
       "      <td>object</td>\n",
       "      <td>object</td>\n",
       "      <td>object</td>\n",
       "      <td>object</td>\n",
       "      <td>object</td>\n",
       "      <td>object</td>\n",
       "      <td>object</td>\n",
       "      <td>object</td>\n",
       "      <td>object</td>\n",
       "      <td>object</td>\n",
       "      <td>object</td>\n",
       "      <td>object</td>\n",
       "    </tr>\n",
       "    <tr>\n",
       "      <th></th>\n",
       "      <td>...</td>\n",
       "      <td>...</td>\n",
       "      <td>...</td>\n",
       "      <td>...</td>\n",
       "      <td>...</td>\n",
       "      <td>...</td>\n",
       "      <td>...</td>\n",
       "      <td>...</td>\n",
       "      <td>...</td>\n",
       "      <td>...</td>\n",
       "      <td>...</td>\n",
       "      <td>...</td>\n",
       "    </tr>\n",
       "    <tr>\n",
       "      <th>...</th>\n",
       "      <td>...</td>\n",
       "      <td>...</td>\n",
       "      <td>...</td>\n",
       "      <td>...</td>\n",
       "      <td>...</td>\n",
       "      <td>...</td>\n",
       "      <td>...</td>\n",
       "      <td>...</td>\n",
       "      <td>...</td>\n",
       "      <td>...</td>\n",
       "      <td>...</td>\n",
       "      <td>...</td>\n",
       "    </tr>\n",
       "    <tr>\n",
       "      <th></th>\n",
       "      <td>...</td>\n",
       "      <td>...</td>\n",
       "      <td>...</td>\n",
       "      <td>...</td>\n",
       "      <td>...</td>\n",
       "      <td>...</td>\n",
       "      <td>...</td>\n",
       "      <td>...</td>\n",
       "      <td>...</td>\n",
       "      <td>...</td>\n",
       "      <td>...</td>\n",
       "      <td>...</td>\n",
       "    </tr>\n",
       "    <tr>\n",
       "      <th></th>\n",
       "      <td>...</td>\n",
       "      <td>...</td>\n",
       "      <td>...</td>\n",
       "      <td>...</td>\n",
       "      <td>...</td>\n",
       "      <td>...</td>\n",
       "      <td>...</td>\n",
       "      <td>...</td>\n",
       "      <td>...</td>\n",
       "      <td>...</td>\n",
       "      <td>...</td>\n",
       "      <td>...</td>\n",
       "    </tr>\n",
       "  </tbody>\n",
       "</table>\n",
       "</div>\n",
       "<div>Dask Name: read-csv, 369 tasks</div>"
      ],
      "text/plain": [
       "Dask DataFrame Structure:\n",
       "                tweetid  userid user_screen_name follower_count following_count tweet_language tweet_text tweet_time tweet_client_name is_retweet retweet_userid retweet_tweetid\n",
       "npartitions=369                                                                                                                                                                 \n",
       "                 object  object           object         object          object         object     object     object            object     object         object          object\n",
       "                    ...     ...              ...            ...             ...            ...        ...        ...               ...        ...            ...             ...\n",
       "...                 ...     ...              ...            ...             ...            ...        ...        ...               ...        ...            ...             ...\n",
       "                    ...     ...              ...            ...             ...            ...        ...        ...               ...        ...            ...             ...\n",
       "                    ...     ...              ...            ...             ...            ...        ...        ...               ...        ...            ...             ...\n",
       "Dask Name: read-csv, 369 tasks"
      ]
     },
     "execution_count": 6,
     "metadata": {},
     "output_type": "execute_result"
    }
   ],
   "source": [
    "ddf"
   ]
  },
  {
   "cell_type": "code",
   "execution_count": 7,
   "metadata": {},
   "outputs": [
    {
     "data": {
      "text/plain": [
       "36524387"
      ]
     },
     "execution_count": 7,
     "metadata": {},
     "output_type": "execute_result"
    }
   ],
   "source": [
    "n_rows_all = ddf.shape[0].compute()\n",
    "n_rows_all"
   ]
  },
  {
   "cell_type": "markdown",
   "metadata": {},
   "source": [
    "We have more than 36.5 million tweets.\n",
    "\n",
    "No biggie.\n",
    "    \n",
    "We had some trouble setting the data types. This is probably because of NaNs and/or faulty rows. Let's investigate that first.\n",
    "\n",
    "Let's proceed to have a look at:\n",
    "- number of NaNs in tweet_text, user_id\n",
    "- faulty entries in tweet_text\n",
    "\n",
    "\n",
    "Then move on to looking at:\n",
    "- percentage of tweets in arabic: >95%\n",
    "- number of unique users: \n",
    "- histogram of number of tweets per user\n",
    "- average number of tweets per user\n",
    "- histogram of follower_count per user\n",
    "- average follower_count per user\n"
   ]
  },
  {
   "cell_type": "markdown",
   "metadata": {},
   "source": [
    "## Start by Creating Index"
   ]
  },
  {
   "cell_type": "code",
   "execution_count": 8,
   "metadata": {},
   "outputs": [
    {
     "name": "stdout",
     "output_type": "stream",
     "text": [
      "CPU times: user 3.35 s, sys: 307 ms, total: 3.66 s\n",
      "Wall time: 8.48 s\n"
     ]
    }
   ],
   "source": [
    "%%time\n",
    "# set index to tweetid\n",
    "ddf = ddf.set_index('tweetid', drop=True).persist()"
   ]
  },
  {
   "cell_type": "markdown",
   "metadata": {},
   "source": [
    "## Inspecting Tweet_Text Column to Remove Faulty Entries"
   ]
  },
  {
   "cell_type": "code",
   "execution_count": 9,
   "metadata": {},
   "outputs": [],
   "source": [
    "df_temp = ddf.partitions[9].compute()"
   ]
  },
  {
   "cell_type": "code",
   "execution_count": 10,
   "metadata": {},
   "outputs": [
    {
     "data": {
      "text/html": [
       "<div>\n",
       "<style scoped>\n",
       "    .dataframe tbody tr th:only-of-type {\n",
       "        vertical-align: middle;\n",
       "    }\n",
       "\n",
       "    .dataframe tbody tr th {\n",
       "        vertical-align: top;\n",
       "    }\n",
       "\n",
       "    .dataframe thead th {\n",
       "        text-align: right;\n",
       "    }\n",
       "</style>\n",
       "<table border=\"1\" class=\"dataframe\">\n",
       "  <thead>\n",
       "    <tr style=\"text-align: right;\">\n",
       "      <th></th>\n",
       "      <th>userid</th>\n",
       "      <th>user_screen_name</th>\n",
       "      <th>follower_count</th>\n",
       "      <th>following_count</th>\n",
       "      <th>tweet_language</th>\n",
       "      <th>tweet_text</th>\n",
       "      <th>tweet_time</th>\n",
       "      <th>tweet_client_name</th>\n",
       "      <th>is_retweet</th>\n",
       "      <th>retweet_userid</th>\n",
       "      <th>retweet_tweetid</th>\n",
       "    </tr>\n",
       "    <tr>\n",
       "      <th>tweetid</th>\n",
       "      <th></th>\n",
       "      <th></th>\n",
       "      <th></th>\n",
       "      <th></th>\n",
       "      <th></th>\n",
       "      <th></th>\n",
       "      <th></th>\n",
       "      <th></th>\n",
       "      <th></th>\n",
       "      <th></th>\n",
       "      <th></th>\n",
       "    </tr>\n",
       "  </thead>\n",
       "  <tbody>\n",
       "    <tr>\n",
       "      <th>1040243117105065984</th>\n",
       "      <td>993642585892818944</td>\n",
       "      <td>rahil_76</td>\n",
       "      <td>12576</td>\n",
       "      <td>12682</td>\n",
       "      <td>ar</td>\n",
       "      <td>RT @alasirihoney_: 1_اقسم بالله انه عسل سدر طب...</td>\n",
       "      <td>2018-09-13 14:17</td>\n",
       "      <td>Twitter for Android</td>\n",
       "      <td>true</td>\n",
       "      <td>NaN</td>\n",
       "      <td>1040088191351640065</td>\n",
       "    </tr>\n",
       "    <tr>\n",
       "      <th>1040243122406678534</th>\n",
       "      <td>993642585892818944</td>\n",
       "      <td>rahil_76</td>\n",
       "      <td>12576</td>\n",
       "      <td>12682</td>\n",
       "      <td>ar</td>\n",
       "      <td>RT @alasirihoney_: 1_عسل ابيض مجرى | بلدي طبيع...</td>\n",
       "      <td>2018-09-13 14:17</td>\n",
       "      <td>Twitter for Android</td>\n",
       "      <td>true</td>\n",
       "      <td>NaN</td>\n",
       "      <td>1040087978578722816</td>\n",
       "    </tr>\n",
       "    <tr>\n",
       "      <th>1040243124407291904</th>\n",
       "      <td>993642585892818944</td>\n",
       "      <td>rahil_76</td>\n",
       "      <td>12576</td>\n",
       "      <td>12682</td>\n",
       "      <td>ar</td>\n",
       "      <td>RT @alasirihoney_: 1_عسل سدر عسل طبيعي عسل ابو...</td>\n",
       "      <td>2018-09-13 14:17</td>\n",
       "      <td>Twitter for Android</td>\n",
       "      <td>true</td>\n",
       "      <td>NaN</td>\n",
       "      <td>1040087959792504832</td>\n",
       "    </tr>\n",
       "    <tr>\n",
       "      <th>1040243161019412480</th>\n",
       "      <td>993642585892818944</td>\n",
       "      <td>rahil_76</td>\n",
       "      <td>12576</td>\n",
       "      <td>12682</td>\n",
       "      <td>ar</td>\n",
       "      <td>RT @dddhhh284: #خزنات # حمامات # مسابح \\nحل ار...</td>\n",
       "      <td>2018-09-13 14:17</td>\n",
       "      <td>Twitter for Android</td>\n",
       "      <td>true</td>\n",
       "      <td>NaN</td>\n",
       "      <td>1039887208356958208</td>\n",
       "    </tr>\n",
       "    <tr>\n",
       "      <th>1040243165003956224</th>\n",
       "      <td>993642585892818944</td>\n",
       "      <td>rahil_76</td>\n",
       "      <td>12576</td>\n",
       "      <td>12682</td>\n",
       "      <td>ar</td>\n",
       "      <td>RT @dddhhh284: #خزنات # حمامات # مسابح \\nحل ار...</td>\n",
       "      <td>2018-09-13 14:17</td>\n",
       "      <td>Twitter for Android</td>\n",
       "      <td>true</td>\n",
       "      <td>NaN</td>\n",
       "      <td>1039886180030898176</td>\n",
       "    </tr>\n",
       "    <tr>\n",
       "      <th>...</th>\n",
       "      <td>...</td>\n",
       "      <td>...</td>\n",
       "      <td>...</td>\n",
       "      <td>...</td>\n",
       "      <td>...</td>\n",
       "      <td>...</td>\n",
       "      <td>...</td>\n",
       "      <td>...</td>\n",
       "      <td>...</td>\n",
       "      <td>...</td>\n",
       "      <td>...</td>\n",
       "    </tr>\n",
       "    <tr>\n",
       "      <th>1044651472749826048</th>\n",
       "      <td>448366650</td>\n",
       "      <td>hassin1937</td>\n",
       "      <td>30529</td>\n",
       "      <td>7265</td>\n",
       "      <td>ar</td>\n",
       "      <td>RT @mom999900: لاعدمتك ياهناء قلبي وخله💚ياللي ...</td>\n",
       "      <td>2018-09-25 18:14</td>\n",
       "      <td>Twitter for iPhone</td>\n",
       "      <td>true</td>\n",
       "      <td>NaN</td>\n",
       "      <td>1044622714944794624</td>\n",
       "    </tr>\n",
       "    <tr>\n",
       "      <th>1044651483885637632</th>\n",
       "      <td>448366650</td>\n",
       "      <td>hassin1937</td>\n",
       "      <td>30529</td>\n",
       "      <td>7265</td>\n",
       "      <td>ar</td>\n",
       "      <td>RT @do__x: •\\n\\n.\\n.\\nأحياناً . .\\nيتوّجب عليك...</td>\n",
       "      <td>2018-09-25 18:14</td>\n",
       "      <td>Twitter for iPhone</td>\n",
       "      <td>true</td>\n",
       "      <td>NaN</td>\n",
       "      <td>1044629681792782339</td>\n",
       "    </tr>\n",
       "    <tr>\n",
       "      <th>1044651498024591361</th>\n",
       "      <td>rJ9LKF5+KW7TRiUemWEc2o7f2Yir2yMc+oxuoHToyR0=</td>\n",
       "      <td>rJ9LKF5+KW7TRiUemWEc2o7f2Yir2yMc+oxuoHToyR0=</td>\n",
       "      <td>616</td>\n",
       "      <td>1668</td>\n",
       "      <td>ar</td>\n",
       "      <td>دونالد #ترامب رئيس #الولايات_المتحدة الأمريكية...</td>\n",
       "      <td>2018-09-25 18:15</td>\n",
       "      <td>TweetDeck</td>\n",
       "      <td>false</td>\n",
       "      <td>NaN</td>\n",
       "      <td>NaN</td>\n",
       "    </tr>\n",
       "    <tr>\n",
       "      <th>1044651498259402753</th>\n",
       "      <td>raSzN6PrYMCSDxoqTBRxJ6+gadIVulhn0NA0dn10A=</td>\n",
       "      <td>raSzN6PrYMCSDxoqTBRxJ6+gadIVulhn0NA0dn10A=</td>\n",
       "      <td>800</td>\n",
       "      <td>359</td>\n",
       "      <td>ar</td>\n",
       "      <td>دونالد #ترامب رئيس #الولايات_المتحدة الأمريكية...</td>\n",
       "      <td>2018-09-25 18:15</td>\n",
       "      <td>TweetDeck</td>\n",
       "      <td>false</td>\n",
       "      <td>NaN</td>\n",
       "      <td>NaN</td>\n",
       "    </tr>\n",
       "    <tr>\n",
       "      <th>1044651499496886272</th>\n",
       "      <td>448366650</td>\n",
       "      <td>hassin1937</td>\n",
       "      <td>30529</td>\n",
       "      <td>7265</td>\n",
       "      <td>ar</td>\n",
       "      <td>RT @KhalidNahas: #حروف_ثمينه\\n\\nالسماء غطاء لل...</td>\n",
       "      <td>2018-09-25 18:15</td>\n",
       "      <td>Twitter for iPhone</td>\n",
       "      <td>true</td>\n",
       "      <td>NaN</td>\n",
       "      <td>1044528133548978176</td>\n",
       "    </tr>\n",
       "  </tbody>\n",
       "</table>\n",
       "<p>100270 rows × 11 columns</p>\n",
       "</div>"
      ],
      "text/plain": [
       "                                                           userid  \\\n",
       "tweetid                                                             \n",
       "1040243117105065984                            993642585892818944   \n",
       "1040243122406678534                            993642585892818944   \n",
       "1040243124407291904                            993642585892818944   \n",
       "1040243161019412480                            993642585892818944   \n",
       "1040243165003956224                            993642585892818944   \n",
       "...                                                           ...   \n",
       "1044651472749826048                                     448366650   \n",
       "1044651483885637632                                     448366650   \n",
       "1044651498024591361  rJ9LKF5+KW7TRiUemWEc2o7f2Yir2yMc+oxuoHToyR0=   \n",
       "1044651498259402753    raSzN6PrYMCSDxoqTBRxJ6+gadIVulhn0NA0dn10A=   \n",
       "1044651499496886272                                     448366650   \n",
       "\n",
       "                                                 user_screen_name  \\\n",
       "tweetid                                                             \n",
       "1040243117105065984                                      rahil_76   \n",
       "1040243122406678534                                      rahil_76   \n",
       "1040243124407291904                                      rahil_76   \n",
       "1040243161019412480                                      rahil_76   \n",
       "1040243165003956224                                      rahil_76   \n",
       "...                                                           ...   \n",
       "1044651472749826048                                    hassin1937   \n",
       "1044651483885637632                                    hassin1937   \n",
       "1044651498024591361  rJ9LKF5+KW7TRiUemWEc2o7f2Yir2yMc+oxuoHToyR0=   \n",
       "1044651498259402753    raSzN6PrYMCSDxoqTBRxJ6+gadIVulhn0NA0dn10A=   \n",
       "1044651499496886272                                    hassin1937   \n",
       "\n",
       "                    follower_count following_count tweet_language  \\\n",
       "tweetid                                                             \n",
       "1040243117105065984          12576           12682             ar   \n",
       "1040243122406678534          12576           12682             ar   \n",
       "1040243124407291904          12576           12682             ar   \n",
       "1040243161019412480          12576           12682             ar   \n",
       "1040243165003956224          12576           12682             ar   \n",
       "...                            ...             ...            ...   \n",
       "1044651472749826048          30529            7265             ar   \n",
       "1044651483885637632          30529            7265             ar   \n",
       "1044651498024591361            616            1668             ar   \n",
       "1044651498259402753            800             359             ar   \n",
       "1044651499496886272          30529            7265             ar   \n",
       "\n",
       "                                                            tweet_text  \\\n",
       "tweetid                                                                  \n",
       "1040243117105065984  RT @alasirihoney_: 1_اقسم بالله انه عسل سدر طب...   \n",
       "1040243122406678534  RT @alasirihoney_: 1_عسل ابيض مجرى | بلدي طبيع...   \n",
       "1040243124407291904  RT @alasirihoney_: 1_عسل سدر عسل طبيعي عسل ابو...   \n",
       "1040243161019412480  RT @dddhhh284: #خزنات # حمامات # مسابح \\nحل ار...   \n",
       "1040243165003956224  RT @dddhhh284: #خزنات # حمامات # مسابح \\nحل ار...   \n",
       "...                                                                ...   \n",
       "1044651472749826048  RT @mom999900: لاعدمتك ياهناء قلبي وخله💚ياللي ...   \n",
       "1044651483885637632  RT @do__x: •\\n\\n.\\n.\\nأحياناً . .\\nيتوّجب عليك...   \n",
       "1044651498024591361  دونالد #ترامب رئيس #الولايات_المتحدة الأمريكية...   \n",
       "1044651498259402753  دونالد #ترامب رئيس #الولايات_المتحدة الأمريكية...   \n",
       "1044651499496886272  RT @KhalidNahas: #حروف_ثمينه\\n\\nالسماء غطاء لل...   \n",
       "\n",
       "                           tweet_time    tweet_client_name is_retweet  \\\n",
       "tweetid                                                                 \n",
       "1040243117105065984  2018-09-13 14:17  Twitter for Android       true   \n",
       "1040243122406678534  2018-09-13 14:17  Twitter for Android       true   \n",
       "1040243124407291904  2018-09-13 14:17  Twitter for Android       true   \n",
       "1040243161019412480  2018-09-13 14:17  Twitter for Android       true   \n",
       "1040243165003956224  2018-09-13 14:17  Twitter for Android       true   \n",
       "...                               ...                  ...        ...   \n",
       "1044651472749826048  2018-09-25 18:14   Twitter for iPhone       true   \n",
       "1044651483885637632  2018-09-25 18:14   Twitter for iPhone       true   \n",
       "1044651498024591361  2018-09-25 18:15            TweetDeck      false   \n",
       "1044651498259402753  2018-09-25 18:15            TweetDeck      false   \n",
       "1044651499496886272  2018-09-25 18:15   Twitter for iPhone       true   \n",
       "\n",
       "                    retweet_userid      retweet_tweetid  \n",
       "tweetid                                                  \n",
       "1040243117105065984            NaN  1040088191351640065  \n",
       "1040243122406678534            NaN  1040087978578722816  \n",
       "1040243124407291904            NaN  1040087959792504832  \n",
       "1040243161019412480            NaN  1039887208356958208  \n",
       "1040243165003956224            NaN  1039886180030898176  \n",
       "...                            ...                  ...  \n",
       "1044651472749826048            NaN  1044622714944794624  \n",
       "1044651483885637632            NaN  1044629681792782339  \n",
       "1044651498024591361            NaN                  NaN  \n",
       "1044651498259402753            NaN                  NaN  \n",
       "1044651499496886272            NaN  1044528133548978176  \n",
       "\n",
       "[100270 rows x 11 columns]"
      ]
     },
     "execution_count": 10,
     "metadata": {},
     "output_type": "execute_result"
    }
   ],
   "source": [
    "df_temp"
   ]
  },
  {
   "cell_type": "code",
   "execution_count": 11,
   "metadata": {},
   "outputs": [],
   "source": [
    "# df_numeric = ddf[ddf.tweet_text.str.isnumeric()].compute()\n",
    "# df_numeric"
   ]
  },
  {
   "cell_type": "markdown",
   "metadata": {},
   "source": [
    "The tweet_text column contains faulty entries that are:\n",
    "- only digits (shifted rows due to faulty import)\n",
    "- NaNs\n",
    "\n",
    "Let's first remove NaNs so that we can then proceed to look at the digit entries."
   ]
  },
  {
   "cell_type": "markdown",
   "metadata": {},
   "source": [
    "## Drop NaNs from ddf"
   ]
  },
  {
   "cell_type": "code",
   "execution_count": 12,
   "metadata": {},
   "outputs": [],
   "source": [
    "# drop rows for which tweet_text is NaN\n",
    "ddf = ddf.dropna(subset=['tweet_text']).persist()"
   ]
  },
  {
   "cell_type": "code",
   "execution_count": 13,
   "metadata": {},
   "outputs": [
    {
     "name": "stdout",
     "output_type": "stream",
     "text": [
      "CPU times: user 96.5 ms, sys: 6.88 ms, total: 103 ms\n",
      "Wall time: 1.55 s\n"
     ]
    },
    {
     "data": {
      "text/plain": [
       "36523971"
      ]
     },
     "execution_count": 13,
     "metadata": {},
     "output_type": "execute_result"
    }
   ],
   "source": [
    "%%time\n",
    "ddf.shape[0].compute()"
   ]
  },
  {
   "cell_type": "code",
   "execution_count": 14,
   "metadata": {},
   "outputs": [
    {
     "data": {
      "text/plain": [
       "416"
      ]
     },
     "execution_count": 14,
     "metadata": {},
     "output_type": "execute_result"
    }
   ],
   "source": [
    "n_rows_all - 36523971"
   ]
  },
  {
   "cell_type": "markdown",
   "metadata": {},
   "source": [
    "Dropping the rows with NaN in tweet_text still leaves us with >36.5mln tweets. We have dropped 416 rows."
   ]
  },
  {
   "cell_type": "markdown",
   "metadata": {},
   "source": [
    "Now let's see how many rows there are with digits in tweet_text. These rows are faulty imports; their contents have been shifted across columns, i.e. tweetid contains tweet_text etc."
   ]
  },
  {
   "cell_type": "code",
   "execution_count": 15,
   "metadata": {},
   "outputs": [
    {
     "data": {
      "text/plain": [
       "373"
      ]
     },
     "execution_count": 15,
     "metadata": {},
     "output_type": "execute_result"
    }
   ],
   "source": [
    "# subset ddf to get the number of entries for which tweet_text is entirely numeric\n",
    "df_numeric = ddf[ddf.tweet_text.str.isnumeric()].compute()\n",
    "df_numeric.shape[0]"
   ]
  },
  {
   "cell_type": "code",
   "execution_count": 16,
   "metadata": {},
   "outputs": [
    {
     "data": {
      "text/html": [
       "<div>\n",
       "<style scoped>\n",
       "    .dataframe tbody tr th:only-of-type {\n",
       "        vertical-align: middle;\n",
       "    }\n",
       "\n",
       "    .dataframe tbody tr th {\n",
       "        vertical-align: top;\n",
       "    }\n",
       "\n",
       "    .dataframe thead th {\n",
       "        text-align: right;\n",
       "    }\n",
       "</style>\n",
       "<table border=\"1\" class=\"dataframe\">\n",
       "  <thead>\n",
       "    <tr style=\"text-align: right;\">\n",
       "      <th></th>\n",
       "      <th>userid</th>\n",
       "      <th>user_screen_name</th>\n",
       "      <th>follower_count</th>\n",
       "      <th>following_count</th>\n",
       "      <th>tweet_language</th>\n",
       "      <th>tweet_text</th>\n",
       "      <th>tweet_time</th>\n",
       "      <th>tweet_client_name</th>\n",
       "      <th>is_retweet</th>\n",
       "      <th>retweet_userid</th>\n",
       "      <th>retweet_tweetid</th>\n",
       "    </tr>\n",
       "    <tr>\n",
       "      <th>tweetid</th>\n",
       "      <th></th>\n",
       "      <th></th>\n",
       "      <th></th>\n",
       "      <th></th>\n",
       "      <th></th>\n",
       "      <th></th>\n",
       "      <th></th>\n",
       "      <th></th>\n",
       "      <th></th>\n",
       "      <th></th>\n",
       "      <th></th>\n",
       "    </tr>\n",
       "  </thead>\n",
       "  <tbody>\n",
       "    <tr>\n",
       "      <th>#…\"</th>\n",
       "      <td>2019-01-20 03:47</td>\n",
       "      <td>NaN</td>\n",
       "      <td>NaN</td>\n",
       "      <td>1086730661875060737</td>\n",
       "      <td>0</td>\n",
       "      <td>0</td>\n",
       "      <td>0</td>\n",
       "      <td>0</td>\n",
       "      <td>NaN</td>\n",
       "      <td>None</td>\n",
       "      <td>None</td>\n",
       "    </tr>\n",
       "    <tr>\n",
       "      <th>#بووح_…\"</th>\n",
       "      <td>2018-12-09 11:27</td>\n",
       "      <td>NaN</td>\n",
       "      <td>NaN</td>\n",
       "      <td>1071473849517129728</td>\n",
       "      <td>0</td>\n",
       "      <td>0</td>\n",
       "      <td>0</td>\n",
       "      <td>0</td>\n",
       "      <td>NaN</td>\n",
       "      <td>None</td>\n",
       "      <td>None</td>\n",
       "    </tr>\n",
       "    <tr>\n",
       "      <th>1080640664742887424</th>\n",
       "      <td>N7vyR3Dc33h4hsFz7AN8UsMWS9KFrO6+xwoaY2PCEnE=</td>\n",
       "      <td>N7vyR3Dc33h4hsFz7AN8UsMWS9KFrO6+xwoaY2PCEnE=</td>\n",
       "      <td>77</td>\n",
       "      <td>663</td>\n",
       "      <td>und</td>\n",
       "      <td>٨</td>\n",
       "      <td>2019-01-03 01:43</td>\n",
       "      <td>Twitter for iPhone</td>\n",
       "      <td>false</td>\n",
       "      <td>NaN</td>\n",
       "      <td>NaN</td>\n",
       "    </tr>\n",
       "    <tr>\n",
       "      <th>502595805753397249</th>\n",
       "      <td>uF9U9xjM3+rT7yCU04ZhsMfeoAqCxeF52huvy04nBqw=</td>\n",
       "      <td>uF9U9xjM3+rT7yCU04ZhsMfeoAqCxeF52huvy04nBqw=</td>\n",
       "      <td>164</td>\n",
       "      <td>219</td>\n",
       "      <td>und</td>\n",
       "      <td>42</td>\n",
       "      <td>2014-08-21 23:19</td>\n",
       "      <td>TweetDeck</td>\n",
       "      <td>false</td>\n",
       "      <td>NaN</td>\n",
       "      <td>NaN</td>\n",
       "    </tr>\n",
       "    <tr>\n",
       "      <th>لعله بعد ذلك؛ تنفع الناس، ويرتفع…\"</th>\n",
       "      <td>2016-12-23 21:53</td>\n",
       "      <td>NaN</td>\n",
       "      <td>NaN</td>\n",
       "      <td>812370148120203265</td>\n",
       "      <td>0</td>\n",
       "      <td>0</td>\n",
       "      <td>0</td>\n",
       "      <td>0</td>\n",
       "      <td>NaN</td>\n",
       "      <td>None</td>\n",
       "      <td>None</td>\n",
       "    </tr>\n",
       "  </tbody>\n",
       "</table>\n",
       "</div>"
      ],
      "text/plain": [
       "                                                                          userid  \\\n",
       "tweetid                                                                            \n",
       "#…\"                                                             2019-01-20 03:47   \n",
       "#بووح_…\"                                                        2018-12-09 11:27   \n",
       "1080640664742887424                 N7vyR3Dc33h4hsFz7AN8UsMWS9KFrO6+xwoaY2PCEnE=   \n",
       "502595805753397249                  uF9U9xjM3+rT7yCU04ZhsMfeoAqCxeF52huvy04nBqw=   \n",
       "لعله بعد ذلك؛ تنفع الناس، ويرتفع…\"                              2016-12-23 21:53   \n",
       "\n",
       "                                                                user_screen_name  \\\n",
       "tweetid                                                                            \n",
       "#…\"                                                                          NaN   \n",
       "#بووح_…\"                                                                     NaN   \n",
       "1080640664742887424                 N7vyR3Dc33h4hsFz7AN8UsMWS9KFrO6+xwoaY2PCEnE=   \n",
       "502595805753397249                  uF9U9xjM3+rT7yCU04ZhsMfeoAqCxeF52huvy04nBqw=   \n",
       "لعله بعد ذلك؛ تنفع الناس، ويرتفع…\"                                           NaN   \n",
       "\n",
       "                                   follower_count      following_count  \\\n",
       "tweetid                                                                  \n",
       "#…\"                                           NaN  1086730661875060737   \n",
       "#بووح_…\"                                      NaN  1071473849517129728   \n",
       "1080640664742887424                            77                  663   \n",
       "502595805753397249                            164                  219   \n",
       "لعله بعد ذلك؛ تنفع الناس، ويرتفع…\"            NaN   812370148120203265   \n",
       "\n",
       "                                   tweet_language tweet_text  \\\n",
       "tweetid                                                        \n",
       "#…\"                                             0          0   \n",
       "#بووح_…\"                                        0          0   \n",
       "1080640664742887424                           und          ٨   \n",
       "502595805753397249                            und         42   \n",
       "لعله بعد ذلك؛ تنفع الناس، ويرتفع…\"              0          0   \n",
       "\n",
       "                                          tweet_time   tweet_client_name  \\\n",
       "tweetid                                                                    \n",
       "#…\"                                                0                   0   \n",
       "#بووح_…\"                                           0                   0   \n",
       "1080640664742887424                 2019-01-03 01:43  Twitter for iPhone   \n",
       "502595805753397249                  2014-08-21 23:19           TweetDeck   \n",
       "لعله بعد ذلك؛ تنفع الناس، ويرتفع…\"                 0                   0   \n",
       "\n",
       "                                   is_retweet retweet_userid retweet_tweetid  \n",
       "tweetid                                                                       \n",
       "#…\"                                       NaN           None            None  \n",
       "#بووح_…\"                                  NaN           None            None  \n",
       "1080640664742887424                     false            NaN             NaN  \n",
       "502595805753397249                      false            NaN             NaN  \n",
       "لعله بعد ذلك؛ تنفع الناس، ويرتفع…\"        NaN           None            None  "
      ]
     },
     "execution_count": 16,
     "metadata": {},
     "output_type": "execute_result"
    }
   ],
   "source": [
    "df_numeric.sample(5)"
   ]
  },
  {
   "cell_type": "markdown",
   "metadata": {},
   "source": [
    "373 - although this includes some tweets that are not shifted, but are just tweets of numbers. But we can remove all of those, they're not going to be very informative anyway."
   ]
  },
  {
   "cell_type": "markdown",
   "metadata": {},
   "source": [
    "Dask does not support dropping rows.\n",
    "\n",
    "Instead, let's select the inverse of the rows_to_drop by negating the .str.isnumeric() call below."
   ]
  },
  {
   "cell_type": "code",
   "execution_count": 17,
   "metadata": {},
   "outputs": [],
   "source": [
    "# get all rows that are NOT all numeric\n",
    "ddf = ddf[~ddf.tweet_text.str.isnumeric()].persist()"
   ]
  },
  {
   "cell_type": "code",
   "execution_count": 18,
   "metadata": {},
   "outputs": [
    {
     "data": {
      "text/plain": [
       "36523598"
      ]
     },
     "execution_count": 18,
     "metadata": {},
     "output_type": "execute_result"
    }
   ],
   "source": [
    "ddf.shape[0].compute()"
   ]
  },
  {
   "cell_type": "code",
   "execution_count": 19,
   "metadata": {},
   "outputs": [
    {
     "data": {
      "text/plain": [
       "789"
      ]
     },
     "execution_count": 19,
     "metadata": {},
     "output_type": "execute_result"
    }
   ],
   "source": [
    "n_rows_all - 36523598"
   ]
  },
  {
   "cell_type": "markdown",
   "metadata": {},
   "source": [
    "After removing tweets with all numeric entries in tweet_text we have removed 789 tweets in total (i.e. including the NaNs removed above). \n",
    "\n",
    "Let's make sure we have removed all the instances where userid contains the date (i.e. shifted columns)."
   ]
  },
  {
   "cell_type": "code",
   "execution_count": 20,
   "metadata": {},
   "outputs": [],
   "source": [
    "# define function to pass to map_partitions\n",
    "def get_faulty_ids(df):\n",
    "    df_all = pd.DataFrame()\n",
    "    df_faulty = df[df.userid.str.startswith('201')]\n",
    "    df_all = df_all.append(df_faulty)\n",
    "    return df_all"
   ]
  },
  {
   "cell_type": "code",
   "execution_count": 21,
   "metadata": {
    "scrolled": false
   },
   "outputs": [
    {
     "name": "stdout",
     "output_type": "stream",
     "text": [
      "CPU times: user 510 ms, sys: 22.5 ms, total: 533 ms\n",
      "Wall time: 2.18 s\n"
     ]
    },
    {
     "data": {
      "text/html": [
       "<div>\n",
       "<style scoped>\n",
       "    .dataframe tbody tr th:only-of-type {\n",
       "        vertical-align: middle;\n",
       "    }\n",
       "\n",
       "    .dataframe tbody tr th {\n",
       "        vertical-align: top;\n",
       "    }\n",
       "\n",
       "    .dataframe thead th {\n",
       "        text-align: right;\n",
       "    }\n",
       "</style>\n",
       "<table border=\"1\" class=\"dataframe\">\n",
       "  <thead>\n",
       "    <tr style=\"text-align: right;\">\n",
       "      <th></th>\n",
       "      <th>userid</th>\n",
       "      <th>user_screen_name</th>\n",
       "      <th>follower_count</th>\n",
       "      <th>following_count</th>\n",
       "      <th>tweet_language</th>\n",
       "      <th>tweet_text</th>\n",
       "      <th>tweet_time</th>\n",
       "      <th>tweet_client_name</th>\n",
       "      <th>is_retweet</th>\n",
       "      <th>retweet_userid</th>\n",
       "      <th>retweet_tweetid</th>\n",
       "    </tr>\n",
       "    <tr>\n",
       "      <th>tweetid</th>\n",
       "      <th></th>\n",
       "      <th></th>\n",
       "      <th></th>\n",
       "      <th></th>\n",
       "      <th></th>\n",
       "      <th></th>\n",
       "      <th></th>\n",
       "      <th></th>\n",
       "      <th></th>\n",
       "      <th></th>\n",
       "      <th></th>\n",
       "    </tr>\n",
       "  </thead>\n",
       "  <tbody>\n",
       "  </tbody>\n",
       "</table>\n",
       "</div>"
      ],
      "text/plain": [
       "Empty DataFrame\n",
       "Columns: [userid, user_screen_name, follower_count, following_count, tweet_language, tweet_text, tweet_time, tweet_client_name, is_retweet, retweet_userid, retweet_tweetid]\n",
       "Index: []"
      ]
     },
     "execution_count": 21,
     "metadata": {},
     "output_type": "execute_result"
    }
   ],
   "source": [
    "%%time\n",
    "# pass faulty_ids function to each partition\n",
    "df_faultyrows = ddf.map_partitions(get_faulty_ids).compute()\n",
    "df_faultyrows"
   ]
  },
  {
   "cell_type": "markdown",
   "metadata": {},
   "source": [
    "Yes, we have removed al entries for which the userid was a date.\n",
    "\n",
    "Let's see if we can now convert our columns to the right datatypes. That should gives us confidence that all our rows contain the right entries and we have no more faulty imports / shifted rows."
   ]
  },
  {
   "cell_type": "code",
   "execution_count": 22,
   "metadata": {},
   "outputs": [
    {
     "data": {
      "text/plain": [
       "Index(['userid', 'user_screen_name', 'follower_count', 'following_count',\n",
       "       'tweet_language', 'tweet_text', 'tweet_time', 'tweet_client_name',\n",
       "       'is_retweet', 'retweet_userid', 'retweet_tweetid'],\n",
       "      dtype='object')"
      ]
     },
     "execution_count": 22,
     "metadata": {},
     "output_type": "execute_result"
    }
   ],
   "source": [
    "ddf.columns"
   ]
  },
  {
   "cell_type": "markdown",
   "metadata": {},
   "source": [
    "### Inspecting is_retweet Column"
   ]
  },
  {
   "cell_type": "code",
   "execution_count": 23,
   "metadata": {},
   "outputs": [],
   "source": [
    "is_retweet = ddf.is_retweet.persist()"
   ]
  },
  {
   "cell_type": "code",
   "execution_count": 24,
   "metadata": {},
   "outputs": [
    {
     "data": {
      "text/plain": [
       "true     33107687\n",
       "false     3415910\n",
       "[]              1\n",
       "Name: is_retweet, dtype: int64"
      ]
     },
     "execution_count": 24,
     "metadata": {},
     "output_type": "execute_result"
    }
   ],
   "source": [
    "is_retweet.value_counts().compute()"
   ]
  },
  {
   "cell_type": "markdown",
   "metadata": {},
   "source": [
    "There's one NaN or empty value. Let's check that out."
   ]
  },
  {
   "cell_type": "code",
   "execution_count": 25,
   "metadata": {},
   "outputs": [
    {
     "data": {
      "text/html": [
       "<div>\n",
       "<style scoped>\n",
       "    .dataframe tbody tr th:only-of-type {\n",
       "        vertical-align: middle;\n",
       "    }\n",
       "\n",
       "    .dataframe tbody tr th {\n",
       "        vertical-align: top;\n",
       "    }\n",
       "\n",
       "    .dataframe thead th {\n",
       "        text-align: right;\n",
       "    }\n",
       "</style>\n",
       "<table border=\"1\" class=\"dataframe\">\n",
       "  <thead>\n",
       "    <tr style=\"text-align: right;\">\n",
       "      <th></th>\n",
       "      <th>userid</th>\n",
       "      <th>user_screen_name</th>\n",
       "      <th>follower_count</th>\n",
       "      <th>following_count</th>\n",
       "      <th>tweet_language</th>\n",
       "      <th>tweet_text</th>\n",
       "      <th>tweet_time</th>\n",
       "      <th>tweet_client_name</th>\n",
       "      <th>is_retweet</th>\n",
       "      <th>retweet_userid</th>\n",
       "      <th>retweet_tweetid</th>\n",
       "    </tr>\n",
       "    <tr>\n",
       "      <th>tweetid</th>\n",
       "      <th></th>\n",
       "      <th></th>\n",
       "      <th></th>\n",
       "      <th></th>\n",
       "      <th></th>\n",
       "      <th></th>\n",
       "      <th></th>\n",
       "      <th></th>\n",
       "      <th></th>\n",
       "      <th></th>\n",
       "      <th></th>\n",
       "    </tr>\n",
       "  </thead>\n",
       "  <tbody>\n",
       "    <tr>\n",
       "      <th>اسبيلت</th>\n",
       "      <td>اسبيلت</td>\n",
       "      <td>2019-07-11 09:23</td>\n",
       "      <td>NaN</td>\n",
       "      <td>true</td>\n",
       "      <td>absent</td>\n",
       "      <td>absent</td>\n",
       "      <td>0</td>\n",
       "      <td>0</td>\n",
       "      <td>[]</td>\n",
       "      <td>['3069869876']</td>\n",
       "      <td>NaN</td>\n",
       "    </tr>\n",
       "  </tbody>\n",
       "</table>\n",
       "</div>"
      ],
      "text/plain": [
       "         userid  user_screen_name follower_count following_count  \\\n",
       "tweetid                                                            \n",
       " اسبيلت  اسبيلت  2019-07-11 09:23            NaN            true   \n",
       "\n",
       "        tweet_language tweet_text tweet_time tweet_client_name is_retweet  \\\n",
       "tweetid                                                                     \n",
       " اسبيلت         absent     absent          0                 0         []   \n",
       "\n",
       "         retweet_userid retweet_tweetid  \n",
       "tweetid                                  \n",
       " اسبيلت  ['3069869876']             NaN  "
      ]
     },
     "execution_count": 25,
     "metadata": {},
     "output_type": "execute_result"
    }
   ],
   "source": [
    "ddf[ddf.is_retweet == \"[]\"].compute()"
   ]
  },
  {
   "cell_type": "markdown",
   "metadata": {},
   "source": [
    "This is a shifted row too, let's drop it."
   ]
  },
  {
   "cell_type": "code",
   "execution_count": 26,
   "metadata": {},
   "outputs": [],
   "source": [
    "ddf = ddf[ddf.is_retweet != \"[]\"].persist()"
   ]
  },
  {
   "cell_type": "code",
   "execution_count": 27,
   "metadata": {},
   "outputs": [
    {
     "data": {
      "text/plain": [
       "36523597"
      ]
     },
     "execution_count": 27,
     "metadata": {},
     "output_type": "execute_result"
    }
   ],
   "source": [
    "ddf.shape[0].compute()"
   ]
  },
  {
   "cell_type": "code",
   "execution_count": 28,
   "metadata": {},
   "outputs": [
    {
     "data": {
      "text/plain": [
       "790"
      ]
     },
     "execution_count": 28,
     "metadata": {},
     "output_type": "execute_result"
    }
   ],
   "source": [
    "n_rows_all - 36523597"
   ]
  },
  {
   "cell_type": "markdown",
   "metadata": {},
   "source": [
    "We've now dropped one more row, totalling 790 rows dropped.\n",
    "\n",
    "Let's now convert this column to boolean."
   ]
  },
  {
   "cell_type": "code",
   "execution_count": 29,
   "metadata": {},
   "outputs": [],
   "source": [
    "# create dictionary to map strings to booleans\n",
    "mapping = {'true': True, 'false': False}"
   ]
  },
  {
   "cell_type": "code",
   "execution_count": 30,
   "metadata": {},
   "outputs": [],
   "source": [
    "ddf.is_retweet = ddf.is_retweet.map(mapping).persist()"
   ]
  },
  {
   "cell_type": "code",
   "execution_count": 31,
   "metadata": {},
   "outputs": [
    {
     "data": {
      "text/plain": [
       "True     33107687\n",
       "False     3415910\n",
       "Name: is_retweet, dtype: int64"
      ]
     },
     "execution_count": 31,
     "metadata": {},
     "output_type": "execute_result"
    }
   ],
   "source": [
    "ddf.is_retweet.value_counts().compute()"
   ]
  },
  {
   "cell_type": "code",
   "execution_count": 32,
   "metadata": {},
   "outputs": [],
   "source": [
    "# cast column to boolean data type\n",
    "ddf.is_retweet = ddf.is_retweet.astype(bool).persist()"
   ]
  },
  {
   "cell_type": "code",
   "execution_count": 33,
   "metadata": {},
   "outputs": [
    {
     "data": {
      "text/plain": [
       "True     33107687\n",
       "False     3415910\n",
       "Name: is_retweet, dtype: int64"
      ]
     },
     "execution_count": 33,
     "metadata": {},
     "output_type": "execute_result"
    }
   ],
   "source": [
    "# verify\n",
    "ddf.is_retweet.value_counts().compute()"
   ]
  },
  {
   "cell_type": "code",
   "execution_count": 34,
   "metadata": {},
   "outputs": [
    {
     "data": {
      "text/plain": [
       "userid               object\n",
       "user_screen_name     object\n",
       "follower_count       object\n",
       "following_count      object\n",
       "tweet_language       object\n",
       "tweet_text           object\n",
       "tweet_time           object\n",
       "tweet_client_name    object\n",
       "is_retweet             bool\n",
       "retweet_userid       object\n",
       "retweet_tweetid      object\n",
       "dtype: object"
      ]
     },
     "execution_count": 34,
     "metadata": {},
     "output_type": "execute_result"
    }
   ],
   "source": [
    "ddf.dtypes"
   ]
  },
  {
   "cell_type": "markdown",
   "metadata": {},
   "source": [
    "### Inspecting Following and Follower Columns\n",
    "Let's have a look at the following_count and follower_count columns.\n",
    "\n",
    "We'll look at:\n",
    "- number of non-numeric entries\n",
    "- number of NaNs\n",
    "- any strange one-time occurrences that don't belong?"
   ]
  },
  {
   "cell_type": "code",
   "execution_count": 35,
   "metadata": {},
   "outputs": [],
   "source": [
    "# get rows with following_count is non-numeric\n",
    "faulty_following = ddf[~ddf.following_count.str.isnumeric()].compute()"
   ]
  },
  {
   "cell_type": "code",
   "execution_count": 36,
   "metadata": {},
   "outputs": [
    {
     "data": {
      "text/html": [
       "<div>\n",
       "<style scoped>\n",
       "    .dataframe tbody tr th:only-of-type {\n",
       "        vertical-align: middle;\n",
       "    }\n",
       "\n",
       "    .dataframe tbody tr th {\n",
       "        vertical-align: top;\n",
       "    }\n",
       "\n",
       "    .dataframe thead th {\n",
       "        text-align: right;\n",
       "    }\n",
       "</style>\n",
       "<table border=\"1\" class=\"dataframe\">\n",
       "  <thead>\n",
       "    <tr style=\"text-align: right;\">\n",
       "      <th></th>\n",
       "      <th>userid</th>\n",
       "      <th>user_screen_name</th>\n",
       "      <th>follower_count</th>\n",
       "      <th>following_count</th>\n",
       "      <th>tweet_language</th>\n",
       "      <th>tweet_text</th>\n",
       "      <th>tweet_time</th>\n",
       "      <th>tweet_client_name</th>\n",
       "      <th>is_retweet</th>\n",
       "      <th>retweet_userid</th>\n",
       "      <th>retweet_tweetid</th>\n",
       "    </tr>\n",
       "    <tr>\n",
       "      <th>tweetid</th>\n",
       "      <th></th>\n",
       "      <th></th>\n",
       "      <th></th>\n",
       "      <th></th>\n",
       "      <th></th>\n",
       "      <th></th>\n",
       "      <th></th>\n",
       "      <th></th>\n",
       "      <th></th>\n",
       "      <th></th>\n",
       "      <th></th>\n",
       "    </tr>\n",
       "  </thead>\n",
       "  <tbody>\n",
       "  </tbody>\n",
       "</table>\n",
       "</div>"
      ],
      "text/plain": [
       "Empty DataFrame\n",
       "Columns: [userid, user_screen_name, follower_count, following_count, tweet_language, tweet_text, tweet_time, tweet_client_name, is_retweet, retweet_userid, retweet_tweetid]\n",
       "Index: []"
      ]
     },
     "execution_count": 36,
     "metadata": {},
     "output_type": "execute_result"
    }
   ],
   "source": [
    "faulty_following"
   ]
  },
  {
   "cell_type": "code",
   "execution_count": 37,
   "metadata": {},
   "outputs": [],
   "source": [
    "# get rows with NaNs\n",
    "following_NaN = ddf[ddf.following_count.isnull()].compute()"
   ]
  },
  {
   "cell_type": "code",
   "execution_count": 38,
   "metadata": {},
   "outputs": [
    {
     "data": {
      "text/html": [
       "<div>\n",
       "<style scoped>\n",
       "    .dataframe tbody tr th:only-of-type {\n",
       "        vertical-align: middle;\n",
       "    }\n",
       "\n",
       "    .dataframe tbody tr th {\n",
       "        vertical-align: top;\n",
       "    }\n",
       "\n",
       "    .dataframe thead th {\n",
       "        text-align: right;\n",
       "    }\n",
       "</style>\n",
       "<table border=\"1\" class=\"dataframe\">\n",
       "  <thead>\n",
       "    <tr style=\"text-align: right;\">\n",
       "      <th></th>\n",
       "      <th>userid</th>\n",
       "      <th>user_screen_name</th>\n",
       "      <th>follower_count</th>\n",
       "      <th>following_count</th>\n",
       "      <th>tweet_language</th>\n",
       "      <th>tweet_text</th>\n",
       "      <th>tweet_time</th>\n",
       "      <th>tweet_client_name</th>\n",
       "      <th>is_retweet</th>\n",
       "      <th>retweet_userid</th>\n",
       "      <th>retweet_tweetid</th>\n",
       "    </tr>\n",
       "    <tr>\n",
       "      <th>tweetid</th>\n",
       "      <th></th>\n",
       "      <th></th>\n",
       "      <th></th>\n",
       "      <th></th>\n",
       "      <th></th>\n",
       "      <th></th>\n",
       "      <th></th>\n",
       "      <th></th>\n",
       "      <th></th>\n",
       "      <th></th>\n",
       "      <th></th>\n",
       "    </tr>\n",
       "  </thead>\n",
       "  <tbody>\n",
       "  </tbody>\n",
       "</table>\n",
       "</div>"
      ],
      "text/plain": [
       "Empty DataFrame\n",
       "Columns: [userid, user_screen_name, follower_count, following_count, tweet_language, tweet_text, tweet_time, tweet_client_name, is_retweet, retweet_userid, retweet_tweetid]\n",
       "Index: []"
      ]
     },
     "execution_count": 38,
     "metadata": {},
     "output_type": "execute_result"
    }
   ],
   "source": [
    "following_NaN"
   ]
  },
  {
   "cell_type": "code",
   "execution_count": 39,
   "metadata": {},
   "outputs": [],
   "source": [
    "# get value counts\n",
    "following_value_counts = ddf.following_count.value_counts()"
   ]
  },
  {
   "cell_type": "code",
   "execution_count": 40,
   "metadata": {},
   "outputs": [
    {
     "data": {
      "text/plain": [
       "726     5\n",
       "480     5\n",
       "304     4\n",
       "183     2\n",
       "812     2\n",
       "239     2\n",
       "384     1\n",
       "1113    1\n",
       "173     1\n",
       "851     1\n",
       "Name: following_count, dtype: int64"
      ]
     },
     "execution_count": 40,
     "metadata": {},
     "output_type": "execute_result"
    }
   ],
   "source": [
    "# check tail to spot any strange one-time occurrences\n",
    "following_value_counts.tail(10)"
   ]
  },
  {
   "cell_type": "markdown",
   "metadata": {},
   "source": [
    "No issues here.\n",
    "\n",
    "Let's look at follower_count:"
   ]
  },
  {
   "cell_type": "code",
   "execution_count": 41,
   "metadata": {},
   "outputs": [],
   "source": [
    "# get rows with follower_count is non-numeric\n",
    "faulty_follower = ddf[~ddf.follower_count.str.isnumeric()].compute()"
   ]
  },
  {
   "cell_type": "code",
   "execution_count": 42,
   "metadata": {},
   "outputs": [
    {
     "data": {
      "text/html": [
       "<div>\n",
       "<style scoped>\n",
       "    .dataframe tbody tr th:only-of-type {\n",
       "        vertical-align: middle;\n",
       "    }\n",
       "\n",
       "    .dataframe tbody tr th {\n",
       "        vertical-align: top;\n",
       "    }\n",
       "\n",
       "    .dataframe thead th {\n",
       "        text-align: right;\n",
       "    }\n",
       "</style>\n",
       "<table border=\"1\" class=\"dataframe\">\n",
       "  <thead>\n",
       "    <tr style=\"text-align: right;\">\n",
       "      <th></th>\n",
       "      <th>userid</th>\n",
       "      <th>user_screen_name</th>\n",
       "      <th>follower_count</th>\n",
       "      <th>following_count</th>\n",
       "      <th>tweet_language</th>\n",
       "      <th>tweet_text</th>\n",
       "      <th>tweet_time</th>\n",
       "      <th>tweet_client_name</th>\n",
       "      <th>is_retweet</th>\n",
       "      <th>retweet_userid</th>\n",
       "      <th>retweet_tweetid</th>\n",
       "    </tr>\n",
       "    <tr>\n",
       "      <th>tweetid</th>\n",
       "      <th></th>\n",
       "      <th></th>\n",
       "      <th></th>\n",
       "      <th></th>\n",
       "      <th></th>\n",
       "      <th></th>\n",
       "      <th></th>\n",
       "      <th></th>\n",
       "      <th></th>\n",
       "      <th></th>\n",
       "      <th></th>\n",
       "    </tr>\n",
       "  </thead>\n",
       "  <tbody>\n",
       "  </tbody>\n",
       "</table>\n",
       "</div>"
      ],
      "text/plain": [
       "Empty DataFrame\n",
       "Columns: [userid, user_screen_name, follower_count, following_count, tweet_language, tweet_text, tweet_time, tweet_client_name, is_retweet, retweet_userid, retweet_tweetid]\n",
       "Index: []"
      ]
     },
     "execution_count": 42,
     "metadata": {},
     "output_type": "execute_result"
    }
   ],
   "source": [
    "faulty_follower"
   ]
  },
  {
   "cell_type": "code",
   "execution_count": 43,
   "metadata": {},
   "outputs": [],
   "source": [
    "# get rows with NaNs\n",
    "follower_NaN = ddf[ddf.follower_count.isnull()].compute()"
   ]
  },
  {
   "cell_type": "code",
   "execution_count": 44,
   "metadata": {},
   "outputs": [
    {
     "data": {
      "text/html": [
       "<div>\n",
       "<style scoped>\n",
       "    .dataframe tbody tr th:only-of-type {\n",
       "        vertical-align: middle;\n",
       "    }\n",
       "\n",
       "    .dataframe tbody tr th {\n",
       "        vertical-align: top;\n",
       "    }\n",
       "\n",
       "    .dataframe thead th {\n",
       "        text-align: right;\n",
       "    }\n",
       "</style>\n",
       "<table border=\"1\" class=\"dataframe\">\n",
       "  <thead>\n",
       "    <tr style=\"text-align: right;\">\n",
       "      <th></th>\n",
       "      <th>userid</th>\n",
       "      <th>user_screen_name</th>\n",
       "      <th>follower_count</th>\n",
       "      <th>following_count</th>\n",
       "      <th>tweet_language</th>\n",
       "      <th>tweet_text</th>\n",
       "      <th>tweet_time</th>\n",
       "      <th>tweet_client_name</th>\n",
       "      <th>is_retweet</th>\n",
       "      <th>retweet_userid</th>\n",
       "      <th>retweet_tweetid</th>\n",
       "    </tr>\n",
       "    <tr>\n",
       "      <th>tweetid</th>\n",
       "      <th></th>\n",
       "      <th></th>\n",
       "      <th></th>\n",
       "      <th></th>\n",
       "      <th></th>\n",
       "      <th></th>\n",
       "      <th></th>\n",
       "      <th></th>\n",
       "      <th></th>\n",
       "      <th></th>\n",
       "      <th></th>\n",
       "    </tr>\n",
       "  </thead>\n",
       "  <tbody>\n",
       "  </tbody>\n",
       "</table>\n",
       "</div>"
      ],
      "text/plain": [
       "Empty DataFrame\n",
       "Columns: [userid, user_screen_name, follower_count, following_count, tweet_language, tweet_text, tweet_time, tweet_client_name, is_retweet, retweet_userid, retweet_tweetid]\n",
       "Index: []"
      ]
     },
     "execution_count": 44,
     "metadata": {},
     "output_type": "execute_result"
    }
   ],
   "source": [
    "follower_NaN"
   ]
  },
  {
   "cell_type": "code",
   "execution_count": 45,
   "metadata": {},
   "outputs": [],
   "source": [
    "# get value counts\n",
    "follower_value_counts = ddf.follower_count.value_counts()"
   ]
  },
  {
   "cell_type": "code",
   "execution_count": 46,
   "metadata": {},
   "outputs": [
    {
     "data": {
      "text/plain": [
       "7988     29\n",
       "1353     28\n",
       "1607     28\n",
       "3790     25\n",
       "2196     24\n",
       "1465     24\n",
       "1210     22\n",
       "23195    22\n",
       "821      14\n",
       "3731     10\n",
       "Name: follower_count, dtype: int64"
      ]
     },
     "execution_count": 46,
     "metadata": {},
     "output_type": "execute_result"
    }
   ],
   "source": [
    "# check tail to spot any strange one-time occurrences\n",
    "follower_value_counts.tail(10)"
   ]
  },
  {
   "cell_type": "markdown",
   "metadata": {},
   "source": [
    "No issues here either.\n",
    "\n",
    "This means we should be able to cast these columns to int64 data type."
   ]
  },
  {
   "cell_type": "code",
   "execution_count": 47,
   "metadata": {},
   "outputs": [],
   "source": [
    "# cast columns to integer dtypes\n",
    "ddf.following_count = ddf.following_count.astype('int64').persist()\n",
    "ddf.follower_count = ddf.follower_count.astype('int64').persist()"
   ]
  },
  {
   "cell_type": "code",
   "execution_count": 48,
   "metadata": {},
   "outputs": [
    {
     "data": {
      "text/plain": [
       "userid               object\n",
       "user_screen_name     object\n",
       "follower_count        int64\n",
       "following_count       int64\n",
       "tweet_language       object\n",
       "tweet_text           object\n",
       "tweet_time           object\n",
       "tweet_client_name    object\n",
       "is_retweet             bool\n",
       "retweet_userid       object\n",
       "retweet_tweetid      object\n",
       "dtype: object"
      ]
     },
     "execution_count": 48,
     "metadata": {},
     "output_type": "execute_result"
    }
   ],
   "source": [
    "ddf.dtypes"
   ]
  },
  {
   "cell_type": "markdown",
   "metadata": {},
   "source": [
    "### Inspecting tweet_language Column"
   ]
  },
  {
   "cell_type": "code",
   "execution_count": 49,
   "metadata": {},
   "outputs": [],
   "source": [
    "lang_value_counts = ddf.tweet_language.value_counts().compute()"
   ]
  },
  {
   "cell_type": "code",
   "execution_count": 50,
   "metadata": {},
   "outputs": [
    {
     "data": {
      "text/plain": [
       "Index(['ar', 'und', 'en', 'fa', 'tr', 'ko', 'eu', 'in', 'fi', 'tl', 'vi', 'fr',\n",
       "       'ur', 'es', 'pt', 'ja', 'ca', 'cs', 'ht', 'de', 'et', 'id', 'zh', 'it',\n",
       "       'ru', 'pl', 'nl', 'cy', 'ckb', 'sk', 'hi', 'sl', 'sv', 'uk', 'da', 'hu',\n",
       "       'sd', 'lt', 'no', 'is', 'ro', 'lv', 'th', 'bo', 'ta', 'kn', 'hr', 'ps',\n",
       "       'iw', 'bg', 'bn', 'bs', 'ug', 'el', 'am', 'hy', 'ml', 'ka', 'sr', 'ne',\n",
       "       'chr', 'pa', 'dv', 'iu', 'sn', 'mr', 'he'],\n",
       "      dtype='object')"
      ]
     },
     "execution_count": 50,
     "metadata": {},
     "output_type": "execute_result"
    }
   ],
   "source": [
    "lang_value_counts.index"
   ]
  },
  {
   "cell_type": "markdown",
   "metadata": {},
   "source": [
    "That looks fine, too. No strange numbers or tweet texts in here that would point to faulty imports."
   ]
  },
  {
   "cell_type": "markdown",
   "metadata": {},
   "source": [
    "### Inspecting tweet_client_name Column"
   ]
  },
  {
   "cell_type": "code",
   "execution_count": 51,
   "metadata": {},
   "outputs": [],
   "source": [
    "client_name_value_counts = ddf.tweet_client_name.value_counts().compute()"
   ]
  },
  {
   "cell_type": "code",
   "execution_count": 52,
   "metadata": {},
   "outputs": [
    {
     "data": {
      "text/plain": [
       "Twitter for iPhone     17746118\n",
       "Twitter for Android    11781531\n",
       "Twitter for iPad        3063280\n",
       "Twitter Web App         1468719\n",
       "Twitter Web Client       534684\n",
       "                         ...   \n",
       "erased14602063                1\n",
       "PicCollage                    1\n",
       "erased14118499                1\n",
       "Plays Now                     1\n",
       "   Fancy                      1\n",
       "Name: tweet_client_name, Length: 457, dtype: int64"
      ]
     },
     "execution_count": 52,
     "metadata": {},
     "output_type": "execute_result"
    }
   ],
   "source": [
    "client_name_value_counts"
   ]
  },
  {
   "cell_type": "code",
   "execution_count": 53,
   "metadata": {},
   "outputs": [
    {
     "data": {
      "text/plain": [
       "CSR Racing on iOS              4\n",
       "Who Unfollowed Me              1\n",
       "sms                          739\n",
       "Twitpic                      860\n",
       "erased13244793               594\n",
       "Twittimer                      1\n",
       "erased14591474             23821\n",
       "UnlimApps Inc                  2\n",
       "Angry Gran Run on iOS          1\n",
       "arabsweb                  208229\n",
       "API TWlTTER 1.1                8\n",
       "Twitter Web App          1468719\n",
       "غرد بالفتاوى                 810\n",
       "🔥Latest Visitors🔥            167\n",
       "twittelator                   22\n",
       "soud_rama                   3059\n",
       "Question_arabss               76\n",
       "Twitter Media Studio         330\n",
       "Dorar_islamic               6654\n",
       "Echofon                      995\n",
       "Name: tweet_client_name, dtype: int64"
      ]
     },
     "execution_count": 53,
     "metadata": {},
     "output_type": "execute_result"
    }
   ],
   "source": [
    "client_name_value_counts.sample(20)"
   ]
  },
  {
   "cell_type": "markdown",
   "metadata": {},
   "source": [
    "This looks in order. Client names in arabic are read from right to left which is why the value counts are in the left column."
   ]
  },
  {
   "cell_type": "markdown",
   "metadata": {},
   "source": [
    "### Inspecting retweet_tweetid Column"
   ]
  },
  {
   "cell_type": "code",
   "execution_count": 54,
   "metadata": {},
   "outputs": [],
   "source": [
    "retweetids = ddf.retweet_tweetid.persist()"
   ]
  },
  {
   "cell_type": "code",
   "execution_count": 55,
   "metadata": {},
   "outputs": [
    {
     "data": {
      "text/plain": [
       "tweetid\n",
       "1000000000447930368    998649277479088128\n",
       "1000000030391095297    999637296612855808\n",
       "1000000039362662400    999393857438699520\n",
       "1000000054911033344    998351563839148032\n",
       "1000000204865789954                   NaN\n",
       "Name: retweet_tweetid, dtype: object"
      ]
     },
     "execution_count": 55,
     "metadata": {},
     "output_type": "execute_result"
    }
   ],
   "source": [
    "retweetids.head()"
   ]
  },
  {
   "cell_type": "markdown",
   "metadata": {},
   "source": [
    "OK, so we have a null value here. Let's see how many in total."
   ]
  },
  {
   "cell_type": "code",
   "execution_count": 56,
   "metadata": {},
   "outputs": [
    {
     "data": {
      "text/plain": [
       "3415910"
      ]
     },
     "execution_count": 56,
     "metadata": {},
     "output_type": "execute_result"
    }
   ],
   "source": [
    "ddf.retweet_tweetid.isnull().sum().compute()"
   ]
  },
  {
   "cell_type": "markdown",
   "metadata": {},
   "source": [
    "That corresponds exactly to the number of non-retweets, so that's fine.\n",
    "\n",
    "This means we should cast this column to **float** not integer."
   ]
  },
  {
   "cell_type": "code",
   "execution_count": 57,
   "metadata": {},
   "outputs": [],
   "source": [
    "# cast column to float dtypes\n",
    "ddf.retweet_tweetid = ddf.retweet_tweetid.astype('float64').persist()"
   ]
  },
  {
   "cell_type": "code",
   "execution_count": 58,
   "metadata": {},
   "outputs": [
    {
     "data": {
      "text/plain": [
       "userid                object\n",
       "user_screen_name      object\n",
       "follower_count         int64\n",
       "following_count        int64\n",
       "tweet_language        object\n",
       "tweet_text            object\n",
       "tweet_time            object\n",
       "tweet_client_name     object\n",
       "is_retweet              bool\n",
       "retweet_userid        object\n",
       "retweet_tweetid      float64\n",
       "dtype: object"
      ]
     },
     "execution_count": 58,
     "metadata": {},
     "output_type": "execute_result"
    }
   ],
   "source": [
    "ddf.dtypes"
   ]
  },
  {
   "cell_type": "markdown",
   "metadata": {},
   "source": [
    "### Inspecting retweet_userid Column\n",
    "\n",
    "This column should contain hashed and unhashed userids, i.e. strings.\n",
    "\n",
    "Let's just check any NaNs."
   ]
  },
  {
   "cell_type": "code",
   "execution_count": 59,
   "metadata": {},
   "outputs": [
    {
     "data": {
      "text/plain": [
       "35839843"
      ]
     },
     "execution_count": 59,
     "metadata": {},
     "output_type": "execute_result"
    }
   ],
   "source": [
    "ddf.retweet_userid.isnull().sum().compute()"
   ]
  },
  {
   "cell_type": "markdown",
   "metadata": {},
   "source": [
    "Wow. 35.8 mln NaNs for the retweet_userid.\n",
    "\n",
    "Let's have a closer look."
   ]
  },
  {
   "cell_type": "code",
   "execution_count": 60,
   "metadata": {},
   "outputs": [],
   "source": [
    "retweet_userids_notNaN = ddf[ddf.retweet_userid.notnull()].persist()"
   ]
  },
  {
   "cell_type": "code",
   "execution_count": 61,
   "metadata": {},
   "outputs": [
    {
     "data": {
      "text/html": [
       "<div>\n",
       "<style scoped>\n",
       "    .dataframe tbody tr th:only-of-type {\n",
       "        vertical-align: middle;\n",
       "    }\n",
       "\n",
       "    .dataframe tbody tr th {\n",
       "        vertical-align: top;\n",
       "    }\n",
       "\n",
       "    .dataframe thead th {\n",
       "        text-align: right;\n",
       "    }\n",
       "</style>\n",
       "<table border=\"1\" class=\"dataframe\">\n",
       "  <thead>\n",
       "    <tr style=\"text-align: right;\">\n",
       "      <th></th>\n",
       "      <th>userid</th>\n",
       "      <th>user_screen_name</th>\n",
       "      <th>follower_count</th>\n",
       "      <th>following_count</th>\n",
       "      <th>tweet_language</th>\n",
       "      <th>tweet_text</th>\n",
       "      <th>tweet_time</th>\n",
       "      <th>tweet_client_name</th>\n",
       "      <th>is_retweet</th>\n",
       "      <th>retweet_userid</th>\n",
       "      <th>retweet_tweetid</th>\n",
       "    </tr>\n",
       "    <tr>\n",
       "      <th>tweetid</th>\n",
       "      <th></th>\n",
       "      <th></th>\n",
       "      <th></th>\n",
       "      <th></th>\n",
       "      <th></th>\n",
       "      <th></th>\n",
       "      <th></th>\n",
       "      <th></th>\n",
       "      <th></th>\n",
       "      <th></th>\n",
       "      <th></th>\n",
       "    </tr>\n",
       "  </thead>\n",
       "  <tbody>\n",
       "    <tr>\n",
       "      <th>1000061011880284161</th>\n",
       "      <td>np1eOxdxZnVz8KR9WRdXAaxOCMVgkHZlqKMZpQKTq08=</td>\n",
       "      <td>np1eOxdxZnVz8KR9WRdXAaxOCMVgkHZlqKMZpQKTq08=</td>\n",
       "      <td>4607</td>\n",
       "      <td>4843</td>\n",
       "      <td>ar</td>\n",
       "      <td>RT @jLrAA2gkQM83CtpEH6YyeV3eb+f56UcVcdvWBXKt0Q...</td>\n",
       "      <td>2018-05-25 17:08</td>\n",
       "      <td>Twitter for Android</td>\n",
       "      <td>True</td>\n",
       "      <td>974777604812263425</td>\n",
       "      <td>1.000053e+18</td>\n",
       "    </tr>\n",
       "    <tr>\n",
       "      <th>1000061016393252864</th>\n",
       "      <td>np1eOxdxZnVz8KR9WRdXAaxOCMVgkHZlqKMZpQKTq08=</td>\n",
       "      <td>np1eOxdxZnVz8KR9WRdXAaxOCMVgkHZlqKMZpQKTq08=</td>\n",
       "      <td>4607</td>\n",
       "      <td>4843</td>\n",
       "      <td>ar</td>\n",
       "      <td>RT @jLrAA2gkQM83CtpEH6YyeV3eb+f56UcVcdvWBXKt0Q...</td>\n",
       "      <td>2018-05-25 17:08</td>\n",
       "      <td>Twitter for Android</td>\n",
       "      <td>True</td>\n",
       "      <td>974777604812263425</td>\n",
       "      <td>1.000053e+18</td>\n",
       "    </tr>\n",
       "    <tr>\n",
       "      <th>1000061023066492934</th>\n",
       "      <td>np1eOxdxZnVz8KR9WRdXAaxOCMVgkHZlqKMZpQKTq08=</td>\n",
       "      <td>np1eOxdxZnVz8KR9WRdXAaxOCMVgkHZlqKMZpQKTq08=</td>\n",
       "      <td>4607</td>\n",
       "      <td>4843</td>\n",
       "      <td>ar</td>\n",
       "      <td>RT @jLrAA2gkQM83CtpEH6YyeV3eb+f56UcVcdvWBXKt0Q...</td>\n",
       "      <td>2018-05-25 17:08</td>\n",
       "      <td>Twitter for Android</td>\n",
       "      <td>True</td>\n",
       "      <td>974777604812263425</td>\n",
       "      <td>1.000052e+18</td>\n",
       "    </tr>\n",
       "    <tr>\n",
       "      <th>1000061031132131329</th>\n",
       "      <td>np1eOxdxZnVz8KR9WRdXAaxOCMVgkHZlqKMZpQKTq08=</td>\n",
       "      <td>np1eOxdxZnVz8KR9WRdXAaxOCMVgkHZlqKMZpQKTq08=</td>\n",
       "      <td>4607</td>\n",
       "      <td>4843</td>\n",
       "      <td>ar</td>\n",
       "      <td>RT @jLrAA2gkQM83CtpEH6YyeV3eb+f56UcVcdvWBXKt0Q...</td>\n",
       "      <td>2018-05-25 17:08</td>\n",
       "      <td>Twitter for Android</td>\n",
       "      <td>True</td>\n",
       "      <td>974777604812263425</td>\n",
       "      <td>1.000052e+18</td>\n",
       "    </tr>\n",
       "    <tr>\n",
       "      <th>1000061714824679424</th>\n",
       "      <td>XLCNthF4y5Q18iYqRrj7hStchSPp26kfx7ly0SPVt8=</td>\n",
       "      <td>XLCNthF4y5Q18iYqRrj7hStchSPp26kfx7ly0SPVt8=</td>\n",
       "      <td>2370</td>\n",
       "      <td>3492</td>\n",
       "      <td>ar</td>\n",
       "      <td>RT @2sTX4IADf8dmtSoDvHdalKZ9Wh2InPrVINyxL3ZJOU...</td>\n",
       "      <td>2018-05-25 17:11</td>\n",
       "      <td>Twitter for Android</td>\n",
       "      <td>True</td>\n",
       "      <td>2sTX4IADf8dmtSoDvHdalKZ9Wh2InPrVINyxL3ZJOUc=</td>\n",
       "      <td>1.000040e+18</td>\n",
       "    </tr>\n",
       "    <tr>\n",
       "      <th>1000061720243720192</th>\n",
       "      <td>XLCNthF4y5Q18iYqRrj7hStchSPp26kfx7ly0SPVt8=</td>\n",
       "      <td>XLCNthF4y5Q18iYqRrj7hStchSPp26kfx7ly0SPVt8=</td>\n",
       "      <td>2370</td>\n",
       "      <td>3492</td>\n",
       "      <td>ar</td>\n",
       "      <td>RT @2sTX4IADf8dmtSoDvHdalKZ9Wh2InPrVINyxL3ZJOU...</td>\n",
       "      <td>2018-05-25 17:11</td>\n",
       "      <td>Twitter for Android</td>\n",
       "      <td>True</td>\n",
       "      <td>2sTX4IADf8dmtSoDvHdalKZ9Wh2InPrVINyxL3ZJOUc=</td>\n",
       "      <td>1.000040e+18</td>\n",
       "    </tr>\n",
       "    <tr>\n",
       "      <th>1000061725092319235</th>\n",
       "      <td>XLCNthF4y5Q18iYqRrj7hStchSPp26kfx7ly0SPVt8=</td>\n",
       "      <td>XLCNthF4y5Q18iYqRrj7hStchSPp26kfx7ly0SPVt8=</td>\n",
       "      <td>2370</td>\n",
       "      <td>3492</td>\n",
       "      <td>ar</td>\n",
       "      <td>RT @2sTX4IADf8dmtSoDvHdalKZ9Wh2InPrVINyxL3ZJOU...</td>\n",
       "      <td>2018-05-25 17:11</td>\n",
       "      <td>Twitter for Android</td>\n",
       "      <td>True</td>\n",
       "      <td>2sTX4IADf8dmtSoDvHdalKZ9Wh2InPrVINyxL3ZJOUc=</td>\n",
       "      <td>1.000040e+18</td>\n",
       "    </tr>\n",
       "    <tr>\n",
       "      <th>1000061730414825472</th>\n",
       "      <td>XLCNthF4y5Q18iYqRrj7hStchSPp26kfx7ly0SPVt8=</td>\n",
       "      <td>XLCNthF4y5Q18iYqRrj7hStchSPp26kfx7ly0SPVt8=</td>\n",
       "      <td>2370</td>\n",
       "      <td>3492</td>\n",
       "      <td>ar</td>\n",
       "      <td>RT @2sTX4IADf8dmtSoDvHdalKZ9Wh2InPrVINyxL3ZJOU...</td>\n",
       "      <td>2018-05-25 17:11</td>\n",
       "      <td>Twitter for Android</td>\n",
       "      <td>True</td>\n",
       "      <td>2sTX4IADf8dmtSoDvHdalKZ9Wh2InPrVINyxL3ZJOUc=</td>\n",
       "      <td>1.000040e+18</td>\n",
       "    </tr>\n",
       "    <tr>\n",
       "      <th>1000061736110690304</th>\n",
       "      <td>XLCNthF4y5Q18iYqRrj7hStchSPp26kfx7ly0SPVt8=</td>\n",
       "      <td>XLCNthF4y5Q18iYqRrj7hStchSPp26kfx7ly0SPVt8=</td>\n",
       "      <td>2370</td>\n",
       "      <td>3492</td>\n",
       "      <td>ar</td>\n",
       "      <td>RT @2sTX4IADf8dmtSoDvHdalKZ9Wh2InPrVINyxL3ZJOU...</td>\n",
       "      <td>2018-05-25 17:11</td>\n",
       "      <td>Twitter for Android</td>\n",
       "      <td>True</td>\n",
       "      <td>2sTX4IADf8dmtSoDvHdalKZ9Wh2InPrVINyxL3ZJOUc=</td>\n",
       "      <td>1.000040e+18</td>\n",
       "    </tr>\n",
       "    <tr>\n",
       "      <th>1000071220707151873</th>\n",
       "      <td>CGglXh1nikyRGa29EEe1F2FAhhkOQ0Z6OlKB5vmS8=</td>\n",
       "      <td>CGglXh1nikyRGa29EEe1F2FAhhkOQ0Z6OlKB5vmS8=</td>\n",
       "      <td>4540</td>\n",
       "      <td>4732</td>\n",
       "      <td>ar</td>\n",
       "      <td>RT @2sTX4IADf8dmtSoDvHdalKZ9Wh2InPrVINyxL3ZJOU...</td>\n",
       "      <td>2018-05-25 17:48</td>\n",
       "      <td>Twitter for Android</td>\n",
       "      <td>True</td>\n",
       "      <td>2sTX4IADf8dmtSoDvHdalKZ9Wh2InPrVINyxL3ZJOUc=</td>\n",
       "      <td>1.000046e+18</td>\n",
       "    </tr>\n",
       "    <tr>\n",
       "      <th>1000071226860204032</th>\n",
       "      <td>CGglXh1nikyRGa29EEe1F2FAhhkOQ0Z6OlKB5vmS8=</td>\n",
       "      <td>CGglXh1nikyRGa29EEe1F2FAhhkOQ0Z6OlKB5vmS8=</td>\n",
       "      <td>4540</td>\n",
       "      <td>4732</td>\n",
       "      <td>ar</td>\n",
       "      <td>RT @2sTX4IADf8dmtSoDvHdalKZ9Wh2InPrVINyxL3ZJOU...</td>\n",
       "      <td>2018-05-25 17:48</td>\n",
       "      <td>Twitter for Android</td>\n",
       "      <td>True</td>\n",
       "      <td>2sTX4IADf8dmtSoDvHdalKZ9Wh2InPrVINyxL3ZJOUc=</td>\n",
       "      <td>1.000045e+18</td>\n",
       "    </tr>\n",
       "    <tr>\n",
       "      <th>1000071237031297024</th>\n",
       "      <td>CGglXh1nikyRGa29EEe1F2FAhhkOQ0Z6OlKB5vmS8=</td>\n",
       "      <td>CGglXh1nikyRGa29EEe1F2FAhhkOQ0Z6OlKB5vmS8=</td>\n",
       "      <td>4540</td>\n",
       "      <td>4732</td>\n",
       "      <td>ar</td>\n",
       "      <td>RT @2sTX4IADf8dmtSoDvHdalKZ9Wh2InPrVINyxL3ZJOU...</td>\n",
       "      <td>2018-05-25 17:48</td>\n",
       "      <td>Twitter for Android</td>\n",
       "      <td>True</td>\n",
       "      <td>2sTX4IADf8dmtSoDvHdalKZ9Wh2InPrVINyxL3ZJOUc=</td>\n",
       "      <td>1.000045e+18</td>\n",
       "    </tr>\n",
       "    <tr>\n",
       "      <th>1000071243771662336</th>\n",
       "      <td>CGglXh1nikyRGa29EEe1F2FAhhkOQ0Z6OlKB5vmS8=</td>\n",
       "      <td>CGglXh1nikyRGa29EEe1F2FAhhkOQ0Z6OlKB5vmS8=</td>\n",
       "      <td>4540</td>\n",
       "      <td>4732</td>\n",
       "      <td>ar</td>\n",
       "      <td>RT @2sTX4IADf8dmtSoDvHdalKZ9Wh2InPrVINyxL3ZJOU...</td>\n",
       "      <td>2018-05-25 17:48</td>\n",
       "      <td>Twitter for Android</td>\n",
       "      <td>True</td>\n",
       "      <td>2sTX4IADf8dmtSoDvHdalKZ9Wh2InPrVINyxL3ZJOUc=</td>\n",
       "      <td>1.000045e+18</td>\n",
       "    </tr>\n",
       "    <tr>\n",
       "      <th>1000071255410790404</th>\n",
       "      <td>CGglXh1nikyRGa29EEe1F2FAhhkOQ0Z6OlKB5vmS8=</td>\n",
       "      <td>CGglXh1nikyRGa29EEe1F2FAhhkOQ0Z6OlKB5vmS8=</td>\n",
       "      <td>4540</td>\n",
       "      <td>4732</td>\n",
       "      <td>ar</td>\n",
       "      <td>RT @2sTX4IADf8dmtSoDvHdalKZ9Wh2InPrVINyxL3ZJOU...</td>\n",
       "      <td>2018-05-25 17:49</td>\n",
       "      <td>Twitter for Android</td>\n",
       "      <td>True</td>\n",
       "      <td>2sTX4IADf8dmtSoDvHdalKZ9Wh2InPrVINyxL3ZJOUc=</td>\n",
       "      <td>1.000046e+18</td>\n",
       "    </tr>\n",
       "    <tr>\n",
       "      <th>1000108900270698496</th>\n",
       "      <td>DMQ8Xwu8l9hqTi40fCweBpNsHKRIv1iMevZEpk2o6Ps=</td>\n",
       "      <td>DMQ8Xwu8l9hqTi40fCweBpNsHKRIv1iMevZEpk2o6Ps=</td>\n",
       "      <td>2114</td>\n",
       "      <td>2037</td>\n",
       "      <td>ar</td>\n",
       "      <td>RT @DMQ8Xwu8l9hqTi40fCweBpNsHKRIv1iMevZEpk2o6P...</td>\n",
       "      <td>2018-05-25 20:18</td>\n",
       "      <td>Twitter for iPhone</td>\n",
       "      <td>True</td>\n",
       "      <td>DMQ8Xwu8l9hqTi40fCweBpNsHKRIv1iMevZEpk2o6Ps=</td>\n",
       "      <td>1.000108e+18</td>\n",
       "    </tr>\n",
       "  </tbody>\n",
       "</table>\n",
       "</div>"
      ],
      "text/plain": [
       "                                                           userid  \\\n",
       "tweetid                                                             \n",
       "1000061011880284161  np1eOxdxZnVz8KR9WRdXAaxOCMVgkHZlqKMZpQKTq08=   \n",
       "1000061016393252864  np1eOxdxZnVz8KR9WRdXAaxOCMVgkHZlqKMZpQKTq08=   \n",
       "1000061023066492934  np1eOxdxZnVz8KR9WRdXAaxOCMVgkHZlqKMZpQKTq08=   \n",
       "1000061031132131329  np1eOxdxZnVz8KR9WRdXAaxOCMVgkHZlqKMZpQKTq08=   \n",
       "1000061714824679424   XLCNthF4y5Q18iYqRrj7hStchSPp26kfx7ly0SPVt8=   \n",
       "1000061720243720192   XLCNthF4y5Q18iYqRrj7hStchSPp26kfx7ly0SPVt8=   \n",
       "1000061725092319235   XLCNthF4y5Q18iYqRrj7hStchSPp26kfx7ly0SPVt8=   \n",
       "1000061730414825472   XLCNthF4y5Q18iYqRrj7hStchSPp26kfx7ly0SPVt8=   \n",
       "1000061736110690304   XLCNthF4y5Q18iYqRrj7hStchSPp26kfx7ly0SPVt8=   \n",
       "1000071220707151873    CGglXh1nikyRGa29EEe1F2FAhhkOQ0Z6OlKB5vmS8=   \n",
       "1000071226860204032    CGglXh1nikyRGa29EEe1F2FAhhkOQ0Z6OlKB5vmS8=   \n",
       "1000071237031297024    CGglXh1nikyRGa29EEe1F2FAhhkOQ0Z6OlKB5vmS8=   \n",
       "1000071243771662336    CGglXh1nikyRGa29EEe1F2FAhhkOQ0Z6OlKB5vmS8=   \n",
       "1000071255410790404    CGglXh1nikyRGa29EEe1F2FAhhkOQ0Z6OlKB5vmS8=   \n",
       "1000108900270698496  DMQ8Xwu8l9hqTi40fCweBpNsHKRIv1iMevZEpk2o6Ps=   \n",
       "\n",
       "                                                 user_screen_name  \\\n",
       "tweetid                                                             \n",
       "1000061011880284161  np1eOxdxZnVz8KR9WRdXAaxOCMVgkHZlqKMZpQKTq08=   \n",
       "1000061016393252864  np1eOxdxZnVz8KR9WRdXAaxOCMVgkHZlqKMZpQKTq08=   \n",
       "1000061023066492934  np1eOxdxZnVz8KR9WRdXAaxOCMVgkHZlqKMZpQKTq08=   \n",
       "1000061031132131329  np1eOxdxZnVz8KR9WRdXAaxOCMVgkHZlqKMZpQKTq08=   \n",
       "1000061714824679424   XLCNthF4y5Q18iYqRrj7hStchSPp26kfx7ly0SPVt8=   \n",
       "1000061720243720192   XLCNthF4y5Q18iYqRrj7hStchSPp26kfx7ly0SPVt8=   \n",
       "1000061725092319235   XLCNthF4y5Q18iYqRrj7hStchSPp26kfx7ly0SPVt8=   \n",
       "1000061730414825472   XLCNthF4y5Q18iYqRrj7hStchSPp26kfx7ly0SPVt8=   \n",
       "1000061736110690304   XLCNthF4y5Q18iYqRrj7hStchSPp26kfx7ly0SPVt8=   \n",
       "1000071220707151873    CGglXh1nikyRGa29EEe1F2FAhhkOQ0Z6OlKB5vmS8=   \n",
       "1000071226860204032    CGglXh1nikyRGa29EEe1F2FAhhkOQ0Z6OlKB5vmS8=   \n",
       "1000071237031297024    CGglXh1nikyRGa29EEe1F2FAhhkOQ0Z6OlKB5vmS8=   \n",
       "1000071243771662336    CGglXh1nikyRGa29EEe1F2FAhhkOQ0Z6OlKB5vmS8=   \n",
       "1000071255410790404    CGglXh1nikyRGa29EEe1F2FAhhkOQ0Z6OlKB5vmS8=   \n",
       "1000108900270698496  DMQ8Xwu8l9hqTi40fCweBpNsHKRIv1iMevZEpk2o6Ps=   \n",
       "\n",
       "                     follower_count  following_count tweet_language  \\\n",
       "tweetid                                                               \n",
       "1000061011880284161            4607             4843             ar   \n",
       "1000061016393252864            4607             4843             ar   \n",
       "1000061023066492934            4607             4843             ar   \n",
       "1000061031132131329            4607             4843             ar   \n",
       "1000061714824679424            2370             3492             ar   \n",
       "1000061720243720192            2370             3492             ar   \n",
       "1000061725092319235            2370             3492             ar   \n",
       "1000061730414825472            2370             3492             ar   \n",
       "1000061736110690304            2370             3492             ar   \n",
       "1000071220707151873            4540             4732             ar   \n",
       "1000071226860204032            4540             4732             ar   \n",
       "1000071237031297024            4540             4732             ar   \n",
       "1000071243771662336            4540             4732             ar   \n",
       "1000071255410790404            4540             4732             ar   \n",
       "1000108900270698496            2114             2037             ar   \n",
       "\n",
       "                                                            tweet_text  \\\n",
       "tweetid                                                                  \n",
       "1000061011880284161  RT @jLrAA2gkQM83CtpEH6YyeV3eb+f56UcVcdvWBXKt0Q...   \n",
       "1000061016393252864  RT @jLrAA2gkQM83CtpEH6YyeV3eb+f56UcVcdvWBXKt0Q...   \n",
       "1000061023066492934  RT @jLrAA2gkQM83CtpEH6YyeV3eb+f56UcVcdvWBXKt0Q...   \n",
       "1000061031132131329  RT @jLrAA2gkQM83CtpEH6YyeV3eb+f56UcVcdvWBXKt0Q...   \n",
       "1000061714824679424  RT @2sTX4IADf8dmtSoDvHdalKZ9Wh2InPrVINyxL3ZJOU...   \n",
       "1000061720243720192  RT @2sTX4IADf8dmtSoDvHdalKZ9Wh2InPrVINyxL3ZJOU...   \n",
       "1000061725092319235  RT @2sTX4IADf8dmtSoDvHdalKZ9Wh2InPrVINyxL3ZJOU...   \n",
       "1000061730414825472  RT @2sTX4IADf8dmtSoDvHdalKZ9Wh2InPrVINyxL3ZJOU...   \n",
       "1000061736110690304  RT @2sTX4IADf8dmtSoDvHdalKZ9Wh2InPrVINyxL3ZJOU...   \n",
       "1000071220707151873  RT @2sTX4IADf8dmtSoDvHdalKZ9Wh2InPrVINyxL3ZJOU...   \n",
       "1000071226860204032  RT @2sTX4IADf8dmtSoDvHdalKZ9Wh2InPrVINyxL3ZJOU...   \n",
       "1000071237031297024  RT @2sTX4IADf8dmtSoDvHdalKZ9Wh2InPrVINyxL3ZJOU...   \n",
       "1000071243771662336  RT @2sTX4IADf8dmtSoDvHdalKZ9Wh2InPrVINyxL3ZJOU...   \n",
       "1000071255410790404  RT @2sTX4IADf8dmtSoDvHdalKZ9Wh2InPrVINyxL3ZJOU...   \n",
       "1000108900270698496  RT @DMQ8Xwu8l9hqTi40fCweBpNsHKRIv1iMevZEpk2o6P...   \n",
       "\n",
       "                           tweet_time    tweet_client_name  is_retweet  \\\n",
       "tweetid                                                                  \n",
       "1000061011880284161  2018-05-25 17:08  Twitter for Android        True   \n",
       "1000061016393252864  2018-05-25 17:08  Twitter for Android        True   \n",
       "1000061023066492934  2018-05-25 17:08  Twitter for Android        True   \n",
       "1000061031132131329  2018-05-25 17:08  Twitter for Android        True   \n",
       "1000061714824679424  2018-05-25 17:11  Twitter for Android        True   \n",
       "1000061720243720192  2018-05-25 17:11  Twitter for Android        True   \n",
       "1000061725092319235  2018-05-25 17:11  Twitter for Android        True   \n",
       "1000061730414825472  2018-05-25 17:11  Twitter for Android        True   \n",
       "1000061736110690304  2018-05-25 17:11  Twitter for Android        True   \n",
       "1000071220707151873  2018-05-25 17:48  Twitter for Android        True   \n",
       "1000071226860204032  2018-05-25 17:48  Twitter for Android        True   \n",
       "1000071237031297024  2018-05-25 17:48  Twitter for Android        True   \n",
       "1000071243771662336  2018-05-25 17:48  Twitter for Android        True   \n",
       "1000071255410790404  2018-05-25 17:49  Twitter for Android        True   \n",
       "1000108900270698496  2018-05-25 20:18   Twitter for iPhone        True   \n",
       "\n",
       "                                                   retweet_userid  \\\n",
       "tweetid                                                             \n",
       "1000061011880284161                            974777604812263425   \n",
       "1000061016393252864                            974777604812263425   \n",
       "1000061023066492934                            974777604812263425   \n",
       "1000061031132131329                            974777604812263425   \n",
       "1000061714824679424  2sTX4IADf8dmtSoDvHdalKZ9Wh2InPrVINyxL3ZJOUc=   \n",
       "1000061720243720192  2sTX4IADf8dmtSoDvHdalKZ9Wh2InPrVINyxL3ZJOUc=   \n",
       "1000061725092319235  2sTX4IADf8dmtSoDvHdalKZ9Wh2InPrVINyxL3ZJOUc=   \n",
       "1000061730414825472  2sTX4IADf8dmtSoDvHdalKZ9Wh2InPrVINyxL3ZJOUc=   \n",
       "1000061736110690304  2sTX4IADf8dmtSoDvHdalKZ9Wh2InPrVINyxL3ZJOUc=   \n",
       "1000071220707151873  2sTX4IADf8dmtSoDvHdalKZ9Wh2InPrVINyxL3ZJOUc=   \n",
       "1000071226860204032  2sTX4IADf8dmtSoDvHdalKZ9Wh2InPrVINyxL3ZJOUc=   \n",
       "1000071237031297024  2sTX4IADf8dmtSoDvHdalKZ9Wh2InPrVINyxL3ZJOUc=   \n",
       "1000071243771662336  2sTX4IADf8dmtSoDvHdalKZ9Wh2InPrVINyxL3ZJOUc=   \n",
       "1000071255410790404  2sTX4IADf8dmtSoDvHdalKZ9Wh2InPrVINyxL3ZJOUc=   \n",
       "1000108900270698496  DMQ8Xwu8l9hqTi40fCweBpNsHKRIv1iMevZEpk2o6Ps=   \n",
       "\n",
       "                     retweet_tweetid  \n",
       "tweetid                               \n",
       "1000061011880284161     1.000053e+18  \n",
       "1000061016393252864     1.000053e+18  \n",
       "1000061023066492934     1.000052e+18  \n",
       "1000061031132131329     1.000052e+18  \n",
       "1000061714824679424     1.000040e+18  \n",
       "1000061720243720192     1.000040e+18  \n",
       "1000061725092319235     1.000040e+18  \n",
       "1000061730414825472     1.000040e+18  \n",
       "1000061736110690304     1.000040e+18  \n",
       "1000071220707151873     1.000046e+18  \n",
       "1000071226860204032     1.000045e+18  \n",
       "1000071237031297024     1.000045e+18  \n",
       "1000071243771662336     1.000045e+18  \n",
       "1000071255410790404     1.000046e+18  \n",
       "1000108900270698496     1.000108e+18  "
      ]
     },
     "execution_count": 61,
     "metadata": {},
     "output_type": "execute_result"
    }
   ],
   "source": [
    "retweet_userids_notNaN.head(15)"
   ]
  },
  {
   "cell_type": "markdown",
   "metadata": {},
   "source": [
    "It seems the tweet_text contains the retweet @username. Let's see if this is also the case for the entries with retweet_userid = NaN. That would be great."
   ]
  },
  {
   "cell_type": "code",
   "execution_count": 62,
   "metadata": {},
   "outputs": [],
   "source": [
    "retweet_userids_NaN = ddf[ddf.retweet_userid.isnull()].persist()"
   ]
  },
  {
   "cell_type": "code",
   "execution_count": 63,
   "metadata": {},
   "outputs": [
    {
     "data": {
      "text/html": [
       "<div>\n",
       "<style scoped>\n",
       "    .dataframe tbody tr th:only-of-type {\n",
       "        vertical-align: middle;\n",
       "    }\n",
       "\n",
       "    .dataframe tbody tr th {\n",
       "        vertical-align: top;\n",
       "    }\n",
       "\n",
       "    .dataframe thead th {\n",
       "        text-align: right;\n",
       "    }\n",
       "</style>\n",
       "<table border=\"1\" class=\"dataframe\">\n",
       "  <thead>\n",
       "    <tr style=\"text-align: right;\">\n",
       "      <th></th>\n",
       "      <th>userid</th>\n",
       "      <th>user_screen_name</th>\n",
       "      <th>follower_count</th>\n",
       "      <th>following_count</th>\n",
       "      <th>tweet_language</th>\n",
       "      <th>tweet_text</th>\n",
       "      <th>tweet_time</th>\n",
       "      <th>tweet_client_name</th>\n",
       "      <th>is_retweet</th>\n",
       "      <th>retweet_userid</th>\n",
       "      <th>retweet_tweetid</th>\n",
       "    </tr>\n",
       "    <tr>\n",
       "      <th>tweetid</th>\n",
       "      <th></th>\n",
       "      <th></th>\n",
       "      <th></th>\n",
       "      <th></th>\n",
       "      <th></th>\n",
       "      <th></th>\n",
       "      <th></th>\n",
       "      <th></th>\n",
       "      <th></th>\n",
       "      <th></th>\n",
       "      <th></th>\n",
       "    </tr>\n",
       "  </thead>\n",
       "  <tbody>\n",
       "    <tr>\n",
       "      <th>1000000000447930368</th>\n",
       "      <td>948302862098092034</td>\n",
       "      <td>y_44a_</td>\n",
       "      <td>9007</td>\n",
       "      <td>8821</td>\n",
       "      <td>ar</td>\n",
       "      <td>RT @oneway_market: السلام عليكم ورحمة الله وبر...</td>\n",
       "      <td>2018-05-25 13:05</td>\n",
       "      <td>Twitter for iPhone</td>\n",
       "      <td>True</td>\n",
       "      <td>NaN</td>\n",
       "      <td>9.986493e+17</td>\n",
       "    </tr>\n",
       "    <tr>\n",
       "      <th>1000000030391095297</th>\n",
       "      <td>948302862098092034</td>\n",
       "      <td>y_44a_</td>\n",
       "      <td>9007</td>\n",
       "      <td>8821</td>\n",
       "      <td>ar</td>\n",
       "      <td>RT @games4marah: 🌻#للتأجير 🌻#لبيع_النطيطات 🌻\\n...</td>\n",
       "      <td>2018-05-25 13:06</td>\n",
       "      <td>Twitter for iPhone</td>\n",
       "      <td>True</td>\n",
       "      <td>NaN</td>\n",
       "      <td>9.996373e+17</td>\n",
       "    </tr>\n",
       "    <tr>\n",
       "      <th>1000000039362662400</th>\n",
       "      <td>948302862098092034</td>\n",
       "      <td>y_44a_</td>\n",
       "      <td>9007</td>\n",
       "      <td>8821</td>\n",
       "      <td>ar</td>\n",
       "      <td>RT @mzlatksa: #مظلات وسواتر #آفاق_الرياض\\n#مظل...</td>\n",
       "      <td>2018-05-25 13:06</td>\n",
       "      <td>Twitter for iPhone</td>\n",
       "      <td>True</td>\n",
       "      <td>NaN</td>\n",
       "      <td>9.993939e+17</td>\n",
       "    </tr>\n",
       "    <tr>\n",
       "      <th>1000000054911033344</th>\n",
       "      <td>iXwa1+qxYAH2hEJ9nDG11qo6nmcpl89IQKhDRDqpfU4=</td>\n",
       "      <td>iXwa1+qxYAH2hEJ9nDG11qo6nmcpl89IQKhDRDqpfU4=</td>\n",
       "      <td>168</td>\n",
       "      <td>408</td>\n",
       "      <td>ar</td>\n",
       "      <td>RT @videohat_1: فيديو\\nشاهد.. مواطن يوثق بالفي...</td>\n",
       "      <td>2018-05-25 13:06</td>\n",
       "      <td>Twitter for iPhone</td>\n",
       "      <td>True</td>\n",
       "      <td>NaN</td>\n",
       "      <td>9.983516e+17</td>\n",
       "    </tr>\n",
       "    <tr>\n",
       "      <th>1000000204865789954</th>\n",
       "      <td>Gj+bihYSO0L5Ht1+f9OEqP42KbnJWtNK4qv0WJr0cs=</td>\n",
       "      <td>Gj+bihYSO0L5Ht1+f9OEqP42KbnJWtNK4qv0WJr0cs=</td>\n",
       "      <td>1623</td>\n",
       "      <td>2022</td>\n",
       "      <td>ar</td>\n",
       "      <td>أستغفر الله العظيم وأتوب إليه https://t.co/Dn3...</td>\n",
       "      <td>2018-05-25 13:06</td>\n",
       "      <td>غرد بصدقة</td>\n",
       "      <td>False</td>\n",
       "      <td>NaN</td>\n",
       "      <td>NaN</td>\n",
       "    </tr>\n",
       "    <tr>\n",
       "      <th>1000000215598891008</th>\n",
       "      <td>948302862098092034</td>\n",
       "      <td>y_44a_</td>\n",
       "      <td>9007</td>\n",
       "      <td>8821</td>\n",
       "      <td>ar</td>\n",
       "      <td>RT @danat_almesk: #تخفيضات 50% على جميع الأصنا...</td>\n",
       "      <td>2018-05-25 13:06</td>\n",
       "      <td>Twitter for iPhone</td>\n",
       "      <td>True</td>\n",
       "      <td>NaN</td>\n",
       "      <td>9.997592e+17</td>\n",
       "    </tr>\n",
       "    <tr>\n",
       "      <th>1000000242165714944</th>\n",
       "      <td>948302862098092034</td>\n",
       "      <td>y_44a_</td>\n",
       "      <td>9007</td>\n",
       "      <td>8821</td>\n",
       "      <td>ar</td>\n",
       "      <td>RT @756870fda1544b6: ✅علاج السرطان في الهند عن...</td>\n",
       "      <td>2018-05-25 13:06</td>\n",
       "      <td>Twitter for iPhone</td>\n",
       "      <td>True</td>\n",
       "      <td>NaN</td>\n",
       "      <td>9.997301e+17</td>\n",
       "    </tr>\n",
       "    <tr>\n",
       "      <th>1000000262315094022</th>\n",
       "      <td>948302862098092034</td>\n",
       "      <td>y_44a_</td>\n",
       "      <td>9007</td>\n",
       "      <td>8821</td>\n",
       "      <td>ar</td>\n",
       "      <td>RT @m3asafarah: دورة #مع_السفرة السادسة عشر\\nا...</td>\n",
       "      <td>2018-05-25 13:06</td>\n",
       "      <td>Twitter for iPhone</td>\n",
       "      <td>True</td>\n",
       "      <td>NaN</td>\n",
       "      <td>9.997669e+17</td>\n",
       "    </tr>\n",
       "    <tr>\n",
       "      <th>1000000271492288512</th>\n",
       "      <td>948302862098092034</td>\n",
       "      <td>y_44a_</td>\n",
       "      <td>9007</td>\n",
       "      <td>8821</td>\n",
       "      <td>ar</td>\n",
       "      <td>RT @Ayed72044978: #تسديد_قروض\\n♋الراجحي\\n♋الاه...</td>\n",
       "      <td>2018-05-25 13:06</td>\n",
       "      <td>Twitter for iPhone</td>\n",
       "      <td>True</td>\n",
       "      <td>NaN</td>\n",
       "      <td>9.997610e+17</td>\n",
       "    </tr>\n",
       "    <tr>\n",
       "      <th>1000000325586169856</th>\n",
       "      <td>2SJuOzyE6GQOsmW9ukY3ChH8rl049x6mDNZi3EM=</td>\n",
       "      <td>2SJuOzyE6GQOsmW9ukY3ChH8rl049x6mDNZi3EM=</td>\n",
       "      <td>1850</td>\n",
       "      <td>1594</td>\n",
       "      <td>ar</td>\n",
       "      <td>لا إله إلا أنت سبحانك إني كنت من الظالمين \\n♻️...</td>\n",
       "      <td>2018-05-25 13:07</td>\n",
       "      <td>تطبيق زاد المسلم</td>\n",
       "      <td>False</td>\n",
       "      <td>NaN</td>\n",
       "      <td>NaN</td>\n",
       "    </tr>\n",
       "    <tr>\n",
       "      <th>1000000475503132673</th>\n",
       "      <td>ytmVN9opEFMM7Uk+0O0XgSuOpIRlok5Xqu+jel9qyM=</td>\n",
       "      <td>ytmVN9opEFMM7Uk+0O0XgSuOpIRlok5Xqu+jel9qyM=</td>\n",
       "      <td>3928</td>\n",
       "      <td>4273</td>\n",
       "      <td>ar</td>\n",
       "      <td>@hel89006141 تابعني فضلا وليس امرا</td>\n",
       "      <td>2018-05-25 13:07</td>\n",
       "      <td>Twitter for Android</td>\n",
       "      <td>False</td>\n",
       "      <td>NaN</td>\n",
       "      <td>NaN</td>\n",
       "    </tr>\n",
       "    <tr>\n",
       "      <th>1000000503982579713</th>\n",
       "      <td>948302862098092034</td>\n",
       "      <td>y_44a_</td>\n",
       "      <td>9007</td>\n",
       "      <td>8821</td>\n",
       "      <td>ar</td>\n",
       "      <td>RT @qahtani03: #عاجل نبأ دبلوماسي بان تل أبيب ...</td>\n",
       "      <td>2018-05-25 13:07</td>\n",
       "      <td>Twitter for iPhone</td>\n",
       "      <td>True</td>\n",
       "      <td>NaN</td>\n",
       "      <td>9.999468e+17</td>\n",
       "    </tr>\n",
       "    <tr>\n",
       "      <th>1000000514699022336</th>\n",
       "      <td>948302862098092034</td>\n",
       "      <td>y_44a_</td>\n",
       "      <td>9007</td>\n",
       "      <td>8821</td>\n",
       "      <td>ar</td>\n",
       "      <td>RT @tsded_k: تسديد_القروض\\n💯📘🔙الراجحي \\n📕🔙الأه...</td>\n",
       "      <td>2018-05-25 13:07</td>\n",
       "      <td>Twitter for iPhone</td>\n",
       "      <td>True</td>\n",
       "      <td>NaN</td>\n",
       "      <td>9.998106e+17</td>\n",
       "    </tr>\n",
       "    <tr>\n",
       "      <th>1000000527437062144</th>\n",
       "      <td>948302862098092034</td>\n",
       "      <td>y_44a_</td>\n",
       "      <td>9007</td>\n",
       "      <td>8821</td>\n",
       "      <td>ar</td>\n",
       "      <td>RT @baqatacount: رمضان مبارك عليكم 🌙معا لعمل ا...</td>\n",
       "      <td>2018-05-25 13:07</td>\n",
       "      <td>Twitter for iPhone</td>\n",
       "      <td>True</td>\n",
       "      <td>NaN</td>\n",
       "      <td>9.995574e+17</td>\n",
       "    </tr>\n",
       "    <tr>\n",
       "      <th>1000000536886808580</th>\n",
       "      <td>948302862098092034</td>\n",
       "      <td>y_44a_</td>\n",
       "      <td>9007</td>\n",
       "      <td>8821</td>\n",
       "      <td>ar</td>\n",
       "      <td>RT @azsepm: استقدام سواق خاص\\nhttps://t.co/fc6...</td>\n",
       "      <td>2018-05-25 13:08</td>\n",
       "      <td>Twitter for iPhone</td>\n",
       "      <td>True</td>\n",
       "      <td>NaN</td>\n",
       "      <td>9.999429e+17</td>\n",
       "    </tr>\n",
       "  </tbody>\n",
       "</table>\n",
       "</div>"
      ],
      "text/plain": [
       "                                                           userid  \\\n",
       "tweetid                                                             \n",
       "1000000000447930368                            948302862098092034   \n",
       "1000000030391095297                            948302862098092034   \n",
       "1000000039362662400                            948302862098092034   \n",
       "1000000054911033344  iXwa1+qxYAH2hEJ9nDG11qo6nmcpl89IQKhDRDqpfU4=   \n",
       "1000000204865789954   Gj+bihYSO0L5Ht1+f9OEqP42KbnJWtNK4qv0WJr0cs=   \n",
       "1000000215598891008                            948302862098092034   \n",
       "1000000242165714944                            948302862098092034   \n",
       "1000000262315094022                            948302862098092034   \n",
       "1000000271492288512                            948302862098092034   \n",
       "1000000325586169856      2SJuOzyE6GQOsmW9ukY3ChH8rl049x6mDNZi3EM=   \n",
       "1000000475503132673   ytmVN9opEFMM7Uk+0O0XgSuOpIRlok5Xqu+jel9qyM=   \n",
       "1000000503982579713                            948302862098092034   \n",
       "1000000514699022336                            948302862098092034   \n",
       "1000000527437062144                            948302862098092034   \n",
       "1000000536886808580                            948302862098092034   \n",
       "\n",
       "                                                 user_screen_name  \\\n",
       "tweetid                                                             \n",
       "1000000000447930368                                        y_44a_   \n",
       "1000000030391095297                                        y_44a_   \n",
       "1000000039362662400                                        y_44a_   \n",
       "1000000054911033344  iXwa1+qxYAH2hEJ9nDG11qo6nmcpl89IQKhDRDqpfU4=   \n",
       "1000000204865789954   Gj+bihYSO0L5Ht1+f9OEqP42KbnJWtNK4qv0WJr0cs=   \n",
       "1000000215598891008                                        y_44a_   \n",
       "1000000242165714944                                        y_44a_   \n",
       "1000000262315094022                                        y_44a_   \n",
       "1000000271492288512                                        y_44a_   \n",
       "1000000325586169856      2SJuOzyE6GQOsmW9ukY3ChH8rl049x6mDNZi3EM=   \n",
       "1000000475503132673   ytmVN9opEFMM7Uk+0O0XgSuOpIRlok5Xqu+jel9qyM=   \n",
       "1000000503982579713                                        y_44a_   \n",
       "1000000514699022336                                        y_44a_   \n",
       "1000000527437062144                                        y_44a_   \n",
       "1000000536886808580                                        y_44a_   \n",
       "\n",
       "                     follower_count  following_count tweet_language  \\\n",
       "tweetid                                                               \n",
       "1000000000447930368            9007             8821             ar   \n",
       "1000000030391095297            9007             8821             ar   \n",
       "1000000039362662400            9007             8821             ar   \n",
       "1000000054911033344             168              408             ar   \n",
       "1000000204865789954            1623             2022             ar   \n",
       "1000000215598891008            9007             8821             ar   \n",
       "1000000242165714944            9007             8821             ar   \n",
       "1000000262315094022            9007             8821             ar   \n",
       "1000000271492288512            9007             8821             ar   \n",
       "1000000325586169856            1850             1594             ar   \n",
       "1000000475503132673            3928             4273             ar   \n",
       "1000000503982579713            9007             8821             ar   \n",
       "1000000514699022336            9007             8821             ar   \n",
       "1000000527437062144            9007             8821             ar   \n",
       "1000000536886808580            9007             8821             ar   \n",
       "\n",
       "                                                            tweet_text  \\\n",
       "tweetid                                                                  \n",
       "1000000000447930368  RT @oneway_market: السلام عليكم ورحمة الله وبر...   \n",
       "1000000030391095297  RT @games4marah: 🌻#للتأجير 🌻#لبيع_النطيطات 🌻\\n...   \n",
       "1000000039362662400  RT @mzlatksa: #مظلات وسواتر #آفاق_الرياض\\n#مظل...   \n",
       "1000000054911033344  RT @videohat_1: فيديو\\nشاهد.. مواطن يوثق بالفي...   \n",
       "1000000204865789954  أستغفر الله العظيم وأتوب إليه https://t.co/Dn3...   \n",
       "1000000215598891008  RT @danat_almesk: #تخفيضات 50% على جميع الأصنا...   \n",
       "1000000242165714944  RT @756870fda1544b6: ✅علاج السرطان في الهند عن...   \n",
       "1000000262315094022  RT @m3asafarah: دورة #مع_السفرة السادسة عشر\\nا...   \n",
       "1000000271492288512  RT @Ayed72044978: #تسديد_قروض\\n♋الراجحي\\n♋الاه...   \n",
       "1000000325586169856  لا إله إلا أنت سبحانك إني كنت من الظالمين \\n♻️...   \n",
       "1000000475503132673                 @hel89006141 تابعني فضلا وليس امرا   \n",
       "1000000503982579713  RT @qahtani03: #عاجل نبأ دبلوماسي بان تل أبيب ...   \n",
       "1000000514699022336  RT @tsded_k: تسديد_القروض\\n💯📘🔙الراجحي \\n📕🔙الأه...   \n",
       "1000000527437062144  RT @baqatacount: رمضان مبارك عليكم 🌙معا لعمل ا...   \n",
       "1000000536886808580  RT @azsepm: استقدام سواق خاص\\nhttps://t.co/fc6...   \n",
       "\n",
       "                           tweet_time    tweet_client_name  is_retweet  \\\n",
       "tweetid                                                                  \n",
       "1000000000447930368  2018-05-25 13:05   Twitter for iPhone        True   \n",
       "1000000030391095297  2018-05-25 13:06   Twitter for iPhone        True   \n",
       "1000000039362662400  2018-05-25 13:06   Twitter for iPhone        True   \n",
       "1000000054911033344  2018-05-25 13:06   Twitter for iPhone        True   \n",
       "1000000204865789954  2018-05-25 13:06            غرد بصدقة       False   \n",
       "1000000215598891008  2018-05-25 13:06   Twitter for iPhone        True   \n",
       "1000000242165714944  2018-05-25 13:06   Twitter for iPhone        True   \n",
       "1000000262315094022  2018-05-25 13:06   Twitter for iPhone        True   \n",
       "1000000271492288512  2018-05-25 13:06   Twitter for iPhone        True   \n",
       "1000000325586169856  2018-05-25 13:07   تطبيق زاد المسلم         False   \n",
       "1000000475503132673  2018-05-25 13:07  Twitter for Android       False   \n",
       "1000000503982579713  2018-05-25 13:07   Twitter for iPhone        True   \n",
       "1000000514699022336  2018-05-25 13:07   Twitter for iPhone        True   \n",
       "1000000527437062144  2018-05-25 13:07   Twitter for iPhone        True   \n",
       "1000000536886808580  2018-05-25 13:08   Twitter for iPhone        True   \n",
       "\n",
       "                    retweet_userid  retweet_tweetid  \n",
       "tweetid                                              \n",
       "1000000000447930368            NaN     9.986493e+17  \n",
       "1000000030391095297            NaN     9.996373e+17  \n",
       "1000000039362662400            NaN     9.993939e+17  \n",
       "1000000054911033344            NaN     9.983516e+17  \n",
       "1000000204865789954            NaN              NaN  \n",
       "1000000215598891008            NaN     9.997592e+17  \n",
       "1000000242165714944            NaN     9.997301e+17  \n",
       "1000000262315094022            NaN     9.997669e+17  \n",
       "1000000271492288512            NaN     9.997610e+17  \n",
       "1000000325586169856            NaN              NaN  \n",
       "1000000475503132673            NaN              NaN  \n",
       "1000000503982579713            NaN     9.999468e+17  \n",
       "1000000514699022336            NaN     9.998106e+17  \n",
       "1000000527437062144            NaN     9.995574e+17  \n",
       "1000000536886808580            NaN     9.999429e+17  "
      ]
     },
     "execution_count": 63,
     "metadata": {},
     "output_type": "execute_result"
    }
   ],
   "source": [
    "retweet_userids_NaN.head(15)"
   ]
  },
  {
   "cell_type": "markdown",
   "metadata": {},
   "source": [
    "The entries containing NaN for retweet_userid DO contain a retweet handle but not formatted as userid but as username / screenname. \n",
    "\n",
    "This **may be because** these users (without userids) are not included as users themselves in this dataset, i.e. the entries that DO have retweet_userids may be retweeting other users in this dataset. Just a hunch.\n",
    "\n",
    "Possible solution: create a reference table of ALL users (those who (re)tweeted and those who were being retweeted) with a unique user index. This table would have the columns: \n",
    "\n",
    "1. Unique ID generated by me \n",
    "2. Screen Name \n",
    "3. Twitter UserID if available\n",
    "4. number of followers/following, if available"
   ]
  },
  {
   "cell_type": "markdown",
   "metadata": {},
   "source": [
    "Besides this, no sign of faulty imports / shifted rows here."
   ]
  },
  {
   "cell_type": "markdown",
   "metadata": {},
   "source": [
    "### Inspecting index (tweetid)"
   ]
  },
  {
   "cell_type": "code",
   "execution_count": 64,
   "metadata": {},
   "outputs": [],
   "source": [
    "ddf['tweetid'] = ddf.index"
   ]
  },
  {
   "cell_type": "code",
   "execution_count": 65,
   "metadata": {},
   "outputs": [
    {
     "data": {
      "text/html": [
       "<div>\n",
       "<style scoped>\n",
       "    .dataframe tbody tr th:only-of-type {\n",
       "        vertical-align: middle;\n",
       "    }\n",
       "\n",
       "    .dataframe tbody tr th {\n",
       "        vertical-align: top;\n",
       "    }\n",
       "\n",
       "    .dataframe thead th {\n",
       "        text-align: right;\n",
       "    }\n",
       "</style>\n",
       "<table border=\"1\" class=\"dataframe\">\n",
       "  <thead>\n",
       "    <tr style=\"text-align: right;\">\n",
       "      <th></th>\n",
       "      <th>userid</th>\n",
       "      <th>user_screen_name</th>\n",
       "      <th>follower_count</th>\n",
       "      <th>following_count</th>\n",
       "      <th>tweet_language</th>\n",
       "      <th>tweet_text</th>\n",
       "      <th>tweet_time</th>\n",
       "      <th>tweet_client_name</th>\n",
       "      <th>is_retweet</th>\n",
       "      <th>retweet_userid</th>\n",
       "      <th>retweet_tweetid</th>\n",
       "      <th>tweetid</th>\n",
       "    </tr>\n",
       "    <tr>\n",
       "      <th>tweetid</th>\n",
       "      <th></th>\n",
       "      <th></th>\n",
       "      <th></th>\n",
       "      <th></th>\n",
       "      <th></th>\n",
       "      <th></th>\n",
       "      <th></th>\n",
       "      <th></th>\n",
       "      <th></th>\n",
       "      <th></th>\n",
       "      <th></th>\n",
       "      <th></th>\n",
       "    </tr>\n",
       "  </thead>\n",
       "  <tbody>\n",
       "    <tr>\n",
       "      <th>1000000000447930368</th>\n",
       "      <td>948302862098092034</td>\n",
       "      <td>y_44a_</td>\n",
       "      <td>9007</td>\n",
       "      <td>8821</td>\n",
       "      <td>ar</td>\n",
       "      <td>RT @oneway_market: السلام عليكم ورحمة الله وبر...</td>\n",
       "      <td>2018-05-25 13:05</td>\n",
       "      <td>Twitter for iPhone</td>\n",
       "      <td>True</td>\n",
       "      <td>NaN</td>\n",
       "      <td>9.986493e+17</td>\n",
       "      <td>1000000000447930368</td>\n",
       "    </tr>\n",
       "    <tr>\n",
       "      <th>1000000030391095297</th>\n",
       "      <td>948302862098092034</td>\n",
       "      <td>y_44a_</td>\n",
       "      <td>9007</td>\n",
       "      <td>8821</td>\n",
       "      <td>ar</td>\n",
       "      <td>RT @games4marah: 🌻#للتأجير 🌻#لبيع_النطيطات 🌻\\n...</td>\n",
       "      <td>2018-05-25 13:06</td>\n",
       "      <td>Twitter for iPhone</td>\n",
       "      <td>True</td>\n",
       "      <td>NaN</td>\n",
       "      <td>9.996373e+17</td>\n",
       "      <td>1000000030391095297</td>\n",
       "    </tr>\n",
       "    <tr>\n",
       "      <th>1000000039362662400</th>\n",
       "      <td>948302862098092034</td>\n",
       "      <td>y_44a_</td>\n",
       "      <td>9007</td>\n",
       "      <td>8821</td>\n",
       "      <td>ar</td>\n",
       "      <td>RT @mzlatksa: #مظلات وسواتر #آفاق_الرياض\\n#مظل...</td>\n",
       "      <td>2018-05-25 13:06</td>\n",
       "      <td>Twitter for iPhone</td>\n",
       "      <td>True</td>\n",
       "      <td>NaN</td>\n",
       "      <td>9.993939e+17</td>\n",
       "      <td>1000000039362662400</td>\n",
       "    </tr>\n",
       "    <tr>\n",
       "      <th>1000000054911033344</th>\n",
       "      <td>iXwa1+qxYAH2hEJ9nDG11qo6nmcpl89IQKhDRDqpfU4=</td>\n",
       "      <td>iXwa1+qxYAH2hEJ9nDG11qo6nmcpl89IQKhDRDqpfU4=</td>\n",
       "      <td>168</td>\n",
       "      <td>408</td>\n",
       "      <td>ar</td>\n",
       "      <td>RT @videohat_1: فيديو\\nشاهد.. مواطن يوثق بالفي...</td>\n",
       "      <td>2018-05-25 13:06</td>\n",
       "      <td>Twitter for iPhone</td>\n",
       "      <td>True</td>\n",
       "      <td>NaN</td>\n",
       "      <td>9.983516e+17</td>\n",
       "      <td>1000000054911033344</td>\n",
       "    </tr>\n",
       "    <tr>\n",
       "      <th>1000000204865789954</th>\n",
       "      <td>Gj+bihYSO0L5Ht1+f9OEqP42KbnJWtNK4qv0WJr0cs=</td>\n",
       "      <td>Gj+bihYSO0L5Ht1+f9OEqP42KbnJWtNK4qv0WJr0cs=</td>\n",
       "      <td>1623</td>\n",
       "      <td>2022</td>\n",
       "      <td>ar</td>\n",
       "      <td>أستغفر الله العظيم وأتوب إليه https://t.co/Dn3...</td>\n",
       "      <td>2018-05-25 13:06</td>\n",
       "      <td>غرد بصدقة</td>\n",
       "      <td>False</td>\n",
       "      <td>NaN</td>\n",
       "      <td>NaN</td>\n",
       "      <td>1000000204865789954</td>\n",
       "    </tr>\n",
       "  </tbody>\n",
       "</table>\n",
       "</div>"
      ],
      "text/plain": [
       "                                                           userid  \\\n",
       "tweetid                                                             \n",
       "1000000000447930368                            948302862098092034   \n",
       "1000000030391095297                            948302862098092034   \n",
       "1000000039362662400                            948302862098092034   \n",
       "1000000054911033344  iXwa1+qxYAH2hEJ9nDG11qo6nmcpl89IQKhDRDqpfU4=   \n",
       "1000000204865789954   Gj+bihYSO0L5Ht1+f9OEqP42KbnJWtNK4qv0WJr0cs=   \n",
       "\n",
       "                                                 user_screen_name  \\\n",
       "tweetid                                                             \n",
       "1000000000447930368                                        y_44a_   \n",
       "1000000030391095297                                        y_44a_   \n",
       "1000000039362662400                                        y_44a_   \n",
       "1000000054911033344  iXwa1+qxYAH2hEJ9nDG11qo6nmcpl89IQKhDRDqpfU4=   \n",
       "1000000204865789954   Gj+bihYSO0L5Ht1+f9OEqP42KbnJWtNK4qv0WJr0cs=   \n",
       "\n",
       "                     follower_count  following_count tweet_language  \\\n",
       "tweetid                                                               \n",
       "1000000000447930368            9007             8821             ar   \n",
       "1000000030391095297            9007             8821             ar   \n",
       "1000000039362662400            9007             8821             ar   \n",
       "1000000054911033344             168              408             ar   \n",
       "1000000204865789954            1623             2022             ar   \n",
       "\n",
       "                                                            tweet_text  \\\n",
       "tweetid                                                                  \n",
       "1000000000447930368  RT @oneway_market: السلام عليكم ورحمة الله وبر...   \n",
       "1000000030391095297  RT @games4marah: 🌻#للتأجير 🌻#لبيع_النطيطات 🌻\\n...   \n",
       "1000000039362662400  RT @mzlatksa: #مظلات وسواتر #آفاق_الرياض\\n#مظل...   \n",
       "1000000054911033344  RT @videohat_1: فيديو\\nشاهد.. مواطن يوثق بالفي...   \n",
       "1000000204865789954  أستغفر الله العظيم وأتوب إليه https://t.co/Dn3...   \n",
       "\n",
       "                           tweet_time   tweet_client_name  is_retweet  \\\n",
       "tweetid                                                                 \n",
       "1000000000447930368  2018-05-25 13:05  Twitter for iPhone        True   \n",
       "1000000030391095297  2018-05-25 13:06  Twitter for iPhone        True   \n",
       "1000000039362662400  2018-05-25 13:06  Twitter for iPhone        True   \n",
       "1000000054911033344  2018-05-25 13:06  Twitter for iPhone        True   \n",
       "1000000204865789954  2018-05-25 13:06           غرد بصدقة       False   \n",
       "\n",
       "                    retweet_userid  retweet_tweetid              tweetid  \n",
       "tweetid                                                                   \n",
       "1000000000447930368            NaN     9.986493e+17  1000000000447930368  \n",
       "1000000030391095297            NaN     9.996373e+17  1000000030391095297  \n",
       "1000000039362662400            NaN     9.993939e+17  1000000039362662400  \n",
       "1000000054911033344            NaN     9.983516e+17  1000000054911033344  \n",
       "1000000204865789954            NaN              NaN  1000000204865789954  "
      ]
     },
     "execution_count": 65,
     "metadata": {},
     "output_type": "execute_result"
    }
   ],
   "source": [
    "ddf.head()"
   ]
  },
  {
   "cell_type": "code",
   "execution_count": 66,
   "metadata": {},
   "outputs": [
    {
     "data": {
      "text/plain": [
       "36523597"
      ]
     },
     "execution_count": 66,
     "metadata": {},
     "output_type": "execute_result"
    }
   ],
   "source": [
    "ddf.tweetid.str.isnumeric().sum().compute()"
   ]
  },
  {
   "cell_type": "code",
   "execution_count": 67,
   "metadata": {},
   "outputs": [
    {
     "data": {
      "text/plain": [
       "36523597"
      ]
     },
     "execution_count": 67,
     "metadata": {},
     "output_type": "execute_result"
    }
   ],
   "source": [
    "ddf.shape[0].compute()"
   ]
  },
  {
   "cell_type": "code",
   "execution_count": 68,
   "metadata": {},
   "outputs": [],
   "source": [
    "ddf = ddf.drop('tweetid', axis=1).persist()"
   ]
  },
  {
   "cell_type": "code",
   "execution_count": 69,
   "metadata": {},
   "outputs": [
    {
     "data": {
      "text/html": [
       "<div>\n",
       "<style scoped>\n",
       "    .dataframe tbody tr th:only-of-type {\n",
       "        vertical-align: middle;\n",
       "    }\n",
       "\n",
       "    .dataframe tbody tr th {\n",
       "        vertical-align: top;\n",
       "    }\n",
       "\n",
       "    .dataframe thead th {\n",
       "        text-align: right;\n",
       "    }\n",
       "</style>\n",
       "<table border=\"1\" class=\"dataframe\">\n",
       "  <thead>\n",
       "    <tr style=\"text-align: right;\">\n",
       "      <th></th>\n",
       "      <th>userid</th>\n",
       "      <th>user_screen_name</th>\n",
       "      <th>follower_count</th>\n",
       "      <th>following_count</th>\n",
       "      <th>tweet_language</th>\n",
       "      <th>tweet_text</th>\n",
       "      <th>tweet_time</th>\n",
       "      <th>tweet_client_name</th>\n",
       "      <th>is_retweet</th>\n",
       "      <th>retweet_userid</th>\n",
       "      <th>retweet_tweetid</th>\n",
       "    </tr>\n",
       "    <tr>\n",
       "      <th>tweetid</th>\n",
       "      <th></th>\n",
       "      <th></th>\n",
       "      <th></th>\n",
       "      <th></th>\n",
       "      <th></th>\n",
       "      <th></th>\n",
       "      <th></th>\n",
       "      <th></th>\n",
       "      <th></th>\n",
       "      <th></th>\n",
       "      <th></th>\n",
       "    </tr>\n",
       "  </thead>\n",
       "  <tbody>\n",
       "    <tr>\n",
       "      <th>1000000000447930368</th>\n",
       "      <td>948302862098092034</td>\n",
       "      <td>y_44a_</td>\n",
       "      <td>9007</td>\n",
       "      <td>8821</td>\n",
       "      <td>ar</td>\n",
       "      <td>RT @oneway_market: السلام عليكم ورحمة الله وبر...</td>\n",
       "      <td>2018-05-25 13:05</td>\n",
       "      <td>Twitter for iPhone</td>\n",
       "      <td>True</td>\n",
       "      <td>NaN</td>\n",
       "      <td>9.986493e+17</td>\n",
       "    </tr>\n",
       "    <tr>\n",
       "      <th>1000000030391095297</th>\n",
       "      <td>948302862098092034</td>\n",
       "      <td>y_44a_</td>\n",
       "      <td>9007</td>\n",
       "      <td>8821</td>\n",
       "      <td>ar</td>\n",
       "      <td>RT @games4marah: 🌻#للتأجير 🌻#لبيع_النطيطات 🌻\\n...</td>\n",
       "      <td>2018-05-25 13:06</td>\n",
       "      <td>Twitter for iPhone</td>\n",
       "      <td>True</td>\n",
       "      <td>NaN</td>\n",
       "      <td>9.996373e+17</td>\n",
       "    </tr>\n",
       "    <tr>\n",
       "      <th>1000000039362662400</th>\n",
       "      <td>948302862098092034</td>\n",
       "      <td>y_44a_</td>\n",
       "      <td>9007</td>\n",
       "      <td>8821</td>\n",
       "      <td>ar</td>\n",
       "      <td>RT @mzlatksa: #مظلات وسواتر #آفاق_الرياض\\n#مظل...</td>\n",
       "      <td>2018-05-25 13:06</td>\n",
       "      <td>Twitter for iPhone</td>\n",
       "      <td>True</td>\n",
       "      <td>NaN</td>\n",
       "      <td>9.993939e+17</td>\n",
       "    </tr>\n",
       "    <tr>\n",
       "      <th>1000000054911033344</th>\n",
       "      <td>iXwa1+qxYAH2hEJ9nDG11qo6nmcpl89IQKhDRDqpfU4=</td>\n",
       "      <td>iXwa1+qxYAH2hEJ9nDG11qo6nmcpl89IQKhDRDqpfU4=</td>\n",
       "      <td>168</td>\n",
       "      <td>408</td>\n",
       "      <td>ar</td>\n",
       "      <td>RT @videohat_1: فيديو\\nشاهد.. مواطن يوثق بالفي...</td>\n",
       "      <td>2018-05-25 13:06</td>\n",
       "      <td>Twitter for iPhone</td>\n",
       "      <td>True</td>\n",
       "      <td>NaN</td>\n",
       "      <td>9.983516e+17</td>\n",
       "    </tr>\n",
       "    <tr>\n",
       "      <th>1000000204865789954</th>\n",
       "      <td>Gj+bihYSO0L5Ht1+f9OEqP42KbnJWtNK4qv0WJr0cs=</td>\n",
       "      <td>Gj+bihYSO0L5Ht1+f9OEqP42KbnJWtNK4qv0WJr0cs=</td>\n",
       "      <td>1623</td>\n",
       "      <td>2022</td>\n",
       "      <td>ar</td>\n",
       "      <td>أستغفر الله العظيم وأتوب إليه https://t.co/Dn3...</td>\n",
       "      <td>2018-05-25 13:06</td>\n",
       "      <td>غرد بصدقة</td>\n",
       "      <td>False</td>\n",
       "      <td>NaN</td>\n",
       "      <td>NaN</td>\n",
       "    </tr>\n",
       "  </tbody>\n",
       "</table>\n",
       "</div>"
      ],
      "text/plain": [
       "                                                           userid  \\\n",
       "tweetid                                                             \n",
       "1000000000447930368                            948302862098092034   \n",
       "1000000030391095297                            948302862098092034   \n",
       "1000000039362662400                            948302862098092034   \n",
       "1000000054911033344  iXwa1+qxYAH2hEJ9nDG11qo6nmcpl89IQKhDRDqpfU4=   \n",
       "1000000204865789954   Gj+bihYSO0L5Ht1+f9OEqP42KbnJWtNK4qv0WJr0cs=   \n",
       "\n",
       "                                                 user_screen_name  \\\n",
       "tweetid                                                             \n",
       "1000000000447930368                                        y_44a_   \n",
       "1000000030391095297                                        y_44a_   \n",
       "1000000039362662400                                        y_44a_   \n",
       "1000000054911033344  iXwa1+qxYAH2hEJ9nDG11qo6nmcpl89IQKhDRDqpfU4=   \n",
       "1000000204865789954   Gj+bihYSO0L5Ht1+f9OEqP42KbnJWtNK4qv0WJr0cs=   \n",
       "\n",
       "                     follower_count  following_count tweet_language  \\\n",
       "tweetid                                                               \n",
       "1000000000447930368            9007             8821             ar   \n",
       "1000000030391095297            9007             8821             ar   \n",
       "1000000039362662400            9007             8821             ar   \n",
       "1000000054911033344             168              408             ar   \n",
       "1000000204865789954            1623             2022             ar   \n",
       "\n",
       "                                                            tweet_text  \\\n",
       "tweetid                                                                  \n",
       "1000000000447930368  RT @oneway_market: السلام عليكم ورحمة الله وبر...   \n",
       "1000000030391095297  RT @games4marah: 🌻#للتأجير 🌻#لبيع_النطيطات 🌻\\n...   \n",
       "1000000039362662400  RT @mzlatksa: #مظلات وسواتر #آفاق_الرياض\\n#مظل...   \n",
       "1000000054911033344  RT @videohat_1: فيديو\\nشاهد.. مواطن يوثق بالفي...   \n",
       "1000000204865789954  أستغفر الله العظيم وأتوب إليه https://t.co/Dn3...   \n",
       "\n",
       "                           tweet_time   tweet_client_name  is_retweet  \\\n",
       "tweetid                                                                 \n",
       "1000000000447930368  2018-05-25 13:05  Twitter for iPhone        True   \n",
       "1000000030391095297  2018-05-25 13:06  Twitter for iPhone        True   \n",
       "1000000039362662400  2018-05-25 13:06  Twitter for iPhone        True   \n",
       "1000000054911033344  2018-05-25 13:06  Twitter for iPhone        True   \n",
       "1000000204865789954  2018-05-25 13:06           غرد بصدقة       False   \n",
       "\n",
       "                    retweet_userid  retweet_tweetid  \n",
       "tweetid                                              \n",
       "1000000000447930368            NaN     9.986493e+17  \n",
       "1000000030391095297            NaN     9.996373e+17  \n",
       "1000000039362662400            NaN     9.993939e+17  \n",
       "1000000054911033344            NaN     9.983516e+17  \n",
       "1000000204865789954            NaN              NaN  "
      ]
     },
     "execution_count": 69,
     "metadata": {},
     "output_type": "execute_result"
    }
   ],
   "source": [
    "ddf.head()"
   ]
  },
  {
   "cell_type": "markdown",
   "metadata": {},
   "source": [
    "Excellent. All rows have a tweetid that is entirely numeric.\n",
    "\n",
    "This gives us enough confidence that our columns contain all the right values (i.e. no faulty import / shifted rows) and we can proceed to change the data types."
   ]
  },
  {
   "cell_type": "markdown",
   "metadata": {},
   "source": [
    "### Inspecting tweet_time column\n",
    "\n",
    "Let's see if we can cast this column to datetime64"
   ]
  },
  {
   "cell_type": "code",
   "execution_count": 70,
   "metadata": {},
   "outputs": [],
   "source": [
    "ddf.tweet_time = ddf.tweet_time.astype('datetime64').persist()"
   ]
  },
  {
   "cell_type": "code",
   "execution_count": 71,
   "metadata": {},
   "outputs": [
    {
     "data": {
      "text/plain": [
       "Timestamp('2020-01-22 06:02:00')"
      ]
     },
     "execution_count": 71,
     "metadata": {},
     "output_type": "execute_result"
    }
   ],
   "source": [
    "ddf.tweet_time.max().compute()"
   ]
  },
  {
   "cell_type": "markdown",
   "metadata": {},
   "source": [
    "That worked. We should be all set now.\n",
    "\n",
    "Let's just confirm below."
   ]
  },
  {
   "cell_type": "markdown",
   "metadata": {},
   "source": [
    "## Verifying Data Types"
   ]
  },
  {
   "cell_type": "code",
   "execution_count": 72,
   "metadata": {},
   "outputs": [
    {
     "data": {
      "text/plain": [
       "userid                       object\n",
       "user_screen_name             object\n",
       "follower_count                int64\n",
       "following_count               int64\n",
       "tweet_language               object\n",
       "tweet_text                   object\n",
       "tweet_time           datetime64[ns]\n",
       "tweet_client_name            object\n",
       "is_retweet                     bool\n",
       "retweet_userid               object\n",
       "retweet_tweetid             float64\n",
       "dtype: object"
      ]
     },
     "execution_count": 72,
     "metadata": {},
     "output_type": "execute_result"
    }
   ],
   "source": [
    "ddf.dtypes"
   ]
  },
  {
   "cell_type": "markdown",
   "metadata": {},
   "source": [
    "Let's check that this worked OK by performing an operation on each column and a groupby."
   ]
  },
  {
   "cell_type": "code",
   "execution_count": 73,
   "metadata": {},
   "outputs": [
    {
     "data": {
      "text/plain": [
       "1.2198551507786506e+18"
      ]
     },
     "execution_count": 73,
     "metadata": {},
     "output_type": "execute_result"
    }
   ],
   "source": [
    "ddf.retweet_tweetid.max().compute()"
   ]
  },
  {
   "cell_type": "code",
   "execution_count": 74,
   "metadata": {},
   "outputs": [
    {
     "data": {
      "text/plain": [
       "33107687"
      ]
     },
     "execution_count": 74,
     "metadata": {},
     "output_type": "execute_result"
    }
   ],
   "source": [
    "ddf.is_retweet.sum().compute()"
   ]
  },
  {
   "cell_type": "code",
   "execution_count": 75,
   "metadata": {},
   "outputs": [
    {
     "data": {
      "text/plain": [
       "Twitter for iPhone     17746118\n",
       "Twitter for Android    11781531\n",
       "Twitter for iPad        3063280\n",
       "Twitter Web App         1468719\n",
       "Twitter Web Client       534684\n",
       "Name: tweet_client_name, dtype: int64"
      ]
     },
     "execution_count": 75,
     "metadata": {},
     "output_type": "execute_result"
    }
   ],
   "source": [
    "ddf.tweet_client_name.value_counts().head()"
   ]
  },
  {
   "cell_type": "code",
   "execution_count": 76,
   "metadata": {},
   "outputs": [
    {
     "data": {
      "text/plain": [
       "(Timestamp('2008-04-17 17:53:00'), Timestamp('2020-01-22 06:02:00'))"
      ]
     },
     "execution_count": 76,
     "metadata": {},
     "output_type": "execute_result"
    }
   ],
   "source": [
    "ddf.tweet_time.min().compute(), ddf.tweet_time.max().compute()"
   ]
  },
  {
   "cell_type": "code",
   "execution_count": 77,
   "metadata": {},
   "outputs": [
    {
     "data": {
      "text/plain": [
       "tweetid\n",
       "1000000000447930368    RT @oneway_market: السلام عليكم ورحمة الله وبر...\n",
       "1000000030391095297    RT @games4marah: 🌻#للتأجير 🌻#لبيع_النطيطات 🌻\\n...\n",
       "1000000039362662400    RT @mzlatksa: #مظلات وسواتر #آفاق_الرياض\\n#مظل...\n",
       "1000000054911033344    RT @videohat_1: فيديو\\nشاهد.. مواطن يوثق بالفي...\n",
       "1000000204865789954    أستغفر الله العظيم وأتوب إليه https://t.co/Dn3...\n",
       "Name: tweet_text, dtype: object"
      ]
     },
     "execution_count": 77,
     "metadata": {},
     "output_type": "execute_result"
    }
   ],
   "source": [
    "ddf.tweet_text.head()"
   ]
  },
  {
   "cell_type": "code",
   "execution_count": 78,
   "metadata": {},
   "outputs": [
    {
     "data": {
      "text/plain": [
       "ar     34249868\n",
       "und     1682128\n",
       "en       287225\n",
       "fa        26917\n",
       "tr        15486\n",
       "         ...   \n",
       "dv            1\n",
       "iu            1\n",
       "sn            1\n",
       "mr            1\n",
       "he            1\n",
       "Name: tweet_language, Length: 67, dtype: int64"
      ]
     },
     "execution_count": 78,
     "metadata": {},
     "output_type": "execute_result"
    }
   ],
   "source": [
    "ddf.tweet_language.value_counts().compute()"
   ]
  },
  {
   "cell_type": "code",
   "execution_count": 79,
   "metadata": {},
   "outputs": [
    {
     "data": {
      "text/plain": [
       "177494.95203725417"
      ]
     },
     "execution_count": 79,
     "metadata": {},
     "output_type": "execute_result"
    }
   ],
   "source": [
    "ddf.following_count.mean().compute()"
   ]
  },
  {
   "cell_type": "code",
   "execution_count": 80,
   "metadata": {},
   "outputs": [
    {
     "data": {
      "text/plain": [
       "239459.06164622834"
      ]
     },
     "execution_count": 80,
     "metadata": {},
     "output_type": "execute_result"
    }
   ],
   "source": [
    "ddf.follower_count.mean().compute()"
   ]
  },
  {
   "cell_type": "code",
   "execution_count": 81,
   "metadata": {},
   "outputs": [
    {
     "data": {
      "text/plain": [
       "tweetid\n",
       "1000000000447930368                                          y_44a_\n",
       "1000000030391095297                                          y_44a_\n",
       "1000000039362662400                                          y_44a_\n",
       "1000000054911033344    iXwa1+qxYAH2hEJ9nDG11qo6nmcpl89IQKhDRDqpfU4=\n",
       "1000000204865789954     Gj+bihYSO0L5Ht1+f9OEqP42KbnJWtNK4qv0WJr0cs=\n",
       "Name: user_screen_name, dtype: object"
      ]
     },
     "execution_count": 81,
     "metadata": {},
     "output_type": "execute_result"
    }
   ],
   "source": [
    "ddf.user_screen_name.head()"
   ]
  },
  {
   "cell_type": "code",
   "execution_count": 82,
   "metadata": {},
   "outputs": [
    {
     "data": {
      "text/plain": [
       "480758910                                       1512063\n",
       "541880069                                       1446637\n",
       "343341807                                       1424862\n",
       "455922757                                       1258894\n",
       "374585121                                       1191449\n",
       "                                                 ...   \n",
       "tAGWTOXvZlWiJIO8bdk2SYROv169QlkwpKfWAyvUxs=           1\n",
       "6bzXl++XnNSdlmAH4hw8cb+1oQ3RaC9tk4d3sshew88=          1\n",
       "OKcN5M58fZJuDL630ZFa5pk4Rprw+BuLDf3fXVatNIs=          1\n",
       "6izqiH0Oim6DR2sErrMwOccg1wia0DV+iQXSH3b3a0=           1\n",
       "FtLx7JsP3Oej5kJMOnGyC+4BBKJ2Xf1Gl0Qt9jHSaE=           1\n",
       "Name: userid, Length: 4479, dtype: int64"
      ]
     },
     "execution_count": 82,
     "metadata": {},
     "output_type": "execute_result"
    }
   ],
   "source": [
    "ddf.userid.value_counts().compute()"
   ]
  },
  {
   "cell_type": "markdown",
   "metadata": {},
   "source": [
    "Excellent. We have converted all the columns to their appropriate datatypes."
   ]
  },
  {
   "cell_type": "code",
   "execution_count": 83,
   "metadata": {},
   "outputs": [
    {
     "data": {
      "text/plain": [
       "36523597"
      ]
     },
     "execution_count": 83,
     "metadata": {},
     "output_type": "execute_result"
    }
   ],
   "source": [
    "ddf.shape[0].compute()"
   ]
  },
  {
   "cell_type": "markdown",
   "metadata": {},
   "source": [
    "This still leaves us with more than 36.5mln tweets to work with. I'll take that.\n",
    "\n",
    "Let's now proceed to subset the dataframe to include only arabic tweets."
   ]
  },
  {
   "cell_type": "markdown",
   "metadata": {},
   "source": [
    "## Subsetting Arabic Tweets"
   ]
  },
  {
   "cell_type": "markdown",
   "metadata": {},
   "source": [
    "### Percentage of Tweets in Arabic"
   ]
  },
  {
   "cell_type": "code",
   "execution_count": 84,
   "metadata": {},
   "outputs": [
    {
     "name": "stdout",
     "output_type": "stream",
     "text": [
      "CPU times: user 221 ms, sys: 8.6 ms, total: 229 ms\n",
      "Wall time: 1.32 s\n"
     ]
    },
    {
     "data": {
      "text/plain": [
       "ar     34249868\n",
       "und     1682128\n",
       "en       287225\n",
       "fa        26917\n",
       "tr        15486\n",
       "         ...   \n",
       "dv            1\n",
       "iu            1\n",
       "sn            1\n",
       "mr            1\n",
       "he            1\n",
       "Name: tweet_language, Length: 67, dtype: int64"
      ]
     },
     "execution_count": 84,
     "metadata": {},
     "output_type": "execute_result"
    }
   ],
   "source": [
    "%%time\n",
    "# get value counts of tweet language column\n",
    "ddf.tweet_language.value_counts().compute()"
   ]
  },
  {
   "cell_type": "code",
   "execution_count": 85,
   "metadata": {},
   "outputs": [
    {
     "data": {
      "text/plain": [
       "93.77260185092223"
      ]
     },
     "execution_count": 85,
     "metadata": {},
     "output_type": "execute_result"
    }
   ],
   "source": [
    "# get percentage of arabic language tweets\n",
    "ddf.tweet_language.value_counts().compute().loc['ar'] / n_rows_all * 100"
   ]
  },
  {
   "cell_type": "code",
   "execution_count": 86,
   "metadata": {},
   "outputs": [
    {
     "data": {
      "text/plain": [
       "4.605492762958622"
      ]
     },
     "execution_count": 86,
     "metadata": {},
     "output_type": "execute_result"
    }
   ],
   "source": [
    "# get percentage of english language tweets\n",
    "ddf.tweet_language.value_counts().compute().loc['und'] / n_rows_all * 100"
   ]
  },
  {
   "cell_type": "code",
   "execution_count": 87,
   "metadata": {},
   "outputs": [
    {
     "data": {
      "text/plain": [
       "0.786392390377421"
      ]
     },
     "execution_count": 87,
     "metadata": {},
     "output_type": "execute_result"
    }
   ],
   "source": [
    "# get percentage of english language tweets\n",
    "ddf.tweet_language.value_counts().compute().loc['en'] / n_rows_all * 100"
   ]
  },
  {
   "cell_type": "markdown",
   "metadata": {},
   "source": [
    "- We have a clear majority of Arabic language tweets: almost 94%.\n",
    "- 4.6% of the tweets have language 'undefined'.\n",
    "- Less than 1% of the tweets are in English.\n",
    "\n",
    "Below, let's explore the 'undefined' category a little further. I wonder if this is mostly Arabic."
   ]
  },
  {
   "cell_type": "code",
   "execution_count": 88,
   "metadata": {},
   "outputs": [
    {
     "name": "stdout",
     "output_type": "stream",
     "text": [
      "CPU times: user 35.5 ms, sys: 4.87 ms, total: 40.4 ms\n",
      "Wall time: 366 ms\n"
     ]
    },
    {
     "data": {
      "text/plain": [
       "tweetid\n",
       "1000865165489958918                               @arifjavaid12 7:04 p.m\n",
       "1001341321443979265                  RT @dr_l10: https://t.co/C2umbjDNM2\n",
       "1001186246922850304         RT @alaayahyaazyabi: https://t.co/uoxA4qouRM\n",
       "1000439088355463170    RT @khalifax1: #الحوثي_يوافق_تسليم_سلاحه https...\n",
       "1000611177548931072    RT @Riyadh_mmm: #شركة_تنظيف_بالرياض 💯✔      #ت...\n",
       "1000946655942856705                 RT @offkcuf: https://t.co/8fg5bs80EA\n",
       "1001386336140578816    #دعاء_رمضان 13\\n#صباح_الخير\\n#صباح_الثلاثاء \\n...\n",
       "1000346760739459074    RT @begoliyim: #DamlaCan #survivor2018 https:/...\n",
       "1001125243442909184    RT @almohydb4: .\\n#السعودية \\n#زراعة_الأسنان \\...\n",
       "1000169692944793600                       😂😂😂😂😂😂 https://t.co/xBfj4ZDngd\n",
       "1001296997498966017    RT @FX3ie: #شركة_تنظيف_بالرياض 💯✔      #تنظيف_...\n",
       "1001284916578054144                    @belalsalah11 @Hagrass20 😂😂😂😂😂😂🚶🚶\n",
       "1001569481058119680    RT @1991_soso: @beramod1436 https://t.co/bahjg...\n",
       "1000852387291123712    RT @Riyadh_mmm: #شركة_تنظيف_بالرياض 💯✔      #ت...\n",
       "1000119177754103809    RT @safeeh_alrian: #صيانة_مسابح\\n#تنظيف_مسابح ...\n",
       "Name: tweet_text, dtype: object"
      ]
     },
     "execution_count": 88,
     "metadata": {},
     "output_type": "execute_result"
    }
   ],
   "source": [
    "%%time\n",
    "# get tweet texts that have language = 'und'\n",
    "ddf[ddf.tweet_language == 'und'].tweet_text.sample(frac=0.01).head(15)"
   ]
  },
  {
   "cell_type": "markdown",
   "metadata": {},
   "source": [
    "Running the cell above a number of times reveals that the 'undefined' category seems to be made up of:\n",
    "- tweets in Arabic\n",
    "- tweets with only URLs\n",
    "- tweets with only emojis\n",
    "\n",
    "This means we should be able to retrieve some more Arabic tweets from this column to increase the total number of rows in our Arabic-only dataframe."
   ]
  },
  {
   "cell_type": "markdown",
   "metadata": {},
   "source": [
    "### Filtering Arabic from Undefined\n",
    "\n",
    "Let's do this by:\n",
    "1. Filtering out tweets with language = 'ar' into separate ddf: ddf_ar\n",
    "2. Filtering out tweets with language = 'und' into separate ddf: ddf_und\n",
    "3. Deleting tweets that are URLs or only emoji from ddf_und\n",
    "4. Appending ddf_und to ddf_ar"
   ]
  },
  {
   "cell_type": "code",
   "execution_count": 89,
   "metadata": {},
   "outputs": [],
   "source": [
    "ddf_ar = ddf[ddf.tweet_language == 'ar'].persist()\n",
    "ddf_und = ddf[ddf.tweet_language == 'und'].persist()"
   ]
  },
  {
   "cell_type": "code",
   "execution_count": 90,
   "metadata": {},
   "outputs": [
    {
     "data": {
      "text/plain": [
       "1682128"
      ]
     },
     "execution_count": 90,
     "metadata": {},
     "output_type": "execute_result"
    }
   ],
   "source": [
    "# verify\n",
    "ddf_und.shape[0].compute()"
   ]
  },
  {
   "cell_type": "markdown",
   "metadata": {},
   "source": [
    "The undefined ddf should be small enough to work with locally as a pandas dataframe. Let's call a compute: df_und"
   ]
  },
  {
   "cell_type": "code",
   "execution_count": 91,
   "metadata": {},
   "outputs": [],
   "source": [
    "# turn ddf_und into local pandas dataframe\n",
    "df_und = ddf_und.compute()"
   ]
  },
  {
   "cell_type": "code",
   "execution_count": 92,
   "metadata": {},
   "outputs": [],
   "source": [
    "# # save locally for future reference\n",
    "# df_und.to_csv('/Users/richard/Desktop/springboard_repo/capstones/three/df_undefined.csv')"
   ]
  },
  {
   "cell_type": "code",
   "execution_count": 93,
   "metadata": {},
   "outputs": [],
   "source": [
    "# # import df_und from local csv\n",
    "# df_und = pd.read_csv('/Users/richard/Desktop/data_cap3/interim/df_undefined.csv', index_col=0)"
   ]
  },
  {
   "cell_type": "code",
   "execution_count": 94,
   "metadata": {},
   "outputs": [
    {
     "name": "stdout",
     "output_type": "stream",
     "text": [
      "<class 'pandas.core.frame.DataFrame'>\n",
      "Index: 1682128 entries, 1000000675722547200 to 999999622281121792\n",
      "Data columns (total 11 columns):\n",
      " #   Column             Non-Null Count    Dtype         \n",
      "---  ------             --------------    -----         \n",
      " 0   userid             1682128 non-null  object        \n",
      " 1   user_screen_name   1682128 non-null  object        \n",
      " 2   follower_count     1682128 non-null  int64         \n",
      " 3   following_count    1682128 non-null  int64         \n",
      " 4   tweet_language     1682128 non-null  object        \n",
      " 5   tweet_text         1682128 non-null  object        \n",
      " 6   tweet_time         1682128 non-null  datetime64[ns]\n",
      " 7   tweet_client_name  1682128 non-null  object        \n",
      " 8   is_retweet         1682128 non-null  bool          \n",
      " 9   retweet_userid     21326 non-null    object        \n",
      " 10  retweet_tweetid    1492599 non-null  float64       \n",
      "dtypes: bool(1), datetime64[ns](1), float64(1), int64(2), object(6)\n",
      "memory usage: 142.8+ MB\n"
     ]
    }
   ],
   "source": [
    "df_und.info()"
   ]
  },
  {
   "cell_type": "markdown",
   "metadata": {},
   "source": [
    "This is looking good. We have no NaNs for the first 9 columns and the expected many NaNs for retweet_userid and some NaNs for retweet_tweetid.\n",
    "\n",
    "**Important:** some of these are **re-tweets** of tweets containing only emojis or URLs. \n",
    "\n",
    "This means it's better to:\n",
    "1. first move the retweet usernames to the new column retweet_user_screen_name (to account for lack of user_ids) \n",
    "2. then remove all \"RT\"s, mentions, and URLs, and\n",
    "3. then come back and filter out arabic tweets from undefined.\n",
    "\n",
    "What we can do at this point is remove all the tweets from language other than 'ar' and 'und'."
   ]
  },
  {
   "cell_type": "code",
   "execution_count": 95,
   "metadata": {},
   "outputs": [],
   "source": [
    "# subset ddf to include only 'ar' and 'und' entries\n",
    "ddf = ddf[(ddf.tweet_language == 'ar') | (ddf.tweet_language == 'und')].persist()"
   ]
  },
  {
   "cell_type": "code",
   "execution_count": 96,
   "metadata": {},
   "outputs": [
    {
     "data": {
      "text/plain": [
       "35931996"
      ]
     },
     "execution_count": 96,
     "metadata": {},
     "output_type": "execute_result"
    }
   ],
   "source": [
    "ddf.shape[0].compute()"
   ]
  },
  {
   "cell_type": "markdown",
   "metadata": {},
   "source": [
    "After removing all tweets in languages other than 'arabic' and 'undefined' we are left with just under 36 million tweets."
   ]
  },
  {
   "cell_type": "markdown",
   "metadata": {},
   "source": [
    "### Move Retweet Usernames to New Column\n",
    "\n",
    "Let's work with df_und first locally, to get a feel of how to do this."
   ]
  },
  {
   "cell_type": "code",
   "execution_count": 97,
   "metadata": {},
   "outputs": [
    {
     "data": {
      "text/plain": [
       "tweetid\n",
       "866627763641495552                RT @kbria2016: https://t.co/dwgHXb62uz\n",
       "1122476147743313920    RT @a_abdawhab2022: @DiwaniyaOfPoets #مسابقة_د...\n",
       "1057630368596033536    RT @a__r__z: #اسال_تميسه\\n #الاختبارات\\n #ضعف_...\n",
       "749742946380083200     RT @eostudy: :Three sentences for getting Succ...\n",
       "1077159302887018496               RT @LahaleboS: https://t.co/RPUpyjdv5i\n",
       "1046470719549386752                RT @sluttyx1: https://t.co/qTo3IbcUCc\n",
       "1115381123931168768    RT @Jood_Elevators: #مصاعد_جود 920008419 https...\n",
       "1198462139033423872           RT @hawa_Lbalq8op: https://t.co/TgDuMWNLZi\n",
       "793890843207798784     RT @hmodee2050: #سكري #محشي #للوز #تين_مشمش #ص...\n",
       "872185405420040192                    RT @8iiit: https://t.co/fsUcZBX2U2\n",
       "1141980248483008513             RT @ward_altaif: https://t.co/5Yam41mmG4\n",
       "1205223104798175247    RT @AdryDrive: 🅼┏━━┓#H0MEL3ND ⭐️⭐️⭐️\\n🆄┃━┳┻┳┓┏...\n",
       "1202307740841971715                RT @JEA__: 🖤🔥 https://t.co/CixoI4KliB\n",
       "762087051940491264          RT @am_dema2015: 👌🏻💐 https://t.co/dx2Kh0ahUW\n",
       "1105208447992320001    RT @sherktH: #اكتيفيتي_UFM\\n#شركة_ادارة_المشار...\n",
       "1066051790326689792         RT @AbdulmoeinAagha: https://t.co/bsNGzQls43\n",
       "1162726364463718401    RT @USP_UPP_: المتحدة للطباعة الأمنية تقدم خدم...\n",
       "1003327825447972864                                    @iAHMDFCB10 😂😂😂😭😭\n",
       "1101537235923542019    RT @erty_13: #رساله_الي_حبيبك\\n#جامعة_الأميرة_...\n",
       "1154705572652101632                           RT @MGWV1OO: @H0MEL3ND 🥇👍💎\n",
       "Name: tweet_text, dtype: object"
      ]
     },
     "execution_count": 97,
     "metadata": {},
     "output_type": "execute_result"
    }
   ],
   "source": [
    "df_und.tweet_text.sample(20, random_state=25)"
   ]
  },
  {
   "cell_type": "code",
   "execution_count": 98,
   "metadata": {},
   "outputs": [
    {
     "data": {
      "text/plain": [
       "userid                     ytmVN9opEFMM7Uk+0O0XgSuOpIRlok5Xqu+jel9qyM=\n",
       "user_screen_name           ytmVN9opEFMM7Uk+0O0XgSuOpIRlok5Xqu+jel9qyM=\n",
       "follower_count                                                    3928\n",
       "following_count                                                   4273\n",
       "tweet_language                                                     und\n",
       "tweet_text           RT @Abo_ody103: #الشفا\\n#الحزم\\n#الفواز\\n#الدا...\n",
       "tweet_time                                         2018-05-25 13:08:00\n",
       "tweet_client_name                                  Twitter for Android\n",
       "is_retweet                                                        True\n",
       "retweet_userid                                                     NaN\n",
       "retweet_tweetid                                   999699981744340992.0\n",
       "Name: 1000000675722547200, dtype: object"
      ]
     },
     "execution_count": 98,
     "metadata": {},
     "output_type": "execute_result"
    }
   ],
   "source": [
    "df_und.iloc[0]"
   ]
  },
  {
   "cell_type": "code",
   "execution_count": 99,
   "metadata": {},
   "outputs": [],
   "source": [
    "pattern_RT_mention = r\"RT @([^:]+):\""
   ]
  },
  {
   "cell_type": "code",
   "execution_count": 100,
   "metadata": {},
   "outputs": [],
   "source": [
    "def search_RT_mention(tweet_text):\n",
    "    try:\n",
    "        return re.search(pattern_RT_mention, tweet_text).group(1)\n",
    "    except:\n",
    "        return np.nan"
   ]
  },
  {
   "cell_type": "code",
   "execution_count": 101,
   "metadata": {},
   "outputs": [],
   "source": [
    "df_und['retweet_user_screen_name'] = df_und.tweet_text.apply(search_RT_mention)"
   ]
  },
  {
   "cell_type": "code",
   "execution_count": 102,
   "metadata": {},
   "outputs": [
    {
     "data": {
      "text/plain": [
       "tweetid\n",
       "850780522183884800            mhajay1\n",
       "1152596917915979776               NaN\n",
       "1204780833795641345        abogory990\n",
       "1123616696370106368               NaN\n",
       "1095818512449355784               NaN\n",
       "913931854792712193     m1_abuabdullah\n",
       "883884323153301505                NaN\n",
       "1028607435538345984       yuyu6789001\n",
       "839020281947648000           kdmaaaat\n",
       "835479120192602114          saher__sh\n",
       "1062536659894439936          s_al3asy\n",
       "839933114252201985           ha__mdan\n",
       "770702391171743744            9mmt999\n",
       "1138297914101587968      goldenstars0\n",
       "1185029356743208961            ENRG_4\n",
       "1012324170460467200        Mas1Follow\n",
       "740687876606812160      AlsourayiaSFF\n",
       "1049078586240634880        xyzxyz4042\n",
       "1168252789010632704           _akhiar\n",
       "1176947021040824323          sho__vip\n",
       "Name: retweet_user_screen_name, dtype: object"
      ]
     },
     "execution_count": 102,
     "metadata": {},
     "output_type": "execute_result"
    }
   ],
   "source": [
    "df_und.retweet_user_screen_name.sample(20)"
   ]
  },
  {
   "cell_type": "markdown",
   "metadata": {},
   "source": [
    "Excellent, this has worked. By indexing '1' into the .group() call we are pulling out only the grouped characters between the @ and the :, i.e. the user_screen_name.\n",
    "\n",
    "Let's now apply this to our entire ddf by writing a function to pass to ddf.map_partitions. This function operates on each partition of the dask dataframe (which is a df) and will use the search_RT_mention function defined above."
   ]
  },
  {
   "cell_type": "code",
   "execution_count": 103,
   "metadata": {},
   "outputs": [],
   "source": [
    "def create_retweet_user_column(df):\n",
    "    df['retweet_user_screen_name'] = df.tweet_text.apply(search_RT_mention)\n",
    "    return df"
   ]
  },
  {
   "cell_type": "code",
   "execution_count": 104,
   "metadata": {},
   "outputs": [],
   "source": [
    "ddf = ddf.map_partitions(create_retweet_user_column).persist()"
   ]
  },
  {
   "cell_type": "code",
   "execution_count": 105,
   "metadata": {},
   "outputs": [
    {
     "data": {
      "text/html": [
       "<div>\n",
       "<style scoped>\n",
       "    .dataframe tbody tr th:only-of-type {\n",
       "        vertical-align: middle;\n",
       "    }\n",
       "\n",
       "    .dataframe tbody tr th {\n",
       "        vertical-align: top;\n",
       "    }\n",
       "\n",
       "    .dataframe thead th {\n",
       "        text-align: right;\n",
       "    }\n",
       "</style>\n",
       "<table border=\"1\" class=\"dataframe\">\n",
       "  <thead>\n",
       "    <tr style=\"text-align: right;\">\n",
       "      <th></th>\n",
       "      <th>userid</th>\n",
       "      <th>user_screen_name</th>\n",
       "      <th>follower_count</th>\n",
       "      <th>following_count</th>\n",
       "      <th>tweet_language</th>\n",
       "      <th>tweet_text</th>\n",
       "      <th>tweet_time</th>\n",
       "      <th>tweet_client_name</th>\n",
       "      <th>is_retweet</th>\n",
       "      <th>retweet_userid</th>\n",
       "      <th>retweet_tweetid</th>\n",
       "      <th>retweet_user_screen_name</th>\n",
       "    </tr>\n",
       "    <tr>\n",
       "      <th>tweetid</th>\n",
       "      <th></th>\n",
       "      <th></th>\n",
       "      <th></th>\n",
       "      <th></th>\n",
       "      <th></th>\n",
       "      <th></th>\n",
       "      <th></th>\n",
       "      <th></th>\n",
       "      <th></th>\n",
       "      <th></th>\n",
       "      <th></th>\n",
       "      <th></th>\n",
       "    </tr>\n",
       "  </thead>\n",
       "  <tbody>\n",
       "    <tr>\n",
       "      <th>1001287494795759616</th>\n",
       "      <td>RNxhB3jcAeaXNSeYqQZcIOlhd7UjHV9ADHkZi2owU=</td>\n",
       "      <td>RNxhB3jcAeaXNSeYqQZcIOlhd7UjHV9ADHkZi2owU=</td>\n",
       "      <td>4962</td>\n",
       "      <td>4547</td>\n",
       "      <td>ar</td>\n",
       "      <td>RT @lmsahssa: تخفيضات بمناسبه شهر رمضان المبار...</td>\n",
       "      <td>2018-05-29 02:21:00</td>\n",
       "      <td>Twitter for iPhone</td>\n",
       "      <td>True</td>\n",
       "      <td>NaN</td>\n",
       "      <td>1.001163e+18</td>\n",
       "      <td>lmsahssa</td>\n",
       "    </tr>\n",
       "    <tr>\n",
       "      <th>1001206451283660802</th>\n",
       "      <td>vczripOcvrQ82Or6UC35LhdwjXqWZPGKl+mzXb5dQ64=</td>\n",
       "      <td>vczripOcvrQ82Or6UC35LhdwjXqWZPGKl+mzXb5dQ64=</td>\n",
       "      <td>4468</td>\n",
       "      <td>148</td>\n",
       "      <td>ar</td>\n",
       "      <td>RT @vczripOcvrQ82Or6UC35LhdwjXqWZPGKl+mzXb5dQ6...</td>\n",
       "      <td>2018-05-28 20:59:00</td>\n",
       "      <td>Twitter for Android</td>\n",
       "      <td>True</td>\n",
       "      <td>vczripOcvrQ82Or6UC35LhdwjXqWZPGKl+mzXb5dQ64=</td>\n",
       "      <td>1.001206e+18</td>\n",
       "      <td>vczripOcvrQ82Or6UC35LhdwjXqWZPGKl+mzXb5dQ64=</td>\n",
       "    </tr>\n",
       "    <tr>\n",
       "      <th>1000915603086020608</th>\n",
       "      <td>biOlky1Ej652ReCty4dcJplp5GtZEi+IK7TTznOLaU=</td>\n",
       "      <td>biOlky1Ej652ReCty4dcJplp5GtZEi+IK7TTznOLaU=</td>\n",
       "      <td>749</td>\n",
       "      <td>359</td>\n",
       "      <td>ar</td>\n",
       "      <td>RT @Kinghavin111: عاجل 🔴👇\\n\\nومفرح \\n\\nباقي عل...</td>\n",
       "      <td>2018-05-28 01:44:00</td>\n",
       "      <td>Twitter for iPhone</td>\n",
       "      <td>True</td>\n",
       "      <td>NaN</td>\n",
       "      <td>1.000779e+18</td>\n",
       "      <td>Kinghavin111</td>\n",
       "    </tr>\n",
       "    <tr>\n",
       "      <th>1000620599696351232</th>\n",
       "      <td>XLCNthF4y5Q18iYqRrj7hStchSPp26kfx7ly0SPVt8=</td>\n",
       "      <td>XLCNthF4y5Q18iYqRrj7hStchSPp26kfx7ly0SPVt8=</td>\n",
       "      <td>2370</td>\n",
       "      <td>3492</td>\n",
       "      <td>ar</td>\n",
       "      <td>RT @a1014192809: #تسديد_القروض_البنكية✅🔰#تسديد...</td>\n",
       "      <td>2018-05-27 06:11:00</td>\n",
       "      <td>Twitter for Android</td>\n",
       "      <td>True</td>\n",
       "      <td>NaN</td>\n",
       "      <td>1.000203e+18</td>\n",
       "      <td>a1014192809</td>\n",
       "    </tr>\n",
       "    <tr>\n",
       "      <th>1000864558393778176</th>\n",
       "      <td>993237508048740355</td>\n",
       "      <td>prrafo</td>\n",
       "      <td>12206</td>\n",
       "      <td>10516</td>\n",
       "      <td>ar</td>\n",
       "      <td>لن يعجبگ احدھم گل الوقت\\nحتى نفسگ قد يخيب ظنگ ...</td>\n",
       "      <td>2018-05-27 22:21:00</td>\n",
       "      <td>Twitter for Android</td>\n",
       "      <td>False</td>\n",
       "      <td>NaN</td>\n",
       "      <td>NaN</td>\n",
       "      <td>NaN</td>\n",
       "    </tr>\n",
       "    <tr>\n",
       "      <th>1001078758923792384</th>\n",
       "      <td>2551222490</td>\n",
       "      <td>complex_Total</td>\n",
       "      <td>72720</td>\n",
       "      <td>69585</td>\n",
       "      <td>ar</td>\n",
       "      <td>RT @kwt_fa: ليـه أعشقك وإنتَ أصلاً مَ إنت لي ..!</td>\n",
       "      <td>2018-05-28 12:32:00</td>\n",
       "      <td>Twitter for Android</td>\n",
       "      <td>True</td>\n",
       "      <td>NaN</td>\n",
       "      <td>1.000873e+18</td>\n",
       "      <td>kwt_fa</td>\n",
       "    </tr>\n",
       "    <tr>\n",
       "      <th>1000448211499323393</th>\n",
       "      <td>RNxhB3jcAeaXNSeYqQZcIOlhd7UjHV9ADHkZi2owU=</td>\n",
       "      <td>RNxhB3jcAeaXNSeYqQZcIOlhd7UjHV9ADHkZi2owU=</td>\n",
       "      <td>4962</td>\n",
       "      <td>4547</td>\n",
       "      <td>ar</td>\n",
       "      <td>RT @s_ujl: كود خصم  من نمشي  👇🏻\\n\\nRFMAZ20\\n.\\...</td>\n",
       "      <td>2018-05-26 18:46:00</td>\n",
       "      <td>Twitter for iPhone</td>\n",
       "      <td>True</td>\n",
       "      <td>NaN</td>\n",
       "      <td>1.000079e+18</td>\n",
       "      <td>s_ujl</td>\n",
       "    </tr>\n",
       "    <tr>\n",
       "      <th>1000831645367308290</th>\n",
       "      <td>np1eOxdxZnVz8KR9WRdXAaxOCMVgkHZlqKMZpQKTq08=</td>\n",
       "      <td>np1eOxdxZnVz8KR9WRdXAaxOCMVgkHZlqKMZpQKTq08=</td>\n",
       "      <td>4607</td>\n",
       "      <td>4843</td>\n",
       "      <td>ar</td>\n",
       "      <td>RT @WaleedDhafeeri: اجعل شعارك دائماً وأبداً :...</td>\n",
       "      <td>2018-05-27 20:10:00</td>\n",
       "      <td>Twitter for Android</td>\n",
       "      <td>True</td>\n",
       "      <td>NaN</td>\n",
       "      <td>9.748434e+17</td>\n",
       "      <td>WaleedDhafeeri</td>\n",
       "    </tr>\n",
       "  </tbody>\n",
       "</table>\n",
       "</div>"
      ],
      "text/plain": [
       "                                                           userid  \\\n",
       "tweetid                                                             \n",
       "1001287494795759616    RNxhB3jcAeaXNSeYqQZcIOlhd7UjHV9ADHkZi2owU=   \n",
       "1001206451283660802  vczripOcvrQ82Or6UC35LhdwjXqWZPGKl+mzXb5dQ64=   \n",
       "1000915603086020608   biOlky1Ej652ReCty4dcJplp5GtZEi+IK7TTznOLaU=   \n",
       "1000620599696351232   XLCNthF4y5Q18iYqRrj7hStchSPp26kfx7ly0SPVt8=   \n",
       "1000864558393778176                            993237508048740355   \n",
       "1001078758923792384                                    2551222490   \n",
       "1000448211499323393    RNxhB3jcAeaXNSeYqQZcIOlhd7UjHV9ADHkZi2owU=   \n",
       "1000831645367308290  np1eOxdxZnVz8KR9WRdXAaxOCMVgkHZlqKMZpQKTq08=   \n",
       "\n",
       "                                                 user_screen_name  \\\n",
       "tweetid                                                             \n",
       "1001287494795759616    RNxhB3jcAeaXNSeYqQZcIOlhd7UjHV9ADHkZi2owU=   \n",
       "1001206451283660802  vczripOcvrQ82Or6UC35LhdwjXqWZPGKl+mzXb5dQ64=   \n",
       "1000915603086020608   biOlky1Ej652ReCty4dcJplp5GtZEi+IK7TTznOLaU=   \n",
       "1000620599696351232   XLCNthF4y5Q18iYqRrj7hStchSPp26kfx7ly0SPVt8=   \n",
       "1000864558393778176                                        prrafo   \n",
       "1001078758923792384                                 complex_Total   \n",
       "1000448211499323393    RNxhB3jcAeaXNSeYqQZcIOlhd7UjHV9ADHkZi2owU=   \n",
       "1000831645367308290  np1eOxdxZnVz8KR9WRdXAaxOCMVgkHZlqKMZpQKTq08=   \n",
       "\n",
       "                     follower_count  following_count tweet_language  \\\n",
       "tweetid                                                               \n",
       "1001287494795759616            4962             4547             ar   \n",
       "1001206451283660802            4468              148             ar   \n",
       "1000915603086020608             749              359             ar   \n",
       "1000620599696351232            2370             3492             ar   \n",
       "1000864558393778176           12206            10516             ar   \n",
       "1001078758923792384           72720            69585             ar   \n",
       "1000448211499323393            4962             4547             ar   \n",
       "1000831645367308290            4607             4843             ar   \n",
       "\n",
       "                                                            tweet_text  \\\n",
       "tweetid                                                                  \n",
       "1001287494795759616  RT @lmsahssa: تخفيضات بمناسبه شهر رمضان المبار...   \n",
       "1001206451283660802  RT @vczripOcvrQ82Or6UC35LhdwjXqWZPGKl+mzXb5dQ6...   \n",
       "1000915603086020608  RT @Kinghavin111: عاجل 🔴👇\\n\\nومفرح \\n\\nباقي عل...   \n",
       "1000620599696351232  RT @a1014192809: #تسديد_القروض_البنكية✅🔰#تسديد...   \n",
       "1000864558393778176  لن يعجبگ احدھم گل الوقت\\nحتى نفسگ قد يخيب ظنگ ...   \n",
       "1001078758923792384   RT @kwt_fa: ليـه أعشقك وإنتَ أصلاً مَ إنت لي ..!   \n",
       "1000448211499323393  RT @s_ujl: كود خصم  من نمشي  👇🏻\\n\\nRFMAZ20\\n.\\...   \n",
       "1000831645367308290  RT @WaleedDhafeeri: اجعل شعارك دائماً وأبداً :...   \n",
       "\n",
       "                             tweet_time    tweet_client_name  is_retweet  \\\n",
       "tweetid                                                                    \n",
       "1001287494795759616 2018-05-29 02:21:00   Twitter for iPhone        True   \n",
       "1001206451283660802 2018-05-28 20:59:00  Twitter for Android        True   \n",
       "1000915603086020608 2018-05-28 01:44:00   Twitter for iPhone        True   \n",
       "1000620599696351232 2018-05-27 06:11:00  Twitter for Android        True   \n",
       "1000864558393778176 2018-05-27 22:21:00  Twitter for Android       False   \n",
       "1001078758923792384 2018-05-28 12:32:00  Twitter for Android        True   \n",
       "1000448211499323393 2018-05-26 18:46:00   Twitter for iPhone        True   \n",
       "1000831645367308290 2018-05-27 20:10:00  Twitter for Android        True   \n",
       "\n",
       "                                                   retweet_userid  \\\n",
       "tweetid                                                             \n",
       "1001287494795759616                                           NaN   \n",
       "1001206451283660802  vczripOcvrQ82Or6UC35LhdwjXqWZPGKl+mzXb5dQ64=   \n",
       "1000915603086020608                                           NaN   \n",
       "1000620599696351232                                           NaN   \n",
       "1000864558393778176                                           NaN   \n",
       "1001078758923792384                                           NaN   \n",
       "1000448211499323393                                           NaN   \n",
       "1000831645367308290                                           NaN   \n",
       "\n",
       "                     retweet_tweetid  \\\n",
       "tweetid                                \n",
       "1001287494795759616     1.001163e+18   \n",
       "1001206451283660802     1.001206e+18   \n",
       "1000915603086020608     1.000779e+18   \n",
       "1000620599696351232     1.000203e+18   \n",
       "1000864558393778176              NaN   \n",
       "1001078758923792384     1.000873e+18   \n",
       "1000448211499323393     1.000079e+18   \n",
       "1000831645367308290     9.748434e+17   \n",
       "\n",
       "                                         retweet_user_screen_name  \n",
       "tweetid                                                            \n",
       "1001287494795759616                                      lmsahssa  \n",
       "1001206451283660802  vczripOcvrQ82Or6UC35LhdwjXqWZPGKl+mzXb5dQ64=  \n",
       "1000915603086020608                                  Kinghavin111  \n",
       "1000620599696351232                                   a1014192809  \n",
       "1000864558393778176                                           NaN  \n",
       "1001078758923792384                                        kwt_fa  \n",
       "1000448211499323393                                         s_ujl  \n",
       "1000831645367308290                                WaleedDhafeeri  "
      ]
     },
     "execution_count": 105,
     "metadata": {},
     "output_type": "execute_result"
    }
   ],
   "source": [
    "ddf.partitions[0].sample(frac=0.0002, random_state=26).compute()"
   ]
  },
  {
   "cell_type": "markdown",
   "metadata": {},
   "source": [
    "Excellent, this has worked as expected.\n",
    "\n",
    "We can now proceed to clean the Tweet_Text column.\n",
    "\n",
    "We will be removing the following from tweet_text:\n",
    "- RT_mention pattern\n",
    "- URLs\n",
    "- line breaks (\"\\n\" etc.)\n",
    "- hashtags and underscores"
   ]
  },
  {
   "cell_type": "markdown",
   "metadata": {},
   "source": [
    "## Cleaning Tweet_Text Column"
   ]
  },
  {
   "cell_type": "markdown",
   "metadata": {},
   "source": [
    "### Remove Retweet Mentions"
   ]
  },
  {
   "cell_type": "code",
   "execution_count": 106,
   "metadata": {},
   "outputs": [],
   "source": [
    "def remove_RT_mentions(tweet_text):\n",
    "    try:\n",
    "        return re.sub(pattern_RT_mention, \"\", tweet_text)\n",
    "    except:\n",
    "        pass"
   ]
  },
  {
   "cell_type": "code",
   "execution_count": 107,
   "metadata": {},
   "outputs": [],
   "source": [
    "def clean_tweet_text_column_RT(df):\n",
    "    df.tweet_text = df.tweet_text.apply(remove_RT_mentions)\n",
    "    return df"
   ]
  },
  {
   "cell_type": "code",
   "execution_count": 108,
   "metadata": {},
   "outputs": [],
   "source": [
    "ddf = ddf.map_partitions(clean_tweet_text_column_RT).persist()"
   ]
  },
  {
   "cell_type": "code",
   "execution_count": 109,
   "metadata": {},
   "outputs": [
    {
     "data": {
      "text/plain": [
       "tweetid\n",
       "1005610290220818433     💥🚗🏎🚖🚘💥\\nم ل ك 66     \\nد هـ م 100  \\nص ع ق 66...\n",
       "1015261452633100290     '◇◇◇\\n\\nوحيـن لا أقول شيء..فلا يعنـي ان الحدي...\n",
       "1022533203427504129                      @YpA2v886sxfTBK2 هذه سترة سطح ؟\n",
       "1034739779399819265     شركة ركن الوادى تقدم خدمات التنظيف \\nالمتميزة...\n",
       "1058064555035766784     امنح نفسك بعض الراحة..\\nوقرر الذهاب بعطلة قصي...\n",
       "                                             ...                        \n",
       "941536687926251520      هل تعاني من #سرعة_القذف وصغر حجم القضيب وعدم ...\n",
       "950706584623165440           خفت وانا مالي دخل😂😂 https://t.co/R9Ctp7MIPT\n",
       "959210702740312065                                 @Youssef_Uth 🤦🏻‍♂🤦🏻‍♂\n",
       "981615008160407558      اجمل صورة بمباريات دوري الابطال بتاريخها 😍 ht...\n",
       "988952500014202880      #شركة خدمات #المملكة 0506062104 #افضل #شركة_ت...\n",
       "Name: tweet_text, Length: 153, dtype: object"
      ]
     },
     "execution_count": 109,
     "metadata": {},
     "output_type": "execute_result"
    }
   ],
   "source": [
    "ddf.tweet_text.sample(frac=0.000005).compute()"
   ]
  },
  {
   "cell_type": "markdown",
   "metadata": {},
   "source": [
    "Works like a charm!"
   ]
  },
  {
   "cell_type": "markdown",
   "metadata": {},
   "source": [
    "### Removing Remaining Mentions\n",
    "\n",
    "The tweet_text column also occasionally contains mentions that are not retweet-related. We will remove those below."
   ]
  },
  {
   "cell_type": "code",
   "execution_count": 110,
   "metadata": {},
   "outputs": [],
   "source": [
    "pattern_mentions = r'@[\\S]+'"
   ]
  },
  {
   "cell_type": "code",
   "execution_count": 111,
   "metadata": {},
   "outputs": [],
   "source": [
    "def remove_mentions(tweet_text):\n",
    "    return re.sub(pattern_mentions, \"\", tweet_text)"
   ]
  },
  {
   "cell_type": "code",
   "execution_count": 112,
   "metadata": {},
   "outputs": [
    {
     "data": {
      "text/plain": [
       "tweetid\n",
       "1156170151714332673     #مناحل_الهاشمي \\nفوائد العسل:\\nاطيب عسل عسل ا...\n",
       "1186297198763532289              @FHDD97 بس فيه فئه طاغيه وبكثره في قلبك\n",
       "467585314157232129     آنسة عمري 36 من #المغرب  طيبة متواضعة واتمنى ل...\n",
       "560348473846136833     أنتَ آلمسهلَ ‘ وَ انتَ آلمُيسرَ ‘ وَ أنتْ حسبي...\n",
       "671699348992991233      المطبخ المتنقل\\n\\nمطبخ للفتيات الأمورات\\nينمي...\n",
       "679783497981100034      #سوريا : اعلان تشكيل محكمة الجنايات السورية ا...\n",
       "732570039975596032      @7amad_alfadle @Ed_mark_j https://t.co/2cd2A9...\n",
       "755929078272786433      🌟عرض خاص لمدة ٢٤ ساعه🌟\\n✨خاتم  انيل من ماركة ...\n",
       "765873286848872448      القلب مو خالي من الحب والشوق '\\nلكن كتمت الشو...\n",
       "902288967093161984      ✨ نشر✨\\nتسويق \\nخدمات \\nمنتجات\\n سنابات\\nاعلا...\n",
       "Name: tweet_text, dtype: object"
      ]
     },
     "execution_count": 112,
     "metadata": {},
     "output_type": "execute_result"
    }
   ],
   "source": [
    "# inspect ddf before removing mentions\n",
    "ddf.tweet_text.sample(frac=0.000004, random_state=5).compute()"
   ]
  },
  {
   "cell_type": "markdown",
   "metadata": {},
   "source": [
    "OK, this is doing what I want it to do. Let's apply to whole ddf."
   ]
  },
  {
   "cell_type": "code",
   "execution_count": 113,
   "metadata": {},
   "outputs": [],
   "source": [
    "def clean_tweet_text_column_mentions(df):\n",
    "    df.tweet_text = df.tweet_text.apply(remove_mentions)\n",
    "    return df"
   ]
  },
  {
   "cell_type": "code",
   "execution_count": 114,
   "metadata": {},
   "outputs": [],
   "source": [
    "# apply cleaning function to all partitions\n",
    "ddf = ddf.map_partitions(clean_tweet_text_column_mentions).persist()"
   ]
  },
  {
   "cell_type": "code",
   "execution_count": 115,
   "metadata": {},
   "outputs": [
    {
     "data": {
      "text/plain": [
       "tweetid\n",
       "1156170151714332673     #مناحل_الهاشمي \\nفوائد العسل:\\nاطيب عسل عسل ا...\n",
       "1186297198763532289                      بس فيه فئه طاغيه وبكثره في قلبك\n",
       "467585314157232129     آنسة عمري 36 من #المغرب  طيبة متواضعة واتمنى ل...\n",
       "560348473846136833     أنتَ آلمسهلَ ‘ وَ انتَ آلمُيسرَ ‘ وَ أنتْ حسبي...\n",
       "671699348992991233      المطبخ المتنقل\\n\\nمطبخ للفتيات الأمورات\\nينمي...\n",
       "679783497981100034      #سوريا : اعلان تشكيل محكمة الجنايات السورية ا...\n",
       "732570039975596032                               https://t.co/2cd2A9GEPR\n",
       "755929078272786433      🌟عرض خاص لمدة ٢٤ ساعه🌟\\n✨خاتم  انيل من ماركة ...\n",
       "765873286848872448      القلب مو خالي من الحب والشوق '\\nلكن كتمت الشو...\n",
       "902288967093161984      ✨ نشر✨\\nتسويق \\nخدمات \\nمنتجات\\n سنابات\\nاعلا...\n",
       "Name: tweet_text, dtype: object"
      ]
     },
     "execution_count": 115,
     "metadata": {},
     "output_type": "execute_result"
    }
   ],
   "source": [
    "# inspect ddf after removing mentions\n",
    "ddf.tweet_text.sample(frac=0.000004, random_state=5).compute()"
   ]
  },
  {
   "cell_type": "markdown",
   "metadata": {},
   "source": [
    "Excellent. Let's proceed."
   ]
  },
  {
   "cell_type": "markdown",
   "metadata": {},
   "source": [
    "### Removing Emoji\n",
    "\n",
    "Now proceeding to remove all emoji from the tweet_text. Technically, we could save these to a separate column and use them as features (for example, to augment our sentiment analysis). But to maintain a realistic scope of this project we will not do so here. \n",
    "\n",
    "We will simply use the *emoji* library, which keeps an up-to-date record of all emoji Unicodes, to remove the emoji from the tweet text bodies."
   ]
  },
  {
   "cell_type": "code",
   "execution_count": 116,
   "metadata": {},
   "outputs": [],
   "source": [
    "def remove_emoji(tweet_text):\n",
    "    try:\n",
    "        return emoji.get_emoji_regexp().sub(u'', tweet_text)\n",
    "    except:\n",
    "        pass"
   ]
  },
  {
   "cell_type": "code",
   "execution_count": 117,
   "metadata": {},
   "outputs": [],
   "source": [
    "def clean_tweet_text_column_emoji(df):\n",
    "    df.tweet_text = df.tweet_text.apply(remove_emoji)\n",
    "    return df"
   ]
  },
  {
   "cell_type": "code",
   "execution_count": 118,
   "metadata": {},
   "outputs": [
    {
     "data": {
      "text/plain": [
       "tweetid\n",
       "1011362710800535552     اكثر شخص يستحق الحب !!\\nالي يقرا تغريداتي كل ...\n",
       "1014969758826029057     يتلقى الدكتور مسلم بن شباب المطيري، التهاني و...\n",
       "1020360479628316674     أحبتي الكرام ..🔟\\nأقوم بأداء العمرة نيابة عن ...\n",
       "1034163554516185088     وافي و ببقى طول الأيام وافي💙🔐\\n#عشقي_جنووني h...\n",
       "1058959188108472325     زيت الخام الافغاني الاصلي\\n🍀يطول ويكثف\\n🍀ممتا...\n",
       "                                             ...                        \n",
       "942687905700597760      اهالي قرية المضيح يناشدون صحة حائل أنصافهم وت...\n",
       "949775824546353153      عطر\\n\\n🔮 أكوا جيو أرماني بروفومو 🔮\\n\\nأحد عطو...\n",
       "960483179852369920      مزارعوون ليبيون عام 1938-1939م https://t.co/I...\n",
       "983997896038154240     ما تعليقك على إدارة مسؤولي #الأهلي لأزمة #عبدا...\n",
       "989829720010379264     اللهم إني أعوذ بك من عذاب القبر وأعوذ بك من فت...\n",
       "Name: tweet_text, Length: 153, dtype: object"
      ]
     },
     "execution_count": 118,
     "metadata": {},
     "output_type": "execute_result"
    }
   ],
   "source": [
    "# inspect sample of ddf before removing emoji\n",
    "ddf.tweet_text.sample(frac=0.000005, random_state=19).compute()"
   ]
  },
  {
   "cell_type": "code",
   "execution_count": 119,
   "metadata": {},
   "outputs": [],
   "source": [
    "# apply function to all partitions\n",
    "# NB: this takes ca. 10min (with 50 workers) to run \n",
    "# persist() call so will run in the background and will slow down subsequent operations\n",
    "ddf = ddf.map_partitions(clean_tweet_text_column_emoji).persist()"
   ]
  },
  {
   "cell_type": "code",
   "execution_count": 120,
   "metadata": {},
   "outputs": [
    {
     "name": "stdout",
     "output_type": "stream",
     "text": [
      "CPU times: user 3.53 s, sys: 778 ms, total: 4.31 s\n",
      "Wall time: 8min 6s\n"
     ]
    },
    {
     "data": {
      "text/plain": [
       "tweetid\n",
       "1011362710800535552     اكثر شخص يستحق الحب !!\\nالي يقرا تغريداتي كل ...\n",
       "1014969758826029057     يتلقى الدكتور مسلم بن شباب المطيري، التهاني و...\n",
       "1020360479628316674     أحبتي الكرام ..\\nأقوم بأداء العمرة نيابة عن ا...\n",
       "1034163554516185088     وافي و ببقى طول الأيام وافي\\n#عشقي_جنووني htt...\n",
       "1058959188108472325     زيت الخام الافغاني الاصلي\\nيطول ويكثف\\nممتازل...\n",
       "                                             ...                        \n",
       "942687905700597760      اهالي قرية المضيح يناشدون صحة حائل أنصافهم وت...\n",
       "949775824546353153      عطر\\n\\n أكوا جيو أرماني بروفومو \\n\\nأحد عطور ...\n",
       "960483179852369920      مزارعوون ليبيون عام 1938-1939م https://t.co/I...\n",
       "983997896038154240     ما تعليقك على إدارة مسؤولي #الأهلي لأزمة #عبدا...\n",
       "989829720010379264     اللهم إني أعوذ بك من عذاب القبر وأعوذ بك من فت...\n",
       "Name: tweet_text, Length: 153, dtype: object"
      ]
     },
     "execution_count": 120,
     "metadata": {},
     "output_type": "execute_result"
    }
   ],
   "source": [
    "%%time\n",
    "# inspect sample of ddf after removing emoji \n",
    "ddf.tweet_text.sample(frac=0.000005, random_state=19).compute()"
   ]
  },
  {
   "cell_type": "markdown",
   "metadata": {},
   "source": [
    "Excellent. Emoji's: bye, bye!"
   ]
  },
  {
   "cell_type": "markdown",
   "metadata": {},
   "source": [
    "### Removing Line Breaks\n",
    "\n",
    "Let's replace line breaks (\"\\n\") with a white space."
   ]
  },
  {
   "cell_type": "code",
   "execution_count": 121,
   "metadata": {},
   "outputs": [],
   "source": [
    "def remove_linebreaks(tweet_text):\n",
    "    return re.sub(r'[\\n]', \" \", tweet_text)"
   ]
  },
  {
   "cell_type": "code",
   "execution_count": 122,
   "metadata": {},
   "outputs": [],
   "source": [
    "def clean_tweet_text_column_linebreaks(df):\n",
    "    df.tweet_text = df.tweet_text.apply(remove_linebreaks)\n",
    "    return df"
   ]
  },
  {
   "cell_type": "code",
   "execution_count": 123,
   "metadata": {},
   "outputs": [],
   "source": [
    "# apply cleaning function to all partitions\n",
    "ddf = ddf.map_partitions(clean_tweet_text_column_linebreaks).persist()"
   ]
  },
  {
   "cell_type": "code",
   "execution_count": 124,
   "metadata": {},
   "outputs": [
    {
     "data": {
      "text/plain": [
       "tweetid\n",
       "1011362710800535552     اكثر شخص يستحق الحب !! الي يقرا تغريداتي كل ي...\n",
       "1014969758826029057     يتلقى الدكتور مسلم بن شباب المطيري، التهاني و...\n",
       "1020360479628316674     أحبتي الكرام .. أقوم بأداء العمرة نيابة عن ال...\n",
       "1034163554516185088     وافي و ببقى طول الأيام وافي #عشقي_جنووني http...\n",
       "1058959188108472325     زيت الخام الافغاني الاصلي يطول ويكثف ممتازللد...\n",
       "                                             ...                        \n",
       "942687905700597760      اهالي قرية المضيح يناشدون صحة حائل أنصافهم وت...\n",
       "949775824546353153      عطر   أكوا جيو أرماني بروفومو   أحد عطور الار...\n",
       "960483179852369920      مزارعوون ليبيون عام 1938-1939م https://t.co/I...\n",
       "983997896038154240     ما تعليقك على إدارة مسؤولي #الأهلي لأزمة #عبدا...\n",
       "989829720010379264     اللهم إني أعوذ بك من عذاب القبر وأعوذ بك من فت...\n",
       "Name: tweet_text, Length: 153, dtype: object"
      ]
     },
     "execution_count": 124,
     "metadata": {},
     "output_type": "execute_result"
    }
   ],
   "source": [
    "# inspect sample of ddf after removing linebreaks \n",
    "ddf.tweet_text.sample(frac=0.000005, random_state=19).compute()"
   ]
  },
  {
   "cell_type": "markdown",
   "metadata": {},
   "source": [
    "Done."
   ]
  },
  {
   "cell_type": "markdown",
   "metadata": {},
   "source": [
    "### Removing URLs"
   ]
  },
  {
   "cell_type": "code",
   "execution_count": 125,
   "metadata": {},
   "outputs": [],
   "source": [
    "pattern_URLs = r'http\\S+'"
   ]
  },
  {
   "cell_type": "code",
   "execution_count": 126,
   "metadata": {},
   "outputs": [],
   "source": [
    "def remove_URLs(tweet_text):\n",
    "    return re.sub(pattern_URLs, \"\", tweet_text)"
   ]
  },
  {
   "cell_type": "code",
   "execution_count": 127,
   "metadata": {},
   "outputs": [],
   "source": [
    "def clean_tweet_text_column_URLs(df):\n",
    "    df.tweet_text = df.tweet_text.apply(remove_URLs)\n",
    "    return df"
   ]
  },
  {
   "cell_type": "code",
   "execution_count": 128,
   "metadata": {},
   "outputs": [],
   "source": [
    "# apply cleaning function to all partitions\n",
    "ddf = ddf.map_partitions(clean_tweet_text_column_URLs).persist()"
   ]
  },
  {
   "cell_type": "code",
   "execution_count": 129,
   "metadata": {},
   "outputs": [
    {
     "data": {
      "text/plain": [
       "tweetid\n",
       "1011362710800535552     اكثر شخص يستحق الحب !! الي يقرا تغريداتي كل ي...\n",
       "1014969758826029057     يتلقى الدكتور مسلم بن شباب المطيري، التهاني و...\n",
       "1020360479628316674     أحبتي الكرام .. أقوم بأداء العمرة نيابة عن ال...\n",
       "1034163554516185088            وافي و ببقى طول الأيام وافي #عشقي_جنووني \n",
       "1058959188108472325     زيت الخام الافغاني الاصلي يطول ويكثف ممتازللد...\n",
       "                                             ...                        \n",
       "942687905700597760      اهالي قرية المضيح يناشدون صحة حائل أنصافهم وت...\n",
       "949775824546353153      عطر   أكوا جيو أرماني بروفومو   أحد عطور الار...\n",
       "960483179852369920                       مزارعوون ليبيون عام 1938-1939م \n",
       "983997896038154240     ما تعليقك على إدارة مسؤولي #الأهلي لأزمة #عبدا...\n",
       "989829720010379264     اللهم إني أعوذ بك من عذاب القبر وأعوذ بك من فت...\n",
       "Name: tweet_text, Length: 153, dtype: object"
      ]
     },
     "execution_count": 129,
     "metadata": {},
     "output_type": "execute_result"
    }
   ],
   "source": [
    "# inspect sample of ddf after removing linebreaks \n",
    "ddf.tweet_text.sample(frac=0.000005, random_state=19).compute()"
   ]
  },
  {
   "cell_type": "markdown",
   "metadata": {},
   "source": [
    "Done."
   ]
  },
  {
   "cell_type": "code",
   "execution_count": null,
   "metadata": {},
   "outputs": [],
   "source": []
  },
  {
   "cell_type": "markdown",
   "metadata": {},
   "source": [
    "## Sampling ddf to see how we're doing"
   ]
  },
  {
   "cell_type": "code",
   "execution_count": 66,
   "metadata": {},
   "outputs": [],
   "source": [
    "df_temp = ddf.tweet_text.sample(frac=0.0001, random_state=1).compute()"
   ]
  },
  {
   "cell_type": "code",
   "execution_count": 67,
   "metadata": {},
   "outputs": [
    {
     "data": {
      "text/plain": [
       "(3596,)"
      ]
     },
     "execution_count": 67,
     "metadata": {},
     "output_type": "execute_result"
    }
   ],
   "source": [
    "df_temp.shape"
   ]
  },
  {
   "cell_type": "code",
   "execution_count": 68,
   "metadata": {},
   "outputs": [
    {
     "data": {
      "text/plain": [
       "tweetid\n",
       "1194321036168351747     شركة كشف تسربات المياه بدون تكسير   حل ارتفاع...\n",
       "758283071108091905      ️️️ ارماني ربل اسود إطار نحاسي k  هاي كوالتي ...\n",
       "887827452784988160      #يوم_القدس_العالمي #اوامر_ملكيه #ليلة_القدر #...\n",
       "1108239978230886400     #كامل_الحليلي_فرسان_القصيد #اوصف_احساسك_بكلمه...\n",
       "733029317597368321      برنامج الممارسة التطبيقية هو فرصتك للتدرب على...\n",
       "1048113455121793024           لا إله إلا أنت سبحانك إني كنت من الظالمين \n",
       "727489839164186626      الان سجل وتدرب  مجانا في الذهب والنفط لمن فوق...\n",
       "849057591309332480       #تخفيضات بالاسعار ️ #مخيمات ماجد للايجار الي...\n",
       "686136295492599808      نشتري و نبيع و نسوق أراضي  .  #مخططات_الخير ....\n",
       "1127333520945426434      خدمات النظافة العامه ,  شركتنا تقدم لكم خدما...\n",
       "1063844840788639744     #كبده_ولا_فلافل تويتر بيحذف المتابعين الوهمين...\n",
       "1098825649576386561     ساعة ريتشارد ميل رجالي c  التوصيل خلال ساعة د...\n",
       "1020754331727990784    (وكان في المدينة تسعة رهط يفسدون في الأرض ولا ...\n",
       "408339404865155072      زيادة عدد متابعينك-زيادة متابعين-فولو باك(1)ا...\n",
       "1191767104065806336                . مهما كنت حزينآ..�{ قل الحمدالله }��\n",
       "1155917732623335425     بنت الشيوخ أهل الفخر والجمايل تخرج الشيخة سلا...\n",
       "1171867801990119425     ٢_    عسل   المجرى   للمتزوجين       أفضل  ال...\n",
       "747378672726872064      عرض ليومين  ساعة قوتشي Gucci نسائية، هاي كوال...\n",
       "1090192946891231234     ❥♡❥ ♡•.¸¸.••.¸¸.•♡   ღ❦⁽  ✽,♪   في هالزمن !  ...\n",
       "813949826970877953      أصعب إجابـــه..قلتھا في حياتـــي   ماعاد لي خ...\n",
       "1201054816740478977                     ألـف مبروك ياأبو عزام تستاهل    \n",
       "1191994874406543360     #المسافر_يجيبك_لموسم_الرياض  عوازل بانواعها م...\n",
       "703207476775104512      شتان بين رجل تاب وتخلص من حبيبته كالذنوب السو...\n",
       "1119530558449770496     مصنع طيبة الاثاث المنزلي أسعار ولا أروع  وألو...\n",
       "726530714909458436      #شعار_النصر ورق حائط ثلاثي الأبعاد تفصيل حسب ...\n",
       "Name: tweet_text, dtype: object"
      ]
     },
     "execution_count": 68,
     "metadata": {},
     "output_type": "execute_result"
    }
   ],
   "source": [
    "df_temp.sample(25, random_state=5)"
   ]
  },
  {
   "cell_type": "markdown",
   "metadata": {},
   "source": [
    "Still to clean:\n",
    "- numbers (phone numbers? dates? other numbers)\n",
    "- some non-character icons\n",
    "- some random latin characters\n",
    "\n",
    "\n",
    "We could also try removing any non-arabic text. But that would remove hashtags and underscores and we need to process those first.\n",
    "\n",
    ">> re.sub(r'[a-zA-Z?]', '', my_string)"
   ]
  },
  {
   "cell_type": "code",
   "execution_count": null,
   "metadata": {},
   "outputs": [],
   "source": []
  },
  {
   "cell_type": "markdown",
   "metadata": {},
   "source": [
    "## Hashtags\n",
    "\n",
    "How to deal with the hashtags? This is not a straightforward problem, and there are several ways we could approach it. We could: \n",
    "\n",
    "1. Remove the hashtag symbols and underscores and keep the words of the hashtags in the tweet_text body\n",
    "2. Move the hashtags out of the tweet_text body and save them as a separate feature\n",
    "\n",
    "We will opt for a combination of the two. We will first copy the hashtags to a separate column and save them as a separate feature, i.e. each tweet will have a feature that is a list of the hashtags (text only) that were included in that tweet. We will then remove the hashtag symbols and underscores from the tweet_text body **but maintain the words themselves**.\n",
    "\n",
    "We are opting for this approach for two reasons:\n",
    "1. To accommodate for instances in which hashtags double as part of the tweet sentence itself, e.g. \"I didn't know #machinelearning worked in #arabic!\"\n",
    "2. Because we are ultimately interested in topic modelling and the text in the hashtags is likely to contain a strong signal about the topic each tweet belongs to.\n",
    "\n",
    "To play devil's advocate here - and illustrate that there's always more than one way to approach a problem - we could also think of a good reason *not* to keep the hashtag text in the tweet_text column, namely:\n",
    "1. Hashtags are, in some sense, a rudimentary form of topic modelling already. By including them in the tweet_text, we may be overpowering the signal that's in the tweet_text body itself. In other words, our topic modelling algorithm might simply cluster tweets according to the hashtags they contain.\n",
    "\n",
    "We will be aware of this moving forward. Should this problem arise, we can always remove the hashtag texts from the tweet_text column at a later stage, since we have the hashtag texts saved in a separate column."
   ]
  },
  {
   "cell_type": "code",
   "execution_count": 130,
   "metadata": {},
   "outputs": [],
   "source": [
    "# inspect sample of ddf  \n",
    "df_temp = ddf.partitions[0].sample(frac=0.001, random_state=1).compute()"
   ]
  },
  {
   "cell_type": "code",
   "execution_count": 131,
   "metadata": {},
   "outputs": [
    {
     "data": {
      "text/plain": [
       "tweetid\n",
       "1001265337436864513     ️#مناحل_ناصر_الغامدي    عسل المجرى الابيض  هو...\n",
       "1000523587747500032     #الاتحاد_اكبر_عقد_رعايه #جوايز_السعوديه9 #ليف...\n",
       "1000385385208332289     ساعة باتيك فيليب ساعات الزمرد 3 التوصيل خلال ...\n",
       "1000621618530529281     !#تسديد_قروض الراجحي الاهلي 22 راتب سامبا الا...\n",
       "1001560860110802944     ☜أقوى برنامج تخسيس في أوروبا والشرق الأوسط  ك...\n",
       "1000808319865499649     شاحن متعدد معه ماطور هواء للكفر يشحن  جميع ال...\n",
       "1001191420852690944     يارب إن للصائم دعوة مستجابة عند فطره ، فأجعله...\n",
       "1000050679422029826                                                     \n",
       "1000378419681644544     #استقدام_عامله_منزليه #فيتنام 20 يوم #الفلبين...\n",
       "1000485031956148229     تخفيضات 50% لمده 24 ساعة سلسال بأسمك او اسم م...\n",
       "1000822831192707072      والله ياشادي انت اللي اعمي وبتعاند لمجرد الع...\n",
       "1000690962451124224    أهم ما جاء من عناوين في الصحف السعودية الصادرة...\n",
       "1001125595206561792         ┊┊┊┊┊مبدع ┊┊┊┊مميز ┊┊┊مغرد ┊┊متألق       ...\n",
       "1000162954510327810     إن جيت فأنا القديم اللي على خبرك     وإن رحت ...\n",
       "1000463321571758081     طقم رحالي  السعر:300ريال  لطلب واتس اب 054136...\n",
       "Name: tweet_text, dtype: object"
      ]
     },
     "execution_count": 131,
     "metadata": {},
     "output_type": "execute_result"
    }
   ],
   "source": [
    "df_temp.tweet_text.sample(15, random_state=12)"
   ]
  },
  {
   "cell_type": "code",
   "execution_count": 132,
   "metadata": {},
   "outputs": [],
   "source": [
    "# pattern to match 'reverse' hashtags\n",
    "pattern_hashtags = r'((?<!\\S)#\\S+)+'"
   ]
  },
  {
   "cell_type": "code",
   "execution_count": 133,
   "metadata": {},
   "outputs": [
    {
     "data": {
      "text/plain": [
       "' hash hash 20 يوم hash 60 يوم  hash 45 يوم hash 45 يوم سائقين من الهند خلال شهر '"
      ]
     },
     "execution_count": 133,
     "metadata": {},
     "output_type": "execute_result"
    }
   ],
   "source": [
    "re.sub(pattern_hashtags, 'hash', df_temp.tweet_text.loc['1000378419681644544'])"
   ]
  },
  {
   "cell_type": "markdown",
   "metadata": {},
   "source": [
    "This pattern works. Let's apply it to our df_temp:"
   ]
  },
  {
   "cell_type": "code",
   "execution_count": 134,
   "metadata": {},
   "outputs": [],
   "source": [
    "def find_hashtags(tweet_text):\n",
    "    hashtag_list = re.findall(pattern_hashtags, tweet_text)\n",
    "    if len(hashtag_list) == 0:\n",
    "        return np.nan\n",
    "    else:\n",
    "        return hashtag_list"
   ]
  },
  {
   "cell_type": "code",
   "execution_count": 135,
   "metadata": {},
   "outputs": [],
   "source": [
    "df_temp['hashtags'] = df_temp.tweet_text.apply(find_hashtags)"
   ]
  },
  {
   "cell_type": "code",
   "execution_count": 136,
   "metadata": {},
   "outputs": [
    {
     "data": {
      "text/plain": [
       "tweetid\n",
       "1000437674791129089                                                  NaN\n",
       "1000690962451124224    [#الارصاد, #اعصار_مكونو, #السعودية, #الصحف_الس...\n",
       "1000463321571758081                                                  NaN\n",
       "1000859060005154816                                                  NaN\n",
       "1001191420852690944                                                  NaN\n",
       "1000440820821057537                                                  NaN\n",
       "1001303244759535617    [#القولون_الهضمي, #الإمساك, #جرثومة_المعدة, #ا...\n",
       "1001241675736469504                                                  NaN\n",
       "1000523587747500032    [#الاتحاد_اكبر_عقد_رعايه, #جوايز_السعوديه9, #ل...\n",
       "1001470137352863744           [#قروب_جنون_للدعم, #اسـطــورة_الـدعــم_GP]\n",
       "1000050679422029826                                                  NaN\n",
       "1001152483434160128                                                  NaN\n",
       "1000975849192075264                                        [#بلاك_فايتر]\n",
       "1000644161475895296                                                  NaN\n",
       "1000621618530529281                                                  NaN\n",
       "Name: hashtags, dtype: object"
      ]
     },
     "execution_count": 136,
     "metadata": {},
     "output_type": "execute_result"
    }
   ],
   "source": [
    "df_temp.hashtags.sample(15)"
   ]
  },
  {
   "cell_type": "markdown",
   "metadata": {},
   "source": [
    "**NOTE:** The formatting of .sample() and .head() is off so that it appears as if the hashtag is on the left of the word instead of on the right. Important to keep in mind."
   ]
  },
  {
   "cell_type": "markdown",
   "metadata": {},
   "source": [
    "Great, this is working for df_temp. Let's expand and apply to our entire ddf."
   ]
  },
  {
   "cell_type": "code",
   "execution_count": 137,
   "metadata": {},
   "outputs": [],
   "source": [
    "def extract_hashtags(df):\n",
    "    df['hashtags'] = df.tweet_text.apply(find_hashtags)\n",
    "    return df"
   ]
  },
  {
   "cell_type": "code",
   "execution_count": 138,
   "metadata": {},
   "outputs": [],
   "source": [
    "ddf = ddf.map_partitions(extract_hashtags).persist()"
   ]
  },
  {
   "cell_type": "code",
   "execution_count": 139,
   "metadata": {},
   "outputs": [
    {
     "data": {
      "text/html": [
       "<div>\n",
       "<style scoped>\n",
       "    .dataframe tbody tr th:only-of-type {\n",
       "        vertical-align: middle;\n",
       "    }\n",
       "\n",
       "    .dataframe tbody tr th {\n",
       "        vertical-align: top;\n",
       "    }\n",
       "\n",
       "    .dataframe thead th {\n",
       "        text-align: right;\n",
       "    }\n",
       "</style>\n",
       "<table border=\"1\" class=\"dataframe\">\n",
       "  <thead>\n",
       "    <tr style=\"text-align: right;\">\n",
       "      <th></th>\n",
       "      <th>userid</th>\n",
       "      <th>user_screen_name</th>\n",
       "      <th>follower_count</th>\n",
       "      <th>following_count</th>\n",
       "      <th>tweet_language</th>\n",
       "      <th>tweet_text</th>\n",
       "      <th>tweet_time</th>\n",
       "      <th>tweet_client_name</th>\n",
       "      <th>is_retweet</th>\n",
       "      <th>retweet_userid</th>\n",
       "      <th>retweet_tweetid</th>\n",
       "      <th>retweet_user_screen_name</th>\n",
       "      <th>hashtags</th>\n",
       "    </tr>\n",
       "    <tr>\n",
       "      <th>tweetid</th>\n",
       "      <th></th>\n",
       "      <th></th>\n",
       "      <th></th>\n",
       "      <th></th>\n",
       "      <th></th>\n",
       "      <th></th>\n",
       "      <th></th>\n",
       "      <th></th>\n",
       "      <th></th>\n",
       "      <th></th>\n",
       "      <th></th>\n",
       "      <th></th>\n",
       "      <th></th>\n",
       "    </tr>\n",
       "  </thead>\n",
       "  <tbody>\n",
       "    <tr>\n",
       "      <th>1003478936196669445</th>\n",
       "      <td>988400378797535232</td>\n",
       "      <td>maram__2002</td>\n",
       "      <td>16937</td>\n",
       "      <td>16823</td>\n",
       "      <td>ar</td>\n",
       "      <td>غرفه نوم نفرين مكونه من سرير مترين مترين دولا...</td>\n",
       "      <td>2018-06-04 03:29:00</td>\n",
       "      <td>Twitter for iPhone</td>\n",
       "      <td>True</td>\n",
       "      <td>NaN</td>\n",
       "      <td>1.003440e+18</td>\n",
       "      <td>eqBx78DnHcWEwZB</td>\n",
       "      <td>NaN</td>\n",
       "    </tr>\n",
       "    <tr>\n",
       "      <th>1005851382082166785</th>\n",
       "      <td>np1eOxdxZnVz8KR9WRdXAaxOCMVgkHZlqKMZpQKTq08=</td>\n",
       "      <td>np1eOxdxZnVz8KR9WRdXAaxOCMVgkHZlqKMZpQKTq08=</td>\n",
       "      <td>4607</td>\n",
       "      <td>4843</td>\n",
       "      <td>ar</td>\n",
       "      <td>اللهم انت ربي لا اله الا انت خلقتني وانا عبدك...</td>\n",
       "      <td>2018-06-10 16:37:00</td>\n",
       "      <td>Twitter for Android</td>\n",
       "      <td>True</td>\n",
       "      <td>NaN</td>\n",
       "      <td>1.005671e+18</td>\n",
       "      <td>farraj90</td>\n",
       "      <td>NaN</td>\n",
       "    </tr>\n",
       "    <tr>\n",
       "      <th>1011734816662999040</th>\n",
       "      <td>963441095999926277</td>\n",
       "      <td>1lal1l</td>\n",
       "      <td>12059</td>\n",
       "      <td>9289</td>\n",
       "      <td>ar</td>\n",
       "      <td>نسألك يا الله في هذه الأيام المباركة  أن تبلغ...</td>\n",
       "      <td>2018-06-26 22:15:00</td>\n",
       "      <td>Twitter for Android</td>\n",
       "      <td>True</td>\n",
       "      <td>NaN</td>\n",
       "      <td>1.004810e+18</td>\n",
       "      <td>ggg1r</td>\n",
       "      <td>NaN</td>\n",
       "    </tr>\n",
       "    <tr>\n",
       "      <th>1016175027417436162</th>\n",
       "      <td>448366650</td>\n",
       "      <td>hassin1937</td>\n",
       "      <td>30529</td>\n",
       "      <td>7265</td>\n",
       "      <td>ar</td>\n",
       "      <td>•  -  أنتَ جاهي وأتجاهي يَ الله،فَـ دُلّني .....</td>\n",
       "      <td>2018-07-09 04:19:00</td>\n",
       "      <td>Twitter for iPhone</td>\n",
       "      <td>True</td>\n",
       "      <td>NaN</td>\n",
       "      <td>1.016167e+18</td>\n",
       "      <td>do__x</td>\n",
       "      <td>[#قروب_معزوفات_اهلاويه, #قروب_ريم_الملكية, #دا...</td>\n",
       "    </tr>\n",
       "    <tr>\n",
       "      <th>1022629070796939265</th>\n",
       "      <td>clWHpqszmBh+OjWH5LNlAqtiN93f9J0MkZmuENWCQ=</td>\n",
       "      <td>clWHpqszmBh+OjWH5LNlAqtiN93f9J0MkZmuENWCQ=</td>\n",
       "      <td>540</td>\n",
       "      <td>337</td>\n",
       "      <td>ar</td>\n",
       "      <td>فوق الممتاز والله</td>\n",
       "      <td>2018-07-26 23:45:00</td>\n",
       "      <td>Twitter for Android</td>\n",
       "      <td>False</td>\n",
       "      <td>NaN</td>\n",
       "      <td>NaN</td>\n",
       "      <td>NaN</td>\n",
       "      <td>NaN</td>\n",
       "    </tr>\n",
       "    <tr>\n",
       "      <th>...</th>\n",
       "      <td>...</td>\n",
       "      <td>...</td>\n",
       "      <td>...</td>\n",
       "      <td>...</td>\n",
       "      <td>...</td>\n",
       "      <td>...</td>\n",
       "      <td>...</td>\n",
       "      <td>...</td>\n",
       "      <td>...</td>\n",
       "      <td>...</td>\n",
       "      <td>...</td>\n",
       "      <td>...</td>\n",
       "      <td>...</td>\n",
       "    </tr>\n",
       "    <tr>\n",
       "      <th>978504537370775553</th>\n",
       "      <td>vczripOcvrQ82Or6UC35LhdwjXqWZPGKl+mzXb5dQ64=</td>\n",
       "      <td>vczripOcvrQ82Or6UC35LhdwjXqWZPGKl+mzXb5dQ64=</td>\n",
       "      <td>4468</td>\n",
       "      <td>148</td>\n",
       "      <td>ar</td>\n",
       "      <td>آللهُم قدراً جَميلاً وخيراً يتَبعه الرضاء #صب...</td>\n",
       "      <td>2018-03-27 05:30:00</td>\n",
       "      <td>Twitter for Android</td>\n",
       "      <td>True</td>\n",
       "      <td>NaN</td>\n",
       "      <td>9.777655e+17</td>\n",
       "      <td>Samar_N2016</td>\n",
       "      <td>[#صباح_الرضاء]</td>\n",
       "    </tr>\n",
       "    <tr>\n",
       "      <th>981828817449836544</th>\n",
       "      <td>WpqY6lIUp7n3rHmvALH+CvjFzH5wpiChyrBiLN7Eg8=</td>\n",
       "      <td>WpqY6lIUp7n3rHmvALH+CvjFzH5wpiChyrBiLN7Eg8=</td>\n",
       "      <td>2424</td>\n",
       "      <td>3884</td>\n",
       "      <td>ar</td>\n",
       "      <td>لإعلانـاتكم بتويتربأقل الاسعار المؤسسات والشر...</td>\n",
       "      <td>2018-04-05 09:40:00</td>\n",
       "      <td>Twitter for Android</td>\n",
       "      <td>True</td>\n",
       "      <td>NaN</td>\n",
       "      <td>9.817361e+17</td>\n",
       "      <td>Reem2222226</td>\n",
       "      <td>NaN</td>\n",
       "    </tr>\n",
       "    <tr>\n",
       "      <th>988754433529077760</th>\n",
       "      <td>ymky5geGFEAYlrqmWFvPrEU3yRc1DD3jpwfC4LXACic=</td>\n",
       "      <td>ymky5geGFEAYlrqmWFvPrEU3yRc1DD3jpwfC4LXACic=</td>\n",
       "      <td>3863</td>\n",
       "      <td>4707</td>\n",
       "      <td>ar</td>\n",
       "      <td>#سجل_في_تطبيق_دوتي_الان تسديد القروض تسديدالت...</td>\n",
       "      <td>2018-04-24 12:20:00</td>\n",
       "      <td>Twitter for Android</td>\n",
       "      <td>True</td>\n",
       "      <td>NaN</td>\n",
       "      <td>9.887325e+17</td>\n",
       "      <td>e___880</td>\n",
       "      <td>[#سجل_في_تطبيق_دوتي_الان]</td>\n",
       "    </tr>\n",
       "    <tr>\n",
       "      <th>990892653637140480</th>\n",
       "      <td>WpqY6lIUp7n3rHmvALH+CvjFzH5wpiChyrBiLN7Eg8=</td>\n",
       "      <td>WpqY6lIUp7n3rHmvALH+CvjFzH5wpiChyrBiLN7Eg8=</td>\n",
       "      <td>2424</td>\n",
       "      <td>3884</td>\n",
       "      <td>und</td>\n",
       "      <td>#تركي_ال_الشيخ_يقف_ضد_النصر  #المدينه_المنوره...</td>\n",
       "      <td>2018-04-30 09:56:00</td>\n",
       "      <td>Twitter for Android</td>\n",
       "      <td>True</td>\n",
       "      <td>NaN</td>\n",
       "      <td>9.908137e+17</td>\n",
       "      <td>U84069951</td>\n",
       "      <td>[#تركي_ال_الشيخ_يقف_ضد_النصر, #المدينه_المنوره...</td>\n",
       "    </tr>\n",
       "    <tr>\n",
       "      <th>999185920288002048</th>\n",
       "      <td>948302862098092034</td>\n",
       "      <td>y_44a_</td>\n",
       "      <td>9007</td>\n",
       "      <td>8821</td>\n",
       "      <td>ar</td>\n",
       "      <td>سداد جميع القروض الشخصيه والتعثرات البنكيه لد...</td>\n",
       "      <td>2018-05-23 07:11:00</td>\n",
       "      <td>Twitter for iPhone</td>\n",
       "      <td>True</td>\n",
       "      <td>NaN</td>\n",
       "      <td>9.988776e+17</td>\n",
       "      <td>Tamerah68291019</td>\n",
       "      <td>NaN</td>\n",
       "    </tr>\n",
       "  </tbody>\n",
       "</table>\n",
       "<p>366 rows × 13 columns</p>\n",
       "</div>"
      ],
      "text/plain": [
       "                                                           userid  \\\n",
       "tweetid                                                             \n",
       "1003478936196669445                            988400378797535232   \n",
       "1005851382082166785  np1eOxdxZnVz8KR9WRdXAaxOCMVgkHZlqKMZpQKTq08=   \n",
       "1011734816662999040                            963441095999926277   \n",
       "1016175027417436162                                     448366650   \n",
       "1022629070796939265    clWHpqszmBh+OjWH5LNlAqtiN93f9J0MkZmuENWCQ=   \n",
       "...                                                           ...   \n",
       "978504537370775553   vczripOcvrQ82Or6UC35LhdwjXqWZPGKl+mzXb5dQ64=   \n",
       "981828817449836544    WpqY6lIUp7n3rHmvALH+CvjFzH5wpiChyrBiLN7Eg8=   \n",
       "988754433529077760   ymky5geGFEAYlrqmWFvPrEU3yRc1DD3jpwfC4LXACic=   \n",
       "990892653637140480    WpqY6lIUp7n3rHmvALH+CvjFzH5wpiChyrBiLN7Eg8=   \n",
       "999185920288002048                             948302862098092034   \n",
       "\n",
       "                                                 user_screen_name  \\\n",
       "tweetid                                                             \n",
       "1003478936196669445                                   maram__2002   \n",
       "1005851382082166785  np1eOxdxZnVz8KR9WRdXAaxOCMVgkHZlqKMZpQKTq08=   \n",
       "1011734816662999040                                        1lal1l   \n",
       "1016175027417436162                                    hassin1937   \n",
       "1022629070796939265    clWHpqszmBh+OjWH5LNlAqtiN93f9J0MkZmuENWCQ=   \n",
       "...                                                           ...   \n",
       "978504537370775553   vczripOcvrQ82Or6UC35LhdwjXqWZPGKl+mzXb5dQ64=   \n",
       "981828817449836544    WpqY6lIUp7n3rHmvALH+CvjFzH5wpiChyrBiLN7Eg8=   \n",
       "988754433529077760   ymky5geGFEAYlrqmWFvPrEU3yRc1DD3jpwfC4LXACic=   \n",
       "990892653637140480    WpqY6lIUp7n3rHmvALH+CvjFzH5wpiChyrBiLN7Eg8=   \n",
       "999185920288002048                                         y_44a_   \n",
       "\n",
       "                     follower_count  following_count tweet_language  \\\n",
       "tweetid                                                               \n",
       "1003478936196669445           16937            16823             ar   \n",
       "1005851382082166785            4607             4843             ar   \n",
       "1011734816662999040           12059             9289             ar   \n",
       "1016175027417436162           30529             7265             ar   \n",
       "1022629070796939265             540              337             ar   \n",
       "...                             ...              ...            ...   \n",
       "978504537370775553             4468              148             ar   \n",
       "981828817449836544             2424             3884             ar   \n",
       "988754433529077760             3863             4707             ar   \n",
       "990892653637140480             2424             3884            und   \n",
       "999185920288002048             9007             8821             ar   \n",
       "\n",
       "                                                            tweet_text  \\\n",
       "tweetid                                                                  \n",
       "1003478936196669445   غرفه نوم نفرين مكونه من سرير مترين مترين دولا...   \n",
       "1005851382082166785   اللهم انت ربي لا اله الا انت خلقتني وانا عبدك...   \n",
       "1011734816662999040   نسألك يا الله في هذه الأيام المباركة  أن تبلغ...   \n",
       "1016175027417436162   •  -  أنتَ جاهي وأتجاهي يَ الله،فَـ دُلّني .....   \n",
       "1022629070796939265                                 فوق الممتاز والله    \n",
       "...                                                                ...   \n",
       "978504537370775553    آللهُم قدراً جَميلاً وخيراً يتَبعه الرضاء #صب...   \n",
       "981828817449836544    لإعلانـاتكم بتويتربأقل الاسعار المؤسسات والشر...   \n",
       "988754433529077760    #سجل_في_تطبيق_دوتي_الان تسديد القروض تسديدالت...   \n",
       "990892653637140480    #تركي_ال_الشيخ_يقف_ضد_النصر  #المدينه_المنوره...   \n",
       "999185920288002048    سداد جميع القروض الشخصيه والتعثرات البنكيه لد...   \n",
       "\n",
       "                             tweet_time    tweet_client_name  is_retweet  \\\n",
       "tweetid                                                                    \n",
       "1003478936196669445 2018-06-04 03:29:00   Twitter for iPhone        True   \n",
       "1005851382082166785 2018-06-10 16:37:00  Twitter for Android        True   \n",
       "1011734816662999040 2018-06-26 22:15:00  Twitter for Android        True   \n",
       "1016175027417436162 2018-07-09 04:19:00   Twitter for iPhone        True   \n",
       "1022629070796939265 2018-07-26 23:45:00  Twitter for Android       False   \n",
       "...                                 ...                  ...         ...   \n",
       "978504537370775553  2018-03-27 05:30:00  Twitter for Android        True   \n",
       "981828817449836544  2018-04-05 09:40:00  Twitter for Android        True   \n",
       "988754433529077760  2018-04-24 12:20:00  Twitter for Android        True   \n",
       "990892653637140480  2018-04-30 09:56:00  Twitter for Android        True   \n",
       "999185920288002048  2018-05-23 07:11:00   Twitter for iPhone        True   \n",
       "\n",
       "                    retweet_userid  retweet_tweetid retweet_user_screen_name  \\\n",
       "tweetid                                                                        \n",
       "1003478936196669445            NaN     1.003440e+18          eqBx78DnHcWEwZB   \n",
       "1005851382082166785            NaN     1.005671e+18                 farraj90   \n",
       "1011734816662999040            NaN     1.004810e+18                    ggg1r   \n",
       "1016175027417436162            NaN     1.016167e+18                    do__x   \n",
       "1022629070796939265            NaN              NaN                      NaN   \n",
       "...                            ...              ...                      ...   \n",
       "978504537370775553             NaN     9.777655e+17              Samar_N2016   \n",
       "981828817449836544             NaN     9.817361e+17              Reem2222226   \n",
       "988754433529077760             NaN     9.887325e+17                  e___880   \n",
       "990892653637140480             NaN     9.908137e+17                U84069951   \n",
       "999185920288002048             NaN     9.988776e+17          Tamerah68291019   \n",
       "\n",
       "                                                              hashtags  \n",
       "tweetid                                                                 \n",
       "1003478936196669445                                                NaN  \n",
       "1005851382082166785                                                NaN  \n",
       "1011734816662999040                                                NaN  \n",
       "1016175027417436162  [#قروب_معزوفات_اهلاويه, #قروب_ريم_الملكية, #دا...  \n",
       "1022629070796939265                                                NaN  \n",
       "...                                                                ...  \n",
       "978504537370775553                                      [#صباح_الرضاء]  \n",
       "981828817449836544                                                 NaN  \n",
       "988754433529077760                           [#سجل_في_تطبيق_دوتي_الان]  \n",
       "990892653637140480   [#تركي_ال_الشيخ_يقف_ضد_النصر, #المدينه_المنوره...  \n",
       "999185920288002048                                                 NaN  \n",
       "\n",
       "[366 rows x 13 columns]"
      ]
     },
     "execution_count": 139,
     "metadata": {},
     "output_type": "execute_result"
    }
   ],
   "source": [
    "ddf.sample(frac=0.00001, random_state=1).compute()"
   ]
  },
  {
   "cell_type": "markdown",
   "metadata": {},
   "source": [
    "This looks like it worked.\n",
    "\n",
    "Let's double-check by having a look at the tweet_text for entries that have NaN in the hashtags column:"
   ]
  },
  {
   "cell_type": "code",
   "execution_count": 140,
   "metadata": {},
   "outputs": [],
   "source": [
    "text = ddf.loc['1005851382082166785'].tweet_text.compute()"
   ]
  },
  {
   "cell_type": "code",
   "execution_count": 141,
   "metadata": {},
   "outputs": [
    {
     "data": {
      "text/plain": [
       "' اللهم انت ربي لا اله الا انت خلقتني وانا عبدك وانا على عهدك ووعدك ما استطعت اعوذ بك من شر ماصنعت ابوء لك بنعمتك علي وابوء بذن…'"
      ]
     },
     "execution_count": 141,
     "metadata": {},
     "output_type": "execute_result"
    }
   ],
   "source": [
    "text[0]"
   ]
  },
  {
   "cell_type": "code",
   "execution_count": 142,
   "metadata": {},
   "outputs": [
    {
     "data": {
      "text/plain": [
       "[]"
      ]
     },
     "execution_count": 142,
     "metadata": {},
     "output_type": "execute_result"
    }
   ],
   "source": [
    "re.findall(r'#', text[0])"
   ]
  },
  {
   "cell_type": "markdown",
   "metadata": {},
   "source": [
    "### Removing Hashtags and Underscores \n",
    "\n",
    "Let's replace any hashtags and underscores with a space; in both the tweet_text and the hashtags columns. This way we keep the words of the hashtags (to go into our topic modelling) but remove the non-letter characters."
   ]
  },
  {
   "cell_type": "code",
   "execution_count": 143,
   "metadata": {},
   "outputs": [],
   "source": [
    "# define function to sub underscores and hashtags with space\n",
    "def remove_spaces_hashtags_underscores(tweet_text):\n",
    "    return re.sub(r'[_#]', \" \", tweet_text)"
   ]
  },
  {
   "cell_type": "code",
   "execution_count": 144,
   "metadata": {},
   "outputs": [],
   "source": [
    "# define funtion to clean each partition\n",
    "def clean_hashtags_underscores(df):\n",
    "    df.tweet_text = df.tweet_text.apply(remove_spaces_hashtags_underscores) #this works\n",
    "    \n",
    "    for index in range(0, len(df)): # almost there, just not working for entries with 1 hashtag\n",
    "        list_hashtags = df.hashtags.iloc[index]\n",
    "        if type(list_hashtags) == list:\n",
    "            for index in range (0, len(list_hashtags)):\n",
    "                list_hashtags[index] = re.sub(r'[_#]', \" \", list_hashtags[index])  \n",
    "        else:\n",
    "            pass \n",
    "    return df"
   ]
  },
  {
   "cell_type": "markdown",
   "metadata": {},
   "source": [
    "Let's test on a subset of ddf first."
   ]
  },
  {
   "cell_type": "code",
   "execution_count": 145,
   "metadata": {},
   "outputs": [],
   "source": [
    "df_temp = ddf.sample(frac=0.0001, random_state=1).compute()"
   ]
  },
  {
   "cell_type": "code",
   "execution_count": 146,
   "metadata": {},
   "outputs": [],
   "source": [
    "df_temp2 = df_temp.copy()"
   ]
  },
  {
   "cell_type": "code",
   "execution_count": 147,
   "metadata": {},
   "outputs": [
    {
     "data": {
      "text/plain": [
       "userid                                                     948302862098092034\n",
       "user_screen_name                                                       y_44a_\n",
       "follower_count                                                           9007\n",
       "following_count                                                          8821\n",
       "tweet_language                                                             ar\n",
       "tweet_text                   مجموعة #العناية_بالشعر منتجات تحتوي على #زبدة...\n",
       "tweet_time                                                2018-05-26 21:22:00\n",
       "tweet_client_name                                          Twitter for iPhone\n",
       "is_retweet                                                               True\n",
       "retweet_userid                                                            NaN\n",
       "retweet_tweetid                                         1000094797414256640.0\n",
       "retweet_user_screen_name                                         walayf_store\n",
       "hashtags                               [#العناية_بالشعر, #زبدة_الشيا, #الشيا]\n",
       "Name: 1000487400529891328, dtype: object"
      ]
     },
     "execution_count": 147,
     "metadata": {},
     "output_type": "execute_result"
    }
   ],
   "source": [
    "df_temp2.loc['1000487400529891328']"
   ]
  },
  {
   "cell_type": "code",
   "execution_count": 148,
   "metadata": {},
   "outputs": [
    {
     "data": {
      "text/html": [
       "<div>\n",
       "<style scoped>\n",
       "    .dataframe tbody tr th:only-of-type {\n",
       "        vertical-align: middle;\n",
       "    }\n",
       "\n",
       "    .dataframe tbody tr th {\n",
       "        vertical-align: top;\n",
       "    }\n",
       "\n",
       "    .dataframe thead th {\n",
       "        text-align: right;\n",
       "    }\n",
       "</style>\n",
       "<table border=\"1\" class=\"dataframe\">\n",
       "  <thead>\n",
       "    <tr style=\"text-align: right;\">\n",
       "      <th></th>\n",
       "      <th>userid</th>\n",
       "      <th>user_screen_name</th>\n",
       "      <th>follower_count</th>\n",
       "      <th>following_count</th>\n",
       "      <th>tweet_language</th>\n",
       "      <th>tweet_text</th>\n",
       "      <th>tweet_time</th>\n",
       "      <th>tweet_client_name</th>\n",
       "      <th>is_retweet</th>\n",
       "      <th>retweet_userid</th>\n",
       "      <th>retweet_tweetid</th>\n",
       "      <th>retweet_user_screen_name</th>\n",
       "      <th>hashtags</th>\n",
       "    </tr>\n",
       "    <tr>\n",
       "      <th>tweetid</th>\n",
       "      <th></th>\n",
       "      <th></th>\n",
       "      <th></th>\n",
       "      <th></th>\n",
       "      <th></th>\n",
       "      <th></th>\n",
       "      <th></th>\n",
       "      <th></th>\n",
       "      <th></th>\n",
       "      <th></th>\n",
       "      <th></th>\n",
       "      <th></th>\n",
       "      <th></th>\n",
       "    </tr>\n",
       "  </thead>\n",
       "  <tbody>\n",
       "    <tr>\n",
       "      <th>1000903312978382849</th>\n",
       "      <td>jYoFdFQ2nUXNFrsSSCpYPR9UYuaXFQrm9llfQihFw=</td>\n",
       "      <td>jYoFdFQ2nUXNFrsSSCpYPR9UYuaXFQrm9llfQihFw=</td>\n",
       "      <td>6</td>\n",
       "      <td>113</td>\n",
       "      <td>ar</td>\n",
       "      <td>اللهم أعذنا من عذاب القبر وعذاب جهنم</td>\n",
       "      <td>2018-05-28 00:55:00</td>\n",
       "      <td>تطبيق زاد المسلم</td>\n",
       "      <td>False</td>\n",
       "      <td>NaN</td>\n",
       "      <td>NaN</td>\n",
       "      <td>NaN</td>\n",
       "      <td>NaN</td>\n",
       "    </tr>\n",
       "    <tr>\n",
       "      <th>1001125595206561792</th>\n",
       "      <td>948302862098092034</td>\n",
       "      <td>y_44a_</td>\n",
       "      <td>9007</td>\n",
       "      <td>8821</td>\n",
       "      <td>ar</td>\n",
       "      <td>┊┊┊┊┊مبدع ┊┊┊┊مميز ┊┊┊مغرد ┊┊متألق       ...</td>\n",
       "      <td>2018-05-28 15:38:00</td>\n",
       "      <td>Twitter for iPhone</td>\n",
       "      <td>True</td>\n",
       "      <td>NaN</td>\n",
       "      <td>9.985276e+17</td>\n",
       "      <td>AhmedKthere</td>\n",
       "      <td>NaN</td>\n",
       "    </tr>\n",
       "    <tr>\n",
       "      <th>1001511046102822913</th>\n",
       "      <td>np1eOxdxZnVz8KR9WRdXAaxOCMVgkHZlqKMZpQKTq08=</td>\n",
       "      <td>np1eOxdxZnVz8KR9WRdXAaxOCMVgkHZlqKMZpQKTq08=</td>\n",
       "      <td>4607</td>\n",
       "      <td>4843</td>\n",
       "      <td>ar</td>\n",
       "      <td>البخاخ الالماني  دراجون مؤخر القذف من اول مره...</td>\n",
       "      <td>2018-05-29 17:10:00</td>\n",
       "      <td>Twitter for Android</td>\n",
       "      <td>True</td>\n",
       "      <td>NaN</td>\n",
       "      <td>1.001293e+18</td>\n",
       "      <td>n711614</td>\n",
       "      <td>[ دراجون]</td>\n",
       "    </tr>\n",
       "    <tr>\n",
       "      <th>1000487400529891328</th>\n",
       "      <td>948302862098092034</td>\n",
       "      <td>y_44a_</td>\n",
       "      <td>9007</td>\n",
       "      <td>8821</td>\n",
       "      <td>ar</td>\n",
       "      <td>مجموعة  العناية بالشعر منتجات تحتوي على  زبدة...</td>\n",
       "      <td>2018-05-26 21:22:00</td>\n",
       "      <td>Twitter for iPhone</td>\n",
       "      <td>True</td>\n",
       "      <td>NaN</td>\n",
       "      <td>1.000095e+18</td>\n",
       "      <td>walayf_store</td>\n",
       "      <td>[ العناية بالشعر,  زبدة الشيا,  الشيا]</td>\n",
       "    </tr>\n",
       "    <tr>\n",
       "      <th>1003478936196669445</th>\n",
       "      <td>988400378797535232</td>\n",
       "      <td>maram__2002</td>\n",
       "      <td>16937</td>\n",
       "      <td>16823</td>\n",
       "      <td>ar</td>\n",
       "      <td>غرفه نوم نفرين مكونه من سرير مترين مترين دولا...</td>\n",
       "      <td>2018-06-04 03:29:00</td>\n",
       "      <td>Twitter for iPhone</td>\n",
       "      <td>True</td>\n",
       "      <td>NaN</td>\n",
       "      <td>1.003440e+18</td>\n",
       "      <td>eqBx78DnHcWEwZB</td>\n",
       "      <td>NaN</td>\n",
       "    </tr>\n",
       "    <tr>\n",
       "      <th>...</th>\n",
       "      <td>...</td>\n",
       "      <td>...</td>\n",
       "      <td>...</td>\n",
       "      <td>...</td>\n",
       "      <td>...</td>\n",
       "      <td>...</td>\n",
       "      <td>...</td>\n",
       "      <td>...</td>\n",
       "      <td>...</td>\n",
       "      <td>...</td>\n",
       "      <td>...</td>\n",
       "      <td>...</td>\n",
       "      <td>...</td>\n",
       "    </tr>\n",
       "    <tr>\n",
       "      <th>996223861111840768</th>\n",
       "      <td>965336736145596416</td>\n",
       "      <td>E7tekam</td>\n",
       "      <td>7265</td>\n",
       "      <td>6855</td>\n",
       "      <td>und</td>\n",
       "      <td></td>\n",
       "      <td>2018-05-15 03:00:00</td>\n",
       "      <td>Twitter for iPhone</td>\n",
       "      <td>True</td>\n",
       "      <td>NaN</td>\n",
       "      <td>9.959373e+17</td>\n",
       "      <td>_ene_222</td>\n",
       "      <td>NaN</td>\n",
       "    </tr>\n",
       "    <tr>\n",
       "      <th>999390616315482112</th>\n",
       "      <td>XLCNthF4y5Q18iYqRrj7hStchSPp26kfx7ly0SPVt8=</td>\n",
       "      <td>XLCNthF4y5Q18iYqRrj7hStchSPp26kfx7ly0SPVt8=</td>\n",
       "      <td>2370</td>\n",
       "      <td>3492</td>\n",
       "      <td>ar</td>\n",
       "      <td>خاص بشهر رمضان المبارك  *العسل الأجود نوعاً ...</td>\n",
       "      <td>2018-05-23 20:44:00</td>\n",
       "      <td>Twitter for Android</td>\n",
       "      <td>True</td>\n",
       "      <td>NaN</td>\n",
       "      <td>9.993421e+17</td>\n",
       "      <td>honey3sl3</td>\n",
       "      <td>NaN</td>\n",
       "    </tr>\n",
       "    <tr>\n",
       "      <th>997887943556653058</th>\n",
       "      <td>np1eOxdxZnVz8KR9WRdXAaxOCMVgkHZlqKMZpQKTq08=</td>\n",
       "      <td>np1eOxdxZnVz8KR9WRdXAaxOCMVgkHZlqKMZpQKTq08=</td>\n",
       "      <td>4607</td>\n",
       "      <td>4843</td>\n",
       "      <td>ar</td>\n",
       "      <td>مناحل ناصر الغامدي    عروضشهر رمضان المبارك ...</td>\n",
       "      <td>2018-05-19 17:13:00</td>\n",
       "      <td>Twitter for iPhone</td>\n",
       "      <td>True</td>\n",
       "      <td>NaN</td>\n",
       "      <td>9.975331e+17</td>\n",
       "      <td>__VU__</td>\n",
       "      <td>[ مناحل ناصر الغامدي]</td>\n",
       "    </tr>\n",
       "    <tr>\n",
       "      <th>999342601986871296</th>\n",
       "      <td>XLCNthF4y5Q18iYqRrj7hStchSPp26kfx7ly0SPVt8=</td>\n",
       "      <td>XLCNthF4y5Q18iYqRrj7hStchSPp26kfx7ly0SPVt8=</td>\n",
       "      <td>2370</td>\n",
       "      <td>3492</td>\n",
       "      <td>ar</td>\n",
       "      <td>البخاخ الألماني دراجون مؤخر القذف من اول مرة ...</td>\n",
       "      <td>2018-05-23 17:33:00</td>\n",
       "      <td>Twitter for iPhone</td>\n",
       "      <td>True</td>\n",
       "      <td>NaN</td>\n",
       "      <td>9.990875e+17</td>\n",
       "      <td>Pharmacist4207</td>\n",
       "      <td>NaN</td>\n",
       "    </tr>\n",
       "    <tr>\n",
       "      <th>997193046205845505</th>\n",
       "      <td>RNxhB3jcAeaXNSeYqQZcIOlhd7UjHV9ADHkZi2owU=</td>\n",
       "      <td>RNxhB3jcAeaXNSeYqQZcIOlhd7UjHV9ADHkZi2owU=</td>\n",
       "      <td>4962</td>\n",
       "      <td>4547</td>\n",
       "      <td>ar</td>\n",
       "      <td>البنك الأهلي   آمن و فعال100% يعمل على تقوية...</td>\n",
       "      <td>2018-05-17 19:12:00</td>\n",
       "      <td>Twitter for iPhone</td>\n",
       "      <td>True</td>\n",
       "      <td>NaN</td>\n",
       "      <td>9.968573e+17</td>\n",
       "      <td>drhal6</td>\n",
       "      <td>[ البنك الأهلي]</td>\n",
       "    </tr>\n",
       "  </tbody>\n",
       "</table>\n",
       "<p>3596 rows × 13 columns</p>\n",
       "</div>"
      ],
      "text/plain": [
       "                                                           userid  \\\n",
       "tweetid                                                             \n",
       "1000903312978382849    jYoFdFQ2nUXNFrsSSCpYPR9UYuaXFQrm9llfQihFw=   \n",
       "1001125595206561792                            948302862098092034   \n",
       "1001511046102822913  np1eOxdxZnVz8KR9WRdXAaxOCMVgkHZlqKMZpQKTq08=   \n",
       "1000487400529891328                            948302862098092034   \n",
       "1003478936196669445                            988400378797535232   \n",
       "...                                                           ...   \n",
       "996223861111840768                             965336736145596416   \n",
       "999390616315482112    XLCNthF4y5Q18iYqRrj7hStchSPp26kfx7ly0SPVt8=   \n",
       "997887943556653058   np1eOxdxZnVz8KR9WRdXAaxOCMVgkHZlqKMZpQKTq08=   \n",
       "999342601986871296    XLCNthF4y5Q18iYqRrj7hStchSPp26kfx7ly0SPVt8=   \n",
       "997193046205845505     RNxhB3jcAeaXNSeYqQZcIOlhd7UjHV9ADHkZi2owU=   \n",
       "\n",
       "                                                 user_screen_name  \\\n",
       "tweetid                                                             \n",
       "1000903312978382849    jYoFdFQ2nUXNFrsSSCpYPR9UYuaXFQrm9llfQihFw=   \n",
       "1001125595206561792                                        y_44a_   \n",
       "1001511046102822913  np1eOxdxZnVz8KR9WRdXAaxOCMVgkHZlqKMZpQKTq08=   \n",
       "1000487400529891328                                        y_44a_   \n",
       "1003478936196669445                                   maram__2002   \n",
       "...                                                           ...   \n",
       "996223861111840768                                        E7tekam   \n",
       "999390616315482112    XLCNthF4y5Q18iYqRrj7hStchSPp26kfx7ly0SPVt8=   \n",
       "997887943556653058   np1eOxdxZnVz8KR9WRdXAaxOCMVgkHZlqKMZpQKTq08=   \n",
       "999342601986871296    XLCNthF4y5Q18iYqRrj7hStchSPp26kfx7ly0SPVt8=   \n",
       "997193046205845505     RNxhB3jcAeaXNSeYqQZcIOlhd7UjHV9ADHkZi2owU=   \n",
       "\n",
       "                     follower_count  following_count tweet_language  \\\n",
       "tweetid                                                               \n",
       "1000903312978382849               6              113             ar   \n",
       "1001125595206561792            9007             8821             ar   \n",
       "1001511046102822913            4607             4843             ar   \n",
       "1000487400529891328            9007             8821             ar   \n",
       "1003478936196669445           16937            16823             ar   \n",
       "...                             ...              ...            ...   \n",
       "996223861111840768             7265             6855            und   \n",
       "999390616315482112             2370             3492             ar   \n",
       "997887943556653058             4607             4843             ar   \n",
       "999342601986871296             2370             3492             ar   \n",
       "997193046205845505             4962             4547             ar   \n",
       "\n",
       "                                                            tweet_text  \\\n",
       "tweetid                                                                  \n",
       "1000903312978382849             اللهم أعذنا من عذاب القبر وعذاب جهنم     \n",
       "1001125595206561792       ┊┊┊┊┊مبدع ┊┊┊┊مميز ┊┊┊مغرد ┊┊متألق       ...   \n",
       "1001511046102822913   البخاخ الالماني  دراجون مؤخر القذف من اول مره...   \n",
       "1000487400529891328   مجموعة  العناية بالشعر منتجات تحتوي على  زبدة...   \n",
       "1003478936196669445   غرفه نوم نفرين مكونه من سرير مترين مترين دولا...   \n",
       "...                                                                ...   \n",
       "996223861111840768                                                       \n",
       "999390616315482112     خاص بشهر رمضان المبارك  *العسل الأجود نوعاً ...   \n",
       "997887943556653058     مناحل ناصر الغامدي    عروضشهر رمضان المبارك ...   \n",
       "999342601986871296    البخاخ الألماني دراجون مؤخر القذف من اول مرة ...   \n",
       "997193046205845505     البنك الأهلي   آمن و فعال100% يعمل على تقوية...   \n",
       "\n",
       "                             tweet_time    tweet_client_name  is_retweet  \\\n",
       "tweetid                                                                    \n",
       "1000903312978382849 2018-05-28 00:55:00   تطبيق زاد المسلم         False   \n",
       "1001125595206561792 2018-05-28 15:38:00   Twitter for iPhone        True   \n",
       "1001511046102822913 2018-05-29 17:10:00  Twitter for Android        True   \n",
       "1000487400529891328 2018-05-26 21:22:00   Twitter for iPhone        True   \n",
       "1003478936196669445 2018-06-04 03:29:00   Twitter for iPhone        True   \n",
       "...                                 ...                  ...         ...   \n",
       "996223861111840768  2018-05-15 03:00:00   Twitter for iPhone        True   \n",
       "999390616315482112  2018-05-23 20:44:00  Twitter for Android        True   \n",
       "997887943556653058  2018-05-19 17:13:00   Twitter for iPhone        True   \n",
       "999342601986871296  2018-05-23 17:33:00   Twitter for iPhone        True   \n",
       "997193046205845505  2018-05-17 19:12:00   Twitter for iPhone        True   \n",
       "\n",
       "                    retweet_userid  retweet_tweetid retweet_user_screen_name  \\\n",
       "tweetid                                                                        \n",
       "1000903312978382849            NaN              NaN                      NaN   \n",
       "1001125595206561792            NaN     9.985276e+17              AhmedKthere   \n",
       "1001511046102822913            NaN     1.001293e+18                  n711614   \n",
       "1000487400529891328            NaN     1.000095e+18             walayf_store   \n",
       "1003478936196669445            NaN     1.003440e+18          eqBx78DnHcWEwZB   \n",
       "...                            ...              ...                      ...   \n",
       "996223861111840768             NaN     9.959373e+17                 _ene_222   \n",
       "999390616315482112             NaN     9.993421e+17                honey3sl3   \n",
       "997887943556653058             NaN     9.975331e+17                   __VU__   \n",
       "999342601986871296             NaN     9.990875e+17           Pharmacist4207   \n",
       "997193046205845505             NaN     9.968573e+17                   drhal6   \n",
       "\n",
       "                                                   hashtags  \n",
       "tweetid                                                      \n",
       "1000903312978382849                                     NaN  \n",
       "1001125595206561792                                     NaN  \n",
       "1001511046102822913                               [ دراجون]  \n",
       "1000487400529891328  [ العناية بالشعر,  زبدة الشيا,  الشيا]  \n",
       "1003478936196669445                                     NaN  \n",
       "...                                                     ...  \n",
       "996223861111840768                                      NaN  \n",
       "999390616315482112                                      NaN  \n",
       "997887943556653058                    [ مناحل ناصر الغامدي]  \n",
       "999342601986871296                                      NaN  \n",
       "997193046205845505                          [ البنك الأهلي]  \n",
       "\n",
       "[3596 rows x 13 columns]"
      ]
     },
     "execution_count": 148,
     "metadata": {},
     "output_type": "execute_result"
    }
   ],
   "source": [
    "clean_hashtags_underscores(df_temp2)"
   ]
  },
  {
   "cell_type": "markdown",
   "metadata": {},
   "source": [
    "OK, this works. Let's map to our ddf partitions:"
   ]
  },
  {
   "cell_type": "code",
   "execution_count": 149,
   "metadata": {},
   "outputs": [],
   "source": [
    "ddf = ddf.map_partitions(clean_hashtags_underscores).persist()"
   ]
  },
  {
   "cell_type": "code",
   "execution_count": 150,
   "metadata": {},
   "outputs": [
    {
     "data": {
      "text/plain": [
       "tweetid\n",
       "1000000000447930368                                                  NaN\n",
       "1000000030391095297    [ للتأجير,  لبيع النطيطات,  زحاليق مائيه صابون...\n",
       "1000000039362662400    [ مظلات,  آفاق الرياض,  مظلات استراحات,  مظلات...\n",
       "1000000054911033344                                                  NaN\n",
       "1000000204865789954                                                  NaN\n",
       "1000000215598891008    [ تخفيضات,  دانة المسك للعود,  الرياض,  الدائر...\n",
       "1000000242165714944               [ سرطان الثدي,  سرطان البنكرياس,  سر…]\n",
       "1000000262315094022                                 [ مع السفرة,  حلقا…]\n",
       "1000000271492288512                                        [ تسديد قروض]\n",
       "1000000325586169856                                                  NaN\n",
       "Name: hashtags, dtype: object"
      ]
     },
     "execution_count": 150,
     "metadata": {},
     "output_type": "execute_result"
    }
   ],
   "source": [
    "ddf.partitions[0].hashtags.head(10)"
   ]
  },
  {
   "cell_type": "markdown",
   "metadata": {},
   "source": [
    "Done."
   ]
  },
  {
   "cell_type": "markdown",
   "metadata": {},
   "source": [
    "## Final Cleaning Tweet_Text Column\n",
    "\n",
    "We still have to clean:\n",
    "- numbers (phone numbers? dates? other numbers)\n",
    "- some non-character icons\n",
    "- some random latin characters\n",
    "\n",
    "We could also try removing any non-arabic text. \n",
    "> re.sub(r'[a-zA-Z?]', '', my_string)\n",
    "\n",
    "Let's try that on a subset of ddf first."
   ]
  },
  {
   "cell_type": "code",
   "execution_count": 151,
   "metadata": {},
   "outputs": [],
   "source": [
    "df_temp2 = df_temp.copy()"
   ]
  },
  {
   "cell_type": "code",
   "execution_count": 152,
   "metadata": {},
   "outputs": [
    {
     "data": {
      "text/plain": [
       "tweetid\n",
       "1200085289596665857     #دورة_تدريب_المدربين #إعداد_المدرب_المعتمد   ...\n",
       "1156539373506183168     شركة تنظيف وصيانة مكيفات بالرياض #شركة_تنظيف_...\n",
       "963332110969950209          جودة تستحق الثقة  للتواصل وتس اب ٠٥٥١٣٢٩٧٠٨ \n",
       "1116012515446743040     ساعة اوديمار رجالي H  التوصيل خلال ساعه الريا...\n",
       "730189399611351040       رادو ستيل رجالي درجه اولى هاي كواليتي ضمان س...\n",
       "1144296492523491328     خلوا فوانيس الفرح تنور ظلام الدروب تنور بنور ...\n",
       "869651238178181121               #تحفيظ_وادي_ليه«سورة النساء، الآية 36».\n",
       "825742918577225728                سبحان ألله من شدة خشوعهم تظن أنهاصوره \n",
       "1074171206960644096     #تسديد_قروض جميع البنوك  و المناطق سرعه الانج...\n",
       "1155147913263222784     اكذب عليك وادري انا ولهان يا منيتي ويأسي اكذب...\n",
       "1201969385331658755     ساعة بولغاري ثعبان  التوصيل خلال ساعه الرياض ...\n",
       "930302936567205888      عسل سدر اصلي والله على ماقول شهيد طبيعي ١٠٠٪ ...\n",
       "831620016072122368      نرفض إيقاف إدارة تويتر   إيقاف هذا الحساب  فض...\n",
       "1194297035580592128     يا طير | ياللي فوق غصن الألم نحت نوحك أليم . ...\n",
       "1119613075081113601     ساعة رولكس رجالي b  التوصيل خلال ساعة داخل ال...\n",
       "Name: tweet_text, dtype: object"
      ]
     },
     "execution_count": 152,
     "metadata": {},
     "output_type": "execute_result"
    }
   ],
   "source": [
    "df_temp2.tweet_text.sample(15, random_state=2)"
   ]
  },
  {
   "cell_type": "markdown",
   "metadata": {},
   "source": [
    "We're using a regex pattern found in [this SO thread](https://stackoverflow.com/questions/11323596/regular-expression-for-arabic-language) to eliminate all non-Arabic characters from the tweet_text bodies."
   ]
  },
  {
   "cell_type": "code",
   "execution_count": 153,
   "metadata": {},
   "outputs": [],
   "source": [
    "pattern_notArabic = r'[^\\u0620-\\u065f]+'"
   ]
  },
  {
   "cell_type": "code",
   "execution_count": 154,
   "metadata": {},
   "outputs": [],
   "source": [
    "def remove_nonArabic_characters(tweet_text):\n",
    "    try:\n",
    "        t = re.sub(pattern_notArabic, ' ', tweet_text)\n",
    "        return t\n",
    "    except:\n",
    "        pass\n"
   ]
  },
  {
   "cell_type": "code",
   "execution_count": 155,
   "metadata": {},
   "outputs": [],
   "source": [
    "def tweet_text_finalsweep(df):\n",
    "    df.tweet_text = df.tweet_text.apply(remove_nonArabic_characters)\n",
    "    return df"
   ]
  },
  {
   "cell_type": "code",
   "execution_count": 156,
   "metadata": {},
   "outputs": [],
   "source": [
    "# remove all non-Arabic characters\n",
    "df_temp2.tweet_text = df_temp2.tweet_text.apply(remove_nonArabic_characters)"
   ]
  },
  {
   "cell_type": "code",
   "execution_count": 157,
   "metadata": {},
   "outputs": [
    {
     "data": {
      "text/plain": [
       "tweetid\n",
       "1200085289596665857     دورة تدريب المدربين إعداد المدرب المعتمد الري...\n",
       "1156539373506183168     شركة تنظيف وصيانة مكيفات بالرياض شركة تنظيف ب...\n",
       "963332110969950209                      جودة تستحق الثقة للتواصل وتس اب \n",
       "1116012515446743040     ساعة اوديمار رجالي التوصيل خلال ساعه الرياض خ...\n",
       "730189399611351040      رادو ستيل رجالي درجه اولى هاي كواليتي ضمان سن...\n",
       "1144296492523491328     خلوا فوانيس الفرح تنور ظلام الدروب تنور بنور ...\n",
       "869651238178181121                     تحفيظ وادي ليه سورة النساء الآية \n",
       "825742918577225728                سبحان ألله من شدة خشوعهم تظن أنهاصوره \n",
       "1074171206960644096     تسديد قروض جميع البنوك و المناطق سرعه الانجاز...\n",
       "1155147913263222784     اكذب عليك وادري انا ولهان يا منيتي ويأسي اكذب...\n",
       "1201969385331658755     ساعة بولغاري ثعبان التوصيل خلال ساعه الرياض خ...\n",
       "930302936567205888      عسل سدر اصلي والله على ماقول شهيد طبيعي اسعار...\n",
       "831620016072122368      نرفض إيقاف إدارة تويتر إيقاف هذا الحساب فضلا ...\n",
       "1194297035580592128     يا طير ياللي فوق غصن الألم نحت نوحك أليم و لي...\n",
       "1119613075081113601     ساعة رولكس رجالي التوصيل خلال ساعة داخل الريا...\n",
       "Name: tweet_text, dtype: object"
      ]
     },
     "execution_count": 157,
     "metadata": {},
     "output_type": "execute_result"
    }
   ],
   "source": [
    "df_temp2.tweet_text.sample(15, random_state=2)"
   ]
  },
  {
   "cell_type": "code",
   "execution_count": 158,
   "metadata": {},
   "outputs": [
    {
     "data": {
      "text/plain": [
       "tweetid\n",
       "1188105444310618113           اشترك بقناة حب القرآن يجمعنا على التلغرام \n",
       "1118936327662329856     شكرا لاعبي الهلال على اجتهادكم في محاولة إسعا...\n",
       "1145860636892524544     حنيذ جنوبي بالمرخ للطلبات والحجز الاتصال على ...\n",
       "1052201306381795328     لا مقاومة لا ثبات أمام و لا قوة تُصيبني رجفة ...\n",
       "1110942186294706176     عرض بمناسبة هطول الأمطار ووفرت العسل عسل السد...\n",
       "1118645526432485376     تسديد قروض عملاءجميع البنوك لمن يرغب سدادقرضه...\n",
       "1074588194715389952     وفاه المشجع الاهلاوي لاشك ان وفاةالمشجع هو قض...\n",
       "896697344040816640      زيت الحشيش الاصلي الخام ينبت الدقن والشنب ويك...\n",
       "1153929698919014400     بلد عربي يتصدر إليكم أكثر شعوب العالم حصولا ع...\n",
       "540573033337851904      محتاج دخل اضافي الان سجل وتدرب واستثمر بدورات...\n",
       "976181168965079041      ساعة رولكس اتوماتيك ساعات الزمرد التوصيل خلال...\n",
       "1063136456389025792    فلم سكس لبوه وخال شذوذ دياثه نهود تفريش اغتصاب...\n",
       "582118001366839296      لأنه لا يوجد بلاء أكبر من الإنتكاس بعد الطريق...\n",
       "1219454684810895360                                                     \n",
       "1194965997247254530                     آخر الأخبار من برنامج الديوانيه \n",
       "Name: tweet_text, dtype: object"
      ]
     },
     "execution_count": 158,
     "metadata": {},
     "output_type": "execute_result"
    }
   ],
   "source": [
    "df_temp2.tweet_text.sample(15, random_state=14)"
   ]
  },
  {
   "cell_type": "code",
   "execution_count": 159,
   "metadata": {},
   "outputs": [
    {
     "data": {
      "text/plain": [
       "tweetid\n",
       "933325943472607233      رولكس رجالي فضي استيل توصيل داخل الرياض بنفس ...\n",
       "1192255882450653186     الشخص الذي علمني الحب هو نفس الشخص الذي علمني...\n",
       "857166576872763392      ميز نفسك بامتلاك فيلا فى اوروبا اطلالة رائعة ...\n",
       "683005182645518336      أيها الحظ السعيد مٓ لونك المفضل لكي أرتديه لد...\n",
       "885626549491445760      تنتحر طب والأفاتار اللي انا حاطه ده يقولوا عل...\n",
       "1184007104132190208                         معايا طفحه وطفش ونفسي اجاكر \n",
       "963886713096605696      حفيدات الفاروق يعيش مجهول الهوية داخل المؤسسا...\n",
       "572018156413313024      ذلك بأن الله نزل الكتاب بالحق وإن الذين اختلف...\n",
       "859256247006134272      هاتريك دوري هلالي تسديد القروض الاهلي لسداد ق...\n",
       "853974441780551681      عرض لنهاية اليوم فقط مفرش سرير نفرين قطعه راق...\n",
       "1107229061477265409     الوفاء للدعم تعجز الحروف عن صياغة عبارات الشك...\n",
       "1133349034347778048     يكتمل تنسيق حفلتك مع تاجي الهندي الرياض للاست...\n",
       "917666594028949506                                              تم ومقدم\n",
       "1164634073471389696     وتلك الأيام نداولها بين الناس هذه سنّة الله و...\n",
       "919618392490954753      فداك قلبي رسول الله الا بذكر الله تطمئن القلو...\n",
       "Name: tweet_text, dtype: object"
      ]
     },
     "execution_count": 159,
     "metadata": {},
     "output_type": "execute_result"
    }
   ],
   "source": [
    "df_temp2.tweet_text.sample(15, random_state=29)"
   ]
  },
  {
   "cell_type": "markdown",
   "metadata": {},
   "source": [
    "Done, now let's apply to ddf:"
   ]
  },
  {
   "cell_type": "code",
   "execution_count": 160,
   "metadata": {},
   "outputs": [],
   "source": [
    "ddf = ddf.map_partitions(tweet_text_finalsweep).persist()"
   ]
  },
  {
   "cell_type": "code",
   "execution_count": 161,
   "metadata": {},
   "outputs": [
    {
     "data": {
      "text/plain": [
       "tweetid\n",
       "1000858610753327104      دعاء الجلسة بين السجدتين رب اغفر لي رب اغفر لي \n",
       "1000646766260256768     شركة تنظيف منازل بالسليمانيه شركه غسيل خزانات...\n",
       "1000542120820822016     عيونك أجمل وأحلي بدون نظارة طبية مع تصحيح الن...\n",
       "1000296152816865281     حساب مهتم بالسياحه بالمملكه و خاصه ابها وظايف...\n",
       "1001182832788729857     العيد مابقى عليه الا اقل من شهر مو متحمسه تطل...\n",
       "1000170398829498368     كفرات لويس فيتون ماركة وجودة عاليه جدا لجميع ...\n",
       "1000896205193469957     مهما حصلك في حياتك خليك دايما واثق ان ربنا شا...\n",
       "1000929696480223232     لدينا طاقم من أفضل الفنيين والمعدات في خدمتكم...\n",
       "1000214068442132482    اللهم إني أسألك علماً نافعاً ورزقاً طيباً وعمل...\n",
       "1000972633847058432     الدعاء لجنودنا في شهر رمضان شركة تنظيف قصور ش...\n",
       "Name: tweet_text, dtype: object"
      ]
     },
     "execution_count": 161,
     "metadata": {},
     "output_type": "execute_result"
    }
   ],
   "source": [
    "ddf.tweet_text.sample(frac=0.001, random_state=7).head(10)"
   ]
  },
  {
   "cell_type": "markdown",
   "metadata": {},
   "source": [
    "# INTERMEDIATE PARQUET SAVE"
   ]
  },
  {
   "cell_type": "code",
   "execution_count": 162,
   "metadata": {},
   "outputs": [],
   "source": [
    "ddf.to_parquet('s3://twitter-saudi-us-east-2/interim/ddf_clean_with_empty_tweet_text_rows.parquet',\n",
    "               engine='pyarrow')"
   ]
  },
  {
   "cell_type": "markdown",
   "metadata": {},
   "source": [
    "Done. Saved to parquet. YAY!"
   ]
  },
  {
   "cell_type": "markdown",
   "metadata": {},
   "source": [
    "## Drop Rows with Empty Tweet_Text Columns\n",
    "\n",
    "We have removed all:\n",
    "- emojis\n",
    "- mentions\n",
    "- URLs\n",
    "- hashtags\n",
    "- digits\n",
    "- non-Arabic characters\n",
    "\n",
    "We can now proceed to drop any rows that have an empty tweet_text column. These should be the entries that have tweet_language = 'undefined' and that only contained emoji's, mentions and/or URLs.\n",
    "\n",
    "These entries will contain only spaces (rather than totally empty strings). Let's write a regex pattern that will allow us to match any entries containing of only 0 or more spaces."
   ]
  },
  {
   "cell_type": "code",
   "execution_count": 163,
   "metadata": {},
   "outputs": [],
   "source": [
    "pattern_whitespaces = r'^\\s*$'"
   ]
  },
  {
   "cell_type": "code",
   "execution_count": 164,
   "metadata": {},
   "outputs": [],
   "source": [
    "# test on first partition\n",
    "df_0 = ddf.partitions[1].compute()"
   ]
  },
  {
   "cell_type": "code",
   "execution_count": 165,
   "metadata": {},
   "outputs": [
    {
     "data": {
      "text/plain": [
       "0"
      ]
     },
     "execution_count": 165,
     "metadata": {},
     "output_type": "execute_result"
    }
   ],
   "source": [
    "df_0.tweet_text.isnull().sum()"
   ]
  },
  {
   "cell_type": "code",
   "execution_count": 172,
   "metadata": {
    "scrolled": true
   },
   "outputs": [
    {
     "data": {
      "text/html": [
       "<div>\n",
       "<style scoped>\n",
       "    .dataframe tbody tr th:only-of-type {\n",
       "        vertical-align: middle;\n",
       "    }\n",
       "\n",
       "    .dataframe tbody tr th {\n",
       "        vertical-align: top;\n",
       "    }\n",
       "\n",
       "    .dataframe thead th {\n",
       "        text-align: right;\n",
       "    }\n",
       "</style>\n",
       "<table border=\"1\" class=\"dataframe\">\n",
       "  <thead>\n",
       "    <tr style=\"text-align: right;\">\n",
       "      <th></th>\n",
       "      <th>userid</th>\n",
       "      <th>user_screen_name</th>\n",
       "      <th>follower_count</th>\n",
       "      <th>following_count</th>\n",
       "      <th>tweet_language</th>\n",
       "      <th>tweet_text</th>\n",
       "      <th>tweet_time</th>\n",
       "      <th>tweet_client_name</th>\n",
       "      <th>is_retweet</th>\n",
       "      <th>retweet_userid</th>\n",
       "      <th>retweet_tweetid</th>\n",
       "      <th>retweet_user_screen_name</th>\n",
       "      <th>hashtags</th>\n",
       "    </tr>\n",
       "    <tr>\n",
       "      <th>tweetid</th>\n",
       "      <th></th>\n",
       "      <th></th>\n",
       "      <th></th>\n",
       "      <th></th>\n",
       "      <th></th>\n",
       "      <th></th>\n",
       "      <th></th>\n",
       "      <th></th>\n",
       "      <th></th>\n",
       "      <th></th>\n",
       "      <th></th>\n",
       "      <th></th>\n",
       "      <th></th>\n",
       "    </tr>\n",
       "  </thead>\n",
       "  <tbody>\n",
       "    <tr>\n",
       "      <th>1001597814097567745</th>\n",
       "      <td>988400378797535232</td>\n",
       "      <td>maram__2002</td>\n",
       "      <td>16937</td>\n",
       "      <td>16823</td>\n",
       "      <td>und</td>\n",
       "      <td></td>\n",
       "      <td>2018-05-29 22:55:00</td>\n",
       "      <td>Twitter for iPhone</td>\n",
       "      <td>True</td>\n",
       "      <td>NaN</td>\n",
       "      <td>9.971469e+17</td>\n",
       "      <td>badre72</td>\n",
       "      <td>NaN</td>\n",
       "    </tr>\n",
       "    <tr>\n",
       "      <th>1001599017569193984</th>\n",
       "      <td>kpeiRc5FjzPFD6lb5jNnUMi9wNYGNh2U3cjP6JEj3I=</td>\n",
       "      <td>kpeiRc5FjzPFD6lb5jNnUMi9wNYGNh2U3cjP6JEj3I=</td>\n",
       "      <td>1777</td>\n",
       "      <td>765</td>\n",
       "      <td>und</td>\n",
       "      <td></td>\n",
       "      <td>2018-05-29 22:59:00</td>\n",
       "      <td>Twitter for iPhone</td>\n",
       "      <td>False</td>\n",
       "      <td>NaN</td>\n",
       "      <td>NaN</td>\n",
       "      <td>NaN</td>\n",
       "      <td>NaN</td>\n",
       "    </tr>\n",
       "    <tr>\n",
       "      <th>1001599162415280134</th>\n",
       "      <td>kpeiRc5FjzPFD6lb5jNnUMi9wNYGNh2U3cjP6JEj3I=</td>\n",
       "      <td>kpeiRc5FjzPFD6lb5jNnUMi9wNYGNh2U3cjP6JEj3I=</td>\n",
       "      <td>1777</td>\n",
       "      <td>765</td>\n",
       "      <td>und</td>\n",
       "      <td></td>\n",
       "      <td>2018-05-29 23:00:00</td>\n",
       "      <td>Twitter for iPhone</td>\n",
       "      <td>False</td>\n",
       "      <td>NaN</td>\n",
       "      <td>NaN</td>\n",
       "      <td>NaN</td>\n",
       "      <td>NaN</td>\n",
       "    </tr>\n",
       "    <tr>\n",
       "      <th>1001600008381222912</th>\n",
       "      <td>N7vyR3Dc33h4hsFz7AN8UsMWS9KFrO6+xwoaY2PCEnE=</td>\n",
       "      <td>N7vyR3Dc33h4hsFz7AN8UsMWS9KFrO6+xwoaY2PCEnE=</td>\n",
       "      <td>77</td>\n",
       "      <td>663</td>\n",
       "      <td>und</td>\n",
       "      <td></td>\n",
       "      <td>2018-05-29 23:03:00</td>\n",
       "      <td>Twitter for iPhone</td>\n",
       "      <td>False</td>\n",
       "      <td>NaN</td>\n",
       "      <td>NaN</td>\n",
       "      <td>NaN</td>\n",
       "      <td>NaN</td>\n",
       "    </tr>\n",
       "    <tr>\n",
       "      <th>1001600512259698688</th>\n",
       "      <td>OjC1wjnPAgRjJBgqeQHJL+OLlbzy0OdfKtWW0FVX4q0=</td>\n",
       "      <td>OjC1wjnPAgRjJBgqeQHJL+OLlbzy0OdfKtWW0FVX4q0=</td>\n",
       "      <td>3526</td>\n",
       "      <td>4287</td>\n",
       "      <td>und</td>\n",
       "      <td></td>\n",
       "      <td>2018-05-29 23:05:00</td>\n",
       "      <td>Twitter for iPhone</td>\n",
       "      <td>True</td>\n",
       "      <td>NaN</td>\n",
       "      <td>1.001586e+18</td>\n",
       "      <td>othmanalkamees</td>\n",
       "      <td>NaN</td>\n",
       "    </tr>\n",
       "    <tr>\n",
       "      <th>...</th>\n",
       "      <td>...</td>\n",
       "      <td>...</td>\n",
       "      <td>...</td>\n",
       "      <td>...</td>\n",
       "      <td>...</td>\n",
       "      <td>...</td>\n",
       "      <td>...</td>\n",
       "      <td>...</td>\n",
       "      <td>...</td>\n",
       "      <td>...</td>\n",
       "      <td>...</td>\n",
       "      <td>...</td>\n",
       "      <td>...</td>\n",
       "    </tr>\n",
       "    <tr>\n",
       "      <th>1005221654384037889</th>\n",
       "      <td>bRCq+oLPXjvibAUJ+wGti7gWCgJthbTDL7dFyTaYD0=</td>\n",
       "      <td>bRCq+oLPXjvibAUJ+wGti7gWCgJthbTDL7dFyTaYD0=</td>\n",
       "      <td>909</td>\n",
       "      <td>328</td>\n",
       "      <td>und</td>\n",
       "      <td></td>\n",
       "      <td>2018-06-08 22:54:00</td>\n",
       "      <td>Twitter for iPhone</td>\n",
       "      <td>True</td>\n",
       "      <td>NaN</td>\n",
       "      <td>1.005210e+18</td>\n",
       "      <td>denizinmaviisi</td>\n",
       "      <td>NaN</td>\n",
       "    </tr>\n",
       "    <tr>\n",
       "      <th>1005221789012844544</th>\n",
       "      <td>xRg5JwEgzE+RkpXA6EUs287pbqiWr5un1dbShr+5Og=</td>\n",
       "      <td>xRg5JwEgzE+RkpXA6EUs287pbqiWr5un1dbShr+5Og=</td>\n",
       "      <td>843</td>\n",
       "      <td>143</td>\n",
       "      <td>und</td>\n",
       "      <td></td>\n",
       "      <td>2018-06-08 22:55:00</td>\n",
       "      <td>Twitter for Android</td>\n",
       "      <td>True</td>\n",
       "      <td>NaN</td>\n",
       "      <td>1.005216e+18</td>\n",
       "      <td>PicturesFoIder</td>\n",
       "      <td>NaN</td>\n",
       "    </tr>\n",
       "    <tr>\n",
       "      <th>1005223208939868160</th>\n",
       "      <td>RNxhB3jcAeaXNSeYqQZcIOlhd7UjHV9ADHkZi2owU=</td>\n",
       "      <td>RNxhB3jcAeaXNSeYqQZcIOlhd7UjHV9ADHkZi2owU=</td>\n",
       "      <td>4962</td>\n",
       "      <td>4547</td>\n",
       "      <td>und</td>\n",
       "      <td></td>\n",
       "      <td>2018-06-08 23:01:00</td>\n",
       "      <td>Twitter for iPhone</td>\n",
       "      <td>True</td>\n",
       "      <td>NaN</td>\n",
       "      <td>1.002711e+18</td>\n",
       "      <td>8ClXQPVKpTEB264</td>\n",
       "      <td>NaN</td>\n",
       "    </tr>\n",
       "    <tr>\n",
       "      <th>1005231348498489344</th>\n",
       "      <td>2904198326</td>\n",
       "      <td>m7m_aq</td>\n",
       "      <td>42835</td>\n",
       "      <td>42860</td>\n",
       "      <td>und</td>\n",
       "      <td></td>\n",
       "      <td>2018-06-08 23:33:00</td>\n",
       "      <td>erased9353731</td>\n",
       "      <td>False</td>\n",
       "      <td>NaN</td>\n",
       "      <td>NaN</td>\n",
       "      <td>NaN</td>\n",
       "      <td>NaN</td>\n",
       "    </tr>\n",
       "    <tr>\n",
       "      <th>1005234525197230082</th>\n",
       "      <td>kpeiRc5FjzPFD6lb5jNnUMi9wNYGNh2U3cjP6JEj3I=</td>\n",
       "      <td>kpeiRc5FjzPFD6lb5jNnUMi9wNYGNh2U3cjP6JEj3I=</td>\n",
       "      <td>1777</td>\n",
       "      <td>765</td>\n",
       "      <td>und</td>\n",
       "      <td></td>\n",
       "      <td>2018-06-08 23:46:00</td>\n",
       "      <td>Twitter for iPhone</td>\n",
       "      <td>False</td>\n",
       "      <td>NaN</td>\n",
       "      <td>NaN</td>\n",
       "      <td>NaN</td>\n",
       "      <td>NaN</td>\n",
       "    </tr>\n",
       "  </tbody>\n",
       "</table>\n",
       "<p>1363 rows × 13 columns</p>\n",
       "</div>"
      ],
      "text/plain": [
       "                                                           userid  \\\n",
       "tweetid                                                             \n",
       "1001597814097567745                            988400378797535232   \n",
       "1001599017569193984   kpeiRc5FjzPFD6lb5jNnUMi9wNYGNh2U3cjP6JEj3I=   \n",
       "1001599162415280134   kpeiRc5FjzPFD6lb5jNnUMi9wNYGNh2U3cjP6JEj3I=   \n",
       "1001600008381222912  N7vyR3Dc33h4hsFz7AN8UsMWS9KFrO6+xwoaY2PCEnE=   \n",
       "1001600512259698688  OjC1wjnPAgRjJBgqeQHJL+OLlbzy0OdfKtWW0FVX4q0=   \n",
       "...                                                           ...   \n",
       "1005221654384037889   bRCq+oLPXjvibAUJ+wGti7gWCgJthbTDL7dFyTaYD0=   \n",
       "1005221789012844544   xRg5JwEgzE+RkpXA6EUs287pbqiWr5un1dbShr+5Og=   \n",
       "1005223208939868160    RNxhB3jcAeaXNSeYqQZcIOlhd7UjHV9ADHkZi2owU=   \n",
       "1005231348498489344                                    2904198326   \n",
       "1005234525197230082   kpeiRc5FjzPFD6lb5jNnUMi9wNYGNh2U3cjP6JEj3I=   \n",
       "\n",
       "                                                 user_screen_name  \\\n",
       "tweetid                                                             \n",
       "1001597814097567745                                   maram__2002   \n",
       "1001599017569193984   kpeiRc5FjzPFD6lb5jNnUMi9wNYGNh2U3cjP6JEj3I=   \n",
       "1001599162415280134   kpeiRc5FjzPFD6lb5jNnUMi9wNYGNh2U3cjP6JEj3I=   \n",
       "1001600008381222912  N7vyR3Dc33h4hsFz7AN8UsMWS9KFrO6+xwoaY2PCEnE=   \n",
       "1001600512259698688  OjC1wjnPAgRjJBgqeQHJL+OLlbzy0OdfKtWW0FVX4q0=   \n",
       "...                                                           ...   \n",
       "1005221654384037889   bRCq+oLPXjvibAUJ+wGti7gWCgJthbTDL7dFyTaYD0=   \n",
       "1005221789012844544   xRg5JwEgzE+RkpXA6EUs287pbqiWr5un1dbShr+5Og=   \n",
       "1005223208939868160    RNxhB3jcAeaXNSeYqQZcIOlhd7UjHV9ADHkZi2owU=   \n",
       "1005231348498489344                                        m7m_aq   \n",
       "1005234525197230082   kpeiRc5FjzPFD6lb5jNnUMi9wNYGNh2U3cjP6JEj3I=   \n",
       "\n",
       "                     follower_count  following_count tweet_language  \\\n",
       "tweetid                                                               \n",
       "1001597814097567745           16937            16823            und   \n",
       "1001599017569193984            1777              765            und   \n",
       "1001599162415280134            1777              765            und   \n",
       "1001600008381222912              77              663            und   \n",
       "1001600512259698688            3526             4287            und   \n",
       "...                             ...              ...            ...   \n",
       "1005221654384037889             909              328            und   \n",
       "1005221789012844544             843              143            und   \n",
       "1005223208939868160            4962             4547            und   \n",
       "1005231348498489344           42835            42860            und   \n",
       "1005234525197230082            1777              765            und   \n",
       "\n",
       "                    tweet_text          tweet_time    tweet_client_name  \\\n",
       "tweetid                                                                   \n",
       "1001597814097567745            2018-05-29 22:55:00   Twitter for iPhone   \n",
       "1001599017569193984            2018-05-29 22:59:00   Twitter for iPhone   \n",
       "1001599162415280134            2018-05-29 23:00:00   Twitter for iPhone   \n",
       "1001600008381222912            2018-05-29 23:03:00   Twitter for iPhone   \n",
       "1001600512259698688            2018-05-29 23:05:00   Twitter for iPhone   \n",
       "...                        ...                 ...                  ...   \n",
       "1005221654384037889            2018-06-08 22:54:00   Twitter for iPhone   \n",
       "1005221789012844544            2018-06-08 22:55:00  Twitter for Android   \n",
       "1005223208939868160            2018-06-08 23:01:00   Twitter for iPhone   \n",
       "1005231348498489344            2018-06-08 23:33:00        erased9353731   \n",
       "1005234525197230082            2018-06-08 23:46:00   Twitter for iPhone   \n",
       "\n",
       "                     is_retweet retweet_userid  retweet_tweetid  \\\n",
       "tweetid                                                           \n",
       "1001597814097567745        True            NaN     9.971469e+17   \n",
       "1001599017569193984       False            NaN              NaN   \n",
       "1001599162415280134       False            NaN              NaN   \n",
       "1001600008381222912       False            NaN              NaN   \n",
       "1001600512259698688        True            NaN     1.001586e+18   \n",
       "...                         ...            ...              ...   \n",
       "1005221654384037889        True            NaN     1.005210e+18   \n",
       "1005221789012844544        True            NaN     1.005216e+18   \n",
       "1005223208939868160        True            NaN     1.002711e+18   \n",
       "1005231348498489344       False            NaN              NaN   \n",
       "1005234525197230082       False            NaN              NaN   \n",
       "\n",
       "                    retweet_user_screen_name hashtags  \n",
       "tweetid                                                \n",
       "1001597814097567745                  badre72      NaN  \n",
       "1001599017569193984                      NaN      NaN  \n",
       "1001599162415280134                      NaN      NaN  \n",
       "1001600008381222912                      NaN      NaN  \n",
       "1001600512259698688           othmanalkamees      NaN  \n",
       "...                                      ...      ...  \n",
       "1005221654384037889           denizinmaviisi      NaN  \n",
       "1005221789012844544           PicturesFoIder      NaN  \n",
       "1005223208939868160          8ClXQPVKpTEB264      NaN  \n",
       "1005231348498489344                      NaN      NaN  \n",
       "1005234525197230082                      NaN      NaN  \n",
       "\n",
       "[1363 rows x 13 columns]"
      ]
     },
     "execution_count": 172,
     "metadata": {},
     "output_type": "execute_result"
    }
   ],
   "source": [
    "df_0[df_0.tweet_text == ' ']"
   ]
  },
  {
   "cell_type": "code",
   "execution_count": 184,
   "metadata": {},
   "outputs": [],
   "source": [
    "# create mask that contains all entries where tweet text matches regex pattern, i.e. only whitespaces\n",
    "mask = df_0.tweet_text.str.contains(pattern_whitespaces)"
   ]
  },
  {
   "cell_type": "code",
   "execution_count": 185,
   "metadata": {},
   "outputs": [],
   "source": [
    "# use mask to maintain only entries that do NOT contain only whitespaces\n",
    "df_0 = df_0[~mask]"
   ]
  },
  {
   "cell_type": "markdown",
   "metadata": {},
   "source": [
    "This works. Let's apply to ddf:"
   ]
  },
  {
   "cell_type": "code",
   "execution_count": 186,
   "metadata": {},
   "outputs": [],
   "source": [
    "# define function\n",
    "def remove_empty_tweets(df):\n",
    "    mask = df.tweet_text.str.contains(pattern_whitespaces)\n",
    "    df = df[~mask]\n",
    "    return df"
   ]
  },
  {
   "cell_type": "code",
   "execution_count": 187,
   "metadata": {},
   "outputs": [],
   "source": [
    "# apply across all partitions\n",
    "ddf = ddf.map_partitions(remove_empty_tweets).persist()"
   ]
  },
  {
   "cell_type": "code",
   "execution_count": 191,
   "metadata": {},
   "outputs": [
    {
     "data": {
      "text/html": [
       "<div>\n",
       "<style scoped>\n",
       "    .dataframe tbody tr th:only-of-type {\n",
       "        vertical-align: middle;\n",
       "    }\n",
       "\n",
       "    .dataframe tbody tr th {\n",
       "        vertical-align: top;\n",
       "    }\n",
       "\n",
       "    .dataframe thead th {\n",
       "        text-align: right;\n",
       "    }\n",
       "</style>\n",
       "<table border=\"1\" class=\"dataframe\">\n",
       "  <thead>\n",
       "    <tr style=\"text-align: right;\">\n",
       "      <th></th>\n",
       "      <th>userid</th>\n",
       "      <th>user_screen_name</th>\n",
       "      <th>follower_count</th>\n",
       "      <th>following_count</th>\n",
       "      <th>tweet_language</th>\n",
       "      <th>tweet_text</th>\n",
       "      <th>tweet_time</th>\n",
       "      <th>tweet_client_name</th>\n",
       "      <th>is_retweet</th>\n",
       "      <th>retweet_userid</th>\n",
       "      <th>retweet_tweetid</th>\n",
       "      <th>retweet_user_screen_name</th>\n",
       "      <th>hashtags</th>\n",
       "    </tr>\n",
       "    <tr>\n",
       "      <th>tweetid</th>\n",
       "      <th></th>\n",
       "      <th></th>\n",
       "      <th></th>\n",
       "      <th></th>\n",
       "      <th></th>\n",
       "      <th></th>\n",
       "      <th></th>\n",
       "      <th></th>\n",
       "      <th></th>\n",
       "      <th></th>\n",
       "      <th></th>\n",
       "      <th></th>\n",
       "      <th></th>\n",
       "    </tr>\n",
       "  </thead>\n",
       "  <tbody>\n",
       "  </tbody>\n",
       "</table>\n",
       "</div>"
      ],
      "text/plain": [
       "Empty DataFrame\n",
       "Columns: [userid, user_screen_name, follower_count, following_count, tweet_language, tweet_text, tweet_time, tweet_client_name, is_retweet, retweet_userid, retweet_tweetid, retweet_user_screen_name, hashtags]\n",
       "Index: []"
      ]
     },
     "execution_count": 191,
     "metadata": {},
     "output_type": "execute_result"
    }
   ],
   "source": [
    "# verify\n",
    "ddf[ddf.tweet_text == ' '].compute()"
   ]
  },
  {
   "cell_type": "markdown",
   "metadata": {},
   "source": [
    "Excellent, this has worked.\n",
    "\n",
    "Let's see how many rows we have left now."
   ]
  },
  {
   "cell_type": "code",
   "execution_count": 192,
   "metadata": {},
   "outputs": [
    {
     "data": {
      "text/plain": [
       "35347002"
      ]
     },
     "execution_count": 192,
     "metadata": {},
     "output_type": "execute_result"
    }
   ],
   "source": [
    "ddf.shape[0].compute()"
   ]
  },
  {
   "cell_type": "markdown",
   "metadata": {},
   "source": [
    "Just over 35 million tweets left. These are guaranteed to be all in Arabic. That's still more than enough to work with."
   ]
  },
  {
   "cell_type": "markdown",
   "metadata": {},
   "source": [
    "# INTERMEDIATE PARQUET SAVE"
   ]
  },
  {
   "cell_type": "code",
   "execution_count": 193,
   "metadata": {},
   "outputs": [],
   "source": [
    "ddf.to_parquet('s3://twitter-saudi-us-east-2/interim/ddf_clean_without_empty_tweet_text_rows.parquet',\n",
    "               engine='pyarrow')"
   ]
  },
  {
   "cell_type": "markdown",
   "metadata": {},
   "source": [
    "Saved to S3 bucket as parquet."
   ]
  },
  {
   "cell_type": "markdown",
   "metadata": {},
   "source": [
    "# Identifying Unique Tweets\n",
    "\n",
    "We will now proceed to identify the unique tweets in the dataset. Since there are so many re-tweets, we are hoping that this will allow us to significantly reduce the size of the dataset so that we can proceed to work with the tweet text contents locally using pandas, rather than distributed using dask.\n",
    "\n",
    "The goal is to get a relational database of:\n",
    "- unique tweets with unique identifiers, generated by us\n",
    "- the original dataset with unique tweet IDs, representing unique instances of potentially duplicated content\n",
    "\n",
    "The collection of unique tweet content is what we will feed into our topic modelling algorithm."
   ]
  },
  {
   "cell_type": "markdown",
   "metadata": {},
   "source": [
    "### Import Cleaned DDF"
   ]
  },
  {
   "cell_type": "code",
   "execution_count": 5,
   "metadata": {},
   "outputs": [],
   "source": [
    "# import cleaned ddf from parquet file in s3 bucket\n",
    "\n",
    "# read s3 data into dask dataframe\n",
    "ddf = dd.read_parquet(\n",
    "    \"s3://twitter-saudi-us-east-2/interim/ddf_clean_without_empty_tweet_text_rows.parquet\",\n",
    ").persist()"
   ]
  },
  {
   "cell_type": "code",
   "execution_count": 6,
   "metadata": {},
   "outputs": [
    {
     "data": {
      "text/plain": [
       "35347002"
      ]
     },
     "execution_count": 6,
     "metadata": {},
     "output_type": "execute_result"
    }
   ],
   "source": [
    "ddf.shape[0].compute()"
   ]
  },
  {
   "cell_type": "markdown",
   "metadata": {},
   "source": [
    "## Drop All Rows with Duplicate Tweet_Text\n",
    "Let's proceed to drop all rows from ddf that have duplicate contents for the tweet_text column. This will leave us with the set of original tweets; i.e. no duplicates due to re-tweeting."
   ]
  },
  {
   "cell_type": "code",
   "execution_count": 6,
   "metadata": {},
   "outputs": [],
   "source": [
    "# create dask dataframe with only unique entries in tweet_text\n",
    "ddf_unique = ddf.drop_duplicates(subset=['tweet_text']).persist()"
   ]
  },
  {
   "cell_type": "code",
   "execution_count": 7,
   "metadata": {},
   "outputs": [
    {
     "data": {
      "text/plain": [
       "6153341"
      ]
     },
     "execution_count": 7,
     "metadata": {},
     "output_type": "execute_result"
    }
   ],
   "source": [
    "# get number of rows in ddf_unique\n",
    "ddf_unique.shape[0].compute()"
   ]
  },
  {
   "cell_type": "code",
   "execution_count": 8,
   "metadata": {},
   "outputs": [
    {
     "data": {
      "text/html": [
       "<div><strong>Dask DataFrame Structure:</strong></div>\n",
       "<div>\n",
       "<style scoped>\n",
       "    .dataframe tbody tr th:only-of-type {\n",
       "        vertical-align: middle;\n",
       "    }\n",
       "\n",
       "    .dataframe tbody tr th {\n",
       "        vertical-align: top;\n",
       "    }\n",
       "\n",
       "    .dataframe thead th {\n",
       "        text-align: right;\n",
       "    }\n",
       "</style>\n",
       "<table border=\"1\" class=\"dataframe\">\n",
       "  <thead>\n",
       "    <tr style=\"text-align: right;\">\n",
       "      <th></th>\n",
       "      <th>userid</th>\n",
       "      <th>user_screen_name</th>\n",
       "      <th>follower_count</th>\n",
       "      <th>following_count</th>\n",
       "      <th>tweet_language</th>\n",
       "      <th>tweet_text</th>\n",
       "      <th>tweet_time</th>\n",
       "      <th>tweet_client_name</th>\n",
       "      <th>is_retweet</th>\n",
       "      <th>retweet_userid</th>\n",
       "      <th>retweet_tweetid</th>\n",
       "      <th>retweet_user_screen_name</th>\n",
       "      <th>hashtags</th>\n",
       "    </tr>\n",
       "    <tr>\n",
       "      <th>npartitions=1</th>\n",
       "      <th></th>\n",
       "      <th></th>\n",
       "      <th></th>\n",
       "      <th></th>\n",
       "      <th></th>\n",
       "      <th></th>\n",
       "      <th></th>\n",
       "      <th></th>\n",
       "      <th></th>\n",
       "      <th></th>\n",
       "      <th></th>\n",
       "      <th></th>\n",
       "      <th></th>\n",
       "    </tr>\n",
       "  </thead>\n",
       "  <tbody>\n",
       "    <tr>\n",
       "      <th></th>\n",
       "      <td>object</td>\n",
       "      <td>object</td>\n",
       "      <td>float64</td>\n",
       "      <td>float64</td>\n",
       "      <td>object</td>\n",
       "      <td>object</td>\n",
       "      <td>datetime64[ns]</td>\n",
       "      <td>object</td>\n",
       "      <td>float16</td>\n",
       "      <td>object</td>\n",
       "      <td>float64</td>\n",
       "      <td>object</td>\n",
       "      <td>object</td>\n",
       "    </tr>\n",
       "    <tr>\n",
       "      <th></th>\n",
       "      <td>...</td>\n",
       "      <td>...</td>\n",
       "      <td>...</td>\n",
       "      <td>...</td>\n",
       "      <td>...</td>\n",
       "      <td>...</td>\n",
       "      <td>...</td>\n",
       "      <td>...</td>\n",
       "      <td>...</td>\n",
       "      <td>...</td>\n",
       "      <td>...</td>\n",
       "      <td>...</td>\n",
       "      <td>...</td>\n",
       "    </tr>\n",
       "  </tbody>\n",
       "</table>\n",
       "</div>\n",
       "<div>Dask Name: drop-duplicates-agg, 1 tasks</div>"
      ],
      "text/plain": [
       "Dask DataFrame Structure:\n",
       "               userid user_screen_name follower_count following_count tweet_language tweet_text      tweet_time tweet_client_name is_retweet retweet_userid retweet_tweetid retweet_user_screen_name hashtags\n",
       "npartitions=1                                                                                                                                                                                                \n",
       "               object           object        float64         float64         object     object  datetime64[ns]            object    float16         object         float64                   object   object\n",
       "                  ...              ...            ...             ...            ...        ...             ...               ...        ...            ...             ...                      ...      ...\n",
       "Dask Name: drop-duplicates-agg, 1 tasks"
      ]
     },
     "execution_count": 8,
     "metadata": {},
     "output_type": "execute_result"
    }
   ],
   "source": [
    "ddf_unique"
   ]
  },
  {
   "cell_type": "markdown",
   "metadata": {},
   "source": [
    "BAM! Only just over 6 million unique tweets left. That means we've reduced the size of the dataset by ~80%. The dataframe is only 1 partition.\n",
    "\n",
    "Let's save this to our s3 bucket and then see if we can also save it locally."
   ]
  },
  {
   "cell_type": "code",
   "execution_count": 10,
   "metadata": {},
   "outputs": [],
   "source": [
    "# save ddf with unique tweets to s3 bucket as parquet\n",
    "ddf_unique.to_parquet('s3://twitter-saudi-us-east-2/interim/ddf_unique_all_columns.parquet',\n",
    "               engine='pyarrow')"
   ]
  },
  {
   "cell_type": "code",
   "execution_count": 11,
   "metadata": {},
   "outputs": [
    {
     "data": {
      "text/plain": [
       "['twitter-saudi-us-east-2/interim/ddf_unique_all_columns.csv/0.part']"
      ]
     },
     "execution_count": 11,
     "metadata": {},
     "output_type": "execute_result"
    }
   ],
   "source": [
    "# let's also save as a csv\n",
    "ddf_unique.to_csv('s3://twitter-saudi-us-east-2/interim/ddf_unique_all_columns.csv')"
   ]
  },
  {
   "cell_type": "markdown",
   "metadata": {},
   "source": [
    "The csv file in our s3 bucket totals to just under 2GB. That means we should be able to read it in as a local pandas dataframe.\n",
    "\n",
    "Let's try that now."
   ]
  },
  {
   "cell_type": "code",
   "execution_count": 12,
   "metadata": {},
   "outputs": [],
   "source": [
    "# bring only unique tweet text bodies to local machine as pandas dataframe\n",
    "df_tweettexts = ddf_unique.tweet_text.compute()"
   ]
  },
  {
   "cell_type": "code",
   "execution_count": 13,
   "metadata": {},
   "outputs": [
    {
     "data": {
      "text/plain": [
       "tweetid\n",
       "1000000000447930368     السلام عليكم ورحمة الله وبركاته مرحبا عملاء م...\n",
       "1000000030391095297     للتأجير لبيع النطيطات زحاليق مائيه صابونية مل...\n",
       "1000000039362662400     مظلات وسواتر آفاق الرياض مظلات استراحات مظلات...\n",
       "1000000054911033344     فيديو شاهد مواطن يوثق بالفيديو كميات كبيرة من...\n",
       "1000000204865789954                       أستغفر الله العظيم وأتوب إليه \n",
       "Name: tweet_text, dtype: object"
      ]
     },
     "execution_count": 13,
     "metadata": {},
     "output_type": "execute_result"
    }
   ],
   "source": [
    "df_tweettexts.head()"
   ]
  },
  {
   "cell_type": "markdown",
   "metadata": {},
   "source": [
    "Excellent. That works and we can continue to work locally from here.\n",
    "\n",
    "Let's reset the index and then save this as a csv to our s3 bucket as well for later reference."
   ]
  },
  {
   "cell_type": "code",
   "execution_count": 14,
   "metadata": {},
   "outputs": [],
   "source": [
    "# reset the index to be consecutive integers starting from 0\n",
    "df_tweettexts.reset_index(drop=True, inplace=True)"
   ]
  },
  {
   "cell_type": "code",
   "execution_count": 16,
   "metadata": {},
   "outputs": [
    {
     "data": {
      "text/plain": [
       "0     السلام عليكم ورحمة الله وبركاته مرحبا عملاء م...\n",
       "1     للتأجير لبيع النطيطات زحاليق مائيه صابونية مل...\n",
       "2     مظلات وسواتر آفاق الرياض مظلات استراحات مظلات...\n",
       "3     فيديو شاهد مواطن يوثق بالفيديو كميات كبيرة من...\n",
       "4                       أستغفر الله العظيم وأتوب إليه \n",
       "5     تخفيضات على جميع الأصناف لدى دانة المسك للعود...\n",
       "6     علاج السرطان في الهند عند افضل مستشفى مختص با...\n",
       "7     دورة مع السفرة السادسة عشر احصائية الربع الاو...\n",
       "8     تسديد قروض الراجحي الاهلي راتب وجميع البنوك ب...\n",
       "9           لا إله إلا أنت سبحانك إني كنت من الظالمين \n",
       "Name: tweet_text, dtype: object"
      ]
     },
     "execution_count": 16,
     "metadata": {},
     "output_type": "execute_result"
    }
   ],
   "source": [
    "df_tweettexts.head(10)"
   ]
  },
  {
   "cell_type": "code",
   "execution_count": 18,
   "metadata": {},
   "outputs": [],
   "source": [
    "# save this series locally\n",
    "df_tweettexts.to_csv('/Users/richard/Desktop/data_cap3/interim/df_unique_only_tweet_texts_reset_index.csv')"
   ]
  },
  {
   "cell_type": "markdown",
   "metadata": {},
   "source": [
    "## Replace Tweet_Text in Full Table with Index\n",
    "\n",
    "Now that we have a Series with the unique tweet_text contents (and a reset index), we can go ahead and replace the tweet_text bodies in the original, full dataset (containing >35mln rows) with just an integer referring to the index of the unique tweet_text content.\n",
    "\n",
    "This will significantly reduce the size of the original, full dataset and may mean we can work with that locally, too."
   ]
  },
  {
   "cell_type": "code",
   "execution_count": 52,
   "metadata": {},
   "outputs": [
    {
     "data": {
      "text/html": [
       "<table style=\"border: 2px solid white;\">\n",
       "<tr>\n",
       "<td style=\"vertical-align: top; border: 0px solid white\">\n",
       "<h3 style=\"text-align: left;\">Client</h3>\n",
       "<ul style=\"text-align: left; list-style: none; margin: 0; padding: 0;\">\n",
       "  <li><b>Scheduler: </b>tls://ec2-52-15-112-183.us-east-2.compute.amazonaws.com:8786</li>\n",
       "  <li><b>Dashboard: </b><a href='http://ec2-52-15-112-183.us-east-2.compute.amazonaws.com:8787' target='_blank'>http://ec2-52-15-112-183.us-east-2.compute.amazonaws.com:8787</a></li>\n",
       "</ul>\n",
       "</td>\n",
       "<td style=\"vertical-align: top; border: 0px solid white\">\n",
       "<h3 style=\"text-align: left;\">Cluster</h3>\n",
       "<ul style=\"text-align: left; list-style:none; margin: 0; padding: 0;\">\n",
       "  <li><b>Workers: </b>50</li>\n",
       "  <li><b>Cores: </b>200</li>\n",
       "  <li><b>Memory: </b>858.99 GB</li>\n",
       "</ul>\n",
       "</td>\n",
       "</tr>\n",
       "</table>"
      ],
      "text/plain": [
       "<Client: 'tls://10.2.11.47:8786' processes=0 threads=0, memory=0 B>"
      ]
     },
     "execution_count": 52,
     "metadata": {},
     "output_type": "execute_result"
    }
   ],
   "source": [
    "client.restart()"
   ]
  },
  {
   "cell_type": "code",
   "execution_count": 7,
   "metadata": {},
   "outputs": [],
   "source": [
    "# import df_tweettexts as a dask dataframe\n",
    "ddf_tweettexts = dd.read_csv(\n",
    "    's3://twitter-saudi-us-east-2/interim/df_unique_only_tweet_texts_reset_index.csv',\n",
    "    blocksize='64MiB',\n",
    "    engine='python',\n",
    ").set_index('Unnamed: 0').persist()"
   ]
  },
  {
   "cell_type": "code",
   "execution_count": 8,
   "metadata": {},
   "outputs": [
    {
     "data": {
      "text/html": [
       "<div>\n",
       "<style scoped>\n",
       "    .dataframe tbody tr th:only-of-type {\n",
       "        vertical-align: middle;\n",
       "    }\n",
       "\n",
       "    .dataframe tbody tr th {\n",
       "        vertical-align: top;\n",
       "    }\n",
       "\n",
       "    .dataframe thead th {\n",
       "        text-align: right;\n",
       "    }\n",
       "</style>\n",
       "<table border=\"1\" class=\"dataframe\">\n",
       "  <thead>\n",
       "    <tr style=\"text-align: right;\">\n",
       "      <th></th>\n",
       "      <th>tweet_text</th>\n",
       "    </tr>\n",
       "    <tr>\n",
       "      <th>Unnamed: 0</th>\n",
       "      <th></th>\n",
       "    </tr>\n",
       "  </thead>\n",
       "  <tbody>\n",
       "    <tr>\n",
       "      <th>0</th>\n",
       "      <td>السلام عليكم ورحمة الله وبركاته مرحبا عملاء م...</td>\n",
       "    </tr>\n",
       "    <tr>\n",
       "      <th>1</th>\n",
       "      <td>للتأجير لبيع النطيطات زحاليق مائيه صابونية مل...</td>\n",
       "    </tr>\n",
       "    <tr>\n",
       "      <th>2</th>\n",
       "      <td>مظلات وسواتر آفاق الرياض مظلات استراحات مظلات...</td>\n",
       "    </tr>\n",
       "    <tr>\n",
       "      <th>3</th>\n",
       "      <td>فيديو شاهد مواطن يوثق بالفيديو كميات كبيرة من...</td>\n",
       "    </tr>\n",
       "    <tr>\n",
       "      <th>4</th>\n",
       "      <td>أستغفر الله العظيم وأتوب إليه</td>\n",
       "    </tr>\n",
       "  </tbody>\n",
       "</table>\n",
       "</div>"
      ],
      "text/plain": [
       "                                                   tweet_text\n",
       "Unnamed: 0                                                   \n",
       "0            السلام عليكم ورحمة الله وبركاته مرحبا عملاء م...\n",
       "1            للتأجير لبيع النطيطات زحاليق مائيه صابونية مل...\n",
       "2            مظلات وسواتر آفاق الرياض مظلات استراحات مظلات...\n",
       "3            فيديو شاهد مواطن يوثق بالفيديو كميات كبيرة من...\n",
       "4                              أستغفر الله العظيم وأتوب إليه "
      ]
     },
     "execution_count": 8,
     "metadata": {},
     "output_type": "execute_result"
    }
   ],
   "source": [
    "ddf_tweettexts.head()"
   ]
  },
  {
   "cell_type": "code",
   "execution_count": null,
   "metadata": {},
   "outputs": [],
   "source": [
    "# ### pseudo-code\n",
    "\n",
    "# for tweet_text cell of every row:\n",
    "#     find corresponding unique_tweet\n",
    "#     replace tweet_text cell with index of unique_tweet\n",
    "    \n",
    "# could we do a lambda?"
   ]
  },
  {
   "cell_type": "code",
   "execution_count": 9,
   "metadata": {},
   "outputs": [],
   "source": [
    "df_0 = ddf.partitions[0].compute()"
   ]
  },
  {
   "cell_type": "code",
   "execution_count": 10,
   "metadata": {},
   "outputs": [
    {
     "data": {
      "text/plain": [
       "userid                                                     948302862098092034\n",
       "user_screen_name                                                       y_44a_\n",
       "follower_count                                                           9007\n",
       "following_count                                                          8821\n",
       "tweet_language                                                             ar\n",
       "tweet_text                   السلام عليكم ورحمة الله وبركاته مرحبا عملاء م...\n",
       "tweet_time                                                2018-05-25 13:05:00\n",
       "tweet_client_name                                          Twitter for iPhone\n",
       "is_retweet                                                               True\n",
       "retweet_userid                                                           None\n",
       "retweet_tweetid                                          998649277479088128.0\n",
       "retweet_user_screen_name                                        oneway_market\n",
       "hashtags                                                                 None\n",
       "Name: 1000000000447930368, dtype: object"
      ]
     },
     "execution_count": 10,
     "metadata": {},
     "output_type": "execute_result"
    }
   ],
   "source": [
    "df_0.iloc[0]"
   ]
  },
  {
   "cell_type": "code",
   "execution_count": 11,
   "metadata": {},
   "outputs": [
    {
     "data": {
      "text/plain": [
       "' السلام عليكم ورحمة الله وبركاته مرحبا عملاء متجر ون واي وكل عام وانتم بخير نعتذر لكم عن تاخرنا في العودة بسبب بعض الظر '"
      ]
     },
     "execution_count": 11,
     "metadata": {},
     "output_type": "execute_result"
    }
   ],
   "source": [
    "df_0.iloc[0].tweet_text"
   ]
  },
  {
   "cell_type": "code",
   "execution_count": 12,
   "metadata": {},
   "outputs": [
    {
     "data": {
      "text/plain": [
       "0"
      ]
     },
     "execution_count": 12,
     "metadata": {},
     "output_type": "execute_result"
    }
   ],
   "source": [
    "# find index of corresponding unique_tweet\n",
    "ddf_tweettexts[ddf_tweettexts.tweet_text == df_0.iloc[0].tweet_text].compute().index.values.astype(int)[0]"
   ]
  },
  {
   "cell_type": "code",
   "execution_count": 40,
   "metadata": {},
   "outputs": [],
   "source": [
    "# take a subsample of df_0 to test\n",
    "df_sample = df_0.sample(25, random_state=21)"
   ]
  },
  {
   "cell_type": "code",
   "execution_count": 41,
   "metadata": {},
   "outputs": [
    {
     "data": {
      "text/plain": [
       "tweetid\n",
       "1000293959669821440     اسكن الان داخل اجمل المجمعات السكنية فى دبى ف...\n",
       "1000897770969096192    دعاء سجود التلاوة سجد وجهي للذي خلقه وشق سمعه ...\n",
       "1000773724130435073     شركه رش مبيد بالرياض مكافحة حشرات صراصير نمل ...\n",
       "1000004737947852803     شراء اثاث مستعمل الرياض شراء اثاث مستعمل شراء...\n",
       "1000625435238125568     تعاني من سرعة القذف وضعف الانتصاب وضعف القدرة...\n",
       "1001262936164392960     ساعه رولكس اوتوماتيك التوصيل خلال ساعه الرياض...\n",
       "1001010534756601856     مسابقات عبدالعزيز الخضيري التخلص من سرعه القذ...\n",
       "1000612102652952577                       الاميره للدعم قروب جنون للدعم \n",
       "1000464129243668482     مهما ذبُلت أعلم جيدًا ولو بعد حين لابد أن تأت...\n",
       "1001560511694233605     عسل عبد العزيز العسيري عروض رمضانيه ك سدر جبل...\n",
       "1000401617223671814     شكلك صليتي وهي جايتك هههههههههههههههههههههههه...\n",
       "1000767866977898496     بدون فلتر محمد صلاح الحوثي يوافق تسليم سلاحه ...\n",
       "1000975339756163072     تسديد قروض الراجحي الاهلي العربي الإنماء الري...\n",
       "1001390676645437440     كبسول ماكس مان تعزيز القدره الجنسية انتصاب اق...\n",
       "1001276109407899648     كبسول ماكس مان تعزيز القدره الجنسية انتصاب اق...\n",
       "1000916013469327362     إلى الحكومة حذارِ من منح الجنسية لسوريين وتكر...\n",
       "1000881788653330432     لإعلاناتكم في تويتر بأسعار رمزية تسويق منتجات...\n",
       "1000494453965164544                      لعيب ابن كلب عرص متعمد الاصابه \n",
       "1001356783011557376     ريتشارد ميل رولكس كارتير فرزاتشي اوديمار هوبل...\n",
       "1000541180818591746     مبروك للشيخ محمد بن سلطان بن خليفة آل نهيان ت...\n",
       "1000882562934497282     اغلاق المحلات مساء شراء الاثاث المستعمل بالري...\n",
       "1000868540109467648     لطٌـفُـ يّا لله ـِ منٌـ ك ـل ثًقَـل ل يّحًـتُ...\n",
       "1001102711008395272                       ما الومه ياشيخه البنت تهببللل \n",
       "1000992220676227072                        اللهم عافنا واعف عنا يا كريم \n",
       "1000848118617960448     ساعه رجالي دينتي ضمان سنه مع علبه فاخره السعر...\n",
       "Name: tweet_text, dtype: object"
      ]
     },
     "execution_count": 41,
     "metadata": {},
     "output_type": "execute_result"
    }
   ],
   "source": [
    "# inspect df_sample before applying\n",
    "df_sample.tweet_text"
   ]
  },
  {
   "cell_type": "markdown",
   "metadata": {},
   "source": [
    "Excellent, we have two identical tweet_text contents right in the middle. That should allow us to see whether this lambda function works the way we want it to."
   ]
  },
  {
   "cell_type": "code",
   "execution_count": 21,
   "metadata": {},
   "outputs": [
    {
     "name": "stdout",
     "output_type": "stream",
     "text": [
      "CPU times: user 782 ms, sys: 88.2 ms, total: 870 ms\n",
      "Wall time: 11.3 s\n"
     ]
    }
   ],
   "source": [
    "%%time\n",
    "# try it as a lambda over df_sample's tweet_text column\n",
    "df_sample.tweet_text = df_sample.tweet_text.apply(lambda x: ddf_tweettexts[ddf_tweettexts.tweet_text == x].compute().index.values.astype(int)[0])"
   ]
  },
  {
   "cell_type": "code",
   "execution_count": 23,
   "metadata": {},
   "outputs": [
    {
     "data": {
      "text/plain": [
       "tweetid\n",
       "1000293959669821440      210\n",
       "1000897770969096192     8232\n",
       "1000773724130435073      851\n",
       "1000004737947852803       96\n",
       "1000625435238125568      653\n",
       "1001262936164392960     4124\n",
       "1001010534756601856     9834\n",
       "1000612102652952577     3571\n",
       "1000464129243668482     4960\n",
       "1001560511694233605     2803\n",
       "1000401617223671814     4139\n",
       "1000767866977898496     5639\n",
       "1000975339756163072     9743\n",
       "1001390676645437440    10463\n",
       "1001276109407899648    10463\n",
       "1000916013469327362     9271\n",
       "1000881788653330432     2842\n",
       "1000494453965164544     5397\n",
       "1001356783011557376      897\n",
       "1000541180818591746     5901\n",
       "1000882562934497282     8856\n",
       "1000868540109467648     8688\n",
       "1001102711008395272    10441\n",
       "1000992220676227072     3704\n",
       "1000848118617960448     8415\n",
       "Name: tweet_text, dtype: int64"
      ]
     },
     "execution_count": 23,
     "metadata": {},
     "output_type": "execute_result"
    }
   ],
   "source": [
    "df_sample.tweet_text"
   ]
  },
  {
   "cell_type": "code",
   "execution_count": 16,
   "metadata": {},
   "outputs": [
    {
     "data": {
      "text/plain": [
       "Unnamed: 0\n",
       "10463     كبسول ماكس مان تعزيز القدره الجنسية انتصاب اق...\n",
       "Name: tweet_text, dtype: object"
      ]
     },
     "execution_count": 16,
     "metadata": {},
     "output_type": "execute_result"
    }
   ],
   "source": [
    "ddf_tweettexts.loc[10463].tweet_text.compute()"
   ]
  },
  {
   "cell_type": "markdown",
   "metadata": {},
   "source": [
    "Perfect. This is working.\n",
    "\n",
    "Let's now wrap this in a function we can pass to ddf.map_partitions() and let dask do the heavy lifting for us here.\n",
    "\n",
    "Before we can do that we should push df_tweettexts to our cluster as a dask dataframe."
   ]
  },
  {
   "cell_type": "code",
   "execution_count": 24,
   "metadata": {},
   "outputs": [],
   "source": [
    "ddf_0 = ddf.partitions[0].persist()"
   ]
  },
  {
   "cell_type": "code",
   "execution_count": 25,
   "metadata": {},
   "outputs": [
    {
     "data": {
      "text/plain": [
       "tweetid\n",
       "1000000000447930368     السلام عليكم ورحمة الله وبركاته مرحبا عملاء م...\n",
       "1000000030391095297     للتأجير لبيع النطيطات زحاليق مائيه صابونية مل...\n",
       "1000000039362662400     مظلات وسواتر آفاق الرياض مظلات استراحات مظلات...\n",
       "1000000054911033344     فيديو شاهد مواطن يوثق بالفيديو كميات كبيرة من...\n",
       "1000000204865789954                       أستغفر الله العظيم وأتوب إليه \n",
       "Name: tweet_text, dtype: object"
      ]
     },
     "execution_count": 25,
     "metadata": {},
     "output_type": "execute_result"
    }
   ],
   "source": [
    "ddf_0.tweet_text.head()"
   ]
  },
  {
   "cell_type": "code",
   "execution_count": 37,
   "metadata": {},
   "outputs": [
    {
     "ename": "TypeError",
     "evalue": "Column assignment doesn't support type dask.dataframe.core.DataFrame",
     "output_type": "error",
     "traceback": [
      "\u001b[0;31m---------------------------------------------------------------------------\u001b[0m",
      "\u001b[0;31mTypeError\u001b[0m                                 Traceback (most recent call last)",
      "\u001b[0;32m<timed exec>\u001b[0m in \u001b[0;36m<module>\u001b[0;34m\u001b[0m\n",
      "\u001b[0;32m<ipython-input-36-050162af71aa>\u001b[0m in \u001b[0;36mreplace_tweet_column_with_index\u001b[0;34m(df)\u001b[0m\n\u001b[1;32m      1\u001b[0m \u001b[0;31m# define function to pass to map_partitions\u001b[0m\u001b[0;34m\u001b[0m\u001b[0;34m\u001b[0m\u001b[0;34m\u001b[0m\u001b[0m\n\u001b[1;32m      2\u001b[0m \u001b[0;32mdef\u001b[0m \u001b[0mreplace_tweet_column_with_index\u001b[0m\u001b[0;34m(\u001b[0m\u001b[0mdf\u001b[0m\u001b[0;34m)\u001b[0m\u001b[0;34m:\u001b[0m\u001b[0;34m\u001b[0m\u001b[0;34m\u001b[0m\u001b[0m\n\u001b[0;32m----> 3\u001b[0;31m     \u001b[0mdf\u001b[0m\u001b[0;34m.\u001b[0m\u001b[0mtweet_text\u001b[0m \u001b[0;34m=\u001b[0m \u001b[0mdf\u001b[0m\u001b[0;34m.\u001b[0m\u001b[0mtweet_text\u001b[0m\u001b[0;34m.\u001b[0m\u001b[0mapply\u001b[0m\u001b[0;34m(\u001b[0m\u001b[0mreplace_tweet_with_index\u001b[0m\u001b[0;34m,\u001b[0m \u001b[0mmeta\u001b[0m\u001b[0;34m=\u001b[0m\u001b[0mdf\u001b[0m\u001b[0;34m)\u001b[0m\u001b[0;34m\u001b[0m\u001b[0;34m\u001b[0m\u001b[0m\n\u001b[0m\u001b[1;32m      4\u001b[0m     \u001b[0;32mreturn\u001b[0m \u001b[0mdf\u001b[0m\u001b[0;34m\u001b[0m\u001b[0;34m\u001b[0m\u001b[0m\n",
      "\u001b[0;32m~/miniconda3/envs/tensorflow/lib/python3.7/site-packages/dask/dataframe/core.py\u001b[0m in \u001b[0;36m__setattr__\u001b[0;34m(self, key, value)\u001b[0m\n\u001b[1;32m   3747\u001b[0m \u001b[0;34m\u001b[0m\u001b[0m\n\u001b[1;32m   3748\u001b[0m         \u001b[0;32mif\u001b[0m \u001b[0mkey\u001b[0m \u001b[0;32min\u001b[0m \u001b[0mcolumns\u001b[0m\u001b[0;34m:\u001b[0m\u001b[0;34m\u001b[0m\u001b[0;34m\u001b[0m\u001b[0m\n\u001b[0;32m-> 3749\u001b[0;31m             \u001b[0mself\u001b[0m\u001b[0;34m[\u001b[0m\u001b[0mkey\u001b[0m\u001b[0;34m]\u001b[0m \u001b[0;34m=\u001b[0m \u001b[0mvalue\u001b[0m\u001b[0;34m\u001b[0m\u001b[0;34m\u001b[0m\u001b[0m\n\u001b[0m\u001b[1;32m   3750\u001b[0m         \u001b[0;32melse\u001b[0m\u001b[0;34m:\u001b[0m\u001b[0;34m\u001b[0m\u001b[0;34m\u001b[0m\u001b[0m\n\u001b[1;32m   3751\u001b[0m             \u001b[0mobject\u001b[0m\u001b[0;34m.\u001b[0m\u001b[0m__setattr__\u001b[0m\u001b[0;34m(\u001b[0m\u001b[0mself\u001b[0m\u001b[0;34m,\u001b[0m \u001b[0mkey\u001b[0m\u001b[0;34m,\u001b[0m \u001b[0mvalue\u001b[0m\u001b[0;34m)\u001b[0m\u001b[0;34m\u001b[0m\u001b[0;34m\u001b[0m\u001b[0m\n",
      "\u001b[0;32m~/miniconda3/envs/tensorflow/lib/python3.7/site-packages/dask/dataframe/core.py\u001b[0m in \u001b[0;36m__setitem__\u001b[0;34m(self, key, value)\u001b[0m\n\u001b[1;32m   3727\u001b[0m             \u001b[0;32mraise\u001b[0m \u001b[0mNotImplementedError\u001b[0m\u001b[0;34m(\u001b[0m\u001b[0;34mf\"Item assignment with {type(key)} not supported\"\u001b[0m\u001b[0;34m)\u001b[0m\u001b[0;34m\u001b[0m\u001b[0;34m\u001b[0m\u001b[0m\n\u001b[1;32m   3728\u001b[0m         \u001b[0;32melse\u001b[0m\u001b[0;34m:\u001b[0m\u001b[0;34m\u001b[0m\u001b[0;34m\u001b[0m\u001b[0m\n\u001b[0;32m-> 3729\u001b[0;31m             \u001b[0mdf\u001b[0m \u001b[0;34m=\u001b[0m \u001b[0mself\u001b[0m\u001b[0;34m.\u001b[0m\u001b[0massign\u001b[0m\u001b[0;34m(\u001b[0m\u001b[0;34m**\u001b[0m\u001b[0;34m{\u001b[0m\u001b[0mkey\u001b[0m\u001b[0;34m:\u001b[0m \u001b[0mvalue\u001b[0m\u001b[0;34m}\u001b[0m\u001b[0;34m)\u001b[0m\u001b[0;34m\u001b[0m\u001b[0;34m\u001b[0m\u001b[0m\n\u001b[0m\u001b[1;32m   3730\u001b[0m \u001b[0;34m\u001b[0m\u001b[0m\n\u001b[1;32m   3731\u001b[0m         \u001b[0mself\u001b[0m\u001b[0;34m.\u001b[0m\u001b[0mdask\u001b[0m \u001b[0;34m=\u001b[0m \u001b[0mdf\u001b[0m\u001b[0;34m.\u001b[0m\u001b[0mdask\u001b[0m\u001b[0;34m\u001b[0m\u001b[0;34m\u001b[0m\u001b[0m\n",
      "\u001b[0;32m~/miniconda3/envs/tensorflow/lib/python3.7/site-packages/dask/dataframe/core.py\u001b[0m in \u001b[0;36massign\u001b[0;34m(self, **kwargs)\u001b[0m\n\u001b[1;32m   3987\u001b[0m                 raise TypeError(\n\u001b[1;32m   3988\u001b[0m                     \u001b[0;34m\"Column assignment doesn't support type \"\u001b[0m\u001b[0;34m\u001b[0m\u001b[0;34m\u001b[0m\u001b[0m\n\u001b[0;32m-> 3989\u001b[0;31m                     \u001b[0;34m\"{0}\"\u001b[0m\u001b[0;34m.\u001b[0m\u001b[0mformat\u001b[0m\u001b[0;34m(\u001b[0m\u001b[0mtypename\u001b[0m\u001b[0;34m(\u001b[0m\u001b[0mtype\u001b[0m\u001b[0;34m(\u001b[0m\u001b[0mv\u001b[0m\u001b[0;34m)\u001b[0m\u001b[0;34m)\u001b[0m\u001b[0;34m)\u001b[0m\u001b[0;34m\u001b[0m\u001b[0;34m\u001b[0m\u001b[0m\n\u001b[0m\u001b[1;32m   3990\u001b[0m                 )\n\u001b[1;32m   3991\u001b[0m             \u001b[0;32mif\u001b[0m \u001b[0mcallable\u001b[0m\u001b[0;34m(\u001b[0m\u001b[0mv\u001b[0m\u001b[0;34m)\u001b[0m\u001b[0;34m:\u001b[0m\u001b[0;34m\u001b[0m\u001b[0;34m\u001b[0m\u001b[0m\n",
      "\u001b[0;31mTypeError\u001b[0m: Column assignment doesn't support type dask.dataframe.core.DataFrame"
     ]
    }
   ],
   "source": [
    "%%time\n",
    "## test on partition 1\n",
    "ddf_0 = replace_tweet_column_with_index(ddf_0)"
   ]
  },
  {
   "cell_type": "code",
   "execution_count": null,
   "metadata": {},
   "outputs": [],
   "source": []
  },
  {
   "cell_type": "code",
   "execution_count": null,
   "metadata": {},
   "outputs": [],
   "source": [
    "# # define function to sub underscores and hashtags with space\n",
    "# def remove_spaces_hashtags_underscores(tweet_text):\n",
    "#     return re.sub(r'[_#]', \" \", tweet_text)"
   ]
  },
  {
   "cell_type": "code",
   "execution_count": null,
   "metadata": {},
   "outputs": [],
   "source": [
    "# def tweet_text_finalsweep(df):\n",
    "#     df.tweet_text = df.tweet_text.apply(remove_nonArabic_characters)\n",
    "#     return df"
   ]
  },
  {
   "cell_type": "code",
   "execution_count": 50,
   "metadata": {},
   "outputs": [],
   "source": [
    "def replace_tweets_with_index(df):\n",
    "    df.tweet_text = df.tweet_text.apply(\n",
    "        lambda x: ddf_tweettexts[ddf_tweettexts.tweet_text == x].compute().index.values.astype(int)[0]\n",
    "    )\n",
    "    return df"
   ]
  },
  {
   "cell_type": "code",
   "execution_count": 48,
   "metadata": {},
   "outputs": [
    {
     "ename": "IndexError",
     "evalue": "index 0 is out of bounds for axis 0 with size 0",
     "output_type": "error",
     "traceback": [
      "\u001b[0;31m---------------------------------------------------------------------------\u001b[0m",
      "\u001b[0;31mIndexError\u001b[0m                                Traceback (most recent call last)",
      "\u001b[0;32m<ipython-input-48-5c50d5b189cd>\u001b[0m in \u001b[0;36m<module>\u001b[0;34m\u001b[0m\n\u001b[0;32m----> 1\u001b[0;31m \u001b[0mdf_sample_test\u001b[0m \u001b[0;34m=\u001b[0m \u001b[0mreplace_tweets_with_index\u001b[0m\u001b[0;34m(\u001b[0m\u001b[0mdf_sample\u001b[0m\u001b[0;34m)\u001b[0m\u001b[0;34m\u001b[0m\u001b[0;34m\u001b[0m\u001b[0m\n\u001b[0m",
      "\u001b[0;32m<ipython-input-47-a41bdf42d202>\u001b[0m in \u001b[0;36mreplace_tweets_with_index\u001b[0;34m(df)\u001b[0m\n\u001b[1;32m      1\u001b[0m \u001b[0;32mdef\u001b[0m \u001b[0mreplace_tweets_with_index\u001b[0m\u001b[0;34m(\u001b[0m\u001b[0mdf\u001b[0m\u001b[0;34m)\u001b[0m\u001b[0;34m:\u001b[0m\u001b[0;34m\u001b[0m\u001b[0;34m\u001b[0m\u001b[0m\n\u001b[1;32m      2\u001b[0m     df.tweet_text = df.tweet_text.apply(\n\u001b[0;32m----> 3\u001b[0;31m         \u001b[0;32mlambda\u001b[0m \u001b[0mx\u001b[0m\u001b[0;34m:\u001b[0m \u001b[0mddf_tweettexts\u001b[0m\u001b[0;34m[\u001b[0m\u001b[0mddf_tweettexts\u001b[0m\u001b[0;34m.\u001b[0m\u001b[0mtweet_text\u001b[0m \u001b[0;34m==\u001b[0m \u001b[0mx\u001b[0m\u001b[0;34m]\u001b[0m\u001b[0;34m.\u001b[0m\u001b[0mcompute\u001b[0m\u001b[0;34m(\u001b[0m\u001b[0;34m)\u001b[0m\u001b[0;34m.\u001b[0m\u001b[0mindex\u001b[0m\u001b[0;34m.\u001b[0m\u001b[0mvalues\u001b[0m\u001b[0;34m.\u001b[0m\u001b[0mastype\u001b[0m\u001b[0;34m(\u001b[0m\u001b[0mint\u001b[0m\u001b[0;34m)\u001b[0m\u001b[0;34m[\u001b[0m\u001b[0;36m0\u001b[0m\u001b[0;34m]\u001b[0m\u001b[0;34m\u001b[0m\u001b[0;34m\u001b[0m\u001b[0m\n\u001b[0m\u001b[1;32m      4\u001b[0m     )\n\u001b[1;32m      5\u001b[0m     \u001b[0;32mreturn\u001b[0m \u001b[0mdf\u001b[0m\u001b[0;34m\u001b[0m\u001b[0;34m\u001b[0m\u001b[0m\n",
      "\u001b[0;32m~/miniconda3/envs/tensorflow/lib/python3.7/site-packages/pandas/core/series.py\u001b[0m in \u001b[0;36mapply\u001b[0;34m(self, func, convert_dtype, args, **kwds)\u001b[0m\n\u001b[1;32m   4136\u001b[0m             \u001b[0;32melse\u001b[0m\u001b[0;34m:\u001b[0m\u001b[0;34m\u001b[0m\u001b[0;34m\u001b[0m\u001b[0m\n\u001b[1;32m   4137\u001b[0m                 \u001b[0mvalues\u001b[0m \u001b[0;34m=\u001b[0m \u001b[0mself\u001b[0m\u001b[0;34m.\u001b[0m\u001b[0mastype\u001b[0m\u001b[0;34m(\u001b[0m\u001b[0mobject\u001b[0m\u001b[0;34m)\u001b[0m\u001b[0;34m.\u001b[0m\u001b[0m_values\u001b[0m\u001b[0;34m\u001b[0m\u001b[0;34m\u001b[0m\u001b[0m\n\u001b[0;32m-> 4138\u001b[0;31m                 \u001b[0mmapped\u001b[0m \u001b[0;34m=\u001b[0m \u001b[0mlib\u001b[0m\u001b[0;34m.\u001b[0m\u001b[0mmap_infer\u001b[0m\u001b[0;34m(\u001b[0m\u001b[0mvalues\u001b[0m\u001b[0;34m,\u001b[0m \u001b[0mf\u001b[0m\u001b[0;34m,\u001b[0m \u001b[0mconvert\u001b[0m\u001b[0;34m=\u001b[0m\u001b[0mconvert_dtype\u001b[0m\u001b[0;34m)\u001b[0m\u001b[0;34m\u001b[0m\u001b[0;34m\u001b[0m\u001b[0m\n\u001b[0m\u001b[1;32m   4139\u001b[0m \u001b[0;34m\u001b[0m\u001b[0m\n\u001b[1;32m   4140\u001b[0m         \u001b[0;32mif\u001b[0m \u001b[0mlen\u001b[0m\u001b[0;34m(\u001b[0m\u001b[0mmapped\u001b[0m\u001b[0;34m)\u001b[0m \u001b[0;32mand\u001b[0m \u001b[0misinstance\u001b[0m\u001b[0;34m(\u001b[0m\u001b[0mmapped\u001b[0m\u001b[0;34m[\u001b[0m\u001b[0;36m0\u001b[0m\u001b[0;34m]\u001b[0m\u001b[0;34m,\u001b[0m \u001b[0mSeries\u001b[0m\u001b[0;34m)\u001b[0m\u001b[0;34m:\u001b[0m\u001b[0;34m\u001b[0m\u001b[0;34m\u001b[0m\u001b[0m\n",
      "\u001b[0;32mpandas/_libs/lib.pyx\u001b[0m in \u001b[0;36mpandas._libs.lib.map_infer\u001b[0;34m()\u001b[0m\n",
      "\u001b[0;32m<ipython-input-47-a41bdf42d202>\u001b[0m in \u001b[0;36m<lambda>\u001b[0;34m(x)\u001b[0m\n\u001b[1;32m      1\u001b[0m \u001b[0;32mdef\u001b[0m \u001b[0mreplace_tweets_with_index\u001b[0m\u001b[0;34m(\u001b[0m\u001b[0mdf\u001b[0m\u001b[0;34m)\u001b[0m\u001b[0;34m:\u001b[0m\u001b[0;34m\u001b[0m\u001b[0;34m\u001b[0m\u001b[0m\n\u001b[1;32m      2\u001b[0m     df.tweet_text = df.tweet_text.apply(\n\u001b[0;32m----> 3\u001b[0;31m         \u001b[0;32mlambda\u001b[0m \u001b[0mx\u001b[0m\u001b[0;34m:\u001b[0m \u001b[0mddf_tweettexts\u001b[0m\u001b[0;34m[\u001b[0m\u001b[0mddf_tweettexts\u001b[0m\u001b[0;34m.\u001b[0m\u001b[0mtweet_text\u001b[0m \u001b[0;34m==\u001b[0m \u001b[0mx\u001b[0m\u001b[0;34m]\u001b[0m\u001b[0;34m.\u001b[0m\u001b[0mcompute\u001b[0m\u001b[0;34m(\u001b[0m\u001b[0;34m)\u001b[0m\u001b[0;34m.\u001b[0m\u001b[0mindex\u001b[0m\u001b[0;34m.\u001b[0m\u001b[0mvalues\u001b[0m\u001b[0;34m.\u001b[0m\u001b[0mastype\u001b[0m\u001b[0;34m(\u001b[0m\u001b[0mint\u001b[0m\u001b[0;34m)\u001b[0m\u001b[0;34m[\u001b[0m\u001b[0;36m0\u001b[0m\u001b[0;34m]\u001b[0m\u001b[0;34m\u001b[0m\u001b[0;34m\u001b[0m\u001b[0m\n\u001b[0m\u001b[1;32m      4\u001b[0m     )\n\u001b[1;32m      5\u001b[0m     \u001b[0;32mreturn\u001b[0m \u001b[0mdf\u001b[0m\u001b[0;34m\u001b[0m\u001b[0;34m\u001b[0m\u001b[0m\n",
      "\u001b[0;31mIndexError\u001b[0m: index 0 is out of bounds for axis 0 with size 0"
     ]
    }
   ],
   "source": [
    "df_sample_test = replace_tweets_with_index(df_sample)"
   ]
  },
  {
   "cell_type": "code",
   "execution_count": 49,
   "metadata": {},
   "outputs": [
    {
     "data": {
      "text/plain": [
       "tweetid\n",
       "1000293959669821440      210\n",
       "1000897770969096192     8232\n",
       "1000773724130435073      851\n",
       "1000004737947852803       96\n",
       "1000625435238125568      653\n",
       "1001262936164392960     4124\n",
       "1001010534756601856     9834\n",
       "1000612102652952577     3571\n",
       "1000464129243668482     4960\n",
       "1001560511694233605     2803\n",
       "1000401617223671814     4139\n",
       "1000767866977898496     5639\n",
       "1000975339756163072     9743\n",
       "1001390676645437440    10463\n",
       "1001276109407899648    10463\n",
       "1000916013469327362     9271\n",
       "1000881788653330432     2842\n",
       "1000494453965164544     5397\n",
       "1001356783011557376      897\n",
       "1000541180818591746     5901\n",
       "1000882562934497282     8856\n",
       "1000868540109467648     8688\n",
       "1001102711008395272    10441\n",
       "1000992220676227072     3704\n",
       "1000848118617960448     8415\n",
       "Name: tweet_text, dtype: int64"
      ]
     },
     "execution_count": 49,
     "metadata": {},
     "output_type": "execute_result"
    }
   ],
   "source": [
    "df_sample_test.tweet_text"
   ]
  },
  {
   "cell_type": "markdown",
   "metadata": {},
   "source": [
    "## STUCK HERE\n",
    "\n",
    "This is working when we apply it to a local df. \n",
    "\n",
    "It seems to stop working when we pass it to map_partitions(), even though each partition is a df.\n",
    "\n",
    "Worker logs are saying \"inputs contain futures that were created by another client.\" Waiting for feedback from Coiled Slack. Let's see..."
   ]
  },
  {
   "cell_type": "code",
   "execution_count": 51,
   "metadata": {},
   "outputs": [],
   "source": [
    "# map function to all partitions: ddf_tweets_replaced\n",
    "ddf_tweets_replaced = ddf.map_partitions(replace_tweets_with_index, meta=ddf).persist()"
   ]
  },
  {
   "cell_type": "code",
   "execution_count": null,
   "metadata": {},
   "outputs": [],
   "source": [
    "ddf_tweets"
   ]
  },
  {
   "cell_type": "code",
   "execution_count": null,
   "metadata": {},
   "outputs": [],
   "source": []
  },
  {
   "cell_type": "code",
   "execution_count": 33,
   "metadata": {},
   "outputs": [],
   "source": [
    "# def replace_tweet_with_index(tweet):\n",
    "#     tweet = ddf_tweettexts[ddf_tweettexts.tweet_text == tweet].compute().index.values.astype(int)[0]\n",
    "#     return tweet"
   ]
  },
  {
   "cell_type": "code",
   "execution_count": 36,
   "metadata": {},
   "outputs": [],
   "source": [
    "# # define function to pass to map_partitions\n",
    "# def replace_tweet_column_with_index(df):\n",
    "#     df.tweet_text = df.tweet_text.apply(replace_tweet_with_index, meta=df)\n",
    "#     return df"
   ]
  },
  {
   "cell_type": "code",
   "execution_count": null,
   "metadata": {},
   "outputs": [],
   "source": []
  },
  {
   "cell_type": "code",
   "execution_count": 17,
   "metadata": {},
   "outputs": [],
   "source": [
    "ddf2 = ddf.copy().persist()"
   ]
  },
  {
   "cell_type": "code",
   "execution_count": null,
   "metadata": {},
   "outputs": [],
   "source": []
  },
  {
   "cell_type": "code",
   "execution_count": null,
   "metadata": {},
   "outputs": [],
   "source": []
  },
  {
   "cell_type": "code",
   "execution_count": 20,
   "metadata": {},
   "outputs": [],
   "source": [
    "# map function to all partitions: ddf_tweets_replaced\n",
    "ddf_tweets_replaced = ddf2.map_partitions(replace_tweet_column_with_index, meta=ddf2).persist()"
   ]
  },
  {
   "cell_type": "code",
   "execution_count": 70,
   "metadata": {},
   "outputs": [
    {
     "ename": "TypeError",
     "evalue": "TLS expects a `ssl_context` argument of type ssl.SSLContext (perhaps check your TLS configuration?)  Instead got None",
     "output_type": "error",
     "traceback": [
      "\u001b[0;31m---------------------------------------------------------------------------\u001b[0m",
      "\u001b[0;31mTypeError\u001b[0m                                 Traceback (most recent call last)",
      "\u001b[0;32m<ipython-input-70-bae4a372f0c7>\u001b[0m in \u001b[0;36m<module>\u001b[0;34m\u001b[0m\n\u001b[0;32m----> 1\u001b[0;31m \u001b[0mddf_tweets_replaced\u001b[0m\u001b[0;34m.\u001b[0m\u001b[0mhead\u001b[0m\u001b[0;34m(\u001b[0m\u001b[0;34m)\u001b[0m\u001b[0;34m\u001b[0m\u001b[0;34m\u001b[0m\u001b[0m\n\u001b[0m",
      "\u001b[0;32m~/miniconda3/envs/tensorflow/lib/python3.7/site-packages/dask/dataframe/core.py\u001b[0m in \u001b[0;36mhead\u001b[0;34m(self, n, npartitions, compute)\u001b[0m\n\u001b[1;32m   1040\u001b[0m             \u001b[0mWhether\u001b[0m \u001b[0mto\u001b[0m \u001b[0mcompute\u001b[0m \u001b[0mthe\u001b[0m \u001b[0mresult\u001b[0m\u001b[0;34m,\u001b[0m \u001b[0mdefault\u001b[0m \u001b[0;32mis\u001b[0m \u001b[0;32mTrue\u001b[0m\u001b[0;34m.\u001b[0m\u001b[0;34m\u001b[0m\u001b[0;34m\u001b[0m\u001b[0m\n\u001b[1;32m   1041\u001b[0m         \"\"\"\n\u001b[0;32m-> 1042\u001b[0;31m         \u001b[0;32mreturn\u001b[0m \u001b[0mself\u001b[0m\u001b[0;34m.\u001b[0m\u001b[0m_head\u001b[0m\u001b[0;34m(\u001b[0m\u001b[0mn\u001b[0m\u001b[0;34m=\u001b[0m\u001b[0mn\u001b[0m\u001b[0;34m,\u001b[0m \u001b[0mnpartitions\u001b[0m\u001b[0;34m=\u001b[0m\u001b[0mnpartitions\u001b[0m\u001b[0;34m,\u001b[0m \u001b[0mcompute\u001b[0m\u001b[0;34m=\u001b[0m\u001b[0mcompute\u001b[0m\u001b[0;34m,\u001b[0m \u001b[0msafe\u001b[0m\u001b[0;34m=\u001b[0m\u001b[0;32mTrue\u001b[0m\u001b[0;34m)\u001b[0m\u001b[0;34m\u001b[0m\u001b[0;34m\u001b[0m\u001b[0m\n\u001b[0m\u001b[1;32m   1043\u001b[0m \u001b[0;34m\u001b[0m\u001b[0m\n\u001b[1;32m   1044\u001b[0m     \u001b[0;32mdef\u001b[0m \u001b[0m_head\u001b[0m\u001b[0;34m(\u001b[0m\u001b[0mself\u001b[0m\u001b[0;34m,\u001b[0m \u001b[0mn\u001b[0m\u001b[0;34m,\u001b[0m \u001b[0mnpartitions\u001b[0m\u001b[0;34m,\u001b[0m \u001b[0mcompute\u001b[0m\u001b[0;34m,\u001b[0m \u001b[0msafe\u001b[0m\u001b[0;34m)\u001b[0m\u001b[0;34m:\u001b[0m\u001b[0;34m\u001b[0m\u001b[0;34m\u001b[0m\u001b[0m\n",
      "\u001b[0;32m~/miniconda3/envs/tensorflow/lib/python3.7/site-packages/dask/dataframe/core.py\u001b[0m in \u001b[0;36m_head\u001b[0;34m(self, n, npartitions, compute, safe)\u001b[0m\n\u001b[1;32m   1073\u001b[0m \u001b[0;34m\u001b[0m\u001b[0m\n\u001b[1;32m   1074\u001b[0m         \u001b[0;32mif\u001b[0m \u001b[0mcompute\u001b[0m\u001b[0;34m:\u001b[0m\u001b[0;34m\u001b[0m\u001b[0;34m\u001b[0m\u001b[0m\n\u001b[0;32m-> 1075\u001b[0;31m             \u001b[0mresult\u001b[0m \u001b[0;34m=\u001b[0m \u001b[0mresult\u001b[0m\u001b[0;34m.\u001b[0m\u001b[0mcompute\u001b[0m\u001b[0;34m(\u001b[0m\u001b[0;34m)\u001b[0m\u001b[0;34m\u001b[0m\u001b[0;34m\u001b[0m\u001b[0m\n\u001b[0m\u001b[1;32m   1076\u001b[0m         \u001b[0;32mreturn\u001b[0m \u001b[0mresult\u001b[0m\u001b[0;34m\u001b[0m\u001b[0;34m\u001b[0m\u001b[0m\n\u001b[1;32m   1077\u001b[0m \u001b[0;34m\u001b[0m\u001b[0m\n",
      "\u001b[0;32m~/miniconda3/envs/tensorflow/lib/python3.7/site-packages/dask/base.py\u001b[0m in \u001b[0;36mcompute\u001b[0;34m(self, **kwargs)\u001b[0m\n\u001b[1;32m    279\u001b[0m         \u001b[0mdask\u001b[0m\u001b[0;34m.\u001b[0m\u001b[0mbase\u001b[0m\u001b[0;34m.\u001b[0m\u001b[0mcompute\u001b[0m\u001b[0;34m\u001b[0m\u001b[0;34m\u001b[0m\u001b[0m\n\u001b[1;32m    280\u001b[0m         \"\"\"\n\u001b[0;32m--> 281\u001b[0;31m         \u001b[0;34m(\u001b[0m\u001b[0mresult\u001b[0m\u001b[0;34m,\u001b[0m\u001b[0;34m)\u001b[0m \u001b[0;34m=\u001b[0m \u001b[0mcompute\u001b[0m\u001b[0;34m(\u001b[0m\u001b[0mself\u001b[0m\u001b[0;34m,\u001b[0m \u001b[0mtraverse\u001b[0m\u001b[0;34m=\u001b[0m\u001b[0;32mFalse\u001b[0m\u001b[0;34m,\u001b[0m \u001b[0;34m**\u001b[0m\u001b[0mkwargs\u001b[0m\u001b[0;34m)\u001b[0m\u001b[0;34m\u001b[0m\u001b[0;34m\u001b[0m\u001b[0m\n\u001b[0m\u001b[1;32m    282\u001b[0m         \u001b[0;32mreturn\u001b[0m \u001b[0mresult\u001b[0m\u001b[0;34m\u001b[0m\u001b[0;34m\u001b[0m\u001b[0m\n\u001b[1;32m    283\u001b[0m \u001b[0;34m\u001b[0m\u001b[0m\n",
      "\u001b[0;32m~/miniconda3/envs/tensorflow/lib/python3.7/site-packages/dask/base.py\u001b[0m in \u001b[0;36mcompute\u001b[0;34m(*args, **kwargs)\u001b[0m\n\u001b[1;32m    561\u001b[0m         \u001b[0mpostcomputes\u001b[0m\u001b[0;34m.\u001b[0m\u001b[0mappend\u001b[0m\u001b[0;34m(\u001b[0m\u001b[0mx\u001b[0m\u001b[0;34m.\u001b[0m\u001b[0m__dask_postcompute__\u001b[0m\u001b[0;34m(\u001b[0m\u001b[0;34m)\u001b[0m\u001b[0;34m)\u001b[0m\u001b[0;34m\u001b[0m\u001b[0;34m\u001b[0m\u001b[0m\n\u001b[1;32m    562\u001b[0m \u001b[0;34m\u001b[0m\u001b[0m\n\u001b[0;32m--> 563\u001b[0;31m     \u001b[0mresults\u001b[0m \u001b[0;34m=\u001b[0m \u001b[0mschedule\u001b[0m\u001b[0;34m(\u001b[0m\u001b[0mdsk\u001b[0m\u001b[0;34m,\u001b[0m \u001b[0mkeys\u001b[0m\u001b[0;34m,\u001b[0m \u001b[0;34m**\u001b[0m\u001b[0mkwargs\u001b[0m\u001b[0;34m)\u001b[0m\u001b[0;34m\u001b[0m\u001b[0;34m\u001b[0m\u001b[0m\n\u001b[0m\u001b[1;32m    564\u001b[0m     \u001b[0;32mreturn\u001b[0m \u001b[0mrepack\u001b[0m\u001b[0;34m(\u001b[0m\u001b[0;34m[\u001b[0m\u001b[0mf\u001b[0m\u001b[0;34m(\u001b[0m\u001b[0mr\u001b[0m\u001b[0;34m,\u001b[0m \u001b[0;34m*\u001b[0m\u001b[0ma\u001b[0m\u001b[0;34m)\u001b[0m \u001b[0;32mfor\u001b[0m \u001b[0mr\u001b[0m\u001b[0;34m,\u001b[0m \u001b[0;34m(\u001b[0m\u001b[0mf\u001b[0m\u001b[0;34m,\u001b[0m \u001b[0ma\u001b[0m\u001b[0;34m)\u001b[0m \u001b[0;32min\u001b[0m \u001b[0mzip\u001b[0m\u001b[0;34m(\u001b[0m\u001b[0mresults\u001b[0m\u001b[0;34m,\u001b[0m \u001b[0mpostcomputes\u001b[0m\u001b[0;34m)\u001b[0m\u001b[0;34m]\u001b[0m\u001b[0;34m)\u001b[0m\u001b[0;34m\u001b[0m\u001b[0;34m\u001b[0m\u001b[0m\n\u001b[1;32m    565\u001b[0m \u001b[0;34m\u001b[0m\u001b[0m\n",
      "\u001b[0;32m~/miniconda3/envs/tensorflow/lib/python3.7/site-packages/distributed/client.py\u001b[0m in \u001b[0;36mget\u001b[0;34m(self, dsk, keys, workers, allow_other_workers, resources, sync, asynchronous, direct, retries, priority, fifo_timeout, actors, **kwargs)\u001b[0m\n\u001b[1;32m   2653\u001b[0m                     \u001b[0mshould_rejoin\u001b[0m \u001b[0;34m=\u001b[0m \u001b[0;32mFalse\u001b[0m\u001b[0;34m\u001b[0m\u001b[0;34m\u001b[0m\u001b[0m\n\u001b[1;32m   2654\u001b[0m             \u001b[0;32mtry\u001b[0m\u001b[0;34m:\u001b[0m\u001b[0;34m\u001b[0m\u001b[0;34m\u001b[0m\u001b[0m\n\u001b[0;32m-> 2655\u001b[0;31m                 \u001b[0mresults\u001b[0m \u001b[0;34m=\u001b[0m \u001b[0mself\u001b[0m\u001b[0;34m.\u001b[0m\u001b[0mgather\u001b[0m\u001b[0;34m(\u001b[0m\u001b[0mpacked\u001b[0m\u001b[0;34m,\u001b[0m \u001b[0masynchronous\u001b[0m\u001b[0;34m=\u001b[0m\u001b[0masynchronous\u001b[0m\u001b[0;34m,\u001b[0m \u001b[0mdirect\u001b[0m\u001b[0;34m=\u001b[0m\u001b[0mdirect\u001b[0m\u001b[0;34m)\u001b[0m\u001b[0;34m\u001b[0m\u001b[0;34m\u001b[0m\u001b[0m\n\u001b[0m\u001b[1;32m   2656\u001b[0m             \u001b[0;32mfinally\u001b[0m\u001b[0;34m:\u001b[0m\u001b[0;34m\u001b[0m\u001b[0;34m\u001b[0m\u001b[0m\n\u001b[1;32m   2657\u001b[0m                 \u001b[0;32mfor\u001b[0m \u001b[0mf\u001b[0m \u001b[0;32min\u001b[0m \u001b[0mfutures\u001b[0m\u001b[0;34m.\u001b[0m\u001b[0mvalues\u001b[0m\u001b[0;34m(\u001b[0m\u001b[0;34m)\u001b[0m\u001b[0;34m:\u001b[0m\u001b[0;34m\u001b[0m\u001b[0;34m\u001b[0m\u001b[0m\n",
      "\u001b[0;32m~/miniconda3/envs/tensorflow/lib/python3.7/site-packages/distributed/client.py\u001b[0m in \u001b[0;36mgather\u001b[0;34m(self, futures, errors, direct, asynchronous)\u001b[0m\n\u001b[1;32m   1968\u001b[0m                 \u001b[0mdirect\u001b[0m\u001b[0;34m=\u001b[0m\u001b[0mdirect\u001b[0m\u001b[0;34m,\u001b[0m\u001b[0;34m\u001b[0m\u001b[0;34m\u001b[0m\u001b[0m\n\u001b[1;32m   1969\u001b[0m                 \u001b[0mlocal_worker\u001b[0m\u001b[0;34m=\u001b[0m\u001b[0mlocal_worker\u001b[0m\u001b[0;34m,\u001b[0m\u001b[0;34m\u001b[0m\u001b[0;34m\u001b[0m\u001b[0m\n\u001b[0;32m-> 1970\u001b[0;31m                 \u001b[0masynchronous\u001b[0m\u001b[0;34m=\u001b[0m\u001b[0masynchronous\u001b[0m\u001b[0;34m,\u001b[0m\u001b[0;34m\u001b[0m\u001b[0;34m\u001b[0m\u001b[0m\n\u001b[0m\u001b[1;32m   1971\u001b[0m             )\n\u001b[1;32m   1972\u001b[0m \u001b[0;34m\u001b[0m\u001b[0m\n",
      "\u001b[0;32m~/miniconda3/envs/tensorflow/lib/python3.7/site-packages/distributed/client.py\u001b[0m in \u001b[0;36msync\u001b[0;34m(self, func, asynchronous, callback_timeout, *args, **kwargs)\u001b[0m\n\u001b[1;32m    837\u001b[0m         \u001b[0;32melse\u001b[0m\u001b[0;34m:\u001b[0m\u001b[0;34m\u001b[0m\u001b[0;34m\u001b[0m\u001b[0m\n\u001b[1;32m    838\u001b[0m             return sync(\n\u001b[0;32m--> 839\u001b[0;31m                 \u001b[0mself\u001b[0m\u001b[0;34m.\u001b[0m\u001b[0mloop\u001b[0m\u001b[0;34m,\u001b[0m \u001b[0mfunc\u001b[0m\u001b[0;34m,\u001b[0m \u001b[0;34m*\u001b[0m\u001b[0margs\u001b[0m\u001b[0;34m,\u001b[0m \u001b[0mcallback_timeout\u001b[0m\u001b[0;34m=\u001b[0m\u001b[0mcallback_timeout\u001b[0m\u001b[0;34m,\u001b[0m \u001b[0;34m**\u001b[0m\u001b[0mkwargs\u001b[0m\u001b[0;34m\u001b[0m\u001b[0;34m\u001b[0m\u001b[0m\n\u001b[0m\u001b[1;32m    840\u001b[0m             )\n\u001b[1;32m    841\u001b[0m \u001b[0;34m\u001b[0m\u001b[0m\n",
      "\u001b[0;32m~/miniconda3/envs/tensorflow/lib/python3.7/site-packages/distributed/utils.py\u001b[0m in \u001b[0;36msync\u001b[0;34m(loop, func, callback_timeout, *args, **kwargs)\u001b[0m\n\u001b[1;32m    338\u001b[0m     \u001b[0;32mif\u001b[0m \u001b[0merror\u001b[0m\u001b[0;34m[\u001b[0m\u001b[0;36m0\u001b[0m\u001b[0;34m]\u001b[0m\u001b[0;34m:\u001b[0m\u001b[0;34m\u001b[0m\u001b[0;34m\u001b[0m\u001b[0m\n\u001b[1;32m    339\u001b[0m         \u001b[0mtyp\u001b[0m\u001b[0;34m,\u001b[0m \u001b[0mexc\u001b[0m\u001b[0;34m,\u001b[0m \u001b[0mtb\u001b[0m \u001b[0;34m=\u001b[0m \u001b[0merror\u001b[0m\u001b[0;34m[\u001b[0m\u001b[0;36m0\u001b[0m\u001b[0;34m]\u001b[0m\u001b[0;34m\u001b[0m\u001b[0;34m\u001b[0m\u001b[0m\n\u001b[0;32m--> 340\u001b[0;31m         \u001b[0;32mraise\u001b[0m \u001b[0mexc\u001b[0m\u001b[0;34m.\u001b[0m\u001b[0mwith_traceback\u001b[0m\u001b[0;34m(\u001b[0m\u001b[0mtb\u001b[0m\u001b[0;34m)\u001b[0m\u001b[0;34m\u001b[0m\u001b[0;34m\u001b[0m\u001b[0m\n\u001b[0m\u001b[1;32m    341\u001b[0m     \u001b[0;32melse\u001b[0m\u001b[0;34m:\u001b[0m\u001b[0;34m\u001b[0m\u001b[0;34m\u001b[0m\u001b[0m\n\u001b[1;32m    342\u001b[0m         \u001b[0;32mreturn\u001b[0m \u001b[0mresult\u001b[0m\u001b[0;34m[\u001b[0m\u001b[0;36m0\u001b[0m\u001b[0;34m]\u001b[0m\u001b[0;34m\u001b[0m\u001b[0;34m\u001b[0m\u001b[0m\n",
      "\u001b[0;32m~/miniconda3/envs/tensorflow/lib/python3.7/site-packages/distributed/utils.py\u001b[0m in \u001b[0;36mf\u001b[0;34m()\u001b[0m\n\u001b[1;32m    322\u001b[0m             \u001b[0;32mif\u001b[0m \u001b[0mcallback_timeout\u001b[0m \u001b[0;32mis\u001b[0m \u001b[0;32mnot\u001b[0m \u001b[0;32mNone\u001b[0m\u001b[0;34m:\u001b[0m\u001b[0;34m\u001b[0m\u001b[0;34m\u001b[0m\u001b[0m\n\u001b[1;32m    323\u001b[0m                 \u001b[0mfuture\u001b[0m \u001b[0;34m=\u001b[0m \u001b[0masyncio\u001b[0m\u001b[0;34m.\u001b[0m\u001b[0mwait_for\u001b[0m\u001b[0;34m(\u001b[0m\u001b[0mfuture\u001b[0m\u001b[0;34m,\u001b[0m \u001b[0mcallback_timeout\u001b[0m\u001b[0;34m)\u001b[0m\u001b[0;34m\u001b[0m\u001b[0;34m\u001b[0m\u001b[0m\n\u001b[0;32m--> 324\u001b[0;31m             \u001b[0mresult\u001b[0m\u001b[0;34m[\u001b[0m\u001b[0;36m0\u001b[0m\u001b[0;34m]\u001b[0m \u001b[0;34m=\u001b[0m \u001b[0;32myield\u001b[0m \u001b[0mfuture\u001b[0m\u001b[0;34m\u001b[0m\u001b[0;34m\u001b[0m\u001b[0m\n\u001b[0m\u001b[1;32m    325\u001b[0m         \u001b[0;32mexcept\u001b[0m \u001b[0mException\u001b[0m \u001b[0;32mas\u001b[0m \u001b[0mexc\u001b[0m\u001b[0;34m:\u001b[0m\u001b[0;34m\u001b[0m\u001b[0;34m\u001b[0m\u001b[0m\n\u001b[1;32m    326\u001b[0m             \u001b[0merror\u001b[0m\u001b[0;34m[\u001b[0m\u001b[0;36m0\u001b[0m\u001b[0;34m]\u001b[0m \u001b[0;34m=\u001b[0m \u001b[0msys\u001b[0m\u001b[0;34m.\u001b[0m\u001b[0mexc_info\u001b[0m\u001b[0;34m(\u001b[0m\u001b[0;34m)\u001b[0m\u001b[0;34m\u001b[0m\u001b[0;34m\u001b[0m\u001b[0m\n",
      "\u001b[0;32m~/miniconda3/envs/tensorflow/lib/python3.7/site-packages/tornado/gen.py\u001b[0m in \u001b[0;36mrun\u001b[0;34m(self)\u001b[0m\n\u001b[1;32m    760\u001b[0m \u001b[0;34m\u001b[0m\u001b[0m\n\u001b[1;32m    761\u001b[0m                     \u001b[0;32mtry\u001b[0m\u001b[0;34m:\u001b[0m\u001b[0;34m\u001b[0m\u001b[0;34m\u001b[0m\u001b[0m\n\u001b[0;32m--> 762\u001b[0;31m                         \u001b[0mvalue\u001b[0m \u001b[0;34m=\u001b[0m \u001b[0mfuture\u001b[0m\u001b[0;34m.\u001b[0m\u001b[0mresult\u001b[0m\u001b[0;34m(\u001b[0m\u001b[0;34m)\u001b[0m\u001b[0;34m\u001b[0m\u001b[0;34m\u001b[0m\u001b[0m\n\u001b[0m\u001b[1;32m    763\u001b[0m                     \u001b[0;32mexcept\u001b[0m \u001b[0mException\u001b[0m\u001b[0;34m:\u001b[0m\u001b[0;34m\u001b[0m\u001b[0;34m\u001b[0m\u001b[0m\n\u001b[1;32m    764\u001b[0m                         \u001b[0mexc_info\u001b[0m \u001b[0;34m=\u001b[0m \u001b[0msys\u001b[0m\u001b[0;34m.\u001b[0m\u001b[0mexc_info\u001b[0m\u001b[0;34m(\u001b[0m\u001b[0;34m)\u001b[0m\u001b[0;34m\u001b[0m\u001b[0;34m\u001b[0m\u001b[0m\n",
      "\u001b[0;32m~/miniconda3/envs/tensorflow/lib/python3.7/site-packages/distributed/client.py\u001b[0m in \u001b[0;36m_gather\u001b[0;34m(self, futures, errors, direct, local_worker)\u001b[0m\n\u001b[1;32m   1827\u001b[0m                             \u001b[0mexc\u001b[0m \u001b[0;34m=\u001b[0m \u001b[0mCancelledError\u001b[0m\u001b[0;34m(\u001b[0m\u001b[0mkey\u001b[0m\u001b[0;34m)\u001b[0m\u001b[0;34m\u001b[0m\u001b[0;34m\u001b[0m\u001b[0m\n\u001b[1;32m   1828\u001b[0m                         \u001b[0;32melse\u001b[0m\u001b[0;34m:\u001b[0m\u001b[0;34m\u001b[0m\u001b[0;34m\u001b[0m\u001b[0m\n\u001b[0;32m-> 1829\u001b[0;31m                             \u001b[0;32mraise\u001b[0m \u001b[0mexception\u001b[0m\u001b[0;34m.\u001b[0m\u001b[0mwith_traceback\u001b[0m\u001b[0;34m(\u001b[0m\u001b[0mtraceback\u001b[0m\u001b[0;34m)\u001b[0m\u001b[0;34m\u001b[0m\u001b[0;34m\u001b[0m\u001b[0m\n\u001b[0m\u001b[1;32m   1830\u001b[0m                         \u001b[0;32mraise\u001b[0m \u001b[0mexc\u001b[0m\u001b[0;34m\u001b[0m\u001b[0;34m\u001b[0m\u001b[0m\n\u001b[1;32m   1831\u001b[0m                     \u001b[0;32mif\u001b[0m \u001b[0merrors\u001b[0m \u001b[0;34m==\u001b[0m \u001b[0;34m\"skip\"\u001b[0m\u001b[0;34m:\u001b[0m\u001b[0;34m\u001b[0m\u001b[0;34m\u001b[0m\u001b[0m\n",
      "\u001b[0;32m/opt/conda/envs/coiled/lib/python3.7/site-packages/distributed/protocol/pickle.py\u001b[0m in \u001b[0;36mloads\u001b[0;34m()\u001b[0m\n",
      "\u001b[0;32m/opt/conda/envs/coiled/lib/python3.7/site-packages/distributed/client.py\u001b[0m in \u001b[0;36m__setstate__\u001b[0;34m()\u001b[0m\n",
      "\u001b[0;32m/opt/conda/envs/coiled/lib/python3.7/site-packages/distributed/worker.py\u001b[0m in \u001b[0;36mget_client\u001b[0;34m()\u001b[0m\n",
      "\u001b[0;32m/opt/conda/envs/coiled/lib/python3.7/site-packages/distributed/client.py\u001b[0m in \u001b[0;36m__init__\u001b[0;34m()\u001b[0m\n",
      "\u001b[0;32m/opt/conda/envs/coiled/lib/python3.7/site-packages/distributed/client.py\u001b[0m in \u001b[0;36mstart\u001b[0;34m()\u001b[0m\n",
      "\u001b[0;32m/opt/conda/envs/coiled/lib/python3.7/site-packages/distributed/utils.py\u001b[0m in \u001b[0;36msync\u001b[0;34m()\u001b[0m\n",
      "\u001b[0;32m/opt/conda/envs/coiled/lib/python3.7/site-packages/distributed/utils.py\u001b[0m in \u001b[0;36mf\u001b[0;34m()\u001b[0m\n",
      "\u001b[0;32m/opt/conda/envs/coiled/lib/python3.7/site-packages/tornado/gen.py\u001b[0m in \u001b[0;36mrun\u001b[0;34m()\u001b[0m\n",
      "\u001b[0;32m/opt/conda/envs/coiled/lib/python3.7/site-packages/distributed/client.py\u001b[0m in \u001b[0;36m_start\u001b[0;34m()\u001b[0m\n",
      "\u001b[0;32m/opt/conda/envs/coiled/lib/python3.7/site-packages/distributed/client.py\u001b[0m in \u001b[0;36m_ensure_connected\u001b[0;34m()\u001b[0m\n",
      "\u001b[0;32m/opt/conda/envs/coiled/lib/python3.7/site-packages/distributed/comm/core.py\u001b[0m in \u001b[0;36mconnect\u001b[0;34m()\u001b[0m\n",
      "\u001b[0;32m/opt/conda/envs/coiled/lib/python3.7/asyncio/tasks.py\u001b[0m in \u001b[0;36mwait_for\u001b[0;34m()\u001b[0m\n",
      "\u001b[0;32m/opt/conda/envs/coiled/lib/python3.7/site-packages/distributed/comm/tcp.py\u001b[0m in \u001b[0;36mconnect\u001b[0;34m()\u001b[0m\n",
      "\u001b[0;32m/opt/conda/envs/coiled/lib/python3.7/site-packages/distributed/comm/tcp.py\u001b[0m in \u001b[0;36m_get_connect_args\u001b[0;34m()\u001b[0m\n",
      "\u001b[0;32m/opt/conda/envs/coiled/lib/python3.7/site-packages/distributed/comm/tcp.py\u001b[0m in \u001b[0;36m_expect_tls_context\u001b[0;34m()\u001b[0m\n",
      "\u001b[0;31mTypeError\u001b[0m: TLS expects a `ssl_context` argument of type ssl.SSLContext (perhaps check your TLS configuration?)  Instead got None"
     ]
    }
   ],
   "source": [
    "ddf_tweets_replaced.head()"
   ]
  },
  {
   "cell_type": "code",
   "execution_count": null,
   "metadata": {},
   "outputs": [],
   "source": []
  },
  {
   "cell_type": "code",
   "execution_count": null,
   "metadata": {},
   "outputs": [],
   "source": []
  },
  {
   "cell_type": "code",
   "execution_count": null,
   "metadata": {},
   "outputs": [],
   "source": []
  },
  {
   "cell_type": "markdown",
   "metadata": {},
   "source": [
    "## NEXT STEPS\n",
    "\n",
    "1. ~~Save series to s3~~\n",
    "2. How to replace tweet_text bodies in full table with index of original tweets?\n",
    "3. Done with wrangling, proceed to EDA."
   ]
  },
  {
   "cell_type": "code",
   "execution_count": null,
   "metadata": {},
   "outputs": [],
   "source": []
  },
  {
   "cell_type": "code",
   "execution_count": null,
   "metadata": {},
   "outputs": [],
   "source": []
  },
  {
   "cell_type": "code",
   "execution_count": null,
   "metadata": {},
   "outputs": [],
   "source": []
  },
  {
   "cell_type": "code",
   "execution_count": null,
   "metadata": {},
   "outputs": [],
   "source": []
  },
  {
   "cell_type": "code",
   "execution_count": null,
   "metadata": {},
   "outputs": [],
   "source": []
  },
  {
   "cell_type": "code",
   "execution_count": null,
   "metadata": {},
   "outputs": [],
   "source": []
  },
  {
   "cell_type": "code",
   "execution_count": null,
   "metadata": {},
   "outputs": [],
   "source": []
  },
  {
   "cell_type": "markdown",
   "metadata": {},
   "source": [
    "## Further Inspecting Tweet_Text Column\n",
    "\n",
    "I want to get a sense of how 'clean' the column tweet_text is. Does it include only tweet bodies or do we have many shifted cells here, too?"
   ]
  },
  {
   "cell_type": "code",
   "execution_count": null,
   "metadata": {},
   "outputs": [],
   "source": [
    "df0 = ddf.partitions[0].compute()"
   ]
  },
  {
   "cell_type": "code",
   "execution_count": null,
   "metadata": {},
   "outputs": [],
   "source": [
    "df0.tweet_text"
   ]
  },
  {
   "cell_type": "markdown",
   "metadata": {},
   "source": [
    "That's a lot of re-tweets. Let's see how many."
   ]
  },
  {
   "cell_type": "code",
   "execution_count": null,
   "metadata": {},
   "outputs": [],
   "source": [
    "df0.tweet_text.str.startswith(\"RT\").count()"
   ]
  },
  {
   "cell_type": "markdown",
   "metadata": {},
   "source": [
    "All of the tweets in this partition are retweets.\n",
    "\n",
    "That's:\n",
    "- interesting. Will we want to include retweets or not?\n",
    "- good, because it means all of the tweet_text fields in this partition contain what they should: tweet text"
   ]
  },
  {
   "cell_type": "code",
   "execution_count": null,
   "metadata": {},
   "outputs": [],
   "source": [
    "# let's check partition 10 which has at least 1 faulty userid, i.e. is shifted\n",
    "df10 = ddf.partitions[10].compute()"
   ]
  },
  {
   "cell_type": "code",
   "execution_count": null,
   "metadata": {},
   "outputs": [],
   "source": [
    "df10.tweet_text"
   ]
  },
  {
   "cell_type": "markdown",
   "metadata": {},
   "source": [
    "The first entry of partition 10 is shifted > tweet_text has the value 0 instead of the tweet body. Let's take a closer look at the row to see what's happening here."
   ]
  },
  {
   "cell_type": "code",
   "execution_count": null,
   "metadata": {},
   "outputs": [],
   "source": [
    "df10.iloc[0]"
   ]
  },
  {
   "cell_type": "markdown",
   "metadata": {},
   "source": [
    "Let's find a partition that doesn't contain only retweets."
   ]
  },
  {
   "cell_type": "code",
   "execution_count": null,
   "metadata": {},
   "outputs": [],
   "source": [
    "# get partition 1 and store as pandas df\n",
    "df1 = ddf.partitions[1].compute()"
   ]
  },
  {
   "cell_type": "code",
   "execution_count": null,
   "metadata": {},
   "outputs": [],
   "source": [
    "# get tweet_text column\n",
    "df1.tweet_text"
   ]
  },
  {
   "cell_type": "code",
   "execution_count": null,
   "metadata": {},
   "outputs": [],
   "source": [
    "# check if we have any non-retweets\n",
    "df1.is_retweet.str.contains('false').sum()"
   ]
  },
  {
   "cell_type": "code",
   "execution_count": null,
   "metadata": {},
   "outputs": [],
   "source": [
    "# get non-retweets\n",
    "df1[df1.is_retweet == 'false']"
   ]
  },
  {
   "cell_type": "code",
   "execution_count": null,
   "metadata": {},
   "outputs": [],
   "source": [
    "df1.iloc[0:3]"
   ]
  },
  {
   "cell_type": "markdown",
   "metadata": {},
   "source": [
    "Hmm. We also have some entries for which userid is \"None\" instead of the date. The tweet_text seems to still be in the 'tweetid' though."
   ]
  },
  {
   "cell_type": "code",
   "execution_count": null,
   "metadata": {},
   "outputs": [],
   "source": []
  },
  {
   "cell_type": "code",
   "execution_count": null,
   "metadata": {},
   "outputs": [],
   "source": []
  },
  {
   "cell_type": "markdown",
   "metadata": {},
   "source": [
    "OK, so technically we could:\n",
    "\n",
    "1. move the tweet text from the tweetid to tweet_text\n",
    "2. maintain tweet_time (move from userid to tweet_time)\n",
    "3. proceed without userid, tweetid, is_retweet, tweet_language, a.o.\n",
    "\n",
    "Let's do it that way and then\n",
    "- get is_retweet from presence of RT at beginning of tweet text"
   ]
  },
  {
   "cell_type": "markdown",
   "metadata": {},
   "source": [
    "## Inspecting Retweets\n",
    "\n",
    "Let's see how many of these tweets are re-tweets.\n",
    "\n",
    "Since the is_retweet column contains some faulty (shifted) data, it's not a bool data types, but string. So let's check how many .contains('True')"
   ]
  },
  {
   "cell_type": "code",
   "execution_count": null,
   "metadata": {},
   "outputs": [],
   "source": [
    "%%time\n",
    "# check how many is_retweet entries contain 'True'\n",
    "num_retweets = ddf.is_retweet.str.contains('true').sum().compute()"
   ]
  },
  {
   "cell_type": "code",
   "execution_count": null,
   "metadata": {},
   "outputs": [],
   "source": [
    "%%time\n",
    "num_nonretweets = ddf.is_retweet.str.contains('false').sum().compute()"
   ]
  },
  {
   "cell_type": "code",
   "execution_count": null,
   "metadata": {},
   "outputs": [],
   "source": [
    "ddf_length = ddf.shape[0].compute()\n",
    "ddf_length"
   ]
  },
  {
   "cell_type": "code",
   "execution_count": null,
   "metadata": {},
   "outputs": [],
   "source": [
    "num_retweets / ddf_length * 100, num_nonretweets / ddf_length * 100"
   ]
  },
  {
   "cell_type": "markdown",
   "metadata": {},
   "source": [
    "Wow.\n",
    "\n",
    "- 33.1 mln re-tweets = ~90%\n",
    "- 3.4 mln tweets = ~9.5%\n",
    "\n",
    "That's going to be the first split of our data: tweets and re-tweets."
   ]
  },
  {
   "cell_type": "code",
   "execution_count": null,
   "metadata": {},
   "outputs": [],
   "source": []
  },
  {
   "cell_type": "code",
   "execution_count": null,
   "metadata": {},
   "outputs": [],
   "source": []
  },
  {
   "cell_type": "code",
   "execution_count": null,
   "metadata": {},
   "outputs": [],
   "source": []
  },
  {
   "cell_type": "markdown",
   "metadata": {},
   "source": [
    "## Number of Unique Tweets"
   ]
  },
  {
   "cell_type": "code",
   "execution_count": null,
   "metadata": {},
   "outputs": [],
   "source": []
  },
  {
   "cell_type": "code",
   "execution_count": null,
   "metadata": {},
   "outputs": [],
   "source": []
  },
  {
   "cell_type": "code",
   "execution_count": null,
   "metadata": {},
   "outputs": [],
   "source": []
  },
  {
   "cell_type": "code",
   "execution_count": null,
   "metadata": {},
   "outputs": [],
   "source": []
  },
  {
   "cell_type": "code",
   "execution_count": null,
   "metadata": {},
   "outputs": [],
   "source": []
  },
  {
   "cell_type": "markdown",
   "metadata": {},
   "source": [
    "### Number of Unique Users"
   ]
  },
  {
   "cell_type": "code",
   "execution_count": null,
   "metadata": {},
   "outputs": [],
   "source": [
    "ddf.columns"
   ]
  },
  {
   "cell_type": "code",
   "execution_count": null,
   "metadata": {},
   "outputs": [],
   "source": [
    "# list number of unique users\n",
    "unique_users = ddf.userid.unique().compute()"
   ]
  },
  {
   "cell_type": "code",
   "execution_count": null,
   "metadata": {},
   "outputs": [],
   "source": [
    "# look at sample to see if we might have any other faulty imports\n",
    "unique_users.sample(20)"
   ]
  },
  {
   "cell_type": "markdown",
   "metadata": {},
   "source": [
    "There are 4480 unique users in this subset of the dataset. This is less than Twitter mentioned in their statement. This is because some users didn't actively Tweet and were therefore not included in this dataset."
   ]
  },
  {
   "cell_type": "markdown",
   "metadata": {},
   "source": [
    "### Number of Tweets per User"
   ]
  },
  {
   "cell_type": "code",
   "execution_count": null,
   "metadata": {},
   "outputs": [],
   "source": [
    "%%time\n",
    "# get number of tweets per userid\n",
    "ddf.groupby(['userid']).tweetid.count().compute()"
   ]
  },
  {
   "cell_type": "code",
   "execution_count": null,
   "metadata": {},
   "outputs": [],
   "source": [
    "%%time\n",
    "# get average number of tweets per user id\n",
    "ddf.groupby(['userid']).tweetid.count().mean().compute()"
   ]
  },
  {
   "cell_type": "code",
   "execution_count": null,
   "metadata": {},
   "outputs": [],
   "source": [
    "%%time\n",
    "# get top 10 max number of tweets per userid\n",
    "tweets_per_user = ddf.groupby(['userid']).tweetid.count().compute()"
   ]
  },
  {
   "cell_type": "code",
   "execution_count": null,
   "metadata": {},
   "outputs": [],
   "source": [
    "# sort tweet values descending and print out first 10\n",
    "tweets_per_user.sort_values(inplace=True, ascending=False)\n",
    "tweets_per_user.head(10)"
   ]
  },
  {
   "cell_type": "code",
   "execution_count": null,
   "metadata": {},
   "outputs": [],
   "source": [
    "# print out bottom 10\n",
    "tweets_per_user.tail(25)"
   ]
  },
  {
   "cell_type": "markdown",
   "metadata": {},
   "source": [
    "We have a problem. Some tweets have the date in the user_id field."
   ]
  },
  {
   "cell_type": "markdown",
   "metadata": {},
   "source": [
    "## Inspecting Faulty User_IDs"
   ]
  },
  {
   "cell_type": "markdown",
   "metadata": {},
   "source": [
    "Let's access the first partition (which is a pandas dataframe) so we can look at what's happening at row 410 (skipped because of unexpected end of data)."
   ]
  },
  {
   "cell_type": "code",
   "execution_count": null,
   "metadata": {},
   "outputs": [],
   "source": [
    "%%time\n",
    "df_0 = ddf.partitions[0].compute()"
   ]
  },
  {
   "cell_type": "code",
   "execution_count": null,
   "metadata": {},
   "outputs": [],
   "source": [
    "df_0.shape"
   ]
  },
  {
   "cell_type": "code",
   "execution_count": null,
   "metadata": {},
   "outputs": [],
   "source": [
    "df_0.iloc[409]"
   ]
  },
  {
   "cell_type": "markdown",
   "metadata": {},
   "source": [
    "Nothing strange at index 408, 409, 410, 411, 412.\n",
    "\n",
    "Let's check the last entries of the last partition."
   ]
  },
  {
   "cell_type": "code",
   "execution_count": null,
   "metadata": {},
   "outputs": [],
   "source": [
    "df_last = ddf.partitions[-1].compute()"
   ]
  },
  {
   "cell_type": "code",
   "execution_count": null,
   "metadata": {},
   "outputs": [],
   "source": [
    "df_last.shape"
   ]
  },
  {
   "cell_type": "code",
   "execution_count": null,
   "metadata": {},
   "outputs": [],
   "source": [
    "df_last.iloc[23212]"
   ]
  },
  {
   "cell_type": "markdown",
   "metadata": {},
   "source": [
    "Nothing strange here, either.\n",
    "\n",
    "Where are the rows with dates as userid?"
   ]
  },
  {
   "cell_type": "code",
   "execution_count": null,
   "metadata": {},
   "outputs": [],
   "source": [
    "%%time\n",
    "# let's try to find one of them\n",
    "ddf[ddf.userid == \"2017-07-18 06:01\"].compute()"
   ]
  },
  {
   "cell_type": "markdown",
   "metadata": {},
   "source": [
    "It looks like this is a shifted row. The tweet_text is in the tweetid column, the tweet_time in the userid, etc."
   ]
  },
  {
   "cell_type": "markdown",
   "metadata": {},
   "source": [
    "Let's check the first and last partitions. And a few in between."
   ]
  },
  {
   "cell_type": "code",
   "execution_count": null,
   "metadata": {},
   "outputs": [],
   "source": [
    "df_temp = ddf.partitions[9].compute()"
   ]
  },
  {
   "cell_type": "code",
   "execution_count": null,
   "metadata": {},
   "outputs": [],
   "source": [
    "df_temp[df_temp.userid.str.startswith('20')]"
   ]
  },
  {
   "cell_type": "markdown",
   "metadata": {},
   "source": [
    "The last partitions just yield an empty dataframe. Partitions 2,3,4,5 yield an error because the column contains NaN values.\n",
    "\n",
    "Partition 9 yields one result. But this is no way to get through everything."
   ]
  },
  {
   "cell_type": "markdown",
   "metadata": {},
   "source": [
    "Other approach: write custom function that we'll pass to map_partitions to get userid's that start with '20'"
   ]
  },
  {
   "cell_type": "code",
   "execution_count": null,
   "metadata": {},
   "outputs": [],
   "source": [
    "def get_faulty_ids(df):\n",
    "    df_all = pd.DataFrame()\n",
    "    try:\n",
    "        df_faulty = df[df.userid.str.startswith('20')]\n",
    "        return df_all.append(df_faulty)\n",
    "    except:\n",
    "        pass \n",
    "    return df_all"
   ]
  },
  {
   "cell_type": "code",
   "execution_count": null,
   "metadata": {
    "scrolled": false
   },
   "outputs": [],
   "source": [
    "%%time\n",
    "# pass faulty_ids function to each partition\n",
    "df_faultyrows = ddf.map_partitions(get_faulty_ids).compute()\n",
    "df_faultyrows"
   ]
  },
  {
   "cell_type": "code",
   "execution_count": null,
   "metadata": {},
   "outputs": [],
   "source": [
    "# export df_faultyrows to local csv\n",
    "df_faultyrows.to_csv('/Users/richard/Desktop/springboard_repo/capstones/three/331_faulty_rows.csv')"
   ]
  },
  {
   "cell_type": "markdown",
   "metadata": {},
   "source": [
    "Nice! That worked. \n",
    "\n",
    "Looking at the dates (which are in the userid column) they are from a bunch of different times.\n",
    "\n",
    "There are 331 rows for which the row contents have shifted. \n",
    "\n",
    "Now, let's:\n",
    "- remove rows with NaN in tweet_text field\n",
    "- remove faulty rows\n"
   ]
  },
  {
   "cell_type": "code",
   "execution_count": null,
   "metadata": {},
   "outputs": [],
   "source": []
  },
  {
   "cell_type": "markdown",
   "metadata": {},
   "source": [
    "## Inspecting Tweet_Text Column to Remove Faulty Entries\n",
    "\n",
    "The tweet_text column contains faulty entries that are:\n",
    "- NaNs\n",
    "- only digits (shifted rows due to faulty import)"
   ]
  },
  {
   "cell_type": "markdown",
   "metadata": {},
   "source": [
    "## Drop NaNs from ddf"
   ]
  },
  {
   "cell_type": "code",
   "execution_count": null,
   "metadata": {},
   "outputs": [],
   "source": [
    "%%time\n",
    "# drop rows for which tweet_text is NaN\n",
    "ddf = ddf.dropna(subset=['tweet_text']).persist()"
   ]
  },
  {
   "cell_type": "code",
   "execution_count": null,
   "metadata": {},
   "outputs": [],
   "source": [
    "%%time\n",
    "ddf.shape[0].compute()"
   ]
  },
  {
   "cell_type": "code",
   "execution_count": null,
   "metadata": {},
   "outputs": [],
   "source": [
    "n_rows_all - 36523949"
   ]
  },
  {
   "cell_type": "markdown",
   "metadata": {},
   "source": [
    "Dropping the rows with NaN in tweet_text still leaves us with >36.5mln tweets. We have dropped 438 rows."
   ]
  },
  {
   "cell_type": "markdown",
   "metadata": {},
   "source": [
    "Now let's see how many faulty rows are left:"
   ]
  },
  {
   "cell_type": "code",
   "execution_count": null,
   "metadata": {},
   "outputs": [],
   "source": [
    "%%time\n",
    "# pass faulty_ids function to each partition of ddf without NaN rows\n",
    "df_faultyrows_noNANs = ddf.map_partitions(get_faulty_ids).compute()\n",
    "df_faultyrows_noNANs"
   ]
  },
  {
   "cell_type": "markdown",
   "metadata": {},
   "source": [
    "How is that possible?\n",
    "\n",
    "The number of faulty rows changes (more than double) after removing the rows with NaNs in tweet_text.\n",
    "\n",
    "That's because the get_faulty_ids function skipped partitions that had NaNs in the userid (it does a try/except).\n",
    "\n",
    "So we should drop NaNs first."
   ]
  },
  {
   "cell_type": "code",
   "execution_count": null,
   "metadata": {},
   "outputs": [],
   "source": []
  },
  {
   "cell_type": "code",
   "execution_count": null,
   "metadata": {},
   "outputs": [],
   "source": []
  },
  {
   "cell_type": "code",
   "execution_count": null,
   "metadata": {},
   "outputs": [],
   "source": []
  },
  {
   "cell_type": "code",
   "execution_count": null,
   "metadata": {},
   "outputs": [],
   "source": []
  },
  {
   "cell_type": "markdown",
   "metadata": {},
   "source": [
    "## Inspecting Local .CSV"
   ]
  },
  {
   "cell_type": "markdown",
   "metadata": {},
   "source": [
    "Let's read the first .csv file locally to see if we get the same problem with the shifted lines:"
   ]
  },
  {
   "cell_type": "code",
   "execution_count": null,
   "metadata": {},
   "outputs": [],
   "source": [
    "df_local = pd.read_csv('/Users/richard/Desktop/datasets/twitter_transparency/sa_eg_ae_022020_tweets_csv_hashed_01.csv')"
   ]
  },
  {
   "cell_type": "code",
   "execution_count": null,
   "metadata": {},
   "outputs": [],
   "source": [
    "df_local.head()"
   ]
  },
  {
   "cell_type": "code",
   "execution_count": null,
   "metadata": {},
   "outputs": [],
   "source": [
    "df_local[df_local.userid.str.startswith('20')]"
   ]
  },
  {
   "cell_type": "markdown",
   "metadata": {},
   "source": [
    "No. Not for the first csv file. Problem must be in a later file."
   ]
  },
  {
   "cell_type": "code",
   "execution_count": null,
   "metadata": {},
   "outputs": [],
   "source": []
  },
  {
   "cell_type": "markdown",
   "metadata": {},
   "source": [
    "## Explore Removing Faulty Lines"
   ]
  },
  {
   "cell_type": "markdown",
   "metadata": {},
   "source": [
    "Alternative: How many tweets would we be removing if we remove all users with faulty userids?"
   ]
  },
  {
   "cell_type": "code",
   "execution_count": null,
   "metadata": {},
   "outputs": [],
   "source": [
    "# print out tweets per user\n",
    "tweets_per_user.head(25)"
   ]
  },
  {
   "cell_type": "code",
   "execution_count": null,
   "metadata": {},
   "outputs": [],
   "source": [
    "len(tweets_per_user)"
   ]
  },
  {
   "cell_type": "code",
   "execution_count": null,
   "metadata": {},
   "outputs": [],
   "source": [
    "tweeted_once = tweets_per_user[tweets_per_user == 1]"
   ]
  },
  {
   "cell_type": "code",
   "execution_count": null,
   "metadata": {},
   "outputs": [],
   "source": [
    "tweeted_once = pd.DataFrame(tweeted_once)"
   ]
  },
  {
   "cell_type": "code",
   "execution_count": null,
   "metadata": {},
   "outputs": [],
   "source": [
    "tweeted_once.reset_index(inplace=True)\n",
    "tweeted_once"
   ]
  },
  {
   "cell_type": "code",
   "execution_count": null,
   "metadata": {},
   "outputs": [],
   "source": [
    "tweeted_once.userid.str.startswith('20').sum()"
   ]
  },
  {
   "cell_type": "code",
   "execution_count": null,
   "metadata": {},
   "outputs": [],
   "source": [
    "# get total number of users with dates as userid\n",
    "df_tweets_per_user = pd.DataFrame(tweets_per_user)\n",
    "df_tweets_per_user.reset_index(inplace=True)\n",
    "df_tweets_per_user.userid.str.startswith('20').sum()"
   ]
  },
  {
   "cell_type": "code",
   "execution_count": null,
   "metadata": {},
   "outputs": [],
   "source": [
    "# check whether they are all dates\n",
    "df_tweets_per_user[df_tweets_per_user.userid.str.startswith('20')]"
   ]
  },
  {
   "cell_type": "markdown",
   "metadata": {},
   "source": [
    "There are 776 instances of dates as userids. This is 776 out of 35mln tweets = negligible.\n",
    "\n",
    "We could proceed to remove these faulty rows.\n",
    "\n",
    "BUT my gut feeling says we should find out what's actually going on here. I think it's something at the level of the original csv files. The same reason why we had to constrain import to the first 24 rows, because some entries were shifted.\n",
    "\n",
    "Let's have a look at the tweet_text column, since this is our main source of data."
   ]
  }
 ],
 "metadata": {
  "kernelspec": {
   "display_name": "tensorflow",
   "language": "python",
   "name": "tensorflow"
  },
  "language_info": {
   "codemirror_mode": {
    "name": "ipython",
    "version": 3
   },
   "file_extension": ".py",
   "mimetype": "text/x-python",
   "name": "python",
   "nbconvert_exporter": "python",
   "pygments_lexer": "ipython3",
   "version": "3.7.10"
  }
 },
 "nbformat": 4,
 "nbformat_minor": 4
}
