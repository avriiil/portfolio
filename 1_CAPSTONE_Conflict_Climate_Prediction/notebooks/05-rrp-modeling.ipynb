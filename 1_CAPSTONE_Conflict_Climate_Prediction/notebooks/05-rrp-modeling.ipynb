{
 "cells": [
  {
   "cell_type": "markdown",
   "metadata": {},
   "source": [
    "# Modelling\n",
    "\n",
    "This is the fifth notebook in a series that investigates the GHCN climate and UCDP conflict datasets to evaluate to what extent we can predict **conflict intensity** (measured as deaths per day) from a range of climate data gathered from stations in the vicinity of that conflict.\n",
    "\n",
    "\n",
    "### Goal of this Notebook\n",
    "\n",
    "In this notebook we will:\n",
    "- build a baseline model by predicting the mean\n",
    "- build 3 models to \n",
    "- tweak these models using hyperparameter tuning where applicable\n",
    "- evaluate the model performances\n",
    "- select our final model\n",
    "\n",
    "### Executive Summary\n",
    "\n",
    "In this notebook, we first ...\n",
    "\n",
    "\n",
    "### Outline\n",
    "\n",
    "This notebook is structured as follows:\n",
    "\n",
    "**1. Importing the Necessary Libraries** \n",
    "\n",
    "\n",
    "**2. Loading the Training and Test Sets**\n",
    "\n",
    "\n",
    "**3. Baseline: Predicting the Mean**\n",
    "\n",
    "\n",
    "**4. Model 1: Linear Regression**\n",
    "\n",
    "\n",
    "**5. Model 2: Random Forest Regression**\n",
    "\n",
    "\n",
    "**6. Model 3: Lasso Regression**\n"
   ]
  },
  {
   "cell_type": "markdown",
   "metadata": {},
   "source": [
    "# 1. Importing Necessary Libraries"
   ]
  },
  {
   "cell_type": "code",
   "execution_count": 1,
   "metadata": {},
   "outputs": [],
   "source": [
    "import numpy as np\n",
    "import pandas as pd\n",
    "import matplotlib.pyplot as plt\n",
    "import seaborn as sns\n",
    "import geopandas as gpd\n",
    "import descartes\n",
    "from shapely.geometry import Point, Polygon \n",
    "from sklearn.model_selection import train_test_split, cross_validate, GridSearchCV, learning_curve\n",
    "from sklearn.preprocessing import StandardScaler\n",
    "from sklearn.dummy import DummyRegressor\n",
    "from sklearn.linear_model import LinearRegression, Lasso\n",
    "from sklearn.ensemble import RandomForestRegressor\n",
    "from sklearn.metrics import r2_score, mean_squared_error, mean_absolute_error\n",
    "from sklearn.pipeline import make_pipeline\n",
    "from sklearn.impute import SimpleImputer\n",
    "from sklearn.feature_selection import SelectKBest, f_regression\n",
    "\n",
    "import contextily as ctx\n",
    "import warnings\n",
    "import datetime\n",
    "import re"
   ]
  },
  {
   "cell_type": "markdown",
   "metadata": {},
   "source": [
    "# 2. Loading Training and Test Sets\n",
    "\n",
    "Below, we load the training and test sets created in the previous notebook *04-rrp-preprocessing*. The dat"
   ]
  },
  {
   "cell_type": "code",
   "execution_count": 2,
   "metadata": {},
   "outputs": [],
   "source": [
    "# load datasets as dataframes\n",
    "df_X_train = pd.read_csv('/Users/richard/Desktop/data/processed/X_train_unscaled.csv', index_col=0)\n",
    "df_X_test = pd.read_csv('/Users/richard/Desktop/data/processed/X_test_unscaled.csv', index_col=0)\n",
    "df_X_train_sc = pd.read_csv('/Users/richard/Desktop/data/processed/X_train_scaled.csv', index_col=0)\n",
    "df_X_test_sc = pd.read_csv('/Users/richard/Desktop/data/processed/X_test_scaled.csv', index_col=0)\n",
    "df_y_train = pd.read_csv('/Users/richard/Desktop/data/processed/y_train_unscaled.csv', index_col=0)\n",
    "df_y_test = pd.read_csv('/Users/richard/Desktop/data/processed/y_test_unscaled.csv', index_col=0)"
   ]
  },
  {
   "cell_type": "code",
   "execution_count": 3,
   "metadata": {},
   "outputs": [],
   "source": [
    "# convert to numpy arrays\n",
    "X_train = df_X_train.to_numpy()\n",
    "X_test = df_X_test.to_numpy()\n",
    "X_train_sc = df_X_train_sc.to_numpy()\n",
    "X_test_sc = df_X_test_sc.to_numpy()\n",
    "y_train = df_y_train.to_numpy()\n",
    "y_test = df_y_test.to_numpy()"
   ]
  },
  {
   "cell_type": "code",
   "execution_count": 4,
   "metadata": {},
   "outputs": [
    {
     "data": {
      "text/plain": [
       "((10243, 32), (10243, 1))"
      ]
     },
     "execution_count": 4,
     "metadata": {},
     "output_type": "execute_result"
    }
   ],
   "source": [
    "# verify X and y train have same number of rows\n",
    "X_train_sc.shape, y_train.shape"
   ]
  },
  {
   "cell_type": "code",
   "execution_count": 5,
   "metadata": {},
   "outputs": [
    {
     "data": {
      "text/plain": [
       "((4391, 32), (4391, 1))"
      ]
     },
     "execution_count": 5,
     "metadata": {},
     "output_type": "execute_result"
    }
   ],
   "source": [
    "# verify X and y test have same number of rows\n",
    "X_test_sc.shape, y_test.shape"
   ]
  },
  {
   "cell_type": "code",
   "execution_count": 6,
   "metadata": {},
   "outputs": [
    {
     "data": {
      "text/plain": [
       "((4391, 32), (4391, 32), (10243, 32), (10243, 32))"
      ]
     },
     "execution_count": 6,
     "metadata": {},
     "output_type": "execute_result"
    }
   ],
   "source": [
    "# verify X scaled and unscaled have the same shape\n",
    "X_test.shape, X_test_sc.shape, X_train.shape, X_train_sc.shape"
   ]
  },
  {
   "cell_type": "code",
   "execution_count": 7,
   "metadata": {},
   "outputs": [
    {
     "data": {
      "text/plain": [
       "((10243,), (4391,))"
      ]
     },
     "execution_count": 7,
     "metadata": {},
     "output_type": "execute_result"
    }
   ],
   "source": [
    "# reshape y_train and y_test into correct size\n",
    "y_train = np.ravel(y_train)\n",
    "y_test = np.ravel(y_test)\n",
    "y_train.shape, y_test.shape"
   ]
  },
  {
   "cell_type": "markdown",
   "metadata": {},
   "source": [
    "This looks good.\n",
    "\n",
    "As reminder, below we list all the features names and save the names of our target and predictor features, respectively."
   ]
  },
  {
   "cell_type": "code",
   "execution_count": 8,
   "metadata": {},
   "outputs": [
    {
     "data": {
      "text/plain": [
       "Index(['death_rate', 'PRCP_zone_1973_77', 'PRCP_zone_1983_87',\n",
       "       'PRCP_zone_1993_97', 'PRCP_zone_2003_07', 'PRCP_zone_2015_19',\n",
       "       'TAVG_zone_1973_77', 'TAVG_zone_1983_87', 'TAVG_zone_1993_97',\n",
       "       'TAVG_zone_2003_07', 'TAVG_zone_2015_19', 'TMAX_zone_1973_77',\n",
       "       'TMAX_zone_1983_87', 'TMAX_zone_1993_97', 'TMAX_zone_2003_07',\n",
       "       'TMAX_zone_2015_19', 'TMIN_zone_1973_77', 'TMIN_zone_1983_87',\n",
       "       'TMIN_zone_1993_97', 'TMIN_zone_2003_07', 'TMIN_zone_2015_19',\n",
       "       'PRCP_zone_sameyear', 'TAVG_zone_sameyear', 'TMAX_zone_sameyear',\n",
       "       'TMIN_zone_sameyear', 'PRCP_change_1973_2019', 'TAVG_change_1973_2019',\n",
       "       'TMAX_change_1973_2019', 'TMIN_change_1973_2019',\n",
       "       'PRCP_change_1973_sameyear', 'TAVG_change_1973_sameyear',\n",
       "       'TMAX_change_1973_sameyear', 'TMIN_change_1973_sameyear'],\n",
       "      dtype='object')"
      ]
     },
     "execution_count": 8,
     "metadata": {},
     "output_type": "execute_result"
    }
   ],
   "source": [
    "df_india = pd.read_csv('/Users/richard/Desktop/data/processed/df_india_final_for_model.csv', index_col=0)\n",
    "df_india.columns"
   ]
  },
  {
   "cell_type": "code",
   "execution_count": 190,
   "metadata": {},
   "outputs": [
    {
     "data": {
      "text/plain": [
       "(14634, 33)"
      ]
     },
     "execution_count": 190,
     "metadata": {},
     "output_type": "execute_result"
    }
   ],
   "source": [
    "df_india.shape"
   ]
  },
  {
   "cell_type": "code",
   "execution_count": 10,
   "metadata": {},
   "outputs": [],
   "source": [
    "X_labels = list(df_india.drop('death_rate', axis=1).columns)\n",
    "y_label = 'death_rate'"
   ]
  },
  {
   "cell_type": "markdown",
   "metadata": {},
   "source": [
    "# 3. Baseline: Predicting the Mean\n",
    "\n",
    "To create a baseline for our models, let's predict the mean of our target feature *deaths_civilians* for all rows and evaluate its performance."
   ]
  },
  {
   "cell_type": "markdown",
   "metadata": {},
   "source": [
    "## 3.1. Training Dummy Regressor Model"
   ]
  },
  {
   "cell_type": "code",
   "execution_count": 11,
   "metadata": {},
   "outputs": [
    {
     "data": {
      "text/plain": [
       "2.4907441937991988"
      ]
     },
     "execution_count": 11,
     "metadata": {},
     "output_type": "execute_result"
    }
   ],
   "source": [
    "# get mean of y_train\n",
    "train_mean = y_train.mean()\n",
    "train_mean"
   ]
  },
  {
   "cell_type": "code",
   "execution_count": 12,
   "metadata": {},
   "outputs": [
    {
     "data": {
      "text/plain": [
       "array([[2.49074419]])"
      ]
     },
     "execution_count": 12,
     "metadata": {},
     "output_type": "execute_result"
    }
   ],
   "source": [
    "# fit a dummy regressor on the training data\n",
    "dumb_reg = DummyRegressor(strategy='mean')\n",
    "dumb_reg.fit(X_train_sc, y_train)\n",
    "dumb_reg.constant_"
   ]
  },
  {
   "cell_type": "code",
   "execution_count": 13,
   "metadata": {},
   "outputs": [
    {
     "data": {
      "text/plain": [
       "array([2.49074419, 2.49074419, 2.49074419, ..., 2.49074419, 2.49074419,\n",
       "       2.49074419])"
      ]
     },
     "execution_count": 13,
     "metadata": {},
     "output_type": "execute_result"
    }
   ],
   "source": [
    "# use dummy regressor to predict mean for training set\n",
    "y_tr_pred = dumb_reg.predict(X_train_sc)\n",
    "y_tr_pred"
   ]
  },
  {
   "cell_type": "code",
   "execution_count": 14,
   "metadata": {},
   "outputs": [
    {
     "data": {
      "text/plain": [
       "array([2.49074419, 2.49074419, 2.49074419, ..., 2.49074419, 2.49074419,\n",
       "       2.49074419])"
      ]
     },
     "execution_count": 14,
     "metadata": {},
     "output_type": "execute_result"
    }
   ],
   "source": [
    "# same for test set\n",
    "y_te_pred = dumb_reg.predict(X_test_sc)\n",
    "y_te_pred"
   ]
  },
  {
   "cell_type": "markdown",
   "metadata": {},
   "source": [
    "## 3.2. Evaluation\n",
    "\n",
    "Below, we evaluate the performance of the Dummy Regressor which predict the mean for all rows, as a baseline against which to compare our future models.\n",
    "\n",
    "To do this, we calculate:\n",
    "- the r2 score\n",
    "- the mean absolute error\n",
    "- the mean squared error"
   ]
  },
  {
   "cell_type": "code",
   "execution_count": 121,
   "metadata": {},
   "outputs": [
    {
     "data": {
      "text/plain": [
       "(0.0, -0.00018094252875777705)"
      ]
     },
     "execution_count": 121,
     "metadata": {},
     "output_type": "execute_result"
    }
   ],
   "source": [
    "# calculate r2 scores on train and test sets\n",
    "r2_base = r2_score(y_train, y_tr_pred), r2_score(y_test, y_te_pred)\n",
    "r2_base"
   ]
  },
  {
   "cell_type": "code",
   "execution_count": 122,
   "metadata": {},
   "outputs": [
    {
     "data": {
      "text/plain": [
       "(1.9529705211039985, 2.0049907766383193)"
      ]
     },
     "execution_count": 122,
     "metadata": {},
     "output_type": "execute_result"
    }
   ],
   "source": [
    "# calculate mean absolute error on train and test sets\n",
    "mae_base = mean_absolute_error(y_train, y_tr_pred), mean_absolute_error(y_test, y_te_pred)\n",
    "mae_base"
   ]
  },
  {
   "cell_type": "code",
   "execution_count": 123,
   "metadata": {},
   "outputs": [
    {
     "data": {
      "text/plain": [
       "(19.940635758949913, 16.573842186988312)"
      ]
     },
     "execution_count": 123,
     "metadata": {},
     "output_type": "execute_result"
    }
   ],
   "source": [
    "# calculate mean squared error on train and test sets\n",
    "mse_base = mean_squared_error(y_train, y_tr_pred), mean_squared_error(y_test, y_te_pred)\n",
    "mse_base"
   ]
  },
  {
   "cell_type": "markdown",
   "metadata": {},
   "source": [
    "### Interpretation\n",
    "\n",
    "- As expected, the model that predicts the mean yields an r2 score of 0 on training set and does slightly worse on the test set.\n",
    "- The mean absolute error is 1.95 on the training set and 2.00 on the test set. Interesting that it's a relatively low error - this is likely because our target feature is skewed, with 90% of the data between 0 and 5."
   ]
  },
  {
   "cell_type": "code",
   "execution_count": 20,
   "metadata": {},
   "outputs": [
    {
     "data": {
      "text/plain": [
       "5.0"
      ]
     },
     "execution_count": 20,
     "metadata": {},
     "output_type": "execute_result"
    }
   ],
   "source": [
    "df_y_train.death_rate.quantile(0.9)"
   ]
  },
  {
   "cell_type": "code",
   "execution_count": 21,
   "metadata": {},
   "outputs": [
    {
     "data": {
      "image/png": "[encoded data removed]",
      "text/plain": [
       "<Figure size 432x288 with 1 Axes>"
      ]
     },
     "metadata": {
      "needs_background": "light"
     },
     "output_type": "display_data"
    }
   ],
   "source": [
    "df_y_train[df_y_train.death_rate < 20].hist(bins=10);"
   ]
  },
  {
   "cell_type": "markdown",
   "metadata": {},
   "source": [
    "# 5. Model 1: Linear Regression\n",
    "\n",
    "In this section, we build our first model: a linear regression model that will predict our target feature *total_deaths* from our predictor features.\n",
    "\n",
    "We will train this model as part of a SciKit-Learn pipeline that will:\n",
    "- impute missing values (with median or mean)\n",
    "- standardize our numerical data\n",
    "- train the model\n",
    "- calculate its performance"
   ]
  },
  {
   "cell_type": "markdown",
   "metadata": {},
   "source": [
    "## 5.1. Training Linear Regression Model"
   ]
  },
  {
   "cell_type": "code",
   "execution_count": 22,
   "metadata": {},
   "outputs": [],
   "source": [
    "# create pipeline\n",
    "pipe_lm_median = make_pipeline(\n",
    "    SimpleImputer(strategy='median'), \n",
    "    StandardScaler(), \n",
    "    LinearRegression()\n",
    ")"
   ]
  },
  {
   "cell_type": "code",
   "execution_count": 23,
   "metadata": {},
   "outputs": [
    {
     "name": "stdout",
     "output_type": "stream",
     "text": [
      "CPU times: user 96.9 ms, sys: 26.3 ms, total: 123 ms\n",
      "Wall time: 139 ms\n"
     ]
    },
    {
     "data": {
      "text/plain": [
       "Pipeline(steps=[('simpleimputer', SimpleImputer(strategy='median')),\n",
       "                ('standardscaler', StandardScaler()),\n",
       "                ('linearregression', LinearRegression())])"
      ]
     },
     "execution_count": 23,
     "metadata": {},
     "output_type": "execute_result"
    }
   ],
   "source": [
    "%%time\n",
    "# fit pipeline to our training data\n",
    "pipe_lm_median.fit(X_train, y_train)"
   ]
  },
  {
   "cell_type": "markdown",
   "metadata": {},
   "source": [
    "## 5.2. Cross-Validation and Evaluation"
   ]
  },
  {
   "cell_type": "code",
   "execution_count": 24,
   "metadata": {},
   "outputs": [],
   "source": [
    "# cross-validate the pipeline with 5 folds\n",
    "lm_median_cv_results = cross_validate(pipe_lm_median, X_train, y_train, cv=5)"
   ]
  },
  {
   "cell_type": "code",
   "execution_count": 25,
   "metadata": {},
   "outputs": [
    {
     "data": {
      "text/plain": [
       "array([ 0.05132387, -0.07312218, -0.04605202,  0.05260079,  0.01362836])"
      ]
     },
     "execution_count": 25,
     "metadata": {},
     "output_type": "execute_result"
    }
   ],
   "source": [
    "# get the cross-validation scores\n",
    "lm_median_cv_scores = lm_median_cv_results['test_score']\n",
    "lm_median_cv_scores"
   ]
  },
  {
   "cell_type": "code",
   "execution_count": 124,
   "metadata": {},
   "outputs": [
    {
     "data": {
      "text/plain": [
       "(-0.00032423645160137846, 0.051095656381917785)"
      ]
     },
     "execution_count": 124,
     "metadata": {},
     "output_type": "execute_result"
    }
   ],
   "source": [
    "# get the mean score and std\n",
    "mean_r2_lm_median = np.mean(lm_median_cv_scores)\n",
    "std_r2_lm_median = np.std(lm_median_cv_scores)\n",
    "\n",
    "mean_r2_lm_median, std_r2_lm_median"
   ]
  },
  {
   "cell_type": "code",
   "execution_count": 27,
   "metadata": {},
   "outputs": [],
   "source": [
    "# use model to predict y\n",
    "y_train_pred_lm = pipe_lm_median.predict(X_train)\n",
    "y_test_pred_lm = pipe_lm_median.predict(X_test)"
   ]
  },
  {
   "cell_type": "markdown",
   "metadata": {},
   "source": [
    "Let's also get the MAE and MSE."
   ]
  },
  {
   "cell_type": "code",
   "execution_count": 125,
   "metadata": {},
   "outputs": [
    {
     "data": {
      "text/plain": [
       "(1.9124737298673562, 1.9652851074446702)"
      ]
     },
     "execution_count": 125,
     "metadata": {},
     "output_type": "execute_result"
    }
   ],
   "source": [
    "# calculate mean absolute error on train and test sets\n",
    "mae_lm_median = mean_absolute_error(y_train, y_train_pred_lm), mean_absolute_error(y_test, y_test_pred_lm)\n",
    "mae_lm_median"
   ]
  },
  {
   "cell_type": "code",
   "execution_count": 126,
   "metadata": {},
   "outputs": [
    {
     "data": {
      "text/plain": [
       "(18.96726740090534, 16.311337637008453)"
      ]
     },
     "execution_count": 126,
     "metadata": {},
     "output_type": "execute_result"
    }
   ],
   "source": [
    "# calculate mean squared error on train and test sets\n",
    "mse_lm_median = mean_squared_error(y_train, y_train_pred_lm), mean_squared_error(y_test, y_test_pred_lm)\n",
    "mse_lm_median"
   ]
  },
  {
   "cell_type": "markdown",
   "metadata": {},
   "source": [
    "### Interpretation\n",
    "\n",
    "- The out-of-the-box linear regression model seems to do no better than predicting the mean, as indicated by an r2 score of just below 0.\n",
    "- There is a slight reducation in the MAE, which indicates it may be doing a little better than our baseline model.\n",
    "- The mean absolute error is relatively low, but that has more to do with the distribution of our target feature.\n",
    "- Same for the mean squared error.\n",
    "\n",
    "All in all, this model performs poorly. This is not unexpected. In the EDA phase of this project, we already saw that our target feature was poorly correlated with our predictor features.\n",
    "\n",
    "Let's just see if imputing missing values with the mean makes any difference."
   ]
  },
  {
   "cell_type": "markdown",
   "metadata": {},
   "source": [
    "## 5.3. Linear Regression, Imputing with Mean"
   ]
  },
  {
   "cell_type": "code",
   "execution_count": 31,
   "metadata": {},
   "outputs": [],
   "source": [
    "# create pipeline\n",
    "pipe_lm_mean = make_pipeline(\n",
    "    SimpleImputer(strategy='mean'), \n",
    "    StandardScaler(), \n",
    "    LinearRegression()\n",
    ")"
   ]
  },
  {
   "cell_type": "code",
   "execution_count": 32,
   "metadata": {},
   "outputs": [
    {
     "data": {
      "text/plain": [
       "Pipeline(steps=[('simpleimputer', SimpleImputer()),\n",
       "                ('standardscaler', StandardScaler()),\n",
       "                ('linearregression', LinearRegression())])"
      ]
     },
     "execution_count": 32,
     "metadata": {},
     "output_type": "execute_result"
    }
   ],
   "source": [
    "# fit pipeline to our training data\n",
    "pipe_lm_mean.fit(X_train, y_train)"
   ]
  },
  {
   "cell_type": "markdown",
   "metadata": {},
   "source": [
    "## 5.4. Cross-Validation and Evaluation"
   ]
  },
  {
   "cell_type": "code",
   "execution_count": 33,
   "metadata": {},
   "outputs": [],
   "source": [
    "# cross-validate the pipeline with 5 folds\n",
    "lm_mean_cv_results = cross_validate(pipe_lm_mean, X_train, y_train, cv=5)"
   ]
  },
  {
   "cell_type": "code",
   "execution_count": 34,
   "metadata": {},
   "outputs": [
    {
     "data": {
      "text/plain": [
       "array([ 0.05263554, -0.13105551, -0.04608865,  0.05262263,  0.01359249])"
      ]
     },
     "execution_count": 34,
     "metadata": {},
     "output_type": "execute_result"
    }
   ],
   "source": [
    "# get the cross-validation scores\n",
    "lm_mean_cv_scores = lm_mean_cv_results['test_score']\n",
    "lm_mean_cv_scores"
   ]
  },
  {
   "cell_type": "code",
   "execution_count": 35,
   "metadata": {},
   "outputs": [
    {
     "data": {
      "text/plain": [
       "(-0.01165870059917642, 0.06977747680760303)"
      ]
     },
     "execution_count": 35,
     "metadata": {},
     "output_type": "execute_result"
    }
   ],
   "source": [
    "# get the mean score and std\n",
    "np.mean(lm_mean_cv_scores), np.std(lm_mean_cv_scores)"
   ]
  },
  {
   "cell_type": "code",
   "execution_count": 36,
   "metadata": {},
   "outputs": [],
   "source": [
    "# use model to predict y\n",
    "y_train_pred_mean = pipe_lm_mean.predict(X_train)\n",
    "y_test_pred_mean = pipe_lm_mean.predict(X_test)"
   ]
  },
  {
   "cell_type": "markdown",
   "metadata": {},
   "source": [
    "Let's also get the MAE and MSE."
   ]
  },
  {
   "cell_type": "code",
   "execution_count": 38,
   "metadata": {},
   "outputs": [
    {
     "data": {
      "text/plain": [
       "(1.9124898066218106, 1.9656781679774713)"
      ]
     },
     "execution_count": 38,
     "metadata": {},
     "output_type": "execute_result"
    }
   ],
   "source": [
    "# calculate mean absolute error on train and test sets\n",
    "mae_lm = mean_absolute_error(y_train, y_train_pred_mean), mean_absolute_error(y_test, y_test_pred_mean)\n",
    "mae_lm"
   ]
  },
  {
   "cell_type": "code",
   "execution_count": 39,
   "metadata": {},
   "outputs": [
    {
     "data": {
      "text/plain": [
       "(18.967649377849973, 16.31735077279609)"
      ]
     },
     "execution_count": 39,
     "metadata": {},
     "output_type": "execute_result"
    }
   ],
   "source": [
    "# calculate mean squared error on train and test sets\n",
    "mse_lm = mean_squared_error(y_train, y_train_pred_mean), mean_squared_error(y_test, y_test_pred_mean)\n",
    "mse_lm"
   ]
  },
  {
   "cell_type": "markdown",
   "metadata": {},
   "source": [
    "Imputing missing values using the mean instead of the median seems slightly decrease model performance. Let's stick with the median."
   ]
  },
  {
   "cell_type": "markdown",
   "metadata": {},
   "source": [
    "## 5.5. Refining the Linear Regression Model\n",
    "\n",
    "In the pipeline above, we made use of all the 32 weather features. It's possible that taking a subset of the best features will do better. We will now refine our pipeline by including sklearn's SelectKBest feature selection function; employing the *f_regression* scoring function. We will start by selecting the default of 10 best features."
   ]
  },
  {
   "cell_type": "markdown",
   "metadata": {},
   "source": [
    "### 5.5.1. Selecting K=10 Best Features"
   ]
  },
  {
   "cell_type": "code",
   "execution_count": 40,
   "metadata": {},
   "outputs": [],
   "source": [
    "# update our pipeline\n",
    "pipe_lm_K = make_pipeline(\n",
    "    SimpleImputer(strategy='median'), \n",
    "    StandardScaler(),\n",
    "    SelectKBest(f_regression),\n",
    "    LinearRegression()\n",
    ")"
   ]
  },
  {
   "cell_type": "code",
   "execution_count": 41,
   "metadata": {},
   "outputs": [
    {
     "name": "stdout",
     "output_type": "stream",
     "text": [
      "CPU times: user 75 ms, sys: 13.8 ms, total: 88.7 ms\n",
      "Wall time: 89.9 ms\n"
     ]
    },
    {
     "data": {
      "text/plain": [
       "Pipeline(steps=[('simpleimputer', SimpleImputer(strategy='median')),\n",
       "                ('standardscaler', StandardScaler()),\n",
       "                ('selectkbest',\n",
       "                 SelectKBest(score_func=<function f_regression at 0x1a238a4440>)),\n",
       "                ('linearregression', LinearRegression())])"
      ]
     },
     "execution_count": 41,
     "metadata": {},
     "output_type": "execute_result"
    }
   ],
   "source": [
    "%%time\n",
    "# fit the pipeline\n",
    "pipe_lm_K.fit(X_train, y_train)"
   ]
  },
  {
   "cell_type": "markdown",
   "metadata": {},
   "source": [
    "### 5.5.2. Cross-Validation & Evaluation"
   ]
  },
  {
   "cell_type": "code",
   "execution_count": 42,
   "metadata": {},
   "outputs": [],
   "source": [
    "# cross-validate the pipeline with 5 folds\n",
    "lm_K_cv_results = cross_validate(pipe_lm_K, X_train, y_train, cv=5)"
   ]
  },
  {
   "cell_type": "code",
   "execution_count": 43,
   "metadata": {},
   "outputs": [
    {
     "data": {
      "text/plain": [
       "array([ 0.01008675, -0.01653222, -0.00184931,  0.01091628, -0.00800705])"
      ]
     },
     "execution_count": 43,
     "metadata": {},
     "output_type": "execute_result"
    }
   ],
   "source": [
    "# get the cross-validation scores\n",
    "lm_K_cv_scores = lm_K_cv_results['test_score']\n",
    "lm_K_cv_scores"
   ]
  },
  {
   "cell_type": "code",
   "execution_count": 44,
   "metadata": {},
   "outputs": [
    {
     "data": {
      "text/plain": [
       "(-0.0010771112480068234, 0.010544705147599157)"
      ]
     },
     "execution_count": 44,
     "metadata": {},
     "output_type": "execute_result"
    }
   ],
   "source": [
    "# get the mean score and std\n",
    "np.mean(lm_K_cv_scores), np.std(lm_K_cv_scores)"
   ]
  },
  {
   "cell_type": "code",
   "execution_count": 45,
   "metadata": {},
   "outputs": [],
   "source": [
    "# predict target features\n",
    "y_train_pred_lm_2 = pipe_lm_K.predict(X_train)\n",
    "y_test_pred_lm_2 = pipe_lm_K.predict(X_test)"
   ]
  },
  {
   "cell_type": "markdown",
   "metadata": {},
   "source": [
    "Let's also get the MAE and MSE"
   ]
  },
  {
   "cell_type": "code",
   "execution_count": 47,
   "metadata": {},
   "outputs": [
    {
     "data": {
      "text/plain": [
       "(1.9602684393761314, 2.010514241965409)"
      ]
     },
     "execution_count": 47,
     "metadata": {},
     "output_type": "execute_result"
    }
   ],
   "source": [
    "# calculate mean absolute error on train and test sets\n",
    "mae_lm = mean_absolute_error(y_train, y_train_pred_lm_2), mean_absolute_error(y_test, y_test_pred_lm_2)\n",
    "mae_lm"
   ]
  },
  {
   "cell_type": "code",
   "execution_count": 48,
   "metadata": {},
   "outputs": [
    {
     "data": {
      "text/plain": [
       "(19.684149516214468, 16.453268877236127)"
      ]
     },
     "execution_count": 48,
     "metadata": {},
     "output_type": "execute_result"
    }
   ],
   "source": [
    "# calculate mean squared error on train and test sets\n",
    "mse_lm = mean_squared_error(y_train, y_train_pred_lm_2), mean_squared_error(y_test, y_test_pred_lm_2)\n",
    "mse_lm"
   ]
  },
  {
   "cell_type": "markdown",
   "metadata": {},
   "source": [
    "### Interpretation\n",
    "\n",
    "- The r2 score of this refined model is slightly lower than the out-of-the-box LinReg model.\n",
    "- The MAE and MSE are higher than the out-of-the-box LinReg model.\n",
    "\n",
    "Conclusions: predicting with K=10 Best features does not improve model performance.\n",
    "\n",
    "Let's see if we can improve performance by selecting more or less features. We will use GridSearchCV to find the optimal number of k features."
   ]
  },
  {
   "cell_type": "markdown",
   "metadata": {},
   "source": [
    "### 5.4.2. GridSearchCV to Find Optimal K Features"
   ]
  },
  {
   "cell_type": "code",
   "execution_count": 49,
   "metadata": {},
   "outputs": [],
   "source": [
    "# set grid_params to k values\n",
    "k = [k+1 for k in range(len(df_X_train.columns))]\n",
    "grid_params = {'selectkbest__k': k}"
   ]
  },
  {
   "cell_type": "code",
   "execution_count": 50,
   "metadata": {},
   "outputs": [],
   "source": [
    "# set up GridSearchCV\n",
    "lm_grid_cv = GridSearchCV(pipe_lm_K, param_grid=grid_params, cv=5, n_jobs=-1)"
   ]
  },
  {
   "cell_type": "code",
   "execution_count": 51,
   "metadata": {},
   "outputs": [
    {
     "name": "stdout",
     "output_type": "stream",
     "text": [
      "CPU times: user 939 ms, sys: 169 ms, total: 1.11 s\n",
      "Wall time: 11.4 s\n"
     ]
    },
    {
     "data": {
      "text/plain": [
       "GridSearchCV(cv=5,\n",
       "             estimator=Pipeline(steps=[('simpleimputer',\n",
       "                                        SimpleImputer(strategy='median')),\n",
       "                                       ('standardscaler', StandardScaler()),\n",
       "                                       ('selectkbest',\n",
       "                                        SelectKBest(score_func=<function f_regression at 0x1a238a4440>)),\n",
       "                                       ('linearregression',\n",
       "                                        LinearRegression())]),\n",
       "             n_jobs=-1,\n",
       "             param_grid={'selectkbest__k': [1, 2, 3, 4, 5, 6, 7, 8, 9, 10, 11,\n",
       "                                            12, 13, 14, 15, 16, 17, 18, 19, 20,\n",
       "                                            21, 22, 23, 24, 25, 26, 27, 28, 29,\n",
       "                                            30, ...]})"
      ]
     },
     "execution_count": 51,
     "metadata": {},
     "output_type": "execute_result"
    }
   ],
   "source": [
    "%%time\n",
    "# fit gridsearch to training data\n",
    "lm_grid_cv.fit(X_train, y_train);"
   ]
  },
  {
   "cell_type": "code",
   "execution_count": 52,
   "metadata": {},
   "outputs": [],
   "source": [
    "# get scores\n",
    "score_mean = lm_grid_cv.cv_results_['mean_test_score']\n",
    "score_std = lm_grid_cv.cv_results_['std_test_score']\n",
    "cv_k = [k for k in lm_grid_cv.cv_results_['param_selectkbest__k']]"
   ]
  },
  {
   "cell_type": "code",
   "execution_count": 53,
   "metadata": {},
   "outputs": [
    {
     "data": {
      "text/plain": [
       "{'selectkbest__k': 22}"
      ]
     },
     "execution_count": 53,
     "metadata": {},
     "output_type": "execute_result"
    }
   ],
   "source": [
    "# get best param value\n",
    "lm_grid_cv.best_params_"
   ]
  },
  {
   "cell_type": "code",
   "execution_count": 54,
   "metadata": {},
   "outputs": [
    {
     "data": {
      "image/png": "[encoded data removed]",
      "text/plain": [
       "<Figure size 720x360 with 1 Axes>"
      ]
     },
     "metadata": {
      "needs_background": "light"
     },
     "output_type": "display_data"
    }
   ],
   "source": [
    "# plot the CV scores for each number of K\n",
    "best_k = lm_grid_cv.best_params_['selectkbest__k']\n",
    "plt.subplots(figsize=(10, 5))\n",
    "plt.errorbar(cv_k, score_mean, yerr=score_std)\n",
    "plt.axvline(x=best_k, c='r', ls='--', alpha=.5)\n",
    "plt.xlabel('k')\n",
    "plt.ylabel('CV score (r-squared)')\n",
    "plt.title('Pipeline mean CV score (error bars +/- 1sd)');"
   ]
  },
  {
   "cell_type": "markdown",
   "metadata": {},
   "source": [
    "### Findings\n",
    "- the GridSearchCV returns the best number of features = 22\n",
    "- plotting the CV scores against the number of features, however, reveals that the error bars for all scores include 0. The error bars also increase significantly in size as the number of features increases."
   ]
  },
  {
   "cell_type": "code",
   "execution_count": 55,
   "metadata": {},
   "outputs": [],
   "source": [
    "# lets get the features from our 'best' model\n",
    "selected = lm_grid_cv.best_estimator_.named_steps.selectkbest.get_support()"
   ]
  },
  {
   "cell_type": "code",
   "execution_count": 56,
   "metadata": {},
   "outputs": [
    {
     "data": {
      "text/plain": [
       "TAVG_zone_2003_07            39.127106\n",
       "TAVG_zone_1983_87            22.561912\n",
       "TMIN_zone_2003_07            20.156101\n",
       "PRCP_change_1973_2019        10.707197\n",
       "TMAX_zone_1993_97             7.597126\n",
       "TMIN_zone_1983_87             6.234279\n",
       "TAVG_zone_2015_19             5.091965\n",
       "TMIN_zone_2015_19             4.092244\n",
       "TAVG_zone_sameyear            0.674562\n",
       "TMIN_change_1973_sameyear     0.242501\n",
       "TMAX_zone_sameyear           -0.157576\n",
       "PRCP_zone_2003_07            -0.249284\n",
       "TMAX_zone_1973_77            -0.322325\n",
       "TAVG_zone_1973_77            -1.901021\n",
       "TMIN_zone_sameyear           -2.656981\n",
       "TMAX_zone_1983_87            -5.913457\n",
       "TMAX_zone_2015_19            -6.375583\n",
       "PRCP_zone_2015_19           -11.100125\n",
       "TMIN_zone_1993_97           -13.842006\n",
       "TMAX_zone_2003_07           -23.729398\n",
       "TMIN_zone_1973_77           -23.755540\n",
       "TAVG_zone_1993_97           -26.090736\n",
       "dtype: float64"
      ]
     },
     "execution_count": 56,
     "metadata": {},
     "output_type": "execute_result"
    }
   ],
   "source": [
    "# print the selected feature names and their coefficients\n",
    "coefs = lm_grid_cv.best_estimator_.named_steps.linearregression.coef_\n",
    "features = df_X_train.columns[selected]\n",
    "pd.Series(coefs, index=features).sort_values(ascending=False)"
   ]
  },
  {
   "cell_type": "markdown",
   "metadata": {},
   "source": [
    "In our 'best' model (which does no better than predicting the mean) a large positive contribution is made by:\n",
    "- TAVG_zone_2003_07\n",
    "- TAVG_zone_1983_87\n",
    "- TMIN_zone_2003_07\n",
    "- PRCP_change_1973_2019\n",
    "\n",
    "Large negative contributions are made by:\n",
    "- TAVG_zone_1993_97\n",
    "- TMIN_zone_1973_77\n",
    "- TMAX_zone_2003_07\n",
    "- TMIN_zone_1993_97\n",
    "\n",
    "I'm hesitant to even pretend to draw conclusions from this as the model's performance is so poor. But if the performance were better, we could say that, on the whole, temperature seems to be affecting the death rate more than precipitation. "
   ]
  },
  {
   "cell_type": "markdown",
   "metadata": {},
   "source": [
    "## 5.5. Plotting Best Model\n",
    "\n",
    "Below, we create a plot of observed outcomes vs predictions to visually evaluate the performance of our model."
   ]
  },
  {
   "cell_type": "code",
   "execution_count": 128,
   "metadata": {},
   "outputs": [],
   "source": [
    "best_linear_model = lm_grid_cv.best_estimator_"
   ]
  },
  {
   "cell_type": "code",
   "execution_count": 129,
   "metadata": {},
   "outputs": [],
   "source": [
    "y_train_pred = best_linear_model.predict(X_train)\n",
    "y_test_pred = best_linear_model.predict(X_test)"
   ]
  },
  {
   "cell_type": "code",
   "execution_count": 130,
   "metadata": {},
   "outputs": [
    {
     "data": {
      "image/png": "[encoded data removed]",
      "text/plain": [
       "<Figure size 432x288 with 1 Axes>"
      ]
     },
     "metadata": {
      "needs_background": "light"
     },
     "output_type": "display_data"
    }
   ],
   "source": [
    "# Build a scatterplot of predictions vs observed outcomes\n",
    "plt.scatter(y_test, y_test_pred)\n",
    "\n",
    "# Add a line for perfect correlation. Can you see what this line is doing? Use plot()\n",
    "plt.plot([x for x in range(0,140)],[x for x in range(0,140)], color='red')\n",
    "\n",
    "# Label it nicely\n",
    "plt.title('OLS Model Predictions vs Observed Outcomes')\n",
    "plt.xlabel('Observed Outcomes')\n",
    "plt.ylabel('OLS Predictions');"
   ]
  },
  {
   "cell_type": "markdown",
   "metadata": {},
   "source": [
    "Unsurprisingly, the observed outcomes and predictions don't match up at all.\n",
    "\n",
    "Finally, let's get the MAE and MSE of this K=22 best features model as well."
   ]
  },
  {
   "cell_type": "code",
   "execution_count": 171,
   "metadata": {},
   "outputs": [
    {
     "data": {
      "text/plain": [
       "0.005565139857357582"
      ]
     },
     "execution_count": 171,
     "metadata": {},
     "output_type": "execute_result"
    }
   ],
   "source": [
    "# get mean r2 score of best model\n",
    "mean_r2_lm_kbest = score_mean[21]\n",
    "mean_r2_lm_kbest"
   ]
  },
  {
   "cell_type": "code",
   "execution_count": 131,
   "metadata": {},
   "outputs": [
    {
     "data": {
      "text/plain": [
       "(1.951235536244939, 2.013456418659252)"
      ]
     },
     "execution_count": 131,
     "metadata": {},
     "output_type": "execute_result"
    }
   ],
   "source": [
    "# calculate mean absolute error on train and test sets\n",
    "mae_lm_kbest = mean_absolute_error(y_train, y_train_pred), mean_absolute_error(y_test, y_test_pred)\n",
    "mae_lm_kbest"
   ]
  },
  {
   "cell_type": "code",
   "execution_count": 132,
   "metadata": {},
   "outputs": [
    {
     "data": {
      "text/plain": [
       "(19.179214337902994, 16.669937326132956)"
      ]
     },
     "execution_count": 132,
     "metadata": {},
     "output_type": "execute_result"
    }
   ],
   "source": [
    "# calculate mean squared error on train and test sets\n",
    "mse_lm_kbest = mean_squared_error(y_train, y_train_pred), mean_squared_error(y_test, y_test_pred)\n",
    "mse_lm_kbest"
   ]
  },
  {
   "cell_type": "markdown",
   "metadata": {},
   "source": [
    "Looking at the r2 scores, MAE and MSE, we see that this model (with K=22 best features) performs worse than the Linear Regression model containing all 32 features. "
   ]
  },
  {
   "cell_type": "markdown",
   "metadata": {},
   "source": [
    "# 6. Model 2: Random Forest Regression\n",
    "\n",
    "Next, let's see if we can do any better by using a different model: the Random Forest Regression."
   ]
  },
  {
   "cell_type": "markdown",
   "metadata": {},
   "source": [
    "## 6.1. Default RF Model"
   ]
  },
  {
   "cell_type": "code",
   "execution_count": 138,
   "metadata": {},
   "outputs": [],
   "source": [
    "# let's define our pipeline\n",
    "RF_pipe = make_pipeline(\n",
    "    SimpleImputer(strategy='median'),\n",
    "    StandardScaler(),\n",
    "    RandomForestRegressor(random_state=21)\n",
    ")"
   ]
  },
  {
   "cell_type": "code",
   "execution_count": 139,
   "metadata": {},
   "outputs": [
    {
     "name": "stdout",
     "output_type": "stream",
     "text": [
      "CPU times: user 17.2 s, sys: 316 ms, total: 17.5 s\n",
      "Wall time: 19 s\n"
     ]
    }
   ],
   "source": [
    "%%time\n",
    "# cross-validate the pipeline with 5 folds\n",
    "rf_default_cv_results = cross_validate(RF_pipe, X_train, y_train, cv=5)"
   ]
  },
  {
   "cell_type": "code",
   "execution_count": 140,
   "metadata": {},
   "outputs": [
    {
     "data": {
      "text/plain": [
       "array([ 0.03446479, -0.04452133, -0.46165177,  0.02684697,  0.02097913])"
      ]
     },
     "execution_count": 140,
     "metadata": {},
     "output_type": "execute_result"
    }
   ],
   "source": [
    "# get the cross-validation scores\n",
    "rf_cv_scores = rf_default_cv_results['test_score']\n",
    "rf_cv_scores"
   ]
  },
  {
   "cell_type": "code",
   "execution_count": 141,
   "metadata": {},
   "outputs": [
    {
     "data": {
      "text/plain": [
       "(-0.0847764413057532, 0.1905350269741462)"
      ]
     },
     "execution_count": 141,
     "metadata": {},
     "output_type": "execute_result"
    }
   ],
   "source": [
    "# get the mean score and std\n",
    "mean_r2_rf = np.mean(rf_cv_scores)\n",
    "std_r2_rf = np.std(rf_cv_scores)\n",
    "mean_r2_rf, std_r2_rf"
   ]
  },
  {
   "cell_type": "code",
   "execution_count": 145,
   "metadata": {},
   "outputs": [
    {
     "data": {
      "text/plain": [
       "Pipeline(steps=[('simpleimputer', SimpleImputer(strategy='median')),\n",
       "                ('standardscaler', StandardScaler()),\n",
       "                ('randomforestregressor',\n",
       "                 RandomForestRegressor(random_state=21))])"
      ]
     },
     "execution_count": 145,
     "metadata": {},
     "output_type": "execute_result"
    }
   ],
   "source": [
    "# fit pipeline to training set\n",
    "RF_pipe.fit(X_train, y_train)"
   ]
  },
  {
   "cell_type": "code",
   "execution_count": 146,
   "metadata": {},
   "outputs": [],
   "source": [
    "# predict target features\n",
    "y_train_pred = RF_pipe.predict(X_train)\n",
    "y_test_pred = RF_pipe.predict(X_test)"
   ]
  },
  {
   "cell_type": "markdown",
   "metadata": {},
   "source": [
    "Let's also get the MAE and MSE"
   ]
  },
  {
   "cell_type": "code",
   "execution_count": 147,
   "metadata": {},
   "outputs": [
    {
     "data": {
      "text/plain": [
       "(1.7558953618145683, 1.902240255949061)"
      ]
     },
     "execution_count": 147,
     "metadata": {},
     "output_type": "execute_result"
    }
   ],
   "source": [
    "# calculate mean absolute error on train and test sets\n",
    "mae_rf = mean_absolute_error(y_train, y_train_pred), mean_absolute_error(y_test, y_test_pred)\n",
    "mae_rf"
   ]
  },
  {
   "cell_type": "code",
   "execution_count": 148,
   "metadata": {},
   "outputs": [
    {
     "data": {
      "text/plain": [
       "(15.954868091786093, 15.679589593839097)"
      ]
     },
     "execution_count": 148,
     "metadata": {},
     "output_type": "execute_result"
    }
   ],
   "source": [
    "# calculate mean squared error on train and test sets\n",
    "mse_rf = mean_squared_error(y_train, y_train_pred), mean_squared_error(y_test, y_test_pred)\n",
    "mse_rf"
   ]
  },
  {
   "cell_type": "markdown",
   "metadata": {},
   "source": [
    "The mean r2 score of the 5-fold cross-validation of the default Random Forest Regression model is -0.08. This means it does *worse* than our baseline model which just predicts the mean value.\n",
    "\n",
    "The MAE and MSE are better than the baseline model, however. And also better than our Linear Regression models."
   ]
  },
  {
   "cell_type": "markdown",
   "metadata": {},
   "source": [
    "## 6.2. Hyperparameter Tuning\n",
    "\n",
    "Below, we conduct hyperparameter tuning using GridSearchCV to try and tweak our RF model/\n",
    "\n",
    "Specifically, we will tune:\n",
    "- the number of trees (estimator)\n",
    "- scaling or not scaling the numerical data\n",
    "- imputing using mean or median\n",
    "- the function used to measure quality of a split (mae or mse)\n",
    "- the max_depth of a tree"
   ]
  },
  {
   "cell_type": "code",
   "execution_count": 149,
   "metadata": {},
   "outputs": [],
   "source": [
    "# let's define our pipeline\n",
    "RF_pipe = make_pipeline(\n",
    "    SimpleImputer(),\n",
    "    StandardScaler(),\n",
    "    RandomForestRegressor(random_state=21)\n",
    ")"
   ]
  },
  {
   "cell_type": "code",
   "execution_count": 150,
   "metadata": {},
   "outputs": [],
   "source": [
    "# set grid_parameters\n",
    "n_est = [10, 20, 50, 100, 250, 500, 1000]\n",
    "n_depth = np.arange(1,15)\n",
    "\n",
    "grid_params = {\n",
    "        'randomforestregressor__n_estimators': n_est,\n",
    "        'simpleimputer__strategy': ['mean'],\n",
    "        'randomforestregressor__max_depth': n_depth\n",
    "}"
   ]
  },
  {
   "cell_type": "code",
   "execution_count": 98,
   "metadata": {},
   "outputs": [],
   "source": [
    "# set up GridSearchCV with RF pipeline\n",
    "rf_grid_cv = GridSearchCV(RF_pipe, param_grid=grid_params, cv=5, n_jobs=-1)"
   ]
  },
  {
   "cell_type": "code",
   "execution_count": 99,
   "metadata": {},
   "outputs": [
    {
     "name": "stdout",
     "output_type": "stream",
     "text": [
      "CPU times: user 4.79 s, sys: 810 ms, total: 5.6 s\n",
      "Wall time: 32min 59s\n"
     ]
    },
    {
     "data": {
      "text/plain": [
       "GridSearchCV(cv=5,\n",
       "             estimator=Pipeline(steps=[('simpleimputer', SimpleImputer()),\n",
       "                                       ('standardscaler', StandardScaler()),\n",
       "                                       ('randomforestregressor',\n",
       "                                        RandomForestRegressor(random_state=21))]),\n",
       "             n_jobs=-1,\n",
       "             param_grid={'randomforestregressor__max_depth': array([ 1,  2,  3,  4,  5,  6,  7,  8,  9, 10, 11, 12, 13, 14]),\n",
       "                         'randomforestregressor__n_estimators': [10, 20, 50,\n",
       "                                                                 100, 250, 500,\n",
       "                                                                 1000],\n",
       "                         'simpleimputer__strategy': ['mean']})"
      ]
     },
     "execution_count": 99,
     "metadata": {},
     "output_type": "execute_result"
    }
   ],
   "source": [
    "%%time\n",
    "# fit GridSearch to training data\n",
    "rf_grid_cv.fit(X_train, y_train)"
   ]
  },
  {
   "cell_type": "code",
   "execution_count": 151,
   "metadata": {},
   "outputs": [
    {
     "data": {
      "text/plain": [
       "array([ 0.04089079, -0.03697872, -0.01788381,  0.04179175,  0.01538907])"
      ]
     },
     "execution_count": 151,
     "metadata": {},
     "output_type": "execute_result"
    }
   ],
   "source": [
    "# get cross-validation scores of best estimator\n",
    "rf_best_cv_results = cross_validate(rf_grid_cv.best_estimator_, X_train, y_train, cv=5)\n",
    "rf_best_scores = rf_best_cv_results['test_score']\n",
    "rf_best_scores"
   ]
  },
  {
   "cell_type": "code",
   "execution_count": 159,
   "metadata": {},
   "outputs": [
    {
     "data": {
      "text/plain": [
       "(0.008641817126231733, 0.03152548929849423)"
      ]
     },
     "execution_count": 159,
     "metadata": {},
     "output_type": "execute_result"
    }
   ],
   "source": [
    "# get mean score of best estimator and std\n",
    "mean_r2_rf_tuned = np.mean(rf_best_scores)\n",
    "mean_r2_rf_tuned, np.std(rf_best_scores)"
   ]
  },
  {
   "cell_type": "markdown",
   "metadata": {},
   "source": [
    "This is looking better than the untuned RF (but still bad).\n",
    "\n",
    "Let's also get the MAE and MSE of the best RF estimator."
   ]
  },
  {
   "cell_type": "code",
   "execution_count": 153,
   "metadata": {},
   "outputs": [],
   "source": [
    "# get best estimator\n",
    "best_RF = rf_grid_cv.best_estimator_"
   ]
  },
  {
   "cell_type": "code",
   "execution_count": 154,
   "metadata": {},
   "outputs": [],
   "source": [
    "# get y_preds\n",
    "y_train_pred = best_RF.predict(X_train)\n",
    "y_test_pred = best_RF.predict(X_test)"
   ]
  },
  {
   "cell_type": "code",
   "execution_count": 157,
   "metadata": {},
   "outputs": [
    {
     "data": {
      "text/plain": [
       "(1.941649713234935, 2.0010092611460664)"
      ]
     },
     "execution_count": 157,
     "metadata": {},
     "output_type": "execute_result"
    }
   ],
   "source": [
    "# calculate mean absolute error on train and test sets\n",
    "mae_rf_tuned = mean_absolute_error(y_train, y_train_pred), mean_absolute_error(y_test, y_test_pred)\n",
    "mae_rf_tuned"
   ]
  },
  {
   "cell_type": "code",
   "execution_count": 158,
   "metadata": {},
   "outputs": [
    {
     "data": {
      "text/plain": [
       "(19.222593737335167, 16.548373810913674)"
      ]
     },
     "execution_count": 158,
     "metadata": {},
     "output_type": "execute_result"
    }
   ],
   "source": [
    "# calculate mean squared error on train and test sets\n",
    "mse_rf_tuned = mean_squared_error(y_train, y_train_pred), mean_squared_error(y_test, y_test_pred)\n",
    "mse_rf_tuned"
   ]
  },
  {
   "cell_type": "markdown",
   "metadata": {},
   "source": [
    "Let's plot the feature importances of the best RF estimator."
   ]
  },
  {
   "cell_type": "code",
   "execution_count": 106,
   "metadata": {},
   "outputs": [
    {
     "data": {
      "image/png": "[encoded data removed]",
      "text/plain": [
       "<Figure size 720x360 with 1 Axes>"
      ]
     },
     "metadata": {
      "needs_background": "light"
     },
     "output_type": "display_data"
    }
   ],
   "source": [
    "# plot the feature importances\n",
    "plt.subplots(figsize=(10, 5))\n",
    "imps = rf_grid_cv.best_estimator_.named_steps.randomforestregressor.feature_importances_\n",
    "rf_feat_imps = pd.Series(imps, index=df_X_train.columns).sort_values(ascending=False)\n",
    "rf_feat_imps.plot(kind='bar')\n",
    "plt.xlabel('features')\n",
    "plt.ylabel('importance')\n",
    "plt.title('Best random forest regressor feature importances');"
   ]
  },
  {
   "cell_type": "code",
   "execution_count": 107,
   "metadata": {},
   "outputs": [
    {
     "data": {
      "text/plain": [
       "PRCP_change_1973_2019        0.496\n",
       "PRCP_zone_2003_07            0.176\n",
       "PRCP_zone_2015_19            0.120\n",
       "TMAX_zone_sameyear           0.092\n",
       "PRCP_zone_1983_87            0.076\n",
       "TMIN_change_1973_sameyear    0.020\n",
       "dtype: float64"
      ]
     },
     "execution_count": 107,
     "metadata": {},
     "output_type": "execute_result"
    }
   ],
   "source": [
    "rf_feat_imps.head(6)"
   ]
  },
  {
   "cell_type": "markdown",
   "metadata": {},
   "source": [
    "### Interpretation\n",
    "\n",
    "By tuning the hyperparameters of the RF Model, we have increased its performance as measured by the r2 score; from -0.08 to 0.008. This is still practically no better than simply predicting the mean, however. It is slightly better than the performance of our out-of-the-box Linear Regression model.\n",
    "\n",
    "Plotting the features with the highest importances yields a slightly different set than the K-best features from our Linear Regression model. Noticeably, PRCP_change_1973_2019 is again included, so there seems to be some consistency to that.\n",
    "\n",
    "Again, since the overall model performance is so poor, I hesitate to draw any conclusions from this at all."
   ]
  },
  {
   "cell_type": "markdown",
   "metadata": {},
   "source": [
    "# 7. Lasso Regression\n",
    "\n",
    "We know from the EDA stage of this project that our climate features are highly correlated. For this reason, let's proceed to build a final model - Lasso Regression - that is particularly apt at dealing with this sort of situation.\n",
    "\n",
    "In Lasso Regression, the regular OLS loss function is supplemented by ( alpha * the sum of the absolute values of the coefficients). In this way, Lasso penalizes the model for suggesting high predictor coefficients; i.e. **regularization**. Lasso will then also shrink the coefficients of unimportant features to zero and select only those features with coefficients other than 0."
   ]
  },
  {
   "cell_type": "code",
   "execution_count": 108,
   "metadata": {},
   "outputs": [],
   "source": [
    "# let's define our pipeline\n",
    "Lasso_pipe = make_pipeline(\n",
    "    SimpleImputer(strategy='median'),\n",
    "    StandardScaler(),\n",
    "    Lasso(random_state=21)\n",
    ")"
   ]
  },
  {
   "cell_type": "code",
   "execution_count": 109,
   "metadata": {},
   "outputs": [
    {
     "data": {
      "text/plain": [
       "dict_keys(['memory', 'steps', 'verbose', 'simpleimputer', 'standardscaler', 'lasso', 'simpleimputer__add_indicator', 'simpleimputer__copy', 'simpleimputer__fill_value', 'simpleimputer__missing_values', 'simpleimputer__strategy', 'simpleimputer__verbose', 'standardscaler__copy', 'standardscaler__with_mean', 'standardscaler__with_std', 'lasso__alpha', 'lasso__copy_X', 'lasso__fit_intercept', 'lasso__max_iter', 'lasso__normalize', 'lasso__positive', 'lasso__precompute', 'lasso__random_state', 'lasso__selection', 'lasso__tol', 'lasso__warm_start'])"
      ]
     },
     "execution_count": 109,
     "metadata": {},
     "output_type": "execute_result"
    }
   ],
   "source": [
    "Lasso_pipe.get_params().keys()"
   ]
  },
  {
   "cell_type": "code",
   "execution_count": 110,
   "metadata": {},
   "outputs": [],
   "source": [
    "# set grid_parameters\n",
    "alpha = np.arange(0.1,1, step=0.05)\n",
    "max_iter = [100, 200, 500, 750, 1000]\n",
    "\n",
    "grid_params = {\n",
    "        'lasso__alpha': alpha,\n",
    "        'lasso__max_iter': max_iter\n",
    "}"
   ]
  },
  {
   "cell_type": "code",
   "execution_count": 111,
   "metadata": {},
   "outputs": [],
   "source": [
    "# set up GridSearchCV with RF pipeline\n",
    "Lasso_grid_cv = GridSearchCV(Lasso_pipe, param_grid=grid_params, cv=5, n_jobs=-1)"
   ]
  },
  {
   "cell_type": "code",
   "execution_count": 112,
   "metadata": {},
   "outputs": [
    {
     "name": "stdout",
     "output_type": "stream",
     "text": [
      "CPU times: user 2.99 s, sys: 828 ms, total: 3.81 s\n",
      "Wall time: 22.3 s\n"
     ]
    },
    {
     "data": {
      "text/plain": [
       "GridSearchCV(cv=5,\n",
       "             estimator=Pipeline(steps=[('simpleimputer',\n",
       "                                        SimpleImputer(strategy='median')),\n",
       "                                       ('standardscaler', StandardScaler()),\n",
       "                                       ('lasso', Lasso(random_state=21))]),\n",
       "             n_jobs=-1,\n",
       "             param_grid={'lasso__alpha': array([0.1 , 0.15, 0.2 , 0.25, 0.3 , 0.35, 0.4 , 0.45, 0.5 , 0.55, 0.6 ,\n",
       "       0.65, 0.7 , 0.75, 0.8 , 0.85, 0.9 , 0.95]),\n",
       "                         'lasso__max_iter': [100, 200, 500, 750, 1000]})"
      ]
     },
     "execution_count": 112,
     "metadata": {},
     "output_type": "execute_result"
    }
   ],
   "source": [
    "%%time\n",
    "# fit GridSearch to training data\n",
    "Lasso_grid_cv.fit(X_train, y_train)"
   ]
  },
  {
   "cell_type": "code",
   "execution_count": 160,
   "metadata": {},
   "outputs": [
    {
     "data": {
      "text/plain": [
       "array([ 0.00896701, -0.00168733,  0.00681987,  0.00551455,  0.00993369])"
      ]
     },
     "execution_count": 160,
     "metadata": {},
     "output_type": "execute_result"
    }
   ],
   "source": [
    "# get cross-validation scores of best estimator\n",
    "Lasso_best_cv_results = cross_validate(Lasso_grid_cv.best_estimator_, X_train, y_train, cv=5)\n",
    "Lasso_best_scores = Lasso_best_cv_results['test_score']\n",
    "Lasso_best_scores"
   ]
  },
  {
   "cell_type": "code",
   "execution_count": 166,
   "metadata": {},
   "outputs": [
    {
     "data": {
      "text/plain": [
       "(0.005909558390890179, 0.004104608563778684)"
      ]
     },
     "execution_count": 166,
     "metadata": {},
     "output_type": "execute_result"
    }
   ],
   "source": [
    "# get mean score of best estimator and std\n",
    "mean_r2_Lasso = np.mean(Lasso_best_scores)\n",
    "mean_r2_Lasso, np.std(Lasso_best_scores)"
   ]
  },
  {
   "cell_type": "markdown",
   "metadata": {},
   "source": [
    "Let's also get the MAE and MSE to compare with our baseline model."
   ]
  },
  {
   "cell_type": "code",
   "execution_count": 162,
   "metadata": {},
   "outputs": [],
   "source": [
    "# get best estimator\n",
    "best_Lasso = Lasso_grid_cv.best_estimator_"
   ]
  },
  {
   "cell_type": "code",
   "execution_count": 191,
   "metadata": {},
   "outputs": [
    {
     "data": {
      "text/plain": [
       "{'memory': None,\n",
       " 'steps': [('simpleimputer', SimpleImputer(strategy='median')),\n",
       "  ('standardscaler', StandardScaler()),\n",
       "  ('lasso', Lasso(alpha=0.1, max_iter=100, random_state=21))],\n",
       " 'verbose': False,\n",
       " 'simpleimputer': SimpleImputer(strategy='median'),\n",
       " 'standardscaler': StandardScaler(),\n",
       " 'lasso': Lasso(alpha=0.1, max_iter=100, random_state=21),\n",
       " 'simpleimputer__add_indicator': False,\n",
       " 'simpleimputer__copy': True,\n",
       " 'simpleimputer__fill_value': None,\n",
       " 'simpleimputer__missing_values': nan,\n",
       " 'simpleimputer__strategy': 'median',\n",
       " 'simpleimputer__verbose': 0,\n",
       " 'standardscaler__copy': True,\n",
       " 'standardscaler__with_mean': True,\n",
       " 'standardscaler__with_std': True,\n",
       " 'lasso__alpha': 0.1,\n",
       " 'lasso__copy_X': True,\n",
       " 'lasso__fit_intercept': True,\n",
       " 'lasso__max_iter': 100,\n",
       " 'lasso__normalize': False,\n",
       " 'lasso__positive': False,\n",
       " 'lasso__precompute': False,\n",
       " 'lasso__random_state': 21,\n",
       " 'lasso__selection': 'cyclic',\n",
       " 'lasso__tol': 0.0001,\n",
       " 'lasso__warm_start': False}"
      ]
     },
     "execution_count": 191,
     "metadata": {},
     "output_type": "execute_result"
    }
   ],
   "source": [
    "best_Lasso.get_params()"
   ]
  },
  {
   "cell_type": "code",
   "execution_count": 163,
   "metadata": {},
   "outputs": [],
   "source": [
    "# get y_preds\n",
    "y_train_pred = best_Lasso.predict(X_train)\n",
    "y_test_pred = best_Lasso.predict(X_test)"
   ]
  },
  {
   "cell_type": "code",
   "execution_count": 164,
   "metadata": {},
   "outputs": [
    {
     "data": {
      "text/plain": [
       "(1.944534677651381, 1.9933175756071608)"
      ]
     },
     "execution_count": 164,
     "metadata": {},
     "output_type": "execute_result"
    }
   ],
   "source": [
    "# calculate mean absolute error on train and test sets\n",
    "mae_Lasso = mean_absolute_error(y_train, y_train_pred), mean_absolute_error(y_test, y_test_pred)\n",
    "mae_Lasso"
   ]
  },
  {
   "cell_type": "code",
   "execution_count": 165,
   "metadata": {},
   "outputs": [
    {
     "data": {
      "text/plain": [
       "(19.745853296415813, 16.425195913373305)"
      ]
     },
     "execution_count": 165,
     "metadata": {},
     "output_type": "execute_result"
    }
   ],
   "source": [
    "# calculate mean squared error on train and test sets\n",
    "mse_Lasso = mean_squared_error(y_train, y_train_pred), mean_squared_error(y_test, y_test_pred)\n",
    "mse_Lasso"
   ]
  },
  {
   "cell_type": "markdown",
   "metadata": {},
   "source": [
    "Let's get the coefficients of the features selected by the Lasso regression"
   ]
  },
  {
   "cell_type": "code",
   "execution_count": 119,
   "metadata": {},
   "outputs": [],
   "source": [
    "# get feature coefficients of best Lasso estimator\n",
    "coeffs = Lasso_grid_cv.best_estimator_.named_steps.lasso.coef_"
   ]
  },
  {
   "cell_type": "code",
   "execution_count": 120,
   "metadata": {},
   "outputs": [
    {
     "data": {
      "text/plain": [
       "PRCP_change_1973_2019    0.251133\n",
       "TAVG_change_1973_2019    0.029950\n",
       "TMIN_change_1973_2019    0.003527\n",
       "TMIN_zone_1973_77        0.000000\n",
       "TAVG_zone_1983_87        0.000000\n",
       "dtype: float64"
      ]
     },
     "execution_count": 120,
     "metadata": {},
     "output_type": "execute_result"
    }
   ],
   "source": [
    "Lasso_coeffs = pd.Series(coeffs, index=df_X_train.columns).sort_values(ascending=False)\n",
    "Lasso_coeffs.head(5)"
   ]
  },
  {
   "cell_type": "markdown",
   "metadata": {},
   "source": [
    "### Interpretation\n",
    "The best Lasso estimator has a 5-fold cross-validation mean r2 score of 0.006, which is comparable to the best RF estimator. Like the RF estimator, it is practically no better than guessing the mean.\n",
    "\n",
    "Interestingly, the Lasso Regression reduces all but 3 of the feature coefficients to 0. These three features are the change in PRCP, TAVG and TMIN between 1973 and 2019 for each station.\n",
    "\n",
    "Once again, it's hard to draw conclusions from a model that performs so poorly, but if the performance were better, this would be an interesting finding. The consistenct of the same interval (1973-2019) is at least remarkable.\n",
    "\n",
    "The consistency of PRCP_change_1973_2019 across the three models is also noteworthy."
   ]
  },
  {
   "cell_type": "markdown",
   "metadata": {},
   "source": [
    "# 8. Model Selection"
   ]
  },
  {
   "cell_type": "markdown",
   "metadata": {},
   "source": [
    "Below we create and display a dataframe containing the performance metrics of 6 models **on the test set**:\n",
    "- baseline Dummy Regressor\n",
    "- out-of-the-box Linear Regressor\n",
    "- Linear Regressor with KBestFeatures\n",
    "- out-of-the-box Random Forest Regressor\n",
    "- tuned Random Forest Regressor\n",
    "- tuned Lasso Regressor"
   ]
  },
  {
   "cell_type": "code",
   "execution_count": 177,
   "metadata": {},
   "outputs": [],
   "source": [
    "data = [[r2_base[1], mae_base[1], mse_base[1]], \n",
    "        [mean_r2_lm_median, mae_lm_median[1], mse_lm_median[1]],\n",
    "        [mean_r2_lm_kbest, mae_lm_kbest[1], mse_lm_kbest[1]],\n",
    "        [mean_r2_rf, mae_rf[1], mse_rf[1]],\n",
    "        [mean_r2_rf_tuned, mae_rf_tuned[1], mse_rf_tuned[1]],\n",
    "        [mean_r2_Lasso, mae_Lasso[1], mse_Lasso[1]]\n",
    "       ]\n",
    "\n",
    "columns = ['R2', 'MAE', 'MSE']\n",
    "index = ['Baseline', 'LinearReg', 'LinReg_KBest', 'RandomForest', 'RF_Tuned', 'Lasso_Tuned']"
   ]
  },
  {
   "cell_type": "code",
   "execution_count": 188,
   "metadata": {},
   "outputs": [
    {
     "data": {
      "text/html": [
       "<div>\n",
       "<style scoped>\n",
       "    .dataframe tbody tr th:only-of-type {\n",
       "        vertical-align: middle;\n",
       "    }\n",
       "\n",
       "    .dataframe tbody tr th {\n",
       "        vertical-align: top;\n",
       "    }\n",
       "\n",
       "    .dataframe thead th {\n",
       "        text-align: right;\n",
       "    }\n",
       "</style>\n",
       "<table border=\"1\" class=\"dataframe\">\n",
       "  <thead>\n",
       "    <tr style=\"text-align: right;\">\n",
       "      <th></th>\n",
       "      <th>Model</th>\n",
       "      <th>R2</th>\n",
       "      <th>MAE</th>\n",
       "      <th>MSE</th>\n",
       "    </tr>\n",
       "  </thead>\n",
       "  <tbody>\n",
       "    <tr>\n",
       "      <th>0</th>\n",
       "      <td>Baseline</td>\n",
       "      <td>-0.00018</td>\n",
       "      <td>2.00499</td>\n",
       "      <td>16.57384</td>\n",
       "    </tr>\n",
       "    <tr>\n",
       "      <th>1</th>\n",
       "      <td>LinearReg</td>\n",
       "      <td>-0.00032</td>\n",
       "      <td>1.96529</td>\n",
       "      <td>16.31134</td>\n",
       "    </tr>\n",
       "    <tr>\n",
       "      <th>2</th>\n",
       "      <td>LinReg_KBest</td>\n",
       "      <td>0.00557</td>\n",
       "      <td>2.01346</td>\n",
       "      <td>16.66994</td>\n",
       "    </tr>\n",
       "    <tr>\n",
       "      <th>3</th>\n",
       "      <td>RandomForest</td>\n",
       "      <td>-0.08478</td>\n",
       "      <td>1.90224</td>\n",
       "      <td>15.67959</td>\n",
       "    </tr>\n",
       "    <tr>\n",
       "      <th>4</th>\n",
       "      <td>RF_Tuned</td>\n",
       "      <td>0.00864</td>\n",
       "      <td>2.00101</td>\n",
       "      <td>16.54837</td>\n",
       "    </tr>\n",
       "    <tr>\n",
       "      <th>5</th>\n",
       "      <td>Lasso_Tuned</td>\n",
       "      <td>0.00591</td>\n",
       "      <td>1.99332</td>\n",
       "      <td>16.42520</td>\n",
       "    </tr>\n",
       "  </tbody>\n",
       "</table>\n",
       "</div>"
      ],
      "text/plain": [
       "          Model       R2      MAE       MSE\n",
       "0      Baseline -0.00018  2.00499  16.57384\n",
       "1     LinearReg -0.00032  1.96529  16.31134\n",
       "2  LinReg_KBest  0.00557  2.01346  16.66994\n",
       "3  RandomForest -0.08478  1.90224  15.67959\n",
       "4      RF_Tuned  0.00864  2.00101  16.54837\n",
       "5   Lasso_Tuned  0.00591  1.99332  16.42520"
      ]
     },
     "execution_count": 188,
     "metadata": {},
     "output_type": "execute_result"
    }
   ],
   "source": [
    "df_results = pd.DataFrame(data, columns=columns, index=index)\n",
    "df_results = df_results.round(5)\n",
    "df_results.reset_index(inplace=True)\n",
    "df_results.columns = ['Model', 'R2', 'MAE', 'MSE']\n",
    "df_results"
   ]
  },
  {
   "cell_type": "code",
   "execution_count": 189,
   "metadata": {},
   "outputs": [
    {
     "data": {
      "image/png": "[encoded data removed]",
      "text/plain": [
       "<Figure size 576x315 with 1 Axes>"
      ]
     },
     "metadata": {
      "needs_background": "light"
     },
     "output_type": "display_data"
    }
   ],
   "source": [
    "def render_mpl_table(data, col_width=3.0, row_height=0.625, font_size=14,\n",
    "                     header_color='#40466e', row_colors=['#f1f1f2', 'w'], edge_color='w',\n",
    "                     bbox=[0, 0, 1, 1], header_columns=0,\n",
    "                     ax=None, **kwargs):\n",
    "    if ax is None:\n",
    "        size = (np.array(data.shape[::-1]) + np.array([0, 1])) * np.array([col_width, row_height])\n",
    "        fig, ax = plt.subplots(figsize=size)\n",
    "        ax.axis('off')\n",
    "    mpl_table = ax.table(cellText=data.values, bbox=bbox, colLabels=data.columns, **kwargs)\n",
    "    mpl_table.auto_set_font_size(False)\n",
    "    mpl_table.set_fontsize(font_size)\n",
    "\n",
    "    for k, cell in mpl_table._cells.items():\n",
    "        cell.set_edgecolor(edge_color)\n",
    "        if k[0] == 0 or k[1] < header_columns:\n",
    "            cell.set_text_props(weight='bold', color='w')\n",
    "            cell.set_facecolor(header_color)\n",
    "        else:\n",
    "            cell.set_facecolor(row_colors[k[0]%len(row_colors) ])\n",
    "    return ax.get_figure(), ax\n",
    "\n",
    "fig,ax = render_mpl_table(df_results, header_columns=0, col_width=2.0)\n",
    "fig.savefig(\"/Users/richard/Desktop/springboard_repo/capstones/capstone-two/reports/figures/Model_Results_Table.png\")"
   ]
  },
  {
   "cell_type": "markdown",
   "metadata": {},
   "source": [
    "Based on the analysis performed in this notebook and the overview of performance metrics above, our conclusion is that **it is not possible to accurately predict conflict intensity (measured in total death count) from the chosen predictor features**.\n",
    "\n",
    "If we absolutely had to make a choice, we would select the out-of-the-box Linear Regression. This model does no better than predicting the mean in terms of r2, but does reduce the Mean Absolute Error somewhat. A second option could be the Lasso Regression model, which improves somewhat on the baseline model in terms of r2 score and the MAE, and has the additional value of requiring far less features, which could save both time and money in future data collection."
   ]
  }
 ],
 "metadata": {
  "kernelspec": {
   "display_name": "sklearn-py3.7",
   "language": "python",
   "name": "sklearn-py3.7"
  },
  "language_info": {
   "codemirror_mode": {
    "name": "ipython",
    "version": 3
   },
   "file_extension": ".py",
   "mimetype": "text/x-python",
   "name": "python",
   "nbconvert_exporter": "python",
   "pygments_lexer": "ipython3",
   "version": "3.7.9"
  }
 },
 "nbformat": 4,
 "nbformat_minor": 4
}
